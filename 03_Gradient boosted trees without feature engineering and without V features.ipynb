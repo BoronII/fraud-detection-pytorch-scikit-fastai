{
 "cells": [
  {
   "cell_type": "markdown",
   "metadata": {
    "toc": true
   },
   "source": [
    "<h1>Table of Contents<span class=\"tocSkip\"></span></h1>\n",
    "<div class=\"toc\"><ul class=\"toc-item\"><li><span><a href=\"#Data-pre-processing\" data-toc-modified-id=\"Data-pre-processing-1\">Data pre-processing</a></span></li><li><span><a href=\"#Gradient-Boosted-Trees\" data-toc-modified-id=\"Gradient-Boosted-Trees-2\">Gradient Boosted Trees</a></span><ul class=\"toc-item\"><li><span><a href=\"#HistGradientBoostingClassifier\" data-toc-modified-id=\"HistGradientBoostingClassifier-2.1\">HistGradientBoostingClassifier</a></span><ul class=\"toc-item\"><li><span><a href=\"#Initial-Classifiers\" data-toc-modified-id=\"Initial-Classifiers-2.1.1\">Initial Classifiers</a></span></li><li><span><a href=\"#Hyperparameter-tuning\" data-toc-modified-id=\"Hyperparameter-tuning-2.1.2\">Hyperparameter tuning</a></span><ul class=\"toc-item\"><li><span><a href=\"#GridSearchCV\" data-toc-modified-id=\"GridSearchCV-2.1.2.1\">GridSearchCV</a></span></li><li><span><a href=\"#RandomizedSearchCV\" data-toc-modified-id=\"RandomizedSearchCV-2.1.2.2\">RandomizedSearchCV</a></span></li></ul></li><li><span><a href=\"#Including-the-V***-columns\" data-toc-modified-id=\"Including-the-V***-columns-2.1.3\">Including the V*** columns</a></span></li></ul></li><li><span><a href=\"#GradientBoostingClassifier\" data-toc-modified-id=\"GradientBoostingClassifier-2.2\">GradientBoostingClassifier</a></span><ul class=\"toc-item\"><li><span><a href=\"#Defaults\" data-toc-modified-id=\"Defaults-2.2.1\">Defaults</a></span></li><li><span><a href=\"#Hyperparameter-Tuning\" data-toc-modified-id=\"Hyperparameter-Tuning-2.2.2\">Hyperparameter Tuning</a></span></li></ul></li></ul></li></ul></div>"
   ]
  },
  {
   "cell_type": "markdown",
   "metadata": {},
   "source": [
    "# Data pre-processing"
   ]
  },
  {
   "cell_type": "code",
   "execution_count": 2,
   "metadata": {},
   "outputs": [],
   "source": [
    "from fastai.tabular.all import *\n",
    "from sklearn.metrics import roc_auc_score\n",
    "from sklearn.model_selection import GridSearchCV\n",
    "from sklearn.model_selection import RandomizedSearchCV\n",
    "from sklearn.metrics import make_scorer\n",
    "\n",
    "from sklearn.experimental import enable_hist_gradient_boosting \n",
    "from sklearn.ensemble import HistGradientBoostingClassifier\n",
    "\n",
    "path = Path('/Users/baranserajelahi/Codes/fraud-detection-pytorch-scikit-fastai/data')\n",
    "Path.BASE_PATH = path\n",
    "pd.options.display.max_rows = 200\n",
    "pd.options.display.max_columns = 125"
   ]
  },
  {
   "cell_type": "code",
   "execution_count": 7,
   "metadata": {},
   "outputs": [],
   "source": [
    "# Tabular object created and saved on the 02_ notebook\n",
    "to = (path/'to_ss.pkl').load()"
   ]
  },
  {
   "cell_type": "code",
   "execution_count": 8,
   "metadata": {},
   "outputs": [
    {
     "data": {
      "text/plain": [
       "dtype('int16')"
      ]
     },
     "execution_count": 8,
     "metadata": {},
     "output_type": "execute_result"
    }
   ],
   "source": [
    "to[\"card1\"].dtype"
   ]
  },
  {
   "cell_type": "code",
   "execution_count": 9,
   "metadata": {},
   "outputs": [],
   "source": [
    "cats = ['ProductCD', 'card1', 'card2', 'card3', 'card4', 'card5', 'card6', \n",
    "       'addr1', 'addr2', 'P_emaildomain', 'R_emaildomain', 'M1', 'M2', 'M3', \n",
    "       'M4', 'M5', 'M6', 'M7', 'M8', 'M9', 'DeviceType', 'DeviceInfo', 'id_12', \n",
    "       'id_13', 'id_14', 'id_15', 'id_16', 'id_17', 'id_18', 'id_19', 'id_20', \n",
    "       'id_21', 'id_22', 'id_23', 'id_24', 'id_25', 'id_26', 'id_27', 'id_28', \n",
    "       'id_29', 'id_30', 'id_31', 'id_32', 'id_33', 'id_34', 'id_35', 'id_36',\n",
    "       'id_37', 'id_38']\n",
    "\n",
    "for cat in cats:\n",
    "    to[cat] = to[cat].astype('category')"
   ]
  },
  {
   "cell_type": "code",
   "execution_count": 10,
   "metadata": {},
   "outputs": [
    {
     "data": {
      "text/plain": [
       "CategoricalDtype(categories=[   0,    1,    2,    3,    4,    5,    6,    7,    8,    9,\n",
       "                  ...\n",
       "                  5634, 5635, 5636, 5637, 5638, 5639, 5640, 5641, 5642, 5643],\n",
       "                 ordered=False)"
      ]
     },
     "execution_count": 10,
     "metadata": {},
     "output_type": "execute_result"
    }
   ],
   "source": [
    "to[\"card1\"].dtype"
   ]
  },
  {
   "cell_type": "code",
   "execution_count": 11,
   "metadata": {},
   "outputs": [],
   "source": [
    "xs, y = to.train.xs, to.train.y\n",
    "valid_xs, valid_y = to.valid.xs, to.valid.y"
   ]
  },
  {
   "cell_type": "code",
   "execution_count": 12,
   "metadata": {},
   "outputs": [
    {
     "data": {
      "text/plain": [
       "(48357, 122)"
      ]
     },
     "execution_count": 12,
     "metadata": {},
     "output_type": "execute_result"
    }
   ],
   "source": [
    "xs.shape"
   ]
  },
  {
   "cell_type": "markdown",
   "metadata": {},
   "source": [
    "# Gradient Boosted Trees"
   ]
  },
  {
   "cell_type": "markdown",
   "metadata": {},
   "source": [
    "## HistGradientBoostingClassifier"
   ]
  },
  {
   "cell_type": "code",
   "execution_count": 112,
   "metadata": {},
   "outputs": [
    {
     "data": {
      "text/plain": [
       "'Previously, leaf-wise growth was an exclusive feature of lightGBM, but xgboost has since implemented this growth strategy (this change has not been reflected in the lightGBM docs, but has been acknowledged in a blog post). This strategy is only available for the histogram-based method (which I will explain below), so in order to use it, users will have to set the tree_method parameter to hist and the grow_policy parameter to lossguide.'"
      ]
     },
     "execution_count": 112,
     "metadata": {},
     "output_type": "execute_result"
    }
   ],
   "source": [
    "'Previously, leaf-wise growth was an exclusive feature of lightGBM, but xgboost has since implemented this growth strategy (this change has not been reflected in the lightGBM docs, but has been acknowledged in a blog post). This strategy is only available for the histogram-based method (which I will explain below), so in order to use it, users will have to set the tree_method parameter to hist and the grow_policy parameter to lossguide.'"
   ]
  },
  {
   "cell_type": "code",
   "execution_count": 113,
   "metadata": {
    "scrolled": true
   },
   "outputs": [
    {
     "data": {
      "text/plain": [
       "'Xgboost offers the option tree_method=approx, which computes a new set of bins at each split using the gradient statistics. LightGBM and xgboost with the tree_method set to hist will both compute the bins at the beginning of training and reuse the same bins throughout the entire training process.'"
      ]
     },
     "execution_count": 113,
     "metadata": {},
     "output_type": "execute_result"
    }
   ],
   "source": [
    "'Xgboost offers the option tree_method=approx, which computes a new set of bins at each split using the gradient statistics. LightGBM and xgboost with the tree_method set to hist will both compute the bins at the beginning of training and reuse the same bins throughout the entire training process.'"
   ]
  },
  {
   "cell_type": "code",
   "execution_count": 114,
   "metadata": {},
   "outputs": [
    {
     "data": {
      "text/plain": [
       "'Though lightGBM does not enable ignoring zero values by default, it has an option called zero_as_missing which, if set to True, will regard all zero values as missing. According to this thread on GitHub, lightGBM will treat missing values in the same way as xgboost as long as the parameter use_missing is set to True (which is the default behavior).'"
      ]
     },
     "execution_count": 114,
     "metadata": {},
     "output_type": "execute_result"
    }
   ],
   "source": [
    "'BOTH: Though lightGBM does not enable ignoring zero values by default, it has an option called zero_as_missing which, if set to True, will regard all zero values as missing. According to this thread on GitHub, lightGBM will treat missing values in the same way as xgboost as long as the parameter use_missing is set to True (which is the default behavior).'"
   ]
  },
  {
   "cell_type": "code",
   "execution_count": 115,
   "metadata": {},
   "outputs": [
    {
     "data": {
      "text/plain": [
       "'This is a method introduced in lightGBM that also takes advantage of the sparsity of large datasets. The essential observation behind this method is that the sparsity of features means that some features are never non-zero together. For instance, the words \"Python\" and \"protein\" might never appear in the same document in the data. This means that these features can be \"bundled\" into a single feature without losing any information. Suppose the tf-idf score for \"Python\" ranges from 0 to 10 and the tf-idf score for  \"protein\" ranges from 0 to 20. In this case, the feature'"
      ]
     },
     "execution_count": 115,
     "metadata": {},
     "output_type": "execute_result"
    }
   ],
   "source": [
    "'LGBM: This is a method introduced in lightGBM that also takes advantage of the sparsity of large datasets. The essential observation behind this method is that the sparsity of features means that some features are never non-zero together. For instance, the words \"Python\" and \"protein\" might never appear in the same document in the data. This means that these features can be \"bundled\" into a single feature without losing any information. Suppose the tf-idf score for \"Python\" ranges from 0 to 10 and the tf-idf score for  \"protein\" ranges from 0 to 20. In this case, the feature'"
   ]
  },
  {
   "cell_type": "code",
   "execution_count": 116,
   "metadata": {},
   "outputs": [
    {
     "data": {
      "text/plain": [
       "'Unfortunately, the problem of finding the most efficient bundle is NP-hard. Therefore, the authors of the paper opted for an approximate algorithm that tolerated a certain degree of overlap \\\\gamma  between the non-zero elements within a feature bundle. The details of this algorithm are beyond the scope of this post, so please refer to the original paper for details.'"
      ]
     },
     "execution_count": 116,
     "metadata": {},
     "output_type": "execute_result"
    }
   ],
   "source": [
    "'LGBM: Unfortunately, the problem of finding the most efficient bundle is NP-hard. Therefore, the authors of the paper opted for an approximate algorithm that tolerated a certain degree of overlap \\gamma  between the non-zero elements within a feature bundle. The details of this algorithm are beyond the scope of this post, so please refer to the original paper for details.'"
   ]
  },
  {
   "cell_type": "markdown",
   "metadata": {},
   "source": [
    "HistGradientBoostingClassifier is based on Microsofts LightGBM."
   ]
  },
  {
   "cell_type": "markdown",
   "metadata": {},
   "source": [
    "### Initial Classifiers "
   ]
  },
  {
   "cell_type": "code",
   "execution_count": 3,
   "metadata": {},
   "outputs": [],
   "source": [
    "def m_roc(y, xs):\n",
    "    preds = clf.predict_proba(xs)\n",
    "    preds_isFraud = preds[:,1]\n",
    "    return roc_auc_score(y, preds_isFraud)"
   ]
  },
  {
   "cell_type": "markdown",
   "metadata": {},
   "source": [
    "The max_iter parameter is increased to 1000 from its default value of 100."
   ]
  },
  {
   "cell_type": "code",
   "execution_count": 22,
   "metadata": {
    "collapsed": true
   },
   "outputs": [
    {
     "name": "stdout",
     "output_type": "stream",
     "text": [
      "Binning 0.042 GB of training data: 0.286 s\n",
      "Binning 0.005 GB of validation data: 0.021 s\n",
      "Fitting gradient boosted rounds:\n",
      "[1/1000] 1 tree, 31 leaves, max depth = 9, train score: 0.83480, val score: 0.78900, in 0.062s\n",
      "[2/1000] 1 tree, 31 leaves, max depth = 10, train score: 0.86395, val score: 0.81880, in 0.073s\n",
      "[3/1000] 1 tree, 31 leaves, max depth = 10, train score: 0.86796, val score: 0.81789, in 0.059s\n",
      "[4/1000] 1 tree, 31 leaves, max depth = 11, train score: 0.89040, val score: 0.85394, in 0.064s\n",
      "[5/1000] 1 tree, 31 leaves, max depth = 11, train score: 0.89595, val score: 0.85530, in 0.066s\n",
      "[6/1000] 1 tree, 31 leaves, max depth = 10, train score: 0.90007, val score: 0.85618, in 0.065s\n",
      "[7/1000] 1 tree, 31 leaves, max depth = 13, train score: 0.90363, val score: 0.85351, in 0.066s\n",
      "[8/1000] 1 tree, 31 leaves, max depth = 9, train score: 0.90634, val score: 0.86130, in 0.066s\n",
      "[9/1000] 1 tree, 31 leaves, max depth = 11, train score: 0.91021, val score: 0.86198, in 0.071s\n",
      "[10/1000] 1 tree, 31 leaves, max depth = 11, train score: 0.91085, val score: 0.86286, in 0.067s\n",
      "[11/1000] 1 tree, 31 leaves, max depth = 11, train score: 0.91691, val score: 0.86384, in 0.076s\n",
      "[12/1000] 1 tree, 31 leaves, max depth = 11, train score: 0.91915, val score: 0.86547, in 0.129s\n",
      "[13/1000] 1 tree, 31 leaves, max depth = 9, train score: 0.92196, val score: 0.86683, in 0.063s\n",
      "[14/1000] 1 tree, 31 leaves, max depth = 10, train score: 0.92536, val score: 0.86861, in 0.072s\n",
      "[15/1000] 1 tree, 31 leaves, max depth = 12, train score: 0.92757, val score: 0.87144, in 0.067s\n",
      "[16/1000] 1 tree, 31 leaves, max depth = 11, train score: 0.92900, val score: 0.87157, in 0.087s\n",
      "[17/1000] 1 tree, 31 leaves, max depth = 13, train score: 0.93083, val score: 0.87283, in 0.067s\n",
      "[18/1000] 1 tree, 31 leaves, max depth = 12, train score: 0.93339, val score: 0.87618, in 0.064s\n",
      "[19/1000] 1 tree, 31 leaves, max depth = 12, train score: 0.93337, val score: 0.87749, in 0.070s\n",
      "[20/1000] 1 tree, 31 leaves, max depth = 11, train score: 0.93729, val score: 0.87826, in 0.067s\n",
      "[21/1000] 1 tree, 31 leaves, max depth = 11, train score: 0.93808, val score: 0.87799, in 0.070s\n",
      "[22/1000] 1 tree, 31 leaves, max depth = 10, train score: 0.93908, val score: 0.87874, in 0.073s\n",
      "[23/1000] 1 tree, 31 leaves, max depth = 12, train score: 0.94282, val score: 0.88127, in 0.074s\n",
      "[24/1000] 1 tree, 31 leaves, max depth = 10, train score: 0.94345, val score: 0.88238, in 0.070s\n",
      "[25/1000] 1 tree, 31 leaves, max depth = 13, train score: 0.94344, val score: 0.88105, in 0.071s\n",
      "[26/1000] 1 tree, 31 leaves, max depth = 15, train score: 0.94412, val score: 0.88155, in 0.072s\n",
      "[27/1000] 1 tree, 31 leaves, max depth = 11, train score: 0.94699, val score: 0.88112, in 0.071s\n",
      "[28/1000] 1 tree, 31 leaves, max depth = 11, train score: 0.94899, val score: 0.88029, in 0.074s\n",
      "[29/1000] 1 tree, 31 leaves, max depth = 9, train score: 0.94942, val score: 0.88017, in 0.074s\n",
      "[30/1000] 1 tree, 31 leaves, max depth = 11, train score: 0.95143, val score: 0.88130, in 0.070s\n",
      "[31/1000] 1 tree, 31 leaves, max depth = 14, train score: 0.95304, val score: 0.88155, in 0.074s\n",
      "[32/1000] 1 tree, 31 leaves, max depth = 11, train score: 0.95489, val score: 0.88226, in 0.073s\n",
      "[33/1000] 1 tree, 31 leaves, max depth = 15, train score: 0.95604, val score: 0.88292, in 0.077s\n",
      "[34/1000] 1 tree, 31 leaves, max depth = 15, train score: 0.95788, val score: 0.88296, in 0.138s\n",
      "[35/1000] 1 tree, 31 leaves, max depth = 9, train score: 0.96057, val score: 0.88434, in 0.075s\n",
      "[36/1000] 1 tree, 31 leaves, max depth = 15, train score: 0.96141, val score: 0.88421, in 0.075s\n",
      "[37/1000] 1 tree, 31 leaves, max depth = 12, train score: 0.96241, val score: 0.88576, in 0.076s\n",
      "[38/1000] 1 tree, 31 leaves, max depth = 12, train score: 0.96332, val score: 0.88584, in 0.076s\n",
      "[39/1000] 1 tree, 31 leaves, max depth = 11, train score: 0.96433, val score: 0.88626, in 0.073s\n",
      "[40/1000] 1 tree, 31 leaves, max depth = 12, train score: 0.96613, val score: 0.88542, in 0.076s\n",
      "[41/1000] 1 tree, 31 leaves, max depth = 13, train score: 0.96716, val score: 0.88542, in 0.077s\n",
      "[42/1000] 1 tree, 31 leaves, max depth = 13, train score: 0.96903, val score: 0.88662, in 0.076s\n",
      "[43/1000] 1 tree, 31 leaves, max depth = 8, train score: 0.97028, val score: 0.88658, in 0.076s\n",
      "[44/1000] 1 tree, 31 leaves, max depth = 15, train score: 0.97133, val score: 0.88673, in 0.077s\n",
      "[45/1000] 1 tree, 31 leaves, max depth = 14, train score: 0.97195, val score: 0.88559, in 0.078s\n",
      "[46/1000] 1 tree, 31 leaves, max depth = 11, train score: 0.97259, val score: 0.88549, in 0.077s\n",
      "[47/1000] 1 tree, 31 leaves, max depth = 15, train score: 0.97302, val score: 0.88613, in 0.080s\n",
      "[48/1000] 1 tree, 31 leaves, max depth = 14, train score: 0.97381, val score: 0.88567, in 0.075s\n",
      "[49/1000] 1 tree, 31 leaves, max depth = 11, train score: 0.97424, val score: 0.88606, in 0.084s\n",
      "[50/1000] 1 tree, 31 leaves, max depth = 14, train score: 0.97444, val score: 0.88624, in 0.081s\n",
      "[51/1000] 1 tree, 31 leaves, max depth = 13, train score: 0.97489, val score: 0.88547, in 0.075s\n",
      "[52/1000] 1 tree, 31 leaves, max depth = 13, train score: 0.97565, val score: 0.88833, in 0.083s\n",
      "[53/1000] 1 tree, 31 leaves, max depth = 13, train score: 0.97671, val score: 0.88756, in 0.082s\n",
      "[54/1000] 1 tree, 31 leaves, max depth = 12, train score: 0.97694, val score: 0.88720, in 0.116s\n",
      "[55/1000] 1 tree, 31 leaves, max depth = 12, train score: 0.97712, val score: 0.88697, in 0.129s\n",
      "[56/1000] 1 tree, 31 leaves, max depth = 12, train score: 0.97749, val score: 0.88724, in 0.083s\n",
      "[57/1000] 1 tree, 31 leaves, max depth = 15, train score: 0.97773, val score: 0.88625, in 0.078s\n",
      "[58/1000] 1 tree, 31 leaves, max depth = 15, train score: 0.97921, val score: 0.88659, in 0.080s\n",
      "[59/1000] 1 tree, 31 leaves, max depth = 9, train score: 0.97949, val score: 0.88736, in 0.081s\n",
      "[60/1000] 1 tree, 31 leaves, max depth = 10, train score: 0.97969, val score: 0.88723, in 0.079s\n",
      "[61/1000] 1 tree, 31 leaves, max depth = 14, train score: 0.98018, val score: 0.88717, in 0.082s\n",
      "[62/1000] 1 tree, 31 leaves, max depth = 12, train score: 0.98054, val score: 0.88737, in 0.081s\n",
      "Fit 62 trees in 5.321 s, (1922 total leaves)\n",
      "Time spent computing histograms: 1.903s\n",
      "Time spent finding best splits:  0.515s\n",
      "Time spent applying splits:      0.708s\n",
      "Time spent predicting:           0.011s\n",
      "CPU times: user 31.7 s, sys: 5.21 s, total: 37 s\n",
      "Wall time: 5.52 s\n"
     ]
    },
    {
     "data": {
      "text/plain": [
       "(0.9658515572705477, 0.8836308129568515)"
      ]
     },
     "execution_count": 22,
     "metadata": {},
     "output_type": "execute_result"
    }
   ],
   "source": [
    "%%time\n",
    "clf = HistGradientBoostingClassifier(loss='binary_crossentropy', verbose=1,\n",
    "                                    max_iter=1000, scoring='roc_auc')\n",
    "clf.fit(xs,y)\n",
    "m_roc(y, xs), m_roc(valid_y, valid_xs)"
   ]
  },
  {
   "cell_type": "markdown",
   "metadata": {},
   "source": [
    "The algorithm may have stopped too early, so let's increase the threshold for early stopping by decreasing tol by a factor of 10 to e-8 from its default value e-7."
   ]
  },
  {
   "cell_type": "code",
   "execution_count": 17,
   "metadata": {
    "collapsed": true
   },
   "outputs": [
    {
     "name": "stdout",
     "output_type": "stream",
     "text": [
      "Binning 0.042 GB of training data: 0.271 s\n",
      "Binning 0.005 GB of validation data: 0.019 s\n",
      "Fitting gradient boosted rounds:\n",
      "[1/1000] 1 tree, 31 leaves, max depth = 9, train score: 0.78101, val score: 0.79729, in 0.058s\n",
      "[2/1000] 1 tree, 31 leaves, max depth = 10, train score: 0.81562, val score: 0.84685, in 0.083s\n",
      "[3/1000] 1 tree, 31 leaves, max depth = 10, train score: 0.84869, val score: 0.87510, in 0.047s\n",
      "[4/1000] 1 tree, 31 leaves, max depth = 8, train score: 0.85485, val score: 0.88094, in 0.047s\n",
      "[5/1000] 1 tree, 31 leaves, max depth = 9, train score: 0.86568, val score: 0.88349, in 0.051s\n",
      "[6/1000] 1 tree, 31 leaves, max depth = 9, train score: 0.87742, val score: 0.88483, in 0.044s\n",
      "[7/1000] 1 tree, 31 leaves, max depth = 9, train score: 0.88160, val score: 0.88449, in 0.047s\n",
      "[8/1000] 1 tree, 31 leaves, max depth = 9, train score: 0.88430, val score: 0.88644, in 0.058s\n",
      "[9/1000] 1 tree, 31 leaves, max depth = 9, train score: 0.88651, val score: 0.88777, in 0.058s\n",
      "[10/1000] 1 tree, 31 leaves, max depth = 11, train score: 0.89179, val score: 0.89170, in 0.051s\n",
      "[11/1000] 1 tree, 31 leaves, max depth = 11, train score: 0.89370, val score: 0.89302, in 0.050s\n",
      "[12/1000] 1 tree, 31 leaves, max depth = 10, train score: 0.89464, val score: 0.89145, in 0.054s\n",
      "[13/1000] 1 tree, 31 leaves, max depth = 12, train score: 0.89885, val score: 0.89303, in 0.048s\n",
      "[14/1000] 1 tree, 31 leaves, max depth = 10, train score: 0.89924, val score: 0.89149, in 0.052s\n",
      "[15/1000] 1 tree, 31 leaves, max depth = 10, train score: 0.90125, val score: 0.89027, in 0.054s\n",
      "[16/1000] 1 tree, 31 leaves, max depth = 12, train score: 0.90310, val score: 0.89205, in 0.054s\n",
      "[17/1000] 1 tree, 31 leaves, max depth = 11, train score: 0.90443, val score: 0.89467, in 0.055s\n",
      "[18/1000] 1 tree, 31 leaves, max depth = 10, train score: 0.90864, val score: 0.89606, in 0.053s\n",
      "[19/1000] 1 tree, 31 leaves, max depth = 10, train score: 0.90902, val score: 0.89602, in 0.052s\n",
      "[20/1000] 1 tree, 31 leaves, max depth = 11, train score: 0.91304, val score: 0.89766, in 0.055s\n",
      "[21/1000] 1 tree, 31 leaves, max depth = 12, train score: 0.91931, val score: 0.89830, in 0.060s\n",
      "[22/1000] 1 tree, 31 leaves, max depth = 11, train score: 0.92041, val score: 0.90041, in 0.054s\n",
      "[23/1000] 1 tree, 31 leaves, max depth = 15, train score: 0.92094, val score: 0.90119, in 0.075s\n",
      "[24/1000] 1 tree, 31 leaves, max depth = 9, train score: 0.92341, val score: 0.90133, in 0.059s\n",
      "[25/1000] 1 tree, 31 leaves, max depth = 11, train score: 0.92410, val score: 0.90125, in 0.053s\n",
      "[26/1000] 1 tree, 31 leaves, max depth = 11, train score: 0.92501, val score: 0.90098, in 0.059s\n",
      "[27/1000] 1 tree, 31 leaves, max depth = 12, train score: 0.92498, val score: 0.90125, in 0.055s\n",
      "[28/1000] 1 tree, 31 leaves, max depth = 11, train score: 0.93032, val score: 0.90348, in 0.055s\n",
      "[29/1000] 1 tree, 31 leaves, max depth = 15, train score: 0.93137, val score: 0.90467, in 0.056s\n",
      "[30/1000] 1 tree, 31 leaves, max depth = 10, train score: 0.93206, val score: 0.90753, in 0.060s\n",
      "[31/1000] 1 tree, 31 leaves, max depth = 13, train score: 0.93448, val score: 0.90821, in 0.055s\n",
      "[32/1000] 1 tree, 31 leaves, max depth = 13, train score: 0.93692, val score: 0.90872, in 0.059s\n",
      "[33/1000] 1 tree, 31 leaves, max depth = 11, train score: 0.93935, val score: 0.90870, in 0.056s\n",
      "[34/1000] 1 tree, 31 leaves, max depth = 11, train score: 0.94100, val score: 0.90850, in 0.071s\n",
      "[35/1000] 1 tree, 31 leaves, max depth = 13, train score: 0.94239, val score: 0.90788, in 0.061s\n",
      "[36/1000] 1 tree, 31 leaves, max depth = 13, train score: 0.94379, val score: 0.90872, in 0.060s\n",
      "[37/1000] 1 tree, 31 leaves, max depth = 13, train score: 0.94429, val score: 0.90914, in 0.060s\n",
      "[38/1000] 1 tree, 31 leaves, max depth = 14, train score: 0.94532, val score: 0.90944, in 0.063s\n",
      "[39/1000] 1 tree, 31 leaves, max depth = 11, train score: 0.94778, val score: 0.90920, in 0.059s\n",
      "[40/1000] 1 tree, 31 leaves, max depth = 12, train score: 0.94912, val score: 0.90928, in 0.058s\n",
      "[41/1000] 1 tree, 31 leaves, max depth = 13, train score: 0.95071, val score: 0.90880, in 0.060s\n",
      "[42/1000] 1 tree, 31 leaves, max depth = 16, train score: 0.95180, val score: 0.90918, in 0.060s\n",
      "[43/1000] 1 tree, 31 leaves, max depth = 9, train score: 0.95205, val score: 0.90975, in 0.056s\n",
      "[44/1000] 1 tree, 31 leaves, max depth = 11, train score: 0.95353, val score: 0.90948, in 0.094s\n",
      "[45/1000] 1 tree, 31 leaves, max depth = 10, train score: 0.95438, val score: 0.91014, in 0.061s\n",
      "[46/1000] 1 tree, 31 leaves, max depth = 12, train score: 0.95861, val score: 0.91212, in 0.060s\n",
      "[47/1000] 1 tree, 31 leaves, max depth = 10, train score: 0.95872, val score: 0.91213, in 0.062s\n",
      "[48/1000] 1 tree, 31 leaves, max depth = 13, train score: 0.96030, val score: 0.91213, in 0.065s\n",
      "[49/1000] 1 tree, 31 leaves, max depth = 13, train score: 0.96211, val score: 0.91306, in 0.065s\n",
      "[50/1000] 1 tree, 31 leaves, max depth = 16, train score: 0.96262, val score: 0.91260, in 0.060s\n",
      "[51/1000] 1 tree, 31 leaves, max depth = 10, train score: 0.96270, val score: 0.91336, in 0.063s\n",
      "[52/1000] 1 tree, 31 leaves, max depth = 17, train score: 0.96344, val score: 0.91323, in 0.065s\n",
      "[53/1000] 1 tree, 31 leaves, max depth = 12, train score: 0.96357, val score: 0.91288, in 0.065s\n",
      "[54/1000] 1 tree, 31 leaves, max depth = 13, train score: 0.96407, val score: 0.91349, in 0.066s\n",
      "[55/1000] 1 tree, 31 leaves, max depth = 11, train score: 0.96466, val score: 0.91344, in 0.064s\n",
      "[56/1000] 1 tree, 31 leaves, max depth = 14, train score: 0.96481, val score: 0.91329, in 0.065s\n",
      "[57/1000] 1 tree, 31 leaves, max depth = 14, train score: 0.96574, val score: 0.91341, in 0.062s\n",
      "[58/1000] 1 tree, 31 leaves, max depth = 12, train score: 0.96596, val score: 0.91376, in 0.065s\n",
      "[59/1000] 1 tree, 31 leaves, max depth = 18, train score: 0.96673, val score: 0.91395, in 0.065s\n",
      "[60/1000] 1 tree, 31 leaves, max depth = 15, train score: 0.96687, val score: 0.91389, in 0.063s\n",
      "[61/1000] 1 tree, 31 leaves, max depth = 12, train score: 0.96696, val score: 0.91459, in 0.066s\n",
      "[62/1000] 1 tree, 31 leaves, max depth = 10, train score: 0.96833, val score: 0.91508, in 0.065s\n",
      "[63/1000] 1 tree, 31 leaves, max depth = 10, train score: 0.96876, val score: 0.91508, in 0.065s\n",
      "[64/1000] 1 tree, 31 leaves, max depth = 11, train score: 0.96892, val score: 0.91541, in 0.064s\n",
      "[65/1000] 1 tree, 31 leaves, max depth = 16, train score: 0.96933, val score: 0.91540, in 0.091s\n",
      "[66/1000] 1 tree, 31 leaves, max depth = 12, train score: 0.96959, val score: 0.91527, in 0.064s\n",
      "[67/1000] 1 tree, 31 leaves, max depth = 12, train score: 0.96998, val score: 0.91567, in 0.066s\n",
      "[68/1000] 1 tree, 31 leaves, max depth = 13, train score: 0.97003, val score: 0.91613, in 0.065s\n",
      "[69/1000] 1 tree, 31 leaves, max depth = 12, train score: 0.97097, val score: 0.91597, in 0.068s\n",
      "[70/1000] 1 tree, 31 leaves, max depth = 11, train score: 0.97152, val score: 0.91581, in 0.066s\n",
      "[71/1000] 1 tree, 31 leaves, max depth = 11, train score: 0.97196, val score: 0.91556, in 0.068s\n",
      "[72/1000] 1 tree, 31 leaves, max depth = 11, train score: 0.97211, val score: 0.91582, in 0.071s\n",
      "[73/1000] 1 tree, 31 leaves, max depth = 10, train score: 0.97226, val score: 0.91556, in 0.066s\n",
      "[74/1000] 1 tree, 31 leaves, max depth = 14, train score: 0.97277, val score: 0.91556, in 0.066s\n",
      "[75/1000] 1 tree, 31 leaves, max depth = 11, train score: 0.97296, val score: 0.91540, in 0.065s\n",
      "[76/1000] 1 tree, 31 leaves, max depth = 15, train score: 0.97333, val score: 0.91552, in 0.069s\n",
      "[77/1000] 1 tree, 31 leaves, max depth = 11, train score: 0.97363, val score: 0.91581, in 0.066s\n",
      "[78/1000] 1 tree, 31 leaves, max depth = 16, train score: 0.97411, val score: 0.91583, in 0.068s\n",
      "Fit 78 trees in 5.257 s, (2418 total leaves)\n",
      "Time spent computing histograms: 1.837s\n",
      "Time spent finding best splits:  0.542s\n",
      "Time spent applying splits:      0.732s\n",
      "Time spent predicting:           0.012s\n",
      "CPU times: user 29.9 s, sys: 5.17 s, total: 35.1 s\n",
      "Wall time: 5.44 s\n"
     ]
    },
    {
     "data": {
      "text/plain": [
       "(0.9736014537452244, 0.8878831140620626)"
      ]
     },
     "execution_count": 17,
     "metadata": {},
     "output_type": "execute_result"
    }
   ],
   "source": [
    "%%time\n",
    "clf = HistGradientBoostingClassifier(loss='binary_crossentropy', verbose=1,\n",
    "                                     max_iter=1000, scoring='roc_auc', tol=1e-8)\n",
    "clf.fit(xs,y)\n",
    "m_roc(y, xs), m_roc(valid_y, valid_xs)"
   ]
  },
  {
   "cell_type": "code",
   "execution_count": 41,
   "metadata": {
    "collapsed": true
   },
   "outputs": [
    {
     "name": "stdout",
     "output_type": "stream",
     "text": [
      "Binning 0.042 GB of training data: 0.277 s\n",
      "Binning 0.005 GB of validation data: 0.020 s\n",
      "Fitting gradient boosted rounds:\n",
      "[1/1000] 1 tree, 44 leaves, max depth = 9, train score: 0.86889, val score: 0.82889, in 0.082s\n",
      "[2/1000] 1 tree, 44 leaves, max depth = 10, train score: 0.87925, val score: 0.82951, in 0.083s\n",
      "[3/1000] 1 tree, 44 leaves, max depth = 11, train score: 0.88058, val score: 0.83309, in 0.082s\n",
      "[4/1000] 1 tree, 44 leaves, max depth = 10, train score: 0.88378, val score: 0.83707, in 0.160s\n",
      "[5/1000] 1 tree, 44 leaves, max depth = 9, train score: 0.88396, val score: 0.83800, in 0.085s\n",
      "[6/1000] 1 tree, 44 leaves, max depth = 12, train score: 0.88424, val score: 0.83771, in 0.088s\n",
      "[7/1000] 1 tree, 44 leaves, max depth = 10, train score: 0.88430, val score: 0.83762, in 0.087s\n",
      "[8/1000] 1 tree, 44 leaves, max depth = 12, train score: 0.88433, val score: 0.83813, in 0.087s\n",
      "[9/1000] 1 tree, 44 leaves, max depth = 10, train score: 0.88446, val score: 0.83836, in 0.090s\n",
      "[10/1000] 1 tree, 44 leaves, max depth = 10, train score: 0.88459, val score: 0.83908, in 0.090s\n",
      "[11/1000] 1 tree, 44 leaves, max depth = 11, train score: 0.88454, val score: 0.84037, in 0.090s\n",
      "[12/1000] 1 tree, 44 leaves, max depth = 10, train score: 0.88534, val score: 0.84267, in 0.093s\n",
      "[13/1000] 1 tree, 44 leaves, max depth = 10, train score: 0.88586, val score: 0.84335, in 0.090s\n",
      "[14/1000] 1 tree, 44 leaves, max depth = 10, train score: 0.88672, val score: 0.84386, in 0.091s\n",
      "[15/1000] 1 tree, 44 leaves, max depth = 11, train score: 0.89056, val score: 0.84951, in 0.089s\n",
      "[16/1000] 1 tree, 44 leaves, max depth = 9, train score: 0.89165, val score: 0.84936, in 0.161s\n",
      "[17/1000] 1 tree, 44 leaves, max depth = 10, train score: 0.89175, val score: 0.84971, in 0.090s\n",
      "[18/1000] 1 tree, 44 leaves, max depth = 10, train score: 0.89250, val score: 0.85109, in 0.091s\n",
      "[19/1000] 1 tree, 44 leaves, max depth = 13, train score: 0.89341, val score: 0.85141, in 0.091s\n",
      "[20/1000] 1 tree, 44 leaves, max depth = 12, train score: 0.89497, val score: 0.85107, in 0.094s\n",
      "[21/1000] 1 tree, 44 leaves, max depth = 12, train score: 0.89689, val score: 0.85174, in 0.091s\n",
      "[22/1000] 1 tree, 44 leaves, max depth = 11, train score: 0.89709, val score: 0.85210, in 0.093s\n",
      "[23/1000] 1 tree, 44 leaves, max depth = 10, train score: 0.89761, val score: 0.85244, in 0.095s\n",
      "[24/1000] 1 tree, 44 leaves, max depth = 12, train score: 0.89794, val score: 0.85195, in 0.093s\n",
      "[25/1000] 1 tree, 44 leaves, max depth = 10, train score: 0.89980, val score: 0.85508, in 0.094s\n",
      "[26/1000] 1 tree, 44 leaves, max depth = 9, train score: 0.90154, val score: 0.85742, in 0.096s\n",
      "[27/1000] 1 tree, 44 leaves, max depth = 11, train score: 0.90360, val score: 0.85791, in 0.099s\n",
      "[28/1000] 1 tree, 44 leaves, max depth = 9, train score: 0.90471, val score: 0.85904, in 0.171s\n",
      "[29/1000] 1 tree, 44 leaves, max depth = 11, train score: 0.90510, val score: 0.86024, in 0.136s\n",
      "[30/1000] 1 tree, 44 leaves, max depth = 13, train score: 0.90553, val score: 0.86090, in 0.159s\n",
      "[31/1000] 1 tree, 44 leaves, max depth = 11, train score: 0.90712, val score: 0.86134, in 0.132s\n",
      "[32/1000] 1 tree, 44 leaves, max depth = 10, train score: 0.90751, val score: 0.86168, in 0.099s\n",
      "[33/1000] 1 tree, 44 leaves, max depth = 10, train score: 0.90867, val score: 0.86249, in 0.098s\n",
      "[34/1000] 1 tree, 44 leaves, max depth = 11, train score: 0.90917, val score: 0.86294, in 0.099s\n",
      "[35/1000] 1 tree, 44 leaves, max depth = 10, train score: 0.91006, val score: 0.86331, in 0.100s\n",
      "[36/1000] 1 tree, 44 leaves, max depth = 13, train score: 0.91094, val score: 0.86418, in 0.101s\n",
      "[37/1000] 1 tree, 44 leaves, max depth = 11, train score: 0.91123, val score: 0.86468, in 0.099s\n",
      "[38/1000] 1 tree, 44 leaves, max depth = 11, train score: 0.91175, val score: 0.86498, in 0.101s\n",
      "[39/1000] 1 tree, 44 leaves, max depth = 11, train score: 0.91208, val score: 0.86511, in 0.110s\n",
      "[40/1000] 1 tree, 44 leaves, max depth = 11, train score: 0.91282, val score: 0.86703, in 0.102s\n",
      "[41/1000] 1 tree, 44 leaves, max depth = 12, train score: 0.91455, val score: 0.86756, in 0.177s\n",
      "[42/1000] 1 tree, 44 leaves, max depth = 11, train score: 0.91506, val score: 0.86914, in 0.099s\n",
      "[43/1000] 1 tree, 44 leaves, max depth = 13, train score: 0.91577, val score: 0.86989, in 0.102s\n",
      "[44/1000] 1 tree, 44 leaves, max depth = 10, train score: 0.91696, val score: 0.87061, in 0.103s\n",
      "[45/1000] 1 tree, 44 leaves, max depth = 13, train score: 0.91943, val score: 0.87124, in 0.101s\n",
      "[46/1000] 1 tree, 44 leaves, max depth = 11, train score: 0.92017, val score: 0.87168, in 0.108s\n",
      "[47/1000] 1 tree, 44 leaves, max depth = 13, train score: 0.92056, val score: 0.87131, in 0.105s\n",
      "[48/1000] 1 tree, 44 leaves, max depth = 10, train score: 0.92145, val score: 0.87164, in 0.106s\n",
      "[49/1000] 1 tree, 44 leaves, max depth = 11, train score: 0.92239, val score: 0.87157, in 0.104s\n",
      "[50/1000] 1 tree, 44 leaves, max depth = 10, train score: 0.92293, val score: 0.87216, in 0.106s\n",
      "[51/1000] 1 tree, 44 leaves, max depth = 13, train score: 0.92351, val score: 0.87226, in 0.103s\n",
      "[52/1000] 1 tree, 44 leaves, max depth = 11, train score: 0.92405, val score: 0.87295, in 0.110s\n",
      "[53/1000] 1 tree, 44 leaves, max depth = 12, train score: 0.92507, val score: 0.87391, in 0.188s\n",
      "[54/1000] 1 tree, 44 leaves, max depth = 12, train score: 0.92513, val score: 0.87404, in 0.099s\n",
      "[55/1000] 1 tree, 44 leaves, max depth = 12, train score: 0.92559, val score: 0.87390, in 0.104s\n",
      "[56/1000] 1 tree, 44 leaves, max depth = 11, train score: 0.92636, val score: 0.87465, in 0.107s\n",
      "[57/1000] 1 tree, 44 leaves, max depth = 11, train score: 0.92674, val score: 0.87457, in 0.106s\n",
      "[58/1000] 1 tree, 44 leaves, max depth = 11, train score: 0.92740, val score: 0.87509, in 0.107s\n",
      "[59/1000] 1 tree, 44 leaves, max depth = 12, train score: 0.92784, val score: 0.87576, in 0.109s\n",
      "[60/1000] 1 tree, 44 leaves, max depth = 12, train score: 0.92813, val score: 0.87608, in 0.109s\n",
      "[61/1000] 1 tree, 44 leaves, max depth = 10, train score: 0.92833, val score: 0.87648, in 0.107s\n",
      "[62/1000] 1 tree, 44 leaves, max depth = 10, train score: 0.92894, val score: 0.87754, in 0.113s\n",
      "[63/1000] 1 tree, 44 leaves, max depth = 11, train score: 0.92944, val score: 0.87777, in 0.111s\n",
      "[64/1000] 1 tree, 44 leaves, max depth = 12, train score: 0.92980, val score: 0.87787, in 0.109s\n",
      "[65/1000] 1 tree, 44 leaves, max depth = 12, train score: 0.93063, val score: 0.87843, in 0.193s\n",
      "[66/1000] 1 tree, 44 leaves, max depth = 13, train score: 0.93113, val score: 0.87863, in 0.109s\n",
      "[67/1000] 1 tree, 44 leaves, max depth = 11, train score: 0.93141, val score: 0.87897, in 0.110s\n",
      "[68/1000] 1 tree, 44 leaves, max depth = 11, train score: 0.93190, val score: 0.87945, in 0.109s\n",
      "[69/1000] 1 tree, 44 leaves, max depth = 11, train score: 0.93213, val score: 0.87978, in 0.112s\n",
      "[70/1000] 1 tree, 44 leaves, max depth = 11, train score: 0.93252, val score: 0.87980, in 0.119s\n",
      "[71/1000] 1 tree, 44 leaves, max depth = 12, train score: 0.93300, val score: 0.87976, in 0.113s\n",
      "[72/1000] 1 tree, 44 leaves, max depth = 12, train score: 0.93357, val score: 0.87953, in 0.114s\n",
      "[73/1000] 1 tree, 44 leaves, max depth = 13, train score: 0.93434, val score: 0.87945, in 0.114s\n",
      "[74/1000] 1 tree, 44 leaves, max depth = 12, train score: 0.93476, val score: 0.87932, in 0.118s\n",
      "[75/1000] 1 tree, 44 leaves, max depth = 12, train score: 0.93534, val score: 0.87903, in 0.117s\n",
      "[76/1000] 1 tree, 44 leaves, max depth = 11, train score: 0.93571, val score: 0.87904, in 0.118s\n",
      "[77/1000] 1 tree, 44 leaves, max depth = 13, train score: 0.93586, val score: 0.87946, in 0.124s\n",
      "[78/1000] 1 tree, 44 leaves, max depth = 13, train score: 0.93603, val score: 0.87986, in 0.186s\n",
      "[79/1000] 1 tree, 44 leaves, max depth = 14, train score: 0.93676, val score: 0.87968, in 0.119s\n",
      "[80/1000] 1 tree, 44 leaves, max depth = 12, train score: 0.93722, val score: 0.87948, in 0.117s\n",
      "[81/1000] 1 tree, 44 leaves, max depth = 12, train score: 0.93768, val score: 0.87984, in 0.118s\n",
      "[82/1000] 1 tree, 44 leaves, max depth = 13, train score: 0.93809, val score: 0.87997, in 0.117s\n",
      "[83/1000] 1 tree, 44 leaves, max depth = 16, train score: 0.93861, val score: 0.88016, in 0.118s\n",
      "[84/1000] 1 tree, 44 leaves, max depth = 12, train score: 0.93926, val score: 0.88039, in 0.128s\n"
     ]
    },
    {
     "name": "stdout",
     "output_type": "stream",
     "text": [
      "[85/1000] 1 tree, 44 leaves, max depth = 14, train score: 0.93967, val score: 0.88073, in 0.120s\n",
      "[86/1000] 1 tree, 44 leaves, max depth = 11, train score: 0.94014, val score: 0.88105, in 0.122s\n",
      "[87/1000] 1 tree, 44 leaves, max depth = 14, train score: 0.94048, val score: 0.88154, in 0.119s\n",
      "[88/1000] 1 tree, 44 leaves, max depth = 10, train score: 0.94068, val score: 0.88203, in 0.118s\n",
      "[89/1000] 1 tree, 44 leaves, max depth = 16, train score: 0.94092, val score: 0.88201, in 0.119s\n",
      "[90/1000] 1 tree, 44 leaves, max depth = 14, train score: 0.94134, val score: 0.88236, in 0.202s\n",
      "[91/1000] 1 tree, 44 leaves, max depth = 13, train score: 0.94175, val score: 0.88235, in 0.111s\n",
      "[92/1000] 1 tree, 44 leaves, max depth = 10, train score: 0.94205, val score: 0.88261, in 0.117s\n",
      "[93/1000] 1 tree, 44 leaves, max depth = 14, train score: 0.94233, val score: 0.88285, in 0.116s\n",
      "[94/1000] 1 tree, 44 leaves, max depth = 8, train score: 0.94257, val score: 0.88302, in 0.117s\n",
      "[95/1000] 1 tree, 44 leaves, max depth = 11, train score: 0.94283, val score: 0.88384, in 0.125s\n",
      "[96/1000] 1 tree, 44 leaves, max depth = 10, train score: 0.94301, val score: 0.88443, in 0.126s\n",
      "[97/1000] 1 tree, 44 leaves, max depth = 11, train score: 0.94344, val score: 0.88463, in 0.120s\n",
      "[98/1000] 1 tree, 44 leaves, max depth = 13, train score: 0.94411, val score: 0.88485, in 0.120s\n",
      "[99/1000] 1 tree, 44 leaves, max depth = 11, train score: 0.94429, val score: 0.88503, in 0.122s\n",
      "[100/1000] 1 tree, 44 leaves, max depth = 13, train score: 0.94463, val score: 0.88551, in 0.127s\n",
      "[101/1000] 1 tree, 44 leaves, max depth = 15, train score: 0.94543, val score: 0.88551, in 0.123s\n",
      "[102/1000] 1 tree, 44 leaves, max depth = 12, train score: 0.94574, val score: 0.88598, in 0.169s\n",
      "[103/1000] 1 tree, 44 leaves, max depth = 12, train score: 0.94620, val score: 0.88625, in 0.178s\n",
      "[104/1000] 1 tree, 44 leaves, max depth = 11, train score: 0.94668, val score: 0.88639, in 0.112s\n",
      "[105/1000] 1 tree, 44 leaves, max depth = 12, train score: 0.94704, val score: 0.88625, in 0.108s\n",
      "[106/1000] 1 tree, 44 leaves, max depth = 14, train score: 0.94730, val score: 0.88634, in 0.108s\n",
      "[107/1000] 1 tree, 44 leaves, max depth = 14, train score: 0.94765, val score: 0.88659, in 0.112s\n",
      "[108/1000] 1 tree, 44 leaves, max depth = 12, train score: 0.94793, val score: 0.88664, in 0.138s\n",
      "[109/1000] 1 tree, 44 leaves, max depth = 13, train score: 0.94810, val score: 0.88662, in 0.110s\n",
      "[110/1000] 1 tree, 44 leaves, max depth = 13, train score: 0.94860, val score: 0.88663, in 0.111s\n",
      "[111/1000] 1 tree, 44 leaves, max depth = 11, train score: 0.94918, val score: 0.88693, in 0.110s\n",
      "[112/1000] 1 tree, 44 leaves, max depth = 16, train score: 0.94939, val score: 0.88710, in 0.111s\n",
      "[113/1000] 1 tree, 44 leaves, max depth = 14, train score: 0.94968, val score: 0.88675, in 0.124s\n",
      "[114/1000] 1 tree, 44 leaves, max depth = 17, train score: 0.95020, val score: 0.88669, in 0.119s\n",
      "[115/1000] 1 tree, 44 leaves, max depth = 16, train score: 0.95066, val score: 0.88698, in 0.197s\n",
      "[116/1000] 1 tree, 44 leaves, max depth = 16, train score: 0.95097, val score: 0.88709, in 0.109s\n",
      "[117/1000] 1 tree, 44 leaves, max depth = 14, train score: 0.95157, val score: 0.88707, in 0.114s\n",
      "[118/1000] 1 tree, 44 leaves, max depth = 18, train score: 0.95240, val score: 0.88789, in 0.113s\n",
      "[119/1000] 1 tree, 44 leaves, max depth = 17, train score: 0.95283, val score: 0.88777, in 0.114s\n",
      "[120/1000] 1 tree, 44 leaves, max depth = 16, train score: 0.95325, val score: 0.88791, in 0.118s\n",
      "[121/1000] 1 tree, 44 leaves, max depth = 14, train score: 0.95350, val score: 0.88789, in 0.112s\n",
      "[122/1000] 1 tree, 44 leaves, max depth = 13, train score: 0.95407, val score: 0.88809, in 0.117s\n",
      "[123/1000] 1 tree, 44 leaves, max depth = 17, train score: 0.95436, val score: 0.88826, in 0.117s\n",
      "[124/1000] 1 tree, 44 leaves, max depth = 10, train score: 0.95461, val score: 0.88886, in 0.129s\n",
      "[125/1000] 1 tree, 44 leaves, max depth = 12, train score: 0.95494, val score: 0.88913, in 0.129s\n",
      "[126/1000] 1 tree, 44 leaves, max depth = 18, train score: 0.95552, val score: 0.88925, in 0.117s\n",
      "[127/1000] 1 tree, 44 leaves, max depth = 14, train score: 0.95577, val score: 0.88970, in 0.199s\n",
      "[128/1000] 1 tree, 44 leaves, max depth = 14, train score: 0.95608, val score: 0.89018, in 0.112s\n",
      "[129/1000] 1 tree, 44 leaves, max depth = 12, train score: 0.95637, val score: 0.89038, in 0.119s\n",
      "[130/1000] 1 tree, 44 leaves, max depth = 12, train score: 0.95663, val score: 0.89028, in 0.116s\n",
      "[131/1000] 1 tree, 44 leaves, max depth = 16, train score: 0.95680, val score: 0.89025, in 0.117s\n",
      "[132/1000] 1 tree, 44 leaves, max depth = 13, train score: 0.95708, val score: 0.89029, in 0.120s\n",
      "[133/1000] 1 tree, 44 leaves, max depth = 17, train score: 0.95722, val score: 0.89015, in 0.119s\n",
      "[134/1000] 1 tree, 44 leaves, max depth = 12, train score: 0.95744, val score: 0.89013, in 0.121s\n",
      "[135/1000] 1 tree, 44 leaves, max depth = 12, train score: 0.95744, val score: 0.89078, in 0.119s\n",
      "[136/1000] 1 tree, 44 leaves, max depth = 15, train score: 0.95744, val score: 0.89075, in 0.118s\n",
      "[137/1000] 1 tree, 44 leaves, max depth = 13, train score: 0.95776, val score: 0.89084, in 0.122s\n",
      "[138/1000] 1 tree, 44 leaves, max depth = 13, train score: 0.95799, val score: 0.89101, in 0.124s\n",
      "[139/1000] 1 tree, 44 leaves, max depth = 9, train score: 0.95842, val score: 0.89132, in 0.122s\n",
      "[140/1000] 1 tree, 44 leaves, max depth = 17, train score: 0.95892, val score: 0.89141, in 0.198s\n",
      "[141/1000] 1 tree, 44 leaves, max depth = 19, train score: 0.95922, val score: 0.89132, in 0.121s\n",
      "[142/1000] 1 tree, 44 leaves, max depth = 12, train score: 0.95934, val score: 0.89130, in 0.129s\n",
      "[143/1000] 1 tree, 44 leaves, max depth = 18, train score: 0.95969, val score: 0.89160, in 0.125s\n",
      "[144/1000] 1 tree, 44 leaves, max depth = 14, train score: 0.95988, val score: 0.89177, in 0.125s\n",
      "[145/1000] 1 tree, 44 leaves, max depth = 11, train score: 0.96008, val score: 0.89182, in 0.127s\n",
      "[146/1000] 1 tree, 44 leaves, max depth = 14, train score: 0.96027, val score: 0.89200, in 0.164s\n",
      "[147/1000] 1 tree, 44 leaves, max depth = 18, train score: 0.96055, val score: 0.89181, in 0.167s\n",
      "[148/1000] 1 tree, 44 leaves, max depth = 15, train score: 0.96077, val score: 0.89198, in 0.132s\n",
      "[149/1000] 1 tree, 44 leaves, max depth = 11, train score: 0.96102, val score: 0.89202, in 0.183s\n",
      "[150/1000] 1 tree, 44 leaves, max depth = 12, train score: 0.96120, val score: 0.89228, in 0.168s\n",
      "[151/1000] 1 tree, 44 leaves, max depth = 13, train score: 0.96136, val score: 0.89227, in 0.147s\n",
      "[152/1000] 1 tree, 44 leaves, max depth = 15, train score: 0.96153, val score: 0.89235, in 0.233s\n",
      "[153/1000] 1 tree, 44 leaves, max depth = 13, train score: 0.96167, val score: 0.89242, in 0.239s\n",
      "[154/1000] 1 tree, 44 leaves, max depth = 14, train score: 0.96202, val score: 0.89260, in 0.205s\n",
      "[155/1000] 1 tree, 44 leaves, max depth = 15, train score: 0.96226, val score: 0.89258, in 0.245s\n",
      "[156/1000] 1 tree, 44 leaves, max depth = 11, train score: 0.96246, val score: 0.89258, in 0.145s\n",
      "[157/1000] 1 tree, 44 leaves, max depth = 13, train score: 0.96261, val score: 0.89276, in 0.222s\n",
      "[158/1000] 1 tree, 44 leaves, max depth = 15, train score: 0.96287, val score: 0.89294, in 0.167s\n",
      "[159/1000] 1 tree, 44 leaves, max depth = 13, train score: 0.96299, val score: 0.89314, in 0.142s\n",
      "[160/1000] 1 tree, 44 leaves, max depth = 15, train score: 0.96335, val score: 0.89331, in 0.148s\n",
      "[161/1000] 1 tree, 44 leaves, max depth = 15, train score: 0.96342, val score: 0.89350, in 0.147s\n",
      "[162/1000] 1 tree, 44 leaves, max depth = 17, train score: 0.96376, val score: 0.89330, in 0.185s\n",
      "[163/1000] 1 tree, 44 leaves, max depth = 14, train score: 0.96413, val score: 0.89348, in 0.177s\n",
      "[164/1000] 1 tree, 44 leaves, max depth = 9, train score: 0.96432, val score: 0.89376, in 0.143s\n",
      "[165/1000] 1 tree, 44 leaves, max depth = 14, train score: 0.96455, val score: 0.89373, in 0.213s\n",
      "[166/1000] 1 tree, 44 leaves, max depth = 15, train score: 0.96476, val score: 0.89411, in 0.333s\n",
      "[167/1000] 1 tree, 44 leaves, max depth = 18, train score: 0.96497, val score: 0.89430, in 0.145s\n",
      "[168/1000] 1 tree, 44 leaves, max depth = 11, train score: 0.96533, val score: 0.89455, in 0.134s\n"
     ]
    },
    {
     "name": "stdout",
     "output_type": "stream",
     "text": [
      "[169/1000] 1 tree, 44 leaves, max depth = 11, train score: 0.96550, val score: 0.89445, in 0.144s\n",
      "[170/1000] 1 tree, 44 leaves, max depth = 11, train score: 0.96576, val score: 0.89463, in 0.141s\n",
      "[171/1000] 1 tree, 44 leaves, max depth = 13, train score: 0.96603, val score: 0.89479, in 0.138s\n",
      "[172/1000] 1 tree, 44 leaves, max depth = 13, train score: 0.96607, val score: 0.89486, in 0.135s\n",
      "[173/1000] 1 tree, 44 leaves, max depth = 11, train score: 0.96627, val score: 0.89500, in 0.135s\n",
      "[174/1000] 1 tree, 44 leaves, max depth = 17, train score: 0.96658, val score: 0.89515, in 0.137s\n",
      "[175/1000] 1 tree, 44 leaves, max depth = 14, train score: 0.96689, val score: 0.89502, in 0.138s\n",
      "[176/1000] 1 tree, 44 leaves, max depth = 13, train score: 0.96698, val score: 0.89483, in 0.135s\n",
      "[177/1000] 1 tree, 44 leaves, max depth = 14, train score: 0.96725, val score: 0.89498, in 0.138s\n",
      "[178/1000] 1 tree, 44 leaves, max depth = 15, train score: 0.96737, val score: 0.89498, in 0.225s\n",
      "[179/1000] 1 tree, 44 leaves, max depth = 14, train score: 0.96768, val score: 0.89510, in 0.143s\n",
      "[180/1000] 1 tree, 44 leaves, max depth = 14, train score: 0.96782, val score: 0.89523, in 0.146s\n",
      "[181/1000] 1 tree, 44 leaves, max depth = 14, train score: 0.96804, val score: 0.89535, in 0.133s\n",
      "[182/1000] 1 tree, 44 leaves, max depth = 13, train score: 0.96822, val score: 0.89575, in 0.189s\n",
      "[183/1000] 1 tree, 44 leaves, max depth = 17, train score: 0.96843, val score: 0.89587, in 0.140s\n",
      "[184/1000] 1 tree, 44 leaves, max depth = 16, train score: 0.96879, val score: 0.89607, in 0.172s\n",
      "[185/1000] 1 tree, 44 leaves, max depth = 10, train score: 0.96898, val score: 0.89625, in 0.144s\n",
      "[186/1000] 1 tree, 44 leaves, max depth = 14, train score: 0.96919, val score: 0.89608, in 0.208s\n",
      "[187/1000] 1 tree, 44 leaves, max depth = 18, train score: 0.96961, val score: 0.89596, in 0.143s\n",
      "[188/1000] 1 tree, 44 leaves, max depth = 18, train score: 0.96973, val score: 0.89591, in 0.170s\n",
      "[189/1000] 1 tree, 44 leaves, max depth = 16, train score: 0.96995, val score: 0.89636, in 0.142s\n",
      "[190/1000] 1 tree, 44 leaves, max depth = 19, train score: 0.97022, val score: 0.89637, in 0.296s\n",
      "[191/1000] 1 tree, 44 leaves, max depth = 13, train score: 0.97035, val score: 0.89642, in 0.148s\n",
      "[192/1000] 1 tree, 44 leaves, max depth = 15, train score: 0.97055, val score: 0.89641, in 0.136s\n",
      "[193/1000] 1 tree, 44 leaves, max depth = 13, train score: 0.97066, val score: 0.89638, in 0.137s\n",
      "[194/1000] 1 tree, 44 leaves, max depth = 11, train score: 0.97081, val score: 0.89642, in 0.132s\n",
      "[195/1000] 1 tree, 44 leaves, max depth = 13, train score: 0.97106, val score: 0.89665, in 0.135s\n",
      "[196/1000] 1 tree, 44 leaves, max depth = 17, train score: 0.97129, val score: 0.89682, in 0.134s\n",
      "[197/1000] 1 tree, 44 leaves, max depth = 15, train score: 0.97152, val score: 0.89684, in 0.137s\n",
      "[198/1000] 1 tree, 44 leaves, max depth = 16, train score: 0.97166, val score: 0.89692, in 0.134s\n",
      "[199/1000] 1 tree, 44 leaves, max depth = 16, train score: 0.97179, val score: 0.89684, in 0.136s\n",
      "[200/1000] 1 tree, 44 leaves, max depth = 17, train score: 0.97194, val score: 0.89692, in 0.137s\n",
      "[201/1000] 1 tree, 44 leaves, max depth = 10, train score: 0.97214, val score: 0.89684, in 0.142s\n",
      "[202/1000] 1 tree, 44 leaves, max depth = 17, train score: 0.97238, val score: 0.89679, in 0.138s\n",
      "[203/1000] 1 tree, 44 leaves, max depth = 13, train score: 0.97260, val score: 0.89681, in 0.213s\n",
      "[204/1000] 1 tree, 44 leaves, max depth = 17, train score: 0.97288, val score: 0.89665, in 0.133s\n",
      "[205/1000] 1 tree, 44 leaves, max depth = 13, train score: 0.97313, val score: 0.89674, in 0.135s\n",
      "[206/1000] 1 tree, 44 leaves, max depth = 12, train score: 0.97324, val score: 0.89663, in 0.137s\n",
      "[207/1000] 1 tree, 44 leaves, max depth = 18, train score: 0.97332, val score: 0.89664, in 0.138s\n",
      "[208/1000] 1 tree, 44 leaves, max depth = 17, train score: 0.97352, val score: 0.89681, in 0.148s\n",
      "[209/1000] 1 tree, 44 leaves, max depth = 11, train score: 0.97368, val score: 0.89697, in 0.139s\n",
      "[210/1000] 1 tree, 44 leaves, max depth = 23, train score: 0.97396, val score: 0.89723, in 0.148s\n",
      "[211/1000] 1 tree, 44 leaves, max depth = 11, train score: 0.97412, val score: 0.89707, in 0.137s\n",
      "[212/1000] 1 tree, 44 leaves, max depth = 10, train score: 0.97414, val score: 0.89700, in 0.142s\n",
      "[213/1000] 1 tree, 44 leaves, max depth = 14, train score: 0.97428, val score: 0.89699, in 0.138s\n",
      "[214/1000] 1 tree, 44 leaves, max depth = 13, train score: 0.97442, val score: 0.89702, in 0.140s\n",
      "[215/1000] 1 tree, 44 leaves, max depth = 16, train score: 0.97463, val score: 0.89716, in 0.227s\n",
      "[216/1000] 1 tree, 44 leaves, max depth = 13, train score: 0.97488, val score: 0.89731, in 0.139s\n",
      "[217/1000] 1 tree, 44 leaves, max depth = 10, train score: 0.97492, val score: 0.89723, in 0.136s\n",
      "[218/1000] 1 tree, 44 leaves, max depth = 11, train score: 0.97502, val score: 0.89725, in 0.135s\n",
      "[219/1000] 1 tree, 44 leaves, max depth = 11, train score: 0.97510, val score: 0.89717, in 0.143s\n",
      "[220/1000] 1 tree, 44 leaves, max depth = 12, train score: 0.97521, val score: 0.89716, in 0.152s\n",
      "[221/1000] 1 tree, 44 leaves, max depth = 11, train score: 0.97544, val score: 0.89716, in 0.193s\n",
      "[222/1000] 1 tree, 44 leaves, max depth = 17, train score: 0.97563, val score: 0.89711, in 0.174s\n",
      "[223/1000] 1 tree, 44 leaves, max depth = 11, train score: 0.97577, val score: 0.89720, in 0.189s\n",
      "[224/1000] 1 tree, 44 leaves, max depth = 11, train score: 0.97597, val score: 0.89765, in 0.162s\n",
      "[225/1000] 1 tree, 44 leaves, max depth = 10, train score: 0.97603, val score: 0.89776, in 0.227s\n",
      "[226/1000] 1 tree, 44 leaves, max depth = 12, train score: 0.97615, val score: 0.89793, in 0.208s\n",
      "[227/1000] 1 tree, 44 leaves, max depth = 12, train score: 0.97623, val score: 0.89784, in 0.211s\n",
      "[228/1000] 1 tree, 44 leaves, max depth = 15, train score: 0.97639, val score: 0.89782, in 0.295s\n",
      "[229/1000] 1 tree, 44 leaves, max depth = 13, train score: 0.97659, val score: 0.89772, in 0.177s\n",
      "[230/1000] 1 tree, 44 leaves, max depth = 17, train score: 0.97669, val score: 0.89798, in 0.160s\n",
      "[231/1000] 1 tree, 44 leaves, max depth = 13, train score: 0.97677, val score: 0.89793, in 0.153s\n",
      "[232/1000] 1 tree, 44 leaves, max depth = 12, train score: 0.97688, val score: 0.89790, in 0.237s\n",
      "[233/1000] 1 tree, 44 leaves, max depth = 12, train score: 0.97700, val score: 0.89807, in 0.214s\n",
      "[234/1000] 1 tree, 44 leaves, max depth = 11, train score: 0.97714, val score: 0.89810, in 0.174s\n",
      "[235/1000] 1 tree, 44 leaves, max depth = 17, train score: 0.97719, val score: 0.89819, in 0.233s\n",
      "[236/1000] 1 tree, 44 leaves, max depth = 11, train score: 0.97737, val score: 0.89807, in 0.218s\n",
      "[237/1000] 1 tree, 44 leaves, max depth = 13, train score: 0.97749, val score: 0.89811, in 0.177s\n",
      "[238/1000] 1 tree, 44 leaves, max depth = 17, train score: 0.97762, val score: 0.89823, in 0.243s\n",
      "[239/1000] 1 tree, 44 leaves, max depth = 19, train score: 0.97772, val score: 0.89817, in 0.226s\n",
      "[240/1000] 1 tree, 44 leaves, max depth = 14, train score: 0.97784, val score: 0.89823, in 0.334s\n",
      "[241/1000] 1 tree, 44 leaves, max depth = 13, train score: 0.97793, val score: 0.89831, in 0.208s\n",
      "[242/1000] 1 tree, 44 leaves, max depth = 16, train score: 0.97801, val score: 0.89827, in 0.214s\n",
      "[243/1000] 1 tree, 44 leaves, max depth = 15, train score: 0.97805, val score: 0.89830, in 0.222s\n",
      "[244/1000] 1 tree, 44 leaves, max depth = 17, train score: 0.97817, val score: 0.89824, in 0.172s\n",
      "[245/1000] 1 tree, 44 leaves, max depth = 16, train score: 0.97826, val score: 0.89828, in 0.159s\n",
      "[246/1000] 1 tree, 44 leaves, max depth = 10, train score: 0.97836, val score: 0.89819, in 0.214s\n",
      "[247/1000] 1 tree, 44 leaves, max depth = 17, train score: 0.97847, val score: 0.89814, in 0.205s\n",
      "[248/1000] 1 tree, 44 leaves, max depth = 13, train score: 0.97861, val score: 0.89804, in 0.196s\n",
      "[249/1000] 1 tree, 44 leaves, max depth = 14, train score: 0.97866, val score: 0.89793, in 0.171s\n",
      "[250/1000] 1 tree, 44 leaves, max depth = 15, train score: 0.97874, val score: 0.89784, in 0.167s\n",
      "[251/1000] 1 tree, 44 leaves, max depth = 13, train score: 0.97890, val score: 0.89786, in 0.213s\n",
      "Fit 251 trees in 35.833 s, (11044 total leaves)\n",
      "Time spent computing histograms: 12.733s\n",
      "Time spent finding best splits:  3.360s\n",
      "Time spent applying splits:      3.758s\n",
      "Time spent predicting:           0.054s\n"
     ]
    },
    {
     "name": "stdout",
     "output_type": "stream",
     "text": [
      "CPU times: user 3min 36s, sys: 37.1 s, total: 4min 13s\n",
      "Wall time: 36.4 s\n"
     ]
    },
    {
     "data": {
      "text/plain": [
       "(0.9697907275897766, 0.8931305761072392)"
      ]
     },
     "execution_count": 41,
     "metadata": {},
     "output_type": "execute_result"
    }
   ],
   "source": [
    "%%time\n",
    "clf = HistGradientBoostingClassifier(loss='binary_crossentropy', verbose=1, l2_regularization=2.4,\n",
    "                             learning_rate=0.03, max_depth=25, max_iter=1000, max_leaf_nodes=44,\n",
    "                             min_samples_leaf=8,  scoring='roc_auc', tol=1e-8)\n",
    "clf.fit(xs, y)\n",
    "m_roc(y, xs), m_roc(valid_y, valid_xs)"
   ]
  },
  {
   "cell_type": "code",
   "execution_count": 4,
   "metadata": {},
   "outputs": [],
   "source": [
    "xs_imp = (path/'xs_imp.pkl').load()\n",
    "valid_xs_imp = (path/'valid_xs_imp.pkl').load()"
   ]
  },
  {
   "cell_type": "code",
   "execution_count": 14,
   "metadata": {},
   "outputs": [
    {
     "name": "stdout",
     "output_type": "stream",
     "text": [
      "Binning 0.012 GB of training data: 0.120 s\n",
      "Binning 0.001 GB of validation data: 0.006 s\n",
      "Fitting gradient boosted rounds:\n",
      "[1/1000] 1 tree, 44 leaves, max depth = 10, train score: 0.84702, val score: 0.81191, in 0.050s\n",
      "[2/1000] 1 tree, 44 leaves, max depth = 11, train score: 0.85147, val score: 0.82025, in 0.050s\n",
      "[3/1000] 1 tree, 44 leaves, max depth = 11, train score: 0.85412, val score: 0.82111, in 0.051s\n",
      "[4/1000] 1 tree, 44 leaves, max depth = 11, train score: 0.86112, val score: 0.83071, in 0.049s\n",
      "[5/1000] 1 tree, 44 leaves, max depth = 9, train score: 0.86121, val score: 0.83201, in 0.048s\n",
      "[6/1000] 1 tree, 44 leaves, max depth = 10, train score: 0.86392, val score: 0.83442, in 0.064s\n",
      "[7/1000] 1 tree, 44 leaves, max depth = 12, train score: 0.86470, val score: 0.83532, in 0.042s\n",
      "[8/1000] 1 tree, 44 leaves, max depth = 11, train score: 0.86587, val score: 0.83555, in 0.050s\n",
      "[9/1000] 1 tree, 44 leaves, max depth = 10, train score: 0.86615, val score: 0.83657, in 0.057s\n",
      "[10/1000] 1 tree, 44 leaves, max depth = 11, train score: 0.86700, val score: 0.83682, in 0.051s\n",
      "[11/1000] 1 tree, 44 leaves, max depth = 12, train score: 0.86700, val score: 0.83775, in 0.054s\n",
      "[12/1000] 1 tree, 44 leaves, max depth = 10, train score: 0.86756, val score: 0.83778, in 0.053s\n",
      "[13/1000] 1 tree, 44 leaves, max depth = 12, train score: 0.86839, val score: 0.83793, in 0.051s\n",
      "[14/1000] 1 tree, 44 leaves, max depth = 12, train score: 0.86897, val score: 0.83845, in 0.055s\n",
      "[15/1000] 1 tree, 44 leaves, max depth = 11, train score: 0.86918, val score: 0.83864, in 0.052s\n",
      "[16/1000] 1 tree, 44 leaves, max depth = 12, train score: 0.87029, val score: 0.84063, in 0.057s\n",
      "[17/1000] 1 tree, 44 leaves, max depth = 10, train score: 0.87082, val score: 0.84068, in 0.053s\n",
      "[18/1000] 1 tree, 44 leaves, max depth = 10, train score: 0.87160, val score: 0.84221, in 0.076s\n",
      "[19/1000] 1 tree, 44 leaves, max depth = 11, train score: 0.87243, val score: 0.84174, in 0.055s\n",
      "[20/1000] 1 tree, 44 leaves, max depth = 12, train score: 0.87301, val score: 0.84225, in 0.060s\n",
      "[21/1000] 1 tree, 44 leaves, max depth = 10, train score: 0.87752, val score: 0.84529, in 0.058s\n",
      "[22/1000] 1 tree, 44 leaves, max depth = 11, train score: 0.87938, val score: 0.84722, in 0.051s\n",
      "[23/1000] 1 tree, 44 leaves, max depth = 10, train score: 0.87978, val score: 0.84869, in 0.061s\n",
      "[24/1000] 1 tree, 44 leaves, max depth = 9, train score: 0.88100, val score: 0.84996, in 0.055s\n",
      "[25/1000] 1 tree, 44 leaves, max depth = 9, train score: 0.88166, val score: 0.85084, in 0.053s\n",
      "[26/1000] 1 tree, 44 leaves, max depth = 11, train score: 0.88243, val score: 0.85199, in 0.062s\n",
      "[27/1000] 1 tree, 44 leaves, max depth = 10, train score: 0.88402, val score: 0.85194, in 0.058s\n",
      "[28/1000] 1 tree, 44 leaves, max depth = 9, train score: 0.88541, val score: 0.85038, in 0.058s\n",
      "[29/1000] 1 tree, 44 leaves, max depth = 11, train score: 0.88578, val score: 0.85324, in 0.063s\n",
      "[30/1000] 1 tree, 44 leaves, max depth = 10, train score: 0.88724, val score: 0.85367, in 0.089s\n",
      "[31/1000] 1 tree, 44 leaves, max depth = 11, train score: 0.88774, val score: 0.85307, in 0.093s\n",
      "[32/1000] 1 tree, 44 leaves, max depth = 10, train score: 0.88882, val score: 0.85372, in 0.078s\n",
      "[33/1000] 1 tree, 44 leaves, max depth = 10, train score: 0.88977, val score: 0.85390, in 0.081s\n",
      "[34/1000] 1 tree, 44 leaves, max depth = 12, train score: 0.89023, val score: 0.85451, in 0.086s\n",
      "[35/1000] 1 tree, 44 leaves, max depth = 10, train score: 0.89082, val score: 0.85470, in 0.080s\n",
      "[36/1000] 1 tree, 44 leaves, max depth = 12, train score: 0.89157, val score: 0.85469, in 0.079s\n",
      "[37/1000] 1 tree, 44 leaves, max depth = 12, train score: 0.89217, val score: 0.85482, in 0.088s\n",
      "[38/1000] 1 tree, 44 leaves, max depth = 10, train score: 0.89256, val score: 0.85584, in 0.065s\n",
      "[39/1000] 1 tree, 44 leaves, max depth = 10, train score: 0.89283, val score: 0.85596, in 0.173s\n",
      "[40/1000] 1 tree, 44 leaves, max depth = 12, train score: 0.89341, val score: 0.85633, in 0.210s\n",
      "[41/1000] 1 tree, 44 leaves, max depth = 13, train score: 0.89370, val score: 0.85628, in 0.047s\n",
      "[42/1000] 1 tree, 44 leaves, max depth = 12, train score: 0.89397, val score: 0.85625, in 0.050s\n",
      "[43/1000] 1 tree, 44 leaves, max depth = 11, train score: 0.89447, val score: 0.85695, in 0.071s\n",
      "[44/1000] 1 tree, 44 leaves, max depth = 11, train score: 0.89719, val score: 0.85838, in 0.042s\n",
      "[45/1000] 1 tree, 44 leaves, max depth = 9, train score: 0.89747, val score: 0.85927, in 0.046s\n",
      "[46/1000] 1 tree, 44 leaves, max depth = 11, train score: 0.89805, val score: 0.85960, in 0.053s\n",
      "[47/1000] 1 tree, 44 leaves, max depth = 11, train score: 0.89832, val score: 0.85936, in 0.050s\n",
      "[48/1000] 1 tree, 44 leaves, max depth = 13, train score: 0.89930, val score: 0.86185, in 0.046s\n",
      "[49/1000] 1 tree, 44 leaves, max depth = 13, train score: 0.89943, val score: 0.86180, in 0.043s\n",
      "[50/1000] 1 tree, 44 leaves, max depth = 12, train score: 0.89968, val score: 0.86218, in 0.044s\n",
      "[51/1000] 1 tree, 44 leaves, max depth = 12, train score: 0.90004, val score: 0.86221, in 0.041s\n",
      "[52/1000] 1 tree, 44 leaves, max depth = 11, train score: 0.89986, val score: 0.86318, in 0.041s\n",
      "[53/1000] 1 tree, 44 leaves, max depth = 11, train score: 0.89989, val score: 0.86335, in 0.044s\n",
      "[54/1000] 1 tree, 44 leaves, max depth = 12, train score: 0.90095, val score: 0.86428, in 0.045s\n",
      "[55/1000] 1 tree, 44 leaves, max depth = 12, train score: 0.90106, val score: 0.86430, in 0.066s\n",
      "[56/1000] 1 tree, 44 leaves, max depth = 12, train score: 0.90138, val score: 0.86463, in 0.046s\n",
      "[57/1000] 1 tree, 44 leaves, max depth = 15, train score: 0.90171, val score: 0.86479, in 0.048s\n",
      "[58/1000] 1 tree, 44 leaves, max depth = 13, train score: 0.90227, val score: 0.86485, in 0.043s\n",
      "[59/1000] 1 tree, 44 leaves, max depth = 14, train score: 0.90294, val score: 0.86613, in 0.043s\n",
      "[60/1000] 1 tree, 44 leaves, max depth = 10, train score: 0.90283, val score: 0.86655, in 0.048s\n",
      "[61/1000] 1 tree, 44 leaves, max depth = 14, train score: 0.90327, val score: 0.86694, in 0.044s\n",
      "[62/1000] 1 tree, 44 leaves, max depth = 13, train score: 0.90362, val score: 0.86678, in 0.045s\n",
      "[63/1000] 1 tree, 44 leaves, max depth = 16, train score: 0.90435, val score: 0.86753, in 0.047s\n",
      "[64/1000] 1 tree, 44 leaves, max depth = 12, train score: 0.90462, val score: 0.86722, in 0.046s\n",
      "[65/1000] 1 tree, 44 leaves, max depth = 11, train score: 0.90487, val score: 0.86769, in 0.048s\n",
      "[66/1000] 1 tree, 44 leaves, max depth = 10, train score: 0.90575, val score: 0.86843, in 0.050s\n",
      "[67/1000] 1 tree, 44 leaves, max depth = 13, train score: 0.90636, val score: 0.86840, in 0.050s\n",
      "[68/1000] 1 tree, 44 leaves, max depth = 16, train score: 0.90679, val score: 0.86866, in 0.075s\n",
      "[69/1000] 1 tree, 44 leaves, max depth = 11, train score: 0.90766, val score: 0.86934, in 0.045s\n",
      "[70/1000] 1 tree, 44 leaves, max depth = 12, train score: 0.90853, val score: 0.87011, in 0.048s\n",
      "[71/1000] 1 tree, 44 leaves, max depth = 10, train score: 0.90905, val score: 0.87082, in 0.048s\n",
      "[72/1000] 1 tree, 44 leaves, max depth = 14, train score: 0.91027, val score: 0.87108, in 0.049s\n",
      "[73/1000] 1 tree, 44 leaves, max depth = 14, train score: 0.91062, val score: 0.87133, in 0.049s\n",
      "[74/1000] 1 tree, 44 leaves, max depth = 10, train score: 0.91134, val score: 0.87174, in 0.048s\n",
      "[75/1000] 1 tree, 44 leaves, max depth = 11, train score: 0.91181, val score: 0.87178, in 0.051s\n",
      "[76/1000] 1 tree, 44 leaves, max depth = 13, train score: 0.91254, val score: 0.87277, in 0.050s\n",
      "[77/1000] 1 tree, 44 leaves, max depth = 10, train score: 0.91343, val score: 0.87304, in 0.047s\n",
      "[78/1000] 1 tree, 44 leaves, max depth = 9, train score: 0.91387, val score: 0.87334, in 0.048s\n",
      "[79/1000] 1 tree, 44 leaves, max depth = 9, train score: 0.91460, val score: 0.87377, in 0.056s\n",
      "[80/1000] 1 tree, 44 leaves, max depth = 15, train score: 0.91511, val score: 0.87421, in 0.083s\n",
      "[81/1000] 1 tree, 44 leaves, max depth = 11, train score: 0.91549, val score: 0.87484, in 0.050s\n",
      "[82/1000] 1 tree, 44 leaves, max depth = 12, train score: 0.91578, val score: 0.87519, in 0.056s\n",
      "[83/1000] 1 tree, 44 leaves, max depth = 14, train score: 0.91615, val score: 0.87517, in 0.050s\n",
      "[84/1000] 1 tree, 44 leaves, max depth = 11, train score: 0.91724, val score: 0.87515, in 0.052s\n"
     ]
    },
    {
     "name": "stdout",
     "output_type": "stream",
     "text": [
      "[85/1000] 1 tree, 44 leaves, max depth = 10, train score: 0.91802, val score: 0.87532, in 0.056s\n",
      "[86/1000] 1 tree, 44 leaves, max depth = 14, train score: 0.91856, val score: 0.87588, in 0.053s\n",
      "[87/1000] 1 tree, 44 leaves, max depth = 11, train score: 0.91921, val score: 0.87633, in 0.061s\n",
      "[88/1000] 1 tree, 44 leaves, max depth = 12, train score: 0.91978, val score: 0.87620, in 0.054s\n",
      "[89/1000] 1 tree, 44 leaves, max depth = 11, train score: 0.92020, val score: 0.87660, in 0.052s\n",
      "[90/1000] 1 tree, 44 leaves, max depth = 11, train score: 0.92077, val score: 0.87683, in 0.052s\n",
      "[91/1000] 1 tree, 44 leaves, max depth = 14, train score: 0.92135, val score: 0.87690, in 0.054s\n",
      "[92/1000] 1 tree, 44 leaves, max depth = 15, train score: 0.92170, val score: 0.87721, in 0.082s\n",
      "[93/1000] 1 tree, 44 leaves, max depth = 13, train score: 0.92207, val score: 0.87749, in 0.048s\n",
      "[94/1000] 1 tree, 44 leaves, max depth = 12, train score: 0.92261, val score: 0.87733, in 0.060s\n",
      "[95/1000] 1 tree, 44 leaves, max depth = 12, train score: 0.92317, val score: 0.87763, in 0.054s\n",
      "[96/1000] 1 tree, 44 leaves, max depth = 13, train score: 0.92365, val score: 0.87766, in 0.058s\n",
      "[97/1000] 1 tree, 44 leaves, max depth = 12, train score: 0.92392, val score: 0.87782, in 0.056s\n",
      "[98/1000] 1 tree, 44 leaves, max depth = 11, train score: 0.92499, val score: 0.87782, in 0.059s\n",
      "[99/1000] 1 tree, 44 leaves, max depth = 12, train score: 0.92564, val score: 0.87809, in 0.059s\n",
      "[100/1000] 1 tree, 44 leaves, max depth = 12, train score: 0.92618, val score: 0.87834, in 0.067s\n",
      "[101/1000] 1 tree, 44 leaves, max depth = 11, train score: 0.92670, val score: 0.87884, in 0.059s\n",
      "[102/1000] 1 tree, 44 leaves, max depth = 13, train score: 0.92734, val score: 0.87856, in 0.057s\n",
      "[103/1000] 1 tree, 44 leaves, max depth = 11, train score: 0.92790, val score: 0.87908, in 0.065s\n",
      "[104/1000] 1 tree, 44 leaves, max depth = 13, train score: 0.92853, val score: 0.87888, in 0.066s\n",
      "[105/1000] 1 tree, 44 leaves, max depth = 11, train score: 0.92938, val score: 0.87957, in 0.085s\n",
      "[106/1000] 1 tree, 44 leaves, max depth = 14, train score: 0.93018, val score: 0.87962, in 0.167s\n",
      "[107/1000] 1 tree, 44 leaves, max depth = 11, train score: 0.93089, val score: 0.88019, in 0.061s\n",
      "[108/1000] 1 tree, 44 leaves, max depth = 16, train score: 0.93151, val score: 0.88033, in 0.059s\n",
      "[109/1000] 1 tree, 44 leaves, max depth = 14, train score: 0.93201, val score: 0.88088, in 0.062s\n",
      "[110/1000] 1 tree, 44 leaves, max depth = 13, train score: 0.93238, val score: 0.88117, in 0.058s\n",
      "[111/1000] 1 tree, 44 leaves, max depth = 13, train score: 0.93296, val score: 0.88144, in 0.065s\n",
      "[112/1000] 1 tree, 44 leaves, max depth = 16, train score: 0.93364, val score: 0.88155, in 0.063s\n",
      "[113/1000] 1 tree, 44 leaves, max depth = 15, train score: 0.93428, val score: 0.88177, in 0.060s\n",
      "[114/1000] 1 tree, 44 leaves, max depth = 12, train score: 0.93460, val score: 0.88179, in 0.066s\n",
      "[115/1000] 1 tree, 44 leaves, max depth = 11, train score: 0.93495, val score: 0.88198, in 0.066s\n",
      "[116/1000] 1 tree, 44 leaves, max depth = 14, train score: 0.93544, val score: 0.88230, in 0.064s\n",
      "[117/1000] 1 tree, 44 leaves, max depth = 13, train score: 0.93577, val score: 0.88245, in 0.060s\n",
      "[118/1000] 1 tree, 44 leaves, max depth = 15, train score: 0.93641, val score: 0.88271, in 0.095s\n",
      "[119/1000] 1 tree, 44 leaves, max depth = 11, train score: 0.93701, val score: 0.88308, in 0.068s\n",
      "[120/1000] 1 tree, 44 leaves, max depth = 13, train score: 0.93738, val score: 0.88361, in 0.064s\n",
      "[121/1000] 1 tree, 44 leaves, max depth = 13, train score: 0.93790, val score: 0.88382, in 0.067s\n",
      "[122/1000] 1 tree, 44 leaves, max depth = 13, train score: 0.93834, val score: 0.88401, in 0.065s\n",
      "[123/1000] 1 tree, 44 leaves, max depth = 13, train score: 0.93895, val score: 0.88417, in 0.066s\n",
      "[124/1000] 1 tree, 44 leaves, max depth = 17, train score: 0.93946, val score: 0.88410, in 0.065s\n",
      "[125/1000] 1 tree, 44 leaves, max depth = 10, train score: 0.94005, val score: 0.88420, in 0.068s\n",
      "[126/1000] 1 tree, 44 leaves, max depth = 13, train score: 0.94065, val score: 0.88430, in 0.065s\n",
      "[127/1000] 1 tree, 44 leaves, max depth = 16, train score: 0.94114, val score: 0.88421, in 0.063s\n",
      "[128/1000] 1 tree, 44 leaves, max depth = 10, train score: 0.94170, val score: 0.88399, in 0.066s\n",
      "[129/1000] 1 tree, 44 leaves, max depth = 14, train score: 0.94218, val score: 0.88435, in 0.070s\n",
      "[130/1000] 1 tree, 44 leaves, max depth = 15, train score: 0.94265, val score: 0.88478, in 0.096s\n",
      "[131/1000] 1 tree, 44 leaves, max depth = 13, train score: 0.94306, val score: 0.88480, in 0.069s\n",
      "[132/1000] 1 tree, 44 leaves, max depth = 14, train score: 0.94338, val score: 0.88506, in 0.068s\n",
      "[133/1000] 1 tree, 44 leaves, max depth = 12, train score: 0.94400, val score: 0.88521, in 0.067s\n",
      "[134/1000] 1 tree, 44 leaves, max depth = 14, train score: 0.94431, val score: 0.88537, in 0.066s\n",
      "[135/1000] 1 tree, 44 leaves, max depth = 12, train score: 0.94472, val score: 0.88559, in 0.078s\n",
      "[136/1000] 1 tree, 44 leaves, max depth = 13, train score: 0.94517, val score: 0.88569, in 0.071s\n",
      "[137/1000] 1 tree, 44 leaves, max depth = 16, train score: 0.94539, val score: 0.88597, in 0.070s\n",
      "[138/1000] 1 tree, 44 leaves, max depth = 9, train score: 0.94601, val score: 0.88585, in 0.071s\n",
      "[139/1000] 1 tree, 44 leaves, max depth = 13, train score: 0.94645, val score: 0.88593, in 0.070s\n",
      "[140/1000] 1 tree, 44 leaves, max depth = 14, train score: 0.94688, val score: 0.88589, in 0.071s\n",
      "[141/1000] 1 tree, 44 leaves, max depth = 14, train score: 0.94723, val score: 0.88594, in 0.072s\n",
      "[142/1000] 1 tree, 44 leaves, max depth = 10, train score: 0.94765, val score: 0.88597, in 0.074s\n",
      "[143/1000] 1 tree, 44 leaves, max depth = 12, train score: 0.94810, val score: 0.88603, in 0.097s\n",
      "[144/1000] 1 tree, 44 leaves, max depth = 14, train score: 0.94846, val score: 0.88609, in 0.073s\n",
      "[145/1000] 1 tree, 44 leaves, max depth = 11, train score: 0.94918, val score: 0.88664, in 0.074s\n",
      "[146/1000] 1 tree, 44 leaves, max depth = 12, train score: 0.94956, val score: 0.88648, in 0.076s\n",
      "[147/1000] 1 tree, 44 leaves, max depth = 11, train score: 0.94982, val score: 0.88681, in 0.082s\n",
      "[148/1000] 1 tree, 44 leaves, max depth = 14, train score: 0.95017, val score: 0.88696, in 0.073s\n",
      "[149/1000] 1 tree, 44 leaves, max depth = 13, train score: 0.95042, val score: 0.88685, in 0.081s\n",
      "[150/1000] 1 tree, 44 leaves, max depth = 14, train score: 0.95079, val score: 0.88687, in 0.080s\n",
      "[151/1000] 1 tree, 44 leaves, max depth = 14, train score: 0.95126, val score: 0.88682, in 0.077s\n",
      "[152/1000] 1 tree, 44 leaves, max depth = 12, train score: 0.95158, val score: 0.88682, in 0.074s\n",
      "[153/1000] 1 tree, 44 leaves, max depth = 18, train score: 0.95210, val score: 0.88700, in 0.086s\n",
      "[154/1000] 1 tree, 44 leaves, max depth = 14, train score: 0.95238, val score: 0.88705, in 0.077s\n",
      "[155/1000] 1 tree, 44 leaves, max depth = 20, train score: 0.95275, val score: 0.88730, in 0.104s\n",
      "[156/1000] 1 tree, 44 leaves, max depth = 13, train score: 0.95312, val score: 0.88751, in 0.080s\n",
      "[157/1000] 1 tree, 44 leaves, max depth = 14, train score: 0.95336, val score: 0.88757, in 0.074s\n",
      "[158/1000] 1 tree, 44 leaves, max depth = 13, train score: 0.95379, val score: 0.88766, in 0.090s\n",
      "[159/1000] 1 tree, 44 leaves, max depth = 13, train score: 0.95398, val score: 0.88773, in 0.081s\n",
      "[160/1000] 1 tree, 44 leaves, max depth = 14, train score: 0.95420, val score: 0.88770, in 0.076s\n",
      "[161/1000] 1 tree, 44 leaves, max depth = 10, train score: 0.95437, val score: 0.88754, in 0.079s\n",
      "[162/1000] 1 tree, 44 leaves, max depth = 19, train score: 0.95467, val score: 0.88774, in 0.079s\n",
      "[163/1000] 1 tree, 44 leaves, max depth = 12, train score: 0.95493, val score: 0.88773, in 0.089s\n",
      "[164/1000] 1 tree, 44 leaves, max depth = 12, train score: 0.95522, val score: 0.88767, in 0.079s\n",
      "[165/1000] 1 tree, 44 leaves, max depth = 15, train score: 0.95572, val score: 0.88789, in 0.091s\n",
      "[166/1000] 1 tree, 44 leaves, max depth = 14, train score: 0.95601, val score: 0.88788, in 0.082s\n",
      "[167/1000] 1 tree, 44 leaves, max depth = 15, train score: 0.95665, val score: 0.88855, in 0.080s\n",
      "[168/1000] 1 tree, 44 leaves, max depth = 14, train score: 0.95687, val score: 0.88861, in 0.210s\n"
     ]
    },
    {
     "name": "stdout",
     "output_type": "stream",
     "text": [
      "[169/1000] 1 tree, 44 leaves, max depth = 11, train score: 0.95712, val score: 0.88853, in 0.081s\n",
      "[170/1000] 1 tree, 44 leaves, max depth = 17, train score: 0.95739, val score: 0.88869, in 0.080s\n",
      "[171/1000] 1 tree, 44 leaves, max depth = 12, train score: 0.95761, val score: 0.88912, in 0.085s\n",
      "[172/1000] 1 tree, 44 leaves, max depth = 16, train score: 0.95779, val score: 0.88919, in 0.080s\n",
      "[173/1000] 1 tree, 44 leaves, max depth = 14, train score: 0.95795, val score: 0.88926, in 0.083s\n",
      "[174/1000] 1 tree, 44 leaves, max depth = 14, train score: 0.95814, val score: 0.88936, in 0.082s\n",
      "[175/1000] 1 tree, 44 leaves, max depth = 12, train score: 0.95837, val score: 0.88932, in 0.083s\n",
      "[176/1000] 1 tree, 44 leaves, max depth = 13, train score: 0.95857, val score: 0.88931, in 0.092s\n",
      "[177/1000] 1 tree, 44 leaves, max depth = 16, train score: 0.95867, val score: 0.88969, in 0.087s\n",
      "[178/1000] 1 tree, 44 leaves, max depth = 14, train score: 0.95886, val score: 0.88960, in 0.086s\n",
      "[179/1000] 1 tree, 44 leaves, max depth = 14, train score: 0.95899, val score: 0.88970, in 0.091s\n",
      "[180/1000] 1 tree, 44 leaves, max depth = 11, train score: 0.95915, val score: 0.88978, in 0.234s\n",
      "[181/1000] 1 tree, 44 leaves, max depth = 15, train score: 0.95932, val score: 0.88986, in 0.160s\n",
      "[182/1000] 1 tree, 44 leaves, max depth = 13, train score: 0.95954, val score: 0.89002, in 0.095s\n",
      "[183/1000] 1 tree, 44 leaves, max depth = 15, train score: 0.95980, val score: 0.88996, in 0.082s\n",
      "[184/1000] 1 tree, 44 leaves, max depth = 15, train score: 0.95993, val score: 0.89008, in 0.087s\n",
      "[185/1000] 1 tree, 44 leaves, max depth = 14, train score: 0.96007, val score: 0.88991, in 0.085s\n",
      "[186/1000] 1 tree, 44 leaves, max depth = 11, train score: 0.96051, val score: 0.89052, in 0.088s\n",
      "[187/1000] 1 tree, 44 leaves, max depth = 13, train score: 0.96074, val score: 0.89048, in 0.095s\n",
      "[188/1000] 1 tree, 44 leaves, max depth = 12, train score: 0.96090, val score: 0.89060, in 0.087s\n",
      "[189/1000] 1 tree, 44 leaves, max depth = 12, train score: 0.96108, val score: 0.89060, in 0.089s\n",
      "[190/1000] 1 tree, 44 leaves, max depth = 14, train score: 0.96113, val score: 0.89061, in 0.091s\n",
      "[191/1000] 1 tree, 44 leaves, max depth = 14, train score: 0.96122, val score: 0.89051, in 0.091s\n",
      "[192/1000] 1 tree, 44 leaves, max depth = 14, train score: 0.96144, val score: 0.89066, in 0.090s\n",
      "[193/1000] 1 tree, 44 leaves, max depth = 9, train score: 0.96173, val score: 0.89112, in 0.117s\n",
      "[194/1000] 1 tree, 44 leaves, max depth = 10, train score: 0.96199, val score: 0.89155, in 0.090s\n",
      "[195/1000] 1 tree, 44 leaves, max depth = 11, train score: 0.96238, val score: 0.89212, in 0.092s\n",
      "[196/1000] 1 tree, 44 leaves, max depth = 16, train score: 0.96255, val score: 0.89214, in 0.096s\n",
      "[197/1000] 1 tree, 44 leaves, max depth = 13, train score: 0.96279, val score: 0.89244, in 0.094s\n",
      "[198/1000] 1 tree, 44 leaves, max depth = 14, train score: 0.96296, val score: 0.89248, in 0.094s\n",
      "[199/1000] 1 tree, 44 leaves, max depth = 11, train score: 0.96337, val score: 0.89280, in 0.096s\n",
      "[200/1000] 1 tree, 44 leaves, max depth = 13, train score: 0.96354, val score: 0.89299, in 0.091s\n",
      "[201/1000] 1 tree, 44 leaves, max depth = 14, train score: 0.96384, val score: 0.89309, in 0.102s\n",
      "[202/1000] 1 tree, 44 leaves, max depth = 17, train score: 0.96397, val score: 0.89312, in 0.093s\n",
      "[203/1000] 1 tree, 44 leaves, max depth = 15, train score: 0.96417, val score: 0.89327, in 0.097s\n",
      "[204/1000] 1 tree, 44 leaves, max depth = 11, train score: 0.96437, val score: 0.89369, in 0.095s\n",
      "[205/1000] 1 tree, 44 leaves, max depth = 13, train score: 0.96451, val score: 0.89368, in 0.125s\n",
      "[206/1000] 1 tree, 44 leaves, max depth = 12, train score: 0.96470, val score: 0.89390, in 0.102s\n",
      "[207/1000] 1 tree, 44 leaves, max depth = 19, train score: 0.96492, val score: 0.89387, in 0.096s\n",
      "[208/1000] 1 tree, 44 leaves, max depth = 13, train score: 0.96521, val score: 0.89438, in 0.092s\n",
      "[209/1000] 1 tree, 44 leaves, max depth = 13, train score: 0.96544, val score: 0.89451, in 0.094s\n",
      "[210/1000] 1 tree, 44 leaves, max depth = 13, train score: 0.96550, val score: 0.89455, in 0.104s\n",
      "[211/1000] 1 tree, 44 leaves, max depth = 11, train score: 0.96562, val score: 0.89459, in 0.097s\n",
      "[212/1000] 1 tree, 44 leaves, max depth = 15, train score: 0.96585, val score: 0.89488, in 0.097s\n",
      "[213/1000] 1 tree, 44 leaves, max depth = 13, train score: 0.96601, val score: 0.89510, in 0.097s\n",
      "[214/1000] 1 tree, 44 leaves, max depth = 12, train score: 0.96612, val score: 0.89516, in 0.102s\n",
      "[215/1000] 1 tree, 44 leaves, max depth = 12, train score: 0.96629, val score: 0.89530, in 0.101s\n",
      "[216/1000] 1 tree, 44 leaves, max depth = 13, train score: 0.96641, val score: 0.89549, in 0.097s\n",
      "[217/1000] 1 tree, 44 leaves, max depth = 13, train score: 0.96658, val score: 0.89558, in 0.132s\n",
      "[218/1000] 1 tree, 44 leaves, max depth = 12, train score: 0.96675, val score: 0.89566, in 0.102s\n",
      "[219/1000] 1 tree, 44 leaves, max depth = 12, train score: 0.96699, val score: 0.89579, in 0.104s\n",
      "[220/1000] 1 tree, 44 leaves, max depth = 13, train score: 0.96716, val score: 0.89605, in 0.101s\n",
      "[221/1000] 1 tree, 44 leaves, max depth = 8, train score: 0.96729, val score: 0.89630, in 0.117s\n",
      "[222/1000] 1 tree, 44 leaves, max depth = 10, train score: 0.96748, val score: 0.89648, in 0.101s\n",
      "[223/1000] 1 tree, 44 leaves, max depth = 14, train score: 0.96761, val score: 0.89659, in 0.104s\n",
      "[224/1000] 1 tree, 44 leaves, max depth = 13, train score: 0.96771, val score: 0.89670, in 0.100s\n",
      "[225/1000] 1 tree, 44 leaves, max depth = 14, train score: 0.96791, val score: 0.89672, in 0.109s\n",
      "[226/1000] 1 tree, 44 leaves, max depth = 12, train score: 0.96812, val score: 0.89693, in 0.104s\n",
      "[227/1000] 1 tree, 44 leaves, max depth = 16, train score: 0.96826, val score: 0.89704, in 0.104s\n",
      "[228/1000] 1 tree, 44 leaves, max depth = 13, train score: 0.96850, val score: 0.89694, in 0.104s\n",
      "[229/1000] 1 tree, 44 leaves, max depth = 14, train score: 0.96871, val score: 0.89694, in 0.111s\n",
      "[230/1000] 1 tree, 44 leaves, max depth = 15, train score: 0.96891, val score: 0.89703, in 0.133s\n",
      "[231/1000] 1 tree, 44 leaves, max depth = 14, train score: 0.96899, val score: 0.89721, in 0.113s\n",
      "[232/1000] 1 tree, 44 leaves, max depth = 13, train score: 0.96909, val score: 0.89726, in 0.111s\n",
      "[233/1000] 1 tree, 44 leaves, max depth = 16, train score: 0.96925, val score: 0.89733, in 0.108s\n",
      "[234/1000] 1 tree, 44 leaves, max depth = 14, train score: 0.96942, val score: 0.89736, in 0.108s\n",
      "[235/1000] 1 tree, 44 leaves, max depth = 13, train score: 0.96949, val score: 0.89746, in 0.107s\n",
      "[236/1000] 1 tree, 44 leaves, max depth = 12, train score: 0.96959, val score: 0.89754, in 0.116s\n",
      "[237/1000] 1 tree, 44 leaves, max depth = 13, train score: 0.96975, val score: 0.89768, in 0.107s\n",
      "[238/1000] 1 tree, 44 leaves, max depth = 14, train score: 0.96994, val score: 0.89752, in 0.111s\n",
      "[239/1000] 1 tree, 44 leaves, max depth = 16, train score: 0.97007, val score: 0.89759, in 0.099s\n",
      "[240/1000] 1 tree, 44 leaves, max depth = 17, train score: 0.97016, val score: 0.89765, in 0.115s\n",
      "[241/1000] 1 tree, 44 leaves, max depth = 12, train score: 0.97029, val score: 0.89778, in 0.109s\n",
      "[242/1000] 1 tree, 44 leaves, max depth = 18, train score: 0.97045, val score: 0.89795, in 0.134s\n",
      "[243/1000] 1 tree, 44 leaves, max depth = 11, train score: 0.97053, val score: 0.89806, in 0.106s\n",
      "[244/1000] 1 tree, 44 leaves, max depth = 15, train score: 0.97067, val score: 0.89824, in 0.114s\n",
      "[245/1000] 1 tree, 44 leaves, max depth = 13, train score: 0.97081, val score: 0.89833, in 0.107s\n",
      "[246/1000] 1 tree, 44 leaves, max depth = 13, train score: 0.97092, val score: 0.89823, in 0.113s\n",
      "[247/1000] 1 tree, 44 leaves, max depth = 9, train score: 0.97108, val score: 0.89809, in 0.113s\n",
      "[248/1000] 1 tree, 44 leaves, max depth = 13, train score: 0.97125, val score: 0.89822, in 0.110s\n",
      "[249/1000] 1 tree, 44 leaves, max depth = 11, train score: 0.97139, val score: 0.89829, in 0.110s\n",
      "[250/1000] 1 tree, 44 leaves, max depth = 14, train score: 0.97158, val score: 0.89831, in 0.113s\n",
      "[251/1000] 1 tree, 44 leaves, max depth = 14, train score: 0.97173, val score: 0.89838, in 0.108s\n",
      "[252/1000] 1 tree, 44 leaves, max depth = 12, train score: 0.97185, val score: 0.89856, in 0.125s\n"
     ]
    },
    {
     "name": "stdout",
     "output_type": "stream",
     "text": [
      "[253/1000] 1 tree, 44 leaves, max depth = 13, train score: 0.97196, val score: 0.89860, in 0.109s\n",
      "[254/1000] 1 tree, 44 leaves, max depth = 18, train score: 0.97209, val score: 0.89869, in 0.111s\n",
      "[255/1000] 1 tree, 44 leaves, max depth = 13, train score: 0.97219, val score: 0.89869, in 0.142s\n",
      "[256/1000] 1 tree, 44 leaves, max depth = 14, train score: 0.97227, val score: 0.89888, in 0.111s\n",
      "[257/1000] 1 tree, 44 leaves, max depth = 10, train score: 0.97241, val score: 0.89888, in 0.114s\n",
      "[258/1000] 1 tree, 44 leaves, max depth = 13, train score: 0.97251, val score: 0.89919, in 0.115s\n",
      "[259/1000] 1 tree, 44 leaves, max depth = 19, train score: 0.97257, val score: 0.89920, in 0.118s\n",
      "[260/1000] 1 tree, 44 leaves, max depth = 16, train score: 0.97264, val score: 0.89933, in 0.116s\n",
      "[261/1000] 1 tree, 44 leaves, max depth = 9, train score: 0.97282, val score: 0.89929, in 0.114s\n",
      "[262/1000] 1 tree, 44 leaves, max depth = 17, train score: 0.97297, val score: 0.89930, in 0.121s\n",
      "[263/1000] 1 tree, 44 leaves, max depth = 12, train score: 0.97309, val score: 0.89929, in 0.114s\n",
      "[264/1000] 1 tree, 44 leaves, max depth = 11, train score: 0.97321, val score: 0.89947, in 0.120s\n",
      "[265/1000] 1 tree, 44 leaves, max depth = 14, train score: 0.97331, val score: 0.89956, in 0.111s\n",
      "[266/1000] 1 tree, 44 leaves, max depth = 14, train score: 0.97340, val score: 0.89956, in 0.125s\n",
      "[267/1000] 1 tree, 44 leaves, max depth = 14, train score: 0.97357, val score: 0.89970, in 0.145s\n",
      "[268/1000] 1 tree, 44 leaves, max depth = 12, train score: 0.97369, val score: 0.89983, in 0.115s\n",
      "[269/1000] 1 tree, 44 leaves, max depth = 14, train score: 0.97380, val score: 0.89992, in 0.120s\n",
      "[270/1000] 1 tree, 44 leaves, max depth = 15, train score: 0.97394, val score: 0.90006, in 0.118s\n",
      "[271/1000] 1 tree, 44 leaves, max depth = 11, train score: 0.97409, val score: 0.90028, in 0.117s\n",
      "[272/1000] 1 tree, 44 leaves, max depth = 11, train score: 0.97418, val score: 0.90044, in 0.131s\n",
      "[273/1000] 1 tree, 44 leaves, max depth = 16, train score: 0.97428, val score: 0.90045, in 0.115s\n",
      "[274/1000] 1 tree, 44 leaves, max depth = 14, train score: 0.97435, val score: 0.90077, in 0.115s\n",
      "[275/1000] 1 tree, 44 leaves, max depth = 13, train score: 0.97451, val score: 0.90086, in 0.130s\n",
      "[276/1000] 1 tree, 44 leaves, max depth = 12, train score: 0.97458, val score: 0.90087, in 0.120s\n",
      "[277/1000] 1 tree, 44 leaves, max depth = 10, train score: 0.97468, val score: 0.90079, in 0.116s\n",
      "[278/1000] 1 tree, 44 leaves, max depth = 15, train score: 0.97496, val score: 0.90083, in 0.132s\n",
      "[279/1000] 1 tree, 44 leaves, max depth = 11, train score: 0.97504, val score: 0.90087, in 0.119s\n",
      "[280/1000] 1 tree, 44 leaves, max depth = 13, train score: 0.97510, val score: 0.90095, in 0.150s\n",
      "[281/1000] 1 tree, 44 leaves, max depth = 13, train score: 0.97519, val score: 0.90088, in 0.118s\n",
      "[282/1000] 1 tree, 44 leaves, max depth = 13, train score: 0.97535, val score: 0.90099, in 0.128s\n",
      "[283/1000] 1 tree, 44 leaves, max depth = 14, train score: 0.97541, val score: 0.90113, in 0.181s\n",
      "[284/1000] 1 tree, 44 leaves, max depth = 13, train score: 0.97556, val score: 0.90121, in 0.128s\n",
      "[285/1000] 1 tree, 44 leaves, max depth = 13, train score: 0.97561, val score: 0.90121, in 0.137s\n",
      "[286/1000] 1 tree, 44 leaves, max depth = 15, train score: 0.97571, val score: 0.90138, in 0.127s\n",
      "[287/1000] 1 tree, 44 leaves, max depth = 12, train score: 0.97590, val score: 0.90140, in 0.121s\n",
      "[288/1000] 1 tree, 44 leaves, max depth = 10, train score: 0.97607, val score: 0.90158, in 0.128s\n",
      "[289/1000] 1 tree, 44 leaves, max depth = 12, train score: 0.97614, val score: 0.90154, in 0.118s\n",
      "[290/1000] 1 tree, 44 leaves, max depth = 12, train score: 0.97629, val score: 0.90175, in 0.124s\n",
      "[291/1000] 1 tree, 44 leaves, max depth = 12, train score: 0.97637, val score: 0.90170, in 0.125s\n",
      "[292/1000] 1 tree, 44 leaves, max depth = 15, train score: 0.97651, val score: 0.90169, in 0.170s\n",
      "[293/1000] 1 tree, 44 leaves, max depth = 16, train score: 0.97656, val score: 0.90180, in 0.126s\n",
      "[294/1000] 1 tree, 44 leaves, max depth = 13, train score: 0.97665, val score: 0.90209, in 0.125s\n",
      "[295/1000] 1 tree, 44 leaves, max depth = 9, train score: 0.97675, val score: 0.90213, in 0.134s\n",
      "[296/1000] 1 tree, 44 leaves, max depth = 14, train score: 0.97680, val score: 0.90212, in 0.128s\n",
      "[297/1000] 1 tree, 44 leaves, max depth = 16, train score: 0.97689, val score: 0.90212, in 0.125s\n",
      "[298/1000] 1 tree, 44 leaves, max depth = 14, train score: 0.97695, val score: 0.90210, in 0.138s\n",
      "[299/1000] 1 tree, 44 leaves, max depth = 15, train score: 0.97708, val score: 0.90212, in 0.131s\n",
      "[300/1000] 1 tree, 44 leaves, max depth = 13, train score: 0.97713, val score: 0.90207, in 0.125s\n",
      "[301/1000] 1 tree, 44 leaves, max depth = 10, train score: 0.97727, val score: 0.90227, in 0.147s\n",
      "[302/1000] 1 tree, 44 leaves, max depth = 14, train score: 0.97738, val score: 0.90227, in 0.135s\n",
      "[303/1000] 1 tree, 44 leaves, max depth = 14, train score: 0.97745, val score: 0.90229, in 0.129s\n",
      "[304/1000] 1 tree, 44 leaves, max depth = 12, train score: 0.97757, val score: 0.90250, in 0.171s\n",
      "[305/1000] 1 tree, 44 leaves, max depth = 11, train score: 0.97761, val score: 0.90252, in 0.124s\n",
      "[306/1000] 1 tree, 44 leaves, max depth = 15, train score: 0.97770, val score: 0.90253, in 0.258s\n",
      "[307/1000] 1 tree, 44 leaves, max depth = 14, train score: 0.97770, val score: 0.90236, in 0.128s\n",
      "[308/1000] 1 tree, 44 leaves, max depth = 16, train score: 0.97777, val score: 0.90247, in 0.134s\n",
      "[309/1000] 1 tree, 44 leaves, max depth = 17, train score: 0.97779, val score: 0.90246, in 0.134s\n",
      "[310/1000] 1 tree, 44 leaves, max depth = 14, train score: 0.97788, val score: 0.90235, in 0.135s\n",
      "[311/1000] 1 tree, 44 leaves, max depth = 11, train score: 0.97798, val score: 0.90241, in 0.128s\n",
      "[312/1000] 1 tree, 44 leaves, max depth = 13, train score: 0.97810, val score: 0.90254, in 0.148s\n",
      "[313/1000] 1 tree, 44 leaves, max depth = 11, train score: 0.97828, val score: 0.90270, in 0.128s\n",
      "[314/1000] 1 tree, 44 leaves, max depth = 9, train score: 0.97837, val score: 0.90290, in 0.131s\n",
      "[315/1000] 1 tree, 44 leaves, max depth = 10, train score: 0.97842, val score: 0.90305, in 0.164s\n",
      "[316/1000] 1 tree, 44 leaves, max depth = 12, train score: 0.97847, val score: 0.90307, in 0.129s\n",
      "[317/1000] 1 tree, 44 leaves, max depth = 12, train score: 0.97860, val score: 0.90309, in 0.137s\n",
      "[318/1000] 1 tree, 44 leaves, max depth = 15, train score: 0.97868, val score: 0.90311, in 0.161s\n",
      "[319/1000] 1 tree, 44 leaves, max depth = 16, train score: 0.97883, val score: 0.90313, in 0.128s\n",
      "[320/1000] 1 tree, 44 leaves, max depth = 13, train score: 0.97888, val score: 0.90323, in 0.129s\n",
      "[321/1000] 1 tree, 44 leaves, max depth = 11, train score: 0.97907, val score: 0.90331, in 0.132s\n",
      "[322/1000] 1 tree, 44 leaves, max depth = 10, train score: 0.97912, val score: 0.90342, in 0.133s\n",
      "[323/1000] 1 tree, 44 leaves, max depth = 12, train score: 0.97925, val score: 0.90325, in 0.144s\n",
      "[324/1000] 1 tree, 44 leaves, max depth = 12, train score: 0.97931, val score: 0.90327, in 0.134s\n",
      "[325/1000] 1 tree, 44 leaves, max depth = 13, train score: 0.97950, val score: 0.90316, in 0.140s\n",
      "[326/1000] 1 tree, 44 leaves, max depth = 11, train score: 0.97955, val score: 0.90318, in 0.133s\n",
      "[327/1000] 1 tree, 44 leaves, max depth = 12, train score: 0.97963, val score: 0.90333, in 0.132s\n",
      "[328/1000] 1 tree, 44 leaves, max depth = 11, train score: 0.97970, val score: 0.90344, in 0.150s\n",
      "[329/1000] 1 tree, 44 leaves, max depth = 15, train score: 0.97977, val score: 0.90350, in 0.133s\n",
      "[330/1000] 1 tree, 44 leaves, max depth = 12, train score: 0.97979, val score: 0.90361, in 0.163s\n",
      "[331/1000] 1 tree, 44 leaves, max depth = 12, train score: 0.97983, val score: 0.90373, in 0.142s\n",
      "[332/1000] 1 tree, 44 leaves, max depth = 12, train score: 0.97993, val score: 0.90371, in 0.130s\n",
      "[333/1000] 1 tree, 44 leaves, max depth = 14, train score: 0.97996, val score: 0.90370, in 0.132s\n",
      "[334/1000] 1 tree, 44 leaves, max depth = 14, train score: 0.98002, val score: 0.90378, in 0.144s\n",
      "[335/1000] 1 tree, 44 leaves, max depth = 12, train score: 0.98006, val score: 0.90386, in 0.137s\n",
      "[336/1000] 1 tree, 44 leaves, max depth = 15, train score: 0.98015, val score: 0.90387, in 0.133s\n"
     ]
    },
    {
     "name": "stdout",
     "output_type": "stream",
     "text": [
      "[337/1000] 1 tree, 44 leaves, max depth = 22, train score: 0.98030, val score: 0.90378, in 0.147s\n",
      "[338/1000] 1 tree, 44 leaves, max depth = 12, train score: 0.98043, val score: 0.90372, in 0.141s\n",
      "[339/1000] 1 tree, 44 leaves, max depth = 15, train score: 0.98051, val score: 0.90372, in 0.144s\n",
      "[340/1000] 1 tree, 44 leaves, max depth = 15, train score: 0.98059, val score: 0.90356, in 0.134s\n",
      "[341/1000] 1 tree, 44 leaves, max depth = 15, train score: 0.98067, val score: 0.90360, in 0.144s\n",
      "[342/1000] 1 tree, 44 leaves, max depth = 13, train score: 0.98082, val score: 0.90374, in 0.140s\n",
      "[343/1000] 1 tree, 44 leaves, max depth = 22, train score: 0.98089, val score: 0.90360, in 0.168s\n",
      "[344/1000] 1 tree, 44 leaves, max depth = 13, train score: 0.98093, val score: 0.90347, in 0.140s\n",
      "[345/1000] 1 tree, 44 leaves, max depth = 12, train score: 0.98102, val score: 0.90354, in 0.151s\n",
      "[346/1000] 1 tree, 44 leaves, max depth = 14, train score: 0.98105, val score: 0.90346, in 0.169s\n",
      "Fit 346 trees in 32.522 s, (15224 total leaves)\n",
      "Time spent computing histograms: 5.559s\n",
      "Time spent finding best splits:  2.144s\n",
      "Time spent applying splits:      2.647s\n",
      "Time spent predicting:           0.075s\n",
      "CPU times: user 3min 31s, sys: 17.8 s, total: 3min 49s\n",
      "Wall time: 33 s\n"
     ]
    },
    {
     "data": {
      "text/plain": [
       "(0.9746698614946053, 0.8975705249163175)"
      ]
     },
     "execution_count": 14,
     "metadata": {},
     "output_type": "execute_result"
    }
   ],
   "source": [
    "%%time\n",
    "clf = HistGradientBoostingClassifier(loss='binary_crossentropy', verbose=1, l2_regularization=2.4,\n",
    "                             learning_rate=0.03, max_depth=25, max_iter=1000, max_leaf_nodes=44,\n",
    "                             min_samples_leaf=8,  scoring='roc_auc', tol=1e-8)\n",
    "clf.fit(xs_imp, y)\n",
    "m_roc(y, xs_imp), m_roc(valid_y, valid_xs_imp)"
   ]
  },
  {
   "cell_type": "markdown",
   "metadata": {},
   "source": [
    "### Hyperparameter tuning"
   ]
  },
  {
   "cell_type": "markdown",
   "metadata": {},
   "source": [
    "Hyperparameters were tuned interatively. Using both GridSearchCV and RandomizedGridSearchCV. RandomizedGridSearchCV was used for all 5 sets of parameters, than the final parameter set was double checked using GridSearchCV. Only the final results are displayed in the notenbook."
   ]
  },
  {
   "cell_type": "code",
   "execution_count": 16,
   "metadata": {},
   "outputs": [],
   "source": [
    "parameters1 = {\n",
    " 'learning_rate': [0.01, 0.1, 10],\n",
    " 'max_depth': [None, 25],\n",
    " 'l2_regularization': [0.0, 3.0],\n",
    " 'max_leaf_nodes': [10, 100, None],\n",
    " 'min_samples_leaf': [1, 10, 100],\n",
    " 'random_state': [33],\n",
    " }"
   ]
  },
  {
   "cell_type": "code",
   "execution_count": 50,
   "metadata": {},
   "outputs": [],
   "source": [
    "parameters2 = {\n",
    " 'learning_rate': [0.1, 0.2, 0.3],\n",
    " 'max_depth': [25, 50],\n",
    " 'l2_regularization': [1.5, 3.0],\n",
    " 'max_leaf_nodes': [50, 100],\n",
    " 'min_samples_leaf': [1, 5],\n",
    " 'random_state': [33],\n",
    " }"
   ]
  },
  {
   "cell_type": "code",
   "execution_count": 56,
   "metadata": {},
   "outputs": [],
   "source": [
    "parameters3 = {\n",
    " 'learning_rate': [0.005, 0.05, 0.1],\n",
    " 'max_depth': [15, 25],\n",
    " 'l2_regularization': [2.0, 3.0],\n",
    " 'max_leaf_nodes': [20, 35, 50],\n",
    " 'min_samples_leaf': [1, 3],\n",
    " 'random_state': [33],\n",
    " }"
   ]
  },
  {
   "cell_type": "code",
   "execution_count": 62,
   "metadata": {},
   "outputs": [],
   "source": [
    "parameters4 = {\n",
    " 'learning_rate': [0.1, 0.14],\n",
    " 'max_depth': [10, 15],\n",
    " 'l2_regularization': [2.5, 3.0],\n",
    " 'max_leaf_nodes': [40, 50],\n",
    " 'min_samples_leaf': [1, 2],\n",
    " 'random_state': [33],\n",
    " }"
   ]
  },
  {
   "cell_type": "code",
   "execution_count": 64,
   "metadata": {},
   "outputs": [],
   "source": [
    "parameters5 = {\n",
    " 'learning_rate': [0.1],\n",
    " 'max_depth': [15],\n",
    " 'l2_regularization': [2.8, 3.0],\n",
    " 'max_leaf_nodes': [45, 50],\n",
    " 'min_samples_leaf': [2],\n",
    " 'random_state': [33],\n",
    " }"
   ]
  },
  {
   "cell_type": "markdown",
   "metadata": {},
   "source": [
    "#### GridSearchCV"
   ]
  },
  {
   "cell_type": "code",
   "execution_count": 17,
   "metadata": {},
   "outputs": [],
   "source": [
    "clf = GridSearchCV(HistGradientBoostingClassifier(loss='binary_crossentropy', max_iter=1000, \n",
    "                                                  scoring='roc_auc', tol=1e-8 ), parameters1, \n",
    "                   scoring=make_scorer(roc_auc_score, needs_proba=True), n_jobs=-1)"
   ]
  },
  {
   "cell_type": "code",
   "execution_count": 18,
   "metadata": {
    "collapsed": true
   },
   "outputs": [
    {
     "name": "stderr",
     "output_type": "stream",
     "text": [
      "Exception in thread Thread-4:\n",
      "Traceback (most recent call last):\n",
      "  File \"/opt/anaconda3/envs/fastaiV2/lib/python3.8/threading.py\", line 932, in _bootstrap_inner\n",
      "    self.run()\n",
      "  File \"/opt/anaconda3/envs/fastaiV2/lib/python3.8/site-packages/joblib/externals/loky/process_executor.py\", line 567, in run\n",
      "    self.flag_executor_shutting_down()\n",
      "  File \"/opt/anaconda3/envs/fastaiV2/lib/python3.8/site-packages/joblib/externals/loky/process_executor.py\", line 756, in flag_executor_shutting_down\n",
      "    self.kill_workers()\n",
      "  File \"/opt/anaconda3/envs/fastaiV2/lib/python3.8/site-packages/joblib/externals/loky/process_executor.py\", line 766, in kill_workers\n",
      "    recursive_terminate(p)\n",
      "  File \"/opt/anaconda3/envs/fastaiV2/lib/python3.8/site-packages/joblib/externals/loky/backend/utils.py\", line 28, in recursive_terminate\n",
      "    _recursive_terminate_without_psutil(process)\n",
      "  File \"/opt/anaconda3/envs/fastaiV2/lib/python3.8/site-packages/joblib/externals/loky/backend/utils.py\", line 53, in _recursive_terminate_without_psutil\n",
      "    _recursive_terminate(process.pid)\n",
      "  File \"/opt/anaconda3/envs/fastaiV2/lib/python3.8/site-packages/joblib/externals/loky/backend/utils.py\", line 92, in _recursive_terminate\n",
      "    children_pids = subprocess.check_output(\n",
      "  File \"/opt/anaconda3/envs/fastaiV2/lib/python3.8/subprocess.py\", line 411, in check_output\n",
      "    return run(*popenargs, stdout=PIPE, timeout=timeout, check=True,\n",
      "  File \"/opt/anaconda3/envs/fastaiV2/lib/python3.8/subprocess.py\", line 512, in run\n",
      "    raise CalledProcessError(retcode, process.args,\n",
      "subprocess.CalledProcessError: Command '['pgrep', '-P', '16184']' died with <Signals.SIGINT: 2>.\n"
     ]
    },
    {
     "ename": "KeyboardInterrupt",
     "evalue": "",
     "output_type": "error",
     "traceback": [
      "\u001b[0;31m---------------------------------------------------------------------------\u001b[0m",
      "\u001b[0;31mKeyboardInterrupt\u001b[0m                         Traceback (most recent call last)",
      "\u001b[0;32m/opt/anaconda3/envs/fastaiV2/lib/python3.8/site-packages/joblib/parallel.py\u001b[0m in \u001b[0;36mretrieve\u001b[0;34m(self)\u001b[0m\n\u001b[1;32m    920\u001b[0m                 \u001b[0;32mif\u001b[0m \u001b[0mgetattr\u001b[0m\u001b[0;34m(\u001b[0m\u001b[0mself\u001b[0m\u001b[0;34m.\u001b[0m\u001b[0m_backend\u001b[0m\u001b[0;34m,\u001b[0m \u001b[0;34m'supports_timeout'\u001b[0m\u001b[0;34m,\u001b[0m \u001b[0;32mFalse\u001b[0m\u001b[0;34m)\u001b[0m\u001b[0;34m:\u001b[0m\u001b[0;34m\u001b[0m\u001b[0;34m\u001b[0m\u001b[0m\n\u001b[0;32m--> 921\u001b[0;31m                     \u001b[0mself\u001b[0m\u001b[0;34m.\u001b[0m\u001b[0m_output\u001b[0m\u001b[0;34m.\u001b[0m\u001b[0mextend\u001b[0m\u001b[0;34m(\u001b[0m\u001b[0mjob\u001b[0m\u001b[0;34m.\u001b[0m\u001b[0mget\u001b[0m\u001b[0;34m(\u001b[0m\u001b[0mtimeout\u001b[0m\u001b[0;34m=\u001b[0m\u001b[0mself\u001b[0m\u001b[0;34m.\u001b[0m\u001b[0mtimeout\u001b[0m\u001b[0;34m)\u001b[0m\u001b[0;34m)\u001b[0m\u001b[0;34m\u001b[0m\u001b[0;34m\u001b[0m\u001b[0m\n\u001b[0m\u001b[1;32m    922\u001b[0m                 \u001b[0;32melse\u001b[0m\u001b[0;34m:\u001b[0m\u001b[0;34m\u001b[0m\u001b[0;34m\u001b[0m\u001b[0m\n",
      "\u001b[0;32m/opt/anaconda3/envs/fastaiV2/lib/python3.8/site-packages/joblib/_parallel_backends.py\u001b[0m in \u001b[0;36mwrap_future_result\u001b[0;34m(future, timeout)\u001b[0m\n\u001b[1;32m    541\u001b[0m         \u001b[0;32mtry\u001b[0m\u001b[0;34m:\u001b[0m\u001b[0;34m\u001b[0m\u001b[0;34m\u001b[0m\u001b[0m\n\u001b[0;32m--> 542\u001b[0;31m             \u001b[0;32mreturn\u001b[0m \u001b[0mfuture\u001b[0m\u001b[0;34m.\u001b[0m\u001b[0mresult\u001b[0m\u001b[0;34m(\u001b[0m\u001b[0mtimeout\u001b[0m\u001b[0;34m=\u001b[0m\u001b[0mtimeout\u001b[0m\u001b[0;34m)\u001b[0m\u001b[0;34m\u001b[0m\u001b[0;34m\u001b[0m\u001b[0m\n\u001b[0m\u001b[1;32m    543\u001b[0m         \u001b[0;32mexcept\u001b[0m \u001b[0mCfTimeoutError\u001b[0m \u001b[0;32mas\u001b[0m \u001b[0me\u001b[0m\u001b[0;34m:\u001b[0m\u001b[0;34m\u001b[0m\u001b[0;34m\u001b[0m\u001b[0m\n",
      "\u001b[0;32m/opt/anaconda3/envs/fastaiV2/lib/python3.8/concurrent/futures/_base.py\u001b[0m in \u001b[0;36mresult\u001b[0;34m(self, timeout)\u001b[0m\n\u001b[1;32m    433\u001b[0m \u001b[0;34m\u001b[0m\u001b[0m\n\u001b[0;32m--> 434\u001b[0;31m             \u001b[0mself\u001b[0m\u001b[0;34m.\u001b[0m\u001b[0m_condition\u001b[0m\u001b[0;34m.\u001b[0m\u001b[0mwait\u001b[0m\u001b[0;34m(\u001b[0m\u001b[0mtimeout\u001b[0m\u001b[0;34m)\u001b[0m\u001b[0;34m\u001b[0m\u001b[0;34m\u001b[0m\u001b[0m\n\u001b[0m\u001b[1;32m    435\u001b[0m \u001b[0;34m\u001b[0m\u001b[0m\n",
      "\u001b[0;32m/opt/anaconda3/envs/fastaiV2/lib/python3.8/threading.py\u001b[0m in \u001b[0;36mwait\u001b[0;34m(self, timeout)\u001b[0m\n\u001b[1;32m    301\u001b[0m             \u001b[0;32mif\u001b[0m \u001b[0mtimeout\u001b[0m \u001b[0;32mis\u001b[0m \u001b[0;32mNone\u001b[0m\u001b[0;34m:\u001b[0m\u001b[0;34m\u001b[0m\u001b[0;34m\u001b[0m\u001b[0m\n\u001b[0;32m--> 302\u001b[0;31m                 \u001b[0mwaiter\u001b[0m\u001b[0;34m.\u001b[0m\u001b[0macquire\u001b[0m\u001b[0;34m(\u001b[0m\u001b[0;34m)\u001b[0m\u001b[0;34m\u001b[0m\u001b[0;34m\u001b[0m\u001b[0m\n\u001b[0m\u001b[1;32m    303\u001b[0m                 \u001b[0mgotit\u001b[0m \u001b[0;34m=\u001b[0m \u001b[0;32mTrue\u001b[0m\u001b[0;34m\u001b[0m\u001b[0;34m\u001b[0m\u001b[0m\n",
      "\u001b[0;31mKeyboardInterrupt\u001b[0m: ",
      "\nDuring handling of the above exception, another exception occurred:\n",
      "\u001b[0;31mKeyboardInterrupt\u001b[0m                         Traceback (most recent call last)",
      "\u001b[0;32m<timed exec>\u001b[0m in \u001b[0;36m<module>\u001b[0;34m\u001b[0m\n",
      "\u001b[0;32m/opt/anaconda3/envs/fastaiV2/lib/python3.8/site-packages/sklearn/utils/validation.py\u001b[0m in \u001b[0;36minner_f\u001b[0;34m(*args, **kwargs)\u001b[0m\n\u001b[1;32m     70\u001b[0m                           FutureWarning)\n\u001b[1;32m     71\u001b[0m         \u001b[0mkwargs\u001b[0m\u001b[0;34m.\u001b[0m\u001b[0mupdate\u001b[0m\u001b[0;34m(\u001b[0m\u001b[0;34m{\u001b[0m\u001b[0mk\u001b[0m\u001b[0;34m:\u001b[0m \u001b[0marg\u001b[0m \u001b[0;32mfor\u001b[0m \u001b[0mk\u001b[0m\u001b[0;34m,\u001b[0m \u001b[0marg\u001b[0m \u001b[0;32min\u001b[0m \u001b[0mzip\u001b[0m\u001b[0;34m(\u001b[0m\u001b[0msig\u001b[0m\u001b[0;34m.\u001b[0m\u001b[0mparameters\u001b[0m\u001b[0;34m,\u001b[0m \u001b[0margs\u001b[0m\u001b[0;34m)\u001b[0m\u001b[0;34m}\u001b[0m\u001b[0;34m)\u001b[0m\u001b[0;34m\u001b[0m\u001b[0;34m\u001b[0m\u001b[0m\n\u001b[0;32m---> 72\u001b[0;31m         \u001b[0;32mreturn\u001b[0m \u001b[0mf\u001b[0m\u001b[0;34m(\u001b[0m\u001b[0;34m**\u001b[0m\u001b[0mkwargs\u001b[0m\u001b[0;34m)\u001b[0m\u001b[0;34m\u001b[0m\u001b[0;34m\u001b[0m\u001b[0m\n\u001b[0m\u001b[1;32m     73\u001b[0m     \u001b[0;32mreturn\u001b[0m \u001b[0minner_f\u001b[0m\u001b[0;34m\u001b[0m\u001b[0;34m\u001b[0m\u001b[0m\n\u001b[1;32m     74\u001b[0m \u001b[0;34m\u001b[0m\u001b[0m\n",
      "\u001b[0;32m/opt/anaconda3/envs/fastaiV2/lib/python3.8/site-packages/sklearn/model_selection/_search.py\u001b[0m in \u001b[0;36mfit\u001b[0;34m(self, X, y, groups, **fit_params)\u001b[0m\n\u001b[1;32m    734\u001b[0m                 \u001b[0;32mreturn\u001b[0m \u001b[0mresults\u001b[0m\u001b[0;34m\u001b[0m\u001b[0;34m\u001b[0m\u001b[0m\n\u001b[1;32m    735\u001b[0m \u001b[0;34m\u001b[0m\u001b[0m\n\u001b[0;32m--> 736\u001b[0;31m             \u001b[0mself\u001b[0m\u001b[0;34m.\u001b[0m\u001b[0m_run_search\u001b[0m\u001b[0;34m(\u001b[0m\u001b[0mevaluate_candidates\u001b[0m\u001b[0;34m)\u001b[0m\u001b[0;34m\u001b[0m\u001b[0;34m\u001b[0m\u001b[0m\n\u001b[0m\u001b[1;32m    737\u001b[0m \u001b[0;34m\u001b[0m\u001b[0m\n\u001b[1;32m    738\u001b[0m         \u001b[0;31m# For multi-metric evaluation, store the best_index_, best_params_ and\u001b[0m\u001b[0;34m\u001b[0m\u001b[0;34m\u001b[0m\u001b[0;34m\u001b[0m\u001b[0m\n",
      "\u001b[0;32m/opt/anaconda3/envs/fastaiV2/lib/python3.8/site-packages/sklearn/model_selection/_search.py\u001b[0m in \u001b[0;36m_run_search\u001b[0;34m(self, evaluate_candidates)\u001b[0m\n\u001b[1;32m   1186\u001b[0m     \u001b[0;32mdef\u001b[0m \u001b[0m_run_search\u001b[0m\u001b[0;34m(\u001b[0m\u001b[0mself\u001b[0m\u001b[0;34m,\u001b[0m \u001b[0mevaluate_candidates\u001b[0m\u001b[0;34m)\u001b[0m\u001b[0;34m:\u001b[0m\u001b[0;34m\u001b[0m\u001b[0;34m\u001b[0m\u001b[0m\n\u001b[1;32m   1187\u001b[0m         \u001b[0;34m\"\"\"Search all candidates in param_grid\"\"\"\u001b[0m\u001b[0;34m\u001b[0m\u001b[0;34m\u001b[0m\u001b[0m\n\u001b[0;32m-> 1188\u001b[0;31m         \u001b[0mevaluate_candidates\u001b[0m\u001b[0;34m(\u001b[0m\u001b[0mParameterGrid\u001b[0m\u001b[0;34m(\u001b[0m\u001b[0mself\u001b[0m\u001b[0;34m.\u001b[0m\u001b[0mparam_grid\u001b[0m\u001b[0;34m)\u001b[0m\u001b[0;34m)\u001b[0m\u001b[0;34m\u001b[0m\u001b[0;34m\u001b[0m\u001b[0m\n\u001b[0m\u001b[1;32m   1189\u001b[0m \u001b[0;34m\u001b[0m\u001b[0m\n\u001b[1;32m   1190\u001b[0m \u001b[0;34m\u001b[0m\u001b[0m\n",
      "\u001b[0;32m/opt/anaconda3/envs/fastaiV2/lib/python3.8/site-packages/sklearn/model_selection/_search.py\u001b[0m in \u001b[0;36mevaluate_candidates\u001b[0;34m(candidate_params)\u001b[0m\n\u001b[1;32m    706\u001b[0m                               n_splits, n_candidates, n_candidates * n_splits))\n\u001b[1;32m    707\u001b[0m \u001b[0;34m\u001b[0m\u001b[0m\n\u001b[0;32m--> 708\u001b[0;31m                 out = parallel(delayed(_fit_and_score)(clone(base_estimator),\n\u001b[0m\u001b[1;32m    709\u001b[0m                                                        \u001b[0mX\u001b[0m\u001b[0;34m,\u001b[0m \u001b[0my\u001b[0m\u001b[0;34m,\u001b[0m\u001b[0;34m\u001b[0m\u001b[0;34m\u001b[0m\u001b[0m\n\u001b[1;32m    710\u001b[0m                                                        \u001b[0mtrain\u001b[0m\u001b[0;34m=\u001b[0m\u001b[0mtrain\u001b[0m\u001b[0;34m,\u001b[0m \u001b[0mtest\u001b[0m\u001b[0;34m=\u001b[0m\u001b[0mtest\u001b[0m\u001b[0;34m,\u001b[0m\u001b[0;34m\u001b[0m\u001b[0;34m\u001b[0m\u001b[0m\n",
      "\u001b[0;32m/opt/anaconda3/envs/fastaiV2/lib/python3.8/site-packages/joblib/parallel.py\u001b[0m in \u001b[0;36m__call__\u001b[0;34m(self, iterable)\u001b[0m\n\u001b[1;32m   1040\u001b[0m \u001b[0;34m\u001b[0m\u001b[0m\n\u001b[1;32m   1041\u001b[0m             \u001b[0;32mwith\u001b[0m \u001b[0mself\u001b[0m\u001b[0;34m.\u001b[0m\u001b[0m_backend\u001b[0m\u001b[0;34m.\u001b[0m\u001b[0mretrieval_context\u001b[0m\u001b[0;34m(\u001b[0m\u001b[0;34m)\u001b[0m\u001b[0;34m:\u001b[0m\u001b[0;34m\u001b[0m\u001b[0;34m\u001b[0m\u001b[0m\n\u001b[0;32m-> 1042\u001b[0;31m                 \u001b[0mself\u001b[0m\u001b[0;34m.\u001b[0m\u001b[0mretrieve\u001b[0m\u001b[0;34m(\u001b[0m\u001b[0;34m)\u001b[0m\u001b[0;34m\u001b[0m\u001b[0;34m\u001b[0m\u001b[0m\n\u001b[0m\u001b[1;32m   1043\u001b[0m             \u001b[0;31m# Make sure that we get a last message telling us we are done\u001b[0m\u001b[0;34m\u001b[0m\u001b[0;34m\u001b[0m\u001b[0;34m\u001b[0m\u001b[0m\n\u001b[1;32m   1044\u001b[0m             \u001b[0melapsed_time\u001b[0m \u001b[0;34m=\u001b[0m \u001b[0mtime\u001b[0m\u001b[0;34m.\u001b[0m\u001b[0mtime\u001b[0m\u001b[0;34m(\u001b[0m\u001b[0;34m)\u001b[0m \u001b[0;34m-\u001b[0m \u001b[0mself\u001b[0m\u001b[0;34m.\u001b[0m\u001b[0m_start_time\u001b[0m\u001b[0;34m\u001b[0m\u001b[0;34m\u001b[0m\u001b[0m\n",
      "\u001b[0;32m/opt/anaconda3/envs/fastaiV2/lib/python3.8/site-packages/joblib/parallel.py\u001b[0m in \u001b[0;36mretrieve\u001b[0;34m(self)\u001b[0m\n\u001b[1;32m    941\u001b[0m                     \u001b[0;31m# scheduling.\u001b[0m\u001b[0;34m\u001b[0m\u001b[0;34m\u001b[0m\u001b[0;34m\u001b[0m\u001b[0m\n\u001b[1;32m    942\u001b[0m                     \u001b[0mensure_ready\u001b[0m \u001b[0;34m=\u001b[0m \u001b[0mself\u001b[0m\u001b[0;34m.\u001b[0m\u001b[0m_managed_backend\u001b[0m\u001b[0;34m\u001b[0m\u001b[0;34m\u001b[0m\u001b[0m\n\u001b[0;32m--> 943\u001b[0;31m                     \u001b[0mbackend\u001b[0m\u001b[0;34m.\u001b[0m\u001b[0mabort_everything\u001b[0m\u001b[0;34m(\u001b[0m\u001b[0mensure_ready\u001b[0m\u001b[0;34m=\u001b[0m\u001b[0mensure_ready\u001b[0m\u001b[0;34m)\u001b[0m\u001b[0;34m\u001b[0m\u001b[0;34m\u001b[0m\u001b[0m\n\u001b[0m\u001b[1;32m    944\u001b[0m                 \u001b[0;32mraise\u001b[0m\u001b[0;34m\u001b[0m\u001b[0;34m\u001b[0m\u001b[0m\n\u001b[1;32m    945\u001b[0m \u001b[0;34m\u001b[0m\u001b[0m\n",
      "\u001b[0;32m/opt/anaconda3/envs/fastaiV2/lib/python3.8/site-packages/joblib/_parallel_backends.py\u001b[0m in \u001b[0;36mabort_everything\u001b[0;34m(self, ensure_ready)\u001b[0m\n\u001b[1;32m    559\u001b[0m         \"\"\"Shutdown the workers and restart a new one with the same parameters\n\u001b[1;32m    560\u001b[0m         \"\"\"\n\u001b[0;32m--> 561\u001b[0;31m         \u001b[0mself\u001b[0m\u001b[0;34m.\u001b[0m\u001b[0m_workers\u001b[0m\u001b[0;34m.\u001b[0m\u001b[0mterminate\u001b[0m\u001b[0;34m(\u001b[0m\u001b[0mkill_workers\u001b[0m\u001b[0;34m=\u001b[0m\u001b[0;32mTrue\u001b[0m\u001b[0;34m)\u001b[0m\u001b[0;34m\u001b[0m\u001b[0;34m\u001b[0m\u001b[0m\n\u001b[0m\u001b[1;32m    562\u001b[0m         \u001b[0mself\u001b[0m\u001b[0;34m.\u001b[0m\u001b[0m_workers\u001b[0m \u001b[0;34m=\u001b[0m \u001b[0;32mNone\u001b[0m\u001b[0;34m\u001b[0m\u001b[0;34m\u001b[0m\u001b[0m\n\u001b[1;32m    563\u001b[0m \u001b[0;34m\u001b[0m\u001b[0m\n",
      "\u001b[0;32m/opt/anaconda3/envs/fastaiV2/lib/python3.8/site-packages/joblib/executor.py\u001b[0m in \u001b[0;36mterminate\u001b[0;34m(self, kill_workers)\u001b[0m\n\u001b[1;32m     72\u001b[0m \u001b[0;34m\u001b[0m\u001b[0m\n\u001b[1;32m     73\u001b[0m     \u001b[0;32mdef\u001b[0m \u001b[0mterminate\u001b[0m\u001b[0;34m(\u001b[0m\u001b[0mself\u001b[0m\u001b[0;34m,\u001b[0m \u001b[0mkill_workers\u001b[0m\u001b[0;34m=\u001b[0m\u001b[0;32mFalse\u001b[0m\u001b[0;34m)\u001b[0m\u001b[0;34m:\u001b[0m\u001b[0;34m\u001b[0m\u001b[0;34m\u001b[0m\u001b[0m\n\u001b[0;32m---> 74\u001b[0;31m         \u001b[0mself\u001b[0m\u001b[0;34m.\u001b[0m\u001b[0mshutdown\u001b[0m\u001b[0;34m(\u001b[0m\u001b[0mkill_workers\u001b[0m\u001b[0;34m=\u001b[0m\u001b[0mkill_workers\u001b[0m\u001b[0;34m)\u001b[0m\u001b[0;34m\u001b[0m\u001b[0;34m\u001b[0m\u001b[0m\n\u001b[0m\u001b[1;32m     75\u001b[0m         \u001b[0;32mif\u001b[0m \u001b[0mkill_workers\u001b[0m\u001b[0;34m:\u001b[0m\u001b[0;34m\u001b[0m\u001b[0;34m\u001b[0m\u001b[0m\n\u001b[1;32m     76\u001b[0m             \u001b[0;31m# When workers are killed in such a brutal manner, they cannot\u001b[0m\u001b[0;34m\u001b[0m\u001b[0;34m\u001b[0m\u001b[0;34m\u001b[0m\u001b[0m\n",
      "\u001b[0;32m/opt/anaconda3/envs/fastaiV2/lib/python3.8/site-packages/joblib/externals/loky/process_executor.py\u001b[0m in \u001b[0;36mshutdown\u001b[0;34m(self, wait, kill_workers)\u001b[0m\n\u001b[1;32m   1169\u001b[0m \u001b[0;34m\u001b[0m\u001b[0m\n\u001b[1;32m   1170\u001b[0m         \u001b[0;32mif\u001b[0m \u001b[0mexecutor_manager_thread\u001b[0m \u001b[0;32mis\u001b[0m \u001b[0;32mnot\u001b[0m \u001b[0;32mNone\u001b[0m \u001b[0;32mand\u001b[0m \u001b[0mwait\u001b[0m\u001b[0;34m:\u001b[0m\u001b[0;34m\u001b[0m\u001b[0;34m\u001b[0m\u001b[0m\n\u001b[0;32m-> 1171\u001b[0;31m             \u001b[0mexecutor_manager_thread\u001b[0m\u001b[0;34m.\u001b[0m\u001b[0mjoin\u001b[0m\u001b[0;34m(\u001b[0m\u001b[0;34m)\u001b[0m\u001b[0;34m\u001b[0m\u001b[0;34m\u001b[0m\u001b[0m\n\u001b[0m\u001b[1;32m   1172\u001b[0m \u001b[0;34m\u001b[0m\u001b[0m\n\u001b[1;32m   1173\u001b[0m         \u001b[0;31m# To reduce the risk of opening too many files, remove references to\u001b[0m\u001b[0;34m\u001b[0m\u001b[0;34m\u001b[0m\u001b[0;34m\u001b[0m\u001b[0m\n",
      "\u001b[0;32m/opt/anaconda3/envs/fastaiV2/lib/python3.8/threading.py\u001b[0m in \u001b[0;36mjoin\u001b[0;34m(self, timeout)\u001b[0m\n\u001b[1;32m   1009\u001b[0m \u001b[0;34m\u001b[0m\u001b[0m\n\u001b[1;32m   1010\u001b[0m         \u001b[0;32mif\u001b[0m \u001b[0mtimeout\u001b[0m \u001b[0;32mis\u001b[0m \u001b[0;32mNone\u001b[0m\u001b[0;34m:\u001b[0m\u001b[0;34m\u001b[0m\u001b[0;34m\u001b[0m\u001b[0m\n\u001b[0;32m-> 1011\u001b[0;31m             \u001b[0mself\u001b[0m\u001b[0;34m.\u001b[0m\u001b[0m_wait_for_tstate_lock\u001b[0m\u001b[0;34m(\u001b[0m\u001b[0;34m)\u001b[0m\u001b[0;34m\u001b[0m\u001b[0;34m\u001b[0m\u001b[0m\n\u001b[0m\u001b[1;32m   1012\u001b[0m         \u001b[0;32melse\u001b[0m\u001b[0;34m:\u001b[0m\u001b[0;34m\u001b[0m\u001b[0;34m\u001b[0m\u001b[0m\n\u001b[1;32m   1013\u001b[0m             \u001b[0;31m# the behavior of a negative timeout isn't documented, but\u001b[0m\u001b[0;34m\u001b[0m\u001b[0;34m\u001b[0m\u001b[0;34m\u001b[0m\u001b[0m\n",
      "\u001b[0;32m/opt/anaconda3/envs/fastaiV2/lib/python3.8/threading.py\u001b[0m in \u001b[0;36m_wait_for_tstate_lock\u001b[0;34m(self, block, timeout)\u001b[0m\n\u001b[1;32m   1025\u001b[0m         \u001b[0;32mif\u001b[0m \u001b[0mlock\u001b[0m \u001b[0;32mis\u001b[0m \u001b[0;32mNone\u001b[0m\u001b[0;34m:\u001b[0m  \u001b[0;31m# already determined that the C code is done\u001b[0m\u001b[0;34m\u001b[0m\u001b[0;34m\u001b[0m\u001b[0m\n\u001b[1;32m   1026\u001b[0m             \u001b[0;32massert\u001b[0m \u001b[0mself\u001b[0m\u001b[0;34m.\u001b[0m\u001b[0m_is_stopped\u001b[0m\u001b[0;34m\u001b[0m\u001b[0;34m\u001b[0m\u001b[0m\n\u001b[0;32m-> 1027\u001b[0;31m         \u001b[0;32melif\u001b[0m \u001b[0mlock\u001b[0m\u001b[0;34m.\u001b[0m\u001b[0macquire\u001b[0m\u001b[0;34m(\u001b[0m\u001b[0mblock\u001b[0m\u001b[0;34m,\u001b[0m \u001b[0mtimeout\u001b[0m\u001b[0;34m)\u001b[0m\u001b[0;34m:\u001b[0m\u001b[0;34m\u001b[0m\u001b[0;34m\u001b[0m\u001b[0m\n\u001b[0m\u001b[1;32m   1028\u001b[0m             \u001b[0mlock\u001b[0m\u001b[0;34m.\u001b[0m\u001b[0mrelease\u001b[0m\u001b[0;34m(\u001b[0m\u001b[0;34m)\u001b[0m\u001b[0;34m\u001b[0m\u001b[0;34m\u001b[0m\u001b[0m\n\u001b[1;32m   1029\u001b[0m             \u001b[0mself\u001b[0m\u001b[0;34m.\u001b[0m\u001b[0m_stop\u001b[0m\u001b[0;34m(\u001b[0m\u001b[0;34m)\u001b[0m\u001b[0;34m\u001b[0m\u001b[0;34m\u001b[0m\u001b[0m\n",
      "\u001b[0;31mKeyboardInterrupt\u001b[0m: "
     ]
    }
   ],
   "source": [
    "# This had taken over 2 hrs before I gave up on it.\n",
    "%%time\n",
    "clf.fit(xs, y)\n",
    "clf.best_estimator_, clf.best_score_, clf.best_params_"
   ]
  },
  {
   "cell_type": "code",
   "execution_count": 42,
   "metadata": {
    "scrolled": false
   },
   "outputs": [
    {
     "name": "stdout",
     "output_type": "stream",
     "text": [
      "Binning 0.042 GB of training data: 0.273 s\n",
      "Binning 0.005 GB of validation data: 0.019 s\n",
      "Fitting gradient boosted rounds:\n",
      "[1/1000] 1 tree, 44 leaves, max depth = 9, train score: 0.83422, val score: 0.83526, in 0.076s\n",
      "[2/1000] 1 tree, 44 leaves, max depth = 10, train score: 0.84166, val score: 0.84216, in 0.081s\n",
      "[3/1000] 1 tree, 44 leaves, max depth = 9, train score: 0.84365, val score: 0.84422, in 0.081s\n",
      "[4/1000] 1 tree, 44 leaves, max depth = 10, train score: 0.84635, val score: 0.84409, in 0.120s\n",
      "[5/1000] 1 tree, 44 leaves, max depth = 12, train score: 0.85918, val score: 0.85764, in 0.079s\n",
      "[6/1000] 1 tree, 44 leaves, max depth = 11, train score: 0.85980, val score: 0.85770, in 0.122s\n",
      "[7/1000] 1 tree, 44 leaves, max depth = 10, train score: 0.85984, val score: 0.85860, in 0.120s\n",
      "[8/1000] 1 tree, 44 leaves, max depth = 11, train score: 0.86009, val score: 0.85848, in 0.130s\n",
      "[9/1000] 1 tree, 44 leaves, max depth = 10, train score: 0.86031, val score: 0.85919, in 0.116s\n",
      "[10/1000] 1 tree, 44 leaves, max depth = 9, train score: 0.86073, val score: 0.86045, in 0.108s\n",
      "[11/1000] 1 tree, 44 leaves, max depth = 9, train score: 0.86159, val score: 0.86052, in 0.119s\n",
      "[12/1000] 1 tree, 44 leaves, max depth = 10, train score: 0.86171, val score: 0.86132, in 0.117s\n",
      "[13/1000] 1 tree, 44 leaves, max depth = 9, train score: 0.86141, val score: 0.86127, in 0.092s\n",
      "[14/1000] 1 tree, 44 leaves, max depth = 9, train score: 0.86484, val score: 0.86540, in 0.085s\n",
      "[15/1000] 1 tree, 44 leaves, max depth = 9, train score: 0.86536, val score: 0.86336, in 0.083s\n",
      "[16/1000] 1 tree, 44 leaves, max depth = 9, train score: 0.86606, val score: 0.86423, in 0.151s\n",
      "[17/1000] 1 tree, 44 leaves, max depth = 10, train score: 0.86660, val score: 0.86560, in 0.079s\n",
      "[18/1000] 1 tree, 44 leaves, max depth = 9, train score: 0.86755, val score: 0.86914, in 0.090s\n",
      "[19/1000] 1 tree, 44 leaves, max depth = 9, train score: 0.86816, val score: 0.87033, in 0.094s\n",
      "[20/1000] 1 tree, 44 leaves, max depth = 9, train score: 0.86825, val score: 0.86987, in 0.099s\n",
      "[21/1000] 1 tree, 44 leaves, max depth = 9, train score: 0.86935, val score: 0.87170, in 0.084s\n",
      "[22/1000] 1 tree, 44 leaves, max depth = 11, train score: 0.87147, val score: 0.87196, in 0.086s\n",
      "[23/1000] 1 tree, 44 leaves, max depth = 10, train score: 0.87226, val score: 0.87258, in 0.087s\n",
      "[24/1000] 1 tree, 44 leaves, max depth = 11, train score: 0.87310, val score: 0.87331, in 0.088s\n",
      "[25/1000] 1 tree, 44 leaves, max depth = 10, train score: 0.87391, val score: 0.87420, in 0.088s\n",
      "[26/1000] 1 tree, 44 leaves, max depth = 11, train score: 0.87489, val score: 0.87296, in 0.090s\n",
      "[27/1000] 1 tree, 44 leaves, max depth = 10, train score: 0.87710, val score: 0.87353, in 0.089s\n",
      "[28/1000] 1 tree, 44 leaves, max depth = 10, train score: 0.87753, val score: 0.87348, in 0.166s\n",
      "[29/1000] 1 tree, 44 leaves, max depth = 11, train score: 0.88040, val score: 0.87293, in 0.083s\n",
      "[30/1000] 1 tree, 44 leaves, max depth = 10, train score: 0.88146, val score: 0.87526, in 0.087s\n",
      "[31/1000] 1 tree, 44 leaves, max depth = 11, train score: 0.88231, val score: 0.87540, in 0.087s\n",
      "[32/1000] 1 tree, 44 leaves, max depth = 11, train score: 0.88375, val score: 0.87678, in 0.089s\n",
      "[33/1000] 1 tree, 44 leaves, max depth = 10, train score: 0.88430, val score: 0.87690, in 0.088s\n",
      "[34/1000] 1 tree, 44 leaves, max depth = 10, train score: 0.88477, val score: 0.87687, in 0.095s\n",
      "[35/1000] 1 tree, 44 leaves, max depth = 11, train score: 0.88586, val score: 0.87710, in 0.091s\n",
      "[36/1000] 1 tree, 44 leaves, max depth = 11, train score: 0.88613, val score: 0.87711, in 0.093s\n",
      "[37/1000] 1 tree, 44 leaves, max depth = 9, train score: 0.88865, val score: 0.87835, in 0.090s\n",
      "[38/1000] 1 tree, 44 leaves, max depth = 11, train score: 0.88888, val score: 0.87923, in 0.093s\n",
      "[39/1000] 1 tree, 44 leaves, max depth = 10, train score: 0.88981, val score: 0.88004, in 0.092s\n",
      "[40/1000] 1 tree, 44 leaves, max depth = 10, train score: 0.89029, val score: 0.88074, in 0.093s\n",
      "[41/1000] 1 tree, 44 leaves, max depth = 9, train score: 0.89101, val score: 0.88096, in 0.160s\n",
      "[42/1000] 1 tree, 44 leaves, max depth = 11, train score: 0.89159, val score: 0.88196, in 0.091s\n",
      "[43/1000] 1 tree, 44 leaves, max depth = 10, train score: 0.89196, val score: 0.88261, in 0.092s\n",
      "[44/1000] 1 tree, 44 leaves, max depth = 9, train score: 0.89386, val score: 0.88278, in 0.093s\n",
      "[45/1000] 1 tree, 44 leaves, max depth = 12, train score: 0.89473, val score: 0.88430, in 0.093s\n",
      "[46/1000] 1 tree, 44 leaves, max depth = 10, train score: 0.89476, val score: 0.88469, in 0.094s\n",
      "[47/1000] 1 tree, 44 leaves, max depth = 13, train score: 0.89538, val score: 0.88481, in 0.099s\n",
      "[48/1000] 1 tree, 44 leaves, max depth = 10, train score: 0.89674, val score: 0.88578, in 0.094s\n",
      "[49/1000] 1 tree, 44 leaves, max depth = 12, train score: 0.89735, val score: 0.88662, in 0.096s\n",
      "[50/1000] 1 tree, 44 leaves, max depth = 12, train score: 0.89779, val score: 0.88676, in 0.096s\n",
      "[51/1000] 1 tree, 44 leaves, max depth = 12, train score: 0.89841, val score: 0.88710, in 0.097s\n",
      "[52/1000] 1 tree, 44 leaves, max depth = 12, train score: 0.89909, val score: 0.88725, in 0.096s\n",
      "[53/1000] 1 tree, 44 leaves, max depth = 17, train score: 0.90040, val score: 0.88763, in 0.172s\n",
      "[54/1000] 1 tree, 44 leaves, max depth = 9, train score: 0.90078, val score: 0.88843, in 0.159s\n",
      "[55/1000] 1 tree, 44 leaves, max depth = 12, train score: 0.90149, val score: 0.88903, in 0.122s\n",
      "[56/1000] 1 tree, 44 leaves, max depth = 12, train score: 0.90324, val score: 0.89035, in 0.105s\n",
      "[57/1000] 1 tree, 44 leaves, max depth = 13, train score: 0.90402, val score: 0.89095, in 0.100s\n",
      "[58/1000] 1 tree, 44 leaves, max depth = 13, train score: 0.90436, val score: 0.89130, in 0.099s\n",
      "[59/1000] 1 tree, 44 leaves, max depth = 11, train score: 0.90571, val score: 0.89151, in 0.102s\n",
      "[60/1000] 1 tree, 44 leaves, max depth = 12, train score: 0.90640, val score: 0.89184, in 0.118s\n",
      "[61/1000] 1 tree, 44 leaves, max depth = 9, train score: 0.90747, val score: 0.89201, in 0.116s\n",
      "[62/1000] 1 tree, 44 leaves, max depth = 12, train score: 0.90857, val score: 0.89243, in 0.120s\n",
      "[63/1000] 1 tree, 44 leaves, max depth = 11, train score: 0.90929, val score: 0.89267, in 0.106s\n",
      "[64/1000] 1 tree, 44 leaves, max depth = 12, train score: 0.91016, val score: 0.89326, in 0.106s\n",
      "[65/1000] 1 tree, 44 leaves, max depth = 11, train score: 0.91096, val score: 0.89354, in 0.110s\n",
      "[66/1000] 1 tree, 44 leaves, max depth = 12, train score: 0.91272, val score: 0.89427, in 0.190s\n",
      "[67/1000] 1 tree, 44 leaves, max depth = 14, train score: 0.91354, val score: 0.89452, in 0.108s\n",
      "[68/1000] 1 tree, 44 leaves, max depth = 15, train score: 0.91421, val score: 0.89500, in 0.103s\n",
      "[69/1000] 1 tree, 44 leaves, max depth = 12, train score: 0.91468, val score: 0.89613, in 0.104s\n",
      "[70/1000] 1 tree, 44 leaves, max depth = 13, train score: 0.91602, val score: 0.89646, in 0.106s\n",
      "[71/1000] 1 tree, 44 leaves, max depth = 10, train score: 0.91664, val score: 0.89715, in 0.106s\n",
      "[72/1000] 1 tree, 44 leaves, max depth = 14, train score: 0.91733, val score: 0.89773, in 0.108s\n",
      "[73/1000] 1 tree, 44 leaves, max depth = 12, train score: 0.91787, val score: 0.89832, in 0.113s\n",
      "[74/1000] 1 tree, 44 leaves, max depth = 13, train score: 0.91854, val score: 0.89846, in 0.116s\n",
      "[75/1000] 1 tree, 44 leaves, max depth = 13, train score: 0.91900, val score: 0.89847, in 0.113s\n",
      "[76/1000] 1 tree, 44 leaves, max depth = 14, train score: 0.91926, val score: 0.89879, in 0.112s\n",
      "[77/1000] 1 tree, 44 leaves, max depth = 12, train score: 0.91965, val score: 0.89893, in 0.110s\n",
      "[78/1000] 1 tree, 44 leaves, max depth = 13, train score: 0.92069, val score: 0.89952, in 0.174s\n",
      "[79/1000] 1 tree, 44 leaves, max depth = 13, train score: 0.92250, val score: 0.89978, in 0.109s\n",
      "[80/1000] 1 tree, 44 leaves, max depth = 14, train score: 0.92362, val score: 0.90079, in 0.108s\n",
      "[81/1000] 1 tree, 44 leaves, max depth = 13, train score: 0.92475, val score: 0.90095, in 0.112s\n",
      "[82/1000] 1 tree, 44 leaves, max depth = 12, train score: 0.92537, val score: 0.90131, in 0.107s\n",
      "[83/1000] 1 tree, 44 leaves, max depth = 13, train score: 0.92644, val score: 0.90140, in 0.109s\n",
      "[84/1000] 1 tree, 44 leaves, max depth = 14, train score: 0.92687, val score: 0.90166, in 0.107s\n"
     ]
    },
    {
     "name": "stdout",
     "output_type": "stream",
     "text": [
      "[85/1000] 1 tree, 44 leaves, max depth = 13, train score: 0.92742, val score: 0.90149, in 0.116s\n",
      "[86/1000] 1 tree, 44 leaves, max depth = 14, train score: 0.92801, val score: 0.90142, in 0.117s\n",
      "[87/1000] 1 tree, 44 leaves, max depth = 17, train score: 0.92856, val score: 0.90216, in 0.111s\n",
      "[88/1000] 1 tree, 44 leaves, max depth = 13, train score: 0.92926, val score: 0.90224, in 0.111s\n",
      "[89/1000] 1 tree, 44 leaves, max depth = 11, train score: 0.92989, val score: 0.90258, in 0.107s\n",
      "[90/1000] 1 tree, 44 leaves, max depth = 11, train score: 0.93051, val score: 0.90300, in 0.181s\n",
      "[91/1000] 1 tree, 44 leaves, max depth = 14, train score: 0.93145, val score: 0.90335, in 0.106s\n",
      "[92/1000] 1 tree, 44 leaves, max depth = 19, train score: 0.93208, val score: 0.90435, in 0.272s\n",
      "[93/1000] 1 tree, 44 leaves, max depth = 14, train score: 0.93265, val score: 0.90504, in 0.110s\n",
      "[94/1000] 1 tree, 44 leaves, max depth = 12, train score: 0.93347, val score: 0.90482, in 0.107s\n",
      "[95/1000] 1 tree, 44 leaves, max depth = 15, train score: 0.93415, val score: 0.90530, in 0.111s\n",
      "[96/1000] 1 tree, 44 leaves, max depth = 18, train score: 0.93497, val score: 0.90550, in 0.113s\n",
      "[97/1000] 1 tree, 44 leaves, max depth = 15, train score: 0.93570, val score: 0.90577, in 0.107s\n",
      "[98/1000] 1 tree, 44 leaves, max depth = 13, train score: 0.93606, val score: 0.90642, in 0.110s\n",
      "[99/1000] 1 tree, 44 leaves, max depth = 15, train score: 0.93674, val score: 0.90662, in 0.112s\n",
      "[100/1000] 1 tree, 44 leaves, max depth = 12, train score: 0.93720, val score: 0.90695, in 0.110s\n",
      "[101/1000] 1 tree, 44 leaves, max depth = 17, train score: 0.93771, val score: 0.90743, in 0.111s\n",
      "[102/1000] 1 tree, 44 leaves, max depth = 14, train score: 0.93836, val score: 0.90777, in 0.116s\n",
      "[103/1000] 1 tree, 44 leaves, max depth = 12, train score: 0.93904, val score: 0.90820, in 0.189s\n",
      "[104/1000] 1 tree, 44 leaves, max depth = 14, train score: 0.93932, val score: 0.90817, in 0.107s\n",
      "[105/1000] 1 tree, 44 leaves, max depth = 15, train score: 0.94000, val score: 0.90842, in 0.112s\n",
      "[106/1000] 1 tree, 44 leaves, max depth = 19, train score: 0.94048, val score: 0.90876, in 0.117s\n",
      "[107/1000] 1 tree, 44 leaves, max depth = 12, train score: 0.94114, val score: 0.90911, in 0.128s\n",
      "[108/1000] 1 tree, 44 leaves, max depth = 13, train score: 0.94151, val score: 0.90918, in 0.116s\n",
      "[109/1000] 1 tree, 44 leaves, max depth = 10, train score: 0.94181, val score: 0.90937, in 0.114s\n",
      "[110/1000] 1 tree, 44 leaves, max depth = 20, train score: 0.94249, val score: 0.90981, in 0.114s\n",
      "[111/1000] 1 tree, 44 leaves, max depth = 17, train score: 0.94309, val score: 0.90999, in 0.118s\n",
      "[112/1000] 1 tree, 44 leaves, max depth = 15, train score: 0.94358, val score: 0.91010, in 0.120s\n",
      "[113/1000] 1 tree, 44 leaves, max depth = 15, train score: 0.94402, val score: 0.91034, in 0.120s\n",
      "[114/1000] 1 tree, 44 leaves, max depth = 15, train score: 0.94412, val score: 0.91055, in 0.120s\n",
      "[115/1000] 1 tree, 44 leaves, max depth = 14, train score: 0.94478, val score: 0.91062, in 0.122s\n",
      "[116/1000] 1 tree, 44 leaves, max depth = 14, train score: 0.94532, val score: 0.91100, in 0.180s\n",
      "[117/1000] 1 tree, 44 leaves, max depth = 19, train score: 0.94592, val score: 0.91108, in 0.118s\n",
      "[118/1000] 1 tree, 44 leaves, max depth = 16, train score: 0.94631, val score: 0.91130, in 0.117s\n",
      "[119/1000] 1 tree, 44 leaves, max depth = 18, train score: 0.94686, val score: 0.91159, in 0.116s\n",
      "[120/1000] 1 tree, 44 leaves, max depth = 16, train score: 0.94735, val score: 0.91170, in 0.123s\n",
      "[121/1000] 1 tree, 44 leaves, max depth = 14, train score: 0.94773, val score: 0.91216, in 0.121s\n",
      "[122/1000] 1 tree, 44 leaves, max depth = 18, train score: 0.94799, val score: 0.91215, in 0.117s\n",
      "[123/1000] 1 tree, 44 leaves, max depth = 17, train score: 0.94830, val score: 0.91229, in 0.120s\n",
      "[124/1000] 1 tree, 44 leaves, max depth = 10, train score: 0.94878, val score: 0.91235, in 0.124s\n",
      "[125/1000] 1 tree, 44 leaves, max depth = 17, train score: 0.94919, val score: 0.91272, in 0.125s\n",
      "[126/1000] 1 tree, 44 leaves, max depth = 14, train score: 0.94969, val score: 0.91303, in 0.124s\n",
      "[127/1000] 1 tree, 44 leaves, max depth = 20, train score: 0.95010, val score: 0.91319, in 0.128s\n",
      "[128/1000] 1 tree, 44 leaves, max depth = 20, train score: 0.95021, val score: 0.91342, in 0.194s\n",
      "[129/1000] 1 tree, 44 leaves, max depth = 14, train score: 0.95085, val score: 0.91357, in 0.125s\n",
      "[130/1000] 1 tree, 44 leaves, max depth = 16, train score: 0.95136, val score: 0.91384, in 0.121s\n",
      "[131/1000] 1 tree, 44 leaves, max depth = 15, train score: 0.95179, val score: 0.91442, in 0.127s\n",
      "[132/1000] 1 tree, 44 leaves, max depth = 17, train score: 0.95199, val score: 0.91454, in 0.124s\n",
      "[133/1000] 1 tree, 44 leaves, max depth = 16, train score: 0.95248, val score: 0.91470, in 0.120s\n",
      "[134/1000] 1 tree, 44 leaves, max depth = 15, train score: 0.95277, val score: 0.91500, in 0.127s\n",
      "[135/1000] 1 tree, 44 leaves, max depth = 9, train score: 0.95305, val score: 0.91481, in 0.126s\n",
      "[136/1000] 1 tree, 44 leaves, max depth = 15, train score: 0.95324, val score: 0.91492, in 0.128s\n",
      "[137/1000] 1 tree, 44 leaves, max depth = 16, train score: 0.95352, val score: 0.91530, in 0.128s\n",
      "[138/1000] 1 tree, 44 leaves, max depth = 14, train score: 0.95401, val score: 0.91542, in 0.131s\n",
      "[139/1000] 1 tree, 44 leaves, max depth = 16, train score: 0.95417, val score: 0.91568, in 0.126s\n",
      "[140/1000] 1 tree, 44 leaves, max depth = 16, train score: 0.95453, val score: 0.91568, in 0.130s\n",
      "[141/1000] 1 tree, 44 leaves, max depth = 16, train score: 0.95478, val score: 0.91607, in 0.184s\n",
      "[142/1000] 1 tree, 44 leaves, max depth = 17, train score: 0.95500, val score: 0.91638, in 0.126s\n",
      "[143/1000] 1 tree, 44 leaves, max depth = 14, train score: 0.95529, val score: 0.91661, in 0.125s\n",
      "[144/1000] 1 tree, 44 leaves, max depth = 20, train score: 0.95541, val score: 0.91663, in 0.128s\n",
      "[145/1000] 1 tree, 44 leaves, max depth = 15, train score: 0.95581, val score: 0.91674, in 0.128s\n",
      "[146/1000] 1 tree, 44 leaves, max depth = 17, train score: 0.95618, val score: 0.91714, in 0.129s\n",
      "[147/1000] 1 tree, 44 leaves, max depth = 14, train score: 0.95639, val score: 0.91710, in 0.128s\n",
      "[148/1000] 1 tree, 44 leaves, max depth = 12, train score: 0.95658, val score: 0.91716, in 0.131s\n",
      "[149/1000] 1 tree, 44 leaves, max depth = 17, train score: 0.95698, val score: 0.91720, in 0.132s\n",
      "[150/1000] 1 tree, 44 leaves, max depth = 12, train score: 0.95729, val score: 0.91729, in 0.133s\n",
      "[151/1000] 1 tree, 44 leaves, max depth = 14, train score: 0.95765, val score: 0.91755, in 0.136s\n",
      "[152/1000] 1 tree, 44 leaves, max depth = 16, train score: 0.95807, val score: 0.91751, in 0.184s\n",
      "[153/1000] 1 tree, 44 leaves, max depth = 15, train score: 0.95820, val score: 0.91773, in 0.197s\n",
      "[154/1000] 1 tree, 44 leaves, max depth = 14, train score: 0.95855, val score: 0.91775, in 0.136s\n",
      "[155/1000] 1 tree, 44 leaves, max depth = 16, train score: 0.95878, val score: 0.91807, in 0.127s\n",
      "[156/1000] 1 tree, 44 leaves, max depth = 18, train score: 0.95915, val score: 0.91837, in 0.168s\n",
      "[157/1000] 1 tree, 44 leaves, max depth = 16, train score: 0.95936, val score: 0.91828, in 0.174s\n",
      "[158/1000] 1 tree, 44 leaves, max depth = 12, train score: 0.95959, val score: 0.91846, in 0.146s\n",
      "[159/1000] 1 tree, 44 leaves, max depth = 18, train score: 0.95991, val score: 0.91841, in 0.144s\n",
      "[160/1000] 1 tree, 44 leaves, max depth = 20, train score: 0.96021, val score: 0.91855, in 0.150s\n",
      "[161/1000] 1 tree, 44 leaves, max depth = 17, train score: 0.96039, val score: 0.91846, in 0.214s\n",
      "[162/1000] 1 tree, 44 leaves, max depth = 16, train score: 0.96059, val score: 0.91861, in 0.147s\n",
      "[163/1000] 1 tree, 44 leaves, max depth = 13, train score: 0.96080, val score: 0.91871, in 0.143s\n",
      "[164/1000] 1 tree, 44 leaves, max depth = 18, train score: 0.96090, val score: 0.91901, in 0.150s\n",
      "[165/1000] 1 tree, 44 leaves, max depth = 10, train score: 0.96143, val score: 0.91920, in 0.256s\n",
      "[166/1000] 1 tree, 44 leaves, max depth = 18, train score: 0.96179, val score: 0.91932, in 0.156s\n",
      "[167/1000] 1 tree, 44 leaves, max depth = 14, train score: 0.96209, val score: 0.91942, in 0.145s\n",
      "[168/1000] 1 tree, 44 leaves, max depth = 15, train score: 0.96230, val score: 0.91939, in 0.196s\n"
     ]
    },
    {
     "name": "stdout",
     "output_type": "stream",
     "text": [
      "[169/1000] 1 tree, 44 leaves, max depth = 20, train score: 0.96254, val score: 0.91969, in 0.204s\n",
      "[170/1000] 1 tree, 44 leaves, max depth = 12, train score: 0.96271, val score: 0.91994, in 0.156s\n",
      "[171/1000] 1 tree, 44 leaves, max depth = 18, train score: 0.96299, val score: 0.91994, in 0.145s\n",
      "[172/1000] 1 tree, 44 leaves, max depth = 15, train score: 0.96309, val score: 0.92024, in 0.142s\n",
      "[173/1000] 1 tree, 44 leaves, max depth = 18, train score: 0.96335, val score: 0.92045, in 0.171s\n",
      "[174/1000] 1 tree, 44 leaves, max depth = 14, train score: 0.96377, val score: 0.92087, in 0.175s\n",
      "[175/1000] 1 tree, 44 leaves, max depth = 16, train score: 0.96408, val score: 0.92078, in 0.150s\n",
      "[176/1000] 1 tree, 44 leaves, max depth = 14, train score: 0.96426, val score: 0.92085, in 0.141s\n",
      "[177/1000] 1 tree, 44 leaves, max depth = 21, train score: 0.96446, val score: 0.92099, in 0.145s\n",
      "[178/1000] 1 tree, 44 leaves, max depth = 11, train score: 0.96457, val score: 0.92096, in 0.211s\n",
      "[179/1000] 1 tree, 44 leaves, max depth = 13, train score: 0.96463, val score: 0.92105, in 0.142s\n",
      "[180/1000] 1 tree, 44 leaves, max depth = 9, train score: 0.96474, val score: 0.92122, in 0.140s\n",
      "[181/1000] 1 tree, 44 leaves, max depth = 19, train score: 0.96493, val score: 0.92135, in 0.145s\n",
      "[182/1000] 1 tree, 44 leaves, max depth = 13, train score: 0.96507, val score: 0.92154, in 0.143s\n",
      "[183/1000] 1 tree, 44 leaves, max depth = 13, train score: 0.96556, val score: 0.92168, in 0.154s\n",
      "[184/1000] 1 tree, 44 leaves, max depth = 16, train score: 0.96579, val score: 0.92161, in 0.281s\n",
      "[185/1000] 1 tree, 44 leaves, max depth = 14, train score: 0.96599, val score: 0.92163, in 0.290s\n",
      "[186/1000] 1 tree, 44 leaves, max depth = 15, train score: 0.96617, val score: 0.92157, in 0.165s\n",
      "[187/1000] 1 tree, 44 leaves, max depth = 12, train score: 0.96651, val score: 0.92162, in 0.230s\n",
      "[188/1000] 1 tree, 44 leaves, max depth = 17, train score: 0.96676, val score: 0.92175, in 0.211s\n",
      "[189/1000] 1 tree, 44 leaves, max depth = 15, train score: 0.96681, val score: 0.92167, in 0.163s\n",
      "[190/1000] 1 tree, 44 leaves, max depth = 11, train score: 0.96692, val score: 0.92180, in 0.357s\n",
      "[191/1000] 1 tree, 44 leaves, max depth = 13, train score: 0.96702, val score: 0.92166, in 0.162s\n",
      "[192/1000] 1 tree, 44 leaves, max depth = 12, train score: 0.96728, val score: 0.92167, in 0.158s\n",
      "[193/1000] 1 tree, 44 leaves, max depth = 17, train score: 0.96749, val score: 0.92183, in 0.158s\n",
      "[194/1000] 1 tree, 44 leaves, max depth = 17, train score: 0.96765, val score: 0.92173, in 0.260s\n",
      "[195/1000] 1 tree, 44 leaves, max depth = 14, train score: 0.96768, val score: 0.92179, in 0.163s\n",
      "[196/1000] 1 tree, 44 leaves, max depth = 8, train score: 0.96804, val score: 0.92194, in 0.150s\n",
      "[197/1000] 1 tree, 44 leaves, max depth = 15, train score: 0.96810, val score: 0.92198, in 0.151s\n",
      "[198/1000] 1 tree, 44 leaves, max depth = 12, train score: 0.96833, val score: 0.92188, in 0.178s\n",
      "[199/1000] 1 tree, 44 leaves, max depth = 11, train score: 0.96849, val score: 0.92164, in 0.174s\n",
      "[200/1000] 1 tree, 44 leaves, max depth = 16, train score: 0.96861, val score: 0.92176, in 0.149s\n",
      "[201/1000] 1 tree, 44 leaves, max depth = 17, train score: 0.96865, val score: 0.92182, in 0.148s\n",
      "[202/1000] 1 tree, 44 leaves, max depth = 14, train score: 0.96880, val score: 0.92163, in 0.151s\n",
      "[203/1000] 1 tree, 44 leaves, max depth = 16, train score: 0.96896, val score: 0.92167, in 0.216s\n",
      "[204/1000] 1 tree, 44 leaves, max depth = 13, train score: 0.96901, val score: 0.92175, in 0.147s\n",
      "[205/1000] 1 tree, 44 leaves, max depth = 14, train score: 0.96922, val score: 0.92189, in 0.152s\n",
      "[206/1000] 1 tree, 44 leaves, max depth = 13, train score: 0.96940, val score: 0.92188, in 0.148s\n",
      "[207/1000] 1 tree, 44 leaves, max depth = 15, train score: 0.96943, val score: 0.92186, in 0.150s\n",
      "Fit 207 trees in 27.606 s, (9108 total leaves)\n",
      "Time spent computing histograms: 9.990s\n",
      "Time spent finding best splits:  2.807s\n",
      "Time spent applying splits:      3.209s\n",
      "Time spent predicting:           0.046s\n",
      "CPU times: user 2min 46s, sys: 28.7 s, total: 3min 15s\n",
      "Wall time: 28 s\n"
     ]
    },
    {
     "data": {
      "text/plain": [
       "(0.9659117013340929, 0.8577956250355605)"
      ]
     },
     "execution_count": 42,
     "metadata": {},
     "output_type": "execute_result"
    }
   ],
   "source": [
    "%%time\n",
    "clf = HistGradientBoostingClassifier(loss='binary_crossentropy', verbose=1, l2_regularization=2.4,\n",
    "                             learning_rate=0.03, max_depth=25, max_iter=1000, max_leaf_nodes=44,\n",
    "                             min_samples_leaf=8,  scoring='roc_auc', tol=1e-8)\n",
    "clf.fit(xs, y)\n",
    "m_roc(y, xs), m_roc(valid_y, valid_xs)"
   ]
  },
  {
   "cell_type": "markdown",
   "metadata": {},
   "source": [
    "#### RandomizedSearchCV"
   ]
  },
  {
   "cell_type": "code",
   "execution_count": 45,
   "metadata": {},
   "outputs": [],
   "source": [
    "HistGradientBoostingClassifier?"
   ]
  },
  {
   "cell_type": "code",
   "execution_count": 47,
   "metadata": {},
   "outputs": [],
   "source": [
    "clf = RandomizedSearchCV(HistGradientBoostingClassifier(loss='binary_crossentropy', max_iter=1000, \n",
    "                                                  scoring='roc_auc', tol=1e-8 ), parameters1, \n",
    "                   scoring=make_scorer(roc_auc_score, needs_proba=True), n_jobs=-1)"
   ]
  },
  {
   "cell_type": "code",
   "execution_count": 48,
   "metadata": {},
   "outputs": [
    {
     "name": "stdout",
     "output_type": "stream",
     "text": [
      "CPU times: user 1min 22s, sys: 31.6 s, total: 1min 53s\n",
      "Wall time: 5min 55s\n"
     ]
    },
    {
     "data": {
      "text/plain": [
       "(HistGradientBoostingClassifier(l2_regularization=3.0,\n",
       "                                loss='binary_crossentropy', max_depth=25,\n",
       "                                max_iter=1000, max_leaf_nodes=100,\n",
       "                                min_samples_leaf=1, random_state=33,\n",
       "                                scoring='roc_auc', tol=1e-08),\n",
       " 0.8994341794744841,\n",
       " {'random_state': 33,\n",
       "  'min_samples_leaf': 1,\n",
       "  'max_leaf_nodes': 100,\n",
       "  'max_depth': 25,\n",
       "  'learning_rate': 0.1,\n",
       "  'l2_regularization': 3.0})"
      ]
     },
     "execution_count": 48,
     "metadata": {},
     "output_type": "execute_result"
    }
   ],
   "source": [
    "%%time\n",
    "clf.fit(xs, y)\n",
    "clf.best_estimator_, clf.best_score_, clf.best_params_"
   ]
  },
  {
   "cell_type": "code",
   "execution_count": 52,
   "metadata": {
    "collapsed": true
   },
   "outputs": [
    {
     "name": "stdout",
     "output_type": "stream",
     "text": [
      "Binning 0.042 GB of training data: 0.267 s\n",
      "Binning 0.005 GB of validation data: 0.020 s\n",
      "Fitting gradient boosted rounds:\n",
      "[1/1000] 1 tree, 100 leaves, max depth = 17, train score: 0.83818, val score: 0.85907, in 0.103s\n",
      "[2/1000] 1 tree, 100 leaves, max depth = 12, train score: 0.86476, val score: 0.86264, in 0.105s\n",
      "[3/1000] 1 tree, 100 leaves, max depth = 15, train score: 0.87483, val score: 0.86511, in 0.112s\n",
      "[4/1000] 1 tree, 100 leaves, max depth = 13, train score: 0.88018, val score: 0.87326, in 0.154s\n",
      "[5/1000] 1 tree, 100 leaves, max depth = 15, train score: 0.88565, val score: 0.87560, in 0.112s\n",
      "[6/1000] 1 tree, 100 leaves, max depth = 15, train score: 0.89286, val score: 0.88103, in 0.116s\n",
      "[7/1000] 1 tree, 100 leaves, max depth = 15, train score: 0.89638, val score: 0.88804, in 0.122s\n",
      "[8/1000] 1 tree, 100 leaves, max depth = 14, train score: 0.89996, val score: 0.88886, in 0.116s\n",
      "[9/1000] 1 tree, 100 leaves, max depth = 13, train score: 0.90441, val score: 0.89151, in 0.166s\n",
      "[10/1000] 1 tree, 100 leaves, max depth = 12, train score: 0.90633, val score: 0.89573, in 0.113s\n",
      "[11/1000] 1 tree, 100 leaves, max depth = 13, train score: 0.91241, val score: 0.89710, in 0.121s\n",
      "[12/1000] 1 tree, 100 leaves, max depth = 14, train score: 0.91240, val score: 0.89763, in 0.123s\n",
      "[13/1000] 1 tree, 100 leaves, max depth = 15, train score: 0.91497, val score: 0.90152, in 0.120s\n",
      "[14/1000] 1 tree, 100 leaves, max depth = 15, train score: 0.91936, val score: 0.90254, in 0.121s\n",
      "[15/1000] 1 tree, 100 leaves, max depth = 13, train score: 0.92297, val score: 0.90562, in 0.174s\n",
      "[16/1000] 1 tree, 100 leaves, max depth = 18, train score: 0.92598, val score: 0.90723, in 0.123s\n",
      "[17/1000] 1 tree, 100 leaves, max depth = 14, train score: 0.93197, val score: 0.90748, in 0.127s\n",
      "[18/1000] 1 tree, 100 leaves, max depth = 15, train score: 0.93283, val score: 0.90747, in 0.126s\n",
      "[19/1000] 1 tree, 100 leaves, max depth = 15, train score: 0.93464, val score: 0.90757, in 0.126s\n",
      "[20/1000] 1 tree, 100 leaves, max depth = 14, train score: 0.93546, val score: 0.90918, in 0.176s\n",
      "[21/1000] 1 tree, 100 leaves, max depth = 17, train score: 0.93871, val score: 0.90961, in 0.126s\n",
      "[22/1000] 1 tree, 100 leaves, max depth = 13, train score: 0.94110, val score: 0.91086, in 0.134s\n",
      "[23/1000] 1 tree, 100 leaves, max depth = 14, train score: 0.94461, val score: 0.91046, in 0.133s\n",
      "[24/1000] 1 tree, 100 leaves, max depth = 16, train score: 0.94687, val score: 0.91029, in 0.133s\n",
      "[25/1000] 1 tree, 100 leaves, max depth = 14, train score: 0.95027, val score: 0.91358, in 0.187s\n",
      "[26/1000] 1 tree, 100 leaves, max depth = 19, train score: 0.95153, val score: 0.91357, in 0.136s\n",
      "[27/1000] 1 tree, 100 leaves, max depth = 16, train score: 0.95375, val score: 0.91400, in 0.132s\n",
      "[28/1000] 1 tree, 100 leaves, max depth = 25, train score: 0.95660, val score: 0.91485, in 0.134s\n",
      "[29/1000] 1 tree, 100 leaves, max depth = 16, train score: 0.95906, val score: 0.91385, in 0.137s\n",
      "[30/1000] 1 tree, 100 leaves, max depth = 18, train score: 0.96137, val score: 0.91399, in 0.134s\n",
      "[31/1000] 1 tree, 100 leaves, max depth = 19, train score: 0.96275, val score: 0.91416, in 0.197s\n",
      "[32/1000] 1 tree, 100 leaves, max depth = 19, train score: 0.96423, val score: 0.91513, in 0.137s\n",
      "[33/1000] 1 tree, 100 leaves, max depth = 17, train score: 0.96606, val score: 0.91574, in 0.142s\n",
      "[34/1000] 1 tree, 100 leaves, max depth = 21, train score: 0.96827, val score: 0.91635, in 0.141s\n",
      "[35/1000] 1 tree, 100 leaves, max depth = 17, train score: 0.97033, val score: 0.91600, in 0.143s\n",
      "[36/1000] 1 tree, 100 leaves, max depth = 22, train score: 0.97130, val score: 0.91575, in 0.190s\n",
      "[37/1000] 1 tree, 100 leaves, max depth = 21, train score: 0.97299, val score: 0.91613, in 0.145s\n",
      "[38/1000] 1 tree, 100 leaves, max depth = 20, train score: 0.97418, val score: 0.91657, in 0.141s\n",
      "[39/1000] 1 tree, 100 leaves, max depth = 24, train score: 0.97543, val score: 0.91745, in 0.147s\n",
      "[40/1000] 1 tree, 100 leaves, max depth = 20, train score: 0.97674, val score: 0.91865, in 0.147s\n",
      "[41/1000] 1 tree, 100 leaves, max depth = 21, train score: 0.97788, val score: 0.91864, in 0.152s\n",
      "[42/1000] 1 tree, 100 leaves, max depth = 22, train score: 0.97934, val score: 0.92034, in 0.192s\n",
      "[43/1000] 1 tree, 100 leaves, max depth = 24, train score: 0.98035, val score: 0.92088, in 0.146s\n",
      "[44/1000] 1 tree, 100 leaves, max depth = 22, train score: 0.98154, val score: 0.92085, in 0.187s\n",
      "[45/1000] 1 tree, 100 leaves, max depth = 25, train score: 0.98226, val score: 0.92152, in 0.158s\n",
      "[46/1000] 1 tree, 100 leaves, max depth = 25, train score: 0.98320, val score: 0.92136, in 0.149s\n",
      "[47/1000] 1 tree, 100 leaves, max depth = 21, train score: 0.98409, val score: 0.92040, in 0.200s\n",
      "[48/1000] 1 tree, 100 leaves, max depth = 15, train score: 0.98477, val score: 0.92102, in 0.150s\n",
      "[49/1000] 1 tree, 100 leaves, max depth = 18, train score: 0.98570, val score: 0.92079, in 0.151s\n",
      "[50/1000] 1 tree, 100 leaves, max depth = 22, train score: 0.98627, val score: 0.92031, in 0.153s\n",
      "[51/1000] 1 tree, 100 leaves, max depth = 15, train score: 0.98731, val score: 0.92177, in 0.158s\n",
      "[52/1000] 1 tree, 100 leaves, max depth = 19, train score: 0.98781, val score: 0.92225, in 0.241s\n",
      "[53/1000] 1 tree, 100 leaves, max depth = 18, train score: 0.98846, val score: 0.92216, in 0.161s\n",
      "[54/1000] 1 tree, 100 leaves, max depth = 20, train score: 0.98903, val score: 0.92234, in 0.152s\n",
      "[55/1000] 1 tree, 100 leaves, max depth = 21, train score: 0.98964, val score: 0.92259, in 0.155s\n",
      "[56/1000] 1 tree, 100 leaves, max depth = 24, train score: 0.99029, val score: 0.92295, in 0.160s\n",
      "[57/1000] 1 tree, 100 leaves, max depth = 25, train score: 0.99079, val score: 0.92302, in 0.151s\n",
      "[58/1000] 1 tree, 100 leaves, max depth = 25, train score: 0.99130, val score: 0.92227, in 0.210s\n",
      "[59/1000] 1 tree, 100 leaves, max depth = 19, train score: 0.99174, val score: 0.92277, in 0.155s\n",
      "[60/1000] 1 tree, 100 leaves, max depth = 25, train score: 0.99223, val score: 0.92174, in 0.153s\n",
      "[61/1000] 1 tree, 100 leaves, max depth = 25, train score: 0.99268, val score: 0.92230, in 0.161s\n",
      "[62/1000] 1 tree, 100 leaves, max depth = 23, train score: 0.99305, val score: 0.92219, in 0.164s\n",
      "[63/1000] 1 tree, 100 leaves, max depth = 20, train score: 0.99329, val score: 0.92213, in 0.213s\n",
      "[64/1000] 1 tree, 100 leaves, max depth = 25, train score: 0.99365, val score: 0.92326, in 0.156s\n",
      "[65/1000] 1 tree, 100 leaves, max depth = 25, train score: 0.99408, val score: 0.92309, in 0.158s\n",
      "[66/1000] 1 tree, 100 leaves, max depth = 24, train score: 0.99439, val score: 0.92315, in 0.163s\n",
      "[67/1000] 1 tree, 100 leaves, max depth = 25, train score: 0.99467, val score: 0.92331, in 0.161s\n",
      "[68/1000] 1 tree, 100 leaves, max depth = 25, train score: 0.99493, val score: 0.92317, in 0.168s\n",
      "[69/1000] 1 tree, 100 leaves, max depth = 25, train score: 0.99514, val score: 0.92321, in 0.227s\n",
      "[70/1000] 1 tree, 100 leaves, max depth = 17, train score: 0.99553, val score: 0.92356, in 0.159s\n",
      "[71/1000] 1 tree, 100 leaves, max depth = 25, train score: 0.99580, val score: 0.92314, in 0.165s\n",
      "[72/1000] 1 tree, 100 leaves, max depth = 19, train score: 0.99595, val score: 0.92307, in 0.167s\n",
      "[73/1000] 1 tree, 100 leaves, max depth = 24, train score: 0.99609, val score: 0.92344, in 0.171s\n",
      "[74/1000] 1 tree, 100 leaves, max depth = 21, train score: 0.99637, val score: 0.92266, in 0.231s\n",
      "[75/1000] 1 tree, 100 leaves, max depth = 19, train score: 0.99668, val score: 0.92234, in 0.381s\n",
      "[76/1000] 1 tree, 100 leaves, max depth = 25, train score: 0.99679, val score: 0.92239, in 0.288s\n",
      "[77/1000] 1 tree, 100 leaves, max depth = 18, train score: 0.99693, val score: 0.92235, in 0.173s\n",
      "[78/1000] 1 tree, 100 leaves, max depth = 20, train score: 0.99709, val score: 0.92172, in 0.172s\n",
      "[79/1000] 1 tree, 100 leaves, max depth = 23, train score: 0.99720, val score: 0.92161, in 0.166s\n",
      "[80/1000] 1 tree, 100 leaves, max depth = 15, train score: 0.99730, val score: 0.92105, in 0.216s\n",
      "Fit 80 trees in 13.153 s, (8000 total leaves)\n",
      "Time spent computing histograms: 6.210s\n",
      "Time spent finding best splits:  1.437s\n",
      "Time spent applying splits:      2.415s\n",
      "Time spent predicting:           0.018s\n",
      "CPU times: user 1min 12s, sys: 20.4 s, total: 1min 33s\n",
      "Wall time: 13.4 s\n"
     ]
    },
    {
     "data": {
      "text/plain": [
       "(0.9902917443033911, 0.897707662150385)"
      ]
     },
     "execution_count": 52,
     "metadata": {},
     "output_type": "execute_result"
    }
   ],
   "source": [
    "%%time\n",
    "clf = HistGradientBoostingClassifier(loss='binary_crossentropy', verbose=1, l2_regularization=3.0,\n",
    "                             learning_rate=0.1, max_depth=25, max_iter=1000, max_leaf_nodes=100,\n",
    "                             min_samples_leaf=1,  scoring='roc_auc', tol=1e-8)\n",
    "clf.fit(xs, y)\n",
    "m_roc(y, xs), m_roc(valid_y, valid_xs)"
   ]
  },
  {
   "cell_type": "code",
   "execution_count": 53,
   "metadata": {},
   "outputs": [
    {
     "name": "stdout",
     "output_type": "stream",
     "text": [
      "CPU times: user 43.7 s, sys: 12.6 s, total: 56.4 s\n",
      "Wall time: 4min 9s\n"
     ]
    },
    {
     "data": {
      "text/plain": [
       "(HistGradientBoostingClassifier(l2_regularization=3.0,\n",
       "                                loss='binary_crossentropy', max_depth=25,\n",
       "                                max_iter=1000, max_leaf_nodes=50,\n",
       "                                min_samples_leaf=1, random_state=33,\n",
       "                                scoring='roc_auc', tol=1e-08),\n",
       " 0.9029214381739428,\n",
       " {'random_state': 33,\n",
       "  'min_samples_leaf': 1,\n",
       "  'max_leaf_nodes': 50,\n",
       "  'max_depth': 25,\n",
       "  'learning_rate': 0.1,\n",
       "  'l2_regularization': 3.0})"
      ]
     },
     "execution_count": 53,
     "metadata": {},
     "output_type": "execute_result"
    }
   ],
   "source": [
    "%%time\n",
    "clf = RandomizedSearchCV(HistGradientBoostingClassifier(loss='binary_crossentropy', max_iter=1000, \n",
    "                                                  scoring='roc_auc', tol=1e-8 ), parameters2, \n",
    "                   scoring=make_scorer(roc_auc_score, needs_proba=True), n_jobs=-1)\n",
    "clf.fit(xs, y)\n",
    "clf.best_estimator_, clf.best_score_, clf.best_params_"
   ]
  },
  {
   "cell_type": "code",
   "execution_count": 54,
   "metadata": {
    "collapsed": true
   },
   "outputs": [
    {
     "name": "stdout",
     "output_type": "stream",
     "text": [
      "Binning 0.042 GB of training data: 0.266 s\n",
      "Binning 0.005 GB of validation data: 0.019 s\n",
      "Fitting gradient boosted rounds:\n",
      "[1/1000] 1 tree, 50 leaves, max depth = 10, train score: 0.87151, val score: 0.83116, in 0.069s\n",
      "[2/1000] 1 tree, 50 leaves, max depth = 11, train score: 0.87735, val score: 0.84413, in 0.070s\n",
      "[3/1000] 1 tree, 50 leaves, max depth = 13, train score: 0.87760, val score: 0.85392, in 0.079s\n",
      "[4/1000] 1 tree, 50 leaves, max depth = 11, train score: 0.87907, val score: 0.85628, in 0.069s\n",
      "[5/1000] 1 tree, 50 leaves, max depth = 11, train score: 0.88685, val score: 0.86472, in 0.100s\n",
      "[6/1000] 1 tree, 50 leaves, max depth = 10, train score: 0.89489, val score: 0.86919, in 0.065s\n",
      "[7/1000] 1 tree, 50 leaves, max depth = 11, train score: 0.89657, val score: 0.87336, in 0.068s\n",
      "[8/1000] 1 tree, 50 leaves, max depth = 12, train score: 0.90299, val score: 0.88313, in 0.069s\n",
      "[9/1000] 1 tree, 50 leaves, max depth = 11, train score: 0.90551, val score: 0.88614, in 0.067s\n",
      "[10/1000] 1 tree, 50 leaves, max depth = 11, train score: 0.90792, val score: 0.88777, in 0.070s\n",
      "[11/1000] 1 tree, 50 leaves, max depth = 10, train score: 0.90942, val score: 0.89267, in 0.074s\n",
      "[12/1000] 1 tree, 50 leaves, max depth = 12, train score: 0.91309, val score: 0.89324, in 0.067s\n",
      "[13/1000] 1 tree, 50 leaves, max depth = 11, train score: 0.91739, val score: 0.89519, in 0.066s\n",
      "[14/1000] 1 tree, 50 leaves, max depth = 15, train score: 0.91990, val score: 0.89662, in 0.065s\n",
      "[15/1000] 1 tree, 50 leaves, max depth = 14, train score: 0.92220, val score: 0.89904, in 0.119s\n",
      "[16/1000] 1 tree, 50 leaves, max depth = 10, train score: 0.92359, val score: 0.90141, in 0.071s\n",
      "[17/1000] 1 tree, 50 leaves, max depth = 10, train score: 0.92589, val score: 0.90098, in 0.077s\n",
      "[18/1000] 1 tree, 50 leaves, max depth = 12, train score: 0.92685, val score: 0.90158, in 0.069s\n",
      "[19/1000] 1 tree, 50 leaves, max depth = 13, train score: 0.92841, val score: 0.90274, in 0.069s\n",
      "[20/1000] 1 tree, 50 leaves, max depth = 12, train score: 0.93146, val score: 0.90371, in 0.071s\n",
      "[21/1000] 1 tree, 50 leaves, max depth = 13, train score: 0.93314, val score: 0.90511, in 0.070s\n",
      "[22/1000] 1 tree, 50 leaves, max depth = 10, train score: 0.93403, val score: 0.90576, in 0.071s\n",
      "[23/1000] 1 tree, 50 leaves, max depth = 15, train score: 0.93621, val score: 0.90561, in 0.071s\n",
      "[24/1000] 1 tree, 50 leaves, max depth = 14, train score: 0.93720, val score: 0.90534, in 0.069s\n",
      "[25/1000] 1 tree, 50 leaves, max depth = 13, train score: 0.93834, val score: 0.90675, in 0.071s\n",
      "[26/1000] 1 tree, 50 leaves, max depth = 15, train score: 0.93952, val score: 0.90741, in 0.119s\n",
      "[27/1000] 1 tree, 50 leaves, max depth = 14, train score: 0.94117, val score: 0.90760, in 0.067s\n",
      "[28/1000] 1 tree, 50 leaves, max depth = 11, train score: 0.94268, val score: 0.90761, in 0.075s\n",
      "[29/1000] 1 tree, 50 leaves, max depth = 17, train score: 0.94475, val score: 0.90851, in 0.070s\n",
      "[30/1000] 1 tree, 50 leaves, max depth = 12, train score: 0.94648, val score: 0.90868, in 0.075s\n",
      "[31/1000] 1 tree, 50 leaves, max depth = 18, train score: 0.94738, val score: 0.90826, in 0.074s\n",
      "[32/1000] 1 tree, 50 leaves, max depth = 15, train score: 0.94946, val score: 0.90902, in 0.073s\n",
      "[33/1000] 1 tree, 50 leaves, max depth = 12, train score: 0.95158, val score: 0.90973, in 0.073s\n",
      "[34/1000] 1 tree, 50 leaves, max depth = 15, train score: 0.95317, val score: 0.90998, in 0.075s\n",
      "[35/1000] 1 tree, 50 leaves, max depth = 13, train score: 0.95406, val score: 0.90977, in 0.075s\n",
      "[36/1000] 1 tree, 50 leaves, max depth = 15, train score: 0.95504, val score: 0.91042, in 0.104s\n",
      "[37/1000] 1 tree, 50 leaves, max depth = 12, train score: 0.95636, val score: 0.91110, in 0.142s\n",
      "[38/1000] 1 tree, 50 leaves, max depth = 14, train score: 0.95795, val score: 0.91193, in 0.075s\n",
      "[39/1000] 1 tree, 50 leaves, max depth = 14, train score: 0.95914, val score: 0.91309, in 0.078s\n",
      "[40/1000] 1 tree, 50 leaves, max depth = 14, train score: 0.96005, val score: 0.91372, in 0.079s\n",
      "[41/1000] 1 tree, 50 leaves, max depth = 16, train score: 0.96110, val score: 0.91446, in 0.087s\n",
      "[42/1000] 1 tree, 50 leaves, max depth = 13, train score: 0.96147, val score: 0.91548, in 0.087s\n",
      "[43/1000] 1 tree, 50 leaves, max depth = 16, train score: 0.96238, val score: 0.91558, in 0.097s\n",
      "[44/1000] 1 tree, 50 leaves, max depth = 18, train score: 0.96349, val score: 0.91485, in 0.086s\n",
      "[45/1000] 1 tree, 50 leaves, max depth = 16, train score: 0.96464, val score: 0.91479, in 0.078s\n",
      "[46/1000] 1 tree, 50 leaves, max depth = 13, train score: 0.96539, val score: 0.91471, in 0.083s\n",
      "[47/1000] 1 tree, 50 leaves, max depth = 16, train score: 0.96611, val score: 0.91531, in 0.088s\n",
      "[48/1000] 1 tree, 50 leaves, max depth = 12, train score: 0.96671, val score: 0.91548, in 0.138s\n",
      "[49/1000] 1 tree, 50 leaves, max depth = 16, train score: 0.96759, val score: 0.91560, in 0.101s\n",
      "[50/1000] 1 tree, 50 leaves, max depth = 17, train score: 0.96875, val score: 0.91576, in 0.101s\n",
      "[51/1000] 1 tree, 50 leaves, max depth = 14, train score: 0.96940, val score: 0.91594, in 0.114s\n",
      "[52/1000] 1 tree, 50 leaves, max depth = 16, train score: 0.96980, val score: 0.91613, in 0.107s\n",
      "[53/1000] 1 tree, 50 leaves, max depth = 16, train score: 0.97075, val score: 0.91600, in 0.117s\n",
      "[54/1000] 1 tree, 50 leaves, max depth = 12, train score: 0.97121, val score: 0.91658, in 0.100s\n",
      "[55/1000] 1 tree, 50 leaves, max depth = 14, train score: 0.97176, val score: 0.91712, in 0.085s\n",
      "[56/1000] 1 tree, 50 leaves, max depth = 17, train score: 0.97244, val score: 0.91756, in 0.085s\n",
      "[57/1000] 1 tree, 50 leaves, max depth = 14, train score: 0.97272, val score: 0.91768, in 0.082s\n",
      "[58/1000] 1 tree, 50 leaves, max depth = 13, train score: 0.97361, val score: 0.91753, in 0.087s\n",
      "[59/1000] 1 tree, 50 leaves, max depth = 21, train score: 0.97484, val score: 0.91825, in 0.140s\n",
      "[60/1000] 1 tree, 50 leaves, max depth = 14, train score: 0.97552, val score: 0.91801, in 0.088s\n",
      "[61/1000] 1 tree, 50 leaves, max depth = 14, train score: 0.97595, val score: 0.91841, in 0.097s\n",
      "[62/1000] 1 tree, 50 leaves, max depth = 13, train score: 0.97663, val score: 0.91847, in 0.119s\n",
      "[63/1000] 1 tree, 50 leaves, max depth = 19, train score: 0.97695, val score: 0.91829, in 0.095s\n",
      "[64/1000] 1 tree, 50 leaves, max depth = 17, train score: 0.97747, val score: 0.91879, in 0.086s\n",
      "[65/1000] 1 tree, 50 leaves, max depth = 13, train score: 0.97774, val score: 0.91911, in 0.095s\n",
      "[66/1000] 1 tree, 50 leaves, max depth = 19, train score: 0.97796, val score: 0.91872, in 0.105s\n",
      "[67/1000] 1 tree, 50 leaves, max depth = 16, train score: 0.97868, val score: 0.91918, in 0.085s\n",
      "[68/1000] 1 tree, 50 leaves, max depth = 20, train score: 0.97899, val score: 0.91959, in 0.106s\n",
      "[69/1000] 1 tree, 50 leaves, max depth = 12, train score: 0.97957, val score: 0.91993, in 0.103s\n",
      "[70/1000] 1 tree, 50 leaves, max depth = 16, train score: 0.98025, val score: 0.92050, in 0.158s\n",
      "[71/1000] 1 tree, 50 leaves, max depth = 15, train score: 0.98056, val score: 0.92053, in 0.102s\n",
      "[72/1000] 1 tree, 50 leaves, max depth = 11, train score: 0.98097, val score: 0.92063, in 0.097s\n",
      "[73/1000] 1 tree, 50 leaves, max depth = 11, train score: 0.98109, val score: 0.92071, in 0.094s\n",
      "[74/1000] 1 tree, 50 leaves, max depth = 14, train score: 0.98134, val score: 0.92086, in 0.088s\n",
      "[75/1000] 1 tree, 50 leaves, max depth = 13, train score: 0.98171, val score: 0.92095, in 0.090s\n",
      "[76/1000] 1 tree, 50 leaves, max depth = 17, train score: 0.98191, val score: 0.92105, in 0.090s\n",
      "[77/1000] 1 tree, 50 leaves, max depth = 16, train score: 0.98238, val score: 0.92145, in 0.092s\n",
      "[78/1000] 1 tree, 50 leaves, max depth = 16, train score: 0.98263, val score: 0.92175, in 0.099s\n",
      "[79/1000] 1 tree, 50 leaves, max depth = 10, train score: 0.98302, val score: 0.92161, in 0.089s\n",
      "[80/1000] 1 tree, 50 leaves, max depth = 14, train score: 0.98341, val score: 0.92193, in 0.090s\n",
      "[81/1000] 1 tree, 50 leaves, max depth = 12, train score: 0.98358, val score: 0.92246, in 0.138s\n",
      "[82/1000] 1 tree, 50 leaves, max depth = 20, train score: 0.98399, val score: 0.92281, in 0.097s\n",
      "[83/1000] 1 tree, 50 leaves, max depth = 14, train score: 0.98414, val score: 0.92305, in 0.098s\n",
      "[84/1000] 1 tree, 50 leaves, max depth = 13, train score: 0.98457, val score: 0.92251, in 0.096s\n"
     ]
    },
    {
     "name": "stdout",
     "output_type": "stream",
     "text": [
      "[85/1000] 1 tree, 50 leaves, max depth = 12, train score: 0.98479, val score: 0.92269, in 0.092s\n",
      "[86/1000] 1 tree, 50 leaves, max depth = 15, train score: 0.98516, val score: 0.92214, in 0.095s\n",
      "[87/1000] 1 tree, 50 leaves, max depth = 20, train score: 0.98542, val score: 0.92222, in 0.100s\n",
      "[88/1000] 1 tree, 50 leaves, max depth = 16, train score: 0.98552, val score: 0.92233, in 0.091s\n",
      "[89/1000] 1 tree, 50 leaves, max depth = 12, train score: 0.98581, val score: 0.92187, in 0.094s\n",
      "[90/1000] 1 tree, 50 leaves, max depth = 13, train score: 0.98629, val score: 0.92166, in 0.098s\n",
      "[91/1000] 1 tree, 50 leaves, max depth = 14, train score: 0.98666, val score: 0.92160, in 0.104s\n",
      "[92/1000] 1 tree, 50 leaves, max depth = 11, train score: 0.98687, val score: 0.92169, in 0.161s\n",
      "[93/1000] 1 tree, 50 leaves, max depth = 14, train score: 0.98729, val score: 0.92132, in 0.092s\n",
      "Fit 93 trees in 8.831 s, (4650 total leaves)\n",
      "Time spent computing histograms: 3.472s\n",
      "Time spent finding best splits:  1.028s\n",
      "Time spent applying splits:      1.394s\n",
      "Time spent predicting:           0.062s\n",
      "CPU times: user 50.5 s, sys: 9.88 s, total: 1min\n",
      "Wall time: 9.06 s\n"
     ]
    },
    {
     "data": {
      "text/plain": [
       "(0.9799191024791805, 0.9001188173745548)"
      ]
     },
     "execution_count": 54,
     "metadata": {},
     "output_type": "execute_result"
    }
   ],
   "source": [
    "%%time\n",
    "clf = HistGradientBoostingClassifier(loss='binary_crossentropy', verbose=1, l2_regularization=3.0,\n",
    "                             learning_rate=0.1, max_depth=25, max_iter=1000, max_leaf_nodes=50,\n",
    "                             min_samples_leaf=1,  scoring='roc_auc', tol=1e-8)\n",
    "clf.fit(xs, y)\n",
    "m_roc(y, xs), m_roc(valid_y, valid_xs)"
   ]
  },
  {
   "cell_type": "code",
   "execution_count": 57,
   "metadata": {},
   "outputs": [
    {
     "name": "stdout",
     "output_type": "stream",
     "text": [
      "CPU times: user 2min 20s, sys: 31.1 s, total: 2min 51s\n",
      "Wall time: 5min 8s\n"
     ]
    },
    {
     "data": {
      "text/plain": [
       "(HistGradientBoostingClassifier(l2_regularization=3.0,\n",
       "                                loss='binary_crossentropy', max_depth=15,\n",
       "                                max_iter=1000, max_leaf_nodes=50,\n",
       "                                min_samples_leaf=1, random_state=33,\n",
       "                                scoring='roc_auc', tol=1e-08),\n",
       " 0.9018079437903692,\n",
       " {'random_state': 33,\n",
       "  'min_samples_leaf': 1,\n",
       "  'max_leaf_nodes': 50,\n",
       "  'max_depth': 15,\n",
       "  'learning_rate': 0.1,\n",
       "  'l2_regularization': 3.0})"
      ]
     },
     "execution_count": 57,
     "metadata": {},
     "output_type": "execute_result"
    }
   ],
   "source": [
    "%%time\n",
    "clf = RandomizedSearchCV(HistGradientBoostingClassifier(loss='binary_crossentropy', max_iter=1000, \n",
    "                                                  scoring='roc_auc', tol=1e-8 ), parameters3, \n",
    "                   scoring=make_scorer(roc_auc_score, needs_proba=True), n_jobs=-1)\n",
    "clf.fit(xs, y)\n",
    "clf.best_estimator_, clf.best_score_, clf.best_params_"
   ]
  },
  {
   "cell_type": "code",
   "execution_count": 59,
   "metadata": {
    "collapsed": true
   },
   "outputs": [
    {
     "name": "stdout",
     "output_type": "stream",
     "text": [
      "Binning 0.042 GB of training data: 0.262 s\n",
      "Binning 0.005 GB of validation data: 0.018 s\n",
      "Fitting gradient boosted rounds:\n",
      "[1/1000] 1 tree, 50 leaves, max depth = 11, train score: 0.81823, val score: 0.79194, in 0.066s\n",
      "[2/1000] 1 tree, 50 leaves, max depth = 11, train score: 0.85544, val score: 0.83462, in 0.069s\n",
      "[3/1000] 1 tree, 50 leaves, max depth = 15, train score: 0.86601, val score: 0.84264, in 0.071s\n",
      "[4/1000] 1 tree, 50 leaves, max depth = 11, train score: 0.87332, val score: 0.84650, in 0.068s\n",
      "[5/1000] 1 tree, 50 leaves, max depth = 11, train score: 0.87767, val score: 0.84732, in 0.066s\n",
      "[6/1000] 1 tree, 50 leaves, max depth = 10, train score: 0.88572, val score: 0.85011, in 0.068s\n",
      "[7/1000] 1 tree, 50 leaves, max depth = 15, train score: 0.88758, val score: 0.85344, in 0.132s\n",
      "[8/1000] 1 tree, 50 leaves, max depth = 11, train score: 0.89330, val score: 0.85601, in 0.095s\n",
      "[9/1000] 1 tree, 50 leaves, max depth = 10, train score: 0.89490, val score: 0.85643, in 0.086s\n",
      "[10/1000] 1 tree, 50 leaves, max depth = 9, train score: 0.89636, val score: 0.85702, in 0.074s\n",
      "[11/1000] 1 tree, 50 leaves, max depth = 11, train score: 0.89850, val score: 0.85954, in 0.072s\n",
      "[12/1000] 1 tree, 50 leaves, max depth = 10, train score: 0.90169, val score: 0.86077, in 0.071s\n",
      "[13/1000] 1 tree, 50 leaves, max depth = 12, train score: 0.90428, val score: 0.86011, in 0.072s\n",
      "[14/1000] 1 tree, 50 leaves, max depth = 12, train score: 0.90752, val score: 0.86474, in 0.075s\n",
      "[15/1000] 1 tree, 50 leaves, max depth = 12, train score: 0.90874, val score: 0.86798, in 0.077s\n",
      "[16/1000] 1 tree, 50 leaves, max depth = 12, train score: 0.91224, val score: 0.87005, in 0.097s\n",
      "[17/1000] 1 tree, 50 leaves, max depth = 10, train score: 0.91605, val score: 0.87027, in 0.096s\n",
      "[18/1000] 1 tree, 50 leaves, max depth = 10, train score: 0.91817, val score: 0.87103, in 0.142s\n",
      "[19/1000] 1 tree, 50 leaves, max depth = 13, train score: 0.92010, val score: 0.87166, in 0.231s\n",
      "[20/1000] 1 tree, 50 leaves, max depth = 11, train score: 0.92370, val score: 0.87076, in 0.093s\n",
      "[21/1000] 1 tree, 50 leaves, max depth = 10, train score: 0.92489, val score: 0.87145, in 0.104s\n",
      "[22/1000] 1 tree, 50 leaves, max depth = 10, train score: 0.92711, val score: 0.87320, in 0.085s\n",
      "[23/1000] 1 tree, 50 leaves, max depth = 14, train score: 0.92825, val score: 0.87652, in 0.087s\n",
      "[24/1000] 1 tree, 50 leaves, max depth = 15, train score: 0.93075, val score: 0.87844, in 0.076s\n",
      "[25/1000] 1 tree, 50 leaves, max depth = 15, train score: 0.93284, val score: 0.87802, in 0.078s\n",
      "[26/1000] 1 tree, 50 leaves, max depth = 11, train score: 0.93447, val score: 0.87796, in 0.082s\n",
      "[27/1000] 1 tree, 50 leaves, max depth = 11, train score: 0.93602, val score: 0.87888, in 0.097s\n",
      "[28/1000] 1 tree, 50 leaves, max depth = 15, train score: 0.93759, val score: 0.87884, in 0.112s\n",
      "[29/1000] 1 tree, 50 leaves, max depth = 14, train score: 0.93926, val score: 0.87910, in 0.093s\n",
      "[30/1000] 1 tree, 50 leaves, max depth = 11, train score: 0.94110, val score: 0.88033, in 0.130s\n",
      "[31/1000] 1 tree, 50 leaves, max depth = 14, train score: 0.94276, val score: 0.88033, in 0.091s\n",
      "[32/1000] 1 tree, 50 leaves, max depth = 15, train score: 0.94383, val score: 0.88026, in 0.085s\n",
      "[33/1000] 1 tree, 50 leaves, max depth = 10, train score: 0.94599, val score: 0.87994, in 0.082s\n",
      "[34/1000] 1 tree, 50 leaves, max depth = 9, train score: 0.94741, val score: 0.88073, in 0.096s\n",
      "[35/1000] 1 tree, 50 leaves, max depth = 12, train score: 0.94804, val score: 0.88092, in 0.101s\n",
      "[36/1000] 1 tree, 50 leaves, max depth = 14, train score: 0.94994, val score: 0.88120, in 0.105s\n",
      "[37/1000] 1 tree, 50 leaves, max depth = 15, train score: 0.95126, val score: 0.88232, in 0.090s\n",
      "[38/1000] 1 tree, 50 leaves, max depth = 14, train score: 0.95310, val score: 0.88303, in 0.093s\n",
      "[39/1000] 1 tree, 50 leaves, max depth = 14, train score: 0.95521, val score: 0.88382, in 0.088s\n",
      "[40/1000] 1 tree, 50 leaves, max depth = 15, train score: 0.95663, val score: 0.88375, in 0.124s\n",
      "[41/1000] 1 tree, 50 leaves, max depth = 15, train score: 0.95776, val score: 0.88500, in 0.178s\n",
      "[42/1000] 1 tree, 50 leaves, max depth = 15, train score: 0.95850, val score: 0.88613, in 0.090s\n",
      "[43/1000] 1 tree, 50 leaves, max depth = 15, train score: 0.95924, val score: 0.88663, in 0.088s\n",
      "[44/1000] 1 tree, 50 leaves, max depth = 15, train score: 0.96057, val score: 0.88731, in 0.090s\n",
      "[45/1000] 1 tree, 50 leaves, max depth = 15, train score: 0.96202, val score: 0.88857, in 0.085s\n",
      "[46/1000] 1 tree, 50 leaves, max depth = 13, train score: 0.96257, val score: 0.88856, in 0.085s\n",
      "[47/1000] 1 tree, 50 leaves, max depth = 12, train score: 0.96358, val score: 0.88838, in 0.110s\n",
      "[48/1000] 1 tree, 50 leaves, max depth = 11, train score: 0.96415, val score: 0.88916, in 0.099s\n",
      "[49/1000] 1 tree, 50 leaves, max depth = 15, train score: 0.96455, val score: 0.88970, in 0.094s\n",
      "[50/1000] 1 tree, 50 leaves, max depth = 15, train score: 0.96532, val score: 0.89019, in 0.098s\n",
      "[51/1000] 1 tree, 50 leaves, max depth = 14, train score: 0.96605, val score: 0.89010, in 0.101s\n",
      "[52/1000] 1 tree, 50 leaves, max depth = 15, train score: 0.96697, val score: 0.89017, in 0.140s\n",
      "[53/1000] 1 tree, 50 leaves, max depth = 15, train score: 0.96795, val score: 0.88987, in 0.092s\n",
      "[54/1000] 1 tree, 50 leaves, max depth = 15, train score: 0.96863, val score: 0.88946, in 0.105s\n",
      "[55/1000] 1 tree, 50 leaves, max depth = 15, train score: 0.96920, val score: 0.88890, in 0.133s\n",
      "[56/1000] 1 tree, 50 leaves, max depth = 15, train score: 0.96973, val score: 0.88898, in 0.103s\n",
      "[57/1000] 1 tree, 50 leaves, max depth = 15, train score: 0.97045, val score: 0.88861, in 0.089s\n",
      "[58/1000] 1 tree, 50 leaves, max depth = 14, train score: 0.97151, val score: 0.88993, in 0.103s\n",
      "[59/1000] 1 tree, 50 leaves, max depth = 13, train score: 0.97202, val score: 0.89105, in 0.099s\n",
      "[60/1000] 1 tree, 50 leaves, max depth = 12, train score: 0.97286, val score: 0.89069, in 0.106s\n",
      "[61/1000] 1 tree, 50 leaves, max depth = 15, train score: 0.97317, val score: 0.89105, in 0.101s\n",
      "[62/1000] 1 tree, 50 leaves, max depth = 15, train score: 0.97350, val score: 0.89043, in 0.093s\n",
      "[63/1000] 1 tree, 50 leaves, max depth = 12, train score: 0.97413, val score: 0.89013, in 0.149s\n",
      "[64/1000] 1 tree, 50 leaves, max depth = 15, train score: 0.97427, val score: 0.89022, in 0.098s\n",
      "[65/1000] 1 tree, 50 leaves, max depth = 15, train score: 0.97532, val score: 0.89037, in 0.109s\n",
      "[66/1000] 1 tree, 50 leaves, max depth = 15, train score: 0.97580, val score: 0.89044, in 0.144s\n",
      "[67/1000] 1 tree, 50 leaves, max depth = 15, train score: 0.97615, val score: 0.89060, in 0.099s\n",
      "[68/1000] 1 tree, 50 leaves, max depth = 15, train score: 0.97670, val score: 0.89074, in 0.103s\n",
      "[69/1000] 1 tree, 50 leaves, max depth = 13, train score: 0.97734, val score: 0.89128, in 0.115s\n",
      "[70/1000] 1 tree, 50 leaves, max depth = 13, train score: 0.97768, val score: 0.89151, in 0.140s\n",
      "[71/1000] 1 tree, 50 leaves, max depth = 15, train score: 0.97848, val score: 0.89215, in 0.140s\n",
      "[72/1000] 1 tree, 50 leaves, max depth = 15, train score: 0.97892, val score: 0.89237, in 0.104s\n",
      "[73/1000] 1 tree, 50 leaves, max depth = 14, train score: 0.97933, val score: 0.89129, in 0.101s\n",
      "[74/1000] 1 tree, 50 leaves, max depth = 15, train score: 0.97976, val score: 0.89141, in 0.144s\n",
      "[75/1000] 1 tree, 50 leaves, max depth = 15, train score: 0.98014, val score: 0.89171, in 0.095s\n",
      "[76/1000] 1 tree, 50 leaves, max depth = 12, train score: 0.98060, val score: 0.89192, in 0.138s\n",
      "[77/1000] 1 tree, 50 leaves, max depth = 12, train score: 0.98108, val score: 0.89228, in 0.127s\n",
      "[78/1000] 1 tree, 50 leaves, max depth = 15, train score: 0.98148, val score: 0.89213, in 0.169s\n",
      "[79/1000] 1 tree, 50 leaves, max depth = 15, train score: 0.98184, val score: 0.89246, in 0.125s\n",
      "[80/1000] 1 tree, 50 leaves, max depth = 15, train score: 0.98198, val score: 0.89275, in 0.105s\n",
      "[81/1000] 1 tree, 50 leaves, max depth = 10, train score: 0.98231, val score: 0.89282, in 0.103s\n",
      "[82/1000] 1 tree, 50 leaves, max depth = 13, train score: 0.98246, val score: 0.89324, in 0.106s\n",
      "[83/1000] 1 tree, 50 leaves, max depth = 15, train score: 0.98306, val score: 0.89335, in 0.149s\n",
      "[84/1000] 1 tree, 50 leaves, max depth = 13, train score: 0.98335, val score: 0.89308, in 0.136s\n"
     ]
    },
    {
     "name": "stdout",
     "output_type": "stream",
     "text": [
      "[85/1000] 1 tree, 50 leaves, max depth = 15, train score: 0.98365, val score: 0.89363, in 0.159s\n",
      "[86/1000] 1 tree, 50 leaves, max depth = 12, train score: 0.98390, val score: 0.89314, in 0.103s\n",
      "[87/1000] 1 tree, 50 leaves, max depth = 15, train score: 0.98409, val score: 0.89362, in 0.105s\n",
      "[88/1000] 1 tree, 50 leaves, max depth = 14, train score: 0.98467, val score: 0.89291, in 0.110s\n",
      "[89/1000] 1 tree, 50 leaves, max depth = 14, train score: 0.98498, val score: 0.89257, in 0.118s\n",
      "[90/1000] 1 tree, 50 leaves, max depth = 15, train score: 0.98547, val score: 0.89284, in 0.142s\n",
      "[91/1000] 1 tree, 50 leaves, max depth = 13, train score: 0.98557, val score: 0.89280, in 0.157s\n",
      "[92/1000] 1 tree, 50 leaves, max depth = 15, train score: 0.98599, val score: 0.89340, in 0.186s\n",
      "[93/1000] 1 tree, 50 leaves, max depth = 15, train score: 0.98630, val score: 0.89377, in 0.150s\n",
      "[94/1000] 1 tree, 50 leaves, max depth = 12, train score: 0.98652, val score: 0.89337, in 0.133s\n",
      "[95/1000] 1 tree, 50 leaves, max depth = 14, train score: 0.98669, val score: 0.89337, in 0.108s\n",
      "[96/1000] 1 tree, 50 leaves, max depth = 15, train score: 0.98694, val score: 0.89365, in 0.159s\n",
      "[97/1000] 1 tree, 50 leaves, max depth = 12, train score: 0.98702, val score: 0.89372, in 0.167s\n",
      "[98/1000] 1 tree, 50 leaves, max depth = 15, train score: 0.98735, val score: 0.89358, in 0.150s\n",
      "[99/1000] 1 tree, 50 leaves, max depth = 15, train score: 0.98744, val score: 0.89347, in 0.108s\n",
      "[100/1000] 1 tree, 50 leaves, max depth = 15, train score: 0.98772, val score: 0.89336, in 0.113s\n",
      "[101/1000] 1 tree, 50 leaves, max depth = 12, train score: 0.98799, val score: 0.89410, in 0.129s\n",
      "[102/1000] 1 tree, 50 leaves, max depth = 15, train score: 0.98816, val score: 0.89390, in 0.205s\n",
      "[103/1000] 1 tree, 50 leaves, max depth = 15, train score: 0.98825, val score: 0.89403, in 0.125s\n",
      "[104/1000] 1 tree, 50 leaves, max depth = 13, train score: 0.98831, val score: 0.89452, in 0.126s\n",
      "[105/1000] 1 tree, 50 leaves, max depth = 11, train score: 0.98860, val score: 0.89480, in 0.099s\n",
      "[106/1000] 1 tree, 50 leaves, max depth = 14, train score: 0.98873, val score: 0.89489, in 0.105s\n",
      "[107/1000] 1 tree, 50 leaves, max depth = 12, train score: 0.98906, val score: 0.89512, in 0.279s\n",
      "[108/1000] 1 tree, 50 leaves, max depth = 15, train score: 0.98919, val score: 0.89552, in 0.124s\n",
      "[109/1000] 1 tree, 50 leaves, max depth = 15, train score: 0.98934, val score: 0.89581, in 0.136s\n",
      "[110/1000] 1 tree, 50 leaves, max depth = 15, train score: 0.98950, val score: 0.89556, in 0.149s\n",
      "[111/1000] 1 tree, 50 leaves, max depth = 9, train score: 0.98985, val score: 0.89565, in 0.187s\n",
      "[112/1000] 1 tree, 50 leaves, max depth = 15, train score: 0.98991, val score: 0.89560, in 0.118s\n",
      "[113/1000] 1 tree, 50 leaves, max depth = 11, train score: 0.99027, val score: 0.89589, in 0.139s\n",
      "[114/1000] 1 tree, 50 leaves, max depth = 13, train score: 0.99044, val score: 0.89557, in 0.103s\n",
      "[115/1000] 1 tree, 50 leaves, max depth = 14, train score: 0.99055, val score: 0.89530, in 0.102s\n",
      "[116/1000] 1 tree, 50 leaves, max depth = 15, train score: 0.99081, val score: 0.89544, in 0.151s\n",
      "[117/1000] 1 tree, 50 leaves, max depth = 15, train score: 0.99083, val score: 0.89563, in 0.214s\n",
      "[118/1000] 1 tree, 50 leaves, max depth = 13, train score: 0.99105, val score: 0.89584, in 0.270s\n",
      "[119/1000] 1 tree, 50 leaves, max depth = 12, train score: 0.99115, val score: 0.89615, in 0.190s\n",
      "[120/1000] 1 tree, 50 leaves, max depth = 14, train score: 0.99119, val score: 0.89610, in 0.139s\n",
      "[121/1000] 1 tree, 50 leaves, max depth = 15, train score: 0.99145, val score: 0.89619, in 0.120s\n",
      "[122/1000] 1 tree, 50 leaves, max depth = 12, train score: 0.99171, val score: 0.89543, in 0.137s\n",
      "[123/1000] 1 tree, 50 leaves, max depth = 12, train score: 0.99183, val score: 0.89580, in 0.111s\n",
      "[124/1000] 1 tree, 50 leaves, max depth = 12, train score: 0.99194, val score: 0.89583, in 0.153s\n",
      "[125/1000] 1 tree, 50 leaves, max depth = 13, train score: 0.99207, val score: 0.89581, in 0.202s\n",
      "[126/1000] 1 tree, 50 leaves, max depth = 13, train score: 0.99220, val score: 0.89565, in 0.157s\n",
      "[127/1000] 1 tree, 50 leaves, max depth = 13, train score: 0.99226, val score: 0.89566, in 0.141s\n",
      "[128/1000] 1 tree, 50 leaves, max depth = 15, train score: 0.99236, val score: 0.89598, in 0.116s\n",
      "[129/1000] 1 tree, 50 leaves, max depth = 15, train score: 0.99241, val score: 0.89556, in 0.190s\n",
      "[130/1000] 1 tree, 50 leaves, max depth = 14, train score: 0.99261, val score: 0.89521, in 0.152s\n",
      "[131/1000] 1 tree, 50 leaves, max depth = 13, train score: 0.99276, val score: 0.89509, in 0.143s\n",
      "Fit 131 trees in 16.065 s, (6550 total leaves)\n",
      "Time spent computing histograms: 5.993s\n",
      "Time spent finding best splits:  1.942s\n",
      "Time spent applying splits:      2.387s\n",
      "Time spent predicting:           0.026s\n",
      "CPU times: user 1min 31s, sys: 16.4 s, total: 1min 48s\n",
      "Wall time: 16.3 s\n"
     ]
    },
    {
     "data": {
      "text/plain": [
       "(0.9838685019824682, 0.8929366473086819)"
      ]
     },
     "execution_count": 59,
     "metadata": {},
     "output_type": "execute_result"
    }
   ],
   "source": [
    "%%time\n",
    "clf = HistGradientBoostingClassifier(loss='binary_crossentropy', verbose=1, l2_regularization=3.0,\n",
    "                             learning_rate=0.1, max_depth=15, max_iter=1000, max_leaf_nodes=50,\n",
    "                             min_samples_leaf=1,  scoring='roc_auc', tol=1e-8)\n",
    "clf.fit(xs, y)\n",
    "m_roc(y, xs), m_roc(valid_y, valid_xs)"
   ]
  },
  {
   "cell_type": "code",
   "execution_count": 63,
   "metadata": {},
   "outputs": [
    {
     "name": "stdout",
     "output_type": "stream",
     "text": [
      "CPU times: user 2min 4s, sys: 29 s, total: 2min 33s\n",
      "Wall time: 3min 57s\n"
     ]
    },
    {
     "data": {
      "text/plain": [
       "(HistGradientBoostingClassifier(l2_regularization=3.0,\n",
       "                                loss='binary_crossentropy', max_depth=15,\n",
       "                                max_iter=1000, max_leaf_nodes=50,\n",
       "                                min_samples_leaf=2, random_state=33,\n",
       "                                scoring='roc_auc', tol=1e-08),\n",
       " 0.9018079437903692,\n",
       " {'random_state': 33,\n",
       "  'min_samples_leaf': 2,\n",
       "  'max_leaf_nodes': 50,\n",
       "  'max_depth': 15,\n",
       "  'learning_rate': 0.1,\n",
       "  'l2_regularization': 3.0})"
      ]
     },
     "execution_count": 63,
     "metadata": {},
     "output_type": "execute_result"
    }
   ],
   "source": [
    "%%time\n",
    "clf = RandomizedSearchCV(HistGradientBoostingClassifier(loss='binary_crossentropy', max_iter=1000, \n",
    "                                                  scoring='roc_auc', tol=1e-8 ), parameters4, \n",
    "                   scoring=make_scorer(roc_auc_score, needs_proba=True), n_jobs=-1)\n",
    "clf.fit(xs, y)\n",
    "clf.best_estimator_, clf.best_score_, clf.best_params_"
   ]
  },
  {
   "cell_type": "code",
   "execution_count": 65,
   "metadata": {},
   "outputs": [
    {
     "name": "stdout",
     "output_type": "stream",
     "text": [
      "Binning 0.042 GB of training data: 0.273 s\n",
      "Binning 0.005 GB of validation data: 0.019 s\n",
      "Fitting gradient boosted rounds:\n",
      "[1/1000] 1 tree, 50 leaves, max depth = 11, train score: 0.83740, val score: 0.85548, in 0.112s\n",
      "[2/1000] 1 tree, 50 leaves, max depth = 10, train score: 0.84226, val score: 0.86478, in 0.062s\n",
      "[3/1000] 1 tree, 50 leaves, max depth = 12, train score: 0.85411, val score: 0.86694, in 0.064s\n",
      "[4/1000] 1 tree, 50 leaves, max depth = 12, train score: 0.86896, val score: 0.86991, in 0.067s\n",
      "[5/1000] 1 tree, 50 leaves, max depth = 15, train score: 0.87160, val score: 0.87523, in 0.078s\n",
      "[6/1000] 1 tree, 50 leaves, max depth = 10, train score: 0.88209, val score: 0.87788, in 0.065s\n",
      "[7/1000] 1 tree, 50 leaves, max depth = 11, train score: 0.88565, val score: 0.87769, in 0.065s\n",
      "[8/1000] 1 tree, 50 leaves, max depth = 12, train score: 0.89207, val score: 0.87742, in 0.070s\n",
      "[9/1000] 1 tree, 50 leaves, max depth = 9, train score: 0.89357, val score: 0.87849, in 0.067s\n",
      "[10/1000] 1 tree, 50 leaves, max depth = 11, train score: 0.89929, val score: 0.87930, in 0.068s\n",
      "[11/1000] 1 tree, 50 leaves, max depth = 14, train score: 0.90023, val score: 0.88041, in 0.074s\n",
      "[12/1000] 1 tree, 50 leaves, max depth = 12, train score: 0.90291, val score: 0.88101, in 0.132s\n",
      "[13/1000] 1 tree, 50 leaves, max depth = 13, train score: 0.90475, val score: 0.88247, in 0.074s\n",
      "[14/1000] 1 tree, 50 leaves, max depth = 11, train score: 0.90517, val score: 0.88326, in 0.073s\n",
      "[15/1000] 1 tree, 50 leaves, max depth = 10, train score: 0.90661, val score: 0.88421, in 0.075s\n",
      "[16/1000] 1 tree, 50 leaves, max depth = 13, train score: 0.90908, val score: 0.88396, in 0.077s\n",
      "[17/1000] 1 tree, 50 leaves, max depth = 11, train score: 0.91325, val score: 0.88258, in 0.077s\n",
      "[18/1000] 1 tree, 50 leaves, max depth = 11, train score: 0.91484, val score: 0.88563, in 0.080s\n",
      "[19/1000] 1 tree, 50 leaves, max depth = 11, train score: 0.91711, val score: 0.88823, in 0.074s\n",
      "[20/1000] 1 tree, 50 leaves, max depth = 12, train score: 0.92036, val score: 0.89080, in 0.078s\n",
      "[21/1000] 1 tree, 50 leaves, max depth = 11, train score: 0.92159, val score: 0.89201, in 0.083s\n",
      "[22/1000] 1 tree, 50 leaves, max depth = 12, train score: 0.92409, val score: 0.89223, in 0.155s\n",
      "[23/1000] 1 tree, 50 leaves, max depth = 15, train score: 0.92732, val score: 0.89314, in 0.072s\n",
      "[24/1000] 1 tree, 50 leaves, max depth = 13, train score: 0.92956, val score: 0.89365, in 0.103s\n",
      "[25/1000] 1 tree, 50 leaves, max depth = 14, train score: 0.93111, val score: 0.89519, in 0.073s\n",
      "[26/1000] 1 tree, 50 leaves, max depth = 14, train score: 0.93337, val score: 0.89501, in 0.073s\n",
      "[27/1000] 1 tree, 50 leaves, max depth = 11, train score: 0.93602, val score: 0.89509, in 0.078s\n",
      "[28/1000] 1 tree, 50 leaves, max depth = 12, train score: 0.93761, val score: 0.89532, in 0.081s\n",
      "[29/1000] 1 tree, 50 leaves, max depth = 13, train score: 0.94000, val score: 0.89740, in 0.108s\n",
      "[30/1000] 1 tree, 50 leaves, max depth = 13, train score: 0.94156, val score: 0.89810, in 0.092s\n",
      "[31/1000] 1 tree, 50 leaves, max depth = 10, train score: 0.94367, val score: 0.89864, in 0.079s\n",
      "[32/1000] 1 tree, 50 leaves, max depth = 14, train score: 0.94563, val score: 0.89877, in 0.080s\n",
      "[33/1000] 1 tree, 50 leaves, max depth = 11, train score: 0.94696, val score: 0.89847, in 0.136s\n",
      "[34/1000] 1 tree, 50 leaves, max depth = 13, train score: 0.94839, val score: 0.89842, in 0.081s\n",
      "[35/1000] 1 tree, 50 leaves, max depth = 13, train score: 0.95015, val score: 0.89800, in 0.081s\n",
      "[36/1000] 1 tree, 50 leaves, max depth = 12, train score: 0.95144, val score: 0.89877, in 0.078s\n",
      "[37/1000] 1 tree, 50 leaves, max depth = 15, train score: 0.95343, val score: 0.89942, in 0.079s\n",
      "[38/1000] 1 tree, 50 leaves, max depth = 15, train score: 0.95496, val score: 0.89948, in 0.077s\n",
      "[39/1000] 1 tree, 50 leaves, max depth = 15, train score: 0.95570, val score: 0.89943, in 0.078s\n",
      "[40/1000] 1 tree, 50 leaves, max depth = 15, train score: 0.95713, val score: 0.89853, in 0.078s\n",
      "[41/1000] 1 tree, 50 leaves, max depth = 14, train score: 0.95822, val score: 0.89879, in 0.080s\n",
      "[42/1000] 1 tree, 50 leaves, max depth = 13, train score: 0.95861, val score: 0.89998, in 0.083s\n",
      "[43/1000] 1 tree, 50 leaves, max depth = 15, train score: 0.95980, val score: 0.89905, in 0.077s\n",
      "[44/1000] 1 tree, 50 leaves, max depth = 11, train score: 0.96063, val score: 0.89974, in 0.082s\n",
      "[45/1000] 1 tree, 50 leaves, max depth = 15, train score: 0.96302, val score: 0.89972, in 0.135s\n",
      "[46/1000] 1 tree, 50 leaves, max depth = 15, train score: 0.96442, val score: 0.89971, in 0.078s\n",
      "[47/1000] 1 tree, 50 leaves, max depth = 13, train score: 0.96562, val score: 0.89960, in 0.083s\n",
      "[48/1000] 1 tree, 50 leaves, max depth = 15, train score: 0.96611, val score: 0.89957, in 0.080s\n",
      "[49/1000] 1 tree, 50 leaves, max depth = 15, train score: 0.96699, val score: 0.90016, in 0.083s\n",
      "[50/1000] 1 tree, 50 leaves, max depth = 15, train score: 0.96826, val score: 0.90005, in 0.083s\n",
      "[51/1000] 1 tree, 50 leaves, max depth = 15, train score: 0.96898, val score: 0.90015, in 0.080s\n",
      "[52/1000] 1 tree, 50 leaves, max depth = 15, train score: 0.96988, val score: 0.90037, in 0.082s\n",
      "[53/1000] 1 tree, 50 leaves, max depth = 14, train score: 0.97040, val score: 0.90072, in 0.087s\n",
      "[54/1000] 1 tree, 50 leaves, max depth = 15, train score: 0.97091, val score: 0.90117, in 0.082s\n",
      "[55/1000] 1 tree, 50 leaves, max depth = 15, train score: 0.97141, val score: 0.90124, in 0.082s\n",
      "[56/1000] 1 tree, 50 leaves, max depth = 15, train score: 0.97196, val score: 0.90149, in 0.139s\n",
      "[57/1000] 1 tree, 50 leaves, max depth = 15, train score: 0.97268, val score: 0.90200, in 0.085s\n",
      "[58/1000] 1 tree, 50 leaves, max depth = 13, train score: 0.97384, val score: 0.90225, in 0.085s\n",
      "[59/1000] 1 tree, 50 leaves, max depth = 15, train score: 0.97469, val score: 0.90254, in 0.087s\n",
      "[60/1000] 1 tree, 50 leaves, max depth = 13, train score: 0.97506, val score: 0.90238, in 0.085s\n",
      "[61/1000] 1 tree, 50 leaves, max depth = 12, train score: 0.97551, val score: 0.90303, in 0.088s\n",
      "[62/1000] 1 tree, 50 leaves, max depth = 15, train score: 0.97594, val score: 0.90302, in 0.097s\n",
      "[63/1000] 1 tree, 50 leaves, max depth = 15, train score: 0.97648, val score: 0.90358, in 0.110s\n",
      "[64/1000] 1 tree, 50 leaves, max depth = 15, train score: 0.97695, val score: 0.90355, in 0.087s\n",
      "[65/1000] 1 tree, 50 leaves, max depth = 15, train score: 0.97740, val score: 0.90295, in 0.088s\n",
      "[66/1000] 1 tree, 50 leaves, max depth = 14, train score: 0.97764, val score: 0.90242, in 0.090s\n",
      "[67/1000] 1 tree, 50 leaves, max depth = 12, train score: 0.97830, val score: 0.90305, in 0.151s\n",
      "[68/1000] 1 tree, 50 leaves, max depth = 13, train score: 0.97855, val score: 0.90335, in 0.090s\n",
      "[69/1000] 1 tree, 50 leaves, max depth = 15, train score: 0.97880, val score: 0.90367, in 0.086s\n",
      "[70/1000] 1 tree, 50 leaves, max depth = 14, train score: 0.97911, val score: 0.90360, in 0.091s\n",
      "[71/1000] 1 tree, 50 leaves, max depth = 14, train score: 0.97943, val score: 0.90324, in 0.091s\n",
      "[72/1000] 1 tree, 50 leaves, max depth = 15, train score: 0.97957, val score: 0.90320, in 0.085s\n",
      "[73/1000] 1 tree, 50 leaves, max depth = 15, train score: 0.97989, val score: 0.90426, in 0.091s\n",
      "[74/1000] 1 tree, 50 leaves, max depth = 14, train score: 0.98057, val score: 0.90445, in 0.092s\n",
      "[75/1000] 1 tree, 50 leaves, max depth = 14, train score: 0.98098, val score: 0.90454, in 0.094s\n",
      "[76/1000] 1 tree, 50 leaves, max depth = 15, train score: 0.98123, val score: 0.90472, in 0.089s\n",
      "[77/1000] 1 tree, 50 leaves, max depth = 12, train score: 0.98159, val score: 0.90469, in 0.097s\n",
      "[78/1000] 1 tree, 50 leaves, max depth = 15, train score: 0.98195, val score: 0.90441, in 0.156s\n",
      "[79/1000] 1 tree, 50 leaves, max depth = 15, train score: 0.98237, val score: 0.90452, in 0.088s\n",
      "[80/1000] 1 tree, 50 leaves, max depth = 12, train score: 0.98261, val score: 0.90446, in 0.098s\n",
      "[81/1000] 1 tree, 50 leaves, max depth = 15, train score: 0.98324, val score: 0.90423, in 0.091s\n",
      "[82/1000] 1 tree, 50 leaves, max depth = 11, train score: 0.98371, val score: 0.90458, in 0.098s\n",
      "[83/1000] 1 tree, 50 leaves, max depth = 14, train score: 0.98397, val score: 0.90466, in 0.096s\n",
      "[84/1000] 1 tree, 50 leaves, max depth = 15, train score: 0.98432, val score: 0.90476, in 0.095s\n"
     ]
    },
    {
     "name": "stdout",
     "output_type": "stream",
     "text": [
      "[85/1000] 1 tree, 50 leaves, max depth = 15, train score: 0.98453, val score: 0.90502, in 0.099s\n",
      "[86/1000] 1 tree, 50 leaves, max depth = 15, train score: 0.98483, val score: 0.90511, in 0.100s\n",
      "[87/1000] 1 tree, 50 leaves, max depth = 15, train score: 0.98518, val score: 0.90529, in 0.094s\n",
      "[88/1000] 1 tree, 50 leaves, max depth = 15, train score: 0.98566, val score: 0.90542, in 0.090s\n",
      "[89/1000] 1 tree, 50 leaves, max depth = 10, train score: 0.98604, val score: 0.90542, in 0.157s\n",
      "[90/1000] 1 tree, 50 leaves, max depth = 13, train score: 0.98621, val score: 0.90549, in 0.275s\n",
      "[91/1000] 1 tree, 50 leaves, max depth = 15, train score: 0.98631, val score: 0.90543, in 0.097s\n",
      "[92/1000] 1 tree, 50 leaves, max depth = 11, train score: 0.98655, val score: 0.90521, in 0.097s\n",
      "[93/1000] 1 tree, 50 leaves, max depth = 11, train score: 0.98687, val score: 0.90488, in 0.097s\n",
      "[94/1000] 1 tree, 50 leaves, max depth = 13, train score: 0.98703, val score: 0.90479, in 0.098s\n",
      "[95/1000] 1 tree, 50 leaves, max depth = 12, train score: 0.98716, val score: 0.90449, in 0.106s\n",
      "[96/1000] 1 tree, 50 leaves, max depth = 12, train score: 0.98744, val score: 0.90487, in 0.095s\n",
      "[97/1000] 1 tree, 50 leaves, max depth = 10, train score: 0.98753, val score: 0.90495, in 0.101s\n",
      "[98/1000] 1 tree, 50 leaves, max depth = 15, train score: 0.98774, val score: 0.90477, in 0.096s\n",
      "[99/1000] 1 tree, 50 leaves, max depth = 13, train score: 0.98787, val score: 0.90415, in 0.100s\n",
      "[100/1000] 1 tree, 50 leaves, max depth = 14, train score: 0.98828, val score: 0.90388, in 0.101s\n",
      "Fit 100 trees in 9.661 s, (5000 total leaves)\n",
      "Time spent computing histograms: 3.926s\n",
      "Time spent finding best splits:  1.129s\n",
      "Time spent applying splits:      1.358s\n",
      "Time spent predicting:           0.072s\n",
      "CPU times: user 56.1 s, sys: 11.3 s, total: 1min 7s\n",
      "Wall time: 9.92 s\n"
     ]
    },
    {
     "data": {
      "text/plain": [
       "(0.9805941912488121, 0.8950722195033224)"
      ]
     },
     "execution_count": 65,
     "metadata": {},
     "output_type": "execute_result"
    }
   ],
   "source": [
    "%%time\n",
    "clf = HistGradientBoostingClassifier(loss='binary_crossentropy', verbose=1, l2_regularization=3.0,\n",
    "                             learning_rate=0.1, max_depth=15, max_iter=1000, max_leaf_nodes=50,\n",
    "                             min_samples_leaf=2,  scoring='roc_auc', tol=1e-8)\n",
    "clf.fit(xs, y)\n",
    "m_roc(y, xs), m_roc(valid_y, valid_xs)"
   ]
  },
  {
   "cell_type": "code",
   "execution_count": 66,
   "metadata": {},
   "outputs": [
    {
     "name": "stderr",
     "output_type": "stream",
     "text": [
      "/opt/anaconda3/envs/fastaiV2/lib/python3.8/site-packages/sklearn/model_selection/_search.py:278: UserWarning: The total space of parameters 4 is smaller than n_iter=10. Running 4 iterations. For exhaustive searches, use GridSearchCV.\n",
      "  warnings.warn(\n"
     ]
    },
    {
     "name": "stdout",
     "output_type": "stream",
     "text": [
      "CPU times: user 1min 44s, sys: 24.7 s, total: 2min 9s\n",
      "Wall time: 1min 40s\n"
     ]
    },
    {
     "data": {
      "text/plain": [
       "(HistGradientBoostingClassifier(l2_regularization=3.0,\n",
       "                                loss='binary_crossentropy', max_depth=15,\n",
       "                                max_iter=1000, max_leaf_nodes=50,\n",
       "                                min_samples_leaf=2, random_state=33,\n",
       "                                scoring='roc_auc', tol=1e-08),\n",
       " 0.9018079437903692,\n",
       " {'random_state': 33,\n",
       "  'min_samples_leaf': 2,\n",
       "  'max_leaf_nodes': 50,\n",
       "  'max_depth': 15,\n",
       "  'learning_rate': 0.1,\n",
       "  'l2_regularization': 3.0})"
      ]
     },
     "execution_count": 66,
     "metadata": {},
     "output_type": "execute_result"
    }
   ],
   "source": [
    "%%time\n",
    "clf = RandomizedSearchCV(HistGradientBoostingClassifier(loss='binary_crossentropy', max_iter=1000, \n",
    "                                                  scoring='roc_auc', tol=1e-8 ), parameters5, \n",
    "                   scoring=make_scorer(roc_auc_score, needs_proba=True), n_jobs=-1)\n",
    "clf.fit(xs, y)\n",
    "clf.best_estimator_, clf.best_score_, clf.best_params_"
   ]
  },
  {
   "cell_type": "code",
   "execution_count": null,
   "metadata": {},
   "outputs": [],
   "source": [
    "%%time\n",
    "clf = HistGradientBoostingClassifier(loss='binary_crossentropy', verbose=1, l2_regularization=3.0,\n",
    "                             learning_rate=0.1, max_depth=15, max_iter=1000, max_leaf_nodes=50,\n",
    "                             min_samples_leaf=2,  scoring='roc_auc', tol=1e-8)\n",
    "clf.fit(xs, y)\n",
    "m_roc(y, xs), m_roc(valid_y, valid_xs)"
   ]
  },
  {
   "cell_type": "markdown",
   "metadata": {
    "heading_collapsed": true
   },
   "source": [
    "### Including the V*** columns"
   ]
  },
  {
   "cell_type": "markdown",
   "metadata": {
    "hidden": true
   },
   "source": [
    "Normalized data helped this model. "
   ]
  },
  {
   "cell_type": "code",
   "execution_count": 15,
   "metadata": {
    "hidden": true
   },
   "outputs": [],
   "source": [
    "to = (path/'to_nn_full.pkl').load()\n",
    "\n",
    "xs, y             = to.train.xs, to.train.y\n",
    "valid_xs, valid_y = to.valid.xs, to.valid.y"
   ]
  },
  {
   "cell_type": "code",
   "execution_count": 16,
   "metadata": {
    "hidden": true
   },
   "outputs": [],
   "source": [
    "cats = ['ProductCD', 'card1', 'card2', 'card3', 'card4', 'card5', 'card6', \n",
    "       'addr1', 'addr2', 'P_emaildomain', 'R_emaildomain', 'M1', 'M2', 'M3', \n",
    "       'M4', 'M5', 'M6', 'M7', 'M8', 'M9', 'DeviceType', 'DeviceInfo', 'id_12', \n",
    "       'id_13', 'id_14', 'id_15', 'id_16', 'id_17', 'id_18', 'id_19', 'id_20', \n",
    "       'id_21', 'id_22', 'id_23', 'id_24', 'id_25', 'id_26', 'id_27', 'id_28', \n",
    "       'id_29', 'id_30', 'id_31', 'id_32', 'id_33', 'id_34', 'id_35', 'id_36',\n",
    "       'id_37', 'id_38']\n",
    "\n",
    "for cat in cats:\n",
    "    to[cat] = to[cat].astype('category')"
   ]
  },
  {
   "cell_type": "code",
   "execution_count": 17,
   "metadata": {
    "collapsed": true,
    "hidden": true
   },
   "outputs": [
    {
     "name": "stdout",
     "output_type": "stream",
     "text": [
      "Binning 0.242 GB of training data: 1.220 s\n",
      "Binning 0.027 GB of validation data: 0.043 s\n",
      "Fitting gradient boosted rounds:\n",
      "[1/1000] 1 tree, 44 leaves, max depth = 10, train score: 0.85319, val score: 0.83631, in 0.171s\n",
      "[2/1000] 1 tree, 44 leaves, max depth = 11, train score: 0.87135, val score: 0.85190, in 0.172s\n",
      "[3/1000] 1 tree, 44 leaves, max depth = 12, train score: 0.87432, val score: 0.85400, in 0.178s\n",
      "[4/1000] 1 tree, 44 leaves, max depth = 12, train score: 0.87636, val score: 0.85526, in 0.181s\n",
      "[5/1000] 1 tree, 44 leaves, max depth = 12, train score: 0.87834, val score: 0.85747, in 0.185s\n",
      "[6/1000] 1 tree, 44 leaves, max depth = 10, train score: 0.88077, val score: 0.86165, in 0.189s\n",
      "[7/1000] 1 tree, 44 leaves, max depth = 11, train score: 0.88131, val score: 0.86212, in 0.189s\n",
      "[8/1000] 1 tree, 44 leaves, max depth = 12, train score: 0.88220, val score: 0.86338, in 0.242s\n",
      "[9/1000] 1 tree, 44 leaves, max depth = 9, train score: 0.88310, val score: 0.86382, in 0.391s\n",
      "[10/1000] 1 tree, 44 leaves, max depth = 11, train score: 0.88376, val score: 0.86565, in 0.355s\n",
      "[11/1000] 1 tree, 44 leaves, max depth = 11, train score: 0.88609, val score: 0.86552, in 0.384s\n",
      "[12/1000] 1 tree, 44 leaves, max depth = 11, train score: 0.88632, val score: 0.86650, in 0.267s\n",
      "[13/1000] 1 tree, 44 leaves, max depth = 11, train score: 0.88747, val score: 0.86868, in 0.613s\n",
      "[14/1000] 1 tree, 44 leaves, max depth = 11, train score: 0.88773, val score: 0.86965, in 0.206s\n",
      "[15/1000] 1 tree, 44 leaves, max depth = 10, train score: 0.88758, val score: 0.86852, in 0.231s\n",
      "[16/1000] 1 tree, 44 leaves, max depth = 12, train score: 0.88859, val score: 0.86847, in 0.270s\n",
      "[17/1000] 1 tree, 44 leaves, max depth = 10, train score: 0.88839, val score: 0.86822, in 0.242s\n",
      "[18/1000] 1 tree, 44 leaves, max depth = 11, train score: 0.88954, val score: 0.86966, in 0.225s\n",
      "[19/1000] 1 tree, 44 leaves, max depth = 11, train score: 0.88997, val score: 0.87165, in 0.239s\n",
      "[20/1000] 1 tree, 44 leaves, max depth = 12, train score: 0.89105, val score: 0.87245, in 0.284s\n",
      "[21/1000] 1 tree, 44 leaves, max depth = 12, train score: 0.89090, val score: 0.87490, in 0.428s\n",
      "[22/1000] 1 tree, 44 leaves, max depth = 11, train score: 0.89167, val score: 0.87497, in 0.445s\n",
      "[23/1000] 1 tree, 44 leaves, max depth = 12, train score: 0.89260, val score: 0.87519, in 0.427s\n",
      "[24/1000] 1 tree, 44 leaves, max depth = 9, train score: 0.89308, val score: 0.87649, in 0.420s\n",
      "[25/1000] 1 tree, 44 leaves, max depth = 13, train score: 0.89354, val score: 0.87649, in 0.787s\n",
      "[26/1000] 1 tree, 44 leaves, max depth = 11, train score: 0.89426, val score: 0.87701, in 0.232s\n",
      "[27/1000] 1 tree, 44 leaves, max depth = 9, train score: 0.89608, val score: 0.87715, in 0.234s\n",
      "[28/1000] 1 tree, 44 leaves, max depth = 13, train score: 0.89661, val score: 0.87753, in 0.249s\n",
      "[29/1000] 1 tree, 44 leaves, max depth = 9, train score: 0.89756, val score: 0.87760, in 0.253s\n",
      "[30/1000] 1 tree, 44 leaves, max depth = 9, train score: 0.89866, val score: 0.87803, in 0.285s\n",
      "[31/1000] 1 tree, 44 leaves, max depth = 13, train score: 0.89959, val score: 0.87788, in 0.274s\n",
      "[32/1000] 1 tree, 44 leaves, max depth = 9, train score: 0.89974, val score: 0.87784, in 0.261s\n",
      "[33/1000] 1 tree, 44 leaves, max depth = 9, train score: 0.90075, val score: 0.87811, in 0.341s\n",
      "[34/1000] 1 tree, 44 leaves, max depth = 12, train score: 0.90126, val score: 0.87778, in 0.509s\n",
      "[35/1000] 1 tree, 44 leaves, max depth = 9, train score: 0.90192, val score: 0.87793, in 0.432s\n",
      "[36/1000] 1 tree, 44 leaves, max depth = 10, train score: 0.90222, val score: 0.87833, in 0.413s\n",
      "[37/1000] 1 tree, 44 leaves, max depth = 10, train score: 0.90248, val score: 0.87811, in 0.449s\n",
      "[38/1000] 1 tree, 44 leaves, max depth = 11, train score: 0.90290, val score: 0.87847, in 0.620s\n",
      "[39/1000] 1 tree, 44 leaves, max depth = 11, train score: 0.90344, val score: 0.87865, in 0.270s\n",
      "[40/1000] 1 tree, 44 leaves, max depth = 11, train score: 0.90487, val score: 0.87971, in 0.326s\n",
      "[41/1000] 1 tree, 44 leaves, max depth = 12, train score: 0.90538, val score: 0.87979, in 0.379s\n",
      "[42/1000] 1 tree, 44 leaves, max depth = 11, train score: 0.90586, val score: 0.87989, in 0.341s\n",
      "[43/1000] 1 tree, 44 leaves, max depth = 11, train score: 0.90609, val score: 0.87994, in 0.312s\n",
      "[44/1000] 1 tree, 44 leaves, max depth = 11, train score: 0.90657, val score: 0.88010, in 0.268s\n",
      "[45/1000] 1 tree, 44 leaves, max depth = 11, train score: 0.90684, val score: 0.87999, in 0.251s\n",
      "[46/1000] 1 tree, 44 leaves, max depth = 11, train score: 0.90725, val score: 0.88024, in 0.361s\n",
      "[47/1000] 1 tree, 44 leaves, max depth = 13, train score: 0.90892, val score: 0.88091, in 0.546s\n",
      "[48/1000] 1 tree, 44 leaves, max depth = 13, train score: 0.90976, val score: 0.88129, in 0.452s\n",
      "[49/1000] 1 tree, 44 leaves, max depth = 15, train score: 0.91010, val score: 0.88119, in 0.438s\n",
      "[50/1000] 1 tree, 44 leaves, max depth = 16, train score: 0.91072, val score: 0.88103, in 0.749s\n",
      "[51/1000] 1 tree, 44 leaves, max depth = 13, train score: 0.91166, val score: 0.88149, in 0.249s\n",
      "[52/1000] 1 tree, 44 leaves, max depth = 13, train score: 0.91224, val score: 0.88199, in 0.294s\n",
      "[53/1000] 1 tree, 44 leaves, max depth = 14, train score: 0.91291, val score: 0.88211, in 0.261s\n",
      "[54/1000] 1 tree, 44 leaves, max depth = 15, train score: 0.91365, val score: 0.88316, in 0.259s\n",
      "[55/1000] 1 tree, 44 leaves, max depth = 15, train score: 0.91394, val score: 0.88331, in 0.258s\n",
      "[56/1000] 1 tree, 44 leaves, max depth = 15, train score: 0.91424, val score: 0.88323, in 0.273s\n",
      "[57/1000] 1 tree, 44 leaves, max depth = 14, train score: 0.91440, val score: 0.88367, in 0.301s\n",
      "[58/1000] 1 tree, 44 leaves, max depth = 14, train score: 0.91461, val score: 0.88414, in 0.272s\n",
      "[59/1000] 1 tree, 44 leaves, max depth = 14, train score: 0.91514, val score: 0.88456, in 0.591s\n",
      "[60/1000] 1 tree, 44 leaves, max depth = 13, train score: 0.91559, val score: 0.88473, in 0.538s\n",
      "[61/1000] 1 tree, 44 leaves, max depth = 14, train score: 0.91647, val score: 0.88459, in 0.500s\n",
      "[62/1000] 1 tree, 44 leaves, max depth = 10, train score: 0.91696, val score: 0.88540, in 0.915s\n",
      "[63/1000] 1 tree, 44 leaves, max depth = 16, train score: 0.91784, val score: 0.88609, in 0.251s\n",
      "[64/1000] 1 tree, 44 leaves, max depth = 14, train score: 0.91804, val score: 0.88635, in 0.299s\n",
      "[65/1000] 1 tree, 44 leaves, max depth = 13, train score: 0.91865, val score: 0.88685, in 0.270s\n",
      "[66/1000] 1 tree, 44 leaves, max depth = 14, train score: 0.91975, val score: 0.88764, in 0.294s\n",
      "[67/1000] 1 tree, 44 leaves, max depth = 17, train score: 0.92079, val score: 0.88766, in 0.262s\n",
      "[68/1000] 1 tree, 44 leaves, max depth = 14, train score: 0.92135, val score: 0.88779, in 0.290s\n",
      "[69/1000] 1 tree, 44 leaves, max depth = 15, train score: 0.92172, val score: 0.88821, in 0.281s\n",
      "[70/1000] 1 tree, 44 leaves, max depth = 13, train score: 0.92226, val score: 0.88827, in 0.290s\n",
      "[71/1000] 1 tree, 44 leaves, max depth = 15, train score: 0.92270, val score: 0.88868, in 0.390s\n",
      "[72/1000] 1 tree, 44 leaves, max depth = 15, train score: 0.92332, val score: 0.88966, in 0.561s\n",
      "[73/1000] 1 tree, 44 leaves, max depth = 14, train score: 0.92367, val score: 0.89017, in 0.499s\n",
      "[74/1000] 1 tree, 44 leaves, max depth = 13, train score: 0.92388, val score: 0.89070, in 0.526s\n",
      "[75/1000] 1 tree, 44 leaves, max depth = 13, train score: 0.92440, val score: 0.89101, in 0.808s\n",
      "[76/1000] 1 tree, 44 leaves, max depth = 14, train score: 0.92465, val score: 0.89146, in 0.307s\n",
      "[77/1000] 1 tree, 44 leaves, max depth = 12, train score: 0.92504, val score: 0.89135, in 0.287s\n",
      "[78/1000] 1 tree, 44 leaves, max depth = 12, train score: 0.92522, val score: 0.89160, in 0.314s\n",
      "[79/1000] 1 tree, 44 leaves, max depth = 18, train score: 0.92601, val score: 0.89172, in 0.378s\n",
      "[80/1000] 1 tree, 44 leaves, max depth = 13, train score: 0.92631, val score: 0.89198, in 0.324s\n",
      "[81/1000] 1 tree, 44 leaves, max depth = 12, train score: 0.92692, val score: 0.89219, in 0.333s\n",
      "[82/1000] 1 tree, 44 leaves, max depth = 13, train score: 0.92750, val score: 0.89192, in 0.322s\n",
      "[83/1000] 1 tree, 44 leaves, max depth = 15, train score: 0.92800, val score: 0.89225, in 0.551s\n",
      "[84/1000] 1 tree, 44 leaves, max depth = 15, train score: 0.92844, val score: 0.89213, in 0.563s\n"
     ]
    },
    {
     "name": "stdout",
     "output_type": "stream",
     "text": [
      "[85/1000] 1 tree, 44 leaves, max depth = 15, train score: 0.92933, val score: 0.89229, in 0.538s\n",
      "[86/1000] 1 tree, 44 leaves, max depth = 14, train score: 0.92998, val score: 0.89222, in 0.552s\n",
      "[87/1000] 1 tree, 44 leaves, max depth = 15, train score: 0.93055, val score: 0.89241, in 0.893s\n",
      "[88/1000] 1 tree, 44 leaves, max depth = 12, train score: 0.93083, val score: 0.89268, in 0.300s\n",
      "[89/1000] 1 tree, 44 leaves, max depth = 15, train score: 0.93104, val score: 0.89271, in 0.329s\n",
      "[90/1000] 1 tree, 44 leaves, max depth = 17, train score: 0.93151, val score: 0.89299, in 0.307s\n",
      "[91/1000] 1 tree, 44 leaves, max depth = 18, train score: 0.93188, val score: 0.89320, in 0.297s\n",
      "[92/1000] 1 tree, 44 leaves, max depth = 13, train score: 0.93255, val score: 0.89318, in 0.309s\n",
      "[93/1000] 1 tree, 44 leaves, max depth = 19, train score: 0.93322, val score: 0.89329, in 0.366s\n",
      "[94/1000] 1 tree, 44 leaves, max depth = 13, train score: 0.93374, val score: 0.89327, in 0.495s\n",
      "[95/1000] 1 tree, 44 leaves, max depth = 20, train score: 0.93431, val score: 0.89342, in 0.408s\n",
      "[96/1000] 1 tree, 44 leaves, max depth = 12, train score: 0.93475, val score: 0.89343, in 0.509s\n",
      "[97/1000] 1 tree, 44 leaves, max depth = 18, train score: 0.93534, val score: 0.89376, in 0.597s\n",
      "[98/1000] 1 tree, 44 leaves, max depth = 21, train score: 0.93571, val score: 0.89430, in 0.559s\n",
      "[99/1000] 1 tree, 44 leaves, max depth = 18, train score: 0.93616, val score: 0.89406, in 0.553s\n",
      "[100/1000] 1 tree, 44 leaves, max depth = 15, train score: 0.93660, val score: 0.89407, in 0.843s\n",
      "[101/1000] 1 tree, 44 leaves, max depth = 17, train score: 0.93711, val score: 0.89378, in 0.314s\n",
      "[102/1000] 1 tree, 44 leaves, max depth = 20, train score: 0.93752, val score: 0.89395, in 0.328s\n",
      "[103/1000] 1 tree, 44 leaves, max depth = 12, train score: 0.93784, val score: 0.89409, in 0.345s\n",
      "[104/1000] 1 tree, 44 leaves, max depth = 16, train score: 0.93814, val score: 0.89433, in 0.335s\n",
      "[105/1000] 1 tree, 44 leaves, max depth = 17, train score: 0.93854, val score: 0.89450, in 0.342s\n",
      "[106/1000] 1 tree, 44 leaves, max depth = 14, train score: 0.93889, val score: 0.89487, in 0.319s\n",
      "[107/1000] 1 tree, 44 leaves, max depth = 20, train score: 0.93926, val score: 0.89476, in 0.316s\n",
      "[108/1000] 1 tree, 44 leaves, max depth = 18, train score: 0.94009, val score: 0.89510, in 0.452s\n",
      "[109/1000] 1 tree, 44 leaves, max depth = 17, train score: 0.94047, val score: 0.89493, in 0.541s\n",
      "[110/1000] 1 tree, 44 leaves, max depth = 14, train score: 0.94104, val score: 0.89485, in 0.555s\n",
      "[111/1000] 1 tree, 44 leaves, max depth = 17, train score: 0.94147, val score: 0.89528, in 0.563s\n",
      "[112/1000] 1 tree, 44 leaves, max depth = 15, train score: 0.94184, val score: 0.89532, in 0.948s\n",
      "[113/1000] 1 tree, 44 leaves, max depth = 11, train score: 0.94217, val score: 0.89524, in 0.327s\n",
      "[114/1000] 1 tree, 44 leaves, max depth = 16, train score: 0.94264, val score: 0.89512, in 0.402s\n",
      "[115/1000] 1 tree, 44 leaves, max depth = 21, train score: 0.94293, val score: 0.89516, in 0.351s\n",
      "[116/1000] 1 tree, 44 leaves, max depth = 13, train score: 0.94347, val score: 0.89510, in 0.365s\n",
      "[117/1000] 1 tree, 44 leaves, max depth = 16, train score: 0.94379, val score: 0.89506, in 0.336s\n",
      "[118/1000] 1 tree, 44 leaves, max depth = 20, train score: 0.94425, val score: 0.89482, in 0.370s\n",
      "[119/1000] 1 tree, 44 leaves, max depth = 13, train score: 0.94466, val score: 0.89477, in 0.357s\n",
      "[120/1000] 1 tree, 44 leaves, max depth = 16, train score: 0.94501, val score: 0.89479, in 0.373s\n",
      "[121/1000] 1 tree, 44 leaves, max depth = 18, train score: 0.94536, val score: 0.89483, in 0.460s\n",
      "[122/1000] 1 tree, 44 leaves, max depth = 17, train score: 0.94590, val score: 0.89485, in 0.584s\n",
      "Fit 122 trees in 49.351 s, (5368 total leaves)\n",
      "Time spent computing histograms: 28.165s\n",
      "Time spent finding best splits:  5.644s\n",
      "Time spent applying splits:      4.037s\n",
      "Time spent predicting:           0.032s\n",
      "CPU times: user 3min 26s, sys: 1min 31s, total: 4min 57s\n",
      "Wall time: 50.2 s\n"
     ]
    },
    {
     "data": {
      "text/plain": [
       "(0.945503703866909, 0.8791810505862281)"
      ]
     },
     "execution_count": 17,
     "metadata": {},
     "output_type": "execute_result"
    }
   ],
   "source": [
    "%%time\n",
    "clf = HistGradientBoostingClassifier(loss='binary_crossentropy', verbose=1, l2_regularization=2.4,\n",
    "                             learning_rate=0.03, max_depth=27, max_iter=1000, max_leaf_nodes=44,\n",
    "                             min_samples_leaf=8,  scoring='roc_auc', tol=1e-8)\n",
    "clf.fit(xs, y)\n",
    "m_roc(y, xs), m_roc(valid_y, valid_xs)"
   ]
  },
  {
   "cell_type": "markdown",
   "metadata": {},
   "source": [
    "## GradientBoostingClassifier "
   ]
  },
  {
   "cell_type": "markdown",
   "metadata": {},
   "source": [
    "HistGradientBoostingClassifier is recommended for datasets with a large number of classes. Since this is a binary classification problem, I decided to try the more established GradientBoostingClassifier class also."
   ]
  },
  {
   "cell_type": "code",
   "execution_count": 18,
   "metadata": {},
   "outputs": [],
   "source": [
    "from sklearn.ensemble import GradientBoostingClassifier "
   ]
  },
  {
   "cell_type": "code",
   "execution_count": 117,
   "metadata": {},
   "outputs": [],
   "source": [
    "GradientBoostingClassifier?"
   ]
  },
  {
   "cell_type": "code",
   "execution_count": 19,
   "metadata": {},
   "outputs": [],
   "source": [
    "# Tabular object created and saved on the 02_ notebook\n",
    "to = (path/'to_nn_full.pkl').load()\n",
    "\n",
    "xs, y = to.train.xs, to.train.y\n",
    "valid_xs, valid_y = to.valid.xs, to.valid.y"
   ]
  },
  {
   "cell_type": "markdown",
   "metadata": {
    "heading_collapsed": true
   },
   "source": [
    "### Defaults"
   ]
  },
  {
   "cell_type": "markdown",
   "metadata": {
    "hidden": true
   },
   "source": [
    "n_estimators was increased to 1000 from its default value of 100."
   ]
  },
  {
   "cell_type": "code",
   "execution_count": 61,
   "metadata": {
    "hidden": true
   },
   "outputs": [
    {
     "name": "stdout",
     "output_type": "stream",
     "text": [
      "      Iter       Train Loss   Remaining Time \n",
      "         1           0.2858            3.30m\n",
      "         2           0.2787            3.31m\n",
      "         3           0.2732            3.41m\n",
      "         4           0.2681            3.42m\n",
      "         5           0.2632            3.47m\n",
      "         6           0.2587            3.47m\n",
      "         7           0.2550            3.47m\n",
      "         8           0.2521            3.47m\n",
      "         9           0.2490            3.47m\n",
      "        10           0.2456            3.46m\n",
      "        20           0.2276            3.40m\n",
      "        30           0.2183            3.34m\n",
      "        40           0.2126            3.27m\n",
      "        50           0.2085            3.23m\n",
      "        60           0.2047            3.22m\n",
      "        70           0.2017            3.20m\n",
      "        80           0.1991            3.17m\n",
      "        90           0.1969            3.15m\n",
      "       100           0.1948            3.12m\n",
      "       200           0.1771            2.83m\n",
      "       300           0.1646            2.52m\n",
      "       400           0.1558            2.20m\n",
      "       500           0.1467            1.88m\n",
      "       600           0.1393            1.52m\n",
      "       700           0.1293            1.17m\n",
      "       800           0.1228           47.64s\n",
      "       900           0.1158           23.92s\n",
      "      1000           0.1093            0.00s\n"
     ]
    },
    {
     "data": {
      "text/plain": [
       "(0.9705755015972327, 0.8568501495478038)"
      ]
     },
     "execution_count": 61,
     "metadata": {},
     "output_type": "execute_result"
    }
   ],
   "source": [
    "clf = GradientBoostingClassifier(loss='deviance', n_estimators=1000, verbose=1)\n",
    "clf.fit(xs, y)\n",
    "m_roc(y, xs), m_roc(valid_y, valid_xs)"
   ]
  },
  {
   "cell_type": "markdown",
   "metadata": {},
   "source": [
    "### Hyperparameter Tuning"
   ]
  },
  {
   "cell_type": "code",
   "execution_count": 63,
   "metadata": {},
   "outputs": [],
   "source": [
    "parameters1 = {\n",
    "    'learning_rate': [0.01, 0.1, 0.2, 0.3],\n",
    "    'n_estimators': [40, 50, 60, 70, 1000]\n",
    "}"
   ]
  },
  {
   "cell_type": "code",
   "execution_count": 72,
   "metadata": {},
   "outputs": [],
   "source": [
    "parameters2 = {\n",
    " 'max_depth': [3, 6, 9, 12],\n",
    " 'subsample': [0.8, 0.66],\n",
    " 'min_samples_split': [2, 5, 10],\n",
    " 'max_leaf_nodes': [None, 20, 31, 40],\n",
    " 'min_samples_leaf': [1, 5],\n",
    " 'random_state': [33],\n",
    " }"
   ]
  },
  {
   "cell_type": "code",
   "execution_count": 78,
   "metadata": {},
   "outputs": [],
   "source": [
    "parameters3 = {\n",
    " 'max_depth': [8, 9, 10],\n",
    " 'subsample': [0.60, 0.66, 0.72],\n",
    " 'min_samples_split': [3, 5, 8],\n",
    " 'max_leaf_nodes': [None, 45, 50, 60],\n",
    " 'min_samples_leaf': [5, 7, 9],\n",
    " 'random_state': [33],\n",
    "}"
   ]
  },
  {
   "cell_type": "code",
   "execution_count": 81,
   "metadata": {},
   "outputs": [],
   "source": [
    "parameters4 = {\n",
    " 'max_depth': [8, 9, 10],\n",
    " 'subsample': [0.68, 0.72, 0.76],\n",
    " 'min_samples_split': [1, 2, 3],\n",
    " 'max_leaf_nodes': [50, 52, 54],\n",
    " 'min_samples_leaf': [6, 7, 8],\n",
    " 'random_state': [33],\n",
    " }"
   ]
  },
  {
   "cell_type": "code",
   "execution_count": 99,
   "metadata": {},
   "outputs": [],
   "source": [
    "parameters5 = {\n",
    "    'n_estimators': [40, 50, 60, 70, 100, 1000]\n",
    "}"
   ]
  },
  {
   "cell_type": "code",
   "execution_count": 100,
   "metadata": {},
   "outputs": [],
   "source": [
    "clf = GridSearchCV(GradientBoostingClassifier(loss='deviance', learning_rate=0.1, \n",
    "                         criterion='friedman_mse', tol=1e-8, max_features='sqrt',\n",
    "                                subsample=0.72, min_samples_split=6, \n",
    "                                max_leaf_nodes=52, max_depth=10), \n",
    "                         parameters5, \n",
    "                   scoring=make_scorer(roc_auc_score, needs_proba=True), n_jobs=-1)"
   ]
  },
  {
   "cell_type": "code",
   "execution_count": 101,
   "metadata": {},
   "outputs": [
    {
     "name": "stdout",
     "output_type": "stream",
     "text": [
      "CPU times: user 1min 12s, sys: 1.32 s, total: 1min 13s\n",
      "Wall time: 4min 14s\n"
     ]
    },
    {
     "data": {
      "text/plain": [
       "(GradientBoostingClassifier(max_depth=10, max_features='sqrt', max_leaf_nodes=52,\n",
       "                            min_samples_split=6, n_estimators=1000,\n",
       "                            subsample=0.72, tol=1e-08),\n",
       " 0.8841218032816766,\n",
       " {'n_estimators': 1000})"
      ]
     },
     "execution_count": 101,
     "metadata": {},
     "output_type": "execute_result"
    }
   ],
   "source": [
    "%%time\n",
    "clf.fit(xs, y)\n",
    "clf.best_estimator_, clf.best_score_, clf.best_params_"
   ]
  },
  {
   "cell_type": "code",
   "execution_count": 104,
   "metadata": {},
   "outputs": [
    {
     "name": "stdout",
     "output_type": "stream",
     "text": [
      "      Iter       Train Loss      OOB Improve   Remaining Time \n",
      "         1           0.2693           0.0407            1.12m\n",
      "         2           0.2610           0.0080            1.04m\n",
      "         3           0.2520           0.0075           59.71s\n",
      "         4           0.2429           0.0055            1.08m\n",
      "         5           0.2422           0.0028            1.06m\n",
      "         6           0.2346           0.0033            1.05m\n",
      "         7           0.2353           0.0050            1.04m\n",
      "         8           0.2226           0.0042            1.03m\n",
      "         9           0.2224           0.0027            1.03m\n",
      "        10           0.2239           0.0020            1.04m\n",
      "        20           0.1882           0.0006            1.07m\n",
      "        30           0.1758           0.0002            1.03m\n",
      "        40           0.1648          -0.0000            1.03m\n",
      "        50           0.1593          -0.0001            1.03m\n",
      "        60           0.1503          -0.0010            1.02m\n",
      "        70           0.1466          -0.0001            1.03m\n",
      "        80           0.1400          -0.0006            1.03m\n",
      "        90           0.1281           0.0001            1.02m\n",
      "       100           0.1262           0.0000            1.01m\n",
      "       200           0.0885          -0.0000           53.75s\n",
      "       300           0.0630          -0.0000           46.14s\n",
      "       400           0.0455          -0.0001           38.94s\n",
      "       500           0.0314          -0.0002           32.90s\n",
      "       600           0.0250          -0.0000           26.86s\n",
      "       700           0.0175          -0.0000           20.73s\n",
      "       800           0.0133          -0.0000           13.60s\n",
      "       900           0.0100          -0.0000            6.70s\n",
      "      1000           0.0078          -0.0000            0.00s\n"
     ]
    },
    {
     "data": {
      "text/plain": [
       "(1.0, 0.8318749851413832)"
      ]
     },
     "execution_count": 104,
     "metadata": {},
     "output_type": "execute_result"
    }
   ],
   "source": [
    "clf = GradientBoostingClassifier(loss='deviance', learning_rate=0.1, verbose=1,\n",
    "                         criterion='friedman_mse', tol=1e-8, max_features='sqrt',\n",
    "                                subsample=0.72, min_samples_split=6, \n",
    "                                max_leaf_nodes=52, max_depth=10, n_estimators=1000)\n",
    "clf.fit(xs, y)\n",
    "m_roc(y, xs), m_roc(valid_y, valid_xs)"
   ]
  },
  {
   "cell_type": "code",
   "execution_count": 103,
   "metadata": {},
   "outputs": [
    {
     "name": "stdout",
     "output_type": "stream",
     "text": [
      "      Iter       Train Loss      OOB Improve   Remaining Time \n",
      "         1           0.3119           0.0022            1.08m\n",
      "         2           0.3162           0.0018            1.10m\n",
      "         3           0.3054           0.0018            1.03m\n",
      "         4           0.3067           0.0014            1.06m\n",
      "         5           0.3047           0.0014            1.05m\n",
      "         6           0.3057           0.0015            1.05m\n",
      "         7           0.2964           0.0015            1.06m\n",
      "         8           0.3050           0.0014            1.05m\n",
      "         9           0.2936           0.0013            1.06m\n",
      "        10           0.2941           0.0012            1.02m\n",
      "        20           0.2828           0.0009           58.00s\n",
      "        30           0.2784           0.0006           58.51s\n",
      "        40           0.2696           0.0005           58.59s\n",
      "        50           0.2593           0.0004           57.99s\n",
      "        60           0.2554           0.0004           58.28s\n",
      "        70           0.2499           0.0004           57.67s\n",
      "        80           0.2495           0.0003           57.89s\n",
      "        90           0.2469           0.0003           57.43s\n",
      "       100           0.2403           0.0003           57.28s\n",
      "       200           0.2183           0.0001           50.64s\n",
      "       300           0.2044           0.0001           44.37s\n",
      "       400           0.1882           0.0001           37.87s\n",
      "       500           0.1856           0.0000           31.81s\n",
      "       600           0.1783           0.0000           25.81s\n",
      "       700           0.1718           0.0000           19.60s\n",
      "       800           0.1666           0.0000           13.23s\n",
      "       900           0.1653           0.0000            6.66s\n",
      "      1000           0.1598           0.0000            0.00s\n"
     ]
    },
    {
     "data": {
      "text/plain": [
       "(0.9152136625826836, 0.843631924082018)"
      ]
     },
     "execution_count": 103,
     "metadata": {},
     "output_type": "execute_result"
    }
   ],
   "source": [
    "clf = GradientBoostingClassifier(loss='deviance', learning_rate=0.005, verbose=1,\n",
    "                         criterion='friedman_mse', tol=1e-8, max_features='sqrt',\n",
    "                                subsample=0.72, min_samples_split=6, \n",
    "                                max_leaf_nodes=52, max_depth=10, n_estimators=1000)\n",
    "clf.fit(xs, y)\n",
    "m_roc(y, xs), m_roc(valid_y, valid_xs)"
   ]
  },
  {
   "cell_type": "code",
   "execution_count": 20,
   "metadata": {
    "scrolled": true
   },
   "outputs": [
    {
     "name": "stdout",
     "output_type": "stream",
     "text": [
      "      Iter       Train Loss      OOB Improve   Remaining Time \n",
      "         1           0.3042           0.0047            1.32m\n",
      "         2           0.2985           0.0036            1.12m\n",
      "         3           0.2985           0.0032            1.03m\n",
      "         4           0.2927           0.0029            1.07m\n",
      "         5           0.2927           0.0029            1.04m\n",
      "         6           0.2857           0.0024            1.04m\n",
      "         7           0.2843           0.0024            1.01m\n",
      "         8           0.2843           0.0018            1.01m\n",
      "         9           0.2741           0.0019            1.01m\n",
      "        10           0.2770           0.0017            1.03m\n",
      "        20           0.2601           0.0014           59.83s\n",
      "        30           0.2482           0.0008           58.18s\n",
      "        40           0.2370           0.0006           56.85s\n",
      "        50           0.2368           0.0006           55.43s\n",
      "        60           0.2276           0.0004           55.59s\n",
      "        70           0.2257           0.0004           55.10s\n",
      "        80           0.2215           0.0004           54.93s\n",
      "        90           0.2147           0.0002           54.41s\n",
      "       100           0.2053           0.0002           53.64s\n",
      "       200           0.1877           0.0001           47.20s\n",
      "       300           0.1693           0.0001           41.29s\n",
      "       400           0.1598           0.0000           35.73s\n",
      "       500           0.1504           0.0000           30.05s\n",
      "       600           0.1432           0.0000           24.26s\n",
      "       700           0.1370           0.0000           18.17s\n",
      "       800           0.1309           0.0000           12.12s\n",
      "       900           0.1222           0.0000            6.08s\n",
      "      1000           0.1219           0.0000            0.00s\n"
     ]
    },
    {
     "data": {
      "text/plain": [
       "(0.9530461225192698, 0.8791834180003287)"
      ]
     },
     "execution_count": 20,
     "metadata": {},
     "output_type": "execute_result"
    }
   ],
   "source": [
    "clf = GradientBoostingClassifier(loss='deviance', learning_rate=0.01, verbose=1,\n",
    "                         criterion='friedman_mse', tol=1e-8, max_features='sqrt',\n",
    "                                subsample=0.72, min_samples_split=6, \n",
    "                                max_leaf_nodes=52, max_depth=10, n_estimators=1000)\n",
    "clf.fit(xs, y)\n",
    "m_roc(y, xs), m_roc(valid_y, valid_xs)"
   ]
  },
  {
   "cell_type": "code",
   "execution_count": 21,
   "metadata": {},
   "outputs": [],
   "source": [
    "to = (path/'to_nn_full.pkl').load()\n",
    "xs, y = to.train.xs, to.train.y\n",
    "valid_xs, valid_y = to.valid.xs, to.valid.y"
   ]
  },
  {
   "cell_type": "code",
   "execution_count": 22,
   "metadata": {},
   "outputs": [],
   "source": [
    "cats = ['ProductCD', 'card1', 'card2', 'card3', 'card4', 'card5', 'card6', \n",
    "       'addr1', 'addr2', 'P_emaildomain', 'R_emaildomain', 'M1', 'M2', 'M3', \n",
    "       'M4', 'M5', 'M6', 'M7', 'M8', 'M9', 'DeviceType', 'DeviceInfo', 'id_12', \n",
    "       'id_13', 'id_14', 'id_15', 'id_16', 'id_17', 'id_18', 'id_19', 'id_20', \n",
    "       'id_21', 'id_22', 'id_23', 'id_24', 'id_25', 'id_26', 'id_27', 'id_28', \n",
    "       'id_29', 'id_30', 'id_31', 'id_32', 'id_33', 'id_34', 'id_35', 'id_36',\n",
    "       'id_37', 'id_38']"
   ]
  },
  {
   "cell_type": "code",
   "execution_count": 23,
   "metadata": {},
   "outputs": [],
   "source": [
    "for cat in cats:\n",
    "    to[cat] = to[cat].astype('category')"
   ]
  },
  {
   "cell_type": "code",
   "execution_count": 24,
   "metadata": {},
   "outputs": [],
   "source": [
    "HistGradientBoostingClassifier?"
   ]
  },
  {
   "cell_type": "code",
   "execution_count": 25,
   "metadata": {
    "scrolled": false
   },
   "outputs": [
    {
     "name": "stdout",
     "output_type": "stream",
     "text": [
      "Binning 0.242 GB of training data: 1.191 s\n",
      "Binning 0.027 GB of validation data: 0.040 s\n",
      "Fitting gradient boosted rounds:\n",
      "[1/1000] 1 tree, 44 leaves, max depth = 10, train score: 0.83731, val score: 0.78563, in 0.148s\n",
      "[2/1000] 1 tree, 44 leaves, max depth = 11, train score: 0.87314, val score: 0.84035, in 0.192s\n",
      "[3/1000] 1 tree, 44 leaves, max depth = 9, train score: 0.87488, val score: 0.84051, in 0.205s\n",
      "[4/1000] 1 tree, 44 leaves, max depth = 9, train score: 0.88056, val score: 0.84451, in 0.175s\n",
      "[5/1000] 1 tree, 44 leaves, max depth = 10, train score: 0.88272, val score: 0.84549, in 0.169s\n",
      "[6/1000] 1 tree, 44 leaves, max depth = 9, train score: 0.88514, val score: 0.84660, in 0.355s\n",
      "[7/1000] 1 tree, 44 leaves, max depth = 9, train score: 0.88573, val score: 0.84823, in 0.225s\n",
      "[8/1000] 1 tree, 44 leaves, max depth = 11, train score: 0.88528, val score: 0.84654, in 0.188s\n",
      "[9/1000] 1 tree, 44 leaves, max depth = 11, train score: 0.88609, val score: 0.84730, in 0.212s\n",
      "[10/1000] 1 tree, 44 leaves, max depth = 12, train score: 0.88568, val score: 0.84721, in 0.203s\n",
      "[11/1000] 1 tree, 44 leaves, max depth = 10, train score: 0.88823, val score: 0.84986, in 0.196s\n",
      "[12/1000] 1 tree, 44 leaves, max depth = 11, train score: 0.88921, val score: 0.85055, in 0.245s\n",
      "[13/1000] 1 tree, 44 leaves, max depth = 9, train score: 0.88963, val score: 0.85083, in 0.297s\n",
      "[14/1000] 1 tree, 44 leaves, max depth = 11, train score: 0.88980, val score: 0.85006, in 0.324s\n",
      "[15/1000] 1 tree, 44 leaves, max depth = 11, train score: 0.89061, val score: 0.85237, in 0.335s\n",
      "[16/1000] 1 tree, 44 leaves, max depth = 13, train score: 0.89278, val score: 0.85403, in 0.339s\n",
      "[17/1000] 1 tree, 44 leaves, max depth = 13, train score: 0.89343, val score: 0.85752, in 0.338s\n",
      "[18/1000] 1 tree, 44 leaves, max depth = 10, train score: 0.89356, val score: 0.85743, in 0.656s\n",
      "[19/1000] 1 tree, 44 leaves, max depth = 12, train score: 0.89668, val score: 0.85970, in 0.178s\n",
      "[20/1000] 1 tree, 44 leaves, max depth = 13, train score: 0.89703, val score: 0.85946, in 0.191s\n",
      "[21/1000] 1 tree, 44 leaves, max depth = 10, train score: 0.89741, val score: 0.85954, in 0.192s\n",
      "[22/1000] 1 tree, 44 leaves, max depth = 10, train score: 0.89869, val score: 0.86020, in 0.198s\n",
      "[23/1000] 1 tree, 44 leaves, max depth = 11, train score: 0.89865, val score: 0.86023, in 0.197s\n",
      "[24/1000] 1 tree, 44 leaves, max depth = 10, train score: 0.89881, val score: 0.86000, in 0.195s\n",
      "[25/1000] 1 tree, 44 leaves, max depth = 14, train score: 0.90204, val score: 0.86032, in 0.206s\n",
      "[26/1000] 1 tree, 44 leaves, max depth = 11, train score: 0.90285, val score: 0.86082, in 0.497s\n",
      "[27/1000] 1 tree, 44 leaves, max depth = 11, train score: 0.90393, val score: 0.86097, in 0.374s\n",
      "[28/1000] 1 tree, 44 leaves, max depth = 11, train score: 0.90493, val score: 0.86132, in 0.350s\n",
      "[29/1000] 1 tree, 44 leaves, max depth = 12, train score: 0.90623, val score: 0.86061, in 0.353s\n",
      "[30/1000] 1 tree, 44 leaves, max depth = 12, train score: 0.90620, val score: 0.86035, in 0.337s\n",
      "[31/1000] 1 tree, 44 leaves, max depth = 9, train score: 0.90697, val score: 0.86022, in 0.562s\n",
      "[32/1000] 1 tree, 44 leaves, max depth = 9, train score: 0.90801, val score: 0.85990, in 0.230s\n",
      "[33/1000] 1 tree, 44 leaves, max depth = 13, train score: 0.90849, val score: 0.85975, in 0.208s\n",
      "[34/1000] 1 tree, 44 leaves, max depth = 10, train score: 0.90881, val score: 0.86004, in 0.202s\n",
      "[35/1000] 1 tree, 44 leaves, max depth = 16, train score: 0.90994, val score: 0.86055, in 0.219s\n",
      "[36/1000] 1 tree, 44 leaves, max depth = 11, train score: 0.91056, val score: 0.86089, in 0.214s\n",
      "[37/1000] 1 tree, 44 leaves, max depth = 10, train score: 0.91080, val score: 0.86197, in 0.213s\n",
      "[38/1000] 1 tree, 44 leaves, max depth = 14, train score: 0.91110, val score: 0.86201, in 0.236s\n",
      "[39/1000] 1 tree, 44 leaves, max depth = 12, train score: 0.91129, val score: 0.86202, in 0.407s\n",
      "[40/1000] 1 tree, 44 leaves, max depth = 10, train score: 0.91243, val score: 0.86392, in 0.412s\n",
      "[41/1000] 1 tree, 44 leaves, max depth = 10, train score: 0.91259, val score: 0.86449, in 0.391s\n",
      "[42/1000] 1 tree, 44 leaves, max depth = 12, train score: 0.91270, val score: 0.86491, in 0.396s\n",
      "[43/1000] 1 tree, 44 leaves, max depth = 15, train score: 0.91353, val score: 0.86511, in 0.712s\n",
      "[44/1000] 1 tree, 44 leaves, max depth = 12, train score: 0.91473, val score: 0.86543, in 0.218s\n",
      "[45/1000] 1 tree, 44 leaves, max depth = 12, train score: 0.91534, val score: 0.86518, in 0.218s\n",
      "[46/1000] 1 tree, 44 leaves, max depth = 12, train score: 0.91665, val score: 0.86669, in 0.232s\n",
      "[47/1000] 1 tree, 44 leaves, max depth = 11, train score: 0.91726, val score: 0.86709, in 0.231s\n",
      "[48/1000] 1 tree, 44 leaves, max depth = 13, train score: 0.91814, val score: 0.86685, in 0.228s\n",
      "[49/1000] 1 tree, 44 leaves, max depth = 13, train score: 0.91855, val score: 0.86652, in 0.230s\n",
      "[50/1000] 1 tree, 44 leaves, max depth = 15, train score: 0.91902, val score: 0.86778, in 0.238s\n",
      "[51/1000] 1 tree, 44 leaves, max depth = 16, train score: 0.91974, val score: 0.86772, in 0.459s\n",
      "[52/1000] 1 tree, 44 leaves, max depth = 12, train score: 0.92024, val score: 0.86820, in 0.446s\n",
      "[53/1000] 1 tree, 44 leaves, max depth = 11, train score: 0.92062, val score: 0.86925, in 0.424s\n",
      "[54/1000] 1 tree, 44 leaves, max depth = 13, train score: 0.92093, val score: 0.86968, in 0.414s\n",
      "[55/1000] 1 tree, 44 leaves, max depth = 13, train score: 0.92157, val score: 0.86966, in 0.814s\n",
      "[56/1000] 1 tree, 44 leaves, max depth = 14, train score: 0.92241, val score: 0.87097, in 0.224s\n",
      "[57/1000] 1 tree, 44 leaves, max depth = 13, train score: 0.92275, val score: 0.87097, in 0.264s\n",
      "[58/1000] 1 tree, 44 leaves, max depth = 11, train score: 0.92350, val score: 0.87103, in 0.235s\n",
      "[59/1000] 1 tree, 44 leaves, max depth = 13, train score: 0.92434, val score: 0.87181, in 0.239s\n",
      "[60/1000] 1 tree, 44 leaves, max depth = 14, train score: 0.92516, val score: 0.87170, in 0.241s\n",
      "[61/1000] 1 tree, 44 leaves, max depth = 14, train score: 0.92595, val score: 0.87285, in 0.249s\n",
      "[62/1000] 1 tree, 44 leaves, max depth = 13, train score: 0.92620, val score: 0.87340, in 0.245s\n",
      "[63/1000] 1 tree, 44 leaves, max depth = 14, train score: 0.92683, val score: 0.87438, in 0.249s\n",
      "[64/1000] 1 tree, 44 leaves, max depth = 13, train score: 0.92772, val score: 0.87471, in 0.462s\n",
      "[65/1000] 1 tree, 44 leaves, max depth = 13, train score: 0.92828, val score: 0.87506, in 0.510s\n",
      "[66/1000] 1 tree, 44 leaves, max depth = 12, train score: 0.92839, val score: 0.87542, in 0.350s\n",
      "[67/1000] 1 tree, 44 leaves, max depth = 16, train score: 0.92871, val score: 0.87587, in 0.411s\n",
      "[68/1000] 1 tree, 44 leaves, max depth = 14, train score: 0.92912, val score: 0.87603, in 0.757s\n",
      "[69/1000] 1 tree, 44 leaves, max depth = 16, train score: 0.92947, val score: 0.87595, in 0.252s\n",
      "[70/1000] 1 tree, 44 leaves, max depth = 12, train score: 0.92965, val score: 0.87585, in 0.263s\n",
      "[71/1000] 1 tree, 44 leaves, max depth = 11, train score: 0.93023, val score: 0.87660, in 0.267s\n",
      "[72/1000] 1 tree, 44 leaves, max depth = 15, train score: 0.93051, val score: 0.87660, in 0.259s\n",
      "[73/1000] 1 tree, 44 leaves, max depth = 14, train score: 0.93113, val score: 0.87683, in 0.276s\n",
      "[74/1000] 1 tree, 44 leaves, max depth = 12, train score: 0.93155, val score: 0.87722, in 0.270s\n",
      "[75/1000] 1 tree, 44 leaves, max depth = 16, train score: 0.93204, val score: 0.87728, in 0.265s\n",
      "[76/1000] 1 tree, 44 leaves, max depth = 15, train score: 0.93236, val score: 0.87731, in 0.300s\n",
      "[77/1000] 1 tree, 44 leaves, max depth = 11, train score: 0.93271, val score: 0.87800, in 0.561s\n",
      "[78/1000] 1 tree, 44 leaves, max depth = 14, train score: 0.93343, val score: 0.87849, in 0.475s\n",
      "[79/1000] 1 tree, 44 leaves, max depth = 12, train score: 0.93405, val score: 0.87850, in 0.467s\n",
      "[80/1000] 1 tree, 44 leaves, max depth = 12, train score: 0.93494, val score: 0.87902, in 0.849s\n",
      "[81/1000] 1 tree, 44 leaves, max depth = 13, train score: 0.93520, val score: 0.87918, in 0.256s\n",
      "[82/1000] 1 tree, 44 leaves, max depth = 15, train score: 0.93600, val score: 0.87960, in 0.294s\n",
      "[83/1000] 1 tree, 44 leaves, max depth = 14, train score: 0.93634, val score: 0.87954, in 0.260s\n",
      "[84/1000] 1 tree, 44 leaves, max depth = 13, train score: 0.93655, val score: 0.87979, in 0.261s\n"
     ]
    },
    {
     "name": "stdout",
     "output_type": "stream",
     "text": [
      "[85/1000] 1 tree, 44 leaves, max depth = 15, train score: 0.93687, val score: 0.88020, in 0.270s\n",
      "[86/1000] 1 tree, 44 leaves, max depth = 16, train score: 0.93708, val score: 0.88048, in 0.308s\n",
      "[87/1000] 1 tree, 44 leaves, max depth = 17, train score: 0.93741, val score: 0.88090, in 0.272s\n",
      "[88/1000] 1 tree, 44 leaves, max depth = 12, train score: 0.93803, val score: 0.88102, in 0.274s\n",
      "[89/1000] 1 tree, 44 leaves, max depth = 13, train score: 0.93830, val score: 0.88162, in 0.396s\n",
      "[90/1000] 1 tree, 44 leaves, max depth = 16, train score: 0.93900, val score: 0.88166, in 0.547s\n",
      "[91/1000] 1 tree, 44 leaves, max depth = 18, train score: 0.93954, val score: 0.88176, in 0.484s\n",
      "[92/1000] 1 tree, 44 leaves, max depth = 16, train score: 0.94013, val score: 0.88184, in 0.481s\n",
      "[93/1000] 1 tree, 44 leaves, max depth = 19, train score: 0.94067, val score: 0.88204, in 0.742s\n",
      "[94/1000] 1 tree, 44 leaves, max depth = 17, train score: 0.94099, val score: 0.88177, in 0.277s\n",
      "[95/1000] 1 tree, 44 leaves, max depth = 13, train score: 0.94129, val score: 0.88228, in 0.278s\n",
      "[96/1000] 1 tree, 44 leaves, max depth = 14, train score: 0.94175, val score: 0.88253, in 0.281s\n",
      "[97/1000] 1 tree, 44 leaves, max depth = 17, train score: 0.94230, val score: 0.88280, in 0.285s\n",
      "[98/1000] 1 tree, 44 leaves, max depth = 16, train score: 0.94266, val score: 0.88309, in 0.287s\n",
      "[99/1000] 1 tree, 44 leaves, max depth = 15, train score: 0.94326, val score: 0.88289, in 0.289s\n",
      "[100/1000] 1 tree, 44 leaves, max depth = 16, train score: 0.94357, val score: 0.88286, in 0.293s\n",
      "[101/1000] 1 tree, 44 leaves, max depth = 18, train score: 0.94389, val score: 0.88321, in 0.394s\n",
      "[102/1000] 1 tree, 44 leaves, max depth = 15, train score: 0.94412, val score: 0.88334, in 0.535s\n",
      "[103/1000] 1 tree, 44 leaves, max depth = 16, train score: 0.94434, val score: 0.88329, in 0.485s\n",
      "[104/1000] 1 tree, 44 leaves, max depth = 19, train score: 0.94463, val score: 0.88327, in 0.493s\n",
      "[105/1000] 1 tree, 44 leaves, max depth = 18, train score: 0.94512, val score: 0.88348, in 0.852s\n",
      "[106/1000] 1 tree, 44 leaves, max depth = 17, train score: 0.94559, val score: 0.88338, in 0.283s\n",
      "[107/1000] 1 tree, 44 leaves, max depth = 17, train score: 0.94590, val score: 0.88368, in 0.313s\n",
      "[108/1000] 1 tree, 44 leaves, max depth = 15, train score: 0.94647, val score: 0.88369, in 0.293s\n",
      "[109/1000] 1 tree, 44 leaves, max depth = 18, train score: 0.94728, val score: 0.88384, in 0.294s\n",
      "[110/1000] 1 tree, 44 leaves, max depth = 17, train score: 0.94759, val score: 0.88414, in 0.287s\n",
      "[111/1000] 1 tree, 44 leaves, max depth = 18, train score: 0.94791, val score: 0.88376, in 0.305s\n",
      "[112/1000] 1 tree, 44 leaves, max depth = 18, train score: 0.94821, val score: 0.88409, in 0.306s\n",
      "[113/1000] 1 tree, 44 leaves, max depth = 17, train score: 0.94840, val score: 0.88382, in 0.308s\n",
      "[114/1000] 1 tree, 44 leaves, max depth = 14, train score: 0.94854, val score: 0.88388, in 0.436s\n",
      "[115/1000] 1 tree, 44 leaves, max depth = 17, train score: 0.94914, val score: 0.88448, in 0.513s\n",
      "[116/1000] 1 tree, 44 leaves, max depth = 19, train score: 0.94961, val score: 0.88477, in 0.507s\n",
      "[117/1000] 1 tree, 44 leaves, max depth = 16, train score: 0.95020, val score: 0.88478, in 0.529s\n",
      "[118/1000] 1 tree, 44 leaves, max depth = 21, train score: 0.95052, val score: 0.88503, in 0.787s\n",
      "[119/1000] 1 tree, 44 leaves, max depth = 18, train score: 0.95073, val score: 0.88533, in 0.304s\n",
      "[120/1000] 1 tree, 44 leaves, max depth = 17, train score: 0.95112, val score: 0.88546, in 0.296s\n",
      "[121/1000] 1 tree, 44 leaves, max depth = 22, train score: 0.95152, val score: 0.88554, in 0.301s\n",
      "[122/1000] 1 tree, 44 leaves, max depth = 16, train score: 0.95190, val score: 0.88558, in 0.311s\n",
      "[123/1000] 1 tree, 44 leaves, max depth = 12, train score: 0.95236, val score: 0.88583, in 0.307s\n",
      "[124/1000] 1 tree, 44 leaves, max depth = 17, train score: 0.95289, val score: 0.88623, in 0.319s\n",
      "[125/1000] 1 tree, 44 leaves, max depth = 18, train score: 0.95339, val score: 0.88616, in 0.320s\n",
      "[126/1000] 1 tree, 44 leaves, max depth = 16, train score: 0.95395, val score: 0.88610, in 0.415s\n",
      "[127/1000] 1 tree, 44 leaves, max depth = 17, train score: 0.95439, val score: 0.88630, in 0.524s\n",
      "[128/1000] 1 tree, 44 leaves, max depth = 22, train score: 0.95468, val score: 0.88623, in 0.527s\n",
      "[129/1000] 1 tree, 44 leaves, max depth = 16, train score: 0.95512, val score: 0.88627, in 0.547s\n",
      "[130/1000] 1 tree, 44 leaves, max depth = 16, train score: 0.95536, val score: 0.88624, in 0.933s\n",
      "[131/1000] 1 tree, 44 leaves, max depth = 16, train score: 0.95568, val score: 0.88660, in 0.351s\n",
      "[132/1000] 1 tree, 44 leaves, max depth = 20, train score: 0.95595, val score: 0.88671, in 0.422s\n",
      "[133/1000] 1 tree, 44 leaves, max depth = 18, train score: 0.95651, val score: 0.88670, in 0.443s\n",
      "[134/1000] 1 tree, 44 leaves, max depth = 16, train score: 0.95678, val score: 0.88670, in 0.344s\n",
      "[135/1000] 1 tree, 44 leaves, max depth = 16, train score: 0.95702, val score: 0.88697, in 0.409s\n",
      "[136/1000] 1 tree, 44 leaves, max depth = 17, train score: 0.95730, val score: 0.88698, in 0.383s\n",
      "[137/1000] 1 tree, 44 leaves, max depth = 15, train score: 0.95765, val score: 0.88697, in 0.338s\n",
      "[138/1000] 1 tree, 44 leaves, max depth = 15, train score: 0.95784, val score: 0.88704, in 0.419s\n",
      "[139/1000] 1 tree, 44 leaves, max depth = 17, train score: 0.95836, val score: 0.88701, in 0.546s\n",
      "[140/1000] 1 tree, 44 leaves, max depth = 23, train score: 0.95871, val score: 0.88688, in 0.544s\n",
      "[141/1000] 1 tree, 44 leaves, max depth = 15, train score: 0.95896, val score: 0.88724, in 0.551s\n",
      "[142/1000] 1 tree, 44 leaves, max depth = 17, train score: 0.95933, val score: 0.88726, in 0.559s\n",
      "[143/1000] 1 tree, 44 leaves, max depth = 12, train score: 0.95951, val score: 0.88724, in 0.695s\n",
      "[144/1000] 1 tree, 44 leaves, max depth = 16, train score: 0.95987, val score: 0.88735, in 0.373s\n",
      "[145/1000] 1 tree, 44 leaves, max depth = 15, train score: 0.96009, val score: 0.88754, in 0.329s\n",
      "[146/1000] 1 tree, 44 leaves, max depth = 14, train score: 0.96053, val score: 0.88754, in 0.323s\n",
      "[147/1000] 1 tree, 44 leaves, max depth = 23, train score: 0.96071, val score: 0.88762, in 0.320s\n",
      "[148/1000] 1 tree, 44 leaves, max depth = 13, train score: 0.96099, val score: 0.88768, in 0.330s\n",
      "[149/1000] 1 tree, 44 leaves, max depth = 16, train score: 0.96124, val score: 0.88796, in 0.448s\n",
      "[150/1000] 1 tree, 44 leaves, max depth = 22, train score: 0.96146, val score: 0.88792, in 0.401s\n",
      "[151/1000] 1 tree, 44 leaves, max depth = 22, train score: 0.96178, val score: 0.88798, in 0.396s\n",
      "[152/1000] 1 tree, 44 leaves, max depth = 18, train score: 0.96198, val score: 0.88814, in 0.779s\n",
      "[153/1000] 1 tree, 44 leaves, max depth = 18, train score: 0.96223, val score: 0.88794, in 0.824s\n",
      "[154/1000] 1 tree, 44 leaves, max depth = 20, train score: 0.96245, val score: 0.88809, in 0.664s\n",
      "[155/1000] 1 tree, 44 leaves, max depth = 13, train score: 0.96278, val score: 0.88825, in 0.909s\n",
      "[156/1000] 1 tree, 44 leaves, max depth = 20, train score: 0.96314, val score: 0.88853, in 0.354s\n",
      "[157/1000] 1 tree, 44 leaves, max depth = 17, train score: 0.96343, val score: 0.88831, in 0.363s\n",
      "[158/1000] 1 tree, 44 leaves, max depth = 15, train score: 0.96378, val score: 0.88806, in 0.482s\n",
      "[159/1000] 1 tree, 44 leaves, max depth = 15, train score: 0.96396, val score: 0.88833, in 0.442s\n",
      "[160/1000] 1 tree, 44 leaves, max depth = 15, train score: 0.96428, val score: 0.88841, in 0.369s\n",
      "[161/1000] 1 tree, 44 leaves, max depth = 18, train score: 0.96462, val score: 0.88848, in 0.380s\n",
      "[162/1000] 1 tree, 44 leaves, max depth = 12, train score: 0.96487, val score: 0.88879, in 0.397s\n",
      "[163/1000] 1 tree, 44 leaves, max depth = 15, train score: 0.96508, val score: 0.88882, in 0.491s\n",
      "[164/1000] 1 tree, 44 leaves, max depth = 14, train score: 0.96521, val score: 0.88906, in 0.591s\n",
      "[165/1000] 1 tree, 44 leaves, max depth = 16, train score: 0.96531, val score: 0.88903, in 0.559s\n",
      "[166/1000] 1 tree, 44 leaves, max depth = 20, train score: 0.96550, val score: 0.88882, in 0.590s\n",
      "[167/1000] 1 tree, 44 leaves, max depth = 19, train score: 0.96568, val score: 0.88880, in 1.050s\n",
      "[168/1000] 1 tree, 44 leaves, max depth = 19, train score: 0.96589, val score: 0.88904, in 0.335s\n"
     ]
    },
    {
     "name": "stdout",
     "output_type": "stream",
     "text": [
      "[169/1000] 1 tree, 44 leaves, max depth = 19, train score: 0.96621, val score: 0.88901, in 0.385s\n",
      "[170/1000] 1 tree, 44 leaves, max depth = 17, train score: 0.96660, val score: 0.88901, in 0.343s\n",
      "[171/1000] 1 tree, 44 leaves, max depth = 17, train score: 0.96694, val score: 0.88909, in 0.337s\n",
      "[172/1000] 1 tree, 44 leaves, max depth = 20, train score: 0.96710, val score: 0.88898, in 0.337s\n",
      "[173/1000] 1 tree, 44 leaves, max depth = 20, train score: 0.96722, val score: 0.88907, in 0.349s\n",
      "[174/1000] 1 tree, 44 leaves, max depth = 15, train score: 0.96747, val score: 0.88921, in 0.358s\n",
      "[175/1000] 1 tree, 44 leaves, max depth = 21, train score: 0.96772, val score: 0.88933, in 0.364s\n",
      "[176/1000] 1 tree, 44 leaves, max depth = 14, train score: 0.96794, val score: 0.88940, in 0.390s\n",
      "[177/1000] 1 tree, 44 leaves, max depth = 19, train score: 0.96818, val score: 0.88963, in 0.594s\n",
      "[178/1000] 1 tree, 44 leaves, max depth = 14, train score: 0.96838, val score: 0.88971, in 0.625s\n",
      "[179/1000] 1 tree, 44 leaves, max depth = 16, train score: 0.96862, val score: 0.88983, in 0.608s\n",
      "[180/1000] 1 tree, 44 leaves, max depth = 19, train score: 0.96887, val score: 0.89009, in 0.867s\n",
      "[181/1000] 1 tree, 44 leaves, max depth = 17, train score: 0.96920, val score: 0.89005, in 0.354s\n",
      "[182/1000] 1 tree, 44 leaves, max depth = 14, train score: 0.96949, val score: 0.89018, in 0.348s\n",
      "[183/1000] 1 tree, 44 leaves, max depth = 15, train score: 0.96970, val score: 0.89030, in 0.352s\n",
      "[184/1000] 1 tree, 44 leaves, max depth = 15, train score: 0.96985, val score: 0.89028, in 0.347s\n",
      "[185/1000] 1 tree, 44 leaves, max depth = 21, train score: 0.97014, val score: 0.89036, in 0.360s\n",
      "[186/1000] 1 tree, 44 leaves, max depth = 17, train score: 0.97044, val score: 0.89035, in 0.354s\n",
      "[187/1000] 1 tree, 44 leaves, max depth = 14, train score: 0.97047, val score: 0.89052, in 0.365s\n",
      "[188/1000] 1 tree, 44 leaves, max depth = 17, train score: 0.97047, val score: 0.89048, in 0.356s\n",
      "[189/1000] 1 tree, 44 leaves, max depth = 22, train score: 0.97057, val score: 0.89065, in 0.929s\n",
      "[190/1000] 1 tree, 44 leaves, max depth = 12, train score: 0.97090, val score: 0.89077, in 0.432s\n",
      "[191/1000] 1 tree, 44 leaves, max depth = 15, train score: 0.97099, val score: 0.89110, in 0.586s\n",
      "[192/1000] 1 tree, 44 leaves, max depth = 18, train score: 0.97110, val score: 0.89102, in 1.106s\n",
      "[193/1000] 1 tree, 44 leaves, max depth = 17, train score: 0.97139, val score: 0.89101, in 0.354s\n",
      "[194/1000] 1 tree, 44 leaves, max depth = 20, train score: 0.97145, val score: 0.89116, in 0.389s\n",
      "[195/1000] 1 tree, 44 leaves, max depth = 18, train score: 0.97163, val score: 0.89114, in 0.351s\n",
      "[196/1000] 1 tree, 44 leaves, max depth = 13, train score: 0.97187, val score: 0.89125, in 0.359s\n",
      "[197/1000] 1 tree, 44 leaves, max depth = 10, train score: 0.97205, val score: 0.89116, in 0.357s\n",
      "[198/1000] 1 tree, 44 leaves, max depth = 22, train score: 0.97226, val score: 0.89113, in 0.372s\n",
      "[199/1000] 1 tree, 44 leaves, max depth = 18, train score: 0.97238, val score: 0.89095, in 0.369s\n",
      "[200/1000] 1 tree, 44 leaves, max depth = 20, train score: 0.97250, val score: 0.89089, in 0.369s\n",
      "[201/1000] 1 tree, 44 leaves, max depth = 15, train score: 0.97258, val score: 0.89108, in 0.368s\n",
      "[202/1000] 1 tree, 44 leaves, max depth = 14, train score: 0.97282, val score: 0.89111, in 0.376s\n",
      "[203/1000] 1 tree, 44 leaves, max depth = 14, train score: 0.97301, val score: 0.89120, in 0.564s\n",
      "[204/1000] 1 tree, 44 leaves, max depth = 14, train score: 0.97315, val score: 0.89119, in 0.678s\n",
      "[205/1000] 1 tree, 44 leaves, max depth = 11, train score: 0.97329, val score: 0.89118, in 1.019s\n",
      "[206/1000] 1 tree, 44 leaves, max depth = 11, train score: 0.97340, val score: 0.89112, in 1.055s\n",
      "Fit 206 trees in 84.463 s, (9064 total leaves)\n",
      "Time spent computing histograms: 47.053s\n",
      "Time spent finding best splits:  7.291s\n",
      "Time spent applying splits:      8.752s\n",
      "Time spent predicting:           0.052s\n",
      "CPU times: user 6min 9s, sys: 2min 37s, total: 8min 47s\n",
      "Wall time: 1min 25s\n"
     ]
    },
    {
     "data": {
      "text/plain": [
       "(0.9641418347459628, 0.8891066033041436)"
      ]
     },
     "execution_count": 25,
     "metadata": {},
     "output_type": "execute_result"
    }
   ],
   "source": [
    "%%time\n",
    "clf = HistGradientBoostingClassifier(loss='binary_crossentropy', verbose=1, l2_regularization=2.4,\n",
    "                             learning_rate=0.03, max_depth=25, max_iter=1000, max_leaf_nodes=44,\n",
    "                             min_samples_leaf=8,  scoring='roc_auc', tol=1e-8)\n",
    "clf.fit(xs, y)\n",
    "m_roc(y, xs), m_roc(valid_y, valid_xs)"
   ]
  },
  {
   "cell_type": "code",
   "execution_count": null,
   "metadata": {},
   "outputs": [],
   "source": []
  }
 ],
 "metadata": {
  "kernelspec": {
   "display_name": "Python 3",
   "language": "python",
   "name": "python3"
  },
  "language_info": {
   "codemirror_mode": {
    "name": "ipython",
    "version": 3
   },
   "file_extension": ".py",
   "mimetype": "text/x-python",
   "name": "python",
   "nbconvert_exporter": "python",
   "pygments_lexer": "ipython3",
   "version": "3.8.5"
  },
  "toc": {
   "base_numbering": 1,
   "nav_menu": {},
   "number_sections": false,
   "sideBar": true,
   "skip_h1_title": false,
   "title_cell": "Table of Contents",
   "title_sidebar": "Contents",
   "toc_cell": true,
   "toc_position": {},
   "toc_section_display": true,
   "toc_window_display": false
  }
 },
 "nbformat": 4,
 "nbformat_minor": 4
}
