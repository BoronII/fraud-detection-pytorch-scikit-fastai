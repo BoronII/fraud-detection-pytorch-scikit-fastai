{
 "cells": [
  {
   "cell_type": "markdown",
   "metadata": {
    "toc": true
   },
   "source": [
    "<h1>Table of Contents<span class=\"tocSkip\"></span></h1>\n",
    "<div class=\"toc\"><ul class=\"toc-item\"><li><span><a href=\"#Imports\" data-toc-modified-id=\"Imports-1\">Imports</a></span></li><li><span><a href=\"#Data-pre-processing\" data-toc-modified-id=\"Data-pre-processing-2\">Data pre-processing</a></span></li><li><span><a href=\"#Function-definitions\" data-toc-modified-id=\"Function-definitions-3\">Function definitions</a></span></li><li><span><a href=\"#Gradient-Boosted-Trees\" data-toc-modified-id=\"Gradient-Boosted-Trees-4\">Gradient Boosted Trees</a></span></li><li><span><a href=\"#HistGradientBoostingClassifier\" data-toc-modified-id=\"HistGradientBoostingClassifier-5\">HistGradientBoostingClassifier</a></span></li><li><span><a href=\"#Class-weights\" data-toc-modified-id=\"Class-weights-6\">Class weights</a></span></li><li><span><a href=\"#Initial-Classifiers\" data-toc-modified-id=\"Initial-Classifiers-7\">Initial Classifiers</a></span><ul class=\"toc-item\"><li><span><a href=\"#Important-features\" data-toc-modified-id=\"Important-features-7.1\">Important features</a></span><ul class=\"toc-item\"><li><span><a href=\"#Hyperparameter-tuning\" data-toc-modified-id=\"Hyperparameter-tuning-7.1.1\">Hyperparameter tuning</a></span></li><li><span><a href=\"#Including-the-V***-columns\" data-toc-modified-id=\"Including-the-V***-columns-7.1.2\">Including the V*** columns</a></span></li><li><span><a href=\"#Only-features-deemed-important-by-RF-model-interpretation-with-V***-features\" data-toc-modified-id=\"Only-features-deemed-important-by-RF-model-interpretation-with-V***-features-7.1.3\">Only features deemed important by RF model interpretation with V*** features</a></span></li><li><span><a href=\"#Only-features-deemed-important-by-RF-model-interpretation\" data-toc-modified-id=\"Only-features-deemed-important-by-RF-model-interpretation-7.1.4\">Only features deemed important by RF model interpretation</a></span></li></ul></li></ul></li></ul></div>"
   ]
  },
  {
   "cell_type": "markdown",
   "metadata": {
    "heading_collapsed": true
   },
   "source": [
    "# Imports"
   ]
  },
  {
   "cell_type": "code",
   "execution_count": 1,
   "metadata": {
    "hidden": true
   },
   "outputs": [],
   "source": [
    "from fastai.tabular.all import *\n",
    "from sklearn.metrics import roc_auc_score\n",
    "from sklearn.model_selection import GridSearchCV\n",
    "from sklearn.model_selection import RandomizedSearchCV\n",
    "from sklearn.metrics import make_scorer\n",
    "from sklearn.metrics import roc_auc_score, auc\n",
    "from sklearn.metrics import confusion_matrix\n",
    "from sklearn.metrics import precision_recall_fscore_support\n",
    "from sklearn.metrics import precision_recall_curve\n",
    "from sklearn.metrics import roc_curve\n",
    "import seaborn as sn\n",
    "\n",
    "\n",
    "from sklearn.experimental import enable_hist_gradient_boosting \n",
    "from sklearn.ensemble import HistGradientBoostingClassifier\n",
    "\n",
    "path = Path('/Users/baranserajelahi/Codes/fraud-detection-pytorch-scikit-fastai/data')\n",
    "Path.BASE_PATH = path\n",
    "pd.options.display.max_rows = 200\n",
    "pd.options.display.max_columns = 125"
   ]
  },
  {
   "cell_type": "markdown",
   "metadata": {
    "heading_collapsed": true
   },
   "source": [
    "# Data pre-processing"
   ]
  },
  {
   "cell_type": "markdown",
   "metadata": {
    "hidden": true
   },
   "source": []
  },
  {
   "cell_type": "code",
   "execution_count": 2,
   "metadata": {
    "hidden": true
   },
   "outputs": [],
   "source": [
    "# Tabular object created and saved on the 02_ notebook\n",
    "to = (path/'to_ss.pkl').load()"
   ]
  },
  {
   "cell_type": "code",
   "execution_count": 3,
   "metadata": {
    "hidden": true
   },
   "outputs": [
    {
     "data": {
      "text/plain": [
       "dtype('int16')"
      ]
     },
     "execution_count": 3,
     "metadata": {},
     "output_type": "execute_result"
    }
   ],
   "source": [
    "to[\"card1\"].dtype"
   ]
  },
  {
   "cell_type": "code",
   "execution_count": 4,
   "metadata": {
    "hidden": true
   },
   "outputs": [],
   "source": [
    "cats = ['ProductCD', 'card1', 'card2', 'card3', 'card4', 'card5', 'card6', \n",
    "       'addr1', 'addr2', 'P_emaildomain', 'R_emaildomain', 'M1', 'M2', 'M3', \n",
    "       'M4', 'M5', 'M6', 'M7', 'M8', 'M9', 'DeviceType', 'DeviceInfo', 'id_12', \n",
    "       'id_13', 'id_14', 'id_15', 'id_16', 'id_17', 'id_18', 'id_19', 'id_20', \n",
    "       'id_21', 'id_22', 'id_23', 'id_24', 'id_25', 'id_26', 'id_27', 'id_28', \n",
    "       'id_29', 'id_30', 'id_31', 'id_32', 'id_33', 'id_34', 'id_35', 'id_36',\n",
    "       'id_37', 'id_38']\n",
    "\n",
    "for cat in cats:\n",
    "    to[cat] = to[cat].astype('category')"
   ]
  },
  {
   "cell_type": "code",
   "execution_count": 5,
   "metadata": {
    "hidden": true
   },
   "outputs": [
    {
     "data": {
      "text/plain": [
       "CategoricalDtype(categories=[   0,    1,    2,    3,    4,    5,    6,    7,    8,    9,\n",
       "                  ...\n",
       "                  5646, 5647, 5648, 5649, 5650, 5651, 5652, 5653, 5654, 5655],\n",
       "                 ordered=False)"
      ]
     },
     "execution_count": 5,
     "metadata": {},
     "output_type": "execute_result"
    }
   ],
   "source": [
    "to[\"card1\"].dtype"
   ]
  },
  {
   "cell_type": "code",
   "execution_count": 6,
   "metadata": {
    "hidden": true
   },
   "outputs": [],
   "source": [
    "xs, y = to.train.xs, to.train.y\n",
    "valid_xs, valid_y = to.valid.xs, to.valid.y"
   ]
  },
  {
   "cell_type": "code",
   "execution_count": 7,
   "metadata": {
    "hidden": true
   },
   "outputs": [
    {
     "data": {
      "text/plain": [
       "((48491, 122), (10563, 122), 359, 0.03398655684937991)"
      ]
     },
     "execution_count": 7,
     "metadata": {},
     "output_type": "execute_result"
    }
   ],
   "source": [
    "xs.shape, valid_xs.shape, valid_y.sum(), valid_y.mean()"
   ]
  },
  {
   "cell_type": "markdown",
   "metadata": {
    "heading_collapsed": true
   },
   "source": [
    "# Function definitions"
   ]
  },
  {
   "cell_type": "code",
   "execution_count": 8,
   "metadata": {
    "hidden": true
   },
   "outputs": [],
   "source": [
    "def fit(m, xs=xs, y=y, valid_xs=valid_xs, valid_y=valid_y, **kwargs):\n",
    "    m.fit(xs, y, **kwargs)\n",
    "    prob_train = m.predict_proba(xs)[:,1]\n",
    "    pred_train = m.predict(xs)\n",
    "    prob_valid = m.predict_proba(valid_xs)[:,1]\n",
    "    pred_valid = m.predict(valid_xs)\n",
    "    Train_AROC = roc_auc_score(y, prob_train )\n",
    "    Valid_AROC = roc_auc_score(valid_y, prob_valid)\n",
    "    print(f'Train_AROC: {Train_AROC}')\n",
    "    print(f'Valid_AROC: {Valid_AROC}')\n",
    "    return prob_train, pred_train, prob_valid, pred_valid"
   ]
  },
  {
   "cell_type": "code",
   "execution_count": 9,
   "metadata": {
    "hidden": true
   },
   "outputs": [],
   "source": [
    "def metrics(y_true, y_pred, y_prob, acc=False):\n",
    "    # calculate precision-recall curve\n",
    "    precision, recall, _ = precision_recall_curve(y_true, y_prob)\n",
    "    P, R, F1, _  = precision_recall_fscore_support(y_true, y_pred, beta=1.0)\n",
    "    _, _, F2, _  = precision_recall_fscore_support(y_true, y_pred, beta=2.0)\n",
    "    _, _, F5, _  = precision_recall_fscore_support(y_true, y_pred, beta=5.0)\n",
    "    _, _, F10, _ = precision_recall_fscore_support(y_true, y_pred, beta=10.0)\n",
    "    AROC         = roc_auc_score(y_true, y_prob)\n",
    "    APRC         = auc(recall, precision)\n",
    "    if acc==True:\n",
    "        cm = confusion_matrix(y_true, y_pred)\n",
    "        FP = cm.sum(axis=0) - np.diag(cm)  \n",
    "        FN = cm.sum(axis=1) - np.diag(cm)\n",
    "        TP = np.diag(cm)\n",
    "        TN = cm.sum() - (FP + FN + TP)\n",
    "        ACC = (TP+TN)/(TP+FP+FN+TN)\n",
    "    print(f'AROC: {AROC}')  \n",
    "    print(f'APRC: {APRC}')\n",
    "    print(f'Percision: {P[1]}')\n",
    "    print(f'Recall: {R[1]}')\n",
    "    if acc==True:\n",
    "        print(f'ACC: {ACC[1]}')\n",
    "    print(f'F1: {F1[1]}')\n",
    "    print(f'F2: {F2[1]}')\n",
    "    print(f'F5: {F5[1]}')\n",
    "    print(f'F10: {F10[1]}')\n",
    "    return P[1], R[1], F1[1], F2[1], F5[1], F10[1] "
   ]
  },
  {
   "cell_type": "code",
   "execution_count": 10,
   "metadata": {
    "hidden": true
   },
   "outputs": [],
   "source": [
    "def plot_confusion_matrix(y_true, y_pred):\n",
    "    # calculate the confusion matrix\n",
    "    cm = confusion_matrix(y_true, y_pred)\n",
    "    labels = ['legit', 'Fraud']\n",
    "    fig = plt.figure()\n",
    "    #ax = fig.add_subplot(111)\n",
    "    df_cm = pd.DataFrame(cm, range(len(cm)), range(len(cm)))\n",
    "    # plt.figure(figsize=(10,7))\n",
    "    sn.set(font_scale=1.4) # for label size\n",
    "    sn.heatmap(df_cm, annot=True, annot_kws={\"size\": 16}, fmt='.0f') # font size\n",
    "    plt.title('Confusion Matrix')\n",
    "    plt.xlabel('Predicted')\n",
    "    plt.ylabel('True')\n",
    "    plt.show()\n",
    "    return fig"
   ]
  },
  {
   "cell_type": "code",
   "execution_count": 11,
   "metadata": {
    "hidden": true
   },
   "outputs": [],
   "source": [
    "def plot_roc_prc(y_true, y_prob, fig_size=(11,5), label=None):\n",
    "    fig, ax = plt.subplots(1,2, figsize=fig_size)    \n",
    "\n",
    "# precision-recall curve\n",
    "    # calculate the no skill line as the proportion of the positive class\n",
    "    no_skill = len(y_true[y_true==1]) / len(y_true)\n",
    "    # calculate precision-recall curve\n",
    "    precision, recall, _ = precision_recall_curve(y_true, y_prob)\n",
    "    # plot the no skill precision-recall curve\n",
    "    ax[0].plot([0, 1], [no_skill, no_skill], linestyle='--', label='No Skill')\n",
    "    # plot the precision-recall curve\n",
    "    if label!=None:\n",
    "        ax[0].plot(recall, precision, marker='.', label=label)\n",
    "    else:\n",
    "        ax[0].plot(recall, precision, marker='.')\n",
    "    # axis labels\n",
    "    ax[0].set(xlabel='Precision', ylabel='Recall')\n",
    "    # show the legend\n",
    "    ax[0].legend()\n",
    "\n",
    "# roc curve\n",
    "    # plot no skill roc curve\n",
    "    ax[1].plot([0, 1], [0, 1], linestyle='--', label='No Skill')\n",
    "    # calculate roc curve \n",
    "    fpr, tpr, _ = roc_curve(y_true, y_prob)\n",
    "    # plot roc curve\n",
    "    if label!=None:\n",
    "        ax[1].plot(fpr, tpr, marker='.', label=label)\n",
    "    else:\n",
    "        ax[1].plot(fpr, tpr, marker='.')\n",
    "    # axis labels\n",
    "    ax[1].set(xlabel='False Positive Rate', ylabel='True Positive Rate')\n",
    "    # show the legend\n",
    "    ax[1].legend()\n",
    "    return fig"
   ]
  },
  {
   "cell_type": "markdown",
   "metadata": {
    "heading_collapsed": true
   },
   "source": [
    "# HistGradientBoostingClassifier"
   ]
  },
  {
   "cell_type": "code",
   "execution_count": null,
   "metadata": {
    "hidden": true
   },
   "outputs": [],
   "source": []
  },
  {
   "cell_type": "code",
   "execution_count": 112,
   "metadata": {
    "hidden": true
   },
   "outputs": [
    {
     "data": {
      "text/plain": [
       "'Previously, leaf-wise growth was an exclusive feature of lightGBM, but xgboost has since implemented this growth strategy (this change has not been reflected in the lightGBM docs, but has been acknowledged in a blog post). This strategy is only available for the histogram-based method (which I will explain below), so in order to use it, users will have to set the tree_method parameter to hist and the grow_policy parameter to lossguide.'"
      ]
     },
     "execution_count": 112,
     "metadata": {},
     "output_type": "execute_result"
    }
   ],
   "source": [
    "'Previously, leaf-wise growth was an exclusive feature of lightGBM, but xgboost has since implemented this growth strategy (this change has not been reflected in the lightGBM docs, but has been acknowledged in a blog post). This strategy is only available for the histogram-based method (which I will explain below), so in order to use it, users will have to set the tree_method parameter to hist and the grow_policy parameter to lossguide.'"
   ]
  },
  {
   "cell_type": "code",
   "execution_count": 113,
   "metadata": {
    "hidden": true,
    "scrolled": true
   },
   "outputs": [
    {
     "data": {
      "text/plain": [
       "'Xgboost offers the option tree_method=approx, which computes a new set of bins at each split using the gradient statistics. LightGBM and xgboost with the tree_method set to hist will both compute the bins at the beginning of training and reuse the same bins throughout the entire training process.'"
      ]
     },
     "execution_count": 113,
     "metadata": {},
     "output_type": "execute_result"
    }
   ],
   "source": [
    "'Xgboost offers the option tree_method=approx, which computes a new set of bins at each split using the gradient statistics. LightGBM and xgboost with the tree_method set to hist will both compute the bins at the beginning of training and reuse the same bins throughout the entire training process.'"
   ]
  },
  {
   "cell_type": "code",
   "execution_count": 114,
   "metadata": {
    "hidden": true
   },
   "outputs": [
    {
     "data": {
      "text/plain": [
       "'Though lightGBM does not enable ignoring zero values by default, it has an option called zero_as_missing which, if set to True, will regard all zero values as missing. According to this thread on GitHub, lightGBM will treat missing values in the same way as xgboost as long as the parameter use_missing is set to True (which is the default behavior).'"
      ]
     },
     "execution_count": 114,
     "metadata": {},
     "output_type": "execute_result"
    }
   ],
   "source": [
    "'BOTH: Though lightGBM does not enable ignoring zero values by default, it has an option called zero_as_missing which, if set to True, will regard all zero values as missing. According to this thread on GitHub, lightGBM will treat missing values in the same way as xgboost as long as the parameter use_missing is set to True (which is the default behavior).'"
   ]
  },
  {
   "cell_type": "code",
   "execution_count": 115,
   "metadata": {
    "hidden": true
   },
   "outputs": [
    {
     "data": {
      "text/plain": [
       "'This is a method introduced in lightGBM that also takes advantage of the sparsity of large datasets. The essential observation behind this method is that the sparsity of features means that some features are never non-zero together. For instance, the words \"Python\" and \"protein\" might never appear in the same document in the data. This means that these features can be \"bundled\" into a single feature without losing any information. Suppose the tf-idf score for \"Python\" ranges from 0 to 10 and the tf-idf score for  \"protein\" ranges from 0 to 20. In this case, the feature'"
      ]
     },
     "execution_count": 115,
     "metadata": {},
     "output_type": "execute_result"
    }
   ],
   "source": [
    "'LGBM: This is a method introduced in lightGBM that also takes advantage of the sparsity of large datasets. The essential observation behind this method is that the sparsity of features means that some features are never non-zero together. For instance, the words \"Python\" and \"protein\" might never appear in the same document in the data. This means that these features can be \"bundled\" into a single feature without losing any information. Suppose the tf-idf score for \"Python\" ranges from 0 to 10 and the tf-idf score for  \"protein\" ranges from 0 to 20. In this case, the feature'"
   ]
  },
  {
   "cell_type": "code",
   "execution_count": 116,
   "metadata": {
    "hidden": true
   },
   "outputs": [
    {
     "data": {
      "text/plain": [
       "'Unfortunately, the problem of finding the most efficient bundle is NP-hard. Therefore, the authors of the paper opted for an approximate algorithm that tolerated a certain degree of overlap \\\\gamma  between the non-zero elements within a feature bundle. The details of this algorithm are beyond the scope of this post, so please refer to the original paper for details.'"
      ]
     },
     "execution_count": 116,
     "metadata": {},
     "output_type": "execute_result"
    }
   ],
   "source": [
    "'LGBM: Unfortunately, the problem of finding the most efficient bundle is NP-hard. Therefore, the authors of the paper opted for an approximate algorithm that tolerated a certain degree of overlap \\gamma  between the non-zero elements within a feature bundle. The details of this algorithm are beyond the scope of this post, so please refer to the original paper for details.'"
   ]
  },
  {
   "cell_type": "markdown",
   "metadata": {
    "hidden": true
   },
   "source": [
    "HistGradientBoostingClassifier is based on Microsofts LightGBM."
   ]
  },
  {
   "cell_type": "markdown",
   "metadata": {
    "heading_collapsed": true
   },
   "source": [
    "# Class weights"
   ]
  },
  {
   "cell_type": "code",
   "execution_count": 12,
   "metadata": {
    "hidden": true
   },
   "outputs": [],
   "source": [
    "df = pd.read_csv(path/'train_ss.csv', index_col=[0])"
   ]
  },
  {
   "cell_type": "code",
   "execution_count": 13,
   "metadata": {
    "hidden": true
   },
   "outputs": [],
   "source": [
    "class_count_df = df.groupby('isFraud').count()['TransactionID']\n",
    "\n",
    "n_0, n_1 = class_count_df[0], class_count_df[1]\n",
    "\n",
    "w_0 = (n_0 + n_1) / (2.0 * n_0)\n",
    "w_1 = (n_0 + n_1) / (2.0 * n_1)\n",
    "weights = [w_0, w_1]"
   ]
  },
  {
   "cell_type": "code",
   "execution_count": 14,
   "metadata": {
    "hidden": true
   },
   "outputs": [],
   "source": [
    "sample_weight = [w_0 if y==0 else w_1 for y in y]"
   ]
  },
  {
   "cell_type": "code",
   "execution_count": 15,
   "metadata": {
    "hidden": true
   },
   "outputs": [],
   "source": [
    "assert len(sample_weight)==len(xs)"
   ]
  },
  {
   "cell_type": "markdown",
   "metadata": {},
   "source": [
    "# Initial Classifiers "
   ]
  },
  {
   "cell_type": "markdown",
   "metadata": {},
   "source": [
    "The max_iter parameter is increased to 1000 from its default value of 100."
   ]
  },
  {
   "cell_type": "code",
   "execution_count": 84,
   "metadata": {},
   "outputs": [
    {
     "name": "stdout",
     "output_type": "stream",
     "text": [
      "Binning 0.043 GB of training data: 0.277 s\n",
      "Binning 0.005 GB of validation data: 0.019 s\n",
      "Fitting gradient boosted rounds:\n",
      "[1/1000] 1 tree, 31 leaves, max depth = 8, train score: 0.81449, val score: 0.77062, in 0.044s\n",
      "[2/1000] 1 tree, 31 leaves, max depth = 10, train score: 0.85231, val score: 0.78618, in 0.045s\n",
      "[3/1000] 1 tree, 31 leaves, max depth = 14, train score: 0.85744, val score: 0.79733, in 0.055s\n",
      "[4/1000] 1 tree, 31 leaves, max depth = 12, train score: 0.86731, val score: 0.81684, in 0.048s\n",
      "[5/1000] 1 tree, 31 leaves, max depth = 9, train score: 0.87011, val score: 0.81532, in 0.046s\n",
      "[6/1000] 1 tree, 31 leaves, max depth = 9, train score: 0.88030, val score: 0.83093, in 0.046s\n",
      "[7/1000] 1 tree, 31 leaves, max depth = 8, train score: 0.88448, val score: 0.82872, in 0.048s\n",
      "[8/1000] 1 tree, 31 leaves, max depth = 9, train score: 0.88594, val score: 0.83017, in 0.047s\n",
      "[9/1000] 1 tree, 31 leaves, max depth = 10, train score: 0.89521, val score: 0.83428, in 0.048s\n",
      "[10/1000] 1 tree, 31 leaves, max depth = 11, train score: 0.89645, val score: 0.83589, in 0.045s\n",
      "[11/1000] 1 tree, 31 leaves, max depth = 10, train score: 0.90264, val score: 0.84006, in 0.048s\n",
      "[12/1000] 1 tree, 31 leaves, max depth = 11, train score: 0.90437, val score: 0.84022, in 0.047s\n",
      "[13/1000] 1 tree, 31 leaves, max depth = 9, train score: 0.90708, val score: 0.84350, in 0.048s\n",
      "[14/1000] 1 tree, 31 leaves, max depth = 12, train score: 0.90735, val score: 0.84372, in 0.047s\n",
      "[15/1000] 1 tree, 31 leaves, max depth = 12, train score: 0.91023, val score: 0.84312, in 0.047s\n",
      "[16/1000] 1 tree, 31 leaves, max depth = 10, train score: 0.91274, val score: 0.84277, in 0.051s\n",
      "[17/1000] 1 tree, 31 leaves, max depth = 10, train score: 0.91528, val score: 0.84722, in 0.051s\n",
      "[18/1000] 1 tree, 31 leaves, max depth = 9, train score: 0.92055, val score: 0.84954, in 0.048s\n",
      "[19/1000] 1 tree, 31 leaves, max depth = 10, train score: 0.92500, val score: 0.85048, in 0.048s\n",
      "[20/1000] 1 tree, 31 leaves, max depth = 12, train score: 0.92624, val score: 0.85448, in 0.049s\n",
      "[21/1000] 1 tree, 31 leaves, max depth = 11, train score: 0.92965, val score: 0.85488, in 0.089s\n",
      "[22/1000] 1 tree, 31 leaves, max depth = 12, train score: 0.93161, val score: 0.85899, in 0.048s\n",
      "[23/1000] 1 tree, 31 leaves, max depth = 14, train score: 0.93230, val score: 0.85944, in 0.050s\n",
      "[24/1000] 1 tree, 31 leaves, max depth = 11, train score: 0.93344, val score: 0.86015, in 0.050s\n",
      "[25/1000] 1 tree, 31 leaves, max depth = 11, train score: 0.93549, val score: 0.86094, in 0.052s\n",
      "[26/1000] 1 tree, 31 leaves, max depth = 12, train score: 0.94081, val score: 0.86450, in 0.050s\n",
      "[27/1000] 1 tree, 31 leaves, max depth = 10, train score: 0.94502, val score: 0.86636, in 0.052s\n",
      "[28/1000] 1 tree, 31 leaves, max depth = 11, train score: 0.94554, val score: 0.86706, in 0.054s\n",
      "[29/1000] 1 tree, 31 leaves, max depth = 13, train score: 0.94671, val score: 0.86804, in 0.052s\n",
      "[30/1000] 1 tree, 31 leaves, max depth = 14, train score: 0.94930, val score: 0.86834, in 0.055s\n",
      "[31/1000] 1 tree, 31 leaves, max depth = 11, train score: 0.95073, val score: 0.87565, in 0.054s\n",
      "[32/1000] 1 tree, 31 leaves, max depth = 10, train score: 0.95131, val score: 0.87618, in 0.055s\n",
      "[33/1000] 1 tree, 31 leaves, max depth = 13, train score: 0.95419, val score: 0.87756, in 0.054s\n",
      "[34/1000] 1 tree, 31 leaves, max depth = 11, train score: 0.95502, val score: 0.87776, in 0.054s\n",
      "[35/1000] 1 tree, 31 leaves, max depth = 12, train score: 0.95790, val score: 0.87993, in 0.054s\n",
      "[36/1000] 1 tree, 31 leaves, max depth = 11, train score: 0.95856, val score: 0.87968, in 0.050s\n",
      "[37/1000] 1 tree, 31 leaves, max depth = 11, train score: 0.96022, val score: 0.87893, in 0.052s\n",
      "[38/1000] 1 tree, 31 leaves, max depth = 13, train score: 0.96046, val score: 0.87884, in 0.052s\n",
      "[39/1000] 1 tree, 31 leaves, max depth = 12, train score: 0.96079, val score: 0.87992, in 0.056s\n",
      "[40/1000] 1 tree, 31 leaves, max depth = 15, train score: 0.96163, val score: 0.87924, in 0.053s\n",
      "[41/1000] 1 tree, 31 leaves, max depth = 17, train score: 0.96375, val score: 0.87988, in 0.096s\n",
      "[42/1000] 1 tree, 31 leaves, max depth = 13, train score: 0.96412, val score: 0.87962, in 0.050s\n",
      "[43/1000] 1 tree, 31 leaves, max depth = 10, train score: 0.96483, val score: 0.88101, in 0.056s\n",
      "[44/1000] 1 tree, 31 leaves, max depth = 14, train score: 0.96603, val score: 0.88173, in 0.055s\n",
      "[45/1000] 1 tree, 31 leaves, max depth = 12, train score: 0.96633, val score: 0.88505, in 0.067s\n",
      "[46/1000] 1 tree, 31 leaves, max depth = 15, train score: 0.96875, val score: 0.88544, in 0.058s\n",
      "[47/1000] 1 tree, 31 leaves, max depth = 11, train score: 0.96958, val score: 0.88633, in 0.057s\n",
      "[48/1000] 1 tree, 31 leaves, max depth = 14, train score: 0.97097, val score: 0.88635, in 0.058s\n",
      "[49/1000] 1 tree, 31 leaves, max depth = 11, train score: 0.97123, val score: 0.88640, in 0.054s\n",
      "[50/1000] 1 tree, 31 leaves, max depth = 17, train score: 0.97141, val score: 0.88632, in 0.050s\n",
      "[51/1000] 1 tree, 31 leaves, max depth = 14, train score: 0.97193, val score: 0.88568, in 0.052s\n",
      "[52/1000] 1 tree, 31 leaves, max depth = 11, train score: 0.97222, val score: 0.88578, in 0.056s\n",
      "[53/1000] 1 tree, 31 leaves, max depth = 13, train score: 0.97259, val score: 0.88566, in 0.056s\n",
      "[54/1000] 1 tree, 31 leaves, max depth = 13, train score: 0.97335, val score: 0.88561, in 0.057s\n",
      "[55/1000] 1 tree, 31 leaves, max depth = 13, train score: 0.97470, val score: 0.88748, in 0.054s\n",
      "[56/1000] 1 tree, 31 leaves, max depth = 13, train score: 0.97493, val score: 0.88805, in 0.058s\n",
      "[57/1000] 1 tree, 31 leaves, max depth = 12, train score: 0.97653, val score: 0.88796, in 0.057s\n",
      "[58/1000] 1 tree, 31 leaves, max depth = 12, train score: 0.97707, val score: 0.88742, in 0.057s\n",
      "[59/1000] 1 tree, 31 leaves, max depth = 9, train score: 0.97727, val score: 0.88665, in 0.056s\n",
      "[60/1000] 1 tree, 31 leaves, max depth = 12, train score: 0.97763, val score: 0.88721, in 0.057s\n",
      "[61/1000] 1 tree, 31 leaves, max depth = 10, train score: 0.97843, val score: 0.88799, in 0.062s\n",
      "[62/1000] 1 tree, 31 leaves, max depth = 12, train score: 0.97870, val score: 0.88798, in 0.100s\n",
      "[63/1000] 1 tree, 31 leaves, max depth = 12, train score: 0.97922, val score: 0.88758, in 0.056s\n",
      "[64/1000] 1 tree, 31 leaves, max depth = 15, train score: 0.97944, val score: 0.88793, in 0.062s\n",
      "[65/1000] 1 tree, 31 leaves, max depth = 13, train score: 0.97962, val score: 0.88803, in 0.055s\n",
      "[66/1000] 1 tree, 31 leaves, max depth = 14, train score: 0.98000, val score: 0.88790, in 0.061s\n",
      "Fit 66 trees in 4.090 s, (2046 total leaves)\n",
      "Time spent computing histograms: 1.441s\n",
      "Time spent finding best splits:  0.361s\n",
      "Time spent applying splits:      0.583s\n",
      "Time spent predicting:           0.008s\n",
      "Train_AROC: 0.968493486792529\n",
      "Valid_AROC: 0.8660519005600512\n",
      "CPU times: user 23.6 s, sys: 4.14 s, total: 27.7 s\n",
      "Wall time: 4.31 s\n"
     ]
    }
   ],
   "source": [
    "%%time\n",
    "m = HistGradientBoostingClassifier(loss='binary_crossentropy', verbose=1,\n",
    "                                    max_iter=1000, scoring='roc_auc')\n",
    "_, _, prob_valid, pred_valid = fit(m);"
   ]
  },
  {
   "cell_type": "code",
   "execution_count": 87,
   "metadata": {},
   "outputs": [
    {
     "data": {
      "image/png": "[encoded data removed]",
      "text/plain": [
       "<Figure size 432x288 with 2 Axes>"
      ]
     },
     "metadata": {},
     "output_type": "display_data"
    }
   ],
   "source": [
    "fig = plot_confusion_matrix(valid_y, pred_valid)\n",
    "fig.savefig(path.BASE_PATH/'../figures/Initial_HistGBC_Confusion_Matrix.jpg', dpi=1000, bbox_inches='tight')"
   ]
  },
  {
   "cell_type": "code",
   "execution_count": 88,
   "metadata": {},
   "outputs": [
    {
     "name": "stdout",
     "output_type": "stream",
     "text": [
      "AROC: 0.8660519005600512\n",
      "APRC: 0.4083374076646119\n",
      "Percision: 0.7083333333333334\n",
      "Recall: 0.2841225626740947\n",
      "ACC: 0.9716936476379816\n",
      "F1: 0.4055666003976143\n",
      "F2: 0.3227848101265823\n",
      "F5: 0.2908213619914464\n",
      "F10: 0.28581733436910434\n"
     ]
    }
   ],
   "source": [
    "metrics(valid_y, pred_valid, prob_valid, acc=True);"
   ]
  },
  {
   "cell_type": "code",
   "execution_count": 89,
   "metadata": {},
   "outputs": [
    {
     "data": {
      "image/png": "[encoded data removed]",
      "text/plain": [
       "<Figure size 792x360 with 2 Axes>"
      ]
     },
     "metadata": {},
     "output_type": "display_data"
    }
   ],
   "source": [
    "fig = plot_roc_prc(valid_y, prob_valid, label='HistGBC')\n",
    "fig.savefig(path.BASE_PATH/'../figures/Initial_HistGBC_aucs.jpg', dpi=1000, bbox_inches='tight')"
   ]
  },
  {
   "cell_type": "code",
   "execution_count": 90,
   "metadata": {},
   "outputs": [
    {
     "name": "stdout",
     "output_type": "stream",
     "text": [
      "Binning 0.043 GB of training data: 0.276 s\n",
      "Binning 0.005 GB of validation data: 0.020 s\n",
      "Fitting gradient boosted rounds:\n",
      "[1/1000] 1 tree, 31 leaves, max depth = 9, train score: 0.87630, val score: 0.81379, in 0.049s\n",
      "[2/1000] 1 tree, 31 leaves, max depth = 9, train score: 0.89470, val score: 0.83953, in 0.047s\n",
      "[3/1000] 1 tree, 31 leaves, max depth = 10, train score: 0.89517, val score: 0.84486, in 0.051s\n",
      "[4/1000] 1 tree, 31 leaves, max depth = 8, train score: 0.89837, val score: 0.84677, in 0.054s\n",
      "[5/1000] 1 tree, 31 leaves, max depth = 9, train score: 0.89925, val score: 0.84526, in 0.050s\n",
      "[6/1000] 1 tree, 31 leaves, max depth = 8, train score: 0.90203, val score: 0.85097, in 0.051s\n",
      "[7/1000] 1 tree, 31 leaves, max depth = 9, train score: 0.90342, val score: 0.85385, in 0.053s\n",
      "[8/1000] 1 tree, 31 leaves, max depth = 14, train score: 0.90684, val score: 0.85497, in 0.049s\n",
      "[9/1000] 1 tree, 31 leaves, max depth = 10, train score: 0.90753, val score: 0.85529, in 0.049s\n",
      "[10/1000] 1 tree, 31 leaves, max depth = 9, train score: 0.90938, val score: 0.85439, in 0.050s\n",
      "[11/1000] 1 tree, 31 leaves, max depth = 9, train score: 0.91108, val score: 0.85569, in 0.052s\n",
      "[12/1000] 1 tree, 31 leaves, max depth = 8, train score: 0.91359, val score: 0.85728, in 0.052s\n",
      "[13/1000] 1 tree, 31 leaves, max depth = 11, train score: 0.91512, val score: 0.85814, in 0.051s\n",
      "[14/1000] 1 tree, 31 leaves, max depth = 13, train score: 0.91662, val score: 0.85941, in 0.046s\n",
      "[15/1000] 1 tree, 31 leaves, max depth = 10, train score: 0.91826, val score: 0.85864, in 0.052s\n",
      "[16/1000] 1 tree, 31 leaves, max depth = 9, train score: 0.92061, val score: 0.86157, in 0.056s\n",
      "[17/1000] 1 tree, 31 leaves, max depth = 10, train score: 0.92221, val score: 0.86021, in 0.050s\n",
      "[18/1000] 1 tree, 31 leaves, max depth = 9, train score: 0.92472, val score: 0.86326, in 0.052s\n",
      "[19/1000] 1 tree, 31 leaves, max depth = 11, train score: 0.92626, val score: 0.86435, in 0.053s\n",
      "[20/1000] 1 tree, 31 leaves, max depth = 13, train score: 0.92865, val score: 0.86560, in 0.084s\n",
      "[21/1000] 1 tree, 31 leaves, max depth = 15, train score: 0.92954, val score: 0.86713, in 0.052s\n",
      "[22/1000] 1 tree, 31 leaves, max depth = 9, train score: 0.93073, val score: 0.86851, in 0.051s\n",
      "[23/1000] 1 tree, 31 leaves, max depth = 14, train score: 0.93261, val score: 0.86924, in 0.052s\n",
      "[24/1000] 1 tree, 31 leaves, max depth = 8, train score: 0.93563, val score: 0.86911, in 0.053s\n",
      "[25/1000] 1 tree, 31 leaves, max depth = 11, train score: 0.93777, val score: 0.86949, in 0.055s\n",
      "[26/1000] 1 tree, 31 leaves, max depth = 9, train score: 0.93854, val score: 0.87045, in 0.054s\n",
      "[27/1000] 1 tree, 31 leaves, max depth = 14, train score: 0.94037, val score: 0.86997, in 0.053s\n",
      "[28/1000] 1 tree, 31 leaves, max depth = 12, train score: 0.94192, val score: 0.86928, in 0.052s\n",
      "[29/1000] 1 tree, 31 leaves, max depth = 9, train score: 0.94400, val score: 0.87265, in 0.055s\n",
      "[30/1000] 1 tree, 31 leaves, max depth = 10, train score: 0.94504, val score: 0.87376, in 0.054s\n",
      "[31/1000] 1 tree, 31 leaves, max depth = 13, train score: 0.94609, val score: 0.87468, in 0.057s\n",
      "[32/1000] 1 tree, 31 leaves, max depth = 10, train score: 0.94676, val score: 0.87475, in 0.053s\n",
      "[33/1000] 1 tree, 31 leaves, max depth = 10, train score: 0.94800, val score: 0.87552, in 0.057s\n",
      "[34/1000] 1 tree, 31 leaves, max depth = 11, train score: 0.94908, val score: 0.87715, in 0.055s\n",
      "[35/1000] 1 tree, 31 leaves, max depth = 11, train score: 0.95062, val score: 0.87741, in 0.056s\n",
      "[36/1000] 1 tree, 31 leaves, max depth = 9, train score: 0.95192, val score: 0.87756, in 0.057s\n",
      "[37/1000] 1 tree, 31 leaves, max depth = 13, train score: 0.95309, val score: 0.87840, in 0.055s\n",
      "[38/1000] 1 tree, 31 leaves, max depth = 10, train score: 0.95443, val score: 0.87874, in 0.056s\n",
      "[39/1000] 1 tree, 31 leaves, max depth = 13, train score: 0.95535, val score: 0.87923, in 0.095s\n",
      "[40/1000] 1 tree, 31 leaves, max depth = 10, train score: 0.95592, val score: 0.87984, in 0.056s\n",
      "[41/1000] 1 tree, 31 leaves, max depth = 15, train score: 0.95689, val score: 0.88096, in 0.056s\n",
      "[42/1000] 1 tree, 31 leaves, max depth = 11, train score: 0.95812, val score: 0.88072, in 0.056s\n",
      "[43/1000] 1 tree, 31 leaves, max depth = 14, train score: 0.95916, val score: 0.88083, in 0.058s\n",
      "[44/1000] 1 tree, 31 leaves, max depth = 13, train score: 0.95987, val score: 0.88030, in 0.056s\n",
      "[45/1000] 1 tree, 31 leaves, max depth = 14, train score: 0.96084, val score: 0.88119, in 0.061s\n",
      "[46/1000] 1 tree, 31 leaves, max depth = 11, train score: 0.96235, val score: 0.88211, in 0.056s\n",
      "[47/1000] 1 tree, 31 leaves, max depth = 11, train score: 0.96277, val score: 0.88247, in 0.056s\n",
      "[48/1000] 1 tree, 31 leaves, max depth = 16, train score: 0.96340, val score: 0.88317, in 0.058s\n",
      "[49/1000] 1 tree, 31 leaves, max depth = 8, train score: 0.96409, val score: 0.88375, in 0.058s\n",
      "[50/1000] 1 tree, 31 leaves, max depth = 11, train score: 0.96503, val score: 0.88339, in 0.058s\n",
      "[51/1000] 1 tree, 31 leaves, max depth = 7, train score: 0.96593, val score: 0.88343, in 0.059s\n",
      "[52/1000] 1 tree, 31 leaves, max depth = 10, train score: 0.96662, val score: 0.88377, in 0.059s\n",
      "[53/1000] 1 tree, 31 leaves, max depth = 14, train score: 0.96770, val score: 0.88466, in 0.060s\n",
      "[54/1000] 1 tree, 31 leaves, max depth = 15, train score: 0.96840, val score: 0.88537, in 0.059s\n",
      "[55/1000] 1 tree, 31 leaves, max depth = 17, train score: 0.96931, val score: 0.88680, in 0.061s\n",
      "[56/1000] 1 tree, 31 leaves, max depth = 15, train score: 0.97013, val score: 0.88713, in 0.062s\n",
      "[57/1000] 1 tree, 31 leaves, max depth = 11, train score: 0.97108, val score: 0.88749, in 0.064s\n",
      "[58/1000] 1 tree, 31 leaves, max depth = 8, train score: 0.97176, val score: 0.88715, in 0.060s\n",
      "[59/1000] 1 tree, 31 leaves, max depth = 9, train score: 0.97212, val score: 0.88700, in 0.099s\n",
      "[60/1000] 1 tree, 31 leaves, max depth = 10, train score: 0.97282, val score: 0.88730, in 0.063s\n",
      "[61/1000] 1 tree, 31 leaves, max depth = 16, train score: 0.97337, val score: 0.88722, in 0.059s\n",
      "[62/1000] 1 tree, 31 leaves, max depth = 13, train score: 0.97388, val score: 0.88779, in 0.061s\n",
      "[63/1000] 1 tree, 31 leaves, max depth = 9, train score: 0.97455, val score: 0.88848, in 0.060s\n",
      "[64/1000] 1 tree, 31 leaves, max depth = 10, train score: 0.97510, val score: 0.88759, in 0.060s\n",
      "[65/1000] 1 tree, 31 leaves, max depth = 18, train score: 0.97551, val score: 0.88795, in 0.062s\n",
      "[66/1000] 1 tree, 31 leaves, max depth = 7, train score: 0.97593, val score: 0.88833, in 0.061s\n",
      "[67/1000] 1 tree, 31 leaves, max depth = 12, train score: 0.97675, val score: 0.88884, in 0.062s\n",
      "[68/1000] 1 tree, 31 leaves, max depth = 12, train score: 0.97727, val score: 0.88896, in 0.061s\n",
      "[69/1000] 1 tree, 31 leaves, max depth = 13, train score: 0.97761, val score: 0.88919, in 0.063s\n",
      "[70/1000] 1 tree, 31 leaves, max depth = 12, train score: 0.97811, val score: 0.88934, in 0.063s\n",
      "[71/1000] 1 tree, 31 leaves, max depth = 11, train score: 0.97844, val score: 0.88964, in 0.062s\n",
      "[72/1000] 1 tree, 31 leaves, max depth = 9, train score: 0.97875, val score: 0.89006, in 0.063s\n",
      "[73/1000] 1 tree, 31 leaves, max depth = 17, train score: 0.97906, val score: 0.88993, in 0.065s\n",
      "[74/1000] 1 tree, 31 leaves, max depth = 12, train score: 0.97933, val score: 0.88994, in 0.063s\n",
      "[75/1000] 1 tree, 31 leaves, max depth = 19, train score: 0.97985, val score: 0.88973, in 0.064s\n",
      "[76/1000] 1 tree, 31 leaves, max depth = 10, train score: 0.98010, val score: 0.88953, in 0.063s\n",
      "[77/1000] 1 tree, 31 leaves, max depth = 10, train score: 0.98048, val score: 0.89017, in 0.065s\n",
      "[78/1000] 1 tree, 31 leaves, max depth = 14, train score: 0.98125, val score: 0.88994, in 0.064s\n",
      "[79/1000] 1 tree, 31 leaves, max depth = 13, train score: 0.98170, val score: 0.89005, in 0.066s\n",
      "[80/1000] 1 tree, 31 leaves, max depth = 10, train score: 0.98203, val score: 0.88931, in 0.096s\n",
      "[81/1000] 1 tree, 31 leaves, max depth = 11, train score: 0.98232, val score: 0.88950, in 0.069s\n",
      "[82/1000] 1 tree, 31 leaves, max depth = 14, train score: 0.98278, val score: 0.88945, in 0.067s\n",
      "[83/1000] 1 tree, 31 leaves, max depth = 11, train score: 0.98316, val score: 0.88970, in 0.063s\n",
      "[84/1000] 1 tree, 31 leaves, max depth = 12, train score: 0.98336, val score: 0.88996, in 0.064s\n"
     ]
    },
    {
     "name": "stdout",
     "output_type": "stream",
     "text": [
      "[85/1000] 1 tree, 31 leaves, max depth = 12, train score: 0.98392, val score: 0.88946, in 0.068s\n",
      "[86/1000] 1 tree, 31 leaves, max depth = 9, train score: 0.98408, val score: 0.88981, in 0.076s\n",
      "[87/1000] 1 tree, 31 leaves, max depth = 10, train score: 0.98437, val score: 0.89036, in 0.065s\n",
      "[88/1000] 1 tree, 31 leaves, max depth = 9, train score: 0.98473, val score: 0.89065, in 0.064s\n",
      "[89/1000] 1 tree, 31 leaves, max depth = 10, train score: 0.98497, val score: 0.89104, in 0.064s\n",
      "[90/1000] 1 tree, 31 leaves, max depth = 11, train score: 0.98538, val score: 0.89135, in 0.063s\n",
      "[91/1000] 1 tree, 31 leaves, max depth = 8, train score: 0.98560, val score: 0.89132, in 0.064s\n",
      "[92/1000] 1 tree, 31 leaves, max depth = 9, train score: 0.98589, val score: 0.89139, in 0.067s\n",
      "[93/1000] 1 tree, 31 leaves, max depth = 7, train score: 0.98621, val score: 0.89031, in 0.065s\n",
      "[94/1000] 1 tree, 31 leaves, max depth = 12, train score: 0.98645, val score: 0.89062, in 0.062s\n",
      "[95/1000] 1 tree, 31 leaves, max depth = 11, train score: 0.98667, val score: 0.89051, in 0.067s\n",
      "[96/1000] 1 tree, 31 leaves, max depth = 11, train score: 0.98693, val score: 0.89062, in 0.065s\n",
      "[97/1000] 1 tree, 31 leaves, max depth = 9, train score: 0.98714, val score: 0.89083, in 0.067s\n",
      "[98/1000] 1 tree, 31 leaves, max depth = 7, train score: 0.98736, val score: 0.89097, in 0.066s\n",
      "[99/1000] 1 tree, 31 leaves, max depth = 10, train score: 0.98778, val score: 0.89069, in 0.067s\n",
      "[100/1000] 1 tree, 31 leaves, max depth = 14, train score: 0.98796, val score: 0.89052, in 0.099s\n",
      "[101/1000] 1 tree, 31 leaves, max depth = 15, train score: 0.98820, val score: 0.89070, in 0.065s\n",
      "[102/1000] 1 tree, 31 leaves, max depth = 14, train score: 0.98854, val score: 0.89092, in 0.097s\n",
      "Fit 102 trees in 6.696 s, (3162 total leaves)\n",
      "Time spent computing histograms: 2.346s\n",
      "Time spent finding best splits:  0.593s\n",
      "Time spent applying splits:      0.960s\n",
      "Time spent predicting:           0.013s\n",
      "Train_AROC: 0.9780274309785512\n",
      "Valid_AROC: 0.8604949285276733\n",
      "CPU times: user 40.2 s, sys: 6.64 s, total: 46.8 s\n",
      "Wall time: 6.97 s\n"
     ]
    }
   ],
   "source": [
    "%%time\n",
    "m = HistGradientBoostingClassifier(loss='binary_crossentropy', verbose=1,\n",
    "                                    max_iter=1000, scoring='roc_auc')\n",
    "_, _, prob_valid, pred_valid = fit(m, sample_weight=sample_weight);"
   ]
  },
  {
   "cell_type": "code",
   "execution_count": 91,
   "metadata": {},
   "outputs": [
    {
     "data": {
      "image/png": "[encoded data removed]",
      "text/plain": [
       "<Figure size 432x288 with 2 Axes>"
      ]
     },
     "metadata": {},
     "output_type": "display_data"
    }
   ],
   "source": [
    "fig = plot_confusion_matrix(valid_y, pred_valid)\n",
    "fig.savefig(path.BASE_PATH/'../figures/Initial_weighted_HistGBC_Confusion_Matrix.jpg', dpi=1000, bbox_inches='tight')"
   ]
  },
  {
   "cell_type": "code",
   "execution_count": 76,
   "metadata": {},
   "outputs": [
    {
     "name": "stdout",
     "output_type": "stream",
     "text": [
      "AROC: 0.8730040870967635\n",
      "APRC: 0.40186301721976925\n",
      "Percision: 0.19928507596067918\n",
      "Recall: 0.6211699164345403\n",
      "ACC: 0.9023004828173814\n",
      "F1: 0.3017591339648173\n",
      "F2: 0.43639921722113506\n",
      "F5: 0.5744006340400236\n",
      "F10: 0.6084172992247225\n"
     ]
    }
   ],
   "source": [
    "metrics(valid_y, pred_valid, prob_valid, acc=True);"
   ]
  },
  {
   "cell_type": "code",
   "execution_count": 92,
   "metadata": {},
   "outputs": [
    {
     "data": {
      "image/png": "[encoded data removed]",
      "text/plain": [
       "<Figure size 792x360 with 2 Axes>"
      ]
     },
     "metadata": {},
     "output_type": "display_data"
    }
   ],
   "source": [
    "fig = plot_roc_prc(valid_y, prob_valid, label='HistGBC')\n",
    "fig.savefig(path.BASE_PATH/'../figures/Initial_weighted_HistGBC_aucs.jpg', dpi=1000, bbox_inches='tight')"
   ]
  },
  {
   "cell_type": "code",
   "execution_count": 93,
   "metadata": {},
   "outputs": [
    {
     "name": "stdout",
     "output_type": "stream",
     "text": [
      "Binning 0.043 GB of training data: 0.273 s\n",
      "Binning 0.005 GB of validation data: 0.019 s\n",
      "Fitting gradient boosted rounds:\n",
      "[1/1000] 1 tree, 44 leaves, max depth = 10, train score: 0.84546, val score: 0.80071, in 0.058s\n",
      "[2/1000] 1 tree, 44 leaves, max depth = 10, train score: 0.84871, val score: 0.80490, in 0.054s\n",
      "[3/1000] 1 tree, 44 leaves, max depth = 10, train score: 0.85411, val score: 0.80836, in 0.056s\n",
      "[4/1000] 1 tree, 44 leaves, max depth = 10, train score: 0.85342, val score: 0.81808, in 0.054s\n",
      "[5/1000] 1 tree, 44 leaves, max depth = 10, train score: 0.85369, val score: 0.81905, in 0.056s\n",
      "[6/1000] 1 tree, 44 leaves, max depth = 10, train score: 0.86189, val score: 0.82214, in 0.057s\n",
      "[7/1000] 1 tree, 44 leaves, max depth = 11, train score: 0.86168, val score: 0.82246, in 0.055s\n",
      "[8/1000] 1 tree, 44 leaves, max depth = 10, train score: 0.86328, val score: 0.82233, in 0.057s\n",
      "[9/1000] 1 tree, 44 leaves, max depth = 10, train score: 0.87178, val score: 0.83703, in 0.061s\n",
      "[10/1000] 1 tree, 44 leaves, max depth = 14, train score: 0.87204, val score: 0.83627, in 0.058s\n",
      "[11/1000] 1 tree, 44 leaves, max depth = 14, train score: 0.87243, val score: 0.83604, in 0.063s\n",
      "[12/1000] 1 tree, 44 leaves, max depth = 9, train score: 0.87220, val score: 0.83747, in 0.084s\n",
      "[13/1000] 1 tree, 44 leaves, max depth = 10, train score: 0.87376, val score: 0.84112, in 0.117s\n",
      "[14/1000] 1 tree, 44 leaves, max depth = 10, train score: 0.87355, val score: 0.83893, in 0.062s\n",
      "[15/1000] 1 tree, 44 leaves, max depth = 13, train score: 0.87449, val score: 0.84218, in 0.060s\n",
      "[16/1000] 1 tree, 44 leaves, max depth = 14, train score: 0.87488, val score: 0.84394, in 0.060s\n",
      "[17/1000] 1 tree, 44 leaves, max depth = 10, train score: 0.87578, val score: 0.84395, in 0.062s\n",
      "[18/1000] 1 tree, 44 leaves, max depth = 14, train score: 0.87737, val score: 0.84690, in 0.062s\n",
      "[19/1000] 1 tree, 44 leaves, max depth = 12, train score: 0.87912, val score: 0.84744, in 0.060s\n",
      "[20/1000] 1 tree, 44 leaves, max depth = 11, train score: 0.88029, val score: 0.84793, in 0.060s\n",
      "[21/1000] 1 tree, 44 leaves, max depth = 12, train score: 0.88160, val score: 0.84877, in 0.065s\n",
      "[22/1000] 1 tree, 44 leaves, max depth = 11, train score: 0.88157, val score: 0.85001, in 0.061s\n",
      "[23/1000] 1 tree, 44 leaves, max depth = 9, train score: 0.88231, val score: 0.85019, in 0.061s\n",
      "[24/1000] 1 tree, 44 leaves, max depth = 13, train score: 0.88435, val score: 0.85120, in 0.067s\n",
      "[25/1000] 1 tree, 44 leaves, max depth = 12, train score: 0.88456, val score: 0.85128, in 0.117s\n",
      "[26/1000] 1 tree, 44 leaves, max depth = 10, train score: 0.88547, val score: 0.85228, in 0.059s\n",
      "[27/1000] 1 tree, 44 leaves, max depth = 12, train score: 0.88764, val score: 0.85289, in 0.061s\n",
      "[28/1000] 1 tree, 44 leaves, max depth = 12, train score: 0.88941, val score: 0.85302, in 0.063s\n",
      "[29/1000] 1 tree, 44 leaves, max depth = 11, train score: 0.89142, val score: 0.85397, in 0.063s\n",
      "[30/1000] 1 tree, 44 leaves, max depth = 11, train score: 0.89162, val score: 0.85358, in 0.064s\n",
      "[31/1000] 1 tree, 44 leaves, max depth = 11, train score: 0.89158, val score: 0.85316, in 0.064s\n",
      "[32/1000] 1 tree, 44 leaves, max depth = 11, train score: 0.89200, val score: 0.85279, in 0.064s\n",
      "[33/1000] 1 tree, 44 leaves, max depth = 11, train score: 0.89203, val score: 0.85286, in 0.064s\n",
      "[34/1000] 1 tree, 44 leaves, max depth = 13, train score: 0.89234, val score: 0.85267, in 0.062s\n",
      "[35/1000] 1 tree, 44 leaves, max depth = 15, train score: 0.89394, val score: 0.85400, in 0.066s\n",
      "[36/1000] 1 tree, 44 leaves, max depth = 10, train score: 0.89392, val score: 0.85378, in 0.081s\n",
      "[37/1000] 1 tree, 44 leaves, max depth = 11, train score: 0.89480, val score: 0.85352, in 0.143s\n",
      "[38/1000] 1 tree, 44 leaves, max depth = 11, train score: 0.89600, val score: 0.85415, in 0.065s\n",
      "[39/1000] 1 tree, 44 leaves, max depth = 12, train score: 0.89665, val score: 0.85445, in 0.064s\n",
      "[40/1000] 1 tree, 44 leaves, max depth = 11, train score: 0.89773, val score: 0.85455, in 0.065s\n",
      "[41/1000] 1 tree, 44 leaves, max depth = 10, train score: 0.89848, val score: 0.85469, in 0.065s\n",
      "[42/1000] 1 tree, 44 leaves, max depth = 12, train score: 0.89903, val score: 0.85451, in 0.066s\n",
      "[43/1000] 1 tree, 44 leaves, max depth = 12, train score: 0.89988, val score: 0.85535, in 0.066s\n",
      "[44/1000] 1 tree, 44 leaves, max depth = 11, train score: 0.90067, val score: 0.85556, in 0.065s\n",
      "[45/1000] 1 tree, 44 leaves, max depth = 12, train score: 0.90149, val score: 0.85682, in 0.067s\n",
      "[46/1000] 1 tree, 44 leaves, max depth = 13, train score: 0.90244, val score: 0.85733, in 0.069s\n",
      "[47/1000] 1 tree, 44 leaves, max depth = 10, train score: 0.90335, val score: 0.85777, in 0.065s\n",
      "[48/1000] 1 tree, 44 leaves, max depth = 13, train score: 0.90417, val score: 0.85786, in 0.075s\n",
      "[49/1000] 1 tree, 44 leaves, max depth = 10, train score: 0.90494, val score: 0.85959, in 0.072s\n",
      "[50/1000] 1 tree, 44 leaves, max depth = 11, train score: 0.90539, val score: 0.85950, in 0.142s\n",
      "[51/1000] 1 tree, 44 leaves, max depth = 12, train score: 0.90567, val score: 0.85957, in 0.270s\n",
      "[52/1000] 1 tree, 44 leaves, max depth = 9, train score: 0.90693, val score: 0.86063, in 0.068s\n",
      "[53/1000] 1 tree, 44 leaves, max depth = 10, train score: 0.90702, val score: 0.86067, in 0.074s\n",
      "[54/1000] 1 tree, 44 leaves, max depth = 12, train score: 0.90798, val score: 0.86193, in 0.080s\n",
      "[55/1000] 1 tree, 44 leaves, max depth = 12, train score: 0.90825, val score: 0.86366, in 0.073s\n",
      "[56/1000] 1 tree, 44 leaves, max depth = 12, train score: 0.90916, val score: 0.86508, in 0.080s\n",
      "[57/1000] 1 tree, 44 leaves, max depth = 11, train score: 0.90966, val score: 0.86572, in 0.075s\n",
      "[58/1000] 1 tree, 44 leaves, max depth = 13, train score: 0.91121, val score: 0.86613, in 0.080s\n",
      "[59/1000] 1 tree, 44 leaves, max depth = 13, train score: 0.91229, val score: 0.86645, in 0.074s\n",
      "[60/1000] 1 tree, 44 leaves, max depth = 12, train score: 0.91321, val score: 0.86760, in 0.082s\n",
      "[61/1000] 1 tree, 44 leaves, max depth = 12, train score: 0.91380, val score: 0.86788, in 0.105s\n",
      "[62/1000] 1 tree, 44 leaves, max depth = 13, train score: 0.91440, val score: 0.86861, in 0.079s\n",
      "[63/1000] 1 tree, 44 leaves, max depth = 13, train score: 0.91574, val score: 0.86968, in 0.131s\n",
      "[64/1000] 1 tree, 44 leaves, max depth = 10, train score: 0.91702, val score: 0.86973, in 0.073s\n",
      "[65/1000] 1 tree, 44 leaves, max depth = 12, train score: 0.91784, val score: 0.86987, in 0.070s\n",
      "[66/1000] 1 tree, 44 leaves, max depth = 13, train score: 0.91861, val score: 0.87064, in 0.073s\n",
      "[67/1000] 1 tree, 44 leaves, max depth = 12, train score: 0.91933, val score: 0.87061, in 0.070s\n",
      "[68/1000] 1 tree, 44 leaves, max depth = 13, train score: 0.91987, val score: 0.87053, in 0.074s\n",
      "[69/1000] 1 tree, 44 leaves, max depth = 12, train score: 0.92083, val score: 0.87044, in 0.076s\n",
      "[70/1000] 1 tree, 44 leaves, max depth = 12, train score: 0.92160, val score: 0.87036, in 0.075s\n",
      "[71/1000] 1 tree, 44 leaves, max depth = 11, train score: 0.92229, val score: 0.87137, in 0.079s\n",
      "[72/1000] 1 tree, 44 leaves, max depth = 14, train score: 0.92338, val score: 0.87151, in 0.078s\n",
      "[73/1000] 1 tree, 44 leaves, max depth = 13, train score: 0.92420, val score: 0.87152, in 0.084s\n",
      "[74/1000] 1 tree, 44 leaves, max depth = 12, train score: 0.92495, val score: 0.87142, in 0.083s\n",
      "[75/1000] 1 tree, 44 leaves, max depth = 15, train score: 0.92565, val score: 0.87146, in 0.160s\n",
      "[76/1000] 1 tree, 44 leaves, max depth = 10, train score: 0.92630, val score: 0.87170, in 0.108s\n",
      "[77/1000] 1 tree, 44 leaves, max depth = 15, train score: 0.92779, val score: 0.87166, in 0.094s\n",
      "[78/1000] 1 tree, 44 leaves, max depth = 12, train score: 0.92873, val score: 0.87158, in 0.094s\n",
      "[79/1000] 1 tree, 44 leaves, max depth = 9, train score: 0.92955, val score: 0.87270, in 0.095s\n",
      "[80/1000] 1 tree, 44 leaves, max depth = 16, train score: 0.93013, val score: 0.87282, in 0.097s\n",
      "[81/1000] 1 tree, 44 leaves, max depth = 13, train score: 0.93105, val score: 0.87257, in 0.106s\n",
      "[82/1000] 1 tree, 44 leaves, max depth = 11, train score: 0.93167, val score: 0.87323, in 0.113s\n",
      "[83/1000] 1 tree, 44 leaves, max depth = 18, train score: 0.93218, val score: 0.87323, in 0.094s\n",
      "[84/1000] 1 tree, 44 leaves, max depth = 13, train score: 0.93290, val score: 0.87369, in 0.082s\n"
     ]
    },
    {
     "name": "stdout",
     "output_type": "stream",
     "text": [
      "[85/1000] 1 tree, 44 leaves, max depth = 13, train score: 0.93348, val score: 0.87392, in 0.083s\n",
      "[86/1000] 1 tree, 44 leaves, max depth = 17, train score: 0.93417, val score: 0.87385, in 0.085s\n",
      "[87/1000] 1 tree, 44 leaves, max depth = 12, train score: 0.93477, val score: 0.87452, in 0.079s\n",
      "[88/1000] 1 tree, 44 leaves, max depth = 11, train score: 0.93546, val score: 0.87426, in 0.163s\n",
      "[89/1000] 1 tree, 44 leaves, max depth = 11, train score: 0.93593, val score: 0.87463, in 0.096s\n",
      "[90/1000] 1 tree, 44 leaves, max depth = 10, train score: 0.93674, val score: 0.87516, in 0.100s\n",
      "[91/1000] 1 tree, 44 leaves, max depth = 14, train score: 0.93721, val score: 0.87560, in 0.097s\n",
      "[92/1000] 1 tree, 44 leaves, max depth = 11, train score: 0.93803, val score: 0.87641, in 0.106s\n",
      "[93/1000] 1 tree, 44 leaves, max depth = 13, train score: 0.93846, val score: 0.87636, in 0.094s\n",
      "[94/1000] 1 tree, 44 leaves, max depth = 13, train score: 0.93889, val score: 0.87643, in 0.090s\n",
      "[95/1000] 1 tree, 44 leaves, max depth = 12, train score: 0.93944, val score: 0.87674, in 0.083s\n",
      "[96/1000] 1 tree, 44 leaves, max depth = 15, train score: 0.93969, val score: 0.87703, in 0.103s\n",
      "[97/1000] 1 tree, 44 leaves, max depth = 10, train score: 0.94014, val score: 0.87700, in 0.113s\n",
      "[98/1000] 1 tree, 44 leaves, max depth = 13, train score: 0.94041, val score: 0.87692, in 0.092s\n",
      "[99/1000] 1 tree, 44 leaves, max depth = 11, train score: 0.94096, val score: 0.87729, in 0.084s\n",
      "[100/1000] 1 tree, 44 leaves, max depth = 17, train score: 0.94156, val score: 0.87772, in 0.153s\n",
      "[101/1000] 1 tree, 44 leaves, max depth = 16, train score: 0.94186, val score: 0.87761, in 0.081s\n",
      "[102/1000] 1 tree, 44 leaves, max depth = 11, train score: 0.94240, val score: 0.87845, in 0.111s\n",
      "[103/1000] 1 tree, 44 leaves, max depth = 13, train score: 0.94295, val score: 0.87878, in 0.087s\n",
      "[104/1000] 1 tree, 44 leaves, max depth = 13, train score: 0.94331, val score: 0.87895, in 0.088s\n",
      "[105/1000] 1 tree, 44 leaves, max depth = 12, train score: 0.94376, val score: 0.87921, in 0.092s\n",
      "[106/1000] 1 tree, 44 leaves, max depth = 14, train score: 0.94412, val score: 0.87944, in 0.076s\n",
      "[107/1000] 1 tree, 44 leaves, max depth = 14, train score: 0.94448, val score: 0.87986, in 0.080s\n",
      "[108/1000] 1 tree, 44 leaves, max depth = 16, train score: 0.94485, val score: 0.88021, in 0.077s\n",
      "[109/1000] 1 tree, 44 leaves, max depth = 13, train score: 0.94529, val score: 0.88049, in 0.076s\n",
      "[110/1000] 1 tree, 44 leaves, max depth = 14, train score: 0.94549, val score: 0.88050, in 0.097s\n",
      "[111/1000] 1 tree, 44 leaves, max depth = 9, train score: 0.94616, val score: 0.88109, in 0.093s\n",
      "[112/1000] 1 tree, 44 leaves, max depth = 15, train score: 0.94675, val score: 0.88136, in 0.078s\n",
      "[113/1000] 1 tree, 44 leaves, max depth = 12, train score: 0.94698, val score: 0.88158, in 0.147s\n",
      "[114/1000] 1 tree, 44 leaves, max depth = 11, train score: 0.94740, val score: 0.88186, in 0.087s\n",
      "[115/1000] 1 tree, 44 leaves, max depth = 11, train score: 0.94805, val score: 0.88232, in 0.077s\n",
      "[116/1000] 1 tree, 44 leaves, max depth = 19, train score: 0.94857, val score: 0.88245, in 0.087s\n",
      "[117/1000] 1 tree, 44 leaves, max depth = 15, train score: 0.94905, val score: 0.88215, in 0.093s\n",
      "[118/1000] 1 tree, 44 leaves, max depth = 13, train score: 0.94967, val score: 0.88227, in 0.092s\n",
      "[119/1000] 1 tree, 44 leaves, max depth = 13, train score: 0.95000, val score: 0.88231, in 0.095s\n",
      "[120/1000] 1 tree, 44 leaves, max depth = 15, train score: 0.95044, val score: 0.88209, in 0.096s\n",
      "[121/1000] 1 tree, 44 leaves, max depth = 15, train score: 0.95102, val score: 0.88238, in 0.080s\n",
      "[122/1000] 1 tree, 44 leaves, max depth = 12, train score: 0.95128, val score: 0.88276, in 0.079s\n",
      "[123/1000] 1 tree, 44 leaves, max depth = 15, train score: 0.95178, val score: 0.88288, in 0.086s\n",
      "[124/1000] 1 tree, 44 leaves, max depth = 12, train score: 0.95188, val score: 0.88296, in 0.092s\n",
      "[125/1000] 1 tree, 44 leaves, max depth = 13, train score: 0.95219, val score: 0.88320, in 0.153s\n",
      "[126/1000] 1 tree, 44 leaves, max depth = 12, train score: 0.95254, val score: 0.88305, in 0.080s\n",
      "[127/1000] 1 tree, 44 leaves, max depth = 14, train score: 0.95317, val score: 0.88331, in 0.096s\n",
      "[128/1000] 1 tree, 44 leaves, max depth = 11, train score: 0.95361, val score: 0.88337, in 0.096s\n",
      "[129/1000] 1 tree, 44 leaves, max depth = 14, train score: 0.95396, val score: 0.88352, in 0.099s\n",
      "[130/1000] 1 tree, 44 leaves, max depth = 14, train score: 0.95434, val score: 0.88370, in 0.090s\n",
      "[131/1000] 1 tree, 44 leaves, max depth = 15, train score: 0.95486, val score: 0.88356, in 0.097s\n",
      "[132/1000] 1 tree, 44 leaves, max depth = 12, train score: 0.95522, val score: 0.88406, in 0.096s\n",
      "[133/1000] 1 tree, 44 leaves, max depth = 15, train score: 0.95587, val score: 0.88426, in 0.097s\n",
      "[134/1000] 1 tree, 44 leaves, max depth = 12, train score: 0.95617, val score: 0.88465, in 0.095s\n",
      "[135/1000] 1 tree, 44 leaves, max depth = 15, train score: 0.95647, val score: 0.88452, in 0.091s\n",
      "[136/1000] 1 tree, 44 leaves, max depth = 16, train score: 0.95679, val score: 0.88488, in 0.137s\n",
      "[137/1000] 1 tree, 44 leaves, max depth = 20, train score: 0.95704, val score: 0.88500, in 0.264s\n",
      "[138/1000] 1 tree, 44 leaves, max depth = 15, train score: 0.95738, val score: 0.88533, in 0.221s\n",
      "[139/1000] 1 tree, 44 leaves, max depth = 15, train score: 0.95777, val score: 0.88569, in 0.113s\n",
      "[140/1000] 1 tree, 44 leaves, max depth = 12, train score: 0.95804, val score: 0.88543, in 0.093s\n",
      "[141/1000] 1 tree, 44 leaves, max depth = 17, train score: 0.95840, val score: 0.88563, in 0.094s\n",
      "[142/1000] 1 tree, 44 leaves, max depth = 16, train score: 0.95873, val score: 0.88573, in 0.103s\n",
      "[143/1000] 1 tree, 44 leaves, max depth = 13, train score: 0.95920, val score: 0.88559, in 0.098s\n",
      "[144/1000] 1 tree, 44 leaves, max depth = 17, train score: 0.95953, val score: 0.88554, in 0.104s\n",
      "[145/1000] 1 tree, 44 leaves, max depth = 18, train score: 0.95967, val score: 0.88573, in 0.098s\n",
      "[146/1000] 1 tree, 44 leaves, max depth = 14, train score: 0.95997, val score: 0.88589, in 0.105s\n",
      "[147/1000] 1 tree, 44 leaves, max depth = 16, train score: 0.96016, val score: 0.88588, in 0.106s\n",
      "[148/1000] 1 tree, 44 leaves, max depth = 12, train score: 0.96056, val score: 0.88588, in 0.119s\n",
      "[149/1000] 1 tree, 44 leaves, max depth = 18, train score: 0.96068, val score: 0.88631, in 0.185s\n",
      "[150/1000] 1 tree, 44 leaves, max depth = 15, train score: 0.96090, val score: 0.88613, in 0.197s\n",
      "[151/1000] 1 tree, 44 leaves, max depth = 16, train score: 0.96110, val score: 0.88629, in 0.104s\n",
      "[152/1000] 1 tree, 44 leaves, max depth = 13, train score: 0.96133, val score: 0.88616, in 0.102s\n",
      "[153/1000] 1 tree, 44 leaves, max depth = 13, train score: 0.96171, val score: 0.88611, in 0.110s\n",
      "[154/1000] 1 tree, 44 leaves, max depth = 15, train score: 0.96211, val score: 0.88615, in 0.102s\n",
      "[155/1000] 1 tree, 44 leaves, max depth = 15, train score: 0.96223, val score: 0.88617, in 0.100s\n",
      "[156/1000] 1 tree, 44 leaves, max depth = 13, train score: 0.96274, val score: 0.88623, in 0.106s\n",
      "[157/1000] 1 tree, 44 leaves, max depth = 12, train score: 0.96284, val score: 0.88627, in 0.113s\n",
      "[158/1000] 1 tree, 44 leaves, max depth = 14, train score: 0.96325, val score: 0.88628, in 0.154s\n",
      "[159/1000] 1 tree, 44 leaves, max depth = 15, train score: 0.96364, val score: 0.88617, in 0.105s\n",
      "Fit 159 trees in 14.971 s, (6996 total leaves)\n",
      "Time spent computing histograms: 5.888s\n",
      "Time spent finding best splits:  1.655s\n",
      "Time spent applying splits:      1.576s\n",
      "Time spent predicting:           0.028s\n",
      "Train_AROC: 0.9550889166907149\n",
      "Valid_AROC: 0.8797418457342087\n",
      "CPU times: user 1min 28s, sys: 16.5 s, total: 1min 44s\n",
      "Wall time: 15.5 s\n"
     ]
    }
   ],
   "source": [
    "%%time\n",
    "m = HistGradientBoostingClassifier(loss='binary_crossentropy', verbose=1, l2_regularization=2.4,\n",
    "                             learning_rate=0.03, max_depth=25, max_iter=1000, max_leaf_nodes=44,\n",
    "                             min_samples_leaf=8,  scoring='roc_auc', tol=1e-8)\n",
    "_, _, prob_valid, pred_valid = fit(m);"
   ]
  },
  {
   "cell_type": "code",
   "execution_count": 94,
   "metadata": {},
   "outputs": [
    {
     "data": {
      "image/png": "[encoded data removed]",
      "text/plain": [
       "<Figure size 432x288 with 2 Axes>"
      ]
     },
     "metadata": {},
     "output_type": "display_data"
    }
   ],
   "source": [
    "fig = plot_confusion_matrix(valid_y, pred_valid)\n",
    "fig.savefig(path.BASE_PATH/'../figures/RFparams_HistGBC_Confusion_Matrix.jpg', dpi=1000, bbox_inches='tight')"
   ]
  },
  {
   "cell_type": "code",
   "execution_count": 95,
   "metadata": {},
   "outputs": [
    {
     "name": "stdout",
     "output_type": "stream",
     "text": [
      "AROC: 0.8797418457342087\n",
      "APRC: 0.44099723308972494\n",
      "Percision: 0.7076923076923077\n",
      "Recall: 0.2562674094707521\n",
      "ACC: 0.9711256271892454\n",
      "F1: 0.37627811860940696\n",
      "F2: 0.29374201787994897\n",
      "F5: 0.26271279516749046\n",
      "F10: 0.25789619761310023\n"
     ]
    }
   ],
   "source": [
    "metrics(valid_y, pred_valid, prob_valid, acc=True);"
   ]
  },
  {
   "cell_type": "code",
   "execution_count": 96,
   "metadata": {},
   "outputs": [
    {
     "data": {
      "image/png": "[encoded data removed]",
      "text/plain": [
       "<Figure size 792x360 with 2 Axes>"
      ]
     },
     "metadata": {},
     "output_type": "display_data"
    }
   ],
   "source": [
    "fig = plot_roc_prc(valid_y, prob_valid, label='HistGBC')\n",
    "fig.savefig(path.BASE_PATH/'../figures/RFparams_HistGBC_aucs.jpg', dpi=1000, bbox_inches='tight')"
   ]
  },
  {
   "cell_type": "code",
   "execution_count": 101,
   "metadata": {},
   "outputs": [
    {
     "name": "stdout",
     "output_type": "stream",
     "text": [
      "Binning 0.043 GB of training data: 0.271 s\n",
      "Binning 0.005 GB of validation data: 0.003 s\n",
      "Fitting gradient boosted rounds:\n",
      "[1/1000] 1 tree, 44 leaves, max depth = 11, train score: 0.85357, val score: 0.82605, in 0.062s\n",
      "[2/1000] 1 tree, 44 leaves, max depth = 11, train score: 0.85637, val score: 0.82490, in 0.058s\n",
      "[3/1000] 1 tree, 44 leaves, max depth = 10, train score: 0.86082, val score: 0.83225, in 0.057s\n",
      "[4/1000] 1 tree, 44 leaves, max depth = 10, train score: 0.86290, val score: 0.83481, in 0.060s\n",
      "[5/1000] 1 tree, 44 leaves, max depth = 11, train score: 0.86369, val score: 0.83614, in 0.081s\n",
      "[6/1000] 1 tree, 44 leaves, max depth = 11, train score: 0.86762, val score: 0.83806, in 0.080s\n",
      "[7/1000] 1 tree, 44 leaves, max depth = 12, train score: 0.87002, val score: 0.83971, in 0.107s\n",
      "[8/1000] 1 tree, 44 leaves, max depth = 11, train score: 0.87181, val score: 0.84132, in 0.099s\n",
      "[9/1000] 1 tree, 44 leaves, max depth = 11, train score: 0.87750, val score: 0.84234, in 0.078s\n",
      "[10/1000] 1 tree, 44 leaves, max depth = 11, train score: 0.88264, val score: 0.84918, in 0.074s\n",
      "[11/1000] 1 tree, 44 leaves, max depth = 10, train score: 0.88747, val score: 0.85335, in 0.077s\n",
      "[12/1000] 1 tree, 44 leaves, max depth = 11, train score: 0.88908, val score: 0.85365, in 0.144s\n",
      "[13/1000] 1 tree, 44 leaves, max depth = 10, train score: 0.89045, val score: 0.85254, in 0.062s\n",
      "[14/1000] 1 tree, 44 leaves, max depth = 10, train score: 0.89225, val score: 0.85531, in 0.061s\n",
      "[15/1000] 1 tree, 44 leaves, max depth = 11, train score: 0.89302, val score: 0.85549, in 0.061s\n",
      "[16/1000] 1 tree, 44 leaves, max depth = 10, train score: 0.89432, val score: 0.85608, in 0.062s\n",
      "[17/1000] 1 tree, 44 leaves, max depth = 11, train score: 0.89527, val score: 0.85605, in 0.061s\n",
      "[18/1000] 1 tree, 44 leaves, max depth = 11, train score: 0.89618, val score: 0.85743, in 0.061s\n",
      "[19/1000] 1 tree, 44 leaves, max depth = 10, train score: 0.89716, val score: 0.85794, in 0.061s\n",
      "[20/1000] 1 tree, 44 leaves, max depth = 10, train score: 0.89908, val score: 0.85834, in 0.062s\n",
      "[21/1000] 1 tree, 44 leaves, max depth = 13, train score: 0.89970, val score: 0.85799, in 0.062s\n",
      "[22/1000] 1 tree, 44 leaves, max depth = 10, train score: 0.90026, val score: 0.85928, in 0.061s\n",
      "[23/1000] 1 tree, 44 leaves, max depth = 11, train score: 0.90055, val score: 0.85890, in 0.064s\n",
      "[24/1000] 1 tree, 44 leaves, max depth = 12, train score: 0.90140, val score: 0.86016, in 0.063s\n",
      "[25/1000] 1 tree, 44 leaves, max depth = 13, train score: 0.90166, val score: 0.86043, in 0.128s\n",
      "[26/1000] 1 tree, 44 leaves, max depth = 9, train score: 0.90216, val score: 0.86075, in 0.063s\n",
      "[27/1000] 1 tree, 44 leaves, max depth = 12, train score: 0.90310, val score: 0.86221, in 0.063s\n",
      "[28/1000] 1 tree, 44 leaves, max depth = 12, train score: 0.90383, val score: 0.86308, in 0.065s\n",
      "[29/1000] 1 tree, 44 leaves, max depth = 14, train score: 0.90471, val score: 0.86297, in 0.065s\n",
      "[30/1000] 1 tree, 44 leaves, max depth = 11, train score: 0.90552, val score: 0.86272, in 0.064s\n",
      "[31/1000] 1 tree, 44 leaves, max depth = 13, train score: 0.90599, val score: 0.86273, in 0.064s\n",
      "[32/1000] 1 tree, 44 leaves, max depth = 12, train score: 0.90667, val score: 0.86361, in 0.062s\n",
      "[33/1000] 1 tree, 44 leaves, max depth = 11, train score: 0.90750, val score: 0.86373, in 0.065s\n",
      "[34/1000] 1 tree, 44 leaves, max depth = 15, train score: 0.90918, val score: 0.86406, in 0.065s\n",
      "[35/1000] 1 tree, 44 leaves, max depth = 11, train score: 0.91074, val score: 0.86519, in 0.067s\n",
      "[36/1000] 1 tree, 44 leaves, max depth = 13, train score: 0.91136, val score: 0.86558, in 0.082s\n",
      "[37/1000] 1 tree, 44 leaves, max depth = 13, train score: 0.91249, val score: 0.86636, in 0.139s\n",
      "[38/1000] 1 tree, 44 leaves, max depth = 11, train score: 0.91344, val score: 0.86748, in 0.067s\n",
      "[39/1000] 1 tree, 44 leaves, max depth = 12, train score: 0.91430, val score: 0.86818, in 0.066s\n",
      "[40/1000] 1 tree, 44 leaves, max depth = 13, train score: 0.91515, val score: 0.86896, in 0.068s\n",
      "[41/1000] 1 tree, 44 leaves, max depth = 12, train score: 0.91605, val score: 0.87007, in 0.068s\n",
      "[42/1000] 1 tree, 44 leaves, max depth = 11, train score: 0.91688, val score: 0.87007, in 0.066s\n",
      "[43/1000] 1 tree, 44 leaves, max depth = 11, train score: 0.91726, val score: 0.87043, in 0.068s\n",
      "[44/1000] 1 tree, 44 leaves, max depth = 12, train score: 0.91808, val score: 0.87111, in 0.068s\n",
      "[45/1000] 1 tree, 44 leaves, max depth = 12, train score: 0.91862, val score: 0.87167, in 0.068s\n",
      "[46/1000] 1 tree, 44 leaves, max depth = 14, train score: 0.91927, val score: 0.87162, in 0.069s\n",
      "[47/1000] 1 tree, 44 leaves, max depth = 14, train score: 0.91974, val score: 0.87265, in 0.072s\n",
      "[48/1000] 1 tree, 44 leaves, max depth = 14, train score: 0.92021, val score: 0.87263, in 0.072s\n",
      "[49/1000] 1 tree, 44 leaves, max depth = 15, train score: 0.92086, val score: 0.87245, in 0.071s\n",
      "[50/1000] 1 tree, 44 leaves, max depth = 12, train score: 0.92139, val score: 0.87273, in 0.135s\n",
      "[51/1000] 1 tree, 44 leaves, max depth = 13, train score: 0.92177, val score: 0.87238, in 0.071s\n",
      "[52/1000] 1 tree, 44 leaves, max depth = 11, train score: 0.92240, val score: 0.87208, in 0.070s\n",
      "[53/1000] 1 tree, 44 leaves, max depth = 11, train score: 0.92277, val score: 0.87278, in 0.069s\n",
      "[54/1000] 1 tree, 44 leaves, max depth = 15, train score: 0.92305, val score: 0.87249, in 0.070s\n",
      "[55/1000] 1 tree, 44 leaves, max depth = 13, train score: 0.92355, val score: 0.87234, in 0.071s\n",
      "[56/1000] 1 tree, 44 leaves, max depth = 17, train score: 0.92396, val score: 0.87284, in 0.071s\n",
      "[57/1000] 1 tree, 44 leaves, max depth = 18, train score: 0.92450, val score: 0.87374, in 0.071s\n",
      "[58/1000] 1 tree, 44 leaves, max depth = 16, train score: 0.92514, val score: 0.87399, in 0.072s\n",
      "[59/1000] 1 tree, 44 leaves, max depth = 11, train score: 0.92549, val score: 0.87397, in 0.073s\n",
      "[60/1000] 1 tree, 44 leaves, max depth = 10, train score: 0.92596, val score: 0.87413, in 0.073s\n",
      "[61/1000] 1 tree, 44 leaves, max depth = 16, train score: 0.92684, val score: 0.87428, in 0.094s\n",
      "[62/1000] 1 tree, 44 leaves, max depth = 10, train score: 0.92746, val score: 0.87411, in 0.141s\n",
      "[63/1000] 1 tree, 44 leaves, max depth = 20, train score: 0.92810, val score: 0.87450, in 0.072s\n",
      "[64/1000] 1 tree, 44 leaves, max depth = 11, train score: 0.92872, val score: 0.87512, in 0.078s\n",
      "[65/1000] 1 tree, 44 leaves, max depth = 11, train score: 0.92914, val score: 0.87563, in 0.071s\n",
      "[66/1000] 1 tree, 44 leaves, max depth = 12, train score: 0.92988, val score: 0.87599, in 0.075s\n",
      "[67/1000] 1 tree, 44 leaves, max depth = 12, train score: 0.93029, val score: 0.87657, in 0.075s\n",
      "[68/1000] 1 tree, 44 leaves, max depth = 12, train score: 0.93088, val score: 0.87743, in 0.074s\n",
      "[69/1000] 1 tree, 44 leaves, max depth = 11, train score: 0.93156, val score: 0.87790, in 0.075s\n",
      "[70/1000] 1 tree, 44 leaves, max depth = 12, train score: 0.93205, val score: 0.87823, in 0.076s\n",
      "[71/1000] 1 tree, 44 leaves, max depth = 14, train score: 0.93271, val score: 0.87835, in 0.075s\n",
      "[72/1000] 1 tree, 44 leaves, max depth = 14, train score: 0.93332, val score: 0.87872, in 0.077s\n",
      "[73/1000] 1 tree, 44 leaves, max depth = 20, train score: 0.93400, val score: 0.87899, in 0.074s\n",
      "[74/1000] 1 tree, 44 leaves, max depth = 14, train score: 0.93470, val score: 0.87917, in 0.146s\n",
      "[75/1000] 1 tree, 44 leaves, max depth = 14, train score: 0.93527, val score: 0.87963, in 0.076s\n",
      "[76/1000] 1 tree, 44 leaves, max depth = 18, train score: 0.93603, val score: 0.87971, in 0.384s\n",
      "[77/1000] 1 tree, 44 leaves, max depth = 14, train score: 0.93666, val score: 0.88015, in 0.072s\n",
      "[78/1000] 1 tree, 44 leaves, max depth = 15, train score: 0.93706, val score: 0.88065, in 0.074s\n",
      "[79/1000] 1 tree, 44 leaves, max depth = 14, train score: 0.93777, val score: 0.88079, in 0.077s\n",
      "[80/1000] 1 tree, 44 leaves, max depth = 14, train score: 0.93824, val score: 0.88113, in 0.077s\n",
      "[81/1000] 1 tree, 44 leaves, max depth = 15, train score: 0.93870, val score: 0.88181, in 0.076s\n",
      "[82/1000] 1 tree, 44 leaves, max depth = 11, train score: 0.93925, val score: 0.88167, in 0.078s\n",
      "[83/1000] 1 tree, 44 leaves, max depth = 15, train score: 0.93990, val score: 0.88212, in 0.081s\n",
      "[84/1000] 1 tree, 44 leaves, max depth = 14, train score: 0.94052, val score: 0.88265, in 0.080s\n"
     ]
    },
    {
     "name": "stdout",
     "output_type": "stream",
     "text": [
      "[85/1000] 1 tree, 44 leaves, max depth = 11, train score: 0.94139, val score: 0.88258, in 0.080s\n",
      "[86/1000] 1 tree, 44 leaves, max depth = 15, train score: 0.94189, val score: 0.88274, in 0.093s\n",
      "[87/1000] 1 tree, 44 leaves, max depth = 12, train score: 0.94247, val score: 0.88303, in 0.076s\n",
      "[88/1000] 1 tree, 44 leaves, max depth = 13, train score: 0.94308, val score: 0.88323, in 0.134s\n",
      "[89/1000] 1 tree, 44 leaves, max depth = 14, train score: 0.94363, val score: 0.88314, in 0.075s\n",
      "[90/1000] 1 tree, 44 leaves, max depth = 16, train score: 0.94442, val score: 0.88339, in 0.078s\n",
      "[91/1000] 1 tree, 44 leaves, max depth = 16, train score: 0.94494, val score: 0.88301, in 0.078s\n",
      "[92/1000] 1 tree, 44 leaves, max depth = 14, train score: 0.94557, val score: 0.88332, in 0.077s\n",
      "[93/1000] 1 tree, 44 leaves, max depth = 13, train score: 0.94611, val score: 0.88341, in 0.078s\n",
      "[94/1000] 1 tree, 44 leaves, max depth = 17, train score: 0.94658, val score: 0.88354, in 0.081s\n",
      "[95/1000] 1 tree, 44 leaves, max depth = 11, train score: 0.94709, val score: 0.88364, in 0.078s\n",
      "[96/1000] 1 tree, 44 leaves, max depth = 13, train score: 0.94764, val score: 0.88398, in 0.079s\n",
      "[97/1000] 1 tree, 44 leaves, max depth = 13, train score: 0.94817, val score: 0.88379, in 0.089s\n",
      "[98/1000] 1 tree, 44 leaves, max depth = 11, train score: 0.94867, val score: 0.88414, in 0.083s\n",
      "[99/1000] 1 tree, 44 leaves, max depth = 13, train score: 0.94924, val score: 0.88459, in 0.083s\n",
      "[100/1000] 1 tree, 44 leaves, max depth = 13, train score: 0.94955, val score: 0.88478, in 0.139s\n",
      "[101/1000] 1 tree, 44 leaves, max depth = 14, train score: 0.95012, val score: 0.88476, in 0.083s\n",
      "[102/1000] 1 tree, 44 leaves, max depth = 13, train score: 0.95059, val score: 0.88487, in 0.124s\n",
      "[103/1000] 1 tree, 44 leaves, max depth = 10, train score: 0.95113, val score: 0.88497, in 0.077s\n",
      "[104/1000] 1 tree, 44 leaves, max depth = 14, train score: 0.95152, val score: 0.88518, in 0.072s\n",
      "[105/1000] 1 tree, 44 leaves, max depth = 11, train score: 0.95197, val score: 0.88532, in 0.073s\n",
      "[106/1000] 1 tree, 44 leaves, max depth = 12, train score: 0.95237, val score: 0.88544, in 0.077s\n",
      "[107/1000] 1 tree, 44 leaves, max depth = 15, train score: 0.95274, val score: 0.88564, in 0.075s\n",
      "[108/1000] 1 tree, 44 leaves, max depth = 10, train score: 0.95317, val score: 0.88558, in 0.075s\n",
      "[109/1000] 1 tree, 44 leaves, max depth = 19, train score: 0.95360, val score: 0.88581, in 0.076s\n",
      "[110/1000] 1 tree, 44 leaves, max depth = 11, train score: 0.95395, val score: 0.88595, in 0.078s\n",
      "[111/1000] 1 tree, 44 leaves, max depth = 16, train score: 0.95434, val score: 0.88621, in 0.074s\n",
      "[112/1000] 1 tree, 44 leaves, max depth = 10, train score: 0.95477, val score: 0.88657, in 0.139s\n",
      "[113/1000] 1 tree, 44 leaves, max depth = 16, train score: 0.95524, val score: 0.88694, in 0.077s\n",
      "[114/1000] 1 tree, 44 leaves, max depth = 12, train score: 0.95566, val score: 0.88756, in 0.074s\n",
      "[115/1000] 1 tree, 44 leaves, max depth = 9, train score: 0.95604, val score: 0.88750, in 0.076s\n",
      "[116/1000] 1 tree, 44 leaves, max depth = 16, train score: 0.95652, val score: 0.88750, in 0.079s\n",
      "[117/1000] 1 tree, 44 leaves, max depth = 15, train score: 0.95688, val score: 0.88759, in 0.077s\n",
      "[118/1000] 1 tree, 44 leaves, max depth = 15, train score: 0.95724, val score: 0.88794, in 0.077s\n",
      "[119/1000] 1 tree, 44 leaves, max depth = 9, train score: 0.95779, val score: 0.88782, in 0.081s\n",
      "[120/1000] 1 tree, 44 leaves, max depth = 14, train score: 0.95823, val score: 0.88777, in 0.082s\n",
      "[121/1000] 1 tree, 44 leaves, max depth = 12, train score: 0.95862, val score: 0.88782, in 0.079s\n",
      "[122/1000] 1 tree, 44 leaves, max depth = 15, train score: 0.95911, val score: 0.88784, in 0.080s\n",
      "[123/1000] 1 tree, 44 leaves, max depth = 14, train score: 0.95967, val score: 0.88842, in 0.081s\n",
      "[124/1000] 1 tree, 44 leaves, max depth = 12, train score: 0.96006, val score: 0.88863, in 0.081s\n",
      "[125/1000] 1 tree, 44 leaves, max depth = 11, train score: 0.96044, val score: 0.88900, in 0.143s\n",
      "[126/1000] 1 tree, 44 leaves, max depth = 15, train score: 0.96080, val score: 0.88891, in 0.080s\n",
      "[127/1000] 1 tree, 44 leaves, max depth = 16, train score: 0.96117, val score: 0.88863, in 0.079s\n",
      "[128/1000] 1 tree, 44 leaves, max depth = 16, train score: 0.96169, val score: 0.88909, in 0.083s\n",
      "[129/1000] 1 tree, 44 leaves, max depth = 13, train score: 0.96207, val score: 0.88945, in 0.083s\n",
      "[130/1000] 1 tree, 44 leaves, max depth = 14, train score: 0.96248, val score: 0.88975, in 0.082s\n",
      "[131/1000] 1 tree, 44 leaves, max depth = 13, train score: 0.96289, val score: 0.89000, in 0.086s\n",
      "[132/1000] 1 tree, 44 leaves, max depth = 16, train score: 0.96328, val score: 0.89006, in 0.104s\n",
      "[133/1000] 1 tree, 44 leaves, max depth = 12, train score: 0.96351, val score: 0.89023, in 0.098s\n",
      "[134/1000] 1 tree, 44 leaves, max depth = 15, train score: 0.96378, val score: 0.89028, in 0.099s\n",
      "[135/1000] 1 tree, 44 leaves, max depth = 14, train score: 0.96403, val score: 0.88986, in 0.091s\n",
      "[136/1000] 1 tree, 44 leaves, max depth = 14, train score: 0.96434, val score: 0.88980, in 0.087s\n",
      "[137/1000] 1 tree, 44 leaves, max depth = 13, train score: 0.96473, val score: 0.88999, in 0.174s\n",
      "[138/1000] 1 tree, 44 leaves, max depth = 17, train score: 0.96502, val score: 0.89024, in 0.112s\n",
      "[139/1000] 1 tree, 44 leaves, max depth = 19, train score: 0.96538, val score: 0.89012, in 0.110s\n",
      "[140/1000] 1 tree, 44 leaves, max depth = 13, train score: 0.96579, val score: 0.89032, in 0.127s\n",
      "[141/1000] 1 tree, 44 leaves, max depth = 13, train score: 0.96615, val score: 0.88996, in 0.173s\n",
      "[142/1000] 1 tree, 44 leaves, max depth = 18, train score: 0.96649, val score: 0.88996, in 0.221s\n",
      "[143/1000] 1 tree, 44 leaves, max depth = 13, train score: 0.96679, val score: 0.89014, in 0.106s\n",
      "[144/1000] 1 tree, 44 leaves, max depth = 17, train score: 0.96714, val score: 0.89029, in 0.136s\n",
      "[145/1000] 1 tree, 44 leaves, max depth = 15, train score: 0.96746, val score: 0.89031, in 0.130s\n",
      "[146/1000] 1 tree, 44 leaves, max depth = 18, train score: 0.96781, val score: 0.89059, in 0.136s\n",
      "[147/1000] 1 tree, 44 leaves, max depth = 14, train score: 0.96814, val score: 0.89073, in 0.138s\n",
      "[148/1000] 1 tree, 44 leaves, max depth = 13, train score: 0.96837, val score: 0.89093, in 0.142s\n",
      "[149/1000] 1 tree, 44 leaves, max depth = 15, train score: 0.96861, val score: 0.89108, in 0.144s\n",
      "[150/1000] 1 tree, 44 leaves, max depth = 16, train score: 0.96892, val score: 0.89110, in 0.155s\n",
      "[151/1000] 1 tree, 44 leaves, max depth = 17, train score: 0.96926, val score: 0.89123, in 0.107s\n",
      "[152/1000] 1 tree, 44 leaves, max depth = 12, train score: 0.96951, val score: 0.89137, in 0.100s\n",
      "[153/1000] 1 tree, 44 leaves, max depth = 15, train score: 0.96985, val score: 0.89140, in 0.110s\n",
      "[154/1000] 1 tree, 44 leaves, max depth = 15, train score: 0.97019, val score: 0.89173, in 0.114s\n",
      "[155/1000] 1 tree, 44 leaves, max depth = 13, train score: 0.97045, val score: 0.89179, in 0.106s\n",
      "[156/1000] 1 tree, 44 leaves, max depth = 15, train score: 0.97071, val score: 0.89175, in 0.095s\n",
      "[157/1000] 1 tree, 44 leaves, max depth = 15, train score: 0.97094, val score: 0.89159, in 0.090s\n",
      "[158/1000] 1 tree, 44 leaves, max depth = 16, train score: 0.97121, val score: 0.89206, in 0.093s\n",
      "[159/1000] 1 tree, 44 leaves, max depth = 17, train score: 0.97142, val score: 0.89199, in 0.092s\n",
      "[160/1000] 1 tree, 44 leaves, max depth = 15, train score: 0.97166, val score: 0.89217, in 0.093s\n",
      "[161/1000] 1 tree, 44 leaves, max depth = 13, train score: 0.97194, val score: 0.89212, in 0.102s\n",
      "[162/1000] 1 tree, 44 leaves, max depth = 13, train score: 0.97216, val score: 0.89225, in 0.164s\n",
      "[163/1000] 1 tree, 44 leaves, max depth = 12, train score: 0.97243, val score: 0.89232, in 0.094s\n",
      "[164/1000] 1 tree, 44 leaves, max depth = 16, train score: 0.97265, val score: 0.89269, in 0.093s\n",
      "[165/1000] 1 tree, 44 leaves, max depth = 12, train score: 0.97291, val score: 0.89275, in 0.093s\n",
      "[166/1000] 1 tree, 44 leaves, max depth = 12, train score: 0.97314, val score: 0.89270, in 0.094s\n",
      "[167/1000] 1 tree, 44 leaves, max depth = 19, train score: 0.97336, val score: 0.89262, in 0.094s\n",
      "[168/1000] 1 tree, 44 leaves, max depth = 17, train score: 0.97358, val score: 0.89279, in 0.095s\n"
     ]
    },
    {
     "name": "stdout",
     "output_type": "stream",
     "text": [
      "[169/1000] 1 tree, 44 leaves, max depth = 18, train score: 0.97384, val score: 0.89321, in 0.095s\n",
      "[170/1000] 1 tree, 44 leaves, max depth = 20, train score: 0.97413, val score: 0.89285, in 0.101s\n",
      "[171/1000] 1 tree, 44 leaves, max depth = 12, train score: 0.97434, val score: 0.89299, in 0.114s\n",
      "[172/1000] 1 tree, 44 leaves, max depth = 13, train score: 0.97452, val score: 0.89316, in 0.113s\n",
      "[173/1000] 1 tree, 44 leaves, max depth = 13, train score: 0.97472, val score: 0.89321, in 0.113s\n",
      "[174/1000] 1 tree, 44 leaves, max depth = 13, train score: 0.97490, val score: 0.89315, in 0.192s\n",
      "[175/1000] 1 tree, 44 leaves, max depth = 19, train score: 0.97511, val score: 0.89316, in 0.113s\n",
      "[176/1000] 1 tree, 44 leaves, max depth = 19, train score: 0.97531, val score: 0.89332, in 0.150s\n",
      "[177/1000] 1 tree, 44 leaves, max depth = 19, train score: 0.97552, val score: 0.89324, in 0.125s\n",
      "[178/1000] 1 tree, 44 leaves, max depth = 19, train score: 0.97576, val score: 0.89366, in 0.122s\n",
      "[179/1000] 1 tree, 44 leaves, max depth = 13, train score: 0.97599, val score: 0.89407, in 0.125s\n",
      "[180/1000] 1 tree, 44 leaves, max depth = 14, train score: 0.97619, val score: 0.89431, in 0.126s\n",
      "[181/1000] 1 tree, 44 leaves, max depth = 13, train score: 0.97641, val score: 0.89423, in 0.125s\n",
      "[182/1000] 1 tree, 44 leaves, max depth = 14, train score: 0.97658, val score: 0.89440, in 0.121s\n",
      "[183/1000] 1 tree, 44 leaves, max depth = 9, train score: 0.97683, val score: 0.89458, in 0.132s\n",
      "[184/1000] 1 tree, 44 leaves, max depth = 14, train score: 0.97706, val score: 0.89465, in 0.121s\n",
      "[185/1000] 1 tree, 44 leaves, max depth = 13, train score: 0.97728, val score: 0.89472, in 0.112s\n",
      "[186/1000] 1 tree, 44 leaves, max depth = 12, train score: 0.97745, val score: 0.89485, in 0.124s\n",
      "[187/1000] 1 tree, 44 leaves, max depth = 9, train score: 0.97768, val score: 0.89501, in 0.176s\n",
      "[188/1000] 1 tree, 44 leaves, max depth = 16, train score: 0.97789, val score: 0.89524, in 0.122s\n",
      "[189/1000] 1 tree, 44 leaves, max depth = 10, train score: 0.97806, val score: 0.89533, in 0.143s\n",
      "[190/1000] 1 tree, 44 leaves, max depth = 12, train score: 0.97822, val score: 0.89548, in 0.108s\n",
      "[191/1000] 1 tree, 44 leaves, max depth = 12, train score: 0.97840, val score: 0.89518, in 0.108s\n",
      "[192/1000] 1 tree, 44 leaves, max depth = 9, train score: 0.97856, val score: 0.89533, in 0.105s\n",
      "[193/1000] 1 tree, 44 leaves, max depth = 14, train score: 0.97878, val score: 0.89523, in 0.110s\n",
      "[194/1000] 1 tree, 44 leaves, max depth = 12, train score: 0.97903, val score: 0.89535, in 0.189s\n",
      "[195/1000] 1 tree, 44 leaves, max depth = 13, train score: 0.97917, val score: 0.89534, in 0.131s\n",
      "[196/1000] 1 tree, 44 leaves, max depth = 11, train score: 0.97940, val score: 0.89540, in 0.112s\n",
      "[197/1000] 1 tree, 44 leaves, max depth = 14, train score: 0.97962, val score: 0.89541, in 0.144s\n",
      "[198/1000] 1 tree, 44 leaves, max depth = 12, train score: 0.97983, val score: 0.89561, in 0.113s\n",
      "[199/1000] 1 tree, 44 leaves, max depth = 14, train score: 0.98005, val score: 0.89578, in 0.261s\n",
      "[200/1000] 1 tree, 44 leaves, max depth = 16, train score: 0.98020, val score: 0.89579, in 0.128s\n",
      "[201/1000] 1 tree, 44 leaves, max depth = 11, train score: 0.98036, val score: 0.89607, in 0.117s\n",
      "[202/1000] 1 tree, 44 leaves, max depth = 12, train score: 0.98056, val score: 0.89632, in 0.123s\n",
      "[203/1000] 1 tree, 44 leaves, max depth = 13, train score: 0.98069, val score: 0.89634, in 0.123s\n",
      "[204/1000] 1 tree, 44 leaves, max depth = 13, train score: 0.98087, val score: 0.89644, in 0.134s\n",
      "[205/1000] 1 tree, 44 leaves, max depth = 18, train score: 0.98099, val score: 0.89640, in 0.116s\n",
      "[206/1000] 1 tree, 44 leaves, max depth = 10, train score: 0.98112, val score: 0.89646, in 0.119s\n",
      "[207/1000] 1 tree, 44 leaves, max depth = 18, train score: 0.98127, val score: 0.89644, in 0.112s\n",
      "[208/1000] 1 tree, 44 leaves, max depth = 11, train score: 0.98144, val score: 0.89641, in 0.113s\n",
      "[209/1000] 1 tree, 44 leaves, max depth = 15, train score: 0.98155, val score: 0.89650, in 0.147s\n",
      "[210/1000] 1 tree, 44 leaves, max depth = 14, train score: 0.98169, val score: 0.89666, in 0.146s\n",
      "[211/1000] 1 tree, 44 leaves, max depth = 20, train score: 0.98186, val score: 0.89668, in 0.126s\n",
      "[212/1000] 1 tree, 44 leaves, max depth = 14, train score: 0.98199, val score: 0.89653, in 0.200s\n",
      "[213/1000] 1 tree, 44 leaves, max depth = 14, train score: 0.98215, val score: 0.89659, in 0.117s\n",
      "[214/1000] 1 tree, 44 leaves, max depth = 12, train score: 0.98233, val score: 0.89640, in 0.113s\n",
      "[215/1000] 1 tree, 44 leaves, max depth = 13, train score: 0.98246, val score: 0.89652, in 0.114s\n",
      "[216/1000] 1 tree, 44 leaves, max depth = 13, train score: 0.98266, val score: 0.89673, in 0.115s\n",
      "[217/1000] 1 tree, 44 leaves, max depth = 13, train score: 0.98276, val score: 0.89682, in 0.118s\n",
      "[218/1000] 1 tree, 44 leaves, max depth = 15, train score: 0.98287, val score: 0.89686, in 0.113s\n",
      "[219/1000] 1 tree, 44 leaves, max depth = 11, train score: 0.98298, val score: 0.89702, in 0.113s\n",
      "[220/1000] 1 tree, 44 leaves, max depth = 14, train score: 0.98308, val score: 0.89704, in 0.118s\n",
      "[221/1000] 1 tree, 44 leaves, max depth = 11, train score: 0.98326, val score: 0.89702, in 0.127s\n",
      "[222/1000] 1 tree, 44 leaves, max depth = 17, train score: 0.98335, val score: 0.89700, in 0.116s\n",
      "[223/1000] 1 tree, 44 leaves, max depth = 13, train score: 0.98348, val score: 0.89702, in 0.147s\n",
      "[224/1000] 1 tree, 44 leaves, max depth = 12, train score: 0.98360, val score: 0.89694, in 0.222s\n",
      "[225/1000] 1 tree, 44 leaves, max depth = 11, train score: 0.98377, val score: 0.89682, in 0.122s\n",
      "[226/1000] 1 tree, 44 leaves, max depth = 10, train score: 0.98389, val score: 0.89666, in 0.121s\n",
      "[227/1000] 1 tree, 44 leaves, max depth = 13, train score: 0.98399, val score: 0.89676, in 0.139s\n",
      "[228/1000] 1 tree, 44 leaves, max depth = 16, train score: 0.98411, val score: 0.89650, in 0.131s\n",
      "[229/1000] 1 tree, 44 leaves, max depth = 10, train score: 0.98426, val score: 0.89654, in 0.128s\n",
      "[230/1000] 1 tree, 44 leaves, max depth = 16, train score: 0.98440, val score: 0.89656, in 0.141s\n",
      "Fit 230 trees in 23.535 s, (10120 total leaves)\n",
      "Time spent computing histograms: 8.166s\n",
      "Time spent finding best splits:  2.166s\n",
      "Time spent applying splits:      2.929s\n",
      "Time spent predicting:           0.038s\n",
      "Train_AROC: 0.977802476605019\n",
      "Valid_AROC: 0.8682888571743671\n",
      "CPU times: user 2min 23s, sys: 24.1 s, total: 2min 47s\n",
      "Wall time: 24.2 s\n"
     ]
    }
   ],
   "source": [
    "%%time\n",
    "m = HistGradientBoostingClassifier(loss='binary_crossentropy', verbose=1, l2_regularization=2.4,\n",
    "                             learning_rate=0.03, max_depth=25, max_iter=1000, max_leaf_nodes=44,\n",
    "                             min_samples_leaf=8,  scoring='roc_auc', tol=1e-8)\n",
    "_, _, prob_valid, pred_valid = fit(m, sample_weight=sample_weight);"
   ]
  },
  {
   "cell_type": "code",
   "execution_count": 102,
   "metadata": {},
   "outputs": [
    {
     "data": {
      "image/png": "[encoded data removed]",
      "text/plain": [
       "<Figure size 432x288 with 2 Axes>"
      ]
     },
     "metadata": {},
     "output_type": "display_data"
    }
   ],
   "source": [
    "fig = plot_confusion_matrix(valid_y, pred_valid)\n",
    "fig.savefig(path.BASE_PATH/'../figures/RFparams_weighted_HistGBC_Confusion_Matrix.jpg', dpi=1000, bbox_inches='tight')"
   ]
  },
  {
   "cell_type": "code",
   "execution_count": 103,
   "metadata": {},
   "outputs": [
    {
     "name": "stdout",
     "output_type": "stream",
     "text": [
      "AROC: 0.8682888571743671\n",
      "APRC: 0.41337335727015256\n",
      "Percision: 0.19172297297297297\n",
      "Recall: 0.6323119777158774\n",
      "ACC: 0.896904288554388\n",
      "F1: 0.2942320155541154\n",
      "F2: 0.43320610687022904\n",
      "F5: 0.5809626931784624\n",
      "F10: 0.6182450652572539\n"
     ]
    }
   ],
   "source": [
    "metrics(valid_y, pred_valid, prob_valid, acc=True);"
   ]
  },
  {
   "cell_type": "code",
   "execution_count": 104,
   "metadata": {},
   "outputs": [
    {
     "data": {
      "image/png": "[encoded data removed]",
      "text/plain": [
       "<Figure size 792x360 with 2 Axes>"
      ]
     },
     "metadata": {},
     "output_type": "display_data"
    }
   ],
   "source": [
    "fig = plot_roc_prc(valid_y, prob_valid, label='HistGBC')\n",
    "fig.savefig(path.BASE_PATH/'../figures/RFparams_weighted_HistGBC_aucs.jpg', dpi=1000, bbox_inches='tight')"
   ]
  },
  {
   "cell_type": "markdown",
   "metadata": {},
   "source": [
    "## Important features"
   ]
  },
  {
   "cell_type": "code",
   "execution_count": 29,
   "metadata": {},
   "outputs": [],
   "source": [
    "xs_imp = (path/'xs_imp.pkl').load()\n",
    "valid_xs_imp = (path/'valid_xs_imp.pkl').load()"
   ]
  },
  {
   "cell_type": "code",
   "execution_count": 30,
   "metadata": {},
   "outputs": [
    {
     "name": "stdout",
     "output_type": "stream",
     "text": [
      "Binning 0.043 GB of training data: 0.282 s\n",
      "Binning 0.005 GB of validation data: 0.019 s\n",
      "Fitting gradient boosted rounds:\n",
      "[1/1000] 1 tree, 44 leaves, max depth = 10, train score: 0.84197, val score: 0.81636, in 0.074s\n",
      "[2/1000] 1 tree, 44 leaves, max depth = 9, train score: 0.85760, val score: 0.82561, in 0.089s\n",
      "[3/1000] 1 tree, 44 leaves, max depth = 9, train score: 0.86092, val score: 0.83184, in 0.085s\n",
      "[4/1000] 1 tree, 44 leaves, max depth = 12, train score: 0.86408, val score: 0.84166, in 0.096s\n",
      "[5/1000] 1 tree, 44 leaves, max depth = 11, train score: 0.86431, val score: 0.84492, in 0.091s\n",
      "[6/1000] 1 tree, 44 leaves, max depth = 11, train score: 0.86367, val score: 0.84541, in 0.134s\n",
      "[7/1000] 1 tree, 44 leaves, max depth = 13, train score: 0.86399, val score: 0.84544, in 0.066s\n",
      "[8/1000] 1 tree, 44 leaves, max depth = 12, train score: 0.86431, val score: 0.84450, in 0.061s\n",
      "[9/1000] 1 tree, 44 leaves, max depth = 11, train score: 0.86491, val score: 0.84601, in 0.068s\n",
      "[10/1000] 1 tree, 44 leaves, max depth = 11, train score: 0.86548, val score: 0.84740, in 0.064s\n",
      "[11/1000] 1 tree, 44 leaves, max depth = 11, train score: 0.86625, val score: 0.84798, in 0.065s\n",
      "[12/1000] 1 tree, 44 leaves, max depth = 10, train score: 0.86995, val score: 0.85470, in 0.066s\n",
      "[13/1000] 1 tree, 44 leaves, max depth = 12, train score: 0.87079, val score: 0.85473, in 0.063s\n",
      "[14/1000] 1 tree, 44 leaves, max depth = 11, train score: 0.87215, val score: 0.85548, in 0.065s\n",
      "[15/1000] 1 tree, 44 leaves, max depth = 11, train score: 0.87234, val score: 0.85529, in 0.075s\n",
      "[16/1000] 1 tree, 44 leaves, max depth = 11, train score: 0.87337, val score: 0.85710, in 0.076s\n",
      "[17/1000] 1 tree, 44 leaves, max depth = 12, train score: 0.87385, val score: 0.85733, in 0.083s\n",
      "[18/1000] 1 tree, 44 leaves, max depth = 11, train score: 0.87551, val score: 0.85731, in 0.144s\n",
      "[19/1000] 1 tree, 44 leaves, max depth = 11, train score: 0.87585, val score: 0.85740, in 0.080s\n",
      "[20/1000] 1 tree, 44 leaves, max depth = 12, train score: 0.87674, val score: 0.85835, in 0.066s\n",
      "[21/1000] 1 tree, 44 leaves, max depth = 11, train score: 0.87867, val score: 0.86133, in 0.070s\n",
      "[22/1000] 1 tree, 44 leaves, max depth = 11, train score: 0.88030, val score: 0.86162, in 0.067s\n",
      "[23/1000] 1 tree, 44 leaves, max depth = 10, train score: 0.88182, val score: 0.86157, in 0.070s\n",
      "[24/1000] 1 tree, 44 leaves, max depth = 10, train score: 0.88272, val score: 0.86260, in 0.072s\n",
      "[25/1000] 1 tree, 44 leaves, max depth = 10, train score: 0.88377, val score: 0.86308, in 0.072s\n",
      "[26/1000] 1 tree, 44 leaves, max depth = 10, train score: 0.88442, val score: 0.86340, in 0.069s\n",
      "[27/1000] 1 tree, 44 leaves, max depth = 10, train score: 0.88648, val score: 0.86490, in 0.072s\n",
      "[28/1000] 1 tree, 44 leaves, max depth = 12, train score: 0.88691, val score: 0.86486, in 0.071s\n",
      "[29/1000] 1 tree, 44 leaves, max depth = 9, train score: 0.88869, val score: 0.86498, in 0.080s\n",
      "[30/1000] 1 tree, 44 leaves, max depth = 12, train score: 0.88949, val score: 0.86712, in 0.173s\n",
      "[31/1000] 1 tree, 44 leaves, max depth = 11, train score: 0.89044, val score: 0.86793, in 0.069s\n",
      "[32/1000] 1 tree, 44 leaves, max depth = 11, train score: 0.89158, val score: 0.86853, in 0.069s\n",
      "[33/1000] 1 tree, 44 leaves, max depth = 12, train score: 0.89208, val score: 0.86871, in 0.076s\n",
      "[34/1000] 1 tree, 44 leaves, max depth = 11, train score: 0.89286, val score: 0.86903, in 0.074s\n",
      "[35/1000] 1 tree, 44 leaves, max depth = 12, train score: 0.89447, val score: 0.87017, in 0.077s\n",
      "[36/1000] 1 tree, 44 leaves, max depth = 10, train score: 0.89486, val score: 0.87080, in 0.078s\n",
      "[37/1000] 1 tree, 44 leaves, max depth = 12, train score: 0.89532, val score: 0.87248, in 0.077s\n",
      "[38/1000] 1 tree, 44 leaves, max depth = 14, train score: 0.89626, val score: 0.87287, in 0.074s\n",
      "[39/1000] 1 tree, 44 leaves, max depth = 12, train score: 0.89702, val score: 0.87391, in 0.075s\n",
      "[40/1000] 1 tree, 44 leaves, max depth = 11, train score: 0.89739, val score: 0.87446, in 0.077s\n",
      "[41/1000] 1 tree, 44 leaves, max depth = 10, train score: 0.89837, val score: 0.87417, in 0.076s\n",
      "[42/1000] 1 tree, 44 leaves, max depth = 10, train score: 0.89882, val score: 0.87414, in 0.083s\n",
      "[43/1000] 1 tree, 44 leaves, max depth = 11, train score: 0.89937, val score: 0.87473, in 0.155s\n",
      "[44/1000] 1 tree, 44 leaves, max depth = 10, train score: 0.90001, val score: 0.87521, in 0.234s\n",
      "[45/1000] 1 tree, 44 leaves, max depth = 12, train score: 0.90100, val score: 0.87607, in 0.073s\n",
      "[46/1000] 1 tree, 44 leaves, max depth = 12, train score: 0.90143, val score: 0.87620, in 0.087s\n",
      "[47/1000] 1 tree, 44 leaves, max depth = 12, train score: 0.90178, val score: 0.87676, in 0.087s\n",
      "[48/1000] 1 tree, 44 leaves, max depth = 12, train score: 0.90326, val score: 0.87702, in 0.078s\n",
      "[49/1000] 1 tree, 44 leaves, max depth = 10, train score: 0.90368, val score: 0.87698, in 0.092s\n",
      "[50/1000] 1 tree, 44 leaves, max depth = 11, train score: 0.90420, val score: 0.87679, in 0.080s\n",
      "[51/1000] 1 tree, 44 leaves, max depth = 13, train score: 0.90471, val score: 0.87729, in 0.078s\n",
      "[52/1000] 1 tree, 44 leaves, max depth = 12, train score: 0.90518, val score: 0.87805, in 0.086s\n",
      "[53/1000] 1 tree, 44 leaves, max depth = 13, train score: 0.90580, val score: 0.87840, in 0.085s\n",
      "[54/1000] 1 tree, 44 leaves, max depth = 11, train score: 0.90650, val score: 0.87887, in 0.124s\n",
      "[55/1000] 1 tree, 44 leaves, max depth = 12, train score: 0.90679, val score: 0.87932, in 0.092s\n",
      "[56/1000] 1 tree, 44 leaves, max depth = 14, train score: 0.90729, val score: 0.87975, in 0.155s\n",
      "[57/1000] 1 tree, 44 leaves, max depth = 12, train score: 0.90888, val score: 0.87985, in 0.082s\n",
      "[58/1000] 1 tree, 44 leaves, max depth = 10, train score: 0.90936, val score: 0.88006, in 0.081s\n",
      "[59/1000] 1 tree, 44 leaves, max depth = 11, train score: 0.91020, val score: 0.88065, in 0.084s\n",
      "[60/1000] 1 tree, 44 leaves, max depth = 12, train score: 0.91143, val score: 0.88075, in 0.084s\n",
      "[61/1000] 1 tree, 44 leaves, max depth = 17, train score: 0.91219, val score: 0.88141, in 0.085s\n",
      "[62/1000] 1 tree, 44 leaves, max depth = 11, train score: 0.91257, val score: 0.88121, in 0.083s\n",
      "[63/1000] 1 tree, 44 leaves, max depth = 11, train score: 0.91319, val score: 0.88244, in 0.087s\n",
      "[64/1000] 1 tree, 44 leaves, max depth = 12, train score: 0.91370, val score: 0.88273, in 0.083s\n",
      "[65/1000] 1 tree, 44 leaves, max depth = 11, train score: 0.91421, val score: 0.88366, in 0.086s\n",
      "[66/1000] 1 tree, 44 leaves, max depth = 12, train score: 0.91503, val score: 0.88423, in 0.087s\n",
      "[67/1000] 1 tree, 44 leaves, max depth = 11, train score: 0.91690, val score: 0.88498, in 0.085s\n",
      "[68/1000] 1 tree, 44 leaves, max depth = 10, train score: 0.91711, val score: 0.88551, in 0.163s\n",
      "[69/1000] 1 tree, 44 leaves, max depth = 13, train score: 0.91760, val score: 0.88558, in 0.083s\n",
      "[70/1000] 1 tree, 44 leaves, max depth = 14, train score: 0.91966, val score: 0.88681, in 0.089s\n",
      "[71/1000] 1 tree, 44 leaves, max depth = 13, train score: 0.92029, val score: 0.88776, in 0.088s\n",
      "[72/1000] 1 tree, 44 leaves, max depth = 12, train score: 0.92167, val score: 0.88820, in 0.089s\n",
      "[73/1000] 1 tree, 44 leaves, max depth = 12, train score: 0.92230, val score: 0.88852, in 0.087s\n",
      "[74/1000] 1 tree, 44 leaves, max depth = 11, train score: 0.92277, val score: 0.88877, in 0.092s\n",
      "[75/1000] 1 tree, 44 leaves, max depth = 15, train score: 0.92365, val score: 0.88947, in 0.113s\n",
      "[76/1000] 1 tree, 44 leaves, max depth = 16, train score: 0.92398, val score: 0.88941, in 0.130s\n",
      "[77/1000] 1 tree, 44 leaves, max depth = 12, train score: 0.92561, val score: 0.89017, in 0.090s\n",
      "[78/1000] 1 tree, 44 leaves, max depth = 11, train score: 0.92622, val score: 0.89021, in 0.098s\n",
      "[79/1000] 1 tree, 44 leaves, max depth = 14, train score: 0.92663, val score: 0.89035, in 0.092s\n",
      "[80/1000] 1 tree, 44 leaves, max depth = 12, train score: 0.92761, val score: 0.89067, in 0.089s\n",
      "[81/1000] 1 tree, 44 leaves, max depth = 12, train score: 0.92818, val score: 0.89136, in 0.158s\n",
      "[82/1000] 1 tree, 44 leaves, max depth = 11, train score: 0.92929, val score: 0.89156, in 0.090s\n",
      "[83/1000] 1 tree, 44 leaves, max depth = 11, train score: 0.93027, val score: 0.89198, in 0.095s\n",
      "[84/1000] 1 tree, 44 leaves, max depth = 11, train score: 0.93041, val score: 0.89231, in 0.095s\n"
     ]
    },
    {
     "name": "stdout",
     "output_type": "stream",
     "text": [
      "[85/1000] 1 tree, 44 leaves, max depth = 13, train score: 0.93089, val score: 0.89297, in 0.095s\n",
      "[86/1000] 1 tree, 44 leaves, max depth = 13, train score: 0.93139, val score: 0.89314, in 0.145s\n",
      "[87/1000] 1 tree, 44 leaves, max depth = 12, train score: 0.93194, val score: 0.89339, in 0.115s\n",
      "[88/1000] 1 tree, 44 leaves, max depth = 15, train score: 0.93217, val score: 0.89315, in 0.095s\n",
      "[89/1000] 1 tree, 44 leaves, max depth = 12, train score: 0.93249, val score: 0.89329, in 0.093s\n",
      "[90/1000] 1 tree, 44 leaves, max depth = 14, train score: 0.93325, val score: 0.89366, in 0.095s\n",
      "[91/1000] 1 tree, 44 leaves, max depth = 11, train score: 0.93389, val score: 0.89398, in 0.094s\n",
      "[92/1000] 1 tree, 44 leaves, max depth = 15, train score: 0.93419, val score: 0.89450, in 0.096s\n",
      "[93/1000] 1 tree, 44 leaves, max depth = 13, train score: 0.93494, val score: 0.89477, in 0.168s\n",
      "[94/1000] 1 tree, 44 leaves, max depth = 11, train score: 0.93572, val score: 0.89542, in 0.097s\n",
      "[95/1000] 1 tree, 44 leaves, max depth = 16, train score: 0.93614, val score: 0.89554, in 0.091s\n",
      "[96/1000] 1 tree, 44 leaves, max depth = 11, train score: 0.93701, val score: 0.89598, in 0.092s\n",
      "[97/1000] 1 tree, 44 leaves, max depth = 11, train score: 0.93746, val score: 0.89611, in 0.123s\n",
      "[98/1000] 1 tree, 44 leaves, max depth = 13, train score: 0.93826, val score: 0.89674, in 0.101s\n",
      "[99/1000] 1 tree, 44 leaves, max depth = 12, train score: 0.93886, val score: 0.89693, in 0.096s\n",
      "[100/1000] 1 tree, 44 leaves, max depth = 11, train score: 0.93942, val score: 0.89729, in 0.097s\n",
      "[101/1000] 1 tree, 44 leaves, max depth = 11, train score: 0.93980, val score: 0.89721, in 0.096s\n",
      "[102/1000] 1 tree, 44 leaves, max depth = 11, train score: 0.94033, val score: 0.89767, in 0.133s\n",
      "[103/1000] 1 tree, 44 leaves, max depth = 13, train score: 0.94085, val score: 0.89789, in 0.092s\n",
      "[104/1000] 1 tree, 44 leaves, max depth = 10, train score: 0.94129, val score: 0.89798, in 0.093s\n",
      "[105/1000] 1 tree, 44 leaves, max depth = 13, train score: 0.94180, val score: 0.89904, in 0.094s\n",
      "[106/1000] 1 tree, 44 leaves, max depth = 14, train score: 0.94220, val score: 0.89927, in 0.157s\n",
      "[107/1000] 1 tree, 44 leaves, max depth = 12, train score: 0.94283, val score: 0.89952, in 0.089s\n",
      "[108/1000] 1 tree, 44 leaves, max depth = 13, train score: 0.94314, val score: 0.90006, in 0.089s\n",
      "[109/1000] 1 tree, 44 leaves, max depth = 14, train score: 0.94381, val score: 0.90034, in 0.092s\n",
      "[110/1000] 1 tree, 44 leaves, max depth = 15, train score: 0.94436, val score: 0.90054, in 0.092s\n",
      "[111/1000] 1 tree, 44 leaves, max depth = 10, train score: 0.94473, val score: 0.90047, in 0.091s\n",
      "[112/1000] 1 tree, 44 leaves, max depth = 12, train score: 0.94520, val score: 0.90051, in 0.095s\n",
      "[113/1000] 1 tree, 44 leaves, max depth = 14, train score: 0.94588, val score: 0.90066, in 0.095s\n",
      "[114/1000] 1 tree, 44 leaves, max depth = 11, train score: 0.94650, val score: 0.90087, in 0.094s\n",
      "[115/1000] 1 tree, 44 leaves, max depth = 15, train score: 0.94694, val score: 0.90087, in 0.098s\n",
      "[116/1000] 1 tree, 44 leaves, max depth = 13, train score: 0.94738, val score: 0.90098, in 0.096s\n",
      "[117/1000] 1 tree, 44 leaves, max depth = 17, train score: 0.94774, val score: 0.90120, in 0.118s\n",
      "[118/1000] 1 tree, 44 leaves, max depth = 12, train score: 0.94826, val score: 0.90159, in 0.188s\n",
      "[119/1000] 1 tree, 44 leaves, max depth = 13, train score: 0.94877, val score: 0.90139, in 0.148s\n",
      "[120/1000] 1 tree, 44 leaves, max depth = 16, train score: 0.94926, val score: 0.90166, in 0.117s\n",
      "[121/1000] 1 tree, 44 leaves, max depth = 16, train score: 0.94956, val score: 0.90170, in 0.119s\n",
      "[122/1000] 1 tree, 44 leaves, max depth = 15, train score: 0.94978, val score: 0.90197, in 0.117s\n",
      "[123/1000] 1 tree, 44 leaves, max depth = 13, train score: 0.95011, val score: 0.90223, in 0.163s\n",
      "[124/1000] 1 tree, 44 leaves, max depth = 12, train score: 0.95046, val score: 0.90247, in 0.169s\n",
      "[125/1000] 1 tree, 44 leaves, max depth = 18, train score: 0.95075, val score: 0.90251, in 0.183s\n",
      "[126/1000] 1 tree, 44 leaves, max depth = 14, train score: 0.95098, val score: 0.90287, in 0.120s\n",
      "[127/1000] 1 tree, 44 leaves, max depth = 17, train score: 0.95149, val score: 0.90290, in 0.135s\n",
      "[128/1000] 1 tree, 44 leaves, max depth = 17, train score: 0.95202, val score: 0.90336, in 0.129s\n",
      "[129/1000] 1 tree, 44 leaves, max depth = 14, train score: 0.95247, val score: 0.90363, in 0.135s\n",
      "[130/1000] 1 tree, 44 leaves, max depth = 14, train score: 0.95273, val score: 0.90372, in 0.137s\n",
      "[131/1000] 1 tree, 44 leaves, max depth = 17, train score: 0.95292, val score: 0.90366, in 0.149s\n",
      "[132/1000] 1 tree, 44 leaves, max depth = 11, train score: 0.95333, val score: 0.90387, in 0.112s\n",
      "[133/1000] 1 tree, 44 leaves, max depth = 13, train score: 0.95381, val score: 0.90373, in 0.114s\n",
      "[134/1000] 1 tree, 44 leaves, max depth = 20, train score: 0.95408, val score: 0.90364, in 0.114s\n",
      "[135/1000] 1 tree, 44 leaves, max depth = 16, train score: 0.95441, val score: 0.90329, in 0.121s\n",
      "[136/1000] 1 tree, 44 leaves, max depth = 18, train score: 0.95484, val score: 0.90318, in 0.115s\n",
      "[137/1000] 1 tree, 44 leaves, max depth = 11, train score: 0.95502, val score: 0.90343, in 0.121s\n",
      "[138/1000] 1 tree, 44 leaves, max depth = 18, train score: 0.95528, val score: 0.90316, in 0.135s\n",
      "[139/1000] 1 tree, 44 leaves, max depth = 15, train score: 0.95555, val score: 0.90321, in 0.131s\n",
      "[140/1000] 1 tree, 44 leaves, max depth = 14, train score: 0.95582, val score: 0.90325, in 0.121s\n",
      "[141/1000] 1 tree, 44 leaves, max depth = 17, train score: 0.95615, val score: 0.90310, in 0.136s\n",
      "[142/1000] 1 tree, 44 leaves, max depth = 14, train score: 0.95641, val score: 0.90285, in 0.143s\n",
      "Fit 142 trees in 14.870 s, (6248 total leaves)\n",
      "Time spent computing histograms: 5.896s\n",
      "Time spent finding best splits:  1.604s\n",
      "Time spent applying splits:      1.612s\n",
      "Time spent predicting:           0.026s\n",
      "Train_AROC: 0.9535489296883685\n",
      "Valid_AROC: 0.8744555360342604\n",
      "CPU times: user 1min 26s, sys: 16.8 s, total: 1min 43s\n",
      "Wall time: 15.4 s\n"
     ]
    }
   ],
   "source": [
    "%%time\n",
    "m = HistGradientBoostingClassifier(loss='binary_crossentropy', verbose=1, l2_regularization=2.4,\n",
    "                             learning_rate=0.03, max_depth=25, max_iter=1000, max_leaf_nodes=44,\n",
    "                             min_samples_leaf=8,  scoring='roc_auc', tol=1e-8)\n",
    "_, _, baseline_prob, baseline_pred = fit(m)"
   ]
  },
  {
   "cell_type": "markdown",
   "metadata": {},
   "source": [
    "### Hyperparameter tuning"
   ]
  },
  {
   "cell_type": "markdown",
   "metadata": {},
   "source": [
    "Hyperparameters were tuned interatively using GridSearchCV. Only the final results are displayed in the notenbook."
   ]
  },
  {
   "cell_type": "markdown",
   "metadata": {},
   "source": [
    "To speed up the grid search let's randomly sample 10% of our data (which is already a simple random sample of 10% of the original dataset)."
   ]
  },
  {
   "cell_type": "code",
   "execution_count": 24,
   "metadata": {},
   "outputs": [
    {
     "data": {
      "text/plain": [
       "((48491, 61), (48491,), (10563, 61), (10563,))"
      ]
     },
     "execution_count": 24,
     "metadata": {},
     "output_type": "execute_result"
    }
   ],
   "source": [
    "xs_imp.shape, y.shape, valid_xs_imp.shape, valid_y.shape"
   ]
  },
  {
   "cell_type": "code",
   "execution_count": 75,
   "metadata": {},
   "outputs": [],
   "source": [
    "parameters1 = {\n",
    " 'max_depth': [15],\n",
    " 'random_state': [33],\n",
    " }"
   ]
  },
  {
   "cell_type": "code",
   "execution_count": 93,
   "metadata": {},
   "outputs": [],
   "source": [
    "parameters2 = {\n",
    " 'max_depth': [15],\n",
    " 'learning_rate': [0.1],\n",
    " 'random_state': [33],\n",
    " }"
   ]
  },
  {
   "cell_type": "code",
   "execution_count": 132,
   "metadata": {},
   "outputs": [],
   "source": [
    "parameters3 = {\n",
    " 'max_depth': [15],\n",
    " 'learning_rate': [0.1], \n",
    " 'l2_regularization': [4.0],\n",
    " 'random_state': [33],\n",
    " }"
   ]
  },
  {
   "cell_type": "code",
   "execution_count": 149,
   "metadata": {},
   "outputs": [],
   "source": [
    "parameters4 = {\n",
    " 'max_depth': [15],\n",
    " 'learning_rate': [0.1], \n",
    " 'l2_regularization': [4.0],\n",
    " 'min_samples_leaf': [20],\n",
    " 'random_state': [33],\n",
    " }"
   ]
  },
  {
   "cell_type": "code",
   "execution_count": 159,
   "metadata": {},
   "outputs": [],
   "source": [
    "parameters5 = {\n",
    " 'max_depth': [15],\n",
    " 'learning_rate': [0.1], \n",
    " 'l2_regularization': [4.0],\n",
    " 'min_samples_leaf': [20],\n",
    " 'max_leaf_nodes': [31],\n",
    " 'random_state': [33],\n",
    " }"
   ]
  },
  {
   "cell_type": "code",
   "execution_count": 175,
   "metadata": {},
   "outputs": [],
   "source": [
    "parameters6 = {\n",
    " 'max_depth': [15],\n",
    " 'learning_rate': [0.1], \n",
    " 'l2_regularization': [4.0],\n",
    " 'min_samples_leaf': [20],\n",
    " 'max_leaf_nodes': [31],\n",
    " 'tol': [1e-8]\n",
    " 'random_state': [33],\n",
    " }"
   ]
  },
  {
   "cell_type": "code",
   "execution_count": 176,
   "metadata": {},
   "outputs": [],
   "source": [
    "clf = GridSearchCV(HistGradientBoostingClassifier(loss='binary_crossentropy', max_iter=1000, \n",
    "                                                  scoring='roc_auc', tol=1e-8), parameters6, \n",
    "                   scoring=make_scorer(roc_auc_score, needs_proba=True), n_jobs=-1, cv=3,\n",
    "                   verbose=3)"
   ]
  },
  {
   "cell_type": "code",
   "execution_count": 177,
   "metadata": {},
   "outputs": [
    {
     "name": "stdout",
     "output_type": "stream",
     "text": [
      "Fitting 3 folds for each of 4 candidates, totalling 12 fits\n"
     ]
    },
    {
     "name": "stderr",
     "output_type": "stream",
     "text": [
      "[Parallel(n_jobs=-1)]: Using backend LokyBackend with 8 concurrent workers.\n",
      "[Parallel(n_jobs=-1)]: Done   2 out of  12 | elapsed:  2.6min remaining: 12.8min\n",
      "[Parallel(n_jobs=-1)]: Done   7 out of  12 | elapsed:  4.7min remaining:  3.4min\n",
      "[Parallel(n_jobs=-1)]: Done  12 out of  12 | elapsed:  5.9min remaining:    0.0s\n",
      "[Parallel(n_jobs=-1)]: Done  12 out of  12 | elapsed:  5.9min finished\n"
     ]
    },
    {
     "name": "stdout",
     "output_type": "stream",
     "text": [
      "CPU times: user 3min 45s, sys: 1min 27s, total: 5min 13s\n",
      "Wall time: 6min 48s\n"
     ]
    },
    {
     "data": {
      "text/plain": [
       "(HistGradientBoostingClassifier(l2_regularization=4.0,\n",
       "                                loss='binary_crossentropy', max_depth=15,\n",
       "                                max_iter=1000, random_state=33,\n",
       "                                scoring='roc_auc', tol=1e-08),\n",
       " 0.8963061409318414,\n",
       " {'l2_regularization': 4.0,\n",
       "  'learning_rate': 0.1,\n",
       "  'max_depth': 15,\n",
       "  'max_leaf_nodes': 31,\n",
       "  'min_samples_leaf': 20,\n",
       "  'random_state': 33,\n",
       "  'tol': 1e-08})"
      ]
     },
     "execution_count": 177,
     "metadata": {},
     "output_type": "execute_result"
    }
   ],
   "source": [
    "%%time\n",
    "clf.fit(xs, y)\n",
    "clf.best_estimator_, clf.best_score_, clf.best_params_"
   ]
  },
  {
   "cell_type": "code",
   "execution_count": 25,
   "metadata": {},
   "outputs": [
    {
     "name": "stdout",
     "output_type": "stream",
     "text": [
      "Binning 0.043 GB of training data: 0.289 s\n",
      "Binning 0.005 GB of validation data: 0.029 s\n",
      "Fitting gradient boosted rounds:\n",
      "[1/1000] 1 tree, 31 leaves, max depth = 10, train score: 0.82933, val score: 0.82698, in 0.062s\n",
      "[2/1000] 1 tree, 31 leaves, max depth = 11, train score: 0.84590, val score: 0.85051, in 0.067s\n",
      "[3/1000] 1 tree, 31 leaves, max depth = 11, train score: 0.84719, val score: 0.85282, in 0.066s\n",
      "[4/1000] 1 tree, 31 leaves, max depth = 9, train score: 0.85027, val score: 0.85531, in 0.069s\n",
      "[5/1000] 1 tree, 31 leaves, max depth = 9, train score: 0.86926, val score: 0.87443, in 0.068s\n",
      "[6/1000] 1 tree, 31 leaves, max depth = 10, train score: 0.87274, val score: 0.87438, in 0.069s\n",
      "[7/1000] 1 tree, 31 leaves, max depth = 8, train score: 0.87440, val score: 0.87288, in 0.073s\n",
      "[8/1000] 1 tree, 31 leaves, max depth = 8, train score: 0.88008, val score: 0.88139, in 0.073s\n",
      "[9/1000] 1 tree, 31 leaves, max depth = 9, train score: 0.88726, val score: 0.88774, in 0.097s\n",
      "[10/1000] 1 tree, 31 leaves, max depth = 10, train score: 0.89024, val score: 0.88855, in 0.082s\n",
      "[11/1000] 1 tree, 31 leaves, max depth = 10, train score: 0.89203, val score: 0.89054, in 0.079s\n",
      "[12/1000] 1 tree, 31 leaves, max depth = 10, train score: 0.89406, val score: 0.89228, in 0.075s\n",
      "[13/1000] 1 tree, 31 leaves, max depth = 10, train score: 0.89479, val score: 0.89570, in 0.073s\n",
      "[14/1000] 1 tree, 31 leaves, max depth = 10, train score: 0.89612, val score: 0.89686, in 0.074s\n",
      "[15/1000] 1 tree, 31 leaves, max depth = 10, train score: 0.89660, val score: 0.89607, in 0.074s\n",
      "[16/1000] 1 tree, 31 leaves, max depth = 12, train score: 0.89899, val score: 0.89779, in 0.074s\n",
      "[17/1000] 1 tree, 31 leaves, max depth = 9, train score: 0.90121, val score: 0.89750, in 0.076s\n",
      "[18/1000] 1 tree, 31 leaves, max depth = 11, train score: 0.90319, val score: 0.89695, in 0.079s\n",
      "[19/1000] 1 tree, 31 leaves, max depth = 9, train score: 0.90536, val score: 0.89536, in 0.083s\n",
      "[20/1000] 1 tree, 31 leaves, max depth = 10, train score: 0.90697, val score: 0.89412, in 0.079s\n",
      "[21/1000] 1 tree, 31 leaves, max depth = 10, train score: 0.90830, val score: 0.89536, in 0.077s\n",
      "[22/1000] 1 tree, 31 leaves, max depth = 11, train score: 0.91016, val score: 0.89646, in 0.094s\n",
      "[23/1000] 1 tree, 31 leaves, max depth = 12, train score: 0.91131, val score: 0.89781, in 0.088s\n",
      "[24/1000] 1 tree, 31 leaves, max depth = 9, train score: 0.91257, val score: 0.89719, in 0.080s\n",
      "[25/1000] 1 tree, 31 leaves, max depth = 11, train score: 0.91493, val score: 0.89886, in 0.085s\n",
      "[26/1000] 1 tree, 31 leaves, max depth = 10, train score: 0.91559, val score: 0.89771, in 0.082s\n",
      "[27/1000] 1 tree, 31 leaves, max depth = 12, train score: 0.91596, val score: 0.89846, in 0.084s\n",
      "[28/1000] 1 tree, 31 leaves, max depth = 12, train score: 0.91725, val score: 0.89861, in 0.140s\n",
      "[29/1000] 1 tree, 31 leaves, max depth = 11, train score: 0.91819, val score: 0.89924, in 0.078s\n",
      "[30/1000] 1 tree, 31 leaves, max depth = 12, train score: 0.91975, val score: 0.90047, in 0.082s\n",
      "[31/1000] 1 tree, 31 leaves, max depth = 11, train score: 0.92073, val score: 0.90003, in 0.084s\n",
      "[32/1000] 1 tree, 31 leaves, max depth = 11, train score: 0.92297, val score: 0.90011, in 0.087s\n",
      "[33/1000] 1 tree, 31 leaves, max depth = 11, train score: 0.92389, val score: 0.90040, in 0.084s\n",
      "[34/1000] 1 tree, 31 leaves, max depth = 14, train score: 0.92587, val score: 0.90157, in 0.086s\n",
      "[35/1000] 1 tree, 31 leaves, max depth = 13, train score: 0.92767, val score: 0.90250, in 0.139s\n",
      "[36/1000] 1 tree, 31 leaves, max depth = 12, train score: 0.92954, val score: 0.90270, in 0.098s\n",
      "[37/1000] 1 tree, 31 leaves, max depth = 11, train score: 0.93026, val score: 0.90265, in 0.092s\n",
      "[38/1000] 1 tree, 31 leaves, max depth = 10, train score: 0.93098, val score: 0.90428, in 0.098s\n",
      "[39/1000] 1 tree, 31 leaves, max depth = 13, train score: 0.93155, val score: 0.90411, in 0.090s\n",
      "[40/1000] 1 tree, 31 leaves, max depth = 14, train score: 0.93267, val score: 0.90416, in 0.099s\n",
      "[41/1000] 1 tree, 31 leaves, max depth = 14, train score: 0.93330, val score: 0.90491, in 0.096s\n",
      "[42/1000] 1 tree, 31 leaves, max depth = 12, train score: 0.93353, val score: 0.90500, in 0.091s\n",
      "[43/1000] 1 tree, 31 leaves, max depth = 12, train score: 0.93496, val score: 0.90512, in 0.091s\n",
      "[44/1000] 1 tree, 31 leaves, max depth = 15, train score: 0.93651, val score: 0.90629, in 0.093s\n",
      "[45/1000] 1 tree, 31 leaves, max depth = 9, train score: 0.93739, val score: 0.90629, in 0.092s\n",
      "[46/1000] 1 tree, 31 leaves, max depth = 10, train score: 0.93816, val score: 0.90603, in 0.093s\n",
      "[47/1000] 1 tree, 31 leaves, max depth = 13, train score: 0.93899, val score: 0.90591, in 0.094s\n",
      "[48/1000] 1 tree, 31 leaves, max depth = 12, train score: 0.93919, val score: 0.90615, in 0.153s\n",
      "[49/1000] 1 tree, 31 leaves, max depth = 11, train score: 0.94034, val score: 0.90639, in 0.084s\n",
      "[50/1000] 1 tree, 31 leaves, max depth = 11, train score: 0.94099, val score: 0.90702, in 0.095s\n",
      "[51/1000] 1 tree, 31 leaves, max depth = 10, train score: 0.94126, val score: 0.90681, in 0.098s\n",
      "[52/1000] 1 tree, 31 leaves, max depth = 15, train score: 0.94195, val score: 0.90674, in 0.093s\n",
      "[53/1000] 1 tree, 31 leaves, max depth = 9, train score: 0.94294, val score: 0.90688, in 0.092s\n",
      "[54/1000] 1 tree, 31 leaves, max depth = 10, train score: 0.94341, val score: 0.90713, in 0.093s\n",
      "[55/1000] 1 tree, 31 leaves, max depth = 9, train score: 0.94379, val score: 0.90722, in 0.091s\n",
      "[56/1000] 1 tree, 31 leaves, max depth = 12, train score: 0.94424, val score: 0.90723, in 0.093s\n",
      "[57/1000] 1 tree, 31 leaves, max depth = 12, train score: 0.94469, val score: 0.90835, in 0.094s\n",
      "[58/1000] 1 tree, 31 leaves, max depth = 12, train score: 0.94530, val score: 0.90841, in 0.099s\n",
      "[59/1000] 1 tree, 31 leaves, max depth = 15, train score: 0.94559, val score: 0.90903, in 0.091s\n",
      "[60/1000] 1 tree, 31 leaves, max depth = 13, train score: 0.94631, val score: 0.90997, in 0.099s\n",
      "[61/1000] 1 tree, 31 leaves, max depth = 9, train score: 0.94678, val score: 0.90985, in 0.094s\n",
      "[62/1000] 1 tree, 31 leaves, max depth = 9, train score: 0.94768, val score: 0.91005, in 0.096s\n",
      "[63/1000] 1 tree, 31 leaves, max depth = 12, train score: 0.94801, val score: 0.91012, in 0.099s\n",
      "[64/1000] 1 tree, 31 leaves, max depth = 13, train score: 0.94839, val score: 0.91017, in 0.098s\n",
      "[65/1000] 1 tree, 31 leaves, max depth = 13, train score: 0.94871, val score: 0.90971, in 0.214s\n",
      "[66/1000] 1 tree, 31 leaves, max depth = 11, train score: 0.94919, val score: 0.91013, in 0.093s\n",
      "[67/1000] 1 tree, 31 leaves, max depth = 10, train score: 0.95026, val score: 0.91006, in 0.178s\n",
      "[68/1000] 1 tree, 31 leaves, max depth = 9, train score: 0.95113, val score: 0.91016, in 0.159s\n",
      "[69/1000] 1 tree, 31 leaves, max depth = 13, train score: 0.95207, val score: 0.91011, in 0.093s\n",
      "[70/1000] 1 tree, 31 leaves, max depth = 14, train score: 0.95262, val score: 0.91094, in 0.097s\n",
      "[71/1000] 1 tree, 31 leaves, max depth = 10, train score: 0.95280, val score: 0.91139, in 0.098s\n",
      "[72/1000] 1 tree, 31 leaves, max depth = 13, train score: 0.95337, val score: 0.91168, in 0.099s\n",
      "[73/1000] 1 tree, 31 leaves, max depth = 9, train score: 0.95418, val score: 0.91163, in 0.094s\n",
      "[74/1000] 1 tree, 31 leaves, max depth = 15, train score: 0.95468, val score: 0.91172, in 0.097s\n",
      "[75/1000] 1 tree, 31 leaves, max depth = 11, train score: 0.95489, val score: 0.91188, in 0.098s\n",
      "[76/1000] 1 tree, 31 leaves, max depth = 12, train score: 0.95545, val score: 0.91184, in 0.097s\n",
      "[77/1000] 1 tree, 31 leaves, max depth = 13, train score: 0.95627, val score: 0.91156, in 0.101s\n",
      "[78/1000] 1 tree, 31 leaves, max depth = 10, train score: 0.95657, val score: 0.91131, in 0.101s\n",
      "[79/1000] 1 tree, 31 leaves, max depth = 8, train score: 0.95714, val score: 0.91117, in 0.098s\n",
      "[80/1000] 1 tree, 31 leaves, max depth = 10, train score: 0.95747, val score: 0.91141, in 0.097s\n",
      "[81/1000] 1 tree, 31 leaves, max depth = 9, train score: 0.95816, val score: 0.91114, in 0.100s\n",
      "[82/1000] 1 tree, 31 leaves, max depth = 12, train score: 0.95864, val score: 0.91138, in 0.105s\n",
      "[83/1000] 1 tree, 31 leaves, max depth = 14, train score: 0.95919, val score: 0.91103, in 0.106s\n",
      "[84/1000] 1 tree, 31 leaves, max depth = 13, train score: 0.95934, val score: 0.91120, in 0.100s\n"
     ]
    },
    {
     "name": "stdout",
     "output_type": "stream",
     "text": [
      "[85/1000] 1 tree, 31 leaves, max depth = 12, train score: 0.96003, val score: 0.91114, in 0.101s\n",
      "Fit 85 trees in 8.482 s, (2635 total leaves)\n",
      "Time spent computing histograms: 3.120s\n",
      "Time spent finding best splits:  0.869s\n",
      "Time spent applying splits:      1.059s\n",
      "Time spent predicting:           0.018s\n",
      "CPU times: user 49.5 s, sys: 8.11 s, total: 57.6 s\n",
      "Wall time: 8.75 s\n"
     ]
    },
    {
     "data": {
      "text/plain": [
       "(0.9594442623062389, 0.8774343230957548)"
      ]
     },
     "execution_count": 25,
     "metadata": {},
     "output_type": "execute_result"
    }
   ],
   "source": [
    "%%time\n",
    "clf = HistGradientBoostingClassifier(loss='binary_crossentropy', verbose=1,\n",
    "                                    max_iter=1000, scoring='roc_auc',\n",
    "                                    max_depth=15, learning_rate=0.1,\n",
    "                                    l2_regularization=4.0)\n",
    "clf.fit(xs,y)\n",
    "m_roc(y, xs), m_roc(valid_y, valid_xs)"
   ]
  },
  {
   "cell_type": "markdown",
   "metadata": {
    "heading_collapsed": true
   },
   "source": [
    "### Including the V*** columns"
   ]
  },
  {
   "cell_type": "code",
   "execution_count": 194,
   "metadata": {
    "hidden": true
   },
   "outputs": [],
   "source": [
    "to = (path/'to_full.pkl').load()\n",
    "\n",
    "xs, y             = to.train.xs, to.train.y\n",
    "valid_xs, valid_y = to.valid.xs, to.valid.y"
   ]
  },
  {
   "cell_type": "code",
   "execution_count": 195,
   "metadata": {
    "hidden": true
   },
   "outputs": [],
   "source": [
    "cats = ['ProductCD', 'card1', 'card2', 'card3', 'card4', 'card5', 'card6', \n",
    "       'addr1', 'addr2', 'P_emaildomain', 'R_emaildomain', 'M1', 'M2', 'M3', \n",
    "       'M4', 'M5', 'M6', 'M7', 'M8', 'M9', 'DeviceType', 'DeviceInfo', 'id_12', \n",
    "       'id_13', 'id_14', 'id_15', 'id_16', 'id_17', 'id_18', 'id_19', 'id_20', \n",
    "       'id_21', 'id_22', 'id_23', 'id_24', 'id_25', 'id_26', 'id_27', 'id_28', \n",
    "       'id_29', 'id_30', 'id_31', 'id_32', 'id_33', 'id_34', 'id_35', 'id_36',\n",
    "       'id_37', 'id_38']\n",
    "\n",
    "for cat in cats:\n",
    "    to[cat] = to[cat].astype('category')"
   ]
  },
  {
   "cell_type": "code",
   "execution_count": 196,
   "metadata": {
    "hidden": true,
    "scrolled": true
   },
   "outputs": [
    {
     "name": "stdout",
     "output_type": "stream",
     "text": [
      "Binning 0.279 GB of training data: 1.745 s\n",
      "Binning 0.031 GB of validation data: 0.042 s\n",
      "Fitting gradient boosted rounds:\n",
      "[1/1000] 1 tree, 31 leaves, max depth = 11, train score: 0.84101, val score: 0.85701, in 0.156s\n",
      "[2/1000] 1 tree, 31 leaves, max depth = 8, train score: 0.86369, val score: 0.87599, in 0.177s\n",
      "[3/1000] 1 tree, 31 leaves, max depth = 9, train score: 0.86724, val score: 0.87988, in 0.157s\n",
      "[4/1000] 1 tree, 31 leaves, max depth = 11, train score: 0.87065, val score: 0.88631, in 0.183s\n",
      "[5/1000] 1 tree, 31 leaves, max depth = 9, train score: 0.87563, val score: 0.89064, in 0.162s\n",
      "[6/1000] 1 tree, 31 leaves, max depth = 9, train score: 0.87965, val score: 0.89242, in 0.225s\n",
      "[7/1000] 1 tree, 31 leaves, max depth = 9, train score: 0.88089, val score: 0.89431, in 0.253s\n",
      "[8/1000] 1 tree, 31 leaves, max depth = 11, train score: 0.88305, val score: 0.89610, in 0.255s\n",
      "[9/1000] 1 tree, 31 leaves, max depth = 10, train score: 0.88634, val score: 0.89780, in 0.227s\n",
      "[10/1000] 1 tree, 31 leaves, max depth = 8, train score: 0.88935, val score: 0.90069, in 0.295s\n",
      "[11/1000] 1 tree, 31 leaves, max depth = 10, train score: 0.89110, val score: 0.90406, in 0.301s\n",
      "[12/1000] 1 tree, 31 leaves, max depth = 11, train score: 0.89389, val score: 0.90334, in 0.228s\n",
      "[13/1000] 1 tree, 31 leaves, max depth = 13, train score: 0.89514, val score: 0.90388, in 0.264s\n",
      "[14/1000] 1 tree, 31 leaves, max depth = 9, train score: 0.89590, val score: 0.90411, in 0.308s\n",
      "[15/1000] 1 tree, 31 leaves, max depth = 11, train score: 0.89754, val score: 0.90563, in 0.513s\n",
      "[16/1000] 1 tree, 31 leaves, max depth = 12, train score: 0.89962, val score: 0.90655, in 0.181s\n",
      "[17/1000] 1 tree, 31 leaves, max depth = 10, train score: 0.89965, val score: 0.90761, in 0.198s\n",
      "[18/1000] 1 tree, 31 leaves, max depth = 11, train score: 0.90265, val score: 0.90838, in 0.195s\n",
      "[19/1000] 1 tree, 31 leaves, max depth = 11, train score: 0.90390, val score: 0.90948, in 0.182s\n",
      "[20/1000] 1 tree, 31 leaves, max depth = 15, train score: 0.90468, val score: 0.91003, in 0.209s\n",
      "[21/1000] 1 tree, 31 leaves, max depth = 15, train score: 0.90748, val score: 0.91018, in 0.183s\n",
      "[22/1000] 1 tree, 31 leaves, max depth = 11, train score: 0.90842, val score: 0.91158, in 0.209s\n",
      "[23/1000] 1 tree, 31 leaves, max depth = 11, train score: 0.91012, val score: 0.91349, in 0.208s\n",
      "[24/1000] 1 tree, 31 leaves, max depth = 11, train score: 0.91140, val score: 0.91376, in 0.363s\n",
      "[25/1000] 1 tree, 31 leaves, max depth = 15, train score: 0.91203, val score: 0.91323, in 0.293s\n",
      "[26/1000] 1 tree, 31 leaves, max depth = 11, train score: 0.91336, val score: 0.91335, in 0.262s\n",
      "[27/1000] 1 tree, 31 leaves, max depth = 12, train score: 0.91411, val score: 0.91385, in 0.226s\n",
      "[28/1000] 1 tree, 31 leaves, max depth = 10, train score: 0.91601, val score: 0.91402, in 0.259s\n",
      "[29/1000] 1 tree, 31 leaves, max depth = 15, train score: 0.91640, val score: 0.91405, in 0.317s\n",
      "[30/1000] 1 tree, 31 leaves, max depth = 10, train score: 0.91736, val score: 0.91444, in 0.264s\n",
      "[31/1000] 1 tree, 31 leaves, max depth = 13, train score: 0.91866, val score: 0.91508, in 0.293s\n",
      "[32/1000] 1 tree, 31 leaves, max depth = 9, train score: 0.91993, val score: 0.91470, in 0.272s\n",
      "[33/1000] 1 tree, 31 leaves, max depth = 12, train score: 0.92130, val score: 0.91449, in 0.381s\n",
      "[34/1000] 1 tree, 31 leaves, max depth = 12, train score: 0.92226, val score: 0.91426, in 0.383s\n",
      "[35/1000] 1 tree, 31 leaves, max depth = 11, train score: 0.92347, val score: 0.91596, in 0.572s\n",
      "[36/1000] 1 tree, 31 leaves, max depth = 11, train score: 0.92474, val score: 0.91657, in 0.227s\n",
      "[37/1000] 1 tree, 31 leaves, max depth = 15, train score: 0.92633, val score: 0.91701, in 0.244s\n",
      "[38/1000] 1 tree, 31 leaves, max depth = 14, train score: 0.92766, val score: 0.91807, in 0.296s\n",
      "[39/1000] 1 tree, 31 leaves, max depth = 15, train score: 0.92839, val score: 0.91835, in 0.179s\n",
      "[40/1000] 1 tree, 31 leaves, max depth = 10, train score: 0.92961, val score: 0.91887, in 0.256s\n",
      "[41/1000] 1 tree, 31 leaves, max depth = 15, train score: 0.93069, val score: 0.91862, in 0.231s\n",
      "[42/1000] 1 tree, 31 leaves, max depth = 15, train score: 0.93147, val score: 0.91850, in 0.240s\n",
      "[43/1000] 1 tree, 31 leaves, max depth = 14, train score: 0.93181, val score: 0.91845, in 0.232s\n",
      "[44/1000] 1 tree, 31 leaves, max depth = 15, train score: 0.93300, val score: 0.91982, in 0.214s\n",
      "[45/1000] 1 tree, 31 leaves, max depth = 13, train score: 0.93389, val score: 0.91982, in 0.304s\n",
      "[46/1000] 1 tree, 31 leaves, max depth = 15, train score: 0.93457, val score: 0.91986, in 0.354s\n",
      "[47/1000] 1 tree, 31 leaves, max depth = 12, train score: 0.93538, val score: 0.92026, in 0.300s\n",
      "[48/1000] 1 tree, 31 leaves, max depth = 14, train score: 0.93571, val score: 0.92029, in 0.363s\n",
      "[49/1000] 1 tree, 31 leaves, max depth = 15, train score: 0.93632, val score: 0.92029, in 0.331s\n",
      "[50/1000] 1 tree, 31 leaves, max depth = 14, train score: 0.93726, val score: 0.92081, in 0.294s\n",
      "[51/1000] 1 tree, 31 leaves, max depth = 15, train score: 0.93811, val score: 0.92095, in 0.277s\n",
      "[52/1000] 1 tree, 31 leaves, max depth = 15, train score: 0.93867, val score: 0.92097, in 0.234s\n",
      "[53/1000] 1 tree, 31 leaves, max depth = 13, train score: 0.93936, val score: 0.92177, in 0.346s\n",
      "[54/1000] 1 tree, 31 leaves, max depth = 15, train score: 0.93977, val score: 0.92172, in 0.349s\n",
      "[55/1000] 1 tree, 31 leaves, max depth = 15, train score: 0.94097, val score: 0.92261, in 0.656s\n",
      "[56/1000] 1 tree, 31 leaves, max depth = 15, train score: 0.94151, val score: 0.92275, in 0.231s\n",
      "[57/1000] 1 tree, 31 leaves, max depth = 14, train score: 0.94209, val score: 0.92322, in 0.243s\n",
      "[58/1000] 1 tree, 31 leaves, max depth = 15, train score: 0.94258, val score: 0.92313, in 0.214s\n",
      "[59/1000] 1 tree, 31 leaves, max depth = 13, train score: 0.94301, val score: 0.92343, in 0.290s\n",
      "[60/1000] 1 tree, 31 leaves, max depth = 14, train score: 0.94364, val score: 0.92369, in 0.250s\n",
      "[61/1000] 1 tree, 31 leaves, max depth = 15, train score: 0.94396, val score: 0.92391, in 0.223s\n",
      "[62/1000] 1 tree, 31 leaves, max depth = 13, train score: 0.94446, val score: 0.92415, in 0.285s\n",
      "[63/1000] 1 tree, 31 leaves, max depth = 12, train score: 0.94494, val score: 0.92429, in 0.291s\n",
      "[64/1000] 1 tree, 31 leaves, max depth = 8, train score: 0.94565, val score: 0.92423, in 0.444s\n",
      "[65/1000] 1 tree, 31 leaves, max depth = 14, train score: 0.94591, val score: 0.92402, in 0.438s\n",
      "[66/1000] 1 tree, 31 leaves, max depth = 15, train score: 0.94628, val score: 0.92419, in 0.484s\n",
      "[67/1000] 1 tree, 31 leaves, max depth = 14, train score: 0.94668, val score: 0.92440, in 0.391s\n",
      "[68/1000] 1 tree, 31 leaves, max depth = 15, train score: 0.94707, val score: 0.92414, in 0.359s\n",
      "[69/1000] 1 tree, 31 leaves, max depth = 11, train score: 0.94815, val score: 0.92410, in 0.399s\n",
      "[70/1000] 1 tree, 31 leaves, max depth = 12, train score: 0.94858, val score: 0.92409, in 0.686s\n",
      "[71/1000] 1 tree, 31 leaves, max depth = 12, train score: 0.94905, val score: 0.92418, in 0.399s\n",
      "[72/1000] 1 tree, 31 leaves, max depth = 11, train score: 0.94934, val score: 0.92424, in 0.262s\n",
      "[73/1000] 1 tree, 31 leaves, max depth = 13, train score: 0.94961, val score: 0.92412, in 0.426s\n",
      "[74/1000] 1 tree, 31 leaves, max depth = 12, train score: 0.95034, val score: 0.92406, in 0.425s\n",
      "[75/1000] 1 tree, 31 leaves, max depth = 15, train score: 0.95102, val score: 0.92495, in 0.653s\n",
      "[76/1000] 1 tree, 31 leaves, max depth = 10, train score: 0.95197, val score: 0.92538, in 0.302s\n",
      "[77/1000] 1 tree, 31 leaves, max depth = 10, train score: 0.95292, val score: 0.92602, in 0.402s\n",
      "[78/1000] 1 tree, 31 leaves, max depth = 15, train score: 0.95383, val score: 0.92605, in 0.261s\n",
      "[79/1000] 1 tree, 31 leaves, max depth = 10, train score: 0.95436, val score: 0.92617, in 0.250s\n",
      "[80/1000] 1 tree, 31 leaves, max depth = 11, train score: 0.95503, val score: 0.92669, in 0.306s\n",
      "[81/1000] 1 tree, 31 leaves, max depth = 11, train score: 0.95573, val score: 0.92593, in 0.250s\n",
      "[82/1000] 1 tree, 31 leaves, max depth = 12, train score: 0.95607, val score: 0.92596, in 0.270s\n",
      "[83/1000] 1 tree, 31 leaves, max depth = 13, train score: 0.95658, val score: 0.92628, in 0.303s\n",
      "[84/1000] 1 tree, 31 leaves, max depth = 14, train score: 0.95713, val score: 0.92661, in 0.332s\n"
     ]
    },
    {
     "name": "stdout",
     "output_type": "stream",
     "text": [
      "[85/1000] 1 tree, 31 leaves, max depth = 11, train score: 0.95748, val score: 0.92662, in 0.304s\n",
      "[86/1000] 1 tree, 31 leaves, max depth = 13, train score: 0.95765, val score: 0.92687, in 0.312s\n",
      "[87/1000] 1 tree, 31 leaves, max depth = 15, train score: 0.95855, val score: 0.92688, in 0.317s\n",
      "[88/1000] 1 tree, 31 leaves, max depth = 9, train score: 0.95911, val score: 0.92699, in 0.492s\n",
      "[89/1000] 1 tree, 31 leaves, max depth = 15, train score: 0.95927, val score: 0.92696, in 0.580s\n",
      "[90/1000] 1 tree, 31 leaves, max depth = 12, train score: 0.95956, val score: 0.92701, in 0.340s\n",
      "[91/1000] 1 tree, 31 leaves, max depth = 12, train score: 0.96012, val score: 0.92770, in 0.353s\n",
      "[92/1000] 1 tree, 31 leaves, max depth = 14, train score: 0.96034, val score: 0.92785, in 0.309s\n",
      "[93/1000] 1 tree, 31 leaves, max depth = 11, train score: 0.96072, val score: 0.92811, in 0.507s\n",
      "[94/1000] 1 tree, 31 leaves, max depth = 9, train score: 0.96092, val score: 0.92817, in 0.518s\n",
      "[95/1000] 1 tree, 31 leaves, max depth = 12, train score: 0.96132, val score: 0.92812, in 0.718s\n",
      "[96/1000] 1 tree, 31 leaves, max depth = 10, train score: 0.96222, val score: 0.92759, in 0.261s\n",
      "[97/1000] 1 tree, 31 leaves, max depth = 9, train score: 0.96278, val score: 0.92789, in 0.314s\n",
      "[98/1000] 1 tree, 31 leaves, max depth = 10, train score: 0.96360, val score: 0.92803, in 0.293s\n",
      "[99/1000] 1 tree, 31 leaves, max depth = 14, train score: 0.96445, val score: 0.92769, in 0.292s\n",
      "[100/1000] 1 tree, 31 leaves, max depth = 10, train score: 0.96463, val score: 0.92799, in 0.332s\n",
      "[101/1000] 1 tree, 31 leaves, max depth = 14, train score: 0.96495, val score: 0.92792, in 0.281s\n",
      "[102/1000] 1 tree, 31 leaves, max depth = 15, train score: 0.96531, val score: 0.92768, in 0.286s\n",
      "[103/1000] 1 tree, 31 leaves, max depth = 14, train score: 0.96561, val score: 0.92734, in 0.310s\n",
      "[104/1000] 1 tree, 31 leaves, max depth = 12, train score: 0.96597, val score: 0.92700, in 0.275s\n",
      "Fit 104 trees in 35.309 s, (3224 total leaves)\n",
      "Time spent computing histograms: 17.350s\n",
      "Time spent finding best splits:  2.618s\n",
      "Time spent applying splits:      4.229s\n",
      "Time spent predicting:           0.032s\n",
      "CPU times: user 2min 33s, sys: 54.2 s, total: 3min 27s\n",
      "Wall time: 36.1 s\n"
     ]
    },
    {
     "data": {
      "text/plain": [
       "(0.9662431693097167, 0.8943595769682725)"
      ]
     },
     "execution_count": 196,
     "metadata": {},
     "output_type": "execute_result"
    }
   ],
   "source": [
    "%%time\n",
    "clf = HistGradientBoostingClassifier(loss='binary_crossentropy', verbose=1,\n",
    "                                    max_iter=1000, scoring='roc_auc',\n",
    "                                    max_depth=15, learning_rate=0.1,\n",
    "                                    l2_regularization=4.0, tol=1e-8)\n",
    "clf.fit(xs,y)\n",
    "m_roc(y, xs), m_roc(valid_y, valid_xs)"
   ]
  },
  {
   "cell_type": "markdown",
   "metadata": {
    "heading_collapsed": true
   },
   "source": [
    "### Only features deemed important by RF model interpretation with V*** features"
   ]
  },
  {
   "cell_type": "code",
   "execution_count": 205,
   "metadata": {
    "hidden": true
   },
   "outputs": [],
   "source": [
    "xs_imp = (path/'xs_imp_full.pkl').load()\n",
    "valid_xs_imp = (path/'valid_xs_imp_full.pkl').load()"
   ]
  },
  {
   "cell_type": "code",
   "execution_count": 206,
   "metadata": {
    "hidden": true
   },
   "outputs": [
    {
     "name": "stdout",
     "output_type": "stream",
     "text": [
      "Binning 0.011 GB of training data: 0.114 s\n",
      "Binning 0.001 GB of validation data: 0.006 s\n",
      "Fitting gradient boosted rounds:\n",
      "[1/1000] 1 tree, 31 leaves, max depth = 10, train score: 0.85183, val score: 0.82808, in 0.034s\n",
      "[2/1000] 1 tree, 31 leaves, max depth = 10, train score: 0.85846, val score: 0.83773, in 0.034s\n",
      "[3/1000] 1 tree, 31 leaves, max depth = 9, train score: 0.86037, val score: 0.84088, in 0.033s\n",
      "[4/1000] 1 tree, 31 leaves, max depth = 9, train score: 0.86785, val score: 0.85493, in 0.035s\n",
      "[5/1000] 1 tree, 31 leaves, max depth = 9, train score: 0.86885, val score: 0.85801, in 0.052s\n",
      "[6/1000] 1 tree, 31 leaves, max depth = 10, train score: 0.87304, val score: 0.85900, in 0.032s\n",
      "[7/1000] 1 tree, 31 leaves, max depth = 11, train score: 0.87515, val score: 0.86176, in 0.032s\n",
      "[8/1000] 1 tree, 31 leaves, max depth = 11, train score: 0.87517, val score: 0.86165, in 0.025s\n",
      "[9/1000] 1 tree, 31 leaves, max depth = 8, train score: 0.87960, val score: 0.86407, in 0.042s\n",
      "[10/1000] 1 tree, 31 leaves, max depth = 8, train score: 0.87988, val score: 0.86533, in 0.041s\n",
      "[11/1000] 1 tree, 31 leaves, max depth = 10, train score: 0.88315, val score: 0.86698, in 0.040s\n",
      "[12/1000] 1 tree, 31 leaves, max depth = 10, train score: 0.88684, val score: 0.86933, in 0.026s\n",
      "[13/1000] 1 tree, 31 leaves, max depth = 9, train score: 0.88915, val score: 0.87110, in 0.044s\n",
      "[14/1000] 1 tree, 31 leaves, max depth = 10, train score: 0.89089, val score: 0.87413, in 0.041s\n",
      "[15/1000] 1 tree, 31 leaves, max depth = 9, train score: 0.89274, val score: 0.87416, in 0.040s\n",
      "[16/1000] 1 tree, 31 leaves, max depth = 10, train score: 0.89429, val score: 0.87506, in 0.039s\n",
      "[17/1000] 1 tree, 31 leaves, max depth = 11, train score: 0.89607, val score: 0.87623, in 0.046s\n",
      "[18/1000] 1 tree, 31 leaves, max depth = 10, train score: 0.89750, val score: 0.87596, in 0.046s\n",
      "[19/1000] 1 tree, 31 leaves, max depth = 11, train score: 0.89791, val score: 0.87598, in 0.043s\n",
      "[20/1000] 1 tree, 31 leaves, max depth = 9, train score: 0.89881, val score: 0.87472, in 0.050s\n",
      "[21/1000] 1 tree, 31 leaves, max depth = 10, train score: 0.89961, val score: 0.87532, in 0.050s\n",
      "[22/1000] 1 tree, 31 leaves, max depth = 12, train score: 0.90197, val score: 0.87687, in 0.050s\n",
      "[23/1000] 1 tree, 31 leaves, max depth = 9, train score: 0.90355, val score: 0.87708, in 0.048s\n",
      "[24/1000] 1 tree, 31 leaves, max depth = 13, train score: 0.90547, val score: 0.87825, in 0.052s\n",
      "[25/1000] 1 tree, 31 leaves, max depth = 10, train score: 0.90714, val score: 0.87857, in 0.056s\n",
      "[26/1000] 1 tree, 31 leaves, max depth = 10, train score: 0.90809, val score: 0.87905, in 0.049s\n",
      "[27/1000] 1 tree, 31 leaves, max depth = 10, train score: 0.91028, val score: 0.87931, in 0.038s\n",
      "[28/1000] 1 tree, 31 leaves, max depth = 10, train score: 0.91119, val score: 0.87819, in 0.047s\n",
      "[29/1000] 1 tree, 31 leaves, max depth = 10, train score: 0.91271, val score: 0.87913, in 0.055s\n",
      "[30/1000] 1 tree, 31 leaves, max depth = 10, train score: 0.91383, val score: 0.87924, in 0.052s\n",
      "[31/1000] 1 tree, 31 leaves, max depth = 15, train score: 0.91436, val score: 0.88158, in 0.048s\n",
      "[32/1000] 1 tree, 31 leaves, max depth = 12, train score: 0.91563, val score: 0.88195, in 0.050s\n",
      "[33/1000] 1 tree, 31 leaves, max depth = 15, train score: 0.91665, val score: 0.88166, in 0.052s\n",
      "[34/1000] 1 tree, 31 leaves, max depth = 10, train score: 0.91782, val score: 0.88150, in 0.053s\n",
      "[35/1000] 1 tree, 31 leaves, max depth = 14, train score: 0.91925, val score: 0.88206, in 0.056s\n",
      "[36/1000] 1 tree, 31 leaves, max depth = 15, train score: 0.92051, val score: 0.88199, in 0.059s\n",
      "[37/1000] 1 tree, 31 leaves, max depth = 11, train score: 0.92129, val score: 0.88266, in 0.057s\n",
      "[38/1000] 1 tree, 31 leaves, max depth = 10, train score: 0.92316, val score: 0.88200, in 0.055s\n",
      "[39/1000] 1 tree, 31 leaves, max depth = 15, train score: 0.92395, val score: 0.88262, in 0.056s\n",
      "[40/1000] 1 tree, 31 leaves, max depth = 15, train score: 0.92462, val score: 0.88246, in 0.056s\n",
      "[41/1000] 1 tree, 31 leaves, max depth = 11, train score: 0.92566, val score: 0.88175, in 0.058s\n",
      "[42/1000] 1 tree, 31 leaves, max depth = 11, train score: 0.92694, val score: 0.88190, in 0.063s\n",
      "[43/1000] 1 tree, 31 leaves, max depth = 12, train score: 0.92771, val score: 0.88165, in 0.057s\n",
      "[44/1000] 1 tree, 31 leaves, max depth = 10, train score: 0.92924, val score: 0.88213, in 0.076s\n",
      "[45/1000] 1 tree, 31 leaves, max depth = 9, train score: 0.93084, val score: 0.88210, in 0.068s\n",
      "[46/1000] 1 tree, 31 leaves, max depth = 13, train score: 0.93115, val score: 0.88302, in 0.057s\n",
      "[47/1000] 1 tree, 31 leaves, max depth = 12, train score: 0.93209, val score: 0.88308, in 0.066s\n",
      "[48/1000] 1 tree, 31 leaves, max depth = 11, train score: 0.93330, val score: 0.88375, in 0.057s\n",
      "[49/1000] 1 tree, 31 leaves, max depth = 11, train score: 0.93413, val score: 0.88341, in 0.054s\n",
      "[50/1000] 1 tree, 31 leaves, max depth = 14, train score: 0.93524, val score: 0.88365, in 0.058s\n",
      "[51/1000] 1 tree, 31 leaves, max depth = 13, train score: 0.93624, val score: 0.88449, in 0.063s\n",
      "[52/1000] 1 tree, 31 leaves, max depth = 10, train score: 0.93750, val score: 0.88469, in 0.065s\n",
      "[53/1000] 1 tree, 31 leaves, max depth = 8, train score: 0.93863, val score: 0.88453, in 0.063s\n",
      "[54/1000] 1 tree, 31 leaves, max depth = 10, train score: 0.93966, val score: 0.88434, in 0.064s\n",
      "[55/1000] 1 tree, 31 leaves, max depth = 9, train score: 0.94029, val score: 0.88450, in 0.059s\n",
      "[56/1000] 1 tree, 31 leaves, max depth = 9, train score: 0.94105, val score: 0.88479, in 0.060s\n",
      "[57/1000] 1 tree, 31 leaves, max depth = 11, train score: 0.94155, val score: 0.88455, in 0.062s\n",
      "[58/1000] 1 tree, 31 leaves, max depth = 13, train score: 0.94246, val score: 0.88462, in 0.067s\n",
      "[59/1000] 1 tree, 31 leaves, max depth = 9, train score: 0.94355, val score: 0.88386, in 0.064s\n",
      "[60/1000] 1 tree, 31 leaves, max depth = 14, train score: 0.94414, val score: 0.88395, in 0.059s\n",
      "[61/1000] 1 tree, 31 leaves, max depth = 13, train score: 0.94494, val score: 0.88379, in 0.056s\n",
      "[62/1000] 1 tree, 31 leaves, max depth = 12, train score: 0.94575, val score: 0.88325, in 0.061s\n",
      "[63/1000] 1 tree, 31 leaves, max depth = 12, train score: 0.94675, val score: 0.88355, in 0.068s\n",
      "[64/1000] 1 tree, 31 leaves, max depth = 12, train score: 0.94760, val score: 0.88287, in 0.084s\n",
      "[65/1000] 1 tree, 31 leaves, max depth = 15, train score: 0.94792, val score: 0.88344, in 0.068s\n",
      "[66/1000] 1 tree, 31 leaves, max depth = 9, train score: 0.94840, val score: 0.88349, in 0.072s\n",
      "Fit 66 trees in 3.663 s, (2046 total leaves)\n",
      "Time spent computing histograms: 0.892s\n",
      "Time spent finding best splits:  0.476s\n",
      "Time spent applying splits:      0.551s\n",
      "Time spent predicting:           0.013s\n",
      "CPU times: user 22.3 s, sys: 2.05 s, total: 24.4 s\n",
      "Wall time: 3.77 s\n"
     ]
    },
    {
     "data": {
      "text/plain": [
       "(0.9433326003871689, 0.8825521657999629)"
      ]
     },
     "execution_count": 206,
     "metadata": {},
     "output_type": "execute_result"
    }
   ],
   "source": [
    "%%time\n",
    "clf = HistGradientBoostingClassifier(loss='binary_crossentropy', verbose=1,\n",
    "                                    max_iter=1000, scoring='roc_auc',\n",
    "                                    max_depth=15, learning_rate=0.1,\n",
    "                                    l2_regularization=4.0, tol=1e-8)\n",
    "clf.fit(xs_imp,y)\n",
    "m_roc(y, xs_imp), m_roc(valid_y, valid_xs_imp)"
   ]
  },
  {
   "cell_type": "markdown",
   "metadata": {},
   "source": [
    "### Only features deemed important by RF model interpretation"
   ]
  },
  {
   "cell_type": "code",
   "execution_count": 26,
   "metadata": {},
   "outputs": [],
   "source": [
    "xs_imp = (path/'xs_imp.pkl').load()\n",
    "valid_xs_imp = (path/'valid_xs_imp.pkl').load()"
   ]
  },
  {
   "cell_type": "code",
   "execution_count": 29,
   "metadata": {},
   "outputs": [
    {
     "name": "stdout",
     "output_type": "stream",
     "text": [
      "Binning 0.021 GB of training data: 0.175 s\n",
      "Binning 0.002 GB of validation data: 0.014 s\n",
      "Fitting gradient boosted rounds:\n",
      "[1/1000] 1 tree, 31 leaves, max depth = 9, train score: 0.83554, val score: 0.84848, in 0.066s\n",
      "[2/1000] 1 tree, 31 leaves, max depth = 10, train score: 0.86201, val score: 0.86134, in 0.057s\n",
      "[3/1000] 1 tree, 31 leaves, max depth = 9, train score: 0.86932, val score: 0.85516, in 0.054s\n",
      "[4/1000] 1 tree, 31 leaves, max depth = 10, train score: 0.87211, val score: 0.85237, in 0.064s\n",
      "[5/1000] 1 tree, 31 leaves, max depth = 10, train score: 0.87514, val score: 0.86356, in 0.062s\n",
      "[6/1000] 1 tree, 31 leaves, max depth = 11, train score: 0.87806, val score: 0.86451, in 0.062s\n",
      "[7/1000] 1 tree, 31 leaves, max depth = 10, train score: 0.88273, val score: 0.87102, in 0.058s\n",
      "[8/1000] 1 tree, 31 leaves, max depth = 9, train score: 0.88680, val score: 0.87063, in 0.063s\n",
      "[9/1000] 1 tree, 31 leaves, max depth = 9, train score: 0.88888, val score: 0.87139, in 0.064s\n",
      "[10/1000] 1 tree, 31 leaves, max depth = 11, train score: 0.89232, val score: 0.86932, in 0.061s\n",
      "[11/1000] 1 tree, 31 leaves, max depth = 9, train score: 0.89637, val score: 0.87259, in 0.095s\n",
      "[12/1000] 1 tree, 31 leaves, max depth = 9, train score: 0.89850, val score: 0.87362, in 0.066s\n",
      "[13/1000] 1 tree, 31 leaves, max depth = 9, train score: 0.89893, val score: 0.87283, in 0.064s\n",
      "[14/1000] 1 tree, 31 leaves, max depth = 10, train score: 0.90276, val score: 0.87395, in 0.066s\n",
      "[15/1000] 1 tree, 31 leaves, max depth = 10, train score: 0.90450, val score: 0.87492, in 0.075s\n",
      "[16/1000] 1 tree, 31 leaves, max depth = 9, train score: 0.90525, val score: 0.87518, in 0.064s\n",
      "[17/1000] 1 tree, 31 leaves, max depth = 10, train score: 0.90687, val score: 0.87713, in 0.065s\n",
      "[18/1000] 1 tree, 31 leaves, max depth = 11, train score: 0.90897, val score: 0.87790, in 0.068s\n",
      "[19/1000] 1 tree, 31 leaves, max depth = 10, train score: 0.91068, val score: 0.87742, in 0.071s\n",
      "[20/1000] 1 tree, 31 leaves, max depth = 10, train score: 0.91233, val score: 0.87735, in 0.093s\n",
      "[21/1000] 1 tree, 31 leaves, max depth = 10, train score: 0.91328, val score: 0.87822, in 0.066s\n",
      "[22/1000] 1 tree, 31 leaves, max depth = 10, train score: 0.91571, val score: 0.87714, in 0.071s\n",
      "[23/1000] 1 tree, 31 leaves, max depth = 11, train score: 0.91856, val score: 0.87738, in 0.070s\n",
      "[24/1000] 1 tree, 31 leaves, max depth = 9, train score: 0.92040, val score: 0.87829, in 0.070s\n",
      "[25/1000] 1 tree, 31 leaves, max depth = 12, train score: 0.92194, val score: 0.87771, in 0.075s\n",
      "[26/1000] 1 tree, 31 leaves, max depth = 10, train score: 0.92356, val score: 0.87815, in 0.073s\n",
      "[27/1000] 1 tree, 31 leaves, max depth = 12, train score: 0.92536, val score: 0.87908, in 0.075s\n",
      "[28/1000] 1 tree, 31 leaves, max depth = 10, train score: 0.92662, val score: 0.87970, in 0.068s\n",
      "[29/1000] 1 tree, 31 leaves, max depth = 11, train score: 0.92739, val score: 0.88138, in 0.074s\n",
      "[30/1000] 1 tree, 31 leaves, max depth = 9, train score: 0.92803, val score: 0.88204, in 0.074s\n",
      "[31/1000] 1 tree, 31 leaves, max depth = 12, train score: 0.92994, val score: 0.88318, in 0.076s\n",
      "[32/1000] 1 tree, 31 leaves, max depth = 9, train score: 0.93165, val score: 0.88308, in 0.071s\n",
      "[33/1000] 1 tree, 31 leaves, max depth = 15, train score: 0.93359, val score: 0.88288, in 0.071s\n",
      "[34/1000] 1 tree, 31 leaves, max depth = 13, train score: 0.93464, val score: 0.88358, in 0.074s\n",
      "[35/1000] 1 tree, 31 leaves, max depth = 9, train score: 0.93505, val score: 0.88474, in 0.075s\n",
      "[36/1000] 1 tree, 31 leaves, max depth = 11, train score: 0.93600, val score: 0.88503, in 0.075s\n",
      "[37/1000] 1 tree, 31 leaves, max depth = 15, train score: 0.93724, val score: 0.88523, in 0.078s\n",
      "[38/1000] 1 tree, 31 leaves, max depth = 11, train score: 0.93823, val score: 0.88567, in 0.072s\n",
      "[39/1000] 1 tree, 31 leaves, max depth = 10, train score: 0.93961, val score: 0.88660, in 0.108s\n",
      "[40/1000] 1 tree, 31 leaves, max depth = 10, train score: 0.94157, val score: 0.88656, in 0.078s\n",
      "[41/1000] 1 tree, 31 leaves, max depth = 10, train score: 0.94268, val score: 0.88615, in 0.083s\n",
      "[42/1000] 1 tree, 31 leaves, max depth = 10, train score: 0.94335, val score: 0.88637, in 0.077s\n",
      "[43/1000] 1 tree, 31 leaves, max depth = 14, train score: 0.94540, val score: 0.88585, in 0.074s\n",
      "[44/1000] 1 tree, 31 leaves, max depth = 10, train score: 0.94575, val score: 0.88626, in 0.080s\n",
      "[45/1000] 1 tree, 31 leaves, max depth = 13, train score: 0.94642, val score: 0.88675, in 0.078s\n",
      "[46/1000] 1 tree, 31 leaves, max depth = 12, train score: 0.94763, val score: 0.88700, in 0.081s\n",
      "[47/1000] 1 tree, 31 leaves, max depth = 11, train score: 0.94788, val score: 0.88693, in 0.078s\n",
      "[48/1000] 1 tree, 31 leaves, max depth = 12, train score: 0.94901, val score: 0.88706, in 0.081s\n",
      "[49/1000] 1 tree, 31 leaves, max depth = 11, train score: 0.94968, val score: 0.88714, in 0.077s\n",
      "[50/1000] 1 tree, 31 leaves, max depth = 10, train score: 0.95061, val score: 0.88701, in 0.082s\n",
      "[51/1000] 1 tree, 31 leaves, max depth = 9, train score: 0.95216, val score: 0.88777, in 0.079s\n",
      "[52/1000] 1 tree, 31 leaves, max depth = 15, train score: 0.95276, val score: 0.88784, in 0.085s\n",
      "[53/1000] 1 tree, 31 leaves, max depth = 10, train score: 0.95396, val score: 0.88838, in 0.083s\n",
      "[54/1000] 1 tree, 31 leaves, max depth = 11, train score: 0.95461, val score: 0.88885, in 0.084s\n",
      "[55/1000] 1 tree, 31 leaves, max depth = 8, train score: 0.95514, val score: 0.88906, in 0.082s\n",
      "[56/1000] 1 tree, 31 leaves, max depth = 13, train score: 0.95555, val score: 0.88939, in 0.077s\n",
      "[57/1000] 1 tree, 31 leaves, max depth = 12, train score: 0.95606, val score: 0.88920, in 0.082s\n",
      "[58/1000] 1 tree, 31 leaves, max depth = 15, train score: 0.95678, val score: 0.88973, in 0.082s\n",
      "[59/1000] 1 tree, 31 leaves, max depth = 9, train score: 0.95738, val score: 0.89015, in 0.114s\n",
      "[60/1000] 1 tree, 31 leaves, max depth = 13, train score: 0.95796, val score: 0.89019, in 0.083s\n",
      "[61/1000] 1 tree, 31 leaves, max depth = 14, train score: 0.95824, val score: 0.89004, in 0.082s\n",
      "[62/1000] 1 tree, 31 leaves, max depth = 11, train score: 0.95872, val score: 0.88980, in 0.085s\n",
      "[63/1000] 1 tree, 31 leaves, max depth = 14, train score: 0.95920, val score: 0.88977, in 0.084s\n",
      "[64/1000] 1 tree, 31 leaves, max depth = 12, train score: 0.95969, val score: 0.88988, in 0.084s\n",
      "[65/1000] 1 tree, 31 leaves, max depth = 13, train score: 0.96030, val score: 0.88965, in 0.081s\n",
      "[66/1000] 1 tree, 31 leaves, max depth = 12, train score: 0.96096, val score: 0.89033, in 0.085s\n",
      "[67/1000] 1 tree, 31 leaves, max depth = 11, train score: 0.96127, val score: 0.89086, in 0.086s\n",
      "[68/1000] 1 tree, 31 leaves, max depth = 13, train score: 0.96173, val score: 0.89059, in 0.086s\n",
      "[69/1000] 1 tree, 31 leaves, max depth = 15, train score: 0.96238, val score: 0.89052, in 0.084s\n",
      "[70/1000] 1 tree, 31 leaves, max depth = 15, train score: 0.96271, val score: 0.89094, in 0.087s\n",
      "[71/1000] 1 tree, 31 leaves, max depth = 10, train score: 0.96320, val score: 0.89154, in 0.086s\n",
      "[72/1000] 1 tree, 31 leaves, max depth = 9, train score: 0.96365, val score: 0.89197, in 0.087s\n",
      "[73/1000] 1 tree, 31 leaves, max depth = 14, train score: 0.96407, val score: 0.89170, in 0.088s\n",
      "[74/1000] 1 tree, 31 leaves, max depth = 13, train score: 0.96424, val score: 0.89133, in 0.087s\n",
      "[75/1000] 1 tree, 31 leaves, max depth = 11, train score: 0.96482, val score: 0.89177, in 0.089s\n",
      "[76/1000] 1 tree, 31 leaves, max depth = 9, train score: 0.96509, val score: 0.89215, in 0.088s\n",
      "[77/1000] 1 tree, 31 leaves, max depth = 11, train score: 0.96570, val score: 0.89236, in 0.093s\n",
      "[78/1000] 1 tree, 31 leaves, max depth = 11, train score: 0.96616, val score: 0.89221, in 0.091s\n",
      "[79/1000] 1 tree, 31 leaves, max depth = 11, train score: 0.96645, val score: 0.89209, in 0.115s\n",
      "[80/1000] 1 tree, 31 leaves, max depth = 8, train score: 0.96700, val score: 0.89216, in 0.086s\n",
      "[81/1000] 1 tree, 31 leaves, max depth = 14, train score: 0.96707, val score: 0.89220, in 0.101s\n",
      "[82/1000] 1 tree, 31 leaves, max depth = 12, train score: 0.96724, val score: 0.89224, in 0.126s\n",
      "[83/1000] 1 tree, 31 leaves, max depth = 10, train score: 0.96766, val score: 0.89242, in 0.117s\n",
      "[84/1000] 1 tree, 31 leaves, max depth = 10, train score: 0.96850, val score: 0.89242, in 0.088s\n"
     ]
    },
    {
     "name": "stdout",
     "output_type": "stream",
     "text": [
      "[85/1000] 1 tree, 31 leaves, max depth = 9, train score: 0.96862, val score: 0.89220, in 0.090s\n",
      "[86/1000] 1 tree, 31 leaves, max depth = 13, train score: 0.96893, val score: 0.89226, in 0.091s\n",
      "[87/1000] 1 tree, 31 leaves, max depth = 11, train score: 0.96921, val score: 0.89290, in 0.097s\n",
      "[88/1000] 1 tree, 31 leaves, max depth = 12, train score: 0.96945, val score: 0.89278, in 0.088s\n",
      "[89/1000] 1 tree, 31 leaves, max depth = 10, train score: 0.96964, val score: 0.89237, in 0.097s\n",
      "[90/1000] 1 tree, 31 leaves, max depth = 9, train score: 0.97007, val score: 0.89279, in 0.094s\n",
      "[91/1000] 1 tree, 31 leaves, max depth = 13, train score: 0.97036, val score: 0.89320, in 0.090s\n",
      "[92/1000] 1 tree, 31 leaves, max depth = 9, train score: 0.97051, val score: 0.89343, in 0.087s\n",
      "[93/1000] 1 tree, 31 leaves, max depth = 8, train score: 0.97072, val score: 0.89323, in 0.087s\n",
      "[94/1000] 1 tree, 31 leaves, max depth = 14, train score: 0.97110, val score: 0.89335, in 0.088s\n",
      "[95/1000] 1 tree, 31 leaves, max depth = 11, train score: 0.97139, val score: 0.89342, in 0.087s\n",
      "[96/1000] 1 tree, 31 leaves, max depth = 8, train score: 0.97173, val score: 0.89358, in 0.087s\n",
      "[97/1000] 1 tree, 31 leaves, max depth = 13, train score: 0.97222, val score: 0.89353, in 0.089s\n",
      "[98/1000] 1 tree, 31 leaves, max depth = 11, train score: 0.97250, val score: 0.89392, in 0.090s\n",
      "[99/1000] 1 tree, 31 leaves, max depth = 10, train score: 0.97296, val score: 0.89414, in 0.121s\n",
      "[100/1000] 1 tree, 31 leaves, max depth = 9, train score: 0.97312, val score: 0.89428, in 0.091s\n",
      "[101/1000] 1 tree, 31 leaves, max depth = 15, train score: 0.97335, val score: 0.89404, in 0.090s\n",
      "[102/1000] 1 tree, 31 leaves, max depth = 10, train score: 0.97364, val score: 0.89424, in 0.129s\n",
      "[103/1000] 1 tree, 31 leaves, max depth = 8, train score: 0.97385, val score: 0.89439, in 0.083s\n",
      "[104/1000] 1 tree, 31 leaves, max depth = 14, train score: 0.97407, val score: 0.89450, in 0.081s\n",
      "[105/1000] 1 tree, 31 leaves, max depth = 10, train score: 0.97430, val score: 0.89473, in 0.080s\n",
      "[106/1000] 1 tree, 31 leaves, max depth = 13, train score: 0.97455, val score: 0.89497, in 0.080s\n",
      "[107/1000] 1 tree, 31 leaves, max depth = 14, train score: 0.97516, val score: 0.89515, in 0.081s\n",
      "[108/1000] 1 tree, 31 leaves, max depth = 8, train score: 0.97533, val score: 0.89532, in 0.082s\n",
      "[109/1000] 1 tree, 31 leaves, max depth = 12, train score: 0.97554, val score: 0.89513, in 0.080s\n",
      "[110/1000] 1 tree, 31 leaves, max depth = 9, train score: 0.97566, val score: 0.89519, in 0.080s\n",
      "[111/1000] 1 tree, 31 leaves, max depth = 9, train score: 0.97581, val score: 0.89505, in 0.082s\n",
      "[112/1000] 1 tree, 31 leaves, max depth = 14, train score: 0.97651, val score: 0.89521, in 0.083s\n",
      "[113/1000] 1 tree, 31 leaves, max depth = 12, train score: 0.97666, val score: 0.89519, in 0.099s\n",
      "[114/1000] 1 tree, 31 leaves, max depth = 12, train score: 0.97685, val score: 0.89521, in 0.101s\n",
      "[115/1000] 1 tree, 31 leaves, max depth = 8, train score: 0.97709, val score: 0.89512, in 0.109s\n",
      "[116/1000] 1 tree, 31 leaves, max depth = 10, train score: 0.97741, val score: 0.89469, in 0.109s\n",
      "[117/1000] 1 tree, 31 leaves, max depth = 11, train score: 0.97758, val score: 0.89435, in 0.101s\n",
      "[118/1000] 1 tree, 31 leaves, max depth = 10, train score: 0.97770, val score: 0.89434, in 0.095s\n",
      "Fit 118 trees in 10.106 s, (3658 total leaves)\n",
      "Time spent computing histograms: 2.997s\n",
      "Time spent finding best splits:  1.138s\n",
      "Time spent applying splits:      1.445s\n",
      "Time spent predicting:           0.027s\n",
      "CPU times: user 1min 3s, sys: 6.97 s, total: 1min 10s\n",
      "Wall time: 10.4 s\n"
     ]
    },
    {
     "data": {
      "text/plain": [
       "(0.9687158661985884, 0.8810013878439718)"
      ]
     },
     "execution_count": 29,
     "metadata": {},
     "output_type": "execute_result"
    }
   ],
   "source": [
    "%%time\n",
    "clf = HistGradientBoostingClassifier(loss='binary_crossentropy', verbose=1,\n",
    "                                    max_iter=1000, scoring='roc_auc',\n",
    "                                    max_depth=15, learning_rate=0.1,\n",
    "                                    l2_regularization=4.0, tol=1e-8)\n",
    "clf.fit(xs_imp,y)\n",
    "m_roc(y, xs_imp), m_roc(valid_y, valid_xs_imp)"
   ]
  },
  {
   "cell_type": "code",
   "execution_count": 35,
   "metadata": {},
   "outputs": [
    {
     "data": {
      "image/png": "[encoded data removed]",
      "text/plain": [
       "<Figure size 432x288 with 2 Axes>"
      ]
     },
     "metadata": {
      "needs_background": "light"
     },
     "output_type": "display_data"
    }
   ],
   "source": [
    "fig = plot_confusion_matrix(valid_y, clf.predict(valid_xs_imp))\n",
    "fig.savefig(path.BASE_PATH/'../figures/GBT_imp_Confusion_Matrix.jpg', dpi=1000, bbox_inches='tight')"
   ]
  },
  {
   "cell_type": "code",
   "execution_count": 32,
   "metadata": {},
   "outputs": [],
   "source": []
  }
 ],
 "metadata": {
  "kernelspec": {
   "display_name": "Python 3",
   "language": "python",
   "name": "python3"
  },
  "language_info": {
   "codemirror_mode": {
    "name": "ipython",
    "version": 3
   },
   "file_extension": ".py",
   "mimetype": "text/x-python",
   "name": "python",
   "nbconvert_exporter": "python",
   "pygments_lexer": "ipython3",
   "version": "3.8.5"
  },
  "toc": {
   "base_numbering": 1,
   "nav_menu": {},
   "number_sections": false,
   "sideBar": true,
   "skip_h1_title": false,
   "title_cell": "Table of Contents",
   "title_sidebar": "Contents",
   "toc_cell": true,
   "toc_position": {},
   "toc_section_display": true,
   "toc_window_display": false
  }
 },
 "nbformat": 4,
 "nbformat_minor": 4
}
