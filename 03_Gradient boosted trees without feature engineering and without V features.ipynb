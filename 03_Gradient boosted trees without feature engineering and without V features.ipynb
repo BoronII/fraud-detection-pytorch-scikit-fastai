{
 "cells": [
  {
   "cell_type": "markdown",
   "metadata": {
    "toc": true
   },
   "source": [
    "<h1>Table of Contents<span class=\"tocSkip\"></span></h1>\n",
    "<div class=\"toc\"><ul class=\"toc-item\"><li><span><a href=\"#Data-pre-processing\" data-toc-modified-id=\"Data-pre-processing-1\">Data pre-processing</a></span></li><li><span><a href=\"#Gradient-Boosted-Trees\" data-toc-modified-id=\"Gradient-Boosted-Trees-2\">Gradient Boosted Trees</a></span><ul class=\"toc-item\"><li><span><a href=\"#HistGradientBoostingClassifier\" data-toc-modified-id=\"HistGradientBoostingClassifier-2.1\">HistGradientBoostingClassifier</a></span><ul class=\"toc-item\"><li><span><a href=\"#Initial-Classifiers\" data-toc-modified-id=\"Initial-Classifiers-2.1.1\">Initial Classifiers</a></span></li><li><span><a href=\"#Hyperparameter-tuning\" data-toc-modified-id=\"Hyperparameter-tuning-2.1.2\">Hyperparameter tuning</a></span></li><li><span><a href=\"#Including-the-V***-columns\" data-toc-modified-id=\"Including-the-V***-columns-2.1.3\">Including the V*** columns</a></span></li><li><span><a href=\"#Only-features-deemed-important-by-RF-model-interpretation\" data-toc-modified-id=\"Only-features-deemed-important-by-RF-model-interpretation-2.1.4\">Only features deemed important by RF model interpretation</a></span></li><li><span><a href=\"#Only-features-deemed-important-by-RF-model-interpretation-with-V***-features\" data-toc-modified-id=\"Only-features-deemed-important-by-RF-model-interpretation-with-V***-features-2.1.5\">Only features deemed important by RF model interpretation with V*** features</a></span></li></ul></li></ul></li></ul></div>"
   ]
  },
  {
   "cell_type": "markdown",
   "metadata": {},
   "source": [
    "# Data pre-processing"
   ]
  },
  {
   "cell_type": "code",
   "execution_count": 2,
   "metadata": {},
   "outputs": [],
   "source": [
    "from fastai.tabular.all import *\n",
    "from sklearn.metrics import roc_auc_score\n",
    "from sklearn.model_selection import GridSearchCV\n",
    "from sklearn.model_selection import RandomizedSearchCV\n",
    "from sklearn.metrics import make_scorer\n",
    "\n",
    "from sklearn.experimental import enable_hist_gradient_boosting \n",
    "from sklearn.ensemble import HistGradientBoostingClassifier\n",
    "\n",
    "path = Path('/Users/baranserajelahi/Codes/fraud-detection-pytorch-scikit-fastai/data')\n",
    "Path.BASE_PATH = path\n",
    "pd.options.display.max_rows = 200\n",
    "pd.options.display.max_columns = 125"
   ]
  },
  {
   "cell_type": "markdown",
   "metadata": {},
   "source": []
  },
  {
   "cell_type": "code",
   "execution_count": 47,
   "metadata": {},
   "outputs": [],
   "source": [
    "# Tabular object created and saved on the 02_ notebook\n",
    "to = (path/'to_ss.pkl').load()"
   ]
  },
  {
   "cell_type": "code",
   "execution_count": 8,
   "metadata": {},
   "outputs": [
    {
     "data": {
      "text/plain": [
       "dtype('int16')"
      ]
     },
     "execution_count": 8,
     "metadata": {},
     "output_type": "execute_result"
    }
   ],
   "source": [
    "to[\"card1\"].dtype"
   ]
  },
  {
   "cell_type": "code",
   "execution_count": 9,
   "metadata": {},
   "outputs": [],
   "source": [
    "cats = ['ProductCD', 'card1', 'card2', 'card3', 'card4', 'card5', 'card6', \n",
    "       'addr1', 'addr2', 'P_emaildomain', 'R_emaildomain', 'M1', 'M2', 'M3', \n",
    "       'M4', 'M5', 'M6', 'M7', 'M8', 'M9', 'DeviceType', 'DeviceInfo', 'id_12', \n",
    "       'id_13', 'id_14', 'id_15', 'id_16', 'id_17', 'id_18', 'id_19', 'id_20', \n",
    "       'id_21', 'id_22', 'id_23', 'id_24', 'id_25', 'id_26', 'id_27', 'id_28', \n",
    "       'id_29', 'id_30', 'id_31', 'id_32', 'id_33', 'id_34', 'id_35', 'id_36',\n",
    "       'id_37', 'id_38']\n",
    "\n",
    "for cat in cats:\n",
    "    to[cat] = to[cat].astype('category')"
   ]
  },
  {
   "cell_type": "code",
   "execution_count": 10,
   "metadata": {},
   "outputs": [
    {
     "data": {
      "text/plain": [
       "CategoricalDtype(categories=[   0,    1,    2,    3,    4,    5,    6,    7,    8,    9,\n",
       "                  ...\n",
       "                  5634, 5635, 5636, 5637, 5638, 5639, 5640, 5641, 5642, 5643],\n",
       "                 ordered=False)"
      ]
     },
     "execution_count": 10,
     "metadata": {},
     "output_type": "execute_result"
    }
   ],
   "source": [
    "to[\"card1\"].dtype"
   ]
  },
  {
   "cell_type": "code",
   "execution_count": 60,
   "metadata": {},
   "outputs": [],
   "source": [
    "xs, y = to.train.xs, to.train.y\n",
    "valid_xs, valid_y = to.valid.xs, to.valid.y"
   ]
  },
  {
   "cell_type": "markdown",
   "metadata": {},
   "source": [
    "# Gradient Boosted Trees"
   ]
  },
  {
   "cell_type": "markdown",
   "metadata": {
    "heading_collapsed": true
   },
   "source": [
    "## HistGradientBoostingClassifier"
   ]
  },
  {
   "cell_type": "code",
   "execution_count": 112,
   "metadata": {
    "hidden": true
   },
   "outputs": [
    {
     "data": {
      "text/plain": [
       "'Previously, leaf-wise growth was an exclusive feature of lightGBM, but xgboost has since implemented this growth strategy (this change has not been reflected in the lightGBM docs, but has been acknowledged in a blog post). This strategy is only available for the histogram-based method (which I will explain below), so in order to use it, users will have to set the tree_method parameter to hist and the grow_policy parameter to lossguide.'"
      ]
     },
     "execution_count": 112,
     "metadata": {},
     "output_type": "execute_result"
    }
   ],
   "source": [
    "'Previously, leaf-wise growth was an exclusive feature of lightGBM, but xgboost has since implemented this growth strategy (this change has not been reflected in the lightGBM docs, but has been acknowledged in a blog post). This strategy is only available for the histogram-based method (which I will explain below), so in order to use it, users will have to set the tree_method parameter to hist and the grow_policy parameter to lossguide.'"
   ]
  },
  {
   "cell_type": "code",
   "execution_count": 113,
   "metadata": {
    "hidden": true,
    "scrolled": true
   },
   "outputs": [
    {
     "data": {
      "text/plain": [
       "'Xgboost offers the option tree_method=approx, which computes a new set of bins at each split using the gradient statistics. LightGBM and xgboost with the tree_method set to hist will both compute the bins at the beginning of training and reuse the same bins throughout the entire training process.'"
      ]
     },
     "execution_count": 113,
     "metadata": {},
     "output_type": "execute_result"
    }
   ],
   "source": [
    "'Xgboost offers the option tree_method=approx, which computes a new set of bins at each split using the gradient statistics. LightGBM and xgboost with the tree_method set to hist will both compute the bins at the beginning of training and reuse the same bins throughout the entire training process.'"
   ]
  },
  {
   "cell_type": "code",
   "execution_count": 114,
   "metadata": {
    "hidden": true
   },
   "outputs": [
    {
     "data": {
      "text/plain": [
       "'Though lightGBM does not enable ignoring zero values by default, it has an option called zero_as_missing which, if set to True, will regard all zero values as missing. According to this thread on GitHub, lightGBM will treat missing values in the same way as xgboost as long as the parameter use_missing is set to True (which is the default behavior).'"
      ]
     },
     "execution_count": 114,
     "metadata": {},
     "output_type": "execute_result"
    }
   ],
   "source": [
    "'BOTH: Though lightGBM does not enable ignoring zero values by default, it has an option called zero_as_missing which, if set to True, will regard all zero values as missing. According to this thread on GitHub, lightGBM will treat missing values in the same way as xgboost as long as the parameter use_missing is set to True (which is the default behavior).'"
   ]
  },
  {
   "cell_type": "code",
   "execution_count": 115,
   "metadata": {
    "hidden": true
   },
   "outputs": [
    {
     "data": {
      "text/plain": [
       "'This is a method introduced in lightGBM that also takes advantage of the sparsity of large datasets. The essential observation behind this method is that the sparsity of features means that some features are never non-zero together. For instance, the words \"Python\" and \"protein\" might never appear in the same document in the data. This means that these features can be \"bundled\" into a single feature without losing any information. Suppose the tf-idf score for \"Python\" ranges from 0 to 10 and the tf-idf score for  \"protein\" ranges from 0 to 20. In this case, the feature'"
      ]
     },
     "execution_count": 115,
     "metadata": {},
     "output_type": "execute_result"
    }
   ],
   "source": [
    "'LGBM: This is a method introduced in lightGBM that also takes advantage of the sparsity of large datasets. The essential observation behind this method is that the sparsity of features means that some features are never non-zero together. For instance, the words \"Python\" and \"protein\" might never appear in the same document in the data. This means that these features can be \"bundled\" into a single feature without losing any information. Suppose the tf-idf score for \"Python\" ranges from 0 to 10 and the tf-idf score for  \"protein\" ranges from 0 to 20. In this case, the feature'"
   ]
  },
  {
   "cell_type": "code",
   "execution_count": 116,
   "metadata": {
    "hidden": true
   },
   "outputs": [
    {
     "data": {
      "text/plain": [
       "'Unfortunately, the problem of finding the most efficient bundle is NP-hard. Therefore, the authors of the paper opted for an approximate algorithm that tolerated a certain degree of overlap \\\\gamma  between the non-zero elements within a feature bundle. The details of this algorithm are beyond the scope of this post, so please refer to the original paper for details.'"
      ]
     },
     "execution_count": 116,
     "metadata": {},
     "output_type": "execute_result"
    }
   ],
   "source": [
    "'LGBM: Unfortunately, the problem of finding the most efficient bundle is NP-hard. Therefore, the authors of the paper opted for an approximate algorithm that tolerated a certain degree of overlap \\gamma  between the non-zero elements within a feature bundle. The details of this algorithm are beyond the scope of this post, so please refer to the original paper for details.'"
   ]
  },
  {
   "cell_type": "markdown",
   "metadata": {
    "hidden": true
   },
   "source": [
    "HistGradientBoostingClassifier is based on Microsofts LightGBM."
   ]
  },
  {
   "cell_type": "markdown",
   "metadata": {
    "heading_collapsed": true,
    "hidden": true
   },
   "source": [
    "### Initial Classifiers "
   ]
  },
  {
   "cell_type": "code",
   "execution_count": 3,
   "metadata": {
    "hidden": true
   },
   "outputs": [],
   "source": [
    "def m_roc(y, xs):\n",
    "    preds = clf.predict_proba(xs)\n",
    "    preds_isFraud = preds[:,1]\n",
    "    return roc_auc_score(y, preds_isFraud)"
   ]
  },
  {
   "cell_type": "markdown",
   "metadata": {
    "hidden": true
   },
   "source": [
    "The max_iter parameter is increased to 1000 from its default value of 100."
   ]
  },
  {
   "cell_type": "code",
   "execution_count": 22,
   "metadata": {
    "collapsed": true,
    "hidden": true
   },
   "outputs": [
    {
     "name": "stdout",
     "output_type": "stream",
     "text": [
      "Binning 0.042 GB of training data: 0.286 s\n",
      "Binning 0.005 GB of validation data: 0.021 s\n",
      "Fitting gradient boosted rounds:\n",
      "[1/1000] 1 tree, 31 leaves, max depth = 9, train score: 0.83480, val score: 0.78900, in 0.062s\n",
      "[2/1000] 1 tree, 31 leaves, max depth = 10, train score: 0.86395, val score: 0.81880, in 0.073s\n",
      "[3/1000] 1 tree, 31 leaves, max depth = 10, train score: 0.86796, val score: 0.81789, in 0.059s\n",
      "[4/1000] 1 tree, 31 leaves, max depth = 11, train score: 0.89040, val score: 0.85394, in 0.064s\n",
      "[5/1000] 1 tree, 31 leaves, max depth = 11, train score: 0.89595, val score: 0.85530, in 0.066s\n",
      "[6/1000] 1 tree, 31 leaves, max depth = 10, train score: 0.90007, val score: 0.85618, in 0.065s\n",
      "[7/1000] 1 tree, 31 leaves, max depth = 13, train score: 0.90363, val score: 0.85351, in 0.066s\n",
      "[8/1000] 1 tree, 31 leaves, max depth = 9, train score: 0.90634, val score: 0.86130, in 0.066s\n",
      "[9/1000] 1 tree, 31 leaves, max depth = 11, train score: 0.91021, val score: 0.86198, in 0.071s\n",
      "[10/1000] 1 tree, 31 leaves, max depth = 11, train score: 0.91085, val score: 0.86286, in 0.067s\n",
      "[11/1000] 1 tree, 31 leaves, max depth = 11, train score: 0.91691, val score: 0.86384, in 0.076s\n",
      "[12/1000] 1 tree, 31 leaves, max depth = 11, train score: 0.91915, val score: 0.86547, in 0.129s\n",
      "[13/1000] 1 tree, 31 leaves, max depth = 9, train score: 0.92196, val score: 0.86683, in 0.063s\n",
      "[14/1000] 1 tree, 31 leaves, max depth = 10, train score: 0.92536, val score: 0.86861, in 0.072s\n",
      "[15/1000] 1 tree, 31 leaves, max depth = 12, train score: 0.92757, val score: 0.87144, in 0.067s\n",
      "[16/1000] 1 tree, 31 leaves, max depth = 11, train score: 0.92900, val score: 0.87157, in 0.087s\n",
      "[17/1000] 1 tree, 31 leaves, max depth = 13, train score: 0.93083, val score: 0.87283, in 0.067s\n",
      "[18/1000] 1 tree, 31 leaves, max depth = 12, train score: 0.93339, val score: 0.87618, in 0.064s\n",
      "[19/1000] 1 tree, 31 leaves, max depth = 12, train score: 0.93337, val score: 0.87749, in 0.070s\n",
      "[20/1000] 1 tree, 31 leaves, max depth = 11, train score: 0.93729, val score: 0.87826, in 0.067s\n",
      "[21/1000] 1 tree, 31 leaves, max depth = 11, train score: 0.93808, val score: 0.87799, in 0.070s\n",
      "[22/1000] 1 tree, 31 leaves, max depth = 10, train score: 0.93908, val score: 0.87874, in 0.073s\n",
      "[23/1000] 1 tree, 31 leaves, max depth = 12, train score: 0.94282, val score: 0.88127, in 0.074s\n",
      "[24/1000] 1 tree, 31 leaves, max depth = 10, train score: 0.94345, val score: 0.88238, in 0.070s\n",
      "[25/1000] 1 tree, 31 leaves, max depth = 13, train score: 0.94344, val score: 0.88105, in 0.071s\n",
      "[26/1000] 1 tree, 31 leaves, max depth = 15, train score: 0.94412, val score: 0.88155, in 0.072s\n",
      "[27/1000] 1 tree, 31 leaves, max depth = 11, train score: 0.94699, val score: 0.88112, in 0.071s\n",
      "[28/1000] 1 tree, 31 leaves, max depth = 11, train score: 0.94899, val score: 0.88029, in 0.074s\n",
      "[29/1000] 1 tree, 31 leaves, max depth = 9, train score: 0.94942, val score: 0.88017, in 0.074s\n",
      "[30/1000] 1 tree, 31 leaves, max depth = 11, train score: 0.95143, val score: 0.88130, in 0.070s\n",
      "[31/1000] 1 tree, 31 leaves, max depth = 14, train score: 0.95304, val score: 0.88155, in 0.074s\n",
      "[32/1000] 1 tree, 31 leaves, max depth = 11, train score: 0.95489, val score: 0.88226, in 0.073s\n",
      "[33/1000] 1 tree, 31 leaves, max depth = 15, train score: 0.95604, val score: 0.88292, in 0.077s\n",
      "[34/1000] 1 tree, 31 leaves, max depth = 15, train score: 0.95788, val score: 0.88296, in 0.138s\n",
      "[35/1000] 1 tree, 31 leaves, max depth = 9, train score: 0.96057, val score: 0.88434, in 0.075s\n",
      "[36/1000] 1 tree, 31 leaves, max depth = 15, train score: 0.96141, val score: 0.88421, in 0.075s\n",
      "[37/1000] 1 tree, 31 leaves, max depth = 12, train score: 0.96241, val score: 0.88576, in 0.076s\n",
      "[38/1000] 1 tree, 31 leaves, max depth = 12, train score: 0.96332, val score: 0.88584, in 0.076s\n",
      "[39/1000] 1 tree, 31 leaves, max depth = 11, train score: 0.96433, val score: 0.88626, in 0.073s\n",
      "[40/1000] 1 tree, 31 leaves, max depth = 12, train score: 0.96613, val score: 0.88542, in 0.076s\n",
      "[41/1000] 1 tree, 31 leaves, max depth = 13, train score: 0.96716, val score: 0.88542, in 0.077s\n",
      "[42/1000] 1 tree, 31 leaves, max depth = 13, train score: 0.96903, val score: 0.88662, in 0.076s\n",
      "[43/1000] 1 tree, 31 leaves, max depth = 8, train score: 0.97028, val score: 0.88658, in 0.076s\n",
      "[44/1000] 1 tree, 31 leaves, max depth = 15, train score: 0.97133, val score: 0.88673, in 0.077s\n",
      "[45/1000] 1 tree, 31 leaves, max depth = 14, train score: 0.97195, val score: 0.88559, in 0.078s\n",
      "[46/1000] 1 tree, 31 leaves, max depth = 11, train score: 0.97259, val score: 0.88549, in 0.077s\n",
      "[47/1000] 1 tree, 31 leaves, max depth = 15, train score: 0.97302, val score: 0.88613, in 0.080s\n",
      "[48/1000] 1 tree, 31 leaves, max depth = 14, train score: 0.97381, val score: 0.88567, in 0.075s\n",
      "[49/1000] 1 tree, 31 leaves, max depth = 11, train score: 0.97424, val score: 0.88606, in 0.084s\n",
      "[50/1000] 1 tree, 31 leaves, max depth = 14, train score: 0.97444, val score: 0.88624, in 0.081s\n",
      "[51/1000] 1 tree, 31 leaves, max depth = 13, train score: 0.97489, val score: 0.88547, in 0.075s\n",
      "[52/1000] 1 tree, 31 leaves, max depth = 13, train score: 0.97565, val score: 0.88833, in 0.083s\n",
      "[53/1000] 1 tree, 31 leaves, max depth = 13, train score: 0.97671, val score: 0.88756, in 0.082s\n",
      "[54/1000] 1 tree, 31 leaves, max depth = 12, train score: 0.97694, val score: 0.88720, in 0.116s\n",
      "[55/1000] 1 tree, 31 leaves, max depth = 12, train score: 0.97712, val score: 0.88697, in 0.129s\n",
      "[56/1000] 1 tree, 31 leaves, max depth = 12, train score: 0.97749, val score: 0.88724, in 0.083s\n",
      "[57/1000] 1 tree, 31 leaves, max depth = 15, train score: 0.97773, val score: 0.88625, in 0.078s\n",
      "[58/1000] 1 tree, 31 leaves, max depth = 15, train score: 0.97921, val score: 0.88659, in 0.080s\n",
      "[59/1000] 1 tree, 31 leaves, max depth = 9, train score: 0.97949, val score: 0.88736, in 0.081s\n",
      "[60/1000] 1 tree, 31 leaves, max depth = 10, train score: 0.97969, val score: 0.88723, in 0.079s\n",
      "[61/1000] 1 tree, 31 leaves, max depth = 14, train score: 0.98018, val score: 0.88717, in 0.082s\n",
      "[62/1000] 1 tree, 31 leaves, max depth = 12, train score: 0.98054, val score: 0.88737, in 0.081s\n",
      "Fit 62 trees in 5.321 s, (1922 total leaves)\n",
      "Time spent computing histograms: 1.903s\n",
      "Time spent finding best splits:  0.515s\n",
      "Time spent applying splits:      0.708s\n",
      "Time spent predicting:           0.011s\n",
      "CPU times: user 31.7 s, sys: 5.21 s, total: 37 s\n",
      "Wall time: 5.52 s\n"
     ]
    },
    {
     "data": {
      "text/plain": [
       "(0.9658515572705477, 0.8836308129568515)"
      ]
     },
     "execution_count": 22,
     "metadata": {},
     "output_type": "execute_result"
    }
   ],
   "source": [
    "%%time\n",
    "clf = HistGradientBoostingClassifier(loss='binary_crossentropy', verbose=1,\n",
    "                                    max_iter=1000, scoring='roc_auc')\n",
    "clf.fit(xs,y)\n",
    "m_roc(y, xs), m_roc(valid_y, valid_xs)"
   ]
  },
  {
   "cell_type": "markdown",
   "metadata": {
    "hidden": true
   },
   "source": [
    "The algorithm may have stopped too early, so let's increase the threshold for early stopping by decreasing tol by a factor of 10 to e-8 from its default value e-7."
   ]
  },
  {
   "cell_type": "code",
   "execution_count": 17,
   "metadata": {
    "collapsed": true,
    "hidden": true
   },
   "outputs": [
    {
     "name": "stdout",
     "output_type": "stream",
     "text": [
      "Binning 0.042 GB of training data: 0.271 s\n",
      "Binning 0.005 GB of validation data: 0.019 s\n",
      "Fitting gradient boosted rounds:\n",
      "[1/1000] 1 tree, 31 leaves, max depth = 9, train score: 0.78101, val score: 0.79729, in 0.058s\n",
      "[2/1000] 1 tree, 31 leaves, max depth = 10, train score: 0.81562, val score: 0.84685, in 0.083s\n",
      "[3/1000] 1 tree, 31 leaves, max depth = 10, train score: 0.84869, val score: 0.87510, in 0.047s\n",
      "[4/1000] 1 tree, 31 leaves, max depth = 8, train score: 0.85485, val score: 0.88094, in 0.047s\n",
      "[5/1000] 1 tree, 31 leaves, max depth = 9, train score: 0.86568, val score: 0.88349, in 0.051s\n",
      "[6/1000] 1 tree, 31 leaves, max depth = 9, train score: 0.87742, val score: 0.88483, in 0.044s\n",
      "[7/1000] 1 tree, 31 leaves, max depth = 9, train score: 0.88160, val score: 0.88449, in 0.047s\n",
      "[8/1000] 1 tree, 31 leaves, max depth = 9, train score: 0.88430, val score: 0.88644, in 0.058s\n",
      "[9/1000] 1 tree, 31 leaves, max depth = 9, train score: 0.88651, val score: 0.88777, in 0.058s\n",
      "[10/1000] 1 tree, 31 leaves, max depth = 11, train score: 0.89179, val score: 0.89170, in 0.051s\n",
      "[11/1000] 1 tree, 31 leaves, max depth = 11, train score: 0.89370, val score: 0.89302, in 0.050s\n",
      "[12/1000] 1 tree, 31 leaves, max depth = 10, train score: 0.89464, val score: 0.89145, in 0.054s\n",
      "[13/1000] 1 tree, 31 leaves, max depth = 12, train score: 0.89885, val score: 0.89303, in 0.048s\n",
      "[14/1000] 1 tree, 31 leaves, max depth = 10, train score: 0.89924, val score: 0.89149, in 0.052s\n",
      "[15/1000] 1 tree, 31 leaves, max depth = 10, train score: 0.90125, val score: 0.89027, in 0.054s\n",
      "[16/1000] 1 tree, 31 leaves, max depth = 12, train score: 0.90310, val score: 0.89205, in 0.054s\n",
      "[17/1000] 1 tree, 31 leaves, max depth = 11, train score: 0.90443, val score: 0.89467, in 0.055s\n",
      "[18/1000] 1 tree, 31 leaves, max depth = 10, train score: 0.90864, val score: 0.89606, in 0.053s\n",
      "[19/1000] 1 tree, 31 leaves, max depth = 10, train score: 0.90902, val score: 0.89602, in 0.052s\n",
      "[20/1000] 1 tree, 31 leaves, max depth = 11, train score: 0.91304, val score: 0.89766, in 0.055s\n",
      "[21/1000] 1 tree, 31 leaves, max depth = 12, train score: 0.91931, val score: 0.89830, in 0.060s\n",
      "[22/1000] 1 tree, 31 leaves, max depth = 11, train score: 0.92041, val score: 0.90041, in 0.054s\n",
      "[23/1000] 1 tree, 31 leaves, max depth = 15, train score: 0.92094, val score: 0.90119, in 0.075s\n",
      "[24/1000] 1 tree, 31 leaves, max depth = 9, train score: 0.92341, val score: 0.90133, in 0.059s\n",
      "[25/1000] 1 tree, 31 leaves, max depth = 11, train score: 0.92410, val score: 0.90125, in 0.053s\n",
      "[26/1000] 1 tree, 31 leaves, max depth = 11, train score: 0.92501, val score: 0.90098, in 0.059s\n",
      "[27/1000] 1 tree, 31 leaves, max depth = 12, train score: 0.92498, val score: 0.90125, in 0.055s\n",
      "[28/1000] 1 tree, 31 leaves, max depth = 11, train score: 0.93032, val score: 0.90348, in 0.055s\n",
      "[29/1000] 1 tree, 31 leaves, max depth = 15, train score: 0.93137, val score: 0.90467, in 0.056s\n",
      "[30/1000] 1 tree, 31 leaves, max depth = 10, train score: 0.93206, val score: 0.90753, in 0.060s\n",
      "[31/1000] 1 tree, 31 leaves, max depth = 13, train score: 0.93448, val score: 0.90821, in 0.055s\n",
      "[32/1000] 1 tree, 31 leaves, max depth = 13, train score: 0.93692, val score: 0.90872, in 0.059s\n",
      "[33/1000] 1 tree, 31 leaves, max depth = 11, train score: 0.93935, val score: 0.90870, in 0.056s\n",
      "[34/1000] 1 tree, 31 leaves, max depth = 11, train score: 0.94100, val score: 0.90850, in 0.071s\n",
      "[35/1000] 1 tree, 31 leaves, max depth = 13, train score: 0.94239, val score: 0.90788, in 0.061s\n",
      "[36/1000] 1 tree, 31 leaves, max depth = 13, train score: 0.94379, val score: 0.90872, in 0.060s\n",
      "[37/1000] 1 tree, 31 leaves, max depth = 13, train score: 0.94429, val score: 0.90914, in 0.060s\n",
      "[38/1000] 1 tree, 31 leaves, max depth = 14, train score: 0.94532, val score: 0.90944, in 0.063s\n",
      "[39/1000] 1 tree, 31 leaves, max depth = 11, train score: 0.94778, val score: 0.90920, in 0.059s\n",
      "[40/1000] 1 tree, 31 leaves, max depth = 12, train score: 0.94912, val score: 0.90928, in 0.058s\n",
      "[41/1000] 1 tree, 31 leaves, max depth = 13, train score: 0.95071, val score: 0.90880, in 0.060s\n",
      "[42/1000] 1 tree, 31 leaves, max depth = 16, train score: 0.95180, val score: 0.90918, in 0.060s\n",
      "[43/1000] 1 tree, 31 leaves, max depth = 9, train score: 0.95205, val score: 0.90975, in 0.056s\n",
      "[44/1000] 1 tree, 31 leaves, max depth = 11, train score: 0.95353, val score: 0.90948, in 0.094s\n",
      "[45/1000] 1 tree, 31 leaves, max depth = 10, train score: 0.95438, val score: 0.91014, in 0.061s\n",
      "[46/1000] 1 tree, 31 leaves, max depth = 12, train score: 0.95861, val score: 0.91212, in 0.060s\n",
      "[47/1000] 1 tree, 31 leaves, max depth = 10, train score: 0.95872, val score: 0.91213, in 0.062s\n",
      "[48/1000] 1 tree, 31 leaves, max depth = 13, train score: 0.96030, val score: 0.91213, in 0.065s\n",
      "[49/1000] 1 tree, 31 leaves, max depth = 13, train score: 0.96211, val score: 0.91306, in 0.065s\n",
      "[50/1000] 1 tree, 31 leaves, max depth = 16, train score: 0.96262, val score: 0.91260, in 0.060s\n",
      "[51/1000] 1 tree, 31 leaves, max depth = 10, train score: 0.96270, val score: 0.91336, in 0.063s\n",
      "[52/1000] 1 tree, 31 leaves, max depth = 17, train score: 0.96344, val score: 0.91323, in 0.065s\n",
      "[53/1000] 1 tree, 31 leaves, max depth = 12, train score: 0.96357, val score: 0.91288, in 0.065s\n",
      "[54/1000] 1 tree, 31 leaves, max depth = 13, train score: 0.96407, val score: 0.91349, in 0.066s\n",
      "[55/1000] 1 tree, 31 leaves, max depth = 11, train score: 0.96466, val score: 0.91344, in 0.064s\n",
      "[56/1000] 1 tree, 31 leaves, max depth = 14, train score: 0.96481, val score: 0.91329, in 0.065s\n",
      "[57/1000] 1 tree, 31 leaves, max depth = 14, train score: 0.96574, val score: 0.91341, in 0.062s\n",
      "[58/1000] 1 tree, 31 leaves, max depth = 12, train score: 0.96596, val score: 0.91376, in 0.065s\n",
      "[59/1000] 1 tree, 31 leaves, max depth = 18, train score: 0.96673, val score: 0.91395, in 0.065s\n",
      "[60/1000] 1 tree, 31 leaves, max depth = 15, train score: 0.96687, val score: 0.91389, in 0.063s\n",
      "[61/1000] 1 tree, 31 leaves, max depth = 12, train score: 0.96696, val score: 0.91459, in 0.066s\n",
      "[62/1000] 1 tree, 31 leaves, max depth = 10, train score: 0.96833, val score: 0.91508, in 0.065s\n",
      "[63/1000] 1 tree, 31 leaves, max depth = 10, train score: 0.96876, val score: 0.91508, in 0.065s\n",
      "[64/1000] 1 tree, 31 leaves, max depth = 11, train score: 0.96892, val score: 0.91541, in 0.064s\n",
      "[65/1000] 1 tree, 31 leaves, max depth = 16, train score: 0.96933, val score: 0.91540, in 0.091s\n",
      "[66/1000] 1 tree, 31 leaves, max depth = 12, train score: 0.96959, val score: 0.91527, in 0.064s\n",
      "[67/1000] 1 tree, 31 leaves, max depth = 12, train score: 0.96998, val score: 0.91567, in 0.066s\n",
      "[68/1000] 1 tree, 31 leaves, max depth = 13, train score: 0.97003, val score: 0.91613, in 0.065s\n",
      "[69/1000] 1 tree, 31 leaves, max depth = 12, train score: 0.97097, val score: 0.91597, in 0.068s\n",
      "[70/1000] 1 tree, 31 leaves, max depth = 11, train score: 0.97152, val score: 0.91581, in 0.066s\n",
      "[71/1000] 1 tree, 31 leaves, max depth = 11, train score: 0.97196, val score: 0.91556, in 0.068s\n",
      "[72/1000] 1 tree, 31 leaves, max depth = 11, train score: 0.97211, val score: 0.91582, in 0.071s\n",
      "[73/1000] 1 tree, 31 leaves, max depth = 10, train score: 0.97226, val score: 0.91556, in 0.066s\n",
      "[74/1000] 1 tree, 31 leaves, max depth = 14, train score: 0.97277, val score: 0.91556, in 0.066s\n",
      "[75/1000] 1 tree, 31 leaves, max depth = 11, train score: 0.97296, val score: 0.91540, in 0.065s\n",
      "[76/1000] 1 tree, 31 leaves, max depth = 15, train score: 0.97333, val score: 0.91552, in 0.069s\n",
      "[77/1000] 1 tree, 31 leaves, max depth = 11, train score: 0.97363, val score: 0.91581, in 0.066s\n",
      "[78/1000] 1 tree, 31 leaves, max depth = 16, train score: 0.97411, val score: 0.91583, in 0.068s\n",
      "Fit 78 trees in 5.257 s, (2418 total leaves)\n",
      "Time spent computing histograms: 1.837s\n",
      "Time spent finding best splits:  0.542s\n",
      "Time spent applying splits:      0.732s\n",
      "Time spent predicting:           0.012s\n",
      "CPU times: user 29.9 s, sys: 5.17 s, total: 35.1 s\n",
      "Wall time: 5.44 s\n"
     ]
    },
    {
     "data": {
      "text/plain": [
       "(0.9736014537452244, 0.8878831140620626)"
      ]
     },
     "execution_count": 17,
     "metadata": {},
     "output_type": "execute_result"
    }
   ],
   "source": [
    "%%time\n",
    "clf = HistGradientBoostingClassifier(loss='binary_crossentropy', verbose=1,\n",
    "                                     max_iter=1000, scoring='roc_auc', tol=1e-8)\n",
    "clf.fit(xs,y)\n",
    "m_roc(y, xs), m_roc(valid_y, valid_xs)"
   ]
  },
  {
   "cell_type": "code",
   "execution_count": 41,
   "metadata": {
    "collapsed": true,
    "hidden": true
   },
   "outputs": [
    {
     "name": "stdout",
     "output_type": "stream",
     "text": [
      "Binning 0.042 GB of training data: 0.277 s\n",
      "Binning 0.005 GB of validation data: 0.020 s\n",
      "Fitting gradient boosted rounds:\n",
      "[1/1000] 1 tree, 44 leaves, max depth = 9, train score: 0.86889, val score: 0.82889, in 0.082s\n",
      "[2/1000] 1 tree, 44 leaves, max depth = 10, train score: 0.87925, val score: 0.82951, in 0.083s\n",
      "[3/1000] 1 tree, 44 leaves, max depth = 11, train score: 0.88058, val score: 0.83309, in 0.082s\n",
      "[4/1000] 1 tree, 44 leaves, max depth = 10, train score: 0.88378, val score: 0.83707, in 0.160s\n",
      "[5/1000] 1 tree, 44 leaves, max depth = 9, train score: 0.88396, val score: 0.83800, in 0.085s\n",
      "[6/1000] 1 tree, 44 leaves, max depth = 12, train score: 0.88424, val score: 0.83771, in 0.088s\n",
      "[7/1000] 1 tree, 44 leaves, max depth = 10, train score: 0.88430, val score: 0.83762, in 0.087s\n",
      "[8/1000] 1 tree, 44 leaves, max depth = 12, train score: 0.88433, val score: 0.83813, in 0.087s\n",
      "[9/1000] 1 tree, 44 leaves, max depth = 10, train score: 0.88446, val score: 0.83836, in 0.090s\n",
      "[10/1000] 1 tree, 44 leaves, max depth = 10, train score: 0.88459, val score: 0.83908, in 0.090s\n",
      "[11/1000] 1 tree, 44 leaves, max depth = 11, train score: 0.88454, val score: 0.84037, in 0.090s\n",
      "[12/1000] 1 tree, 44 leaves, max depth = 10, train score: 0.88534, val score: 0.84267, in 0.093s\n",
      "[13/1000] 1 tree, 44 leaves, max depth = 10, train score: 0.88586, val score: 0.84335, in 0.090s\n",
      "[14/1000] 1 tree, 44 leaves, max depth = 10, train score: 0.88672, val score: 0.84386, in 0.091s\n",
      "[15/1000] 1 tree, 44 leaves, max depth = 11, train score: 0.89056, val score: 0.84951, in 0.089s\n",
      "[16/1000] 1 tree, 44 leaves, max depth = 9, train score: 0.89165, val score: 0.84936, in 0.161s\n",
      "[17/1000] 1 tree, 44 leaves, max depth = 10, train score: 0.89175, val score: 0.84971, in 0.090s\n",
      "[18/1000] 1 tree, 44 leaves, max depth = 10, train score: 0.89250, val score: 0.85109, in 0.091s\n",
      "[19/1000] 1 tree, 44 leaves, max depth = 13, train score: 0.89341, val score: 0.85141, in 0.091s\n",
      "[20/1000] 1 tree, 44 leaves, max depth = 12, train score: 0.89497, val score: 0.85107, in 0.094s\n",
      "[21/1000] 1 tree, 44 leaves, max depth = 12, train score: 0.89689, val score: 0.85174, in 0.091s\n",
      "[22/1000] 1 tree, 44 leaves, max depth = 11, train score: 0.89709, val score: 0.85210, in 0.093s\n",
      "[23/1000] 1 tree, 44 leaves, max depth = 10, train score: 0.89761, val score: 0.85244, in 0.095s\n",
      "[24/1000] 1 tree, 44 leaves, max depth = 12, train score: 0.89794, val score: 0.85195, in 0.093s\n",
      "[25/1000] 1 tree, 44 leaves, max depth = 10, train score: 0.89980, val score: 0.85508, in 0.094s\n",
      "[26/1000] 1 tree, 44 leaves, max depth = 9, train score: 0.90154, val score: 0.85742, in 0.096s\n",
      "[27/1000] 1 tree, 44 leaves, max depth = 11, train score: 0.90360, val score: 0.85791, in 0.099s\n",
      "[28/1000] 1 tree, 44 leaves, max depth = 9, train score: 0.90471, val score: 0.85904, in 0.171s\n",
      "[29/1000] 1 tree, 44 leaves, max depth = 11, train score: 0.90510, val score: 0.86024, in 0.136s\n",
      "[30/1000] 1 tree, 44 leaves, max depth = 13, train score: 0.90553, val score: 0.86090, in 0.159s\n",
      "[31/1000] 1 tree, 44 leaves, max depth = 11, train score: 0.90712, val score: 0.86134, in 0.132s\n",
      "[32/1000] 1 tree, 44 leaves, max depth = 10, train score: 0.90751, val score: 0.86168, in 0.099s\n",
      "[33/1000] 1 tree, 44 leaves, max depth = 10, train score: 0.90867, val score: 0.86249, in 0.098s\n",
      "[34/1000] 1 tree, 44 leaves, max depth = 11, train score: 0.90917, val score: 0.86294, in 0.099s\n",
      "[35/1000] 1 tree, 44 leaves, max depth = 10, train score: 0.91006, val score: 0.86331, in 0.100s\n",
      "[36/1000] 1 tree, 44 leaves, max depth = 13, train score: 0.91094, val score: 0.86418, in 0.101s\n",
      "[37/1000] 1 tree, 44 leaves, max depth = 11, train score: 0.91123, val score: 0.86468, in 0.099s\n",
      "[38/1000] 1 tree, 44 leaves, max depth = 11, train score: 0.91175, val score: 0.86498, in 0.101s\n",
      "[39/1000] 1 tree, 44 leaves, max depth = 11, train score: 0.91208, val score: 0.86511, in 0.110s\n",
      "[40/1000] 1 tree, 44 leaves, max depth = 11, train score: 0.91282, val score: 0.86703, in 0.102s\n",
      "[41/1000] 1 tree, 44 leaves, max depth = 12, train score: 0.91455, val score: 0.86756, in 0.177s\n",
      "[42/1000] 1 tree, 44 leaves, max depth = 11, train score: 0.91506, val score: 0.86914, in 0.099s\n",
      "[43/1000] 1 tree, 44 leaves, max depth = 13, train score: 0.91577, val score: 0.86989, in 0.102s\n",
      "[44/1000] 1 tree, 44 leaves, max depth = 10, train score: 0.91696, val score: 0.87061, in 0.103s\n",
      "[45/1000] 1 tree, 44 leaves, max depth = 13, train score: 0.91943, val score: 0.87124, in 0.101s\n",
      "[46/1000] 1 tree, 44 leaves, max depth = 11, train score: 0.92017, val score: 0.87168, in 0.108s\n",
      "[47/1000] 1 tree, 44 leaves, max depth = 13, train score: 0.92056, val score: 0.87131, in 0.105s\n",
      "[48/1000] 1 tree, 44 leaves, max depth = 10, train score: 0.92145, val score: 0.87164, in 0.106s\n",
      "[49/1000] 1 tree, 44 leaves, max depth = 11, train score: 0.92239, val score: 0.87157, in 0.104s\n",
      "[50/1000] 1 tree, 44 leaves, max depth = 10, train score: 0.92293, val score: 0.87216, in 0.106s\n",
      "[51/1000] 1 tree, 44 leaves, max depth = 13, train score: 0.92351, val score: 0.87226, in 0.103s\n",
      "[52/1000] 1 tree, 44 leaves, max depth = 11, train score: 0.92405, val score: 0.87295, in 0.110s\n",
      "[53/1000] 1 tree, 44 leaves, max depth = 12, train score: 0.92507, val score: 0.87391, in 0.188s\n",
      "[54/1000] 1 tree, 44 leaves, max depth = 12, train score: 0.92513, val score: 0.87404, in 0.099s\n",
      "[55/1000] 1 tree, 44 leaves, max depth = 12, train score: 0.92559, val score: 0.87390, in 0.104s\n",
      "[56/1000] 1 tree, 44 leaves, max depth = 11, train score: 0.92636, val score: 0.87465, in 0.107s\n",
      "[57/1000] 1 tree, 44 leaves, max depth = 11, train score: 0.92674, val score: 0.87457, in 0.106s\n",
      "[58/1000] 1 tree, 44 leaves, max depth = 11, train score: 0.92740, val score: 0.87509, in 0.107s\n",
      "[59/1000] 1 tree, 44 leaves, max depth = 12, train score: 0.92784, val score: 0.87576, in 0.109s\n",
      "[60/1000] 1 tree, 44 leaves, max depth = 12, train score: 0.92813, val score: 0.87608, in 0.109s\n",
      "[61/1000] 1 tree, 44 leaves, max depth = 10, train score: 0.92833, val score: 0.87648, in 0.107s\n",
      "[62/1000] 1 tree, 44 leaves, max depth = 10, train score: 0.92894, val score: 0.87754, in 0.113s\n",
      "[63/1000] 1 tree, 44 leaves, max depth = 11, train score: 0.92944, val score: 0.87777, in 0.111s\n",
      "[64/1000] 1 tree, 44 leaves, max depth = 12, train score: 0.92980, val score: 0.87787, in 0.109s\n",
      "[65/1000] 1 tree, 44 leaves, max depth = 12, train score: 0.93063, val score: 0.87843, in 0.193s\n",
      "[66/1000] 1 tree, 44 leaves, max depth = 13, train score: 0.93113, val score: 0.87863, in 0.109s\n",
      "[67/1000] 1 tree, 44 leaves, max depth = 11, train score: 0.93141, val score: 0.87897, in 0.110s\n",
      "[68/1000] 1 tree, 44 leaves, max depth = 11, train score: 0.93190, val score: 0.87945, in 0.109s\n",
      "[69/1000] 1 tree, 44 leaves, max depth = 11, train score: 0.93213, val score: 0.87978, in 0.112s\n",
      "[70/1000] 1 tree, 44 leaves, max depth = 11, train score: 0.93252, val score: 0.87980, in 0.119s\n",
      "[71/1000] 1 tree, 44 leaves, max depth = 12, train score: 0.93300, val score: 0.87976, in 0.113s\n",
      "[72/1000] 1 tree, 44 leaves, max depth = 12, train score: 0.93357, val score: 0.87953, in 0.114s\n",
      "[73/1000] 1 tree, 44 leaves, max depth = 13, train score: 0.93434, val score: 0.87945, in 0.114s\n",
      "[74/1000] 1 tree, 44 leaves, max depth = 12, train score: 0.93476, val score: 0.87932, in 0.118s\n",
      "[75/1000] 1 tree, 44 leaves, max depth = 12, train score: 0.93534, val score: 0.87903, in 0.117s\n",
      "[76/1000] 1 tree, 44 leaves, max depth = 11, train score: 0.93571, val score: 0.87904, in 0.118s\n",
      "[77/1000] 1 tree, 44 leaves, max depth = 13, train score: 0.93586, val score: 0.87946, in 0.124s\n",
      "[78/1000] 1 tree, 44 leaves, max depth = 13, train score: 0.93603, val score: 0.87986, in 0.186s\n",
      "[79/1000] 1 tree, 44 leaves, max depth = 14, train score: 0.93676, val score: 0.87968, in 0.119s\n",
      "[80/1000] 1 tree, 44 leaves, max depth = 12, train score: 0.93722, val score: 0.87948, in 0.117s\n",
      "[81/1000] 1 tree, 44 leaves, max depth = 12, train score: 0.93768, val score: 0.87984, in 0.118s\n",
      "[82/1000] 1 tree, 44 leaves, max depth = 13, train score: 0.93809, val score: 0.87997, in 0.117s\n",
      "[83/1000] 1 tree, 44 leaves, max depth = 16, train score: 0.93861, val score: 0.88016, in 0.118s\n",
      "[84/1000] 1 tree, 44 leaves, max depth = 12, train score: 0.93926, val score: 0.88039, in 0.128s\n"
     ]
    },
    {
     "name": "stdout",
     "output_type": "stream",
     "text": [
      "[85/1000] 1 tree, 44 leaves, max depth = 14, train score: 0.93967, val score: 0.88073, in 0.120s\n",
      "[86/1000] 1 tree, 44 leaves, max depth = 11, train score: 0.94014, val score: 0.88105, in 0.122s\n",
      "[87/1000] 1 tree, 44 leaves, max depth = 14, train score: 0.94048, val score: 0.88154, in 0.119s\n",
      "[88/1000] 1 tree, 44 leaves, max depth = 10, train score: 0.94068, val score: 0.88203, in 0.118s\n",
      "[89/1000] 1 tree, 44 leaves, max depth = 16, train score: 0.94092, val score: 0.88201, in 0.119s\n",
      "[90/1000] 1 tree, 44 leaves, max depth = 14, train score: 0.94134, val score: 0.88236, in 0.202s\n",
      "[91/1000] 1 tree, 44 leaves, max depth = 13, train score: 0.94175, val score: 0.88235, in 0.111s\n",
      "[92/1000] 1 tree, 44 leaves, max depth = 10, train score: 0.94205, val score: 0.88261, in 0.117s\n",
      "[93/1000] 1 tree, 44 leaves, max depth = 14, train score: 0.94233, val score: 0.88285, in 0.116s\n",
      "[94/1000] 1 tree, 44 leaves, max depth = 8, train score: 0.94257, val score: 0.88302, in 0.117s\n",
      "[95/1000] 1 tree, 44 leaves, max depth = 11, train score: 0.94283, val score: 0.88384, in 0.125s\n",
      "[96/1000] 1 tree, 44 leaves, max depth = 10, train score: 0.94301, val score: 0.88443, in 0.126s\n",
      "[97/1000] 1 tree, 44 leaves, max depth = 11, train score: 0.94344, val score: 0.88463, in 0.120s\n",
      "[98/1000] 1 tree, 44 leaves, max depth = 13, train score: 0.94411, val score: 0.88485, in 0.120s\n",
      "[99/1000] 1 tree, 44 leaves, max depth = 11, train score: 0.94429, val score: 0.88503, in 0.122s\n",
      "[100/1000] 1 tree, 44 leaves, max depth = 13, train score: 0.94463, val score: 0.88551, in 0.127s\n",
      "[101/1000] 1 tree, 44 leaves, max depth = 15, train score: 0.94543, val score: 0.88551, in 0.123s\n",
      "[102/1000] 1 tree, 44 leaves, max depth = 12, train score: 0.94574, val score: 0.88598, in 0.169s\n",
      "[103/1000] 1 tree, 44 leaves, max depth = 12, train score: 0.94620, val score: 0.88625, in 0.178s\n",
      "[104/1000] 1 tree, 44 leaves, max depth = 11, train score: 0.94668, val score: 0.88639, in 0.112s\n",
      "[105/1000] 1 tree, 44 leaves, max depth = 12, train score: 0.94704, val score: 0.88625, in 0.108s\n",
      "[106/1000] 1 tree, 44 leaves, max depth = 14, train score: 0.94730, val score: 0.88634, in 0.108s\n",
      "[107/1000] 1 tree, 44 leaves, max depth = 14, train score: 0.94765, val score: 0.88659, in 0.112s\n",
      "[108/1000] 1 tree, 44 leaves, max depth = 12, train score: 0.94793, val score: 0.88664, in 0.138s\n",
      "[109/1000] 1 tree, 44 leaves, max depth = 13, train score: 0.94810, val score: 0.88662, in 0.110s\n",
      "[110/1000] 1 tree, 44 leaves, max depth = 13, train score: 0.94860, val score: 0.88663, in 0.111s\n",
      "[111/1000] 1 tree, 44 leaves, max depth = 11, train score: 0.94918, val score: 0.88693, in 0.110s\n",
      "[112/1000] 1 tree, 44 leaves, max depth = 16, train score: 0.94939, val score: 0.88710, in 0.111s\n",
      "[113/1000] 1 tree, 44 leaves, max depth = 14, train score: 0.94968, val score: 0.88675, in 0.124s\n",
      "[114/1000] 1 tree, 44 leaves, max depth = 17, train score: 0.95020, val score: 0.88669, in 0.119s\n",
      "[115/1000] 1 tree, 44 leaves, max depth = 16, train score: 0.95066, val score: 0.88698, in 0.197s\n",
      "[116/1000] 1 tree, 44 leaves, max depth = 16, train score: 0.95097, val score: 0.88709, in 0.109s\n",
      "[117/1000] 1 tree, 44 leaves, max depth = 14, train score: 0.95157, val score: 0.88707, in 0.114s\n",
      "[118/1000] 1 tree, 44 leaves, max depth = 18, train score: 0.95240, val score: 0.88789, in 0.113s\n",
      "[119/1000] 1 tree, 44 leaves, max depth = 17, train score: 0.95283, val score: 0.88777, in 0.114s\n",
      "[120/1000] 1 tree, 44 leaves, max depth = 16, train score: 0.95325, val score: 0.88791, in 0.118s\n",
      "[121/1000] 1 tree, 44 leaves, max depth = 14, train score: 0.95350, val score: 0.88789, in 0.112s\n",
      "[122/1000] 1 tree, 44 leaves, max depth = 13, train score: 0.95407, val score: 0.88809, in 0.117s\n",
      "[123/1000] 1 tree, 44 leaves, max depth = 17, train score: 0.95436, val score: 0.88826, in 0.117s\n",
      "[124/1000] 1 tree, 44 leaves, max depth = 10, train score: 0.95461, val score: 0.88886, in 0.129s\n",
      "[125/1000] 1 tree, 44 leaves, max depth = 12, train score: 0.95494, val score: 0.88913, in 0.129s\n",
      "[126/1000] 1 tree, 44 leaves, max depth = 18, train score: 0.95552, val score: 0.88925, in 0.117s\n",
      "[127/1000] 1 tree, 44 leaves, max depth = 14, train score: 0.95577, val score: 0.88970, in 0.199s\n",
      "[128/1000] 1 tree, 44 leaves, max depth = 14, train score: 0.95608, val score: 0.89018, in 0.112s\n",
      "[129/1000] 1 tree, 44 leaves, max depth = 12, train score: 0.95637, val score: 0.89038, in 0.119s\n",
      "[130/1000] 1 tree, 44 leaves, max depth = 12, train score: 0.95663, val score: 0.89028, in 0.116s\n",
      "[131/1000] 1 tree, 44 leaves, max depth = 16, train score: 0.95680, val score: 0.89025, in 0.117s\n",
      "[132/1000] 1 tree, 44 leaves, max depth = 13, train score: 0.95708, val score: 0.89029, in 0.120s\n",
      "[133/1000] 1 tree, 44 leaves, max depth = 17, train score: 0.95722, val score: 0.89015, in 0.119s\n",
      "[134/1000] 1 tree, 44 leaves, max depth = 12, train score: 0.95744, val score: 0.89013, in 0.121s\n",
      "[135/1000] 1 tree, 44 leaves, max depth = 12, train score: 0.95744, val score: 0.89078, in 0.119s\n",
      "[136/1000] 1 tree, 44 leaves, max depth = 15, train score: 0.95744, val score: 0.89075, in 0.118s\n",
      "[137/1000] 1 tree, 44 leaves, max depth = 13, train score: 0.95776, val score: 0.89084, in 0.122s\n",
      "[138/1000] 1 tree, 44 leaves, max depth = 13, train score: 0.95799, val score: 0.89101, in 0.124s\n",
      "[139/1000] 1 tree, 44 leaves, max depth = 9, train score: 0.95842, val score: 0.89132, in 0.122s\n",
      "[140/1000] 1 tree, 44 leaves, max depth = 17, train score: 0.95892, val score: 0.89141, in 0.198s\n",
      "[141/1000] 1 tree, 44 leaves, max depth = 19, train score: 0.95922, val score: 0.89132, in 0.121s\n",
      "[142/1000] 1 tree, 44 leaves, max depth = 12, train score: 0.95934, val score: 0.89130, in 0.129s\n",
      "[143/1000] 1 tree, 44 leaves, max depth = 18, train score: 0.95969, val score: 0.89160, in 0.125s\n",
      "[144/1000] 1 tree, 44 leaves, max depth = 14, train score: 0.95988, val score: 0.89177, in 0.125s\n",
      "[145/1000] 1 tree, 44 leaves, max depth = 11, train score: 0.96008, val score: 0.89182, in 0.127s\n",
      "[146/1000] 1 tree, 44 leaves, max depth = 14, train score: 0.96027, val score: 0.89200, in 0.164s\n",
      "[147/1000] 1 tree, 44 leaves, max depth = 18, train score: 0.96055, val score: 0.89181, in 0.167s\n",
      "[148/1000] 1 tree, 44 leaves, max depth = 15, train score: 0.96077, val score: 0.89198, in 0.132s\n",
      "[149/1000] 1 tree, 44 leaves, max depth = 11, train score: 0.96102, val score: 0.89202, in 0.183s\n",
      "[150/1000] 1 tree, 44 leaves, max depth = 12, train score: 0.96120, val score: 0.89228, in 0.168s\n",
      "[151/1000] 1 tree, 44 leaves, max depth = 13, train score: 0.96136, val score: 0.89227, in 0.147s\n",
      "[152/1000] 1 tree, 44 leaves, max depth = 15, train score: 0.96153, val score: 0.89235, in 0.233s\n",
      "[153/1000] 1 tree, 44 leaves, max depth = 13, train score: 0.96167, val score: 0.89242, in 0.239s\n",
      "[154/1000] 1 tree, 44 leaves, max depth = 14, train score: 0.96202, val score: 0.89260, in 0.205s\n",
      "[155/1000] 1 tree, 44 leaves, max depth = 15, train score: 0.96226, val score: 0.89258, in 0.245s\n",
      "[156/1000] 1 tree, 44 leaves, max depth = 11, train score: 0.96246, val score: 0.89258, in 0.145s\n",
      "[157/1000] 1 tree, 44 leaves, max depth = 13, train score: 0.96261, val score: 0.89276, in 0.222s\n",
      "[158/1000] 1 tree, 44 leaves, max depth = 15, train score: 0.96287, val score: 0.89294, in 0.167s\n",
      "[159/1000] 1 tree, 44 leaves, max depth = 13, train score: 0.96299, val score: 0.89314, in 0.142s\n",
      "[160/1000] 1 tree, 44 leaves, max depth = 15, train score: 0.96335, val score: 0.89331, in 0.148s\n",
      "[161/1000] 1 tree, 44 leaves, max depth = 15, train score: 0.96342, val score: 0.89350, in 0.147s\n",
      "[162/1000] 1 tree, 44 leaves, max depth = 17, train score: 0.96376, val score: 0.89330, in 0.185s\n",
      "[163/1000] 1 tree, 44 leaves, max depth = 14, train score: 0.96413, val score: 0.89348, in 0.177s\n",
      "[164/1000] 1 tree, 44 leaves, max depth = 9, train score: 0.96432, val score: 0.89376, in 0.143s\n",
      "[165/1000] 1 tree, 44 leaves, max depth = 14, train score: 0.96455, val score: 0.89373, in 0.213s\n",
      "[166/1000] 1 tree, 44 leaves, max depth = 15, train score: 0.96476, val score: 0.89411, in 0.333s\n",
      "[167/1000] 1 tree, 44 leaves, max depth = 18, train score: 0.96497, val score: 0.89430, in 0.145s\n",
      "[168/1000] 1 tree, 44 leaves, max depth = 11, train score: 0.96533, val score: 0.89455, in 0.134s\n"
     ]
    },
    {
     "name": "stdout",
     "output_type": "stream",
     "text": [
      "[169/1000] 1 tree, 44 leaves, max depth = 11, train score: 0.96550, val score: 0.89445, in 0.144s\n",
      "[170/1000] 1 tree, 44 leaves, max depth = 11, train score: 0.96576, val score: 0.89463, in 0.141s\n",
      "[171/1000] 1 tree, 44 leaves, max depth = 13, train score: 0.96603, val score: 0.89479, in 0.138s\n",
      "[172/1000] 1 tree, 44 leaves, max depth = 13, train score: 0.96607, val score: 0.89486, in 0.135s\n",
      "[173/1000] 1 tree, 44 leaves, max depth = 11, train score: 0.96627, val score: 0.89500, in 0.135s\n",
      "[174/1000] 1 tree, 44 leaves, max depth = 17, train score: 0.96658, val score: 0.89515, in 0.137s\n",
      "[175/1000] 1 tree, 44 leaves, max depth = 14, train score: 0.96689, val score: 0.89502, in 0.138s\n",
      "[176/1000] 1 tree, 44 leaves, max depth = 13, train score: 0.96698, val score: 0.89483, in 0.135s\n",
      "[177/1000] 1 tree, 44 leaves, max depth = 14, train score: 0.96725, val score: 0.89498, in 0.138s\n",
      "[178/1000] 1 tree, 44 leaves, max depth = 15, train score: 0.96737, val score: 0.89498, in 0.225s\n",
      "[179/1000] 1 tree, 44 leaves, max depth = 14, train score: 0.96768, val score: 0.89510, in 0.143s\n",
      "[180/1000] 1 tree, 44 leaves, max depth = 14, train score: 0.96782, val score: 0.89523, in 0.146s\n",
      "[181/1000] 1 tree, 44 leaves, max depth = 14, train score: 0.96804, val score: 0.89535, in 0.133s\n",
      "[182/1000] 1 tree, 44 leaves, max depth = 13, train score: 0.96822, val score: 0.89575, in 0.189s\n",
      "[183/1000] 1 tree, 44 leaves, max depth = 17, train score: 0.96843, val score: 0.89587, in 0.140s\n",
      "[184/1000] 1 tree, 44 leaves, max depth = 16, train score: 0.96879, val score: 0.89607, in 0.172s\n",
      "[185/1000] 1 tree, 44 leaves, max depth = 10, train score: 0.96898, val score: 0.89625, in 0.144s\n",
      "[186/1000] 1 tree, 44 leaves, max depth = 14, train score: 0.96919, val score: 0.89608, in 0.208s\n",
      "[187/1000] 1 tree, 44 leaves, max depth = 18, train score: 0.96961, val score: 0.89596, in 0.143s\n",
      "[188/1000] 1 tree, 44 leaves, max depth = 18, train score: 0.96973, val score: 0.89591, in 0.170s\n",
      "[189/1000] 1 tree, 44 leaves, max depth = 16, train score: 0.96995, val score: 0.89636, in 0.142s\n",
      "[190/1000] 1 tree, 44 leaves, max depth = 19, train score: 0.97022, val score: 0.89637, in 0.296s\n",
      "[191/1000] 1 tree, 44 leaves, max depth = 13, train score: 0.97035, val score: 0.89642, in 0.148s\n",
      "[192/1000] 1 tree, 44 leaves, max depth = 15, train score: 0.97055, val score: 0.89641, in 0.136s\n",
      "[193/1000] 1 tree, 44 leaves, max depth = 13, train score: 0.97066, val score: 0.89638, in 0.137s\n",
      "[194/1000] 1 tree, 44 leaves, max depth = 11, train score: 0.97081, val score: 0.89642, in 0.132s\n",
      "[195/1000] 1 tree, 44 leaves, max depth = 13, train score: 0.97106, val score: 0.89665, in 0.135s\n",
      "[196/1000] 1 tree, 44 leaves, max depth = 17, train score: 0.97129, val score: 0.89682, in 0.134s\n",
      "[197/1000] 1 tree, 44 leaves, max depth = 15, train score: 0.97152, val score: 0.89684, in 0.137s\n",
      "[198/1000] 1 tree, 44 leaves, max depth = 16, train score: 0.97166, val score: 0.89692, in 0.134s\n",
      "[199/1000] 1 tree, 44 leaves, max depth = 16, train score: 0.97179, val score: 0.89684, in 0.136s\n",
      "[200/1000] 1 tree, 44 leaves, max depth = 17, train score: 0.97194, val score: 0.89692, in 0.137s\n",
      "[201/1000] 1 tree, 44 leaves, max depth = 10, train score: 0.97214, val score: 0.89684, in 0.142s\n",
      "[202/1000] 1 tree, 44 leaves, max depth = 17, train score: 0.97238, val score: 0.89679, in 0.138s\n",
      "[203/1000] 1 tree, 44 leaves, max depth = 13, train score: 0.97260, val score: 0.89681, in 0.213s\n",
      "[204/1000] 1 tree, 44 leaves, max depth = 17, train score: 0.97288, val score: 0.89665, in 0.133s\n",
      "[205/1000] 1 tree, 44 leaves, max depth = 13, train score: 0.97313, val score: 0.89674, in 0.135s\n",
      "[206/1000] 1 tree, 44 leaves, max depth = 12, train score: 0.97324, val score: 0.89663, in 0.137s\n",
      "[207/1000] 1 tree, 44 leaves, max depth = 18, train score: 0.97332, val score: 0.89664, in 0.138s\n",
      "[208/1000] 1 tree, 44 leaves, max depth = 17, train score: 0.97352, val score: 0.89681, in 0.148s\n",
      "[209/1000] 1 tree, 44 leaves, max depth = 11, train score: 0.97368, val score: 0.89697, in 0.139s\n",
      "[210/1000] 1 tree, 44 leaves, max depth = 23, train score: 0.97396, val score: 0.89723, in 0.148s\n",
      "[211/1000] 1 tree, 44 leaves, max depth = 11, train score: 0.97412, val score: 0.89707, in 0.137s\n",
      "[212/1000] 1 tree, 44 leaves, max depth = 10, train score: 0.97414, val score: 0.89700, in 0.142s\n",
      "[213/1000] 1 tree, 44 leaves, max depth = 14, train score: 0.97428, val score: 0.89699, in 0.138s\n",
      "[214/1000] 1 tree, 44 leaves, max depth = 13, train score: 0.97442, val score: 0.89702, in 0.140s\n",
      "[215/1000] 1 tree, 44 leaves, max depth = 16, train score: 0.97463, val score: 0.89716, in 0.227s\n",
      "[216/1000] 1 tree, 44 leaves, max depth = 13, train score: 0.97488, val score: 0.89731, in 0.139s\n",
      "[217/1000] 1 tree, 44 leaves, max depth = 10, train score: 0.97492, val score: 0.89723, in 0.136s\n",
      "[218/1000] 1 tree, 44 leaves, max depth = 11, train score: 0.97502, val score: 0.89725, in 0.135s\n",
      "[219/1000] 1 tree, 44 leaves, max depth = 11, train score: 0.97510, val score: 0.89717, in 0.143s\n",
      "[220/1000] 1 tree, 44 leaves, max depth = 12, train score: 0.97521, val score: 0.89716, in 0.152s\n",
      "[221/1000] 1 tree, 44 leaves, max depth = 11, train score: 0.97544, val score: 0.89716, in 0.193s\n",
      "[222/1000] 1 tree, 44 leaves, max depth = 17, train score: 0.97563, val score: 0.89711, in 0.174s\n",
      "[223/1000] 1 tree, 44 leaves, max depth = 11, train score: 0.97577, val score: 0.89720, in 0.189s\n",
      "[224/1000] 1 tree, 44 leaves, max depth = 11, train score: 0.97597, val score: 0.89765, in 0.162s\n",
      "[225/1000] 1 tree, 44 leaves, max depth = 10, train score: 0.97603, val score: 0.89776, in 0.227s\n",
      "[226/1000] 1 tree, 44 leaves, max depth = 12, train score: 0.97615, val score: 0.89793, in 0.208s\n",
      "[227/1000] 1 tree, 44 leaves, max depth = 12, train score: 0.97623, val score: 0.89784, in 0.211s\n",
      "[228/1000] 1 tree, 44 leaves, max depth = 15, train score: 0.97639, val score: 0.89782, in 0.295s\n",
      "[229/1000] 1 tree, 44 leaves, max depth = 13, train score: 0.97659, val score: 0.89772, in 0.177s\n",
      "[230/1000] 1 tree, 44 leaves, max depth = 17, train score: 0.97669, val score: 0.89798, in 0.160s\n",
      "[231/1000] 1 tree, 44 leaves, max depth = 13, train score: 0.97677, val score: 0.89793, in 0.153s\n",
      "[232/1000] 1 tree, 44 leaves, max depth = 12, train score: 0.97688, val score: 0.89790, in 0.237s\n",
      "[233/1000] 1 tree, 44 leaves, max depth = 12, train score: 0.97700, val score: 0.89807, in 0.214s\n",
      "[234/1000] 1 tree, 44 leaves, max depth = 11, train score: 0.97714, val score: 0.89810, in 0.174s\n",
      "[235/1000] 1 tree, 44 leaves, max depth = 17, train score: 0.97719, val score: 0.89819, in 0.233s\n",
      "[236/1000] 1 tree, 44 leaves, max depth = 11, train score: 0.97737, val score: 0.89807, in 0.218s\n",
      "[237/1000] 1 tree, 44 leaves, max depth = 13, train score: 0.97749, val score: 0.89811, in 0.177s\n",
      "[238/1000] 1 tree, 44 leaves, max depth = 17, train score: 0.97762, val score: 0.89823, in 0.243s\n",
      "[239/1000] 1 tree, 44 leaves, max depth = 19, train score: 0.97772, val score: 0.89817, in 0.226s\n",
      "[240/1000] 1 tree, 44 leaves, max depth = 14, train score: 0.97784, val score: 0.89823, in 0.334s\n",
      "[241/1000] 1 tree, 44 leaves, max depth = 13, train score: 0.97793, val score: 0.89831, in 0.208s\n",
      "[242/1000] 1 tree, 44 leaves, max depth = 16, train score: 0.97801, val score: 0.89827, in 0.214s\n",
      "[243/1000] 1 tree, 44 leaves, max depth = 15, train score: 0.97805, val score: 0.89830, in 0.222s\n",
      "[244/1000] 1 tree, 44 leaves, max depth = 17, train score: 0.97817, val score: 0.89824, in 0.172s\n",
      "[245/1000] 1 tree, 44 leaves, max depth = 16, train score: 0.97826, val score: 0.89828, in 0.159s\n",
      "[246/1000] 1 tree, 44 leaves, max depth = 10, train score: 0.97836, val score: 0.89819, in 0.214s\n",
      "[247/1000] 1 tree, 44 leaves, max depth = 17, train score: 0.97847, val score: 0.89814, in 0.205s\n",
      "[248/1000] 1 tree, 44 leaves, max depth = 13, train score: 0.97861, val score: 0.89804, in 0.196s\n",
      "[249/1000] 1 tree, 44 leaves, max depth = 14, train score: 0.97866, val score: 0.89793, in 0.171s\n",
      "[250/1000] 1 tree, 44 leaves, max depth = 15, train score: 0.97874, val score: 0.89784, in 0.167s\n",
      "[251/1000] 1 tree, 44 leaves, max depth = 13, train score: 0.97890, val score: 0.89786, in 0.213s\n",
      "Fit 251 trees in 35.833 s, (11044 total leaves)\n",
      "Time spent computing histograms: 12.733s\n",
      "Time spent finding best splits:  3.360s\n",
      "Time spent applying splits:      3.758s\n",
      "Time spent predicting:           0.054s\n"
     ]
    },
    {
     "name": "stdout",
     "output_type": "stream",
     "text": [
      "CPU times: user 3min 36s, sys: 37.1 s, total: 4min 13s\n",
      "Wall time: 36.4 s\n"
     ]
    },
    {
     "data": {
      "text/plain": [
       "(0.9697907275897766, 0.8931305761072392)"
      ]
     },
     "execution_count": 41,
     "metadata": {},
     "output_type": "execute_result"
    }
   ],
   "source": [
    "%%time\n",
    "clf = HistGradientBoostingClassifier(loss='binary_crossentropy', verbose=1, l2_regularization=2.4,\n",
    "                             learning_rate=0.03, max_depth=25, max_iter=1000, max_leaf_nodes=44,\n",
    "                             min_samples_leaf=8,  scoring='roc_auc', tol=1e-8)\n",
    "clf.fit(xs, y)\n",
    "m_roc(y, xs), m_roc(valid_y, valid_xs)"
   ]
  },
  {
   "cell_type": "code",
   "execution_count": 59,
   "metadata": {
    "hidden": true
   },
   "outputs": [],
   "source": [
    "xs_imp = (path/'xs_imp.pkl').load()\n",
    "valid_xs_imp = (path/'valid_xs_imp.pkl').load()"
   ]
  },
  {
   "cell_type": "code",
   "execution_count": 61,
   "metadata": {
    "collapsed": true,
    "hidden": true
   },
   "outputs": [
    {
     "name": "stdout",
     "output_type": "stream",
     "text": [
      "Binning 0.012 GB of training data: 0.131 s\n",
      "Binning 0.001 GB of validation data: 0.002 s\n",
      "Fitting gradient boosted rounds:\n",
      "[1/1000] 1 tree, 44 leaves, max depth = 10, train score: 0.85396, val score: 0.84462, in 0.053s\n",
      "[2/1000] 1 tree, 44 leaves, max depth = 11, train score: 0.86097, val score: 0.84685, in 0.045s\n",
      "[3/1000] 1 tree, 44 leaves, max depth = 11, train score: 0.86322, val score: 0.85069, in 0.047s\n",
      "[4/1000] 1 tree, 44 leaves, max depth = 9, train score: 0.86766, val score: 0.85036, in 0.046s\n",
      "[5/1000] 1 tree, 44 leaves, max depth = 12, train score: 0.87195, val score: 0.85396, in 0.046s\n",
      "[6/1000] 1 tree, 44 leaves, max depth = 9, train score: 0.87285, val score: 0.85608, in 0.046s\n",
      "[7/1000] 1 tree, 44 leaves, max depth = 10, train score: 0.87627, val score: 0.85698, in 0.041s\n",
      "[8/1000] 1 tree, 44 leaves, max depth = 11, train score: 0.87640, val score: 0.85648, in 0.055s\n",
      "[9/1000] 1 tree, 44 leaves, max depth = 11, train score: 0.87772, val score: 0.85734, in 0.047s\n",
      "[10/1000] 1 tree, 44 leaves, max depth = 10, train score: 0.87799, val score: 0.85759, in 0.047s\n",
      "[11/1000] 1 tree, 44 leaves, max depth = 10, train score: 0.87812, val score: 0.85777, in 0.047s\n",
      "[12/1000] 1 tree, 44 leaves, max depth = 13, train score: 0.87823, val score: 0.85861, in 0.062s\n",
      "[13/1000] 1 tree, 44 leaves, max depth = 10, train score: 0.87957, val score: 0.85960, in 0.040s\n",
      "[14/1000] 1 tree, 44 leaves, max depth = 11, train score: 0.88029, val score: 0.85905, in 0.044s\n",
      "[15/1000] 1 tree, 44 leaves, max depth = 9, train score: 0.88068, val score: 0.85870, in 0.044s\n",
      "[16/1000] 1 tree, 44 leaves, max depth = 10, train score: 0.88085, val score: 0.85909, in 0.033s\n",
      "[17/1000] 1 tree, 44 leaves, max depth = 12, train score: 0.88404, val score: 0.86062, in 0.045s\n",
      "[18/1000] 1 tree, 44 leaves, max depth = 10, train score: 0.88477, val score: 0.86169, in 0.047s\n",
      "[19/1000] 1 tree, 44 leaves, max depth = 12, train score: 0.88739, val score: 0.86227, in 0.047s\n",
      "[20/1000] 1 tree, 44 leaves, max depth = 15, train score: 0.88908, val score: 0.86351, in 0.047s\n",
      "[21/1000] 1 tree, 44 leaves, max depth = 13, train score: 0.88985, val score: 0.86385, in 0.046s\n",
      "[22/1000] 1 tree, 44 leaves, max depth = 11, train score: 0.89193, val score: 0.86440, in 0.058s\n",
      "[23/1000] 1 tree, 44 leaves, max depth = 9, train score: 0.89448, val score: 0.86555, in 0.049s\n",
      "[24/1000] 1 tree, 44 leaves, max depth = 10, train score: 0.89516, val score: 0.86585, in 0.069s\n",
      "[25/1000] 1 tree, 44 leaves, max depth = 9, train score: 0.89604, val score: 0.86547, in 0.049s\n",
      "[26/1000] 1 tree, 44 leaves, max depth = 11, train score: 0.89811, val score: 0.86707, in 0.049s\n",
      "[27/1000] 1 tree, 44 leaves, max depth = 12, train score: 0.89907, val score: 0.86657, in 0.050s\n",
      "[28/1000] 1 tree, 44 leaves, max depth = 10, train score: 0.89970, val score: 0.86655, in 0.046s\n",
      "[29/1000] 1 tree, 44 leaves, max depth = 12, train score: 0.90082, val score: 0.86706, in 0.050s\n",
      "[30/1000] 1 tree, 44 leaves, max depth = 11, train score: 0.90101, val score: 0.86681, in 0.046s\n",
      "[31/1000] 1 tree, 44 leaves, max depth = 11, train score: 0.90176, val score: 0.86826, in 0.050s\n",
      "[32/1000] 1 tree, 44 leaves, max depth = 11, train score: 0.90298, val score: 0.86812, in 0.046s\n",
      "[33/1000] 1 tree, 44 leaves, max depth = 10, train score: 0.90397, val score: 0.86860, in 0.052s\n",
      "[34/1000] 1 tree, 44 leaves, max depth = 10, train score: 0.90450, val score: 0.86908, in 0.054s\n",
      "[35/1000] 1 tree, 44 leaves, max depth = 10, train score: 0.90529, val score: 0.86924, in 0.053s\n",
      "[36/1000] 1 tree, 44 leaves, max depth = 10, train score: 0.90619, val score: 0.87033, in 0.052s\n",
      "[37/1000] 1 tree, 44 leaves, max depth = 12, train score: 0.90682, val score: 0.87104, in 0.071s\n",
      "[38/1000] 1 tree, 44 leaves, max depth = 11, train score: 0.90751, val score: 0.87112, in 0.051s\n",
      "[39/1000] 1 tree, 44 leaves, max depth = 10, train score: 0.90820, val score: 0.87189, in 0.062s\n",
      "[40/1000] 1 tree, 44 leaves, max depth = 10, train score: 0.90877, val score: 0.87265, in 0.055s\n",
      "[41/1000] 1 tree, 44 leaves, max depth = 14, train score: 0.90923, val score: 0.87321, in 0.053s\n",
      "[42/1000] 1 tree, 44 leaves, max depth = 14, train score: 0.91008, val score: 0.87375, in 0.049s\n",
      "[43/1000] 1 tree, 44 leaves, max depth = 10, train score: 0.91048, val score: 0.87440, in 0.055s\n",
      "[44/1000] 1 tree, 44 leaves, max depth = 12, train score: 0.91273, val score: 0.87467, in 0.053s\n",
      "[45/1000] 1 tree, 44 leaves, max depth = 10, train score: 0.91324, val score: 0.87496, in 0.054s\n",
      "[46/1000] 1 tree, 44 leaves, max depth = 10, train score: 0.91379, val score: 0.87526, in 0.057s\n",
      "[47/1000] 1 tree, 44 leaves, max depth = 13, train score: 0.91454, val score: 0.87549, in 0.056s\n",
      "[48/1000] 1 tree, 44 leaves, max depth = 12, train score: 0.91508, val score: 0.87614, in 0.057s\n",
      "[49/1000] 1 tree, 44 leaves, max depth = 12, train score: 0.91581, val score: 0.87634, in 0.075s\n",
      "[50/1000] 1 tree, 44 leaves, max depth = 11, train score: 0.91632, val score: 0.87689, in 0.054s\n",
      "[51/1000] 1 tree, 44 leaves, max depth = 12, train score: 0.91687, val score: 0.87714, in 0.054s\n",
      "[52/1000] 1 tree, 44 leaves, max depth = 11, train score: 0.91754, val score: 0.87807, in 0.056s\n",
      "[53/1000] 1 tree, 44 leaves, max depth = 12, train score: 0.91797, val score: 0.87882, in 0.057s\n",
      "[54/1000] 1 tree, 44 leaves, max depth = 13, train score: 0.91851, val score: 0.87873, in 0.057s\n",
      "[55/1000] 1 tree, 44 leaves, max depth = 11, train score: 0.91881, val score: 0.87888, in 0.067s\n",
      "[56/1000] 1 tree, 44 leaves, max depth = 12, train score: 0.91977, val score: 0.88001, in 0.057s\n",
      "[57/1000] 1 tree, 44 leaves, max depth = 10, train score: 0.92040, val score: 0.87986, in 0.057s\n",
      "[58/1000] 1 tree, 44 leaves, max depth = 11, train score: 0.92127, val score: 0.88045, in 0.058s\n",
      "[59/1000] 1 tree, 44 leaves, max depth = 12, train score: 0.92186, val score: 0.88062, in 0.060s\n",
      "[60/1000] 1 tree, 44 leaves, max depth = 13, train score: 0.92252, val score: 0.88046, in 0.058s\n",
      "[61/1000] 1 tree, 44 leaves, max depth = 10, train score: 0.92312, val score: 0.88085, in 0.061s\n",
      "[62/1000] 1 tree, 44 leaves, max depth = 12, train score: 0.92324, val score: 0.88101, in 0.081s\n",
      "[63/1000] 1 tree, 44 leaves, max depth = 12, train score: 0.92369, val score: 0.88132, in 0.058s\n",
      "[64/1000] 1 tree, 44 leaves, max depth = 13, train score: 0.92460, val score: 0.88172, in 0.063s\n",
      "[65/1000] 1 tree, 44 leaves, max depth = 11, train score: 0.92525, val score: 0.88180, in 0.071s\n",
      "[66/1000] 1 tree, 44 leaves, max depth = 12, train score: 0.92672, val score: 0.88200, in 0.070s\n",
      "[67/1000] 1 tree, 44 leaves, max depth = 11, train score: 0.92724, val score: 0.88219, in 0.061s\n",
      "[68/1000] 1 tree, 44 leaves, max depth = 12, train score: 0.92780, val score: 0.88226, in 0.061s\n",
      "[69/1000] 1 tree, 44 leaves, max depth = 11, train score: 0.92817, val score: 0.88205, in 0.066s\n",
      "[70/1000] 1 tree, 44 leaves, max depth = 12, train score: 0.92872, val score: 0.88233, in 0.064s\n",
      "[71/1000] 1 tree, 44 leaves, max depth = 12, train score: 0.92936, val score: 0.88228, in 0.061s\n",
      "[72/1000] 1 tree, 44 leaves, max depth = 13, train score: 0.92991, val score: 0.88248, in 0.064s\n",
      "[73/1000] 1 tree, 44 leaves, max depth = 17, train score: 0.93087, val score: 0.88253, in 0.062s\n",
      "[74/1000] 1 tree, 44 leaves, max depth = 13, train score: 0.93157, val score: 0.88265, in 0.078s\n",
      "[75/1000] 1 tree, 44 leaves, max depth = 11, train score: 0.93193, val score: 0.88277, in 0.064s\n",
      "[76/1000] 1 tree, 44 leaves, max depth = 11, train score: 0.93230, val score: 0.88321, in 0.078s\n",
      "[77/1000] 1 tree, 44 leaves, max depth = 14, train score: 0.93271, val score: 0.88306, in 0.082s\n",
      "[78/1000] 1 tree, 44 leaves, max depth = 11, train score: 0.93322, val score: 0.88392, in 0.065s\n",
      "[79/1000] 1 tree, 44 leaves, max depth = 14, train score: 0.93367, val score: 0.88375, in 0.066s\n",
      "[80/1000] 1 tree, 44 leaves, max depth = 16, train score: 0.93420, val score: 0.88389, in 0.066s\n",
      "[81/1000] 1 tree, 44 leaves, max depth = 13, train score: 0.93472, val score: 0.88387, in 0.066s\n",
      "[82/1000] 1 tree, 44 leaves, max depth = 12, train score: 0.93591, val score: 0.88423, in 0.064s\n",
      "[83/1000] 1 tree, 44 leaves, max depth = 11, train score: 0.93676, val score: 0.88388, in 0.089s\n",
      "[84/1000] 1 tree, 44 leaves, max depth = 12, train score: 0.93752, val score: 0.88397, in 0.083s\n"
     ]
    },
    {
     "name": "stdout",
     "output_type": "stream",
     "text": [
      "[85/1000] 1 tree, 44 leaves, max depth = 12, train score: 0.93785, val score: 0.88402, in 0.085s\n",
      "[86/1000] 1 tree, 44 leaves, max depth = 13, train score: 0.93820, val score: 0.88433, in 0.127s\n",
      "[87/1000] 1 tree, 44 leaves, max depth = 15, train score: 0.93852, val score: 0.88422, in 0.076s\n",
      "[88/1000] 1 tree, 44 leaves, max depth = 15, train score: 0.93910, val score: 0.88455, in 0.066s\n",
      "[89/1000] 1 tree, 44 leaves, max depth = 17, train score: 0.93956, val score: 0.88435, in 0.067s\n",
      "[90/1000] 1 tree, 44 leaves, max depth = 12, train score: 0.94011, val score: 0.88468, in 0.064s\n",
      "[91/1000] 1 tree, 44 leaves, max depth = 12, train score: 0.94027, val score: 0.88481, in 0.062s\n",
      "[92/1000] 1 tree, 44 leaves, max depth = 14, train score: 0.94070, val score: 0.88475, in 0.067s\n",
      "[93/1000] 1 tree, 44 leaves, max depth = 10, train score: 0.94124, val score: 0.88505, in 0.064s\n",
      "[94/1000] 1 tree, 44 leaves, max depth = 11, train score: 0.94184, val score: 0.88534, in 0.069s\n",
      "[95/1000] 1 tree, 44 leaves, max depth = 12, train score: 0.94235, val score: 0.88563, in 0.069s\n",
      "[96/1000] 1 tree, 44 leaves, max depth = 9, train score: 0.94269, val score: 0.88558, in 0.065s\n",
      "[97/1000] 1 tree, 44 leaves, max depth = 15, train score: 0.94303, val score: 0.88585, in 0.066s\n",
      "[98/1000] 1 tree, 44 leaves, max depth = 13, train score: 0.94352, val score: 0.88605, in 0.068s\n",
      "[99/1000] 1 tree, 44 leaves, max depth = 13, train score: 0.94368, val score: 0.88587, in 0.087s\n",
      "[100/1000] 1 tree, 44 leaves, max depth = 15, train score: 0.94392, val score: 0.88628, in 0.065s\n",
      "[101/1000] 1 tree, 44 leaves, max depth = 13, train score: 0.94425, val score: 0.88635, in 0.068s\n",
      "[102/1000] 1 tree, 44 leaves, max depth = 13, train score: 0.94483, val score: 0.88661, in 0.155s\n",
      "[103/1000] 1 tree, 44 leaves, max depth = 14, train score: 0.94554, val score: 0.88664, in 0.062s\n",
      "[104/1000] 1 tree, 44 leaves, max depth = 15, train score: 0.94589, val score: 0.88667, in 0.058s\n",
      "[105/1000] 1 tree, 44 leaves, max depth = 14, train score: 0.94637, val score: 0.88689, in 0.058s\n",
      "[106/1000] 1 tree, 44 leaves, max depth = 13, train score: 0.94690, val score: 0.88678, in 0.058s\n",
      "[107/1000] 1 tree, 44 leaves, max depth = 13, train score: 0.94721, val score: 0.88657, in 0.062s\n",
      "[108/1000] 1 tree, 44 leaves, max depth = 13, train score: 0.94793, val score: 0.88661, in 0.061s\n",
      "[109/1000] 1 tree, 44 leaves, max depth = 13, train score: 0.94832, val score: 0.88670, in 0.059s\n",
      "[110/1000] 1 tree, 44 leaves, max depth = 13, train score: 0.94898, val score: 0.88686, in 0.060s\n",
      "[111/1000] 1 tree, 44 leaves, max depth = 10, train score: 0.94939, val score: 0.88706, in 0.083s\n",
      "[112/1000] 1 tree, 44 leaves, max depth = 10, train score: 0.94986, val score: 0.88707, in 0.066s\n",
      "[113/1000] 1 tree, 44 leaves, max depth = 13, train score: 0.95040, val score: 0.88711, in 0.060s\n",
      "[114/1000] 1 tree, 44 leaves, max depth = 12, train score: 0.95083, val score: 0.88696, in 0.059s\n",
      "[115/1000] 1 tree, 44 leaves, max depth = 12, train score: 0.95146, val score: 0.88712, in 0.060s\n",
      "[116/1000] 1 tree, 44 leaves, max depth = 12, train score: 0.95188, val score: 0.88707, in 0.062s\n",
      "[117/1000] 1 tree, 44 leaves, max depth = 14, train score: 0.95246, val score: 0.88684, in 0.059s\n",
      "[118/1000] 1 tree, 44 leaves, max depth = 19, train score: 0.95264, val score: 0.88686, in 0.061s\n",
      "[119/1000] 1 tree, 44 leaves, max depth = 10, train score: 0.95291, val score: 0.88704, in 0.064s\n",
      "[120/1000] 1 tree, 44 leaves, max depth = 12, train score: 0.95332, val score: 0.88724, in 0.060s\n",
      "[121/1000] 1 tree, 44 leaves, max depth = 15, train score: 0.95364, val score: 0.88742, in 0.063s\n",
      "[122/1000] 1 tree, 44 leaves, max depth = 16, train score: 0.95394, val score: 0.88749, in 0.064s\n",
      "[123/1000] 1 tree, 44 leaves, max depth = 16, train score: 0.95428, val score: 0.88780, in 0.065s\n",
      "[124/1000] 1 tree, 44 leaves, max depth = 15, train score: 0.95434, val score: 0.88827, in 0.098s\n",
      "[125/1000] 1 tree, 44 leaves, max depth = 14, train score: 0.95469, val score: 0.88858, in 0.089s\n",
      "[126/1000] 1 tree, 44 leaves, max depth = 15, train score: 0.95490, val score: 0.88839, in 0.073s\n",
      "[127/1000] 1 tree, 44 leaves, max depth = 16, train score: 0.95539, val score: 0.88862, in 0.088s\n",
      "[128/1000] 1 tree, 44 leaves, max depth = 14, train score: 0.95558, val score: 0.88885, in 0.068s\n",
      "[129/1000] 1 tree, 44 leaves, max depth = 14, train score: 0.95581, val score: 0.88904, in 0.065s\n",
      "[130/1000] 1 tree, 44 leaves, max depth = 13, train score: 0.95605, val score: 0.88920, in 0.066s\n",
      "[131/1000] 1 tree, 44 leaves, max depth = 15, train score: 0.95641, val score: 0.88955, in 0.067s\n",
      "[132/1000] 1 tree, 44 leaves, max depth = 12, train score: 0.95671, val score: 0.88959, in 0.066s\n",
      "[133/1000] 1 tree, 44 leaves, max depth = 14, train score: 0.95705, val score: 0.88988, in 0.064s\n",
      "[134/1000] 1 tree, 44 leaves, max depth = 13, train score: 0.95741, val score: 0.88986, in 0.067s\n",
      "[135/1000] 1 tree, 44 leaves, max depth = 15, train score: 0.95785, val score: 0.88992, in 0.070s\n",
      "[136/1000] 1 tree, 44 leaves, max depth = 14, train score: 0.95806, val score: 0.89033, in 0.093s\n",
      "[137/1000] 1 tree, 44 leaves, max depth = 14, train score: 0.95838, val score: 0.89037, in 0.066s\n",
      "[138/1000] 1 tree, 44 leaves, max depth = 14, train score: 0.95880, val score: 0.89071, in 0.067s\n",
      "[139/1000] 1 tree, 44 leaves, max depth = 13, train score: 0.95913, val score: 0.89112, in 0.068s\n",
      "[140/1000] 1 tree, 44 leaves, max depth = 12, train score: 0.95939, val score: 0.89134, in 0.075s\n",
      "[141/1000] 1 tree, 44 leaves, max depth = 15, train score: 0.95970, val score: 0.89128, in 0.071s\n",
      "[142/1000] 1 tree, 44 leaves, max depth = 14, train score: 0.96005, val score: 0.89162, in 0.073s\n",
      "[143/1000] 1 tree, 44 leaves, max depth = 14, train score: 0.96034, val score: 0.89166, in 0.079s\n",
      "[144/1000] 1 tree, 44 leaves, max depth = 17, train score: 0.96075, val score: 0.89168, in 0.072s\n",
      "[145/1000] 1 tree, 44 leaves, max depth = 18, train score: 0.96107, val score: 0.89184, in 0.070s\n",
      "[146/1000] 1 tree, 44 leaves, max depth = 11, train score: 0.96137, val score: 0.89205, in 0.070s\n",
      "[147/1000] 1 tree, 44 leaves, max depth = 12, train score: 0.96173, val score: 0.89210, in 0.070s\n",
      "[148/1000] 1 tree, 44 leaves, max depth = 12, train score: 0.96205, val score: 0.89229, in 0.071s\n",
      "[149/1000] 1 tree, 44 leaves, max depth = 14, train score: 0.96231, val score: 0.89238, in 0.090s\n",
      "[150/1000] 1 tree, 44 leaves, max depth = 13, train score: 0.96259, val score: 0.89254, in 0.070s\n",
      "[151/1000] 1 tree, 44 leaves, max depth = 13, train score: 0.96282, val score: 0.89270, in 0.069s\n",
      "[152/1000] 1 tree, 44 leaves, max depth = 16, train score: 0.96307, val score: 0.89272, in 0.071s\n",
      "[153/1000] 1 tree, 44 leaves, max depth = 13, train score: 0.96334, val score: 0.89258, in 0.072s\n",
      "[154/1000] 1 tree, 44 leaves, max depth = 12, train score: 0.96352, val score: 0.89268, in 0.072s\n",
      "[155/1000] 1 tree, 44 leaves, max depth = 17, train score: 0.96379, val score: 0.89278, in 0.074s\n",
      "[156/1000] 1 tree, 44 leaves, max depth = 14, train score: 0.96410, val score: 0.89255, in 0.074s\n",
      "[157/1000] 1 tree, 44 leaves, max depth = 11, train score: 0.96424, val score: 0.89274, in 0.071s\n",
      "[158/1000] 1 tree, 44 leaves, max depth = 15, train score: 0.96454, val score: 0.89273, in 0.072s\n",
      "[159/1000] 1 tree, 44 leaves, max depth = 13, train score: 0.96463, val score: 0.89286, in 0.084s\n",
      "[160/1000] 1 tree, 44 leaves, max depth = 17, train score: 0.96487, val score: 0.89280, in 0.077s\n",
      "[161/1000] 1 tree, 44 leaves, max depth = 12, train score: 0.96513, val score: 0.89267, in 0.099s\n",
      "[162/1000] 1 tree, 44 leaves, max depth = 14, train score: 0.96533, val score: 0.89268, in 0.072s\n",
      "[163/1000] 1 tree, 44 leaves, max depth = 13, train score: 0.96554, val score: 0.89265, in 0.075s\n",
      "[164/1000] 1 tree, 44 leaves, max depth = 12, train score: 0.96582, val score: 0.89308, in 0.075s\n",
      "[165/1000] 1 tree, 44 leaves, max depth = 11, train score: 0.96592, val score: 0.89297, in 0.075s\n",
      "[166/1000] 1 tree, 44 leaves, max depth = 15, train score: 0.96618, val score: 0.89308, in 0.075s\n",
      "[167/1000] 1 tree, 44 leaves, max depth = 13, train score: 0.96640, val score: 0.89327, in 0.078s\n",
      "[168/1000] 1 tree, 44 leaves, max depth = 12, train score: 0.96663, val score: 0.89328, in 0.080s\n"
     ]
    },
    {
     "name": "stdout",
     "output_type": "stream",
     "text": [
      "[169/1000] 1 tree, 44 leaves, max depth = 18, train score: 0.96672, val score: 0.89366, in 0.075s\n",
      "[170/1000] 1 tree, 44 leaves, max depth = 11, train score: 0.96680, val score: 0.89365, in 0.079s\n",
      "[171/1000] 1 tree, 44 leaves, max depth = 17, train score: 0.96691, val score: 0.89404, in 0.077s\n",
      "[172/1000] 1 tree, 44 leaves, max depth = 11, train score: 0.96715, val score: 0.89408, in 0.124s\n",
      "[173/1000] 1 tree, 44 leaves, max depth = 13, train score: 0.96729, val score: 0.89414, in 0.076s\n",
      "[174/1000] 1 tree, 44 leaves, max depth = 18, train score: 0.96756, val score: 0.89401, in 0.112s\n",
      "[175/1000] 1 tree, 44 leaves, max depth = 12, train score: 0.96772, val score: 0.89404, in 0.076s\n",
      "[176/1000] 1 tree, 44 leaves, max depth = 15, train score: 0.96784, val score: 0.89407, in 0.075s\n",
      "[177/1000] 1 tree, 44 leaves, max depth = 9, train score: 0.96808, val score: 0.89474, in 0.077s\n",
      "[178/1000] 1 tree, 44 leaves, max depth = 15, train score: 0.96830, val score: 0.89475, in 0.076s\n",
      "[179/1000] 1 tree, 44 leaves, max depth = 16, train score: 0.96839, val score: 0.89515, in 0.078s\n",
      "[180/1000] 1 tree, 44 leaves, max depth = 12, train score: 0.96860, val score: 0.89516, in 0.078s\n",
      "[181/1000] 1 tree, 44 leaves, max depth = 14, train score: 0.96869, val score: 0.89505, in 0.079s\n",
      "[182/1000] 1 tree, 44 leaves, max depth = 13, train score: 0.96878, val score: 0.89503, in 0.078s\n",
      "[183/1000] 1 tree, 44 leaves, max depth = 10, train score: 0.96888, val score: 0.89502, in 0.182s\n",
      "[184/1000] 1 tree, 44 leaves, max depth = 13, train score: 0.96912, val score: 0.89495, in 0.130s\n",
      "[185/1000] 1 tree, 44 leaves, max depth = 14, train score: 0.96928, val score: 0.89504, in 0.083s\n",
      "[186/1000] 1 tree, 44 leaves, max depth = 10, train score: 0.96944, val score: 0.89526, in 0.100s\n",
      "[187/1000] 1 tree, 44 leaves, max depth = 11, train score: 0.96958, val score: 0.89538, in 0.078s\n",
      "[188/1000] 1 tree, 44 leaves, max depth = 11, train score: 0.96987, val score: 0.89538, in 0.104s\n",
      "[189/1000] 1 tree, 44 leaves, max depth = 15, train score: 0.97007, val score: 0.89533, in 0.097s\n",
      "[190/1000] 1 tree, 44 leaves, max depth = 14, train score: 0.97013, val score: 0.89542, in 0.103s\n",
      "[191/1000] 1 tree, 44 leaves, max depth = 14, train score: 0.97036, val score: 0.89540, in 0.098s\n",
      "[192/1000] 1 tree, 44 leaves, max depth = 13, train score: 0.97052, val score: 0.89531, in 0.089s\n",
      "[193/1000] 1 tree, 44 leaves, max depth = 10, train score: 0.97061, val score: 0.89524, in 0.088s\n",
      "[194/1000] 1 tree, 44 leaves, max depth = 13, train score: 0.97080, val score: 0.89507, in 0.116s\n",
      "[195/1000] 1 tree, 44 leaves, max depth = 11, train score: 0.97094, val score: 0.89522, in 0.107s\n",
      "[196/1000] 1 tree, 44 leaves, max depth = 15, train score: 0.97111, val score: 0.89509, in 0.109s\n",
      "[197/1000] 1 tree, 44 leaves, max depth = 12, train score: 0.97127, val score: 0.89524, in 0.115s\n",
      "[198/1000] 1 tree, 44 leaves, max depth = 10, train score: 0.97128, val score: 0.89543, in 0.114s\n",
      "[199/1000] 1 tree, 44 leaves, max depth = 15, train score: 0.97134, val score: 0.89546, in 0.135s\n",
      "[200/1000] 1 tree, 44 leaves, max depth = 15, train score: 0.97145, val score: 0.89542, in 0.103s\n",
      "[201/1000] 1 tree, 44 leaves, max depth = 14, train score: 0.97154, val score: 0.89548, in 0.113s\n",
      "[202/1000] 1 tree, 44 leaves, max depth = 12, train score: 0.97170, val score: 0.89542, in 0.115s\n",
      "[203/1000] 1 tree, 44 leaves, max depth = 11, train score: 0.97187, val score: 0.89531, in 0.120s\n",
      "[204/1000] 1 tree, 44 leaves, max depth = 17, train score: 0.97210, val score: 0.89547, in 0.119s\n",
      "[205/1000] 1 tree, 44 leaves, max depth = 14, train score: 0.97222, val score: 0.89542, in 0.116s\n",
      "[206/1000] 1 tree, 44 leaves, max depth = 11, train score: 0.97244, val score: 0.89583, in 0.116s\n",
      "[207/1000] 1 tree, 44 leaves, max depth = 16, train score: 0.97268, val score: 0.89559, in 0.118s\n",
      "[208/1000] 1 tree, 44 leaves, max depth = 10, train score: 0.97289, val score: 0.89549, in 0.128s\n",
      "[209/1000] 1 tree, 44 leaves, max depth = 10, train score: 0.97303, val score: 0.89542, in 0.122s\n",
      "[210/1000] 1 tree, 44 leaves, max depth = 14, train score: 0.97311, val score: 0.89545, in 0.135s\n",
      "[211/1000] 1 tree, 44 leaves, max depth = 16, train score: 0.97324, val score: 0.89550, in 0.121s\n",
      "[212/1000] 1 tree, 44 leaves, max depth = 14, train score: 0.97337, val score: 0.89542, in 0.096s\n",
      "[213/1000] 1 tree, 44 leaves, max depth = 13, train score: 0.97357, val score: 0.89537, in 0.099s\n",
      "[214/1000] 1 tree, 44 leaves, max depth = 10, train score: 0.97375, val score: 0.89535, in 0.133s\n",
      "[215/1000] 1 tree, 44 leaves, max depth = 12, train score: 0.97383, val score: 0.89530, in 0.181s\n",
      "[216/1000] 1 tree, 44 leaves, max depth = 13, train score: 0.97397, val score: 0.89521, in 0.106s\n",
      "Fit 216 trees in 16.134 s, (9504 total leaves)\n",
      "Time spent computing histograms: 3.975s\n",
      "Time spent finding best splits:  1.846s\n",
      "Time spent applying splits:      1.956s\n",
      "Time spent predicting:           0.041s\n",
      "CPU times: user 1min 44s, sys: 9.6 s, total: 1min 54s\n",
      "Wall time: 16.4 s\n"
     ]
    },
    {
     "data": {
      "text/plain": [
       "(0.9633199712695736, 0.8972229710101309)"
      ]
     },
     "execution_count": 61,
     "metadata": {},
     "output_type": "execute_result"
    }
   ],
   "source": [
    "%%time\n",
    "clf = HistGradientBoostingClassifier(loss='binary_crossentropy', verbose=1, l2_regularization=2.4,\n",
    "                             learning_rate=0.03, max_depth=25, max_iter=1000, max_leaf_nodes=44,\n",
    "                             min_samples_leaf=8,  scoring='roc_auc', tol=1e-8)\n",
    "clf.fit(xs_imp, y)\n",
    "m_roc(y, xs_imp), m_roc(valid_y, valid_xs_imp)"
   ]
  },
  {
   "cell_type": "markdown",
   "metadata": {
    "heading_collapsed": true,
    "hidden": true
   },
   "source": [
    "### Hyperparameter tuning"
   ]
  },
  {
   "cell_type": "markdown",
   "metadata": {
    "hidden": true
   },
   "source": [
    "Hyperparameters were tuned interatively using GridSearchCV. Only the final results are displayed in the notenbook."
   ]
  },
  {
   "cell_type": "markdown",
   "metadata": {
    "hidden": true
   },
   "source": [
    "To speed up the grid search let's randomly sample 10% of our data (which is already a simple random sample of 10% of the original dataset)."
   ]
  },
  {
   "cell_type": "code",
   "execution_count": 171,
   "metadata": {
    "hidden": true
   },
   "outputs": [
    {
     "data": {
      "text/plain": [
       "((48357, 35), (48357,), (10697, 35), (10697,))"
      ]
     },
     "execution_count": 171,
     "metadata": {},
     "output_type": "execute_result"
    }
   ],
   "source": [
    "xs_imp.shape, y.shape, valid_xs_imp.shape, valid_y.shape"
   ]
  },
  {
   "cell_type": "code",
   "execution_count": 75,
   "metadata": {
    "hidden": true
   },
   "outputs": [],
   "source": [
    "parameters1 = {\n",
    " 'max_depth': [15],\n",
    " 'random_state': [33],\n",
    " }"
   ]
  },
  {
   "cell_type": "code",
   "execution_count": 93,
   "metadata": {
    "hidden": true
   },
   "outputs": [],
   "source": [
    "parameters2 = {\n",
    " 'max_depth': [15],\n",
    " 'learning_rate': [0.1],\n",
    " 'random_state': [33],\n",
    " }"
   ]
  },
  {
   "cell_type": "code",
   "execution_count": 132,
   "metadata": {
    "hidden": true
   },
   "outputs": [],
   "source": [
    "parameters3 = {\n",
    " 'max_depth': [15],\n",
    " 'learning_rate': [0.1], \n",
    " 'l2_regularization': [4.0],\n",
    " 'random_state': [33],\n",
    " }"
   ]
  },
  {
   "cell_type": "code",
   "execution_count": 149,
   "metadata": {
    "hidden": true
   },
   "outputs": [],
   "source": [
    "parameters4 = {\n",
    " 'max_depth': [15],\n",
    " 'learning_rate': [0.1], \n",
    " 'l2_regularization': [4.0],\n",
    " 'min_samples_leaf': [20],\n",
    " 'random_state': [33],\n",
    " }"
   ]
  },
  {
   "cell_type": "code",
   "execution_count": 159,
   "metadata": {
    "hidden": true
   },
   "outputs": [],
   "source": [
    "parameters5 = {\n",
    " 'max_depth': [15],\n",
    " 'learning_rate': [0.1], \n",
    " 'l2_regularization': [4.0],\n",
    " 'min_samples_leaf': [20],\n",
    " 'max_leaf_nodes': [31],\n",
    " 'random_state': [33],\n",
    " }"
   ]
  },
  {
   "cell_type": "code",
   "execution_count": 175,
   "metadata": {
    "hidden": true
   },
   "outputs": [],
   "source": [
    "parameters6 = {\n",
    " 'max_depth': [15],\n",
    " 'learning_rate': [0.1], \n",
    " 'l2_regularization': [4.0],\n",
    " 'min_samples_leaf': [20],\n",
    " 'max_leaf_nodes': [31],\n",
    " 'tol': [1e-8]\n",
    " 'random_state': [33],\n",
    " }"
   ]
  },
  {
   "cell_type": "code",
   "execution_count": 176,
   "metadata": {
    "hidden": true
   },
   "outputs": [],
   "source": [
    "clf = GridSearchCV(HistGradientBoostingClassifier(loss='binary_crossentropy', max_iter=1000, \n",
    "                                                  scoring='roc_auc', tol=1e-8), parameters6, \n",
    "                   scoring=make_scorer(roc_auc_score, needs_proba=True), n_jobs=-1, cv=3,\n",
    "                   verbose=3)"
   ]
  },
  {
   "cell_type": "code",
   "execution_count": 177,
   "metadata": {
    "hidden": true
   },
   "outputs": [
    {
     "name": "stdout",
     "output_type": "stream",
     "text": [
      "Fitting 3 folds for each of 4 candidates, totalling 12 fits\n"
     ]
    },
    {
     "name": "stderr",
     "output_type": "stream",
     "text": [
      "[Parallel(n_jobs=-1)]: Using backend LokyBackend with 8 concurrent workers.\n",
      "[Parallel(n_jobs=-1)]: Done   2 out of  12 | elapsed:  2.6min remaining: 12.8min\n",
      "[Parallel(n_jobs=-1)]: Done   7 out of  12 | elapsed:  4.7min remaining:  3.4min\n",
      "[Parallel(n_jobs=-1)]: Done  12 out of  12 | elapsed:  5.9min remaining:    0.0s\n",
      "[Parallel(n_jobs=-1)]: Done  12 out of  12 | elapsed:  5.9min finished\n"
     ]
    },
    {
     "name": "stdout",
     "output_type": "stream",
     "text": [
      "CPU times: user 3min 45s, sys: 1min 27s, total: 5min 13s\n",
      "Wall time: 6min 48s\n"
     ]
    },
    {
     "data": {
      "text/plain": [
       "(HistGradientBoostingClassifier(l2_regularization=4.0,\n",
       "                                loss='binary_crossentropy', max_depth=15,\n",
       "                                max_iter=1000, random_state=33,\n",
       "                                scoring='roc_auc', tol=1e-08),\n",
       " 0.8963061409318414,\n",
       " {'l2_regularization': 4.0,\n",
       "  'learning_rate': 0.1,\n",
       "  'max_depth': 15,\n",
       "  'max_leaf_nodes': 31,\n",
       "  'min_samples_leaf': 20,\n",
       "  'random_state': 33,\n",
       "  'tol': 1e-08})"
      ]
     },
     "execution_count": 177,
     "metadata": {},
     "output_type": "execute_result"
    }
   ],
   "source": [
    "%%time\n",
    "clf.fit(xs, y)\n",
    "clf.best_estimator_, clf.best_score_, clf.best_params_"
   ]
  },
  {
   "cell_type": "code",
   "execution_count": 162,
   "metadata": {
    "hidden": true
   },
   "outputs": [
    {
     "name": "stdout",
     "output_type": "stream",
     "text": [
      "Binning 0.042 GB of training data: 0.274 s\n",
      "Binning 0.005 GB of validation data: 0.020 s\n",
      "Fitting gradient boosted rounds:\n",
      "[1/1000] 1 tree, 31 leaves, max depth = 9, train score: 0.83421, val score: 0.81920, in 0.052s\n",
      "[2/1000] 1 tree, 31 leaves, max depth = 8, train score: 0.85031, val score: 0.83382, in 0.052s\n",
      "[3/1000] 1 tree, 31 leaves, max depth = 9, train score: 0.85215, val score: 0.83553, in 0.054s\n",
      "[4/1000] 1 tree, 31 leaves, max depth = 10, train score: 0.85447, val score: 0.84131, in 0.056s\n",
      "[5/1000] 1 tree, 31 leaves, max depth = 11, train score: 0.85913, val score: 0.84563, in 0.062s\n",
      "[6/1000] 1 tree, 31 leaves, max depth = 11, train score: 0.86568, val score: 0.85267, in 0.058s\n",
      "[7/1000] 1 tree, 31 leaves, max depth = 9, train score: 0.87155, val score: 0.85306, in 0.060s\n",
      "[8/1000] 1 tree, 31 leaves, max depth = 9, train score: 0.87469, val score: 0.85497, in 0.056s\n",
      "[9/1000] 1 tree, 31 leaves, max depth = 10, train score: 0.87696, val score: 0.85635, in 0.062s\n",
      "[10/1000] 1 tree, 31 leaves, max depth = 9, train score: 0.87956, val score: 0.85713, in 0.063s\n",
      "[11/1000] 1 tree, 31 leaves, max depth = 10, train score: 0.88153, val score: 0.85955, in 0.062s\n",
      "[12/1000] 1 tree, 31 leaves, max depth = 8, train score: 0.88162, val score: 0.85983, in 0.063s\n",
      "[13/1000] 1 tree, 31 leaves, max depth = 11, train score: 0.88309, val score: 0.86011, in 0.071s\n",
      "[14/1000] 1 tree, 31 leaves, max depth = 11, train score: 0.88364, val score: 0.86113, in 0.073s\n",
      "[15/1000] 1 tree, 31 leaves, max depth = 12, train score: 0.88514, val score: 0.86178, in 0.069s\n",
      "[16/1000] 1 tree, 31 leaves, max depth = 9, train score: 0.88983, val score: 0.86823, in 0.069s\n",
      "[17/1000] 1 tree, 31 leaves, max depth = 9, train score: 0.89151, val score: 0.86940, in 0.068s\n",
      "[18/1000] 1 tree, 31 leaves, max depth = 9, train score: 0.89333, val score: 0.87130, in 0.113s\n",
      "[19/1000] 1 tree, 31 leaves, max depth = 8, train score: 0.89645, val score: 0.87281, in 0.061s\n",
      "[20/1000] 1 tree, 31 leaves, max depth = 11, train score: 0.89921, val score: 0.87397, in 0.070s\n",
      "[21/1000] 1 tree, 31 leaves, max depth = 9, train score: 0.90039, val score: 0.87446, in 0.064s\n",
      "[22/1000] 1 tree, 31 leaves, max depth = 13, train score: 0.90174, val score: 0.87663, in 0.062s\n",
      "[23/1000] 1 tree, 31 leaves, max depth = 11, train score: 0.90270, val score: 0.87637, in 0.064s\n",
      "[24/1000] 1 tree, 31 leaves, max depth = 12, train score: 0.90560, val score: 0.87681, in 0.068s\n",
      "[25/1000] 1 tree, 31 leaves, max depth = 12, train score: 0.90765, val score: 0.87888, in 0.067s\n",
      "[26/1000] 1 tree, 31 leaves, max depth = 15, train score: 0.90936, val score: 0.88030, in 0.066s\n",
      "[27/1000] 1 tree, 31 leaves, max depth = 14, train score: 0.91071, val score: 0.88136, in 0.065s\n",
      "[28/1000] 1 tree, 31 leaves, max depth = 13, train score: 0.91294, val score: 0.88118, in 0.069s\n",
      "[29/1000] 1 tree, 31 leaves, max depth = 13, train score: 0.91451, val score: 0.88228, in 0.082s\n",
      "[30/1000] 1 tree, 31 leaves, max depth = 8, train score: 0.91621, val score: 0.88280, in 0.080s\n",
      "[31/1000] 1 tree, 31 leaves, max depth = 12, train score: 0.91734, val score: 0.88298, in 0.081s\n",
      "[32/1000] 1 tree, 31 leaves, max depth = 14, train score: 0.92004, val score: 0.88422, in 0.072s\n",
      "[33/1000] 1 tree, 31 leaves, max depth = 10, train score: 0.92132, val score: 0.88386, in 0.072s\n",
      "[34/1000] 1 tree, 31 leaves, max depth = 14, train score: 0.92212, val score: 0.88473, in 0.076s\n",
      "[35/1000] 1 tree, 31 leaves, max depth = 14, train score: 0.92502, val score: 0.88591, in 0.082s\n",
      "[36/1000] 1 tree, 31 leaves, max depth = 9, train score: 0.92699, val score: 0.88678, in 0.088s\n",
      "[37/1000] 1 tree, 31 leaves, max depth = 9, train score: 0.92893, val score: 0.88642, in 0.082s\n",
      "[38/1000] 1 tree, 31 leaves, max depth = 12, train score: 0.93044, val score: 0.88676, in 0.131s\n",
      "[39/1000] 1 tree, 31 leaves, max depth = 15, train score: 0.93200, val score: 0.88788, in 0.074s\n",
      "[40/1000] 1 tree, 31 leaves, max depth = 13, train score: 0.93376, val score: 0.88826, in 0.084s\n",
      "[41/1000] 1 tree, 31 leaves, max depth = 15, train score: 0.93450, val score: 0.88833, in 0.086s\n",
      "[42/1000] 1 tree, 31 leaves, max depth = 9, train score: 0.93567, val score: 0.88867, in 0.083s\n",
      "[43/1000] 1 tree, 31 leaves, max depth = 13, train score: 0.93674, val score: 0.88937, in 0.117s\n",
      "[44/1000] 1 tree, 31 leaves, max depth = 11, train score: 0.93831, val score: 0.89081, in 0.134s\n",
      "[45/1000] 1 tree, 31 leaves, max depth = 15, train score: 0.93920, val score: 0.89063, in 0.123s\n",
      "[46/1000] 1 tree, 31 leaves, max depth = 15, train score: 0.94027, val score: 0.89123, in 0.105s\n",
      "[47/1000] 1 tree, 31 leaves, max depth = 9, train score: 0.94098, val score: 0.89262, in 0.114s\n",
      "[48/1000] 1 tree, 31 leaves, max depth = 15, train score: 0.94209, val score: 0.89196, in 0.082s\n",
      "[49/1000] 1 tree, 31 leaves, max depth = 13, train score: 0.94319, val score: 0.89284, in 0.123s\n",
      "[50/1000] 1 tree, 31 leaves, max depth = 10, train score: 0.94431, val score: 0.89331, in 0.111s\n",
      "[51/1000] 1 tree, 31 leaves, max depth = 13, train score: 0.94530, val score: 0.89434, in 0.086s\n",
      "[52/1000] 1 tree, 31 leaves, max depth = 15, train score: 0.94640, val score: 0.89487, in 0.091s\n",
      "[53/1000] 1 tree, 31 leaves, max depth = 11, train score: 0.94716, val score: 0.89585, in 0.086s\n",
      "[54/1000] 1 tree, 31 leaves, max depth = 12, train score: 0.94834, val score: 0.89698, in 0.085s\n",
      "[55/1000] 1 tree, 31 leaves, max depth = 11, train score: 0.94928, val score: 0.89765, in 0.091s\n",
      "[56/1000] 1 tree, 31 leaves, max depth = 12, train score: 0.94994, val score: 0.89741, in 0.101s\n",
      "[57/1000] 1 tree, 31 leaves, max depth = 11, train score: 0.95038, val score: 0.89790, in 0.112s\n",
      "[58/1000] 1 tree, 31 leaves, max depth = 11, train score: 0.95086, val score: 0.89805, in 0.148s\n",
      "[59/1000] 1 tree, 31 leaves, max depth = 10, train score: 0.95188, val score: 0.89958, in 0.102s\n",
      "[60/1000] 1 tree, 31 leaves, max depth = 10, train score: 0.95277, val score: 0.89994, in 0.089s\n",
      "[61/1000] 1 tree, 31 leaves, max depth = 9, train score: 0.95336, val score: 0.90046, in 0.083s\n",
      "[62/1000] 1 tree, 31 leaves, max depth = 13, train score: 0.95420, val score: 0.90081, in 0.087s\n",
      "[63/1000] 1 tree, 31 leaves, max depth = 13, train score: 0.95514, val score: 0.90046, in 0.108s\n",
      "[64/1000] 1 tree, 31 leaves, max depth = 12, train score: 0.95598, val score: 0.90018, in 0.131s\n",
      "[65/1000] 1 tree, 31 leaves, max depth = 10, train score: 0.95629, val score: 0.90032, in 0.105s\n",
      "[66/1000] 1 tree, 31 leaves, max depth = 13, train score: 0.95704, val score: 0.90062, in 0.110s\n",
      "[67/1000] 1 tree, 31 leaves, max depth = 13, train score: 0.95776, val score: 0.90171, in 0.091s\n",
      "[68/1000] 1 tree, 31 leaves, max depth = 10, train score: 0.95845, val score: 0.90176, in 0.090s\n",
      "[69/1000] 1 tree, 31 leaves, max depth = 10, train score: 0.95933, val score: 0.90192, in 0.090s\n",
      "[70/1000] 1 tree, 31 leaves, max depth = 15, train score: 0.95977, val score: 0.90249, in 0.087s\n",
      "[71/1000] 1 tree, 31 leaves, max depth = 11, train score: 0.96052, val score: 0.90274, in 0.092s\n",
      "[72/1000] 1 tree, 31 leaves, max depth = 11, train score: 0.96086, val score: 0.90285, in 0.100s\n",
      "[73/1000] 1 tree, 31 leaves, max depth = 9, train score: 0.96096, val score: 0.90357, in 0.100s\n",
      "[74/1000] 1 tree, 31 leaves, max depth = 15, train score: 0.96147, val score: 0.90343, in 0.106s\n",
      "[75/1000] 1 tree, 31 leaves, max depth = 10, train score: 0.96217, val score: 0.90405, in 0.115s\n",
      "[76/1000] 1 tree, 31 leaves, max depth = 10, train score: 0.96301, val score: 0.90463, in 0.105s\n",
      "[77/1000] 1 tree, 31 leaves, max depth = 9, train score: 0.96321, val score: 0.90483, in 0.094s\n",
      "[78/1000] 1 tree, 31 leaves, max depth = 11, train score: 0.96352, val score: 0.90511, in 0.145s\n",
      "[79/1000] 1 tree, 31 leaves, max depth = 15, train score: 0.96411, val score: 0.90566, in 0.092s\n",
      "[80/1000] 1 tree, 31 leaves, max depth = 13, train score: 0.96429, val score: 0.90608, in 0.089s\n",
      "[81/1000] 1 tree, 31 leaves, max depth = 10, train score: 0.96493, val score: 0.90673, in 0.100s\n",
      "[82/1000] 1 tree, 31 leaves, max depth = 12, train score: 0.96507, val score: 0.90717, in 0.104s\n",
      "[83/1000] 1 tree, 31 leaves, max depth = 10, train score: 0.96536, val score: 0.90711, in 0.101s\n",
      "[84/1000] 1 tree, 31 leaves, max depth = 12, train score: 0.96586, val score: 0.90744, in 0.098s\n"
     ]
    },
    {
     "name": "stdout",
     "output_type": "stream",
     "text": [
      "[85/1000] 1 tree, 31 leaves, max depth = 11, train score: 0.96630, val score: 0.90800, in 0.096s\n",
      "[86/1000] 1 tree, 31 leaves, max depth = 10, train score: 0.96665, val score: 0.90784, in 0.137s\n",
      "[87/1000] 1 tree, 31 leaves, max depth = 14, train score: 0.96708, val score: 0.90771, in 0.119s\n",
      "[88/1000] 1 tree, 31 leaves, max depth = 11, train score: 0.96727, val score: 0.90800, in 0.103s\n",
      "[89/1000] 1 tree, 31 leaves, max depth = 13, train score: 0.96753, val score: 0.90812, in 0.110s\n",
      "[90/1000] 1 tree, 31 leaves, max depth = 14, train score: 0.96787, val score: 0.90798, in 0.112s\n",
      "[91/1000] 1 tree, 31 leaves, max depth = 10, train score: 0.96831, val score: 0.90804, in 0.094s\n",
      "[92/1000] 1 tree, 31 leaves, max depth = 10, train score: 0.96881, val score: 0.90795, in 0.091s\n",
      "[93/1000] 1 tree, 31 leaves, max depth = 14, train score: 0.96944, val score: 0.90793, in 0.092s\n",
      "[94/1000] 1 tree, 31 leaves, max depth = 12, train score: 0.96968, val score: 0.90788, in 0.097s\n",
      "[95/1000] 1 tree, 31 leaves, max depth = 12, train score: 0.97000, val score: 0.90784, in 0.091s\n",
      "[96/1000] 1 tree, 31 leaves, max depth = 11, train score: 0.97018, val score: 0.90827, in 0.126s\n",
      "[97/1000] 1 tree, 31 leaves, max depth = 10, train score: 0.97039, val score: 0.90835, in 0.106s\n",
      "[98/1000] 1 tree, 31 leaves, max depth = 12, train score: 0.97083, val score: 0.90825, in 0.148s\n",
      "[99/1000] 1 tree, 31 leaves, max depth = 9, train score: 0.97123, val score: 0.90768, in 0.089s\n",
      "[100/1000] 1 tree, 31 leaves, max depth = 15, train score: 0.97147, val score: 0.90750, in 0.092s\n",
      "[101/1000] 1 tree, 31 leaves, max depth = 11, train score: 0.97155, val score: 0.90758, in 0.091s\n",
      "[102/1000] 1 tree, 31 leaves, max depth = 11, train score: 0.97161, val score: 0.90745, in 0.130s\n",
      "[103/1000] 1 tree, 31 leaves, max depth = 10, train score: 0.97191, val score: 0.90742, in 0.088s\n",
      "[104/1000] 1 tree, 31 leaves, max depth = 12, train score: 0.97228, val score: 0.90739, in 0.087s\n",
      "[105/1000] 1 tree, 31 leaves, max depth = 12, train score: 0.97237, val score: 0.90755, in 0.081s\n",
      "[106/1000] 1 tree, 31 leaves, max depth = 9, train score: 0.97236, val score: 0.90843, in 0.094s\n",
      "[107/1000] 1 tree, 31 leaves, max depth = 8, train score: 0.97249, val score: 0.90821, in 0.190s\n",
      "[108/1000] 1 tree, 31 leaves, max depth = 11, train score: 0.97273, val score: 0.90836, in 0.119s\n",
      "[109/1000] 1 tree, 31 leaves, max depth = 11, train score: 0.97302, val score: 0.90914, in 0.089s\n",
      "[110/1000] 1 tree, 31 leaves, max depth = 10, train score: 0.97330, val score: 0.90878, in 0.092s\n",
      "[111/1000] 1 tree, 31 leaves, max depth = 13, train score: 0.97354, val score: 0.90856, in 0.098s\n",
      "[112/1000] 1 tree, 31 leaves, max depth = 9, train score: 0.97387, val score: 0.90922, in 0.131s\n",
      "[113/1000] 1 tree, 31 leaves, max depth = 14, train score: 0.97411, val score: 0.90934, in 0.109s\n",
      "[114/1000] 1 tree, 31 leaves, max depth = 15, train score: 0.97427, val score: 0.91028, in 0.089s\n",
      "[115/1000] 1 tree, 31 leaves, max depth = 15, train score: 0.97496, val score: 0.91015, in 0.094s\n",
      "[116/1000] 1 tree, 31 leaves, max depth = 10, train score: 0.97514, val score: 0.91017, in 0.085s\n",
      "[117/1000] 1 tree, 31 leaves, max depth = 14, train score: 0.97528, val score: 0.91028, in 0.102s\n",
      "[118/1000] 1 tree, 31 leaves, max depth = 9, train score: 0.97530, val score: 0.91035, in 0.101s\n",
      "[119/1000] 1 tree, 31 leaves, max depth = 12, train score: 0.97548, val score: 0.90988, in 0.171s\n",
      "[120/1000] 1 tree, 31 leaves, max depth = 11, train score: 0.97576, val score: 0.91038, in 0.109s\n",
      "[121/1000] 1 tree, 31 leaves, max depth = 11, train score: 0.97605, val score: 0.91066, in 0.093s\n",
      "[122/1000] 1 tree, 31 leaves, max depth = 9, train score: 0.97648, val score: 0.91068, in 0.094s\n",
      "[123/1000] 1 tree, 31 leaves, max depth = 11, train score: 0.97728, val score: 0.91050, in 0.095s\n",
      "[124/1000] 1 tree, 31 leaves, max depth = 7, train score: 0.97741, val score: 0.91027, in 0.095s\n",
      "[125/1000] 1 tree, 31 leaves, max depth = 11, train score: 0.97755, val score: 0.91018, in 0.194s\n",
      "[126/1000] 1 tree, 31 leaves, max depth = 10, train score: 0.97762, val score: 0.91008, in 0.247s\n",
      "[127/1000] 1 tree, 31 leaves, max depth = 14, train score: 0.97791, val score: 0.90986, in 0.146s\n",
      "[128/1000] 1 tree, 31 leaves, max depth = 15, train score: 0.97815, val score: 0.90984, in 0.105s\n",
      "[129/1000] 1 tree, 31 leaves, max depth = 8, train score: 0.97842, val score: 0.90973, in 0.096s\n",
      "[130/1000] 1 tree, 31 leaves, max depth = 10, train score: 0.97877, val score: 0.91000, in 0.099s\n",
      "[131/1000] 1 tree, 31 leaves, max depth = 10, train score: 0.97900, val score: 0.91006, in 0.093s\n",
      "[132/1000] 1 tree, 31 leaves, max depth = 10, train score: 0.97914, val score: 0.91010, in 0.093s\n",
      "Fit 132 trees in 13.086 s, (4092 total leaves)\n",
      "Time spent computing histograms: 4.260s\n",
      "Time spent finding best splits:  1.331s\n",
      "Time spent applying splits:      1.616s\n",
      "Time spent predicting:           0.083s\n",
      "CPU times: user 1min 15s, sys: 11.4 s, total: 1min 26s\n",
      "Wall time: 13.4 s\n"
     ]
    },
    {
     "data": {
      "text/plain": [
       "(0.9714914882971906, 0.8971570195158847)"
      ]
     },
     "execution_count": 162,
     "metadata": {},
     "output_type": "execute_result"
    }
   ],
   "source": [
    "%%time\n",
    "clf = HistGradientBoostingClassifier(loss='binary_crossentropy', verbose=1,\n",
    "                                    max_iter=1000, scoring='roc_auc',\n",
    "                                    max_depth=15, learning_rate=0.1,\n",
    "                                    l2_regularization=4.0)\n",
    "clf.fit(xs,y)\n",
    "m_roc(y, xs), m_roc(valid_y, valid_xs)"
   ]
  },
  {
   "cell_type": "markdown",
   "metadata": {
    "heading_collapsed": true,
    "hidden": true
   },
   "source": [
    "### Including the V*** columns"
   ]
  },
  {
   "cell_type": "code",
   "execution_count": 194,
   "metadata": {
    "hidden": true
   },
   "outputs": [],
   "source": [
    "to = (path/'to_full.pkl').load()\n",
    "\n",
    "xs, y             = to.train.xs, to.train.y\n",
    "valid_xs, valid_y = to.valid.xs, to.valid.y"
   ]
  },
  {
   "cell_type": "code",
   "execution_count": 195,
   "metadata": {
    "hidden": true
   },
   "outputs": [],
   "source": [
    "cats = ['ProductCD', 'card1', 'card2', 'card3', 'card4', 'card5', 'card6', \n",
    "       'addr1', 'addr2', 'P_emaildomain', 'R_emaildomain', 'M1', 'M2', 'M3', \n",
    "       'M4', 'M5', 'M6', 'M7', 'M8', 'M9', 'DeviceType', 'DeviceInfo', 'id_12', \n",
    "       'id_13', 'id_14', 'id_15', 'id_16', 'id_17', 'id_18', 'id_19', 'id_20', \n",
    "       'id_21', 'id_22', 'id_23', 'id_24', 'id_25', 'id_26', 'id_27', 'id_28', \n",
    "       'id_29', 'id_30', 'id_31', 'id_32', 'id_33', 'id_34', 'id_35', 'id_36',\n",
    "       'id_37', 'id_38']\n",
    "\n",
    "for cat in cats:\n",
    "    to[cat] = to[cat].astype('category')"
   ]
  },
  {
   "cell_type": "code",
   "execution_count": 196,
   "metadata": {
    "hidden": true,
    "scrolled": true
   },
   "outputs": [
    {
     "name": "stdout",
     "output_type": "stream",
     "text": [
      "Binning 0.279 GB of training data: 1.745 s\n",
      "Binning 0.031 GB of validation data: 0.042 s\n",
      "Fitting gradient boosted rounds:\n",
      "[1/1000] 1 tree, 31 leaves, max depth = 11, train score: 0.84101, val score: 0.85701, in 0.156s\n",
      "[2/1000] 1 tree, 31 leaves, max depth = 8, train score: 0.86369, val score: 0.87599, in 0.177s\n",
      "[3/1000] 1 tree, 31 leaves, max depth = 9, train score: 0.86724, val score: 0.87988, in 0.157s\n",
      "[4/1000] 1 tree, 31 leaves, max depth = 11, train score: 0.87065, val score: 0.88631, in 0.183s\n",
      "[5/1000] 1 tree, 31 leaves, max depth = 9, train score: 0.87563, val score: 0.89064, in 0.162s\n",
      "[6/1000] 1 tree, 31 leaves, max depth = 9, train score: 0.87965, val score: 0.89242, in 0.225s\n",
      "[7/1000] 1 tree, 31 leaves, max depth = 9, train score: 0.88089, val score: 0.89431, in 0.253s\n",
      "[8/1000] 1 tree, 31 leaves, max depth = 11, train score: 0.88305, val score: 0.89610, in 0.255s\n",
      "[9/1000] 1 tree, 31 leaves, max depth = 10, train score: 0.88634, val score: 0.89780, in 0.227s\n",
      "[10/1000] 1 tree, 31 leaves, max depth = 8, train score: 0.88935, val score: 0.90069, in 0.295s\n",
      "[11/1000] 1 tree, 31 leaves, max depth = 10, train score: 0.89110, val score: 0.90406, in 0.301s\n",
      "[12/1000] 1 tree, 31 leaves, max depth = 11, train score: 0.89389, val score: 0.90334, in 0.228s\n",
      "[13/1000] 1 tree, 31 leaves, max depth = 13, train score: 0.89514, val score: 0.90388, in 0.264s\n",
      "[14/1000] 1 tree, 31 leaves, max depth = 9, train score: 0.89590, val score: 0.90411, in 0.308s\n",
      "[15/1000] 1 tree, 31 leaves, max depth = 11, train score: 0.89754, val score: 0.90563, in 0.513s\n",
      "[16/1000] 1 tree, 31 leaves, max depth = 12, train score: 0.89962, val score: 0.90655, in 0.181s\n",
      "[17/1000] 1 tree, 31 leaves, max depth = 10, train score: 0.89965, val score: 0.90761, in 0.198s\n",
      "[18/1000] 1 tree, 31 leaves, max depth = 11, train score: 0.90265, val score: 0.90838, in 0.195s\n",
      "[19/1000] 1 tree, 31 leaves, max depth = 11, train score: 0.90390, val score: 0.90948, in 0.182s\n",
      "[20/1000] 1 tree, 31 leaves, max depth = 15, train score: 0.90468, val score: 0.91003, in 0.209s\n",
      "[21/1000] 1 tree, 31 leaves, max depth = 15, train score: 0.90748, val score: 0.91018, in 0.183s\n",
      "[22/1000] 1 tree, 31 leaves, max depth = 11, train score: 0.90842, val score: 0.91158, in 0.209s\n",
      "[23/1000] 1 tree, 31 leaves, max depth = 11, train score: 0.91012, val score: 0.91349, in 0.208s\n",
      "[24/1000] 1 tree, 31 leaves, max depth = 11, train score: 0.91140, val score: 0.91376, in 0.363s\n",
      "[25/1000] 1 tree, 31 leaves, max depth = 15, train score: 0.91203, val score: 0.91323, in 0.293s\n",
      "[26/1000] 1 tree, 31 leaves, max depth = 11, train score: 0.91336, val score: 0.91335, in 0.262s\n",
      "[27/1000] 1 tree, 31 leaves, max depth = 12, train score: 0.91411, val score: 0.91385, in 0.226s\n",
      "[28/1000] 1 tree, 31 leaves, max depth = 10, train score: 0.91601, val score: 0.91402, in 0.259s\n",
      "[29/1000] 1 tree, 31 leaves, max depth = 15, train score: 0.91640, val score: 0.91405, in 0.317s\n",
      "[30/1000] 1 tree, 31 leaves, max depth = 10, train score: 0.91736, val score: 0.91444, in 0.264s\n",
      "[31/1000] 1 tree, 31 leaves, max depth = 13, train score: 0.91866, val score: 0.91508, in 0.293s\n",
      "[32/1000] 1 tree, 31 leaves, max depth = 9, train score: 0.91993, val score: 0.91470, in 0.272s\n",
      "[33/1000] 1 tree, 31 leaves, max depth = 12, train score: 0.92130, val score: 0.91449, in 0.381s\n",
      "[34/1000] 1 tree, 31 leaves, max depth = 12, train score: 0.92226, val score: 0.91426, in 0.383s\n",
      "[35/1000] 1 tree, 31 leaves, max depth = 11, train score: 0.92347, val score: 0.91596, in 0.572s\n",
      "[36/1000] 1 tree, 31 leaves, max depth = 11, train score: 0.92474, val score: 0.91657, in 0.227s\n",
      "[37/1000] 1 tree, 31 leaves, max depth = 15, train score: 0.92633, val score: 0.91701, in 0.244s\n",
      "[38/1000] 1 tree, 31 leaves, max depth = 14, train score: 0.92766, val score: 0.91807, in 0.296s\n",
      "[39/1000] 1 tree, 31 leaves, max depth = 15, train score: 0.92839, val score: 0.91835, in 0.179s\n",
      "[40/1000] 1 tree, 31 leaves, max depth = 10, train score: 0.92961, val score: 0.91887, in 0.256s\n",
      "[41/1000] 1 tree, 31 leaves, max depth = 15, train score: 0.93069, val score: 0.91862, in 0.231s\n",
      "[42/1000] 1 tree, 31 leaves, max depth = 15, train score: 0.93147, val score: 0.91850, in 0.240s\n",
      "[43/1000] 1 tree, 31 leaves, max depth = 14, train score: 0.93181, val score: 0.91845, in 0.232s\n",
      "[44/1000] 1 tree, 31 leaves, max depth = 15, train score: 0.93300, val score: 0.91982, in 0.214s\n",
      "[45/1000] 1 tree, 31 leaves, max depth = 13, train score: 0.93389, val score: 0.91982, in 0.304s\n",
      "[46/1000] 1 tree, 31 leaves, max depth = 15, train score: 0.93457, val score: 0.91986, in 0.354s\n",
      "[47/1000] 1 tree, 31 leaves, max depth = 12, train score: 0.93538, val score: 0.92026, in 0.300s\n",
      "[48/1000] 1 tree, 31 leaves, max depth = 14, train score: 0.93571, val score: 0.92029, in 0.363s\n",
      "[49/1000] 1 tree, 31 leaves, max depth = 15, train score: 0.93632, val score: 0.92029, in 0.331s\n",
      "[50/1000] 1 tree, 31 leaves, max depth = 14, train score: 0.93726, val score: 0.92081, in 0.294s\n",
      "[51/1000] 1 tree, 31 leaves, max depth = 15, train score: 0.93811, val score: 0.92095, in 0.277s\n",
      "[52/1000] 1 tree, 31 leaves, max depth = 15, train score: 0.93867, val score: 0.92097, in 0.234s\n",
      "[53/1000] 1 tree, 31 leaves, max depth = 13, train score: 0.93936, val score: 0.92177, in 0.346s\n",
      "[54/1000] 1 tree, 31 leaves, max depth = 15, train score: 0.93977, val score: 0.92172, in 0.349s\n",
      "[55/1000] 1 tree, 31 leaves, max depth = 15, train score: 0.94097, val score: 0.92261, in 0.656s\n",
      "[56/1000] 1 tree, 31 leaves, max depth = 15, train score: 0.94151, val score: 0.92275, in 0.231s\n",
      "[57/1000] 1 tree, 31 leaves, max depth = 14, train score: 0.94209, val score: 0.92322, in 0.243s\n",
      "[58/1000] 1 tree, 31 leaves, max depth = 15, train score: 0.94258, val score: 0.92313, in 0.214s\n",
      "[59/1000] 1 tree, 31 leaves, max depth = 13, train score: 0.94301, val score: 0.92343, in 0.290s\n",
      "[60/1000] 1 tree, 31 leaves, max depth = 14, train score: 0.94364, val score: 0.92369, in 0.250s\n",
      "[61/1000] 1 tree, 31 leaves, max depth = 15, train score: 0.94396, val score: 0.92391, in 0.223s\n",
      "[62/1000] 1 tree, 31 leaves, max depth = 13, train score: 0.94446, val score: 0.92415, in 0.285s\n",
      "[63/1000] 1 tree, 31 leaves, max depth = 12, train score: 0.94494, val score: 0.92429, in 0.291s\n",
      "[64/1000] 1 tree, 31 leaves, max depth = 8, train score: 0.94565, val score: 0.92423, in 0.444s\n",
      "[65/1000] 1 tree, 31 leaves, max depth = 14, train score: 0.94591, val score: 0.92402, in 0.438s\n",
      "[66/1000] 1 tree, 31 leaves, max depth = 15, train score: 0.94628, val score: 0.92419, in 0.484s\n",
      "[67/1000] 1 tree, 31 leaves, max depth = 14, train score: 0.94668, val score: 0.92440, in 0.391s\n",
      "[68/1000] 1 tree, 31 leaves, max depth = 15, train score: 0.94707, val score: 0.92414, in 0.359s\n",
      "[69/1000] 1 tree, 31 leaves, max depth = 11, train score: 0.94815, val score: 0.92410, in 0.399s\n",
      "[70/1000] 1 tree, 31 leaves, max depth = 12, train score: 0.94858, val score: 0.92409, in 0.686s\n",
      "[71/1000] 1 tree, 31 leaves, max depth = 12, train score: 0.94905, val score: 0.92418, in 0.399s\n",
      "[72/1000] 1 tree, 31 leaves, max depth = 11, train score: 0.94934, val score: 0.92424, in 0.262s\n",
      "[73/1000] 1 tree, 31 leaves, max depth = 13, train score: 0.94961, val score: 0.92412, in 0.426s\n",
      "[74/1000] 1 tree, 31 leaves, max depth = 12, train score: 0.95034, val score: 0.92406, in 0.425s\n",
      "[75/1000] 1 tree, 31 leaves, max depth = 15, train score: 0.95102, val score: 0.92495, in 0.653s\n",
      "[76/1000] 1 tree, 31 leaves, max depth = 10, train score: 0.95197, val score: 0.92538, in 0.302s\n",
      "[77/1000] 1 tree, 31 leaves, max depth = 10, train score: 0.95292, val score: 0.92602, in 0.402s\n",
      "[78/1000] 1 tree, 31 leaves, max depth = 15, train score: 0.95383, val score: 0.92605, in 0.261s\n",
      "[79/1000] 1 tree, 31 leaves, max depth = 10, train score: 0.95436, val score: 0.92617, in 0.250s\n",
      "[80/1000] 1 tree, 31 leaves, max depth = 11, train score: 0.95503, val score: 0.92669, in 0.306s\n",
      "[81/1000] 1 tree, 31 leaves, max depth = 11, train score: 0.95573, val score: 0.92593, in 0.250s\n",
      "[82/1000] 1 tree, 31 leaves, max depth = 12, train score: 0.95607, val score: 0.92596, in 0.270s\n",
      "[83/1000] 1 tree, 31 leaves, max depth = 13, train score: 0.95658, val score: 0.92628, in 0.303s\n",
      "[84/1000] 1 tree, 31 leaves, max depth = 14, train score: 0.95713, val score: 0.92661, in 0.332s\n"
     ]
    },
    {
     "name": "stdout",
     "output_type": "stream",
     "text": [
      "[85/1000] 1 tree, 31 leaves, max depth = 11, train score: 0.95748, val score: 0.92662, in 0.304s\n",
      "[86/1000] 1 tree, 31 leaves, max depth = 13, train score: 0.95765, val score: 0.92687, in 0.312s\n",
      "[87/1000] 1 tree, 31 leaves, max depth = 15, train score: 0.95855, val score: 0.92688, in 0.317s\n",
      "[88/1000] 1 tree, 31 leaves, max depth = 9, train score: 0.95911, val score: 0.92699, in 0.492s\n",
      "[89/1000] 1 tree, 31 leaves, max depth = 15, train score: 0.95927, val score: 0.92696, in 0.580s\n",
      "[90/1000] 1 tree, 31 leaves, max depth = 12, train score: 0.95956, val score: 0.92701, in 0.340s\n",
      "[91/1000] 1 tree, 31 leaves, max depth = 12, train score: 0.96012, val score: 0.92770, in 0.353s\n",
      "[92/1000] 1 tree, 31 leaves, max depth = 14, train score: 0.96034, val score: 0.92785, in 0.309s\n",
      "[93/1000] 1 tree, 31 leaves, max depth = 11, train score: 0.96072, val score: 0.92811, in 0.507s\n",
      "[94/1000] 1 tree, 31 leaves, max depth = 9, train score: 0.96092, val score: 0.92817, in 0.518s\n",
      "[95/1000] 1 tree, 31 leaves, max depth = 12, train score: 0.96132, val score: 0.92812, in 0.718s\n",
      "[96/1000] 1 tree, 31 leaves, max depth = 10, train score: 0.96222, val score: 0.92759, in 0.261s\n",
      "[97/1000] 1 tree, 31 leaves, max depth = 9, train score: 0.96278, val score: 0.92789, in 0.314s\n",
      "[98/1000] 1 tree, 31 leaves, max depth = 10, train score: 0.96360, val score: 0.92803, in 0.293s\n",
      "[99/1000] 1 tree, 31 leaves, max depth = 14, train score: 0.96445, val score: 0.92769, in 0.292s\n",
      "[100/1000] 1 tree, 31 leaves, max depth = 10, train score: 0.96463, val score: 0.92799, in 0.332s\n",
      "[101/1000] 1 tree, 31 leaves, max depth = 14, train score: 0.96495, val score: 0.92792, in 0.281s\n",
      "[102/1000] 1 tree, 31 leaves, max depth = 15, train score: 0.96531, val score: 0.92768, in 0.286s\n",
      "[103/1000] 1 tree, 31 leaves, max depth = 14, train score: 0.96561, val score: 0.92734, in 0.310s\n",
      "[104/1000] 1 tree, 31 leaves, max depth = 12, train score: 0.96597, val score: 0.92700, in 0.275s\n",
      "Fit 104 trees in 35.309 s, (3224 total leaves)\n",
      "Time spent computing histograms: 17.350s\n",
      "Time spent finding best splits:  2.618s\n",
      "Time spent applying splits:      4.229s\n",
      "Time spent predicting:           0.032s\n",
      "CPU times: user 2min 33s, sys: 54.2 s, total: 3min 27s\n",
      "Wall time: 36.1 s\n"
     ]
    },
    {
     "data": {
      "text/plain": [
       "(0.9662431693097167, 0.8943595769682725)"
      ]
     },
     "execution_count": 196,
     "metadata": {},
     "output_type": "execute_result"
    }
   ],
   "source": [
    "%%time\n",
    "clf = HistGradientBoostingClassifier(loss='binary_crossentropy', verbose=1,\n",
    "                                    max_iter=1000, scoring='roc_auc',\n",
    "                                    max_depth=15, learning_rate=0.1,\n",
    "                                    l2_regularization=4.0, tol=1e-8)\n",
    "clf.fit(xs,y)\n",
    "m_roc(y, xs), m_roc(valid_y, valid_xs)"
   ]
  },
  {
   "cell_type": "markdown",
   "metadata": {
    "heading_collapsed": true,
    "hidden": true
   },
   "source": [
    "### Only features deemed important by RF model interpretation with V*** features"
   ]
  },
  {
   "cell_type": "code",
   "execution_count": 205,
   "metadata": {
    "hidden": true
   },
   "outputs": [],
   "source": [
    "xs_imp = (path/'xs_imp_full.pkl').load()\n",
    "valid_xs_imp = (path/'valid_xs_imp_full.pkl').load()"
   ]
  },
  {
   "cell_type": "code",
   "execution_count": 206,
   "metadata": {
    "hidden": true
   },
   "outputs": [
    {
     "name": "stdout",
     "output_type": "stream",
     "text": [
      "Binning 0.011 GB of training data: 0.114 s\n",
      "Binning 0.001 GB of validation data: 0.006 s\n",
      "Fitting gradient boosted rounds:\n",
      "[1/1000] 1 tree, 31 leaves, max depth = 10, train score: 0.85183, val score: 0.82808, in 0.034s\n",
      "[2/1000] 1 tree, 31 leaves, max depth = 10, train score: 0.85846, val score: 0.83773, in 0.034s\n",
      "[3/1000] 1 tree, 31 leaves, max depth = 9, train score: 0.86037, val score: 0.84088, in 0.033s\n",
      "[4/1000] 1 tree, 31 leaves, max depth = 9, train score: 0.86785, val score: 0.85493, in 0.035s\n",
      "[5/1000] 1 tree, 31 leaves, max depth = 9, train score: 0.86885, val score: 0.85801, in 0.052s\n",
      "[6/1000] 1 tree, 31 leaves, max depth = 10, train score: 0.87304, val score: 0.85900, in 0.032s\n",
      "[7/1000] 1 tree, 31 leaves, max depth = 11, train score: 0.87515, val score: 0.86176, in 0.032s\n",
      "[8/1000] 1 tree, 31 leaves, max depth = 11, train score: 0.87517, val score: 0.86165, in 0.025s\n",
      "[9/1000] 1 tree, 31 leaves, max depth = 8, train score: 0.87960, val score: 0.86407, in 0.042s\n",
      "[10/1000] 1 tree, 31 leaves, max depth = 8, train score: 0.87988, val score: 0.86533, in 0.041s\n",
      "[11/1000] 1 tree, 31 leaves, max depth = 10, train score: 0.88315, val score: 0.86698, in 0.040s\n",
      "[12/1000] 1 tree, 31 leaves, max depth = 10, train score: 0.88684, val score: 0.86933, in 0.026s\n",
      "[13/1000] 1 tree, 31 leaves, max depth = 9, train score: 0.88915, val score: 0.87110, in 0.044s\n",
      "[14/1000] 1 tree, 31 leaves, max depth = 10, train score: 0.89089, val score: 0.87413, in 0.041s\n",
      "[15/1000] 1 tree, 31 leaves, max depth = 9, train score: 0.89274, val score: 0.87416, in 0.040s\n",
      "[16/1000] 1 tree, 31 leaves, max depth = 10, train score: 0.89429, val score: 0.87506, in 0.039s\n",
      "[17/1000] 1 tree, 31 leaves, max depth = 11, train score: 0.89607, val score: 0.87623, in 0.046s\n",
      "[18/1000] 1 tree, 31 leaves, max depth = 10, train score: 0.89750, val score: 0.87596, in 0.046s\n",
      "[19/1000] 1 tree, 31 leaves, max depth = 11, train score: 0.89791, val score: 0.87598, in 0.043s\n",
      "[20/1000] 1 tree, 31 leaves, max depth = 9, train score: 0.89881, val score: 0.87472, in 0.050s\n",
      "[21/1000] 1 tree, 31 leaves, max depth = 10, train score: 0.89961, val score: 0.87532, in 0.050s\n",
      "[22/1000] 1 tree, 31 leaves, max depth = 12, train score: 0.90197, val score: 0.87687, in 0.050s\n",
      "[23/1000] 1 tree, 31 leaves, max depth = 9, train score: 0.90355, val score: 0.87708, in 0.048s\n",
      "[24/1000] 1 tree, 31 leaves, max depth = 13, train score: 0.90547, val score: 0.87825, in 0.052s\n",
      "[25/1000] 1 tree, 31 leaves, max depth = 10, train score: 0.90714, val score: 0.87857, in 0.056s\n",
      "[26/1000] 1 tree, 31 leaves, max depth = 10, train score: 0.90809, val score: 0.87905, in 0.049s\n",
      "[27/1000] 1 tree, 31 leaves, max depth = 10, train score: 0.91028, val score: 0.87931, in 0.038s\n",
      "[28/1000] 1 tree, 31 leaves, max depth = 10, train score: 0.91119, val score: 0.87819, in 0.047s\n",
      "[29/1000] 1 tree, 31 leaves, max depth = 10, train score: 0.91271, val score: 0.87913, in 0.055s\n",
      "[30/1000] 1 tree, 31 leaves, max depth = 10, train score: 0.91383, val score: 0.87924, in 0.052s\n",
      "[31/1000] 1 tree, 31 leaves, max depth = 15, train score: 0.91436, val score: 0.88158, in 0.048s\n",
      "[32/1000] 1 tree, 31 leaves, max depth = 12, train score: 0.91563, val score: 0.88195, in 0.050s\n",
      "[33/1000] 1 tree, 31 leaves, max depth = 15, train score: 0.91665, val score: 0.88166, in 0.052s\n",
      "[34/1000] 1 tree, 31 leaves, max depth = 10, train score: 0.91782, val score: 0.88150, in 0.053s\n",
      "[35/1000] 1 tree, 31 leaves, max depth = 14, train score: 0.91925, val score: 0.88206, in 0.056s\n",
      "[36/1000] 1 tree, 31 leaves, max depth = 15, train score: 0.92051, val score: 0.88199, in 0.059s\n",
      "[37/1000] 1 tree, 31 leaves, max depth = 11, train score: 0.92129, val score: 0.88266, in 0.057s\n",
      "[38/1000] 1 tree, 31 leaves, max depth = 10, train score: 0.92316, val score: 0.88200, in 0.055s\n",
      "[39/1000] 1 tree, 31 leaves, max depth = 15, train score: 0.92395, val score: 0.88262, in 0.056s\n",
      "[40/1000] 1 tree, 31 leaves, max depth = 15, train score: 0.92462, val score: 0.88246, in 0.056s\n",
      "[41/1000] 1 tree, 31 leaves, max depth = 11, train score: 0.92566, val score: 0.88175, in 0.058s\n",
      "[42/1000] 1 tree, 31 leaves, max depth = 11, train score: 0.92694, val score: 0.88190, in 0.063s\n",
      "[43/1000] 1 tree, 31 leaves, max depth = 12, train score: 0.92771, val score: 0.88165, in 0.057s\n",
      "[44/1000] 1 tree, 31 leaves, max depth = 10, train score: 0.92924, val score: 0.88213, in 0.076s\n",
      "[45/1000] 1 tree, 31 leaves, max depth = 9, train score: 0.93084, val score: 0.88210, in 0.068s\n",
      "[46/1000] 1 tree, 31 leaves, max depth = 13, train score: 0.93115, val score: 0.88302, in 0.057s\n",
      "[47/1000] 1 tree, 31 leaves, max depth = 12, train score: 0.93209, val score: 0.88308, in 0.066s\n",
      "[48/1000] 1 tree, 31 leaves, max depth = 11, train score: 0.93330, val score: 0.88375, in 0.057s\n",
      "[49/1000] 1 tree, 31 leaves, max depth = 11, train score: 0.93413, val score: 0.88341, in 0.054s\n",
      "[50/1000] 1 tree, 31 leaves, max depth = 14, train score: 0.93524, val score: 0.88365, in 0.058s\n",
      "[51/1000] 1 tree, 31 leaves, max depth = 13, train score: 0.93624, val score: 0.88449, in 0.063s\n",
      "[52/1000] 1 tree, 31 leaves, max depth = 10, train score: 0.93750, val score: 0.88469, in 0.065s\n",
      "[53/1000] 1 tree, 31 leaves, max depth = 8, train score: 0.93863, val score: 0.88453, in 0.063s\n",
      "[54/1000] 1 tree, 31 leaves, max depth = 10, train score: 0.93966, val score: 0.88434, in 0.064s\n",
      "[55/1000] 1 tree, 31 leaves, max depth = 9, train score: 0.94029, val score: 0.88450, in 0.059s\n",
      "[56/1000] 1 tree, 31 leaves, max depth = 9, train score: 0.94105, val score: 0.88479, in 0.060s\n",
      "[57/1000] 1 tree, 31 leaves, max depth = 11, train score: 0.94155, val score: 0.88455, in 0.062s\n",
      "[58/1000] 1 tree, 31 leaves, max depth = 13, train score: 0.94246, val score: 0.88462, in 0.067s\n",
      "[59/1000] 1 tree, 31 leaves, max depth = 9, train score: 0.94355, val score: 0.88386, in 0.064s\n",
      "[60/1000] 1 tree, 31 leaves, max depth = 14, train score: 0.94414, val score: 0.88395, in 0.059s\n",
      "[61/1000] 1 tree, 31 leaves, max depth = 13, train score: 0.94494, val score: 0.88379, in 0.056s\n",
      "[62/1000] 1 tree, 31 leaves, max depth = 12, train score: 0.94575, val score: 0.88325, in 0.061s\n",
      "[63/1000] 1 tree, 31 leaves, max depth = 12, train score: 0.94675, val score: 0.88355, in 0.068s\n",
      "[64/1000] 1 tree, 31 leaves, max depth = 12, train score: 0.94760, val score: 0.88287, in 0.084s\n",
      "[65/1000] 1 tree, 31 leaves, max depth = 15, train score: 0.94792, val score: 0.88344, in 0.068s\n",
      "[66/1000] 1 tree, 31 leaves, max depth = 9, train score: 0.94840, val score: 0.88349, in 0.072s\n",
      "Fit 66 trees in 3.663 s, (2046 total leaves)\n",
      "Time spent computing histograms: 0.892s\n",
      "Time spent finding best splits:  0.476s\n",
      "Time spent applying splits:      0.551s\n",
      "Time spent predicting:           0.013s\n",
      "CPU times: user 22.3 s, sys: 2.05 s, total: 24.4 s\n",
      "Wall time: 3.77 s\n"
     ]
    },
    {
     "data": {
      "text/plain": [
       "(0.9433326003871689, 0.8825521657999629)"
      ]
     },
     "execution_count": 206,
     "metadata": {},
     "output_type": "execute_result"
    }
   ],
   "source": [
    "%%time\n",
    "clf = HistGradientBoostingClassifier(loss='binary_crossentropy', verbose=1,\n",
    "                                    max_iter=1000, scoring='roc_auc',\n",
    "                                    max_depth=15, learning_rate=0.1,\n",
    "                                    l2_regularization=4.0, tol=1e-8)\n",
    "clf.fit(xs_imp,y)\n",
    "m_roc(y, xs_imp), m_roc(valid_y, valid_xs_imp)"
   ]
  },
  {
   "cell_type": "markdown",
   "metadata": {
    "heading_collapsed": true,
    "hidden": true
   },
   "source": [
    "### Only features deemed important by RF model interpretation"
   ]
  },
  {
   "cell_type": "code",
   "execution_count": 207,
   "metadata": {
    "hidden": true
   },
   "outputs": [],
   "source": [
    "xs_imp = (path/'xs_imp.pkl').load()\n",
    "valid_xs_imp = (path/'valid_xs_imp.pkl').load()"
   ]
  },
  {
   "cell_type": "code",
   "execution_count": 208,
   "metadata": {
    "hidden": true
   },
   "outputs": [
    {
     "name": "stdout",
     "output_type": "stream",
     "text": [
      "Binning 0.012 GB of training data: 0.121 s\n",
      "Binning 0.001 GB of validation data: 0.006 s\n",
      "Fitting gradient boosted rounds:\n",
      "[1/1000] 1 tree, 31 leaves, max depth = 10, train score: 0.82711, val score: 0.81972, in 0.034s\n",
      "[2/1000] 1 tree, 31 leaves, max depth = 8, train score: 0.84659, val score: 0.84106, in 0.041s\n",
      "[3/1000] 1 tree, 31 leaves, max depth = 9, train score: 0.85296, val score: 0.84471, in 0.039s\n",
      "[4/1000] 1 tree, 31 leaves, max depth = 8, train score: 0.85699, val score: 0.84721, in 0.039s\n",
      "[5/1000] 1 tree, 31 leaves, max depth = 9, train score: 0.85718, val score: 0.84812, in 0.042s\n",
      "[6/1000] 1 tree, 31 leaves, max depth = 9, train score: 0.86644, val score: 0.85338, in 0.039s\n",
      "[7/1000] 1 tree, 31 leaves, max depth = 10, train score: 0.87393, val score: 0.85923, in 0.047s\n",
      "[8/1000] 1 tree, 31 leaves, max depth = 9, train score: 0.87638, val score: 0.86396, in 0.043s\n",
      "[9/1000] 1 tree, 31 leaves, max depth = 8, train score: 0.87857, val score: 0.86645, in 0.046s\n",
      "[10/1000] 1 tree, 31 leaves, max depth = 9, train score: 0.87978, val score: 0.86808, in 0.048s\n",
      "[11/1000] 1 tree, 31 leaves, max depth = 9, train score: 0.88440, val score: 0.87413, in 0.048s\n",
      "[12/1000] 1 tree, 31 leaves, max depth = 8, train score: 0.88603, val score: 0.87462, in 0.046s\n",
      "[13/1000] 1 tree, 31 leaves, max depth = 11, train score: 0.88798, val score: 0.87700, in 0.045s\n",
      "[14/1000] 1 tree, 31 leaves, max depth = 9, train score: 0.88967, val score: 0.87763, in 0.040s\n",
      "[15/1000] 1 tree, 31 leaves, max depth = 9, train score: 0.89205, val score: 0.87902, in 0.049s\n",
      "[16/1000] 1 tree, 31 leaves, max depth = 10, train score: 0.89364, val score: 0.88044, in 0.051s\n",
      "[17/1000] 1 tree, 31 leaves, max depth = 9, train score: 0.89486, val score: 0.88047, in 0.054s\n",
      "[18/1000] 1 tree, 31 leaves, max depth = 10, train score: 0.89795, val score: 0.88218, in 0.072s\n",
      "[19/1000] 1 tree, 31 leaves, max depth = 11, train score: 0.89985, val score: 0.88207, in 0.041s\n",
      "[20/1000] 1 tree, 31 leaves, max depth = 10, train score: 0.90124, val score: 0.88303, in 0.049s\n",
      "[21/1000] 1 tree, 31 leaves, max depth = 10, train score: 0.90283, val score: 0.88358, in 0.048s\n",
      "[22/1000] 1 tree, 31 leaves, max depth = 11, train score: 0.90441, val score: 0.88429, in 0.058s\n",
      "[23/1000] 1 tree, 31 leaves, max depth = 11, train score: 0.90624, val score: 0.88455, in 0.061s\n",
      "[24/1000] 1 tree, 31 leaves, max depth = 9, train score: 0.90773, val score: 0.88612, in 0.052s\n",
      "[25/1000] 1 tree, 31 leaves, max depth = 11, train score: 0.90813, val score: 0.88592, in 0.049s\n",
      "[26/1000] 1 tree, 31 leaves, max depth = 12, train score: 0.90878, val score: 0.88744, in 0.053s\n",
      "[27/1000] 1 tree, 31 leaves, max depth = 11, train score: 0.90889, val score: 0.88785, in 0.065s\n",
      "[28/1000] 1 tree, 31 leaves, max depth = 11, train score: 0.90972, val score: 0.88765, in 0.070s\n",
      "[29/1000] 1 tree, 31 leaves, max depth = 14, train score: 0.91124, val score: 0.88932, in 0.064s\n",
      "[30/1000] 1 tree, 31 leaves, max depth = 12, train score: 0.91244, val score: 0.89126, in 0.065s\n",
      "[31/1000] 1 tree, 31 leaves, max depth = 10, train score: 0.91256, val score: 0.89126, in 0.059s\n",
      "[32/1000] 1 tree, 31 leaves, max depth = 11, train score: 0.91342, val score: 0.89121, in 0.060s\n",
      "[33/1000] 1 tree, 31 leaves, max depth = 9, train score: 0.91500, val score: 0.89312, in 0.063s\n",
      "[34/1000] 1 tree, 31 leaves, max depth = 11, train score: 0.91574, val score: 0.89451, in 0.063s\n",
      "[35/1000] 1 tree, 31 leaves, max depth = 9, train score: 0.91689, val score: 0.89509, in 0.084s\n",
      "[36/1000] 1 tree, 31 leaves, max depth = 12, train score: 0.91788, val score: 0.89640, in 0.068s\n",
      "[37/1000] 1 tree, 31 leaves, max depth = 13, train score: 0.91851, val score: 0.89652, in 0.060s\n",
      "[38/1000] 1 tree, 31 leaves, max depth = 8, train score: 0.91944, val score: 0.89730, in 0.068s\n",
      "[39/1000] 1 tree, 31 leaves, max depth = 12, train score: 0.92074, val score: 0.89726, in 0.054s\n",
      "[40/1000] 1 tree, 31 leaves, max depth = 8, train score: 0.92196, val score: 0.89841, in 0.059s\n",
      "[41/1000] 1 tree, 31 leaves, max depth = 15, train score: 0.92327, val score: 0.89943, in 0.054s\n",
      "[42/1000] 1 tree, 31 leaves, max depth = 11, train score: 0.92428, val score: 0.89898, in 0.056s\n",
      "[43/1000] 1 tree, 31 leaves, max depth = 15, train score: 0.92539, val score: 0.90021, in 0.053s\n",
      "[44/1000] 1 tree, 31 leaves, max depth = 11, train score: 0.92642, val score: 0.90144, in 0.057s\n",
      "[45/1000] 1 tree, 31 leaves, max depth = 11, train score: 0.92722, val score: 0.90250, in 0.066s\n",
      "[46/1000] 1 tree, 31 leaves, max depth = 10, train score: 0.92797, val score: 0.90268, in 0.061s\n",
      "[47/1000] 1 tree, 31 leaves, max depth = 10, train score: 0.92939, val score: 0.90339, in 0.064s\n",
      "[48/1000] 1 tree, 31 leaves, max depth = 14, train score: 0.93102, val score: 0.90354, in 0.064s\n",
      "[49/1000] 1 tree, 31 leaves, max depth = 10, train score: 0.93195, val score: 0.90373, in 0.064s\n",
      "[50/1000] 1 tree, 31 leaves, max depth = 12, train score: 0.93302, val score: 0.90363, in 0.058s\n",
      "[51/1000] 1 tree, 31 leaves, max depth = 13, train score: 0.93409, val score: 0.90451, in 0.068s\n",
      "[52/1000] 1 tree, 31 leaves, max depth = 11, train score: 0.93477, val score: 0.90407, in 0.058s\n",
      "[53/1000] 1 tree, 31 leaves, max depth = 14, train score: 0.93519, val score: 0.90399, in 0.060s\n",
      "[54/1000] 1 tree, 31 leaves, max depth = 13, train score: 0.93607, val score: 0.90494, in 0.061s\n",
      "[55/1000] 1 tree, 31 leaves, max depth = 14, train score: 0.93678, val score: 0.90466, in 0.058s\n",
      "[56/1000] 1 tree, 31 leaves, max depth = 12, train score: 0.93759, val score: 0.90487, in 0.059s\n",
      "[57/1000] 1 tree, 31 leaves, max depth = 11, train score: 0.93823, val score: 0.90559, in 0.080s\n",
      "[58/1000] 1 tree, 31 leaves, max depth = 9, train score: 0.93944, val score: 0.90594, in 0.059s\n",
      "[59/1000] 1 tree, 31 leaves, max depth = 10, train score: 0.93997, val score: 0.90555, in 0.060s\n",
      "[60/1000] 1 tree, 31 leaves, max depth = 11, train score: 0.94032, val score: 0.90566, in 0.062s\n",
      "[61/1000] 1 tree, 31 leaves, max depth = 10, train score: 0.94125, val score: 0.90629, in 0.063s\n",
      "[62/1000] 1 tree, 31 leaves, max depth = 12, train score: 0.94173, val score: 0.90642, in 0.090s\n",
      "[63/1000] 1 tree, 31 leaves, max depth = 10, train score: 0.94262, val score: 0.90695, in 0.063s\n",
      "[64/1000] 1 tree, 31 leaves, max depth = 10, train score: 0.94308, val score: 0.90706, in 0.067s\n",
      "[65/1000] 1 tree, 31 leaves, max depth = 13, train score: 0.94370, val score: 0.90779, in 0.066s\n",
      "[66/1000] 1 tree, 31 leaves, max depth = 14, train score: 0.94451, val score: 0.90854, in 0.059s\n",
      "[67/1000] 1 tree, 31 leaves, max depth = 9, train score: 0.94535, val score: 0.90875, in 0.065s\n",
      "[68/1000] 1 tree, 31 leaves, max depth = 12, train score: 0.94596, val score: 0.90906, in 0.073s\n",
      "[69/1000] 1 tree, 31 leaves, max depth = 12, train score: 0.94665, val score: 0.90894, in 0.070s\n",
      "[70/1000] 1 tree, 31 leaves, max depth = 9, train score: 0.94759, val score: 0.90914, in 0.064s\n",
      "[71/1000] 1 tree, 31 leaves, max depth = 9, train score: 0.94803, val score: 0.90961, in 0.081s\n",
      "[72/1000] 1 tree, 31 leaves, max depth = 11, train score: 0.94841, val score: 0.90929, in 0.087s\n",
      "[73/1000] 1 tree, 31 leaves, max depth = 9, train score: 0.94874, val score: 0.90932, in 0.087s\n",
      "[74/1000] 1 tree, 31 leaves, max depth = 13, train score: 0.94941, val score: 0.90968, in 0.080s\n",
      "[75/1000] 1 tree, 31 leaves, max depth = 10, train score: 0.95032, val score: 0.90923, in 0.090s\n",
      "[76/1000] 1 tree, 31 leaves, max depth = 10, train score: 0.95069, val score: 0.90908, in 0.081s\n",
      "[77/1000] 1 tree, 31 leaves, max depth = 9, train score: 0.95109, val score: 0.90925, in 0.088s\n",
      "[78/1000] 1 tree, 31 leaves, max depth = 15, train score: 0.95164, val score: 0.90912, in 0.065s\n",
      "[79/1000] 1 tree, 31 leaves, max depth = 11, train score: 0.95215, val score: 0.90891, in 0.069s\n",
      "[80/1000] 1 tree, 31 leaves, max depth = 12, train score: 0.95263, val score: 0.90938, in 0.090s\n",
      "[81/1000] 1 tree, 31 leaves, max depth = 10, train score: 0.95338, val score: 0.90900, in 0.087s\n",
      "[82/1000] 1 tree, 31 leaves, max depth = 14, train score: 0.95351, val score: 0.90902, in 0.076s\n",
      "[83/1000] 1 tree, 31 leaves, max depth = 9, train score: 0.95394, val score: 0.90915, in 0.074s\n",
      "[84/1000] 1 tree, 31 leaves, max depth = 10, train score: 0.95439, val score: 0.90943, in 0.072s\n",
      "Fit 84 trees in 5.394 s, (2604 total leaves)\n",
      "Time spent computing histograms: 1.362s\n",
      "Time spent finding best splits:  0.681s\n",
      "Time spent applying splits:      0.802s\n",
      "Time spent predicting:           0.017s\n"
     ]
    },
    {
     "name": "stdout",
     "output_type": "stream",
     "text": [
      "CPU times: user 33.3 s, sys: 3.08 s, total: 36.4 s\n",
      "Wall time: 5.53 s\n"
     ]
    },
    {
     "data": {
      "text/plain": [
       "(0.9554132480716929, 0.8944939662234133)"
      ]
     },
     "execution_count": 208,
     "metadata": {},
     "output_type": "execute_result"
    }
   ],
   "source": [
    "%%time\n",
    "clf = HistGradientBoostingClassifier(loss='binary_crossentropy', verbose=1,\n",
    "                                    max_iter=1000, scoring='roc_auc',\n",
    "                                    max_depth=15, learning_rate=0.1,\n",
    "                                    l2_regularization=4.0, tol=1e-8)\n",
    "clf.fit(xs_imp,y)\n",
    "m_roc(y, xs_imp), m_roc(valid_y, valid_xs_imp)"
   ]
  },
  {
   "cell_type": "code",
   "execution_count": null,
   "metadata": {
    "hidden": true
   },
   "outputs": [],
   "source": []
  }
 ],
 "metadata": {
  "kernelspec": {
   "display_name": "Python 3",
   "language": "python",
   "name": "python3"
  },
  "language_info": {
   "codemirror_mode": {
    "name": "ipython",
    "version": 3
   },
   "file_extension": ".py",
   "mimetype": "text/x-python",
   "name": "python",
   "nbconvert_exporter": "python",
   "pygments_lexer": "ipython3",
   "version": "3.8.5"
  },
  "toc": {
   "base_numbering": 1,
   "nav_menu": {},
   "number_sections": false,
   "sideBar": true,
   "skip_h1_title": false,
   "title_cell": "Table of Contents",
   "title_sidebar": "Contents",
   "toc_cell": true,
   "toc_position": {},
   "toc_section_display": true,
   "toc_window_display": false
  }
 },
 "nbformat": 4,
 "nbformat_minor": 4
}
