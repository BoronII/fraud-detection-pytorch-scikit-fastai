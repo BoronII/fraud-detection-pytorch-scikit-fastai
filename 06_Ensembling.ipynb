{
 "cells": [
  {
   "cell_type": "markdown",
   "metadata": {},
   "source": [
    "# Ensembling"
   ]
  },
  {
   "cell_type": "code",
   "execution_count": 25,
   "metadata": {},
   "outputs": [],
   "source": [
    "from fastai.tabular.all import *\n",
    "\n",
    "from sklearn.metrics import roc_auc_score\n",
    "from sklearn.ensemble import RandomForestClassifier\n",
    "\n",
    "from sklearn.experimental import enable_hist_gradient_boosting \n",
    "from sklearn.ensemble import HistGradientBoostingClassifier\n",
    "\n",
    "path = Path('/Users/baranserajelahi/Codes/fraud-detection-pytorch-scikit-fastai/data')\n",
    "Path.BASE_PATH = path"
   ]
  },
  {
   "cell_type": "code",
   "execution_count": 26,
   "metadata": {},
   "outputs": [],
   "source": [
    "to = (path/'to_nn_full.pkl').load()\n",
    "xs, y             = to.train.xs, to.train.y\n",
    "valid_xs, valid_y = to.valid.xs, to.valid.y"
   ]
  },
  {
   "cell_type": "markdown",
   "metadata": {},
   "source": [
    "## Models"
   ]
  },
  {
   "cell_type": "markdown",
   "metadata": {},
   "source": [
    "**Random Forest**"
   ]
  },
  {
   "cell_type": "code",
   "execution_count": 27,
   "metadata": {},
   "outputs": [
    {
     "name": "stdout",
     "output_type": "stream",
     "text": [
      "CPU times: user 5min 21s, sys: 7.08 s, total: 5min 28s\n",
      "Wall time: 1min 22s\n"
     ]
    },
    {
     "data": {
      "text/plain": [
       "(0.9999992589894948, 0.8938047929538541)"
      ]
     },
     "execution_count": 27,
     "metadata": {},
     "output_type": "execute_result"
    }
   ],
   "source": [
    "%%time\n",
    "rf = RandomForestClassifier(n_jobs=-1 , max_samples=0.66, oob_score=True,\n",
    "                            n_estimators=1000,  criterion='entropy', class_weight='balanced').fit(xs,y)\n",
    "\n",
    "roc_auc_score(y, rf.predict_proba(xs)[:,1]), roc_auc_score(valid_y, rf.predict_proba(valid_xs)[:,1])"
   ]
  },
  {
   "cell_type": "markdown",
   "metadata": {},
   "source": [
    "**Gradient Boosted Tree**"
   ]
  },
  {
   "cell_type": "code",
   "execution_count": 28,
   "metadata": {
    "scrolled": false
   },
   "outputs": [
    {
     "name": "stdout",
     "output_type": "stream",
     "text": [
      "Binning 0.242 GB of training data: 1.554 s\n",
      "Binning 0.027 GB of validation data: 0.058 s\n",
      "Fitting gradient boosted rounds:\n",
      "[1/1000] 1 tree, 44 leaves, max depth = 11, train score: 0.87028, val score: 0.83194, in 0.669s\n",
      "[2/1000] 1 tree, 44 leaves, max depth = 14, train score: 0.87330, val score: 0.83810, in 0.636s\n",
      "[3/1000] 1 tree, 44 leaves, max depth = 10, train score: 0.87887, val score: 0.83998, in 0.604s\n",
      "[4/1000] 1 tree, 44 leaves, max depth = 10, train score: 0.87965, val score: 0.84296, in 0.614s\n",
      "[5/1000] 1 tree, 44 leaves, max depth = 11, train score: 0.88276, val score: 0.84328, in 0.483s\n",
      "[6/1000] 1 tree, 44 leaves, max depth = 11, train score: 0.88299, val score: 0.84369, in 0.439s\n",
      "[7/1000] 1 tree, 44 leaves, max depth = 11, train score: 0.88597, val score: 0.85403, in 0.589s\n",
      "[8/1000] 1 tree, 44 leaves, max depth = 11, train score: 0.88657, val score: 0.85798, in 0.815s\n",
      "[9/1000] 1 tree, 44 leaves, max depth = 11, train score: 0.88889, val score: 0.86066, in 0.280s\n",
      "[10/1000] 1 tree, 44 leaves, max depth = 11, train score: 0.88964, val score: 0.86100, in 0.342s\n",
      "[11/1000] 1 tree, 44 leaves, max depth = 9, train score: 0.89121, val score: 0.86138, in 0.334s\n",
      "[12/1000] 1 tree, 44 leaves, max depth = 10, train score: 0.89170, val score: 0.86265, in 0.298s\n",
      "[13/1000] 1 tree, 44 leaves, max depth = 11, train score: 0.89331, val score: 0.86662, in 0.302s\n",
      "[14/1000] 1 tree, 44 leaves, max depth = 10, train score: 0.89500, val score: 0.86859, in 0.552s\n",
      "[15/1000] 1 tree, 44 leaves, max depth = 10, train score: 0.89600, val score: 0.86845, in 0.528s\n",
      "[16/1000] 1 tree, 44 leaves, max depth = 10, train score: 0.89744, val score: 0.86844, in 0.586s\n",
      "[17/1000] 1 tree, 44 leaves, max depth = 10, train score: 0.89819, val score: 0.86789, in 0.591s\n",
      "[18/1000] 1 tree, 44 leaves, max depth = 10, train score: 0.89967, val score: 0.86817, in 0.455s\n",
      "[19/1000] 1 tree, 44 leaves, max depth = 10, train score: 0.90069, val score: 0.86872, in 0.530s\n",
      "[20/1000] 1 tree, 44 leaves, max depth = 11, train score: 0.90037, val score: 0.86888, in 0.524s\n",
      "[21/1000] 1 tree, 44 leaves, max depth = 12, train score: 0.90113, val score: 0.86865, in 0.762s\n",
      "[22/1000] 1 tree, 44 leaves, max depth = 10, train score: 0.90158, val score: 0.86854, in 0.283s\n",
      "[23/1000] 1 tree, 44 leaves, max depth = 12, train score: 0.90314, val score: 0.86917, in 0.298s\n",
      "[24/1000] 1 tree, 44 leaves, max depth = 11, train score: 0.90329, val score: 0.86965, in 0.351s\n",
      "[25/1000] 1 tree, 44 leaves, max depth = 11, train score: 0.90330, val score: 0.86959, in 0.310s\n",
      "[26/1000] 1 tree, 44 leaves, max depth = 12, train score: 0.90528, val score: 0.87255, in 0.418s\n",
      "[27/1000] 1 tree, 44 leaves, max depth = 12, train score: 0.90547, val score: 0.87299, in 0.633s\n",
      "[28/1000] 1 tree, 44 leaves, max depth = 10, train score: 0.90590, val score: 0.87416, in 0.547s\n",
      "[29/1000] 1 tree, 44 leaves, max depth = 11, train score: 0.90711, val score: 0.87411, in 0.572s\n",
      "[30/1000] 1 tree, 44 leaves, max depth = 11, train score: 0.90815, val score: 0.87457, in 0.463s\n",
      "[31/1000] 1 tree, 44 leaves, max depth = 13, train score: 0.90847, val score: 0.87486, in 0.443s\n",
      "[32/1000] 1 tree, 44 leaves, max depth = 15, train score: 0.90832, val score: 0.87532, in 0.618s\n",
      "[33/1000] 1 tree, 44 leaves, max depth = 11, train score: 0.91020, val score: 0.87591, in 1.202s\n",
      "[34/1000] 1 tree, 44 leaves, max depth = 12, train score: 0.91115, val score: 0.87582, in 0.336s\n",
      "[35/1000] 1 tree, 44 leaves, max depth = 12, train score: 0.91165, val score: 0.87555, in 0.377s\n",
      "[36/1000] 1 tree, 44 leaves, max depth = 10, train score: 0.91275, val score: 0.87593, in 0.375s\n",
      "[37/1000] 1 tree, 44 leaves, max depth = 11, train score: 0.91385, val score: 0.87834, in 0.387s\n",
      "[38/1000] 1 tree, 44 leaves, max depth = 13, train score: 0.91426, val score: 0.87854, in 0.325s\n",
      "[39/1000] 1 tree, 44 leaves, max depth = 13, train score: 0.91513, val score: 0.87857, in 0.368s\n",
      "[40/1000] 1 tree, 44 leaves, max depth = 12, train score: 0.91612, val score: 0.87932, in 0.332s\n",
      "[41/1000] 1 tree, 44 leaves, max depth = 12, train score: 0.91691, val score: 0.87975, in 0.329s\n",
      "[42/1000] 1 tree, 44 leaves, max depth = 10, train score: 0.91738, val score: 0.88023, in 0.497s\n",
      "[43/1000] 1 tree, 44 leaves, max depth = 12, train score: 0.91790, val score: 0.88017, in 0.578s\n",
      "[44/1000] 1 tree, 44 leaves, max depth = 12, train score: 0.91836, val score: 0.87991, in 0.564s\n",
      "[45/1000] 1 tree, 44 leaves, max depth = 12, train score: 0.91913, val score: 0.88080, in 0.550s\n",
      "[46/1000] 1 tree, 44 leaves, max depth = 10, train score: 0.91949, val score: 0.88084, in 0.830s\n",
      "[47/1000] 1 tree, 44 leaves, max depth = 12, train score: 0.91977, val score: 0.88061, in 0.830s\n",
      "[48/1000] 1 tree, 44 leaves, max depth = 12, train score: 0.92048, val score: 0.88106, in 0.307s\n",
      "[49/1000] 1 tree, 44 leaves, max depth = 12, train score: 0.92086, val score: 0.88111, in 0.306s\n",
      "[50/1000] 1 tree, 44 leaves, max depth = 12, train score: 0.92234, val score: 0.88162, in 0.317s\n",
      "[51/1000] 1 tree, 44 leaves, max depth = 13, train score: 0.92288, val score: 0.88199, in 0.321s\n",
      "[52/1000] 1 tree, 44 leaves, max depth = 13, train score: 0.92349, val score: 0.88243, in 0.328s\n",
      "[53/1000] 1 tree, 44 leaves, max depth = 13, train score: 0.92377, val score: 0.88276, in 0.338s\n",
      "[54/1000] 1 tree, 44 leaves, max depth = 12, train score: 0.92431, val score: 0.88500, in 0.363s\n",
      "[55/1000] 1 tree, 44 leaves, max depth = 15, train score: 0.92490, val score: 0.88611, in 0.333s\n",
      "[56/1000] 1 tree, 44 leaves, max depth = 12, train score: 0.92534, val score: 0.88703, in 0.336s\n",
      "[57/1000] 1 tree, 44 leaves, max depth = 12, train score: 0.92575, val score: 0.88799, in 0.592s\n",
      "[58/1000] 1 tree, 44 leaves, max depth = 13, train score: 0.92571, val score: 0.88820, in 0.567s\n",
      "[59/1000] 1 tree, 44 leaves, max depth = 16, train score: 0.92613, val score: 0.88817, in 0.903s\n",
      "[60/1000] 1 tree, 44 leaves, max depth = 14, train score: 0.92656, val score: 0.88884, in 0.325s\n",
      "[61/1000] 1 tree, 44 leaves, max depth = 15, train score: 0.92683, val score: 0.88949, in 0.317s\n",
      "[62/1000] 1 tree, 44 leaves, max depth = 11, train score: 0.92708, val score: 0.89068, in 0.320s\n",
      "[63/1000] 1 tree, 44 leaves, max depth = 12, train score: 0.92757, val score: 0.89081, in 0.368s\n",
      "[64/1000] 1 tree, 44 leaves, max depth = 12, train score: 0.92803, val score: 0.89145, in 0.340s\n",
      "[65/1000] 1 tree, 44 leaves, max depth = 14, train score: 0.92835, val score: 0.89219, in 0.368s\n",
      "[66/1000] 1 tree, 44 leaves, max depth = 12, train score: 0.92850, val score: 0.89296, in 0.385s\n",
      "[67/1000] 1 tree, 44 leaves, max depth = 16, train score: 0.92883, val score: 0.89329, in 0.345s\n",
      "[68/1000] 1 tree, 44 leaves, max depth = 16, train score: 0.92912, val score: 0.89348, in 0.550s\n",
      "[69/1000] 1 tree, 44 leaves, max depth = 13, train score: 0.92944, val score: 0.89386, in 0.652s\n",
      "[70/1000] 1 tree, 44 leaves, max depth = 10, train score: 0.93060, val score: 0.89458, in 0.656s\n",
      "[71/1000] 1 tree, 44 leaves, max depth = 15, train score: 0.93070, val score: 0.89502, in 1.050s\n",
      "[72/1000] 1 tree, 44 leaves, max depth = 15, train score: 0.93132, val score: 0.89568, in 0.422s\n",
      "[73/1000] 1 tree, 44 leaves, max depth = 17, train score: 0.93201, val score: 0.89610, in 0.392s\n",
      "[74/1000] 1 tree, 44 leaves, max depth = 17, train score: 0.93260, val score: 0.89645, in 0.399s\n",
      "[75/1000] 1 tree, 44 leaves, max depth = 14, train score: 0.93300, val score: 0.89637, in 0.352s\n",
      "[76/1000] 1 tree, 44 leaves, max depth = 13, train score: 0.93332, val score: 0.89659, in 0.383s\n",
      "[77/1000] 1 tree, 44 leaves, max depth = 13, train score: 0.93396, val score: 0.89660, in 0.387s\n",
      "[78/1000] 1 tree, 44 leaves, max depth = 13, train score: 0.93438, val score: 0.89696, in 0.503s\n",
      "[79/1000] 1 tree, 44 leaves, max depth = 13, train score: 0.93461, val score: 0.89710, in 0.395s\n",
      "[80/1000] 1 tree, 44 leaves, max depth = 11, train score: 0.93533, val score: 0.89762, in 0.497s\n",
      "[81/1000] 1 tree, 44 leaves, max depth = 15, train score: 0.93604, val score: 0.89754, in 0.656s\n",
      "[82/1000] 1 tree, 44 leaves, max depth = 14, train score: 0.93643, val score: 0.89767, in 0.603s\n",
      "[83/1000] 1 tree, 44 leaves, max depth = 16, train score: 0.93684, val score: 0.89756, in 0.572s\n",
      "[84/1000] 1 tree, 44 leaves, max depth = 20, train score: 0.93739, val score: 0.89808, in 0.869s\n"
     ]
    },
    {
     "name": "stdout",
     "output_type": "stream",
     "text": [
      "[85/1000] 1 tree, 44 leaves, max depth = 13, train score: 0.93810, val score: 0.89886, in 0.341s\n",
      "[86/1000] 1 tree, 44 leaves, max depth = 14, train score: 0.93862, val score: 0.89885, in 0.397s\n",
      "[87/1000] 1 tree, 44 leaves, max depth = 14, train score: 0.93889, val score: 0.89921, in 0.374s\n",
      "[88/1000] 1 tree, 44 leaves, max depth = 17, train score: 0.93966, val score: 0.89929, in 0.413s\n",
      "[89/1000] 1 tree, 44 leaves, max depth = 14, train score: 0.94036, val score: 0.89991, in 0.378s\n",
      "[90/1000] 1 tree, 44 leaves, max depth = 18, train score: 0.94067, val score: 0.89999, in 0.375s\n",
      "[91/1000] 1 tree, 44 leaves, max depth = 16, train score: 0.94122, val score: 0.90003, in 0.355s\n",
      "[92/1000] 1 tree, 44 leaves, max depth = 12, train score: 0.94155, val score: 0.90036, in 0.538s\n",
      "[93/1000] 1 tree, 44 leaves, max depth = 21, train score: 0.94184, val score: 0.90052, in 0.578s\n",
      "[94/1000] 1 tree, 44 leaves, max depth = 12, train score: 0.94220, val score: 0.90057, in 0.583s\n",
      "[95/1000] 1 tree, 44 leaves, max depth = 14, train score: 0.94269, val score: 0.90092, in 0.583s\n",
      "[96/1000] 1 tree, 44 leaves, max depth = 13, train score: 0.94314, val score: 0.90098, in 0.981s\n",
      "[97/1000] 1 tree, 44 leaves, max depth = 12, train score: 0.94349, val score: 0.90131, in 0.337s\n",
      "[98/1000] 1 tree, 44 leaves, max depth = 17, train score: 0.94369, val score: 0.90166, in 0.371s\n",
      "[99/1000] 1 tree, 44 leaves, max depth = 14, train score: 0.94420, val score: 0.90205, in 0.342s\n",
      "[100/1000] 1 tree, 44 leaves, max depth = 17, train score: 0.94468, val score: 0.90218, in 0.351s\n",
      "[101/1000] 1 tree, 44 leaves, max depth = 15, train score: 0.94505, val score: 0.90284, in 0.365s\n",
      "[102/1000] 1 tree, 44 leaves, max depth = 14, train score: 0.94538, val score: 0.90290, in 0.356s\n",
      "[103/1000] 1 tree, 44 leaves, max depth = 20, train score: 0.94568, val score: 0.90288, in 0.352s\n",
      "[104/1000] 1 tree, 44 leaves, max depth = 19, train score: 0.94589, val score: 0.90326, in 0.359s\n",
      "[105/1000] 1 tree, 44 leaves, max depth = 12, train score: 0.94607, val score: 0.90353, in 0.707s\n",
      "[106/1000] 1 tree, 44 leaves, max depth = 14, train score: 0.94647, val score: 0.90387, in 0.629s\n",
      "[107/1000] 1 tree, 44 leaves, max depth = 15, train score: 0.94689, val score: 0.90386, in 0.582s\n",
      "[108/1000] 1 tree, 44 leaves, max depth = 15, train score: 0.94723, val score: 0.90438, in 0.601s\n",
      "[109/1000] 1 tree, 44 leaves, max depth = 17, train score: 0.94760, val score: 0.90469, in 0.987s\n",
      "[110/1000] 1 tree, 44 leaves, max depth = 17, train score: 0.94804, val score: 0.90478, in 0.350s\n",
      "[111/1000] 1 tree, 44 leaves, max depth = 13, train score: 0.94859, val score: 0.90527, in 0.495s\n",
      "[112/1000] 1 tree, 44 leaves, max depth = 17, train score: 0.94882, val score: 0.90551, in 0.416s\n",
      "[113/1000] 1 tree, 44 leaves, max depth = 13, train score: 0.94923, val score: 0.90563, in 0.421s\n",
      "[114/1000] 1 tree, 44 leaves, max depth = 14, train score: 0.94944, val score: 0.90592, in 0.464s\n",
      "[115/1000] 1 tree, 44 leaves, max depth = 18, train score: 0.94974, val score: 0.90591, in 0.367s\n",
      "[116/1000] 1 tree, 44 leaves, max depth = 22, train score: 0.94997, val score: 0.90590, in 0.619s\n",
      "[117/1000] 1 tree, 44 leaves, max depth = 12, train score: 0.95037, val score: 0.90580, in 0.603s\n",
      "[118/1000] 1 tree, 44 leaves, max depth = 19, train score: 0.95073, val score: 0.90579, in 0.612s\n",
      "[119/1000] 1 tree, 44 leaves, max depth = 11, train score: 0.95120, val score: 0.90615, in 0.591s\n",
      "[120/1000] 1 tree, 44 leaves, max depth = 17, train score: 0.95166, val score: 0.90648, in 0.593s\n",
      "[121/1000] 1 tree, 44 leaves, max depth = 11, train score: 0.95208, val score: 0.90673, in 0.887s\n",
      "[122/1000] 1 tree, 44 leaves, max depth = 15, train score: 0.95248, val score: 0.90695, in 0.451s\n",
      "[123/1000] 1 tree, 44 leaves, max depth = 20, train score: 0.95287, val score: 0.90721, in 0.362s\n",
      "[124/1000] 1 tree, 44 leaves, max depth = 15, train score: 0.95313, val score: 0.90749, in 0.430s\n",
      "[125/1000] 1 tree, 44 leaves, max depth = 23, train score: 0.95337, val score: 0.90763, in 0.454s\n",
      "[126/1000] 1 tree, 44 leaves, max depth = 17, train score: 0.95368, val score: 0.90825, in 0.402s\n",
      "[127/1000] 1 tree, 44 leaves, max depth = 12, train score: 0.95400, val score: 0.90835, in 0.461s\n",
      "[128/1000] 1 tree, 44 leaves, max depth = 15, train score: 0.95434, val score: 0.90823, in 0.721s\n",
      "[129/1000] 1 tree, 44 leaves, max depth = 20, train score: 0.95472, val score: 0.90869, in 0.690s\n",
      "[130/1000] 1 tree, 44 leaves, max depth = 16, train score: 0.95496, val score: 0.90885, in 0.634s\n",
      "[131/1000] 1 tree, 44 leaves, max depth = 18, train score: 0.95535, val score: 0.90913, in 0.641s\n",
      "[132/1000] 1 tree, 44 leaves, max depth = 16, train score: 0.95591, val score: 0.90937, in 0.625s\n",
      "[133/1000] 1 tree, 44 leaves, max depth = 16, train score: 0.95643, val score: 0.90946, in 1.013s\n",
      "[134/1000] 1 tree, 44 leaves, max depth = 13, train score: 0.95703, val score: 0.90945, in 0.374s\n",
      "[135/1000] 1 tree, 44 leaves, max depth = 19, train score: 0.95743, val score: 0.90958, in 0.404s\n",
      "[136/1000] 1 tree, 44 leaves, max depth = 17, train score: 0.95787, val score: 0.90971, in 0.360s\n",
      "[137/1000] 1 tree, 44 leaves, max depth = 10, train score: 0.95851, val score: 0.90955, in 0.374s\n",
      "[138/1000] 1 tree, 44 leaves, max depth = 23, train score: 0.95894, val score: 0.90959, in 0.373s\n",
      "[139/1000] 1 tree, 44 leaves, max depth = 17, train score: 0.95944, val score: 0.90992, in 0.373s\n",
      "[140/1000] 1 tree, 44 leaves, max depth = 20, train score: 0.95971, val score: 0.91006, in 0.479s\n",
      "[141/1000] 1 tree, 44 leaves, max depth = 18, train score: 0.96011, val score: 0.91016, in 0.676s\n",
      "[142/1000] 1 tree, 44 leaves, max depth = 18, train score: 0.96034, val score: 0.91009, in 0.636s\n",
      "[143/1000] 1 tree, 44 leaves, max depth = 17, train score: 0.96093, val score: 0.91018, in 0.633s\n",
      "[144/1000] 1 tree, 44 leaves, max depth = 16, train score: 0.96120, val score: 0.91013, in 0.629s\n",
      "[145/1000] 1 tree, 44 leaves, max depth = 18, train score: 0.96146, val score: 0.91027, in 0.755s\n",
      "[146/1000] 1 tree, 44 leaves, max depth = 16, train score: 0.96195, val score: 0.91076, in 0.835s\n",
      "[147/1000] 1 tree, 44 leaves, max depth = 16, train score: 0.96207, val score: 0.91103, in 0.367s\n",
      "[148/1000] 1 tree, 44 leaves, max depth = 13, train score: 0.96235, val score: 0.91149, in 0.387s\n",
      "[149/1000] 1 tree, 44 leaves, max depth = 16, train score: 0.96288, val score: 0.91162, in 0.408s\n",
      "[150/1000] 1 tree, 44 leaves, max depth = 16, train score: 0.96336, val score: 0.91176, in 0.516s\n",
      "[151/1000] 1 tree, 44 leaves, max depth = 18, train score: 0.96363, val score: 0.91188, in 0.571s\n",
      "[152/1000] 1 tree, 44 leaves, max depth = 22, train score: 0.96390, val score: 0.91197, in 0.497s\n",
      "[153/1000] 1 tree, 44 leaves, max depth = 15, train score: 0.96402, val score: 0.91178, in 0.554s\n",
      "[154/1000] 1 tree, 44 leaves, max depth = 18, train score: 0.96426, val score: 0.91192, in 0.740s\n",
      "[155/1000] 1 tree, 44 leaves, max depth = 18, train score: 0.96457, val score: 0.91205, in 0.681s\n",
      "[156/1000] 1 tree, 44 leaves, max depth = 15, train score: 0.96476, val score: 0.91197, in 0.650s\n",
      "[157/1000] 1 tree, 44 leaves, max depth = 16, train score: 0.96504, val score: 0.91207, in 0.648s\n",
      "[158/1000] 1 tree, 44 leaves, max depth = 20, train score: 0.96526, val score: 0.91213, in 1.057s\n",
      "[159/1000] 1 tree, 44 leaves, max depth = 23, train score: 0.96548, val score: 0.91212, in 0.384s\n",
      "[160/1000] 1 tree, 44 leaves, max depth = 19, train score: 0.96578, val score: 0.91236, in 0.415s\n",
      "[161/1000] 1 tree, 44 leaves, max depth = 21, train score: 0.96621, val score: 0.91252, in 0.381s\n",
      "[162/1000] 1 tree, 44 leaves, max depth = 20, train score: 0.96650, val score: 0.91255, in 0.368s\n",
      "[163/1000] 1 tree, 44 leaves, max depth = 16, train score: 0.96677, val score: 0.91270, in 0.379s\n",
      "[164/1000] 1 tree, 44 leaves, max depth = 16, train score: 0.96695, val score: 0.91277, in 0.379s\n",
      "[165/1000] 1 tree, 44 leaves, max depth = 19, train score: 0.96718, val score: 0.91302, in 0.403s\n",
      "[166/1000] 1 tree, 44 leaves, max depth = 18, train score: 0.96747, val score: 0.91289, in 0.442s\n",
      "[167/1000] 1 tree, 44 leaves, max depth = 14, train score: 0.96777, val score: 0.91285, in 0.648s\n",
      "[168/1000] 1 tree, 44 leaves, max depth = 15, train score: 0.96792, val score: 0.91267, in 0.699s\n"
     ]
    },
    {
     "name": "stdout",
     "output_type": "stream",
     "text": [
      "[169/1000] 1 tree, 44 leaves, max depth = 15, train score: 0.96812, val score: 0.91280, in 0.654s\n",
      "[170/1000] 1 tree, 44 leaves, max depth = 20, train score: 0.96829, val score: 0.91272, in 0.653s\n",
      "[171/1000] 1 tree, 44 leaves, max depth = 20, train score: 0.96838, val score: 0.91272, in 0.906s\n",
      "[172/1000] 1 tree, 44 leaves, max depth = 17, train score: 0.96867, val score: 0.91272, in 0.360s\n",
      "[173/1000] 1 tree, 44 leaves, max depth = 18, train score: 0.96887, val score: 0.91284, in 0.378s\n",
      "[174/1000] 1 tree, 44 leaves, max depth = 15, train score: 0.96925, val score: 0.91283, in 0.388s\n",
      "[175/1000] 1 tree, 44 leaves, max depth = 13, train score: 0.96942, val score: 0.91260, in 0.479s\n",
      "Fit 175 trees in 91.340 s, (7700 total leaves)\n",
      "Time spent computing histograms: 51.614s\n",
      "Time spent finding best splits:  9.172s\n",
      "Time spent applying splits:      9.304s\n",
      "Time spent predicting:           0.069s\n",
      "CPU times: user 6min 19s, sys: 2min 46s, total: 9min 6s\n",
      "Wall time: 1min 32s\n"
     ]
    },
    {
     "data": {
      "text/plain": [
       "(0.9602684678590151, 0.8904493780352221)"
      ]
     },
     "execution_count": 28,
     "metadata": {},
     "output_type": "execute_result"
    }
   ],
   "source": [
    "%%time\n",
    "gbt = HistGradientBoostingClassifier(loss='binary_crossentropy', verbose=1, l2_regularization=2.4,\n",
    "                             learning_rate=0.03, max_depth=27, max_iter=1000, max_leaf_nodes=44,\n",
    "                             min_samples_leaf=8,  scoring='roc_auc', tol=1e-8).fit(xs,y)\n",
    "\n",
    "roc_auc_score(y, gbt.predict_proba(xs)[:,1]), roc_auc_score(valid_y, gbt.predict_proba(valid_xs)[:,1])"
   ]
  },
  {
   "cell_type": "markdown",
   "metadata": {},
   "source": [
    "**Neural Network**"
   ]
  },
  {
   "cell_type": "code",
   "execution_count": 15,
   "metadata": {},
   "outputs": [],
   "source": [
    "learn_inf = load_learner(path/'nn_full_weighted.pkl', cpu=True)"
   ]
  },
  {
   "cell_type": "code",
   "execution_count": 24,
   "metadata": {},
   "outputs": [
    {
     "data": {
      "text/plain": [
       "48378"
      ]
     },
     "execution_count": 24,
     "metadata": {},
     "output_type": "execute_result"
    }
   ],
   "source": [
    "len(xs)"
   ]
  },
  {
   "cell_type": "code",
   "execution_count": 39,
   "metadata": {},
   "outputs": [
    {
     "data": {
      "text/html": [],
      "text/plain": [
       "<IPython.core.display.HTML object>"
      ]
     },
     "metadata": {},
     "output_type": "display_data"
    },
    {
     "data": {
      "text/plain": [
       "tensor(2.1046e-06)"
      ]
     },
     "execution_count": 39,
     "metadata": {},
     "output_type": "execute_result"
    }
   ],
   "source": [
    "learn_inf.predict(xs.iloc[0])[2][1]"
   ]
  },
  {
   "cell_type": "code",
   "execution_count": null,
   "metadata": {},
   "outputs": [],
   "source": [
    "np.stack([t.predict_proba(valid_xs) for t in m.estimators_])"
   ]
  },
  {
   "cell_type": "code",
   "execution_count": 42,
   "metadata": {},
   "outputs": [],
   "source": [
    "def df_predict(learner, df):\n",
    "     preds = np.stack([learner.predict(df.iloc[row])[2][1] for row in range(len(df))])"
   ]
  },
  {
   "cell_type": "code",
   "execution_count": null,
   "metadata": {},
   "outputs": [
    {
     "data": {
      "text/html": [],
      "text/plain": [
       "<IPython.core.display.HTML object>"
      ]
     },
     "metadata": {},
     "output_type": "display_data"
    },
    {
     "data": {
      "text/html": [],
      "text/plain": [
       "<IPython.core.display.HTML object>"
      ]
     },
     "metadata": {},
     "output_type": "display_data"
    },
    {
     "data": {
      "text/html": [],
      "text/plain": [
       "<IPython.core.display.HTML object>"
      ]
     },
     "metadata": {},
     "output_type": "display_data"
    },
    {
     "data": {
      "text/html": [],
      "text/plain": [
       "<IPython.core.display.HTML object>"
      ]
     },
     "metadata": {},
     "output_type": "display_data"
    },
    {
     "data": {
      "text/html": [],
      "text/plain": [
       "<IPython.core.display.HTML object>"
      ]
     },
     "metadata": {},
     "output_type": "display_data"
    },
    {
     "data": {
      "text/html": [],
      "text/plain": [
       "<IPython.core.display.HTML object>"
      ]
     },
     "metadata": {},
     "output_type": "display_data"
    },
    {
     "data": {
      "text/html": [],
      "text/plain": [
       "<IPython.core.display.HTML object>"
      ]
     },
     "metadata": {},
     "output_type": "display_data"
    },
    {
     "data": {
      "text/html": [],
      "text/plain": [
       "<IPython.core.display.HTML object>"
      ]
     },
     "metadata": {},
     "output_type": "display_data"
    },
    {
     "data": {
      "text/html": [],
      "text/plain": [
       "<IPython.core.display.HTML object>"
      ]
     },
     "metadata": {},
     "output_type": "display_data"
    },
    {
     "data": {
      "text/html": [],
      "text/plain": [
       "<IPython.core.display.HTML object>"
      ]
     },
     "metadata": {},
     "output_type": "display_data"
    },
    {
     "data": {
      "text/html": [],
      "text/plain": [
       "<IPython.core.display.HTML object>"
      ]
     },
     "metadata": {},
     "output_type": "display_data"
    },
    {
     "data": {
      "text/html": [],
      "text/plain": [
       "<IPython.core.display.HTML object>"
      ]
     },
     "metadata": {},
     "output_type": "display_data"
    },
    {
     "data": {
      "text/html": [],
      "text/plain": [
       "<IPython.core.display.HTML object>"
      ]
     },
     "metadata": {},
     "output_type": "display_data"
    },
    {
     "data": {
      "text/html": [],
      "text/plain": [
       "<IPython.core.display.HTML object>"
      ]
     },
     "metadata": {},
     "output_type": "display_data"
    },
    {
     "data": {
      "text/html": [],
      "text/plain": [
       "<IPython.core.display.HTML object>"
      ]
     },
     "metadata": {},
     "output_type": "display_data"
    },
    {
     "data": {
      "text/html": [],
      "text/plain": [
       "<IPython.core.display.HTML object>"
      ]
     },
     "metadata": {},
     "output_type": "display_data"
    },
    {
     "data": {
      "text/html": [],
      "text/plain": [
       "<IPython.core.display.HTML object>"
      ]
     },
     "metadata": {},
     "output_type": "display_data"
    },
    {
     "data": {
      "text/html": [],
      "text/plain": [
       "<IPython.core.display.HTML object>"
      ]
     },
     "metadata": {},
     "output_type": "display_data"
    },
    {
     "data": {
      "text/html": [],
      "text/plain": [
       "<IPython.core.display.HTML object>"
      ]
     },
     "metadata": {},
     "output_type": "display_data"
    },
    {
     "data": {
      "text/html": [],
      "text/plain": [
       "<IPython.core.display.HTML object>"
      ]
     },
     "metadata": {},
     "output_type": "display_data"
    },
    {
     "data": {
      "text/html": [],
      "text/plain": [
       "<IPython.core.display.HTML object>"
      ]
     },
     "metadata": {},
     "output_type": "display_data"
    },
    {
     "data": {
      "text/html": [],
      "text/plain": [
       "<IPython.core.display.HTML object>"
      ]
     },
     "metadata": {},
     "output_type": "display_data"
    },
    {
     "data": {
      "text/html": [],
      "text/plain": [
       "<IPython.core.display.HTML object>"
      ]
     },
     "metadata": {},
     "output_type": "display_data"
    },
    {
     "data": {
      "text/html": [],
      "text/plain": [
       "<IPython.core.display.HTML object>"
      ]
     },
     "metadata": {},
     "output_type": "display_data"
    },
    {
     "data": {
      "text/html": [],
      "text/plain": [
       "<IPython.core.display.HTML object>"
      ]
     },
     "metadata": {},
     "output_type": "display_data"
    },
    {
     "data": {
      "text/html": [],
      "text/plain": [
       "<IPython.core.display.HTML object>"
      ]
     },
     "metadata": {},
     "output_type": "display_data"
    },
    {
     "data": {
      "text/html": [],
      "text/plain": [
       "<IPython.core.display.HTML object>"
      ]
     },
     "metadata": {},
     "output_type": "display_data"
    },
    {
     "data": {
      "text/html": [],
      "text/plain": [
       "<IPython.core.display.HTML object>"
      ]
     },
     "metadata": {},
     "output_type": "display_data"
    },
    {
     "data": {
      "text/html": [],
      "text/plain": [
       "<IPython.core.display.HTML object>"
      ]
     },
     "metadata": {},
     "output_type": "display_data"
    }
   ],
   "source": [
    "df_predict(learn_inf, xs)"
   ]
  },
  {
   "cell_type": "markdown",
   "metadata": {},
   "source": [
    "## Ensemble"
   ]
  },
  {
   "cell_type": "code",
   "execution_count": 29,
   "metadata": {},
   "outputs": [],
   "source": [
    "rf_preds_train = rf.predict_proba(xs)[:,1]\n",
    "rf_preds_valid = rf.predict_proba(valid_xs)[:,1]\n",
    "\n",
    "histgbt_preds_train = gbt.predict_proba(xs)[:,1]\n",
    "histgbt_preds_valid = gbt.predict_proba(valid_xs)[:,1]\n",
    "\n",
    "#nn_preds =\n",
    "ens_preds_train =  (rf_preds_train + histgbt_preds_train) / 2\n",
    "ens_preds_valid =  (rf_preds_valid + histgbt_preds_valid) / 2"
   ]
  },
  {
   "cell_type": "code",
   "execution_count": 30,
   "metadata": {},
   "outputs": [
    {
     "data": {
      "text/plain": [
       "(0.9994092417249381, 0.8969180552301927)"
      ]
     },
     "execution_count": 30,
     "metadata": {},
     "output_type": "execute_result"
    }
   ],
   "source": [
    "roc_auc_score(y, ens_preds_train), roc_auc_score(valid_y, ens_preds_valid)"
   ]
  }
 ],
 "metadata": {
  "kernelspec": {
   "display_name": "Python 3",
   "language": "python",
   "name": "python3"
  },
  "language_info": {
   "codemirror_mode": {
    "name": "ipython",
    "version": 3
   },
   "file_extension": ".py",
   "mimetype": "text/x-python",
   "name": "python",
   "nbconvert_exporter": "python",
   "pygments_lexer": "ipython3",
   "version": "3.8.5"
  },
  "toc": {
   "base_numbering": 1,
   "nav_menu": {},
   "number_sections": true,
   "sideBar": true,
   "skip_h1_title": false,
   "title_cell": "Table of Contents",
   "title_sidebar": "Contents",
   "toc_cell": false,
   "toc_position": {},
   "toc_section_display": true,
   "toc_window_display": false
  }
 },
 "nbformat": 4,
 "nbformat_minor": 4
}
