{
 "cells": [
  {
   "cell_type": "markdown",
   "metadata": {},
   "source": [
    "# Ensembling"
   ]
  },
  {
   "cell_type": "code",
   "execution_count": 17,
   "metadata": {},
   "outputs": [],
   "source": [
    "from fastai.tabular.all import *\n",
    "\n",
    "from sklearn.metrics import roc_auc_score\n",
    "from sklearn.ensemble import RandomForestClassifier\n",
    "\n",
    "from sklearn.experimental import enable_hist_gradient_boosting \n",
    "from sklearn.ensemble import HistGradientBoostingClassifier\n",
    "\n",
    "path = Path('/Users/baranserajelahi/Codes/fraud-detection-pytorch-scikit-fastai/data')\n",
    "Path.BASE_PATH = path"
   ]
  },
  {
   "cell_type": "code",
   "execution_count": 18,
   "metadata": {},
   "outputs": [],
   "source": [
    "to = (path/'to.pkl').load()\n",
    "xs, y             = to.train.xs, to.train.y\n",
    "valid_xs, valid_y = to.valid.xs, to.valid.y"
   ]
  },
  {
   "cell_type": "markdown",
   "metadata": {},
   "source": [
    "## Models"
   ]
  },
  {
   "cell_type": "markdown",
   "metadata": {},
   "source": [
    "**Random Forest**"
   ]
  },
  {
   "cell_type": "code",
   "execution_count": 16,
   "metadata": {},
   "outputs": [
    {
     "name": "stdout",
     "output_type": "stream",
     "text": [
      "CPU times: user 2min 25s, sys: 2.52 s, total: 2min 27s\n",
      "Wall time: 28.8 s\n"
     ]
    },
    {
     "data": {
      "text/plain": [
       "(0.9999999999999999, 0.8591078579310556)"
      ]
     },
     "execution_count": 16,
     "metadata": {},
     "output_type": "execute_result"
    }
   ],
   "source": [
    "%%time\n",
    "rf = RandomForestClassifier(n_jobs=-1 , max_samples=0.66, oob_score=True,\n",
    "                            n_estimators=1000,  criterion='entropy', class_weight='balanced').fit(xs,y)\n",
    "\n",
    "roc_auc_score(y, rf.predict_proba(xs)[:,1]), roc_auc_score(valid_y, rf.predict_proba(valid_xs)[:,1])"
   ]
  },
  {
   "cell_type": "markdown",
   "metadata": {},
   "source": [
    "**Gradient Boosted Tree**"
   ]
  },
  {
   "cell_type": "code",
   "execution_count": 19,
   "metadata": {
    "collapsed": true
   },
   "outputs": [
    {
     "name": "stdout",
     "output_type": "stream",
     "text": [
      "Binning 0.042 GB of training data: 0.269 s\n",
      "Binning 0.005 GB of validation data: 0.019 s\n",
      "Fitting gradient boosted rounds:\n",
      "[1/1000] 1 tree, 44 leaves, max depth = 9, train score: 0.85910, val score: 0.83711, in 0.085s\n",
      "[2/1000] 1 tree, 44 leaves, max depth = 11, train score: 0.86387, val score: 0.84390, in 0.073s\n",
      "[3/1000] 1 tree, 44 leaves, max depth = 9, train score: 0.86610, val score: 0.84655, in 0.082s\n",
      "[4/1000] 1 tree, 44 leaves, max depth = 10, train score: 0.87292, val score: 0.86242, in 0.057s\n",
      "[5/1000] 1 tree, 44 leaves, max depth = 9, train score: 0.87804, val score: 0.86661, in 0.074s\n",
      "[6/1000] 1 tree, 44 leaves, max depth = 10, train score: 0.87861, val score: 0.86396, in 0.091s\n",
      "[7/1000] 1 tree, 44 leaves, max depth = 11, train score: 0.88009, val score: 0.86565, in 0.064s\n",
      "[8/1000] 1 tree, 44 leaves, max depth = 11, train score: 0.87995, val score: 0.86607, in 0.077s\n",
      "[9/1000] 1 tree, 44 leaves, max depth = 11, train score: 0.88000, val score: 0.86682, in 0.085s\n",
      "[10/1000] 1 tree, 44 leaves, max depth = 11, train score: 0.88028, val score: 0.86636, in 0.094s\n",
      "[11/1000] 1 tree, 44 leaves, max depth = 10, train score: 0.88180, val score: 0.86782, in 0.094s\n",
      "[12/1000] 1 tree, 44 leaves, max depth = 11, train score: 0.88155, val score: 0.86928, in 0.094s\n",
      "[13/1000] 1 tree, 44 leaves, max depth = 11, train score: 0.88256, val score: 0.86907, in 0.093s\n",
      "[14/1000] 1 tree, 44 leaves, max depth = 11, train score: 0.88348, val score: 0.86884, in 0.101s\n",
      "[15/1000] 1 tree, 44 leaves, max depth = 8, train score: 0.88386, val score: 0.86914, in 0.154s\n",
      "[16/1000] 1 tree, 44 leaves, max depth = 12, train score: 0.88498, val score: 0.87012, in 0.057s\n",
      "[17/1000] 1 tree, 44 leaves, max depth = 9, train score: 0.88499, val score: 0.87006, in 0.282s\n",
      "[18/1000] 1 tree, 44 leaves, max depth = 10, train score: 0.88528, val score: 0.87060, in 0.058s\n",
      "[19/1000] 1 tree, 44 leaves, max depth = 10, train score: 0.88557, val score: 0.87080, in 0.057s\n",
      "[20/1000] 1 tree, 44 leaves, max depth = 12, train score: 0.88597, val score: 0.87227, in 0.057s\n",
      "[21/1000] 1 tree, 44 leaves, max depth = 11, train score: 0.88772, val score: 0.87449, in 0.057s\n",
      "[22/1000] 1 tree, 44 leaves, max depth = 10, train score: 0.88840, val score: 0.87699, in 0.058s\n",
      "[23/1000] 1 tree, 44 leaves, max depth = 10, train score: 0.88874, val score: 0.87747, in 0.059s\n",
      "[24/1000] 1 tree, 44 leaves, max depth = 9, train score: 0.88957, val score: 0.87844, in 0.060s\n",
      "[25/1000] 1 tree, 44 leaves, max depth = 12, train score: 0.89022, val score: 0.87959, in 0.073s\n",
      "[26/1000] 1 tree, 44 leaves, max depth = 10, train score: 0.89130, val score: 0.88053, in 0.108s\n",
      "[27/1000] 1 tree, 44 leaves, max depth = 10, train score: 0.89295, val score: 0.88103, in 0.104s\n",
      "[28/1000] 1 tree, 44 leaves, max depth = 11, train score: 0.89343, val score: 0.88114, in 0.060s\n",
      "[29/1000] 1 tree, 44 leaves, max depth = 11, train score: 0.89479, val score: 0.88257, in 0.118s\n",
      "[30/1000] 1 tree, 44 leaves, max depth = 12, train score: 0.89585, val score: 0.88296, in 0.060s\n",
      "[31/1000] 1 tree, 44 leaves, max depth = 11, train score: 0.89657, val score: 0.88370, in 0.060s\n",
      "[32/1000] 1 tree, 44 leaves, max depth = 12, train score: 0.89761, val score: 0.88492, in 0.060s\n",
      "[33/1000] 1 tree, 44 leaves, max depth = 13, train score: 0.89824, val score: 0.88571, in 0.062s\n",
      "[34/1000] 1 tree, 44 leaves, max depth = 10, train score: 0.89879, val score: 0.88617, in 0.062s\n",
      "[35/1000] 1 tree, 44 leaves, max depth = 10, train score: 0.90015, val score: 0.88672, in 0.061s\n",
      "[36/1000] 1 tree, 44 leaves, max depth = 10, train score: 0.90081, val score: 0.88683, in 0.063s\n",
      "[37/1000] 1 tree, 44 leaves, max depth = 9, train score: 0.90198, val score: 0.88759, in 0.062s\n",
      "[38/1000] 1 tree, 44 leaves, max depth = 12, train score: 0.90288, val score: 0.88828, in 0.062s\n",
      "[39/1000] 1 tree, 44 leaves, max depth = 10, train score: 0.90389, val score: 0.88910, in 0.062s\n",
      "[40/1000] 1 tree, 44 leaves, max depth = 9, train score: 0.90513, val score: 0.88968, in 0.064s\n",
      "[41/1000] 1 tree, 44 leaves, max depth = 10, train score: 0.90602, val score: 0.89117, in 0.123s\n",
      "[42/1000] 1 tree, 44 leaves, max depth = 10, train score: 0.90675, val score: 0.89172, in 0.061s\n",
      "[43/1000] 1 tree, 44 leaves, max depth = 10, train score: 0.90723, val score: 0.89213, in 0.062s\n",
      "[44/1000] 1 tree, 44 leaves, max depth = 11, train score: 0.90779, val score: 0.89271, in 0.064s\n",
      "[45/1000] 1 tree, 44 leaves, max depth = 10, train score: 0.90843, val score: 0.89359, in 0.063s\n",
      "[46/1000] 1 tree, 44 leaves, max depth = 12, train score: 0.90894, val score: 0.89391, in 0.066s\n",
      "[47/1000] 1 tree, 44 leaves, max depth = 12, train score: 0.90949, val score: 0.89433, in 0.064s\n",
      "[48/1000] 1 tree, 44 leaves, max depth = 13, train score: 0.91060, val score: 0.89465, in 0.067s\n",
      "[49/1000] 1 tree, 44 leaves, max depth = 10, train score: 0.91102, val score: 0.89496, in 0.065s\n",
      "[50/1000] 1 tree, 44 leaves, max depth = 12, train score: 0.91142, val score: 0.89538, in 0.067s\n",
      "[51/1000] 1 tree, 44 leaves, max depth = 12, train score: 0.91190, val score: 0.89524, in 0.067s\n",
      "[52/1000] 1 tree, 44 leaves, max depth = 16, train score: 0.91242, val score: 0.89575, in 0.092s\n",
      "[53/1000] 1 tree, 44 leaves, max depth = 12, train score: 0.91388, val score: 0.89645, in 0.126s\n",
      "[54/1000] 1 tree, 44 leaves, max depth = 13, train score: 0.91433, val score: 0.89633, in 0.064s\n",
      "[55/1000] 1 tree, 44 leaves, max depth = 11, train score: 0.91576, val score: 0.89725, in 0.068s\n",
      "[56/1000] 1 tree, 44 leaves, max depth = 14, train score: 0.91617, val score: 0.89766, in 0.068s\n",
      "[57/1000] 1 tree, 44 leaves, max depth = 10, train score: 0.91705, val score: 0.89839, in 0.069s\n",
      "[58/1000] 1 tree, 44 leaves, max depth = 14, train score: 0.91793, val score: 0.89830, in 0.068s\n",
      "[59/1000] 1 tree, 44 leaves, max depth = 12, train score: 0.91906, val score: 0.89818, in 0.068s\n",
      "[60/1000] 1 tree, 44 leaves, max depth = 13, train score: 0.91988, val score: 0.89841, in 0.069s\n",
      "[61/1000] 1 tree, 44 leaves, max depth = 10, train score: 0.92054, val score: 0.89898, in 0.068s\n",
      "[62/1000] 1 tree, 44 leaves, max depth = 13, train score: 0.92113, val score: 0.89889, in 0.069s\n",
      "[63/1000] 1 tree, 44 leaves, max depth = 12, train score: 0.92196, val score: 0.89882, in 0.067s\n",
      "[64/1000] 1 tree, 44 leaves, max depth = 13, train score: 0.92246, val score: 0.89918, in 0.067s\n",
      "[65/1000] 1 tree, 44 leaves, max depth = 11, train score: 0.92317, val score: 0.89932, in 0.069s\n",
      "[66/1000] 1 tree, 44 leaves, max depth = 12, train score: 0.92376, val score: 0.89931, in 0.142s\n",
      "[67/1000] 1 tree, 44 leaves, max depth = 15, train score: 0.92441, val score: 0.89929, in 0.069s\n",
      "[68/1000] 1 tree, 44 leaves, max depth = 10, train score: 0.92489, val score: 0.89952, in 0.068s\n",
      "[69/1000] 1 tree, 44 leaves, max depth = 11, train score: 0.92539, val score: 0.89966, in 0.068s\n",
      "[70/1000] 1 tree, 44 leaves, max depth = 12, train score: 0.92569, val score: 0.89945, in 0.069s\n",
      "[71/1000] 1 tree, 44 leaves, max depth = 11, train score: 0.92607, val score: 0.89999, in 0.071s\n",
      "[72/1000] 1 tree, 44 leaves, max depth = 14, train score: 0.92655, val score: 0.90068, in 0.072s\n",
      "[73/1000] 1 tree, 44 leaves, max depth = 11, train score: 0.92724, val score: 0.90069, in 0.073s\n",
      "[74/1000] 1 tree, 44 leaves, max depth = 11, train score: 0.92768, val score: 0.90108, in 0.070s\n",
      "[75/1000] 1 tree, 44 leaves, max depth = 11, train score: 0.92797, val score: 0.90101, in 0.072s\n",
      "[76/1000] 1 tree, 44 leaves, max depth = 13, train score: 0.92890, val score: 0.90141, in 0.072s\n",
      "[77/1000] 1 tree, 44 leaves, max depth = 11, train score: 0.92922, val score: 0.90148, in 0.074s\n",
      "[78/1000] 1 tree, 44 leaves, max depth = 10, train score: 0.92962, val score: 0.90153, in 0.139s\n",
      "[79/1000] 1 tree, 44 leaves, max depth = 12, train score: 0.92992, val score: 0.90176, in 0.070s\n",
      "[80/1000] 1 tree, 44 leaves, max depth = 13, train score: 0.93064, val score: 0.90224, in 0.071s\n",
      "[81/1000] 1 tree, 44 leaves, max depth = 11, train score: 0.93158, val score: 0.90289, in 0.073s\n",
      "[82/1000] 1 tree, 44 leaves, max depth = 13, train score: 0.93191, val score: 0.90297, in 0.072s\n",
      "[83/1000] 1 tree, 44 leaves, max depth = 10, train score: 0.93259, val score: 0.90357, in 0.074s\n",
      "[84/1000] 1 tree, 44 leaves, max depth = 15, train score: 0.93291, val score: 0.90381, in 0.076s\n"
     ]
    },
    {
     "name": "stdout",
     "output_type": "stream",
     "text": [
      "[85/1000] 1 tree, 44 leaves, max depth = 10, train score: 0.93341, val score: 0.90388, in 0.075s\n",
      "[86/1000] 1 tree, 44 leaves, max depth = 11, train score: 0.93389, val score: 0.90411, in 0.078s\n",
      "[87/1000] 1 tree, 44 leaves, max depth = 10, train score: 0.93474, val score: 0.90429, in 0.074s\n",
      "[88/1000] 1 tree, 44 leaves, max depth = 9, train score: 0.93554, val score: 0.90425, in 0.074s\n",
      "[89/1000] 1 tree, 44 leaves, max depth = 11, train score: 0.93612, val score: 0.90435, in 0.097s\n",
      "[90/1000] 1 tree, 44 leaves, max depth = 17, train score: 0.93663, val score: 0.90454, in 0.119s\n",
      "[91/1000] 1 tree, 44 leaves, max depth = 11, train score: 0.93704, val score: 0.90469, in 0.137s\n",
      "[92/1000] 1 tree, 44 leaves, max depth = 18, train score: 0.93750, val score: 0.90539, in 0.104s\n",
      "[93/1000] 1 tree, 44 leaves, max depth = 11, train score: 0.93822, val score: 0.90585, in 0.087s\n",
      "[94/1000] 1 tree, 44 leaves, max depth = 12, train score: 0.93860, val score: 0.90612, in 0.088s\n",
      "[95/1000] 1 tree, 44 leaves, max depth = 12, train score: 0.93908, val score: 0.90632, in 0.086s\n",
      "[96/1000] 1 tree, 44 leaves, max depth = 14, train score: 0.93979, val score: 0.90646, in 0.090s\n",
      "[97/1000] 1 tree, 44 leaves, max depth = 13, train score: 0.94042, val score: 0.90704, in 0.079s\n",
      "[98/1000] 1 tree, 44 leaves, max depth = 15, train score: 0.94081, val score: 0.90704, in 0.078s\n",
      "[99/1000] 1 tree, 44 leaves, max depth = 12, train score: 0.94163, val score: 0.90722, in 0.077s\n",
      "[100/1000] 1 tree, 44 leaves, max depth = 13, train score: 0.94210, val score: 0.90740, in 0.077s\n",
      "[101/1000] 1 tree, 44 leaves, max depth = 11, train score: 0.94250, val score: 0.90745, in 0.077s\n",
      "[102/1000] 1 tree, 44 leaves, max depth = 14, train score: 0.94285, val score: 0.90762, in 0.135s\n",
      "[103/1000] 1 tree, 44 leaves, max depth = 14, train score: 0.94368, val score: 0.90758, in 0.164s\n",
      "[104/1000] 1 tree, 44 leaves, max depth = 13, train score: 0.94387, val score: 0.90757, in 0.070s\n",
      "[105/1000] 1 tree, 44 leaves, max depth = 16, train score: 0.94424, val score: 0.90753, in 0.073s\n",
      "[106/1000] 1 tree, 44 leaves, max depth = 13, train score: 0.94452, val score: 0.90763, in 0.075s\n",
      "[107/1000] 1 tree, 44 leaves, max depth = 12, train score: 0.94508, val score: 0.90759, in 0.073s\n",
      "[108/1000] 1 tree, 44 leaves, max depth = 13, train score: 0.94545, val score: 0.90777, in 0.075s\n",
      "[109/1000] 1 tree, 44 leaves, max depth = 13, train score: 0.94594, val score: 0.90769, in 0.076s\n",
      "[110/1000] 1 tree, 44 leaves, max depth = 16, train score: 0.94670, val score: 0.90776, in 0.075s\n",
      "[111/1000] 1 tree, 44 leaves, max depth = 9, train score: 0.94711, val score: 0.90803, in 0.077s\n",
      "[112/1000] 1 tree, 44 leaves, max depth = 16, train score: 0.94787, val score: 0.90797, in 0.075s\n",
      "[113/1000] 1 tree, 44 leaves, max depth = 15, train score: 0.94859, val score: 0.90802, in 0.077s\n",
      "[114/1000] 1 tree, 44 leaves, max depth = 12, train score: 0.94900, val score: 0.90841, in 0.112s\n",
      "[115/1000] 1 tree, 44 leaves, max depth = 20, train score: 0.94949, val score: 0.90831, in 0.182s\n",
      "[116/1000] 1 tree, 44 leaves, max depth = 17, train score: 0.94999, val score: 0.90837, in 0.075s\n",
      "[117/1000] 1 tree, 44 leaves, max depth = 17, train score: 0.95029, val score: 0.90863, in 0.077s\n",
      "[118/1000] 1 tree, 44 leaves, max depth = 14, train score: 0.95070, val score: 0.90876, in 0.077s\n",
      "[119/1000] 1 tree, 44 leaves, max depth = 19, train score: 0.95121, val score: 0.90882, in 0.090s\n",
      "[120/1000] 1 tree, 44 leaves, max depth = 11, train score: 0.95169, val score: 0.90900, in 0.078s\n",
      "[121/1000] 1 tree, 44 leaves, max depth = 13, train score: 0.95206, val score: 0.90916, in 0.079s\n",
      "[122/1000] 1 tree, 44 leaves, max depth = 20, train score: 0.95238, val score: 0.90926, in 0.078s\n",
      "[123/1000] 1 tree, 44 leaves, max depth = 13, train score: 0.95303, val score: 0.90940, in 0.081s\n",
      "[124/1000] 1 tree, 44 leaves, max depth = 19, train score: 0.95335, val score: 0.90962, in 0.087s\n",
      "[125/1000] 1 tree, 44 leaves, max depth = 18, train score: 0.95343, val score: 0.90992, in 0.097s\n",
      "[126/1000] 1 tree, 44 leaves, max depth = 15, train score: 0.95375, val score: 0.90981, in 0.098s\n",
      "[127/1000] 1 tree, 44 leaves, max depth = 17, train score: 0.95396, val score: 0.91011, in 0.100s\n",
      "[128/1000] 1 tree, 44 leaves, max depth = 17, train score: 0.95439, val score: 0.91053, in 0.183s\n",
      "[129/1000] 1 tree, 44 leaves, max depth = 20, train score: 0.95452, val score: 0.91042, in 0.097s\n",
      "[130/1000] 1 tree, 44 leaves, max depth = 12, train score: 0.95501, val score: 0.91051, in 0.094s\n",
      "[131/1000] 1 tree, 44 leaves, max depth = 15, train score: 0.95518, val score: 0.91064, in 0.093s\n",
      "[132/1000] 1 tree, 44 leaves, max depth = 16, train score: 0.95545, val score: 0.91055, in 0.098s\n",
      "[133/1000] 1 tree, 44 leaves, max depth = 13, train score: 0.95590, val score: 0.91052, in 0.092s\n",
      "[134/1000] 1 tree, 44 leaves, max depth = 22, train score: 0.95608, val score: 0.91068, in 0.084s\n",
      "[135/1000] 1 tree, 44 leaves, max depth = 18, train score: 0.95661, val score: 0.91070, in 0.083s\n",
      "[136/1000] 1 tree, 44 leaves, max depth = 12, train score: 0.95684, val score: 0.91106, in 0.084s\n",
      "[137/1000] 1 tree, 44 leaves, max depth = 19, train score: 0.95729, val score: 0.91094, in 0.089s\n",
      "[138/1000] 1 tree, 44 leaves, max depth = 12, train score: 0.95749, val score: 0.91124, in 0.100s\n",
      "[139/1000] 1 tree, 44 leaves, max depth = 15, train score: 0.95788, val score: 0.91100, in 0.161s\n",
      "[140/1000] 1 tree, 44 leaves, max depth = 19, train score: 0.95820, val score: 0.91101, in 0.204s\n",
      "[141/1000] 1 tree, 44 leaves, max depth = 11, train score: 0.95856, val score: 0.91116, in 0.094s\n",
      "[142/1000] 1 tree, 44 leaves, max depth = 18, train score: 0.95890, val score: 0.91110, in 0.095s\n",
      "[143/1000] 1 tree, 44 leaves, max depth = 17, train score: 0.95923, val score: 0.91108, in 0.092s\n",
      "[144/1000] 1 tree, 44 leaves, max depth = 16, train score: 0.95962, val score: 0.91096, in 0.098s\n",
      "[145/1000] 1 tree, 44 leaves, max depth = 15, train score: 0.95988, val score: 0.91102, in 0.111s\n",
      "[146/1000] 1 tree, 44 leaves, max depth = 16, train score: 0.96027, val score: 0.91111, in 0.104s\n",
      "[147/1000] 1 tree, 44 leaves, max depth = 14, train score: 0.96044, val score: 0.91148, in 0.106s\n",
      "[148/1000] 1 tree, 44 leaves, max depth = 17, train score: 0.96061, val score: 0.91171, in 0.111s\n",
      "[149/1000] 1 tree, 44 leaves, max depth = 14, train score: 0.96092, val score: 0.91179, in 0.098s\n",
      "[150/1000] 1 tree, 44 leaves, max depth = 15, train score: 0.96134, val score: 0.91191, in 0.095s\n",
      "[151/1000] 1 tree, 44 leaves, max depth = 17, train score: 0.96185, val score: 0.91193, in 0.153s\n",
      "[152/1000] 1 tree, 44 leaves, max depth = 14, train score: 0.96206, val score: 0.91209, in 0.164s\n",
      "[153/1000] 1 tree, 44 leaves, max depth = 11, train score: 0.96233, val score: 0.91198, in 0.179s\n",
      "[154/1000] 1 tree, 44 leaves, max depth = 20, train score: 0.96253, val score: 0.91223, in 0.101s\n",
      "[155/1000] 1 tree, 44 leaves, max depth = 13, train score: 0.96282, val score: 0.91214, in 0.098s\n",
      "[156/1000] 1 tree, 44 leaves, max depth = 19, train score: 0.96326, val score: 0.91224, in 0.117s\n",
      "[157/1000] 1 tree, 44 leaves, max depth = 13, train score: 0.96353, val score: 0.91226, in 0.140s\n",
      "[158/1000] 1 tree, 44 leaves, max depth = 15, train score: 0.96385, val score: 0.91240, in 0.139s\n",
      "[159/1000] 1 tree, 44 leaves, max depth = 15, train score: 0.96407, val score: 0.91250, in 0.104s\n",
      "[160/1000] 1 tree, 44 leaves, max depth = 17, train score: 0.96418, val score: 0.91243, in 0.105s\n",
      "[161/1000] 1 tree, 44 leaves, max depth = 14, train score: 0.96435, val score: 0.91264, in 0.099s\n",
      "[162/1000] 1 tree, 44 leaves, max depth = 14, train score: 0.96460, val score: 0.91311, in 0.099s\n",
      "[163/1000] 1 tree, 44 leaves, max depth = 19, train score: 0.96474, val score: 0.91294, in 0.107s\n",
      "[164/1000] 1 tree, 44 leaves, max depth = 14, train score: 0.96522, val score: 0.91289, in 0.160s\n",
      "[165/1000] 1 tree, 44 leaves, max depth = 14, train score: 0.96539, val score: 0.91291, in 0.194s\n",
      "[166/1000] 1 tree, 44 leaves, max depth = 15, train score: 0.96568, val score: 0.91283, in 0.100s\n",
      "[167/1000] 1 tree, 44 leaves, max depth = 14, train score: 0.96623, val score: 0.91261, in 0.103s\n",
      "[168/1000] 1 tree, 44 leaves, max depth = 14, train score: 0.96639, val score: 0.91290, in 0.102s\n"
     ]
    },
    {
     "name": "stdout",
     "output_type": "stream",
     "text": [
      "[169/1000] 1 tree, 44 leaves, max depth = 17, train score: 0.96650, val score: 0.91299, in 0.103s\n",
      "[170/1000] 1 tree, 44 leaves, max depth = 16, train score: 0.96675, val score: 0.91326, in 0.105s\n",
      "[171/1000] 1 tree, 44 leaves, max depth = 14, train score: 0.96693, val score: 0.91322, in 0.101s\n",
      "[172/1000] 1 tree, 44 leaves, max depth = 14, train score: 0.96700, val score: 0.91326, in 0.106s\n",
      "[173/1000] 1 tree, 44 leaves, max depth = 19, train score: 0.96726, val score: 0.91310, in 0.119s\n",
      "[174/1000] 1 tree, 44 leaves, max depth = 16, train score: 0.96757, val score: 0.91314, in 0.134s\n",
      "[175/1000] 1 tree, 44 leaves, max depth = 14, train score: 0.96790, val score: 0.91324, in 0.112s\n",
      "[176/1000] 1 tree, 44 leaves, max depth = 15, train score: 0.96801, val score: 0.91317, in 0.129s\n",
      "[177/1000] 1 tree, 44 leaves, max depth = 10, train score: 0.96835, val score: 0.91307, in 0.216s\n",
      "[178/1000] 1 tree, 44 leaves, max depth = 13, train score: 0.96845, val score: 0.91309, in 0.119s\n",
      "[179/1000] 1 tree, 44 leaves, max depth = 13, train score: 0.96853, val score: 0.91331, in 0.127s\n",
      "[180/1000] 1 tree, 44 leaves, max depth = 15, train score: 0.96870, val score: 0.91364, in 0.131s\n",
      "[181/1000] 1 tree, 44 leaves, max depth = 14, train score: 0.96887, val score: 0.91364, in 0.109s\n",
      "[182/1000] 1 tree, 44 leaves, max depth = 17, train score: 0.96917, val score: 0.91386, in 0.111s\n",
      "[183/1000] 1 tree, 44 leaves, max depth = 17, train score: 0.96936, val score: 0.91406, in 0.131s\n",
      "[184/1000] 1 tree, 44 leaves, max depth = 13, train score: 0.96942, val score: 0.91404, in 0.133s\n",
      "[185/1000] 1 tree, 44 leaves, max depth = 14, train score: 0.96950, val score: 0.91386, in 0.112s\n",
      "[186/1000] 1 tree, 44 leaves, max depth = 11, train score: 0.96965, val score: 0.91365, in 0.108s\n",
      "[187/1000] 1 tree, 44 leaves, max depth = 14, train score: 0.96985, val score: 0.91378, in 0.110s\n",
      "[188/1000] 1 tree, 44 leaves, max depth = 12, train score: 0.96999, val score: 0.91385, in 0.125s\n",
      "[189/1000] 1 tree, 44 leaves, max depth = 15, train score: 0.97016, val score: 0.91384, in 0.148s\n",
      "[190/1000] 1 tree, 44 leaves, max depth = 17, train score: 0.97031, val score: 0.91405, in 0.220s\n",
      "[191/1000] 1 tree, 44 leaves, max depth = 12, train score: 0.97067, val score: 0.91402, in 0.142s\n",
      "[192/1000] 1 tree, 44 leaves, max depth = 14, train score: 0.97077, val score: 0.91416, in 0.118s\n",
      "[193/1000] 1 tree, 44 leaves, max depth = 17, train score: 0.97085, val score: 0.91422, in 0.110s\n",
      "[194/1000] 1 tree, 44 leaves, max depth = 16, train score: 0.97114, val score: 0.91429, in 0.129s\n",
      "[195/1000] 1 tree, 44 leaves, max depth = 16, train score: 0.97128, val score: 0.91435, in 0.150s\n",
      "[196/1000] 1 tree, 44 leaves, max depth = 14, train score: 0.97163, val score: 0.91416, in 0.129s\n",
      "[197/1000] 1 tree, 44 leaves, max depth = 12, train score: 0.97180, val score: 0.91421, in 0.116s\n",
      "[198/1000] 1 tree, 44 leaves, max depth = 13, train score: 0.97197, val score: 0.91416, in 0.113s\n",
      "[199/1000] 1 tree, 44 leaves, max depth = 13, train score: 0.97215, val score: 0.91400, in 0.121s\n",
      "[200/1000] 1 tree, 44 leaves, max depth = 17, train score: 0.97234, val score: 0.91397, in 0.121s\n",
      "[201/1000] 1 tree, 44 leaves, max depth = 15, train score: 0.97249, val score: 0.91402, in 0.123s\n",
      "[202/1000] 1 tree, 44 leaves, max depth = 13, train score: 0.97257, val score: 0.91390, in 0.230s\n",
      "[203/1000] 1 tree, 44 leaves, max depth = 10, train score: 0.97275, val score: 0.91370, in 0.113s\n",
      "[204/1000] 1 tree, 44 leaves, max depth = 13, train score: 0.97282, val score: 0.91354, in 0.112s\n",
      "[205/1000] 1 tree, 44 leaves, max depth = 17, train score: 0.97300, val score: 0.91346, in 0.114s\n",
      "Fit 205 trees in 20.336 s, (9020 total leaves)\n",
      "Time spent computing histograms: 7.857s\n",
      "Time spent finding best splits:  2.106s\n",
      "Time spent applying splits:      2.350s\n",
      "Time spent predicting:           0.033s\n",
      "CPU times: user 1min 59s, sys: 22.5 s, total: 2min 21s\n",
      "Wall time: 20.6 s\n"
     ]
    },
    {
     "data": {
      "text/plain": [
       "(0.9651940400817189, 0.8598415063071321)"
      ]
     },
     "execution_count": 19,
     "metadata": {},
     "output_type": "execute_result"
    }
   ],
   "source": [
    "%%time\n",
    "gbt = HistGradientBoostingClassifier(loss='binary_crossentropy', verbose=1, l2_regularization=2.4,\n",
    "                             learning_rate=0.03, max_depth=27, max_iter=1000, max_leaf_nodes=44,\n",
    "                             min_samples_leaf=8,  scoring='roc_auc', tol=1e-8).fit(xs,y)\n",
    "\n",
    "roc_auc_score(y, gbt.predict_proba(xs)[:,1]), roc_auc_score(valid_y, gbt.predict_proba(valid_xs)[:,1])"
   ]
  },
  {
   "cell_type": "markdown",
   "metadata": {},
   "source": [
    "**Neural Network**"
   ]
  },
  {
   "cell_type": "code",
   "execution_count": 25,
   "metadata": {},
   "outputs": [
    {
     "data": {
      "text/plain": [
       "FlattenedLoss of CrossEntropyLoss()"
      ]
     },
     "execution_count": 25,
     "metadata": {},
     "output_type": "execute_result"
    }
   ],
   "source": [
    "to_nn = (path/'to_nn_full.pkl').load()\n",
    "\n",
    "dls = to_nn.dataloaders(1024)\n",
    "learn = tabular_learner(dls, layers=[500,250])\n",
    "learn.loss_func"
   ]
  },
  {
   "cell_type": "code",
   "execution_count": 26,
   "metadata": {},
   "outputs": [
    {
     "ename": "FileNotFoundError",
     "evalue": "[Errno 2] No such file or directory: 'models/nn_nf_full_stage-1.pth'",
     "output_type": "error",
     "traceback": [
      "\u001b[0;31m---------------------------------------------------------------------------\u001b[0m",
      "\u001b[0;31mFileNotFoundError\u001b[0m                         Traceback (most recent call last)",
      "\u001b[0;32m<ipython-input-26-ed866cd34549>\u001b[0m in \u001b[0;36m<module>\u001b[0;34m\u001b[0m\n\u001b[0;32m----> 1\u001b[0;31m \u001b[0mlearn\u001b[0m\u001b[0;34m.\u001b[0m\u001b[0mload\u001b[0m\u001b[0;34m(\u001b[0m\u001b[0;34m'nn_nf_full_stage-1'\u001b[0m\u001b[0;34m)\u001b[0m\u001b[0;34m\u001b[0m\u001b[0;34m\u001b[0m\u001b[0m\n\u001b[0m",
      "\u001b[0;32m/opt/anaconda3/envs/fastaiV2/lib/python3.8/site-packages/fastai/learner.py\u001b[0m in \u001b[0;36mload\u001b[0;34m(self, file, with_opt, device, **kwargs)\u001b[0m\n\u001b[1;32m    289\u001b[0m         \u001b[0;32mif\u001b[0m \u001b[0mself\u001b[0m\u001b[0;34m.\u001b[0m\u001b[0mopt\u001b[0m \u001b[0;32mis\u001b[0m \u001b[0;32mNone\u001b[0m\u001b[0;34m:\u001b[0m \u001b[0mself\u001b[0m\u001b[0;34m.\u001b[0m\u001b[0mcreate_opt\u001b[0m\u001b[0;34m(\u001b[0m\u001b[0;34m)\u001b[0m\u001b[0;34m\u001b[0m\u001b[0;34m\u001b[0m\u001b[0m\n\u001b[1;32m    290\u001b[0m         \u001b[0mfile\u001b[0m \u001b[0;34m=\u001b[0m \u001b[0mjoin_path_file\u001b[0m\u001b[0;34m(\u001b[0m\u001b[0mfile\u001b[0m\u001b[0;34m,\u001b[0m \u001b[0mself\u001b[0m\u001b[0;34m.\u001b[0m\u001b[0mpath\u001b[0m\u001b[0;34m/\u001b[0m\u001b[0mself\u001b[0m\u001b[0;34m.\u001b[0m\u001b[0mmodel_dir\u001b[0m\u001b[0;34m,\u001b[0m \u001b[0mext\u001b[0m\u001b[0;34m=\u001b[0m\u001b[0;34m'.pth'\u001b[0m\u001b[0;34m)\u001b[0m\u001b[0;34m\u001b[0m\u001b[0;34m\u001b[0m\u001b[0m\n\u001b[0;32m--> 291\u001b[0;31m         \u001b[0mload_model\u001b[0m\u001b[0;34m(\u001b[0m\u001b[0mfile\u001b[0m\u001b[0;34m,\u001b[0m \u001b[0mself\u001b[0m\u001b[0;34m.\u001b[0m\u001b[0mmodel\u001b[0m\u001b[0;34m,\u001b[0m \u001b[0mself\u001b[0m\u001b[0;34m.\u001b[0m\u001b[0mopt\u001b[0m\u001b[0;34m,\u001b[0m \u001b[0mdevice\u001b[0m\u001b[0;34m=\u001b[0m\u001b[0mdevice\u001b[0m\u001b[0;34m,\u001b[0m \u001b[0;34m**\u001b[0m\u001b[0mkwargs\u001b[0m\u001b[0;34m)\u001b[0m\u001b[0;34m\u001b[0m\u001b[0;34m\u001b[0m\u001b[0m\n\u001b[0m\u001b[1;32m    292\u001b[0m         \u001b[0;32mreturn\u001b[0m \u001b[0mself\u001b[0m\u001b[0;34m\u001b[0m\u001b[0;34m\u001b[0m\u001b[0m\n\u001b[1;32m    293\u001b[0m \u001b[0;34m\u001b[0m\u001b[0m\n",
      "\u001b[0;32m/opt/anaconda3/envs/fastaiV2/lib/python3.8/site-packages/fastai/learner.py\u001b[0m in \u001b[0;36mload_model\u001b[0;34m(file, model, opt, with_opt, device, strict)\u001b[0m\n\u001b[1;32m     53\u001b[0m     \u001b[0;32mif\u001b[0m \u001b[0misinstance\u001b[0m\u001b[0;34m(\u001b[0m\u001b[0mdevice\u001b[0m\u001b[0;34m,\u001b[0m \u001b[0mint\u001b[0m\u001b[0;34m)\u001b[0m\u001b[0;34m:\u001b[0m \u001b[0mdevice\u001b[0m \u001b[0;34m=\u001b[0m \u001b[0mtorch\u001b[0m\u001b[0;34m.\u001b[0m\u001b[0mdevice\u001b[0m\u001b[0;34m(\u001b[0m\u001b[0;34m'cuda'\u001b[0m\u001b[0;34m,\u001b[0m \u001b[0mdevice\u001b[0m\u001b[0;34m)\u001b[0m\u001b[0;34m\u001b[0m\u001b[0;34m\u001b[0m\u001b[0m\n\u001b[1;32m     54\u001b[0m     \u001b[0;32melif\u001b[0m \u001b[0mdevice\u001b[0m \u001b[0;32mis\u001b[0m \u001b[0;32mNone\u001b[0m\u001b[0;34m:\u001b[0m \u001b[0mdevice\u001b[0m \u001b[0;34m=\u001b[0m \u001b[0;34m'cpu'\u001b[0m\u001b[0;34m\u001b[0m\u001b[0;34m\u001b[0m\u001b[0m\n\u001b[0;32m---> 55\u001b[0;31m     \u001b[0mstate\u001b[0m \u001b[0;34m=\u001b[0m \u001b[0mtorch\u001b[0m\u001b[0;34m.\u001b[0m\u001b[0mload\u001b[0m\u001b[0;34m(\u001b[0m\u001b[0mfile\u001b[0m\u001b[0;34m,\u001b[0m \u001b[0mmap_location\u001b[0m\u001b[0;34m=\u001b[0m\u001b[0mdevice\u001b[0m\u001b[0;34m)\u001b[0m\u001b[0;34m\u001b[0m\u001b[0;34m\u001b[0m\u001b[0m\n\u001b[0m\u001b[1;32m     56\u001b[0m     \u001b[0mhasopt\u001b[0m \u001b[0;34m=\u001b[0m \u001b[0mset\u001b[0m\u001b[0;34m(\u001b[0m\u001b[0mstate\u001b[0m\u001b[0;34m)\u001b[0m\u001b[0;34m==\u001b[0m\u001b[0;34m{\u001b[0m\u001b[0;34m'model'\u001b[0m\u001b[0;34m,\u001b[0m \u001b[0;34m'opt'\u001b[0m\u001b[0;34m}\u001b[0m\u001b[0;34m\u001b[0m\u001b[0;34m\u001b[0m\u001b[0m\n\u001b[1;32m     57\u001b[0m     \u001b[0mmodel_state\u001b[0m \u001b[0;34m=\u001b[0m \u001b[0mstate\u001b[0m\u001b[0;34m[\u001b[0m\u001b[0;34m'model'\u001b[0m\u001b[0;34m]\u001b[0m \u001b[0;32mif\u001b[0m \u001b[0mhasopt\u001b[0m \u001b[0;32melse\u001b[0m \u001b[0mstate\u001b[0m\u001b[0;34m\u001b[0m\u001b[0;34m\u001b[0m\u001b[0m\n",
      "\u001b[0;32m/opt/anaconda3/envs/fastaiV2/lib/python3.8/site-packages/torch/serialization.py\u001b[0m in \u001b[0;36mload\u001b[0;34m(f, map_location, pickle_module, **pickle_load_args)\u001b[0m\n\u001b[1;32m    569\u001b[0m         \u001b[0mpickle_load_args\u001b[0m\u001b[0;34m[\u001b[0m\u001b[0;34m'encoding'\u001b[0m\u001b[0;34m]\u001b[0m \u001b[0;34m=\u001b[0m \u001b[0;34m'utf-8'\u001b[0m\u001b[0;34m\u001b[0m\u001b[0;34m\u001b[0m\u001b[0m\n\u001b[1;32m    570\u001b[0m \u001b[0;34m\u001b[0m\u001b[0m\n\u001b[0;32m--> 571\u001b[0;31m     \u001b[0;32mwith\u001b[0m \u001b[0m_open_file_like\u001b[0m\u001b[0;34m(\u001b[0m\u001b[0mf\u001b[0m\u001b[0;34m,\u001b[0m \u001b[0;34m'rb'\u001b[0m\u001b[0;34m)\u001b[0m \u001b[0;32mas\u001b[0m \u001b[0mopened_file\u001b[0m\u001b[0;34m:\u001b[0m\u001b[0;34m\u001b[0m\u001b[0;34m\u001b[0m\u001b[0m\n\u001b[0m\u001b[1;32m    572\u001b[0m         \u001b[0;32mif\u001b[0m \u001b[0m_is_zipfile\u001b[0m\u001b[0;34m(\u001b[0m\u001b[0mopened_file\u001b[0m\u001b[0;34m)\u001b[0m\u001b[0;34m:\u001b[0m\u001b[0;34m\u001b[0m\u001b[0;34m\u001b[0m\u001b[0m\n\u001b[1;32m    573\u001b[0m             \u001b[0;31m# The zipfile reader is going to advance the current file position.\u001b[0m\u001b[0;34m\u001b[0m\u001b[0;34m\u001b[0m\u001b[0;34m\u001b[0m\u001b[0m\n",
      "\u001b[0;32m/opt/anaconda3/envs/fastaiV2/lib/python3.8/site-packages/torch/serialization.py\u001b[0m in \u001b[0;36m_open_file_like\u001b[0;34m(name_or_buffer, mode)\u001b[0m\n\u001b[1;32m    227\u001b[0m \u001b[0;32mdef\u001b[0m \u001b[0m_open_file_like\u001b[0m\u001b[0;34m(\u001b[0m\u001b[0mname_or_buffer\u001b[0m\u001b[0;34m,\u001b[0m \u001b[0mmode\u001b[0m\u001b[0;34m)\u001b[0m\u001b[0;34m:\u001b[0m\u001b[0;34m\u001b[0m\u001b[0;34m\u001b[0m\u001b[0m\n\u001b[1;32m    228\u001b[0m     \u001b[0;32mif\u001b[0m \u001b[0m_is_path\u001b[0m\u001b[0;34m(\u001b[0m\u001b[0mname_or_buffer\u001b[0m\u001b[0;34m)\u001b[0m\u001b[0;34m:\u001b[0m\u001b[0;34m\u001b[0m\u001b[0;34m\u001b[0m\u001b[0m\n\u001b[0;32m--> 229\u001b[0;31m         \u001b[0;32mreturn\u001b[0m \u001b[0m_open_file\u001b[0m\u001b[0;34m(\u001b[0m\u001b[0mname_or_buffer\u001b[0m\u001b[0;34m,\u001b[0m \u001b[0mmode\u001b[0m\u001b[0;34m)\u001b[0m\u001b[0;34m\u001b[0m\u001b[0;34m\u001b[0m\u001b[0m\n\u001b[0m\u001b[1;32m    230\u001b[0m     \u001b[0;32melse\u001b[0m\u001b[0;34m:\u001b[0m\u001b[0;34m\u001b[0m\u001b[0;34m\u001b[0m\u001b[0m\n\u001b[1;32m    231\u001b[0m         \u001b[0;32mif\u001b[0m \u001b[0;34m'w'\u001b[0m \u001b[0;32min\u001b[0m \u001b[0mmode\u001b[0m\u001b[0;34m:\u001b[0m\u001b[0;34m\u001b[0m\u001b[0;34m\u001b[0m\u001b[0m\n",
      "\u001b[0;32m/opt/anaconda3/envs/fastaiV2/lib/python3.8/site-packages/torch/serialization.py\u001b[0m in \u001b[0;36m__init__\u001b[0;34m(self, name, mode)\u001b[0m\n\u001b[1;32m    208\u001b[0m \u001b[0;32mclass\u001b[0m \u001b[0m_open_file\u001b[0m\u001b[0;34m(\u001b[0m\u001b[0m_opener\u001b[0m\u001b[0;34m)\u001b[0m\u001b[0;34m:\u001b[0m\u001b[0;34m\u001b[0m\u001b[0;34m\u001b[0m\u001b[0m\n\u001b[1;32m    209\u001b[0m     \u001b[0;32mdef\u001b[0m \u001b[0m__init__\u001b[0m\u001b[0;34m(\u001b[0m\u001b[0mself\u001b[0m\u001b[0;34m,\u001b[0m \u001b[0mname\u001b[0m\u001b[0;34m,\u001b[0m \u001b[0mmode\u001b[0m\u001b[0;34m)\u001b[0m\u001b[0;34m:\u001b[0m\u001b[0;34m\u001b[0m\u001b[0;34m\u001b[0m\u001b[0m\n\u001b[0;32m--> 210\u001b[0;31m         \u001b[0msuper\u001b[0m\u001b[0;34m(\u001b[0m\u001b[0m_open_file\u001b[0m\u001b[0;34m,\u001b[0m \u001b[0mself\u001b[0m\u001b[0;34m)\u001b[0m\u001b[0;34m.\u001b[0m\u001b[0m__init__\u001b[0m\u001b[0;34m(\u001b[0m\u001b[0mopen\u001b[0m\u001b[0;34m(\u001b[0m\u001b[0mname\u001b[0m\u001b[0;34m,\u001b[0m \u001b[0mmode\u001b[0m\u001b[0;34m)\u001b[0m\u001b[0;34m)\u001b[0m\u001b[0;34m\u001b[0m\u001b[0;34m\u001b[0m\u001b[0m\n\u001b[0m\u001b[1;32m    211\u001b[0m \u001b[0;34m\u001b[0m\u001b[0m\n\u001b[1;32m    212\u001b[0m     \u001b[0;32mdef\u001b[0m \u001b[0m__exit__\u001b[0m\u001b[0;34m(\u001b[0m\u001b[0mself\u001b[0m\u001b[0;34m,\u001b[0m \u001b[0;34m*\u001b[0m\u001b[0margs\u001b[0m\u001b[0;34m)\u001b[0m\u001b[0;34m:\u001b[0m\u001b[0;34m\u001b[0m\u001b[0;34m\u001b[0m\u001b[0m\n",
      "\u001b[0;31mFileNotFoundError\u001b[0m: [Errno 2] No such file or directory: 'models/nn_nf_full_stage-1.pth'"
     ]
    }
   ],
   "source": [
    "learn.load('nn_nf_full_stage-1')"
   ]
  },
  {
   "cell_type": "markdown",
   "metadata": {},
   "source": [
    "## Ensemble"
   ]
  },
  {
   "cell_type": "code",
   "execution_count": 20,
   "metadata": {},
   "outputs": [],
   "source": [
    "rf_preds_train = rf.predict_proba(xs)[:,1]\n",
    "rf_preds_valid = rf.predict_proba(valid_xs)[:,1]\n",
    "\n",
    "histgbt_preds_train = gbt.predict_proba(xs)[:,1]\n",
    "histgbt_preds_valid = gbt.predict_proba(valid_xs)[:,1]\n",
    "\n",
    "#nn_preds =\n",
    "ens_preds_train =  (rf_preds_train + histgbt_preds_train) / 2\n",
    "ens_preds_valid =  (rf_preds_valid + histgbt_preds_valid) / 2"
   ]
  },
  {
   "cell_type": "code",
   "execution_count": 21,
   "metadata": {},
   "outputs": [
    {
     "data": {
      "text/plain": [
       "(0.9993501460215007, 0.8628004078406483)"
      ]
     },
     "execution_count": 21,
     "metadata": {},
     "output_type": "execute_result"
    }
   ],
   "source": [
    "roc_auc_score(y, ens_preds_train), roc_auc_score(valid_y, ens_preds_valid)"
   ]
  },
  {
   "cell_type": "code",
   "execution_count": null,
   "metadata": {},
   "outputs": [],
   "source": []
  }
 ],
 "metadata": {
  "kernelspec": {
   "display_name": "Python 3",
   "language": "python",
   "name": "python3"
  },
  "language_info": {
   "codemirror_mode": {
    "name": "ipython",
    "version": 3
   },
   "file_extension": ".py",
   "mimetype": "text/x-python",
   "name": "python",
   "nbconvert_exporter": "python",
   "pygments_lexer": "ipython3",
   "version": "3.8.5"
  },
  "toc": {
   "base_numbering": 1,
   "nav_menu": {},
   "number_sections": true,
   "sideBar": true,
   "skip_h1_title": false,
   "title_cell": "Table of Contents",
   "title_sidebar": "Contents",
   "toc_cell": false,
   "toc_position": {},
   "toc_section_display": true,
   "toc_window_display": false
  }
 },
 "nbformat": 4,
 "nbformat_minor": 4
}
