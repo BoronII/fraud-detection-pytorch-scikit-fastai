{
 "cells": [
  {
   "cell_type": "markdown",
   "metadata": {},
   "source": [
    "## Let's try out a neural network"
   ]
  },
  {
   "cell_type": "markdown",
   "metadata": {},
   "source": [
    "## This turned into a weird experiment with using neural nets and regression to classify Fraudulant transactions"
   ]
  },
  {
   "cell_type": "code",
   "execution_count": 5,
   "metadata": {},
   "outputs": [],
   "source": [
    "%reload_ext autoreload\n",
    "%autoreload 2\n",
    "%matplotlib inline"
   ]
  },
  {
   "cell_type": "code",
   "execution_count": 6,
   "metadata": {},
   "outputs": [],
   "source": [
    "# from fastbook import *\n",
    "# from utils import *\n",
    "from fastai.tabular.all import *\n",
    "# from sklearn.ensemble import RandomForestClassifier\n",
    "# from sklearn.tree import DecisionTreeClassifier\n",
    "# #from dtreeviz.trees import *\n",
    "# from IPython.display import Image, display_svg, SVG\n",
    "# from pandas.api.types import is_string_dtype, is_numeric_dtype, is_categorical_dtype\n",
    "# from sklearn.metrics import accuracy_score, roc_auc_score \n",
    "from sklearn.metrics import roc_auc_score \n",
    "\n",
    "\n",
    "path = Path('/Users/baranserajelahi/Codes/fraud-detection-pytorch-scikit-fastai/data')\n",
    "Path.BASE_PATH = path\n",
    "pd.options.display.max_rows = 1000\n",
    "pd.options.display.max_columns = 300"
   ]
  },
  {
   "cell_type": "code",
   "execution_count": 7,
   "metadata": {},
   "outputs": [],
   "source": [
    "xs_final = (path/'xs_final.pkl').load()\n",
    "train_ss = pd.read_csv(path/'train_ss.csv', index_col=[0], low_memory=False)\n",
    "dep_var = 'isFraud'"
   ]
  },
  {
   "cell_type": "code",
   "execution_count": 8,
   "metadata": {},
   "outputs": [],
   "source": [
    "df_nn = train_ss[list(xs_final.columns) + [dep_var]]"
   ]
  },
  {
   "cell_type": "code",
   "execution_count": 9,
   "metadata": {},
   "outputs": [
    {
     "data": {
      "text/plain": [
       "['C5',\n",
       " 'D3',\n",
       " 'C14',\n",
       " 'C13',\n",
       " 'C4',\n",
       " 'D2',\n",
       " 'C1',\n",
       " 'C8',\n",
       " 'C2',\n",
       " 'R_emaildomain',\n",
       " 'D5',\n",
       " 'M4',\n",
       " 'card6',\n",
       " 'C11',\n",
       " 'C10',\n",
       " 'TransactionDT',\n",
       " 'id_20',\n",
       " 'ProductCD',\n",
       " 'M5',\n",
       " 'C12',\n",
       " 'TransactionAmt',\n",
       " 'D1',\n",
       " 'DeviceType',\n",
       " 'D8',\n",
       " 'addr2',\n",
       " 'D15',\n",
       " 'id_31',\n",
       " 'C6',\n",
       " 'card2']"
      ]
     },
     "execution_count": 9,
     "metadata": {},
     "output_type": "execute_result"
    }
   ],
   "source": [
    "list(xs_final.columns)"
   ]
  },
  {
   "cell_type": "code",
   "execution_count": 6,
   "metadata": {},
   "outputs": [],
   "source": [
    "assert len(xs_final.columns)==(len(df_nn.columns)-1)"
   ]
  },
  {
   "cell_type": "code",
   "execution_count": 7,
   "metadata": {},
   "outputs": [
    {
     "data": {
      "text/html": [
       "<div>\n",
       "<style scoped>\n",
       "    .dataframe tbody tr th:only-of-type {\n",
       "        vertical-align: middle;\n",
       "    }\n",
       "\n",
       "    .dataframe tbody tr th {\n",
       "        vertical-align: top;\n",
       "    }\n",
       "\n",
       "    .dataframe thead th {\n",
       "        text-align: right;\n",
       "    }\n",
       "</style>\n",
       "<table border=\"1\" class=\"dataframe\">\n",
       "  <thead>\n",
       "    <tr style=\"text-align: right;\">\n",
       "      <th></th>\n",
       "      <th>C5</th>\n",
       "      <th>D3</th>\n",
       "      <th>C14</th>\n",
       "      <th>C13</th>\n",
       "      <th>C4</th>\n",
       "      <th>D2</th>\n",
       "      <th>C1</th>\n",
       "      <th>C8</th>\n",
       "      <th>C2</th>\n",
       "      <th>R_emaildomain</th>\n",
       "      <th>D5</th>\n",
       "      <th>M4</th>\n",
       "      <th>card6</th>\n",
       "      <th>C11</th>\n",
       "      <th>C10</th>\n",
       "      <th>TransactionDT</th>\n",
       "      <th>id_20</th>\n",
       "      <th>ProductCD</th>\n",
       "      <th>M5</th>\n",
       "      <th>C12</th>\n",
       "      <th>TransactionAmt</th>\n",
       "      <th>D1</th>\n",
       "      <th>DeviceType</th>\n",
       "      <th>D8</th>\n",
       "      <th>addr2</th>\n",
       "      <th>D15</th>\n",
       "      <th>id_31</th>\n",
       "      <th>C6</th>\n",
       "      <th>card2</th>\n",
       "      <th>isFraud</th>\n",
       "    </tr>\n",
       "  </thead>\n",
       "  <tbody>\n",
       "    <tr>\n",
       "      <th>57195</th>\n",
       "      <td>2.0</td>\n",
       "      <td>463.0</td>\n",
       "      <td>2.0</td>\n",
       "      <td>2.0</td>\n",
       "      <td>0.0</td>\n",
       "      <td>NaN</td>\n",
       "      <td>2.0</td>\n",
       "      <td>0.0</td>\n",
       "      <td>1.0</td>\n",
       "      <td>NaN</td>\n",
       "      <td>288.0</td>\n",
       "      <td>NaN</td>\n",
       "      <td>debit</td>\n",
       "      <td>1.0</td>\n",
       "      <td>0.0</td>\n",
       "      <td>1316341</td>\n",
       "      <td>NaN</td>\n",
       "      <td>W</td>\n",
       "      <td>NaN</td>\n",
       "      <td>0.0</td>\n",
       "      <td>418.95</td>\n",
       "      <td>472.0</td>\n",
       "      <td>NaN</td>\n",
       "      <td>NaN</td>\n",
       "      <td>87.0</td>\n",
       "      <td>288.0</td>\n",
       "      <td>NaN</td>\n",
       "      <td>1.0</td>\n",
       "      <td>490.0</td>\n",
       "      <td>0</td>\n",
       "    </tr>\n",
       "    <tr>\n",
       "      <th>312877</th>\n",
       "      <td>1.0</td>\n",
       "      <td>NaN</td>\n",
       "      <td>4.0</td>\n",
       "      <td>12.0</td>\n",
       "      <td>0.0</td>\n",
       "      <td>NaN</td>\n",
       "      <td>5.0</td>\n",
       "      <td>0.0</td>\n",
       "      <td>3.0</td>\n",
       "      <td>NaN</td>\n",
       "      <td>196.0</td>\n",
       "      <td>M0</td>\n",
       "      <td>debit</td>\n",
       "      <td>1.0</td>\n",
       "      <td>0.0</td>\n",
       "      <td>7780176</td>\n",
       "      <td>NaN</td>\n",
       "      <td>W</td>\n",
       "      <td>F</td>\n",
       "      <td>0.0</td>\n",
       "      <td>59.00</td>\n",
       "      <td>0.0</td>\n",
       "      <td>NaN</td>\n",
       "      <td>NaN</td>\n",
       "      <td>87.0</td>\n",
       "      <td>330.0</td>\n",
       "      <td>NaN</td>\n",
       "      <td>2.0</td>\n",
       "      <td>268.0</td>\n",
       "      <td>0</td>\n",
       "    </tr>\n",
       "    <tr>\n",
       "      <th>195195</th>\n",
       "      <td>0.0</td>\n",
       "      <td>0.0</td>\n",
       "      <td>1.0</td>\n",
       "      <td>8.0</td>\n",
       "      <td>0.0</td>\n",
       "      <td>51.0</td>\n",
       "      <td>1.0</td>\n",
       "      <td>0.0</td>\n",
       "      <td>2.0</td>\n",
       "      <td>NaN</td>\n",
       "      <td>0.0</td>\n",
       "      <td>M0</td>\n",
       "      <td>debit</td>\n",
       "      <td>2.0</td>\n",
       "      <td>0.0</td>\n",
       "      <td>4394717</td>\n",
       "      <td>NaN</td>\n",
       "      <td>W</td>\n",
       "      <td>T</td>\n",
       "      <td>0.0</td>\n",
       "      <td>29.00</td>\n",
       "      <td>51.0</td>\n",
       "      <td>NaN</td>\n",
       "      <td>NaN</td>\n",
       "      <td>87.0</td>\n",
       "      <td>51.0</td>\n",
       "      <td>NaN</td>\n",
       "      <td>1.0</td>\n",
       "      <td>417.0</td>\n",
       "      <td>1</td>\n",
       "    </tr>\n",
       "    <tr>\n",
       "      <th>21600</th>\n",
       "      <td>0.0</td>\n",
       "      <td>NaN</td>\n",
       "      <td>1.0</td>\n",
       "      <td>1.0</td>\n",
       "      <td>0.0</td>\n",
       "      <td>NaN</td>\n",
       "      <td>1.0</td>\n",
       "      <td>0.0</td>\n",
       "      <td>1.0</td>\n",
       "      <td>NaN</td>\n",
       "      <td>NaN</td>\n",
       "      <td>M1</td>\n",
       "      <td>debit</td>\n",
       "      <td>1.0</td>\n",
       "      <td>0.0</td>\n",
       "      <td>572518</td>\n",
       "      <td>NaN</td>\n",
       "      <td>W</td>\n",
       "      <td>T</td>\n",
       "      <td>0.0</td>\n",
       "      <td>24.00</td>\n",
       "      <td>0.0</td>\n",
       "      <td>NaN</td>\n",
       "      <td>NaN</td>\n",
       "      <td>87.0</td>\n",
       "      <td>0.0</td>\n",
       "      <td>NaN</td>\n",
       "      <td>0.0</td>\n",
       "      <td>194.0</td>\n",
       "      <td>0</td>\n",
       "    </tr>\n",
       "    <tr>\n",
       "      <th>12253</th>\n",
       "      <td>3.0</td>\n",
       "      <td>7.0</td>\n",
       "      <td>2.0</td>\n",
       "      <td>18.0</td>\n",
       "      <td>0.0</td>\n",
       "      <td>484.0</td>\n",
       "      <td>2.0</td>\n",
       "      <td>0.0</td>\n",
       "      <td>2.0</td>\n",
       "      <td>NaN</td>\n",
       "      <td>NaN</td>\n",
       "      <td>NaN</td>\n",
       "      <td>debit</td>\n",
       "      <td>3.0</td>\n",
       "      <td>0.0</td>\n",
       "      <td>348181</td>\n",
       "      <td>NaN</td>\n",
       "      <td>W</td>\n",
       "      <td>NaN</td>\n",
       "      <td>0.0</td>\n",
       "      <td>57.95</td>\n",
       "      <td>484.0</td>\n",
       "      <td>NaN</td>\n",
       "      <td>NaN</td>\n",
       "      <td>87.0</td>\n",
       "      <td>NaN</td>\n",
       "      <td>NaN</td>\n",
       "      <td>1.0</td>\n",
       "      <td>215.0</td>\n",
       "      <td>0</td>\n",
       "    </tr>\n",
       "  </tbody>\n",
       "</table>\n",
       "</div>"
      ],
      "text/plain": [
       "         C5     D3  C14   C13   C4     D2   C1   C8   C2 R_emaildomain     D5  \\\n",
       "57195   2.0  463.0  2.0   2.0  0.0    NaN  2.0  0.0  1.0           NaN  288.0   \n",
       "312877  1.0    NaN  4.0  12.0  0.0    NaN  5.0  0.0  3.0           NaN  196.0   \n",
       "195195  0.0    0.0  1.0   8.0  0.0   51.0  1.0  0.0  2.0           NaN    0.0   \n",
       "21600   0.0    NaN  1.0   1.0  0.0    NaN  1.0  0.0  1.0           NaN    NaN   \n",
       "12253   3.0    7.0  2.0  18.0  0.0  484.0  2.0  0.0  2.0           NaN    NaN   \n",
       "\n",
       "         M4  card6  C11  C10  TransactionDT  id_20 ProductCD   M5  C12  \\\n",
       "57195   NaN  debit  1.0  0.0        1316341    NaN         W  NaN  0.0   \n",
       "312877   M0  debit  1.0  0.0        7780176    NaN         W    F  0.0   \n",
       "195195   M0  debit  2.0  0.0        4394717    NaN         W    T  0.0   \n",
       "21600    M1  debit  1.0  0.0         572518    NaN         W    T  0.0   \n",
       "12253   NaN  debit  3.0  0.0         348181    NaN         W  NaN  0.0   \n",
       "\n",
       "        TransactionAmt     D1 DeviceType  D8  addr2    D15 id_31   C6  card2  \\\n",
       "57195           418.95  472.0        NaN NaN   87.0  288.0   NaN  1.0  490.0   \n",
       "312877           59.00    0.0        NaN NaN   87.0  330.0   NaN  2.0  268.0   \n",
       "195195           29.00   51.0        NaN NaN   87.0   51.0   NaN  1.0  417.0   \n",
       "21600            24.00    0.0        NaN NaN   87.0    0.0   NaN  0.0  194.0   \n",
       "12253            57.95  484.0        NaN NaN   87.0    NaN   NaN  1.0  215.0   \n",
       "\n",
       "        isFraud  \n",
       "57195         0  \n",
       "312877        0  \n",
       "195195        1  \n",
       "21600         0  \n",
       "12253         0  "
      ]
     },
     "execution_count": 7,
     "metadata": {},
     "output_type": "execute_result"
    }
   ],
   "source": [
    "df_nn.head()"
   ]
  },
  {
   "cell_type": "code",
   "execution_count": 8,
   "metadata": {
    "scrolled": true
   },
   "outputs": [
    {
     "data": {
      "text/plain": [
       "Index(['C5', 'D3', 'C14', 'C13', 'C4', 'D2', 'C1', 'C8', 'C2', 'R_emaildomain',\n",
       "       'D5', 'M4', 'card6', 'C11', 'C10', 'TransactionDT', 'id_20',\n",
       "       'ProductCD', 'M5', 'C12', 'TransactionAmt', 'D1', 'DeviceType', 'D8',\n",
       "       'addr2', 'D15', 'id_31', 'C6', 'card2', 'isFraud'],\n",
       "      dtype='object')"
      ]
     },
     "execution_count": 8,
     "metadata": {},
     "output_type": "execute_result"
    }
   ],
   "source": [
    "df_nn.columns"
   ]
  },
  {
   "cell_type": "code",
   "execution_count": 9,
   "metadata": {},
   "outputs": [
    {
     "data": {
      "text/plain": [
       "57195     0\n",
       "312877    0\n",
       "195195    1\n",
       "21600     0\n",
       "12253     0\n",
       "         ..\n",
       "224165    0\n",
       "322952    1\n",
       "449491    0\n",
       "343893    0\n",
       "125898    0\n",
       "Name: isFraud, Length: 59054, dtype: int64"
      ]
     },
     "execution_count": 9,
     "metadata": {},
     "output_type": "execute_result"
    }
   ],
   "source": [
    "df_nn['isFraud']"
   ]
  },
  {
   "cell_type": "code",
   "execution_count": 10,
   "metadata": {},
   "outputs": [],
   "source": [
    "cont = ['C5', 'D3', 'C14', 'C13', 'C4', 'D2', 'C1', 'C8', 'C2', 'D5', 'C11', 'C10',\n",
    "        'C12', 'D1', 'D8', 'D15', 'C6', 'TransactionDT', 'TransactionAmt']\n",
    "cat =  ['R_emaildomain', 'M4', 'M5', 'card6', 'id_20', 'ProductCD',\n",
    "        'DeviceType', 'addr2', 'id_31', 'card2']"
   ]
  },
  {
   "cell_type": "code",
   "execution_count": 11,
   "metadata": {},
   "outputs": [],
   "source": [
    "assert len(df_nn.columns)==(len(cat)+len(cont)+1)"
   ]
  },
  {
   "cell_type": "code",
   "execution_count": 12,
   "metadata": {},
   "outputs": [
    {
     "data": {
      "text/plain": [
       "R_emaildomain     59\n",
       "M4                 3\n",
       "M5                 2\n",
       "card6              4\n",
       "id_20            206\n",
       "ProductCD          5\n",
       "DeviceType         2\n",
       "addr2             27\n",
       "id_31            107\n",
       "card2            499\n",
       "dtype: int64"
      ]
     },
     "execution_count": 12,
     "metadata": {},
     "output_type": "execute_result"
    }
   ],
   "source": [
    "df_nn[cat].nunique()"
   ]
  },
  {
   "cell_type": "markdown",
   "metadata": {},
   "source": [
    "There are NOT a numner of categorical variables where the number of categories has high cardinality, so deep learning might NOT help us in this senerio."
   ]
  },
  {
   "cell_type": "code",
   "execution_count": 13,
   "metadata": {},
   "outputs": [
    {
     "data": {
      "text/plain": [
       "12579784"
      ]
     },
     "execution_count": 13,
     "metadata": {},
     "output_type": "execute_result"
    }
   ],
   "source": [
    "# The rows with TransactionDT <= 12579058 comprise the first 80% of the data (approximately)\n",
    "cut_off = math.floor((train_ss['TransactionDT'].max() - train_ss['TransactionDT'].min())*0.8)\n",
    "cut_off"
   ]
  },
  {
   "cell_type": "code",
   "execution_count": 14,
   "metadata": {},
   "outputs": [],
   "source": [
    "cond = train_ss['TransactionDT'] <= cut_off\n",
    "train_idx = np.where( cond)[0]\n",
    "valid_idx = np.where(~cond)[0]\n",
    "\n",
    "splits = (list(train_idx),list(valid_idx))"
   ]
  },
  {
   "cell_type": "code",
   "execution_count": 15,
   "metadata": {},
   "outputs": [
    {
     "data": {
      "text/plain": [
       "FlattenedLoss of MSELoss()"
      ]
     },
     "execution_count": 15,
     "metadata": {},
     "output_type": "execute_result"
    }
   ],
   "source": [
    "procs_nn = [Categorify, FillMissing, Normalize]\n",
    "to_nn = TabularPandas(df_nn, procs_nn, cat, cont,\n",
    "                     splits=splits, y_names=dep_var)\n",
    "to_nn.loss_func"
   ]
  },
  {
   "cell_type": "code",
   "execution_count": 16,
   "metadata": {},
   "outputs": [
    {
     "data": {
      "text/plain": [
       "57195     0\n",
       "312877    0\n",
       "195195    1\n",
       "21600     0\n",
       "12253     0\n",
       "         ..\n",
       "585191    0\n",
       "582517    0\n",
       "493713    0\n",
       "526363    0\n",
       "500247    0\n",
       "Name: isFraud, Length: 59054, dtype: int8"
      ]
     },
     "execution_count": 16,
     "metadata": {},
     "output_type": "execute_result"
    }
   ],
   "source": [
    "to_nn['isFraud']"
   ]
  },
  {
   "cell_type": "code",
   "execution_count": 17,
   "metadata": {},
   "outputs": [],
   "source": [
    "dls = to_nn.dataloaders(64)"
   ]
  },
  {
   "cell_type": "code",
   "execution_count": 18,
   "metadata": {},
   "outputs": [
    {
     "data": {
      "text/html": [
       "<div>\n",
       "<style scoped>\n",
       "    .dataframe tbody tr th:only-of-type {\n",
       "        vertical-align: middle;\n",
       "    }\n",
       "\n",
       "    .dataframe tbody tr th {\n",
       "        vertical-align: top;\n",
       "    }\n",
       "\n",
       "    .dataframe thead th {\n",
       "        text-align: right;\n",
       "    }\n",
       "</style>\n",
       "<table border=\"1\" class=\"dataframe\">\n",
       "  <thead>\n",
       "    <tr style=\"text-align: right;\">\n",
       "      <th></th>\n",
       "      <th>R_emaildomain</th>\n",
       "      <th>M4</th>\n",
       "      <th>M5</th>\n",
       "      <th>card6</th>\n",
       "      <th>id_20</th>\n",
       "      <th>ProductCD</th>\n",
       "      <th>DeviceType</th>\n",
       "      <th>addr2</th>\n",
       "      <th>id_31</th>\n",
       "      <th>card2</th>\n",
       "      <th>D3_na</th>\n",
       "      <th>D2_na</th>\n",
       "      <th>D5_na</th>\n",
       "      <th>D1_na</th>\n",
       "      <th>D8_na</th>\n",
       "      <th>D15_na</th>\n",
       "      <th>C5</th>\n",
       "      <th>D3</th>\n",
       "      <th>C14</th>\n",
       "      <th>C13</th>\n",
       "      <th>C4</th>\n",
       "      <th>D2</th>\n",
       "      <th>C1</th>\n",
       "      <th>C8</th>\n",
       "      <th>C2</th>\n",
       "      <th>D5</th>\n",
       "      <th>C11</th>\n",
       "      <th>C10</th>\n",
       "      <th>C12</th>\n",
       "      <th>D1</th>\n",
       "      <th>D8</th>\n",
       "      <th>D15</th>\n",
       "      <th>C6</th>\n",
       "      <th>TransactionDT</th>\n",
       "      <th>TransactionAmt</th>\n",
       "    </tr>\n",
       "  </thead>\n",
       "  <tbody>\n",
       "    <tr>\n",
       "      <th>57195</th>\n",
       "      <td>0</td>\n",
       "      <td>0</td>\n",
       "      <td>0</td>\n",
       "      <td>3</td>\n",
       "      <td>0</td>\n",
       "      <td>5</td>\n",
       "      <td>0</td>\n",
       "      <td>21</td>\n",
       "      <td>0</td>\n",
       "      <td>390</td>\n",
       "      <td>1</td>\n",
       "      <td>2</td>\n",
       "      <td>1</td>\n",
       "      <td>1</td>\n",
       "      <td>2</td>\n",
       "      <td>1</td>\n",
       "      <td>-0.134384</td>\n",
       "      <td>9.471498</td>\n",
       "      <td>-0.123058</td>\n",
       "      <td>-0.224706</td>\n",
       "      <td>-0.061955</td>\n",
       "      <td>-0.280162</td>\n",
       "      <td>-0.089028</td>\n",
       "      <td>-0.056906</td>\n",
       "      <td>-0.090942</td>\n",
       "      <td>4.260183</td>\n",
       "      <td>-0.096037</td>\n",
       "      <td>-0.057582</td>\n",
       "      <td>-0.051114</td>\n",
       "      <td>2.468850</td>\n",
       "      <td>-0.154975</td>\n",
       "      <td>0.805232</td>\n",
       "      <td>-0.109859</td>\n",
       "      <td>-1.245707</td>\n",
       "      <td>1.240415</td>\n",
       "    </tr>\n",
       "    <tr>\n",
       "      <th>312877</th>\n",
       "      <td>0</td>\n",
       "      <td>1</td>\n",
       "      <td>1</td>\n",
       "      <td>3</td>\n",
       "      <td>0</td>\n",
       "      <td>5</td>\n",
       "      <td>0</td>\n",
       "      <td>21</td>\n",
       "      <td>0</td>\n",
       "      <td>168</td>\n",
       "      <td>2</td>\n",
       "      <td>2</td>\n",
       "      <td>1</td>\n",
       "      <td>1</td>\n",
       "      <td>2</td>\n",
       "      <td>1</td>\n",
       "      <td>-0.174292</td>\n",
       "      <td>-0.233869</td>\n",
       "      <td>-0.085467</td>\n",
       "      <td>-0.150241</td>\n",
       "      <td>-0.061955</td>\n",
       "      <td>-0.280162</td>\n",
       "      <td>-0.068799</td>\n",
       "      <td>-0.056906</td>\n",
       "      <td>-0.079297</td>\n",
       "      <td>2.774099</td>\n",
       "      <td>-0.096037</td>\n",
       "      <td>-0.057582</td>\n",
       "      <td>-0.051114</td>\n",
       "      <td>-0.590402</td>\n",
       "      <td>-0.154975</td>\n",
       "      <td>1.033601</td>\n",
       "      <td>-0.097012</td>\n",
       "      <td>0.519150</td>\n",
       "      <td>-0.328971</td>\n",
       "    </tr>\n",
       "    <tr>\n",
       "      <th>195195</th>\n",
       "      <td>0</td>\n",
       "      <td>1</td>\n",
       "      <td>2</td>\n",
       "      <td>3</td>\n",
       "      <td>0</td>\n",
       "      <td>5</td>\n",
       "      <td>0</td>\n",
       "      <td>21</td>\n",
       "      <td>0</td>\n",
       "      <td>317</td>\n",
       "      <td>1</td>\n",
       "      <td>1</td>\n",
       "      <td>1</td>\n",
       "      <td>1</td>\n",
       "      <td>2</td>\n",
       "      <td>1</td>\n",
       "      <td>-0.214200</td>\n",
       "      <td>-0.404513</td>\n",
       "      <td>-0.141853</td>\n",
       "      <td>-0.180027</td>\n",
       "      <td>-0.061955</td>\n",
       "      <td>-0.634464</td>\n",
       "      <td>-0.095771</td>\n",
       "      <td>-0.056906</td>\n",
       "      <td>-0.085119</td>\n",
       "      <td>-0.391905</td>\n",
       "      <td>-0.086453</td>\n",
       "      <td>-0.057582</td>\n",
       "      <td>-0.051114</td>\n",
       "      <td>-0.259847</td>\n",
       "      <td>-0.154975</td>\n",
       "      <td>-0.483425</td>\n",
       "      <td>-0.109859</td>\n",
       "      <td>-0.405201</td>\n",
       "      <td>-0.459771</td>\n",
       "    </tr>\n",
       "    <tr>\n",
       "      <th>21600</th>\n",
       "      <td>0</td>\n",
       "      <td>2</td>\n",
       "      <td>2</td>\n",
       "      <td>3</td>\n",
       "      <td>0</td>\n",
       "      <td>5</td>\n",
       "      <td>0</td>\n",
       "      <td>21</td>\n",
       "      <td>0</td>\n",
       "      <td>94</td>\n",
       "      <td>2</td>\n",
       "      <td>2</td>\n",
       "      <td>2</td>\n",
       "      <td>1</td>\n",
       "      <td>2</td>\n",
       "      <td>1</td>\n",
       "      <td>-0.214200</td>\n",
       "      <td>-0.233869</td>\n",
       "      <td>-0.141853</td>\n",
       "      <td>-0.232152</td>\n",
       "      <td>-0.061955</td>\n",
       "      <td>-0.280162</td>\n",
       "      <td>-0.095771</td>\n",
       "      <td>-0.056906</td>\n",
       "      <td>-0.090942</td>\n",
       "      <td>-0.246527</td>\n",
       "      <td>-0.096037</td>\n",
       "      <td>-0.057582</td>\n",
       "      <td>-0.051114</td>\n",
       "      <td>-0.590402</td>\n",
       "      <td>-0.154975</td>\n",
       "      <td>-0.760731</td>\n",
       "      <td>-0.122707</td>\n",
       "      <td>-1.448797</td>\n",
       "      <td>-0.481571</td>\n",
       "    </tr>\n",
       "    <tr>\n",
       "      <th>12253</th>\n",
       "      <td>0</td>\n",
       "      <td>0</td>\n",
       "      <td>0</td>\n",
       "      <td>3</td>\n",
       "      <td>0</td>\n",
       "      <td>5</td>\n",
       "      <td>0</td>\n",
       "      <td>21</td>\n",
       "      <td>0</td>\n",
       "      <td>115</td>\n",
       "      <td>1</td>\n",
       "      <td>1</td>\n",
       "      <td>2</td>\n",
       "      <td>1</td>\n",
       "      <td>2</td>\n",
       "      <td>2</td>\n",
       "      <td>-0.094476</td>\n",
       "      <td>-0.255200</td>\n",
       "      <td>-0.123058</td>\n",
       "      <td>-0.105562</td>\n",
       "      <td>-0.061955</td>\n",
       "      <td>2.700589</td>\n",
       "      <td>-0.089028</td>\n",
       "      <td>-0.056906</td>\n",
       "      <td>-0.085119</td>\n",
       "      <td>-0.246527</td>\n",
       "      <td>-0.076868</td>\n",
       "      <td>-0.057582</td>\n",
       "      <td>-0.051114</td>\n",
       "      <td>2.546627</td>\n",
       "      <td>-0.154975</td>\n",
       "      <td>-0.499737</td>\n",
       "      <td>-0.109859</td>\n",
       "      <td>-1.510049</td>\n",
       "      <td>-0.333549</td>\n",
       "    </tr>\n",
       "    <tr>\n",
       "      <th>...</th>\n",
       "      <td>...</td>\n",
       "      <td>...</td>\n",
       "      <td>...</td>\n",
       "      <td>...</td>\n",
       "      <td>...</td>\n",
       "      <td>...</td>\n",
       "      <td>...</td>\n",
       "      <td>...</td>\n",
       "      <td>...</td>\n",
       "      <td>...</td>\n",
       "      <td>...</td>\n",
       "      <td>...</td>\n",
       "      <td>...</td>\n",
       "      <td>...</td>\n",
       "      <td>...</td>\n",
       "      <td>...</td>\n",
       "      <td>...</td>\n",
       "      <td>...</td>\n",
       "      <td>...</td>\n",
       "      <td>...</td>\n",
       "      <td>...</td>\n",
       "      <td>...</td>\n",
       "      <td>...</td>\n",
       "      <td>...</td>\n",
       "      <td>...</td>\n",
       "      <td>...</td>\n",
       "      <td>...</td>\n",
       "      <td>...</td>\n",
       "      <td>...</td>\n",
       "      <td>...</td>\n",
       "      <td>...</td>\n",
       "      <td>...</td>\n",
       "      <td>...</td>\n",
       "      <td>...</td>\n",
       "      <td>...</td>\n",
       "    </tr>\n",
       "    <tr>\n",
       "      <th>224165</th>\n",
       "      <td>55</td>\n",
       "      <td>1</td>\n",
       "      <td>0</td>\n",
       "      <td>2</td>\n",
       "      <td>143</td>\n",
       "      <td>1</td>\n",
       "      <td>1</td>\n",
       "      <td>0</td>\n",
       "      <td>74</td>\n",
       "      <td>76</td>\n",
       "      <td>2</td>\n",
       "      <td>2</td>\n",
       "      <td>1</td>\n",
       "      <td>1</td>\n",
       "      <td>2</td>\n",
       "      <td>1</td>\n",
       "      <td>-0.214200</td>\n",
       "      <td>-0.233869</td>\n",
       "      <td>-0.123058</td>\n",
       "      <td>-0.224706</td>\n",
       "      <td>-0.048718</td>\n",
       "      <td>-0.280162</td>\n",
       "      <td>-0.089028</td>\n",
       "      <td>-0.038321</td>\n",
       "      <td>-0.085119</td>\n",
       "      <td>3.840203</td>\n",
       "      <td>-0.086453</td>\n",
       "      <td>-0.039016</td>\n",
       "      <td>-0.030764</td>\n",
       "      <td>-0.590402</td>\n",
       "      <td>-0.154975</td>\n",
       "      <td>-0.760731</td>\n",
       "      <td>-0.109859</td>\n",
       "      <td>-0.164251</td>\n",
       "      <td>-0.464052</td>\n",
       "    </tr>\n",
       "    <tr>\n",
       "      <th>322952</th>\n",
       "      <td>17</td>\n",
       "      <td>3</td>\n",
       "      <td>0</td>\n",
       "      <td>2</td>\n",
       "      <td>0</td>\n",
       "      <td>1</td>\n",
       "      <td>0</td>\n",
       "      <td>0</td>\n",
       "      <td>0</td>\n",
       "      <td>390</td>\n",
       "      <td>2</td>\n",
       "      <td>2</td>\n",
       "      <td>1</td>\n",
       "      <td>1</td>\n",
       "      <td>2</td>\n",
       "      <td>1</td>\n",
       "      <td>-0.214200</td>\n",
       "      <td>-0.233869</td>\n",
       "      <td>-0.160649</td>\n",
       "      <td>-0.239599</td>\n",
       "      <td>-0.048718</td>\n",
       "      <td>-0.280162</td>\n",
       "      <td>-0.095771</td>\n",
       "      <td>-0.047614</td>\n",
       "      <td>-0.085119</td>\n",
       "      <td>-0.391905</td>\n",
       "      <td>-0.086453</td>\n",
       "      <td>-0.048299</td>\n",
       "      <td>-0.030764</td>\n",
       "      <td>3.188292</td>\n",
       "      <td>-0.154975</td>\n",
       "      <td>-0.760731</td>\n",
       "      <td>-0.109859</td>\n",
       "      <td>0.582717</td>\n",
       "      <td>-0.047759</td>\n",
       "    </tr>\n",
       "    <tr>\n",
       "      <th>449491</th>\n",
       "      <td>0</td>\n",
       "      <td>1</td>\n",
       "      <td>2</td>\n",
       "      <td>3</td>\n",
       "      <td>0</td>\n",
       "      <td>5</td>\n",
       "      <td>0</td>\n",
       "      <td>21</td>\n",
       "      <td>0</td>\n",
       "      <td>320</td>\n",
       "      <td>1</td>\n",
       "      <td>1</td>\n",
       "      <td>1</td>\n",
       "      <td>1</td>\n",
       "      <td>2</td>\n",
       "      <td>1</td>\n",
       "      <td>-0.174292</td>\n",
       "      <td>-0.383183</td>\n",
       "      <td>-0.141853</td>\n",
       "      <td>-0.090669</td>\n",
       "      <td>-0.061955</td>\n",
       "      <td>3.039486</td>\n",
       "      <td>-0.095771</td>\n",
       "      <td>-0.056906</td>\n",
       "      <td>-0.090942</td>\n",
       "      <td>-0.375752</td>\n",
       "      <td>-0.096037</td>\n",
       "      <td>-0.057582</td>\n",
       "      <td>-0.051114</td>\n",
       "      <td>2.831812</td>\n",
       "      <td>-0.154975</td>\n",
       "      <td>2.115638</td>\n",
       "      <td>-0.109859</td>\n",
       "      <td>1.525638</td>\n",
       "      <td>-0.328971</td>\n",
       "    </tr>\n",
       "    <tr>\n",
       "      <th>343893</th>\n",
       "      <td>2</td>\n",
       "      <td>3</td>\n",
       "      <td>0</td>\n",
       "      <td>3</td>\n",
       "      <td>0</td>\n",
       "      <td>1</td>\n",
       "      <td>0</td>\n",
       "      <td>17</td>\n",
       "      <td>0</td>\n",
       "      <td>445</td>\n",
       "      <td>2</td>\n",
       "      <td>2</td>\n",
       "      <td>2</td>\n",
       "      <td>1</td>\n",
       "      <td>2</td>\n",
       "      <td>1</td>\n",
       "      <td>-0.214200</td>\n",
       "      <td>-0.233869</td>\n",
       "      <td>-0.141853</td>\n",
       "      <td>-0.232152</td>\n",
       "      <td>-0.048718</td>\n",
       "      <td>-0.280162</td>\n",
       "      <td>-0.095771</td>\n",
       "      <td>-0.056906</td>\n",
       "      <td>-0.090942</td>\n",
       "      <td>-0.246527</td>\n",
       "      <td>-0.096037</td>\n",
       "      <td>-0.057582</td>\n",
       "      <td>-0.040939</td>\n",
       "      <td>-0.590402</td>\n",
       "      <td>-0.154975</td>\n",
       "      <td>-0.760731</td>\n",
       "      <td>-0.109859</td>\n",
       "      <td>0.707703</td>\n",
       "      <td>-0.447118</td>\n",
       "    </tr>\n",
       "    <tr>\n",
       "      <th>125898</th>\n",
       "      <td>0</td>\n",
       "      <td>1</td>\n",
       "      <td>1</td>\n",
       "      <td>2</td>\n",
       "      <td>0</td>\n",
       "      <td>5</td>\n",
       "      <td>0</td>\n",
       "      <td>21</td>\n",
       "      <td>0</td>\n",
       "      <td>370</td>\n",
       "      <td>1</td>\n",
       "      <td>1</td>\n",
       "      <td>1</td>\n",
       "      <td>1</td>\n",
       "      <td>2</td>\n",
       "      <td>1</td>\n",
       "      <td>-0.174292</td>\n",
       "      <td>-0.319191</td>\n",
       "      <td>-0.104262</td>\n",
       "      <td>-0.120455</td>\n",
       "      <td>-0.061955</td>\n",
       "      <td>-0.996467</td>\n",
       "      <td>-0.082285</td>\n",
       "      <td>-0.056906</td>\n",
       "      <td>-0.079297</td>\n",
       "      <td>-0.327293</td>\n",
       "      <td>-0.096037</td>\n",
       "      <td>-0.057582</td>\n",
       "      <td>-0.051114</td>\n",
       "      <td>-0.564476</td>\n",
       "      <td>-0.154975</td>\n",
       "      <td>1.756772</td>\n",
       "      <td>-0.109859</td>\n",
       "      <td>-0.924185</td>\n",
       "      <td>-0.348591</td>\n",
       "    </tr>\n",
       "  </tbody>\n",
       "</table>\n",
       "<p>48378 rows × 35 columns</p>\n",
       "</div>"
      ],
      "text/plain": [
       "        R_emaildomain  M4  M5  card6  id_20  ProductCD  DeviceType  addr2  \\\n",
       "57195               0   0   0      3      0          5           0     21   \n",
       "312877              0   1   1      3      0          5           0     21   \n",
       "195195              0   1   2      3      0          5           0     21   \n",
       "21600               0   2   2      3      0          5           0     21   \n",
       "12253               0   0   0      3      0          5           0     21   \n",
       "...               ...  ..  ..    ...    ...        ...         ...    ...   \n",
       "224165             55   1   0      2    143          1           1      0   \n",
       "322952             17   3   0      2      0          1           0      0   \n",
       "449491              0   1   2      3      0          5           0     21   \n",
       "343893              2   3   0      3      0          1           0     17   \n",
       "125898              0   1   1      2      0          5           0     21   \n",
       "\n",
       "        id_31  card2  D3_na  D2_na  D5_na  D1_na  D8_na  D15_na        C5  \\\n",
       "57195       0    390      1      2      1      1      2       1 -0.134384   \n",
       "312877      0    168      2      2      1      1      2       1 -0.174292   \n",
       "195195      0    317      1      1      1      1      2       1 -0.214200   \n",
       "21600       0     94      2      2      2      1      2       1 -0.214200   \n",
       "12253       0    115      1      1      2      1      2       2 -0.094476   \n",
       "...       ...    ...    ...    ...    ...    ...    ...     ...       ...   \n",
       "224165     74     76      2      2      1      1      2       1 -0.214200   \n",
       "322952      0    390      2      2      1      1      2       1 -0.214200   \n",
       "449491      0    320      1      1      1      1      2       1 -0.174292   \n",
       "343893      0    445      2      2      2      1      2       1 -0.214200   \n",
       "125898      0    370      1      1      1      1      2       1 -0.174292   \n",
       "\n",
       "              D3       C14       C13        C4        D2        C1        C8  \\\n",
       "57195   9.471498 -0.123058 -0.224706 -0.061955 -0.280162 -0.089028 -0.056906   \n",
       "312877 -0.233869 -0.085467 -0.150241 -0.061955 -0.280162 -0.068799 -0.056906   \n",
       "195195 -0.404513 -0.141853 -0.180027 -0.061955 -0.634464 -0.095771 -0.056906   \n",
       "21600  -0.233869 -0.141853 -0.232152 -0.061955 -0.280162 -0.095771 -0.056906   \n",
       "12253  -0.255200 -0.123058 -0.105562 -0.061955  2.700589 -0.089028 -0.056906   \n",
       "...          ...       ...       ...       ...       ...       ...       ...   \n",
       "224165 -0.233869 -0.123058 -0.224706 -0.048718 -0.280162 -0.089028 -0.038321   \n",
       "322952 -0.233869 -0.160649 -0.239599 -0.048718 -0.280162 -0.095771 -0.047614   \n",
       "449491 -0.383183 -0.141853 -0.090669 -0.061955  3.039486 -0.095771 -0.056906   \n",
       "343893 -0.233869 -0.141853 -0.232152 -0.048718 -0.280162 -0.095771 -0.056906   \n",
       "125898 -0.319191 -0.104262 -0.120455 -0.061955 -0.996467 -0.082285 -0.056906   \n",
       "\n",
       "              C2        D5       C11       C10       C12        D1        D8  \\\n",
       "57195  -0.090942  4.260183 -0.096037 -0.057582 -0.051114  2.468850 -0.154975   \n",
       "312877 -0.079297  2.774099 -0.096037 -0.057582 -0.051114 -0.590402 -0.154975   \n",
       "195195 -0.085119 -0.391905 -0.086453 -0.057582 -0.051114 -0.259847 -0.154975   \n",
       "21600  -0.090942 -0.246527 -0.096037 -0.057582 -0.051114 -0.590402 -0.154975   \n",
       "12253  -0.085119 -0.246527 -0.076868 -0.057582 -0.051114  2.546627 -0.154975   \n",
       "...          ...       ...       ...       ...       ...       ...       ...   \n",
       "224165 -0.085119  3.840203 -0.086453 -0.039016 -0.030764 -0.590402 -0.154975   \n",
       "322952 -0.085119 -0.391905 -0.086453 -0.048299 -0.030764  3.188292 -0.154975   \n",
       "449491 -0.090942 -0.375752 -0.096037 -0.057582 -0.051114  2.831812 -0.154975   \n",
       "343893 -0.090942 -0.246527 -0.096037 -0.057582 -0.040939 -0.590402 -0.154975   \n",
       "125898 -0.079297 -0.327293 -0.096037 -0.057582 -0.051114 -0.564476 -0.154975   \n",
       "\n",
       "             D15        C6  TransactionDT  TransactionAmt  \n",
       "57195   0.805232 -0.109859      -1.245707        1.240415  \n",
       "312877  1.033601 -0.097012       0.519150       -0.328971  \n",
       "195195 -0.483425 -0.109859      -0.405201       -0.459771  \n",
       "21600  -0.760731 -0.122707      -1.448797       -0.481571  \n",
       "12253  -0.499737 -0.109859      -1.510049       -0.333549  \n",
       "...          ...       ...            ...             ...  \n",
       "224165 -0.760731 -0.109859      -0.164251       -0.464052  \n",
       "322952 -0.760731 -0.109859       0.582717       -0.047759  \n",
       "449491  2.115638 -0.109859       1.525638       -0.328971  \n",
       "343893 -0.760731 -0.109859       0.707703       -0.447118  \n",
       "125898  1.756772 -0.109859      -0.924185       -0.348591  \n",
       "\n",
       "[48378 rows x 35 columns]"
      ]
     },
     "execution_count": 18,
     "metadata": {},
     "output_type": "execute_result"
    }
   ],
   "source": [
    "dls.xs"
   ]
  },
  {
   "cell_type": "code",
   "execution_count": 19,
   "metadata": {},
   "outputs": [],
   "source": [
    "learn = tabular_learner(dls, layers=[500,250], loss_func=F.mse_loss)"
   ]
  },
  {
   "cell_type": "code",
   "execution_count": null,
   "metadata": {},
   "outputs": [
    {
     "data": {
      "text/html": [
       "\n",
       "    <div>\n",
       "        <style>\n",
       "            /* Turns off some styling */\n",
       "            progress {\n",
       "                /* gets rid of default border in Firefox and Opera. */\n",
       "                border: none;\n",
       "                /* Needs to be in here for Safari polyfill so background images work as expected. */\n",
       "                background-size: auto;\n",
       "            }\n",
       "            .progress-bar-interrupted, .progress-bar-interrupted::-webkit-progress-bar {\n",
       "                background: #F44336;\n",
       "            }\n",
       "        </style>\n",
       "      <progress value='0' class='' max='167' style='width:300px; height:20px; vertical-align: middle;'></progress>\n",
       "      0.00% [0/167 00:00<00:00]\n",
       "    </div>\n",
       "    "
      ],
      "text/plain": [
       "<IPython.core.display.HTML object>"
      ]
     },
     "metadata": {},
     "output_type": "display_data"
    }
   ],
   "source": [
    "learn.validate()"
   ]
  },
  {
   "cell_type": "code",
   "execution_count": 1,
   "metadata": {},
   "outputs": [
    {
     "ename": "NameError",
     "evalue": "name 'learn' is not defined",
     "output_type": "error",
     "traceback": [
      "\u001b[0;31m---------------------------------------------------------------------------\u001b[0m",
      "\u001b[0;31mNameError\u001b[0m                                 Traceback (most recent call last)",
      "\u001b[0;32m<ipython-input-1-d5261bf96ff3>\u001b[0m in \u001b[0;36m<module>\u001b[0;34m\u001b[0m\n\u001b[0;32m----> 1\u001b[0;31m \u001b[0mlearn\u001b[0m\u001b[0;34m.\u001b[0m\u001b[0mloss_func\u001b[0m\u001b[0;34m\u001b[0m\u001b[0;34m\u001b[0m\u001b[0m\n\u001b[0m",
      "\u001b[0;31mNameError\u001b[0m: name 'learn' is not defined"
     ]
    }
   ],
   "source": [
    "learn.loss_func"
   ]
  },
  {
   "cell_type": "code",
   "execution_count": 2,
   "metadata": {},
   "outputs": [
    {
     "ename": "NameError",
     "evalue": "name 'learn' is not defined",
     "output_type": "error",
     "traceback": [
      "\u001b[0;31m---------------------------------------------------------------------------\u001b[0m",
      "\u001b[0;31mNameError\u001b[0m                                 Traceback (most recent call last)",
      "\u001b[0;32m<ipython-input-2-d81c6bd29d71>\u001b[0m in \u001b[0;36m<module>\u001b[0;34m\u001b[0m\n\u001b[0;32m----> 1\u001b[0;31m \u001b[0mlearn\u001b[0m\u001b[0;34m.\u001b[0m\u001b[0mlr_find\u001b[0m\u001b[0;34m(\u001b[0m\u001b[0;34m)\u001b[0m\u001b[0;34m\u001b[0m\u001b[0;34m\u001b[0m\u001b[0m\n\u001b[0m",
      "\u001b[0;31mNameError\u001b[0m: name 'learn' is not defined"
     ]
    }
   ],
   "source": [
    "learn.lr_find()"
   ]
  },
  {
   "cell_type": "code",
   "execution_count": 3,
   "metadata": {},
   "outputs": [
    {
     "ename": "NameError",
     "evalue": "name 'learn' is not defined",
     "output_type": "error",
     "traceback": [
      "\u001b[0;31m---------------------------------------------------------------------------\u001b[0m",
      "\u001b[0;31mNameError\u001b[0m                                 Traceback (most recent call last)",
      "\u001b[0;32m<ipython-input-3-5b575fc0c1bc>\u001b[0m in \u001b[0;36m<module>\u001b[0;34m\u001b[0m\n\u001b[0;32m----> 1\u001b[0;31m \u001b[0mlearn\u001b[0m\u001b[0;34m.\u001b[0m\u001b[0mfit_one_cycle\u001b[0m\u001b[0;34m(\u001b[0m\u001b[0;36m5\u001b[0m\u001b[0;34m,\u001b[0m \u001b[0;36m1e-3\u001b[0m\u001b[0;34m)\u001b[0m\u001b[0;34m\u001b[0m\u001b[0;34m\u001b[0m\u001b[0m\n\u001b[0m",
      "\u001b[0;31mNameError\u001b[0m: name 'learn' is not defined"
     ]
    }
   ],
   "source": [
    "learn.fit_one_cycle(5, 1e-3)"
   ]
  },
  {
   "cell_type": "code",
   "execution_count": 417,
   "metadata": {},
   "outputs": [],
   "source": [
    "def r_mse(pred,y): return round(math.sqrt(((pred-y)**2).mean()), 6)\n",
    "def m_rmse(y):\n",
    "    preds = np.array(learn.get_preds()[0].squeeze())\n",
    "    return r_mse(y, preds)"
   ]
  },
  {
   "cell_type": "code",
   "execution_count": 418,
   "metadata": {},
   "outputs": [
    {
     "data": {
      "text/html": [],
      "text/plain": [
       "<IPython.core.display.HTML object>"
      ]
     },
     "metadata": {},
     "output_type": "display_data"
    },
    {
     "data": {
      "text/plain": [
       "0.045772"
      ]
     },
     "execution_count": 418,
     "metadata": {},
     "output_type": "execute_result"
    }
   ],
   "source": [
    "m_rmse(dls.valid_ds.y)"
   ]
  },
  {
   "cell_type": "markdown",
   "metadata": {},
   "source": [
    "To get the above result I treated the classification problem isFraud=1, ~isFraud=2 as a regression problem. Used MSELoss"
   ]
  },
  {
   "cell_type": "code",
   "execution_count": 421,
   "metadata": {},
   "outputs": [
    {
     "data": {
      "text/html": [],
      "text/plain": [
       "<IPython.core.display.HTML object>"
      ]
     },
     "metadata": {},
     "output_type": "display_data"
    },
    {
     "data": {
      "text/plain": [
       "tensor([[1.0257],\n",
       "        [2.0897],\n",
       "        [1.0185],\n",
       "        ...,\n",
       "        [1.0248],\n",
       "        [1.0557],\n",
       "        [0.9901]])"
      ]
     },
     "execution_count": 421,
     "metadata": {},
     "output_type": "execute_result"
    }
   ],
   "source": [
    "preds = learn.get_preds()[0]\n",
    "preds"
   ]
  },
  {
   "cell_type": "code",
   "execution_count": 426,
   "metadata": {},
   "outputs": [
    {
     "data": {
      "text/html": [],
      "text/plain": [
       "<IPython.core.display.HTML object>"
      ]
     },
     "metadata": {},
     "output_type": "display_data"
    },
    {
     "data": {
      "text/plain": [
       "tensor([[False],\n",
       "        [ True],\n",
       "        [False],\n",
       "        ...,\n",
       "        [False],\n",
       "        [False],\n",
       "        [False]])"
      ]
     },
     "execution_count": 426,
     "metadata": {},
     "output_type": "execute_result"
    }
   ],
   "source": [
    "learn.get_preds()[0]>1.1"
   ]
  },
  {
   "cell_type": "code",
   "execution_count": 427,
   "metadata": {},
   "outputs": [
    {
     "data": {
      "text/html": [],
      "text/plain": [
       "<IPython.core.display.HTML object>"
      ]
     },
     "metadata": {},
     "output_type": "display_data"
    },
    {
     "data": {
      "text/plain": [
       "tensor([[False],\n",
       "        [ True],\n",
       "        [False],\n",
       "        ...,\n",
       "        [False],\n",
       "        [False],\n",
       "        [False]])"
      ]
     },
     "execution_count": 427,
     "metadata": {},
     "output_type": "execute_result"
    }
   ],
   "source": [
    "learn.get_preds()[1]>1.1"
   ]
  },
  {
   "cell_type": "code",
   "execution_count": 428,
   "metadata": {},
   "outputs": [
    {
     "data": {
      "text/html": [],
      "text/plain": [
       "<IPython.core.display.HTML object>"
      ]
     },
     "metadata": {},
     "output_type": "display_data"
    },
    {
     "data": {
      "text/html": [],
      "text/plain": [
       "<IPython.core.display.HTML object>"
      ]
     },
     "metadata": {},
     "output_type": "display_data"
    },
    {
     "data": {
      "text/plain": [
       "0.9871521380781537"
      ]
     },
     "execution_count": 428,
     "metadata": {},
     "output_type": "execute_result"
    }
   ],
   "source": [
    "roc_auc_score(learn.get_preds()[1]>1.1, learn.get_preds()[0]>1.1)"
   ]
  },
  {
   "cell_type": "code",
   "execution_count": 429,
   "metadata": {},
   "outputs": [
    {
     "data": {
      "text/plain": [
       "Index(['R_emaildomain', 'M4', 'M5', 'card6', 'id_20', 'ProductCD',\n",
       "       'DeviceType', 'addr2', 'id_31', 'card2', 'isFraud', 'D3_na', 'D2_na',\n",
       "       'D5_na', 'D1_na', 'D8_na', 'D15_na', 'C5', 'D3', 'C14', 'C13', 'C4',\n",
       "       'D2', 'C1', 'C8', 'C2', 'D5', 'C11', 'C10', 'C12', 'D1', 'D8', 'D15',\n",
       "       'C6', 'TransactionDT', 'TransactionAmt'],\n",
       "      dtype='object')"
      ]
     },
     "execution_count": 429,
     "metadata": {},
     "output_type": "execute_result"
    }
   ],
   "source": [
    "dls.xs.columns\n"
   ]
  },
  {
   "cell_type": "code",
   "execution_count": null,
   "metadata": {},
   "outputs": [],
   "source": []
  }
 ],
 "metadata": {
  "kernelspec": {
   "display_name": "Python 3",
   "language": "python",
   "name": "python3"
  },
  "language_info": {
   "codemirror_mode": {
    "name": "ipython",
    "version": 3
   },
   "file_extension": ".py",
   "mimetype": "text/x-python",
   "name": "python",
   "nbconvert_exporter": "python",
   "pygments_lexer": "ipython3",
   "version": "3.8.5"
  },
  "toc": {
   "base_numbering": 1,
   "nav_menu": {},
   "number_sections": false,
   "sideBar": true,
   "skip_h1_title": false,
   "title_cell": "Table of Contents",
   "title_sidebar": "Contents",
   "toc_cell": false,
   "toc_position": {},
   "toc_section_display": true,
   "toc_window_display": false
  }
 },
 "nbformat": 4,
 "nbformat_minor": 4
}
