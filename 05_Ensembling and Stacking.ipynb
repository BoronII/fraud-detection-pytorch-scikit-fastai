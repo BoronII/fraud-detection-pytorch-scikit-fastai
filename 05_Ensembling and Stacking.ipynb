{
 "cells": [
  {
   "cell_type": "markdown",
   "metadata": {},
   "source": [
    "# Ensembling"
   ]
  },
  {
   "cell_type": "code",
   "execution_count": 3,
   "metadata": {},
   "outputs": [],
   "source": [
    "from fastai.tabular.all import *\n",
    "\n",
    "from sklearn.metrics import roc_auc_score\n",
    "from sklearn.ensemble import RandomForestClassifier\n",
    "\n",
    "from sklearn.experimental import enable_hist_gradient_boosting \n",
    "from sklearn.ensemble import HistGradientBoostingClassifier\n",
    "\n",
    "path = Path('/home/jupyter/fraud-detection-pytorch-scikit-fastai/data')\n",
    "#path = Path('/Users/baranserajelahi/Codes/fraud-detection-pytorch-scikit-fastai/data')\n",
    "Path.BASE_PATH = path"
   ]
  },
  {
   "cell_type": "code",
   "execution_count": 4,
   "metadata": {},
   "outputs": [],
   "source": [
    "to = (path/'to_nn_full.pkl').load()\n",
    "xs, y             = to.train.xs, to.train.y\n",
    "valid_xs, valid_y = to.valid.xs, to.valid.y"
   ]
  },
  {
   "cell_type": "markdown",
   "metadata": {},
   "source": [
    "## Models"
   ]
  },
  {
   "cell_type": "markdown",
   "metadata": {},
   "source": [
    "**Random Forest**"
   ]
  },
  {
   "cell_type": "code",
   "execution_count": 11,
   "metadata": {},
   "outputs": [
    {
     "name": "stdout",
     "output_type": "stream",
     "text": [
      "CPU times: user 5min 10s, sys: 464 ms, total: 5min 10s\n",
      "Wall time: 1min 33s\n"
     ]
    },
    {
     "data": {
      "text/plain": [
       "(0.9999983121220913, 0.8887045938380909)"
      ]
     },
     "execution_count": 11,
     "metadata": {},
     "output_type": "execute_result"
    }
   ],
   "source": [
    "%%time\n",
    "rf = RandomForestClassifier(n_jobs=-1 , max_samples=0.66, oob_score=True,\n",
    "                            n_estimators=1000,  criterion='entropy', class_weight='balanced').fit(xs,y)\n",
    "\n",
    "roc_auc_score(y, rf.predict_proba(xs)[:,1]), roc_auc_score(valid_y, rf.predict_proba(valid_xs)[:,1])"
   ]
  },
  {
   "cell_type": "markdown",
   "metadata": {},
   "source": [
    "**Gradient Boosted Tree**"
   ]
  },
  {
   "cell_type": "code",
   "execution_count": 7,
   "metadata": {
    "scrolled": false
   },
   "outputs": [
    {
     "name": "stdout",
     "output_type": "stream",
     "text": [
      "Binning 0.278 GB of training data: 1.840 s\n",
      "Binning 0.031 GB of validation data: 0.026 s\n",
      "Fitting gradient boosted rounds:\n",
      "[1/1000] 1 tree, 44 leaves, max depth = 11, train score: 0.84357, val score: 0.84713, in 0.208s\n",
      "[2/1000] 1 tree, 44 leaves, max depth = 12, train score: 0.84652, val score: 0.84848, in 0.213s\n",
      "[3/1000] 1 tree, 44 leaves, max depth = 10, train score: 0.85400, val score: 0.84944, in 0.208s\n",
      "[4/1000] 1 tree, 44 leaves, max depth = 9, train score: 0.85932, val score: 0.86002, in 0.206s\n",
      "[5/1000] 1 tree, 44 leaves, max depth = 9, train score: 0.86384, val score: 0.86090, in 0.210s\n",
      "[6/1000] 1 tree, 44 leaves, max depth = 9, train score: 0.86402, val score: 0.86132, in 0.209s\n",
      "[7/1000] 1 tree, 44 leaves, max depth = 9, train score: 0.86463, val score: 0.86371, in 0.210s\n",
      "[8/1000] 1 tree, 44 leaves, max depth = 10, train score: 0.86552, val score: 0.86385, in 0.308s\n",
      "[9/1000] 1 tree, 44 leaves, max depth = 12, train score: 0.86551, val score: 0.86366, in 0.287s\n",
      "[10/1000] 1 tree, 44 leaves, max depth = 11, train score: 0.86673, val score: 0.86399, in 0.207s\n",
      "[11/1000] 1 tree, 44 leaves, max depth = 11, train score: 0.86770, val score: 0.86461, in 0.154s\n",
      "[12/1000] 1 tree, 44 leaves, max depth = 12, train score: 0.86798, val score: 0.86429, in 0.145s\n",
      "[13/1000] 1 tree, 44 leaves, max depth = 10, train score: 0.87052, val score: 0.86464, in 0.140s\n",
      "[14/1000] 1 tree, 44 leaves, max depth = 11, train score: 0.87123, val score: 0.86525, in 0.145s\n",
      "[15/1000] 1 tree, 44 leaves, max depth = 11, train score: 0.87216, val score: 0.86584, in 0.149s\n",
      "[16/1000] 1 tree, 44 leaves, max depth = 10, train score: 0.87256, val score: 0.86559, in 0.145s\n",
      "[17/1000] 1 tree, 44 leaves, max depth = 10, train score: 0.87258, val score: 0.86564, in 0.146s\n",
      "[18/1000] 1 tree, 44 leaves, max depth = 12, train score: 0.87494, val score: 0.86782, in 0.150s\n",
      "[19/1000] 1 tree, 44 leaves, max depth = 12, train score: 0.87541, val score: 0.86835, in 0.149s\n",
      "[20/1000] 1 tree, 44 leaves, max depth = 11, train score: 0.87591, val score: 0.86949, in 0.171s\n",
      "[21/1000] 1 tree, 44 leaves, max depth = 12, train score: 0.87648, val score: 0.86963, in 0.317s\n",
      "[22/1000] 1 tree, 44 leaves, max depth = 10, train score: 0.87719, val score: 0.87091, in 0.222s\n",
      "[23/1000] 1 tree, 44 leaves, max depth = 11, train score: 0.87877, val score: 0.87198, in 0.181s\n",
      "[24/1000] 1 tree, 44 leaves, max depth = 14, train score: 0.88015, val score: 0.87381, in 0.202s\n",
      "[25/1000] 1 tree, 44 leaves, max depth = 11, train score: 0.88134, val score: 0.87395, in 0.149s\n",
      "[26/1000] 1 tree, 44 leaves, max depth = 14, train score: 0.88223, val score: 0.87440, in 0.150s\n",
      "[27/1000] 1 tree, 44 leaves, max depth = 12, train score: 0.88416, val score: 0.87469, in 0.151s\n",
      "[28/1000] 1 tree, 44 leaves, max depth = 11, train score: 0.88515, val score: 0.87641, in 0.151s\n",
      "[29/1000] 1 tree, 44 leaves, max depth = 12, train score: 0.88602, val score: 0.87751, in 0.152s\n",
      "[30/1000] 1 tree, 44 leaves, max depth = 13, train score: 0.88676, val score: 0.87763, in 0.151s\n",
      "[31/1000] 1 tree, 44 leaves, max depth = 12, train score: 0.88750, val score: 0.87771, in 0.152s\n",
      "[32/1000] 1 tree, 44 leaves, max depth = 11, train score: 0.88814, val score: 0.87738, in 0.151s\n",
      "[33/1000] 1 tree, 44 leaves, max depth = 12, train score: 0.89006, val score: 0.87750, in 0.246s\n",
      "[34/1000] 1 tree, 44 leaves, max depth = 11, train score: 0.89108, val score: 0.87735, in 0.306s\n",
      "[35/1000] 1 tree, 44 leaves, max depth = 11, train score: 0.89329, val score: 0.87842, in 0.181s\n",
      "[36/1000] 1 tree, 44 leaves, max depth = 10, train score: 0.89385, val score: 0.87784, in 0.158s\n",
      "[37/1000] 1 tree, 44 leaves, max depth = 10, train score: 0.89479, val score: 0.87795, in 0.157s\n",
      "[38/1000] 1 tree, 44 leaves, max depth = 11, train score: 0.89585, val score: 0.87815, in 0.157s\n",
      "[39/1000] 1 tree, 44 leaves, max depth = 11, train score: 0.89733, val score: 0.87831, in 0.161s\n",
      "[40/1000] 1 tree, 44 leaves, max depth = 11, train score: 0.89772, val score: 0.87862, in 0.164s\n",
      "[41/1000] 1 tree, 44 leaves, max depth = 12, train score: 0.89856, val score: 0.87837, in 0.161s\n",
      "[42/1000] 1 tree, 44 leaves, max depth = 11, train score: 0.89902, val score: 0.87852, in 0.163s\n",
      "[43/1000] 1 tree, 44 leaves, max depth = 12, train score: 0.90080, val score: 0.87926, in 0.163s\n",
      "[44/1000] 1 tree, 44 leaves, max depth = 10, train score: 0.90124, val score: 0.87895, in 0.161s\n",
      "[45/1000] 1 tree, 44 leaves, max depth = 10, train score: 0.90196, val score: 0.87900, in 0.155s\n",
      "[46/1000] 1 tree, 44 leaves, max depth = 13, train score: 0.90368, val score: 0.87969, in 0.186s\n",
      "[47/1000] 1 tree, 44 leaves, max depth = 11, train score: 0.90470, val score: 0.87968, in 0.246s\n",
      "[48/1000] 1 tree, 44 leaves, max depth = 10, train score: 0.90601, val score: 0.87967, in 0.159s\n",
      "[49/1000] 1 tree, 44 leaves, max depth = 10, train score: 0.90664, val score: 0.88107, in 0.162s\n",
      "[50/1000] 1 tree, 44 leaves, max depth = 12, train score: 0.90685, val score: 0.88135, in 0.163s\n",
      "[51/1000] 1 tree, 44 leaves, max depth = 15, train score: 0.90787, val score: 0.88221, in 0.166s\n",
      "[52/1000] 1 tree, 44 leaves, max depth = 12, train score: 0.90774, val score: 0.88322, in 0.160s\n",
      "[53/1000] 1 tree, 44 leaves, max depth = 14, train score: 0.90835, val score: 0.88416, in 0.157s\n",
      "[54/1000] 1 tree, 44 leaves, max depth = 13, train score: 0.90839, val score: 0.88469, in 0.167s\n",
      "[55/1000] 1 tree, 44 leaves, max depth = 14, train score: 0.90908, val score: 0.88554, in 0.159s\n",
      "[56/1000] 1 tree, 44 leaves, max depth = 15, train score: 0.90970, val score: 0.88601, in 0.159s\n",
      "[57/1000] 1 tree, 44 leaves, max depth = 13, train score: 0.91004, val score: 0.88666, in 0.162s\n",
      "[58/1000] 1 tree, 44 leaves, max depth = 9, train score: 0.91063, val score: 0.88693, in 0.260s\n",
      "[59/1000] 1 tree, 44 leaves, max depth = 13, train score: 0.91107, val score: 0.88691, in 0.296s\n",
      "[60/1000] 1 tree, 44 leaves, max depth = 13, train score: 0.91158, val score: 0.88712, in 0.204s\n",
      "[61/1000] 1 tree, 44 leaves, max depth = 12, train score: 0.91196, val score: 0.88787, in 0.159s\n",
      "[62/1000] 1 tree, 44 leaves, max depth = 12, train score: 0.91242, val score: 0.88780, in 0.162s\n",
      "[63/1000] 1 tree, 44 leaves, max depth = 15, train score: 0.91266, val score: 0.88811, in 0.164s\n",
      "[64/1000] 1 tree, 44 leaves, max depth = 14, train score: 0.91306, val score: 0.88842, in 0.166s\n",
      "[65/1000] 1 tree, 44 leaves, max depth = 17, train score: 0.91367, val score: 0.88818, in 0.164s\n",
      "[66/1000] 1 tree, 44 leaves, max depth = 11, train score: 0.91397, val score: 0.88814, in 0.163s\n",
      "[67/1000] 1 tree, 44 leaves, max depth = 13, train score: 0.91419, val score: 0.88895, in 0.160s\n",
      "[68/1000] 1 tree, 44 leaves, max depth = 14, train score: 0.91486, val score: 0.88905, in 0.164s\n",
      "[69/1000] 1 tree, 44 leaves, max depth = 13, train score: 0.91544, val score: 0.88910, in 0.165s\n",
      "[70/1000] 1 tree, 44 leaves, max depth = 11, train score: 0.91568, val score: 0.88882, in 0.200s\n",
      "[71/1000] 1 tree, 44 leaves, max depth = 12, train score: 0.91650, val score: 0.88873, in 0.328s\n",
      "[72/1000] 1 tree, 44 leaves, max depth = 12, train score: 0.91696, val score: 0.88931, in 0.178s\n",
      "[73/1000] 1 tree, 44 leaves, max depth = 12, train score: 0.91753, val score: 0.88946, in 0.266s\n",
      "[74/1000] 1 tree, 44 leaves, max depth = 17, train score: 0.91899, val score: 0.89017, in 0.199s\n",
      "[75/1000] 1 tree, 44 leaves, max depth = 12, train score: 0.91923, val score: 0.89039, in 0.198s\n",
      "[76/1000] 1 tree, 44 leaves, max depth = 15, train score: 0.91974, val score: 0.89087, in 0.217s\n",
      "[77/1000] 1 tree, 44 leaves, max depth = 14, train score: 0.91997, val score: 0.89080, in 0.168s\n",
      "[78/1000] 1 tree, 44 leaves, max depth = 10, train score: 0.92034, val score: 0.89094, in 0.162s\n",
      "[79/1000] 1 tree, 44 leaves, max depth = 16, train score: 0.92085, val score: 0.89140, in 0.220s\n",
      "[80/1000] 1 tree, 44 leaves, max depth = 12, train score: 0.92126, val score: 0.89146, in 0.175s\n",
      "[81/1000] 1 tree, 44 leaves, max depth = 8, train score: 0.92193, val score: 0.89207, in 0.225s\n",
      "[82/1000] 1 tree, 44 leaves, max depth = 21, train score: 0.92238, val score: 0.89230, in 0.173s\n",
      "[83/1000] 1 tree, 44 leaves, max depth = 15, train score: 0.92306, val score: 0.89228, in 0.175s\n",
      "[84/1000] 1 tree, 44 leaves, max depth = 14, train score: 0.92340, val score: 0.89231, in 0.165s\n"
     ]
    },
    {
     "name": "stdout",
     "output_type": "stream",
     "text": [
      "[85/1000] 1 tree, 44 leaves, max depth = 13, train score: 0.92416, val score: 0.89243, in 0.182s\n",
      "[86/1000] 1 tree, 44 leaves, max depth = 15, train score: 0.92455, val score: 0.89251, in 0.174s\n",
      "[87/1000] 1 tree, 44 leaves, max depth = 15, train score: 0.92484, val score: 0.89262, in 0.170s\n",
      "[88/1000] 1 tree, 44 leaves, max depth = 10, train score: 0.92523, val score: 0.89260, in 0.172s\n",
      "[89/1000] 1 tree, 44 leaves, max depth = 15, train score: 0.92558, val score: 0.89279, in 0.170s\n",
      "[90/1000] 1 tree, 44 leaves, max depth = 14, train score: 0.92586, val score: 0.89350, in 0.178s\n",
      "[91/1000] 1 tree, 44 leaves, max depth = 15, train score: 0.92625, val score: 0.89391, in 0.169s\n",
      "[92/1000] 1 tree, 44 leaves, max depth = 12, train score: 0.92718, val score: 0.89409, in 0.171s\n",
      "[93/1000] 1 tree, 44 leaves, max depth = 13, train score: 0.92827, val score: 0.89430, in 0.182s\n",
      "[94/1000] 1 tree, 44 leaves, max depth = 15, train score: 0.92862, val score: 0.89469, in 0.171s\n",
      "[95/1000] 1 tree, 44 leaves, max depth = 15, train score: 0.92946, val score: 0.89498, in 0.166s\n",
      "[96/1000] 1 tree, 44 leaves, max depth = 10, train score: 0.93005, val score: 0.89495, in 0.177s\n",
      "[97/1000] 1 tree, 44 leaves, max depth = 12, train score: 0.93013, val score: 0.89485, in 0.164s\n",
      "[98/1000] 1 tree, 44 leaves, max depth = 11, train score: 0.93066, val score: 0.89494, in 0.174s\n",
      "[99/1000] 1 tree, 44 leaves, max depth = 14, train score: 0.93112, val score: 0.89517, in 0.173s\n",
      "[100/1000] 1 tree, 44 leaves, max depth = 15, train score: 0.93146, val score: 0.89492, in 0.171s\n",
      "[101/1000] 1 tree, 44 leaves, max depth = 18, train score: 0.93188, val score: 0.89485, in 0.174s\n",
      "[102/1000] 1 tree, 44 leaves, max depth = 14, train score: 0.93229, val score: 0.89494, in 0.172s\n",
      "[103/1000] 1 tree, 44 leaves, max depth = 13, train score: 0.93271, val score: 0.89498, in 0.169s\n",
      "[104/1000] 1 tree, 44 leaves, max depth = 16, train score: 0.93325, val score: 0.89490, in 0.164s\n",
      "[105/1000] 1 tree, 44 leaves, max depth = 13, train score: 0.93347, val score: 0.89491, in 0.166s\n",
      "[106/1000] 1 tree, 44 leaves, max depth = 12, train score: 0.93383, val score: 0.89535, in 0.168s\n",
      "[107/1000] 1 tree, 44 leaves, max depth = 20, train score: 0.93404, val score: 0.89566, in 0.172s\n",
      "[108/1000] 1 tree, 44 leaves, max depth = 16, train score: 0.93433, val score: 0.89595, in 0.177s\n",
      "[109/1000] 1 tree, 44 leaves, max depth = 13, train score: 0.93453, val score: 0.89612, in 0.176s\n",
      "[110/1000] 1 tree, 44 leaves, max depth = 15, train score: 0.93482, val score: 0.89637, in 0.169s\n",
      "[111/1000] 1 tree, 44 leaves, max depth = 16, train score: 0.93519, val score: 0.89629, in 0.169s\n",
      "[112/1000] 1 tree, 44 leaves, max depth = 18, train score: 0.93571, val score: 0.89657, in 0.176s\n",
      "[113/1000] 1 tree, 44 leaves, max depth = 17, train score: 0.93611, val score: 0.89669, in 0.187s\n",
      "[114/1000] 1 tree, 44 leaves, max depth = 16, train score: 0.93641, val score: 0.89664, in 0.177s\n",
      "[115/1000] 1 tree, 44 leaves, max depth = 16, train score: 0.93700, val score: 0.89711, in 0.171s\n",
      "[116/1000] 1 tree, 44 leaves, max depth = 18, train score: 0.93740, val score: 0.89698, in 0.170s\n",
      "[117/1000] 1 tree, 44 leaves, max depth = 15, train score: 0.93782, val score: 0.89711, in 0.176s\n",
      "[118/1000] 1 tree, 44 leaves, max depth = 18, train score: 0.93815, val score: 0.89702, in 0.172s\n",
      "[119/1000] 1 tree, 44 leaves, max depth = 14, train score: 0.93866, val score: 0.89744, in 0.170s\n",
      "[120/1000] 1 tree, 44 leaves, max depth = 15, train score: 0.93903, val score: 0.89784, in 0.177s\n",
      "[121/1000] 1 tree, 44 leaves, max depth = 16, train score: 0.93942, val score: 0.89791, in 0.172s\n",
      "[122/1000] 1 tree, 44 leaves, max depth = 19, train score: 0.93980, val score: 0.89792, in 0.179s\n",
      "[123/1000] 1 tree, 44 leaves, max depth = 14, train score: 0.94004, val score: 0.89816, in 0.177s\n",
      "[124/1000] 1 tree, 44 leaves, max depth = 17, train score: 0.94031, val score: 0.89828, in 0.176s\n",
      "[125/1000] 1 tree, 44 leaves, max depth = 15, train score: 0.94082, val score: 0.89824, in 0.175s\n",
      "[126/1000] 1 tree, 44 leaves, max depth = 17, train score: 0.94117, val score: 0.89831, in 0.182s\n",
      "[127/1000] 1 tree, 44 leaves, max depth = 14, train score: 0.94157, val score: 0.89838, in 0.185s\n",
      "[128/1000] 1 tree, 44 leaves, max depth = 13, train score: 0.94227, val score: 0.89840, in 0.179s\n",
      "[129/1000] 1 tree, 44 leaves, max depth = 15, train score: 0.94284, val score: 0.89865, in 0.185s\n",
      "[130/1000] 1 tree, 44 leaves, max depth = 15, train score: 0.94359, val score: 0.89863, in 0.174s\n",
      "[131/1000] 1 tree, 44 leaves, max depth = 22, train score: 0.94402, val score: 0.89872, in 0.176s\n",
      "[132/1000] 1 tree, 44 leaves, max depth = 17, train score: 0.94436, val score: 0.89908, in 0.179s\n",
      "[133/1000] 1 tree, 44 leaves, max depth = 15, train score: 0.94472, val score: 0.89913, in 0.185s\n",
      "[134/1000] 1 tree, 44 leaves, max depth = 14, train score: 0.94508, val score: 0.89921, in 0.309s\n",
      "[135/1000] 1 tree, 44 leaves, max depth = 13, train score: 0.94548, val score: 0.89929, in 0.192s\n",
      "[136/1000] 1 tree, 44 leaves, max depth = 17, train score: 0.94578, val score: 0.89943, in 0.174s\n",
      "[137/1000] 1 tree, 44 leaves, max depth = 15, train score: 0.94614, val score: 0.89949, in 0.183s\n",
      "[138/1000] 1 tree, 44 leaves, max depth = 16, train score: 0.94669, val score: 0.89975, in 0.184s\n",
      "[139/1000] 1 tree, 44 leaves, max depth = 17, train score: 0.94716, val score: 0.89991, in 0.174s\n",
      "[140/1000] 1 tree, 44 leaves, max depth = 16, train score: 0.94746, val score: 0.89984, in 0.176s\n",
      "[141/1000] 1 tree, 44 leaves, max depth = 15, train score: 0.94789, val score: 0.89999, in 0.176s\n",
      "[142/1000] 1 tree, 44 leaves, max depth = 20, train score: 0.94803, val score: 0.90026, in 0.168s\n",
      "[143/1000] 1 tree, 44 leaves, max depth = 17, train score: 0.94864, val score: 0.90066, in 0.192s\n",
      "[144/1000] 1 tree, 44 leaves, max depth = 21, train score: 0.94889, val score: 0.90076, in 0.187s\n",
      "[145/1000] 1 tree, 44 leaves, max depth = 13, train score: 0.94917, val score: 0.90078, in 0.214s\n",
      "[146/1000] 1 tree, 44 leaves, max depth = 22, train score: 0.94950, val score: 0.90131, in 0.349s\n",
      "[147/1000] 1 tree, 44 leaves, max depth = 21, train score: 0.94964, val score: 0.90155, in 0.187s\n",
      "[148/1000] 1 tree, 44 leaves, max depth = 19, train score: 0.95020, val score: 0.90146, in 0.184s\n",
      "[149/1000] 1 tree, 44 leaves, max depth = 12, train score: 0.95042, val score: 0.90151, in 0.172s\n",
      "[150/1000] 1 tree, 44 leaves, max depth = 16, train score: 0.95063, val score: 0.90164, in 0.176s\n",
      "[151/1000] 1 tree, 44 leaves, max depth = 25, train score: 0.95076, val score: 0.90172, in 0.175s\n",
      "[152/1000] 1 tree, 44 leaves, max depth = 20, train score: 0.95096, val score: 0.90184, in 0.169s\n",
      "[153/1000] 1 tree, 44 leaves, max depth = 24, train score: 0.95125, val score: 0.90195, in 0.181s\n",
      "[154/1000] 1 tree, 44 leaves, max depth = 13, train score: 0.95157, val score: 0.90211, in 0.180s\n",
      "[155/1000] 1 tree, 44 leaves, max depth = 17, train score: 0.95172, val score: 0.90217, in 0.176s\n",
      "[156/1000] 1 tree, 44 leaves, max depth = 23, train score: 0.95204, val score: 0.90196, in 0.187s\n",
      "[157/1000] 1 tree, 44 leaves, max depth = 20, train score: 0.95240, val score: 0.90198, in 0.190s\n",
      "[158/1000] 1 tree, 44 leaves, max depth = 14, train score: 0.95265, val score: 0.90205, in 0.173s\n",
      "[159/1000] 1 tree, 44 leaves, max depth = 17, train score: 0.95301, val score: 0.90199, in 0.270s\n",
      "[160/1000] 1 tree, 44 leaves, max depth = 15, train score: 0.95330, val score: 0.90236, in 0.186s\n",
      "[161/1000] 1 tree, 44 leaves, max depth = 15, train score: 0.95365, val score: 0.90248, in 0.183s\n",
      "[162/1000] 1 tree, 44 leaves, max depth = 18, train score: 0.95412, val score: 0.90228, in 0.192s\n",
      "[163/1000] 1 tree, 44 leaves, max depth = 17, train score: 0.95431, val score: 0.90235, in 0.182s\n",
      "[164/1000] 1 tree, 44 leaves, max depth = 17, train score: 0.95440, val score: 0.90247, in 0.186s\n",
      "[165/1000] 1 tree, 44 leaves, max depth = 17, train score: 0.95496, val score: 0.90273, in 0.193s\n",
      "[166/1000] 1 tree, 44 leaves, max depth = 17, train score: 0.95535, val score: 0.90297, in 0.176s\n",
      "[167/1000] 1 tree, 44 leaves, max depth = 18, train score: 0.95580, val score: 0.90288, in 0.181s\n",
      "[168/1000] 1 tree, 44 leaves, max depth = 15, train score: 0.95606, val score: 0.90264, in 0.190s\n"
     ]
    },
    {
     "name": "stdout",
     "output_type": "stream",
     "text": [
      "[169/1000] 1 tree, 44 leaves, max depth = 15, train score: 0.95636, val score: 0.90270, in 0.185s\n",
      "[170/1000] 1 tree, 44 leaves, max depth = 15, train score: 0.95661, val score: 0.90267, in 0.255s\n",
      "[171/1000] 1 tree, 44 leaves, max depth = 20, train score: 0.95692, val score: 0.90266, in 0.342s\n",
      "[172/1000] 1 tree, 44 leaves, max depth = 20, train score: 0.95711, val score: 0.90258, in 0.192s\n",
      "[173/1000] 1 tree, 44 leaves, max depth = 15, train score: 0.95722, val score: 0.90279, in 0.170s\n",
      "[174/1000] 1 tree, 44 leaves, max depth = 14, train score: 0.95743, val score: 0.90315, in 0.178s\n",
      "[175/1000] 1 tree, 44 leaves, max depth = 15, train score: 0.95767, val score: 0.90333, in 0.183s\n",
      "[176/1000] 1 tree, 44 leaves, max depth = 16, train score: 0.95786, val score: 0.90362, in 0.187s\n",
      "[177/1000] 1 tree, 44 leaves, max depth = 12, train score: 0.95804, val score: 0.90375, in 0.169s\n",
      "[178/1000] 1 tree, 44 leaves, max depth = 14, train score: 0.95858, val score: 0.90359, in 0.189s\n",
      "[179/1000] 1 tree, 44 leaves, max depth = 11, train score: 0.95882, val score: 0.90370, in 0.181s\n",
      "[180/1000] 1 tree, 44 leaves, max depth = 16, train score: 0.95915, val score: 0.90366, in 0.198s\n",
      "[181/1000] 1 tree, 44 leaves, max depth = 20, train score: 0.95929, val score: 0.90358, in 0.178s\n",
      "[182/1000] 1 tree, 44 leaves, max depth = 17, train score: 0.95939, val score: 0.90372, in 0.173s\n",
      "[183/1000] 1 tree, 44 leaves, max depth = 18, train score: 0.95968, val score: 0.90386, in 0.202s\n",
      "[184/1000] 1 tree, 44 leaves, max depth = 17, train score: 0.95989, val score: 0.90390, in 0.272s\n",
      "[185/1000] 1 tree, 44 leaves, max depth = 14, train score: 0.96006, val score: 0.90384, in 0.182s\n",
      "[186/1000] 1 tree, 44 leaves, max depth = 21, train score: 0.96053, val score: 0.90376, in 0.187s\n",
      "[187/1000] 1 tree, 44 leaves, max depth = 20, train score: 0.96067, val score: 0.90376, in 0.191s\n",
      "[188/1000] 1 tree, 44 leaves, max depth = 12, train score: 0.96092, val score: 0.90386, in 0.185s\n",
      "[189/1000] 1 tree, 44 leaves, max depth = 14, train score: 0.96136, val score: 0.90392, in 0.194s\n",
      "[190/1000] 1 tree, 44 leaves, max depth = 19, train score: 0.96152, val score: 0.90389, in 0.183s\n",
      "[191/1000] 1 tree, 44 leaves, max depth = 18, train score: 0.96169, val score: 0.90390, in 0.179s\n",
      "[192/1000] 1 tree, 44 leaves, max depth = 17, train score: 0.96201, val score: 0.90388, in 0.189s\n",
      "[193/1000] 1 tree, 44 leaves, max depth = 14, train score: 0.96217, val score: 0.90397, in 0.183s\n",
      "[194/1000] 1 tree, 44 leaves, max depth = 14, train score: 0.96250, val score: 0.90379, in 0.198s\n",
      "[195/1000] 1 tree, 44 leaves, max depth = 17, train score: 0.96262, val score: 0.90384, in 0.269s\n",
      "[196/1000] 1 tree, 44 leaves, max depth = 11, train score: 0.96298, val score: 0.90355, in 0.325s\n",
      "[197/1000] 1 tree, 44 leaves, max depth = 17, train score: 0.96349, val score: 0.90328, in 0.236s\n",
      "[198/1000] 1 tree, 44 leaves, max depth = 15, train score: 0.96382, val score: 0.90367, in 0.198s\n",
      "[199/1000] 1 tree, 44 leaves, max depth = 21, train score: 0.96411, val score: 0.90382, in 0.182s\n",
      "[200/1000] 1 tree, 44 leaves, max depth = 15, train score: 0.96423, val score: 0.90393, in 0.177s\n",
      "[201/1000] 1 tree, 44 leaves, max depth = 13, train score: 0.96455, val score: 0.90392, in 0.189s\n",
      "[202/1000] 1 tree, 44 leaves, max depth = 24, train score: 0.96469, val score: 0.90376, in 0.183s\n",
      "[203/1000] 1 tree, 44 leaves, max depth = 16, train score: 0.96494, val score: 0.90366, in 0.203s\n",
      "Fit 203 trees in 41.181 s, (8932 total leaves)\n",
      "Time spent computing histograms: 23.151s\n",
      "Time spent finding best splits:  1.913s\n",
      "Time spent applying splits:      0.606s\n",
      "Time spent predicting:           0.032s\n",
      "CPU times: user 2min 27s, sys: 9.98 s, total: 2min 36s\n",
      "Wall time: 41.5 s\n"
     ]
    },
    {
     "data": {
      "text/plain": [
       "(0.960113077134029, 0.895746772390276)"
      ]
     },
     "execution_count": 7,
     "metadata": {},
     "output_type": "execute_result"
    }
   ],
   "source": [
    "%%time\n",
    "gbt = HistGradientBoostingClassifier(loss='binary_crossentropy', verbose=1, l2_regularization=2.4,\n",
    "                             learning_rate=0.03, max_depth=27, max_iter=1000, max_leaf_nodes=44,\n",
    "                             min_samples_leaf=8,  scoring='roc_auc', tol=1e-8).fit(xs,y)\n",
    "\n",
    "roc_auc_score(y, gbt.predict_proba(xs)[:,1]), roc_auc_score(valid_y, gbt.predict_proba(valid_xs)[:,1])"
   ]
  },
  {
   "cell_type": "markdown",
   "metadata": {},
   "source": [
    "**Neural Network**"
   ]
  },
  {
   "cell_type": "code",
   "execution_count": 26,
   "metadata": {},
   "outputs": [],
   "source": [
    "learn_inf = load_learner(path/'nn_full_weighted.pkl')"
   ]
  },
  {
   "cell_type": "code",
   "execution_count": 19,
   "metadata": {},
   "outputs": [
    {
     "data": {
      "text/plain": [
       "48246"
      ]
     },
     "execution_count": 19,
     "metadata": {},
     "output_type": "execute_result"
    }
   ],
   "source": [
    "len(xs)"
   ]
  },
  {
   "cell_type": "code",
   "execution_count": 20,
   "metadata": {},
   "outputs": [
    {
     "data": {
      "text/html": [],
      "text/plain": [
       "<IPython.core.display.HTML object>"
      ]
     },
     "metadata": {},
     "output_type": "display_data"
    },
    {
     "data": {
      "text/plain": [
       "tensor(3.5031e-06)"
      ]
     },
     "execution_count": 20,
     "metadata": {},
     "output_type": "execute_result"
    }
   ],
   "source": [
    "learn_inf.predict(xs.iloc[0])[2][1]"
   ]
  },
  {
   "cell_type": "code",
   "execution_count": 21,
   "metadata": {},
   "outputs": [],
   "source": [
    "def df_predict(learner, df):\n",
    "     return np.stack([learner.predict(df.iloc[row])[2][1] for row in range(len(df))])"
   ]
  },
  {
   "cell_type": "code",
   "execution_count": 23,
   "metadata": {
    "scrolled": false
   },
   "outputs": [
    {
     "data": {
      "text/html": [],
      "text/plain": [
       "<IPython.core.display.HTML object>"
      ]
     },
     "metadata": {},
     "output_type": "display_data"
    },
    {
     "data": {
      "text/html": [],
      "text/plain": [
       "<IPython.core.display.HTML object>"
      ]
     },
     "metadata": {},
     "output_type": "display_data"
    },
    {
     "data": {
      "text/html": [],
      "text/plain": [
       "<IPython.core.display.HTML object>"
      ]
     },
     "metadata": {},
     "output_type": "display_data"
    },
    {
     "data": {
      "text/html": [],
      "text/plain": [
       "<IPython.core.display.HTML object>"
      ]
     },
     "metadata": {},
     "output_type": "display_data"
    },
    {
     "data": {
      "text/html": [],
      "text/plain": [
       "<IPython.core.display.HTML object>"
      ]
     },
     "metadata": {},
     "output_type": "display_data"
    },
    {
     "data": {
      "text/html": [],
      "text/plain": [
       "<IPython.core.display.HTML object>"
      ]
     },
     "metadata": {},
     "output_type": "display_data"
    },
    {
     "data": {
      "text/html": [],
      "text/plain": [
       "<IPython.core.display.HTML object>"
      ]
     },
     "metadata": {},
     "output_type": "display_data"
    },
    {
     "data": {
      "text/html": [],
      "text/plain": [
       "<IPython.core.display.HTML object>"
      ]
     },
     "metadata": {},
     "output_type": "display_data"
    },
    {
     "data": {
      "text/html": [],
      "text/plain": [
       "<IPython.core.display.HTML object>"
      ]
     },
     "metadata": {},
     "output_type": "display_data"
    },
    {
     "data": {
      "text/html": [],
      "text/plain": [
       "<IPython.core.display.HTML object>"
      ]
     },
     "metadata": {},
     "output_type": "display_data"
    },
    {
     "data": {
      "text/html": [],
      "text/plain": [
       "<IPython.core.display.HTML object>"
      ]
     },
     "metadata": {},
     "output_type": "display_data"
    },
    {
     "data": {
      "text/html": [],
      "text/plain": [
       "<IPython.core.display.HTML object>"
      ]
     },
     "metadata": {},
     "output_type": "display_data"
    },
    {
     "data": {
      "text/html": [],
      "text/plain": [
       "<IPython.core.display.HTML object>"
      ]
     },
     "metadata": {},
     "output_type": "display_data"
    },
    {
     "data": {
      "text/html": [],
      "text/plain": [
       "<IPython.core.display.HTML object>"
      ]
     },
     "metadata": {},
     "output_type": "display_data"
    },
    {
     "data": {
      "text/html": [],
      "text/plain": [
       "<IPython.core.display.HTML object>"
      ]
     },
     "metadata": {},
     "output_type": "display_data"
    },
    {
     "data": {
      "text/html": [],
      "text/plain": [
       "<IPython.core.display.HTML object>"
      ]
     },
     "metadata": {},
     "output_type": "display_data"
    },
    {
     "data": {
      "text/html": [],
      "text/plain": [
       "<IPython.core.display.HTML object>"
      ]
     },
     "metadata": {},
     "output_type": "display_data"
    },
    {
     "data": {
      "text/html": [],
      "text/plain": [
       "<IPython.core.display.HTML object>"
      ]
     },
     "metadata": {},
     "output_type": "display_data"
    },
    {
     "name": "stderr",
     "output_type": "stream",
     "text": [
      "Exception ignored in: <function _releaseLock at 0x7fde50faca70>\n",
      "Traceback (most recent call last):\n",
      "  File \"/opt/conda/lib/python3.7/logging/__init__.py\", line 221, in _releaseLock\n",
      "    def _releaseLock():\n",
      "KeyboardInterrupt\n"
     ]
    },
    {
     "data": {
      "text/html": [],
      "text/plain": [
       "<IPython.core.display.HTML object>"
      ]
     },
     "metadata": {},
     "output_type": "display_data"
    },
    {
     "data": {
      "text/html": [],
      "text/plain": [
       "<IPython.core.display.HTML object>"
      ]
     },
     "metadata": {},
     "output_type": "display_data"
    },
    {
     "data": {
      "text/html": [],
      "text/plain": [
       "<IPython.core.display.HTML object>"
      ]
     },
     "metadata": {},
     "output_type": "display_data"
    },
    {
     "data": {
      "text/html": [],
      "text/plain": [
       "<IPython.core.display.HTML object>"
      ]
     },
     "metadata": {},
     "output_type": "display_data"
    },
    {
     "name": "stderr",
     "output_type": "stream",
     "text": [
      "Exception ignored in: <function _releaseLock at 0x7fde50faca70>\n",
      "Traceback (most recent call last):\n",
      "  File \"/opt/conda/lib/python3.7/logging/__init__.py\", line 221, in _releaseLock\n",
      "    def _releaseLock():\n",
      "KeyboardInterrupt\n"
     ]
    },
    {
     "ename": "KeyboardInterrupt",
     "evalue": "",
     "output_type": "error",
     "traceback": [
      "\u001b[0;31m---------------------------------------------------------------------------\u001b[0m",
      "\u001b[0;31mKeyboardInterrupt\u001b[0m                         Traceback (most recent call last)",
      "\u001b[0;32m<ipython-input-23-f53db38160f8>\u001b[0m in \u001b[0;36m<module>\u001b[0;34m\u001b[0m\n\u001b[0;32m----> 1\u001b[0;31m \u001b[0mpreds\u001b[0m \u001b[0;34m=\u001b[0m \u001b[0mdf_predict\u001b[0m\u001b[0;34m(\u001b[0m\u001b[0mlearn_inf\u001b[0m\u001b[0;34m,\u001b[0m \u001b[0mxs\u001b[0m\u001b[0;34m)\u001b[0m\u001b[0;34m\u001b[0m\u001b[0;34m\u001b[0m\u001b[0m\n\u001b[0m",
      "\u001b[0;32m<ipython-input-21-9b7ed222c0ff>\u001b[0m in \u001b[0;36mdf_predict\u001b[0;34m(learner, df)\u001b[0m\n\u001b[1;32m      1\u001b[0m \u001b[0;32mdef\u001b[0m \u001b[0mdf_predict\u001b[0m\u001b[0;34m(\u001b[0m\u001b[0mlearner\u001b[0m\u001b[0;34m,\u001b[0m \u001b[0mdf\u001b[0m\u001b[0;34m)\u001b[0m\u001b[0;34m:\u001b[0m\u001b[0;34m\u001b[0m\u001b[0;34m\u001b[0m\u001b[0m\n\u001b[0;32m----> 2\u001b[0;31m      \u001b[0mpreds\u001b[0m \u001b[0;34m=\u001b[0m \u001b[0mnp\u001b[0m\u001b[0;34m.\u001b[0m\u001b[0mstack\u001b[0m\u001b[0;34m(\u001b[0m\u001b[0;34m[\u001b[0m\u001b[0mlearner\u001b[0m\u001b[0;34m.\u001b[0m\u001b[0mpredict\u001b[0m\u001b[0;34m(\u001b[0m\u001b[0mdf\u001b[0m\u001b[0;34m.\u001b[0m\u001b[0miloc\u001b[0m\u001b[0;34m[\u001b[0m\u001b[0mrow\u001b[0m\u001b[0;34m]\u001b[0m\u001b[0;34m)\u001b[0m\u001b[0;34m[\u001b[0m\u001b[0;36m2\u001b[0m\u001b[0;34m]\u001b[0m\u001b[0;34m[\u001b[0m\u001b[0;36m1\u001b[0m\u001b[0;34m]\u001b[0m \u001b[0;32mfor\u001b[0m \u001b[0mrow\u001b[0m \u001b[0;32min\u001b[0m \u001b[0mrange\u001b[0m\u001b[0;34m(\u001b[0m\u001b[0mlen\u001b[0m\u001b[0;34m(\u001b[0m\u001b[0mdf\u001b[0m\u001b[0;34m)\u001b[0m\u001b[0;34m)\u001b[0m\u001b[0;34m]\u001b[0m\u001b[0;34m)\u001b[0m\u001b[0;34m\u001b[0m\u001b[0;34m\u001b[0m\u001b[0m\n\u001b[0m",
      "\u001b[0;32m<ipython-input-21-9b7ed222c0ff>\u001b[0m in \u001b[0;36m<listcomp>\u001b[0;34m(.0)\u001b[0m\n\u001b[1;32m      1\u001b[0m \u001b[0;32mdef\u001b[0m \u001b[0mdf_predict\u001b[0m\u001b[0;34m(\u001b[0m\u001b[0mlearner\u001b[0m\u001b[0;34m,\u001b[0m \u001b[0mdf\u001b[0m\u001b[0;34m)\u001b[0m\u001b[0;34m:\u001b[0m\u001b[0;34m\u001b[0m\u001b[0;34m\u001b[0m\u001b[0m\n\u001b[0;32m----> 2\u001b[0;31m      \u001b[0mpreds\u001b[0m \u001b[0;34m=\u001b[0m \u001b[0mnp\u001b[0m\u001b[0;34m.\u001b[0m\u001b[0mstack\u001b[0m\u001b[0;34m(\u001b[0m\u001b[0;34m[\u001b[0m\u001b[0mlearner\u001b[0m\u001b[0;34m.\u001b[0m\u001b[0mpredict\u001b[0m\u001b[0;34m(\u001b[0m\u001b[0mdf\u001b[0m\u001b[0;34m.\u001b[0m\u001b[0miloc\u001b[0m\u001b[0;34m[\u001b[0m\u001b[0mrow\u001b[0m\u001b[0;34m]\u001b[0m\u001b[0;34m)\u001b[0m\u001b[0;34m[\u001b[0m\u001b[0;36m2\u001b[0m\u001b[0;34m]\u001b[0m\u001b[0;34m[\u001b[0m\u001b[0;36m1\u001b[0m\u001b[0;34m]\u001b[0m \u001b[0;32mfor\u001b[0m \u001b[0mrow\u001b[0m \u001b[0;32min\u001b[0m \u001b[0mrange\u001b[0m\u001b[0;34m(\u001b[0m\u001b[0mlen\u001b[0m\u001b[0;34m(\u001b[0m\u001b[0mdf\u001b[0m\u001b[0;34m)\u001b[0m\u001b[0;34m)\u001b[0m\u001b[0;34m]\u001b[0m\u001b[0;34m)\u001b[0m\u001b[0;34m\u001b[0m\u001b[0;34m\u001b[0m\u001b[0m\n\u001b[0m",
      "\u001b[0;32m/opt/conda/lib/python3.7/site-packages/fastai/tabular/learner.py\u001b[0m in \u001b[0;36mpredict\u001b[0;34m(self, row, n_workers)\u001b[0m\n\u001b[1;32m     16\u001b[0m         \u001b[0mdl\u001b[0m \u001b[0;34m=\u001b[0m \u001b[0mself\u001b[0m\u001b[0;34m.\u001b[0m\u001b[0mdls\u001b[0m\u001b[0;34m.\u001b[0m\u001b[0mtest_dl\u001b[0m\u001b[0;34m(\u001b[0m\u001b[0mrow\u001b[0m\u001b[0;34m.\u001b[0m\u001b[0mto_frame\u001b[0m\u001b[0;34m(\u001b[0m\u001b[0;34m)\u001b[0m\u001b[0;34m.\u001b[0m\u001b[0mT\u001b[0m\u001b[0;34m,\u001b[0m \u001b[0mnum_workers\u001b[0m\u001b[0;34m=\u001b[0m\u001b[0;36m0\u001b[0m\u001b[0;34m)\u001b[0m\u001b[0;34m\u001b[0m\u001b[0;34m\u001b[0m\u001b[0m\n\u001b[1;32m     17\u001b[0m         \u001b[0mdl\u001b[0m\u001b[0;34m.\u001b[0m\u001b[0mdataset\u001b[0m\u001b[0;34m.\u001b[0m\u001b[0mconts\u001b[0m \u001b[0;34m=\u001b[0m \u001b[0mdl\u001b[0m\u001b[0;34m.\u001b[0m\u001b[0mdataset\u001b[0m\u001b[0;34m.\u001b[0m\u001b[0mconts\u001b[0m\u001b[0;34m.\u001b[0m\u001b[0mastype\u001b[0m\u001b[0;34m(\u001b[0m\u001b[0mnp\u001b[0m\u001b[0;34m.\u001b[0m\u001b[0mfloat32\u001b[0m\u001b[0;34m)\u001b[0m\u001b[0;34m\u001b[0m\u001b[0;34m\u001b[0m\u001b[0m\n\u001b[0;32m---> 18\u001b[0;31m         \u001b[0minp\u001b[0m\u001b[0;34m,\u001b[0m\u001b[0mpreds\u001b[0m\u001b[0;34m,\u001b[0m\u001b[0m_\u001b[0m\u001b[0;34m,\u001b[0m\u001b[0mdec_preds\u001b[0m \u001b[0;34m=\u001b[0m \u001b[0mself\u001b[0m\u001b[0;34m.\u001b[0m\u001b[0mget_preds\u001b[0m\u001b[0;34m(\u001b[0m\u001b[0mdl\u001b[0m\u001b[0;34m=\u001b[0m\u001b[0mdl\u001b[0m\u001b[0;34m,\u001b[0m \u001b[0mwith_input\u001b[0m\u001b[0;34m=\u001b[0m\u001b[0;32mTrue\u001b[0m\u001b[0;34m,\u001b[0m \u001b[0mwith_decoded\u001b[0m\u001b[0;34m=\u001b[0m\u001b[0;32mTrue\u001b[0m\u001b[0;34m)\u001b[0m\u001b[0;34m\u001b[0m\u001b[0;34m\u001b[0m\u001b[0m\n\u001b[0m\u001b[1;32m     19\u001b[0m         \u001b[0mb\u001b[0m \u001b[0;34m=\u001b[0m \u001b[0;34m(\u001b[0m\u001b[0;34m*\u001b[0m\u001b[0mtuplify\u001b[0m\u001b[0;34m(\u001b[0m\u001b[0minp\u001b[0m\u001b[0;34m)\u001b[0m\u001b[0;34m,\u001b[0m\u001b[0;34m*\u001b[0m\u001b[0mtuplify\u001b[0m\u001b[0;34m(\u001b[0m\u001b[0mdec_preds\u001b[0m\u001b[0;34m)\u001b[0m\u001b[0;34m)\u001b[0m\u001b[0;34m\u001b[0m\u001b[0;34m\u001b[0m\u001b[0m\n\u001b[1;32m     20\u001b[0m         \u001b[0mfull_dec\u001b[0m \u001b[0;34m=\u001b[0m \u001b[0mself\u001b[0m\u001b[0;34m.\u001b[0m\u001b[0mdls\u001b[0m\u001b[0;34m.\u001b[0m\u001b[0mdecode\u001b[0m\u001b[0;34m(\u001b[0m\u001b[0mb\u001b[0m\u001b[0;34m)\u001b[0m\u001b[0;34m\u001b[0m\u001b[0;34m\u001b[0m\u001b[0m\n",
      "\u001b[0;32m/opt/conda/lib/python3.7/site-packages/fastai/learner.py\u001b[0m in \u001b[0;36mget_preds\u001b[0;34m(self, ds_idx, dl, with_input, with_decoded, with_loss, act, inner, reorder, cbs, n_workers, **kwargs)\u001b[0m\n\u001b[1;32m    233\u001b[0m         \u001b[0;32mif\u001b[0m \u001b[0mwith_loss\u001b[0m\u001b[0;34m:\u001b[0m \u001b[0mctx_mgrs\u001b[0m\u001b[0;34m.\u001b[0m\u001b[0mappend\u001b[0m\u001b[0;34m(\u001b[0m\u001b[0mself\u001b[0m\u001b[0;34m.\u001b[0m\u001b[0mloss_not_reduced\u001b[0m\u001b[0;34m(\u001b[0m\u001b[0;34m)\u001b[0m\u001b[0;34m)\u001b[0m\u001b[0;34m\u001b[0m\u001b[0;34m\u001b[0m\u001b[0m\n\u001b[1;32m    234\u001b[0m         \u001b[0;32mwith\u001b[0m \u001b[0mContextManagers\u001b[0m\u001b[0;34m(\u001b[0m\u001b[0mctx_mgrs\u001b[0m\u001b[0;34m)\u001b[0m\u001b[0;34m:\u001b[0m\u001b[0;34m\u001b[0m\u001b[0;34m\u001b[0m\u001b[0m\n\u001b[0;32m--> 235\u001b[0;31m             \u001b[0mself\u001b[0m\u001b[0;34m.\u001b[0m\u001b[0m_do_epoch_validate\u001b[0m\u001b[0;34m(\u001b[0m\u001b[0mdl\u001b[0m\u001b[0;34m=\u001b[0m\u001b[0mdl\u001b[0m\u001b[0;34m)\u001b[0m\u001b[0;34m\u001b[0m\u001b[0;34m\u001b[0m\u001b[0m\n\u001b[0m\u001b[1;32m    236\u001b[0m             \u001b[0;32mif\u001b[0m \u001b[0mact\u001b[0m \u001b[0;32mis\u001b[0m \u001b[0;32mNone\u001b[0m\u001b[0;34m:\u001b[0m \u001b[0mact\u001b[0m \u001b[0;34m=\u001b[0m \u001b[0mgetattr\u001b[0m\u001b[0;34m(\u001b[0m\u001b[0mself\u001b[0m\u001b[0;34m.\u001b[0m\u001b[0mloss_func\u001b[0m\u001b[0;34m,\u001b[0m \u001b[0;34m'activation'\u001b[0m\u001b[0;34m,\u001b[0m \u001b[0mnoop\u001b[0m\u001b[0;34m)\u001b[0m\u001b[0;34m\u001b[0m\u001b[0;34m\u001b[0m\u001b[0m\n\u001b[1;32m    237\u001b[0m             \u001b[0mres\u001b[0m \u001b[0;34m=\u001b[0m \u001b[0mcb\u001b[0m\u001b[0;34m.\u001b[0m\u001b[0mall_tensors\u001b[0m\u001b[0;34m(\u001b[0m\u001b[0;34m)\u001b[0m\u001b[0;34m\u001b[0m\u001b[0;34m\u001b[0m\u001b[0m\n",
      "\u001b[0;32m/opt/conda/lib/python3.7/site-packages/fastai/learner.py\u001b[0m in \u001b[0;36m_do_epoch_validate\u001b[0;34m(self, ds_idx, dl)\u001b[0m\n\u001b[1;32m    186\u001b[0m         \u001b[0;32mif\u001b[0m \u001b[0mdl\u001b[0m \u001b[0;32mis\u001b[0m \u001b[0;32mNone\u001b[0m\u001b[0;34m:\u001b[0m \u001b[0mdl\u001b[0m \u001b[0;34m=\u001b[0m \u001b[0mself\u001b[0m\u001b[0;34m.\u001b[0m\u001b[0mdls\u001b[0m\u001b[0;34m[\u001b[0m\u001b[0mds_idx\u001b[0m\u001b[0;34m]\u001b[0m\u001b[0;34m\u001b[0m\u001b[0;34m\u001b[0m\u001b[0m\n\u001b[1;32m    187\u001b[0m         \u001b[0mself\u001b[0m\u001b[0;34m.\u001b[0m\u001b[0mdl\u001b[0m \u001b[0;34m=\u001b[0m \u001b[0mdl\u001b[0m\u001b[0;34m\u001b[0m\u001b[0;34m\u001b[0m\u001b[0m\n\u001b[0;32m--> 188\u001b[0;31m         \u001b[0;32mwith\u001b[0m \u001b[0mtorch\u001b[0m\u001b[0;34m.\u001b[0m\u001b[0mno_grad\u001b[0m\u001b[0;34m(\u001b[0m\u001b[0;34m)\u001b[0m\u001b[0;34m:\u001b[0m \u001b[0mself\u001b[0m\u001b[0;34m.\u001b[0m\u001b[0m_with_events\u001b[0m\u001b[0;34m(\u001b[0m\u001b[0mself\u001b[0m\u001b[0;34m.\u001b[0m\u001b[0mall_batches\u001b[0m\u001b[0;34m,\u001b[0m \u001b[0;34m'validate'\u001b[0m\u001b[0;34m,\u001b[0m \u001b[0mCancelValidException\u001b[0m\u001b[0;34m)\u001b[0m\u001b[0;34m\u001b[0m\u001b[0;34m\u001b[0m\u001b[0m\n\u001b[0m\u001b[1;32m    189\u001b[0m \u001b[0;34m\u001b[0m\u001b[0m\n\u001b[1;32m    190\u001b[0m     \u001b[0;32mdef\u001b[0m \u001b[0m_do_epoch\u001b[0m\u001b[0;34m(\u001b[0m\u001b[0mself\u001b[0m\u001b[0;34m)\u001b[0m\u001b[0;34m:\u001b[0m\u001b[0;34m\u001b[0m\u001b[0;34m\u001b[0m\u001b[0m\n",
      "\u001b[0;32m/opt/conda/lib/python3.7/site-packages/fastai/learner.py\u001b[0m in \u001b[0;36m_with_events\u001b[0;34m(self, f, event_type, ex, final)\u001b[0m\n\u001b[1;32m    153\u001b[0m \u001b[0;34m\u001b[0m\u001b[0m\n\u001b[1;32m    154\u001b[0m     \u001b[0;32mdef\u001b[0m \u001b[0m_with_events\u001b[0m\u001b[0;34m(\u001b[0m\u001b[0mself\u001b[0m\u001b[0;34m,\u001b[0m \u001b[0mf\u001b[0m\u001b[0;34m,\u001b[0m \u001b[0mevent_type\u001b[0m\u001b[0;34m,\u001b[0m \u001b[0mex\u001b[0m\u001b[0;34m,\u001b[0m \u001b[0mfinal\u001b[0m\u001b[0;34m=\u001b[0m\u001b[0mnoop\u001b[0m\u001b[0;34m)\u001b[0m\u001b[0;34m:\u001b[0m\u001b[0;34m\u001b[0m\u001b[0;34m\u001b[0m\u001b[0m\n\u001b[0;32m--> 155\u001b[0;31m         \u001b[0;32mtry\u001b[0m\u001b[0;34m:\u001b[0m       \u001b[0mself\u001b[0m\u001b[0;34m(\u001b[0m\u001b[0;34mf'before_{event_type}'\u001b[0m\u001b[0;34m)\u001b[0m       \u001b[0;34m;\u001b[0m\u001b[0mf\u001b[0m\u001b[0;34m(\u001b[0m\u001b[0;34m)\u001b[0m\u001b[0;34m\u001b[0m\u001b[0;34m\u001b[0m\u001b[0m\n\u001b[0m\u001b[1;32m    156\u001b[0m         \u001b[0;32mexcept\u001b[0m \u001b[0mex\u001b[0m\u001b[0;34m:\u001b[0m \u001b[0mself\u001b[0m\u001b[0;34m(\u001b[0m\u001b[0;34mf'after_cancel_{event_type}'\u001b[0m\u001b[0;34m)\u001b[0m\u001b[0;34m\u001b[0m\u001b[0;34m\u001b[0m\u001b[0m\n\u001b[1;32m    157\u001b[0m         \u001b[0;32mfinally\u001b[0m\u001b[0;34m:\u001b[0m   \u001b[0mself\u001b[0m\u001b[0;34m(\u001b[0m\u001b[0;34mf'after_{event_type}'\u001b[0m\u001b[0;34m)\u001b[0m        \u001b[0;34m;\u001b[0m\u001b[0mfinal\u001b[0m\u001b[0;34m(\u001b[0m\u001b[0;34m)\u001b[0m\u001b[0;34m\u001b[0m\u001b[0;34m\u001b[0m\u001b[0m\n",
      "\u001b[0;32m/opt/conda/lib/python3.7/site-packages/fastai/learner.py\u001b[0m in \u001b[0;36mall_batches\u001b[0;34m(self)\u001b[0m\n\u001b[1;32m    159\u001b[0m     \u001b[0;32mdef\u001b[0m \u001b[0mall_batches\u001b[0m\u001b[0;34m(\u001b[0m\u001b[0mself\u001b[0m\u001b[0;34m)\u001b[0m\u001b[0;34m:\u001b[0m\u001b[0;34m\u001b[0m\u001b[0;34m\u001b[0m\u001b[0m\n\u001b[1;32m    160\u001b[0m         \u001b[0mself\u001b[0m\u001b[0;34m.\u001b[0m\u001b[0mn_iter\u001b[0m \u001b[0;34m=\u001b[0m \u001b[0mlen\u001b[0m\u001b[0;34m(\u001b[0m\u001b[0mself\u001b[0m\u001b[0;34m.\u001b[0m\u001b[0mdl\u001b[0m\u001b[0;34m)\u001b[0m\u001b[0;34m\u001b[0m\u001b[0;34m\u001b[0m\u001b[0m\n\u001b[0;32m--> 161\u001b[0;31m         \u001b[0;32mfor\u001b[0m \u001b[0mo\u001b[0m \u001b[0;32min\u001b[0m \u001b[0menumerate\u001b[0m\u001b[0;34m(\u001b[0m\u001b[0mself\u001b[0m\u001b[0;34m.\u001b[0m\u001b[0mdl\u001b[0m\u001b[0;34m)\u001b[0m\u001b[0;34m:\u001b[0m \u001b[0mself\u001b[0m\u001b[0;34m.\u001b[0m\u001b[0mone_batch\u001b[0m\u001b[0;34m(\u001b[0m\u001b[0;34m*\u001b[0m\u001b[0mo\u001b[0m\u001b[0;34m)\u001b[0m\u001b[0;34m\u001b[0m\u001b[0;34m\u001b[0m\u001b[0m\n\u001b[0m\u001b[1;32m    162\u001b[0m \u001b[0;34m\u001b[0m\u001b[0m\n\u001b[1;32m    163\u001b[0m     \u001b[0;32mdef\u001b[0m \u001b[0m_do_one_batch\u001b[0m\u001b[0;34m(\u001b[0m\u001b[0mself\u001b[0m\u001b[0;34m)\u001b[0m\u001b[0;34m:\u001b[0m\u001b[0;34m\u001b[0m\u001b[0;34m\u001b[0m\u001b[0m\n",
      "\u001b[0;32m/opt/conda/lib/python3.7/site-packages/fastai/data/load.py\u001b[0m in \u001b[0;36m__iter__\u001b[0;34m(self)\u001b[0m\n\u001b[1;32m    101\u001b[0m         \u001b[0mself\u001b[0m\u001b[0;34m.\u001b[0m\u001b[0mrandomize\u001b[0m\u001b[0;34m(\u001b[0m\u001b[0;34m)\u001b[0m\u001b[0;34m\u001b[0m\u001b[0;34m\u001b[0m\u001b[0m\n\u001b[1;32m    102\u001b[0m         \u001b[0mself\u001b[0m\u001b[0;34m.\u001b[0m\u001b[0mbefore_iter\u001b[0m\u001b[0;34m(\u001b[0m\u001b[0;34m)\u001b[0m\u001b[0;34m\u001b[0m\u001b[0;34m\u001b[0m\u001b[0m\n\u001b[0;32m--> 103\u001b[0;31m         \u001b[0;32mfor\u001b[0m \u001b[0mb\u001b[0m \u001b[0;32min\u001b[0m \u001b[0m_loaders\u001b[0m\u001b[0;34m[\u001b[0m\u001b[0mself\u001b[0m\u001b[0;34m.\u001b[0m\u001b[0mfake_l\u001b[0m\u001b[0;34m.\u001b[0m\u001b[0mnum_workers\u001b[0m\u001b[0;34m==\u001b[0m\u001b[0;36m0\u001b[0m\u001b[0;34m]\u001b[0m\u001b[0;34m(\u001b[0m\u001b[0mself\u001b[0m\u001b[0;34m.\u001b[0m\u001b[0mfake_l\u001b[0m\u001b[0;34m)\u001b[0m\u001b[0;34m:\u001b[0m\u001b[0;34m\u001b[0m\u001b[0;34m\u001b[0m\u001b[0m\n\u001b[0m\u001b[1;32m    104\u001b[0m             \u001b[0;32mif\u001b[0m \u001b[0mself\u001b[0m\u001b[0;34m.\u001b[0m\u001b[0mdevice\u001b[0m \u001b[0;32mis\u001b[0m \u001b[0;32mnot\u001b[0m \u001b[0;32mNone\u001b[0m\u001b[0;34m:\u001b[0m \u001b[0mb\u001b[0m \u001b[0;34m=\u001b[0m \u001b[0mto_device\u001b[0m\u001b[0;34m(\u001b[0m\u001b[0mb\u001b[0m\u001b[0;34m,\u001b[0m \u001b[0mself\u001b[0m\u001b[0;34m.\u001b[0m\u001b[0mdevice\u001b[0m\u001b[0;34m)\u001b[0m\u001b[0;34m\u001b[0m\u001b[0;34m\u001b[0m\u001b[0m\n\u001b[1;32m    105\u001b[0m             \u001b[0;32myield\u001b[0m \u001b[0mself\u001b[0m\u001b[0;34m.\u001b[0m\u001b[0mafter_batch\u001b[0m\u001b[0;34m(\u001b[0m\u001b[0mb\u001b[0m\u001b[0;34m)\u001b[0m\u001b[0;34m\u001b[0m\u001b[0;34m\u001b[0m\u001b[0m\n",
      "\u001b[0;32m/opt/conda/lib/python3.7/site-packages/torch/utils/data/dataloader.py\u001b[0m in \u001b[0;36m__next__\u001b[0;34m(self)\u001b[0m\n\u001b[1;32m    361\u001b[0m \u001b[0;34m\u001b[0m\u001b[0m\n\u001b[1;32m    362\u001b[0m     \u001b[0;32mdef\u001b[0m \u001b[0m__next__\u001b[0m\u001b[0;34m(\u001b[0m\u001b[0mself\u001b[0m\u001b[0;34m)\u001b[0m\u001b[0;34m:\u001b[0m\u001b[0;34m\u001b[0m\u001b[0;34m\u001b[0m\u001b[0m\n\u001b[0;32m--> 363\u001b[0;31m         \u001b[0mdata\u001b[0m \u001b[0;34m=\u001b[0m \u001b[0mself\u001b[0m\u001b[0;34m.\u001b[0m\u001b[0m_next_data\u001b[0m\u001b[0;34m(\u001b[0m\u001b[0;34m)\u001b[0m\u001b[0;34m\u001b[0m\u001b[0;34m\u001b[0m\u001b[0m\n\u001b[0m\u001b[1;32m    364\u001b[0m         \u001b[0mself\u001b[0m\u001b[0;34m.\u001b[0m\u001b[0m_num_yielded\u001b[0m \u001b[0;34m+=\u001b[0m \u001b[0;36m1\u001b[0m\u001b[0;34m\u001b[0m\u001b[0;34m\u001b[0m\u001b[0m\n\u001b[1;32m    365\u001b[0m         \u001b[0;32mif\u001b[0m \u001b[0mself\u001b[0m\u001b[0;34m.\u001b[0m\u001b[0m_dataset_kind\u001b[0m \u001b[0;34m==\u001b[0m \u001b[0m_DatasetKind\u001b[0m\u001b[0;34m.\u001b[0m\u001b[0mIterable\u001b[0m \u001b[0;32mand\u001b[0m\u001b[0;31m \u001b[0m\u001b[0;31m\\\u001b[0m\u001b[0;34m\u001b[0m\u001b[0;34m\u001b[0m\u001b[0m\n",
      "\u001b[0;32m/opt/conda/lib/python3.7/site-packages/torch/utils/data/dataloader.py\u001b[0m in \u001b[0;36m_next_data\u001b[0;34m(self)\u001b[0m\n\u001b[1;32m    972\u001b[0m \u001b[0;34m\u001b[0m\u001b[0m\n\u001b[1;32m    973\u001b[0m             \u001b[0;32massert\u001b[0m \u001b[0;32mnot\u001b[0m \u001b[0mself\u001b[0m\u001b[0;34m.\u001b[0m\u001b[0m_shutdown\u001b[0m \u001b[0;32mand\u001b[0m \u001b[0mself\u001b[0m\u001b[0;34m.\u001b[0m\u001b[0m_tasks_outstanding\u001b[0m \u001b[0;34m>\u001b[0m \u001b[0;36m0\u001b[0m\u001b[0;34m\u001b[0m\u001b[0;34m\u001b[0m\u001b[0m\n\u001b[0;32m--> 974\u001b[0;31m             \u001b[0midx\u001b[0m\u001b[0;34m,\u001b[0m \u001b[0mdata\u001b[0m \u001b[0;34m=\u001b[0m \u001b[0mself\u001b[0m\u001b[0;34m.\u001b[0m\u001b[0m_get_data\u001b[0m\u001b[0;34m(\u001b[0m\u001b[0;34m)\u001b[0m\u001b[0;34m\u001b[0m\u001b[0;34m\u001b[0m\u001b[0m\n\u001b[0m\u001b[1;32m    975\u001b[0m             \u001b[0mself\u001b[0m\u001b[0;34m.\u001b[0m\u001b[0m_tasks_outstanding\u001b[0m \u001b[0;34m-=\u001b[0m \u001b[0;36m1\u001b[0m\u001b[0;34m\u001b[0m\u001b[0;34m\u001b[0m\u001b[0m\n\u001b[1;32m    976\u001b[0m \u001b[0;34m\u001b[0m\u001b[0m\n",
      "\u001b[0;32m/opt/conda/lib/python3.7/site-packages/torch/utils/data/dataloader.py\u001b[0m in \u001b[0;36m_get_data\u001b[0;34m(self)\u001b[0m\n\u001b[1;32m    939\u001b[0m         \u001b[0;32melse\u001b[0m\u001b[0;34m:\u001b[0m\u001b[0;34m\u001b[0m\u001b[0;34m\u001b[0m\u001b[0m\n\u001b[1;32m    940\u001b[0m             \u001b[0;32mwhile\u001b[0m \u001b[0;32mTrue\u001b[0m\u001b[0;34m:\u001b[0m\u001b[0;34m\u001b[0m\u001b[0;34m\u001b[0m\u001b[0m\n\u001b[0;32m--> 941\u001b[0;31m                 \u001b[0msuccess\u001b[0m\u001b[0;34m,\u001b[0m \u001b[0mdata\u001b[0m \u001b[0;34m=\u001b[0m \u001b[0mself\u001b[0m\u001b[0;34m.\u001b[0m\u001b[0m_try_get_data\u001b[0m\u001b[0;34m(\u001b[0m\u001b[0;34m)\u001b[0m\u001b[0;34m\u001b[0m\u001b[0;34m\u001b[0m\u001b[0m\n\u001b[0m\u001b[1;32m    942\u001b[0m                 \u001b[0;32mif\u001b[0m \u001b[0msuccess\u001b[0m\u001b[0;34m:\u001b[0m\u001b[0;34m\u001b[0m\u001b[0;34m\u001b[0m\u001b[0m\n\u001b[1;32m    943\u001b[0m                     \u001b[0;32mreturn\u001b[0m \u001b[0mdata\u001b[0m\u001b[0;34m\u001b[0m\u001b[0;34m\u001b[0m\u001b[0m\n",
      "\u001b[0;32m/opt/conda/lib/python3.7/site-packages/torch/utils/data/dataloader.py\u001b[0m in \u001b[0;36m_try_get_data\u001b[0;34m(self, timeout)\u001b[0m\n\u001b[1;32m    777\u001b[0m         \u001b[0;31m#   (bool: whether successfully get data, any: data if successful else None)\u001b[0m\u001b[0;34m\u001b[0m\u001b[0;34m\u001b[0m\u001b[0;34m\u001b[0m\u001b[0m\n\u001b[1;32m    778\u001b[0m         \u001b[0;32mtry\u001b[0m\u001b[0;34m:\u001b[0m\u001b[0;34m\u001b[0m\u001b[0;34m\u001b[0m\u001b[0m\n\u001b[0;32m--> 779\u001b[0;31m             \u001b[0mdata\u001b[0m \u001b[0;34m=\u001b[0m \u001b[0mself\u001b[0m\u001b[0;34m.\u001b[0m\u001b[0m_data_queue\u001b[0m\u001b[0;34m.\u001b[0m\u001b[0mget\u001b[0m\u001b[0;34m(\u001b[0m\u001b[0mtimeout\u001b[0m\u001b[0;34m=\u001b[0m\u001b[0mtimeout\u001b[0m\u001b[0;34m)\u001b[0m\u001b[0;34m\u001b[0m\u001b[0;34m\u001b[0m\u001b[0m\n\u001b[0m\u001b[1;32m    780\u001b[0m             \u001b[0;32mreturn\u001b[0m \u001b[0;34m(\u001b[0m\u001b[0;32mTrue\u001b[0m\u001b[0;34m,\u001b[0m \u001b[0mdata\u001b[0m\u001b[0;34m)\u001b[0m\u001b[0;34m\u001b[0m\u001b[0;34m\u001b[0m\u001b[0m\n\u001b[1;32m    781\u001b[0m         \u001b[0;32mexcept\u001b[0m \u001b[0mException\u001b[0m \u001b[0;32mas\u001b[0m \u001b[0me\u001b[0m\u001b[0;34m:\u001b[0m\u001b[0;34m\u001b[0m\u001b[0;34m\u001b[0m\u001b[0m\n",
      "\u001b[0;32m/opt/conda/lib/python3.7/multiprocessing/queues.py\u001b[0m in \u001b[0;36mget\u001b[0;34m(self, block, timeout)\u001b[0m\n\u001b[1;32m    102\u001b[0m                 \u001b[0;32mif\u001b[0m \u001b[0mblock\u001b[0m\u001b[0;34m:\u001b[0m\u001b[0;34m\u001b[0m\u001b[0;34m\u001b[0m\u001b[0m\n\u001b[1;32m    103\u001b[0m                     \u001b[0mtimeout\u001b[0m \u001b[0;34m=\u001b[0m \u001b[0mdeadline\u001b[0m \u001b[0;34m-\u001b[0m \u001b[0mtime\u001b[0m\u001b[0;34m.\u001b[0m\u001b[0mmonotonic\u001b[0m\u001b[0;34m(\u001b[0m\u001b[0;34m)\u001b[0m\u001b[0;34m\u001b[0m\u001b[0;34m\u001b[0m\u001b[0m\n\u001b[0;32m--> 104\u001b[0;31m                     \u001b[0;32mif\u001b[0m \u001b[0;32mnot\u001b[0m \u001b[0mself\u001b[0m\u001b[0;34m.\u001b[0m\u001b[0m_poll\u001b[0m\u001b[0;34m(\u001b[0m\u001b[0mtimeout\u001b[0m\u001b[0;34m)\u001b[0m\u001b[0;34m:\u001b[0m\u001b[0;34m\u001b[0m\u001b[0;34m\u001b[0m\u001b[0m\n\u001b[0m\u001b[1;32m    105\u001b[0m                         \u001b[0;32mraise\u001b[0m \u001b[0mEmpty\u001b[0m\u001b[0;34m\u001b[0m\u001b[0;34m\u001b[0m\u001b[0m\n\u001b[1;32m    106\u001b[0m                 \u001b[0;32melif\u001b[0m \u001b[0;32mnot\u001b[0m \u001b[0mself\u001b[0m\u001b[0;34m.\u001b[0m\u001b[0m_poll\u001b[0m\u001b[0;34m(\u001b[0m\u001b[0;34m)\u001b[0m\u001b[0;34m:\u001b[0m\u001b[0;34m\u001b[0m\u001b[0;34m\u001b[0m\u001b[0m\n",
      "\u001b[0;32m/opt/conda/lib/python3.7/multiprocessing/connection.py\u001b[0m in \u001b[0;36mpoll\u001b[0;34m(self, timeout)\u001b[0m\n\u001b[1;32m    255\u001b[0m         \u001b[0mself\u001b[0m\u001b[0;34m.\u001b[0m\u001b[0m_check_closed\u001b[0m\u001b[0;34m(\u001b[0m\u001b[0;34m)\u001b[0m\u001b[0;34m\u001b[0m\u001b[0;34m\u001b[0m\u001b[0m\n\u001b[1;32m    256\u001b[0m         \u001b[0mself\u001b[0m\u001b[0;34m.\u001b[0m\u001b[0m_check_readable\u001b[0m\u001b[0;34m(\u001b[0m\u001b[0;34m)\u001b[0m\u001b[0;34m\u001b[0m\u001b[0;34m\u001b[0m\u001b[0m\n\u001b[0;32m--> 257\u001b[0;31m         \u001b[0;32mreturn\u001b[0m \u001b[0mself\u001b[0m\u001b[0;34m.\u001b[0m\u001b[0m_poll\u001b[0m\u001b[0;34m(\u001b[0m\u001b[0mtimeout\u001b[0m\u001b[0;34m)\u001b[0m\u001b[0;34m\u001b[0m\u001b[0;34m\u001b[0m\u001b[0m\n\u001b[0m\u001b[1;32m    258\u001b[0m \u001b[0;34m\u001b[0m\u001b[0m\n\u001b[1;32m    259\u001b[0m     \u001b[0;32mdef\u001b[0m \u001b[0m__enter__\u001b[0m\u001b[0;34m(\u001b[0m\u001b[0mself\u001b[0m\u001b[0;34m)\u001b[0m\u001b[0;34m:\u001b[0m\u001b[0;34m\u001b[0m\u001b[0;34m\u001b[0m\u001b[0m\n",
      "\u001b[0;32m/opt/conda/lib/python3.7/multiprocessing/connection.py\u001b[0m in \u001b[0;36m_poll\u001b[0;34m(self, timeout)\u001b[0m\n\u001b[1;32m    412\u001b[0m \u001b[0;34m\u001b[0m\u001b[0m\n\u001b[1;32m    413\u001b[0m     \u001b[0;32mdef\u001b[0m \u001b[0m_poll\u001b[0m\u001b[0;34m(\u001b[0m\u001b[0mself\u001b[0m\u001b[0;34m,\u001b[0m \u001b[0mtimeout\u001b[0m\u001b[0;34m)\u001b[0m\u001b[0;34m:\u001b[0m\u001b[0;34m\u001b[0m\u001b[0;34m\u001b[0m\u001b[0m\n\u001b[0;32m--> 414\u001b[0;31m         \u001b[0mr\u001b[0m \u001b[0;34m=\u001b[0m \u001b[0mwait\u001b[0m\u001b[0;34m(\u001b[0m\u001b[0;34m[\u001b[0m\u001b[0mself\u001b[0m\u001b[0;34m]\u001b[0m\u001b[0;34m,\u001b[0m \u001b[0mtimeout\u001b[0m\u001b[0;34m)\u001b[0m\u001b[0;34m\u001b[0m\u001b[0;34m\u001b[0m\u001b[0m\n\u001b[0m\u001b[1;32m    415\u001b[0m         \u001b[0;32mreturn\u001b[0m \u001b[0mbool\u001b[0m\u001b[0;34m(\u001b[0m\u001b[0mr\u001b[0m\u001b[0;34m)\u001b[0m\u001b[0;34m\u001b[0m\u001b[0;34m\u001b[0m\u001b[0m\n\u001b[1;32m    416\u001b[0m \u001b[0;34m\u001b[0m\u001b[0m\n",
      "\u001b[0;32m/opt/conda/lib/python3.7/multiprocessing/connection.py\u001b[0m in \u001b[0;36mwait\u001b[0;34m(object_list, timeout)\u001b[0m\n\u001b[1;32m    918\u001b[0m \u001b[0;34m\u001b[0m\u001b[0m\n\u001b[1;32m    919\u001b[0m             \u001b[0;32mwhile\u001b[0m \u001b[0;32mTrue\u001b[0m\u001b[0;34m:\u001b[0m\u001b[0;34m\u001b[0m\u001b[0;34m\u001b[0m\u001b[0m\n\u001b[0;32m--> 920\u001b[0;31m                 \u001b[0mready\u001b[0m \u001b[0;34m=\u001b[0m \u001b[0mselector\u001b[0m\u001b[0;34m.\u001b[0m\u001b[0mselect\u001b[0m\u001b[0;34m(\u001b[0m\u001b[0mtimeout\u001b[0m\u001b[0;34m)\u001b[0m\u001b[0;34m\u001b[0m\u001b[0;34m\u001b[0m\u001b[0m\n\u001b[0m\u001b[1;32m    921\u001b[0m                 \u001b[0;32mif\u001b[0m \u001b[0mready\u001b[0m\u001b[0;34m:\u001b[0m\u001b[0;34m\u001b[0m\u001b[0;34m\u001b[0m\u001b[0m\n\u001b[1;32m    922\u001b[0m                     \u001b[0;32mreturn\u001b[0m \u001b[0;34m[\u001b[0m\u001b[0mkey\u001b[0m\u001b[0;34m.\u001b[0m\u001b[0mfileobj\u001b[0m \u001b[0;32mfor\u001b[0m \u001b[0;34m(\u001b[0m\u001b[0mkey\u001b[0m\u001b[0;34m,\u001b[0m \u001b[0mevents\u001b[0m\u001b[0;34m)\u001b[0m \u001b[0;32min\u001b[0m \u001b[0mready\u001b[0m\u001b[0;34m]\u001b[0m\u001b[0;34m\u001b[0m\u001b[0;34m\u001b[0m\u001b[0m\n",
      "\u001b[0;32m/opt/conda/lib/python3.7/selectors.py\u001b[0m in \u001b[0;36mselect\u001b[0;34m(self, timeout)\u001b[0m\n\u001b[1;32m    413\u001b[0m         \u001b[0mready\u001b[0m \u001b[0;34m=\u001b[0m \u001b[0;34m[\u001b[0m\u001b[0;34m]\u001b[0m\u001b[0;34m\u001b[0m\u001b[0;34m\u001b[0m\u001b[0m\n\u001b[1;32m    414\u001b[0m         \u001b[0;32mtry\u001b[0m\u001b[0;34m:\u001b[0m\u001b[0;34m\u001b[0m\u001b[0;34m\u001b[0m\u001b[0m\n\u001b[0;32m--> 415\u001b[0;31m             \u001b[0mfd_event_list\u001b[0m \u001b[0;34m=\u001b[0m \u001b[0mself\u001b[0m\u001b[0;34m.\u001b[0m\u001b[0m_selector\u001b[0m\u001b[0;34m.\u001b[0m\u001b[0mpoll\u001b[0m\u001b[0;34m(\u001b[0m\u001b[0mtimeout\u001b[0m\u001b[0;34m)\u001b[0m\u001b[0;34m\u001b[0m\u001b[0;34m\u001b[0m\u001b[0m\n\u001b[0m\u001b[1;32m    416\u001b[0m         \u001b[0;32mexcept\u001b[0m \u001b[0mInterruptedError\u001b[0m\u001b[0;34m:\u001b[0m\u001b[0;34m\u001b[0m\u001b[0;34m\u001b[0m\u001b[0m\n\u001b[1;32m    417\u001b[0m             \u001b[0;32mreturn\u001b[0m \u001b[0mready\u001b[0m\u001b[0;34m\u001b[0m\u001b[0;34m\u001b[0m\u001b[0m\n",
      "\u001b[0;31mKeyboardInterrupt\u001b[0m: "
     ]
    }
   ],
   "source": [
    "preds = df_predict(learn_inf, xs)"
   ]
  },
  {
   "cell_type": "markdown",
   "metadata": {},
   "source": [
    "## Ensemble"
   ]
  },
  {
   "cell_type": "code",
   "execution_count": 12,
   "metadata": {},
   "outputs": [],
   "source": [
    "rf_preds_train = rf.predict_proba(xs)[:,1]\n",
    "rf_preds_valid = rf.predict_proba(valid_xs)[:,1]\n",
    "\n",
    "histgbt_preds_train = gbt.predict_proba(xs)[:,1]\n",
    "histgbt_preds_valid = gbt.predict_proba(valid_xs)[:,1]\n",
    "\n",
    "#nn_preds =\n",
    "ens_preds_train =  (rf_preds_train + histgbt_preds_train) / 2\n",
    "ens_preds_valid =  (rf_preds_valid + histgbt_preds_valid) / 2"
   ]
  },
  {
   "cell_type": "code",
   "execution_count": 13,
   "metadata": {},
   "outputs": [
    {
     "data": {
      "text/plain": [
       "(0.999575031200241, 0.8964089764580041)"
      ]
     },
     "execution_count": 13,
     "metadata": {},
     "output_type": "execute_result"
    }
   ],
   "source": [
    "roc_auc_score(y, ens_preds_train), roc_auc_score(valid_y, ens_preds_valid)"
   ]
  },
  {
   "cell_type": "code",
   "execution_count": null,
   "metadata": {},
   "outputs": [],
   "source": []
  }
 ],
 "metadata": {
  "environment": {
   "name": "pytorch-gpu.1-4.m50",
   "type": "gcloud",
   "uri": "gcr.io/deeplearning-platform-release/pytorch-gpu.1-4:m50"
  },
  "kernelspec": {
   "display_name": "Python 3",
   "language": "python",
   "name": "python3"
  },
  "language_info": {
   "codemirror_mode": {
    "name": "ipython",
    "version": 3
   },
   "file_extension": ".py",
   "mimetype": "text/x-python",
   "name": "python",
   "nbconvert_exporter": "python",
   "pygments_lexer": "ipython3",
   "version": "3.8.5"
  },
  "toc": {
   "base_numbering": 1,
   "nav_menu": {},
   "number_sections": true,
   "sideBar": true,
   "skip_h1_title": false,
   "title_cell": "Table of Contents",
   "title_sidebar": "Contents",
   "toc_cell": false,
   "toc_position": {},
   "toc_section_display": true,
   "toc_window_display": false
  }
 },
 "nbformat": 4,
 "nbformat_minor": 4
}
