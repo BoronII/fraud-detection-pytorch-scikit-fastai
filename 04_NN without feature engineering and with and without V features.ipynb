{
 "cells": [
  {
   "cell_type": "markdown",
   "metadata": {
    "heading_collapsed": true
   },
   "source": [
    "# Data pre-processing"
   ]
  },
  {
   "cell_type": "code",
   "execution_count": 394,
   "metadata": {
    "hidden": true
   },
   "outputs": [],
   "source": [
    "%reload_ext autoreload\n",
    "%autoreload 2\n",
    "%matplotlib inline"
   ]
  },
  {
   "cell_type": "code",
   "execution_count": 395,
   "metadata": {
    "hidden": true
   },
   "outputs": [],
   "source": [
    "from fastai.tabular.all import *\n",
    "from fastai.metrics import * \n",
    "from sklearn.metrics import roc_auc_score \n",
    "\n",
    "\n",
    "path = Path('/Users/baranserajelahi/Codes/fraud-detection-pytorch-scikit-fastai/data')\n",
    "#path = Path('/home/jupyter/fraud-detection-pytorch-scikit-fastai/data')\n",
    "\n",
    "Path.BASE_PATH = path\n",
    "pd.options.display.max_rows = 500\n",
    "pd.options.display.max_columns = 300"
   ]
  },
  {
   "cell_type": "code",
   "execution_count": 396,
   "metadata": {
    "hidden": true
   },
   "outputs": [],
   "source": [
    "train_ss = pd.read_csv(path/'train_ss.csv', index_col=[0], low_memory=False)"
   ]
  },
  {
   "cell_type": "code",
   "execution_count": 397,
   "metadata": {
    "hidden": true,
    "scrolled": true
   },
   "outputs": [
    {
     "data": {
      "text/html": [
       "<div>\n",
       "<style scoped>\n",
       "    .dataframe tbody tr th:only-of-type {\n",
       "        vertical-align: middle;\n",
       "    }\n",
       "\n",
       "    .dataframe tbody tr th {\n",
       "        vertical-align: top;\n",
       "    }\n",
       "\n",
       "    .dataframe thead th {\n",
       "        text-align: right;\n",
       "    }\n",
       "</style>\n",
       "<table border=\"1\" class=\"dataframe\">\n",
       "  <thead>\n",
       "    <tr style=\"text-align: right;\">\n",
       "      <th></th>\n",
       "      <th>TransactionID</th>\n",
       "      <th>isFraud</th>\n",
       "      <th>TransactionDT</th>\n",
       "      <th>TransactionAmt</th>\n",
       "      <th>ProductCD</th>\n",
       "      <th>card1</th>\n",
       "      <th>card2</th>\n",
       "      <th>card3</th>\n",
       "      <th>card4</th>\n",
       "      <th>card5</th>\n",
       "      <th>card6</th>\n",
       "      <th>addr1</th>\n",
       "      <th>addr2</th>\n",
       "      <th>dist1</th>\n",
       "      <th>dist2</th>\n",
       "      <th>P_emaildomain</th>\n",
       "      <th>R_emaildomain</th>\n",
       "      <th>C1</th>\n",
       "      <th>C2</th>\n",
       "      <th>C3</th>\n",
       "      <th>C4</th>\n",
       "      <th>C5</th>\n",
       "      <th>C6</th>\n",
       "      <th>C7</th>\n",
       "      <th>C8</th>\n",
       "      <th>C9</th>\n",
       "      <th>C10</th>\n",
       "      <th>C11</th>\n",
       "      <th>C12</th>\n",
       "      <th>C13</th>\n",
       "      <th>C14</th>\n",
       "      <th>D1</th>\n",
       "      <th>D2</th>\n",
       "      <th>D3</th>\n",
       "      <th>D4</th>\n",
       "      <th>D5</th>\n",
       "      <th>D6</th>\n",
       "      <th>D7</th>\n",
       "      <th>D8</th>\n",
       "      <th>D9</th>\n",
       "      <th>D10</th>\n",
       "      <th>D11</th>\n",
       "      <th>D12</th>\n",
       "      <th>D13</th>\n",
       "      <th>D14</th>\n",
       "      <th>D15</th>\n",
       "      <th>M1</th>\n",
       "      <th>M2</th>\n",
       "      <th>M3</th>\n",
       "      <th>M4</th>\n",
       "      <th>M5</th>\n",
       "      <th>M6</th>\n",
       "      <th>M7</th>\n",
       "      <th>M8</th>\n",
       "      <th>M9</th>\n",
       "      <th>id_01</th>\n",
       "      <th>id_02</th>\n",
       "      <th>id_03</th>\n",
       "      <th>id_04</th>\n",
       "      <th>id_05</th>\n",
       "      <th>id_06</th>\n",
       "      <th>id_07</th>\n",
       "      <th>id_08</th>\n",
       "      <th>id_09</th>\n",
       "      <th>id_10</th>\n",
       "      <th>id_11</th>\n",
       "      <th>id_12</th>\n",
       "      <th>id_13</th>\n",
       "      <th>id_14</th>\n",
       "      <th>id_15</th>\n",
       "      <th>id_16</th>\n",
       "      <th>id_17</th>\n",
       "      <th>id_18</th>\n",
       "      <th>id_19</th>\n",
       "      <th>id_20</th>\n",
       "      <th>id_21</th>\n",
       "      <th>id_22</th>\n",
       "      <th>id_23</th>\n",
       "      <th>id_24</th>\n",
       "      <th>id_25</th>\n",
       "      <th>id_26</th>\n",
       "      <th>id_27</th>\n",
       "      <th>id_28</th>\n",
       "      <th>id_29</th>\n",
       "      <th>id_30</th>\n",
       "      <th>id_31</th>\n",
       "      <th>id_32</th>\n",
       "      <th>id_33</th>\n",
       "      <th>id_34</th>\n",
       "      <th>id_35</th>\n",
       "      <th>id_36</th>\n",
       "      <th>id_37</th>\n",
       "      <th>id_38</th>\n",
       "      <th>DeviceType</th>\n",
       "      <th>DeviceInfo</th>\n",
       "    </tr>\n",
       "  </thead>\n",
       "  <tbody>\n",
       "    <tr>\n",
       "      <th>44771</th>\n",
       "      <td>3031771</td>\n",
       "      <td>0</td>\n",
       "      <td>1087364</td>\n",
       "      <td>117.00</td>\n",
       "      <td>W</td>\n",
       "      <td>12932</td>\n",
       "      <td>361.0</td>\n",
       "      <td>150.0</td>\n",
       "      <td>visa</td>\n",
       "      <td>226.0</td>\n",
       "      <td>debit</td>\n",
       "      <td>204.0</td>\n",
       "      <td>87.0</td>\n",
       "      <td>8.0</td>\n",
       "      <td>NaN</td>\n",
       "      <td>gmail.com</td>\n",
       "      <td>NaN</td>\n",
       "      <td>4.0</td>\n",
       "      <td>3.0</td>\n",
       "      <td>0.0</td>\n",
       "      <td>0.0</td>\n",
       "      <td>0.0</td>\n",
       "      <td>3.0</td>\n",
       "      <td>0.0</td>\n",
       "      <td>0.0</td>\n",
       "      <td>3.0</td>\n",
       "      <td>0.0</td>\n",
       "      <td>2.0</td>\n",
       "      <td>0.0</td>\n",
       "      <td>14.0</td>\n",
       "      <td>4.0</td>\n",
       "      <td>8.0</td>\n",
       "      <td>8.0</td>\n",
       "      <td>1.0</td>\n",
       "      <td>225.0</td>\n",
       "      <td>1.0</td>\n",
       "      <td>NaN</td>\n",
       "      <td>NaN</td>\n",
       "      <td>NaN</td>\n",
       "      <td>NaN</td>\n",
       "      <td>8.0</td>\n",
       "      <td>232.0</td>\n",
       "      <td>NaN</td>\n",
       "      <td>NaN</td>\n",
       "      <td>NaN</td>\n",
       "      <td>113.0</td>\n",
       "      <td>T</td>\n",
       "      <td>T</td>\n",
       "      <td>T</td>\n",
       "      <td>M0</td>\n",
       "      <td>F</td>\n",
       "      <td>F</td>\n",
       "      <td>F</td>\n",
       "      <td>F</td>\n",
       "      <td>T</td>\n",
       "      <td>NaN</td>\n",
       "      <td>NaN</td>\n",
       "      <td>NaN</td>\n",
       "      <td>NaN</td>\n",
       "      <td>NaN</td>\n",
       "      <td>NaN</td>\n",
       "      <td>NaN</td>\n",
       "      <td>NaN</td>\n",
       "      <td>NaN</td>\n",
       "      <td>NaN</td>\n",
       "      <td>NaN</td>\n",
       "      <td>NaN</td>\n",
       "      <td>NaN</td>\n",
       "      <td>NaN</td>\n",
       "      <td>NaN</td>\n",
       "      <td>NaN</td>\n",
       "      <td>NaN</td>\n",
       "      <td>NaN</td>\n",
       "      <td>NaN</td>\n",
       "      <td>NaN</td>\n",
       "      <td>NaN</td>\n",
       "      <td>NaN</td>\n",
       "      <td>NaN</td>\n",
       "      <td>NaN</td>\n",
       "      <td>NaN</td>\n",
       "      <td>NaN</td>\n",
       "      <td>NaN</td>\n",
       "      <td>NaN</td>\n",
       "      <td>NaN</td>\n",
       "      <td>NaN</td>\n",
       "      <td>NaN</td>\n",
       "      <td>NaN</td>\n",
       "      <td>NaN</td>\n",
       "      <td>NaN</td>\n",
       "      <td>NaN</td>\n",
       "      <td>NaN</td>\n",
       "      <td>NaN</td>\n",
       "      <td>NaN</td>\n",
       "      <td>NaN</td>\n",
       "      <td>NaN</td>\n",
       "    </tr>\n",
       "    <tr>\n",
       "      <th>271831</th>\n",
       "      <td>3258831</td>\n",
       "      <td>0</td>\n",
       "      <td>6592563</td>\n",
       "      <td>22.96</td>\n",
       "      <td>C</td>\n",
       "      <td>5740</td>\n",
       "      <td>555.0</td>\n",
       "      <td>144.0</td>\n",
       "      <td>mastercard</td>\n",
       "      <td>224.0</td>\n",
       "      <td>credit</td>\n",
       "      <td>NaN</td>\n",
       "      <td>NaN</td>\n",
       "      <td>NaN</td>\n",
       "      <td>NaN</td>\n",
       "      <td>msn.com</td>\n",
       "      <td>msn.com</td>\n",
       "      <td>1.0</td>\n",
       "      <td>1.0</td>\n",
       "      <td>0.0</td>\n",
       "      <td>1.0</td>\n",
       "      <td>0.0</td>\n",
       "      <td>1.0</td>\n",
       "      <td>1.0</td>\n",
       "      <td>1.0</td>\n",
       "      <td>0.0</td>\n",
       "      <td>1.0</td>\n",
       "      <td>1.0</td>\n",
       "      <td>1.0</td>\n",
       "      <td>1.0</td>\n",
       "      <td>1.0</td>\n",
       "      <td>0.0</td>\n",
       "      <td>NaN</td>\n",
       "      <td>NaN</td>\n",
       "      <td>0.0</td>\n",
       "      <td>NaN</td>\n",
       "      <td>0.0</td>\n",
       "      <td>NaN</td>\n",
       "      <td>NaN</td>\n",
       "      <td>NaN</td>\n",
       "      <td>0.0</td>\n",
       "      <td>NaN</td>\n",
       "      <td>0.0</td>\n",
       "      <td>0.0</td>\n",
       "      <td>0.0</td>\n",
       "      <td>0.0</td>\n",
       "      <td>NaN</td>\n",
       "      <td>NaN</td>\n",
       "      <td>NaN</td>\n",
       "      <td>M0</td>\n",
       "      <td>NaN</td>\n",
       "      <td>NaN</td>\n",
       "      <td>NaN</td>\n",
       "      <td>NaN</td>\n",
       "      <td>NaN</td>\n",
       "      <td>-5.0</td>\n",
       "      <td>192686.0</td>\n",
       "      <td>NaN</td>\n",
       "      <td>NaN</td>\n",
       "      <td>0.0</td>\n",
       "      <td>0.0</td>\n",
       "      <td>NaN</td>\n",
       "      <td>NaN</td>\n",
       "      <td>NaN</td>\n",
       "      <td>NaN</td>\n",
       "      <td>100.0</td>\n",
       "      <td>NotFound</td>\n",
       "      <td>52.0</td>\n",
       "      <td>NaN</td>\n",
       "      <td>New</td>\n",
       "      <td>NotFound</td>\n",
       "      <td>102.0</td>\n",
       "      <td>15.0</td>\n",
       "      <td>340.0</td>\n",
       "      <td>474.0</td>\n",
       "      <td>NaN</td>\n",
       "      <td>NaN</td>\n",
       "      <td>NaN</td>\n",
       "      <td>NaN</td>\n",
       "      <td>NaN</td>\n",
       "      <td>NaN</td>\n",
       "      <td>NaN</td>\n",
       "      <td>New</td>\n",
       "      <td>NotFound</td>\n",
       "      <td>NaN</td>\n",
       "      <td>chrome 63.0</td>\n",
       "      <td>NaN</td>\n",
       "      <td>NaN</td>\n",
       "      <td>NaN</td>\n",
       "      <td>F</td>\n",
       "      <td>F</td>\n",
       "      <td>T</td>\n",
       "      <td>F</td>\n",
       "      <td>desktop</td>\n",
       "      <td>Windows</td>\n",
       "    </tr>\n",
       "    <tr>\n",
       "      <th>295064</th>\n",
       "      <td>3282064</td>\n",
       "      <td>0</td>\n",
       "      <td>7288908</td>\n",
       "      <td>24.50</td>\n",
       "      <td>W</td>\n",
       "      <td>7826</td>\n",
       "      <td>481.0</td>\n",
       "      <td>150.0</td>\n",
       "      <td>mastercard</td>\n",
       "      <td>224.0</td>\n",
       "      <td>debit</td>\n",
       "      <td>325.0</td>\n",
       "      <td>87.0</td>\n",
       "      <td>NaN</td>\n",
       "      <td>NaN</td>\n",
       "      <td>NaN</td>\n",
       "      <td>NaN</td>\n",
       "      <td>1.0</td>\n",
       "      <td>3.0</td>\n",
       "      <td>0.0</td>\n",
       "      <td>0.0</td>\n",
       "      <td>1.0</td>\n",
       "      <td>1.0</td>\n",
       "      <td>0.0</td>\n",
       "      <td>0.0</td>\n",
       "      <td>1.0</td>\n",
       "      <td>0.0</td>\n",
       "      <td>2.0</td>\n",
       "      <td>0.0</td>\n",
       "      <td>14.0</td>\n",
       "      <td>1.0</td>\n",
       "      <td>324.0</td>\n",
       "      <td>324.0</td>\n",
       "      <td>5.0</td>\n",
       "      <td>NaN</td>\n",
       "      <td>NaN</td>\n",
       "      <td>NaN</td>\n",
       "      <td>NaN</td>\n",
       "      <td>NaN</td>\n",
       "      <td>NaN</td>\n",
       "      <td>15.0</td>\n",
       "      <td>NaN</td>\n",
       "      <td>NaN</td>\n",
       "      <td>NaN</td>\n",
       "      <td>NaN</td>\n",
       "      <td>15.0</td>\n",
       "      <td>NaN</td>\n",
       "      <td>NaN</td>\n",
       "      <td>NaN</td>\n",
       "      <td>M1</td>\n",
       "      <td>T</td>\n",
       "      <td>NaN</td>\n",
       "      <td>NaN</td>\n",
       "      <td>NaN</td>\n",
       "      <td>NaN</td>\n",
       "      <td>NaN</td>\n",
       "      <td>NaN</td>\n",
       "      <td>NaN</td>\n",
       "      <td>NaN</td>\n",
       "      <td>NaN</td>\n",
       "      <td>NaN</td>\n",
       "      <td>NaN</td>\n",
       "      <td>NaN</td>\n",
       "      <td>NaN</td>\n",
       "      <td>NaN</td>\n",
       "      <td>NaN</td>\n",
       "      <td>NaN</td>\n",
       "      <td>NaN</td>\n",
       "      <td>NaN</td>\n",
       "      <td>NaN</td>\n",
       "      <td>NaN</td>\n",
       "      <td>NaN</td>\n",
       "      <td>NaN</td>\n",
       "      <td>NaN</td>\n",
       "      <td>NaN</td>\n",
       "      <td>NaN</td>\n",
       "      <td>NaN</td>\n",
       "      <td>NaN</td>\n",
       "      <td>NaN</td>\n",
       "      <td>NaN</td>\n",
       "      <td>NaN</td>\n",
       "      <td>NaN</td>\n",
       "      <td>NaN</td>\n",
       "      <td>NaN</td>\n",
       "      <td>NaN</td>\n",
       "      <td>NaN</td>\n",
       "      <td>NaN</td>\n",
       "      <td>NaN</td>\n",
       "      <td>NaN</td>\n",
       "      <td>NaN</td>\n",
       "      <td>NaN</td>\n",
       "      <td>NaN</td>\n",
       "      <td>NaN</td>\n",
       "      <td>NaN</td>\n",
       "      <td>NaN</td>\n",
       "    </tr>\n",
       "    <tr>\n",
       "      <th>248994</th>\n",
       "      <td>3235994</td>\n",
       "      <td>0</td>\n",
       "      <td>5938446</td>\n",
       "      <td>100.00</td>\n",
       "      <td>R</td>\n",
       "      <td>11156</td>\n",
       "      <td>399.0</td>\n",
       "      <td>150.0</td>\n",
       "      <td>american express</td>\n",
       "      <td>223.0</td>\n",
       "      <td>credit</td>\n",
       "      <td>325.0</td>\n",
       "      <td>87.0</td>\n",
       "      <td>NaN</td>\n",
       "      <td>NaN</td>\n",
       "      <td>gmail.com</td>\n",
       "      <td>gmail.com</td>\n",
       "      <td>1.0</td>\n",
       "      <td>1.0</td>\n",
       "      <td>0.0</td>\n",
       "      <td>1.0</td>\n",
       "      <td>0.0</td>\n",
       "      <td>1.0</td>\n",
       "      <td>0.0</td>\n",
       "      <td>1.0</td>\n",
       "      <td>0.0</td>\n",
       "      <td>1.0</td>\n",
       "      <td>1.0</td>\n",
       "      <td>0.0</td>\n",
       "      <td>1.0</td>\n",
       "      <td>1.0</td>\n",
       "      <td>0.0</td>\n",
       "      <td>NaN</td>\n",
       "      <td>NaN</td>\n",
       "      <td>NaN</td>\n",
       "      <td>NaN</td>\n",
       "      <td>NaN</td>\n",
       "      <td>NaN</td>\n",
       "      <td>NaN</td>\n",
       "      <td>NaN</td>\n",
       "      <td>NaN</td>\n",
       "      <td>NaN</td>\n",
       "      <td>NaN</td>\n",
       "      <td>NaN</td>\n",
       "      <td>NaN</td>\n",
       "      <td>NaN</td>\n",
       "      <td>NaN</td>\n",
       "      <td>NaN</td>\n",
       "      <td>NaN</td>\n",
       "      <td>NaN</td>\n",
       "      <td>NaN</td>\n",
       "      <td>NaN</td>\n",
       "      <td>NaN</td>\n",
       "      <td>NaN</td>\n",
       "      <td>NaN</td>\n",
       "      <td>-5.0</td>\n",
       "      <td>128724.0</td>\n",
       "      <td>NaN</td>\n",
       "      <td>NaN</td>\n",
       "      <td>0.0</td>\n",
       "      <td>0.0</td>\n",
       "      <td>NaN</td>\n",
       "      <td>NaN</td>\n",
       "      <td>NaN</td>\n",
       "      <td>NaN</td>\n",
       "      <td>100.0</td>\n",
       "      <td>NotFound</td>\n",
       "      <td>49.0</td>\n",
       "      <td>-300.0</td>\n",
       "      <td>New</td>\n",
       "      <td>NotFound</td>\n",
       "      <td>166.0</td>\n",
       "      <td>NaN</td>\n",
       "      <td>529.0</td>\n",
       "      <td>549.0</td>\n",
       "      <td>NaN</td>\n",
       "      <td>NaN</td>\n",
       "      <td>NaN</td>\n",
       "      <td>NaN</td>\n",
       "      <td>NaN</td>\n",
       "      <td>NaN</td>\n",
       "      <td>NaN</td>\n",
       "      <td>New</td>\n",
       "      <td>NotFound</td>\n",
       "      <td>Mac OS X 10.10</td>\n",
       "      <td>firefox 57.0</td>\n",
       "      <td>24.0</td>\n",
       "      <td>1280x720</td>\n",
       "      <td>match_status:2</td>\n",
       "      <td>T</td>\n",
       "      <td>F</td>\n",
       "      <td>T</td>\n",
       "      <td>F</td>\n",
       "      <td>desktop</td>\n",
       "      <td>rv:57.0</td>\n",
       "    </tr>\n",
       "    <tr>\n",
       "      <th>22055</th>\n",
       "      <td>3009055</td>\n",
       "      <td>0</td>\n",
       "      <td>579537</td>\n",
       "      <td>250.00</td>\n",
       "      <td>R</td>\n",
       "      <td>15063</td>\n",
       "      <td>514.0</td>\n",
       "      <td>150.0</td>\n",
       "      <td>visa</td>\n",
       "      <td>226.0</td>\n",
       "      <td>credit</td>\n",
       "      <td>310.0</td>\n",
       "      <td>87.0</td>\n",
       "      <td>NaN</td>\n",
       "      <td>74.0</td>\n",
       "      <td>gmail.com</td>\n",
       "      <td>anonymous.com</td>\n",
       "      <td>3.0</td>\n",
       "      <td>1.0</td>\n",
       "      <td>0.0</td>\n",
       "      <td>1.0</td>\n",
       "      <td>0.0</td>\n",
       "      <td>2.0</td>\n",
       "      <td>0.0</td>\n",
       "      <td>2.0</td>\n",
       "      <td>0.0</td>\n",
       "      <td>2.0</td>\n",
       "      <td>1.0</td>\n",
       "      <td>0.0</td>\n",
       "      <td>2.0</td>\n",
       "      <td>2.0</td>\n",
       "      <td>0.0</td>\n",
       "      <td>NaN</td>\n",
       "      <td>NaN</td>\n",
       "      <td>NaN</td>\n",
       "      <td>NaN</td>\n",
       "      <td>NaN</td>\n",
       "      <td>NaN</td>\n",
       "      <td>NaN</td>\n",
       "      <td>NaN</td>\n",
       "      <td>NaN</td>\n",
       "      <td>NaN</td>\n",
       "      <td>NaN</td>\n",
       "      <td>NaN</td>\n",
       "      <td>NaN</td>\n",
       "      <td>NaN</td>\n",
       "      <td>NaN</td>\n",
       "      <td>NaN</td>\n",
       "      <td>NaN</td>\n",
       "      <td>NaN</td>\n",
       "      <td>NaN</td>\n",
       "      <td>NaN</td>\n",
       "      <td>NaN</td>\n",
       "      <td>NaN</td>\n",
       "      <td>NaN</td>\n",
       "      <td>-5.0</td>\n",
       "      <td>142308.0</td>\n",
       "      <td>NaN</td>\n",
       "      <td>NaN</td>\n",
       "      <td>0.0</td>\n",
       "      <td>-8.0</td>\n",
       "      <td>NaN</td>\n",
       "      <td>NaN</td>\n",
       "      <td>NaN</td>\n",
       "      <td>NaN</td>\n",
       "      <td>100.0</td>\n",
       "      <td>NotFound</td>\n",
       "      <td>49.0</td>\n",
       "      <td>-420.0</td>\n",
       "      <td>New</td>\n",
       "      <td>NotFound</td>\n",
       "      <td>166.0</td>\n",
       "      <td>NaN</td>\n",
       "      <td>372.0</td>\n",
       "      <td>225.0</td>\n",
       "      <td>NaN</td>\n",
       "      <td>NaN</td>\n",
       "      <td>NaN</td>\n",
       "      <td>NaN</td>\n",
       "      <td>NaN</td>\n",
       "      <td>NaN</td>\n",
       "      <td>NaN</td>\n",
       "      <td>New</td>\n",
       "      <td>NotFound</td>\n",
       "      <td>Mac OS X 10_8_5</td>\n",
       "      <td>safari generic</td>\n",
       "      <td>24.0</td>\n",
       "      <td>2560x1440</td>\n",
       "      <td>match_status:2</td>\n",
       "      <td>T</td>\n",
       "      <td>F</td>\n",
       "      <td>F</td>\n",
       "      <td>F</td>\n",
       "      <td>desktop</td>\n",
       "      <td>MacOS</td>\n",
       "    </tr>\n",
       "  </tbody>\n",
       "</table>\n",
       "</div>"
      ],
      "text/plain": [
       "        TransactionID  isFraud  TransactionDT  TransactionAmt ProductCD  \\\n",
       "44771         3031771        0        1087364          117.00         W   \n",
       "271831        3258831        0        6592563           22.96         C   \n",
       "295064        3282064        0        7288908           24.50         W   \n",
       "248994        3235994        0        5938446          100.00         R   \n",
       "22055         3009055        0         579537          250.00         R   \n",
       "\n",
       "        card1  card2  card3             card4  card5   card6  addr1  addr2  \\\n",
       "44771   12932  361.0  150.0              visa  226.0   debit  204.0   87.0   \n",
       "271831   5740  555.0  144.0        mastercard  224.0  credit    NaN    NaN   \n",
       "295064   7826  481.0  150.0        mastercard  224.0   debit  325.0   87.0   \n",
       "248994  11156  399.0  150.0  american express  223.0  credit  325.0   87.0   \n",
       "22055   15063  514.0  150.0              visa  226.0  credit  310.0   87.0   \n",
       "\n",
       "        dist1  dist2 P_emaildomain  R_emaildomain   C1   C2   C3   C4   C5  \\\n",
       "44771     8.0    NaN     gmail.com            NaN  4.0  3.0  0.0  0.0  0.0   \n",
       "271831    NaN    NaN       msn.com        msn.com  1.0  1.0  0.0  1.0  0.0   \n",
       "295064    NaN    NaN           NaN            NaN  1.0  3.0  0.0  0.0  1.0   \n",
       "248994    NaN    NaN     gmail.com      gmail.com  1.0  1.0  0.0  1.0  0.0   \n",
       "22055     NaN   74.0     gmail.com  anonymous.com  3.0  1.0  0.0  1.0  0.0   \n",
       "\n",
       "         C6   C7   C8   C9  C10  C11  C12   C13  C14     D1     D2   D3  \\\n",
       "44771   3.0  0.0  0.0  3.0  0.0  2.0  0.0  14.0  4.0    8.0    8.0  1.0   \n",
       "271831  1.0  1.0  1.0  0.0  1.0  1.0  1.0   1.0  1.0    0.0    NaN  NaN   \n",
       "295064  1.0  0.0  0.0  1.0  0.0  2.0  0.0  14.0  1.0  324.0  324.0  5.0   \n",
       "248994  1.0  0.0  1.0  0.0  1.0  1.0  0.0   1.0  1.0    0.0    NaN  NaN   \n",
       "22055   2.0  0.0  2.0  0.0  2.0  1.0  0.0   2.0  2.0    0.0    NaN  NaN   \n",
       "\n",
       "           D4   D5   D6  D7  D8  D9   D10    D11  D12  D13  D14    D15   M1  \\\n",
       "44771   225.0  1.0  NaN NaN NaN NaN   8.0  232.0  NaN  NaN  NaN  113.0    T   \n",
       "271831    0.0  NaN  0.0 NaN NaN NaN   0.0    NaN  0.0  0.0  0.0    0.0  NaN   \n",
       "295064    NaN  NaN  NaN NaN NaN NaN  15.0    NaN  NaN  NaN  NaN   15.0  NaN   \n",
       "248994    NaN  NaN  NaN NaN NaN NaN   NaN    NaN  NaN  NaN  NaN    NaN  NaN   \n",
       "22055     NaN  NaN  NaN NaN NaN NaN   NaN    NaN  NaN  NaN  NaN    NaN  NaN   \n",
       "\n",
       "         M2   M3   M4   M5   M6   M7   M8   M9  id_01     id_02  id_03  id_04  \\\n",
       "44771     T    T   M0    F    F    F    F    T    NaN       NaN    NaN    NaN   \n",
       "271831  NaN  NaN   M0  NaN  NaN  NaN  NaN  NaN   -5.0  192686.0    NaN    NaN   \n",
       "295064  NaN  NaN   M1    T  NaN  NaN  NaN  NaN    NaN       NaN    NaN    NaN   \n",
       "248994  NaN  NaN  NaN  NaN  NaN  NaN  NaN  NaN   -5.0  128724.0    NaN    NaN   \n",
       "22055   NaN  NaN  NaN  NaN  NaN  NaN  NaN  NaN   -5.0  142308.0    NaN    NaN   \n",
       "\n",
       "        id_05  id_06  id_07  id_08  id_09  id_10  id_11     id_12  id_13  \\\n",
       "44771     NaN    NaN    NaN    NaN    NaN    NaN    NaN       NaN    NaN   \n",
       "271831    0.0    0.0    NaN    NaN    NaN    NaN  100.0  NotFound   52.0   \n",
       "295064    NaN    NaN    NaN    NaN    NaN    NaN    NaN       NaN    NaN   \n",
       "248994    0.0    0.0    NaN    NaN    NaN    NaN  100.0  NotFound   49.0   \n",
       "22055     0.0   -8.0    NaN    NaN    NaN    NaN  100.0  NotFound   49.0   \n",
       "\n",
       "        id_14 id_15     id_16  id_17  id_18  id_19  id_20  id_21  id_22 id_23  \\\n",
       "44771     NaN   NaN       NaN    NaN    NaN    NaN    NaN    NaN    NaN   NaN   \n",
       "271831    NaN   New  NotFound  102.0   15.0  340.0  474.0    NaN    NaN   NaN   \n",
       "295064    NaN   NaN       NaN    NaN    NaN    NaN    NaN    NaN    NaN   NaN   \n",
       "248994 -300.0   New  NotFound  166.0    NaN  529.0  549.0    NaN    NaN   NaN   \n",
       "22055  -420.0   New  NotFound  166.0    NaN  372.0  225.0    NaN    NaN   NaN   \n",
       "\n",
       "        id_24  id_25  id_26 id_27 id_28     id_29            id_30  \\\n",
       "44771     NaN    NaN    NaN   NaN   NaN       NaN              NaN   \n",
       "271831    NaN    NaN    NaN   NaN   New  NotFound              NaN   \n",
       "295064    NaN    NaN    NaN   NaN   NaN       NaN              NaN   \n",
       "248994    NaN    NaN    NaN   NaN   New  NotFound   Mac OS X 10.10   \n",
       "22055     NaN    NaN    NaN   NaN   New  NotFound  Mac OS X 10_8_5   \n",
       "\n",
       "                 id_31  id_32      id_33           id_34 id_35 id_36 id_37  \\\n",
       "44771              NaN    NaN        NaN             NaN   NaN   NaN   NaN   \n",
       "271831     chrome 63.0    NaN        NaN             NaN     F     F     T   \n",
       "295064             NaN    NaN        NaN             NaN   NaN   NaN   NaN   \n",
       "248994    firefox 57.0   24.0   1280x720  match_status:2     T     F     T   \n",
       "22055   safari generic   24.0  2560x1440  match_status:2     T     F     F   \n",
       "\n",
       "       id_38 DeviceType DeviceInfo  \n",
       "44771    NaN        NaN        NaN  \n",
       "271831     F    desktop    Windows  \n",
       "295064   NaN        NaN        NaN  \n",
       "248994     F    desktop    rv:57.0  \n",
       "22055      F    desktop      MacOS  "
      ]
     },
     "execution_count": 397,
     "metadata": {},
     "output_type": "execute_result"
    }
   ],
   "source": [
    "train_ss.head()"
   ]
  },
  {
   "cell_type": "code",
   "execution_count": 398,
   "metadata": {
    "hidden": true,
    "scrolled": true
   },
   "outputs": [
    {
     "data": {
      "text/plain": [
       "Index(['TransactionID', 'isFraud', 'TransactionDT', 'TransactionAmt',\n",
       "       'ProductCD', 'card1', 'card2', 'card3', 'card4', 'card5', 'card6',\n",
       "       'addr1', 'addr2', 'dist1', 'dist2', 'P_emaildomain', 'R_emaildomain',\n",
       "       'C1', 'C2', 'C3', 'C4', 'C5', 'C6', 'C7', 'C8', 'C9', 'C10', 'C11',\n",
       "       'C12', 'C13', 'C14', 'D1', 'D2', 'D3', 'D4', 'D5', 'D6', 'D7', 'D8',\n",
       "       'D9', 'D10', 'D11', 'D12', 'D13', 'D14', 'D15', 'M1', 'M2', 'M3', 'M4',\n",
       "       'M5', 'M6', 'M7', 'M8', 'M9', 'id_01', 'id_02', 'id_03', 'id_04',\n",
       "       'id_05', 'id_06', 'id_07', 'id_08', 'id_09', 'id_10', 'id_11', 'id_12',\n",
       "       'id_13', 'id_14', 'id_15', 'id_16', 'id_17', 'id_18', 'id_19', 'id_20',\n",
       "       'id_21', 'id_22', 'id_23', 'id_24', 'id_25', 'id_26', 'id_27', 'id_28',\n",
       "       'id_29', 'id_30', 'id_31', 'id_32', 'id_33', 'id_34', 'id_35', 'id_36',\n",
       "       'id_37', 'id_38', 'DeviceType', 'DeviceInfo'],\n",
       "      dtype='object')"
      ]
     },
     "execution_count": 398,
     "metadata": {},
     "output_type": "execute_result"
    }
   ],
   "source": [
    "train_ss.columns"
   ]
  },
  {
   "cell_type": "code",
   "execution_count": 399,
   "metadata": {
    "hidden": true
   },
   "outputs": [],
   "source": [
    "# I had to do this so that the learner would automatically use FlattenedLoss of \n",
    "# CrossEntropyLoss() as the loss function. Leaving the dep_var as an int causes \n",
    "# FlattenedLoss of MSELoss() to be chosen.\n",
    "train_ss['isFraud'] = train_ss['isFraud'].astype('category')"
   ]
  },
  {
   "cell_type": "code",
   "execution_count": 400,
   "metadata": {
    "hidden": true
   },
   "outputs": [
    {
     "data": {
      "text/plain": [
       "44771     0\n",
       "271831    0\n",
       "295064    0\n",
       "248994    0\n",
       "22055     0\n",
       "         ..\n",
       "5077      0\n",
       "253533    0\n",
       "10973     0\n",
       "380298    0\n",
       "420843    0\n",
       "Name: isFraud, Length: 59054, dtype: category\n",
       "Categories (2, int64): [0, 1]"
      ]
     },
     "execution_count": 400,
     "metadata": {},
     "output_type": "execute_result"
    }
   ],
   "source": [
    "train_ss['isFraud']"
   ]
  },
  {
   "cell_type": "code",
   "execution_count": 401,
   "metadata": {
    "hidden": true
   },
   "outputs": [],
   "source": [
    "cat = ['ProductCD', 'card1', 'card2', 'card3', 'card4', 'card5', 'card6', \n",
    "       'addr1', 'addr2', 'P_emaildomain', 'R_emaildomain', 'M1', 'M2', 'M3', \n",
    "       'M4', 'M5', 'M6', 'M7', 'M8', 'M9', 'DeviceType', 'DeviceInfo', 'id_12', \n",
    "       'id_13', 'id_14', 'id_15', 'id_16', 'id_17', 'id_18', 'id_19', 'id_20', \n",
    "       'id_21', 'id_22', 'id_23', 'id_24', 'id_25', 'id_26', 'id_27', 'id_28', \n",
    "       'id_29', 'id_30', 'id_31', 'id_32', 'id_33', 'id_34', 'id_35', 'id_36',\n",
    "       'id_37', 'id_38'] \n",
    "cont = ['TransactionID', 'TransactionDT', 'TransactionAmt',\n",
    "        'dist1', 'dist2', 'C1', 'C2', 'C3', 'C4', 'C5', 'C6', 'C7', 'C8', 'C9', \n",
    "        'C10', 'C11','C12', 'C13', 'C14', 'D1', 'D2', 'D3', 'D4', 'D5', 'D6', 'D7', \n",
    "        'D8', 'D9', 'D10', 'D11', 'D12', 'D13', 'D14', 'D15', 'id_01', 'id_02', \n",
    "        'id_03', 'id_04', 'id_05', 'id_06', 'id_07', 'id_08', 'id_09', 'id_10', \n",
    "        'id_11']\n",
    "dep_var = 'isFraud'"
   ]
  },
  {
   "cell_type": "code",
   "execution_count": 402,
   "metadata": {
    "hidden": true,
    "scrolled": true
   },
   "outputs": [
    {
     "data": {
      "text/plain": [
       "ProductCD           5\n",
       "card1            6185\n",
       "card2             499\n",
       "card3              73\n",
       "card4               4\n",
       "card5              77\n",
       "card6               3\n",
       "addr1             142\n",
       "addr2              38\n",
       "P_emaildomain      59\n",
       "R_emaildomain      59\n",
       "M1                  2\n",
       "M2                  2\n",
       "M3                  2\n",
       "M4                  3\n",
       "M5                  2\n",
       "M6                  2\n",
       "M7                  2\n",
       "M8                  2\n",
       "M9                  2\n",
       "DeviceType          2\n",
       "DeviceInfo        804\n",
       "id_12               2\n",
       "id_13              35\n",
       "id_14              17\n",
       "id_15               3\n",
       "id_16               2\n",
       "id_17              66\n",
       "id_18              12\n",
       "id_19             354\n",
       "id_20             212\n",
       "id_21             117\n",
       "id_22              14\n",
       "id_23               3\n",
       "id_24               9\n",
       "id_25             115\n",
       "id_26              53\n",
       "id_27               2\n",
       "id_28               2\n",
       "id_29               2\n",
       "id_30              72\n",
       "id_31             106\n",
       "id_32               3\n",
       "id_33             117\n",
       "id_34               3\n",
       "id_35               2\n",
       "id_36               2\n",
       "id_37               2\n",
       "id_38               2\n",
       "dtype: int64"
      ]
     },
     "execution_count": 402,
     "metadata": {},
     "output_type": "execute_result"
    }
   ],
   "source": [
    "train_ss[cat].nunique()"
   ]
  },
  {
   "cell_type": "markdown",
   "metadata": {
    "hidden": true
   },
   "source": [
    "There are a number of categorical variables where the number of categories has high cardinality, so deep learning might help us in this senerio."
   ]
  },
  {
   "cell_type": "code",
   "execution_count": 403,
   "metadata": {
    "hidden": true
   },
   "outputs": [
    {
     "data": {
      "text/plain": [
       "12579507"
      ]
     },
     "execution_count": 403,
     "metadata": {},
     "output_type": "execute_result"
    }
   ],
   "source": [
    "# The rows with TransactionDT <= 12579058 comprise the first 80% of the data (approximately)\n",
    "cut_off = math.floor((train_ss['TransactionDT'].max() - train_ss['TransactionDT'].min())*0.8)\n",
    "cut_off"
   ]
  },
  {
   "cell_type": "code",
   "execution_count": 404,
   "metadata": {
    "hidden": true
   },
   "outputs": [],
   "source": [
    "cond = train_ss['TransactionDT'] <= cut_off\n",
    "train_idx = np.where( cond)[0]\n",
    "valid_idx = np.where(~cond)[0]\n",
    "\n",
    "splits = (list(train_idx),list(valid_idx))"
   ]
  },
  {
   "cell_type": "code",
   "execution_count": 405,
   "metadata": {
    "hidden": true
   },
   "outputs": [
    {
     "data": {
      "text/plain": [
       "FlattenedLoss of CrossEntropyLoss()"
      ]
     },
     "execution_count": 405,
     "metadata": {},
     "output_type": "execute_result"
    }
   ],
   "source": [
    "procs_nn = [Categorify, FillMissing, Normalize]\n",
    "to_nn = TabularPandas(train_ss, procs_nn, cat, cont,\n",
    "                     splits=splits, y_names=dep_var)\n",
    "to_nn.loss_func"
   ]
  },
  {
   "cell_type": "code",
   "execution_count": 406,
   "metadata": {
    "hidden": true
   },
   "outputs": [],
   "source": [
    "(path/'to_nn.pkl').save(to_nn)"
   ]
  },
  {
   "cell_type": "markdown",
   "metadata": {
    "heading_collapsed": true
   },
   "source": [
    "# NN without V*** features"
   ]
  },
  {
   "cell_type": "code",
   "execution_count": 3,
   "metadata": {
    "hidden": true
   },
   "outputs": [],
   "source": [
    "to_nn = (path/'to_nn.pkl').load()"
   ]
  },
  {
   "cell_type": "code",
   "execution_count": 5,
   "metadata": {
    "hidden": true
   },
   "outputs": [
    {
     "data": {
      "text/html": [
       "<div>\n",
       "<style scoped>\n",
       "    .dataframe tbody tr th:only-of-type {\n",
       "        vertical-align: middle;\n",
       "    }\n",
       "\n",
       "    .dataframe tbody tr th {\n",
       "        vertical-align: top;\n",
       "    }\n",
       "\n",
       "    .dataframe thead th {\n",
       "        text-align: right;\n",
       "    }\n",
       "</style>\n",
       "<table border=\"1\" class=\"dataframe\">\n",
       "  <thead>\n",
       "    <tr style=\"text-align: right;\">\n",
       "      <th></th>\n",
       "      <th>TransactionID</th>\n",
       "      <th>isFraud</th>\n",
       "      <th>TransactionDT</th>\n",
       "      <th>TransactionAmt</th>\n",
       "      <th>ProductCD</th>\n",
       "      <th>card1</th>\n",
       "      <th>card2</th>\n",
       "      <th>card3</th>\n",
       "      <th>card4</th>\n",
       "      <th>card5</th>\n",
       "      <th>card6</th>\n",
       "      <th>addr1</th>\n",
       "      <th>addr2</th>\n",
       "      <th>dist1</th>\n",
       "      <th>dist2</th>\n",
       "      <th>P_emaildomain</th>\n",
       "      <th>R_emaildomain</th>\n",
       "      <th>C1</th>\n",
       "      <th>C2</th>\n",
       "      <th>C3</th>\n",
       "      <th>C4</th>\n",
       "      <th>C5</th>\n",
       "      <th>C6</th>\n",
       "      <th>C7</th>\n",
       "      <th>C8</th>\n",
       "      <th>C9</th>\n",
       "      <th>C10</th>\n",
       "      <th>C11</th>\n",
       "      <th>C12</th>\n",
       "      <th>C13</th>\n",
       "      <th>C14</th>\n",
       "      <th>D1</th>\n",
       "      <th>D2</th>\n",
       "      <th>D3</th>\n",
       "      <th>D4</th>\n",
       "      <th>D5</th>\n",
       "      <th>D6</th>\n",
       "      <th>D7</th>\n",
       "      <th>D8</th>\n",
       "      <th>D9</th>\n",
       "      <th>D10</th>\n",
       "      <th>D11</th>\n",
       "      <th>D12</th>\n",
       "      <th>D13</th>\n",
       "      <th>D14</th>\n",
       "      <th>D15</th>\n",
       "      <th>M1</th>\n",
       "      <th>M2</th>\n",
       "      <th>M3</th>\n",
       "      <th>M4</th>\n",
       "      <th>M5</th>\n",
       "      <th>M6</th>\n",
       "      <th>M7</th>\n",
       "      <th>M8</th>\n",
       "      <th>M9</th>\n",
       "      <th>id_01</th>\n",
       "      <th>id_02</th>\n",
       "      <th>id_03</th>\n",
       "      <th>id_04</th>\n",
       "      <th>id_05</th>\n",
       "      <th>id_06</th>\n",
       "      <th>id_07</th>\n",
       "      <th>id_08</th>\n",
       "      <th>id_09</th>\n",
       "      <th>id_10</th>\n",
       "      <th>id_11</th>\n",
       "      <th>id_12</th>\n",
       "      <th>id_13</th>\n",
       "      <th>id_14</th>\n",
       "      <th>id_15</th>\n",
       "      <th>id_16</th>\n",
       "      <th>id_17</th>\n",
       "      <th>id_18</th>\n",
       "      <th>id_19</th>\n",
       "      <th>id_20</th>\n",
       "      <th>id_21</th>\n",
       "      <th>id_22</th>\n",
       "      <th>id_23</th>\n",
       "      <th>id_24</th>\n",
       "      <th>id_25</th>\n",
       "      <th>id_26</th>\n",
       "      <th>id_27</th>\n",
       "      <th>id_28</th>\n",
       "      <th>id_29</th>\n",
       "      <th>id_30</th>\n",
       "      <th>id_31</th>\n",
       "      <th>id_32</th>\n",
       "      <th>id_33</th>\n",
       "      <th>id_34</th>\n",
       "      <th>id_35</th>\n",
       "      <th>id_36</th>\n",
       "      <th>id_37</th>\n",
       "      <th>id_38</th>\n",
       "      <th>DeviceType</th>\n",
       "      <th>DeviceInfo</th>\n",
       "      <th>dist1_na</th>\n",
       "      <th>dist2_na</th>\n",
       "      <th>D1_na</th>\n",
       "      <th>D2_na</th>\n",
       "      <th>D3_na</th>\n",
       "      <th>D4_na</th>\n",
       "      <th>D5_na</th>\n",
       "      <th>D6_na</th>\n",
       "      <th>D7_na</th>\n",
       "      <th>D8_na</th>\n",
       "      <th>D9_na</th>\n",
       "      <th>D10_na</th>\n",
       "      <th>D11_na</th>\n",
       "      <th>D12_na</th>\n",
       "      <th>D13_na</th>\n",
       "      <th>D14_na</th>\n",
       "      <th>D15_na</th>\n",
       "      <th>id_01_na</th>\n",
       "      <th>id_02_na</th>\n",
       "      <th>id_03_na</th>\n",
       "      <th>id_04_na</th>\n",
       "      <th>id_05_na</th>\n",
       "      <th>id_06_na</th>\n",
       "      <th>id_07_na</th>\n",
       "      <th>id_08_na</th>\n",
       "      <th>id_09_na</th>\n",
       "      <th>id_10_na</th>\n",
       "      <th>id_11_na</th>\n",
       "    </tr>\n",
       "  </thead>\n",
       "  <tbody>\n",
       "    <tr>\n",
       "      <th>57195</th>\n",
       "      <td>-1.322806</td>\n",
       "      <td>0</td>\n",
       "      <td>-1.245707</td>\n",
       "      <td>1.240415</td>\n",
       "      <td>5</td>\n",
       "      <td>1233</td>\n",
       "      <td>390</td>\n",
       "      <td>30</td>\n",
       "      <td>4</td>\n",
       "      <td>70</td>\n",
       "      <td>3</td>\n",
       "      <td>68</td>\n",
       "      <td>21</td>\n",
       "      <td>-0.183705</td>\n",
       "      <td>-0.092442</td>\n",
       "      <td>3</td>\n",
       "      <td>0</td>\n",
       "      <td>-0.089028</td>\n",
       "      <td>-0.090942</td>\n",
       "      <td>-0.034647</td>\n",
       "      <td>-0.061955</td>\n",
       "      <td>-0.134384</td>\n",
       "      <td>-0.109859</td>\n",
       "      <td>-0.050231</td>\n",
       "      <td>-0.056906</td>\n",
       "      <td>-0.203488</td>\n",
       "      <td>-0.057582</td>\n",
       "      <td>-0.096037</td>\n",
       "      <td>-0.051114</td>\n",
       "      <td>-0.224706</td>\n",
       "      <td>-0.123058</td>\n",
       "      <td>2.468850</td>\n",
       "      <td>-0.280162</td>\n",
       "      <td>9.471498</td>\n",
       "      <td>1.122761</td>\n",
       "      <td>4.260183</td>\n",
       "      <td>-0.145077</td>\n",
       "      <td>-0.097696</td>\n",
       "      <td>-0.154975</td>\n",
       "      <td>0.113073</td>\n",
       "      <td>1.089056</td>\n",
       "      <td>-0.372027</td>\n",
       "      <td>-0.133032</td>\n",
       "      <td>-0.07686</td>\n",
       "      <td>-0.121596</td>\n",
       "      <td>0.805232</td>\n",
       "      <td>0</td>\n",
       "      <td>0</td>\n",
       "      <td>0</td>\n",
       "      <td>0</td>\n",
       "      <td>0</td>\n",
       "      <td>2</td>\n",
       "      <td>0</td>\n",
       "      <td>0</td>\n",
       "      <td>0</td>\n",
       "      <td>0.167473</td>\n",
       "      <td>-0.148303</td>\n",
       "      <td>-0.035881</td>\n",
       "      <td>0.027773</td>\n",
       "      <td>-0.153702</td>\n",
       "      <td>0.186117</td>\n",
       "      <td>-0.000152</td>\n",
       "      <td>0.018447</td>\n",
       "      <td>-0.031211</td>\n",
       "      <td>0.036798</td>\n",
       "      <td>0.117061</td>\n",
       "      <td>0</td>\n",
       "      <td>0</td>\n",
       "      <td>0</td>\n",
       "      <td>0</td>\n",
       "      <td>0</td>\n",
       "      <td>0</td>\n",
       "      <td>0</td>\n",
       "      <td>0</td>\n",
       "      <td>0</td>\n",
       "      <td>0</td>\n",
       "      <td>0</td>\n",
       "      <td>0</td>\n",
       "      <td>0</td>\n",
       "      <td>0</td>\n",
       "      <td>0</td>\n",
       "      <td>0</td>\n",
       "      <td>0</td>\n",
       "      <td>0</td>\n",
       "      <td>0</td>\n",
       "      <td>0</td>\n",
       "      <td>0</td>\n",
       "      <td>0</td>\n",
       "      <td>0</td>\n",
       "      <td>0</td>\n",
       "      <td>0</td>\n",
       "      <td>0</td>\n",
       "      <td>0</td>\n",
       "      <td>0</td>\n",
       "      <td>0</td>\n",
       "      <td>2</td>\n",
       "      <td>2</td>\n",
       "      <td>1</td>\n",
       "      <td>2</td>\n",
       "      <td>1</td>\n",
       "      <td>1</td>\n",
       "      <td>1</td>\n",
       "      <td>2</td>\n",
       "      <td>2</td>\n",
       "      <td>2</td>\n",
       "      <td>2</td>\n",
       "      <td>1</td>\n",
       "      <td>2</td>\n",
       "      <td>2</td>\n",
       "      <td>2</td>\n",
       "      <td>2</td>\n",
       "      <td>1</td>\n",
       "      <td>2</td>\n",
       "      <td>2</td>\n",
       "      <td>2</td>\n",
       "      <td>2</td>\n",
       "      <td>2</td>\n",
       "      <td>2</td>\n",
       "      <td>2</td>\n",
       "      <td>2</td>\n",
       "      <td>2</td>\n",
       "      <td>2</td>\n",
       "      <td>2</td>\n",
       "    </tr>\n",
       "    <tr>\n",
       "      <th>312877</th>\n",
       "      <td>0.506394</td>\n",
       "      <td>0</td>\n",
       "      <td>0.519150</td>\n",
       "      <td>-0.328971</td>\n",
       "      <td>5</td>\n",
       "      <td>3740</td>\n",
       "      <td>168</td>\n",
       "      <td>30</td>\n",
       "      <td>4</td>\n",
       "      <td>40</td>\n",
       "      <td>3</td>\n",
       "      <td>70</td>\n",
       "      <td>21</td>\n",
       "      <td>-0.200412</td>\n",
       "      <td>-0.092442</td>\n",
       "      <td>17</td>\n",
       "      <td>0</td>\n",
       "      <td>-0.068799</td>\n",
       "      <td>-0.079297</td>\n",
       "      <td>-0.034647</td>\n",
       "      <td>-0.061955</td>\n",
       "      <td>-0.174292</td>\n",
       "      <td>-0.097012</td>\n",
       "      <td>-0.050231</td>\n",
       "      <td>-0.056906</td>\n",
       "      <td>-0.203488</td>\n",
       "      <td>-0.057582</td>\n",
       "      <td>-0.096037</td>\n",
       "      <td>-0.051114</td>\n",
       "      <td>-0.150241</td>\n",
       "      <td>-0.085467</td>\n",
       "      <td>-0.590402</td>\n",
       "      <td>-0.280162</td>\n",
       "      <td>-0.233869</td>\n",
       "      <td>1.378097</td>\n",
       "      <td>2.774099</td>\n",
       "      <td>-0.145077</td>\n",
       "      <td>-0.097696</td>\n",
       "      <td>-0.154975</td>\n",
       "      <td>0.113073</td>\n",
       "      <td>1.751793</td>\n",
       "      <td>1.585534</td>\n",
       "      <td>-0.133032</td>\n",
       "      <td>-0.07686</td>\n",
       "      <td>-0.121596</td>\n",
       "      <td>1.033601</td>\n",
       "      <td>2</td>\n",
       "      <td>2</td>\n",
       "      <td>2</td>\n",
       "      <td>1</td>\n",
       "      <td>1</td>\n",
       "      <td>2</td>\n",
       "      <td>1</td>\n",
       "      <td>2</td>\n",
       "      <td>2</td>\n",
       "      <td>0.167473</td>\n",
       "      <td>-0.148303</td>\n",
       "      <td>-0.035881</td>\n",
       "      <td>0.027773</td>\n",
       "      <td>-0.153702</td>\n",
       "      <td>0.186117</td>\n",
       "      <td>-0.000152</td>\n",
       "      <td>0.018447</td>\n",
       "      <td>-0.031211</td>\n",
       "      <td>0.036798</td>\n",
       "      <td>0.117061</td>\n",
       "      <td>0</td>\n",
       "      <td>0</td>\n",
       "      <td>0</td>\n",
       "      <td>0</td>\n",
       "      <td>0</td>\n",
       "      <td>0</td>\n",
       "      <td>0</td>\n",
       "      <td>0</td>\n",
       "      <td>0</td>\n",
       "      <td>0</td>\n",
       "      <td>0</td>\n",
       "      <td>0</td>\n",
       "      <td>0</td>\n",
       "      <td>0</td>\n",
       "      <td>0</td>\n",
       "      <td>0</td>\n",
       "      <td>0</td>\n",
       "      <td>0</td>\n",
       "      <td>0</td>\n",
       "      <td>0</td>\n",
       "      <td>0</td>\n",
       "      <td>0</td>\n",
       "      <td>0</td>\n",
       "      <td>0</td>\n",
       "      <td>0</td>\n",
       "      <td>0</td>\n",
       "      <td>0</td>\n",
       "      <td>0</td>\n",
       "      <td>0</td>\n",
       "      <td>1</td>\n",
       "      <td>2</td>\n",
       "      <td>1</td>\n",
       "      <td>2</td>\n",
       "      <td>2</td>\n",
       "      <td>1</td>\n",
       "      <td>1</td>\n",
       "      <td>2</td>\n",
       "      <td>2</td>\n",
       "      <td>2</td>\n",
       "      <td>2</td>\n",
       "      <td>1</td>\n",
       "      <td>1</td>\n",
       "      <td>2</td>\n",
       "      <td>2</td>\n",
       "      <td>2</td>\n",
       "      <td>1</td>\n",
       "      <td>2</td>\n",
       "      <td>2</td>\n",
       "      <td>2</td>\n",
       "      <td>2</td>\n",
       "      <td>2</td>\n",
       "      <td>2</td>\n",
       "      <td>2</td>\n",
       "      <td>2</td>\n",
       "      <td>2</td>\n",
       "      <td>2</td>\n",
       "      <td>2</td>\n",
       "    </tr>\n",
       "    <tr>\n",
       "      <th>195195</th>\n",
       "      <td>-0.335527</td>\n",
       "      <td>1</td>\n",
       "      <td>-0.405201</td>\n",
       "      <td>-0.459771</td>\n",
       "      <td>5</td>\n",
       "      <td>1196</td>\n",
       "      <td>317</td>\n",
       "      <td>30</td>\n",
       "      <td>4</td>\n",
       "      <td>51</td>\n",
       "      <td>3</td>\n",
       "      <td>64</td>\n",
       "      <td>21</td>\n",
       "      <td>-0.212942</td>\n",
       "      <td>-0.092442</td>\n",
       "      <td>54</td>\n",
       "      <td>0</td>\n",
       "      <td>-0.095771</td>\n",
       "      <td>-0.085119</td>\n",
       "      <td>-0.034647</td>\n",
       "      <td>-0.061955</td>\n",
       "      <td>-0.214200</td>\n",
       "      <td>-0.109859</td>\n",
       "      <td>-0.050231</td>\n",
       "      <td>-0.056906</td>\n",
       "      <td>-0.141792</td>\n",
       "      <td>-0.057582</td>\n",
       "      <td>-0.086453</td>\n",
       "      <td>-0.051114</td>\n",
       "      <td>-0.180027</td>\n",
       "      <td>-0.141853</td>\n",
       "      <td>-0.259847</td>\n",
       "      <td>-0.634464</td>\n",
       "      <td>-0.404513</td>\n",
       "      <td>-0.318066</td>\n",
       "      <td>-0.391905</td>\n",
       "      <td>-0.145077</td>\n",
       "      <td>-0.097696</td>\n",
       "      <td>-0.154975</td>\n",
       "      <td>0.113073</td>\n",
       "      <td>-0.313342</td>\n",
       "      <td>-0.261222</td>\n",
       "      <td>-0.133032</td>\n",
       "      <td>-0.07686</td>\n",
       "      <td>-0.121596</td>\n",
       "      <td>-0.483425</td>\n",
       "      <td>2</td>\n",
       "      <td>2</td>\n",
       "      <td>2</td>\n",
       "      <td>1</td>\n",
       "      <td>2</td>\n",
       "      <td>1</td>\n",
       "      <td>1</td>\n",
       "      <td>2</td>\n",
       "      <td>2</td>\n",
       "      <td>0.167473</td>\n",
       "      <td>-0.148303</td>\n",
       "      <td>-0.035881</td>\n",
       "      <td>0.027773</td>\n",
       "      <td>-0.153702</td>\n",
       "      <td>0.186117</td>\n",
       "      <td>-0.000152</td>\n",
       "      <td>0.018447</td>\n",
       "      <td>-0.031211</td>\n",
       "      <td>0.036798</td>\n",
       "      <td>0.117061</td>\n",
       "      <td>0</td>\n",
       "      <td>0</td>\n",
       "      <td>0</td>\n",
       "      <td>0</td>\n",
       "      <td>0</td>\n",
       "      <td>0</td>\n",
       "      <td>0</td>\n",
       "      <td>0</td>\n",
       "      <td>0</td>\n",
       "      <td>0</td>\n",
       "      <td>0</td>\n",
       "      <td>0</td>\n",
       "      <td>0</td>\n",
       "      <td>0</td>\n",
       "      <td>0</td>\n",
       "      <td>0</td>\n",
       "      <td>0</td>\n",
       "      <td>0</td>\n",
       "      <td>0</td>\n",
       "      <td>0</td>\n",
       "      <td>0</td>\n",
       "      <td>0</td>\n",
       "      <td>0</td>\n",
       "      <td>0</td>\n",
       "      <td>0</td>\n",
       "      <td>0</td>\n",
       "      <td>0</td>\n",
       "      <td>0</td>\n",
       "      <td>0</td>\n",
       "      <td>1</td>\n",
       "      <td>2</td>\n",
       "      <td>1</td>\n",
       "      <td>1</td>\n",
       "      <td>1</td>\n",
       "      <td>1</td>\n",
       "      <td>1</td>\n",
       "      <td>2</td>\n",
       "      <td>2</td>\n",
       "      <td>2</td>\n",
       "      <td>2</td>\n",
       "      <td>1</td>\n",
       "      <td>1</td>\n",
       "      <td>2</td>\n",
       "      <td>2</td>\n",
       "      <td>2</td>\n",
       "      <td>1</td>\n",
       "      <td>2</td>\n",
       "      <td>2</td>\n",
       "      <td>2</td>\n",
       "      <td>2</td>\n",
       "      <td>2</td>\n",
       "      <td>2</td>\n",
       "      <td>2</td>\n",
       "      <td>2</td>\n",
       "      <td>2</td>\n",
       "      <td>2</td>\n",
       "      <td>2</td>\n",
       "    </tr>\n",
       "    <tr>\n",
       "      <th>21600</th>\n",
       "      <td>-1.577460</td>\n",
       "      <td>0</td>\n",
       "      <td>-1.448797</td>\n",
       "      <td>-0.481571</td>\n",
       "      <td>5</td>\n",
       "      <td>2236</td>\n",
       "      <td>94</td>\n",
       "      <td>30</td>\n",
       "      <td>3</td>\n",
       "      <td>57</td>\n",
       "      <td>3</td>\n",
       "      <td>6</td>\n",
       "      <td>21</td>\n",
       "      <td>-0.217119</td>\n",
       "      <td>-0.092442</td>\n",
       "      <td>0</td>\n",
       "      <td>0</td>\n",
       "      <td>-0.095771</td>\n",
       "      <td>-0.090942</td>\n",
       "      <td>-0.034647</td>\n",
       "      <td>-0.061955</td>\n",
       "      <td>-0.214200</td>\n",
       "      <td>-0.122707</td>\n",
       "      <td>-0.050231</td>\n",
       "      <td>-0.056906</td>\n",
       "      <td>-0.203488</td>\n",
       "      <td>-0.057582</td>\n",
       "      <td>-0.096037</td>\n",
       "      <td>-0.051114</td>\n",
       "      <td>-0.232152</td>\n",
       "      <td>-0.141853</td>\n",
       "      <td>-0.590402</td>\n",
       "      <td>-0.280162</td>\n",
       "      <td>-0.233869</td>\n",
       "      <td>-0.482211</td>\n",
       "      <td>-0.246527</td>\n",
       "      <td>-0.145077</td>\n",
       "      <td>-0.097696</td>\n",
       "      <td>-0.154975</td>\n",
       "      <td>0.113073</td>\n",
       "      <td>-0.615123</td>\n",
       "      <td>-0.637960</td>\n",
       "      <td>-0.133032</td>\n",
       "      <td>-0.07686</td>\n",
       "      <td>-0.121596</td>\n",
       "      <td>-0.760731</td>\n",
       "      <td>2</td>\n",
       "      <td>2</td>\n",
       "      <td>2</td>\n",
       "      <td>2</td>\n",
       "      <td>2</td>\n",
       "      <td>1</td>\n",
       "      <td>0</td>\n",
       "      <td>0</td>\n",
       "      <td>0</td>\n",
       "      <td>0.167473</td>\n",
       "      <td>-0.148303</td>\n",
       "      <td>-0.035881</td>\n",
       "      <td>0.027773</td>\n",
       "      <td>-0.153702</td>\n",
       "      <td>0.186117</td>\n",
       "      <td>-0.000152</td>\n",
       "      <td>0.018447</td>\n",
       "      <td>-0.031211</td>\n",
       "      <td>0.036798</td>\n",
       "      <td>0.117061</td>\n",
       "      <td>0</td>\n",
       "      <td>0</td>\n",
       "      <td>0</td>\n",
       "      <td>0</td>\n",
       "      <td>0</td>\n",
       "      <td>0</td>\n",
       "      <td>0</td>\n",
       "      <td>0</td>\n",
       "      <td>0</td>\n",
       "      <td>0</td>\n",
       "      <td>0</td>\n",
       "      <td>0</td>\n",
       "      <td>0</td>\n",
       "      <td>0</td>\n",
       "      <td>0</td>\n",
       "      <td>0</td>\n",
       "      <td>0</td>\n",
       "      <td>0</td>\n",
       "      <td>0</td>\n",
       "      <td>0</td>\n",
       "      <td>0</td>\n",
       "      <td>0</td>\n",
       "      <td>0</td>\n",
       "      <td>0</td>\n",
       "      <td>0</td>\n",
       "      <td>0</td>\n",
       "      <td>0</td>\n",
       "      <td>0</td>\n",
       "      <td>0</td>\n",
       "      <td>1</td>\n",
       "      <td>2</td>\n",
       "      <td>1</td>\n",
       "      <td>2</td>\n",
       "      <td>2</td>\n",
       "      <td>2</td>\n",
       "      <td>2</td>\n",
       "      <td>2</td>\n",
       "      <td>2</td>\n",
       "      <td>2</td>\n",
       "      <td>2</td>\n",
       "      <td>1</td>\n",
       "      <td>1</td>\n",
       "      <td>2</td>\n",
       "      <td>2</td>\n",
       "      <td>2</td>\n",
       "      <td>1</td>\n",
       "      <td>2</td>\n",
       "      <td>2</td>\n",
       "      <td>2</td>\n",
       "      <td>2</td>\n",
       "      <td>2</td>\n",
       "      <td>2</td>\n",
       "      <td>2</td>\n",
       "      <td>2</td>\n",
       "      <td>2</td>\n",
       "      <td>2</td>\n",
       "      <td>2</td>\n",
       "    </tr>\n",
       "    <tr>\n",
       "      <th>12253</th>\n",
       "      <td>-1.644330</td>\n",
       "      <td>0</td>\n",
       "      <td>-1.510049</td>\n",
       "      <td>-0.333549</td>\n",
       "      <td>5</td>\n",
       "      <td>3916</td>\n",
       "      <td>115</td>\n",
       "      <td>30</td>\n",
       "      <td>4</td>\n",
       "      <td>70</td>\n",
       "      <td>3</td>\n",
       "      <td>26</td>\n",
       "      <td>21</td>\n",
       "      <td>-0.104347</td>\n",
       "      <td>-0.092442</td>\n",
       "      <td>0</td>\n",
       "      <td>0</td>\n",
       "      <td>-0.089028</td>\n",
       "      <td>-0.085119</td>\n",
       "      <td>-0.034647</td>\n",
       "      <td>-0.061955</td>\n",
       "      <td>-0.094476</td>\n",
       "      <td>-0.109859</td>\n",
       "      <td>-0.050231</td>\n",
       "      <td>-0.056906</td>\n",
       "      <td>-0.141792</td>\n",
       "      <td>-0.057582</td>\n",
       "      <td>-0.076868</td>\n",
       "      <td>-0.051114</td>\n",
       "      <td>-0.105562</td>\n",
       "      <td>-0.123058</td>\n",
       "      <td>2.546627</td>\n",
       "      <td>2.700589</td>\n",
       "      <td>-0.255200</td>\n",
       "      <td>-0.482211</td>\n",
       "      <td>-0.246527</td>\n",
       "      <td>-0.145077</td>\n",
       "      <td>-0.097696</td>\n",
       "      <td>-0.154975</td>\n",
       "      <td>0.113073</td>\n",
       "      <td>2.242928</td>\n",
       "      <td>-0.372027</td>\n",
       "      <td>-0.133032</td>\n",
       "      <td>-0.07686</td>\n",
       "      <td>-0.121596</td>\n",
       "      <td>-0.499737</td>\n",
       "      <td>2</td>\n",
       "      <td>2</td>\n",
       "      <td>2</td>\n",
       "      <td>0</td>\n",
       "      <td>0</td>\n",
       "      <td>1</td>\n",
       "      <td>0</td>\n",
       "      <td>0</td>\n",
       "      <td>0</td>\n",
       "      <td>0.167473</td>\n",
       "      <td>-0.148303</td>\n",
       "      <td>-0.035881</td>\n",
       "      <td>0.027773</td>\n",
       "      <td>-0.153702</td>\n",
       "      <td>0.186117</td>\n",
       "      <td>-0.000152</td>\n",
       "      <td>0.018447</td>\n",
       "      <td>-0.031211</td>\n",
       "      <td>0.036798</td>\n",
       "      <td>0.117061</td>\n",
       "      <td>0</td>\n",
       "      <td>0</td>\n",
       "      <td>0</td>\n",
       "      <td>0</td>\n",
       "      <td>0</td>\n",
       "      <td>0</td>\n",
       "      <td>0</td>\n",
       "      <td>0</td>\n",
       "      <td>0</td>\n",
       "      <td>0</td>\n",
       "      <td>0</td>\n",
       "      <td>0</td>\n",
       "      <td>0</td>\n",
       "      <td>0</td>\n",
       "      <td>0</td>\n",
       "      <td>0</td>\n",
       "      <td>0</td>\n",
       "      <td>0</td>\n",
       "      <td>0</td>\n",
       "      <td>0</td>\n",
       "      <td>0</td>\n",
       "      <td>0</td>\n",
       "      <td>0</td>\n",
       "      <td>0</td>\n",
       "      <td>0</td>\n",
       "      <td>0</td>\n",
       "      <td>0</td>\n",
       "      <td>0</td>\n",
       "      <td>0</td>\n",
       "      <td>1</td>\n",
       "      <td>2</td>\n",
       "      <td>1</td>\n",
       "      <td>1</td>\n",
       "      <td>1</td>\n",
       "      <td>2</td>\n",
       "      <td>2</td>\n",
       "      <td>2</td>\n",
       "      <td>2</td>\n",
       "      <td>2</td>\n",
       "      <td>2</td>\n",
       "      <td>1</td>\n",
       "      <td>2</td>\n",
       "      <td>2</td>\n",
       "      <td>2</td>\n",
       "      <td>2</td>\n",
       "      <td>2</td>\n",
       "      <td>2</td>\n",
       "      <td>2</td>\n",
       "      <td>2</td>\n",
       "      <td>2</td>\n",
       "      <td>2</td>\n",
       "      <td>2</td>\n",
       "      <td>2</td>\n",
       "      <td>2</td>\n",
       "      <td>2</td>\n",
       "      <td>2</td>\n",
       "      <td>2</td>\n",
       "    </tr>\n",
       "    <tr>\n",
       "      <th>...</th>\n",
       "      <td>...</td>\n",
       "      <td>...</td>\n",
       "      <td>...</td>\n",
       "      <td>...</td>\n",
       "      <td>...</td>\n",
       "      <td>...</td>\n",
       "      <td>...</td>\n",
       "      <td>...</td>\n",
       "      <td>...</td>\n",
       "      <td>...</td>\n",
       "      <td>...</td>\n",
       "      <td>...</td>\n",
       "      <td>...</td>\n",
       "      <td>...</td>\n",
       "      <td>...</td>\n",
       "      <td>...</td>\n",
       "      <td>...</td>\n",
       "      <td>...</td>\n",
       "      <td>...</td>\n",
       "      <td>...</td>\n",
       "      <td>...</td>\n",
       "      <td>...</td>\n",
       "      <td>...</td>\n",
       "      <td>...</td>\n",
       "      <td>...</td>\n",
       "      <td>...</td>\n",
       "      <td>...</td>\n",
       "      <td>...</td>\n",
       "      <td>...</td>\n",
       "      <td>...</td>\n",
       "      <td>...</td>\n",
       "      <td>...</td>\n",
       "      <td>...</td>\n",
       "      <td>...</td>\n",
       "      <td>...</td>\n",
       "      <td>...</td>\n",
       "      <td>...</td>\n",
       "      <td>...</td>\n",
       "      <td>...</td>\n",
       "      <td>...</td>\n",
       "      <td>...</td>\n",
       "      <td>...</td>\n",
       "      <td>...</td>\n",
       "      <td>...</td>\n",
       "      <td>...</td>\n",
       "      <td>...</td>\n",
       "      <td>...</td>\n",
       "      <td>...</td>\n",
       "      <td>...</td>\n",
       "      <td>...</td>\n",
       "      <td>...</td>\n",
       "      <td>...</td>\n",
       "      <td>...</td>\n",
       "      <td>...</td>\n",
       "      <td>...</td>\n",
       "      <td>...</td>\n",
       "      <td>...</td>\n",
       "      <td>...</td>\n",
       "      <td>...</td>\n",
       "      <td>...</td>\n",
       "      <td>...</td>\n",
       "      <td>...</td>\n",
       "      <td>...</td>\n",
       "      <td>...</td>\n",
       "      <td>...</td>\n",
       "      <td>...</td>\n",
       "      <td>...</td>\n",
       "      <td>...</td>\n",
       "      <td>...</td>\n",
       "      <td>...</td>\n",
       "      <td>...</td>\n",
       "      <td>...</td>\n",
       "      <td>...</td>\n",
       "      <td>...</td>\n",
       "      <td>...</td>\n",
       "      <td>...</td>\n",
       "      <td>...</td>\n",
       "      <td>...</td>\n",
       "      <td>...</td>\n",
       "      <td>...</td>\n",
       "      <td>...</td>\n",
       "      <td>...</td>\n",
       "      <td>...</td>\n",
       "      <td>...</td>\n",
       "      <td>...</td>\n",
       "      <td>...</td>\n",
       "      <td>...</td>\n",
       "      <td>...</td>\n",
       "      <td>...</td>\n",
       "      <td>...</td>\n",
       "      <td>...</td>\n",
       "      <td>...</td>\n",
       "      <td>...</td>\n",
       "      <td>...</td>\n",
       "      <td>...</td>\n",
       "      <td>...</td>\n",
       "      <td>...</td>\n",
       "      <td>...</td>\n",
       "      <td>...</td>\n",
       "      <td>...</td>\n",
       "      <td>...</td>\n",
       "      <td>...</td>\n",
       "      <td>...</td>\n",
       "      <td>...</td>\n",
       "      <td>...</td>\n",
       "      <td>...</td>\n",
       "      <td>...</td>\n",
       "      <td>...</td>\n",
       "      <td>...</td>\n",
       "      <td>...</td>\n",
       "      <td>...</td>\n",
       "      <td>...</td>\n",
       "      <td>...</td>\n",
       "      <td>...</td>\n",
       "      <td>...</td>\n",
       "      <td>...</td>\n",
       "      <td>...</td>\n",
       "      <td>...</td>\n",
       "      <td>...</td>\n",
       "      <td>...</td>\n",
       "      <td>...</td>\n",
       "      <td>...</td>\n",
       "      <td>...</td>\n",
       "    </tr>\n",
       "    <tr>\n",
       "      <th>585191</th>\n",
       "      <td>2.454582</td>\n",
       "      <td>0</td>\n",
       "      <td>2.665399</td>\n",
       "      <td>-0.250490</td>\n",
       "      <td>5</td>\n",
       "      <td>2796</td>\n",
       "      <td>213</td>\n",
       "      <td>30</td>\n",
       "      <td>4</td>\n",
       "      <td>70</td>\n",
       "      <td>3</td>\n",
       "      <td>63</td>\n",
       "      <td>21</td>\n",
       "      <td>-0.183705</td>\n",
       "      <td>-0.092442</td>\n",
       "      <td>20</td>\n",
       "      <td>0</td>\n",
       "      <td>-0.095771</td>\n",
       "      <td>-0.090942</td>\n",
       "      <td>-0.034647</td>\n",
       "      <td>-0.061955</td>\n",
       "      <td>-0.214200</td>\n",
       "      <td>-0.109859</td>\n",
       "      <td>-0.050231</td>\n",
       "      <td>-0.056906</td>\n",
       "      <td>-0.203488</td>\n",
       "      <td>-0.057582</td>\n",
       "      <td>-0.096037</td>\n",
       "      <td>-0.051114</td>\n",
       "      <td>-0.232152</td>\n",
       "      <td>-0.141853</td>\n",
       "      <td>-0.590402</td>\n",
       "      <td>-0.280162</td>\n",
       "      <td>-0.233869</td>\n",
       "      <td>-0.628117</td>\n",
       "      <td>-0.246527</td>\n",
       "      <td>-0.145077</td>\n",
       "      <td>-0.097696</td>\n",
       "      <td>-0.154975</td>\n",
       "      <td>0.113073</td>\n",
       "      <td>-0.615123</td>\n",
       "      <td>-0.637960</td>\n",
       "      <td>-0.133032</td>\n",
       "      <td>-0.07686</td>\n",
       "      <td>-0.121596</td>\n",
       "      <td>-0.760731</td>\n",
       "      <td>2</td>\n",
       "      <td>2</td>\n",
       "      <td>1</td>\n",
       "      <td>1</td>\n",
       "      <td>1</td>\n",
       "      <td>2</td>\n",
       "      <td>1</td>\n",
       "      <td>1</td>\n",
       "      <td>2</td>\n",
       "      <td>0.167473</td>\n",
       "      <td>-0.148303</td>\n",
       "      <td>-0.035881</td>\n",
       "      <td>0.027773</td>\n",
       "      <td>-0.153702</td>\n",
       "      <td>0.186117</td>\n",
       "      <td>-0.000152</td>\n",
       "      <td>0.018447</td>\n",
       "      <td>-0.031211</td>\n",
       "      <td>0.036798</td>\n",
       "      <td>0.117061</td>\n",
       "      <td>0</td>\n",
       "      <td>0</td>\n",
       "      <td>0</td>\n",
       "      <td>0</td>\n",
       "      <td>0</td>\n",
       "      <td>0</td>\n",
       "      <td>0</td>\n",
       "      <td>0</td>\n",
       "      <td>0</td>\n",
       "      <td>0</td>\n",
       "      <td>0</td>\n",
       "      <td>0</td>\n",
       "      <td>0</td>\n",
       "      <td>0</td>\n",
       "      <td>0</td>\n",
       "      <td>0</td>\n",
       "      <td>0</td>\n",
       "      <td>0</td>\n",
       "      <td>0</td>\n",
       "      <td>0</td>\n",
       "      <td>0</td>\n",
       "      <td>0</td>\n",
       "      <td>0</td>\n",
       "      <td>0</td>\n",
       "      <td>0</td>\n",
       "      <td>0</td>\n",
       "      <td>0</td>\n",
       "      <td>0</td>\n",
       "      <td>0</td>\n",
       "      <td>2</td>\n",
       "      <td>2</td>\n",
       "      <td>1</td>\n",
       "      <td>2</td>\n",
       "      <td>2</td>\n",
       "      <td>1</td>\n",
       "      <td>2</td>\n",
       "      <td>2</td>\n",
       "      <td>2</td>\n",
       "      <td>2</td>\n",
       "      <td>2</td>\n",
       "      <td>1</td>\n",
       "      <td>1</td>\n",
       "      <td>2</td>\n",
       "      <td>2</td>\n",
       "      <td>2</td>\n",
       "      <td>1</td>\n",
       "      <td>2</td>\n",
       "      <td>2</td>\n",
       "      <td>2</td>\n",
       "      <td>2</td>\n",
       "      <td>2</td>\n",
       "      <td>2</td>\n",
       "      <td>2</td>\n",
       "      <td>2</td>\n",
       "      <td>2</td>\n",
       "      <td>2</td>\n",
       "      <td>2</td>\n",
       "    </tr>\n",
       "    <tr>\n",
       "      <th>582517</th>\n",
       "      <td>2.435452</td>\n",
       "      <td>0</td>\n",
       "      <td>2.641801</td>\n",
       "      <td>1.702576</td>\n",
       "      <td>5</td>\n",
       "      <td>576</td>\n",
       "      <td>1</td>\n",
       "      <td>30</td>\n",
       "      <td>4</td>\n",
       "      <td>70</td>\n",
       "      <td>3</td>\n",
       "      <td>73</td>\n",
       "      <td>21</td>\n",
       "      <td>0.697584</td>\n",
       "      <td>-0.092442</td>\n",
       "      <td>54</td>\n",
       "      <td>0</td>\n",
       "      <td>-0.089028</td>\n",
       "      <td>-0.090942</td>\n",
       "      <td>-0.034647</td>\n",
       "      <td>-0.061955</td>\n",
       "      <td>-0.174292</td>\n",
       "      <td>-0.109859</td>\n",
       "      <td>-0.050231</td>\n",
       "      <td>-0.056906</td>\n",
       "      <td>-0.203488</td>\n",
       "      <td>-0.057582</td>\n",
       "      <td>-0.096037</td>\n",
       "      <td>-0.051114</td>\n",
       "      <td>-0.224706</td>\n",
       "      <td>-0.123058</td>\n",
       "      <td>-0.590402</td>\n",
       "      <td>-0.280162</td>\n",
       "      <td>-0.233869</td>\n",
       "      <td>2.095471</td>\n",
       "      <td>4.050193</td>\n",
       "      <td>-0.145077</td>\n",
       "      <td>-0.097696</td>\n",
       "      <td>-0.154975</td>\n",
       "      <td>0.113073</td>\n",
       "      <td>2.260680</td>\n",
       "      <td>2.952133</td>\n",
       "      <td>-0.133032</td>\n",
       "      <td>-0.07686</td>\n",
       "      <td>-0.121596</td>\n",
       "      <td>1.881831</td>\n",
       "      <td>2</td>\n",
       "      <td>2</td>\n",
       "      <td>2</td>\n",
       "      <td>0</td>\n",
       "      <td>0</td>\n",
       "      <td>1</td>\n",
       "      <td>1</td>\n",
       "      <td>1</td>\n",
       "      <td>1</td>\n",
       "      <td>0.167473</td>\n",
       "      <td>-0.148303</td>\n",
       "      <td>-0.035881</td>\n",
       "      <td>0.027773</td>\n",
       "      <td>-0.153702</td>\n",
       "      <td>0.186117</td>\n",
       "      <td>-0.000152</td>\n",
       "      <td>0.018447</td>\n",
       "      <td>-0.031211</td>\n",
       "      <td>0.036798</td>\n",
       "      <td>0.117061</td>\n",
       "      <td>0</td>\n",
       "      <td>0</td>\n",
       "      <td>0</td>\n",
       "      <td>0</td>\n",
       "      <td>0</td>\n",
       "      <td>0</td>\n",
       "      <td>0</td>\n",
       "      <td>0</td>\n",
       "      <td>0</td>\n",
       "      <td>0</td>\n",
       "      <td>0</td>\n",
       "      <td>0</td>\n",
       "      <td>0</td>\n",
       "      <td>0</td>\n",
       "      <td>0</td>\n",
       "      <td>0</td>\n",
       "      <td>0</td>\n",
       "      <td>0</td>\n",
       "      <td>0</td>\n",
       "      <td>0</td>\n",
       "      <td>0</td>\n",
       "      <td>0</td>\n",
       "      <td>0</td>\n",
       "      <td>0</td>\n",
       "      <td>0</td>\n",
       "      <td>0</td>\n",
       "      <td>0</td>\n",
       "      <td>0</td>\n",
       "      <td>0</td>\n",
       "      <td>1</td>\n",
       "      <td>2</td>\n",
       "      <td>1</td>\n",
       "      <td>2</td>\n",
       "      <td>2</td>\n",
       "      <td>1</td>\n",
       "      <td>1</td>\n",
       "      <td>2</td>\n",
       "      <td>2</td>\n",
       "      <td>2</td>\n",
       "      <td>2</td>\n",
       "      <td>1</td>\n",
       "      <td>1</td>\n",
       "      <td>2</td>\n",
       "      <td>2</td>\n",
       "      <td>2</td>\n",
       "      <td>1</td>\n",
       "      <td>2</td>\n",
       "      <td>2</td>\n",
       "      <td>2</td>\n",
       "      <td>2</td>\n",
       "      <td>2</td>\n",
       "      <td>2</td>\n",
       "      <td>2</td>\n",
       "      <td>2</td>\n",
       "      <td>2</td>\n",
       "      <td>2</td>\n",
       "      <td>2</td>\n",
       "    </tr>\n",
       "    <tr>\n",
       "      <th>493713</th>\n",
       "      <td>1.800131</td>\n",
       "      <td>0</td>\n",
       "      <td>1.910467</td>\n",
       "      <td>-0.215610</td>\n",
       "      <td>5</td>\n",
       "      <td>3322</td>\n",
       "      <td>261</td>\n",
       "      <td>30</td>\n",
       "      <td>4</td>\n",
       "      <td>70</td>\n",
       "      <td>3</td>\n",
       "      <td>73</td>\n",
       "      <td>21</td>\n",
       "      <td>0.129549</td>\n",
       "      <td>-0.092442</td>\n",
       "      <td>17</td>\n",
       "      <td>0</td>\n",
       "      <td>-0.062056</td>\n",
       "      <td>-0.090942</td>\n",
       "      <td>-0.034647</td>\n",
       "      <td>-0.061955</td>\n",
       "      <td>-0.174292</td>\n",
       "      <td>-0.097012</td>\n",
       "      <td>-0.050231</td>\n",
       "      <td>-0.056906</td>\n",
       "      <td>-0.080095</td>\n",
       "      <td>-0.057582</td>\n",
       "      <td>-0.086453</td>\n",
       "      <td>-0.051114</td>\n",
       "      <td>-0.038544</td>\n",
       "      <td>-0.066672</td>\n",
       "      <td>0.803113</td>\n",
       "      <td>0.104948</td>\n",
       "      <td>-0.297861</td>\n",
       "      <td>0.192607</td>\n",
       "      <td>-0.311140</td>\n",
       "      <td>-0.145077</td>\n",
       "      <td>-0.097696</td>\n",
       "      <td>-0.154975</td>\n",
       "      <td>0.113073</td>\n",
       "      <td>1.124560</td>\n",
       "      <td>1.068442</td>\n",
       "      <td>-0.133032</td>\n",
       "      <td>-0.07686</td>\n",
       "      <td>-0.121596</td>\n",
       "      <td>0.489864</td>\n",
       "      <td>2</td>\n",
       "      <td>2</td>\n",
       "      <td>2</td>\n",
       "      <td>1</td>\n",
       "      <td>1</td>\n",
       "      <td>2</td>\n",
       "      <td>1</td>\n",
       "      <td>1</td>\n",
       "      <td>1</td>\n",
       "      <td>0.167473</td>\n",
       "      <td>-0.148303</td>\n",
       "      <td>-0.035881</td>\n",
       "      <td>0.027773</td>\n",
       "      <td>-0.153702</td>\n",
       "      <td>0.186117</td>\n",
       "      <td>-0.000152</td>\n",
       "      <td>0.018447</td>\n",
       "      <td>-0.031211</td>\n",
       "      <td>0.036798</td>\n",
       "      <td>0.117061</td>\n",
       "      <td>0</td>\n",
       "      <td>0</td>\n",
       "      <td>0</td>\n",
       "      <td>0</td>\n",
       "      <td>0</td>\n",
       "      <td>0</td>\n",
       "      <td>0</td>\n",
       "      <td>0</td>\n",
       "      <td>0</td>\n",
       "      <td>0</td>\n",
       "      <td>0</td>\n",
       "      <td>0</td>\n",
       "      <td>0</td>\n",
       "      <td>0</td>\n",
       "      <td>0</td>\n",
       "      <td>0</td>\n",
       "      <td>0</td>\n",
       "      <td>0</td>\n",
       "      <td>0</td>\n",
       "      <td>0</td>\n",
       "      <td>0</td>\n",
       "      <td>0</td>\n",
       "      <td>0</td>\n",
       "      <td>0</td>\n",
       "      <td>0</td>\n",
       "      <td>0</td>\n",
       "      <td>0</td>\n",
       "      <td>0</td>\n",
       "      <td>0</td>\n",
       "      <td>1</td>\n",
       "      <td>2</td>\n",
       "      <td>1</td>\n",
       "      <td>1</td>\n",
       "      <td>1</td>\n",
       "      <td>1</td>\n",
       "      <td>1</td>\n",
       "      <td>2</td>\n",
       "      <td>2</td>\n",
       "      <td>2</td>\n",
       "      <td>2</td>\n",
       "      <td>1</td>\n",
       "      <td>1</td>\n",
       "      <td>2</td>\n",
       "      <td>2</td>\n",
       "      <td>2</td>\n",
       "      <td>1</td>\n",
       "      <td>2</td>\n",
       "      <td>2</td>\n",
       "      <td>2</td>\n",
       "      <td>2</td>\n",
       "      <td>2</td>\n",
       "      <td>2</td>\n",
       "      <td>2</td>\n",
       "      <td>2</td>\n",
       "      <td>2</td>\n",
       "      <td>2</td>\n",
       "      <td>2</td>\n",
       "    </tr>\n",
       "    <tr>\n",
       "      <th>526363</th>\n",
       "      <td>2.033715</td>\n",
       "      <td>0</td>\n",
       "      <td>2.170954</td>\n",
       "      <td>-0.150210</td>\n",
       "      <td>2</td>\n",
       "      <td>2762</td>\n",
       "      <td>299</td>\n",
       "      <td>30</td>\n",
       "      <td>1</td>\n",
       "      <td>3</td>\n",
       "      <td>2</td>\n",
       "      <td>63</td>\n",
       "      <td>21</td>\n",
       "      <td>-0.183705</td>\n",
       "      <td>-0.092442</td>\n",
       "      <td>54</td>\n",
       "      <td>17</td>\n",
       "      <td>-0.095771</td>\n",
       "      <td>-0.090942</td>\n",
       "      <td>-0.034647</td>\n",
       "      <td>-0.048718</td>\n",
       "      <td>-0.214200</td>\n",
       "      <td>-0.109859</td>\n",
       "      <td>-0.050231</td>\n",
       "      <td>-0.047614</td>\n",
       "      <td>-0.265185</td>\n",
       "      <td>-0.048299</td>\n",
       "      <td>-0.096037</td>\n",
       "      <td>-0.051114</td>\n",
       "      <td>-0.232152</td>\n",
       "      <td>-0.141853</td>\n",
       "      <td>-0.590402</td>\n",
       "      <td>-0.280162</td>\n",
       "      <td>-0.233869</td>\n",
       "      <td>-0.482211</td>\n",
       "      <td>-0.246527</td>\n",
       "      <td>-0.145077</td>\n",
       "      <td>-0.097696</td>\n",
       "      <td>-0.559595</td>\n",
       "      <td>-5.060907</td>\n",
       "      <td>-0.550033</td>\n",
       "      <td>-0.372027</td>\n",
       "      <td>-0.133032</td>\n",
       "      <td>-0.07686</td>\n",
       "      <td>-0.121596</td>\n",
       "      <td>-0.499737</td>\n",
       "      <td>0</td>\n",
       "      <td>0</td>\n",
       "      <td>0</td>\n",
       "      <td>0</td>\n",
       "      <td>0</td>\n",
       "      <td>0</td>\n",
       "      <td>0</td>\n",
       "      <td>0</td>\n",
       "      <td>0</td>\n",
       "      <td>0.167473</td>\n",
       "      <td>-0.959092</td>\n",
       "      <td>-0.035881</td>\n",
       "      <td>0.027773</td>\n",
       "      <td>-0.153702</td>\n",
       "      <td>0.186117</td>\n",
       "      <td>-0.000152</td>\n",
       "      <td>0.018447</td>\n",
       "      <td>-0.031211</td>\n",
       "      <td>0.036798</td>\n",
       "      <td>0.117061</td>\n",
       "      <td>2</td>\n",
       "      <td>36</td>\n",
       "      <td>3</td>\n",
       "      <td>1</td>\n",
       "      <td>1</td>\n",
       "      <td>33</td>\n",
       "      <td>0</td>\n",
       "      <td>125</td>\n",
       "      <td>42</td>\n",
       "      <td>0</td>\n",
       "      <td>0</td>\n",
       "      <td>0</td>\n",
       "      <td>0</td>\n",
       "      <td>0</td>\n",
       "      <td>0</td>\n",
       "      <td>0</td>\n",
       "      <td>1</td>\n",
       "      <td>1</td>\n",
       "      <td>24</td>\n",
       "      <td>96</td>\n",
       "      <td>3</td>\n",
       "      <td>90</td>\n",
       "      <td>3</td>\n",
       "      <td>2</td>\n",
       "      <td>2</td>\n",
       "      <td>1</td>\n",
       "      <td>2</td>\n",
       "      <td>1</td>\n",
       "      <td>282</td>\n",
       "      <td>2</td>\n",
       "      <td>2</td>\n",
       "      <td>1</td>\n",
       "      <td>2</td>\n",
       "      <td>2</td>\n",
       "      <td>2</td>\n",
       "      <td>2</td>\n",
       "      <td>2</td>\n",
       "      <td>2</td>\n",
       "      <td>1</td>\n",
       "      <td>1</td>\n",
       "      <td>2</td>\n",
       "      <td>2</td>\n",
       "      <td>2</td>\n",
       "      <td>2</td>\n",
       "      <td>2</td>\n",
       "      <td>2</td>\n",
       "      <td>1</td>\n",
       "      <td>1</td>\n",
       "      <td>1</td>\n",
       "      <td>1</td>\n",
       "      <td>1</td>\n",
       "      <td>1</td>\n",
       "      <td>2</td>\n",
       "      <td>2</td>\n",
       "      <td>1</td>\n",
       "      <td>1</td>\n",
       "      <td>1</td>\n",
       "    </tr>\n",
       "    <tr>\n",
       "      <th>500247</th>\n",
       "      <td>1.846876</td>\n",
       "      <td>0</td>\n",
       "      <td>1.975966</td>\n",
       "      <td>-0.185090</td>\n",
       "      <td>5</td>\n",
       "      <td>1581</td>\n",
       "      <td>11</td>\n",
       "      <td>30</td>\n",
       "      <td>4</td>\n",
       "      <td>39</td>\n",
       "      <td>2</td>\n",
       "      <td>109</td>\n",
       "      <td>21</td>\n",
       "      <td>-0.183705</td>\n",
       "      <td>-0.092442</td>\n",
       "      <td>17</td>\n",
       "      <td>0</td>\n",
       "      <td>-0.095771</td>\n",
       "      <td>-0.090942</td>\n",
       "      <td>-0.034647</td>\n",
       "      <td>-0.061955</td>\n",
       "      <td>-0.214200</td>\n",
       "      <td>-0.109859</td>\n",
       "      <td>-0.050231</td>\n",
       "      <td>-0.056906</td>\n",
       "      <td>-0.203488</td>\n",
       "      <td>-0.057582</td>\n",
       "      <td>-0.096037</td>\n",
       "      <td>-0.051114</td>\n",
       "      <td>-0.232152</td>\n",
       "      <td>-0.141853</td>\n",
       "      <td>-0.590402</td>\n",
       "      <td>-0.280162</td>\n",
       "      <td>-0.233869</td>\n",
       "      <td>-0.628117</td>\n",
       "      <td>-0.246527</td>\n",
       "      <td>-0.145077</td>\n",
       "      <td>-0.097696</td>\n",
       "      <td>-0.154975</td>\n",
       "      <td>0.113073</td>\n",
       "      <td>-0.615123</td>\n",
       "      <td>-0.637960</td>\n",
       "      <td>-0.133032</td>\n",
       "      <td>-0.07686</td>\n",
       "      <td>-0.121596</td>\n",
       "      <td>-0.760731</td>\n",
       "      <td>2</td>\n",
       "      <td>2</td>\n",
       "      <td>1</td>\n",
       "      <td>2</td>\n",
       "      <td>1</td>\n",
       "      <td>2</td>\n",
       "      <td>1</td>\n",
       "      <td>1</td>\n",
       "      <td>2</td>\n",
       "      <td>0.167473</td>\n",
       "      <td>-0.148303</td>\n",
       "      <td>-0.035881</td>\n",
       "      <td>0.027773</td>\n",
       "      <td>-0.153702</td>\n",
       "      <td>0.186117</td>\n",
       "      <td>-0.000152</td>\n",
       "      <td>0.018447</td>\n",
       "      <td>-0.031211</td>\n",
       "      <td>0.036798</td>\n",
       "      <td>0.117061</td>\n",
       "      <td>0</td>\n",
       "      <td>0</td>\n",
       "      <td>0</td>\n",
       "      <td>0</td>\n",
       "      <td>0</td>\n",
       "      <td>0</td>\n",
       "      <td>0</td>\n",
       "      <td>0</td>\n",
       "      <td>0</td>\n",
       "      <td>0</td>\n",
       "      <td>0</td>\n",
       "      <td>0</td>\n",
       "      <td>0</td>\n",
       "      <td>0</td>\n",
       "      <td>0</td>\n",
       "      <td>0</td>\n",
       "      <td>0</td>\n",
       "      <td>0</td>\n",
       "      <td>0</td>\n",
       "      <td>0</td>\n",
       "      <td>0</td>\n",
       "      <td>0</td>\n",
       "      <td>0</td>\n",
       "      <td>0</td>\n",
       "      <td>0</td>\n",
       "      <td>0</td>\n",
       "      <td>0</td>\n",
       "      <td>0</td>\n",
       "      <td>0</td>\n",
       "      <td>2</td>\n",
       "      <td>2</td>\n",
       "      <td>1</td>\n",
       "      <td>2</td>\n",
       "      <td>2</td>\n",
       "      <td>1</td>\n",
       "      <td>2</td>\n",
       "      <td>2</td>\n",
       "      <td>2</td>\n",
       "      <td>2</td>\n",
       "      <td>2</td>\n",
       "      <td>1</td>\n",
       "      <td>1</td>\n",
       "      <td>2</td>\n",
       "      <td>2</td>\n",
       "      <td>2</td>\n",
       "      <td>1</td>\n",
       "      <td>2</td>\n",
       "      <td>2</td>\n",
       "      <td>2</td>\n",
       "      <td>2</td>\n",
       "      <td>2</td>\n",
       "      <td>2</td>\n",
       "      <td>2</td>\n",
       "      <td>2</td>\n",
       "      <td>2</td>\n",
       "      <td>2</td>\n",
       "      <td>2</td>\n",
       "    </tr>\n",
       "  </tbody>\n",
       "</table>\n",
       "<p>59054 rows × 123 columns</p>\n",
       "</div>"
      ],
      "text/plain": [
       "        TransactionID  isFraud  TransactionDT  TransactionAmt  ProductCD  \\\n",
       "57195       -1.322806        0      -1.245707        1.240415          5   \n",
       "312877       0.506394        0       0.519150       -0.328971          5   \n",
       "195195      -0.335527        1      -0.405201       -0.459771          5   \n",
       "21600       -1.577460        0      -1.448797       -0.481571          5   \n",
       "12253       -1.644330        0      -1.510049       -0.333549          5   \n",
       "...               ...      ...            ...             ...        ...   \n",
       "585191       2.454582        0       2.665399       -0.250490          5   \n",
       "582517       2.435452        0       2.641801        1.702576          5   \n",
       "493713       1.800131        0       1.910467       -0.215610          5   \n",
       "526363       2.033715        0       2.170954       -0.150210          2   \n",
       "500247       1.846876        0       1.975966       -0.185090          5   \n",
       "\n",
       "        card1  card2  card3  card4  card5  card6  addr1  addr2     dist1  \\\n",
       "57195    1233    390     30      4     70      3     68     21 -0.183705   \n",
       "312877   3740    168     30      4     40      3     70     21 -0.200412   \n",
       "195195   1196    317     30      4     51      3     64     21 -0.212942   \n",
       "21600    2236     94     30      3     57      3      6     21 -0.217119   \n",
       "12253    3916    115     30      4     70      3     26     21 -0.104347   \n",
       "...       ...    ...    ...    ...    ...    ...    ...    ...       ...   \n",
       "585191   2796    213     30      4     70      3     63     21 -0.183705   \n",
       "582517    576      1     30      4     70      3     73     21  0.697584   \n",
       "493713   3322    261     30      4     70      3     73     21  0.129549   \n",
       "526363   2762    299     30      1      3      2     63     21 -0.183705   \n",
       "500247   1581     11     30      4     39      2    109     21 -0.183705   \n",
       "\n",
       "           dist2  P_emaildomain  R_emaildomain        C1        C2        C3  \\\n",
       "57195  -0.092442              3              0 -0.089028 -0.090942 -0.034647   \n",
       "312877 -0.092442             17              0 -0.068799 -0.079297 -0.034647   \n",
       "195195 -0.092442             54              0 -0.095771 -0.085119 -0.034647   \n",
       "21600  -0.092442              0              0 -0.095771 -0.090942 -0.034647   \n",
       "12253  -0.092442              0              0 -0.089028 -0.085119 -0.034647   \n",
       "...          ...            ...            ...       ...       ...       ...   \n",
       "585191 -0.092442             20              0 -0.095771 -0.090942 -0.034647   \n",
       "582517 -0.092442             54              0 -0.089028 -0.090942 -0.034647   \n",
       "493713 -0.092442             17              0 -0.062056 -0.090942 -0.034647   \n",
       "526363 -0.092442             54             17 -0.095771 -0.090942 -0.034647   \n",
       "500247 -0.092442             17              0 -0.095771 -0.090942 -0.034647   \n",
       "\n",
       "              C4        C5        C6        C7        C8        C9       C10  \\\n",
       "57195  -0.061955 -0.134384 -0.109859 -0.050231 -0.056906 -0.203488 -0.057582   \n",
       "312877 -0.061955 -0.174292 -0.097012 -0.050231 -0.056906 -0.203488 -0.057582   \n",
       "195195 -0.061955 -0.214200 -0.109859 -0.050231 -0.056906 -0.141792 -0.057582   \n",
       "21600  -0.061955 -0.214200 -0.122707 -0.050231 -0.056906 -0.203488 -0.057582   \n",
       "12253  -0.061955 -0.094476 -0.109859 -0.050231 -0.056906 -0.141792 -0.057582   \n",
       "...          ...       ...       ...       ...       ...       ...       ...   \n",
       "585191 -0.061955 -0.214200 -0.109859 -0.050231 -0.056906 -0.203488 -0.057582   \n",
       "582517 -0.061955 -0.174292 -0.109859 -0.050231 -0.056906 -0.203488 -0.057582   \n",
       "493713 -0.061955 -0.174292 -0.097012 -0.050231 -0.056906 -0.080095 -0.057582   \n",
       "526363 -0.048718 -0.214200 -0.109859 -0.050231 -0.047614 -0.265185 -0.048299   \n",
       "500247 -0.061955 -0.214200 -0.109859 -0.050231 -0.056906 -0.203488 -0.057582   \n",
       "\n",
       "             C11       C12       C13       C14        D1        D2        D3  \\\n",
       "57195  -0.096037 -0.051114 -0.224706 -0.123058  2.468850 -0.280162  9.471498   \n",
       "312877 -0.096037 -0.051114 -0.150241 -0.085467 -0.590402 -0.280162 -0.233869   \n",
       "195195 -0.086453 -0.051114 -0.180027 -0.141853 -0.259847 -0.634464 -0.404513   \n",
       "21600  -0.096037 -0.051114 -0.232152 -0.141853 -0.590402 -0.280162 -0.233869   \n",
       "12253  -0.076868 -0.051114 -0.105562 -0.123058  2.546627  2.700589 -0.255200   \n",
       "...          ...       ...       ...       ...       ...       ...       ...   \n",
       "585191 -0.096037 -0.051114 -0.232152 -0.141853 -0.590402 -0.280162 -0.233869   \n",
       "582517 -0.096037 -0.051114 -0.224706 -0.123058 -0.590402 -0.280162 -0.233869   \n",
       "493713 -0.086453 -0.051114 -0.038544 -0.066672  0.803113  0.104948 -0.297861   \n",
       "526363 -0.096037 -0.051114 -0.232152 -0.141853 -0.590402 -0.280162 -0.233869   \n",
       "500247 -0.096037 -0.051114 -0.232152 -0.141853 -0.590402 -0.280162 -0.233869   \n",
       "\n",
       "              D4        D5        D6        D7        D8        D9       D10  \\\n",
       "57195   1.122761  4.260183 -0.145077 -0.097696 -0.154975  0.113073  1.089056   \n",
       "312877  1.378097  2.774099 -0.145077 -0.097696 -0.154975  0.113073  1.751793   \n",
       "195195 -0.318066 -0.391905 -0.145077 -0.097696 -0.154975  0.113073 -0.313342   \n",
       "21600  -0.482211 -0.246527 -0.145077 -0.097696 -0.154975  0.113073 -0.615123   \n",
       "12253  -0.482211 -0.246527 -0.145077 -0.097696 -0.154975  0.113073  2.242928   \n",
       "...          ...       ...       ...       ...       ...       ...       ...   \n",
       "585191 -0.628117 -0.246527 -0.145077 -0.097696 -0.154975  0.113073 -0.615123   \n",
       "582517  2.095471  4.050193 -0.145077 -0.097696 -0.154975  0.113073  2.260680   \n",
       "493713  0.192607 -0.311140 -0.145077 -0.097696 -0.154975  0.113073  1.124560   \n",
       "526363 -0.482211 -0.246527 -0.145077 -0.097696 -0.559595 -5.060907 -0.550033   \n",
       "500247 -0.628117 -0.246527 -0.145077 -0.097696 -0.154975  0.113073 -0.615123   \n",
       "\n",
       "             D11       D12      D13       D14       D15  M1  M2  M3  M4  M5  \\\n",
       "57195  -0.372027 -0.133032 -0.07686 -0.121596  0.805232   0   0   0   0   0   \n",
       "312877  1.585534 -0.133032 -0.07686 -0.121596  1.033601   2   2   2   1   1   \n",
       "195195 -0.261222 -0.133032 -0.07686 -0.121596 -0.483425   2   2   2   1   2   \n",
       "21600  -0.637960 -0.133032 -0.07686 -0.121596 -0.760731   2   2   2   2   2   \n",
       "12253  -0.372027 -0.133032 -0.07686 -0.121596 -0.499737   2   2   2   0   0   \n",
       "...          ...       ...      ...       ...       ...  ..  ..  ..  ..  ..   \n",
       "585191 -0.637960 -0.133032 -0.07686 -0.121596 -0.760731   2   2   1   1   1   \n",
       "582517  2.952133 -0.133032 -0.07686 -0.121596  1.881831   2   2   2   0   0   \n",
       "493713  1.068442 -0.133032 -0.07686 -0.121596  0.489864   2   2   2   1   1   \n",
       "526363 -0.372027 -0.133032 -0.07686 -0.121596 -0.499737   0   0   0   0   0   \n",
       "500247 -0.637960 -0.133032 -0.07686 -0.121596 -0.760731   2   2   1   2   1   \n",
       "\n",
       "        M6  M7  M8  M9     id_01     id_02     id_03     id_04     id_05  \\\n",
       "57195    2   0   0   0  0.167473 -0.148303 -0.035881  0.027773 -0.153702   \n",
       "312877   2   1   2   2  0.167473 -0.148303 -0.035881  0.027773 -0.153702   \n",
       "195195   1   1   2   2  0.167473 -0.148303 -0.035881  0.027773 -0.153702   \n",
       "21600    1   0   0   0  0.167473 -0.148303 -0.035881  0.027773 -0.153702   \n",
       "12253    1   0   0   0  0.167473 -0.148303 -0.035881  0.027773 -0.153702   \n",
       "...     ..  ..  ..  ..       ...       ...       ...       ...       ...   \n",
       "585191   2   1   1   2  0.167473 -0.148303 -0.035881  0.027773 -0.153702   \n",
       "582517   1   1   1   1  0.167473 -0.148303 -0.035881  0.027773 -0.153702   \n",
       "493713   2   1   1   1  0.167473 -0.148303 -0.035881  0.027773 -0.153702   \n",
       "526363   0   0   0   0  0.167473 -0.959092 -0.035881  0.027773 -0.153702   \n",
       "500247   2   1   1   2  0.167473 -0.148303 -0.035881  0.027773 -0.153702   \n",
       "\n",
       "           id_06     id_07     id_08     id_09     id_10     id_11  id_12  \\\n",
       "57195   0.186117 -0.000152  0.018447 -0.031211  0.036798  0.117061      0   \n",
       "312877  0.186117 -0.000152  0.018447 -0.031211  0.036798  0.117061      0   \n",
       "195195  0.186117 -0.000152  0.018447 -0.031211  0.036798  0.117061      0   \n",
       "21600   0.186117 -0.000152  0.018447 -0.031211  0.036798  0.117061      0   \n",
       "12253   0.186117 -0.000152  0.018447 -0.031211  0.036798  0.117061      0   \n",
       "...          ...       ...       ...       ...       ...       ...    ...   \n",
       "585191  0.186117 -0.000152  0.018447 -0.031211  0.036798  0.117061      0   \n",
       "582517  0.186117 -0.000152  0.018447 -0.031211  0.036798  0.117061      0   \n",
       "493713  0.186117 -0.000152  0.018447 -0.031211  0.036798  0.117061      0   \n",
       "526363  0.186117 -0.000152  0.018447 -0.031211  0.036798  0.117061      2   \n",
       "500247  0.186117 -0.000152  0.018447 -0.031211  0.036798  0.117061      0   \n",
       "\n",
       "        id_13  id_14  id_15  id_16  id_17  id_18  id_19  id_20  id_21  id_22  \\\n",
       "57195       0      0      0      0      0      0      0      0      0      0   \n",
       "312877      0      0      0      0      0      0      0      0      0      0   \n",
       "195195      0      0      0      0      0      0      0      0      0      0   \n",
       "21600       0      0      0      0      0      0      0      0      0      0   \n",
       "12253       0      0      0      0      0      0      0      0      0      0   \n",
       "...       ...    ...    ...    ...    ...    ...    ...    ...    ...    ...   \n",
       "585191      0      0      0      0      0      0      0      0      0      0   \n",
       "582517      0      0      0      0      0      0      0      0      0      0   \n",
       "493713      0      0      0      0      0      0      0      0      0      0   \n",
       "526363     36      3      1      1     33      0    125     42      0      0   \n",
       "500247      0      0      0      0      0      0      0      0      0      0   \n",
       "\n",
       "        id_23  id_24  id_25  id_26  id_27  id_28  id_29  id_30  id_31  id_32  \\\n",
       "57195       0      0      0      0      0      0      0      0      0      0   \n",
       "312877      0      0      0      0      0      0      0      0      0      0   \n",
       "195195      0      0      0      0      0      0      0      0      0      0   \n",
       "21600       0      0      0      0      0      0      0      0      0      0   \n",
       "12253       0      0      0      0      0      0      0      0      0      0   \n",
       "...       ...    ...    ...    ...    ...    ...    ...    ...    ...    ...   \n",
       "585191      0      0      0      0      0      0      0      0      0      0   \n",
       "582517      0      0      0      0      0      0      0      0      0      0   \n",
       "493713      0      0      0      0      0      0      0      0      0      0   \n",
       "526363      0      0      0      0      0      1      1     24     96      3   \n",
       "500247      0      0      0      0      0      0      0      0      0      0   \n",
       "\n",
       "        id_33  id_34  id_35  id_36  id_37  id_38  DeviceType  DeviceInfo  \\\n",
       "57195       0      0      0      0      0      0           0           0   \n",
       "312877      0      0      0      0      0      0           0           0   \n",
       "195195      0      0      0      0      0      0           0           0   \n",
       "21600       0      0      0      0      0      0           0           0   \n",
       "12253       0      0      0      0      0      0           0           0   \n",
       "...       ...    ...    ...    ...    ...    ...         ...         ...   \n",
       "585191      0      0      0      0      0      0           0           0   \n",
       "582517      0      0      0      0      0      0           0           0   \n",
       "493713      0      0      0      0      0      0           0           0   \n",
       "526363     90      3      2      2      1      2           1         282   \n",
       "500247      0      0      0      0      0      0           0           0   \n",
       "\n",
       "        dist1_na  dist2_na  D1_na  D2_na  D3_na  D4_na  D5_na  D6_na  D7_na  \\\n",
       "57195          2         2      1      2      1      1      1      2      2   \n",
       "312877         1         2      1      2      2      1      1      2      2   \n",
       "195195         1         2      1      1      1      1      1      2      2   \n",
       "21600          1         2      1      2      2      2      2      2      2   \n",
       "12253          1         2      1      1      1      2      2      2      2   \n",
       "...          ...       ...    ...    ...    ...    ...    ...    ...    ...   \n",
       "585191         2         2      1      2      2      1      2      2      2   \n",
       "582517         1         2      1      2      2      1      1      2      2   \n",
       "493713         1         2      1      1      1      1      1      2      2   \n",
       "526363         2         2      1      2      2      2      2      2      2   \n",
       "500247         2         2      1      2      2      1      2      2      2   \n",
       "\n",
       "        D8_na  D9_na  D10_na  D11_na  D12_na  D13_na  D14_na  D15_na  \\\n",
       "57195       2      2       1       2       2       2       2       1   \n",
       "312877      2      2       1       1       2       2       2       1   \n",
       "195195      2      2       1       1       2       2       2       1   \n",
       "21600       2      2       1       1       2       2       2       1   \n",
       "12253       2      2       1       2       2       2       2       2   \n",
       "...       ...    ...     ...     ...     ...     ...     ...     ...   \n",
       "585191      2      2       1       1       2       2       2       1   \n",
       "582517      2      2       1       1       2       2       2       1   \n",
       "493713      2      2       1       1       2       2       2       1   \n",
       "526363      1      1       2       2       2       2       2       2   \n",
       "500247      2      2       1       1       2       2       2       1   \n",
       "\n",
       "        id_01_na  id_02_na  id_03_na  id_04_na  id_05_na  id_06_na  id_07_na  \\\n",
       "57195          2         2         2         2         2         2         2   \n",
       "312877         2         2         2         2         2         2         2   \n",
       "195195         2         2         2         2         2         2         2   \n",
       "21600          2         2         2         2         2         2         2   \n",
       "12253          2         2         2         2         2         2         2   \n",
       "...          ...       ...       ...       ...       ...       ...       ...   \n",
       "585191         2         2         2         2         2         2         2   \n",
       "582517         2         2         2         2         2         2         2   \n",
       "493713         2         2         2         2         2         2         2   \n",
       "526363         1         1         1         1         1         1         2   \n",
       "500247         2         2         2         2         2         2         2   \n",
       "\n",
       "        id_08_na  id_09_na  id_10_na  id_11_na  \n",
       "57195          2         2         2         2  \n",
       "312877         2         2         2         2  \n",
       "195195         2         2         2         2  \n",
       "21600          2         2         2         2  \n",
       "12253          2         2         2         2  \n",
       "...          ...       ...       ...       ...  \n",
       "585191         2         2         2         2  \n",
       "582517         2         2         2         2  \n",
       "493713         2         2         2         2  \n",
       "526363         2         1         1         1  \n",
       "500247         2         2         2         2  \n",
       "\n",
       "[59054 rows x 123 columns]"
      ]
     },
     "execution_count": 5,
     "metadata": {},
     "output_type": "execute_result"
    }
   ],
   "source": [
    "to_nn.items"
   ]
  },
  {
   "cell_type": "code",
   "execution_count": 4,
   "metadata": {
    "hidden": true
   },
   "outputs": [],
   "source": [
    "dls = to_nn.dataloaders(1024)"
   ]
  },
  {
   "cell_type": "code",
   "execution_count": 5,
   "metadata": {
    "hidden": true
   },
   "outputs": [],
   "source": [
    "F1_score = F1Score()\n",
    "recall = Recall()\n",
    "precision = Precision()\n",
    "roc_score = RocAucBinary()\n",
    "metrics = [accuracy, precision, recall, F1_score, roc_score]"
   ]
  },
  {
   "cell_type": "markdown",
   "metadata": {
    "hidden": true
   },
   "source": [
    "Let's also use the ActivationStats callback to diagnose the condition of our neural network."
   ]
  },
  {
   "cell_type": "code",
   "execution_count": 6,
   "metadata": {
    "hidden": true
   },
   "outputs": [],
   "source": [
    "from fastai.callback.hook import *"
   ]
  },
  {
   "cell_type": "code",
   "execution_count": 23,
   "metadata": {
    "hidden": true
   },
   "outputs": [],
   "source": [
    "tabular_learner?"
   ]
  },
  {
   "cell_type": "code",
   "execution_count": 28,
   "metadata": {
    "hidden": true
   },
   "outputs": [
    {
     "data": {
      "text/plain": [
       "FlattenedLoss of CrossEntropyLoss()"
      ]
     },
     "execution_count": 28,
     "metadata": {},
     "output_type": "execute_result"
    }
   ],
   "source": [
    "learn = tabular_learner(dls, [500, 250], metrics=metrics,\n",
    "                        cbs=ActivationStats(with_hist=True))\n",
    "learn.loss_func"
   ]
  },
  {
   "cell_type": "code",
   "execution_count": 29,
   "metadata": {
    "hidden": true,
    "scrolled": true
   },
   "outputs": [
    {
     "data": {
      "text/html": [],
      "text/plain": [
       "<IPython.core.display.HTML object>"
      ]
     },
     "metadata": {},
     "output_type": "display_data"
    },
    {
     "data": {
      "image/png": "[encoded data removed]",
      "text/plain": [
       "<Figure size 432x288 with 1 Axes>"
      ]
     },
     "metadata": {
      "needs_background": "light"
     },
     "output_type": "display_data"
    }
   ],
   "source": [
    "lr_min, lr_steep = learn.lr_find()"
   ]
  },
  {
   "cell_type": "code",
   "execution_count": 30,
   "metadata": {
    "hidden": true
   },
   "outputs": [
    {
     "data": {
      "text/plain": [
       "(0.00831763744354248, 0.0005754399462603033)"
      ]
     },
     "execution_count": 30,
     "metadata": {},
     "output_type": "execute_result"
    }
   ],
   "source": [
    "lr_min, lr_steep"
   ]
  },
  {
   "cell_type": "code",
   "execution_count": 31,
   "metadata": {
    "hidden": true
   },
   "outputs": [
    {
     "data": {
      "text/html": [
       "<table border=\"1\" class=\"dataframe\">\n",
       "  <thead>\n",
       "    <tr style=\"text-align: left;\">\n",
       "      <th>epoch</th>\n",
       "      <th>train_loss</th>\n",
       "      <th>valid_loss</th>\n",
       "      <th>accuracy</th>\n",
       "      <th>precision_score</th>\n",
       "      <th>recall_score</th>\n",
       "      <th>f1_score</th>\n",
       "      <th>roc_auc_score</th>\n",
       "      <th>time</th>\n",
       "    </tr>\n",
       "  </thead>\n",
       "  <tbody>\n",
       "    <tr>\n",
       "      <td>0</td>\n",
       "      <td>0.260107</td>\n",
       "      <td>0.305726</td>\n",
       "      <td>0.965905</td>\n",
       "      <td>0.400000</td>\n",
       "      <td>0.005510</td>\n",
       "      <td>0.010870</td>\n",
       "      <td>0.720341</td>\n",
       "      <td>00:05</td>\n",
       "    </tr>\n",
       "    <tr>\n",
       "      <td>1</td>\n",
       "      <td>0.150259</td>\n",
       "      <td>0.136139</td>\n",
       "      <td>0.968153</td>\n",
       "      <td>0.623656</td>\n",
       "      <td>0.159780</td>\n",
       "      <td>0.254386</td>\n",
       "      <td>0.805321</td>\n",
       "      <td>00:05</td>\n",
       "    </tr>\n",
       "    <tr>\n",
       "      <td>2</td>\n",
       "      <td>0.107061</td>\n",
       "      <td>0.127867</td>\n",
       "      <td>0.963563</td>\n",
       "      <td>0.434343</td>\n",
       "      <td>0.236915</td>\n",
       "      <td>0.306595</td>\n",
       "      <td>0.811424</td>\n",
       "      <td>00:05</td>\n",
       "    </tr>\n",
       "    <tr>\n",
       "      <td>3</td>\n",
       "      <td>0.083093</td>\n",
       "      <td>0.127346</td>\n",
       "      <td>0.963001</td>\n",
       "      <td>0.421569</td>\n",
       "      <td>0.236915</td>\n",
       "      <td>0.303351</td>\n",
       "      <td>0.809176</td>\n",
       "      <td>00:05</td>\n",
       "    </tr>\n",
       "  </tbody>\n",
       "</table>"
      ],
      "text/plain": [
       "<IPython.core.display.HTML object>"
      ]
     },
     "metadata": {},
     "output_type": "display_data"
    }
   ],
   "source": [
    "learn.fit_one_cycle(4, lr_steep, wd=0.01)"
   ]
  },
  {
   "cell_type": "code",
   "execution_count": 32,
   "metadata": {
    "hidden": true
   },
   "outputs": [
    {
     "data": {
      "image/png": "[encoded data removed]",
      "text/plain": [
       "<Figure size 864x216 with 3 Axes>"
      ]
     },
     "metadata": {
      "needs_background": "light"
     },
     "output_type": "display_data"
    }
   ],
   "source": [
    "learn.activation_stats.plot_layer_stats(1)"
   ]
  },
  {
   "cell_type": "code",
   "execution_count": 33,
   "metadata": {
    "hidden": true
   },
   "outputs": [
    {
     "data": {
      "image/png": "[encoded data removed]",
      "text/plain": [
       "<Figure size 720x360 with 1 Axes>"
      ]
     },
     "metadata": {
      "needs_background": "light"
     },
     "output_type": "display_data"
    }
   ],
   "source": [
    "learn.activation_stats.color_dim(1)"
   ]
  },
  {
   "cell_type": "code",
   "execution_count": 36,
   "metadata": {
    "hidden": true
   },
   "outputs": [
    {
     "data": {
      "text/html": [],
      "text/plain": [
       "<IPython.core.display.HTML object>"
      ]
     },
     "metadata": {},
     "output_type": "display_data"
    },
    {
     "data": {
      "text/plain": [
       "(1.4454397387453355e-06, 1.0964781722577754e-06)"
      ]
     },
     "execution_count": 36,
     "metadata": {},
     "output_type": "execute_result"
    },
    {
     "data": {
      "image/png": "[encoded data removed]",
      "text/plain": [
       "<Figure size 432x288 with 1 Axes>"
      ]
     },
     "metadata": {
      "needs_background": "light"
     },
     "output_type": "display_data"
    }
   ],
   "source": [
    "lr_min, lr_steep = learn.lr_find()\n",
    "lr_min, lr_steep"
   ]
  },
  {
   "cell_type": "code",
   "execution_count": 37,
   "metadata": {
    "hidden": true
   },
   "outputs": [
    {
     "data": {
      "text/html": [
       "<table border=\"1\" class=\"dataframe\">\n",
       "  <thead>\n",
       "    <tr style=\"text-align: left;\">\n",
       "      <th>epoch</th>\n",
       "      <th>train_loss</th>\n",
       "      <th>valid_loss</th>\n",
       "      <th>accuracy</th>\n",
       "      <th>precision_score</th>\n",
       "      <th>recall_score</th>\n",
       "      <th>f1_score</th>\n",
       "      <th>roc_auc_score</th>\n",
       "      <th>time</th>\n",
       "    </tr>\n",
       "  </thead>\n",
       "  <tbody>\n",
       "    <tr>\n",
       "      <td>0</td>\n",
       "      <td>0.066253</td>\n",
       "      <td>0.127134</td>\n",
       "      <td>0.963750</td>\n",
       "      <td>0.436842</td>\n",
       "      <td>0.228650</td>\n",
       "      <td>0.300181</td>\n",
       "      <td>0.807679</td>\n",
       "      <td>00:05</td>\n",
       "    </tr>\n",
       "    <tr>\n",
       "      <td>1</td>\n",
       "      <td>0.066185</td>\n",
       "      <td>0.127167</td>\n",
       "      <td>0.964031</td>\n",
       "      <td>0.443243</td>\n",
       "      <td>0.225895</td>\n",
       "      <td>0.299270</td>\n",
       "      <td>0.806966</td>\n",
       "      <td>00:04</td>\n",
       "    </tr>\n",
       "    <tr>\n",
       "      <td>2</td>\n",
       "      <td>0.066150</td>\n",
       "      <td>0.127271</td>\n",
       "      <td>0.963563</td>\n",
       "      <td>0.430851</td>\n",
       "      <td>0.223140</td>\n",
       "      <td>0.294011</td>\n",
       "      <td>0.806968</td>\n",
       "      <td>00:04</td>\n",
       "    </tr>\n",
       "    <tr>\n",
       "      <td>3</td>\n",
       "      <td>0.065994</td>\n",
       "      <td>0.127208</td>\n",
       "      <td>0.964312</td>\n",
       "      <td>0.450549</td>\n",
       "      <td>0.225895</td>\n",
       "      <td>0.300917</td>\n",
       "      <td>0.806350</td>\n",
       "      <td>00:04</td>\n",
       "    </tr>\n",
       "  </tbody>\n",
       "</table>"
      ],
      "text/plain": [
       "<IPython.core.display.HTML object>"
      ]
     },
     "metadata": {},
     "output_type": "display_data"
    }
   ],
   "source": [
    "learn.fit_one_cycle(4, lr_steep, wd=0.01)"
   ]
  },
  {
   "cell_type": "markdown",
   "metadata": {
    "heading_collapsed": true
   },
   "source": [
    "# NN with V*** features"
   ]
  },
  {
   "cell_type": "code",
   "execution_count": 6,
   "metadata": {
    "hidden": true
   },
   "outputs": [],
   "source": [
    "train_s = pd.read_csv(path/'train_s.csv', index_col=[0], low_memory=False)\n",
    "train_s['isFraud'] = train_s['isFraud'].astype('category')"
   ]
  },
  {
   "cell_type": "code",
   "execution_count": 11,
   "metadata": {
    "hidden": true
   },
   "outputs": [],
   "source": [
    "cat = ['ProductCD', 'card1', 'card2', 'card3', 'card4', 'card5', 'card6', \n",
    "       'addr1', 'addr2', 'P_emaildomain', 'R_emaildomain', 'M1', 'M2', 'M3', \n",
    "       'M4', 'M5', 'M6', 'M7', 'M8', 'M9', 'DeviceType', 'DeviceInfo', 'id_12', \n",
    "       'id_13', 'id_14', 'id_15', 'id_16', 'id_17', 'id_18', 'id_19', 'id_20', \n",
    "       'id_21', 'id_22', 'id_23', 'id_24', 'id_25', 'id_26', 'id_27', 'id_28', \n",
    "       'id_29', 'id_30', 'id_31', 'id_32', 'id_33', 'id_34', 'id_35', 'id_36',\n",
    "       'id_37', 'id_38']\n",
    "cont = ['TransactionID', 'TransactionDT', 'TransactionAmt',\n",
    "        'dist1', 'dist2', 'C1', 'C2', 'C3', 'C4', 'C5', 'C6', 'C7', 'C8', 'C9', \n",
    "        'C10', 'C11','C12', 'C13', 'C14', 'D1', 'D2', 'D3', 'D4', 'D5', 'D6', 'D7', \n",
    "        'D8', 'D9', 'D10', 'D11', 'D12', 'D13', 'D14', 'D15', 'id_01', 'id_02', \n",
    "        'id_03', 'id_04', 'id_05', 'id_06', 'id_07', 'id_08', 'id_09', 'id_10', \n",
    "        'id_11','V1', 'V2', 'V3', 'V4', 'V5', 'V6', 'V7', 'V8', 'V9', 'V10', 'V11',\n",
    "       'V12', 'V13', 'V14', 'V15', 'V16', 'V17', 'V18', 'V19', 'V20',\n",
    "       'V21', 'V22', 'V23', 'V24', 'V25', 'V26', 'V27', 'V28', 'V29',\n",
    "       'V30', 'V31', 'V32', 'V33', 'V34', 'V35', 'V36', 'V37', 'V38',\n",
    "       'V39', 'V40', 'V41', 'V42', 'V43', 'V44', 'V45', 'V46', 'V47',\n",
    "       'V48', 'V49', 'V50', 'V51', 'V52', 'V53', 'V54', 'V55', 'V56',\n",
    "       'V57', 'V58', 'V59', 'V60', 'V61', 'V62', 'V63', 'V64', 'V65',\n",
    "       'V66', 'V67', 'V68', 'V69', 'V70', 'V71', 'V72', 'V73', 'V74',\n",
    "       'V75', 'V76', 'V77', 'V78', 'V79', 'V80', 'V81', 'V82', 'V83',\n",
    "       'V84', 'V85', 'V86', 'V87', 'V88', 'V89', 'V90', 'V91', 'V92',\n",
    "       'V93', 'V94', 'V95', 'V96', 'V97', 'V98', 'V99', 'V100', 'V101',\n",
    "       'V102', 'V103', 'V104', 'V105', 'V106', 'V107', 'V108', 'V109',\n",
    "       'V110', 'V111', 'V112', 'V113', 'V114', 'V115', 'V116', 'V117',\n",
    "       'V118', 'V119', 'V120', 'V121', 'V122', 'V123', 'V124', 'V125',\n",
    "       'V126', 'V127', 'V128', 'V129', 'V130', 'V131', 'V132', 'V133',\n",
    "       'V134', 'V135', 'V136', 'V137', 'V138', 'V139', 'V140', 'V141',\n",
    "       'V142', 'V143', 'V144', 'V145', 'V146', 'V147', 'V148', 'V149',\n",
    "       'V150', 'V151', 'V152', 'V153', 'V154', 'V155', 'V156', 'V157',\n",
    "       'V158', 'V159', 'V160', 'V161', 'V162', 'V163', 'V164', 'V165',\n",
    "       'V166', 'V167', 'V168', 'V169', 'V170', 'V171', 'V172', 'V173',\n",
    "       'V174', 'V175', 'V176', 'V177', 'V178', 'V179', 'V180', 'V181',\n",
    "       'V182', 'V183', 'V184', 'V185', 'V186', 'V187', 'V188', 'V189',\n",
    "       'V190', 'V191', 'V192', 'V193', 'V194', 'V195', 'V196', 'V197',\n",
    "       'V198', 'V199', 'V200', 'V201', 'V202', 'V203', 'V204', 'V205',\n",
    "       'V206', 'V207', 'V208', 'V209', 'V210', 'V211', 'V212', 'V213',\n",
    "       'V214', 'V215', 'V216', 'V217', 'V218', 'V219', 'V220', 'V221',\n",
    "       'V222', 'V223', 'V224', 'V225', 'V226', 'V227', 'V228', 'V229',\n",
    "       'V230', 'V231', 'V232', 'V233', 'V234', 'V235', 'V236', 'V237',\n",
    "       'V238', 'V239', 'V240', 'V241', 'V242', 'V243', 'V244', 'V245',\n",
    "       'V246', 'V247', 'V248', 'V249', 'V250', 'V251', 'V252', 'V253',\n",
    "       'V254', 'V255', 'V256', 'V257', 'V258', 'V259', 'V260', 'V261',\n",
    "       'V262', 'V263', 'V264', 'V265', 'V266', 'V267', 'V268', 'V269',\n",
    "       'V270', 'V271', 'V272', 'V273', 'V274', 'V275', 'V276', 'V277',\n",
    "       'V278', 'V279', 'V280', 'V281', 'V282', 'V283', 'V284', 'V285',\n",
    "       'V286', 'V287', 'V288', 'V289', 'V290', 'V291', 'V292', 'V293',\n",
    "       'V294', 'V295', 'V296', 'V297', 'V298', 'V299', 'V300', 'V301',\n",
    "       'V302', 'V303', 'V304', 'V305', 'V306', 'V307', 'V308', 'V309',\n",
    "       'V310', 'V311', 'V312', 'V313', 'V314', 'V315', 'V316', 'V317',\n",
    "       'V318', 'V319', 'V320', 'V321', 'V322', 'V323', 'V324', 'V325',\n",
    "       'V326', 'V327', 'V328', 'V329', 'V330', 'V331', 'V332', 'V333',\n",
    "       'V334', 'V335', 'V336', 'V337', 'V338', 'V339'] \n",
    "dep_var='isFraud'"
   ]
  },
  {
   "cell_type": "code",
   "execution_count": 12,
   "metadata": {
    "hidden": true
   },
   "outputs": [],
   "source": [
    "assert len(cat)+len(cont)==(len(train_s.columns)-1)"
   ]
  },
  {
   "cell_type": "code",
   "execution_count": 13,
   "metadata": {
    "hidden": true
   },
   "outputs": [
    {
     "data": {
      "text/plain": [
       "12579548"
      ]
     },
     "execution_count": 13,
     "metadata": {},
     "output_type": "execute_result"
    }
   ],
   "source": [
    "# The rows with TransactionDT <= 12579058 comprise the first 80% of the data (approximately)\n",
    "cut_off = math.floor((train_s['TransactionDT'].max() - train_s['TransactionDT'].min())*0.8)\n",
    "cut_off"
   ]
  },
  {
   "cell_type": "code",
   "execution_count": 14,
   "metadata": {
    "hidden": true
   },
   "outputs": [],
   "source": [
    "cond = train_s['TransactionDT'] <= cut_off\n",
    "train_idx = np.where( cond)[0]\n",
    "valid_idx = np.where(~cond)[0]\n",
    "\n",
    "splits = (list(train_idx),list(valid_idx))"
   ]
  },
  {
   "cell_type": "code",
   "execution_count": 15,
   "metadata": {
    "hidden": true
   },
   "outputs": [
    {
     "data": {
      "text/plain": [
       "FlattenedLoss of CrossEntropyLoss()"
      ]
     },
     "execution_count": 15,
     "metadata": {},
     "output_type": "execute_result"
    }
   ],
   "source": [
    "procs_nn = [Categorify, FillMissing, Normalize]\n",
    "to_nn = TabularPandas(train_s, procs_nn, cat, cont,\n",
    "                     splits=splits, y_names=dep_var)\n",
    "to_nn.loss_func"
   ]
  },
  {
   "cell_type": "code",
   "execution_count": 16,
   "metadata": {
    "hidden": true
   },
   "outputs": [],
   "source": [
    "(path/'to_nn_full.pkl').save(to_nn)"
   ]
  },
  {
   "cell_type": "code",
   "execution_count": 49,
   "metadata": {
    "hidden": true
   },
   "outputs": [],
   "source": [
    "dls = to_nn.dataloaders(1024)"
   ]
  },
  {
   "cell_type": "code",
   "execution_count": 51,
   "metadata": {
    "hidden": true
   },
   "outputs": [
    {
     "data": {
      "text/plain": [
       "FlattenedLoss of CrossEntropyLoss()"
      ]
     },
     "execution_count": 51,
     "metadata": {},
     "output_type": "execute_result"
    }
   ],
   "source": [
    "learn = tabular_learner(dls, layers=[500,250], metrics=metrics,\n",
    "                        cbs=ActivationStats(with_hist=True))\n",
    "learn.loss_func"
   ]
  },
  {
   "cell_type": "code",
   "execution_count": 52,
   "metadata": {
    "collapsed": true,
    "hidden": true
   },
   "outputs": [
    {
     "data": {
      "text/plain": [
       "TabularModel(\n",
       "  (embeds): ModuleList(\n",
       "    (0): Embedding(6, 4)\n",
       "    (1): Embedding(5663, 202)\n",
       "    (2): Embedding(499, 52)\n",
       "    (3): Embedding(68, 17)\n",
       "    (4): Embedding(5, 4)\n",
       "    (5): Embedding(72, 18)\n",
       "    (6): Embedding(5, 4)\n",
       "    (7): Embedding(139, 25)\n",
       "    (8): Embedding(30, 11)\n",
       "    (9): Embedding(60, 16)\n",
       "    (10): Embedding(61, 16)\n",
       "    (11): Embedding(3, 3)\n",
       "    (12): Embedding(3, 3)\n",
       "    (13): Embedding(3, 3)\n",
       "    (14): Embedding(4, 3)\n",
       "    (15): Embedding(3, 3)\n",
       "    (16): Embedding(3, 3)\n",
       "    (17): Embedding(3, 3)\n",
       "    (18): Embedding(3, 3)\n",
       "    (19): Embedding(3, 3)\n",
       "    (20): Embedding(3, 3)\n",
       "    (21): Embedding(804, 68)\n",
       "    (22): Embedding(3, 3)\n",
       "    (23): Embedding(37, 12)\n",
       "    (24): Embedding(22, 9)\n",
       "    (25): Embedding(4, 3)\n",
       "    (26): Embedding(3, 3)\n",
       "    (27): Embedding(56, 15)\n",
       "    (28): Embedding(14, 7)\n",
       "    (29): Embedding(345, 42)\n",
       "    (30): Embedding(207, 32)\n",
       "    (31): Embedding(114, 23)\n",
       "    (32): Embedding(8, 5)\n",
       "    (33): Embedding(4, 3)\n",
       "    (34): Embedding(7, 5)\n",
       "    (35): Embedding(108, 22)\n",
       "    (36): Embedding(50, 14)\n",
       "    (37): Embedding(3, 3)\n",
       "    (38): Embedding(3, 3)\n",
       "    (39): Embedding(3, 3)\n",
       "    (40): Embedding(73, 18)\n",
       "    (41): Embedding(107, 22)\n",
       "    (42): Embedding(4, 3)\n",
       "    (43): Embedding(106, 22)\n",
       "    (44): Embedding(4, 3)\n",
       "    (45): Embedding(3, 3)\n",
       "    (46): Embedding(3, 3)\n",
       "    (47): Embedding(3, 3)\n",
       "    (48): Embedding(3, 3)\n",
       "    (49): Embedding(3, 3)\n",
       "    (50): Embedding(3, 3)\n",
       "    (51): Embedding(3, 3)\n",
       "    (52): Embedding(3, 3)\n",
       "    (53): Embedding(3, 3)\n",
       "    (54): Embedding(3, 3)\n",
       "    (55): Embedding(3, 3)\n",
       "    (56): Embedding(3, 3)\n",
       "    (57): Embedding(3, 3)\n",
       "    (58): Embedding(3, 3)\n",
       "    (59): Embedding(3, 3)\n",
       "    (60): Embedding(3, 3)\n",
       "    (61): Embedding(3, 3)\n",
       "    (62): Embedding(3, 3)\n",
       "    (63): Embedding(3, 3)\n",
       "    (64): Embedding(3, 3)\n",
       "    (65): Embedding(3, 3)\n",
       "    (66): Embedding(3, 3)\n",
       "    (67): Embedding(3, 3)\n",
       "    (68): Embedding(3, 3)\n",
       "    (69): Embedding(3, 3)\n",
       "    (70): Embedding(3, 3)\n",
       "    (71): Embedding(3, 3)\n",
       "    (72): Embedding(3, 3)\n",
       "    (73): Embedding(3, 3)\n",
       "    (74): Embedding(3, 3)\n",
       "    (75): Embedding(3, 3)\n",
       "    (76): Embedding(3, 3)\n",
       "    (77): Embedding(3, 3)\n",
       "    (78): Embedding(3, 3)\n",
       "    (79): Embedding(3, 3)\n",
       "    (80): Embedding(3, 3)\n",
       "    (81): Embedding(3, 3)\n",
       "    (82): Embedding(3, 3)\n",
       "    (83): Embedding(3, 3)\n",
       "    (84): Embedding(3, 3)\n",
       "    (85): Embedding(3, 3)\n",
       "    (86): Embedding(3, 3)\n",
       "    (87): Embedding(3, 3)\n",
       "    (88): Embedding(3, 3)\n",
       "    (89): Embedding(3, 3)\n",
       "    (90): Embedding(3, 3)\n",
       "    (91): Embedding(3, 3)\n",
       "    (92): Embedding(3, 3)\n",
       "    (93): Embedding(3, 3)\n",
       "    (94): Embedding(3, 3)\n",
       "    (95): Embedding(3, 3)\n",
       "    (96): Embedding(3, 3)\n",
       "    (97): Embedding(3, 3)\n",
       "    (98): Embedding(3, 3)\n",
       "    (99): Embedding(3, 3)\n",
       "    (100): Embedding(3, 3)\n",
       "    (101): Embedding(3, 3)\n",
       "    (102): Embedding(3, 3)\n",
       "    (103): Embedding(3, 3)\n",
       "    (104): Embedding(3, 3)\n",
       "    (105): Embedding(3, 3)\n",
       "    (106): Embedding(3, 3)\n",
       "    (107): Embedding(3, 3)\n",
       "    (108): Embedding(3, 3)\n",
       "    (109): Embedding(3, 3)\n",
       "    (110): Embedding(3, 3)\n",
       "    (111): Embedding(3, 3)\n",
       "    (112): Embedding(3, 3)\n",
       "    (113): Embedding(3, 3)\n",
       "    (114): Embedding(3, 3)\n",
       "    (115): Embedding(3, 3)\n",
       "    (116): Embedding(3, 3)\n",
       "    (117): Embedding(3, 3)\n",
       "    (118): Embedding(3, 3)\n",
       "    (119): Embedding(3, 3)\n",
       "    (120): Embedding(3, 3)\n",
       "    (121): Embedding(3, 3)\n",
       "    (122): Embedding(3, 3)\n",
       "    (123): Embedding(3, 3)\n",
       "    (124): Embedding(3, 3)\n",
       "    (125): Embedding(3, 3)\n",
       "    (126): Embedding(3, 3)\n",
       "    (127): Embedding(3, 3)\n",
       "    (128): Embedding(3, 3)\n",
       "    (129): Embedding(3, 3)\n",
       "    (130): Embedding(3, 3)\n",
       "    (131): Embedding(3, 3)\n",
       "    (132): Embedding(3, 3)\n",
       "    (133): Embedding(3, 3)\n",
       "    (134): Embedding(3, 3)\n",
       "    (135): Embedding(3, 3)\n",
       "    (136): Embedding(3, 3)\n",
       "    (137): Embedding(3, 3)\n",
       "    (138): Embedding(3, 3)\n",
       "    (139): Embedding(3, 3)\n",
       "    (140): Embedding(3, 3)\n",
       "    (141): Embedding(3, 3)\n",
       "    (142): Embedding(3, 3)\n",
       "    (143): Embedding(3, 3)\n",
       "    (144): Embedding(3, 3)\n",
       "    (145): Embedding(3, 3)\n",
       "    (146): Embedding(3, 3)\n",
       "    (147): Embedding(3, 3)\n",
       "    (148): Embedding(3, 3)\n",
       "    (149): Embedding(3, 3)\n",
       "    (150): Embedding(3, 3)\n",
       "    (151): Embedding(3, 3)\n",
       "    (152): Embedding(3, 3)\n",
       "    (153): Embedding(3, 3)\n",
       "    (154): Embedding(3, 3)\n",
       "    (155): Embedding(3, 3)\n",
       "    (156): Embedding(3, 3)\n",
       "    (157): Embedding(3, 3)\n",
       "    (158): Embedding(3, 3)\n",
       "    (159): Embedding(3, 3)\n",
       "    (160): Embedding(3, 3)\n",
       "    (161): Embedding(3, 3)\n",
       "    (162): Embedding(3, 3)\n",
       "    (163): Embedding(3, 3)\n",
       "    (164): Embedding(3, 3)\n",
       "    (165): Embedding(3, 3)\n",
       "    (166): Embedding(3, 3)\n",
       "    (167): Embedding(3, 3)\n",
       "    (168): Embedding(3, 3)\n",
       "    (169): Embedding(3, 3)\n",
       "    (170): Embedding(3, 3)\n",
       "    (171): Embedding(3, 3)\n",
       "    (172): Embedding(3, 3)\n",
       "    (173): Embedding(3, 3)\n",
       "    (174): Embedding(3, 3)\n",
       "    (175): Embedding(3, 3)\n",
       "    (176): Embedding(3, 3)\n",
       "    (177): Embedding(3, 3)\n",
       "    (178): Embedding(3, 3)\n",
       "    (179): Embedding(3, 3)\n",
       "    (180): Embedding(3, 3)\n",
       "    (181): Embedding(3, 3)\n",
       "    (182): Embedding(3, 3)\n",
       "    (183): Embedding(3, 3)\n",
       "    (184): Embedding(3, 3)\n",
       "    (185): Embedding(3, 3)\n",
       "    (186): Embedding(3, 3)\n",
       "    (187): Embedding(3, 3)\n",
       "    (188): Embedding(3, 3)\n",
       "    (189): Embedding(3, 3)\n",
       "    (190): Embedding(3, 3)\n",
       "    (191): Embedding(3, 3)\n",
       "    (192): Embedding(3, 3)\n",
       "    (193): Embedding(3, 3)\n",
       "    (194): Embedding(3, 3)\n",
       "    (195): Embedding(3, 3)\n",
       "    (196): Embedding(3, 3)\n",
       "    (197): Embedding(3, 3)\n",
       "    (198): Embedding(3, 3)\n",
       "    (199): Embedding(3, 3)\n",
       "    (200): Embedding(3, 3)\n",
       "    (201): Embedding(3, 3)\n",
       "    (202): Embedding(3, 3)\n",
       "    (203): Embedding(3, 3)\n",
       "    (204): Embedding(3, 3)\n",
       "    (205): Embedding(3, 3)\n",
       "    (206): Embedding(3, 3)\n",
       "    (207): Embedding(3, 3)\n",
       "    (208): Embedding(3, 3)\n",
       "    (209): Embedding(3, 3)\n",
       "    (210): Embedding(3, 3)\n",
       "    (211): Embedding(3, 3)\n",
       "    (212): Embedding(3, 3)\n",
       "    (213): Embedding(3, 3)\n",
       "    (214): Embedding(3, 3)\n",
       "    (215): Embedding(3, 3)\n",
       "    (216): Embedding(3, 3)\n",
       "    (217): Embedding(3, 3)\n",
       "    (218): Embedding(3, 3)\n",
       "    (219): Embedding(3, 3)\n",
       "    (220): Embedding(3, 3)\n",
       "    (221): Embedding(3, 3)\n",
       "    (222): Embedding(3, 3)\n",
       "    (223): Embedding(3, 3)\n",
       "    (224): Embedding(3, 3)\n",
       "    (225): Embedding(3, 3)\n",
       "    (226): Embedding(3, 3)\n",
       "    (227): Embedding(3, 3)\n",
       "    (228): Embedding(3, 3)\n",
       "    (229): Embedding(3, 3)\n",
       "    (230): Embedding(3, 3)\n",
       "    (231): Embedding(3, 3)\n",
       "    (232): Embedding(3, 3)\n",
       "    (233): Embedding(3, 3)\n",
       "    (234): Embedding(3, 3)\n",
       "    (235): Embedding(3, 3)\n",
       "    (236): Embedding(3, 3)\n",
       "    (237): Embedding(3, 3)\n",
       "    (238): Embedding(3, 3)\n",
       "    (239): Embedding(3, 3)\n",
       "    (240): Embedding(3, 3)\n",
       "    (241): Embedding(3, 3)\n",
       "    (242): Embedding(3, 3)\n",
       "    (243): Embedding(3, 3)\n",
       "    (244): Embedding(3, 3)\n",
       "    (245): Embedding(3, 3)\n",
       "    (246): Embedding(3, 3)\n",
       "    (247): Embedding(3, 3)\n",
       "    (248): Embedding(3, 3)\n",
       "    (249): Embedding(3, 3)\n",
       "    (250): Embedding(3, 3)\n",
       "    (251): Embedding(3, 3)\n",
       "    (252): Embedding(3, 3)\n",
       "    (253): Embedding(3, 3)\n",
       "    (254): Embedding(3, 3)\n",
       "    (255): Embedding(3, 3)\n",
       "    (256): Embedding(3, 3)\n",
       "    (257): Embedding(3, 3)\n",
       "    (258): Embedding(3, 3)\n",
       "    (259): Embedding(3, 3)\n",
       "    (260): Embedding(3, 3)\n",
       "    (261): Embedding(3, 3)\n",
       "    (262): Embedding(3, 3)\n",
       "    (263): Embedding(3, 3)\n",
       "    (264): Embedding(3, 3)\n",
       "    (265): Embedding(3, 3)\n",
       "    (266): Embedding(3, 3)\n",
       "    (267): Embedding(3, 3)\n",
       "    (268): Embedding(3, 3)\n",
       "    (269): Embedding(3, 3)\n",
       "    (270): Embedding(3, 3)\n",
       "    (271): Embedding(3, 3)\n",
       "    (272): Embedding(3, 3)\n",
       "    (273): Embedding(3, 3)\n",
       "    (274): Embedding(3, 3)\n",
       "    (275): Embedding(3, 3)\n",
       "    (276): Embedding(3, 3)\n",
       "    (277): Embedding(3, 3)\n",
       "    (278): Embedding(3, 3)\n",
       "    (279): Embedding(3, 3)\n",
       "    (280): Embedding(3, 3)\n",
       "    (281): Embedding(3, 3)\n",
       "    (282): Embedding(3, 3)\n",
       "    (283): Embedding(3, 3)\n",
       "    (284): Embedding(3, 3)\n",
       "    (285): Embedding(3, 3)\n",
       "    (286): Embedding(3, 3)\n",
       "    (287): Embedding(3, 3)\n",
       "    (288): Embedding(3, 3)\n",
       "    (289): Embedding(3, 3)\n",
       "    (290): Embedding(3, 3)\n",
       "    (291): Embedding(3, 3)\n",
       "    (292): Embedding(3, 3)\n",
       "    (293): Embedding(3, 3)\n",
       "    (294): Embedding(3, 3)\n",
       "    (295): Embedding(3, 3)\n",
       "    (296): Embedding(3, 3)\n",
       "    (297): Embedding(3, 3)\n",
       "    (298): Embedding(3, 3)\n",
       "    (299): Embedding(3, 3)\n",
       "    (300): Embedding(3, 3)\n",
       "    (301): Embedding(3, 3)\n",
       "    (302): Embedding(3, 3)\n",
       "    (303): Embedding(3, 3)\n",
       "    (304): Embedding(3, 3)\n",
       "    (305): Embedding(3, 3)\n",
       "    (306): Embedding(3, 3)\n",
       "    (307): Embedding(3, 3)\n",
       "    (308): Embedding(3, 3)\n",
       "    (309): Embedding(3, 3)\n",
       "    (310): Embedding(3, 3)\n",
       "    (311): Embedding(3, 3)\n",
       "    (312): Embedding(3, 3)\n",
       "    (313): Embedding(3, 3)\n",
       "    (314): Embedding(3, 3)\n",
       "    (315): Embedding(3, 3)\n",
       "    (316): Embedding(3, 3)\n",
       "    (317): Embedding(3, 3)\n",
       "    (318): Embedding(3, 3)\n",
       "    (319): Embedding(3, 3)\n",
       "    (320): Embedding(3, 3)\n",
       "    (321): Embedding(3, 3)\n",
       "    (322): Embedding(3, 3)\n",
       "    (323): Embedding(3, 3)\n",
       "    (324): Embedding(3, 3)\n",
       "    (325): Embedding(3, 3)\n",
       "    (326): Embedding(3, 3)\n",
       "    (327): Embedding(3, 3)\n",
       "    (328): Embedding(3, 3)\n",
       "    (329): Embedding(3, 3)\n",
       "    (330): Embedding(3, 3)\n",
       "    (331): Embedding(3, 3)\n",
       "    (332): Embedding(3, 3)\n",
       "    (333): Embedding(3, 3)\n",
       "    (334): Embedding(3, 3)\n",
       "    (335): Embedding(3, 3)\n",
       "    (336): Embedding(3, 3)\n",
       "    (337): Embedding(3, 3)\n",
       "    (338): Embedding(3, 3)\n",
       "    (339): Embedding(3, 3)\n",
       "    (340): Embedding(3, 3)\n",
       "    (341): Embedding(3, 3)\n",
       "    (342): Embedding(3, 3)\n",
       "    (343): Embedding(3, 3)\n",
       "    (344): Embedding(3, 3)\n",
       "    (345): Embedding(3, 3)\n",
       "    (346): Embedding(3, 3)\n",
       "    (347): Embedding(3, 3)\n",
       "    (348): Embedding(3, 3)\n",
       "    (349): Embedding(3, 3)\n",
       "    (350): Embedding(3, 3)\n",
       "    (351): Embedding(3, 3)\n",
       "    (352): Embedding(3, 3)\n",
       "    (353): Embedding(3, 3)\n",
       "    (354): Embedding(3, 3)\n",
       "    (355): Embedding(3, 3)\n",
       "    (356): Embedding(3, 3)\n",
       "    (357): Embedding(3, 3)\n",
       "    (358): Embedding(3, 3)\n",
       "    (359): Embedding(3, 3)\n",
       "    (360): Embedding(3, 3)\n",
       "    (361): Embedding(3, 3)\n",
       "    (362): Embedding(3, 3)\n",
       "    (363): Embedding(3, 3)\n",
       "    (364): Embedding(3, 3)\n",
       "    (365): Embedding(3, 3)\n",
       "    (366): Embedding(3, 3)\n",
       "    (367): Embedding(3, 3)\n",
       "    (368): Embedding(3, 3)\n",
       "    (369): Embedding(3, 3)\n",
       "    (370): Embedding(3, 3)\n",
       "    (371): Embedding(3, 3)\n",
       "    (372): Embedding(3, 3)\n",
       "    (373): Embedding(3, 3)\n",
       "    (374): Embedding(3, 3)\n",
       "    (375): Embedding(3, 3)\n",
       "    (376): Embedding(3, 3)\n",
       "    (377): Embedding(3, 3)\n",
       "    (378): Embedding(3, 3)\n",
       "    (379): Embedding(3, 3)\n",
       "    (380): Embedding(3, 3)\n",
       "    (381): Embedding(3, 3)\n",
       "    (382): Embedding(3, 3)\n",
       "    (383): Embedding(3, 3)\n",
       "    (384): Embedding(3, 3)\n",
       "    (385): Embedding(3, 3)\n",
       "    (386): Embedding(3, 3)\n",
       "    (387): Embedding(3, 3)\n",
       "    (388): Embedding(3, 3)\n",
       "    (389): Embedding(3, 3)\n",
       "    (390): Embedding(3, 3)\n",
       "    (391): Embedding(3, 3)\n",
       "    (392): Embedding(3, 3)\n",
       "    (393): Embedding(3, 3)\n",
       "    (394): Embedding(3, 3)\n",
       "    (395): Embedding(3, 3)\n",
       "    (396): Embedding(3, 3)\n",
       "    (397): Embedding(3, 3)\n",
       "    (398): Embedding(3, 3)\n",
       "    (399): Embedding(3, 3)\n",
       "    (400): Embedding(3, 3)\n",
       "    (401): Embedding(3, 3)\n",
       "    (402): Embedding(3, 3)\n",
       "    (403): Embedding(3, 3)\n",
       "    (404): Embedding(3, 3)\n",
       "    (405): Embedding(3, 3)\n",
       "    (406): Embedding(3, 3)\n",
       "    (407): Embedding(3, 3)\n",
       "    (408): Embedding(3, 3)\n",
       "    (409): Embedding(3, 3)\n",
       "    (410): Embedding(3, 3)\n",
       "    (411): Embedding(3, 3)\n",
       "    (412): Embedding(3, 3)\n",
       "    (413): Embedding(3, 3)\n",
       "    (414): Embedding(3, 3)\n",
       "    (415): Embedding(3, 3)\n",
       "  )\n",
       "  (emb_drop): Dropout(p=0.0, inplace=False)\n",
       "  (bn_cont): BatchNorm1d(384, eps=1e-05, momentum=0.1, affine=True, track_running_stats=True)\n",
       "  (layers): Sequential(\n",
       "    (0): LinBnDrop(\n",
       "      (0): BatchNorm1d(2239, eps=1e-05, momentum=0.1, affine=True, track_running_stats=True)\n",
       "      (1): Linear(in_features=2239, out_features=500, bias=False)\n",
       "      (2): ReLU(inplace=True)\n",
       "    )\n",
       "    (1): LinBnDrop(\n",
       "      (0): BatchNorm1d(500, eps=1e-05, momentum=0.1, affine=True, track_running_stats=True)\n",
       "      (1): Linear(in_features=500, out_features=250, bias=False)\n",
       "      (2): ReLU(inplace=True)\n",
       "    )\n",
       "    (2): LinBnDrop(\n",
       "      (0): Linear(in_features=250, out_features=2, bias=True)\n",
       "    )\n",
       "  )\n",
       ")"
      ]
     },
     "execution_count": 52,
     "metadata": {},
     "output_type": "execute_result"
    }
   ],
   "source": [
    "learn.model"
   ]
  },
  {
   "cell_type": "code",
   "execution_count": 54,
   "metadata": {
    "hidden": true
   },
   "outputs": [
    {
     "data": {
      "text/html": [],
      "text/plain": [
       "<IPython.core.display.HTML object>"
      ]
     },
     "metadata": {},
     "output_type": "display_data"
    },
    {
     "data": {
      "text/plain": [
       "(0.001096478197723627, 0.0003311311302240938)"
      ]
     },
     "execution_count": 54,
     "metadata": {},
     "output_type": "execute_result"
    },
    {
     "data": {
      "image/png": "[encoded data removed]",
      "text/plain": [
       "<Figure size 432x288 with 1 Axes>"
      ]
     },
     "metadata": {
      "needs_background": "light"
     },
     "output_type": "display_data"
    }
   ],
   "source": [
    "lr_min, lr_steep = learn.lr_find()\n",
    "lr_min, lr_steep"
   ]
  },
  {
   "cell_type": "code",
   "execution_count": 55,
   "metadata": {
    "hidden": true
   },
   "outputs": [
    {
     "data": {
      "text/html": [
       "<table border=\"1\" class=\"dataframe\">\n",
       "  <thead>\n",
       "    <tr style=\"text-align: left;\">\n",
       "      <th>epoch</th>\n",
       "      <th>train_loss</th>\n",
       "      <th>valid_loss</th>\n",
       "      <th>accuracy</th>\n",
       "      <th>precision_score</th>\n",
       "      <th>recall_score</th>\n",
       "      <th>f1_score</th>\n",
       "      <th>roc_auc_score</th>\n",
       "      <th>time</th>\n",
       "    </tr>\n",
       "  </thead>\n",
       "  <tbody>\n",
       "    <tr>\n",
       "      <td>0</td>\n",
       "      <td>0.247370</td>\n",
       "      <td>0.393123</td>\n",
       "      <td>0.953830</td>\n",
       "      <td>0.343558</td>\n",
       "      <td>0.282116</td>\n",
       "      <td>0.309820</td>\n",
       "      <td>0.713047</td>\n",
       "      <td>00:16</td>\n",
       "    </tr>\n",
       "    <tr>\n",
       "      <td>1</td>\n",
       "      <td>0.141890</td>\n",
       "      <td>0.151331</td>\n",
       "      <td>0.968357</td>\n",
       "      <td>0.653631</td>\n",
       "      <td>0.294710</td>\n",
       "      <td>0.406250</td>\n",
       "      <td>0.824860</td>\n",
       "      <td>00:16</td>\n",
       "    </tr>\n",
       "    <tr>\n",
       "      <td>2</td>\n",
       "      <td>0.102818</td>\n",
       "      <td>0.111202</td>\n",
       "      <td>0.969189</td>\n",
       "      <td>0.660000</td>\n",
       "      <td>0.332494</td>\n",
       "      <td>0.442211</td>\n",
       "      <td>0.856364</td>\n",
       "      <td>00:16</td>\n",
       "    </tr>\n",
       "    <tr>\n",
       "      <td>3</td>\n",
       "      <td>0.082404</td>\n",
       "      <td>0.111632</td>\n",
       "      <td>0.969282</td>\n",
       "      <td>0.671958</td>\n",
       "      <td>0.319899</td>\n",
       "      <td>0.433447</td>\n",
       "      <td>0.852742</td>\n",
       "      <td>00:16</td>\n",
       "    </tr>\n",
       "  </tbody>\n",
       "</table>"
      ],
      "text/plain": [
       "<IPython.core.display.HTML object>"
      ]
     },
     "metadata": {},
     "output_type": "display_data"
    }
   ],
   "source": [
    "learn.fit_one_cycle(4, lr_steep, wd=0.01)"
   ]
  },
  {
   "cell_type": "code",
   "execution_count": 56,
   "metadata": {
    "hidden": true
   },
   "outputs": [
    {
     "data": {
      "image/png": "[encoded data removed]",
      "text/plain": [
       "<Figure size 864x216 with 3 Axes>"
      ]
     },
     "metadata": {
      "needs_background": "light"
     },
     "output_type": "display_data"
    }
   ],
   "source": [
    "learn.activation_stats.plot_layer_stats(1)"
   ]
  },
  {
   "cell_type": "code",
   "execution_count": 58,
   "metadata": {
    "hidden": true
   },
   "outputs": [
    {
     "data": {
      "image/png": "[encoded data removed]",
      "text/plain": [
       "<Figure size 720x360 with 1 Axes>"
      ]
     },
     "metadata": {
      "needs_background": "light"
     },
     "output_type": "display_data"
    }
   ],
   "source": [
    "learn.activation_stats.color_dim(1)"
   ]
  },
  {
   "cell_type": "code",
   "execution_count": 57,
   "metadata": {
    "hidden": true
   },
   "outputs": [
    {
     "data": {
      "image/png": "[encoded data removed]",
      "text/plain": [
       "<Figure size 864x216 with 3 Axes>"
      ]
     },
     "metadata": {
      "needs_background": "light"
     },
     "output_type": "display_data"
    }
   ],
   "source": [
    "learn.activation_stats.plot_layer_stats(-2)"
   ]
  },
  {
   "cell_type": "code",
   "execution_count": 59,
   "metadata": {
    "hidden": true
   },
   "outputs": [
    {
     "data": {
      "image/png": "[encoded data removed]",
      "text/plain": [
       "<Figure size 720x360 with 1 Axes>"
      ]
     },
     "metadata": {
      "needs_background": "light"
     },
     "output_type": "display_data"
    }
   ],
   "source": [
    "learn.activation_stats.color_dim(-2)"
   ]
  },
  {
   "cell_type": "code",
   "execution_count": 60,
   "metadata": {
    "hidden": true
   },
   "outputs": [
    {
     "data": {
      "text/html": [],
      "text/plain": [
       "<IPython.core.display.HTML object>"
      ]
     },
     "metadata": {},
     "output_type": "display_data"
    },
    {
     "data": {
      "text/plain": [
       "(6.309573450380412e-08, 5.754399353463668e-06)"
      ]
     },
     "execution_count": 60,
     "metadata": {},
     "output_type": "execute_result"
    },
    {
     "data": {
      "image/png": "[encoded data removed]",
      "text/plain": [
       "<Figure size 432x288 with 1 Axes>"
      ]
     },
     "metadata": {
      "needs_background": "light"
     },
     "output_type": "display_data"
    }
   ],
   "source": [
    "lr_min, lr_steep = learn.lr_find()\n",
    "lr_min, lr_steep "
   ]
  },
  {
   "cell_type": "code",
   "execution_count": 61,
   "metadata": {
    "hidden": true,
    "scrolled": true
   },
   "outputs": [
    {
     "data": {
      "text/html": [
       "<table border=\"1\" class=\"dataframe\">\n",
       "  <thead>\n",
       "    <tr style=\"text-align: left;\">\n",
       "      <th>epoch</th>\n",
       "      <th>train_loss</th>\n",
       "      <th>valid_loss</th>\n",
       "      <th>accuracy</th>\n",
       "      <th>precision_score</th>\n",
       "      <th>recall_score</th>\n",
       "      <th>f1_score</th>\n",
       "      <th>roc_auc_score</th>\n",
       "      <th>time</th>\n",
       "    </tr>\n",
       "  </thead>\n",
       "  <tbody>\n",
       "    <tr>\n",
       "      <td>0</td>\n",
       "      <td>0.066997</td>\n",
       "      <td>0.111516</td>\n",
       "      <td>0.969097</td>\n",
       "      <td>0.688623</td>\n",
       "      <td>0.289673</td>\n",
       "      <td>0.407801</td>\n",
       "      <td>0.850253</td>\n",
       "      <td>00:16</td>\n",
       "    </tr>\n",
       "    <tr>\n",
       "      <td>1</td>\n",
       "      <td>0.066922</td>\n",
       "      <td>0.111131</td>\n",
       "      <td>0.970207</td>\n",
       "      <td>0.714286</td>\n",
       "      <td>0.314861</td>\n",
       "      <td>0.437063</td>\n",
       "      <td>0.850927</td>\n",
       "      <td>00:16</td>\n",
       "    </tr>\n",
       "    <tr>\n",
       "      <td>2</td>\n",
       "      <td>0.066701</td>\n",
       "      <td>0.111992</td>\n",
       "      <td>0.969652</td>\n",
       "      <td>0.704142</td>\n",
       "      <td>0.299748</td>\n",
       "      <td>0.420495</td>\n",
       "      <td>0.851029</td>\n",
       "      <td>00:16</td>\n",
       "    </tr>\n",
       "    <tr>\n",
       "      <td>3</td>\n",
       "      <td>0.066022</td>\n",
       "      <td>0.111923</td>\n",
       "      <td>0.969375</td>\n",
       "      <td>0.677419</td>\n",
       "      <td>0.317380</td>\n",
       "      <td>0.432247</td>\n",
       "      <td>0.851815</td>\n",
       "      <td>00:16</td>\n",
       "    </tr>\n",
       "  </tbody>\n",
       "</table>"
      ],
      "text/plain": [
       "<IPython.core.display.HTML object>"
      ]
     },
     "metadata": {},
     "output_type": "display_data"
    }
   ],
   "source": [
    "learn.fit_one_cycle(4, lr_steep, wd=0.01)"
   ]
  },
  {
   "cell_type": "markdown",
   "metadata": {},
   "source": [
    "# Imbalance"
   ]
  },
  {
   "cell_type": "markdown",
   "metadata": {
    "heading_collapsed": true
   },
   "source": [
    "## RandomUnderSampler without V*** features"
   ]
  },
  {
   "cell_type": "code",
   "execution_count": 210,
   "metadata": {
    "hidden": true
   },
   "outputs": [],
   "source": [
    "from imblearn.under_sampling import RandomUnderSampler"
   ]
  },
  {
   "cell_type": "code",
   "execution_count": 211,
   "metadata": {
    "hidden": true
   },
   "outputs": [],
   "source": [
    "rus = RandomUnderSampler(random_state=42)"
   ]
  },
  {
   "cell_type": "code",
   "execution_count": 212,
   "metadata": {
    "hidden": true
   },
   "outputs": [],
   "source": [
    "train_ss = pd.read_csv(path/'train_ss.csv', index_col=[0], low_memory=False)"
   ]
  },
  {
   "cell_type": "code",
   "execution_count": 213,
   "metadata": {
    "hidden": true
   },
   "outputs": [
    {
     "data": {
      "text/plain": [
       "12579507"
      ]
     },
     "execution_count": 213,
     "metadata": {},
     "output_type": "execute_result"
    }
   ],
   "source": [
    "# The rows with TransactionDT <= 12579058 comprise the first 80% of the data (approximately)\n",
    "cut_off = math.floor((train_ss['TransactionDT'].max() - train_ss['TransactionDT'].min())*0.8)\n",
    "\n",
    "cond = train_ss['TransactionDT'] <= cut_off\n",
    "train_idx = np.where( cond)[0]\n",
    "valid_idx = np.where(~cond)[0]\n",
    "\n",
    "splits = (list(train_idx),list(valid_idx))\n",
    "cut_off"
   ]
  },
  {
   "cell_type": "code",
   "execution_count": 214,
   "metadata": {
    "hidden": true
   },
   "outputs": [],
   "source": [
    "assert (len(train_idx) + len(valid_idx) == len(train_ss))"
   ]
  },
  {
   "cell_type": "code",
   "execution_count": 215,
   "metadata": {
    "hidden": true
   },
   "outputs": [],
   "source": [
    "train = train_ss.iloc[train_idx]\n",
    "valid = train_ss.iloc[valid_idx]"
   ]
  },
  {
   "cell_type": "code",
   "execution_count": 216,
   "metadata": {
    "hidden": true
   },
   "outputs": [],
   "source": [
    "assert (len(train) + len(valid) == len(train_ss))"
   ]
  },
  {
   "cell_type": "code",
   "execution_count": 217,
   "metadata": {
    "hidden": true
   },
   "outputs": [],
   "source": [
    "train, train_target = rus.fit_resample(train.drop(['isFraud'], axis=1), train['isFraud'])"
   ]
  },
  {
   "cell_type": "code",
   "execution_count": 218,
   "metadata": {
    "hidden": true
   },
   "outputs": [],
   "source": [
    "train['isFraud'] = train_target"
   ]
  },
  {
   "cell_type": "code",
   "execution_count": 219,
   "metadata": {
    "hidden": true
   },
   "outputs": [
    {
     "data": {
      "text/plain": [
       "((3442, 95), (3442,))"
      ]
     },
     "execution_count": 219,
     "metadata": {},
     "output_type": "execute_result"
    }
   ],
   "source": [
    "train.shape, train_target.shape"
   ]
  },
  {
   "cell_type": "code",
   "execution_count": 220,
   "metadata": {
    "hidden": true
   },
   "outputs": [
    {
     "data": {
      "text/plain": [
       "(RangeIndex(start=0, stop=3442, step=1),\n",
       " Int64Index([571056, 538612, 557768, 526898, 497577, 502230, 560962, 558531,\n",
       "             486709, 550868,\n",
       "             ...\n",
       "             488275, 567722, 488047, 563480, 502767, 511411, 588799, 556655,\n",
       "             483712, 590071],\n",
       "            dtype='int64', length=10697))"
      ]
     },
     "execution_count": 220,
     "metadata": {},
     "output_type": "execute_result"
    }
   ],
   "source": [
    "train.index, valid.index"
   ]
  },
  {
   "cell_type": "code",
   "execution_count": 221,
   "metadata": {
    "hidden": true
   },
   "outputs": [],
   "source": [
    "df_nn = pd.concat([train, valid])"
   ]
  },
  {
   "cell_type": "code",
   "execution_count": 222,
   "metadata": {
    "hidden": true
   },
   "outputs": [],
   "source": [
    "assert (len(train) + len(valid) == len(df_nn))"
   ]
  },
  {
   "cell_type": "code",
   "execution_count": 223,
   "metadata": {
    "hidden": true
   },
   "outputs": [
    {
     "data": {
      "text/plain": [
       "(14139, 95)"
      ]
     },
     "execution_count": 223,
     "metadata": {},
     "output_type": "execute_result"
    }
   ],
   "source": [
    "df_nn.shape"
   ]
  },
  {
   "cell_type": "code",
   "execution_count": 224,
   "metadata": {
    "hidden": true
   },
   "outputs": [],
   "source": [
    "df_nn['isFraud'] = df_nn['isFraud'].astype('category')"
   ]
  },
  {
   "cell_type": "code",
   "execution_count": 225,
   "metadata": {
    "hidden": true
   },
   "outputs": [
    {
     "data": {
      "text/plain": [
       "12578785"
      ]
     },
     "execution_count": 225,
     "metadata": {},
     "output_type": "execute_result"
    }
   ],
   "source": [
    "# The rows with TransactionDT <= 12579058 comprise the first 80% of the data (approximately)\n",
    "cut_off = math.floor((df_nn['TransactionDT'].max() - df_nn['TransactionDT'].min())*0.8)\n",
    "\n",
    "cond = df_nn['TransactionDT'] <= cut_off\n",
    "train_idx = np.where( cond)[0]\n",
    "valid_idx = np.where(~cond)[0]\n",
    "\n",
    "splits = (list(train_idx),list(valid_idx))\n",
    "cut_off"
   ]
  },
  {
   "cell_type": "code",
   "execution_count": 226,
   "metadata": {
    "hidden": true
   },
   "outputs": [],
   "source": [
    "cat = ['ProductCD', 'card1', 'card2', 'card3', 'card4', 'card5', 'card6', \n",
    "       'addr1', 'addr2', 'P_emaildomain', 'R_emaildomain', 'M1', 'M2', 'M3', \n",
    "       'M4', 'M5', 'M6', 'M7', 'M8', 'M9', 'DeviceType', 'DeviceInfo', 'id_12', \n",
    "       'id_13', 'id_14', 'id_15', 'id_16', 'id_17', 'id_18', 'id_19', 'id_20', \n",
    "       'id_21', 'id_22', 'id_23', 'id_24', 'id_25', 'id_26', 'id_27', 'id_28', \n",
    "       'id_29', 'id_30', 'id_31', 'id_32', 'id_33', 'id_34', 'id_35', 'id_36',\n",
    "       'id_37', 'id_38'] \n",
    "cont = ['TransactionID', 'TransactionDT', 'TransactionAmt',\n",
    "        'dist1', 'dist2', 'C1', 'C2', 'C3', 'C4', 'C5', 'C6', 'C7', 'C8', 'C9', \n",
    "        'C10', 'C11','C12', 'C13', 'C14', 'D1', 'D2', 'D3', 'D4', 'D5', 'D6', 'D7', \n",
    "        'D8', 'D9', 'D10', 'D11', 'D12', 'D13', 'D14', 'D15', 'id_01', 'id_02', \n",
    "        'id_03', 'id_04', 'id_05', 'id_06', 'id_07', 'id_08', 'id_09', 'id_10', \n",
    "        'id_11']\n",
    "dep_var = 'isFraud'"
   ]
  },
  {
   "cell_type": "code",
   "execution_count": 227,
   "metadata": {
    "hidden": true
   },
   "outputs": [
    {
     "data": {
      "text/plain": [
       "FlattenedLoss of CrossEntropyLoss()"
      ]
     },
     "execution_count": 227,
     "metadata": {},
     "output_type": "execute_result"
    }
   ],
   "source": [
    "procs_nn = [Categorify, FillMissing, Normalize]\n",
    "to_nn = TabularPandas(df_nn, procs_nn, cat, cont,\n",
    "                     splits=splits, y_names=dep_var)\n",
    "to_nn.loss_func"
   ]
  },
  {
   "cell_type": "code",
   "execution_count": 228,
   "metadata": {
    "hidden": true
   },
   "outputs": [
    {
     "data": {
      "text/plain": [
       "((3442, 122), (10697, 122))"
      ]
     },
     "execution_count": 228,
     "metadata": {},
     "output_type": "execute_result"
    }
   ],
   "source": [
    "to_nn.train.xs.shape, to_nn.valid.xs.shape"
   ]
  },
  {
   "cell_type": "code",
   "execution_count": 229,
   "metadata": {
    "hidden": true
   },
   "outputs": [],
   "source": [
    "dls = to_nn.dataloaders(1024)"
   ]
  },
  {
   "cell_type": "code",
   "execution_count": 230,
   "metadata": {
    "hidden": true
   },
   "outputs": [],
   "source": [
    "F1_score = F1Score()\n",
    "recall = Recall()\n",
    "precision = Precision()\n",
    "roc_score = RocAucBinary()\n",
    "metrics = [accuracy, precision, recall, F1_score, roc_score]"
   ]
  },
  {
   "cell_type": "code",
   "execution_count": 277,
   "metadata": {
    "hidden": true
   },
   "outputs": [
    {
     "data": {
      "text/plain": [
       "FlattenedLoss of CrossEntropyLoss()"
      ]
     },
     "execution_count": 277,
     "metadata": {},
     "output_type": "execute_result"
    }
   ],
   "source": [
    "learn = tabular_learner(dls, metrics=metrics,\n",
    "                        cbs=ActivationStats(with_hist=True))\n",
    "learn.loss_func"
   ]
  },
  {
   "cell_type": "code",
   "execution_count": 231,
   "metadata": {
    "hidden": true
   },
   "outputs": [
    {
     "data": {
      "text/plain": [
       "FlattenedLoss of CrossEntropyLoss()"
      ]
     },
     "execution_count": 231,
     "metadata": {},
     "output_type": "execute_result"
    }
   ],
   "source": [
    "learn = tabular_learner(dls, [500, 250], metrics=metrics,\n",
    "                        cbs=ActivationStats(with_hist=True))\n",
    "learn.loss_func"
   ]
  },
  {
   "cell_type": "code",
   "execution_count": 278,
   "metadata": {
    "hidden": true
   },
   "outputs": [
    {
     "data": {
      "text/html": [],
      "text/plain": [
       "<IPython.core.display.HTML object>"
      ]
     },
     "metadata": {},
     "output_type": "display_data"
    },
    {
     "data": {
      "text/plain": [
       "(0.03019951581954956, 0.005248074419796467)"
      ]
     },
     "execution_count": 278,
     "metadata": {},
     "output_type": "execute_result"
    },
    {
     "data": {
      "image/png": "[encoded data removed]",
      "text/plain": [
       "<Figure size 432x288 with 1 Axes>"
      ]
     },
     "metadata": {
      "needs_background": "light"
     },
     "output_type": "display_data"
    }
   ],
   "source": [
    "lr_min, lr_steep = learn.lr_find()\n",
    "lr_min, lr_steep"
   ]
  },
  {
   "cell_type": "code",
   "execution_count": 279,
   "metadata": {
    "hidden": true
   },
   "outputs": [
    {
     "data": {
      "text/html": [
       "<table border=\"1\" class=\"dataframe\">\n",
       "  <thead>\n",
       "    <tr style=\"text-align: left;\">\n",
       "      <th>epoch</th>\n",
       "      <th>train_loss</th>\n",
       "      <th>valid_loss</th>\n",
       "      <th>accuracy</th>\n",
       "      <th>precision_score</th>\n",
       "      <th>recall_score</th>\n",
       "      <th>f1_score</th>\n",
       "      <th>roc_auc_score</th>\n",
       "      <th>time</th>\n",
       "    </tr>\n",
       "  </thead>\n",
       "  <tbody>\n",
       "    <tr>\n",
       "      <td>0</td>\n",
       "      <td>0.693860</td>\n",
       "      <td>0.626824</td>\n",
       "      <td>0.965411</td>\n",
       "      <td>0.000000</td>\n",
       "      <td>0.000000</td>\n",
       "      <td>0.000000</td>\n",
       "      <td>0.682502</td>\n",
       "      <td>00:01</td>\n",
       "    </tr>\n",
       "    <tr>\n",
       "      <td>1</td>\n",
       "      <td>0.618264</td>\n",
       "      <td>0.648838</td>\n",
       "      <td>0.851360</td>\n",
       "      <td>0.110969</td>\n",
       "      <td>0.470270</td>\n",
       "      <td>0.179567</td>\n",
       "      <td>0.753589</td>\n",
       "      <td>00:01</td>\n",
       "    </tr>\n",
       "    <tr>\n",
       "      <td>2</td>\n",
       "      <td>0.534761</td>\n",
       "      <td>0.736544</td>\n",
       "      <td>0.303076</td>\n",
       "      <td>0.044607</td>\n",
       "      <td>0.937838</td>\n",
       "      <td>0.085164</td>\n",
       "      <td>0.761440</td>\n",
       "      <td>00:01</td>\n",
       "    </tr>\n",
       "    <tr>\n",
       "      <td>3</td>\n",
       "      <td>0.464453</td>\n",
       "      <td>0.815185</td>\n",
       "      <td>0.275778</td>\n",
       "      <td>0.043220</td>\n",
       "      <td>0.943243</td>\n",
       "      <td>0.082652</td>\n",
       "      <td>0.767344</td>\n",
       "      <td>00:01</td>\n",
       "    </tr>\n",
       "    <tr>\n",
       "      <td>4</td>\n",
       "      <td>0.410201</td>\n",
       "      <td>0.945613</td>\n",
       "      <td>0.229878</td>\n",
       "      <td>0.041812</td>\n",
       "      <td>0.970270</td>\n",
       "      <td>0.080170</td>\n",
       "      <td>0.765333</td>\n",
       "      <td>00:02</td>\n",
       "    </tr>\n",
       "    <tr>\n",
       "      <td>5</td>\n",
       "      <td>0.366725</td>\n",
       "      <td>1.040721</td>\n",
       "      <td>0.217538</td>\n",
       "      <td>0.041179</td>\n",
       "      <td>0.970270</td>\n",
       "      <td>0.079005</td>\n",
       "      <td>0.773956</td>\n",
       "      <td>00:02</td>\n",
       "    </tr>\n",
       "    <tr>\n",
       "      <td>6</td>\n",
       "      <td>0.330806</td>\n",
       "      <td>1.112946</td>\n",
       "      <td>0.203702</td>\n",
       "      <td>0.040595</td>\n",
       "      <td>0.972973</td>\n",
       "      <td>0.077939</td>\n",
       "      <td>0.778280</td>\n",
       "      <td>00:01</td>\n",
       "    </tr>\n",
       "    <tr>\n",
       "      <td>7</td>\n",
       "      <td>0.302733</td>\n",
       "      <td>1.159122</td>\n",
       "      <td>0.196223</td>\n",
       "      <td>0.040232</td>\n",
       "      <td>0.972973</td>\n",
       "      <td>0.077270</td>\n",
       "      <td>0.782410</td>\n",
       "      <td>00:02</td>\n",
       "    </tr>\n",
       "  </tbody>\n",
       "</table>"
      ],
      "text/plain": [
       "<IPython.core.display.HTML object>"
      ]
     },
     "metadata": {},
     "output_type": "display_data"
    },
    {
     "name": "stderr",
     "output_type": "stream",
     "text": [
      "/opt/anaconda3/envs/fastaiV2/lib/python3.8/site-packages/sklearn/metrics/_classification.py:1221: UndefinedMetricWarning: Precision is ill-defined and being set to 0.0 due to no predicted samples. Use `zero_division` parameter to control this behavior.\n",
      "  _warn_prf(average, modifier, msg_start, len(result))\n"
     ]
    }
   ],
   "source": [
    "learn.fit_one_cycle(8, lr_steep, wd=0.1)"
   ]
  },
  {
   "cell_type": "code",
   "execution_count": 280,
   "metadata": {
    "hidden": true
   },
   "outputs": [
    {
     "data": {
      "image/png": "[encoded data removed]",
      "text/plain": [
       "<Figure size 864x216 with 3 Axes>"
      ]
     },
     "metadata": {
      "needs_background": "light"
     },
     "output_type": "display_data"
    }
   ],
   "source": [
    "learn.activation_stats.plot_layer_stats(-2)"
   ]
  },
  {
   "cell_type": "code",
   "execution_count": 281,
   "metadata": {
    "hidden": true
   },
   "outputs": [
    {
     "data": {
      "image/png": "[encoded data removed]",
      "text/plain": [
       "<Figure size 720x360 with 1 Axes>"
      ]
     },
     "metadata": {
      "needs_background": "light"
     },
     "output_type": "display_data"
    }
   ],
   "source": [
    "learn.activation_stats.color_dim(-2)"
   ]
  },
  {
   "cell_type": "code",
   "execution_count": 283,
   "metadata": {
    "hidden": true
   },
   "outputs": [
    {
     "data": {
      "text/html": [],
      "text/plain": [
       "<IPython.core.display.HTML object>"
      ]
     },
     "metadata": {},
     "output_type": "display_data"
    },
    {
     "data": {
      "text/plain": [
       "(0.0013182567432522773, 0.005248074419796467)"
      ]
     },
     "execution_count": 283,
     "metadata": {},
     "output_type": "execute_result"
    },
    {
     "data": {
      "image/png": "[encoded data removed]",
      "text/plain": [
       "<Figure size 432x288 with 1 Axes>"
      ]
     },
     "metadata": {
      "needs_background": "light"
     },
     "output_type": "display_data"
    }
   ],
   "source": [
    "lr_min, lr_steep = learn.lr_find()\n",
    "lr_min, lr_steep"
   ]
  },
  {
   "cell_type": "code",
   "execution_count": 284,
   "metadata": {
    "hidden": true
   },
   "outputs": [
    {
     "data": {
      "text/html": [
       "<table border=\"1\" class=\"dataframe\">\n",
       "  <thead>\n",
       "    <tr style=\"text-align: left;\">\n",
       "      <th>epoch</th>\n",
       "      <th>train_loss</th>\n",
       "      <th>valid_loss</th>\n",
       "      <th>accuracy</th>\n",
       "      <th>precision_score</th>\n",
       "      <th>recall_score</th>\n",
       "      <th>f1_score</th>\n",
       "      <th>roc_auc_score</th>\n",
       "      <th>time</th>\n",
       "    </tr>\n",
       "  </thead>\n",
       "  <tbody>\n",
       "    <tr>\n",
       "      <td>0</td>\n",
       "      <td>0.144870</td>\n",
       "      <td>1.282844</td>\n",
       "      <td>0.165560</td>\n",
       "      <td>0.038810</td>\n",
       "      <td>0.972973</td>\n",
       "      <td>0.074642</td>\n",
       "      <td>0.783547</td>\n",
       "      <td>00:01</td>\n",
       "    </tr>\n",
       "    <tr>\n",
       "      <td>1</td>\n",
       "      <td>0.138291</td>\n",
       "      <td>1.609724</td>\n",
       "      <td>0.142750</td>\n",
       "      <td>0.038009</td>\n",
       "      <td>0.978378</td>\n",
       "      <td>0.073176</td>\n",
       "      <td>0.784697</td>\n",
       "      <td>00:01</td>\n",
       "    </tr>\n",
       "    <tr>\n",
       "      <td>2</td>\n",
       "      <td>0.124450</td>\n",
       "      <td>1.869816</td>\n",
       "      <td>0.121903</td>\n",
       "      <td>0.036950</td>\n",
       "      <td>0.972973</td>\n",
       "      <td>0.071195</td>\n",
       "      <td>0.783200</td>\n",
       "      <td>00:01</td>\n",
       "    </tr>\n",
       "    <tr>\n",
       "      <td>3</td>\n",
       "      <td>0.112054</td>\n",
       "      <td>1.865767</td>\n",
       "      <td>0.131345</td>\n",
       "      <td>0.037241</td>\n",
       "      <td>0.970270</td>\n",
       "      <td>0.071728</td>\n",
       "      <td>0.787137</td>\n",
       "      <td>00:01</td>\n",
       "    </tr>\n",
       "  </tbody>\n",
       "</table>"
      ],
      "text/plain": [
       "<IPython.core.display.HTML object>"
      ]
     },
     "metadata": {},
     "output_type": "display_data"
    }
   ],
   "source": [
    "learn.fit_one_cycle(4, lr_steep, wd=0.1)"
   ]
  },
  {
   "cell_type": "code",
   "execution_count": 253,
   "metadata": {
    "hidden": true
   },
   "outputs": [
    {
     "data": {
      "text/html": [],
      "text/plain": [
       "<IPython.core.display.HTML object>"
      ]
     },
     "metadata": {},
     "output_type": "display_data"
    },
    {
     "data": {
      "text/plain": [
       "(0.001096478197723627, 0.009120108559727669)"
      ]
     },
     "execution_count": 253,
     "metadata": {},
     "output_type": "execute_result"
    },
    {
     "data": {
      "image/png": "[encoded data removed]",
      "text/plain": [
       "<Figure size 432x288 with 1 Axes>"
      ]
     },
     "metadata": {
      "needs_background": "light"
     },
     "output_type": "display_data"
    }
   ],
   "source": [
    "lr_min, lr_steep = learn.lr_find()\n",
    "lr_min, lr_steep"
   ]
  },
  {
   "cell_type": "code",
   "execution_count": 192,
   "metadata": {
    "hidden": true
   },
   "outputs": [
    {
     "data": {
      "text/html": [
       "<table border=\"1\" class=\"dataframe\">\n",
       "  <thead>\n",
       "    <tr style=\"text-align: left;\">\n",
       "      <th>epoch</th>\n",
       "      <th>train_loss</th>\n",
       "      <th>valid_loss</th>\n",
       "      <th>accuracy</th>\n",
       "      <th>precision_score</th>\n",
       "      <th>recall_score</th>\n",
       "      <th>f1_score</th>\n",
       "      <th>roc_auc_score</th>\n",
       "      <th>time</th>\n",
       "    </tr>\n",
       "  </thead>\n",
       "  <tbody>\n",
       "    <tr>\n",
       "      <td>0</td>\n",
       "      <td>0.148749</td>\n",
       "      <td>0.662074</td>\n",
       "      <td>0.582406</td>\n",
       "      <td>0.066455</td>\n",
       "      <td>0.848649</td>\n",
       "      <td>0.123258</td>\n",
       "      <td>0.797638</td>\n",
       "      <td>00:01</td>\n",
       "    </tr>\n",
       "    <tr>\n",
       "      <td>1</td>\n",
       "      <td>0.140396</td>\n",
       "      <td>0.697902</td>\n",
       "      <td>0.514724</td>\n",
       "      <td>0.059726</td>\n",
       "      <td>0.883784</td>\n",
       "      <td>0.111891</td>\n",
       "      <td>0.797818</td>\n",
       "      <td>00:02</td>\n",
       "    </tr>\n",
       "    <tr>\n",
       "      <td>2</td>\n",
       "      <td>0.129573</td>\n",
       "      <td>0.708971</td>\n",
       "      <td>0.520052</td>\n",
       "      <td>0.060517</td>\n",
       "      <td>0.886486</td>\n",
       "      <td>0.113299</td>\n",
       "      <td>0.800537</td>\n",
       "      <td>00:02</td>\n",
       "    </tr>\n",
       "    <tr>\n",
       "      <td>3</td>\n",
       "      <td>0.120062</td>\n",
       "      <td>0.708463</td>\n",
       "      <td>0.533140</td>\n",
       "      <td>0.061457</td>\n",
       "      <td>0.875676</td>\n",
       "      <td>0.114853</td>\n",
       "      <td>0.803659</td>\n",
       "      <td>00:02</td>\n",
       "    </tr>\n",
       "  </tbody>\n",
       "</table>"
      ],
      "text/plain": [
       "<IPython.core.display.HTML object>"
      ]
     },
     "metadata": {},
     "output_type": "display_data"
    }
   ],
   "source": [
    "learn.fit_one_cycle(4, lr_steep, wd=0.01)"
   ]
  },
  {
   "cell_type": "code",
   "execution_count": 193,
   "metadata": {
    "hidden": true
   },
   "outputs": [
    {
     "data": {
      "text/html": [
       "<table border=\"1\" class=\"dataframe\">\n",
       "  <thead>\n",
       "    <tr style=\"text-align: left;\">\n",
       "      <th>epoch</th>\n",
       "      <th>train_loss</th>\n",
       "      <th>valid_loss</th>\n",
       "      <th>accuracy</th>\n",
       "      <th>precision_score</th>\n",
       "      <th>recall_score</th>\n",
       "      <th>f1_score</th>\n",
       "      <th>roc_auc_score</th>\n",
       "      <th>time</th>\n",
       "    </tr>\n",
       "  </thead>\n",
       "  <tbody>\n",
       "    <tr>\n",
       "      <td>0</td>\n",
       "      <td>0.095859</td>\n",
       "      <td>0.736087</td>\n",
       "      <td>0.517341</td>\n",
       "      <td>0.059871</td>\n",
       "      <td>0.881081</td>\n",
       "      <td>0.112124</td>\n",
       "      <td>0.804696</td>\n",
       "      <td>00:02</td>\n",
       "    </tr>\n",
       "    <tr>\n",
       "      <td>1</td>\n",
       "      <td>0.090533</td>\n",
       "      <td>0.826133</td>\n",
       "      <td>0.462373</td>\n",
       "      <td>0.055216</td>\n",
       "      <td>0.902703</td>\n",
       "      <td>0.104066</td>\n",
       "      <td>0.803238</td>\n",
       "      <td>00:02</td>\n",
       "    </tr>\n",
       "    <tr>\n",
       "      <td>2</td>\n",
       "      <td>0.082498</td>\n",
       "      <td>0.834870</td>\n",
       "      <td>0.490231</td>\n",
       "      <td>0.058230</td>\n",
       "      <td>0.905405</td>\n",
       "      <td>0.109423</td>\n",
       "      <td>0.807334</td>\n",
       "      <td>00:02</td>\n",
       "    </tr>\n",
       "    <tr>\n",
       "      <td>3</td>\n",
       "      <td>0.076608</td>\n",
       "      <td>0.828288</td>\n",
       "      <td>0.518089</td>\n",
       "      <td>0.060929</td>\n",
       "      <td>0.897297</td>\n",
       "      <td>0.114109</td>\n",
       "      <td>0.809252</td>\n",
       "      <td>00:02</td>\n",
       "    </tr>\n",
       "  </tbody>\n",
       "</table>"
      ],
      "text/plain": [
       "<IPython.core.display.HTML object>"
      ]
     },
     "metadata": {},
     "output_type": "display_data"
    }
   ],
   "source": [
    "learn.fit_one_cycle(4, lr_steep, wd=0.01)"
   ]
  },
  {
   "cell_type": "code",
   "execution_count": 194,
   "metadata": {
    "hidden": true
   },
   "outputs": [
    {
     "data": {
      "text/html": [
       "<table border=\"1\" class=\"dataframe\">\n",
       "  <thead>\n",
       "    <tr style=\"text-align: left;\">\n",
       "      <th>epoch</th>\n",
       "      <th>train_loss</th>\n",
       "      <th>valid_loss</th>\n",
       "      <th>accuracy</th>\n",
       "      <th>precision_score</th>\n",
       "      <th>recall_score</th>\n",
       "      <th>f1_score</th>\n",
       "      <th>roc_auc_score</th>\n",
       "      <th>time</th>\n",
       "    </tr>\n",
       "  </thead>\n",
       "  <tbody>\n",
       "    <tr>\n",
       "      <td>0</td>\n",
       "      <td>0.058901</td>\n",
       "      <td>0.847004</td>\n",
       "      <td>0.535010</td>\n",
       "      <td>0.061858</td>\n",
       "      <td>0.878378</td>\n",
       "      <td>0.115576</td>\n",
       "      <td>0.807550</td>\n",
       "      <td>00:02</td>\n",
       "    </tr>\n",
       "    <tr>\n",
       "      <td>1</td>\n",
       "      <td>0.055463</td>\n",
       "      <td>0.874809</td>\n",
       "      <td>0.564364</td>\n",
       "      <td>0.065789</td>\n",
       "      <td>0.878378</td>\n",
       "      <td>0.122411</td>\n",
       "      <td>0.807958</td>\n",
       "      <td>00:02</td>\n",
       "    </tr>\n",
       "    <tr>\n",
       "      <td>2</td>\n",
       "      <td>0.051228</td>\n",
       "      <td>0.893896</td>\n",
       "      <td>0.592316</td>\n",
       "      <td>0.069100</td>\n",
       "      <td>0.864865</td>\n",
       "      <td>0.127974</td>\n",
       "      <td>0.810938</td>\n",
       "      <td>00:02</td>\n",
       "    </tr>\n",
       "    <tr>\n",
       "      <td>3</td>\n",
       "      <td>0.047717</td>\n",
       "      <td>0.903653</td>\n",
       "      <td>0.613817</td>\n",
       "      <td>0.072322</td>\n",
       "      <td>0.859459</td>\n",
       "      <td>0.133417</td>\n",
       "      <td>0.809750</td>\n",
       "      <td>00:02</td>\n",
       "    </tr>\n",
       "  </tbody>\n",
       "</table>"
      ],
      "text/plain": [
       "<IPython.core.display.HTML object>"
      ]
     },
     "metadata": {},
     "output_type": "display_data"
    }
   ],
   "source": [
    "learn.fit_one_cycle(4, lr_steep, wd=0.01)"
   ]
  },
  {
   "cell_type": "code",
   "execution_count": 195,
   "metadata": {
    "hidden": true
   },
   "outputs": [
    {
     "data": {
      "text/html": [],
      "text/plain": [
       "<IPython.core.display.HTML object>"
      ]
     },
     "metadata": {},
     "output_type": "display_data"
    },
    {
     "data": {
      "text/plain": [
       "(0.0005248074419796466, 0.0030199517495930195)"
      ]
     },
     "execution_count": 195,
     "metadata": {},
     "output_type": "execute_result"
    },
    {
     "data": {
      "image/png": "[encoded data removed]",
      "text/plain": [
       "<Figure size 432x288 with 1 Axes>"
      ]
     },
     "metadata": {
      "needs_background": "light"
     },
     "output_type": "display_data"
    }
   ],
   "source": [
    "lr_min, lr_steep = learn.lr_find()\n",
    "lr_min, lr_steep"
   ]
  },
  {
   "cell_type": "code",
   "execution_count": 120,
   "metadata": {
    "hidden": true
   },
   "outputs": [
    {
     "data": {
      "text/html": [
       "<table border=\"1\" class=\"dataframe\">\n",
       "  <thead>\n",
       "    <tr style=\"text-align: left;\">\n",
       "      <th>epoch</th>\n",
       "      <th>train_loss</th>\n",
       "      <th>valid_loss</th>\n",
       "      <th>accuracy</th>\n",
       "      <th>precision_score</th>\n",
       "      <th>recall_score</th>\n",
       "      <th>f1_score</th>\n",
       "      <th>roc_auc_score</th>\n",
       "      <th>time</th>\n",
       "    </tr>\n",
       "  </thead>\n",
       "  <tbody>\n",
       "    <tr>\n",
       "      <td>0</td>\n",
       "      <td>0.021618</td>\n",
       "      <td>1.424576</td>\n",
       "      <td>0.550996</td>\n",
       "      <td>0.063251</td>\n",
       "      <td>0.867568</td>\n",
       "      <td>0.117906</td>\n",
       "      <td>0.799764</td>\n",
       "      <td>00:01</td>\n",
       "    </tr>\n",
       "    <tr>\n",
       "      <td>1</td>\n",
       "      <td>0.023682</td>\n",
       "      <td>0.890764</td>\n",
       "      <td>0.765729</td>\n",
       "      <td>0.102086</td>\n",
       "      <td>0.740541</td>\n",
       "      <td>0.179437</td>\n",
       "      <td>0.816352</td>\n",
       "      <td>00:01</td>\n",
       "    </tr>\n",
       "    <tr>\n",
       "      <td>2</td>\n",
       "      <td>0.030473</td>\n",
       "      <td>1.370933</td>\n",
       "      <td>0.629242</td>\n",
       "      <td>0.071088</td>\n",
       "      <td>0.805405</td>\n",
       "      <td>0.130644</td>\n",
       "      <td>0.777963</td>\n",
       "      <td>00:01</td>\n",
       "    </tr>\n",
       "    <tr>\n",
       "      <td>3</td>\n",
       "      <td>0.032706</td>\n",
       "      <td>1.348405</td>\n",
       "      <td>0.656633</td>\n",
       "      <td>0.074246</td>\n",
       "      <td>0.778378</td>\n",
       "      <td>0.135561</td>\n",
       "      <td>0.788298</td>\n",
       "      <td>00:01</td>\n",
       "    </tr>\n",
       "  </tbody>\n",
       "</table>"
      ],
      "text/plain": [
       "<IPython.core.display.HTML object>"
      ]
     },
     "metadata": {},
     "output_type": "display_data"
    }
   ],
   "source": [
    "learn.fit_one_cycle(4, lr_steep, wd=0.01)"
   ]
  },
  {
   "cell_type": "code",
   "execution_count": 196,
   "metadata": {
    "hidden": true
   },
   "outputs": [
    {
     "data": {
      "text/html": [],
      "text/plain": [
       "<IPython.core.display.HTML object>"
      ]
     },
     "metadata": {},
     "output_type": "display_data"
    },
    {
     "data": {
      "text/plain": [
       "(0.0005248074419796466, 0.0020892962347716093)"
      ]
     },
     "execution_count": 196,
     "metadata": {},
     "output_type": "execute_result"
    },
    {
     "data": {
      "image/png": "[encoded data removed]",
      "text/plain": [
       "<Figure size 432x288 with 1 Axes>"
      ]
     },
     "metadata": {
      "needs_background": "light"
     },
     "output_type": "display_data"
    }
   ],
   "source": [
    "lr_min, lr_steep = learn.lr_find()\n",
    "lr_min, lr_steep"
   ]
  },
  {
   "cell_type": "code",
   "execution_count": 198,
   "metadata": {
    "hidden": true
   },
   "outputs": [
    {
     "data": {
      "text/html": [
       "<table border=\"1\" class=\"dataframe\">\n",
       "  <thead>\n",
       "    <tr style=\"text-align: left;\">\n",
       "      <th>epoch</th>\n",
       "      <th>train_loss</th>\n",
       "      <th>valid_loss</th>\n",
       "      <th>accuracy</th>\n",
       "      <th>precision_score</th>\n",
       "      <th>recall_score</th>\n",
       "      <th>f1_score</th>\n",
       "      <th>roc_auc_score</th>\n",
       "      <th>time</th>\n",
       "    </tr>\n",
       "  </thead>\n",
       "  <tbody>\n",
       "    <tr>\n",
       "      <td>0</td>\n",
       "      <td>0.034611</td>\n",
       "      <td>1.154839</td>\n",
       "      <td>0.633168</td>\n",
       "      <td>0.071601</td>\n",
       "      <td>0.802703</td>\n",
       "      <td>0.131474</td>\n",
       "      <td>0.789079</td>\n",
       "      <td>00:01</td>\n",
       "    </tr>\n",
       "    <tr>\n",
       "      <td>1</td>\n",
       "      <td>0.034253</td>\n",
       "      <td>1.116667</td>\n",
       "      <td>0.695616</td>\n",
       "      <td>0.081739</td>\n",
       "      <td>0.762162</td>\n",
       "      <td>0.147644</td>\n",
       "      <td>0.799974</td>\n",
       "      <td>00:01</td>\n",
       "    </tr>\n",
       "    <tr>\n",
       "      <td>2</td>\n",
       "      <td>0.032919</td>\n",
       "      <td>1.363455</td>\n",
       "      <td>0.649808</td>\n",
       "      <td>0.073737</td>\n",
       "      <td>0.789189</td>\n",
       "      <td>0.134873</td>\n",
       "      <td>0.790957</td>\n",
       "      <td>00:01</td>\n",
       "    </tr>\n",
       "    <tr>\n",
       "      <td>3</td>\n",
       "      <td>0.028927</td>\n",
       "      <td>1.333484</td>\n",
       "      <td>0.676545</td>\n",
       "      <td>0.078099</td>\n",
       "      <td>0.772973</td>\n",
       "      <td>0.141865</td>\n",
       "      <td>0.794943</td>\n",
       "      <td>00:01</td>\n",
       "    </tr>\n",
       "  </tbody>\n",
       "</table>"
      ],
      "text/plain": [
       "<IPython.core.display.HTML object>"
      ]
     },
     "metadata": {},
     "output_type": "display_data"
    }
   ],
   "source": [
    "learn.fit_one_cycle(4, lr_steep, wd=0.01)"
   ]
  },
  {
   "cell_type": "code",
   "execution_count": 199,
   "metadata": {
    "hidden": true
   },
   "outputs": [
    {
     "data": {
      "text/html": [],
      "text/plain": [
       "<IPython.core.display.HTML object>"
      ]
     },
     "metadata": {},
     "output_type": "display_data"
    },
    {
     "data": {
      "text/plain": [
       "(0.00036307806149125097, 0.001737800776027143)"
      ]
     },
     "execution_count": 199,
     "metadata": {},
     "output_type": "execute_result"
    },
    {
     "data": {
      "image/png": "[encoded data removed]",
      "text/plain": [
       "<Figure size 432x288 with 1 Axes>"
      ]
     },
     "metadata": {
      "needs_background": "light"
     },
     "output_type": "display_data"
    }
   ],
   "source": [
    "lr_min, lr_steep = learn.lr_find()\n",
    "lr_min, lr_steep"
   ]
  },
  {
   "cell_type": "code",
   "execution_count": 200,
   "metadata": {
    "hidden": true
   },
   "outputs": [
    {
     "data": {
      "text/html": [
       "<table border=\"1\" class=\"dataframe\">\n",
       "  <thead>\n",
       "    <tr style=\"text-align: left;\">\n",
       "      <th>epoch</th>\n",
       "      <th>train_loss</th>\n",
       "      <th>valid_loss</th>\n",
       "      <th>accuracy</th>\n",
       "      <th>precision_score</th>\n",
       "      <th>recall_score</th>\n",
       "      <th>f1_score</th>\n",
       "      <th>roc_auc_score</th>\n",
       "      <th>time</th>\n",
       "    </tr>\n",
       "  </thead>\n",
       "  <tbody>\n",
       "    <tr>\n",
       "      <td>0</td>\n",
       "      <td>0.019082</td>\n",
       "      <td>1.336904</td>\n",
       "      <td>0.689820</td>\n",
       "      <td>0.080296</td>\n",
       "      <td>0.762162</td>\n",
       "      <td>0.145286</td>\n",
       "      <td>0.795412</td>\n",
       "      <td>00:01</td>\n",
       "    </tr>\n",
       "    <tr>\n",
       "      <td>1</td>\n",
       "      <td>0.018275</td>\n",
       "      <td>1.322580</td>\n",
       "      <td>0.705431</td>\n",
       "      <td>0.082558</td>\n",
       "      <td>0.743243</td>\n",
       "      <td>0.148608</td>\n",
       "      <td>0.796249</td>\n",
       "      <td>00:01</td>\n",
       "    </tr>\n",
       "    <tr>\n",
       "      <td>2</td>\n",
       "      <td>0.017402</td>\n",
       "      <td>1.350479</td>\n",
       "      <td>0.706179</td>\n",
       "      <td>0.082254</td>\n",
       "      <td>0.737838</td>\n",
       "      <td>0.148008</td>\n",
       "      <td>0.794515</td>\n",
       "      <td>00:01</td>\n",
       "    </tr>\n",
       "    <tr>\n",
       "      <td>3</td>\n",
       "      <td>0.016704</td>\n",
       "      <td>1.370244</td>\n",
       "      <td>0.707301</td>\n",
       "      <td>0.082552</td>\n",
       "      <td>0.737838</td>\n",
       "      <td>0.148491</td>\n",
       "      <td>0.793633</td>\n",
       "      <td>00:01</td>\n",
       "    </tr>\n",
       "  </tbody>\n",
       "</table>"
      ],
      "text/plain": [
       "<IPython.core.display.HTML object>"
      ]
     },
     "metadata": {},
     "output_type": "display_data"
    }
   ],
   "source": [
    "learn.fit_one_cycle(4, 2e-4, wd=0.01)"
   ]
  },
  {
   "cell_type": "code",
   "execution_count": 201,
   "metadata": {
    "hidden": true
   },
   "outputs": [
    {
     "data": {
      "text/html": [
       "<table border=\"1\" class=\"dataframe\">\n",
       "  <thead>\n",
       "    <tr style=\"text-align: left;\">\n",
       "      <th>epoch</th>\n",
       "      <th>train_loss</th>\n",
       "      <th>valid_loss</th>\n",
       "      <th>accuracy</th>\n",
       "      <th>precision_score</th>\n",
       "      <th>recall_score</th>\n",
       "      <th>f1_score</th>\n",
       "      <th>roc_auc_score</th>\n",
       "      <th>time</th>\n",
       "    </tr>\n",
       "  </thead>\n",
       "  <tbody>\n",
       "    <tr>\n",
       "      <td>0</td>\n",
       "      <td>0.014504</td>\n",
       "      <td>1.390593</td>\n",
       "      <td>0.707301</td>\n",
       "      <td>0.082552</td>\n",
       "      <td>0.737838</td>\n",
       "      <td>0.148491</td>\n",
       "      <td>0.793058</td>\n",
       "      <td>00:01</td>\n",
       "    </tr>\n",
       "    <tr>\n",
       "      <td>1</td>\n",
       "      <td>0.013853</td>\n",
       "      <td>1.399379</td>\n",
       "      <td>0.707582</td>\n",
       "      <td>0.082121</td>\n",
       "      <td>0.732432</td>\n",
       "      <td>0.147684</td>\n",
       "      <td>0.791921</td>\n",
       "      <td>00:01</td>\n",
       "    </tr>\n",
       "    <tr>\n",
       "      <td>2</td>\n",
       "      <td>0.013776</td>\n",
       "      <td>1.407031</td>\n",
       "      <td>0.707955</td>\n",
       "      <td>0.081967</td>\n",
       "      <td>0.729730</td>\n",
       "      <td>0.147380</td>\n",
       "      <td>0.791228</td>\n",
       "      <td>00:01</td>\n",
       "    </tr>\n",
       "    <tr>\n",
       "      <td>3</td>\n",
       "      <td>0.013762</td>\n",
       "      <td>1.417763</td>\n",
       "      <td>0.708049</td>\n",
       "      <td>0.081992</td>\n",
       "      <td>0.729730</td>\n",
       "      <td>0.147420</td>\n",
       "      <td>0.790877</td>\n",
       "      <td>00:01</td>\n",
       "    </tr>\n",
       "  </tbody>\n",
       "</table>"
      ],
      "text/plain": [
       "<IPython.core.display.HTML object>"
      ]
     },
     "metadata": {},
     "output_type": "display_data"
    }
   ],
   "source": [
    "learn.fit_one_cycle(4, 7e-5, wd=0.01)"
   ]
  },
  {
   "cell_type": "code",
   "execution_count": 285,
   "metadata": {
    "hidden": true
   },
   "outputs": [
    {
     "data": {
      "text/html": [],
      "text/plain": [
       "<IPython.core.display.HTML object>"
      ]
     },
     "metadata": {},
     "output_type": "display_data"
    }
   ],
   "source": [
    "interp = ClassificationInterpretation.from_learner(learn)"
   ]
  },
  {
   "cell_type": "code",
   "execution_count": 286,
   "metadata": {
    "hidden": true
   },
   "outputs": [
    {
     "data": {
      "image/png": "[encoded data removed]",
      "text/plain": [
       "<Figure size 432x288 with 1 Axes>"
      ]
     },
     "metadata": {
      "needs_background": "light"
     },
     "output_type": "display_data"
    }
   ],
   "source": [
    "interp.plot_confusion_matrix()"
   ]
  },
  {
   "cell_type": "code",
   "execution_count": 204,
   "metadata": {
    "hidden": true
   },
   "outputs": [],
   "source": [
    "cm = interp.confusion_matrix()"
   ]
  },
  {
   "cell_type": "code",
   "execution_count": 205,
   "metadata": {
    "hidden": true
   },
   "outputs": [
    {
     "data": {
      "text/plain": [
       "10697"
      ]
     },
     "execution_count": 205,
     "metadata": {},
     "output_type": "execute_result"
    }
   ],
   "source": [
    "sum(sum(cm))"
   ]
  },
  {
   "cell_type": "code",
   "execution_count": 206,
   "metadata": {
    "hidden": true
   },
   "outputs": [],
   "source": [
    "assert sum(sum(cm)) == len(valid)"
   ]
  },
  {
   "cell_type": "code",
   "execution_count": 207,
   "metadata": {
    "hidden": true
   },
   "outputs": [
    {
     "data": {
      "text/plain": [
       "370"
      ]
     },
     "execution_count": 207,
     "metadata": {},
     "output_type": "execute_result"
    }
   ],
   "source": [
    "valid['isFraud'].sum()"
   ]
  },
  {
   "cell_type": "markdown",
   "metadata": {
    "heading_collapsed": true
   },
   "source": [
    "## RandomUnderSampler with V*** features"
   ]
  },
  {
   "cell_type": "code",
   "execution_count": 345,
   "metadata": {
    "hidden": true
   },
   "outputs": [],
   "source": [
    "from imblearn.under_sampling import RandomUnderSampler"
   ]
  },
  {
   "cell_type": "code",
   "execution_count": 346,
   "metadata": {
    "hidden": true
   },
   "outputs": [],
   "source": [
    "rus = RandomUnderSampler(random_state=42)"
   ]
  },
  {
   "cell_type": "code",
   "execution_count": 347,
   "metadata": {
    "hidden": true
   },
   "outputs": [],
   "source": [
    "train_s = pd.read_csv(path/'train_s.csv', index_col=[0], low_memory=False)"
   ]
  },
  {
   "cell_type": "code",
   "execution_count": 348,
   "metadata": {
    "hidden": true
   },
   "outputs": [
    {
     "data": {
      "text/plain": [
       "12579507"
      ]
     },
     "execution_count": 348,
     "metadata": {},
     "output_type": "execute_result"
    }
   ],
   "source": [
    "# The rows with TransactionDT <= 12579058 comprise the first 80% of the data (approximately)\n",
    "cut_off = math.floor((train_s['TransactionDT'].max() - train_s['TransactionDT'].min())*0.8)\n",
    "\n",
    "cond = train_s['TransactionDT'] <= cut_off\n",
    "train_idx = np.where( cond)[0]\n",
    "valid_idx = np.where(~cond)[0]\n",
    "\n",
    "splits = (list(train_idx),list(valid_idx))\n",
    "cut_off"
   ]
  },
  {
   "cell_type": "code",
   "execution_count": 349,
   "metadata": {
    "hidden": true
   },
   "outputs": [],
   "source": [
    "assert (len(train_idx) + len(valid_idx) == len(train_s))\n",
    "\n",
    "train = train_s.iloc[train_idx]\n",
    "valid = train_s.iloc[valid_idx]\n",
    "\n",
    "assert (len(train) + len(valid) == len(train_s))"
   ]
  },
  {
   "cell_type": "code",
   "execution_count": 350,
   "metadata": {
    "hidden": true
   },
   "outputs": [
    {
     "data": {
      "text/plain": [
       "((3442, 434), (3442,))"
      ]
     },
     "execution_count": 350,
     "metadata": {},
     "output_type": "execute_result"
    }
   ],
   "source": [
    "train, train_target = rus.fit_resample(train.drop(['isFraud'], axis=1), train['isFraud'])\n",
    "\n",
    "train['isFraud'] = train_target\n",
    "\n",
    "train.shape, train_target.shape"
   ]
  },
  {
   "cell_type": "code",
   "execution_count": 351,
   "metadata": {
    "hidden": true
   },
   "outputs": [
    {
     "data": {
      "text/plain": [
       "(14139, 434)"
      ]
     },
     "execution_count": 351,
     "metadata": {},
     "output_type": "execute_result"
    }
   ],
   "source": [
    "df_nn = pd.concat([train, valid])\n",
    "\n",
    "assert (len(train) + len(valid) == len(df_nn))\n",
    "\n",
    "df_nn.shape"
   ]
  },
  {
   "cell_type": "code",
   "execution_count": 352,
   "metadata": {
    "hidden": true
   },
   "outputs": [],
   "source": [
    "df_nn['isFraud'] = df_nn['isFraud'].astype('category')"
   ]
  },
  {
   "cell_type": "code",
   "execution_count": 353,
   "metadata": {
    "hidden": true
   },
   "outputs": [
    {
     "data": {
      "text/plain": [
       "12578785"
      ]
     },
     "execution_count": 353,
     "metadata": {},
     "output_type": "execute_result"
    }
   ],
   "source": [
    "# The rows with TransactionDT <= 12579058 comprise the first 80% of the data (approximately)\n",
    "cut_off = math.floor((df_nn['TransactionDT'].max() - df_nn['TransactionDT'].min())*0.8)\n",
    "\n",
    "cond = df_nn['TransactionDT'] <= cut_off\n",
    "train_idx = np.where( cond)[0]\n",
    "valid_idx = np.where(~cond)[0]\n",
    "\n",
    "splits = (list(train_idx),list(valid_idx))\n",
    "cut_off"
   ]
  },
  {
   "cell_type": "code",
   "execution_count": 354,
   "metadata": {
    "hidden": true
   },
   "outputs": [],
   "source": [
    "cat = ['ProductCD', 'card1', 'card2', 'card3', 'card4', 'card5', 'card6', \n",
    "       'addr1', 'addr2', 'P_emaildomain', 'R_emaildomain', 'M1', 'M2', 'M3', \n",
    "       'M4', 'M5', 'M6', 'M7', 'M8', 'M9', 'DeviceType', 'DeviceInfo', 'id_12', \n",
    "       'id_13', 'id_14', 'id_15', 'id_16', 'id_17', 'id_18', 'id_19', 'id_20', \n",
    "       'id_21', 'id_22', 'id_23', 'id_24', 'id_25', 'id_26', 'id_27', 'id_28', \n",
    "       'id_29', 'id_30', 'id_31', 'id_32', 'id_33', 'id_34', 'id_35', 'id_36',\n",
    "       'id_37', 'id_38']\n",
    "cont = ['TransactionID', 'TransactionDT', 'TransactionAmt',\n",
    "        'dist1', 'dist2', 'C1', 'C2', 'C3', 'C4', 'C5', 'C6', 'C7', 'C8', 'C9', \n",
    "        'C10', 'C11','C12', 'C13', 'C14', 'D1', 'D2', 'D3', 'D4', 'D5', 'D6', 'D7', \n",
    "        'D8', 'D9', 'D10', 'D11', 'D12', 'D13', 'D14', 'D15', 'id_01', 'id_02', \n",
    "        'id_03', 'id_04', 'id_05', 'id_06', 'id_07', 'id_08', 'id_09', 'id_10', \n",
    "        'id_11','V1', 'V2', 'V3', 'V4', 'V5', 'V6', 'V7', 'V8', 'V9', 'V10', 'V11',\n",
    "       'V12', 'V13', 'V14', 'V15', 'V16', 'V17', 'V18', 'V19', 'V20',\n",
    "       'V21', 'V22', 'V23', 'V24', 'V25', 'V26', 'V27', 'V28', 'V29',\n",
    "       'V30', 'V31', 'V32', 'V33', 'V34', 'V35', 'V36', 'V37', 'V38',\n",
    "       'V39', 'V40', 'V41', 'V42', 'V43', 'V44', 'V45', 'V46', 'V47',\n",
    "       'V48', 'V49', 'V50', 'V51', 'V52', 'V53', 'V54', 'V55', 'V56',\n",
    "       'V57', 'V58', 'V59', 'V60', 'V61', 'V62', 'V63', 'V64', 'V65',\n",
    "       'V66', 'V67', 'V68', 'V69', 'V70', 'V71', 'V72', 'V73', 'V74',\n",
    "       'V75', 'V76', 'V77', 'V78', 'V79', 'V80', 'V81', 'V82', 'V83',\n",
    "       'V84', 'V85', 'V86', 'V87', 'V88', 'V89', 'V90', 'V91', 'V92',\n",
    "       'V93', 'V94', 'V95', 'V96', 'V97', 'V98', 'V99', 'V100', 'V101',\n",
    "       'V102', 'V103', 'V104', 'V105', 'V106', 'V107', 'V108', 'V109',\n",
    "       'V110', 'V111', 'V112', 'V113', 'V114', 'V115', 'V116', 'V117',\n",
    "       'V118', 'V119', 'V120', 'V121', 'V122', 'V123', 'V124', 'V125',\n",
    "       'V126', 'V127', 'V128', 'V129', 'V130', 'V131', 'V132', 'V133',\n",
    "       'V134', 'V135', 'V136', 'V137', 'V138', 'V139', 'V140', 'V141',\n",
    "       'V142', 'V143', 'V144', 'V145', 'V146', 'V147', 'V148', 'V149',\n",
    "       'V150', 'V151', 'V152', 'V153', 'V154', 'V155', 'V156', 'V157',\n",
    "       'V158', 'V159', 'V160', 'V161', 'V162', 'V163', 'V164', 'V165',\n",
    "       'V166', 'V167', 'V168', 'V169', 'V170', 'V171', 'V172', 'V173',\n",
    "       'V174', 'V175', 'V176', 'V177', 'V178', 'V179', 'V180', 'V181',\n",
    "       'V182', 'V183', 'V184', 'V185', 'V186', 'V187', 'V188', 'V189',\n",
    "       'V190', 'V191', 'V192', 'V193', 'V194', 'V195', 'V196', 'V197',\n",
    "       'V198', 'V199', 'V200', 'V201', 'V202', 'V203', 'V204', 'V205',\n",
    "       'V206', 'V207', 'V208', 'V209', 'V210', 'V211', 'V212', 'V213',\n",
    "       'V214', 'V215', 'V216', 'V217', 'V218', 'V219', 'V220', 'V221',\n",
    "       'V222', 'V223', 'V224', 'V225', 'V226', 'V227', 'V228', 'V229',\n",
    "       'V230', 'V231', 'V232', 'V233', 'V234', 'V235', 'V236', 'V237',\n",
    "       'V238', 'V239', 'V240', 'V241', 'V242', 'V243', 'V244', 'V245',\n",
    "       'V246', 'V247', 'V248', 'V249', 'V250', 'V251', 'V252', 'V253',\n",
    "       'V254', 'V255', 'V256', 'V257', 'V258', 'V259', 'V260', 'V261',\n",
    "       'V262', 'V263', 'V264', 'V265', 'V266', 'V267', 'V268', 'V269',\n",
    "       'V270', 'V271', 'V272', 'V273', 'V274', 'V275', 'V276', 'V277',\n",
    "       'V278', 'V279', 'V280', 'V281', 'V282', 'V283', 'V284', 'V285',\n",
    "       'V286', 'V287', 'V288', 'V289', 'V290', 'V291', 'V292', 'V293',\n",
    "       'V294', 'V295', 'V296', 'V297', 'V298', 'V299', 'V300', 'V301',\n",
    "       'V302', 'V303', 'V304', 'V305', 'V306', 'V307', 'V308', 'V309',\n",
    "       'V310', 'V311', 'V312', 'V313', 'V314', 'V315', 'V316', 'V317',\n",
    "       'V318', 'V319', 'V320', 'V321', 'V322', 'V323', 'V324', 'V325',\n",
    "       'V326', 'V327', 'V328', 'V329', 'V330', 'V331', 'V332', 'V333',\n",
    "       'V334', 'V335', 'V336', 'V337', 'V338', 'V339'] \n",
    "dep_var='isFraud'"
   ]
  },
  {
   "cell_type": "code",
   "execution_count": 355,
   "metadata": {
    "hidden": true
   },
   "outputs": [
    {
     "data": {
      "text/plain": [
       "FlattenedLoss of CrossEntropyLoss()"
      ]
     },
     "execution_count": 355,
     "metadata": {},
     "output_type": "execute_result"
    }
   ],
   "source": [
    "procs_nn = [Categorify, FillMissing, Normalize]\n",
    "to_nn = TabularPandas(df_nn, procs_nn, cat, cont,\n",
    "                     splits=splits, y_names=dep_var)\n",
    "to_nn.loss_func"
   ]
  },
  {
   "cell_type": "code",
   "execution_count": 356,
   "metadata": {
    "hidden": true
   },
   "outputs": [
    {
     "data": {
      "text/plain": [
       "((3442, 800), (10697, 800))"
      ]
     },
     "execution_count": 356,
     "metadata": {},
     "output_type": "execute_result"
    }
   ],
   "source": [
    "to_nn.train.xs.shape, to_nn.valid.xs.shape"
   ]
  },
  {
   "cell_type": "code",
   "execution_count": 357,
   "metadata": {
    "hidden": true
   },
   "outputs": [],
   "source": [
    "dls = to_nn.dataloaders(1024)"
   ]
  },
  {
   "cell_type": "code",
   "execution_count": 358,
   "metadata": {
    "hidden": true
   },
   "outputs": [],
   "source": [
    "F1_score = F1Score()\n",
    "recall = Recall()\n",
    "precision = Precision()\n",
    "roc_score = RocAucBinary()\n",
    "metrics = [accuracy, precision, recall, F1_score, roc_score]"
   ]
  },
  {
   "cell_type": "code",
   "execution_count": 368,
   "metadata": {
    "hidden": true
   },
   "outputs": [
    {
     "data": {
      "text/plain": [
       "FlattenedLoss of CrossEntropyLoss()"
      ]
     },
     "execution_count": 368,
     "metadata": {},
     "output_type": "execute_result"
    }
   ],
   "source": [
    "learn = tabular_learner(dls, metrics=metrics,\n",
    "                        cbs=ActivationStats(with_hist=True))\n",
    "learn.loss_func"
   ]
  },
  {
   "cell_type": "code",
   "execution_count": 360,
   "metadata": {
    "hidden": true
   },
   "outputs": [
    {
     "data": {
      "text/html": [],
      "text/plain": [
       "<IPython.core.display.HTML object>"
      ]
     },
     "metadata": {},
     "output_type": "display_data"
    },
    {
     "data": {
      "text/plain": [
       "(0.006918309628963471, 0.0030199517495930195)"
      ]
     },
     "execution_count": 360,
     "metadata": {},
     "output_type": "execute_result"
    },
    {
     "data": {
      "image/png": "[encoded data removed]",
      "text/plain": [
       "<Figure size 432x288 with 1 Axes>"
      ]
     },
     "metadata": {
      "needs_background": "light"
     },
     "output_type": "display_data"
    }
   ],
   "source": [
    "lr_min, lr_steep = learn.lr_find()\n",
    "lr_min, lr_steep"
   ]
  },
  {
   "cell_type": "code",
   "execution_count": 369,
   "metadata": {
    "hidden": true
   },
   "outputs": [
    {
     "data": {
      "text/html": [
       "<table border=\"1\" class=\"dataframe\">\n",
       "  <thead>\n",
       "    <tr style=\"text-align: left;\">\n",
       "      <th>epoch</th>\n",
       "      <th>train_loss</th>\n",
       "      <th>valid_loss</th>\n",
       "      <th>accuracy</th>\n",
       "      <th>precision_score</th>\n",
       "      <th>recall_score</th>\n",
       "      <th>f1_score</th>\n",
       "      <th>roc_auc_score</th>\n",
       "      <th>time</th>\n",
       "    </tr>\n",
       "  </thead>\n",
       "  <tbody>\n",
       "    <tr>\n",
       "      <td>0</td>\n",
       "      <td>0.656516</td>\n",
       "      <td>36.824425</td>\n",
       "      <td>0.506778</td>\n",
       "      <td>0.059130</td>\n",
       "      <td>0.889189</td>\n",
       "      <td>0.110886</td>\n",
       "      <td>0.803414</td>\n",
       "      <td>00:04</td>\n",
       "    </tr>\n",
       "    <tr>\n",
       "      <td>1</td>\n",
       "      <td>0.585598</td>\n",
       "      <td>115.712173</td>\n",
       "      <td>0.712536</td>\n",
       "      <td>0.085250</td>\n",
       "      <td>0.751351</td>\n",
       "      <td>0.153126</td>\n",
       "      <td>0.812597</td>\n",
       "      <td>00:04</td>\n",
       "    </tr>\n",
       "    <tr>\n",
       "      <td>2</td>\n",
       "      <td>0.520642</td>\n",
       "      <td>189.766922</td>\n",
       "      <td>0.769188</td>\n",
       "      <td>0.100190</td>\n",
       "      <td>0.710811</td>\n",
       "      <td>0.175626</td>\n",
       "      <td>0.816028</td>\n",
       "      <td>00:05</td>\n",
       "    </tr>\n",
       "    <tr>\n",
       "      <td>3</td>\n",
       "      <td>0.469841</td>\n",
       "      <td>270.963959</td>\n",
       "      <td>0.804899</td>\n",
       "      <td>0.111010</td>\n",
       "      <td>0.662162</td>\n",
       "      <td>0.190144</td>\n",
       "      <td>0.817758</td>\n",
       "      <td>00:05</td>\n",
       "    </tr>\n",
       "  </tbody>\n",
       "</table>"
      ],
      "text/plain": [
       "<IPython.core.display.HTML object>"
      ]
     },
     "metadata": {},
     "output_type": "display_data"
    }
   ],
   "source": [
    "learn.fit_one_cycle(4, lr_steep, wd=1)"
   ]
  },
  {
   "cell_type": "code",
   "execution_count": 362,
   "metadata": {
    "hidden": true
   },
   "outputs": [
    {
     "data": {
      "image/png": "[encoded data removed]",
      "text/plain": [
       "<Figure size 864x216 with 3 Axes>"
      ]
     },
     "metadata": {
      "needs_background": "light"
     },
     "output_type": "display_data"
    }
   ],
   "source": [
    "learn.activation_stats.plot_layer_stats(1)"
   ]
  },
  {
   "cell_type": "code",
   "execution_count": 363,
   "metadata": {
    "hidden": true
   },
   "outputs": [
    {
     "data": {
      "image/png": "[encoded data removed]",
      "text/plain": [
       "<Figure size 864x216 with 3 Axes>"
      ]
     },
     "metadata": {
      "needs_background": "light"
     },
     "output_type": "display_data"
    }
   ],
   "source": [
    "learn.activation_stats.plot_layer_stats(-2)"
   ]
  },
  {
   "cell_type": "code",
   "execution_count": 364,
   "metadata": {
    "hidden": true
   },
   "outputs": [
    {
     "data": {
      "image/png": "[encoded data removed]",
      "text/plain": [
       "<Figure size 720x360 with 1 Axes>"
      ]
     },
     "metadata": {
      "needs_background": "light"
     },
     "output_type": "display_data"
    }
   ],
   "source": [
    "learn.activation_stats.color_dim(1)"
   ]
  },
  {
   "cell_type": "code",
   "execution_count": 365,
   "metadata": {
    "hidden": true
   },
   "outputs": [
    {
     "data": {
      "image/png": "[encoded data removed]",
      "text/plain": [
       "<Figure size 720x360 with 1 Axes>"
      ]
     },
     "metadata": {
      "needs_background": "light"
     },
     "output_type": "display_data"
    }
   ],
   "source": [
    "learn.activation_stats.color_dim(-2)"
   ]
  },
  {
   "cell_type": "code",
   "execution_count": 172,
   "metadata": {
    "hidden": true
   },
   "outputs": [
    {
     "data": {
      "text/html": [],
      "text/plain": [
       "<IPython.core.display.HTML object>"
      ]
     },
     "metadata": {},
     "output_type": "display_data"
    },
    {
     "data": {
      "text/plain": [
       "(0.0005248074419796466, 0.001737800776027143)"
      ]
     },
     "execution_count": 172,
     "metadata": {},
     "output_type": "execute_result"
    },
    {
     "data": {
      "image/png": "[encoded data removed]",
      "text/plain": [
       "<Figure size 432x288 with 1 Axes>"
      ]
     },
     "metadata": {
      "needs_background": "light"
     },
     "output_type": "display_data"
    }
   ],
   "source": [
    "lr_min, lr_steep = learn.lr_find()\n",
    "lr_min, lr_steep"
   ]
  },
  {
   "cell_type": "code",
   "execution_count": 173,
   "metadata": {
    "hidden": true
   },
   "outputs": [
    {
     "data": {
      "text/html": [
       "<table border=\"1\" class=\"dataframe\">\n",
       "  <thead>\n",
       "    <tr style=\"text-align: left;\">\n",
       "      <th>epoch</th>\n",
       "      <th>train_loss</th>\n",
       "      <th>valid_loss</th>\n",
       "      <th>accuracy</th>\n",
       "      <th>precision_score</th>\n",
       "      <th>recall_score</th>\n",
       "      <th>f1_score</th>\n",
       "      <th>roc_auc_score</th>\n",
       "      <th>time</th>\n",
       "    </tr>\n",
       "  </thead>\n",
       "  <tbody>\n",
       "    <tr>\n",
       "      <td>0</td>\n",
       "      <td>0.258553</td>\n",
       "      <td>0.643853</td>\n",
       "      <td>0.612300</td>\n",
       "      <td>0.563258</td>\n",
       "      <td>0.895317</td>\n",
       "      <td>0.691489</td>\n",
       "      <td>0.717871</td>\n",
       "      <td>00:00</td>\n",
       "    </tr>\n",
       "    <tr>\n",
       "      <td>1</td>\n",
       "      <td>0.239723</td>\n",
       "      <td>0.637914</td>\n",
       "      <td>0.612300</td>\n",
       "      <td>0.563040</td>\n",
       "      <td>0.898072</td>\n",
       "      <td>0.692144</td>\n",
       "      <td>0.728833</td>\n",
       "      <td>00:00</td>\n",
       "    </tr>\n",
       "    <tr>\n",
       "      <td>2</td>\n",
       "      <td>0.219287</td>\n",
       "      <td>0.636913</td>\n",
       "      <td>0.609626</td>\n",
       "      <td>0.561955</td>\n",
       "      <td>0.887052</td>\n",
       "      <td>0.688034</td>\n",
       "      <td>0.733047</td>\n",
       "      <td>00:00</td>\n",
       "    </tr>\n",
       "    <tr>\n",
       "      <td>3</td>\n",
       "      <td>0.200391</td>\n",
       "      <td>0.646205</td>\n",
       "      <td>0.610963</td>\n",
       "      <td>0.561856</td>\n",
       "      <td>0.900826</td>\n",
       "      <td>0.692063</td>\n",
       "      <td>0.734256</td>\n",
       "      <td>00:00</td>\n",
       "    </tr>\n",
       "  </tbody>\n",
       "</table>"
      ],
      "text/plain": [
       "<IPython.core.display.HTML object>"
      ]
     },
     "metadata": {},
     "output_type": "display_data"
    }
   ],
   "source": [
    "learn.fit_one_cycle(4, lr_steep, wd=0.01)"
   ]
  },
  {
   "cell_type": "markdown",
   "metadata": {
    "heading_collapsed": true
   },
   "source": [
    "## RandomOverSampler without V*** features"
   ]
  },
  {
   "cell_type": "code",
   "execution_count": 304,
   "metadata": {
    "hidden": true
   },
   "outputs": [],
   "source": [
    "from imblearn.over_sampling import RandomOverSampler"
   ]
  },
  {
   "cell_type": "code",
   "execution_count": 305,
   "metadata": {
    "hidden": true
   },
   "outputs": [],
   "source": [
    "ros = RandomOverSampler(random_state=42)"
   ]
  },
  {
   "cell_type": "code",
   "execution_count": 306,
   "metadata": {
    "hidden": true
   },
   "outputs": [],
   "source": [
    "train_ss = pd.read_csv(path/'train_ss.csv', index_col=[0], low_memory=False)"
   ]
  },
  {
   "cell_type": "code",
   "execution_count": 307,
   "metadata": {
    "hidden": true
   },
   "outputs": [
    {
     "data": {
      "text/plain": [
       "12579507"
      ]
     },
     "execution_count": 307,
     "metadata": {},
     "output_type": "execute_result"
    }
   ],
   "source": [
    "# The rows with TransactionDT <= 12579058 comprise the first 80% of the data (approximately)\n",
    "cut_off = math.floor((train_ss['TransactionDT'].max() - train_ss['TransactionDT'].min())*0.8)\n",
    "\n",
    "cond = train_ss['TransactionDT'] <= cut_off\n",
    "train_idx = np.where( cond)[0]\n",
    "valid_idx = np.where(~cond)[0]\n",
    "\n",
    "splits = (list(train_idx),list(valid_idx))\n",
    "cut_off"
   ]
  },
  {
   "cell_type": "code",
   "execution_count": 308,
   "metadata": {
    "hidden": true
   },
   "outputs": [],
   "source": [
    "assert (len(train_idx) + len(valid_idx) == len(train_ss))\n",
    "\n",
    "train = train_ss.iloc[train_idx]\n",
    "valid = train_ss.iloc[valid_idx]\n",
    "\n",
    "assert (len(train) + len(valid) == len(train_ss))"
   ]
  },
  {
   "cell_type": "code",
   "execution_count": 309,
   "metadata": {
    "hidden": true
   },
   "outputs": [
    {
     "data": {
      "text/plain": [
       "((93272, 95), (93272,))"
      ]
     },
     "execution_count": 309,
     "metadata": {},
     "output_type": "execute_result"
    }
   ],
   "source": [
    "train, train_target = ros.fit_resample(train.drop(['isFraud'], axis=1), train['isFraud'])\n",
    "\n",
    "train['isFraud'] = train_target\n",
    "\n",
    "train.shape, train_target.shape"
   ]
  },
  {
   "cell_type": "code",
   "execution_count": 310,
   "metadata": {
    "hidden": true
   },
   "outputs": [
    {
     "data": {
      "text/plain": [
       "(103969, 95)"
      ]
     },
     "execution_count": 310,
     "metadata": {},
     "output_type": "execute_result"
    }
   ],
   "source": [
    "df_nn = pd.concat([train, valid])\n",
    "\n",
    "assert (len(train) + len(valid) == len(df_nn))\n",
    "\n",
    "df_nn.shape"
   ]
  },
  {
   "cell_type": "code",
   "execution_count": 311,
   "metadata": {
    "hidden": true
   },
   "outputs": [],
   "source": [
    "df_nn['isFraud'] = df_nn['isFraud'].astype('category')"
   ]
  },
  {
   "cell_type": "code",
   "execution_count": 312,
   "metadata": {
    "hidden": true
   },
   "outputs": [
    {
     "data": {
      "text/plain": [
       "12579507"
      ]
     },
     "execution_count": 312,
     "metadata": {},
     "output_type": "execute_result"
    }
   ],
   "source": [
    "# The rows with TransactionDT <= 12579058 comprise the first 80% of the data (approximately)\n",
    "cut_off = math.floor((df_nn['TransactionDT'].max() - df_nn['TransactionDT'].min())*0.8)\n",
    "\n",
    "cond = df_nn['TransactionDT'] <= cut_off\n",
    "train_idx = np.where( cond)[0]\n",
    "valid_idx = np.where(~cond)[0]\n",
    "\n",
    "splits = (list(train_idx),list(valid_idx))\n",
    "cut_off"
   ]
  },
  {
   "cell_type": "code",
   "execution_count": 313,
   "metadata": {
    "hidden": true
   },
   "outputs": [],
   "source": [
    "cat = ['ProductCD', 'card1', 'card2', 'card3', 'card4', 'card5', 'card6', \n",
    "       'addr1', 'addr2', 'P_emaildomain', 'R_emaildomain', 'M1', 'M2', 'M3', \n",
    "       'M4', 'M5', 'M6', 'M7', 'M8', 'M9', 'DeviceType', 'DeviceInfo', 'id_12', \n",
    "       'id_13', 'id_14', 'id_15', 'id_16', 'id_17', 'id_18', 'id_19', 'id_20', \n",
    "       'id_21', 'id_22', 'id_23', 'id_24', 'id_25', 'id_26', 'id_27', 'id_28', \n",
    "       'id_29', 'id_30', 'id_31', 'id_32', 'id_33', 'id_34', 'id_35', 'id_36',\n",
    "       'id_37', 'id_38'] \n",
    "cont = ['TransactionID', 'TransactionDT', 'TransactionAmt',\n",
    "        'dist1', 'dist2', 'C1', 'C2', 'C3', 'C4', 'C5', 'C6', 'C7', 'C8', 'C9', \n",
    "        'C10', 'C11','C12', 'C13', 'C14', 'D1', 'D2', 'D3', 'D4', 'D5', 'D6', 'D7', \n",
    "        'D8', 'D9', 'D10', 'D11', 'D12', 'D13', 'D14', 'D15', 'id_01', 'id_02', \n",
    "        'id_03', 'id_04', 'id_05', 'id_06', 'id_07', 'id_08', 'id_09', 'id_10', \n",
    "        'id_11']\n",
    "dep_var = 'isFraud'"
   ]
  },
  {
   "cell_type": "code",
   "execution_count": 314,
   "metadata": {
    "hidden": true
   },
   "outputs": [
    {
     "data": {
      "text/plain": [
       "FlattenedLoss of CrossEntropyLoss()"
      ]
     },
     "execution_count": 314,
     "metadata": {},
     "output_type": "execute_result"
    }
   ],
   "source": [
    "procs_nn = [Categorify, FillMissing, Normalize]\n",
    "to_nn = TabularPandas(df_nn, procs_nn, cat, cont,\n",
    "                     splits=splits, y_names=dep_var)\n",
    "to_nn.loss_func"
   ]
  },
  {
   "cell_type": "code",
   "execution_count": 315,
   "metadata": {
    "hidden": true
   },
   "outputs": [
    {
     "data": {
      "text/plain": [
       "((93272, 122), (10697, 122))"
      ]
     },
     "execution_count": 315,
     "metadata": {},
     "output_type": "execute_result"
    }
   ],
   "source": [
    "to_nn.train.xs.shape, to_nn.valid.xs.shape"
   ]
  },
  {
   "cell_type": "code",
   "execution_count": 316,
   "metadata": {
    "hidden": true
   },
   "outputs": [],
   "source": [
    "dls = to_nn.dataloaders(1024)"
   ]
  },
  {
   "cell_type": "code",
   "execution_count": 317,
   "metadata": {
    "hidden": true
   },
   "outputs": [],
   "source": [
    "F1_score = F1Score()\n",
    "recall = Recall()\n",
    "precision = Precision()\n",
    "roc_score = RocAucBinary()\n",
    "metrics = [accuracy, precision, recall, F1_score, roc_score]"
   ]
  },
  {
   "cell_type": "code",
   "execution_count": 318,
   "metadata": {
    "hidden": true
   },
   "outputs": [
    {
     "data": {
      "text/plain": [
       "FlattenedLoss of CrossEntropyLoss()"
      ]
     },
     "execution_count": 318,
     "metadata": {},
     "output_type": "execute_result"
    }
   ],
   "source": [
    "learn = tabular_learner(dls, metrics=metrics,\n",
    "                        cbs=ActivationStats(with_hist=True))\n",
    "learn.loss_func"
   ]
  },
  {
   "cell_type": "code",
   "execution_count": 319,
   "metadata": {
    "hidden": true
   },
   "outputs": [
    {
     "data": {
      "text/html": [],
      "text/plain": [
       "<IPython.core.display.HTML object>"
      ]
     },
     "metadata": {},
     "output_type": "display_data"
    },
    {
     "data": {
      "text/plain": [
       "(0.014454397559165954, 0.002511886414140463)"
      ]
     },
     "execution_count": 319,
     "metadata": {},
     "output_type": "execute_result"
    },
    {
     "data": {
      "image/png": "[encoded data removed]",
      "text/plain": [
       "<Figure size 432x288 with 1 Axes>"
      ]
     },
     "metadata": {
      "needs_background": "light"
     },
     "output_type": "display_data"
    }
   ],
   "source": [
    "lr_min, lr_steep = learn.lr_find()\n",
    "lr_min, lr_steep"
   ]
  },
  {
   "cell_type": "code",
   "execution_count": 320,
   "metadata": {
    "hidden": true
   },
   "outputs": [
    {
     "data": {
      "text/html": [
       "<table border=\"1\" class=\"dataframe\">\n",
       "  <thead>\n",
       "    <tr style=\"text-align: left;\">\n",
       "      <th>epoch</th>\n",
       "      <th>train_loss</th>\n",
       "      <th>valid_loss</th>\n",
       "      <th>accuracy</th>\n",
       "      <th>precision_score</th>\n",
       "      <th>recall_score</th>\n",
       "      <th>f1_score</th>\n",
       "      <th>roc_auc_score</th>\n",
       "      <th>time</th>\n",
       "    </tr>\n",
       "  </thead>\n",
       "  <tbody>\n",
       "    <tr>\n",
       "      <td>0</td>\n",
       "      <td>0.245073</td>\n",
       "      <td>0.240063</td>\n",
       "      <td>0.911097</td>\n",
       "      <td>0.183206</td>\n",
       "      <td>0.454054</td>\n",
       "      <td>0.261072</td>\n",
       "      <td>0.804083</td>\n",
       "      <td>00:31</td>\n",
       "    </tr>\n",
       "    <tr>\n",
       "      <td>1</td>\n",
       "      <td>0.094821</td>\n",
       "      <td>0.234945</td>\n",
       "      <td>0.956156</td>\n",
       "      <td>0.360563</td>\n",
       "      <td>0.345946</td>\n",
       "      <td>0.353103</td>\n",
       "      <td>0.831379</td>\n",
       "      <td>00:37</td>\n",
       "    </tr>\n",
       "    <tr>\n",
       "      <td>2</td>\n",
       "      <td>0.032494</td>\n",
       "      <td>0.285595</td>\n",
       "      <td>0.955875</td>\n",
       "      <td>0.326531</td>\n",
       "      <td>0.259459</td>\n",
       "      <td>0.289157</td>\n",
       "      <td>0.809014</td>\n",
       "      <td>00:36</td>\n",
       "    </tr>\n",
       "    <tr>\n",
       "      <td>3</td>\n",
       "      <td>0.011035</td>\n",
       "      <td>0.293642</td>\n",
       "      <td>0.958119</td>\n",
       "      <td>0.353383</td>\n",
       "      <td>0.254054</td>\n",
       "      <td>0.295597</td>\n",
       "      <td>0.814451</td>\n",
       "      <td>00:36</td>\n",
       "    </tr>\n",
       "  </tbody>\n",
       "</table>"
      ],
      "text/plain": [
       "<IPython.core.display.HTML object>"
      ]
     },
     "metadata": {},
     "output_type": "display_data"
    }
   ],
   "source": [
    "learn.fit_one_cycle(4, lr_steep, wd=0.01)"
   ]
  },
  {
   "cell_type": "code",
   "execution_count": 321,
   "metadata": {
    "hidden": true
   },
   "outputs": [
    {
     "data": {
      "image/png": "[encoded data removed]",
      "text/plain": [
       "<Figure size 864x216 with 3 Axes>"
      ]
     },
     "metadata": {
      "needs_background": "light"
     },
     "output_type": "display_data"
    }
   ],
   "source": [
    "learn.activation_stats.plot_layer_stats(1)"
   ]
  },
  {
   "cell_type": "code",
   "execution_count": 322,
   "metadata": {
    "hidden": true
   },
   "outputs": [
    {
     "data": {
      "image/png": "[encoded data removed]",
      "text/plain": [
       "<Figure size 864x216 with 3 Axes>"
      ]
     },
     "metadata": {
      "needs_background": "light"
     },
     "output_type": "display_data"
    }
   ],
   "source": [
    "learn.activation_stats.plot_layer_stats(-2)"
   ]
  },
  {
   "cell_type": "code",
   "execution_count": 323,
   "metadata": {
    "hidden": true
   },
   "outputs": [
    {
     "data": {
      "image/png": "[encoded data removed]",
      "text/plain": [
       "<Figure size 720x360 with 1 Axes>"
      ]
     },
     "metadata": {
      "needs_background": "light"
     },
     "output_type": "display_data"
    }
   ],
   "source": [
    "learn.activation_stats.color_dim(1)"
   ]
  },
  {
   "cell_type": "code",
   "execution_count": 324,
   "metadata": {
    "hidden": true
   },
   "outputs": [
    {
     "data": {
      "image/png": "[encoded data removed]",
      "text/plain": [
       "<Figure size 720x360 with 1 Axes>"
      ]
     },
     "metadata": {
      "needs_background": "light"
     },
     "output_type": "display_data"
    }
   ],
   "source": [
    "learn.activation_stats.color_dim(-2)"
   ]
  },
  {
   "cell_type": "code",
   "execution_count": 325,
   "metadata": {
    "hidden": true
   },
   "outputs": [
    {
     "data": {
      "text/html": [],
      "text/plain": [
       "<IPython.core.display.HTML object>"
      ]
     },
     "metadata": {},
     "output_type": "display_data"
    },
    {
     "data": {
      "text/plain": [
       "(3.6307807022240014e-06, 6.309573450380412e-07)"
      ]
     },
     "execution_count": 325,
     "metadata": {},
     "output_type": "execute_result"
    },
    {
     "data": {
      "image/png": "[encoded data removed]",
      "text/plain": [
       "<Figure size 432x288 with 1 Axes>"
      ]
     },
     "metadata": {
      "needs_background": "light"
     },
     "output_type": "display_data"
    }
   ],
   "source": [
    "lr_min, lr_steep = learn.lr_find()\n",
    "lr_min, lr_steep"
   ]
  },
  {
   "cell_type": "code",
   "execution_count": 332,
   "metadata": {
    "hidden": true
   },
   "outputs": [
    {
     "data": {
      "text/html": [
       "<table border=\"1\" class=\"dataframe\">\n",
       "  <thead>\n",
       "    <tr style=\"text-align: left;\">\n",
       "      <th>epoch</th>\n",
       "      <th>train_loss</th>\n",
       "      <th>valid_loss</th>\n",
       "      <th>accuracy</th>\n",
       "      <th>precision_score</th>\n",
       "      <th>recall_score</th>\n",
       "      <th>f1_score</th>\n",
       "      <th>roc_auc_score</th>\n",
       "      <th>time</th>\n",
       "    </tr>\n",
       "  </thead>\n",
       "  <tbody>\n",
       "    <tr>\n",
       "      <td>0</td>\n",
       "      <td>0.005528</td>\n",
       "      <td>0.293647</td>\n",
       "      <td>0.958119</td>\n",
       "      <td>0.351145</td>\n",
       "      <td>0.248649</td>\n",
       "      <td>0.291139</td>\n",
       "      <td>0.814114</td>\n",
       "      <td>00:30</td>\n",
       "    </tr>\n",
       "    <tr>\n",
       "      <td>1</td>\n",
       "      <td>0.005345</td>\n",
       "      <td>0.293586</td>\n",
       "      <td>0.958493</td>\n",
       "      <td>0.359848</td>\n",
       "      <td>0.256757</td>\n",
       "      <td>0.299685</td>\n",
       "      <td>0.814579</td>\n",
       "      <td>00:33</td>\n",
       "    </tr>\n",
       "    <tr>\n",
       "      <td>2</td>\n",
       "      <td>0.005277</td>\n",
       "      <td>0.292976</td>\n",
       "      <td>0.958493</td>\n",
       "      <td>0.360902</td>\n",
       "      <td>0.259459</td>\n",
       "      <td>0.301887</td>\n",
       "      <td>0.815500</td>\n",
       "      <td>00:36</td>\n",
       "    </tr>\n",
       "    <tr>\n",
       "      <td>3</td>\n",
       "      <td>0.005115</td>\n",
       "      <td>0.293870</td>\n",
       "      <td>0.958680</td>\n",
       "      <td>0.362595</td>\n",
       "      <td>0.256757</td>\n",
       "      <td>0.300633</td>\n",
       "      <td>0.815369</td>\n",
       "      <td>00:36</td>\n",
       "    </tr>\n",
       "  </tbody>\n",
       "</table>"
      ],
      "text/plain": [
       "<IPython.core.display.HTML object>"
      ]
     },
     "metadata": {},
     "output_type": "display_data"
    }
   ],
   "source": [
    "learn.fit_one_cycle(4, 5e-6)"
   ]
  },
  {
   "cell_type": "markdown",
   "metadata": {
    "heading_collapsed": true
   },
   "source": [
    "## RandomOverSampler with V*** features"
   ]
  },
  {
   "cell_type": "code",
   "execution_count": 377,
   "metadata": {
    "hidden": true
   },
   "outputs": [],
   "source": [
    "from imblearn.over_sampling import RandomOverSampler"
   ]
  },
  {
   "cell_type": "code",
   "execution_count": 378,
   "metadata": {
    "hidden": true
   },
   "outputs": [],
   "source": [
    "ros = RandomOverSampler(random_state=42)"
   ]
  },
  {
   "cell_type": "code",
   "execution_count": 379,
   "metadata": {
    "hidden": true
   },
   "outputs": [],
   "source": [
    "train_s = pd.read_csv(path/'train_s.csv', index_col=[0], low_memory=False)"
   ]
  },
  {
   "cell_type": "code",
   "execution_count": 380,
   "metadata": {
    "hidden": true
   },
   "outputs": [
    {
     "data": {
      "text/plain": [
       "12579507"
      ]
     },
     "execution_count": 380,
     "metadata": {},
     "output_type": "execute_result"
    }
   ],
   "source": [
    "# The rows with TransactionDT <= 12579058 comprise the first 80% of the data (approximately)\n",
    "cut_off = math.floor((train_s['TransactionDT'].max() - train_s['TransactionDT'].min())*0.8)\n",
    "\n",
    "cond = train_s['TransactionDT'] <= cut_off\n",
    "train_idx = np.where( cond)[0]\n",
    "valid_idx = np.where(~cond)[0]\n",
    "\n",
    "splits = (list(train_idx),list(valid_idx))\n",
    "cut_off"
   ]
  },
  {
   "cell_type": "code",
   "execution_count": 381,
   "metadata": {
    "hidden": true
   },
   "outputs": [],
   "source": [
    "assert (len(train_idx) + len(valid_idx) == len(train_s))\n",
    "\n",
    "train = train_s.iloc[train_idx]\n",
    "valid = train_s.iloc[valid_idx]\n",
    "\n",
    "assert (len(train) + len(valid) == len(train_s))"
   ]
  },
  {
   "cell_type": "code",
   "execution_count": 382,
   "metadata": {
    "hidden": true
   },
   "outputs": [
    {
     "data": {
      "text/plain": [
       "((93272, 434), (93272,))"
      ]
     },
     "execution_count": 382,
     "metadata": {},
     "output_type": "execute_result"
    }
   ],
   "source": [
    "train, train_target = ros.fit_resample(train.drop(['isFraud'], axis=1), train['isFraud'])\n",
    "\n",
    "train['isFraud'] = train_target\n",
    "\n",
    "train.shape, train_target.shape"
   ]
  },
  {
   "cell_type": "code",
   "execution_count": 383,
   "metadata": {
    "hidden": true
   },
   "outputs": [
    {
     "data": {
      "text/plain": [
       "(103969, 434)"
      ]
     },
     "execution_count": 383,
     "metadata": {},
     "output_type": "execute_result"
    }
   ],
   "source": [
    "df_nn = pd.concat([train, valid])\n",
    "\n",
    "assert (len(train) + len(valid) == len(df_nn))\n",
    "\n",
    "df_nn.shape"
   ]
  },
  {
   "cell_type": "code",
   "execution_count": 384,
   "metadata": {
    "hidden": true
   },
   "outputs": [],
   "source": [
    "df_nn['isFraud'] = df_nn['isFraud'].astype('category')"
   ]
  },
  {
   "cell_type": "code",
   "execution_count": 385,
   "metadata": {
    "hidden": true
   },
   "outputs": [
    {
     "data": {
      "text/plain": [
       "12579507"
      ]
     },
     "execution_count": 385,
     "metadata": {},
     "output_type": "execute_result"
    }
   ],
   "source": [
    "# The rows with TransactionDT <= 12579058 comprise the first 80% of the data (approximately)\n",
    "cut_off = math.floor((df_nn['TransactionDT'].max() - df_nn['TransactionDT'].min())*0.8)\n",
    "\n",
    "cond = df_nn['TransactionDT'] <= cut_off\n",
    "train_idx = np.where( cond)[0]\n",
    "valid_idx = np.where(~cond)[0]\n",
    "\n",
    "splits = (list(train_idx),list(valid_idx))\n",
    "cut_off"
   ]
  },
  {
   "cell_type": "code",
   "execution_count": 386,
   "metadata": {
    "hidden": true
   },
   "outputs": [],
   "source": [
    "cat = ['ProductCD', 'card1', 'card2', 'card3', 'card4', 'card5', 'card6', \n",
    "       'addr1', 'addr2', 'P_emaildomain', 'R_emaildomain', 'M1', 'M2', 'M3', \n",
    "       'M4', 'M5', 'M6', 'M7', 'M8', 'M9', 'DeviceType', 'DeviceInfo', 'id_12', \n",
    "       'id_13', 'id_14', 'id_15', 'id_16', 'id_17', 'id_18', 'id_19', 'id_20', \n",
    "       'id_21', 'id_22', 'id_23', 'id_24', 'id_25', 'id_26', 'id_27', 'id_28', \n",
    "       'id_29', 'id_30', 'id_31', 'id_32', 'id_33', 'id_34', 'id_35', 'id_36',\n",
    "       'id_37', 'id_38']\n",
    "cont = ['TransactionID', 'TransactionDT', 'TransactionAmt',\n",
    "        'dist1', 'dist2', 'C1', 'C2', 'C3', 'C4', 'C5', 'C6', 'C7', 'C8', 'C9', \n",
    "        'C10', 'C11','C12', 'C13', 'C14', 'D1', 'D2', 'D3', 'D4', 'D5', 'D6', 'D7', \n",
    "        'D8', 'D9', 'D10', 'D11', 'D12', 'D13', 'D14', 'D15', 'id_01', 'id_02', \n",
    "        'id_03', 'id_04', 'id_05', 'id_06', 'id_07', 'id_08', 'id_09', 'id_10', \n",
    "        'id_11','V1', 'V2', 'V3', 'V4', 'V5', 'V6', 'V7', 'V8', 'V9', 'V10', 'V11',\n",
    "       'V12', 'V13', 'V14', 'V15', 'V16', 'V17', 'V18', 'V19', 'V20',\n",
    "       'V21', 'V22', 'V23', 'V24', 'V25', 'V26', 'V27', 'V28', 'V29',\n",
    "       'V30', 'V31', 'V32', 'V33', 'V34', 'V35', 'V36', 'V37', 'V38',\n",
    "       'V39', 'V40', 'V41', 'V42', 'V43', 'V44', 'V45', 'V46', 'V47',\n",
    "       'V48', 'V49', 'V50', 'V51', 'V52', 'V53', 'V54', 'V55', 'V56',\n",
    "       'V57', 'V58', 'V59', 'V60', 'V61', 'V62', 'V63', 'V64', 'V65',\n",
    "       'V66', 'V67', 'V68', 'V69', 'V70', 'V71', 'V72', 'V73', 'V74',\n",
    "       'V75', 'V76', 'V77', 'V78', 'V79', 'V80', 'V81', 'V82', 'V83',\n",
    "       'V84', 'V85', 'V86', 'V87', 'V88', 'V89', 'V90', 'V91', 'V92',\n",
    "       'V93', 'V94', 'V95', 'V96', 'V97', 'V98', 'V99', 'V100', 'V101',\n",
    "       'V102', 'V103', 'V104', 'V105', 'V106', 'V107', 'V108', 'V109',\n",
    "       'V110', 'V111', 'V112', 'V113', 'V114', 'V115', 'V116', 'V117',\n",
    "       'V118', 'V119', 'V120', 'V121', 'V122', 'V123', 'V124', 'V125',\n",
    "       'V126', 'V127', 'V128', 'V129', 'V130', 'V131', 'V132', 'V133',\n",
    "       'V134', 'V135', 'V136', 'V137', 'V138', 'V139', 'V140', 'V141',\n",
    "       'V142', 'V143', 'V144', 'V145', 'V146', 'V147', 'V148', 'V149',\n",
    "       'V150', 'V151', 'V152', 'V153', 'V154', 'V155', 'V156', 'V157',\n",
    "       'V158', 'V159', 'V160', 'V161', 'V162', 'V163', 'V164', 'V165',\n",
    "       'V166', 'V167', 'V168', 'V169', 'V170', 'V171', 'V172', 'V173',\n",
    "       'V174', 'V175', 'V176', 'V177', 'V178', 'V179', 'V180', 'V181',\n",
    "       'V182', 'V183', 'V184', 'V185', 'V186', 'V187', 'V188', 'V189',\n",
    "       'V190', 'V191', 'V192', 'V193', 'V194', 'V195', 'V196', 'V197',\n",
    "       'V198', 'V199', 'V200', 'V201', 'V202', 'V203', 'V204', 'V205',\n",
    "       'V206', 'V207', 'V208', 'V209', 'V210', 'V211', 'V212', 'V213',\n",
    "       'V214', 'V215', 'V216', 'V217', 'V218', 'V219', 'V220', 'V221',\n",
    "       'V222', 'V223', 'V224', 'V225', 'V226', 'V227', 'V228', 'V229',\n",
    "       'V230', 'V231', 'V232', 'V233', 'V234', 'V235', 'V236', 'V237',\n",
    "       'V238', 'V239', 'V240', 'V241', 'V242', 'V243', 'V244', 'V245',\n",
    "       'V246', 'V247', 'V248', 'V249', 'V250', 'V251', 'V252', 'V253',\n",
    "       'V254', 'V255', 'V256', 'V257', 'V258', 'V259', 'V260', 'V261',\n",
    "       'V262', 'V263', 'V264', 'V265', 'V266', 'V267', 'V268', 'V269',\n",
    "       'V270', 'V271', 'V272', 'V273', 'V274', 'V275', 'V276', 'V277',\n",
    "       'V278', 'V279', 'V280', 'V281', 'V282', 'V283', 'V284', 'V285',\n",
    "       'V286', 'V287', 'V288', 'V289', 'V290', 'V291', 'V292', 'V293',\n",
    "       'V294', 'V295', 'V296', 'V297', 'V298', 'V299', 'V300', 'V301',\n",
    "       'V302', 'V303', 'V304', 'V305', 'V306', 'V307', 'V308', 'V309',\n",
    "       'V310', 'V311', 'V312', 'V313', 'V314', 'V315', 'V316', 'V317',\n",
    "       'V318', 'V319', 'V320', 'V321', 'V322', 'V323', 'V324', 'V325',\n",
    "       'V326', 'V327', 'V328', 'V329', 'V330', 'V331', 'V332', 'V333',\n",
    "       'V334', 'V335', 'V336', 'V337', 'V338', 'V339'] \n",
    "dep_var='isFraud'"
   ]
  },
  {
   "cell_type": "code",
   "execution_count": 387,
   "metadata": {
    "hidden": true
   },
   "outputs": [
    {
     "data": {
      "text/plain": [
       "FlattenedLoss of CrossEntropyLoss()"
      ]
     },
     "execution_count": 387,
     "metadata": {},
     "output_type": "execute_result"
    }
   ],
   "source": [
    "procs_nn = [Categorify, FillMissing, Normalize]\n",
    "to_nn = TabularPandas(df_nn, procs_nn, cat, cont,\n",
    "                     splits=splits, y_names=dep_var)\n",
    "to_nn.loss_func"
   ]
  },
  {
   "cell_type": "code",
   "execution_count": 388,
   "metadata": {
    "hidden": true
   },
   "outputs": [
    {
     "data": {
      "text/plain": [
       "((93272, 800), (10697, 800))"
      ]
     },
     "execution_count": 388,
     "metadata": {},
     "output_type": "execute_result"
    }
   ],
   "source": [
    "to_nn.train.xs.shape, to_nn.valid.xs.shape"
   ]
  },
  {
   "cell_type": "code",
   "execution_count": 389,
   "metadata": {
    "hidden": true
   },
   "outputs": [],
   "source": [
    "dls = to_nn.dataloaders(1024)"
   ]
  },
  {
   "cell_type": "code",
   "execution_count": 390,
   "metadata": {
    "hidden": true
   },
   "outputs": [],
   "source": [
    "F1_score = F1Score()\n",
    "recall = Recall()\n",
    "precision = Precision()\n",
    "roc_score = RocAucBinary()\n",
    "metrics = [accuracy, precision, recall, F1_score, roc_score]"
   ]
  },
  {
   "cell_type": "code",
   "execution_count": 391,
   "metadata": {
    "hidden": true
   },
   "outputs": [
    {
     "data": {
      "text/plain": [
       "FlattenedLoss of CrossEntropyLoss()"
      ]
     },
     "execution_count": 391,
     "metadata": {},
     "output_type": "execute_result"
    }
   ],
   "source": [
    "learn = tabular_learner(dls, metrics=metrics,\n",
    "                        cbs=ActivationStats(with_hist=True))\n",
    "learn.loss_func"
   ]
  },
  {
   "cell_type": "code",
   "execution_count": 392,
   "metadata": {
    "hidden": true
   },
   "outputs": [
    {
     "data": {
      "text/html": [],
      "text/plain": [
       "<IPython.core.display.HTML object>"
      ]
     },
     "metadata": {},
     "output_type": "display_data"
    },
    {
     "data": {
      "text/plain": [
       "(0.006918309628963471, 0.0020892962347716093)"
      ]
     },
     "execution_count": 392,
     "metadata": {},
     "output_type": "execute_result"
    },
    {
     "data": {
      "image/png": "[encoded data removed]",
      "text/plain": [
       "<Figure size 432x288 with 1 Axes>"
      ]
     },
     "metadata": {
      "needs_background": "light"
     },
     "output_type": "display_data"
    }
   ],
   "source": [
    "lr_min, lr_steep = learn.lr_find()\n",
    "lr_min, lr_steep"
   ]
  },
  {
   "cell_type": "code",
   "execution_count": 393,
   "metadata": {
    "hidden": true
   },
   "outputs": [
    {
     "data": {
      "text/html": [
       "<table border=\"1\" class=\"dataframe\">\n",
       "  <thead>\n",
       "    <tr style=\"text-align: left;\">\n",
       "      <th>epoch</th>\n",
       "      <th>train_loss</th>\n",
       "      <th>valid_loss</th>\n",
       "      <th>accuracy</th>\n",
       "      <th>precision_score</th>\n",
       "      <th>recall_score</th>\n",
       "      <th>f1_score</th>\n",
       "      <th>roc_auc_score</th>\n",
       "      <th>time</th>\n",
       "    </tr>\n",
       "  </thead>\n",
       "  <tbody>\n",
       "    <tr>\n",
       "      <td>0</td>\n",
       "      <td>0.262564</td>\n",
       "      <td>0.181661</td>\n",
       "      <td>0.938114</td>\n",
       "      <td>0.273292</td>\n",
       "      <td>0.475676</td>\n",
       "      <td>0.347140</td>\n",
       "      <td>0.838002</td>\n",
       "      <td>02:04</td>\n",
       "    </tr>\n",
       "    <tr>\n",
       "      <td>1</td>\n",
       "      <td>0.114396</td>\n",
       "      <td>0.282475</td>\n",
       "      <td>0.893896</td>\n",
       "      <td>0.168257</td>\n",
       "      <td>0.524324</td>\n",
       "      <td>0.254760</td>\n",
       "      <td>0.799517</td>\n",
       "      <td>02:14</td>\n",
       "    </tr>\n",
       "    <tr>\n",
       "      <td>2</td>\n",
       "      <td>0.042211</td>\n",
       "      <td>0.206074</td>\n",
       "      <td>0.953632</td>\n",
       "      <td>0.352113</td>\n",
       "      <td>0.405405</td>\n",
       "      <td>0.376884</td>\n",
       "      <td>0.802502</td>\n",
       "      <td>02:24</td>\n",
       "    </tr>\n",
       "    <tr>\n",
       "      <td>3</td>\n",
       "      <td>0.014761</td>\n",
       "      <td>0.245901</td>\n",
       "      <td>0.962419</td>\n",
       "      <td>0.451515</td>\n",
       "      <td>0.402703</td>\n",
       "      <td>0.425714</td>\n",
       "      <td>0.825729</td>\n",
       "      <td>02:22</td>\n",
       "    </tr>\n",
       "  </tbody>\n",
       "</table>"
      ],
      "text/plain": [
       "<IPython.core.display.HTML object>"
      ]
     },
     "metadata": {},
     "output_type": "display_data"
    }
   ],
   "source": [
    "learn.fit_one_cycle(4, lr_steep, wd=0.01)"
   ]
  },
  {
   "cell_type": "markdown",
   "metadata": {
    "heading_collapsed": true
   },
   "source": [
    "## Class weighting NN without V*** features"
   ]
  },
  {
   "cell_type": "code",
   "execution_count": 407,
   "metadata": {
    "hidden": true
   },
   "outputs": [],
   "source": [
    "df = pd.read_csv(path/'train_s.csv', index_col=[0])"
   ]
  },
  {
   "cell_type": "code",
   "execution_count": 408,
   "metadata": {
    "hidden": true
   },
   "outputs": [],
   "source": [
    "class_count_df = df.groupby('isFraud').count()['TransactionID']\n",
    "\n",
    "n_0, n_1 = class_count_df[0], class_count_df[1]\n",
    "\n",
    "w_0 = (n_0 + n_1) / (2.0 * n_0)\n",
    "w_1 = (n_0 + n_1) / (2.0 * n_1)"
   ]
  },
  {
   "cell_type": "code",
   "execution_count": 409,
   "metadata": {
    "hidden": true
   },
   "outputs": [],
   "source": [
    "to_nn = (path/'to_nn.pkl').load()"
   ]
  },
  {
   "cell_type": "code",
   "execution_count": 412,
   "metadata": {
    "hidden": true
   },
   "outputs": [
    {
     "data": {
      "text/plain": [
       "FlattenedLoss of CrossEntropyLoss()"
      ]
     },
     "execution_count": 412,
     "metadata": {},
     "output_type": "execute_result"
    }
   ],
   "source": [
    "dls = to_nn.dataloaders(1024)\n",
    "\n",
    "weights = [w_0, w_1]\n",
    "class_weights=torch.FloatTensor(weights).cuda()\n",
    "loss_func = CrossEntropyLossFlat(weight=class_weights)\n",
    "\n",
    "learn = tabular_learner(dls, layers=[500, 250], loss_func=loss_func, metrics=metrics)\n",
    "learn.loss_func"
   ]
  },
  {
   "cell_type": "code",
   "execution_count": 413,
   "metadata": {
    "hidden": true
   },
   "outputs": [
    {
     "data": {
      "text/html": [],
      "text/plain": [
       "<IPython.core.display.HTML object>"
      ]
     },
     "metadata": {},
     "output_type": "display_data"
    },
    {
     "data": {
      "text/plain": [
       "(0.0033113110810518267, 0.0006918309954926372)"
      ]
     },
     "execution_count": 413,
     "metadata": {},
     "output_type": "execute_result"
    },
    {
     "data": {
      "image/png": "[encoded data removed]",
      "text/plain": [
       "<Figure size 432x288 with 1 Axes>"
      ]
     },
     "metadata": {
      "needs_background": "light"
     },
     "output_type": "display_data"
    }
   ],
   "source": [
    "lr_min, lr_steep = learn.lr_find()\n",
    "lr_min, lr_steep"
   ]
  },
  {
   "cell_type": "code",
   "execution_count": 414,
   "metadata": {
    "hidden": true
   },
   "outputs": [
    {
     "data": {
      "text/html": [
       "<table border=\"1\" class=\"dataframe\">\n",
       "  <thead>\n",
       "    <tr style=\"text-align: left;\">\n",
       "      <th>epoch</th>\n",
       "      <th>train_loss</th>\n",
       "      <th>valid_loss</th>\n",
       "      <th>accuracy</th>\n",
       "      <th>precision_score</th>\n",
       "      <th>recall_score</th>\n",
       "      <th>f1_score</th>\n",
       "      <th>roc_auc_score</th>\n",
       "      <th>time</th>\n",
       "    </tr>\n",
       "  </thead>\n",
       "  <tbody>\n",
       "    <tr>\n",
       "      <td>0</td>\n",
       "      <td>0.551992</td>\n",
       "      <td>0.610342</td>\n",
       "      <td>0.732074</td>\n",
       "      <td>0.084277</td>\n",
       "      <td>0.683784</td>\n",
       "      <td>0.150059</td>\n",
       "      <td>0.770860</td>\n",
       "      <td>00:13</td>\n",
       "    </tr>\n",
       "    <tr>\n",
       "      <td>1</td>\n",
       "      <td>0.438037</td>\n",
       "      <td>0.562923</td>\n",
       "      <td>0.733009</td>\n",
       "      <td>0.087865</td>\n",
       "      <td>0.716216</td>\n",
       "      <td>0.156527</td>\n",
       "      <td>0.791054</td>\n",
       "      <td>00:15</td>\n",
       "    </tr>\n",
       "    <tr>\n",
       "      <td>2</td>\n",
       "      <td>0.325018</td>\n",
       "      <td>0.632818</td>\n",
       "      <td>0.820043</td>\n",
       "      <td>0.119804</td>\n",
       "      <td>0.662162</td>\n",
       "      <td>0.202899</td>\n",
       "      <td>0.818343</td>\n",
       "      <td>00:16</td>\n",
       "    </tr>\n",
       "    <tr>\n",
       "      <td>3</td>\n",
       "      <td>0.238657</td>\n",
       "      <td>0.677338</td>\n",
       "      <td>0.855847</td>\n",
       "      <td>0.141809</td>\n",
       "      <td>0.627027</td>\n",
       "      <td>0.231306</td>\n",
       "      <td>0.812684</td>\n",
       "      <td>00:16</td>\n",
       "    </tr>\n",
       "  </tbody>\n",
       "</table>"
      ],
      "text/plain": [
       "<IPython.core.display.HTML object>"
      ]
     },
     "metadata": {},
     "output_type": "display_data"
    }
   ],
   "source": [
    "learn.fit_one_cycle(4, 1e-3 , wd=0.01)"
   ]
  },
  {
   "cell_type": "markdown",
   "metadata": {
    "heading_collapsed": true
   },
   "source": [
    "## Class weighting NN with V*** features "
   ]
  },
  {
   "cell_type": "code",
   "execution_count": 326,
   "metadata": {
    "hidden": true
   },
   "outputs": [],
   "source": [
    "df = pd.read_csv(path/'train_s.csv', index_col=[0])"
   ]
  },
  {
   "cell_type": "code",
   "execution_count": 327,
   "metadata": {
    "hidden": true
   },
   "outputs": [],
   "source": [
    "class_count_df = df.groupby('isFraud').count()['TransactionID']\n",
    "\n",
    "n_0, n_1 = class_count_df[0], class_count_df[1]\n",
    "\n",
    "w_0 = (n_0 + n_1) / (2.0 * n_0)\n",
    "w_1 = (n_0 + n_1) / (2.0 * n_1)"
   ]
  },
  {
   "cell_type": "code",
   "execution_count": 328,
   "metadata": {
    "collapsed": true,
    "hidden": true
   },
   "outputs": [
    {
     "ename": "FileNotFoundError",
     "evalue": "[Errno 2] No such file or directory: '/Users/baranserajelahi/Codes/fraud-detection-pytorch-scikit-fastai/data/to_nn_full.pkl'",
     "output_type": "error",
     "traceback": [
      "\u001b[0;31m---------------------------------------------------------------------------\u001b[0m",
      "\u001b[0;31mFileNotFoundError\u001b[0m                         Traceback (most recent call last)",
      "\u001b[0;32m<ipython-input-328-c45cad871bc4>\u001b[0m in \u001b[0;36m<module>\u001b[0;34m\u001b[0m\n\u001b[0;32m----> 1\u001b[0;31m \u001b[0mto_nn\u001b[0m \u001b[0;34m=\u001b[0m \u001b[0;34m(\u001b[0m\u001b[0mpath\u001b[0m\u001b[0;34m/\u001b[0m\u001b[0;34m'to_nn_full.pkl'\u001b[0m\u001b[0;34m)\u001b[0m\u001b[0;34m.\u001b[0m\u001b[0mload\u001b[0m\u001b[0;34m(\u001b[0m\u001b[0;34m)\u001b[0m\u001b[0;34m\u001b[0m\u001b[0;34m\u001b[0m\u001b[0m\n\u001b[0m",
      "\u001b[0;32m/opt/anaconda3/envs/fastaiV2/lib/python3.8/site-packages/fastcore/utils.py\u001b[0m in \u001b[0;36mload\u001b[0;34m(fn)\u001b[0m\n\u001b[1;32m    542\u001b[0m \u001b[0;32mdef\u001b[0m \u001b[0mload\u001b[0m\u001b[0;34m(\u001b[0m\u001b[0mfn\u001b[0m\u001b[0;34m:\u001b[0m\u001b[0mPath\u001b[0m\u001b[0;34m)\u001b[0m\u001b[0;34m:\u001b[0m\u001b[0;34m\u001b[0m\u001b[0;34m\u001b[0m\u001b[0m\n\u001b[1;32m    543\u001b[0m     \u001b[0;34m\"Load a pickle file from a file name or opened file\"\u001b[0m\u001b[0;34m\u001b[0m\u001b[0;34m\u001b[0m\u001b[0m\n\u001b[0;32m--> 544\u001b[0;31m     \u001b[0;32mif\u001b[0m \u001b[0;32mnot\u001b[0m \u001b[0misinstance\u001b[0m\u001b[0;34m(\u001b[0m\u001b[0mfn\u001b[0m\u001b[0;34m,\u001b[0m \u001b[0mio\u001b[0m\u001b[0;34m.\u001b[0m\u001b[0mIOBase\u001b[0m\u001b[0;34m)\u001b[0m\u001b[0;34m:\u001b[0m \u001b[0mfn\u001b[0m \u001b[0;34m=\u001b[0m \u001b[0mopen\u001b[0m\u001b[0;34m(\u001b[0m\u001b[0mfn\u001b[0m\u001b[0;34m,\u001b[0m\u001b[0;34m'rb'\u001b[0m\u001b[0;34m)\u001b[0m\u001b[0;34m\u001b[0m\u001b[0;34m\u001b[0m\u001b[0m\n\u001b[0m\u001b[1;32m    545\u001b[0m     \u001b[0;32mtry\u001b[0m\u001b[0;34m:\u001b[0m \u001b[0;32mreturn\u001b[0m \u001b[0mpickle\u001b[0m\u001b[0;34m.\u001b[0m\u001b[0mload\u001b[0m\u001b[0;34m(\u001b[0m\u001b[0mfn\u001b[0m\u001b[0;34m)\u001b[0m\u001b[0;34m\u001b[0m\u001b[0;34m\u001b[0m\u001b[0m\n\u001b[1;32m    546\u001b[0m     \u001b[0;32mfinally\u001b[0m\u001b[0;34m:\u001b[0m \u001b[0mfn\u001b[0m\u001b[0;34m.\u001b[0m\u001b[0mclose\u001b[0m\u001b[0;34m(\u001b[0m\u001b[0;34m)\u001b[0m\u001b[0;34m\u001b[0m\u001b[0;34m\u001b[0m\u001b[0m\n",
      "\u001b[0;31mFileNotFoundError\u001b[0m: [Errno 2] No such file or directory: '/Users/baranserajelahi/Codes/fraud-detection-pytorch-scikit-fastai/data/to_nn_full.pkl'"
     ]
    }
   ],
   "source": [
    "to_nn = (path/'to_nn_full.pkl').load()"
   ]
  },
  {
   "cell_type": "code",
   "execution_count": 85,
   "metadata": {
    "hidden": true
   },
   "outputs": [
    {
     "data": {
      "text/plain": [
       "FlattenedLoss of CrossEntropyLoss()"
      ]
     },
     "execution_count": 85,
     "metadata": {},
     "output_type": "execute_result"
    }
   ],
   "source": [
    "dls = to_nn.dataloaders(1024)\n",
    "\n",
    "weights = [w_0, w_1]\n",
    "class_weights=torch.FloatTensor(weights).cuda()\n",
    "loss_func = CrossEntropyLossFlat(weight=class_weights)\n",
    "\n",
    "learn = tabular_learner(dls, layers=[500, 250], loss_func=loss_func, metrics=metrics)\n",
    "learn.loss_func"
   ]
  },
  {
   "cell_type": "code",
   "execution_count": 86,
   "metadata": {
    "hidden": true
   },
   "outputs": [
    {
     "data": {
      "text/html": [],
      "text/plain": [
       "<IPython.core.display.HTML object>"
      ]
     },
     "metadata": {},
     "output_type": "display_data"
    },
    {
     "data": {
      "text/plain": [
       "(0.002290867641568184, 0.17378008365631104)"
      ]
     },
     "execution_count": 86,
     "metadata": {},
     "output_type": "execute_result"
    },
    {
     "data": {
      "image/png": "[encoded data removed]",
      "text/plain": [
       "<Figure size 432x288 with 1 Axes>"
      ]
     },
     "metadata": {
      "needs_background": "light"
     },
     "output_type": "display_data"
    }
   ],
   "source": [
    "lr_min, lr_steep = learn.lr_find()\n",
    "lr_min, lr_steep"
   ]
  },
  {
   "cell_type": "code",
   "execution_count": 87,
   "metadata": {
    "hidden": true
   },
   "outputs": [
    {
     "data": {
      "text/html": [
       "<table border=\"1\" class=\"dataframe\">\n",
       "  <thead>\n",
       "    <tr style=\"text-align: left;\">\n",
       "      <th>epoch</th>\n",
       "      <th>train_loss</th>\n",
       "      <th>valid_loss</th>\n",
       "      <th>accuracy</th>\n",
       "      <th>precision_score</th>\n",
       "      <th>recall_score</th>\n",
       "      <th>f1_score</th>\n",
       "      <th>roc_auc_score</th>\n",
       "      <th>time</th>\n",
       "    </tr>\n",
       "  </thead>\n",
       "  <tbody>\n",
       "    <tr>\n",
       "      <td>0</td>\n",
       "      <td>0.503012</td>\n",
       "      <td>0.654526</td>\n",
       "      <td>0.856403</td>\n",
       "      <td>0.150212</td>\n",
       "      <td>0.624685</td>\n",
       "      <td>0.242188</td>\n",
       "      <td>0.828217</td>\n",
       "      <td>00:08</td>\n",
       "    </tr>\n",
       "    <tr>\n",
       "      <td>1</td>\n",
       "      <td>0.410471</td>\n",
       "      <td>0.549829</td>\n",
       "      <td>0.903127</td>\n",
       "      <td>0.210854</td>\n",
       "      <td>0.596977</td>\n",
       "      <td>0.311637</td>\n",
       "      <td>0.845451</td>\n",
       "      <td>00:08</td>\n",
       "    </tr>\n",
       "    <tr>\n",
       "      <td>2</td>\n",
       "      <td>0.317116</td>\n",
       "      <td>0.646505</td>\n",
       "      <td>0.844097</td>\n",
       "      <td>0.142619</td>\n",
       "      <td>0.647355</td>\n",
       "      <td>0.233743</td>\n",
       "      <td>0.830388</td>\n",
       "      <td>00:08</td>\n",
       "    </tr>\n",
       "    <tr>\n",
       "      <td>3</td>\n",
       "      <td>0.246206</td>\n",
       "      <td>0.723487</td>\n",
       "      <td>0.863249</td>\n",
       "      <td>0.156825</td>\n",
       "      <td>0.622166</td>\n",
       "      <td>0.250507</td>\n",
       "      <td>0.829358</td>\n",
       "      <td>00:08</td>\n",
       "    </tr>\n",
       "  </tbody>\n",
       "</table>"
      ],
      "text/plain": [
       "<IPython.core.display.HTML object>"
      ]
     },
     "metadata": {},
     "output_type": "display_data"
    }
   ],
   "source": [
    "learn.fit_one_cycle(4, 1e-3 , wd=0.01)"
   ]
  }
 ],
 "metadata": {
  "environment": {
   "name": "pytorch-gpu.1-4.m50",
   "type": "gcloud",
   "uri": "gcr.io/deeplearning-platform-release/pytorch-gpu.1-4:m50"
  },
  "kernelspec": {
   "display_name": "Python 3",
   "language": "python",
   "name": "python3"
  },
  "language_info": {
   "codemirror_mode": {
    "name": "ipython",
    "version": 3
   },
   "file_extension": ".py",
   "mimetype": "text/x-python",
   "name": "python",
   "nbconvert_exporter": "python",
   "pygments_lexer": "ipython3",
   "version": "3.8.5"
  },
  "toc": {
   "base_numbering": 1,
   "nav_menu": {},
   "number_sections": false,
   "sideBar": true,
   "skip_h1_title": false,
   "title_cell": "Table of Contents",
   "title_sidebar": "Contents",
   "toc_cell": false,
   "toc_position": {},
   "toc_section_display": true,
   "toc_window_display": false
  }
 },
 "nbformat": 4,
 "nbformat_minor": 4
}
