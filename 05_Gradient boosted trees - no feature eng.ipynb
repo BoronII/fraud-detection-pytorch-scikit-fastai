{
 "cells": [
  {
   "cell_type": "markdown",
   "metadata": {},
   "source": [
    "# Gradient Boosted Trees"
   ]
  },
  {
   "cell_type": "code",
   "execution_count": 2,
   "metadata": {},
   "outputs": [],
   "source": [
    "from fastai.tabular.all import *\n",
    "from sklearn.metrics import roc_auc_score\n",
    "from sklearn.model_selection import GridSearchCV\n",
    "from sklearn.model_selection import RandomizedSearchCV\n",
    "from sklearn.metrics import make_scorer\n",
    "\n",
    "from sklearn.experimental import enable_hist_gradient_boosting \n",
    "from sklearn.ensemble import HistGradientBoostingClassifier\n",
    "\n",
    "path = Path('/Users/baranserajelahi/Codes/fraud-detection-pytorch-scikit-fastai/data')\n",
    "Path.BASE_PATH = path\n",
    "pd.options.display.max_rows = 200\n",
    "pd.options.display.max_columns = 120"
   ]
  },
  {
   "cell_type": "code",
   "execution_count": 3,
   "metadata": {},
   "outputs": [],
   "source": [
    "# Tabular object created and saved on the 02_ notebook\n",
    "to = (path/'to.pkl').load()"
   ]
  },
  {
   "cell_type": "code",
   "execution_count": 32,
   "metadata": {},
   "outputs": [],
   "source": [
    "cats = ['ProductCD', 'card1', 'card2', 'card3', 'card4', 'card5', 'card6', \n",
    "       'addr1', 'addr2', 'P_emaildomain', 'R_emaildomain', 'M1', 'M2', 'M3', \n",
    "       'M4', 'M5', 'M6', 'M7', 'M8', 'M9', 'DeviceType', 'DeviceInfo', 'id_12', \n",
    "       'id_13', 'id_14', 'id_15', 'id_16', 'id_17', 'id_18', 'id_19', 'id_20', \n",
    "       'id_21', 'id_22', 'id_23', 'id_24', 'id_25', 'id_26', 'id_27', 'id_28', \n",
    "       'id_29', 'id_30', 'id_31', 'id_32', 'id_33', 'id_34', 'id_35', 'id_36',\n",
    "       'id_37', 'id_38']\n",
    "\n",
    "for cat in cats:\n",
    "    to[cat] = to[cat].astype('category')"
   ]
  },
  {
   "cell_type": "code",
   "execution_count": 33,
   "metadata": {},
   "outputs": [],
   "source": [
    "xs, y = to.train.xs, to.train.y\n",
    "valid_xs, valid_y = to.valid.xs, to.valid.y"
   ]
  },
  {
   "cell_type": "markdown",
   "metadata": {},
   "source": [
    "## HistGradientBoostingClassifier"
   ]
  },
  {
   "cell_type": "code",
   "execution_count": 112,
   "metadata": {},
   "outputs": [
    {
     "data": {
      "text/plain": [
       "'Previously, leaf-wise growth was an exclusive feature of lightGBM, but xgboost has since implemented this growth strategy (this change has not been reflected in the lightGBM docs, but has been acknowledged in a blog post). This strategy is only available for the histogram-based method (which I will explain below), so in order to use it, users will have to set the tree_method parameter to hist and the grow_policy parameter to lossguide.'"
      ]
     },
     "execution_count": 112,
     "metadata": {},
     "output_type": "execute_result"
    }
   ],
   "source": [
    "'Previously, leaf-wise growth was an exclusive feature of lightGBM, but xgboost has since implemented this growth strategy (this change has not been reflected in the lightGBM docs, but has been acknowledged in a blog post). This strategy is only available for the histogram-based method (which I will explain below), so in order to use it, users will have to set the tree_method parameter to hist and the grow_policy parameter to lossguide.'"
   ]
  },
  {
   "cell_type": "code",
   "execution_count": 113,
   "metadata": {
    "scrolled": true
   },
   "outputs": [
    {
     "data": {
      "text/plain": [
       "'Xgboost offers the option tree_method=approx, which computes a new set of bins at each split using the gradient statistics. LightGBM and xgboost with the tree_method set to hist will both compute the bins at the beginning of training and reuse the same bins throughout the entire training process.'"
      ]
     },
     "execution_count": 113,
     "metadata": {},
     "output_type": "execute_result"
    }
   ],
   "source": [
    "'Xgboost offers the option tree_method=approx, which computes a new set of bins at each split using the gradient statistics. LightGBM and xgboost with the tree_method set to hist will both compute the bins at the beginning of training and reuse the same bins throughout the entire training process.'"
   ]
  },
  {
   "cell_type": "code",
   "execution_count": 114,
   "metadata": {},
   "outputs": [
    {
     "data": {
      "text/plain": [
       "'Though lightGBM does not enable ignoring zero values by default, it has an option called zero_as_missing which, if set to True, will regard all zero values as missing. According to this thread on GitHub, lightGBM will treat missing values in the same way as xgboost as long as the parameter use_missing is set to True (which is the default behavior).'"
      ]
     },
     "execution_count": 114,
     "metadata": {},
     "output_type": "execute_result"
    }
   ],
   "source": [
    "'BOTH: Though lightGBM does not enable ignoring zero values by default, it has an option called zero_as_missing which, if set to True, will regard all zero values as missing. According to this thread on GitHub, lightGBM will treat missing values in the same way as xgboost as long as the parameter use_missing is set to True (which is the default behavior).'"
   ]
  },
  {
   "cell_type": "code",
   "execution_count": 115,
   "metadata": {},
   "outputs": [
    {
     "data": {
      "text/plain": [
       "'This is a method introduced in lightGBM that also takes advantage of the sparsity of large datasets. The essential observation behind this method is that the sparsity of features means that some features are never non-zero together. For instance, the words \"Python\" and \"protein\" might never appear in the same document in the data. This means that these features can be \"bundled\" into a single feature without losing any information. Suppose the tf-idf score for \"Python\" ranges from 0 to 10 and the tf-idf score for  \"protein\" ranges from 0 to 20. In this case, the feature'"
      ]
     },
     "execution_count": 115,
     "metadata": {},
     "output_type": "execute_result"
    }
   ],
   "source": [
    "'LGBM: This is a method introduced in lightGBM that also takes advantage of the sparsity of large datasets. The essential observation behind this method is that the sparsity of features means that some features are never non-zero together. For instance, the words \"Python\" and \"protein\" might never appear in the same document in the data. This means that these features can be \"bundled\" into a single feature without losing any information. Suppose the tf-idf score for \"Python\" ranges from 0 to 10 and the tf-idf score for  \"protein\" ranges from 0 to 20. In this case, the feature'"
   ]
  },
  {
   "cell_type": "code",
   "execution_count": 116,
   "metadata": {},
   "outputs": [
    {
     "data": {
      "text/plain": [
       "'Unfortunately, the problem of finding the most efficient bundle is NP-hard. Therefore, the authors of the paper opted for an approximate algorithm that tolerated a certain degree of overlap \\\\gamma  between the non-zero elements within a feature bundle. The details of this algorithm are beyond the scope of this post, so please refer to the original paper for details.'"
      ]
     },
     "execution_count": 116,
     "metadata": {},
     "output_type": "execute_result"
    }
   ],
   "source": [
    "'LGBM: Unfortunately, the problem of finding the most efficient bundle is NP-hard. Therefore, the authors of the paper opted for an approximate algorithm that tolerated a certain degree of overlap \\gamma  between the non-zero elements within a feature bundle. The details of this algorithm are beyond the scope of this post, so please refer to the original paper for details.'"
   ]
  },
  {
   "cell_type": "markdown",
   "metadata": {},
   "source": [
    "HistGradientBoostingClassifier is based on Microsofts LightGBM."
   ]
  },
  {
   "cell_type": "markdown",
   "metadata": {
    "heading_collapsed": true
   },
   "source": [
    "### Default parameters "
   ]
  },
  {
   "cell_type": "code",
   "execution_count": 8,
   "metadata": {
    "hidden": true
   },
   "outputs": [],
   "source": [
    "def m_roc(y, xs):\n",
    "    preds = clf.predict_proba(xs)\n",
    "    preds_isFraud = preds[:,1]\n",
    "    return roc_auc_score(y, preds_isFraud)"
   ]
  },
  {
   "cell_type": "markdown",
   "metadata": {
    "hidden": true
   },
   "source": [
    "The max_iter parameter was increased to 1000 from its default value of 100."
   ]
  },
  {
   "cell_type": "code",
   "execution_count": 35,
   "metadata": {
    "hidden": true
   },
   "outputs": [
    {
     "name": "stdout",
     "output_type": "stream",
     "text": [
      "Binning 0.042 GB of training data: 0.272 s\n",
      "Binning 0.005 GB of validation data: 0.018 s\n",
      "Fitting gradient boosted rounds:\n",
      "[1/1000] 1 tree, 31 leaves, max depth = 8, train score: 0.81704, val score: 0.80557, in 0.046s\n",
      "[2/1000] 1 tree, 31 leaves, max depth = 9, train score: 0.83950, val score: 0.81193, in 0.049s\n",
      "[3/1000] 1 tree, 31 leaves, max depth = 11, train score: 0.85244, val score: 0.81582, in 0.045s\n",
      "[4/1000] 1 tree, 31 leaves, max depth = 9, train score: 0.85856, val score: 0.81738, in 0.049s\n",
      "[5/1000] 1 tree, 31 leaves, max depth = 9, train score: 0.86801, val score: 0.83294, in 0.050s\n",
      "[6/1000] 1 tree, 31 leaves, max depth = 9, train score: 0.87325, val score: 0.83324, in 0.053s\n",
      "[7/1000] 1 tree, 31 leaves, max depth = 8, train score: 0.87697, val score: 0.83377, in 0.066s\n",
      "[8/1000] 1 tree, 31 leaves, max depth = 12, train score: 0.88005, val score: 0.83974, in 0.049s\n",
      "[9/1000] 1 tree, 31 leaves, max depth = 8, train score: 0.88087, val score: 0.84503, in 0.054s\n",
      "[10/1000] 1 tree, 31 leaves, max depth = 11, train score: 0.88683, val score: 0.84608, in 0.051s\n",
      "[11/1000] 1 tree, 31 leaves, max depth = 9, train score: 0.89044, val score: 0.84655, in 0.050s\n",
      "[12/1000] 1 tree, 31 leaves, max depth = 13, train score: 0.89221, val score: 0.84764, in 0.051s\n",
      "[13/1000] 1 tree, 31 leaves, max depth = 9, train score: 0.89362, val score: 0.84737, in 0.050s\n",
      "[14/1000] 1 tree, 31 leaves, max depth = 11, train score: 0.89406, val score: 0.84716, in 0.059s\n",
      "[15/1000] 1 tree, 31 leaves, max depth = 11, train score: 0.90076, val score: 0.85085, in 0.063s\n",
      "[16/1000] 1 tree, 31 leaves, max depth = 11, train score: 0.90301, val score: 0.85263, in 0.058s\n",
      "[17/1000] 1 tree, 31 leaves, max depth = 13, train score: 0.90638, val score: 0.85703, in 0.054s\n",
      "[18/1000] 1 tree, 31 leaves, max depth = 9, train score: 0.90860, val score: 0.85506, in 0.052s\n",
      "[19/1000] 1 tree, 31 leaves, max depth = 9, train score: 0.90966, val score: 0.85497, in 0.058s\n",
      "[20/1000] 1 tree, 31 leaves, max depth = 11, train score: 0.91038, val score: 0.85689, in 0.069s\n",
      "[21/1000] 1 tree, 31 leaves, max depth = 11, train score: 0.91275, val score: 0.85680, in 0.061s\n",
      "[22/1000] 1 tree, 31 leaves, max depth = 10, train score: 0.91735, val score: 0.85523, in 0.064s\n",
      "[23/1000] 1 tree, 31 leaves, max depth = 12, train score: 0.91950, val score: 0.85631, in 0.076s\n",
      "[24/1000] 1 tree, 31 leaves, max depth = 12, train score: 0.92151, val score: 0.85729, in 0.079s\n",
      "[25/1000] 1 tree, 31 leaves, max depth = 9, train score: 0.92405, val score: 0.85745, in 0.088s\n",
      "[26/1000] 1 tree, 31 leaves, max depth = 11, train score: 0.92478, val score: 0.85756, in 0.074s\n",
      "[27/1000] 1 tree, 31 leaves, max depth = 16, train score: 0.92764, val score: 0.85718, in 0.076s\n",
      "[28/1000] 1 tree, 31 leaves, max depth = 9, train score: 0.92774, val score: 0.85713, in 0.112s\n",
      "[29/1000] 1 tree, 31 leaves, max depth = 12, train score: 0.93057, val score: 0.85862, in 0.054s\n",
      "[30/1000] 1 tree, 31 leaves, max depth = 18, train score: 0.93252, val score: 0.86701, in 0.075s\n",
      "[31/1000] 1 tree, 31 leaves, max depth = 13, train score: 0.93424, val score: 0.86654, in 0.064s\n",
      "[32/1000] 1 tree, 31 leaves, max depth = 12, train score: 0.93672, val score: 0.86647, in 0.067s\n",
      "[33/1000] 1 tree, 31 leaves, max depth = 14, train score: 0.93916, val score: 0.86552, in 0.068s\n",
      "[34/1000] 1 tree, 31 leaves, max depth = 13, train score: 0.93947, val score: 0.86661, in 0.067s\n",
      "[35/1000] 1 tree, 31 leaves, max depth = 10, train score: 0.94138, val score: 0.86691, in 0.060s\n",
      "[36/1000] 1 tree, 31 leaves, max depth = 15, train score: 0.94211, val score: 0.86686, in 0.061s\n",
      "[37/1000] 1 tree, 31 leaves, max depth = 9, train score: 0.94357, val score: 0.86650, in 0.058s\n",
      "[38/1000] 1 tree, 31 leaves, max depth = 12, train score: 0.94387, val score: 0.86729, in 0.057s\n",
      "[39/1000] 1 tree, 31 leaves, max depth = 16, train score: 0.94455, val score: 0.86737, in 0.059s\n",
      "[40/1000] 1 tree, 31 leaves, max depth = 13, train score: 0.95277, val score: 0.86740, in 0.056s\n",
      "[41/1000] 1 tree, 31 leaves, max depth = 12, train score: 0.95426, val score: 0.86747, in 0.060s\n",
      "[42/1000] 1 tree, 31 leaves, max depth = 11, train score: 0.95501, val score: 0.86780, in 0.059s\n",
      "[43/1000] 1 tree, 31 leaves, max depth = 10, train score: 0.95576, val score: 0.86921, in 0.064s\n",
      "[44/1000] 1 tree, 31 leaves, max depth = 8, train score: 0.95938, val score: 0.86875, in 0.061s\n",
      "[45/1000] 1 tree, 31 leaves, max depth = 10, train score: 0.96025, val score: 0.86883, in 0.063s\n",
      "[46/1000] 1 tree, 31 leaves, max depth = 16, train score: 0.96166, val score: 0.86914, in 0.066s\n",
      "[47/1000] 1 tree, 31 leaves, max depth = 12, train score: 0.96320, val score: 0.86963, in 0.060s\n",
      "[48/1000] 1 tree, 31 leaves, max depth = 15, train score: 0.96365, val score: 0.86938, in 0.074s\n",
      "[49/1000] 1 tree, 31 leaves, max depth = 15, train score: 0.96378, val score: 0.87186, in 0.132s\n",
      "[50/1000] 1 tree, 31 leaves, max depth = 14, train score: 0.96384, val score: 0.87401, in 0.072s\n",
      "[51/1000] 1 tree, 31 leaves, max depth = 9, train score: 0.96409, val score: 0.87455, in 0.066s\n",
      "[52/1000] 1 tree, 31 leaves, max depth = 10, train score: 0.96613, val score: 0.87488, in 0.065s\n",
      "[53/1000] 1 tree, 31 leaves, max depth = 10, train score: 0.96790, val score: 0.87442, in 0.064s\n",
      "[54/1000] 1 tree, 31 leaves, max depth = 15, train score: 0.96801, val score: 0.87417, in 0.066s\n",
      "[55/1000] 1 tree, 31 leaves, max depth = 15, train score: 0.96810, val score: 0.87437, in 0.064s\n",
      "[56/1000] 1 tree, 31 leaves, max depth = 12, train score: 0.96855, val score: 0.87571, in 0.070s\n",
      "[57/1000] 1 tree, 31 leaves, max depth = 14, train score: 0.96957, val score: 0.87565, in 0.092s\n",
      "[58/1000] 1 tree, 31 leaves, max depth = 11, train score: 0.96997, val score: 0.87635, in 0.071s\n",
      "[59/1000] 1 tree, 31 leaves, max depth = 15, train score: 0.97060, val score: 0.87652, in 0.070s\n",
      "[60/1000] 1 tree, 31 leaves, max depth = 15, train score: 0.97195, val score: 0.87654, in 0.073s\n",
      "[61/1000] 1 tree, 31 leaves, max depth = 9, train score: 0.97234, val score: 0.87570, in 0.079s\n",
      "[62/1000] 1 tree, 31 leaves, max depth = 11, train score: 0.97259, val score: 0.87696, in 0.078s\n",
      "[63/1000] 1 tree, 31 leaves, max depth = 13, train score: 0.97391, val score: 0.87752, in 0.070s\n",
      "[64/1000] 1 tree, 31 leaves, max depth = 12, train score: 0.97434, val score: 0.87739, in 0.067s\n",
      "[65/1000] 1 tree, 31 leaves, max depth = 13, train score: 0.97441, val score: 0.87821, in 0.071s\n",
      "[66/1000] 1 tree, 31 leaves, max depth = 14, train score: 0.97453, val score: 0.87880, in 0.067s\n",
      "[67/1000] 1 tree, 31 leaves, max depth = 12, train score: 0.97477, val score: 0.87839, in 0.067s\n",
      "[68/1000] 1 tree, 31 leaves, max depth = 10, train score: 0.97505, val score: 0.87820, in 0.079s\n",
      "[69/1000] 1 tree, 31 leaves, max depth = 9, train score: 0.97522, val score: 0.87824, in 0.075s\n",
      "[70/1000] 1 tree, 31 leaves, max depth = 10, train score: 0.97590, val score: 0.87786, in 0.112s\n",
      "[71/1000] 1 tree, 31 leaves, max depth = 13, train score: 0.97623, val score: 0.87793, in 0.077s\n",
      "[72/1000] 1 tree, 31 leaves, max depth = 14, train score: 0.97663, val score: 0.87770, in 0.070s\n",
      "[73/1000] 1 tree, 31 leaves, max depth = 11, train score: 0.97765, val score: 0.87767, in 0.070s\n",
      "[74/1000] 1 tree, 31 leaves, max depth = 10, train score: 0.97784, val score: 0.87721, in 0.071s\n",
      "[75/1000] 1 tree, 31 leaves, max depth = 13, train score: 0.97792, val score: 0.87738, in 0.069s\n",
      "[76/1000] 1 tree, 31 leaves, max depth = 7, train score: 0.97915, val score: 0.88050, in 0.074s\n",
      "[77/1000] 1 tree, 31 leaves, max depth = 10, train score: 0.97955, val score: 0.88021, in 0.077s\n",
      "[78/1000] 1 tree, 31 leaves, max depth = 11, train score: 0.97991, val score: 0.88029, in 0.072s\n",
      "[79/1000] 1 tree, 31 leaves, max depth = 9, train score: 0.98005, val score: 0.88061, in 0.222s\n",
      "[80/1000] 1 tree, 31 leaves, max depth = 10, train score: 0.98021, val score: 0.88096, in 0.092s\n",
      "[81/1000] 1 tree, 31 leaves, max depth = 14, train score: 0.98082, val score: 0.88100, in 0.070s\n",
      "[82/1000] 1 tree, 31 leaves, max depth = 10, train score: 0.98114, val score: 0.88068, in 0.071s\n",
      "[83/1000] 1 tree, 31 leaves, max depth = 14, train score: 0.98144, val score: 0.88121, in 0.078s\n",
      "[84/1000] 1 tree, 31 leaves, max depth = 10, train score: 0.98175, val score: 0.88049, in 0.073s\n"
     ]
    },
    {
     "name": "stdout",
     "output_type": "stream",
     "text": [
      "[85/1000] 1 tree, 31 leaves, max depth = 11, train score: 0.98212, val score: 0.88056, in 0.079s\n",
      "[86/1000] 1 tree, 31 leaves, max depth = 11, train score: 0.98236, val score: 0.88083, in 0.094s\n",
      "[87/1000] 1 tree, 31 leaves, max depth = 12, train score: 0.98245, val score: 0.88074, in 0.083s\n",
      "[88/1000] 1 tree, 31 leaves, max depth = 10, train score: 0.98260, val score: 0.88102, in 0.073s\n",
      "[89/1000] 1 tree, 31 leaves, max depth = 10, train score: 0.98272, val score: 0.88450, in 0.068s\n",
      "[90/1000] 1 tree, 31 leaves, max depth = 11, train score: 0.98285, val score: 0.88506, in 0.093s\n",
      "[91/1000] 1 tree, 31 leaves, max depth = 12, train score: 0.98320, val score: 0.88526, in 0.126s\n",
      "[92/1000] 1 tree, 31 leaves, max depth = 12, train score: 0.98328, val score: 0.88487, in 0.069s\n",
      "[93/1000] 1 tree, 31 leaves, max depth = 12, train score: 0.98338, val score: 0.88525, in 0.090s\n",
      "[94/1000] 1 tree, 31 leaves, max depth = 12, train score: 0.98419, val score: 0.88511, in 0.086s\n",
      "[95/1000] 1 tree, 31 leaves, max depth = 12, train score: 0.98432, val score: 0.88500, in 0.073s\n",
      "[96/1000] 1 tree, 31 leaves, max depth = 8, train score: 0.98447, val score: 0.88521, in 0.071s\n",
      "[97/1000] 1 tree, 31 leaves, max depth = 9, train score: 0.98468, val score: 0.88533, in 0.076s\n",
      "[98/1000] 1 tree, 31 leaves, max depth = 11, train score: 0.98559, val score: 0.88569, in 0.069s\n",
      "[99/1000] 1 tree, 31 leaves, max depth = 11, train score: 0.98591, val score: 0.88576, in 0.067s\n",
      "[100/1000] 1 tree, 31 leaves, max depth = 13, train score: 0.98604, val score: 0.88542, in 0.084s\n",
      "[101/1000] 1 tree, 31 leaves, max depth = 11, train score: 0.98618, val score: 0.88647, in 0.087s\n",
      "[102/1000] 1 tree, 31 leaves, max depth = 10, train score: 0.98624, val score: 0.88658, in 0.116s\n",
      "[103/1000] 1 tree, 31 leaves, max depth = 13, train score: 0.98662, val score: 0.88667, in 0.069s\n",
      "[104/1000] 1 tree, 31 leaves, max depth = 13, train score: 0.98672, val score: 0.88666, in 0.066s\n",
      "[105/1000] 1 tree, 31 leaves, max depth = 12, train score: 0.98689, val score: 0.88945, in 0.075s\n",
      "[106/1000] 1 tree, 31 leaves, max depth = 15, train score: 0.98713, val score: 0.88928, in 0.074s\n",
      "[107/1000] 1 tree, 31 leaves, max depth = 12, train score: 0.98749, val score: 0.88914, in 0.066s\n",
      "[108/1000] 1 tree, 31 leaves, max depth = 11, train score: 0.98759, val score: 0.88928, in 0.064s\n",
      "[109/1000] 1 tree, 31 leaves, max depth = 12, train score: 0.98835, val score: 0.89030, in 0.064s\n",
      "[110/1000] 1 tree, 31 leaves, max depth = 12, train score: 0.98850, val score: 0.89077, in 0.066s\n",
      "[111/1000] 1 tree, 31 leaves, max depth = 11, train score: 0.98854, val score: 0.89084, in 0.063s\n",
      "[112/1000] 1 tree, 31 leaves, max depth = 8, train score: 0.98862, val score: 0.89085, in 0.079s\n",
      "[113/1000] 1 tree, 31 leaves, max depth = 11, train score: 0.98874, val score: 0.89072, in 0.130s\n",
      "[114/1000] 1 tree, 31 leaves, max depth = 12, train score: 0.98884, val score: 0.89059, in 0.086s\n",
      "[115/1000] 1 tree, 31 leaves, max depth = 16, train score: 0.98894, val score: 0.89029, in 0.085s\n",
      "[116/1000] 1 tree, 31 leaves, max depth = 13, train score: 0.98906, val score: 0.89075, in 0.073s\n",
      "[117/1000] 1 tree, 31 leaves, max depth = 9, train score: 0.98914, val score: 0.89043, in 0.067s\n",
      "[118/1000] 1 tree, 31 leaves, max depth = 13, train score: 0.98978, val score: 0.89040, in 0.067s\n",
      "[119/1000] 1 tree, 31 leaves, max depth = 9, train score: 0.99008, val score: 0.89045, in 0.080s\n",
      "[120/1000] 1 tree, 31 leaves, max depth = 15, train score: 0.99042, val score: 0.89020, in 0.088s\n",
      "[121/1000] 1 tree, 31 leaves, max depth = 14, train score: 0.99064, val score: 0.88978, in 0.088s\n",
      "[122/1000] 1 tree, 31 leaves, max depth = 14, train score: 0.99061, val score: 0.88999, in 0.081s\n",
      "Fit 122 trees in 9.346 s, (3782 total leaves)\n",
      "Time spent computing histograms: 3.096s\n",
      "Time spent finding best splits:  0.918s\n",
      "Time spent applying splits:      1.294s\n",
      "Time spent predicting:           0.021s\n",
      "CPU times: user 52.7 s, sys: 8.88 s, total: 1min 1s\n",
      "Wall time: 9.6 s\n"
     ]
    },
    {
     "data": {
      "text/plain": [
       "(0.981080736425216, 0.8585535814408465)"
      ]
     },
     "execution_count": 35,
     "metadata": {},
     "output_type": "execute_result"
    }
   ],
   "source": [
    "%%time\n",
    "clf = HistGradientBoostingClassifier(loss='binary_crossentropy', verbose=1,\n",
    "                                    max_iter=1000, scoring='roc_auc')\n",
    "clf.fit(xs,y)\n",
    "m_roc(y, xs), m_roc(valid_y, valid_xs)"
   ]
  },
  {
   "cell_type": "markdown",
   "metadata": {
    "hidden": true
   },
   "source": [
    "The algorithm may have stopped too early, so let's increase the threshold for early stopping by decreasing tol by a factor of 10 to e-8 from its default value e-7."
   ]
  },
  {
   "cell_type": "code",
   "execution_count": 36,
   "metadata": {
    "hidden": true
   },
   "outputs": [
    {
     "name": "stdout",
     "output_type": "stream",
     "text": [
      "Binning 0.042 GB of training data: 0.271 s\n",
      "Binning 0.005 GB of validation data: 0.019 s\n",
      "Fitting gradient boosted rounds:\n",
      "[1/1000] 1 tree, 31 leaves, max depth = 7, train score: 0.82234, val score: 0.80514, in 0.047s\n",
      "[2/1000] 1 tree, 31 leaves, max depth = 11, train score: 0.84012, val score: 0.83320, in 0.056s\n",
      "[3/1000] 1 tree, 31 leaves, max depth = 11, train score: 0.84453, val score: 0.83291, in 0.047s\n",
      "[4/1000] 1 tree, 31 leaves, max depth = 10, train score: 0.85679, val score: 0.84107, in 0.049s\n",
      "[5/1000] 1 tree, 31 leaves, max depth = 9, train score: 0.86389, val score: 0.84776, in 0.052s\n",
      "[6/1000] 1 tree, 31 leaves, max depth = 8, train score: 0.86967, val score: 0.85248, in 0.052s\n",
      "[7/1000] 1 tree, 31 leaves, max depth = 10, train score: 0.87200, val score: 0.85335, in 0.059s\n",
      "[8/1000] 1 tree, 31 leaves, max depth = 9, train score: 0.87481, val score: 0.85439, in 0.058s\n",
      "[9/1000] 1 tree, 31 leaves, max depth = 8, train score: 0.87650, val score: 0.85888, in 0.058s\n",
      "[10/1000] 1 tree, 31 leaves, max depth = 12, train score: 0.88411, val score: 0.86884, in 0.062s\n",
      "[11/1000] 1 tree, 31 leaves, max depth = 8, train score: 0.88590, val score: 0.87201, in 0.065s\n",
      "[12/1000] 1 tree, 31 leaves, max depth = 9, train score: 0.88918, val score: 0.87678, in 0.120s\n",
      "[13/1000] 1 tree, 31 leaves, max depth = 8, train score: 0.89106, val score: 0.87804, in 0.062s\n",
      "[14/1000] 1 tree, 31 leaves, max depth = 13, train score: 0.89320, val score: 0.88043, in 0.092s\n",
      "[15/1000] 1 tree, 31 leaves, max depth = 10, train score: 0.89829, val score: 0.88370, in 0.070s\n",
      "[16/1000] 1 tree, 31 leaves, max depth = 10, train score: 0.90333, val score: 0.88771, in 0.065s\n",
      "[17/1000] 1 tree, 31 leaves, max depth = 11, train score: 0.90473, val score: 0.88895, in 0.077s\n",
      "[18/1000] 1 tree, 31 leaves, max depth = 9, train score: 0.90712, val score: 0.89029, in 0.070s\n",
      "[19/1000] 1 tree, 31 leaves, max depth = 10, train score: 0.91067, val score: 0.89005, in 0.067s\n",
      "[20/1000] 1 tree, 31 leaves, max depth = 11, train score: 0.91228, val score: 0.88994, in 0.059s\n",
      "[21/1000] 1 tree, 31 leaves, max depth = 12, train score: 0.91565, val score: 0.89021, in 0.063s\n",
      "[22/1000] 1 tree, 31 leaves, max depth = 9, train score: 0.91888, val score: 0.89364, in 0.063s\n",
      "[23/1000] 1 tree, 31 leaves, max depth = 13, train score: 0.92035, val score: 0.89622, in 0.063s\n",
      "[24/1000] 1 tree, 31 leaves, max depth = 11, train score: 0.92106, val score: 0.89666, in 0.069s\n",
      "[25/1000] 1 tree, 31 leaves, max depth = 12, train score: 0.92145, val score: 0.89866, in 0.077s\n",
      "[26/1000] 1 tree, 31 leaves, max depth = 13, train score: 0.92382, val score: 0.89922, in 0.067s\n",
      "[27/1000] 1 tree, 31 leaves, max depth = 10, train score: 0.92482, val score: 0.89926, in 0.063s\n",
      "[28/1000] 1 tree, 31 leaves, max depth = 10, train score: 0.92837, val score: 0.90126, in 0.060s\n",
      "[29/1000] 1 tree, 31 leaves, max depth = 12, train score: 0.92952, val score: 0.90232, in 0.071s\n",
      "[30/1000] 1 tree, 31 leaves, max depth = 10, train score: 0.93101, val score: 0.90490, in 0.080s\n",
      "[31/1000] 1 tree, 31 leaves, max depth = 11, train score: 0.93451, val score: 0.90468, in 0.085s\n",
      "[32/1000] 1 tree, 31 leaves, max depth = 10, train score: 0.93638, val score: 0.90572, in 0.068s\n",
      "[33/1000] 1 tree, 31 leaves, max depth = 12, train score: 0.93795, val score: 0.90701, in 0.081s\n",
      "[34/1000] 1 tree, 31 leaves, max depth = 9, train score: 0.94149, val score: 0.90759, in 0.111s\n",
      "[35/1000] 1 tree, 31 leaves, max depth = 10, train score: 0.94227, val score: 0.90732, in 0.080s\n",
      "[36/1000] 1 tree, 31 leaves, max depth = 15, train score: 0.94274, val score: 0.90826, in 0.085s\n",
      "[37/1000] 1 tree, 31 leaves, max depth = 18, train score: 0.94460, val score: 0.90852, in 0.075s\n",
      "[38/1000] 1 tree, 31 leaves, max depth = 11, train score: 0.94712, val score: 0.90893, in 0.068s\n",
      "[39/1000] 1 tree, 31 leaves, max depth = 11, train score: 0.94922, val score: 0.90943, in 0.065s\n",
      "[40/1000] 1 tree, 31 leaves, max depth = 11, train score: 0.95022, val score: 0.91011, in 0.067s\n",
      "[41/1000] 1 tree, 31 leaves, max depth = 10, train score: 0.95047, val score: 0.91005, in 0.066s\n",
      "[42/1000] 1 tree, 31 leaves, max depth = 12, train score: 0.95292, val score: 0.91028, in 0.071s\n",
      "[43/1000] 1 tree, 31 leaves, max depth = 13, train score: 0.95472, val score: 0.91131, in 0.068s\n",
      "[44/1000] 1 tree, 31 leaves, max depth = 13, train score: 0.95491, val score: 0.91249, in 0.068s\n",
      "[45/1000] 1 tree, 31 leaves, max depth = 15, train score: 0.95582, val score: 0.91209, in 0.073s\n",
      "[46/1000] 1 tree, 31 leaves, max depth = 10, train score: 0.95819, val score: 0.91490, in 0.076s\n",
      "[47/1000] 1 tree, 31 leaves, max depth = 12, train score: 0.95872, val score: 0.91495, in 0.073s\n",
      "[48/1000] 1 tree, 31 leaves, max depth = 12, train score: 0.95933, val score: 0.91493, in 0.074s\n",
      "[49/1000] 1 tree, 31 leaves, max depth = 13, train score: 0.96000, val score: 0.91548, in 0.068s\n",
      "[50/1000] 1 tree, 31 leaves, max depth = 14, train score: 0.96091, val score: 0.91538, in 0.068s\n",
      "[51/1000] 1 tree, 31 leaves, max depth = 13, train score: 0.96279, val score: 0.91604, in 0.071s\n",
      "[52/1000] 1 tree, 31 leaves, max depth = 11, train score: 0.96303, val score: 0.91611, in 0.070s\n",
      "[53/1000] 1 tree, 31 leaves, max depth = 11, train score: 0.96338, val score: 0.91649, in 0.077s\n",
      "[54/1000] 1 tree, 31 leaves, max depth = 14, train score: 0.96481, val score: 0.91670, in 0.084s\n",
      "[55/1000] 1 tree, 31 leaves, max depth = 11, train score: 0.96573, val score: 0.91709, in 0.125s\n",
      "[56/1000] 1 tree, 31 leaves, max depth = 12, train score: 0.96597, val score: 0.91712, in 0.068s\n",
      "[57/1000] 1 tree, 31 leaves, max depth = 11, train score: 0.96641, val score: 0.91761, in 0.074s\n",
      "[58/1000] 1 tree, 31 leaves, max depth = 10, train score: 0.96678, val score: 0.91769, in 0.071s\n",
      "[59/1000] 1 tree, 31 leaves, max depth = 11, train score: 0.96717, val score: 0.91755, in 0.072s\n",
      "[60/1000] 1 tree, 31 leaves, max depth = 11, train score: 0.96764, val score: 0.91750, in 0.067s\n",
      "[61/1000] 1 tree, 31 leaves, max depth = 14, train score: 0.96792, val score: 0.91777, in 0.073s\n",
      "[62/1000] 1 tree, 31 leaves, max depth = 14, train score: 0.96827, val score: 0.91811, in 0.073s\n",
      "[63/1000] 1 tree, 31 leaves, max depth = 14, train score: 0.96982, val score: 0.91824, in 0.071s\n",
      "[64/1000] 1 tree, 31 leaves, max depth = 13, train score: 0.97109, val score: 0.91846, in 0.069s\n",
      "[65/1000] 1 tree, 31 leaves, max depth = 11, train score: 0.97130, val score: 0.91881, in 0.073s\n",
      "[66/1000] 1 tree, 31 leaves, max depth = 14, train score: 0.97165, val score: 0.91904, in 0.071s\n",
      "[67/1000] 1 tree, 31 leaves, max depth = 15, train score: 0.97208, val score: 0.91854, in 0.073s\n",
      "[68/1000] 1 tree, 31 leaves, max depth = 16, train score: 0.97212, val score: 0.91852, in 0.076s\n",
      "[69/1000] 1 tree, 31 leaves, max depth = 9, train score: 0.97224, val score: 0.91949, in 0.076s\n",
      "[70/1000] 1 tree, 31 leaves, max depth = 13, train score: 0.97299, val score: 0.92081, in 0.075s\n",
      "[71/1000] 1 tree, 31 leaves, max depth = 11, train score: 0.97351, val score: 0.92082, in 0.112s\n",
      "[72/1000] 1 tree, 31 leaves, max depth = 11, train score: 0.97441, val score: 0.92086, in 0.074s\n",
      "[73/1000] 1 tree, 31 leaves, max depth = 14, train score: 0.97558, val score: 0.92120, in 0.075s\n",
      "[74/1000] 1 tree, 31 leaves, max depth = 10, train score: 0.97589, val score: 0.92161, in 0.080s\n",
      "[75/1000] 1 tree, 31 leaves, max depth = 11, train score: 0.97662, val score: 0.92175, in 0.075s\n",
      "[76/1000] 1 tree, 31 leaves, max depth = 16, train score: 0.97715, val score: 0.92153, in 0.129s\n",
      "[77/1000] 1 tree, 31 leaves, max depth = 13, train score: 0.97755, val score: 0.92175, in 0.074s\n",
      "[78/1000] 1 tree, 31 leaves, max depth = 14, train score: 0.97781, val score: 0.92156, in 0.079s\n",
      "[79/1000] 1 tree, 31 leaves, max depth = 14, train score: 0.97832, val score: 0.92185, in 0.076s\n",
      "[80/1000] 1 tree, 31 leaves, max depth = 13, train score: 0.97850, val score: 0.92193, in 0.076s\n",
      "[81/1000] 1 tree, 31 leaves, max depth = 17, train score: 0.97896, val score: 0.92249, in 0.075s\n",
      "[82/1000] 1 tree, 31 leaves, max depth = 9, train score: 0.97909, val score: 0.92302, in 0.082s\n",
      "[83/1000] 1 tree, 31 leaves, max depth = 13, train score: 0.97962, val score: 0.92311, in 0.080s\n",
      "[84/1000] 1 tree, 31 leaves, max depth = 8, train score: 0.97972, val score: 0.92306, in 0.080s\n"
     ]
    },
    {
     "name": "stdout",
     "output_type": "stream",
     "text": [
      "[85/1000] 1 tree, 31 leaves, max depth = 14, train score: 0.97995, val score: 0.92332, in 0.078s\n",
      "[86/1000] 1 tree, 31 leaves, max depth = 14, train score: 0.98003, val score: 0.92413, in 0.082s\n",
      "[87/1000] 1 tree, 31 leaves, max depth = 15, train score: 0.98041, val score: 0.92391, in 0.076s\n",
      "[88/1000] 1 tree, 31 leaves, max depth = 12, train score: 0.98046, val score: 0.92400, in 0.080s\n",
      "[89/1000] 1 tree, 31 leaves, max depth = 10, train score: 0.98087, val score: 0.92384, in 0.073s\n",
      "[90/1000] 1 tree, 31 leaves, max depth = 14, train score: 0.98111, val score: 0.92433, in 0.079s\n",
      "[91/1000] 1 tree, 31 leaves, max depth = 8, train score: 0.98120, val score: 0.92435, in 0.076s\n",
      "[92/1000] 1 tree, 31 leaves, max depth = 10, train score: 0.98128, val score: 0.92427, in 0.078s\n",
      "[93/1000] 1 tree, 31 leaves, max depth = 12, train score: 0.98138, val score: 0.92451, in 0.076s\n",
      "[94/1000] 1 tree, 31 leaves, max depth = 14, train score: 0.98177, val score: 0.92490, in 0.080s\n",
      "[95/1000] 1 tree, 31 leaves, max depth = 17, train score: 0.98211, val score: 0.92526, in 0.083s\n",
      "[96/1000] 1 tree, 31 leaves, max depth = 11, train score: 0.98234, val score: 0.92534, in 0.083s\n",
      "[97/1000] 1 tree, 31 leaves, max depth = 9, train score: 0.98247, val score: 0.92548, in 0.134s\n",
      "[98/1000] 1 tree, 31 leaves, max depth = 11, train score: 0.98308, val score: 0.92526, in 0.077s\n",
      "[99/1000] 1 tree, 31 leaves, max depth = 11, train score: 0.98318, val score: 0.92529, in 0.078s\n",
      "[100/1000] 1 tree, 31 leaves, max depth = 12, train score: 0.98363, val score: 0.92519, in 0.083s\n",
      "[101/1000] 1 tree, 31 leaves, max depth = 13, train score: 0.98443, val score: 0.92567, in 0.084s\n",
      "[102/1000] 1 tree, 31 leaves, max depth = 10, train score: 0.98453, val score: 0.92605, in 0.113s\n",
      "[103/1000] 1 tree, 31 leaves, max depth = 10, train score: 0.98460, val score: 0.92614, in 0.075s\n",
      "[104/1000] 1 tree, 31 leaves, max depth = 16, train score: 0.98521, val score: 0.92602, in 0.070s\n",
      "[105/1000] 1 tree, 31 leaves, max depth = 13, train score: 0.98553, val score: 0.92622, in 0.071s\n",
      "[106/1000] 1 tree, 31 leaves, max depth = 14, train score: 0.98561, val score: 0.92630, in 0.074s\n",
      "[107/1000] 1 tree, 31 leaves, max depth = 11, train score: 0.98606, val score: 0.92640, in 0.076s\n",
      "[108/1000] 1 tree, 31 leaves, max depth = 11, train score: 0.98612, val score: 0.92634, in 0.069s\n",
      "[109/1000] 1 tree, 31 leaves, max depth = 16, train score: 0.98624, val score: 0.92637, in 0.073s\n",
      "[110/1000] 1 tree, 31 leaves, max depth = 16, train score: 0.98633, val score: 0.92620, in 0.076s\n",
      "[111/1000] 1 tree, 31 leaves, max depth = 8, train score: 0.98648, val score: 0.92626, in 0.074s\n",
      "[112/1000] 1 tree, 31 leaves, max depth = 11, train score: 0.98656, val score: 0.92646, in 0.089s\n",
      "[113/1000] 1 tree, 31 leaves, max depth = 13, train score: 0.98682, val score: 0.92596, in 0.105s\n",
      "[114/1000] 1 tree, 31 leaves, max depth = 9, train score: 0.98689, val score: 0.92612, in 0.080s\n",
      "[115/1000] 1 tree, 31 leaves, max depth = 11, train score: 0.98697, val score: 0.92682, in 0.077s\n",
      "[116/1000] 1 tree, 31 leaves, max depth = 12, train score: 0.98708, val score: 0.92701, in 0.078s\n",
      "[117/1000] 1 tree, 31 leaves, max depth = 14, train score: 0.98751, val score: 0.92666, in 0.091s\n",
      "[118/1000] 1 tree, 31 leaves, max depth = 10, train score: 0.98768, val score: 0.92682, in 0.138s\n",
      "[119/1000] 1 tree, 31 leaves, max depth = 10, train score: 0.98775, val score: 0.92673, in 0.106s\n",
      "[120/1000] 1 tree, 31 leaves, max depth = 13, train score: 0.98791, val score: 0.92677, in 0.100s\n",
      "[121/1000] 1 tree, 31 leaves, max depth = 11, train score: 0.98844, val score: 0.92635, in 0.086s\n",
      "[122/1000] 1 tree, 31 leaves, max depth = 16, train score: 0.98863, val score: 0.92611, in 0.086s\n",
      "[123/1000] 1 tree, 31 leaves, max depth = 13, train score: 0.98904, val score: 0.92611, in 0.084s\n",
      "[124/1000] 1 tree, 31 leaves, max depth = 12, train score: 0.98911, val score: 0.92661, in 0.094s\n",
      "[125/1000] 1 tree, 31 leaves, max depth = 12, train score: 0.98926, val score: 0.92696, in 0.094s\n",
      "[126/1000] 1 tree, 31 leaves, max depth = 14, train score: 0.98936, val score: 0.92701, in 0.085s\n",
      "Fit 126 trees in 10.194 s, (3906 total leaves)\n",
      "Time spent computing histograms: 3.468s\n",
      "Time spent finding best splits:  1.008s\n",
      "Time spent applying splits:      1.423s\n",
      "Time spent predicting:           0.022s\n",
      "CPU times: user 59.5 s, sys: 9.91 s, total: 1min 9s\n",
      "Wall time: 10.4 s\n"
     ]
    },
    {
     "data": {
      "text/plain": [
       "(0.9852662994607253, 0.8569054436362248)"
      ]
     },
     "execution_count": 36,
     "metadata": {},
     "output_type": "execute_result"
    }
   ],
   "source": [
    "%%time\n",
    "clf = HistGradientBoostingClassifier(loss='binary_crossentropy', verbose=1,\n",
    "                                     max_iter=1000, scoring='roc_auc', tol=1e-8)\n",
    "clf.fit(xs,y)\n",
    "m_roc(y, xs), m_roc(valid_y, valid_xs)"
   ]
  },
  {
   "cell_type": "markdown",
   "metadata": {},
   "source": [
    "### Hyperparameter tuning"
   ]
  },
  {
   "cell_type": "markdown",
   "metadata": {},
   "source": [
    "Hyperparameters were tuned interatively. Using both GridSearchCV and RandomizedGridSearchCV. RandomizedGridSearchCV was used for all 5 sets of parameters, than the final parameter set was double checked using GridSearchCV. Only the final results are displayed in the notenbook."
   ]
  },
  {
   "cell_type": "code",
   "execution_count": 30,
   "metadata": {},
   "outputs": [],
   "source": [
    "parameters1 = {\n",
    " 'max_iter': [1000],\n",
    " 'learning_rate': [0.0001, 0.001, 0.01, 0.1, 0.2, 0.3],\n",
    " 'max_depth': [None, 25, 50, 75],\n",
    " 'l2_regularization': [0, 1.5],\n",
    " 'max_bins': [255],\n",
    " 'max_leaf_nodes': [20, 31, 40, 50, 60],\n",
    " 'min_samples_leaf': [1, 5, 10, 20],\n",
    " 'random_state': [33],\n",
    " }"
   ]
  },
  {
   "cell_type": "code",
   "execution_count": 7,
   "metadata": {},
   "outputs": [],
   "source": [
    "parameters2 = {\n",
    " 'max_iter': [1000],\n",
    " 'learning_rate': [0.01, 0.1, 0.2, 0.3],\n",
    " 'max_depth': [None, 25, 50],\n",
    " 'l2_regularization': [0, 1.5],\n",
    " 'max_bins': [255],\n",
    " 'max_leaf_nodes': [20, 31, 40],\n",
    " 'min_samples_leaf': [1, 5],\n",
    " 'random_state': [33],\n",
    " }"
   ]
  },
  {
   "cell_type": "code",
   "execution_count": 23,
   "metadata": {},
   "outputs": [],
   "source": [
    "parameters3 = {\n",
    " 'max_iter': [1000],\n",
    " 'learning_rate': [0.005, 0.01, 0.1],\n",
    " 'max_depth': [15, 25, 35],\n",
    " 'l2_regularization': [1.5, 2.0],\n",
    " 'max_bins': [255],\n",
    " 'max_leaf_nodes': [40, 45, 50],\n",
    " 'min_samples_leaf': [5, 7, 10],\n",
    " 'random_state': [33],\n",
    " }"
   ]
  },
  {
   "cell_type": "code",
   "execution_count": 31,
   "metadata": {},
   "outputs": [],
   "source": [
    "parameters4 = {\n",
    " 'max_iter': [1000],\n",
    " 'learning_rate': [0.01, 0.02],\n",
    " 'max_depth': [25, 30],\n",
    " 'l2_regularization': [2.0, 2.5, 3.0],\n",
    " 'max_bins': [255],\n",
    " 'max_leaf_nodes': [37, 40, 43],\n",
    " 'min_samples_leaf': [7, 8, 9],\n",
    " 'random_state': [33],\n",
    " }"
   ]
  },
  {
   "cell_type": "code",
   "execution_count": 36,
   "metadata": {},
   "outputs": [],
   "source": [
    "parameters5 = {\n",
    " 'max_iter': [1000],\n",
    " 'learning_rate': [0.01, 0.02, 0.03],\n",
    " 'max_depth': [25, 27],\n",
    " 'l2_regularization': [2.4, 2.5, 2.6],\n",
    " 'max_bins': [255],\n",
    " 'max_leaf_nodes': [43, 44, 45],\n",
    " 'random_state': [33],\n",
    " }"
   ]
  },
  {
   "cell_type": "markdown",
   "metadata": {
    "heading_collapsed": true
   },
   "source": [
    "#### GridSearchCV"
   ]
  },
  {
   "cell_type": "code",
   "execution_count": 37,
   "metadata": {
    "hidden": true
   },
   "outputs": [],
   "source": [
    "clf = GridSearchCV(HistGradientBoostingClassifier(loss='binary_crossentropy', max_iter=1000, \n",
    "                                                  scoring='roc_auc', tol=1e-8 ), parameters5, \n",
    "                   scoring=make_scorer(roc_auc_score, needs_proba=True), n_jobs=-1)"
   ]
  },
  {
   "cell_type": "code",
   "execution_count": 38,
   "metadata": {
    "hidden": true
   },
   "outputs": [
    {
     "name": "stdout",
     "output_type": "stream",
     "text": [
      "CPU times: user 1min 24s, sys: 22.1 s, total: 1min 46s\n",
      "Wall time: 11min 42s\n"
     ]
    },
    {
     "data": {
      "text/plain": [
       "(HistGradientBoostingClassifier(l2_regularization=2.4, learning_rate=0.03,\n",
       "                                loss='binary_crossentropy', max_depth=25,\n",
       "                                max_iter=1000, max_leaf_nodes=44,\n",
       "                                random_state=33, scoring='roc_auc', tol=1e-08),\n",
       " 0.8691008607988312,\n",
       " {'l2_regularization': 2.4,\n",
       "  'learning_rate': 0.03,\n",
       "  'max_bins': 255,\n",
       "  'max_depth': 25,\n",
       "  'max_iter': 1000,\n",
       "  'max_leaf_nodes': 44,\n",
       "  'random_state': 33})"
      ]
     },
     "execution_count": 38,
     "metadata": {},
     "output_type": "execute_result"
    }
   ],
   "source": [
    "%%time\n",
    "clf.fit(xs, y)\n",
    "clf.best_estimator_, clf.best_score_, clf.best_params_"
   ]
  },
  {
   "cell_type": "code",
   "execution_count": 42,
   "metadata": {
    "hidden": true,
    "scrolled": false
   },
   "outputs": [
    {
     "name": "stdout",
     "output_type": "stream",
     "text": [
      "Binning 0.042 GB of training data: 0.273 s\n",
      "Binning 0.005 GB of validation data: 0.019 s\n",
      "Fitting gradient boosted rounds:\n",
      "[1/1000] 1 tree, 44 leaves, max depth = 9, train score: 0.83422, val score: 0.83526, in 0.076s\n",
      "[2/1000] 1 tree, 44 leaves, max depth = 10, train score: 0.84166, val score: 0.84216, in 0.081s\n",
      "[3/1000] 1 tree, 44 leaves, max depth = 9, train score: 0.84365, val score: 0.84422, in 0.081s\n",
      "[4/1000] 1 tree, 44 leaves, max depth = 10, train score: 0.84635, val score: 0.84409, in 0.120s\n",
      "[5/1000] 1 tree, 44 leaves, max depth = 12, train score: 0.85918, val score: 0.85764, in 0.079s\n",
      "[6/1000] 1 tree, 44 leaves, max depth = 11, train score: 0.85980, val score: 0.85770, in 0.122s\n",
      "[7/1000] 1 tree, 44 leaves, max depth = 10, train score: 0.85984, val score: 0.85860, in 0.120s\n",
      "[8/1000] 1 tree, 44 leaves, max depth = 11, train score: 0.86009, val score: 0.85848, in 0.130s\n",
      "[9/1000] 1 tree, 44 leaves, max depth = 10, train score: 0.86031, val score: 0.85919, in 0.116s\n",
      "[10/1000] 1 tree, 44 leaves, max depth = 9, train score: 0.86073, val score: 0.86045, in 0.108s\n",
      "[11/1000] 1 tree, 44 leaves, max depth = 9, train score: 0.86159, val score: 0.86052, in 0.119s\n",
      "[12/1000] 1 tree, 44 leaves, max depth = 10, train score: 0.86171, val score: 0.86132, in 0.117s\n",
      "[13/1000] 1 tree, 44 leaves, max depth = 9, train score: 0.86141, val score: 0.86127, in 0.092s\n",
      "[14/1000] 1 tree, 44 leaves, max depth = 9, train score: 0.86484, val score: 0.86540, in 0.085s\n",
      "[15/1000] 1 tree, 44 leaves, max depth = 9, train score: 0.86536, val score: 0.86336, in 0.083s\n",
      "[16/1000] 1 tree, 44 leaves, max depth = 9, train score: 0.86606, val score: 0.86423, in 0.151s\n",
      "[17/1000] 1 tree, 44 leaves, max depth = 10, train score: 0.86660, val score: 0.86560, in 0.079s\n",
      "[18/1000] 1 tree, 44 leaves, max depth = 9, train score: 0.86755, val score: 0.86914, in 0.090s\n",
      "[19/1000] 1 tree, 44 leaves, max depth = 9, train score: 0.86816, val score: 0.87033, in 0.094s\n",
      "[20/1000] 1 tree, 44 leaves, max depth = 9, train score: 0.86825, val score: 0.86987, in 0.099s\n",
      "[21/1000] 1 tree, 44 leaves, max depth = 9, train score: 0.86935, val score: 0.87170, in 0.084s\n",
      "[22/1000] 1 tree, 44 leaves, max depth = 11, train score: 0.87147, val score: 0.87196, in 0.086s\n",
      "[23/1000] 1 tree, 44 leaves, max depth = 10, train score: 0.87226, val score: 0.87258, in 0.087s\n",
      "[24/1000] 1 tree, 44 leaves, max depth = 11, train score: 0.87310, val score: 0.87331, in 0.088s\n",
      "[25/1000] 1 tree, 44 leaves, max depth = 10, train score: 0.87391, val score: 0.87420, in 0.088s\n",
      "[26/1000] 1 tree, 44 leaves, max depth = 11, train score: 0.87489, val score: 0.87296, in 0.090s\n",
      "[27/1000] 1 tree, 44 leaves, max depth = 10, train score: 0.87710, val score: 0.87353, in 0.089s\n",
      "[28/1000] 1 tree, 44 leaves, max depth = 10, train score: 0.87753, val score: 0.87348, in 0.166s\n",
      "[29/1000] 1 tree, 44 leaves, max depth = 11, train score: 0.88040, val score: 0.87293, in 0.083s\n",
      "[30/1000] 1 tree, 44 leaves, max depth = 10, train score: 0.88146, val score: 0.87526, in 0.087s\n",
      "[31/1000] 1 tree, 44 leaves, max depth = 11, train score: 0.88231, val score: 0.87540, in 0.087s\n",
      "[32/1000] 1 tree, 44 leaves, max depth = 11, train score: 0.88375, val score: 0.87678, in 0.089s\n",
      "[33/1000] 1 tree, 44 leaves, max depth = 10, train score: 0.88430, val score: 0.87690, in 0.088s\n",
      "[34/1000] 1 tree, 44 leaves, max depth = 10, train score: 0.88477, val score: 0.87687, in 0.095s\n",
      "[35/1000] 1 tree, 44 leaves, max depth = 11, train score: 0.88586, val score: 0.87710, in 0.091s\n",
      "[36/1000] 1 tree, 44 leaves, max depth = 11, train score: 0.88613, val score: 0.87711, in 0.093s\n",
      "[37/1000] 1 tree, 44 leaves, max depth = 9, train score: 0.88865, val score: 0.87835, in 0.090s\n",
      "[38/1000] 1 tree, 44 leaves, max depth = 11, train score: 0.88888, val score: 0.87923, in 0.093s\n",
      "[39/1000] 1 tree, 44 leaves, max depth = 10, train score: 0.88981, val score: 0.88004, in 0.092s\n",
      "[40/1000] 1 tree, 44 leaves, max depth = 10, train score: 0.89029, val score: 0.88074, in 0.093s\n",
      "[41/1000] 1 tree, 44 leaves, max depth = 9, train score: 0.89101, val score: 0.88096, in 0.160s\n",
      "[42/1000] 1 tree, 44 leaves, max depth = 11, train score: 0.89159, val score: 0.88196, in 0.091s\n",
      "[43/1000] 1 tree, 44 leaves, max depth = 10, train score: 0.89196, val score: 0.88261, in 0.092s\n",
      "[44/1000] 1 tree, 44 leaves, max depth = 9, train score: 0.89386, val score: 0.88278, in 0.093s\n",
      "[45/1000] 1 tree, 44 leaves, max depth = 12, train score: 0.89473, val score: 0.88430, in 0.093s\n",
      "[46/1000] 1 tree, 44 leaves, max depth = 10, train score: 0.89476, val score: 0.88469, in 0.094s\n",
      "[47/1000] 1 tree, 44 leaves, max depth = 13, train score: 0.89538, val score: 0.88481, in 0.099s\n",
      "[48/1000] 1 tree, 44 leaves, max depth = 10, train score: 0.89674, val score: 0.88578, in 0.094s\n",
      "[49/1000] 1 tree, 44 leaves, max depth = 12, train score: 0.89735, val score: 0.88662, in 0.096s\n",
      "[50/1000] 1 tree, 44 leaves, max depth = 12, train score: 0.89779, val score: 0.88676, in 0.096s\n",
      "[51/1000] 1 tree, 44 leaves, max depth = 12, train score: 0.89841, val score: 0.88710, in 0.097s\n",
      "[52/1000] 1 tree, 44 leaves, max depth = 12, train score: 0.89909, val score: 0.88725, in 0.096s\n",
      "[53/1000] 1 tree, 44 leaves, max depth = 17, train score: 0.90040, val score: 0.88763, in 0.172s\n",
      "[54/1000] 1 tree, 44 leaves, max depth = 9, train score: 0.90078, val score: 0.88843, in 0.159s\n",
      "[55/1000] 1 tree, 44 leaves, max depth = 12, train score: 0.90149, val score: 0.88903, in 0.122s\n",
      "[56/1000] 1 tree, 44 leaves, max depth = 12, train score: 0.90324, val score: 0.89035, in 0.105s\n",
      "[57/1000] 1 tree, 44 leaves, max depth = 13, train score: 0.90402, val score: 0.89095, in 0.100s\n",
      "[58/1000] 1 tree, 44 leaves, max depth = 13, train score: 0.90436, val score: 0.89130, in 0.099s\n",
      "[59/1000] 1 tree, 44 leaves, max depth = 11, train score: 0.90571, val score: 0.89151, in 0.102s\n",
      "[60/1000] 1 tree, 44 leaves, max depth = 12, train score: 0.90640, val score: 0.89184, in 0.118s\n",
      "[61/1000] 1 tree, 44 leaves, max depth = 9, train score: 0.90747, val score: 0.89201, in 0.116s\n",
      "[62/1000] 1 tree, 44 leaves, max depth = 12, train score: 0.90857, val score: 0.89243, in 0.120s\n",
      "[63/1000] 1 tree, 44 leaves, max depth = 11, train score: 0.90929, val score: 0.89267, in 0.106s\n",
      "[64/1000] 1 tree, 44 leaves, max depth = 12, train score: 0.91016, val score: 0.89326, in 0.106s\n",
      "[65/1000] 1 tree, 44 leaves, max depth = 11, train score: 0.91096, val score: 0.89354, in 0.110s\n",
      "[66/1000] 1 tree, 44 leaves, max depth = 12, train score: 0.91272, val score: 0.89427, in 0.190s\n",
      "[67/1000] 1 tree, 44 leaves, max depth = 14, train score: 0.91354, val score: 0.89452, in 0.108s\n",
      "[68/1000] 1 tree, 44 leaves, max depth = 15, train score: 0.91421, val score: 0.89500, in 0.103s\n",
      "[69/1000] 1 tree, 44 leaves, max depth = 12, train score: 0.91468, val score: 0.89613, in 0.104s\n",
      "[70/1000] 1 tree, 44 leaves, max depth = 13, train score: 0.91602, val score: 0.89646, in 0.106s\n",
      "[71/1000] 1 tree, 44 leaves, max depth = 10, train score: 0.91664, val score: 0.89715, in 0.106s\n",
      "[72/1000] 1 tree, 44 leaves, max depth = 14, train score: 0.91733, val score: 0.89773, in 0.108s\n",
      "[73/1000] 1 tree, 44 leaves, max depth = 12, train score: 0.91787, val score: 0.89832, in 0.113s\n",
      "[74/1000] 1 tree, 44 leaves, max depth = 13, train score: 0.91854, val score: 0.89846, in 0.116s\n",
      "[75/1000] 1 tree, 44 leaves, max depth = 13, train score: 0.91900, val score: 0.89847, in 0.113s\n",
      "[76/1000] 1 tree, 44 leaves, max depth = 14, train score: 0.91926, val score: 0.89879, in 0.112s\n",
      "[77/1000] 1 tree, 44 leaves, max depth = 12, train score: 0.91965, val score: 0.89893, in 0.110s\n",
      "[78/1000] 1 tree, 44 leaves, max depth = 13, train score: 0.92069, val score: 0.89952, in 0.174s\n",
      "[79/1000] 1 tree, 44 leaves, max depth = 13, train score: 0.92250, val score: 0.89978, in 0.109s\n",
      "[80/1000] 1 tree, 44 leaves, max depth = 14, train score: 0.92362, val score: 0.90079, in 0.108s\n",
      "[81/1000] 1 tree, 44 leaves, max depth = 13, train score: 0.92475, val score: 0.90095, in 0.112s\n",
      "[82/1000] 1 tree, 44 leaves, max depth = 12, train score: 0.92537, val score: 0.90131, in 0.107s\n",
      "[83/1000] 1 tree, 44 leaves, max depth = 13, train score: 0.92644, val score: 0.90140, in 0.109s\n",
      "[84/1000] 1 tree, 44 leaves, max depth = 14, train score: 0.92687, val score: 0.90166, in 0.107s\n"
     ]
    },
    {
     "name": "stdout",
     "output_type": "stream",
     "text": [
      "[85/1000] 1 tree, 44 leaves, max depth = 13, train score: 0.92742, val score: 0.90149, in 0.116s\n",
      "[86/1000] 1 tree, 44 leaves, max depth = 14, train score: 0.92801, val score: 0.90142, in 0.117s\n",
      "[87/1000] 1 tree, 44 leaves, max depth = 17, train score: 0.92856, val score: 0.90216, in 0.111s\n",
      "[88/1000] 1 tree, 44 leaves, max depth = 13, train score: 0.92926, val score: 0.90224, in 0.111s\n",
      "[89/1000] 1 tree, 44 leaves, max depth = 11, train score: 0.92989, val score: 0.90258, in 0.107s\n",
      "[90/1000] 1 tree, 44 leaves, max depth = 11, train score: 0.93051, val score: 0.90300, in 0.181s\n",
      "[91/1000] 1 tree, 44 leaves, max depth = 14, train score: 0.93145, val score: 0.90335, in 0.106s\n",
      "[92/1000] 1 tree, 44 leaves, max depth = 19, train score: 0.93208, val score: 0.90435, in 0.272s\n",
      "[93/1000] 1 tree, 44 leaves, max depth = 14, train score: 0.93265, val score: 0.90504, in 0.110s\n",
      "[94/1000] 1 tree, 44 leaves, max depth = 12, train score: 0.93347, val score: 0.90482, in 0.107s\n",
      "[95/1000] 1 tree, 44 leaves, max depth = 15, train score: 0.93415, val score: 0.90530, in 0.111s\n",
      "[96/1000] 1 tree, 44 leaves, max depth = 18, train score: 0.93497, val score: 0.90550, in 0.113s\n",
      "[97/1000] 1 tree, 44 leaves, max depth = 15, train score: 0.93570, val score: 0.90577, in 0.107s\n",
      "[98/1000] 1 tree, 44 leaves, max depth = 13, train score: 0.93606, val score: 0.90642, in 0.110s\n",
      "[99/1000] 1 tree, 44 leaves, max depth = 15, train score: 0.93674, val score: 0.90662, in 0.112s\n",
      "[100/1000] 1 tree, 44 leaves, max depth = 12, train score: 0.93720, val score: 0.90695, in 0.110s\n",
      "[101/1000] 1 tree, 44 leaves, max depth = 17, train score: 0.93771, val score: 0.90743, in 0.111s\n",
      "[102/1000] 1 tree, 44 leaves, max depth = 14, train score: 0.93836, val score: 0.90777, in 0.116s\n",
      "[103/1000] 1 tree, 44 leaves, max depth = 12, train score: 0.93904, val score: 0.90820, in 0.189s\n",
      "[104/1000] 1 tree, 44 leaves, max depth = 14, train score: 0.93932, val score: 0.90817, in 0.107s\n",
      "[105/1000] 1 tree, 44 leaves, max depth = 15, train score: 0.94000, val score: 0.90842, in 0.112s\n",
      "[106/1000] 1 tree, 44 leaves, max depth = 19, train score: 0.94048, val score: 0.90876, in 0.117s\n",
      "[107/1000] 1 tree, 44 leaves, max depth = 12, train score: 0.94114, val score: 0.90911, in 0.128s\n",
      "[108/1000] 1 tree, 44 leaves, max depth = 13, train score: 0.94151, val score: 0.90918, in 0.116s\n",
      "[109/1000] 1 tree, 44 leaves, max depth = 10, train score: 0.94181, val score: 0.90937, in 0.114s\n",
      "[110/1000] 1 tree, 44 leaves, max depth = 20, train score: 0.94249, val score: 0.90981, in 0.114s\n",
      "[111/1000] 1 tree, 44 leaves, max depth = 17, train score: 0.94309, val score: 0.90999, in 0.118s\n",
      "[112/1000] 1 tree, 44 leaves, max depth = 15, train score: 0.94358, val score: 0.91010, in 0.120s\n",
      "[113/1000] 1 tree, 44 leaves, max depth = 15, train score: 0.94402, val score: 0.91034, in 0.120s\n",
      "[114/1000] 1 tree, 44 leaves, max depth = 15, train score: 0.94412, val score: 0.91055, in 0.120s\n",
      "[115/1000] 1 tree, 44 leaves, max depth = 14, train score: 0.94478, val score: 0.91062, in 0.122s\n",
      "[116/1000] 1 tree, 44 leaves, max depth = 14, train score: 0.94532, val score: 0.91100, in 0.180s\n",
      "[117/1000] 1 tree, 44 leaves, max depth = 19, train score: 0.94592, val score: 0.91108, in 0.118s\n",
      "[118/1000] 1 tree, 44 leaves, max depth = 16, train score: 0.94631, val score: 0.91130, in 0.117s\n",
      "[119/1000] 1 tree, 44 leaves, max depth = 18, train score: 0.94686, val score: 0.91159, in 0.116s\n",
      "[120/1000] 1 tree, 44 leaves, max depth = 16, train score: 0.94735, val score: 0.91170, in 0.123s\n",
      "[121/1000] 1 tree, 44 leaves, max depth = 14, train score: 0.94773, val score: 0.91216, in 0.121s\n",
      "[122/1000] 1 tree, 44 leaves, max depth = 18, train score: 0.94799, val score: 0.91215, in 0.117s\n",
      "[123/1000] 1 tree, 44 leaves, max depth = 17, train score: 0.94830, val score: 0.91229, in 0.120s\n",
      "[124/1000] 1 tree, 44 leaves, max depth = 10, train score: 0.94878, val score: 0.91235, in 0.124s\n",
      "[125/1000] 1 tree, 44 leaves, max depth = 17, train score: 0.94919, val score: 0.91272, in 0.125s\n",
      "[126/1000] 1 tree, 44 leaves, max depth = 14, train score: 0.94969, val score: 0.91303, in 0.124s\n",
      "[127/1000] 1 tree, 44 leaves, max depth = 20, train score: 0.95010, val score: 0.91319, in 0.128s\n",
      "[128/1000] 1 tree, 44 leaves, max depth = 20, train score: 0.95021, val score: 0.91342, in 0.194s\n",
      "[129/1000] 1 tree, 44 leaves, max depth = 14, train score: 0.95085, val score: 0.91357, in 0.125s\n",
      "[130/1000] 1 tree, 44 leaves, max depth = 16, train score: 0.95136, val score: 0.91384, in 0.121s\n",
      "[131/1000] 1 tree, 44 leaves, max depth = 15, train score: 0.95179, val score: 0.91442, in 0.127s\n",
      "[132/1000] 1 tree, 44 leaves, max depth = 17, train score: 0.95199, val score: 0.91454, in 0.124s\n",
      "[133/1000] 1 tree, 44 leaves, max depth = 16, train score: 0.95248, val score: 0.91470, in 0.120s\n",
      "[134/1000] 1 tree, 44 leaves, max depth = 15, train score: 0.95277, val score: 0.91500, in 0.127s\n",
      "[135/1000] 1 tree, 44 leaves, max depth = 9, train score: 0.95305, val score: 0.91481, in 0.126s\n",
      "[136/1000] 1 tree, 44 leaves, max depth = 15, train score: 0.95324, val score: 0.91492, in 0.128s\n",
      "[137/1000] 1 tree, 44 leaves, max depth = 16, train score: 0.95352, val score: 0.91530, in 0.128s\n",
      "[138/1000] 1 tree, 44 leaves, max depth = 14, train score: 0.95401, val score: 0.91542, in 0.131s\n",
      "[139/1000] 1 tree, 44 leaves, max depth = 16, train score: 0.95417, val score: 0.91568, in 0.126s\n",
      "[140/1000] 1 tree, 44 leaves, max depth = 16, train score: 0.95453, val score: 0.91568, in 0.130s\n",
      "[141/1000] 1 tree, 44 leaves, max depth = 16, train score: 0.95478, val score: 0.91607, in 0.184s\n",
      "[142/1000] 1 tree, 44 leaves, max depth = 17, train score: 0.95500, val score: 0.91638, in 0.126s\n",
      "[143/1000] 1 tree, 44 leaves, max depth = 14, train score: 0.95529, val score: 0.91661, in 0.125s\n",
      "[144/1000] 1 tree, 44 leaves, max depth = 20, train score: 0.95541, val score: 0.91663, in 0.128s\n",
      "[145/1000] 1 tree, 44 leaves, max depth = 15, train score: 0.95581, val score: 0.91674, in 0.128s\n",
      "[146/1000] 1 tree, 44 leaves, max depth = 17, train score: 0.95618, val score: 0.91714, in 0.129s\n",
      "[147/1000] 1 tree, 44 leaves, max depth = 14, train score: 0.95639, val score: 0.91710, in 0.128s\n",
      "[148/1000] 1 tree, 44 leaves, max depth = 12, train score: 0.95658, val score: 0.91716, in 0.131s\n",
      "[149/1000] 1 tree, 44 leaves, max depth = 17, train score: 0.95698, val score: 0.91720, in 0.132s\n",
      "[150/1000] 1 tree, 44 leaves, max depth = 12, train score: 0.95729, val score: 0.91729, in 0.133s\n",
      "[151/1000] 1 tree, 44 leaves, max depth = 14, train score: 0.95765, val score: 0.91755, in 0.136s\n",
      "[152/1000] 1 tree, 44 leaves, max depth = 16, train score: 0.95807, val score: 0.91751, in 0.184s\n",
      "[153/1000] 1 tree, 44 leaves, max depth = 15, train score: 0.95820, val score: 0.91773, in 0.197s\n",
      "[154/1000] 1 tree, 44 leaves, max depth = 14, train score: 0.95855, val score: 0.91775, in 0.136s\n",
      "[155/1000] 1 tree, 44 leaves, max depth = 16, train score: 0.95878, val score: 0.91807, in 0.127s\n",
      "[156/1000] 1 tree, 44 leaves, max depth = 18, train score: 0.95915, val score: 0.91837, in 0.168s\n",
      "[157/1000] 1 tree, 44 leaves, max depth = 16, train score: 0.95936, val score: 0.91828, in 0.174s\n",
      "[158/1000] 1 tree, 44 leaves, max depth = 12, train score: 0.95959, val score: 0.91846, in 0.146s\n",
      "[159/1000] 1 tree, 44 leaves, max depth = 18, train score: 0.95991, val score: 0.91841, in 0.144s\n",
      "[160/1000] 1 tree, 44 leaves, max depth = 20, train score: 0.96021, val score: 0.91855, in 0.150s\n",
      "[161/1000] 1 tree, 44 leaves, max depth = 17, train score: 0.96039, val score: 0.91846, in 0.214s\n",
      "[162/1000] 1 tree, 44 leaves, max depth = 16, train score: 0.96059, val score: 0.91861, in 0.147s\n",
      "[163/1000] 1 tree, 44 leaves, max depth = 13, train score: 0.96080, val score: 0.91871, in 0.143s\n",
      "[164/1000] 1 tree, 44 leaves, max depth = 18, train score: 0.96090, val score: 0.91901, in 0.150s\n",
      "[165/1000] 1 tree, 44 leaves, max depth = 10, train score: 0.96143, val score: 0.91920, in 0.256s\n",
      "[166/1000] 1 tree, 44 leaves, max depth = 18, train score: 0.96179, val score: 0.91932, in 0.156s\n",
      "[167/1000] 1 tree, 44 leaves, max depth = 14, train score: 0.96209, val score: 0.91942, in 0.145s\n",
      "[168/1000] 1 tree, 44 leaves, max depth = 15, train score: 0.96230, val score: 0.91939, in 0.196s\n"
     ]
    },
    {
     "name": "stdout",
     "output_type": "stream",
     "text": [
      "[169/1000] 1 tree, 44 leaves, max depth = 20, train score: 0.96254, val score: 0.91969, in 0.204s\n",
      "[170/1000] 1 tree, 44 leaves, max depth = 12, train score: 0.96271, val score: 0.91994, in 0.156s\n",
      "[171/1000] 1 tree, 44 leaves, max depth = 18, train score: 0.96299, val score: 0.91994, in 0.145s\n",
      "[172/1000] 1 tree, 44 leaves, max depth = 15, train score: 0.96309, val score: 0.92024, in 0.142s\n",
      "[173/1000] 1 tree, 44 leaves, max depth = 18, train score: 0.96335, val score: 0.92045, in 0.171s\n",
      "[174/1000] 1 tree, 44 leaves, max depth = 14, train score: 0.96377, val score: 0.92087, in 0.175s\n",
      "[175/1000] 1 tree, 44 leaves, max depth = 16, train score: 0.96408, val score: 0.92078, in 0.150s\n",
      "[176/1000] 1 tree, 44 leaves, max depth = 14, train score: 0.96426, val score: 0.92085, in 0.141s\n",
      "[177/1000] 1 tree, 44 leaves, max depth = 21, train score: 0.96446, val score: 0.92099, in 0.145s\n",
      "[178/1000] 1 tree, 44 leaves, max depth = 11, train score: 0.96457, val score: 0.92096, in 0.211s\n",
      "[179/1000] 1 tree, 44 leaves, max depth = 13, train score: 0.96463, val score: 0.92105, in 0.142s\n",
      "[180/1000] 1 tree, 44 leaves, max depth = 9, train score: 0.96474, val score: 0.92122, in 0.140s\n",
      "[181/1000] 1 tree, 44 leaves, max depth = 19, train score: 0.96493, val score: 0.92135, in 0.145s\n",
      "[182/1000] 1 tree, 44 leaves, max depth = 13, train score: 0.96507, val score: 0.92154, in 0.143s\n",
      "[183/1000] 1 tree, 44 leaves, max depth = 13, train score: 0.96556, val score: 0.92168, in 0.154s\n",
      "[184/1000] 1 tree, 44 leaves, max depth = 16, train score: 0.96579, val score: 0.92161, in 0.281s\n",
      "[185/1000] 1 tree, 44 leaves, max depth = 14, train score: 0.96599, val score: 0.92163, in 0.290s\n",
      "[186/1000] 1 tree, 44 leaves, max depth = 15, train score: 0.96617, val score: 0.92157, in 0.165s\n",
      "[187/1000] 1 tree, 44 leaves, max depth = 12, train score: 0.96651, val score: 0.92162, in 0.230s\n",
      "[188/1000] 1 tree, 44 leaves, max depth = 17, train score: 0.96676, val score: 0.92175, in 0.211s\n",
      "[189/1000] 1 tree, 44 leaves, max depth = 15, train score: 0.96681, val score: 0.92167, in 0.163s\n",
      "[190/1000] 1 tree, 44 leaves, max depth = 11, train score: 0.96692, val score: 0.92180, in 0.357s\n",
      "[191/1000] 1 tree, 44 leaves, max depth = 13, train score: 0.96702, val score: 0.92166, in 0.162s\n",
      "[192/1000] 1 tree, 44 leaves, max depth = 12, train score: 0.96728, val score: 0.92167, in 0.158s\n",
      "[193/1000] 1 tree, 44 leaves, max depth = 17, train score: 0.96749, val score: 0.92183, in 0.158s\n",
      "[194/1000] 1 tree, 44 leaves, max depth = 17, train score: 0.96765, val score: 0.92173, in 0.260s\n",
      "[195/1000] 1 tree, 44 leaves, max depth = 14, train score: 0.96768, val score: 0.92179, in 0.163s\n",
      "[196/1000] 1 tree, 44 leaves, max depth = 8, train score: 0.96804, val score: 0.92194, in 0.150s\n",
      "[197/1000] 1 tree, 44 leaves, max depth = 15, train score: 0.96810, val score: 0.92198, in 0.151s\n",
      "[198/1000] 1 tree, 44 leaves, max depth = 12, train score: 0.96833, val score: 0.92188, in 0.178s\n",
      "[199/1000] 1 tree, 44 leaves, max depth = 11, train score: 0.96849, val score: 0.92164, in 0.174s\n",
      "[200/1000] 1 tree, 44 leaves, max depth = 16, train score: 0.96861, val score: 0.92176, in 0.149s\n",
      "[201/1000] 1 tree, 44 leaves, max depth = 17, train score: 0.96865, val score: 0.92182, in 0.148s\n",
      "[202/1000] 1 tree, 44 leaves, max depth = 14, train score: 0.96880, val score: 0.92163, in 0.151s\n",
      "[203/1000] 1 tree, 44 leaves, max depth = 16, train score: 0.96896, val score: 0.92167, in 0.216s\n",
      "[204/1000] 1 tree, 44 leaves, max depth = 13, train score: 0.96901, val score: 0.92175, in 0.147s\n",
      "[205/1000] 1 tree, 44 leaves, max depth = 14, train score: 0.96922, val score: 0.92189, in 0.152s\n",
      "[206/1000] 1 tree, 44 leaves, max depth = 13, train score: 0.96940, val score: 0.92188, in 0.148s\n",
      "[207/1000] 1 tree, 44 leaves, max depth = 15, train score: 0.96943, val score: 0.92186, in 0.150s\n",
      "Fit 207 trees in 27.606 s, (9108 total leaves)\n",
      "Time spent computing histograms: 9.990s\n",
      "Time spent finding best splits:  2.807s\n",
      "Time spent applying splits:      3.209s\n",
      "Time spent predicting:           0.046s\n",
      "CPU times: user 2min 46s, sys: 28.7 s, total: 3min 15s\n",
      "Wall time: 28 s\n"
     ]
    },
    {
     "data": {
      "text/plain": [
       "(0.9659117013340929, 0.8577956250355605)"
      ]
     },
     "execution_count": 42,
     "metadata": {},
     "output_type": "execute_result"
    }
   ],
   "source": [
    "%%time\n",
    "clf = HistGradientBoostingClassifier(loss='binary_crossentropy', verbose=1, l2_regularization=2.4,\n",
    "                             learning_rate=0.03, max_depth=25, max_iter=1000, max_leaf_nodes=44,\n",
    "                             min_samples_leaf=8,  scoring='roc_auc', tol=1e-8)\n",
    "clf.fit(xs, y)\n",
    "m_roc(y, xs), m_roc(valid_y, valid_xs)"
   ]
  },
  {
   "cell_type": "markdown",
   "metadata": {
    "heading_collapsed": true
   },
   "source": [
    "#### RandomizedSearchCV"
   ]
  },
  {
   "cell_type": "code",
   "execution_count": 43,
   "metadata": {
    "hidden": true
   },
   "outputs": [],
   "source": [
    "clf = RandomizedSearchCV(HistGradientBoostingClassifier(loss='binary_crossentropy', max_iter=1000, \n",
    "                                                  scoring='roc_auc', tol=1e-8 ), parameters5, \n",
    "                   scoring=make_scorer(roc_auc_score, needs_proba=True), n_jobs=-1)"
   ]
  },
  {
   "cell_type": "code",
   "execution_count": 44,
   "metadata": {
    "hidden": true
   },
   "outputs": [
    {
     "name": "stdout",
     "output_type": "stream",
     "text": [
      "CPU times: user 1min 19s, sys: 18 s, total: 1min 37s\n",
      "Wall time: 2min 17s\n"
     ]
    },
    {
     "data": {
      "text/plain": [
       "(HistGradientBoostingClassifier(l2_regularization=2.4, learning_rate=0.03,\n",
       "                                loss='binary_crossentropy', max_depth=27,\n",
       "                                max_iter=1000, max_leaf_nodes=44,\n",
       "                                random_state=33, scoring='roc_auc', tol=1e-08),\n",
       " 0.8691008607988312,\n",
       " {'random_state': 33,\n",
       "  'max_leaf_nodes': 44,\n",
       "  'max_iter': 1000,\n",
       "  'max_depth': 27,\n",
       "  'max_bins': 255,\n",
       "  'learning_rate': 0.03,\n",
       "  'l2_regularization': 2.4})"
      ]
     },
     "execution_count": 44,
     "metadata": {},
     "output_type": "execute_result"
    }
   ],
   "source": [
    "%%time\n",
    "clf.fit(xs, y)\n",
    "clf.best_estimator_, clf.best_score_, clf.best_params_"
   ]
  },
  {
   "cell_type": "code",
   "execution_count": 45,
   "metadata": {
    "hidden": true,
    "scrolled": false
   },
   "outputs": [
    {
     "name": "stdout",
     "output_type": "stream",
     "text": [
      "Binning 0.042 GB of training data: 0.259 s\n",
      "Binning 0.005 GB of validation data: 0.019 s\n",
      "Fitting gradient boosted rounds:\n",
      "[1/1000] 1 tree, 44 leaves, max depth = 11, train score: 0.82760, val score: 0.80686, in 0.052s\n",
      "[2/1000] 1 tree, 44 leaves, max depth = 11, train score: 0.83003, val score: 0.80806, in 0.101s\n",
      "[3/1000] 1 tree, 44 leaves, max depth = 13, train score: 0.83584, val score: 0.81004, in 0.050s\n",
      "[4/1000] 1 tree, 44 leaves, max depth = 10, train score: 0.84916, val score: 0.83466, in 0.052s\n",
      "[5/1000] 1 tree, 44 leaves, max depth = 12, train score: 0.85368, val score: 0.83562, in 0.053s\n",
      "[6/1000] 1 tree, 44 leaves, max depth = 12, train score: 0.85301, val score: 0.83424, in 0.053s\n",
      "[7/1000] 1 tree, 44 leaves, max depth = 12, train score: 0.85311, val score: 0.83412, in 0.051s\n",
      "[8/1000] 1 tree, 44 leaves, max depth = 10, train score: 0.85305, val score: 0.83381, in 0.055s\n",
      "[9/1000] 1 tree, 44 leaves, max depth = 11, train score: 0.85380, val score: 0.83552, in 0.052s\n",
      "[10/1000] 1 tree, 44 leaves, max depth = 11, train score: 0.85585, val score: 0.83623, in 0.053s\n",
      "[11/1000] 1 tree, 44 leaves, max depth = 10, train score: 0.85646, val score: 0.83835, in 0.053s\n",
      "[12/1000] 1 tree, 44 leaves, max depth = 10, train score: 0.85703, val score: 0.83888, in 0.053s\n",
      "[13/1000] 1 tree, 44 leaves, max depth = 10, train score: 0.85904, val score: 0.84034, in 0.054s\n",
      "[14/1000] 1 tree, 44 leaves, max depth = 10, train score: 0.85907, val score: 0.84145, in 0.112s\n",
      "[15/1000] 1 tree, 44 leaves, max depth = 8, train score: 0.86193, val score: 0.84541, in 0.051s\n",
      "[16/1000] 1 tree, 44 leaves, max depth = 8, train score: 0.86277, val score: 0.84595, in 0.056s\n",
      "[17/1000] 1 tree, 44 leaves, max depth = 9, train score: 0.86326, val score: 0.84674, in 0.054s\n",
      "[18/1000] 1 tree, 44 leaves, max depth = 10, train score: 0.86391, val score: 0.84662, in 0.055s\n",
      "[19/1000] 1 tree, 44 leaves, max depth = 11, train score: 0.86398, val score: 0.84834, in 0.056s\n",
      "[20/1000] 1 tree, 44 leaves, max depth = 12, train score: 0.86514, val score: 0.84862, in 0.054s\n",
      "[21/1000] 1 tree, 44 leaves, max depth = 9, train score: 0.86565, val score: 0.84908, in 0.055s\n",
      "[22/1000] 1 tree, 44 leaves, max depth = 12, train score: 0.86601, val score: 0.84915, in 0.057s\n",
      "[23/1000] 1 tree, 44 leaves, max depth = 9, train score: 0.86634, val score: 0.84892, in 0.056s\n",
      "[24/1000] 1 tree, 44 leaves, max depth = 13, train score: 0.86788, val score: 0.85167, in 0.057s\n",
      "[25/1000] 1 tree, 44 leaves, max depth = 11, train score: 0.86841, val score: 0.85177, in 0.056s\n",
      "[26/1000] 1 tree, 44 leaves, max depth = 11, train score: 0.86900, val score: 0.85179, in 0.058s\n",
      "[27/1000] 1 tree, 44 leaves, max depth = 10, train score: 0.87143, val score: 0.85317, in 0.106s\n",
      "[28/1000] 1 tree, 44 leaves, max depth = 12, train score: 0.87187, val score: 0.85300, in 0.057s\n",
      "[29/1000] 1 tree, 44 leaves, max depth = 10, train score: 0.87317, val score: 0.85516, in 0.054s\n",
      "[30/1000] 1 tree, 44 leaves, max depth = 9, train score: 0.87527, val score: 0.85621, in 0.058s\n",
      "[31/1000] 1 tree, 44 leaves, max depth = 10, train score: 0.87839, val score: 0.85770, in 0.058s\n",
      "[32/1000] 1 tree, 44 leaves, max depth = 13, train score: 0.87912, val score: 0.85909, in 0.057s\n",
      "[33/1000] 1 tree, 44 leaves, max depth = 10, train score: 0.88023, val score: 0.85897, in 0.058s\n",
      "[34/1000] 1 tree, 44 leaves, max depth = 9, train score: 0.88143, val score: 0.85882, in 0.060s\n",
      "[35/1000] 1 tree, 44 leaves, max depth = 12, train score: 0.88583, val score: 0.86142, in 0.059s\n",
      "[36/1000] 1 tree, 44 leaves, max depth = 10, train score: 0.88639, val score: 0.86190, in 0.058s\n",
      "[37/1000] 1 tree, 44 leaves, max depth = 11, train score: 0.88709, val score: 0.86320, in 0.059s\n",
      "[38/1000] 1 tree, 44 leaves, max depth = 9, train score: 0.88983, val score: 0.86410, in 0.060s\n",
      "[39/1000] 1 tree, 44 leaves, max depth = 13, train score: 0.89160, val score: 0.86459, in 0.113s\n",
      "[40/1000] 1 tree, 44 leaves, max depth = 10, train score: 0.89277, val score: 0.86472, in 0.058s\n",
      "[41/1000] 1 tree, 44 leaves, max depth = 12, train score: 0.89340, val score: 0.86473, in 0.060s\n",
      "[42/1000] 1 tree, 44 leaves, max depth = 9, train score: 0.89368, val score: 0.86441, in 0.058s\n",
      "[43/1000] 1 tree, 44 leaves, max depth = 10, train score: 0.89502, val score: 0.86469, in 0.059s\n",
      "[44/1000] 1 tree, 44 leaves, max depth = 9, train score: 0.89523, val score: 0.86524, in 0.060s\n",
      "[45/1000] 1 tree, 44 leaves, max depth = 14, train score: 0.89600, val score: 0.86647, in 0.062s\n",
      "[46/1000] 1 tree, 44 leaves, max depth = 14, train score: 0.89763, val score: 0.86800, in 0.061s\n",
      "[47/1000] 1 tree, 44 leaves, max depth = 16, train score: 0.89805, val score: 0.86825, in 0.063s\n",
      "[48/1000] 1 tree, 44 leaves, max depth = 16, train score: 0.89873, val score: 0.86908, in 0.062s\n",
      "[49/1000] 1 tree, 44 leaves, max depth = 11, train score: 0.89927, val score: 0.86999, in 0.082s\n",
      "[50/1000] 1 tree, 44 leaves, max depth = 10, train score: 0.89938, val score: 0.86978, in 0.069s\n",
      "[51/1000] 1 tree, 44 leaves, max depth = 10, train score: 0.89993, val score: 0.86992, in 0.066s\n",
      "[52/1000] 1 tree, 44 leaves, max depth = 15, train score: 0.90096, val score: 0.87034, in 0.110s\n",
      "[53/1000] 1 tree, 44 leaves, max depth = 10, train score: 0.90174, val score: 0.87080, in 0.064s\n",
      "[54/1000] 1 tree, 44 leaves, max depth = 11, train score: 0.90240, val score: 0.87100, in 0.071s\n",
      "[55/1000] 1 tree, 44 leaves, max depth = 12, train score: 0.90318, val score: 0.87136, in 0.067s\n",
      "[56/1000] 1 tree, 44 leaves, max depth = 14, train score: 0.90364, val score: 0.87198, in 0.064s\n",
      "[57/1000] 1 tree, 44 leaves, max depth = 18, train score: 0.90435, val score: 0.87197, in 0.065s\n",
      "[58/1000] 1 tree, 44 leaves, max depth = 13, train score: 0.90477, val score: 0.87237, in 0.065s\n",
      "[59/1000] 1 tree, 44 leaves, max depth = 11, train score: 0.90505, val score: 0.87291, in 0.067s\n",
      "[60/1000] 1 tree, 44 leaves, max depth = 14, train score: 0.90594, val score: 0.87322, in 0.072s\n",
      "[61/1000] 1 tree, 44 leaves, max depth = 12, train score: 0.90625, val score: 0.87311, in 0.082s\n",
      "[62/1000] 1 tree, 44 leaves, max depth = 17, train score: 0.90693, val score: 0.87305, in 0.072s\n",
      "[63/1000] 1 tree, 44 leaves, max depth = 10, train score: 0.90769, val score: 0.87318, in 0.066s\n",
      "[64/1000] 1 tree, 44 leaves, max depth = 10, train score: 0.90832, val score: 0.87345, in 0.126s\n",
      "[65/1000] 1 tree, 44 leaves, max depth = 19, train score: 0.90904, val score: 0.87361, in 0.066s\n",
      "[66/1000] 1 tree, 44 leaves, max depth = 10, train score: 0.90947, val score: 0.87403, in 0.067s\n",
      "[67/1000] 1 tree, 44 leaves, max depth = 11, train score: 0.91000, val score: 0.87400, in 0.074s\n",
      "[68/1000] 1 tree, 44 leaves, max depth = 12, train score: 0.91086, val score: 0.87399, in 0.075s\n",
      "[69/1000] 1 tree, 44 leaves, max depth = 11, train score: 0.91103, val score: 0.87446, in 0.070s\n",
      "[70/1000] 1 tree, 44 leaves, max depth = 14, train score: 0.91188, val score: 0.87476, in 0.068s\n",
      "[71/1000] 1 tree, 44 leaves, max depth = 11, train score: 0.91196, val score: 0.87497, in 0.072s\n",
      "[72/1000] 1 tree, 44 leaves, max depth = 13, train score: 0.91269, val score: 0.87559, in 0.096s\n",
      "[73/1000] 1 tree, 44 leaves, max depth = 13, train score: 0.91335, val score: 0.87587, in 0.092s\n",
      "[74/1000] 1 tree, 44 leaves, max depth = 14, train score: 0.91400, val score: 0.87609, in 0.089s\n",
      "[75/1000] 1 tree, 44 leaves, max depth = 11, train score: 0.91550, val score: 0.87587, in 0.103s\n",
      "[76/1000] 1 tree, 44 leaves, max depth = 15, train score: 0.91592, val score: 0.87625, in 0.099s\n",
      "[77/1000] 1 tree, 44 leaves, max depth = 12, train score: 0.91635, val score: 0.87690, in 0.136s\n",
      "[78/1000] 1 tree, 44 leaves, max depth = 14, train score: 0.91690, val score: 0.87735, in 0.101s\n",
      "[79/1000] 1 tree, 44 leaves, max depth = 15, train score: 0.91738, val score: 0.87747, in 0.100s\n",
      "[80/1000] 1 tree, 44 leaves, max depth = 19, train score: 0.91794, val score: 0.87776, in 0.075s\n",
      "[81/1000] 1 tree, 44 leaves, max depth = 14, train score: 0.91900, val score: 0.87789, in 0.072s\n",
      "[82/1000] 1 tree, 44 leaves, max depth = 10, train score: 0.91976, val score: 0.87809, in 0.073s\n",
      "[83/1000] 1 tree, 44 leaves, max depth = 13, train score: 0.92047, val score: 0.87815, in 0.076s\n",
      "[84/1000] 1 tree, 44 leaves, max depth = 15, train score: 0.92126, val score: 0.87809, in 0.102s\n"
     ]
    },
    {
     "name": "stdout",
     "output_type": "stream",
     "text": [
      "[85/1000] 1 tree, 44 leaves, max depth = 10, train score: 0.92146, val score: 0.87816, in 0.105s\n",
      "[86/1000] 1 tree, 44 leaves, max depth = 17, train score: 0.92232, val score: 0.87912, in 0.083s\n",
      "[87/1000] 1 tree, 44 leaves, max depth = 13, train score: 0.92255, val score: 0.87928, in 0.080s\n",
      "[88/1000] 1 tree, 44 leaves, max depth = 12, train score: 0.92288, val score: 0.87950, in 0.074s\n",
      "[89/1000] 1 tree, 44 leaves, max depth = 12, train score: 0.92380, val score: 0.88020, in 0.117s\n",
      "[90/1000] 1 tree, 44 leaves, max depth = 19, train score: 0.92415, val score: 0.88021, in 0.065s\n",
      "[91/1000] 1 tree, 44 leaves, max depth = 14, train score: 0.92469, val score: 0.88100, in 0.067s\n",
      "[92/1000] 1 tree, 44 leaves, max depth = 14, train score: 0.92538, val score: 0.88118, in 0.077s\n",
      "[93/1000] 1 tree, 44 leaves, max depth = 15, train score: 0.92579, val score: 0.88122, in 0.076s\n",
      "[94/1000] 1 tree, 44 leaves, max depth = 14, train score: 0.92619, val score: 0.88132, in 0.080s\n",
      "[95/1000] 1 tree, 44 leaves, max depth = 11, train score: 0.92686, val score: 0.88153, in 0.078s\n",
      "[96/1000] 1 tree, 44 leaves, max depth = 12, train score: 0.92736, val score: 0.88169, in 0.070s\n",
      "[97/1000] 1 tree, 44 leaves, max depth = 13, train score: 0.92760, val score: 0.88189, in 0.070s\n",
      "[98/1000] 1 tree, 44 leaves, max depth = 12, train score: 0.92794, val score: 0.88204, in 0.070s\n",
      "[99/1000] 1 tree, 44 leaves, max depth = 13, train score: 0.92827, val score: 0.88227, in 0.075s\n",
      "[100/1000] 1 tree, 44 leaves, max depth = 13, train score: 0.92876, val score: 0.88219, in 0.095s\n",
      "[101/1000] 1 tree, 44 leaves, max depth = 14, train score: 0.92941, val score: 0.88283, in 0.154s\n",
      "[102/1000] 1 tree, 44 leaves, max depth = 14, train score: 0.92984, val score: 0.88277, in 0.126s\n",
      "[103/1000] 1 tree, 44 leaves, max depth = 15, train score: 0.93034, val score: 0.88243, in 0.092s\n",
      "[104/1000] 1 tree, 44 leaves, max depth = 11, train score: 0.93081, val score: 0.88240, in 0.074s\n",
      "[105/1000] 1 tree, 44 leaves, max depth = 14, train score: 0.93152, val score: 0.88250, in 0.071s\n",
      "[106/1000] 1 tree, 44 leaves, max depth = 17, train score: 0.93208, val score: 0.88249, in 0.071s\n",
      "[107/1000] 1 tree, 44 leaves, max depth = 16, train score: 0.93266, val score: 0.88263, in 0.073s\n",
      "[108/1000] 1 tree, 44 leaves, max depth = 13, train score: 0.93321, val score: 0.88267, in 0.072s\n",
      "[109/1000] 1 tree, 44 leaves, max depth = 14, train score: 0.93369, val score: 0.88278, in 0.071s\n",
      "[110/1000] 1 tree, 44 leaves, max depth = 16, train score: 0.93416, val score: 0.88319, in 0.076s\n",
      "[111/1000] 1 tree, 44 leaves, max depth = 13, train score: 0.93447, val score: 0.88320, in 0.113s\n",
      "[112/1000] 1 tree, 44 leaves, max depth = 16, train score: 0.93523, val score: 0.88329, in 0.107s\n",
      "[113/1000] 1 tree, 44 leaves, max depth = 14, train score: 0.93571, val score: 0.88323, in 0.097s\n",
      "[114/1000] 1 tree, 44 leaves, max depth = 12, train score: 0.93593, val score: 0.88346, in 0.153s\n",
      "[115/1000] 1 tree, 44 leaves, max depth = 12, train score: 0.93625, val score: 0.88353, in 0.077s\n",
      "[116/1000] 1 tree, 44 leaves, max depth = 12, train score: 0.93670, val score: 0.88361, in 0.098s\n",
      "[117/1000] 1 tree, 44 leaves, max depth = 18, train score: 0.93710, val score: 0.88370, in 0.099s\n",
      "[118/1000] 1 tree, 44 leaves, max depth = 10, train score: 0.93755, val score: 0.88401, in 0.092s\n",
      "[119/1000] 1 tree, 44 leaves, max depth = 12, train score: 0.93785, val score: 0.88401, in 0.103s\n",
      "[120/1000] 1 tree, 44 leaves, max depth = 17, train score: 0.93843, val score: 0.88480, in 0.109s\n",
      "[121/1000] 1 tree, 44 leaves, max depth = 15, train score: 0.93869, val score: 0.88530, in 0.107s\n",
      "[122/1000] 1 tree, 44 leaves, max depth = 11, train score: 0.93919, val score: 0.88562, in 0.118s\n",
      "[123/1000] 1 tree, 44 leaves, max depth = 15, train score: 0.93960, val score: 0.88598, in 0.105s\n",
      "[124/1000] 1 tree, 44 leaves, max depth = 12, train score: 0.94010, val score: 0.88649, in 0.107s\n",
      "[125/1000] 1 tree, 44 leaves, max depth = 16, train score: 0.94054, val score: 0.88633, in 0.112s\n",
      "[126/1000] 1 tree, 44 leaves, max depth = 13, train score: 0.94096, val score: 0.88647, in 0.147s\n",
      "[127/1000] 1 tree, 44 leaves, max depth = 20, train score: 0.94142, val score: 0.88688, in 0.077s\n",
      "[128/1000] 1 tree, 44 leaves, max depth = 15, train score: 0.94196, val score: 0.88716, in 0.104s\n",
      "[129/1000] 1 tree, 44 leaves, max depth = 16, train score: 0.94245, val score: 0.88715, in 0.114s\n",
      "[130/1000] 1 tree, 44 leaves, max depth = 14, train score: 0.94286, val score: 0.88709, in 0.115s\n",
      "[131/1000] 1 tree, 44 leaves, max depth = 14, train score: 0.94323, val score: 0.88707, in 0.116s\n",
      "[132/1000] 1 tree, 44 leaves, max depth = 19, train score: 0.94374, val score: 0.88696, in 0.115s\n",
      "[133/1000] 1 tree, 44 leaves, max depth = 18, train score: 0.94399, val score: 0.88730, in 0.083s\n",
      "[134/1000] 1 tree, 44 leaves, max depth = 10, train score: 0.94442, val score: 0.88739, in 0.081s\n",
      "[135/1000] 1 tree, 44 leaves, max depth = 17, train score: 0.94483, val score: 0.88747, in 0.107s\n",
      "[136/1000] 1 tree, 44 leaves, max depth = 14, train score: 0.94501, val score: 0.88754, in 0.106s\n",
      "[137/1000] 1 tree, 44 leaves, max depth = 14, train score: 0.94537, val score: 0.88743, in 0.115s\n",
      "[138/1000] 1 tree, 44 leaves, max depth = 18, train score: 0.94600, val score: 0.88754, in 0.183s\n",
      "[139/1000] 1 tree, 44 leaves, max depth = 13, train score: 0.94640, val score: 0.88760, in 0.112s\n",
      "[140/1000] 1 tree, 44 leaves, max depth = 19, train score: 0.94667, val score: 0.88755, in 0.118s\n",
      "[141/1000] 1 tree, 44 leaves, max depth = 20, train score: 0.94712, val score: 0.88760, in 0.089s\n",
      "[142/1000] 1 tree, 44 leaves, max depth = 15, train score: 0.94754, val score: 0.88758, in 0.104s\n",
      "[143/1000] 1 tree, 44 leaves, max depth = 15, train score: 0.94792, val score: 0.88791, in 0.129s\n",
      "[144/1000] 1 tree, 44 leaves, max depth = 18, train score: 0.94846, val score: 0.88813, in 0.117s\n",
      "[145/1000] 1 tree, 44 leaves, max depth = 19, train score: 0.94887, val score: 0.88829, in 0.090s\n",
      "[146/1000] 1 tree, 44 leaves, max depth = 14, train score: 0.94928, val score: 0.88871, in 0.082s\n",
      "[147/1000] 1 tree, 44 leaves, max depth = 14, train score: 0.94958, val score: 0.88855, in 0.097s\n",
      "[148/1000] 1 tree, 44 leaves, max depth = 18, train score: 0.94998, val score: 0.88862, in 0.105s\n",
      "[149/1000] 1 tree, 44 leaves, max depth = 13, train score: 0.95029, val score: 0.88899, in 0.099s\n",
      "[150/1000] 1 tree, 44 leaves, max depth = 16, train score: 0.95080, val score: 0.88919, in 0.115s\n",
      "[151/1000] 1 tree, 44 leaves, max depth = 12, train score: 0.95106, val score: 0.88950, in 0.167s\n",
      "[152/1000] 1 tree, 44 leaves, max depth = 17, train score: 0.95161, val score: 0.88976, in 0.244s\n",
      "[153/1000] 1 tree, 44 leaves, max depth = 13, train score: 0.95194, val score: 0.89009, in 0.099s\n",
      "[154/1000] 1 tree, 44 leaves, max depth = 20, train score: 0.95256, val score: 0.89032, in 0.125s\n",
      "[155/1000] 1 tree, 44 leaves, max depth = 15, train score: 0.95282, val score: 0.89047, in 0.087s\n",
      "[156/1000] 1 tree, 44 leaves, max depth = 14, train score: 0.95303, val score: 0.89082, in 0.091s\n",
      "[157/1000] 1 tree, 44 leaves, max depth = 21, train score: 0.95350, val score: 0.89128, in 0.103s\n",
      "[158/1000] 1 tree, 44 leaves, max depth = 16, train score: 0.95393, val score: 0.89148, in 0.099s\n",
      "[159/1000] 1 tree, 44 leaves, max depth = 18, train score: 0.95416, val score: 0.89183, in 0.091s\n",
      "[160/1000] 1 tree, 44 leaves, max depth = 11, train score: 0.95438, val score: 0.89199, in 0.087s\n",
      "[161/1000] 1 tree, 44 leaves, max depth = 15, train score: 0.95469, val score: 0.89228, in 0.089s\n",
      "[162/1000] 1 tree, 44 leaves, max depth = 15, train score: 0.95488, val score: 0.89231, in 0.097s\n",
      "[163/1000] 1 tree, 44 leaves, max depth = 11, train score: 0.95501, val score: 0.89232, in 0.099s\n",
      "[164/1000] 1 tree, 44 leaves, max depth = 16, train score: 0.95521, val score: 0.89254, in 0.151s\n",
      "[165/1000] 1 tree, 44 leaves, max depth = 14, train score: 0.95550, val score: 0.89298, in 0.102s\n",
      "[166/1000] 1 tree, 44 leaves, max depth = 11, train score: 0.95568, val score: 0.89306, in 0.105s\n",
      "[167/1000] 1 tree, 44 leaves, max depth = 16, train score: 0.95592, val score: 0.89327, in 0.104s\n",
      "[168/1000] 1 tree, 44 leaves, max depth = 16, train score: 0.95611, val score: 0.89341, in 0.096s\n",
      "[169/1000] 1 tree, 44 leaves, max depth = 14, train score: 0.95655, val score: 0.89335, in 0.111s\n",
      "[170/1000] 1 tree, 44 leaves, max depth = 15, train score: 0.95674, val score: 0.89372, in 0.096s\n",
      "[171/1000] 1 tree, 44 leaves, max depth = 20, train score: 0.95699, val score: 0.89381, in 0.104s\n",
      "[172/1000] 1 tree, 44 leaves, max depth = 12, train score: 0.95719, val score: 0.89398, in 0.092s\n",
      "[173/1000] 1 tree, 44 leaves, max depth = 13, train score: 0.95742, val score: 0.89420, in 0.092s\n",
      "[174/1000] 1 tree, 44 leaves, max depth = 14, train score: 0.95766, val score: 0.89443, in 0.093s\n",
      "[175/1000] 1 tree, 44 leaves, max depth = 14, train score: 0.95775, val score: 0.89447, in 0.095s\n",
      "[176/1000] 1 tree, 44 leaves, max depth = 11, train score: 0.95794, val score: 0.89474, in 0.096s\n",
      "[177/1000] 1 tree, 44 leaves, max depth = 21, train score: 0.95818, val score: 0.89477, in 0.154s\n",
      "[178/1000] 1 tree, 44 leaves, max depth = 12, train score: 0.95824, val score: 0.89495, in 0.094s\n",
      "[179/1000] 1 tree, 44 leaves, max depth = 14, train score: 0.95832, val score: 0.89501, in 0.091s\n",
      "[180/1000] 1 tree, 44 leaves, max depth = 14, train score: 0.95848, val score: 0.89526, in 0.092s\n",
      "[181/1000] 1 tree, 44 leaves, max depth = 14, train score: 0.95877, val score: 0.89530, in 0.116s\n",
      "[182/1000] 1 tree, 44 leaves, max depth = 15, train score: 0.95893, val score: 0.89538, in 0.118s\n",
      "[183/1000] 1 tree, 44 leaves, max depth = 10, train score: 0.95918, val score: 0.89563, in 0.092s\n",
      "[184/1000] 1 tree, 44 leaves, max depth = 13, train score: 0.95934, val score: 0.89565, in 0.090s\n",
      "[185/1000] 1 tree, 44 leaves, max depth = 18, train score: 0.95957, val score: 0.89562, in 0.090s\n",
      "[186/1000] 1 tree, 44 leaves, max depth = 14, train score: 0.95982, val score: 0.89584, in 0.091s\n",
      "[187/1000] 1 tree, 44 leaves, max depth = 15, train score: 0.96004, val score: 0.89602, in 0.102s\n",
      "[188/1000] 1 tree, 44 leaves, max depth = 12, train score: 0.96001, val score: 0.89610, in 0.094s\n",
      "[189/1000] 1 tree, 44 leaves, max depth = 11, train score: 0.96023, val score: 0.89626, in 0.152s\n",
      "[190/1000] 1 tree, 44 leaves, max depth = 14, train score: 0.96038, val score: 0.89647, in 0.089s\n",
      "[191/1000] 1 tree, 44 leaves, max depth = 13, train score: 0.96051, val score: 0.89661, in 0.090s\n",
      "[192/1000] 1 tree, 44 leaves, max depth = 15, train score: 0.96075, val score: 0.89684, in 0.093s\n",
      "[193/1000] 1 tree, 44 leaves, max depth = 22, train score: 0.96100, val score: 0.89702, in 0.095s\n",
      "[194/1000] 1 tree, 44 leaves, max depth = 19, train score: 0.96138, val score: 0.89714, in 0.106s\n",
      "[195/1000] 1 tree, 44 leaves, max depth = 14, train score: 0.96157, val score: 0.89740, in 0.095s\n",
      "[196/1000] 1 tree, 44 leaves, max depth = 13, train score: 0.96178, val score: 0.89746, in 0.098s\n",
      "[197/1000] 1 tree, 44 leaves, max depth = 14, train score: 0.96191, val score: 0.89750, in 0.095s\n",
      "[198/1000] 1 tree, 44 leaves, max depth = 16, train score: 0.96215, val score: 0.89754, in 0.097s\n",
      "[199/1000] 1 tree, 44 leaves, max depth = 14, train score: 0.96234, val score: 0.89781, in 0.101s\n",
      "[200/1000] 1 tree, 44 leaves, max depth = 18, train score: 0.96243, val score: 0.89795, in 0.113s\n",
      "[201/1000] 1 tree, 44 leaves, max depth = 14, train score: 0.96277, val score: 0.89805, in 0.159s\n",
      "[202/1000] 1 tree, 44 leaves, max depth = 18, train score: 0.96305, val score: 0.89826, in 0.094s\n",
      "[203/1000] 1 tree, 44 leaves, max depth = 14, train score: 0.96310, val score: 0.89847, in 0.116s\n",
      "[204/1000] 1 tree, 44 leaves, max depth = 13, train score: 0.96334, val score: 0.89850, in 0.100s\n",
      "[205/1000] 1 tree, 44 leaves, max depth = 16, train score: 0.96355, val score: 0.89850, in 0.113s\n",
      "[206/1000] 1 tree, 44 leaves, max depth = 16, train score: 0.96382, val score: 0.89861, in 0.100s\n",
      "[207/1000] 1 tree, 44 leaves, max depth = 18, train score: 0.96396, val score: 0.89879, in 0.114s\n",
      "[208/1000] 1 tree, 44 leaves, max depth = 14, train score: 0.96433, val score: 0.89890, in 0.112s\n",
      "[209/1000] 1 tree, 44 leaves, max depth = 12, train score: 0.96452, val score: 0.89887, in 0.114s\n",
      "[210/1000] 1 tree, 44 leaves, max depth = 14, train score: 0.96461, val score: 0.89886, in 0.101s\n",
      "[211/1000] 1 tree, 44 leaves, max depth = 13, train score: 0.96482, val score: 0.89896, in 0.117s\n",
      "[212/1000] 1 tree, 44 leaves, max depth = 13, train score: 0.96514, val score: 0.89933, in 0.122s\n",
      "[213/1000] 1 tree, 44 leaves, max depth = 18, train score: 0.96530, val score: 0.89939, in 0.118s\n",
      "[214/1000] 1 tree, 44 leaves, max depth = 12, train score: 0.96557, val score: 0.89936, in 0.155s\n",
      "[215/1000] 1 tree, 44 leaves, max depth = 16, train score: 0.96574, val score: 0.89946, in 0.094s\n",
      "[216/1000] 1 tree, 44 leaves, max depth = 14, train score: 0.96578, val score: 0.89959, in 0.098s\n",
      "[217/1000] 1 tree, 44 leaves, max depth = 17, train score: 0.96606, val score: 0.89938, in 0.112s\n",
      "[218/1000] 1 tree, 44 leaves, max depth = 15, train score: 0.96614, val score: 0.89946, in 0.120s\n",
      "[219/1000] 1 tree, 44 leaves, max depth = 10, train score: 0.96628, val score: 0.89942, in 0.104s\n",
      "[220/1000] 1 tree, 44 leaves, max depth = 19, train score: 0.96654, val score: 0.89942, in 0.147s\n",
      "[221/1000] 1 tree, 44 leaves, max depth = 12, train score: 0.96672, val score: 0.89959, in 0.119s\n",
      "[222/1000] 1 tree, 44 leaves, max depth = 11, train score: 0.96685, val score: 0.89961, in 0.104s\n",
      "[223/1000] 1 tree, 44 leaves, max depth = 16, train score: 0.96693, val score: 0.89953, in 0.102s\n",
      "[224/1000] 1 tree, 44 leaves, max depth = 14, train score: 0.96723, val score: 0.89942, in 0.104s\n",
      "[225/1000] 1 tree, 44 leaves, max depth = 15, train score: 0.96741, val score: 0.89925, in 0.104s\n",
      "[226/1000] 1 tree, 44 leaves, max depth = 14, train score: 0.96759, val score: 0.89936, in 0.166s\n",
      "[227/1000] 1 tree, 44 leaves, max depth = 18, train score: 0.96776, val score: 0.89949, in 0.104s\n",
      "[228/1000] 1 tree, 44 leaves, max depth = 17, train score: 0.96792, val score: 0.89968, in 0.104s\n",
      "[229/1000] 1 tree, 44 leaves, max depth = 12, train score: 0.96808, val score: 0.89969, in 0.105s\n",
      "[230/1000] 1 tree, 44 leaves, max depth = 12, train score: 0.96816, val score: 0.89975, in 0.104s\n",
      "[231/1000] 1 tree, 44 leaves, max depth = 17, train score: 0.96822, val score: 0.89986, in 0.114s\n",
      "[232/1000] 1 tree, 44 leaves, max depth = 12, train score: 0.96864, val score: 0.89999, in 0.123s\n",
      "[233/1000] 1 tree, 44 leaves, max depth = 13, train score: 0.96879, val score: 0.89999, in 0.109s\n",
      "[234/1000] 1 tree, 44 leaves, max depth = 15, train score: 0.96898, val score: 0.90007, in 0.107s\n",
      "[235/1000] 1 tree, 44 leaves, max depth = 10, train score: 0.96906, val score: 0.90015, in 0.125s\n",
      "[236/1000] 1 tree, 44 leaves, max depth = 14, train score: 0.96934, val score: 0.90002, in 0.124s\n",
      "[237/1000] 1 tree, 44 leaves, max depth = 14, train score: 0.96962, val score: 0.90015, in 0.115s\n",
      "[238/1000] 1 tree, 44 leaves, max depth = 11, train score: 0.96974, val score: 0.90023, in 0.111s\n",
      "[239/1000] 1 tree, 44 leaves, max depth = 17, train score: 0.96977, val score: 0.90040, in 0.167s\n",
      "[240/1000] 1 tree, 44 leaves, max depth = 12, train score: 0.96996, val score: 0.90060, in 0.112s\n",
      "[241/1000] 1 tree, 44 leaves, max depth = 14, train score: 0.97016, val score: 0.90060, in 0.127s\n",
      "[242/1000] 1 tree, 44 leaves, max depth = 15, train score: 0.97030, val score: 0.90087, in 0.111s\n",
      "[243/1000] 1 tree, 44 leaves, max depth = 12, train score: 0.97067, val score: 0.90098, in 0.156s\n",
      "[244/1000] 1 tree, 44 leaves, max depth = 14, train score: 0.97088, val score: 0.90113, in 0.129s\n",
      "[245/1000] 1 tree, 44 leaves, max depth = 10, train score: 0.97100, val score: 0.90110, in 0.138s\n",
      "[246/1000] 1 tree, 44 leaves, max depth = 16, train score: 0.97128, val score: 0.90103, in 0.141s\n",
      "[247/1000] 1 tree, 44 leaves, max depth = 19, train score: 0.97143, val score: 0.90100, in 0.147s\n",
      "[248/1000] 1 tree, 44 leaves, max depth = 18, train score: 0.97154, val score: 0.90139, in 0.146s\n",
      "[249/1000] 1 tree, 44 leaves, max depth = 13, train score: 0.97169, val score: 0.90151, in 0.126s\n",
      "[250/1000] 1 tree, 44 leaves, max depth = 11, train score: 0.97181, val score: 0.90157, in 0.117s\n",
      "[251/1000] 1 tree, 44 leaves, max depth = 19, train score: 0.97189, val score: 0.90172, in 0.180s\n"
     ]
    },
    {
     "name": "stdout",
     "output_type": "stream",
     "text": [
      "[252/1000] 1 tree, 44 leaves, max depth = 12, train score: 0.97205, val score: 0.90193, in 0.132s\n",
      "[253/1000] 1 tree, 44 leaves, max depth = 12, train score: 0.97217, val score: 0.90204, in 0.124s\n",
      "[254/1000] 1 tree, 44 leaves, max depth = 15, train score: 0.97223, val score: 0.90219, in 0.130s\n",
      "[255/1000] 1 tree, 44 leaves, max depth = 10, train score: 0.97230, val score: 0.90210, in 0.132s\n",
      "[256/1000] 1 tree, 44 leaves, max depth = 17, train score: 0.97251, val score: 0.90237, in 0.113s\n",
      "[257/1000] 1 tree, 44 leaves, max depth = 17, train score: 0.97260, val score: 0.90257, in 0.129s\n",
      "[258/1000] 1 tree, 44 leaves, max depth = 15, train score: 0.97271, val score: 0.90271, in 0.133s\n",
      "[259/1000] 1 tree, 44 leaves, max depth = 12, train score: 0.97284, val score: 0.90277, in 0.147s\n",
      "[260/1000] 1 tree, 44 leaves, max depth = 10, train score: 0.97300, val score: 0.90276, in 0.142s\n",
      "[261/1000] 1 tree, 44 leaves, max depth = 14, train score: 0.97324, val score: 0.90265, in 0.133s\n",
      "[262/1000] 1 tree, 44 leaves, max depth = 18, train score: 0.97341, val score: 0.90302, in 0.119s\n",
      "[263/1000] 1 tree, 44 leaves, max depth = 12, train score: 0.97350, val score: 0.90315, in 0.178s\n",
      "[264/1000] 1 tree, 44 leaves, max depth = 20, train score: 0.97354, val score: 0.90330, in 0.109s\n",
      "[265/1000] 1 tree, 44 leaves, max depth = 14, train score: 0.97370, val score: 0.90346, in 0.126s\n",
      "[266/1000] 1 tree, 44 leaves, max depth = 14, train score: 0.97389, val score: 0.90366, in 0.113s\n",
      "[267/1000] 1 tree, 44 leaves, max depth = 15, train score: 0.97393, val score: 0.90365, in 0.116s\n",
      "[268/1000] 1 tree, 44 leaves, max depth = 11, train score: 0.97406, val score: 0.90367, in 0.115s\n",
      "[269/1000] 1 tree, 44 leaves, max depth = 18, train score: 0.97425, val score: 0.90377, in 0.127s\n",
      "[270/1000] 1 tree, 44 leaves, max depth = 14, train score: 0.97438, val score: 0.90370, in 0.122s\n",
      "[271/1000] 1 tree, 44 leaves, max depth = 13, train score: 0.97451, val score: 0.90398, in 0.117s\n",
      "[272/1000] 1 tree, 44 leaves, max depth = 12, train score: 0.97472, val score: 0.90411, in 0.135s\n",
      "[273/1000] 1 tree, 44 leaves, max depth = 11, train score: 0.97485, val score: 0.90416, in 0.172s\n",
      "[274/1000] 1 tree, 44 leaves, max depth = 11, train score: 0.97488, val score: 0.90430, in 0.125s\n",
      "[275/1000] 1 tree, 44 leaves, max depth = 14, train score: 0.97503, val score: 0.90454, in 0.128s\n",
      "[276/1000] 1 tree, 44 leaves, max depth = 17, train score: 0.97520, val score: 0.90452, in 0.200s\n",
      "[277/1000] 1 tree, 44 leaves, max depth = 16, train score: 0.97530, val score: 0.90472, in 0.123s\n",
      "[278/1000] 1 tree, 44 leaves, max depth = 14, train score: 0.97539, val score: 0.90490, in 0.118s\n",
      "[279/1000] 1 tree, 44 leaves, max depth = 10, train score: 0.97569, val score: 0.90509, in 0.140s\n",
      "[280/1000] 1 tree, 44 leaves, max depth = 15, train score: 0.97577, val score: 0.90496, in 0.120s\n",
      "[281/1000] 1 tree, 44 leaves, max depth = 11, train score: 0.97604, val score: 0.90504, in 0.139s\n",
      "[282/1000] 1 tree, 44 leaves, max depth = 14, train score: 0.97610, val score: 0.90510, in 0.158s\n",
      "[283/1000] 1 tree, 44 leaves, max depth = 11, train score: 0.97631, val score: 0.90519, in 0.144s\n",
      "[284/1000] 1 tree, 44 leaves, max depth = 12, train score: 0.97639, val score: 0.90530, in 0.140s\n",
      "[285/1000] 1 tree, 44 leaves, max depth = 10, train score: 0.97658, val score: 0.90553, in 0.124s\n",
      "[286/1000] 1 tree, 44 leaves, max depth = 19, train score: 0.97668, val score: 0.90561, in 0.143s\n",
      "[287/1000] 1 tree, 44 leaves, max depth = 12, train score: 0.97683, val score: 0.90570, in 0.139s\n",
      "[288/1000] 1 tree, 44 leaves, max depth = 9, train score: 0.97696, val score: 0.90588, in 0.199s\n",
      "[289/1000] 1 tree, 44 leaves, max depth = 14, train score: 0.97705, val score: 0.90607, in 0.142s\n",
      "[290/1000] 1 tree, 44 leaves, max depth = 12, train score: 0.97711, val score: 0.90604, in 0.153s\n",
      "[291/1000] 1 tree, 44 leaves, max depth = 15, train score: 0.97713, val score: 0.90612, in 0.142s\n",
      "[292/1000] 1 tree, 44 leaves, max depth = 11, train score: 0.97718, val score: 0.90599, in 0.201s\n",
      "[293/1000] 1 tree, 44 leaves, max depth = 11, train score: 0.97734, val score: 0.90607, in 0.150s\n",
      "[294/1000] 1 tree, 44 leaves, max depth = 15, train score: 0.97749, val score: 0.90624, in 0.182s\n",
      "[295/1000] 1 tree, 44 leaves, max depth = 11, train score: 0.97770, val score: 0.90634, in 0.164s\n",
      "[296/1000] 1 tree, 44 leaves, max depth = 13, train score: 0.97776, val score: 0.90643, in 0.128s\n",
      "[297/1000] 1 tree, 44 leaves, max depth = 17, train score: 0.97784, val score: 0.90662, in 0.124s\n",
      "[298/1000] 1 tree, 44 leaves, max depth = 14, train score: 0.97810, val score: 0.90653, in 0.127s\n",
      "[299/1000] 1 tree, 44 leaves, max depth = 10, train score: 0.97825, val score: 0.90664, in 0.152s\n",
      "[300/1000] 1 tree, 44 leaves, max depth = 11, train score: 0.97829, val score: 0.90673, in 0.150s\n",
      "[301/1000] 1 tree, 44 leaves, max depth = 15, train score: 0.97831, val score: 0.90674, in 0.217s\n",
      "[302/1000] 1 tree, 44 leaves, max depth = 16, train score: 0.97845, val score: 0.90665, in 0.130s\n",
      "[303/1000] 1 tree, 44 leaves, max depth = 20, train score: 0.97850, val score: 0.90671, in 0.163s\n",
      "[304/1000] 1 tree, 44 leaves, max depth = 14, train score: 0.97856, val score: 0.90683, in 0.146s\n",
      "[305/1000] 1 tree, 44 leaves, max depth = 13, train score: 0.97865, val score: 0.90679, in 0.132s\n",
      "[306/1000] 1 tree, 44 leaves, max depth = 11, train score: 0.97879, val score: 0.90686, in 0.146s\n",
      "[307/1000] 1 tree, 44 leaves, max depth = 12, train score: 0.97885, val score: 0.90696, in 0.148s\n",
      "[308/1000] 1 tree, 44 leaves, max depth = 11, train score: 0.97893, val score: 0.90690, in 0.127s\n",
      "[309/1000] 1 tree, 44 leaves, max depth = 13, train score: 0.97895, val score: 0.90700, in 0.129s\n",
      "[310/1000] 1 tree, 44 leaves, max depth = 14, train score: 0.97900, val score: 0.90690, in 0.148s\n",
      "[311/1000] 1 tree, 44 leaves, max depth = 16, train score: 0.97908, val score: 0.90698, in 0.153s\n",
      "[312/1000] 1 tree, 44 leaves, max depth = 15, train score: 0.97920, val score: 0.90722, in 0.143s\n",
      "[313/1000] 1 tree, 44 leaves, max depth = 13, train score: 0.97933, val score: 0.90726, in 0.203s\n",
      "[314/1000] 1 tree, 44 leaves, max depth = 10, train score: 0.97951, val score: 0.90736, in 0.128s\n",
      "[315/1000] 1 tree, 44 leaves, max depth = 18, train score: 0.97965, val score: 0.90760, in 0.133s\n",
      "[316/1000] 1 tree, 44 leaves, max depth = 14, train score: 0.97975, val score: 0.90787, in 0.146s\n",
      "[317/1000] 1 tree, 44 leaves, max depth = 14, train score: 0.97988, val score: 0.90807, in 0.135s\n",
      "[318/1000] 1 tree, 44 leaves, max depth = 17, train score: 0.97990, val score: 0.90814, in 0.138s\n",
      "[319/1000] 1 tree, 44 leaves, max depth = 20, train score: 0.98002, val score: 0.90818, in 0.147s\n",
      "[320/1000] 1 tree, 44 leaves, max depth = 11, train score: 0.98013, val score: 0.90818, in 0.242s\n",
      "[321/1000] 1 tree, 44 leaves, max depth = 10, train score: 0.98023, val score: 0.90817, in 0.145s\n",
      "[322/1000] 1 tree, 44 leaves, max depth = 11, train score: 0.98027, val score: 0.90814, in 0.135s\n",
      "[323/1000] 1 tree, 44 leaves, max depth = 15, train score: 0.98029, val score: 0.90813, in 0.231s\n",
      "[324/1000] 1 tree, 44 leaves, max depth = 10, train score: 0.98041, val score: 0.90812, in 0.257s\n",
      "[325/1000] 1 tree, 44 leaves, max depth = 18, train score: 0.98051, val score: 0.90819, in 0.202s\n",
      "[326/1000] 1 tree, 44 leaves, max depth = 11, train score: 0.98057, val score: 0.90828, in 0.314s\n",
      "[327/1000] 1 tree, 44 leaves, max depth = 17, train score: 0.98064, val score: 0.90838, in 0.238s\n",
      "[328/1000] 1 tree, 44 leaves, max depth = 15, train score: 0.98074, val score: 0.90831, in 0.219s\n",
      "[329/1000] 1 tree, 44 leaves, max depth = 14, train score: 0.98086, val score: 0.90825, in 0.248s\n",
      "[330/1000] 1 tree, 44 leaves, max depth = 13, train score: 0.98097, val score: 0.90836, in 0.261s\n",
      "[331/1000] 1 tree, 44 leaves, max depth = 14, train score: 0.98107, val score: 0.90835, in 0.224s\n",
      "[332/1000] 1 tree, 44 leaves, max depth = 11, train score: 0.98113, val score: 0.90834, in 0.248s\n",
      "[333/1000] 1 tree, 44 leaves, max depth = 15, train score: 0.98126, val score: 0.90852, in 0.185s\n",
      "[334/1000] 1 tree, 44 leaves, max depth = 10, train score: 0.98132, val score: 0.90870, in 0.178s\n",
      "[335/1000] 1 tree, 44 leaves, max depth = 14, train score: 0.98135, val score: 0.90882, in 0.155s\n"
     ]
    },
    {
     "name": "stdout",
     "output_type": "stream",
     "text": [
      "[336/1000] 1 tree, 44 leaves, max depth = 13, train score: 0.98139, val score: 0.90867, in 0.190s\n",
      "[337/1000] 1 tree, 44 leaves, max depth = 15, train score: 0.98145, val score: 0.90875, in 0.158s\n",
      "[338/1000] 1 tree, 44 leaves, max depth = 13, train score: 0.98155, val score: 0.90877, in 0.295s\n",
      "[339/1000] 1 tree, 44 leaves, max depth = 15, train score: 0.98161, val score: 0.90901, in 0.219s\n",
      "[340/1000] 1 tree, 44 leaves, max depth = 12, train score: 0.98163, val score: 0.90904, in 0.152s\n",
      "[341/1000] 1 tree, 44 leaves, max depth = 11, train score: 0.98172, val score: 0.90914, in 0.205s\n",
      "[342/1000] 1 tree, 44 leaves, max depth = 14, train score: 0.98180, val score: 0.90921, in 0.250s\n",
      "[343/1000] 1 tree, 44 leaves, max depth = 11, train score: 0.98187, val score: 0.90927, in 0.197s\n",
      "[344/1000] 1 tree, 44 leaves, max depth = 12, train score: 0.98190, val score: 0.90934, in 0.150s\n",
      "[345/1000] 1 tree, 44 leaves, max depth = 18, train score: 0.98194, val score: 0.90940, in 0.151s\n",
      "[346/1000] 1 tree, 44 leaves, max depth = 13, train score: 0.98200, val score: 0.90938, in 0.156s\n",
      "[347/1000] 1 tree, 44 leaves, max depth = 17, train score: 0.98204, val score: 0.90956, in 0.250s\n",
      "[348/1000] 1 tree, 44 leaves, max depth = 13, train score: 0.98207, val score: 0.90956, in 0.255s\n",
      "[349/1000] 1 tree, 44 leaves, max depth = 15, train score: 0.98217, val score: 0.90950, in 0.189s\n",
      "[350/1000] 1 tree, 44 leaves, max depth = 14, train score: 0.98228, val score: 0.90957, in 0.176s\n",
      "[351/1000] 1 tree, 44 leaves, max depth = 12, train score: 0.98231, val score: 0.90961, in 0.275s\n",
      "[352/1000] 1 tree, 44 leaves, max depth = 13, train score: 0.98238, val score: 0.90966, in 0.409s\n",
      "[353/1000] 1 tree, 44 leaves, max depth = 15, train score: 0.98249, val score: 0.90971, in 0.212s\n",
      "[354/1000] 1 tree, 44 leaves, max depth = 14, train score: 0.98255, val score: 0.90967, in 0.158s\n",
      "[355/1000] 1 tree, 44 leaves, max depth = 11, train score: 0.98260, val score: 0.90961, in 0.175s\n",
      "[356/1000] 1 tree, 44 leaves, max depth = 15, train score: 0.98265, val score: 0.90971, in 0.247s\n",
      "[357/1000] 1 tree, 44 leaves, max depth = 12, train score: 0.98271, val score: 0.90971, in 0.172s\n",
      "[358/1000] 1 tree, 44 leaves, max depth = 15, train score: 0.98274, val score: 0.90968, in 0.202s\n",
      "[359/1000] 1 tree, 44 leaves, max depth = 14, train score: 0.98276, val score: 0.90975, in 0.162s\n",
      "[360/1000] 1 tree, 44 leaves, max depth = 11, train score: 0.98282, val score: 0.90972, in 0.322s\n",
      "[361/1000] 1 tree, 44 leaves, max depth = 12, train score: 0.98291, val score: 0.90975, in 0.306s\n",
      "[362/1000] 1 tree, 44 leaves, max depth = 15, train score: 0.98300, val score: 0.90974, in 0.238s\n",
      "[363/1000] 1 tree, 44 leaves, max depth = 14, train score: 0.98317, val score: 0.90988, in 0.173s\n",
      "[364/1000] 1 tree, 44 leaves, max depth = 12, train score: 0.98330, val score: 0.90983, in 0.384s\n",
      "[365/1000] 1 tree, 44 leaves, max depth = 12, train score: 0.98333, val score: 0.90981, in 0.288s\n",
      "[366/1000] 1 tree, 44 leaves, max depth = 12, train score: 0.98349, val score: 0.90981, in 0.221s\n",
      "[367/1000] 1 tree, 44 leaves, max depth = 17, train score: 0.98358, val score: 0.90971, in 0.210s\n",
      "[368/1000] 1 tree, 44 leaves, max depth = 11, train score: 0.98372, val score: 0.90958, in 0.244s\n",
      "[369/1000] 1 tree, 44 leaves, max depth = 14, train score: 0.98384, val score: 0.90974, in 0.182s\n",
      "[370/1000] 1 tree, 44 leaves, max depth = 15, train score: 0.98386, val score: 0.90968, in 0.170s\n",
      "[371/1000] 1 tree, 44 leaves, max depth = 14, train score: 0.98397, val score: 0.90976, in 0.199s\n",
      "[372/1000] 1 tree, 44 leaves, max depth = 15, train score: 0.98401, val score: 0.90966, in 0.186s\n",
      "[373/1000] 1 tree, 44 leaves, max depth = 11, train score: 0.98406, val score: 0.90956, in 0.170s\n",
      "Fit 373 trees in 45.612 s, (16412 total leaves)\n",
      "Time spent computing histograms: 12.998s\n",
      "Time spent finding best splits:  3.359s\n",
      "Time spent applying splits:      4.097s\n",
      "Time spent predicting:           0.061s\n",
      "CPU times: user 4min 45s, sys: 41 s, total: 5min 26s\n",
      "Wall time: 46.1 s\n"
     ]
    },
    {
     "data": {
      "text/plain": [
       "(0.9795618885673211, 0.865225601216363)"
      ]
     },
     "execution_count": 45,
     "metadata": {},
     "output_type": "execute_result"
    }
   ],
   "source": [
    "%%time\n",
    "clf = HistGradientBoostingClassifier(loss='binary_crossentropy', verbose=1, l2_regularization=2.4,\n",
    "                             learning_rate=0.03, max_depth=27, max_iter=1000, max_leaf_nodes=44,\n",
    "                             min_samples_leaf=8,  scoring='roc_auc', tol=1e-8)\n",
    "clf.fit(xs, y)\n",
    "m_roc(y, xs), m_roc(valid_y, valid_xs)"
   ]
  },
  {
   "cell_type": "markdown",
   "metadata": {},
   "source": [
    "#### Including the V*** columns"
   ]
  },
  {
   "cell_type": "markdown",
   "metadata": {},
   "source": [
    "Normalized data helped this model. "
   ]
  },
  {
   "cell_type": "code",
   "execution_count": 15,
   "metadata": {},
   "outputs": [],
   "source": [
    "to = (path/'to_nn_full.pkl').load()\n",
    "\n",
    "xs, y             = to.train.xs, to.train.y\n",
    "valid_xs, valid_y = to.valid.xs, to.valid.y"
   ]
  },
  {
   "cell_type": "code",
   "execution_count": 16,
   "metadata": {},
   "outputs": [],
   "source": [
    "cats = ['ProductCD', 'card1', 'card2', 'card3', 'card4', 'card5', 'card6', \n",
    "       'addr1', 'addr2', 'P_emaildomain', 'R_emaildomain', 'M1', 'M2', 'M3', \n",
    "       'M4', 'M5', 'M6', 'M7', 'M8', 'M9', 'DeviceType', 'DeviceInfo', 'id_12', \n",
    "       'id_13', 'id_14', 'id_15', 'id_16', 'id_17', 'id_18', 'id_19', 'id_20', \n",
    "       'id_21', 'id_22', 'id_23', 'id_24', 'id_25', 'id_26', 'id_27', 'id_28', \n",
    "       'id_29', 'id_30', 'id_31', 'id_32', 'id_33', 'id_34', 'id_35', 'id_36',\n",
    "       'id_37', 'id_38']\n",
    "\n",
    "for cat in cats:\n",
    "    to[cat] = to[cat].astype('category')"
   ]
  },
  {
   "cell_type": "code",
   "execution_count": 17,
   "metadata": {
    "scrolled": false
   },
   "outputs": [
    {
     "name": "stdout",
     "output_type": "stream",
     "text": [
      "Binning 0.242 GB of training data: 1.220 s\n",
      "Binning 0.027 GB of validation data: 0.043 s\n",
      "Fitting gradient boosted rounds:\n",
      "[1/1000] 1 tree, 44 leaves, max depth = 10, train score: 0.85319, val score: 0.83631, in 0.171s\n",
      "[2/1000] 1 tree, 44 leaves, max depth = 11, train score: 0.87135, val score: 0.85190, in 0.172s\n",
      "[3/1000] 1 tree, 44 leaves, max depth = 12, train score: 0.87432, val score: 0.85400, in 0.178s\n",
      "[4/1000] 1 tree, 44 leaves, max depth = 12, train score: 0.87636, val score: 0.85526, in 0.181s\n",
      "[5/1000] 1 tree, 44 leaves, max depth = 12, train score: 0.87834, val score: 0.85747, in 0.185s\n",
      "[6/1000] 1 tree, 44 leaves, max depth = 10, train score: 0.88077, val score: 0.86165, in 0.189s\n",
      "[7/1000] 1 tree, 44 leaves, max depth = 11, train score: 0.88131, val score: 0.86212, in 0.189s\n",
      "[8/1000] 1 tree, 44 leaves, max depth = 12, train score: 0.88220, val score: 0.86338, in 0.242s\n",
      "[9/1000] 1 tree, 44 leaves, max depth = 9, train score: 0.88310, val score: 0.86382, in 0.391s\n",
      "[10/1000] 1 tree, 44 leaves, max depth = 11, train score: 0.88376, val score: 0.86565, in 0.355s\n",
      "[11/1000] 1 tree, 44 leaves, max depth = 11, train score: 0.88609, val score: 0.86552, in 0.384s\n",
      "[12/1000] 1 tree, 44 leaves, max depth = 11, train score: 0.88632, val score: 0.86650, in 0.267s\n",
      "[13/1000] 1 tree, 44 leaves, max depth = 11, train score: 0.88747, val score: 0.86868, in 0.613s\n",
      "[14/1000] 1 tree, 44 leaves, max depth = 11, train score: 0.88773, val score: 0.86965, in 0.206s\n",
      "[15/1000] 1 tree, 44 leaves, max depth = 10, train score: 0.88758, val score: 0.86852, in 0.231s\n",
      "[16/1000] 1 tree, 44 leaves, max depth = 12, train score: 0.88859, val score: 0.86847, in 0.270s\n",
      "[17/1000] 1 tree, 44 leaves, max depth = 10, train score: 0.88839, val score: 0.86822, in 0.242s\n",
      "[18/1000] 1 tree, 44 leaves, max depth = 11, train score: 0.88954, val score: 0.86966, in 0.225s\n",
      "[19/1000] 1 tree, 44 leaves, max depth = 11, train score: 0.88997, val score: 0.87165, in 0.239s\n",
      "[20/1000] 1 tree, 44 leaves, max depth = 12, train score: 0.89105, val score: 0.87245, in 0.284s\n",
      "[21/1000] 1 tree, 44 leaves, max depth = 12, train score: 0.89090, val score: 0.87490, in 0.428s\n",
      "[22/1000] 1 tree, 44 leaves, max depth = 11, train score: 0.89167, val score: 0.87497, in 0.445s\n",
      "[23/1000] 1 tree, 44 leaves, max depth = 12, train score: 0.89260, val score: 0.87519, in 0.427s\n",
      "[24/1000] 1 tree, 44 leaves, max depth = 9, train score: 0.89308, val score: 0.87649, in 0.420s\n",
      "[25/1000] 1 tree, 44 leaves, max depth = 13, train score: 0.89354, val score: 0.87649, in 0.787s\n",
      "[26/1000] 1 tree, 44 leaves, max depth = 11, train score: 0.89426, val score: 0.87701, in 0.232s\n",
      "[27/1000] 1 tree, 44 leaves, max depth = 9, train score: 0.89608, val score: 0.87715, in 0.234s\n",
      "[28/1000] 1 tree, 44 leaves, max depth = 13, train score: 0.89661, val score: 0.87753, in 0.249s\n",
      "[29/1000] 1 tree, 44 leaves, max depth = 9, train score: 0.89756, val score: 0.87760, in 0.253s\n",
      "[30/1000] 1 tree, 44 leaves, max depth = 9, train score: 0.89866, val score: 0.87803, in 0.285s\n",
      "[31/1000] 1 tree, 44 leaves, max depth = 13, train score: 0.89959, val score: 0.87788, in 0.274s\n",
      "[32/1000] 1 tree, 44 leaves, max depth = 9, train score: 0.89974, val score: 0.87784, in 0.261s\n",
      "[33/1000] 1 tree, 44 leaves, max depth = 9, train score: 0.90075, val score: 0.87811, in 0.341s\n",
      "[34/1000] 1 tree, 44 leaves, max depth = 12, train score: 0.90126, val score: 0.87778, in 0.509s\n",
      "[35/1000] 1 tree, 44 leaves, max depth = 9, train score: 0.90192, val score: 0.87793, in 0.432s\n",
      "[36/1000] 1 tree, 44 leaves, max depth = 10, train score: 0.90222, val score: 0.87833, in 0.413s\n",
      "[37/1000] 1 tree, 44 leaves, max depth = 10, train score: 0.90248, val score: 0.87811, in 0.449s\n",
      "[38/1000] 1 tree, 44 leaves, max depth = 11, train score: 0.90290, val score: 0.87847, in 0.620s\n",
      "[39/1000] 1 tree, 44 leaves, max depth = 11, train score: 0.90344, val score: 0.87865, in 0.270s\n",
      "[40/1000] 1 tree, 44 leaves, max depth = 11, train score: 0.90487, val score: 0.87971, in 0.326s\n",
      "[41/1000] 1 tree, 44 leaves, max depth = 12, train score: 0.90538, val score: 0.87979, in 0.379s\n",
      "[42/1000] 1 tree, 44 leaves, max depth = 11, train score: 0.90586, val score: 0.87989, in 0.341s\n",
      "[43/1000] 1 tree, 44 leaves, max depth = 11, train score: 0.90609, val score: 0.87994, in 0.312s\n",
      "[44/1000] 1 tree, 44 leaves, max depth = 11, train score: 0.90657, val score: 0.88010, in 0.268s\n",
      "[45/1000] 1 tree, 44 leaves, max depth = 11, train score: 0.90684, val score: 0.87999, in 0.251s\n",
      "[46/1000] 1 tree, 44 leaves, max depth = 11, train score: 0.90725, val score: 0.88024, in 0.361s\n",
      "[47/1000] 1 tree, 44 leaves, max depth = 13, train score: 0.90892, val score: 0.88091, in 0.546s\n",
      "[48/1000] 1 tree, 44 leaves, max depth = 13, train score: 0.90976, val score: 0.88129, in 0.452s\n",
      "[49/1000] 1 tree, 44 leaves, max depth = 15, train score: 0.91010, val score: 0.88119, in 0.438s\n",
      "[50/1000] 1 tree, 44 leaves, max depth = 16, train score: 0.91072, val score: 0.88103, in 0.749s\n",
      "[51/1000] 1 tree, 44 leaves, max depth = 13, train score: 0.91166, val score: 0.88149, in 0.249s\n",
      "[52/1000] 1 tree, 44 leaves, max depth = 13, train score: 0.91224, val score: 0.88199, in 0.294s\n",
      "[53/1000] 1 tree, 44 leaves, max depth = 14, train score: 0.91291, val score: 0.88211, in 0.261s\n",
      "[54/1000] 1 tree, 44 leaves, max depth = 15, train score: 0.91365, val score: 0.88316, in 0.259s\n",
      "[55/1000] 1 tree, 44 leaves, max depth = 15, train score: 0.91394, val score: 0.88331, in 0.258s\n",
      "[56/1000] 1 tree, 44 leaves, max depth = 15, train score: 0.91424, val score: 0.88323, in 0.273s\n",
      "[57/1000] 1 tree, 44 leaves, max depth = 14, train score: 0.91440, val score: 0.88367, in 0.301s\n",
      "[58/1000] 1 tree, 44 leaves, max depth = 14, train score: 0.91461, val score: 0.88414, in 0.272s\n",
      "[59/1000] 1 tree, 44 leaves, max depth = 14, train score: 0.91514, val score: 0.88456, in 0.591s\n",
      "[60/1000] 1 tree, 44 leaves, max depth = 13, train score: 0.91559, val score: 0.88473, in 0.538s\n",
      "[61/1000] 1 tree, 44 leaves, max depth = 14, train score: 0.91647, val score: 0.88459, in 0.500s\n",
      "[62/1000] 1 tree, 44 leaves, max depth = 10, train score: 0.91696, val score: 0.88540, in 0.915s\n",
      "[63/1000] 1 tree, 44 leaves, max depth = 16, train score: 0.91784, val score: 0.88609, in 0.251s\n",
      "[64/1000] 1 tree, 44 leaves, max depth = 14, train score: 0.91804, val score: 0.88635, in 0.299s\n",
      "[65/1000] 1 tree, 44 leaves, max depth = 13, train score: 0.91865, val score: 0.88685, in 0.270s\n",
      "[66/1000] 1 tree, 44 leaves, max depth = 14, train score: 0.91975, val score: 0.88764, in 0.294s\n",
      "[67/1000] 1 tree, 44 leaves, max depth = 17, train score: 0.92079, val score: 0.88766, in 0.262s\n",
      "[68/1000] 1 tree, 44 leaves, max depth = 14, train score: 0.92135, val score: 0.88779, in 0.290s\n",
      "[69/1000] 1 tree, 44 leaves, max depth = 15, train score: 0.92172, val score: 0.88821, in 0.281s\n",
      "[70/1000] 1 tree, 44 leaves, max depth = 13, train score: 0.92226, val score: 0.88827, in 0.290s\n",
      "[71/1000] 1 tree, 44 leaves, max depth = 15, train score: 0.92270, val score: 0.88868, in 0.390s\n",
      "[72/1000] 1 tree, 44 leaves, max depth = 15, train score: 0.92332, val score: 0.88966, in 0.561s\n",
      "[73/1000] 1 tree, 44 leaves, max depth = 14, train score: 0.92367, val score: 0.89017, in 0.499s\n",
      "[74/1000] 1 tree, 44 leaves, max depth = 13, train score: 0.92388, val score: 0.89070, in 0.526s\n",
      "[75/1000] 1 tree, 44 leaves, max depth = 13, train score: 0.92440, val score: 0.89101, in 0.808s\n",
      "[76/1000] 1 tree, 44 leaves, max depth = 14, train score: 0.92465, val score: 0.89146, in 0.307s\n",
      "[77/1000] 1 tree, 44 leaves, max depth = 12, train score: 0.92504, val score: 0.89135, in 0.287s\n",
      "[78/1000] 1 tree, 44 leaves, max depth = 12, train score: 0.92522, val score: 0.89160, in 0.314s\n",
      "[79/1000] 1 tree, 44 leaves, max depth = 18, train score: 0.92601, val score: 0.89172, in 0.378s\n",
      "[80/1000] 1 tree, 44 leaves, max depth = 13, train score: 0.92631, val score: 0.89198, in 0.324s\n",
      "[81/1000] 1 tree, 44 leaves, max depth = 12, train score: 0.92692, val score: 0.89219, in 0.333s\n",
      "[82/1000] 1 tree, 44 leaves, max depth = 13, train score: 0.92750, val score: 0.89192, in 0.322s\n",
      "[83/1000] 1 tree, 44 leaves, max depth = 15, train score: 0.92800, val score: 0.89225, in 0.551s\n",
      "[84/1000] 1 tree, 44 leaves, max depth = 15, train score: 0.92844, val score: 0.89213, in 0.563s\n"
     ]
    },
    {
     "name": "stdout",
     "output_type": "stream",
     "text": [
      "[85/1000] 1 tree, 44 leaves, max depth = 15, train score: 0.92933, val score: 0.89229, in 0.538s\n",
      "[86/1000] 1 tree, 44 leaves, max depth = 14, train score: 0.92998, val score: 0.89222, in 0.552s\n",
      "[87/1000] 1 tree, 44 leaves, max depth = 15, train score: 0.93055, val score: 0.89241, in 0.893s\n",
      "[88/1000] 1 tree, 44 leaves, max depth = 12, train score: 0.93083, val score: 0.89268, in 0.300s\n",
      "[89/1000] 1 tree, 44 leaves, max depth = 15, train score: 0.93104, val score: 0.89271, in 0.329s\n",
      "[90/1000] 1 tree, 44 leaves, max depth = 17, train score: 0.93151, val score: 0.89299, in 0.307s\n",
      "[91/1000] 1 tree, 44 leaves, max depth = 18, train score: 0.93188, val score: 0.89320, in 0.297s\n",
      "[92/1000] 1 tree, 44 leaves, max depth = 13, train score: 0.93255, val score: 0.89318, in 0.309s\n",
      "[93/1000] 1 tree, 44 leaves, max depth = 19, train score: 0.93322, val score: 0.89329, in 0.366s\n",
      "[94/1000] 1 tree, 44 leaves, max depth = 13, train score: 0.93374, val score: 0.89327, in 0.495s\n",
      "[95/1000] 1 tree, 44 leaves, max depth = 20, train score: 0.93431, val score: 0.89342, in 0.408s\n",
      "[96/1000] 1 tree, 44 leaves, max depth = 12, train score: 0.93475, val score: 0.89343, in 0.509s\n",
      "[97/1000] 1 tree, 44 leaves, max depth = 18, train score: 0.93534, val score: 0.89376, in 0.597s\n",
      "[98/1000] 1 tree, 44 leaves, max depth = 21, train score: 0.93571, val score: 0.89430, in 0.559s\n",
      "[99/1000] 1 tree, 44 leaves, max depth = 18, train score: 0.93616, val score: 0.89406, in 0.553s\n",
      "[100/1000] 1 tree, 44 leaves, max depth = 15, train score: 0.93660, val score: 0.89407, in 0.843s\n",
      "[101/1000] 1 tree, 44 leaves, max depth = 17, train score: 0.93711, val score: 0.89378, in 0.314s\n",
      "[102/1000] 1 tree, 44 leaves, max depth = 20, train score: 0.93752, val score: 0.89395, in 0.328s\n",
      "[103/1000] 1 tree, 44 leaves, max depth = 12, train score: 0.93784, val score: 0.89409, in 0.345s\n",
      "[104/1000] 1 tree, 44 leaves, max depth = 16, train score: 0.93814, val score: 0.89433, in 0.335s\n",
      "[105/1000] 1 tree, 44 leaves, max depth = 17, train score: 0.93854, val score: 0.89450, in 0.342s\n",
      "[106/1000] 1 tree, 44 leaves, max depth = 14, train score: 0.93889, val score: 0.89487, in 0.319s\n",
      "[107/1000] 1 tree, 44 leaves, max depth = 20, train score: 0.93926, val score: 0.89476, in 0.316s\n",
      "[108/1000] 1 tree, 44 leaves, max depth = 18, train score: 0.94009, val score: 0.89510, in 0.452s\n",
      "[109/1000] 1 tree, 44 leaves, max depth = 17, train score: 0.94047, val score: 0.89493, in 0.541s\n",
      "[110/1000] 1 tree, 44 leaves, max depth = 14, train score: 0.94104, val score: 0.89485, in 0.555s\n",
      "[111/1000] 1 tree, 44 leaves, max depth = 17, train score: 0.94147, val score: 0.89528, in 0.563s\n",
      "[112/1000] 1 tree, 44 leaves, max depth = 15, train score: 0.94184, val score: 0.89532, in 0.948s\n",
      "[113/1000] 1 tree, 44 leaves, max depth = 11, train score: 0.94217, val score: 0.89524, in 0.327s\n",
      "[114/1000] 1 tree, 44 leaves, max depth = 16, train score: 0.94264, val score: 0.89512, in 0.402s\n",
      "[115/1000] 1 tree, 44 leaves, max depth = 21, train score: 0.94293, val score: 0.89516, in 0.351s\n",
      "[116/1000] 1 tree, 44 leaves, max depth = 13, train score: 0.94347, val score: 0.89510, in 0.365s\n",
      "[117/1000] 1 tree, 44 leaves, max depth = 16, train score: 0.94379, val score: 0.89506, in 0.336s\n",
      "[118/1000] 1 tree, 44 leaves, max depth = 20, train score: 0.94425, val score: 0.89482, in 0.370s\n",
      "[119/1000] 1 tree, 44 leaves, max depth = 13, train score: 0.94466, val score: 0.89477, in 0.357s\n",
      "[120/1000] 1 tree, 44 leaves, max depth = 16, train score: 0.94501, val score: 0.89479, in 0.373s\n",
      "[121/1000] 1 tree, 44 leaves, max depth = 18, train score: 0.94536, val score: 0.89483, in 0.460s\n",
      "[122/1000] 1 tree, 44 leaves, max depth = 17, train score: 0.94590, val score: 0.89485, in 0.584s\n",
      "Fit 122 trees in 49.351 s, (5368 total leaves)\n",
      "Time spent computing histograms: 28.165s\n",
      "Time spent finding best splits:  5.644s\n",
      "Time spent applying splits:      4.037s\n",
      "Time spent predicting:           0.032s\n",
      "CPU times: user 3min 26s, sys: 1min 31s, total: 4min 57s\n",
      "Wall time: 50.2 s\n"
     ]
    },
    {
     "data": {
      "text/plain": [
       "(0.945503703866909, 0.8791810505862281)"
      ]
     },
     "execution_count": 17,
     "metadata": {},
     "output_type": "execute_result"
    }
   ],
   "source": [
    "%%time\n",
    "clf = HistGradientBoostingClassifier(loss='binary_crossentropy', verbose=1, l2_regularization=2.4,\n",
    "                             learning_rate=0.03, max_depth=27, max_iter=1000, max_leaf_nodes=44,\n",
    "                             min_samples_leaf=8,  scoring='roc_auc', tol=1e-8)\n",
    "clf.fit(xs, y)\n",
    "m_roc(y, xs), m_roc(valid_y, valid_xs)"
   ]
  },
  {
   "cell_type": "markdown",
   "metadata": {},
   "source": [
    "## GradientBoostingClassifier "
   ]
  },
  {
   "cell_type": "markdown",
   "metadata": {},
   "source": [
    "HistGradientBoostingClassifier is recommended for datasets with a large number of classes. Since this is a binary classification problem, I decided to try the more established GradientBoostingClassifier class also."
   ]
  },
  {
   "cell_type": "code",
   "execution_count": 18,
   "metadata": {},
   "outputs": [],
   "source": [
    "from sklearn.ensemble import GradientBoostingClassifier "
   ]
  },
  {
   "cell_type": "code",
   "execution_count": 117,
   "metadata": {},
   "outputs": [],
   "source": [
    "GradientBoostingClassifier?"
   ]
  },
  {
   "cell_type": "code",
   "execution_count": 19,
   "metadata": {},
   "outputs": [],
   "source": [
    "# Tabular object created and saved on the 02_ notebook\n",
    "to = (path/'to_nn_full.pkl').load()\n",
    "\n",
    "xs, y = to.train.xs, to.train.y\n",
    "valid_xs, valid_y = to.valid.xs, to.valid.y"
   ]
  },
  {
   "cell_type": "markdown",
   "metadata": {
    "heading_collapsed": true
   },
   "source": [
    "### Defaults"
   ]
  },
  {
   "cell_type": "markdown",
   "metadata": {
    "hidden": true
   },
   "source": [
    "n_estimators was increased to 1000 from its default value of 100."
   ]
  },
  {
   "cell_type": "code",
   "execution_count": 61,
   "metadata": {
    "hidden": true
   },
   "outputs": [
    {
     "name": "stdout",
     "output_type": "stream",
     "text": [
      "      Iter       Train Loss   Remaining Time \n",
      "         1           0.2858            3.30m\n",
      "         2           0.2787            3.31m\n",
      "         3           0.2732            3.41m\n",
      "         4           0.2681            3.42m\n",
      "         5           0.2632            3.47m\n",
      "         6           0.2587            3.47m\n",
      "         7           0.2550            3.47m\n",
      "         8           0.2521            3.47m\n",
      "         9           0.2490            3.47m\n",
      "        10           0.2456            3.46m\n",
      "        20           0.2276            3.40m\n",
      "        30           0.2183            3.34m\n",
      "        40           0.2126            3.27m\n",
      "        50           0.2085            3.23m\n",
      "        60           0.2047            3.22m\n",
      "        70           0.2017            3.20m\n",
      "        80           0.1991            3.17m\n",
      "        90           0.1969            3.15m\n",
      "       100           0.1948            3.12m\n",
      "       200           0.1771            2.83m\n",
      "       300           0.1646            2.52m\n",
      "       400           0.1558            2.20m\n",
      "       500           0.1467            1.88m\n",
      "       600           0.1393            1.52m\n",
      "       700           0.1293            1.17m\n",
      "       800           0.1228           47.64s\n",
      "       900           0.1158           23.92s\n",
      "      1000           0.1093            0.00s\n"
     ]
    },
    {
     "data": {
      "text/plain": [
       "(0.9705755015972327, 0.8568501495478038)"
      ]
     },
     "execution_count": 61,
     "metadata": {},
     "output_type": "execute_result"
    }
   ],
   "source": [
    "clf = GradientBoostingClassifier(loss='deviance', n_estimators=1000, verbose=1)\n",
    "clf.fit(xs, y)\n",
    "m_roc(y, xs), m_roc(valid_y, valid_xs)"
   ]
  },
  {
   "cell_type": "markdown",
   "metadata": {},
   "source": [
    "### Hyperparameter Tuning"
   ]
  },
  {
   "cell_type": "code",
   "execution_count": 63,
   "metadata": {},
   "outputs": [],
   "source": [
    "parameters1 = {\n",
    "    'learning_rate': [0.01, 0.1, 0.2, 0.3],\n",
    "    'n_estimators': [40, 50, 60, 70, 1000]\n",
    "}"
   ]
  },
  {
   "cell_type": "code",
   "execution_count": 72,
   "metadata": {},
   "outputs": [],
   "source": [
    "parameters2 = {\n",
    " 'max_depth': [3, 6, 9, 12],\n",
    " 'subsample': [0.8, 0.66],\n",
    " 'min_samples_split': [2, 5, 10],\n",
    " 'max_leaf_nodes': [None, 20, 31, 40],\n",
    " 'min_samples_leaf': [1, 5],\n",
    " 'random_state': [33],\n",
    " }"
   ]
  },
  {
   "cell_type": "code",
   "execution_count": 78,
   "metadata": {},
   "outputs": [],
   "source": [
    "parameters3 = {\n",
    " 'max_depth': [8, 9, 10],\n",
    " 'subsample': [0.60, 0.66, 0.72],\n",
    " 'min_samples_split': [3, 5, 8],\n",
    " 'max_leaf_nodes': [None, 45, 50, 60],\n",
    " 'min_samples_leaf': [5, 7, 9],\n",
    " 'random_state': [33],\n",
    "}"
   ]
  },
  {
   "cell_type": "code",
   "execution_count": 81,
   "metadata": {},
   "outputs": [],
   "source": [
    "parameters4 = {\n",
    " 'max_depth': [8, 9, 10],\n",
    " 'subsample': [0.68, 0.72, 0.76],\n",
    " 'min_samples_split': [1, 2, 3],\n",
    " 'max_leaf_nodes': [50, 52, 54],\n",
    " 'min_samples_leaf': [6, 7, 8],\n",
    " 'random_state': [33],\n",
    " }"
   ]
  },
  {
   "cell_type": "code",
   "execution_count": 99,
   "metadata": {},
   "outputs": [],
   "source": [
    "parameters5 = {\n",
    "    'n_estimators': [40, 50, 60, 70, 100, 1000]\n",
    "}"
   ]
  },
  {
   "cell_type": "code",
   "execution_count": 100,
   "metadata": {},
   "outputs": [],
   "source": [
    "clf = GridSearchCV(GradientBoostingClassifier(loss='deviance', learning_rate=0.1, \n",
    "                         criterion='friedman_mse', tol=1e-8, max_features='sqrt',\n",
    "                                subsample=0.72, min_samples_split=6, \n",
    "                                max_leaf_nodes=52, max_depth=10), \n",
    "                         parameters5, \n",
    "                   scoring=make_scorer(roc_auc_score, needs_proba=True), n_jobs=-1)"
   ]
  },
  {
   "cell_type": "code",
   "execution_count": 101,
   "metadata": {},
   "outputs": [
    {
     "name": "stdout",
     "output_type": "stream",
     "text": [
      "CPU times: user 1min 12s, sys: 1.32 s, total: 1min 13s\n",
      "Wall time: 4min 14s\n"
     ]
    },
    {
     "data": {
      "text/plain": [
       "(GradientBoostingClassifier(max_depth=10, max_features='sqrt', max_leaf_nodes=52,\n",
       "                            min_samples_split=6, n_estimators=1000,\n",
       "                            subsample=0.72, tol=1e-08),\n",
       " 0.8841218032816766,\n",
       " {'n_estimators': 1000})"
      ]
     },
     "execution_count": 101,
     "metadata": {},
     "output_type": "execute_result"
    }
   ],
   "source": [
    "%%time\n",
    "clf.fit(xs, y)\n",
    "clf.best_estimator_, clf.best_score_, clf.best_params_"
   ]
  },
  {
   "cell_type": "code",
   "execution_count": 104,
   "metadata": {},
   "outputs": [
    {
     "name": "stdout",
     "output_type": "stream",
     "text": [
      "      Iter       Train Loss      OOB Improve   Remaining Time \n",
      "         1           0.2693           0.0407            1.12m\n",
      "         2           0.2610           0.0080            1.04m\n",
      "         3           0.2520           0.0075           59.71s\n",
      "         4           0.2429           0.0055            1.08m\n",
      "         5           0.2422           0.0028            1.06m\n",
      "         6           0.2346           0.0033            1.05m\n",
      "         7           0.2353           0.0050            1.04m\n",
      "         8           0.2226           0.0042            1.03m\n",
      "         9           0.2224           0.0027            1.03m\n",
      "        10           0.2239           0.0020            1.04m\n",
      "        20           0.1882           0.0006            1.07m\n",
      "        30           0.1758           0.0002            1.03m\n",
      "        40           0.1648          -0.0000            1.03m\n",
      "        50           0.1593          -0.0001            1.03m\n",
      "        60           0.1503          -0.0010            1.02m\n",
      "        70           0.1466          -0.0001            1.03m\n",
      "        80           0.1400          -0.0006            1.03m\n",
      "        90           0.1281           0.0001            1.02m\n",
      "       100           0.1262           0.0000            1.01m\n",
      "       200           0.0885          -0.0000           53.75s\n",
      "       300           0.0630          -0.0000           46.14s\n",
      "       400           0.0455          -0.0001           38.94s\n",
      "       500           0.0314          -0.0002           32.90s\n",
      "       600           0.0250          -0.0000           26.86s\n",
      "       700           0.0175          -0.0000           20.73s\n",
      "       800           0.0133          -0.0000           13.60s\n",
      "       900           0.0100          -0.0000            6.70s\n",
      "      1000           0.0078          -0.0000            0.00s\n"
     ]
    },
    {
     "data": {
      "text/plain": [
       "(1.0, 0.8318749851413832)"
      ]
     },
     "execution_count": 104,
     "metadata": {},
     "output_type": "execute_result"
    }
   ],
   "source": [
    "clf = GradientBoostingClassifier(loss='deviance', learning_rate=0.1, verbose=1,\n",
    "                         criterion='friedman_mse', tol=1e-8, max_features='sqrt',\n",
    "                                subsample=0.72, min_samples_split=6, \n",
    "                                max_leaf_nodes=52, max_depth=10, n_estimators=1000)\n",
    "clf.fit(xs, y)\n",
    "m_roc(y, xs), m_roc(valid_y, valid_xs)"
   ]
  },
  {
   "cell_type": "code",
   "execution_count": 103,
   "metadata": {},
   "outputs": [
    {
     "name": "stdout",
     "output_type": "stream",
     "text": [
      "      Iter       Train Loss      OOB Improve   Remaining Time \n",
      "         1           0.3119           0.0022            1.08m\n",
      "         2           0.3162           0.0018            1.10m\n",
      "         3           0.3054           0.0018            1.03m\n",
      "         4           0.3067           0.0014            1.06m\n",
      "         5           0.3047           0.0014            1.05m\n",
      "         6           0.3057           0.0015            1.05m\n",
      "         7           0.2964           0.0015            1.06m\n",
      "         8           0.3050           0.0014            1.05m\n",
      "         9           0.2936           0.0013            1.06m\n",
      "        10           0.2941           0.0012            1.02m\n",
      "        20           0.2828           0.0009           58.00s\n",
      "        30           0.2784           0.0006           58.51s\n",
      "        40           0.2696           0.0005           58.59s\n",
      "        50           0.2593           0.0004           57.99s\n",
      "        60           0.2554           0.0004           58.28s\n",
      "        70           0.2499           0.0004           57.67s\n",
      "        80           0.2495           0.0003           57.89s\n",
      "        90           0.2469           0.0003           57.43s\n",
      "       100           0.2403           0.0003           57.28s\n",
      "       200           0.2183           0.0001           50.64s\n",
      "       300           0.2044           0.0001           44.37s\n",
      "       400           0.1882           0.0001           37.87s\n",
      "       500           0.1856           0.0000           31.81s\n",
      "       600           0.1783           0.0000           25.81s\n",
      "       700           0.1718           0.0000           19.60s\n",
      "       800           0.1666           0.0000           13.23s\n",
      "       900           0.1653           0.0000            6.66s\n",
      "      1000           0.1598           0.0000            0.00s\n"
     ]
    },
    {
     "data": {
      "text/plain": [
       "(0.9152136625826836, 0.843631924082018)"
      ]
     },
     "execution_count": 103,
     "metadata": {},
     "output_type": "execute_result"
    }
   ],
   "source": [
    "clf = GradientBoostingClassifier(loss='deviance', learning_rate=0.005, verbose=1,\n",
    "                         criterion='friedman_mse', tol=1e-8, max_features='sqrt',\n",
    "                                subsample=0.72, min_samples_split=6, \n",
    "                                max_leaf_nodes=52, max_depth=10, n_estimators=1000)\n",
    "clf.fit(xs, y)\n",
    "m_roc(y, xs), m_roc(valid_y, valid_xs)"
   ]
  },
  {
   "cell_type": "code",
   "execution_count": 20,
   "metadata": {
    "scrolled": true
   },
   "outputs": [
    {
     "name": "stdout",
     "output_type": "stream",
     "text": [
      "      Iter       Train Loss      OOB Improve   Remaining Time \n",
      "         1           0.3042           0.0047            1.32m\n",
      "         2           0.2985           0.0036            1.12m\n",
      "         3           0.2985           0.0032            1.03m\n",
      "         4           0.2927           0.0029            1.07m\n",
      "         5           0.2927           0.0029            1.04m\n",
      "         6           0.2857           0.0024            1.04m\n",
      "         7           0.2843           0.0024            1.01m\n",
      "         8           0.2843           0.0018            1.01m\n",
      "         9           0.2741           0.0019            1.01m\n",
      "        10           0.2770           0.0017            1.03m\n",
      "        20           0.2601           0.0014           59.83s\n",
      "        30           0.2482           0.0008           58.18s\n",
      "        40           0.2370           0.0006           56.85s\n",
      "        50           0.2368           0.0006           55.43s\n",
      "        60           0.2276           0.0004           55.59s\n",
      "        70           0.2257           0.0004           55.10s\n",
      "        80           0.2215           0.0004           54.93s\n",
      "        90           0.2147           0.0002           54.41s\n",
      "       100           0.2053           0.0002           53.64s\n",
      "       200           0.1877           0.0001           47.20s\n",
      "       300           0.1693           0.0001           41.29s\n",
      "       400           0.1598           0.0000           35.73s\n",
      "       500           0.1504           0.0000           30.05s\n",
      "       600           0.1432           0.0000           24.26s\n",
      "       700           0.1370           0.0000           18.17s\n",
      "       800           0.1309           0.0000           12.12s\n",
      "       900           0.1222           0.0000            6.08s\n",
      "      1000           0.1219           0.0000            0.00s\n"
     ]
    },
    {
     "data": {
      "text/plain": [
       "(0.9530461225192698, 0.8791834180003287)"
      ]
     },
     "execution_count": 20,
     "metadata": {},
     "output_type": "execute_result"
    }
   ],
   "source": [
    "clf = GradientBoostingClassifier(loss='deviance', learning_rate=0.01, verbose=1,\n",
    "                         criterion='friedman_mse', tol=1e-8, max_features='sqrt',\n",
    "                                subsample=0.72, min_samples_split=6, \n",
    "                                max_leaf_nodes=52, max_depth=10, n_estimators=1000)\n",
    "clf.fit(xs, y)\n",
    "m_roc(y, xs), m_roc(valid_y, valid_xs)"
   ]
  },
  {
   "cell_type": "code",
   "execution_count": 21,
   "metadata": {},
   "outputs": [],
   "source": [
    "to = (path/'to_nn_full.pkl').load()\n",
    "xs, y = to.train.xs, to.train.y\n",
    "valid_xs, valid_y = to.valid.xs, to.valid.y"
   ]
  },
  {
   "cell_type": "code",
   "execution_count": 22,
   "metadata": {},
   "outputs": [],
   "source": [
    "cats = ['ProductCD', 'card1', 'card2', 'card3', 'card4', 'card5', 'card6', \n",
    "       'addr1', 'addr2', 'P_emaildomain', 'R_emaildomain', 'M1', 'M2', 'M3', \n",
    "       'M4', 'M5', 'M6', 'M7', 'M8', 'M9', 'DeviceType', 'DeviceInfo', 'id_12', \n",
    "       'id_13', 'id_14', 'id_15', 'id_16', 'id_17', 'id_18', 'id_19', 'id_20', \n",
    "       'id_21', 'id_22', 'id_23', 'id_24', 'id_25', 'id_26', 'id_27', 'id_28', \n",
    "       'id_29', 'id_30', 'id_31', 'id_32', 'id_33', 'id_34', 'id_35', 'id_36',\n",
    "       'id_37', 'id_38']"
   ]
  },
  {
   "cell_type": "code",
   "execution_count": 23,
   "metadata": {},
   "outputs": [],
   "source": [
    "for cat in cats:\n",
    "    to[cat] = to[cat].astype('category')"
   ]
  },
  {
   "cell_type": "code",
   "execution_count": 24,
   "metadata": {},
   "outputs": [],
   "source": [
    "HistGradientBoostingClassifier?"
   ]
  },
  {
   "cell_type": "code",
   "execution_count": 25,
   "metadata": {
    "scrolled": false
   },
   "outputs": [
    {
     "name": "stdout",
     "output_type": "stream",
     "text": [
      "Binning 0.242 GB of training data: 1.191 s\n",
      "Binning 0.027 GB of validation data: 0.040 s\n",
      "Fitting gradient boosted rounds:\n",
      "[1/1000] 1 tree, 44 leaves, max depth = 10, train score: 0.83731, val score: 0.78563, in 0.148s\n",
      "[2/1000] 1 tree, 44 leaves, max depth = 11, train score: 0.87314, val score: 0.84035, in 0.192s\n",
      "[3/1000] 1 tree, 44 leaves, max depth = 9, train score: 0.87488, val score: 0.84051, in 0.205s\n",
      "[4/1000] 1 tree, 44 leaves, max depth = 9, train score: 0.88056, val score: 0.84451, in 0.175s\n",
      "[5/1000] 1 tree, 44 leaves, max depth = 10, train score: 0.88272, val score: 0.84549, in 0.169s\n",
      "[6/1000] 1 tree, 44 leaves, max depth = 9, train score: 0.88514, val score: 0.84660, in 0.355s\n",
      "[7/1000] 1 tree, 44 leaves, max depth = 9, train score: 0.88573, val score: 0.84823, in 0.225s\n",
      "[8/1000] 1 tree, 44 leaves, max depth = 11, train score: 0.88528, val score: 0.84654, in 0.188s\n",
      "[9/1000] 1 tree, 44 leaves, max depth = 11, train score: 0.88609, val score: 0.84730, in 0.212s\n",
      "[10/1000] 1 tree, 44 leaves, max depth = 12, train score: 0.88568, val score: 0.84721, in 0.203s\n",
      "[11/1000] 1 tree, 44 leaves, max depth = 10, train score: 0.88823, val score: 0.84986, in 0.196s\n",
      "[12/1000] 1 tree, 44 leaves, max depth = 11, train score: 0.88921, val score: 0.85055, in 0.245s\n",
      "[13/1000] 1 tree, 44 leaves, max depth = 9, train score: 0.88963, val score: 0.85083, in 0.297s\n",
      "[14/1000] 1 tree, 44 leaves, max depth = 11, train score: 0.88980, val score: 0.85006, in 0.324s\n",
      "[15/1000] 1 tree, 44 leaves, max depth = 11, train score: 0.89061, val score: 0.85237, in 0.335s\n",
      "[16/1000] 1 tree, 44 leaves, max depth = 13, train score: 0.89278, val score: 0.85403, in 0.339s\n",
      "[17/1000] 1 tree, 44 leaves, max depth = 13, train score: 0.89343, val score: 0.85752, in 0.338s\n",
      "[18/1000] 1 tree, 44 leaves, max depth = 10, train score: 0.89356, val score: 0.85743, in 0.656s\n",
      "[19/1000] 1 tree, 44 leaves, max depth = 12, train score: 0.89668, val score: 0.85970, in 0.178s\n",
      "[20/1000] 1 tree, 44 leaves, max depth = 13, train score: 0.89703, val score: 0.85946, in 0.191s\n",
      "[21/1000] 1 tree, 44 leaves, max depth = 10, train score: 0.89741, val score: 0.85954, in 0.192s\n",
      "[22/1000] 1 tree, 44 leaves, max depth = 10, train score: 0.89869, val score: 0.86020, in 0.198s\n",
      "[23/1000] 1 tree, 44 leaves, max depth = 11, train score: 0.89865, val score: 0.86023, in 0.197s\n",
      "[24/1000] 1 tree, 44 leaves, max depth = 10, train score: 0.89881, val score: 0.86000, in 0.195s\n",
      "[25/1000] 1 tree, 44 leaves, max depth = 14, train score: 0.90204, val score: 0.86032, in 0.206s\n",
      "[26/1000] 1 tree, 44 leaves, max depth = 11, train score: 0.90285, val score: 0.86082, in 0.497s\n",
      "[27/1000] 1 tree, 44 leaves, max depth = 11, train score: 0.90393, val score: 0.86097, in 0.374s\n",
      "[28/1000] 1 tree, 44 leaves, max depth = 11, train score: 0.90493, val score: 0.86132, in 0.350s\n",
      "[29/1000] 1 tree, 44 leaves, max depth = 12, train score: 0.90623, val score: 0.86061, in 0.353s\n",
      "[30/1000] 1 tree, 44 leaves, max depth = 12, train score: 0.90620, val score: 0.86035, in 0.337s\n",
      "[31/1000] 1 tree, 44 leaves, max depth = 9, train score: 0.90697, val score: 0.86022, in 0.562s\n",
      "[32/1000] 1 tree, 44 leaves, max depth = 9, train score: 0.90801, val score: 0.85990, in 0.230s\n",
      "[33/1000] 1 tree, 44 leaves, max depth = 13, train score: 0.90849, val score: 0.85975, in 0.208s\n",
      "[34/1000] 1 tree, 44 leaves, max depth = 10, train score: 0.90881, val score: 0.86004, in 0.202s\n",
      "[35/1000] 1 tree, 44 leaves, max depth = 16, train score: 0.90994, val score: 0.86055, in 0.219s\n",
      "[36/1000] 1 tree, 44 leaves, max depth = 11, train score: 0.91056, val score: 0.86089, in 0.214s\n",
      "[37/1000] 1 tree, 44 leaves, max depth = 10, train score: 0.91080, val score: 0.86197, in 0.213s\n",
      "[38/1000] 1 tree, 44 leaves, max depth = 14, train score: 0.91110, val score: 0.86201, in 0.236s\n",
      "[39/1000] 1 tree, 44 leaves, max depth = 12, train score: 0.91129, val score: 0.86202, in 0.407s\n",
      "[40/1000] 1 tree, 44 leaves, max depth = 10, train score: 0.91243, val score: 0.86392, in 0.412s\n",
      "[41/1000] 1 tree, 44 leaves, max depth = 10, train score: 0.91259, val score: 0.86449, in 0.391s\n",
      "[42/1000] 1 tree, 44 leaves, max depth = 12, train score: 0.91270, val score: 0.86491, in 0.396s\n",
      "[43/1000] 1 tree, 44 leaves, max depth = 15, train score: 0.91353, val score: 0.86511, in 0.712s\n",
      "[44/1000] 1 tree, 44 leaves, max depth = 12, train score: 0.91473, val score: 0.86543, in 0.218s\n",
      "[45/1000] 1 tree, 44 leaves, max depth = 12, train score: 0.91534, val score: 0.86518, in 0.218s\n",
      "[46/1000] 1 tree, 44 leaves, max depth = 12, train score: 0.91665, val score: 0.86669, in 0.232s\n",
      "[47/1000] 1 tree, 44 leaves, max depth = 11, train score: 0.91726, val score: 0.86709, in 0.231s\n",
      "[48/1000] 1 tree, 44 leaves, max depth = 13, train score: 0.91814, val score: 0.86685, in 0.228s\n",
      "[49/1000] 1 tree, 44 leaves, max depth = 13, train score: 0.91855, val score: 0.86652, in 0.230s\n",
      "[50/1000] 1 tree, 44 leaves, max depth = 15, train score: 0.91902, val score: 0.86778, in 0.238s\n",
      "[51/1000] 1 tree, 44 leaves, max depth = 16, train score: 0.91974, val score: 0.86772, in 0.459s\n",
      "[52/1000] 1 tree, 44 leaves, max depth = 12, train score: 0.92024, val score: 0.86820, in 0.446s\n",
      "[53/1000] 1 tree, 44 leaves, max depth = 11, train score: 0.92062, val score: 0.86925, in 0.424s\n",
      "[54/1000] 1 tree, 44 leaves, max depth = 13, train score: 0.92093, val score: 0.86968, in 0.414s\n",
      "[55/1000] 1 tree, 44 leaves, max depth = 13, train score: 0.92157, val score: 0.86966, in 0.814s\n",
      "[56/1000] 1 tree, 44 leaves, max depth = 14, train score: 0.92241, val score: 0.87097, in 0.224s\n",
      "[57/1000] 1 tree, 44 leaves, max depth = 13, train score: 0.92275, val score: 0.87097, in 0.264s\n",
      "[58/1000] 1 tree, 44 leaves, max depth = 11, train score: 0.92350, val score: 0.87103, in 0.235s\n",
      "[59/1000] 1 tree, 44 leaves, max depth = 13, train score: 0.92434, val score: 0.87181, in 0.239s\n",
      "[60/1000] 1 tree, 44 leaves, max depth = 14, train score: 0.92516, val score: 0.87170, in 0.241s\n",
      "[61/1000] 1 tree, 44 leaves, max depth = 14, train score: 0.92595, val score: 0.87285, in 0.249s\n",
      "[62/1000] 1 tree, 44 leaves, max depth = 13, train score: 0.92620, val score: 0.87340, in 0.245s\n",
      "[63/1000] 1 tree, 44 leaves, max depth = 14, train score: 0.92683, val score: 0.87438, in 0.249s\n",
      "[64/1000] 1 tree, 44 leaves, max depth = 13, train score: 0.92772, val score: 0.87471, in 0.462s\n",
      "[65/1000] 1 tree, 44 leaves, max depth = 13, train score: 0.92828, val score: 0.87506, in 0.510s\n",
      "[66/1000] 1 tree, 44 leaves, max depth = 12, train score: 0.92839, val score: 0.87542, in 0.350s\n",
      "[67/1000] 1 tree, 44 leaves, max depth = 16, train score: 0.92871, val score: 0.87587, in 0.411s\n",
      "[68/1000] 1 tree, 44 leaves, max depth = 14, train score: 0.92912, val score: 0.87603, in 0.757s\n",
      "[69/1000] 1 tree, 44 leaves, max depth = 16, train score: 0.92947, val score: 0.87595, in 0.252s\n",
      "[70/1000] 1 tree, 44 leaves, max depth = 12, train score: 0.92965, val score: 0.87585, in 0.263s\n",
      "[71/1000] 1 tree, 44 leaves, max depth = 11, train score: 0.93023, val score: 0.87660, in 0.267s\n",
      "[72/1000] 1 tree, 44 leaves, max depth = 15, train score: 0.93051, val score: 0.87660, in 0.259s\n",
      "[73/1000] 1 tree, 44 leaves, max depth = 14, train score: 0.93113, val score: 0.87683, in 0.276s\n",
      "[74/1000] 1 tree, 44 leaves, max depth = 12, train score: 0.93155, val score: 0.87722, in 0.270s\n",
      "[75/1000] 1 tree, 44 leaves, max depth = 16, train score: 0.93204, val score: 0.87728, in 0.265s\n",
      "[76/1000] 1 tree, 44 leaves, max depth = 15, train score: 0.93236, val score: 0.87731, in 0.300s\n",
      "[77/1000] 1 tree, 44 leaves, max depth = 11, train score: 0.93271, val score: 0.87800, in 0.561s\n",
      "[78/1000] 1 tree, 44 leaves, max depth = 14, train score: 0.93343, val score: 0.87849, in 0.475s\n",
      "[79/1000] 1 tree, 44 leaves, max depth = 12, train score: 0.93405, val score: 0.87850, in 0.467s\n",
      "[80/1000] 1 tree, 44 leaves, max depth = 12, train score: 0.93494, val score: 0.87902, in 0.849s\n",
      "[81/1000] 1 tree, 44 leaves, max depth = 13, train score: 0.93520, val score: 0.87918, in 0.256s\n",
      "[82/1000] 1 tree, 44 leaves, max depth = 15, train score: 0.93600, val score: 0.87960, in 0.294s\n",
      "[83/1000] 1 tree, 44 leaves, max depth = 14, train score: 0.93634, val score: 0.87954, in 0.260s\n",
      "[84/1000] 1 tree, 44 leaves, max depth = 13, train score: 0.93655, val score: 0.87979, in 0.261s\n"
     ]
    },
    {
     "name": "stdout",
     "output_type": "stream",
     "text": [
      "[85/1000] 1 tree, 44 leaves, max depth = 15, train score: 0.93687, val score: 0.88020, in 0.270s\n",
      "[86/1000] 1 tree, 44 leaves, max depth = 16, train score: 0.93708, val score: 0.88048, in 0.308s\n",
      "[87/1000] 1 tree, 44 leaves, max depth = 17, train score: 0.93741, val score: 0.88090, in 0.272s\n",
      "[88/1000] 1 tree, 44 leaves, max depth = 12, train score: 0.93803, val score: 0.88102, in 0.274s\n",
      "[89/1000] 1 tree, 44 leaves, max depth = 13, train score: 0.93830, val score: 0.88162, in 0.396s\n",
      "[90/1000] 1 tree, 44 leaves, max depth = 16, train score: 0.93900, val score: 0.88166, in 0.547s\n",
      "[91/1000] 1 tree, 44 leaves, max depth = 18, train score: 0.93954, val score: 0.88176, in 0.484s\n",
      "[92/1000] 1 tree, 44 leaves, max depth = 16, train score: 0.94013, val score: 0.88184, in 0.481s\n",
      "[93/1000] 1 tree, 44 leaves, max depth = 19, train score: 0.94067, val score: 0.88204, in 0.742s\n",
      "[94/1000] 1 tree, 44 leaves, max depth = 17, train score: 0.94099, val score: 0.88177, in 0.277s\n",
      "[95/1000] 1 tree, 44 leaves, max depth = 13, train score: 0.94129, val score: 0.88228, in 0.278s\n",
      "[96/1000] 1 tree, 44 leaves, max depth = 14, train score: 0.94175, val score: 0.88253, in 0.281s\n",
      "[97/1000] 1 tree, 44 leaves, max depth = 17, train score: 0.94230, val score: 0.88280, in 0.285s\n",
      "[98/1000] 1 tree, 44 leaves, max depth = 16, train score: 0.94266, val score: 0.88309, in 0.287s\n",
      "[99/1000] 1 tree, 44 leaves, max depth = 15, train score: 0.94326, val score: 0.88289, in 0.289s\n",
      "[100/1000] 1 tree, 44 leaves, max depth = 16, train score: 0.94357, val score: 0.88286, in 0.293s\n",
      "[101/1000] 1 tree, 44 leaves, max depth = 18, train score: 0.94389, val score: 0.88321, in 0.394s\n",
      "[102/1000] 1 tree, 44 leaves, max depth = 15, train score: 0.94412, val score: 0.88334, in 0.535s\n",
      "[103/1000] 1 tree, 44 leaves, max depth = 16, train score: 0.94434, val score: 0.88329, in 0.485s\n",
      "[104/1000] 1 tree, 44 leaves, max depth = 19, train score: 0.94463, val score: 0.88327, in 0.493s\n",
      "[105/1000] 1 tree, 44 leaves, max depth = 18, train score: 0.94512, val score: 0.88348, in 0.852s\n",
      "[106/1000] 1 tree, 44 leaves, max depth = 17, train score: 0.94559, val score: 0.88338, in 0.283s\n",
      "[107/1000] 1 tree, 44 leaves, max depth = 17, train score: 0.94590, val score: 0.88368, in 0.313s\n",
      "[108/1000] 1 tree, 44 leaves, max depth = 15, train score: 0.94647, val score: 0.88369, in 0.293s\n",
      "[109/1000] 1 tree, 44 leaves, max depth = 18, train score: 0.94728, val score: 0.88384, in 0.294s\n",
      "[110/1000] 1 tree, 44 leaves, max depth = 17, train score: 0.94759, val score: 0.88414, in 0.287s\n",
      "[111/1000] 1 tree, 44 leaves, max depth = 18, train score: 0.94791, val score: 0.88376, in 0.305s\n",
      "[112/1000] 1 tree, 44 leaves, max depth = 18, train score: 0.94821, val score: 0.88409, in 0.306s\n",
      "[113/1000] 1 tree, 44 leaves, max depth = 17, train score: 0.94840, val score: 0.88382, in 0.308s\n",
      "[114/1000] 1 tree, 44 leaves, max depth = 14, train score: 0.94854, val score: 0.88388, in 0.436s\n",
      "[115/1000] 1 tree, 44 leaves, max depth = 17, train score: 0.94914, val score: 0.88448, in 0.513s\n",
      "[116/1000] 1 tree, 44 leaves, max depth = 19, train score: 0.94961, val score: 0.88477, in 0.507s\n",
      "[117/1000] 1 tree, 44 leaves, max depth = 16, train score: 0.95020, val score: 0.88478, in 0.529s\n",
      "[118/1000] 1 tree, 44 leaves, max depth = 21, train score: 0.95052, val score: 0.88503, in 0.787s\n",
      "[119/1000] 1 tree, 44 leaves, max depth = 18, train score: 0.95073, val score: 0.88533, in 0.304s\n",
      "[120/1000] 1 tree, 44 leaves, max depth = 17, train score: 0.95112, val score: 0.88546, in 0.296s\n",
      "[121/1000] 1 tree, 44 leaves, max depth = 22, train score: 0.95152, val score: 0.88554, in 0.301s\n",
      "[122/1000] 1 tree, 44 leaves, max depth = 16, train score: 0.95190, val score: 0.88558, in 0.311s\n",
      "[123/1000] 1 tree, 44 leaves, max depth = 12, train score: 0.95236, val score: 0.88583, in 0.307s\n",
      "[124/1000] 1 tree, 44 leaves, max depth = 17, train score: 0.95289, val score: 0.88623, in 0.319s\n",
      "[125/1000] 1 tree, 44 leaves, max depth = 18, train score: 0.95339, val score: 0.88616, in 0.320s\n",
      "[126/1000] 1 tree, 44 leaves, max depth = 16, train score: 0.95395, val score: 0.88610, in 0.415s\n",
      "[127/1000] 1 tree, 44 leaves, max depth = 17, train score: 0.95439, val score: 0.88630, in 0.524s\n",
      "[128/1000] 1 tree, 44 leaves, max depth = 22, train score: 0.95468, val score: 0.88623, in 0.527s\n",
      "[129/1000] 1 tree, 44 leaves, max depth = 16, train score: 0.95512, val score: 0.88627, in 0.547s\n",
      "[130/1000] 1 tree, 44 leaves, max depth = 16, train score: 0.95536, val score: 0.88624, in 0.933s\n",
      "[131/1000] 1 tree, 44 leaves, max depth = 16, train score: 0.95568, val score: 0.88660, in 0.351s\n",
      "[132/1000] 1 tree, 44 leaves, max depth = 20, train score: 0.95595, val score: 0.88671, in 0.422s\n",
      "[133/1000] 1 tree, 44 leaves, max depth = 18, train score: 0.95651, val score: 0.88670, in 0.443s\n",
      "[134/1000] 1 tree, 44 leaves, max depth = 16, train score: 0.95678, val score: 0.88670, in 0.344s\n",
      "[135/1000] 1 tree, 44 leaves, max depth = 16, train score: 0.95702, val score: 0.88697, in 0.409s\n",
      "[136/1000] 1 tree, 44 leaves, max depth = 17, train score: 0.95730, val score: 0.88698, in 0.383s\n",
      "[137/1000] 1 tree, 44 leaves, max depth = 15, train score: 0.95765, val score: 0.88697, in 0.338s\n",
      "[138/1000] 1 tree, 44 leaves, max depth = 15, train score: 0.95784, val score: 0.88704, in 0.419s\n",
      "[139/1000] 1 tree, 44 leaves, max depth = 17, train score: 0.95836, val score: 0.88701, in 0.546s\n",
      "[140/1000] 1 tree, 44 leaves, max depth = 23, train score: 0.95871, val score: 0.88688, in 0.544s\n",
      "[141/1000] 1 tree, 44 leaves, max depth = 15, train score: 0.95896, val score: 0.88724, in 0.551s\n",
      "[142/1000] 1 tree, 44 leaves, max depth = 17, train score: 0.95933, val score: 0.88726, in 0.559s\n",
      "[143/1000] 1 tree, 44 leaves, max depth = 12, train score: 0.95951, val score: 0.88724, in 0.695s\n",
      "[144/1000] 1 tree, 44 leaves, max depth = 16, train score: 0.95987, val score: 0.88735, in 0.373s\n",
      "[145/1000] 1 tree, 44 leaves, max depth = 15, train score: 0.96009, val score: 0.88754, in 0.329s\n",
      "[146/1000] 1 tree, 44 leaves, max depth = 14, train score: 0.96053, val score: 0.88754, in 0.323s\n",
      "[147/1000] 1 tree, 44 leaves, max depth = 23, train score: 0.96071, val score: 0.88762, in 0.320s\n",
      "[148/1000] 1 tree, 44 leaves, max depth = 13, train score: 0.96099, val score: 0.88768, in 0.330s\n",
      "[149/1000] 1 tree, 44 leaves, max depth = 16, train score: 0.96124, val score: 0.88796, in 0.448s\n",
      "[150/1000] 1 tree, 44 leaves, max depth = 22, train score: 0.96146, val score: 0.88792, in 0.401s\n",
      "[151/1000] 1 tree, 44 leaves, max depth = 22, train score: 0.96178, val score: 0.88798, in 0.396s\n",
      "[152/1000] 1 tree, 44 leaves, max depth = 18, train score: 0.96198, val score: 0.88814, in 0.779s\n",
      "[153/1000] 1 tree, 44 leaves, max depth = 18, train score: 0.96223, val score: 0.88794, in 0.824s\n",
      "[154/1000] 1 tree, 44 leaves, max depth = 20, train score: 0.96245, val score: 0.88809, in 0.664s\n",
      "[155/1000] 1 tree, 44 leaves, max depth = 13, train score: 0.96278, val score: 0.88825, in 0.909s\n",
      "[156/1000] 1 tree, 44 leaves, max depth = 20, train score: 0.96314, val score: 0.88853, in 0.354s\n",
      "[157/1000] 1 tree, 44 leaves, max depth = 17, train score: 0.96343, val score: 0.88831, in 0.363s\n",
      "[158/1000] 1 tree, 44 leaves, max depth = 15, train score: 0.96378, val score: 0.88806, in 0.482s\n",
      "[159/1000] 1 tree, 44 leaves, max depth = 15, train score: 0.96396, val score: 0.88833, in 0.442s\n",
      "[160/1000] 1 tree, 44 leaves, max depth = 15, train score: 0.96428, val score: 0.88841, in 0.369s\n",
      "[161/1000] 1 tree, 44 leaves, max depth = 18, train score: 0.96462, val score: 0.88848, in 0.380s\n",
      "[162/1000] 1 tree, 44 leaves, max depth = 12, train score: 0.96487, val score: 0.88879, in 0.397s\n",
      "[163/1000] 1 tree, 44 leaves, max depth = 15, train score: 0.96508, val score: 0.88882, in 0.491s\n",
      "[164/1000] 1 tree, 44 leaves, max depth = 14, train score: 0.96521, val score: 0.88906, in 0.591s\n",
      "[165/1000] 1 tree, 44 leaves, max depth = 16, train score: 0.96531, val score: 0.88903, in 0.559s\n",
      "[166/1000] 1 tree, 44 leaves, max depth = 20, train score: 0.96550, val score: 0.88882, in 0.590s\n",
      "[167/1000] 1 tree, 44 leaves, max depth = 19, train score: 0.96568, val score: 0.88880, in 1.050s\n",
      "[168/1000] 1 tree, 44 leaves, max depth = 19, train score: 0.96589, val score: 0.88904, in 0.335s\n"
     ]
    },
    {
     "name": "stdout",
     "output_type": "stream",
     "text": [
      "[169/1000] 1 tree, 44 leaves, max depth = 19, train score: 0.96621, val score: 0.88901, in 0.385s\n",
      "[170/1000] 1 tree, 44 leaves, max depth = 17, train score: 0.96660, val score: 0.88901, in 0.343s\n",
      "[171/1000] 1 tree, 44 leaves, max depth = 17, train score: 0.96694, val score: 0.88909, in 0.337s\n",
      "[172/1000] 1 tree, 44 leaves, max depth = 20, train score: 0.96710, val score: 0.88898, in 0.337s\n",
      "[173/1000] 1 tree, 44 leaves, max depth = 20, train score: 0.96722, val score: 0.88907, in 0.349s\n",
      "[174/1000] 1 tree, 44 leaves, max depth = 15, train score: 0.96747, val score: 0.88921, in 0.358s\n",
      "[175/1000] 1 tree, 44 leaves, max depth = 21, train score: 0.96772, val score: 0.88933, in 0.364s\n",
      "[176/1000] 1 tree, 44 leaves, max depth = 14, train score: 0.96794, val score: 0.88940, in 0.390s\n",
      "[177/1000] 1 tree, 44 leaves, max depth = 19, train score: 0.96818, val score: 0.88963, in 0.594s\n",
      "[178/1000] 1 tree, 44 leaves, max depth = 14, train score: 0.96838, val score: 0.88971, in 0.625s\n",
      "[179/1000] 1 tree, 44 leaves, max depth = 16, train score: 0.96862, val score: 0.88983, in 0.608s\n",
      "[180/1000] 1 tree, 44 leaves, max depth = 19, train score: 0.96887, val score: 0.89009, in 0.867s\n",
      "[181/1000] 1 tree, 44 leaves, max depth = 17, train score: 0.96920, val score: 0.89005, in 0.354s\n",
      "[182/1000] 1 tree, 44 leaves, max depth = 14, train score: 0.96949, val score: 0.89018, in 0.348s\n",
      "[183/1000] 1 tree, 44 leaves, max depth = 15, train score: 0.96970, val score: 0.89030, in 0.352s\n",
      "[184/1000] 1 tree, 44 leaves, max depth = 15, train score: 0.96985, val score: 0.89028, in 0.347s\n",
      "[185/1000] 1 tree, 44 leaves, max depth = 21, train score: 0.97014, val score: 0.89036, in 0.360s\n",
      "[186/1000] 1 tree, 44 leaves, max depth = 17, train score: 0.97044, val score: 0.89035, in 0.354s\n",
      "[187/1000] 1 tree, 44 leaves, max depth = 14, train score: 0.97047, val score: 0.89052, in 0.365s\n",
      "[188/1000] 1 tree, 44 leaves, max depth = 17, train score: 0.97047, val score: 0.89048, in 0.356s\n",
      "[189/1000] 1 tree, 44 leaves, max depth = 22, train score: 0.97057, val score: 0.89065, in 0.929s\n",
      "[190/1000] 1 tree, 44 leaves, max depth = 12, train score: 0.97090, val score: 0.89077, in 0.432s\n",
      "[191/1000] 1 tree, 44 leaves, max depth = 15, train score: 0.97099, val score: 0.89110, in 0.586s\n",
      "[192/1000] 1 tree, 44 leaves, max depth = 18, train score: 0.97110, val score: 0.89102, in 1.106s\n",
      "[193/1000] 1 tree, 44 leaves, max depth = 17, train score: 0.97139, val score: 0.89101, in 0.354s\n",
      "[194/1000] 1 tree, 44 leaves, max depth = 20, train score: 0.97145, val score: 0.89116, in 0.389s\n",
      "[195/1000] 1 tree, 44 leaves, max depth = 18, train score: 0.97163, val score: 0.89114, in 0.351s\n",
      "[196/1000] 1 tree, 44 leaves, max depth = 13, train score: 0.97187, val score: 0.89125, in 0.359s\n",
      "[197/1000] 1 tree, 44 leaves, max depth = 10, train score: 0.97205, val score: 0.89116, in 0.357s\n",
      "[198/1000] 1 tree, 44 leaves, max depth = 22, train score: 0.97226, val score: 0.89113, in 0.372s\n",
      "[199/1000] 1 tree, 44 leaves, max depth = 18, train score: 0.97238, val score: 0.89095, in 0.369s\n",
      "[200/1000] 1 tree, 44 leaves, max depth = 20, train score: 0.97250, val score: 0.89089, in 0.369s\n",
      "[201/1000] 1 tree, 44 leaves, max depth = 15, train score: 0.97258, val score: 0.89108, in 0.368s\n",
      "[202/1000] 1 tree, 44 leaves, max depth = 14, train score: 0.97282, val score: 0.89111, in 0.376s\n",
      "[203/1000] 1 tree, 44 leaves, max depth = 14, train score: 0.97301, val score: 0.89120, in 0.564s\n",
      "[204/1000] 1 tree, 44 leaves, max depth = 14, train score: 0.97315, val score: 0.89119, in 0.678s\n",
      "[205/1000] 1 tree, 44 leaves, max depth = 11, train score: 0.97329, val score: 0.89118, in 1.019s\n",
      "[206/1000] 1 tree, 44 leaves, max depth = 11, train score: 0.97340, val score: 0.89112, in 1.055s\n",
      "Fit 206 trees in 84.463 s, (9064 total leaves)\n",
      "Time spent computing histograms: 47.053s\n",
      "Time spent finding best splits:  7.291s\n",
      "Time spent applying splits:      8.752s\n",
      "Time spent predicting:           0.052s\n",
      "CPU times: user 6min 9s, sys: 2min 37s, total: 8min 47s\n",
      "Wall time: 1min 25s\n"
     ]
    },
    {
     "data": {
      "text/plain": [
       "(0.9641418347459628, 0.8891066033041436)"
      ]
     },
     "execution_count": 25,
     "metadata": {},
     "output_type": "execute_result"
    }
   ],
   "source": [
    "%%time\n",
    "clf = HistGradientBoostingClassifier(loss='binary_crossentropy', verbose=1, l2_regularization=2.4,\n",
    "                             learning_rate=0.03, max_depth=25, max_iter=1000, max_leaf_nodes=44,\n",
    "                             min_samples_leaf=8,  scoring='roc_auc', tol=1e-8)\n",
    "clf.fit(xs, y)\n",
    "m_roc(y, xs), m_roc(valid_y, valid_xs)"
   ]
  },
  {
   "cell_type": "code",
   "execution_count": null,
   "metadata": {},
   "outputs": [],
   "source": []
  }
 ],
 "metadata": {
  "kernelspec": {
   "display_name": "Python 3",
   "language": "python",
   "name": "python3"
  },
  "language_info": {
   "codemirror_mode": {
    "name": "ipython",
    "version": 3
   },
   "file_extension": ".py",
   "mimetype": "text/x-python",
   "name": "python",
   "nbconvert_exporter": "python",
   "pygments_lexer": "ipython3",
   "version": "3.8.5"
  },
  "toc": {
   "base_numbering": 1,
   "nav_menu": {},
   "number_sections": true,
   "sideBar": true,
   "skip_h1_title": false,
   "title_cell": "Table of Contents",
   "title_sidebar": "Contents",
   "toc_cell": false,
   "toc_position": {},
   "toc_section_display": true,
   "toc_window_display": false
  }
 },
 "nbformat": 4,
 "nbformat_minor": 4
}
