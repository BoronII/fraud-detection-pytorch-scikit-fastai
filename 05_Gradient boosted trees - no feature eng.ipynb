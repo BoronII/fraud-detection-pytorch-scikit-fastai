{
 "cells": [
  {
   "cell_type": "markdown",
   "metadata": {},
   "source": [
    "# Gradient Boosted Trees"
   ]
  },
  {
   "cell_type": "code",
   "execution_count": 106,
   "metadata": {},
   "outputs": [],
   "source": [
    "from fastai.tabular.all import *\n",
    "from sklearn.metrics import roc_auc_score\n",
    "from sklearn.model_selection import GridSearchCV\n",
    "from sklearn.model_selection import RandomizedSearchCV\n",
    "from sklearn.metrics import make_scorer\n",
    "\n",
    "from sklearn.experimental import enable_hist_gradient_boosting \n",
    "from sklearn.ensemble import HistGradientBoostingClassifier\n",
    "\n",
    "path = Path('/Users/baranserajelahi/Codes/fraud-detection-pytorch-scikit-fastai/data')\n",
    "Path.BASE_PATH = path\n",
    "pd.options.display.max_rows = 200\n",
    "pd.options.display.max_columns = 120"
   ]
  },
  {
   "cell_type": "code",
   "execution_count": 107,
   "metadata": {},
   "outputs": [],
   "source": [
    "# Tabular object created and saved on the 02_ notebook\n",
    "to = (path/'to.pkl').load()"
   ]
  },
  {
   "cell_type": "code",
   "execution_count": 108,
   "metadata": {},
   "outputs": [],
   "source": [
    "xs, y = to.train.xs, to.train.y\n",
    "valid_xs, valid_y = to.valid.xs, to.valid.y"
   ]
  },
  {
   "cell_type": "markdown",
   "metadata": {
    "heading_collapsed": true
   },
   "source": [
    "## HistGradientBoostingClassifier"
   ]
  },
  {
   "cell_type": "code",
   "execution_count": 112,
   "metadata": {
    "hidden": true
   },
   "outputs": [
    {
     "data": {
      "text/plain": [
       "'Previously, leaf-wise growth was an exclusive feature of lightGBM, but xgboost has since implemented this growth strategy (this change has not been reflected in the lightGBM docs, but has been acknowledged in a blog post). This strategy is only available for the histogram-based method (which I will explain below), so in order to use it, users will have to set the tree_method parameter to hist and the grow_policy parameter to lossguide.'"
      ]
     },
     "execution_count": 112,
     "metadata": {},
     "output_type": "execute_result"
    }
   ],
   "source": [
    "'Previously, leaf-wise growth was an exclusive feature of lightGBM, but xgboost has since implemented this growth strategy (this change has not been reflected in the lightGBM docs, but has been acknowledged in a blog post). This strategy is only available for the histogram-based method (which I will explain below), so in order to use it, users will have to set the tree_method parameter to hist and the grow_policy parameter to lossguide.'"
   ]
  },
  {
   "cell_type": "code",
   "execution_count": 113,
   "metadata": {
    "hidden": true,
    "scrolled": true
   },
   "outputs": [
    {
     "data": {
      "text/plain": [
       "'Xgboost offers the option tree_method=approx, which computes a new set of bins at each split using the gradient statistics. LightGBM and xgboost with the tree_method set to hist will both compute the bins at the beginning of training and reuse the same bins throughout the entire training process.'"
      ]
     },
     "execution_count": 113,
     "metadata": {},
     "output_type": "execute_result"
    }
   ],
   "source": [
    "'Xgboost offers the option tree_method=approx, which computes a new set of bins at each split using the gradient statistics. LightGBM and xgboost with the tree_method set to hist will both compute the bins at the beginning of training and reuse the same bins throughout the entire training process.'"
   ]
  },
  {
   "cell_type": "code",
   "execution_count": 114,
   "metadata": {
    "hidden": true
   },
   "outputs": [
    {
     "data": {
      "text/plain": [
       "'Though lightGBM does not enable ignoring zero values by default, it has an option called zero_as_missing which, if set to True, will regard all zero values as missing. According to this thread on GitHub, lightGBM will treat missing values in the same way as xgboost as long as the parameter use_missing is set to True (which is the default behavior).'"
      ]
     },
     "execution_count": 114,
     "metadata": {},
     "output_type": "execute_result"
    }
   ],
   "source": [
    "'BOTH: Though lightGBM does not enable ignoring zero values by default, it has an option called zero_as_missing which, if set to True, will regard all zero values as missing. According to this thread on GitHub, lightGBM will treat missing values in the same way as xgboost as long as the parameter use_missing is set to True (which is the default behavior).'"
   ]
  },
  {
   "cell_type": "code",
   "execution_count": 115,
   "metadata": {
    "hidden": true
   },
   "outputs": [
    {
     "data": {
      "text/plain": [
       "'This is a method introduced in lightGBM that also takes advantage of the sparsity of large datasets. The essential observation behind this method is that the sparsity of features means that some features are never non-zero together. For instance, the words \"Python\" and \"protein\" might never appear in the same document in the data. This means that these features can be \"bundled\" into a single feature without losing any information. Suppose the tf-idf score for \"Python\" ranges from 0 to 10 and the tf-idf score for  \"protein\" ranges from 0 to 20. In this case, the feature'"
      ]
     },
     "execution_count": 115,
     "metadata": {},
     "output_type": "execute_result"
    }
   ],
   "source": [
    "'LGBM: This is a method introduced in lightGBM that also takes advantage of the sparsity of large datasets. The essential observation behind this method is that the sparsity of features means that some features are never non-zero together. For instance, the words \"Python\" and \"protein\" might never appear in the same document in the data. This means that these features can be \"bundled\" into a single feature without losing any information. Suppose the tf-idf score for \"Python\" ranges from 0 to 10 and the tf-idf score for  \"protein\" ranges from 0 to 20. In this case, the feature'"
   ]
  },
  {
   "cell_type": "code",
   "execution_count": 116,
   "metadata": {
    "hidden": true
   },
   "outputs": [
    {
     "data": {
      "text/plain": [
       "'Unfortunately, the problem of finding the most efficient bundle is NP-hard. Therefore, the authors of the paper opted for an approximate algorithm that tolerated a certain degree of overlap \\\\gamma  between the non-zero elements within a feature bundle. The details of this algorithm are beyond the scope of this post, so please refer to the original paper for details.'"
      ]
     },
     "execution_count": 116,
     "metadata": {},
     "output_type": "execute_result"
    }
   ],
   "source": [
    "'LGBM: Unfortunately, the problem of finding the most efficient bundle is NP-hard. Therefore, the authors of the paper opted for an approximate algorithm that tolerated a certain degree of overlap \\gamma  between the non-zero elements within a feature bundle. The details of this algorithm are beyond the scope of this post, so please refer to the original paper for details.'"
   ]
  },
  {
   "cell_type": "markdown",
   "metadata": {
    "hidden": true
   },
   "source": [
    "HistGradientBoostingClassifier is based on Microsofts LightGBM. |"
   ]
  },
  {
   "cell_type": "markdown",
   "metadata": {
    "hidden": true
   },
   "source": [
    "### Default parameters "
   ]
  },
  {
   "cell_type": "code",
   "execution_count": 109,
   "metadata": {
    "hidden": true
   },
   "outputs": [],
   "source": [
    "def m_roc(y, xs):\n",
    "    preds = clf.predict_proba(xs)\n",
    "    preds_isFraud = preds[:,1]\n",
    "    return roc_auc_score(y, preds_isFraud)"
   ]
  },
  {
   "cell_type": "markdown",
   "metadata": {
    "hidden": true
   },
   "source": [
    "The max_iter parameter was increased to 1000 from its default value of 100."
   ]
  },
  {
   "cell_type": "code",
   "execution_count": 110,
   "metadata": {
    "hidden": true
   },
   "outputs": [
    {
     "name": "stdout",
     "output_type": "stream",
     "text": [
      "Binning 0.042 GB of training data: 0.269 s\n",
      "Binning 0.005 GB of validation data: 0.018 s\n",
      "Fitting gradient boosted rounds:\n",
      "[1/1000] 1 tree, 31 leaves, max depth = 8, train score: 0.84080, val score: 0.83438, in 0.066s\n",
      "[2/1000] 1 tree, 31 leaves, max depth = 9, train score: 0.86431, val score: 0.85824, in 0.069s\n",
      "[3/1000] 1 tree, 31 leaves, max depth = 8, train score: 0.87042, val score: 0.86006, in 0.050s\n",
      "[4/1000] 1 tree, 31 leaves, max depth = 9, train score: 0.87092, val score: 0.85956, in 0.046s\n",
      "[5/1000] 1 tree, 31 leaves, max depth = 13, train score: 0.87622, val score: 0.86071, in 0.056s\n",
      "[6/1000] 1 tree, 31 leaves, max depth = 8, train score: 0.88018, val score: 0.86098, in 0.061s\n",
      "[7/1000] 1 tree, 31 leaves, max depth = 8, train score: 0.88209, val score: 0.86304, in 0.047s\n",
      "[8/1000] 1 tree, 31 leaves, max depth = 10, train score: 0.88800, val score: 0.86607, in 0.045s\n",
      "[9/1000] 1 tree, 31 leaves, max depth = 12, train score: 0.89025, val score: 0.86711, in 0.049s\n",
      "[10/1000] 1 tree, 31 leaves, max depth = 9, train score: 0.89213, val score: 0.86742, in 0.046s\n",
      "[11/1000] 1 tree, 31 leaves, max depth = 12, train score: 0.89321, val score: 0.86956, in 0.063s\n",
      "[12/1000] 1 tree, 31 leaves, max depth = 8, train score: 0.90221, val score: 0.87567, in 0.048s\n",
      "[13/1000] 1 tree, 31 leaves, max depth = 11, train score: 0.90496, val score: 0.87696, in 0.047s\n",
      "[14/1000] 1 tree, 31 leaves, max depth = 10, train score: 0.90890, val score: 0.87817, in 0.052s\n",
      "[15/1000] 1 tree, 31 leaves, max depth = 9, train score: 0.91106, val score: 0.87775, in 0.052s\n",
      "[16/1000] 1 tree, 31 leaves, max depth = 11, train score: 0.91277, val score: 0.87896, in 0.053s\n",
      "[17/1000] 1 tree, 31 leaves, max depth = 9, train score: 0.91718, val score: 0.88085, in 0.049s\n",
      "[18/1000] 1 tree, 31 leaves, max depth = 9, train score: 0.91859, val score: 0.88120, in 0.050s\n",
      "[19/1000] 1 tree, 31 leaves, max depth = 11, train score: 0.92126, val score: 0.88424, in 0.053s\n",
      "[20/1000] 1 tree, 31 leaves, max depth = 10, train score: 0.92358, val score: 0.88579, in 0.050s\n",
      "[21/1000] 1 tree, 31 leaves, max depth = 8, train score: 0.92484, val score: 0.88739, in 0.052s\n",
      "[22/1000] 1 tree, 31 leaves, max depth = 15, train score: 0.92631, val score: 0.88794, in 0.052s\n",
      "[23/1000] 1 tree, 31 leaves, max depth = 10, train score: 0.92893, val score: 0.88881, in 0.052s\n",
      "[24/1000] 1 tree, 31 leaves, max depth = 8, train score: 0.93441, val score: 0.88870, in 0.058s\n",
      "[25/1000] 1 tree, 31 leaves, max depth = 11, train score: 0.93518, val score: 0.89042, in 0.054s\n",
      "[26/1000] 1 tree, 31 leaves, max depth = 13, train score: 0.93536, val score: 0.89169, in 0.056s\n",
      "[27/1000] 1 tree, 31 leaves, max depth = 15, train score: 0.93871, val score: 0.89230, in 0.054s\n",
      "[28/1000] 1 tree, 31 leaves, max depth = 12, train score: 0.94008, val score: 0.89224, in 0.059s\n",
      "[29/1000] 1 tree, 31 leaves, max depth = 15, train score: 0.94199, val score: 0.89189, in 0.058s\n",
      "[30/1000] 1 tree, 31 leaves, max depth = 11, train score: 0.94281, val score: 0.89362, in 0.056s\n",
      "[31/1000] 1 tree, 31 leaves, max depth = 10, train score: 0.94584, val score: 0.89398, in 0.107s\n",
      "[32/1000] 1 tree, 31 leaves, max depth = 11, train score: 0.94718, val score: 0.89528, in 0.053s\n",
      "[33/1000] 1 tree, 31 leaves, max depth = 11, train score: 0.94842, val score: 0.89482, in 0.058s\n",
      "[34/1000] 1 tree, 31 leaves, max depth = 14, train score: 0.94976, val score: 0.89570, in 0.051s\n",
      "[35/1000] 1 tree, 31 leaves, max depth = 9, train score: 0.95102, val score: 0.89609, in 0.057s\n",
      "[36/1000] 1 tree, 31 leaves, max depth = 14, train score: 0.95357, val score: 0.89756, in 0.057s\n",
      "[37/1000] 1 tree, 31 leaves, max depth = 9, train score: 0.95436, val score: 0.89773, in 0.053s\n",
      "[38/1000] 1 tree, 31 leaves, max depth = 12, train score: 0.95616, val score: 0.89869, in 0.055s\n",
      "[39/1000] 1 tree, 31 leaves, max depth = 11, train score: 0.95674, val score: 0.89903, in 0.054s\n",
      "[40/1000] 1 tree, 31 leaves, max depth = 10, train score: 0.95751, val score: 0.90131, in 0.058s\n",
      "[41/1000] 1 tree, 31 leaves, max depth = 11, train score: 0.95811, val score: 0.90143, in 0.060s\n",
      "[42/1000] 1 tree, 31 leaves, max depth = 10, train score: 0.95840, val score: 0.90103, in 0.056s\n",
      "[43/1000] 1 tree, 31 leaves, max depth = 13, train score: 0.96085, val score: 0.90090, in 0.057s\n",
      "[44/1000] 1 tree, 31 leaves, max depth = 11, train score: 0.96200, val score: 0.90089, in 0.059s\n",
      "[45/1000] 1 tree, 31 leaves, max depth = 16, train score: 0.96239, val score: 0.90113, in 0.059s\n",
      "[46/1000] 1 tree, 31 leaves, max depth = 14, train score: 0.96340, val score: 0.90066, in 0.062s\n",
      "[47/1000] 1 tree, 31 leaves, max depth = 10, train score: 0.96491, val score: 0.90078, in 0.057s\n",
      "[48/1000] 1 tree, 31 leaves, max depth = 18, train score: 0.96568, val score: 0.90129, in 0.059s\n",
      "[49/1000] 1 tree, 31 leaves, max depth = 18, train score: 0.96630, val score: 0.90186, in 0.061s\n",
      "[50/1000] 1 tree, 31 leaves, max depth = 14, train score: 0.96682, val score: 0.90167, in 0.056s\n",
      "[51/1000] 1 tree, 31 leaves, max depth = 13, train score: 0.96710, val score: 0.90216, in 0.059s\n",
      "[52/1000] 1 tree, 31 leaves, max depth = 12, train score: 0.96786, val score: 0.90275, in 0.058s\n",
      "[53/1000] 1 tree, 31 leaves, max depth = 15, train score: 0.96874, val score: 0.90234, in 0.100s\n",
      "[54/1000] 1 tree, 31 leaves, max depth = 11, train score: 0.97053, val score: 0.90178, in 0.060s\n",
      "[55/1000] 1 tree, 31 leaves, max depth = 11, train score: 0.97080, val score: 0.90163, in 0.059s\n",
      "[56/1000] 1 tree, 31 leaves, max depth = 10, train score: 0.97148, val score: 0.90156, in 0.059s\n",
      "[57/1000] 1 tree, 31 leaves, max depth = 10, train score: 0.97189, val score: 0.90222, in 0.060s\n",
      "[58/1000] 1 tree, 31 leaves, max depth = 15, train score: 0.97240, val score: 0.90267, in 0.064s\n",
      "[59/1000] 1 tree, 31 leaves, max depth = 10, train score: 0.97282, val score: 0.90260, in 0.060s\n",
      "[60/1000] 1 tree, 31 leaves, max depth = 13, train score: 0.97309, val score: 0.90263, in 0.062s\n",
      "[61/1000] 1 tree, 31 leaves, max depth = 13, train score: 0.97475, val score: 0.90295, in 0.061s\n",
      "[62/1000] 1 tree, 31 leaves, max depth = 12, train score: 0.97508, val score: 0.90291, in 0.059s\n",
      "[63/1000] 1 tree, 31 leaves, max depth = 11, train score: 0.97536, val score: 0.90411, in 0.060s\n",
      "[64/1000] 1 tree, 31 leaves, max depth = 10, train score: 0.97558, val score: 0.90484, in 0.058s\n",
      "[65/1000] 1 tree, 31 leaves, max depth = 11, train score: 0.97589, val score: 0.90414, in 0.066s\n",
      "[66/1000] 1 tree, 31 leaves, max depth = 11, train score: 0.97589, val score: 0.90383, in 0.064s\n",
      "[67/1000] 1 tree, 31 leaves, max depth = 11, train score: 0.97643, val score: 0.90370, in 0.062s\n",
      "[68/1000] 1 tree, 31 leaves, max depth = 10, train score: 0.97697, val score: 0.90465, in 0.063s\n",
      "[69/1000] 1 tree, 31 leaves, max depth = 9, train score: 0.97705, val score: 0.90385, in 0.060s\n",
      "[70/1000] 1 tree, 31 leaves, max depth = 12, train score: 0.97739, val score: 0.90446, in 0.065s\n",
      "[71/1000] 1 tree, 31 leaves, max depth = 11, train score: 0.97778, val score: 0.90440, in 0.065s\n",
      "[72/1000] 1 tree, 31 leaves, max depth = 12, train score: 0.97792, val score: 0.90445, in 0.061s\n",
      "[73/1000] 1 tree, 31 leaves, max depth = 13, train score: 0.97811, val score: 0.90483, in 0.071s\n",
      "[74/1000] 1 tree, 31 leaves, max depth = 12, train score: 0.97852, val score: 0.90421, in 0.124s\n",
      "Fit 74 trees in 4.830 s, (2294 total leaves)\n",
      "Time spent computing histograms: 1.696s\n",
      "Time spent finding best splits:  0.529s\n",
      "Time spent applying splits:      0.635s\n",
      "Time spent predicting:           0.010s\n",
      "CPU times: user 27.3 s, sys: 4.78 s, total: 32.1 s\n",
      "Wall time: 4.96 s\n"
     ]
    },
    {
     "data": {
      "text/plain": [
       "(0.9721576934960269, 0.8553771096898483)"
      ]
     },
     "execution_count": 110,
     "metadata": {},
     "output_type": "execute_result"
    }
   ],
   "source": [
    "%%time\n",
    "clf = HistGradientBoostingClassifier(loss='binary_crossentropy', verbose=1,\n",
    "                                    max_iter=1000, scoring='roc_auc')\n",
    "clf.fit(xs,y)\n",
    "m_roc(y, xs), m_roc(valid_y, valid_xs)"
   ]
  },
  {
   "cell_type": "markdown",
   "metadata": {
    "hidden": true
   },
   "source": [
    "The algorithm may have stopped too early, so let's increase the threshold for early stopping by decreasing tol by a factor of 10 to e-8 from its default value e-7."
   ]
  },
  {
   "cell_type": "code",
   "execution_count": 111,
   "metadata": {
    "hidden": true
   },
   "outputs": [
    {
     "name": "stdout",
     "output_type": "stream",
     "text": [
      "Binning 0.042 GB of training data: 0.279 s\n",
      "Binning 0.005 GB of validation data: 0.018 s\n",
      "Fitting gradient boosted rounds:\n",
      "[1/1000] 1 tree, 31 leaves, max depth = 8, train score: 0.82468, val score: 0.82268, in 0.044s\n",
      "[2/1000] 1 tree, 31 leaves, max depth = 9, train score: 0.83815, val score: 0.84384, in 0.045s\n",
      "[3/1000] 1 tree, 31 leaves, max depth = 10, train score: 0.84699, val score: 0.85118, in 0.046s\n",
      "[4/1000] 1 tree, 31 leaves, max depth = 12, train score: 0.84930, val score: 0.85342, in 0.046s\n",
      "[5/1000] 1 tree, 31 leaves, max depth = 9, train score: 0.85351, val score: 0.85865, in 0.047s\n",
      "[6/1000] 1 tree, 31 leaves, max depth = 10, train score: 0.85587, val score: 0.86454, in 0.052s\n",
      "[7/1000] 1 tree, 31 leaves, max depth = 9, train score: 0.85553, val score: 0.86417, in 0.047s\n",
      "[8/1000] 1 tree, 31 leaves, max depth = 13, train score: 0.86260, val score: 0.86365, in 0.050s\n",
      "[9/1000] 1 tree, 31 leaves, max depth = 11, train score: 0.86249, val score: 0.86497, in 0.051s\n",
      "[10/1000] 1 tree, 31 leaves, max depth = 14, train score: 0.87306, val score: 0.86490, in 0.049s\n",
      "[11/1000] 1 tree, 31 leaves, max depth = 8, train score: 0.87514, val score: 0.86617, in 0.053s\n",
      "[12/1000] 1 tree, 31 leaves, max depth = 14, train score: 0.87950, val score: 0.87013, in 0.052s\n",
      "[13/1000] 1 tree, 31 leaves, max depth = 9, train score: 0.89651, val score: 0.87513, in 0.050s\n",
      "[14/1000] 1 tree, 31 leaves, max depth = 9, train score: 0.89791, val score: 0.87544, in 0.051s\n",
      "[15/1000] 1 tree, 31 leaves, max depth = 10, train score: 0.90217, val score: 0.87694, in 0.051s\n",
      "[16/1000] 1 tree, 31 leaves, max depth = 9, train score: 0.90635, val score: 0.87845, in 0.054s\n",
      "[17/1000] 1 tree, 31 leaves, max depth = 10, train score: 0.90792, val score: 0.87960, in 0.054s\n",
      "[18/1000] 1 tree, 31 leaves, max depth = 9, train score: 0.91139, val score: 0.88020, in 0.053s\n",
      "[19/1000] 1 tree, 31 leaves, max depth = 10, train score: 0.91193, val score: 0.88220, in 0.054s\n",
      "[20/1000] 1 tree, 31 leaves, max depth = 9, train score: 0.91299, val score: 0.88320, in 0.066s\n",
      "[21/1000] 1 tree, 31 leaves, max depth = 11, train score: 0.91507, val score: 0.88481, in 0.102s\n",
      "[22/1000] 1 tree, 31 leaves, max depth = 8, train score: 0.91801, val score: 0.88556, in 0.052s\n",
      "[23/1000] 1 tree, 31 leaves, max depth = 10, train score: 0.91896, val score: 0.88587, in 0.066s\n",
      "[24/1000] 1 tree, 31 leaves, max depth = 10, train score: 0.91893, val score: 0.88832, in 0.056s\n",
      "[25/1000] 1 tree, 31 leaves, max depth = 11, train score: 0.92026, val score: 0.88760, in 0.056s\n",
      "[26/1000] 1 tree, 31 leaves, max depth = 14, train score: 0.92101, val score: 0.89003, in 0.059s\n",
      "[27/1000] 1 tree, 31 leaves, max depth = 13, train score: 0.92248, val score: 0.89129, in 0.055s\n",
      "[28/1000] 1 tree, 31 leaves, max depth = 13, train score: 0.92521, val score: 0.89183, in 0.055s\n",
      "[29/1000] 1 tree, 31 leaves, max depth = 8, train score: 0.92684, val score: 0.89324, in 0.055s\n",
      "[30/1000] 1 tree, 31 leaves, max depth = 12, train score: 0.92815, val score: 0.89278, in 0.058s\n",
      "[31/1000] 1 tree, 31 leaves, max depth = 10, train score: 0.93146, val score: 0.89554, in 0.058s\n",
      "[32/1000] 1 tree, 31 leaves, max depth = 8, train score: 0.93326, val score: 0.89703, in 0.060s\n",
      "[33/1000] 1 tree, 31 leaves, max depth = 11, train score: 0.93412, val score: 0.89781, in 0.058s\n",
      "[34/1000] 1 tree, 31 leaves, max depth = 12, train score: 0.93742, val score: 0.89898, in 0.061s\n",
      "[35/1000] 1 tree, 31 leaves, max depth = 22, train score: 0.93790, val score: 0.90003, in 0.063s\n",
      "[36/1000] 1 tree, 31 leaves, max depth = 14, train score: 0.93966, val score: 0.89961, in 0.058s\n",
      "[37/1000] 1 tree, 31 leaves, max depth = 11, train score: 0.94335, val score: 0.89889, in 0.061s\n",
      "[38/1000] 1 tree, 31 leaves, max depth = 11, train score: 0.94409, val score: 0.89873, in 0.059s\n",
      "[39/1000] 1 tree, 31 leaves, max depth = 10, train score: 0.94550, val score: 0.89881, in 0.062s\n",
      "[40/1000] 1 tree, 31 leaves, max depth = 14, train score: 0.94613, val score: 0.89903, in 0.068s\n",
      "[41/1000] 1 tree, 31 leaves, max depth = 13, train score: 0.94719, val score: 0.90020, in 0.093s\n",
      "[42/1000] 1 tree, 31 leaves, max depth = 14, train score: 0.94761, val score: 0.90040, in 0.111s\n",
      "[43/1000] 1 tree, 31 leaves, max depth = 10, train score: 0.94967, val score: 0.90158, in 0.065s\n",
      "[44/1000] 1 tree, 31 leaves, max depth = 16, train score: 0.95077, val score: 0.90280, in 0.101s\n",
      "[45/1000] 1 tree, 31 leaves, max depth = 12, train score: 0.95138, val score: 0.90263, in 0.061s\n",
      "[46/1000] 1 tree, 31 leaves, max depth = 16, train score: 0.95160, val score: 0.90332, in 0.062s\n",
      "[47/1000] 1 tree, 31 leaves, max depth = 13, train score: 0.95268, val score: 0.90412, in 0.063s\n",
      "[48/1000] 1 tree, 31 leaves, max depth = 10, train score: 0.95452, val score: 0.90448, in 0.063s\n",
      "[49/1000] 1 tree, 31 leaves, max depth = 11, train score: 0.95525, val score: 0.90464, in 0.059s\n",
      "[50/1000] 1 tree, 31 leaves, max depth = 10, train score: 0.95594, val score: 0.90447, in 0.065s\n",
      "[51/1000] 1 tree, 31 leaves, max depth = 13, train score: 0.95672, val score: 0.90370, in 0.063s\n",
      "[52/1000] 1 tree, 31 leaves, max depth = 14, train score: 0.95729, val score: 0.90361, in 0.070s\n",
      "[53/1000] 1 tree, 31 leaves, max depth = 12, train score: 0.95772, val score: 0.90402, in 0.068s\n",
      "[54/1000] 1 tree, 31 leaves, max depth = 9, train score: 0.95870, val score: 0.90453, in 0.062s\n",
      "[55/1000] 1 tree, 31 leaves, max depth = 10, train score: 0.95910, val score: 0.90457, in 0.062s\n",
      "[56/1000] 1 tree, 31 leaves, max depth = 16, train score: 0.95972, val score: 0.90480, in 0.065s\n",
      "[57/1000] 1 tree, 31 leaves, max depth = 9, train score: 0.96112, val score: 0.90493, in 0.070s\n",
      "[58/1000] 1 tree, 31 leaves, max depth = 10, train score: 0.96199, val score: 0.90493, in 0.065s\n",
      "[59/1000] 1 tree, 31 leaves, max depth = 12, train score: 0.96231, val score: 0.90515, in 0.064s\n",
      "[60/1000] 1 tree, 31 leaves, max depth = 11, train score: 0.96277, val score: 0.90499, in 0.067s\n",
      "[61/1000] 1 tree, 31 leaves, max depth = 13, train score: 0.96293, val score: 0.90519, in 0.063s\n",
      "[62/1000] 1 tree, 31 leaves, max depth = 9, train score: 0.96407, val score: 0.90454, in 0.068s\n",
      "[63/1000] 1 tree, 31 leaves, max depth = 12, train score: 0.96432, val score: 0.90435, in 0.111s\n",
      "[64/1000] 1 tree, 31 leaves, max depth = 12, train score: 0.96516, val score: 0.90477, in 0.067s\n",
      "[65/1000] 1 tree, 31 leaves, max depth = 14, train score: 0.96722, val score: 0.90491, in 0.066s\n",
      "[66/1000] 1 tree, 31 leaves, max depth = 8, train score: 0.96762, val score: 0.90514, in 0.064s\n",
      "[67/1000] 1 tree, 31 leaves, max depth = 15, train score: 0.96883, val score: 0.90529, in 0.065s\n",
      "[68/1000] 1 tree, 31 leaves, max depth = 10, train score: 0.96923, val score: 0.90496, in 0.069s\n",
      "[69/1000] 1 tree, 31 leaves, max depth = 12, train score: 0.97022, val score: 0.90425, in 0.069s\n",
      "[70/1000] 1 tree, 31 leaves, max depth = 11, train score: 0.97044, val score: 0.90426, in 0.066s\n",
      "[71/1000] 1 tree, 31 leaves, max depth = 9, train score: 0.97062, val score: 0.90463, in 0.071s\n",
      "[72/1000] 1 tree, 31 leaves, max depth = 11, train score: 0.97106, val score: 0.90560, in 0.070s\n",
      "[73/1000] 1 tree, 31 leaves, max depth = 15, train score: 0.97118, val score: 0.90568, in 0.066s\n",
      "[74/1000] 1 tree, 31 leaves, max depth = 10, train score: 0.97136, val score: 0.90543, in 0.066s\n",
      "[75/1000] 1 tree, 31 leaves, max depth = 10, train score: 0.97382, val score: 0.90558, in 0.066s\n",
      "[76/1000] 1 tree, 31 leaves, max depth = 11, train score: 0.97463, val score: 0.90575, in 0.070s\n",
      "[77/1000] 1 tree, 31 leaves, max depth = 15, train score: 0.97633, val score: 0.90605, in 0.067s\n",
      "[78/1000] 1 tree, 31 leaves, max depth = 14, train score: 0.97656, val score: 0.90614, in 0.065s\n",
      "[79/1000] 1 tree, 31 leaves, max depth = 12, train score: 0.97698, val score: 0.90673, in 0.070s\n",
      "[80/1000] 1 tree, 31 leaves, max depth = 8, train score: 0.97836, val score: 0.90710, in 0.066s\n",
      "[81/1000] 1 tree, 31 leaves, max depth = 14, train score: 0.97929, val score: 0.90818, in 0.069s\n",
      "[82/1000] 1 tree, 31 leaves, max depth = 10, train score: 0.97960, val score: 0.90887, in 0.070s\n",
      "[83/1000] 1 tree, 31 leaves, max depth = 12, train score: 0.98067, val score: 0.91003, in 0.083s\n",
      "[84/1000] 1 tree, 31 leaves, max depth = 11, train score: 0.98103, val score: 0.91001, in 0.071s\n"
     ]
    },
    {
     "name": "stdout",
     "output_type": "stream",
     "text": [
      "[85/1000] 1 tree, 31 leaves, max depth = 12, train score: 0.98203, val score: 0.91004, in 0.106s\n",
      "[86/1000] 1 tree, 31 leaves, max depth = 12, train score: 0.98229, val score: 0.90967, in 0.073s\n",
      "[87/1000] 1 tree, 31 leaves, max depth = 9, train score: 0.98223, val score: 0.91031, in 0.069s\n",
      "[88/1000] 1 tree, 31 leaves, max depth = 17, train score: 0.98305, val score: 0.91030, in 0.069s\n",
      "[89/1000] 1 tree, 31 leaves, max depth = 9, train score: 0.98335, val score: 0.91228, in 0.069s\n",
      "[90/1000] 1 tree, 31 leaves, max depth = 14, train score: 0.98344, val score: 0.91249, in 0.071s\n",
      "[91/1000] 1 tree, 31 leaves, max depth = 12, train score: 0.98410, val score: 0.91291, in 0.067s\n",
      "[92/1000] 1 tree, 31 leaves, max depth = 12, train score: 0.98448, val score: 0.91216, in 0.068s\n",
      "[93/1000] 1 tree, 31 leaves, max depth = 15, train score: 0.98583, val score: 0.91212, in 0.068s\n",
      "[94/1000] 1 tree, 31 leaves, max depth = 12, train score: 0.98602, val score: 0.91189, in 0.072s\n",
      "[95/1000] 1 tree, 31 leaves, max depth = 12, train score: 0.98612, val score: 0.91216, in 0.069s\n",
      "[96/1000] 1 tree, 31 leaves, max depth = 10, train score: 0.98622, val score: 0.91205, in 0.071s\n",
      "[97/1000] 1 tree, 31 leaves, max depth = 12, train score: 0.98630, val score: 0.91221, in 0.081s\n",
      "[98/1000] 1 tree, 31 leaves, max depth = 10, train score: 0.98638, val score: 0.91240, in 0.067s\n",
      "[99/1000] 1 tree, 31 leaves, max depth = 15, train score: 0.98643, val score: 0.91241, in 0.066s\n",
      "[100/1000] 1 tree, 31 leaves, max depth = 16, train score: 0.98674, val score: 0.91182, in 0.071s\n",
      "[101/1000] 1 tree, 31 leaves, max depth = 14, train score: 0.98684, val score: 0.91191, in 0.075s\n",
      "Fit 101 trees in 7.017 s, (3131 total leaves)\n",
      "Time spent computing histograms: 2.469s\n",
      "Time spent finding best splits:  0.731s\n",
      "Time spent applying splits:      0.906s\n",
      "Time spent predicting:           0.016s\n",
      "CPU times: user 40.6 s, sys: 7.03 s, total: 47.6 s\n",
      "Wall time: 7.22 s\n"
     ]
    },
    {
     "data": {
      "text/plain": [
       "(0.9813462443575784, 0.8539935554339263)"
      ]
     },
     "execution_count": 111,
     "metadata": {},
     "output_type": "execute_result"
    }
   ],
   "source": [
    "%%time\n",
    "clf = HistGradientBoostingClassifier(loss='binary_crossentropy', verbose=1,\n",
    "                                     max_iter=1000, scoring='roc_auc', tol=1e-8)\n",
    "clf.fit(xs,y)\n",
    "m_roc(y, xs), m_roc(valid_y, valid_xs)"
   ]
  },
  {
   "cell_type": "markdown",
   "metadata": {
    "heading_collapsed": true,
    "hidden": true
   },
   "source": [
    "### Hyperparameter tuning"
   ]
  },
  {
   "cell_type": "markdown",
   "metadata": {
    "hidden": true
   },
   "source": [
    "Hyperparameters were tuned interatively. Using both GridSearchCV and RandomizedGridSearchCV. RandomizedGridSearchCV was used for all 5 sets of parameters, than the final parameter set was double checked using GridSearchCV. Only the final results are displayed in the notenbook."
   ]
  },
  {
   "cell_type": "code",
   "execution_count": 30,
   "metadata": {
    "hidden": true
   },
   "outputs": [],
   "source": [
    "parameters1 = {\n",
    " 'max_iter': [1000],\n",
    " 'learning_rate': [0.0001, 0.001, 0.01, 0.1, 0.2, 0.3],\n",
    " 'max_depth': [None, 25, 50, 75],\n",
    " 'l2_regularization': [0, 1.5],\n",
    " 'max_bins': [255],\n",
    " 'max_leaf_nodes': [20, 31, 40, 50, 60],\n",
    " 'min_samples_leaf': [1, 5, 10, 20],\n",
    " 'random_state': [33],\n",
    " }"
   ]
  },
  {
   "cell_type": "code",
   "execution_count": 7,
   "metadata": {
    "hidden": true
   },
   "outputs": [],
   "source": [
    "parameters2 = {\n",
    " 'max_iter': [1000],\n",
    " 'learning_rate': [0.01, 0.1, 0.2, 0.3],\n",
    " 'max_depth': [None, 25, 50],\n",
    " 'l2_regularization': [0, 1.5],\n",
    " 'max_bins': [255],\n",
    " 'max_leaf_nodes': [20, 31, 40],\n",
    " 'min_samples_leaf': [1, 5],\n",
    " 'random_state': [33],\n",
    " }"
   ]
  },
  {
   "cell_type": "code",
   "execution_count": 23,
   "metadata": {
    "hidden": true
   },
   "outputs": [],
   "source": [
    "parameters3 = {\n",
    " 'max_iter': [1000],\n",
    " 'learning_rate': [0.005, 0.01, 0.1],\n",
    " 'max_depth': [15, 25, 35],\n",
    " 'l2_regularization': [1.5, 2.0],\n",
    " 'max_bins': [255],\n",
    " 'max_leaf_nodes': [40, 45, 50],\n",
    " 'min_samples_leaf': [5, 7, 10],\n",
    " 'random_state': [33],\n",
    " }"
   ]
  },
  {
   "cell_type": "code",
   "execution_count": 31,
   "metadata": {
    "hidden": true
   },
   "outputs": [],
   "source": [
    "parameters4 = {\n",
    " 'max_iter': [1000],\n",
    " 'learning_rate': [0.01, 0.02],\n",
    " 'max_depth': [25, 30],\n",
    " 'l2_regularization': [2.0, 2.5, 3.0],\n",
    " 'max_bins': [255],\n",
    " 'max_leaf_nodes': [37, 40, 43],\n",
    " 'min_samples_leaf': [7, 8, 9],\n",
    " 'random_state': [33],\n",
    " }"
   ]
  },
  {
   "cell_type": "code",
   "execution_count": 36,
   "metadata": {
    "hidden": true
   },
   "outputs": [],
   "source": [
    "parameters5 = {\n",
    " 'max_iter': [1000],\n",
    " 'learning_rate': [0.01, 0.02, 0.03],\n",
    " 'max_depth': [25, 27],\n",
    " 'l2_regularization': [2.4, 2.5, 2.6],\n",
    " 'max_bins': [255],\n",
    " 'max_leaf_nodes': [43, 44, 45],\n",
    " 'random_state': [33],\n",
    " }"
   ]
  },
  {
   "cell_type": "markdown",
   "metadata": {
    "hidden": true
   },
   "source": [
    "#### GridSearchCV"
   ]
  },
  {
   "cell_type": "code",
   "execution_count": 37,
   "metadata": {
    "hidden": true
   },
   "outputs": [],
   "source": [
    "clf = GridSearchCV(HistGradientBoostingClassifier(loss='binary_crossentropy', max_iter=1000, \n",
    "                                                  scoring='roc_auc', tol=1e-8 ), parameters5, \n",
    "                   scoring=make_scorer(roc_auc_score, needs_proba=True), n_jobs=-1)"
   ]
  },
  {
   "cell_type": "code",
   "execution_count": 38,
   "metadata": {
    "hidden": true
   },
   "outputs": [
    {
     "name": "stdout",
     "output_type": "stream",
     "text": [
      "CPU times: user 1min 24s, sys: 22.1 s, total: 1min 46s\n",
      "Wall time: 11min 42s\n"
     ]
    },
    {
     "data": {
      "text/plain": [
       "(HistGradientBoostingClassifier(l2_regularization=2.4, learning_rate=0.03,\n",
       "                                loss='binary_crossentropy', max_depth=25,\n",
       "                                max_iter=1000, max_leaf_nodes=44,\n",
       "                                random_state=33, scoring='roc_auc', tol=1e-08),\n",
       " 0.8691008607988312,\n",
       " {'l2_regularization': 2.4,\n",
       "  'learning_rate': 0.03,\n",
       "  'max_bins': 255,\n",
       "  'max_depth': 25,\n",
       "  'max_iter': 1000,\n",
       "  'max_leaf_nodes': 44,\n",
       "  'random_state': 33})"
      ]
     },
     "execution_count": 38,
     "metadata": {},
     "output_type": "execute_result"
    }
   ],
   "source": [
    "%%time\n",
    "clf.fit(xs, y)\n",
    "clf.best_estimator_, clf.best_score_, clf.best_params_"
   ]
  },
  {
   "cell_type": "code",
   "execution_count": 42,
   "metadata": {
    "hidden": true,
    "scrolled": false
   },
   "outputs": [
    {
     "name": "stdout",
     "output_type": "stream",
     "text": [
      "Binning 0.042 GB of training data: 0.273 s\n",
      "Binning 0.005 GB of validation data: 0.019 s\n",
      "Fitting gradient boosted rounds:\n",
      "[1/1000] 1 tree, 44 leaves, max depth = 9, train score: 0.83422, val score: 0.83526, in 0.076s\n",
      "[2/1000] 1 tree, 44 leaves, max depth = 10, train score: 0.84166, val score: 0.84216, in 0.081s\n",
      "[3/1000] 1 tree, 44 leaves, max depth = 9, train score: 0.84365, val score: 0.84422, in 0.081s\n",
      "[4/1000] 1 tree, 44 leaves, max depth = 10, train score: 0.84635, val score: 0.84409, in 0.120s\n",
      "[5/1000] 1 tree, 44 leaves, max depth = 12, train score: 0.85918, val score: 0.85764, in 0.079s\n",
      "[6/1000] 1 tree, 44 leaves, max depth = 11, train score: 0.85980, val score: 0.85770, in 0.122s\n",
      "[7/1000] 1 tree, 44 leaves, max depth = 10, train score: 0.85984, val score: 0.85860, in 0.120s\n",
      "[8/1000] 1 tree, 44 leaves, max depth = 11, train score: 0.86009, val score: 0.85848, in 0.130s\n",
      "[9/1000] 1 tree, 44 leaves, max depth = 10, train score: 0.86031, val score: 0.85919, in 0.116s\n",
      "[10/1000] 1 tree, 44 leaves, max depth = 9, train score: 0.86073, val score: 0.86045, in 0.108s\n",
      "[11/1000] 1 tree, 44 leaves, max depth = 9, train score: 0.86159, val score: 0.86052, in 0.119s\n",
      "[12/1000] 1 tree, 44 leaves, max depth = 10, train score: 0.86171, val score: 0.86132, in 0.117s\n",
      "[13/1000] 1 tree, 44 leaves, max depth = 9, train score: 0.86141, val score: 0.86127, in 0.092s\n",
      "[14/1000] 1 tree, 44 leaves, max depth = 9, train score: 0.86484, val score: 0.86540, in 0.085s\n",
      "[15/1000] 1 tree, 44 leaves, max depth = 9, train score: 0.86536, val score: 0.86336, in 0.083s\n",
      "[16/1000] 1 tree, 44 leaves, max depth = 9, train score: 0.86606, val score: 0.86423, in 0.151s\n",
      "[17/1000] 1 tree, 44 leaves, max depth = 10, train score: 0.86660, val score: 0.86560, in 0.079s\n",
      "[18/1000] 1 tree, 44 leaves, max depth = 9, train score: 0.86755, val score: 0.86914, in 0.090s\n",
      "[19/1000] 1 tree, 44 leaves, max depth = 9, train score: 0.86816, val score: 0.87033, in 0.094s\n",
      "[20/1000] 1 tree, 44 leaves, max depth = 9, train score: 0.86825, val score: 0.86987, in 0.099s\n",
      "[21/1000] 1 tree, 44 leaves, max depth = 9, train score: 0.86935, val score: 0.87170, in 0.084s\n",
      "[22/1000] 1 tree, 44 leaves, max depth = 11, train score: 0.87147, val score: 0.87196, in 0.086s\n",
      "[23/1000] 1 tree, 44 leaves, max depth = 10, train score: 0.87226, val score: 0.87258, in 0.087s\n",
      "[24/1000] 1 tree, 44 leaves, max depth = 11, train score: 0.87310, val score: 0.87331, in 0.088s\n",
      "[25/1000] 1 tree, 44 leaves, max depth = 10, train score: 0.87391, val score: 0.87420, in 0.088s\n",
      "[26/1000] 1 tree, 44 leaves, max depth = 11, train score: 0.87489, val score: 0.87296, in 0.090s\n",
      "[27/1000] 1 tree, 44 leaves, max depth = 10, train score: 0.87710, val score: 0.87353, in 0.089s\n",
      "[28/1000] 1 tree, 44 leaves, max depth = 10, train score: 0.87753, val score: 0.87348, in 0.166s\n",
      "[29/1000] 1 tree, 44 leaves, max depth = 11, train score: 0.88040, val score: 0.87293, in 0.083s\n",
      "[30/1000] 1 tree, 44 leaves, max depth = 10, train score: 0.88146, val score: 0.87526, in 0.087s\n",
      "[31/1000] 1 tree, 44 leaves, max depth = 11, train score: 0.88231, val score: 0.87540, in 0.087s\n",
      "[32/1000] 1 tree, 44 leaves, max depth = 11, train score: 0.88375, val score: 0.87678, in 0.089s\n",
      "[33/1000] 1 tree, 44 leaves, max depth = 10, train score: 0.88430, val score: 0.87690, in 0.088s\n",
      "[34/1000] 1 tree, 44 leaves, max depth = 10, train score: 0.88477, val score: 0.87687, in 0.095s\n",
      "[35/1000] 1 tree, 44 leaves, max depth = 11, train score: 0.88586, val score: 0.87710, in 0.091s\n",
      "[36/1000] 1 tree, 44 leaves, max depth = 11, train score: 0.88613, val score: 0.87711, in 0.093s\n",
      "[37/1000] 1 tree, 44 leaves, max depth = 9, train score: 0.88865, val score: 0.87835, in 0.090s\n",
      "[38/1000] 1 tree, 44 leaves, max depth = 11, train score: 0.88888, val score: 0.87923, in 0.093s\n",
      "[39/1000] 1 tree, 44 leaves, max depth = 10, train score: 0.88981, val score: 0.88004, in 0.092s\n",
      "[40/1000] 1 tree, 44 leaves, max depth = 10, train score: 0.89029, val score: 0.88074, in 0.093s\n",
      "[41/1000] 1 tree, 44 leaves, max depth = 9, train score: 0.89101, val score: 0.88096, in 0.160s\n",
      "[42/1000] 1 tree, 44 leaves, max depth = 11, train score: 0.89159, val score: 0.88196, in 0.091s\n",
      "[43/1000] 1 tree, 44 leaves, max depth = 10, train score: 0.89196, val score: 0.88261, in 0.092s\n",
      "[44/1000] 1 tree, 44 leaves, max depth = 9, train score: 0.89386, val score: 0.88278, in 0.093s\n",
      "[45/1000] 1 tree, 44 leaves, max depth = 12, train score: 0.89473, val score: 0.88430, in 0.093s\n",
      "[46/1000] 1 tree, 44 leaves, max depth = 10, train score: 0.89476, val score: 0.88469, in 0.094s\n",
      "[47/1000] 1 tree, 44 leaves, max depth = 13, train score: 0.89538, val score: 0.88481, in 0.099s\n",
      "[48/1000] 1 tree, 44 leaves, max depth = 10, train score: 0.89674, val score: 0.88578, in 0.094s\n",
      "[49/1000] 1 tree, 44 leaves, max depth = 12, train score: 0.89735, val score: 0.88662, in 0.096s\n",
      "[50/1000] 1 tree, 44 leaves, max depth = 12, train score: 0.89779, val score: 0.88676, in 0.096s\n",
      "[51/1000] 1 tree, 44 leaves, max depth = 12, train score: 0.89841, val score: 0.88710, in 0.097s\n",
      "[52/1000] 1 tree, 44 leaves, max depth = 12, train score: 0.89909, val score: 0.88725, in 0.096s\n",
      "[53/1000] 1 tree, 44 leaves, max depth = 17, train score: 0.90040, val score: 0.88763, in 0.172s\n",
      "[54/1000] 1 tree, 44 leaves, max depth = 9, train score: 0.90078, val score: 0.88843, in 0.159s\n",
      "[55/1000] 1 tree, 44 leaves, max depth = 12, train score: 0.90149, val score: 0.88903, in 0.122s\n",
      "[56/1000] 1 tree, 44 leaves, max depth = 12, train score: 0.90324, val score: 0.89035, in 0.105s\n",
      "[57/1000] 1 tree, 44 leaves, max depth = 13, train score: 0.90402, val score: 0.89095, in 0.100s\n",
      "[58/1000] 1 tree, 44 leaves, max depth = 13, train score: 0.90436, val score: 0.89130, in 0.099s\n",
      "[59/1000] 1 tree, 44 leaves, max depth = 11, train score: 0.90571, val score: 0.89151, in 0.102s\n",
      "[60/1000] 1 tree, 44 leaves, max depth = 12, train score: 0.90640, val score: 0.89184, in 0.118s\n",
      "[61/1000] 1 tree, 44 leaves, max depth = 9, train score: 0.90747, val score: 0.89201, in 0.116s\n",
      "[62/1000] 1 tree, 44 leaves, max depth = 12, train score: 0.90857, val score: 0.89243, in 0.120s\n",
      "[63/1000] 1 tree, 44 leaves, max depth = 11, train score: 0.90929, val score: 0.89267, in 0.106s\n",
      "[64/1000] 1 tree, 44 leaves, max depth = 12, train score: 0.91016, val score: 0.89326, in 0.106s\n",
      "[65/1000] 1 tree, 44 leaves, max depth = 11, train score: 0.91096, val score: 0.89354, in 0.110s\n",
      "[66/1000] 1 tree, 44 leaves, max depth = 12, train score: 0.91272, val score: 0.89427, in 0.190s\n",
      "[67/1000] 1 tree, 44 leaves, max depth = 14, train score: 0.91354, val score: 0.89452, in 0.108s\n",
      "[68/1000] 1 tree, 44 leaves, max depth = 15, train score: 0.91421, val score: 0.89500, in 0.103s\n",
      "[69/1000] 1 tree, 44 leaves, max depth = 12, train score: 0.91468, val score: 0.89613, in 0.104s\n",
      "[70/1000] 1 tree, 44 leaves, max depth = 13, train score: 0.91602, val score: 0.89646, in 0.106s\n",
      "[71/1000] 1 tree, 44 leaves, max depth = 10, train score: 0.91664, val score: 0.89715, in 0.106s\n",
      "[72/1000] 1 tree, 44 leaves, max depth = 14, train score: 0.91733, val score: 0.89773, in 0.108s\n",
      "[73/1000] 1 tree, 44 leaves, max depth = 12, train score: 0.91787, val score: 0.89832, in 0.113s\n",
      "[74/1000] 1 tree, 44 leaves, max depth = 13, train score: 0.91854, val score: 0.89846, in 0.116s\n",
      "[75/1000] 1 tree, 44 leaves, max depth = 13, train score: 0.91900, val score: 0.89847, in 0.113s\n",
      "[76/1000] 1 tree, 44 leaves, max depth = 14, train score: 0.91926, val score: 0.89879, in 0.112s\n",
      "[77/1000] 1 tree, 44 leaves, max depth = 12, train score: 0.91965, val score: 0.89893, in 0.110s\n",
      "[78/1000] 1 tree, 44 leaves, max depth = 13, train score: 0.92069, val score: 0.89952, in 0.174s\n",
      "[79/1000] 1 tree, 44 leaves, max depth = 13, train score: 0.92250, val score: 0.89978, in 0.109s\n",
      "[80/1000] 1 tree, 44 leaves, max depth = 14, train score: 0.92362, val score: 0.90079, in 0.108s\n",
      "[81/1000] 1 tree, 44 leaves, max depth = 13, train score: 0.92475, val score: 0.90095, in 0.112s\n",
      "[82/1000] 1 tree, 44 leaves, max depth = 12, train score: 0.92537, val score: 0.90131, in 0.107s\n",
      "[83/1000] 1 tree, 44 leaves, max depth = 13, train score: 0.92644, val score: 0.90140, in 0.109s\n",
      "[84/1000] 1 tree, 44 leaves, max depth = 14, train score: 0.92687, val score: 0.90166, in 0.107s\n"
     ]
    },
    {
     "name": "stdout",
     "output_type": "stream",
     "text": [
      "[85/1000] 1 tree, 44 leaves, max depth = 13, train score: 0.92742, val score: 0.90149, in 0.116s\n",
      "[86/1000] 1 tree, 44 leaves, max depth = 14, train score: 0.92801, val score: 0.90142, in 0.117s\n",
      "[87/1000] 1 tree, 44 leaves, max depth = 17, train score: 0.92856, val score: 0.90216, in 0.111s\n",
      "[88/1000] 1 tree, 44 leaves, max depth = 13, train score: 0.92926, val score: 0.90224, in 0.111s\n",
      "[89/1000] 1 tree, 44 leaves, max depth = 11, train score: 0.92989, val score: 0.90258, in 0.107s\n",
      "[90/1000] 1 tree, 44 leaves, max depth = 11, train score: 0.93051, val score: 0.90300, in 0.181s\n",
      "[91/1000] 1 tree, 44 leaves, max depth = 14, train score: 0.93145, val score: 0.90335, in 0.106s\n",
      "[92/1000] 1 tree, 44 leaves, max depth = 19, train score: 0.93208, val score: 0.90435, in 0.272s\n",
      "[93/1000] 1 tree, 44 leaves, max depth = 14, train score: 0.93265, val score: 0.90504, in 0.110s\n",
      "[94/1000] 1 tree, 44 leaves, max depth = 12, train score: 0.93347, val score: 0.90482, in 0.107s\n",
      "[95/1000] 1 tree, 44 leaves, max depth = 15, train score: 0.93415, val score: 0.90530, in 0.111s\n",
      "[96/1000] 1 tree, 44 leaves, max depth = 18, train score: 0.93497, val score: 0.90550, in 0.113s\n",
      "[97/1000] 1 tree, 44 leaves, max depth = 15, train score: 0.93570, val score: 0.90577, in 0.107s\n",
      "[98/1000] 1 tree, 44 leaves, max depth = 13, train score: 0.93606, val score: 0.90642, in 0.110s\n",
      "[99/1000] 1 tree, 44 leaves, max depth = 15, train score: 0.93674, val score: 0.90662, in 0.112s\n",
      "[100/1000] 1 tree, 44 leaves, max depth = 12, train score: 0.93720, val score: 0.90695, in 0.110s\n",
      "[101/1000] 1 tree, 44 leaves, max depth = 17, train score: 0.93771, val score: 0.90743, in 0.111s\n",
      "[102/1000] 1 tree, 44 leaves, max depth = 14, train score: 0.93836, val score: 0.90777, in 0.116s\n",
      "[103/1000] 1 tree, 44 leaves, max depth = 12, train score: 0.93904, val score: 0.90820, in 0.189s\n",
      "[104/1000] 1 tree, 44 leaves, max depth = 14, train score: 0.93932, val score: 0.90817, in 0.107s\n",
      "[105/1000] 1 tree, 44 leaves, max depth = 15, train score: 0.94000, val score: 0.90842, in 0.112s\n",
      "[106/1000] 1 tree, 44 leaves, max depth = 19, train score: 0.94048, val score: 0.90876, in 0.117s\n",
      "[107/1000] 1 tree, 44 leaves, max depth = 12, train score: 0.94114, val score: 0.90911, in 0.128s\n",
      "[108/1000] 1 tree, 44 leaves, max depth = 13, train score: 0.94151, val score: 0.90918, in 0.116s\n",
      "[109/1000] 1 tree, 44 leaves, max depth = 10, train score: 0.94181, val score: 0.90937, in 0.114s\n",
      "[110/1000] 1 tree, 44 leaves, max depth = 20, train score: 0.94249, val score: 0.90981, in 0.114s\n",
      "[111/1000] 1 tree, 44 leaves, max depth = 17, train score: 0.94309, val score: 0.90999, in 0.118s\n",
      "[112/1000] 1 tree, 44 leaves, max depth = 15, train score: 0.94358, val score: 0.91010, in 0.120s\n",
      "[113/1000] 1 tree, 44 leaves, max depth = 15, train score: 0.94402, val score: 0.91034, in 0.120s\n",
      "[114/1000] 1 tree, 44 leaves, max depth = 15, train score: 0.94412, val score: 0.91055, in 0.120s\n",
      "[115/1000] 1 tree, 44 leaves, max depth = 14, train score: 0.94478, val score: 0.91062, in 0.122s\n",
      "[116/1000] 1 tree, 44 leaves, max depth = 14, train score: 0.94532, val score: 0.91100, in 0.180s\n",
      "[117/1000] 1 tree, 44 leaves, max depth = 19, train score: 0.94592, val score: 0.91108, in 0.118s\n",
      "[118/1000] 1 tree, 44 leaves, max depth = 16, train score: 0.94631, val score: 0.91130, in 0.117s\n",
      "[119/1000] 1 tree, 44 leaves, max depth = 18, train score: 0.94686, val score: 0.91159, in 0.116s\n",
      "[120/1000] 1 tree, 44 leaves, max depth = 16, train score: 0.94735, val score: 0.91170, in 0.123s\n",
      "[121/1000] 1 tree, 44 leaves, max depth = 14, train score: 0.94773, val score: 0.91216, in 0.121s\n",
      "[122/1000] 1 tree, 44 leaves, max depth = 18, train score: 0.94799, val score: 0.91215, in 0.117s\n",
      "[123/1000] 1 tree, 44 leaves, max depth = 17, train score: 0.94830, val score: 0.91229, in 0.120s\n",
      "[124/1000] 1 tree, 44 leaves, max depth = 10, train score: 0.94878, val score: 0.91235, in 0.124s\n",
      "[125/1000] 1 tree, 44 leaves, max depth = 17, train score: 0.94919, val score: 0.91272, in 0.125s\n",
      "[126/1000] 1 tree, 44 leaves, max depth = 14, train score: 0.94969, val score: 0.91303, in 0.124s\n",
      "[127/1000] 1 tree, 44 leaves, max depth = 20, train score: 0.95010, val score: 0.91319, in 0.128s\n",
      "[128/1000] 1 tree, 44 leaves, max depth = 20, train score: 0.95021, val score: 0.91342, in 0.194s\n",
      "[129/1000] 1 tree, 44 leaves, max depth = 14, train score: 0.95085, val score: 0.91357, in 0.125s\n",
      "[130/1000] 1 tree, 44 leaves, max depth = 16, train score: 0.95136, val score: 0.91384, in 0.121s\n",
      "[131/1000] 1 tree, 44 leaves, max depth = 15, train score: 0.95179, val score: 0.91442, in 0.127s\n",
      "[132/1000] 1 tree, 44 leaves, max depth = 17, train score: 0.95199, val score: 0.91454, in 0.124s\n",
      "[133/1000] 1 tree, 44 leaves, max depth = 16, train score: 0.95248, val score: 0.91470, in 0.120s\n",
      "[134/1000] 1 tree, 44 leaves, max depth = 15, train score: 0.95277, val score: 0.91500, in 0.127s\n",
      "[135/1000] 1 tree, 44 leaves, max depth = 9, train score: 0.95305, val score: 0.91481, in 0.126s\n",
      "[136/1000] 1 tree, 44 leaves, max depth = 15, train score: 0.95324, val score: 0.91492, in 0.128s\n",
      "[137/1000] 1 tree, 44 leaves, max depth = 16, train score: 0.95352, val score: 0.91530, in 0.128s\n",
      "[138/1000] 1 tree, 44 leaves, max depth = 14, train score: 0.95401, val score: 0.91542, in 0.131s\n",
      "[139/1000] 1 tree, 44 leaves, max depth = 16, train score: 0.95417, val score: 0.91568, in 0.126s\n",
      "[140/1000] 1 tree, 44 leaves, max depth = 16, train score: 0.95453, val score: 0.91568, in 0.130s\n",
      "[141/1000] 1 tree, 44 leaves, max depth = 16, train score: 0.95478, val score: 0.91607, in 0.184s\n",
      "[142/1000] 1 tree, 44 leaves, max depth = 17, train score: 0.95500, val score: 0.91638, in 0.126s\n",
      "[143/1000] 1 tree, 44 leaves, max depth = 14, train score: 0.95529, val score: 0.91661, in 0.125s\n",
      "[144/1000] 1 tree, 44 leaves, max depth = 20, train score: 0.95541, val score: 0.91663, in 0.128s\n",
      "[145/1000] 1 tree, 44 leaves, max depth = 15, train score: 0.95581, val score: 0.91674, in 0.128s\n",
      "[146/1000] 1 tree, 44 leaves, max depth = 17, train score: 0.95618, val score: 0.91714, in 0.129s\n",
      "[147/1000] 1 tree, 44 leaves, max depth = 14, train score: 0.95639, val score: 0.91710, in 0.128s\n",
      "[148/1000] 1 tree, 44 leaves, max depth = 12, train score: 0.95658, val score: 0.91716, in 0.131s\n",
      "[149/1000] 1 tree, 44 leaves, max depth = 17, train score: 0.95698, val score: 0.91720, in 0.132s\n",
      "[150/1000] 1 tree, 44 leaves, max depth = 12, train score: 0.95729, val score: 0.91729, in 0.133s\n",
      "[151/1000] 1 tree, 44 leaves, max depth = 14, train score: 0.95765, val score: 0.91755, in 0.136s\n",
      "[152/1000] 1 tree, 44 leaves, max depth = 16, train score: 0.95807, val score: 0.91751, in 0.184s\n",
      "[153/1000] 1 tree, 44 leaves, max depth = 15, train score: 0.95820, val score: 0.91773, in 0.197s\n",
      "[154/1000] 1 tree, 44 leaves, max depth = 14, train score: 0.95855, val score: 0.91775, in 0.136s\n",
      "[155/1000] 1 tree, 44 leaves, max depth = 16, train score: 0.95878, val score: 0.91807, in 0.127s\n",
      "[156/1000] 1 tree, 44 leaves, max depth = 18, train score: 0.95915, val score: 0.91837, in 0.168s\n",
      "[157/1000] 1 tree, 44 leaves, max depth = 16, train score: 0.95936, val score: 0.91828, in 0.174s\n",
      "[158/1000] 1 tree, 44 leaves, max depth = 12, train score: 0.95959, val score: 0.91846, in 0.146s\n",
      "[159/1000] 1 tree, 44 leaves, max depth = 18, train score: 0.95991, val score: 0.91841, in 0.144s\n",
      "[160/1000] 1 tree, 44 leaves, max depth = 20, train score: 0.96021, val score: 0.91855, in 0.150s\n",
      "[161/1000] 1 tree, 44 leaves, max depth = 17, train score: 0.96039, val score: 0.91846, in 0.214s\n",
      "[162/1000] 1 tree, 44 leaves, max depth = 16, train score: 0.96059, val score: 0.91861, in 0.147s\n",
      "[163/1000] 1 tree, 44 leaves, max depth = 13, train score: 0.96080, val score: 0.91871, in 0.143s\n",
      "[164/1000] 1 tree, 44 leaves, max depth = 18, train score: 0.96090, val score: 0.91901, in 0.150s\n",
      "[165/1000] 1 tree, 44 leaves, max depth = 10, train score: 0.96143, val score: 0.91920, in 0.256s\n",
      "[166/1000] 1 tree, 44 leaves, max depth = 18, train score: 0.96179, val score: 0.91932, in 0.156s\n",
      "[167/1000] 1 tree, 44 leaves, max depth = 14, train score: 0.96209, val score: 0.91942, in 0.145s\n",
      "[168/1000] 1 tree, 44 leaves, max depth = 15, train score: 0.96230, val score: 0.91939, in 0.196s\n"
     ]
    },
    {
     "name": "stdout",
     "output_type": "stream",
     "text": [
      "[169/1000] 1 tree, 44 leaves, max depth = 20, train score: 0.96254, val score: 0.91969, in 0.204s\n",
      "[170/1000] 1 tree, 44 leaves, max depth = 12, train score: 0.96271, val score: 0.91994, in 0.156s\n",
      "[171/1000] 1 tree, 44 leaves, max depth = 18, train score: 0.96299, val score: 0.91994, in 0.145s\n",
      "[172/1000] 1 tree, 44 leaves, max depth = 15, train score: 0.96309, val score: 0.92024, in 0.142s\n",
      "[173/1000] 1 tree, 44 leaves, max depth = 18, train score: 0.96335, val score: 0.92045, in 0.171s\n",
      "[174/1000] 1 tree, 44 leaves, max depth = 14, train score: 0.96377, val score: 0.92087, in 0.175s\n",
      "[175/1000] 1 tree, 44 leaves, max depth = 16, train score: 0.96408, val score: 0.92078, in 0.150s\n",
      "[176/1000] 1 tree, 44 leaves, max depth = 14, train score: 0.96426, val score: 0.92085, in 0.141s\n",
      "[177/1000] 1 tree, 44 leaves, max depth = 21, train score: 0.96446, val score: 0.92099, in 0.145s\n",
      "[178/1000] 1 tree, 44 leaves, max depth = 11, train score: 0.96457, val score: 0.92096, in 0.211s\n",
      "[179/1000] 1 tree, 44 leaves, max depth = 13, train score: 0.96463, val score: 0.92105, in 0.142s\n",
      "[180/1000] 1 tree, 44 leaves, max depth = 9, train score: 0.96474, val score: 0.92122, in 0.140s\n",
      "[181/1000] 1 tree, 44 leaves, max depth = 19, train score: 0.96493, val score: 0.92135, in 0.145s\n",
      "[182/1000] 1 tree, 44 leaves, max depth = 13, train score: 0.96507, val score: 0.92154, in 0.143s\n",
      "[183/1000] 1 tree, 44 leaves, max depth = 13, train score: 0.96556, val score: 0.92168, in 0.154s\n",
      "[184/1000] 1 tree, 44 leaves, max depth = 16, train score: 0.96579, val score: 0.92161, in 0.281s\n",
      "[185/1000] 1 tree, 44 leaves, max depth = 14, train score: 0.96599, val score: 0.92163, in 0.290s\n",
      "[186/1000] 1 tree, 44 leaves, max depth = 15, train score: 0.96617, val score: 0.92157, in 0.165s\n",
      "[187/1000] 1 tree, 44 leaves, max depth = 12, train score: 0.96651, val score: 0.92162, in 0.230s\n",
      "[188/1000] 1 tree, 44 leaves, max depth = 17, train score: 0.96676, val score: 0.92175, in 0.211s\n",
      "[189/1000] 1 tree, 44 leaves, max depth = 15, train score: 0.96681, val score: 0.92167, in 0.163s\n",
      "[190/1000] 1 tree, 44 leaves, max depth = 11, train score: 0.96692, val score: 0.92180, in 0.357s\n",
      "[191/1000] 1 tree, 44 leaves, max depth = 13, train score: 0.96702, val score: 0.92166, in 0.162s\n",
      "[192/1000] 1 tree, 44 leaves, max depth = 12, train score: 0.96728, val score: 0.92167, in 0.158s\n",
      "[193/1000] 1 tree, 44 leaves, max depth = 17, train score: 0.96749, val score: 0.92183, in 0.158s\n",
      "[194/1000] 1 tree, 44 leaves, max depth = 17, train score: 0.96765, val score: 0.92173, in 0.260s\n",
      "[195/1000] 1 tree, 44 leaves, max depth = 14, train score: 0.96768, val score: 0.92179, in 0.163s\n",
      "[196/1000] 1 tree, 44 leaves, max depth = 8, train score: 0.96804, val score: 0.92194, in 0.150s\n",
      "[197/1000] 1 tree, 44 leaves, max depth = 15, train score: 0.96810, val score: 0.92198, in 0.151s\n",
      "[198/1000] 1 tree, 44 leaves, max depth = 12, train score: 0.96833, val score: 0.92188, in 0.178s\n",
      "[199/1000] 1 tree, 44 leaves, max depth = 11, train score: 0.96849, val score: 0.92164, in 0.174s\n",
      "[200/1000] 1 tree, 44 leaves, max depth = 16, train score: 0.96861, val score: 0.92176, in 0.149s\n",
      "[201/1000] 1 tree, 44 leaves, max depth = 17, train score: 0.96865, val score: 0.92182, in 0.148s\n",
      "[202/1000] 1 tree, 44 leaves, max depth = 14, train score: 0.96880, val score: 0.92163, in 0.151s\n",
      "[203/1000] 1 tree, 44 leaves, max depth = 16, train score: 0.96896, val score: 0.92167, in 0.216s\n",
      "[204/1000] 1 tree, 44 leaves, max depth = 13, train score: 0.96901, val score: 0.92175, in 0.147s\n",
      "[205/1000] 1 tree, 44 leaves, max depth = 14, train score: 0.96922, val score: 0.92189, in 0.152s\n",
      "[206/1000] 1 tree, 44 leaves, max depth = 13, train score: 0.96940, val score: 0.92188, in 0.148s\n",
      "[207/1000] 1 tree, 44 leaves, max depth = 15, train score: 0.96943, val score: 0.92186, in 0.150s\n",
      "Fit 207 trees in 27.606 s, (9108 total leaves)\n",
      "Time spent computing histograms: 9.990s\n",
      "Time spent finding best splits:  2.807s\n",
      "Time spent applying splits:      3.209s\n",
      "Time spent predicting:           0.046s\n",
      "CPU times: user 2min 46s, sys: 28.7 s, total: 3min 15s\n",
      "Wall time: 28 s\n"
     ]
    },
    {
     "data": {
      "text/plain": [
       "(0.9659117013340929, 0.8577956250355605)"
      ]
     },
     "execution_count": 42,
     "metadata": {},
     "output_type": "execute_result"
    }
   ],
   "source": [
    "%%time\n",
    "clf = HistGradientBoostingClassifier(loss='binary_crossentropy', verbose=1, l2_regularization=2.4,\n",
    "                             learning_rate=0.03, max_depth=25, max_iter=1000, max_leaf_nodes=44,\n",
    "                             min_samples_leaf=8,  scoring='roc_auc', tol=1e-8)\n",
    "clf.fit(xs, y)\n",
    "m_roc(y, xs), m_roc(valid_y, valid_xs)"
   ]
  },
  {
   "cell_type": "markdown",
   "metadata": {
    "heading_collapsed": true,
    "hidden": true
   },
   "source": [
    "#### RandomizedSearchCV"
   ]
  },
  {
   "cell_type": "code",
   "execution_count": 43,
   "metadata": {
    "hidden": true
   },
   "outputs": [],
   "source": [
    "clf = RandomizedSearchCV(HistGradientBoostingClassifier(loss='binary_crossentropy', max_iter=1000, \n",
    "                                                  scoring='roc_auc', tol=1e-8 ), parameters5, \n",
    "                   scoring=make_scorer(roc_auc_score, needs_proba=True), n_jobs=-1)"
   ]
  },
  {
   "cell_type": "code",
   "execution_count": 44,
   "metadata": {
    "hidden": true
   },
   "outputs": [
    {
     "name": "stdout",
     "output_type": "stream",
     "text": [
      "CPU times: user 1min 19s, sys: 18 s, total: 1min 37s\n",
      "Wall time: 2min 17s\n"
     ]
    },
    {
     "data": {
      "text/plain": [
       "(HistGradientBoostingClassifier(l2_regularization=2.4, learning_rate=0.03,\n",
       "                                loss='binary_crossentropy', max_depth=27,\n",
       "                                max_iter=1000, max_leaf_nodes=44,\n",
       "                                random_state=33, scoring='roc_auc', tol=1e-08),\n",
       " 0.8691008607988312,\n",
       " {'random_state': 33,\n",
       "  'max_leaf_nodes': 44,\n",
       "  'max_iter': 1000,\n",
       "  'max_depth': 27,\n",
       "  'max_bins': 255,\n",
       "  'learning_rate': 0.03,\n",
       "  'l2_regularization': 2.4})"
      ]
     },
     "execution_count": 44,
     "metadata": {},
     "output_type": "execute_result"
    }
   ],
   "source": [
    "%%time\n",
    "clf.fit(xs, y)\n",
    "clf.best_estimator_, clf.best_score_, clf.best_params_"
   ]
  },
  {
   "cell_type": "code",
   "execution_count": 45,
   "metadata": {
    "hidden": true,
    "scrolled": false
   },
   "outputs": [
    {
     "name": "stdout",
     "output_type": "stream",
     "text": [
      "Binning 0.042 GB of training data: 0.259 s\n",
      "Binning 0.005 GB of validation data: 0.019 s\n",
      "Fitting gradient boosted rounds:\n",
      "[1/1000] 1 tree, 44 leaves, max depth = 11, train score: 0.82760, val score: 0.80686, in 0.052s\n",
      "[2/1000] 1 tree, 44 leaves, max depth = 11, train score: 0.83003, val score: 0.80806, in 0.101s\n",
      "[3/1000] 1 tree, 44 leaves, max depth = 13, train score: 0.83584, val score: 0.81004, in 0.050s\n",
      "[4/1000] 1 tree, 44 leaves, max depth = 10, train score: 0.84916, val score: 0.83466, in 0.052s\n",
      "[5/1000] 1 tree, 44 leaves, max depth = 12, train score: 0.85368, val score: 0.83562, in 0.053s\n",
      "[6/1000] 1 tree, 44 leaves, max depth = 12, train score: 0.85301, val score: 0.83424, in 0.053s\n",
      "[7/1000] 1 tree, 44 leaves, max depth = 12, train score: 0.85311, val score: 0.83412, in 0.051s\n",
      "[8/1000] 1 tree, 44 leaves, max depth = 10, train score: 0.85305, val score: 0.83381, in 0.055s\n",
      "[9/1000] 1 tree, 44 leaves, max depth = 11, train score: 0.85380, val score: 0.83552, in 0.052s\n",
      "[10/1000] 1 tree, 44 leaves, max depth = 11, train score: 0.85585, val score: 0.83623, in 0.053s\n",
      "[11/1000] 1 tree, 44 leaves, max depth = 10, train score: 0.85646, val score: 0.83835, in 0.053s\n",
      "[12/1000] 1 tree, 44 leaves, max depth = 10, train score: 0.85703, val score: 0.83888, in 0.053s\n",
      "[13/1000] 1 tree, 44 leaves, max depth = 10, train score: 0.85904, val score: 0.84034, in 0.054s\n",
      "[14/1000] 1 tree, 44 leaves, max depth = 10, train score: 0.85907, val score: 0.84145, in 0.112s\n",
      "[15/1000] 1 tree, 44 leaves, max depth = 8, train score: 0.86193, val score: 0.84541, in 0.051s\n",
      "[16/1000] 1 tree, 44 leaves, max depth = 8, train score: 0.86277, val score: 0.84595, in 0.056s\n",
      "[17/1000] 1 tree, 44 leaves, max depth = 9, train score: 0.86326, val score: 0.84674, in 0.054s\n",
      "[18/1000] 1 tree, 44 leaves, max depth = 10, train score: 0.86391, val score: 0.84662, in 0.055s\n",
      "[19/1000] 1 tree, 44 leaves, max depth = 11, train score: 0.86398, val score: 0.84834, in 0.056s\n",
      "[20/1000] 1 tree, 44 leaves, max depth = 12, train score: 0.86514, val score: 0.84862, in 0.054s\n",
      "[21/1000] 1 tree, 44 leaves, max depth = 9, train score: 0.86565, val score: 0.84908, in 0.055s\n",
      "[22/1000] 1 tree, 44 leaves, max depth = 12, train score: 0.86601, val score: 0.84915, in 0.057s\n",
      "[23/1000] 1 tree, 44 leaves, max depth = 9, train score: 0.86634, val score: 0.84892, in 0.056s\n",
      "[24/1000] 1 tree, 44 leaves, max depth = 13, train score: 0.86788, val score: 0.85167, in 0.057s\n",
      "[25/1000] 1 tree, 44 leaves, max depth = 11, train score: 0.86841, val score: 0.85177, in 0.056s\n",
      "[26/1000] 1 tree, 44 leaves, max depth = 11, train score: 0.86900, val score: 0.85179, in 0.058s\n",
      "[27/1000] 1 tree, 44 leaves, max depth = 10, train score: 0.87143, val score: 0.85317, in 0.106s\n",
      "[28/1000] 1 tree, 44 leaves, max depth = 12, train score: 0.87187, val score: 0.85300, in 0.057s\n",
      "[29/1000] 1 tree, 44 leaves, max depth = 10, train score: 0.87317, val score: 0.85516, in 0.054s\n",
      "[30/1000] 1 tree, 44 leaves, max depth = 9, train score: 0.87527, val score: 0.85621, in 0.058s\n",
      "[31/1000] 1 tree, 44 leaves, max depth = 10, train score: 0.87839, val score: 0.85770, in 0.058s\n",
      "[32/1000] 1 tree, 44 leaves, max depth = 13, train score: 0.87912, val score: 0.85909, in 0.057s\n",
      "[33/1000] 1 tree, 44 leaves, max depth = 10, train score: 0.88023, val score: 0.85897, in 0.058s\n",
      "[34/1000] 1 tree, 44 leaves, max depth = 9, train score: 0.88143, val score: 0.85882, in 0.060s\n",
      "[35/1000] 1 tree, 44 leaves, max depth = 12, train score: 0.88583, val score: 0.86142, in 0.059s\n",
      "[36/1000] 1 tree, 44 leaves, max depth = 10, train score: 0.88639, val score: 0.86190, in 0.058s\n",
      "[37/1000] 1 tree, 44 leaves, max depth = 11, train score: 0.88709, val score: 0.86320, in 0.059s\n",
      "[38/1000] 1 tree, 44 leaves, max depth = 9, train score: 0.88983, val score: 0.86410, in 0.060s\n",
      "[39/1000] 1 tree, 44 leaves, max depth = 13, train score: 0.89160, val score: 0.86459, in 0.113s\n",
      "[40/1000] 1 tree, 44 leaves, max depth = 10, train score: 0.89277, val score: 0.86472, in 0.058s\n",
      "[41/1000] 1 tree, 44 leaves, max depth = 12, train score: 0.89340, val score: 0.86473, in 0.060s\n",
      "[42/1000] 1 tree, 44 leaves, max depth = 9, train score: 0.89368, val score: 0.86441, in 0.058s\n",
      "[43/1000] 1 tree, 44 leaves, max depth = 10, train score: 0.89502, val score: 0.86469, in 0.059s\n",
      "[44/1000] 1 tree, 44 leaves, max depth = 9, train score: 0.89523, val score: 0.86524, in 0.060s\n",
      "[45/1000] 1 tree, 44 leaves, max depth = 14, train score: 0.89600, val score: 0.86647, in 0.062s\n",
      "[46/1000] 1 tree, 44 leaves, max depth = 14, train score: 0.89763, val score: 0.86800, in 0.061s\n",
      "[47/1000] 1 tree, 44 leaves, max depth = 16, train score: 0.89805, val score: 0.86825, in 0.063s\n",
      "[48/1000] 1 tree, 44 leaves, max depth = 16, train score: 0.89873, val score: 0.86908, in 0.062s\n",
      "[49/1000] 1 tree, 44 leaves, max depth = 11, train score: 0.89927, val score: 0.86999, in 0.082s\n",
      "[50/1000] 1 tree, 44 leaves, max depth = 10, train score: 0.89938, val score: 0.86978, in 0.069s\n",
      "[51/1000] 1 tree, 44 leaves, max depth = 10, train score: 0.89993, val score: 0.86992, in 0.066s\n",
      "[52/1000] 1 tree, 44 leaves, max depth = 15, train score: 0.90096, val score: 0.87034, in 0.110s\n",
      "[53/1000] 1 tree, 44 leaves, max depth = 10, train score: 0.90174, val score: 0.87080, in 0.064s\n",
      "[54/1000] 1 tree, 44 leaves, max depth = 11, train score: 0.90240, val score: 0.87100, in 0.071s\n",
      "[55/1000] 1 tree, 44 leaves, max depth = 12, train score: 0.90318, val score: 0.87136, in 0.067s\n",
      "[56/1000] 1 tree, 44 leaves, max depth = 14, train score: 0.90364, val score: 0.87198, in 0.064s\n",
      "[57/1000] 1 tree, 44 leaves, max depth = 18, train score: 0.90435, val score: 0.87197, in 0.065s\n",
      "[58/1000] 1 tree, 44 leaves, max depth = 13, train score: 0.90477, val score: 0.87237, in 0.065s\n",
      "[59/1000] 1 tree, 44 leaves, max depth = 11, train score: 0.90505, val score: 0.87291, in 0.067s\n",
      "[60/1000] 1 tree, 44 leaves, max depth = 14, train score: 0.90594, val score: 0.87322, in 0.072s\n",
      "[61/1000] 1 tree, 44 leaves, max depth = 12, train score: 0.90625, val score: 0.87311, in 0.082s\n",
      "[62/1000] 1 tree, 44 leaves, max depth = 17, train score: 0.90693, val score: 0.87305, in 0.072s\n",
      "[63/1000] 1 tree, 44 leaves, max depth = 10, train score: 0.90769, val score: 0.87318, in 0.066s\n",
      "[64/1000] 1 tree, 44 leaves, max depth = 10, train score: 0.90832, val score: 0.87345, in 0.126s\n",
      "[65/1000] 1 tree, 44 leaves, max depth = 19, train score: 0.90904, val score: 0.87361, in 0.066s\n",
      "[66/1000] 1 tree, 44 leaves, max depth = 10, train score: 0.90947, val score: 0.87403, in 0.067s\n",
      "[67/1000] 1 tree, 44 leaves, max depth = 11, train score: 0.91000, val score: 0.87400, in 0.074s\n",
      "[68/1000] 1 tree, 44 leaves, max depth = 12, train score: 0.91086, val score: 0.87399, in 0.075s\n",
      "[69/1000] 1 tree, 44 leaves, max depth = 11, train score: 0.91103, val score: 0.87446, in 0.070s\n",
      "[70/1000] 1 tree, 44 leaves, max depth = 14, train score: 0.91188, val score: 0.87476, in 0.068s\n",
      "[71/1000] 1 tree, 44 leaves, max depth = 11, train score: 0.91196, val score: 0.87497, in 0.072s\n",
      "[72/1000] 1 tree, 44 leaves, max depth = 13, train score: 0.91269, val score: 0.87559, in 0.096s\n",
      "[73/1000] 1 tree, 44 leaves, max depth = 13, train score: 0.91335, val score: 0.87587, in 0.092s\n",
      "[74/1000] 1 tree, 44 leaves, max depth = 14, train score: 0.91400, val score: 0.87609, in 0.089s\n",
      "[75/1000] 1 tree, 44 leaves, max depth = 11, train score: 0.91550, val score: 0.87587, in 0.103s\n",
      "[76/1000] 1 tree, 44 leaves, max depth = 15, train score: 0.91592, val score: 0.87625, in 0.099s\n",
      "[77/1000] 1 tree, 44 leaves, max depth = 12, train score: 0.91635, val score: 0.87690, in 0.136s\n",
      "[78/1000] 1 tree, 44 leaves, max depth = 14, train score: 0.91690, val score: 0.87735, in 0.101s\n",
      "[79/1000] 1 tree, 44 leaves, max depth = 15, train score: 0.91738, val score: 0.87747, in 0.100s\n",
      "[80/1000] 1 tree, 44 leaves, max depth = 19, train score: 0.91794, val score: 0.87776, in 0.075s\n",
      "[81/1000] 1 tree, 44 leaves, max depth = 14, train score: 0.91900, val score: 0.87789, in 0.072s\n",
      "[82/1000] 1 tree, 44 leaves, max depth = 10, train score: 0.91976, val score: 0.87809, in 0.073s\n",
      "[83/1000] 1 tree, 44 leaves, max depth = 13, train score: 0.92047, val score: 0.87815, in 0.076s\n",
      "[84/1000] 1 tree, 44 leaves, max depth = 15, train score: 0.92126, val score: 0.87809, in 0.102s\n"
     ]
    },
    {
     "name": "stdout",
     "output_type": "stream",
     "text": [
      "[85/1000] 1 tree, 44 leaves, max depth = 10, train score: 0.92146, val score: 0.87816, in 0.105s\n",
      "[86/1000] 1 tree, 44 leaves, max depth = 17, train score: 0.92232, val score: 0.87912, in 0.083s\n",
      "[87/1000] 1 tree, 44 leaves, max depth = 13, train score: 0.92255, val score: 0.87928, in 0.080s\n",
      "[88/1000] 1 tree, 44 leaves, max depth = 12, train score: 0.92288, val score: 0.87950, in 0.074s\n",
      "[89/1000] 1 tree, 44 leaves, max depth = 12, train score: 0.92380, val score: 0.88020, in 0.117s\n",
      "[90/1000] 1 tree, 44 leaves, max depth = 19, train score: 0.92415, val score: 0.88021, in 0.065s\n",
      "[91/1000] 1 tree, 44 leaves, max depth = 14, train score: 0.92469, val score: 0.88100, in 0.067s\n",
      "[92/1000] 1 tree, 44 leaves, max depth = 14, train score: 0.92538, val score: 0.88118, in 0.077s\n",
      "[93/1000] 1 tree, 44 leaves, max depth = 15, train score: 0.92579, val score: 0.88122, in 0.076s\n",
      "[94/1000] 1 tree, 44 leaves, max depth = 14, train score: 0.92619, val score: 0.88132, in 0.080s\n",
      "[95/1000] 1 tree, 44 leaves, max depth = 11, train score: 0.92686, val score: 0.88153, in 0.078s\n",
      "[96/1000] 1 tree, 44 leaves, max depth = 12, train score: 0.92736, val score: 0.88169, in 0.070s\n",
      "[97/1000] 1 tree, 44 leaves, max depth = 13, train score: 0.92760, val score: 0.88189, in 0.070s\n",
      "[98/1000] 1 tree, 44 leaves, max depth = 12, train score: 0.92794, val score: 0.88204, in 0.070s\n",
      "[99/1000] 1 tree, 44 leaves, max depth = 13, train score: 0.92827, val score: 0.88227, in 0.075s\n",
      "[100/1000] 1 tree, 44 leaves, max depth = 13, train score: 0.92876, val score: 0.88219, in 0.095s\n",
      "[101/1000] 1 tree, 44 leaves, max depth = 14, train score: 0.92941, val score: 0.88283, in 0.154s\n",
      "[102/1000] 1 tree, 44 leaves, max depth = 14, train score: 0.92984, val score: 0.88277, in 0.126s\n",
      "[103/1000] 1 tree, 44 leaves, max depth = 15, train score: 0.93034, val score: 0.88243, in 0.092s\n",
      "[104/1000] 1 tree, 44 leaves, max depth = 11, train score: 0.93081, val score: 0.88240, in 0.074s\n",
      "[105/1000] 1 tree, 44 leaves, max depth = 14, train score: 0.93152, val score: 0.88250, in 0.071s\n",
      "[106/1000] 1 tree, 44 leaves, max depth = 17, train score: 0.93208, val score: 0.88249, in 0.071s\n",
      "[107/1000] 1 tree, 44 leaves, max depth = 16, train score: 0.93266, val score: 0.88263, in 0.073s\n",
      "[108/1000] 1 tree, 44 leaves, max depth = 13, train score: 0.93321, val score: 0.88267, in 0.072s\n",
      "[109/1000] 1 tree, 44 leaves, max depth = 14, train score: 0.93369, val score: 0.88278, in 0.071s\n",
      "[110/1000] 1 tree, 44 leaves, max depth = 16, train score: 0.93416, val score: 0.88319, in 0.076s\n",
      "[111/1000] 1 tree, 44 leaves, max depth = 13, train score: 0.93447, val score: 0.88320, in 0.113s\n",
      "[112/1000] 1 tree, 44 leaves, max depth = 16, train score: 0.93523, val score: 0.88329, in 0.107s\n",
      "[113/1000] 1 tree, 44 leaves, max depth = 14, train score: 0.93571, val score: 0.88323, in 0.097s\n",
      "[114/1000] 1 tree, 44 leaves, max depth = 12, train score: 0.93593, val score: 0.88346, in 0.153s\n",
      "[115/1000] 1 tree, 44 leaves, max depth = 12, train score: 0.93625, val score: 0.88353, in 0.077s\n",
      "[116/1000] 1 tree, 44 leaves, max depth = 12, train score: 0.93670, val score: 0.88361, in 0.098s\n",
      "[117/1000] 1 tree, 44 leaves, max depth = 18, train score: 0.93710, val score: 0.88370, in 0.099s\n",
      "[118/1000] 1 tree, 44 leaves, max depth = 10, train score: 0.93755, val score: 0.88401, in 0.092s\n",
      "[119/1000] 1 tree, 44 leaves, max depth = 12, train score: 0.93785, val score: 0.88401, in 0.103s\n",
      "[120/1000] 1 tree, 44 leaves, max depth = 17, train score: 0.93843, val score: 0.88480, in 0.109s\n",
      "[121/1000] 1 tree, 44 leaves, max depth = 15, train score: 0.93869, val score: 0.88530, in 0.107s\n",
      "[122/1000] 1 tree, 44 leaves, max depth = 11, train score: 0.93919, val score: 0.88562, in 0.118s\n",
      "[123/1000] 1 tree, 44 leaves, max depth = 15, train score: 0.93960, val score: 0.88598, in 0.105s\n",
      "[124/1000] 1 tree, 44 leaves, max depth = 12, train score: 0.94010, val score: 0.88649, in 0.107s\n",
      "[125/1000] 1 tree, 44 leaves, max depth = 16, train score: 0.94054, val score: 0.88633, in 0.112s\n",
      "[126/1000] 1 tree, 44 leaves, max depth = 13, train score: 0.94096, val score: 0.88647, in 0.147s\n",
      "[127/1000] 1 tree, 44 leaves, max depth = 20, train score: 0.94142, val score: 0.88688, in 0.077s\n",
      "[128/1000] 1 tree, 44 leaves, max depth = 15, train score: 0.94196, val score: 0.88716, in 0.104s\n",
      "[129/1000] 1 tree, 44 leaves, max depth = 16, train score: 0.94245, val score: 0.88715, in 0.114s\n",
      "[130/1000] 1 tree, 44 leaves, max depth = 14, train score: 0.94286, val score: 0.88709, in 0.115s\n",
      "[131/1000] 1 tree, 44 leaves, max depth = 14, train score: 0.94323, val score: 0.88707, in 0.116s\n",
      "[132/1000] 1 tree, 44 leaves, max depth = 19, train score: 0.94374, val score: 0.88696, in 0.115s\n",
      "[133/1000] 1 tree, 44 leaves, max depth = 18, train score: 0.94399, val score: 0.88730, in 0.083s\n",
      "[134/1000] 1 tree, 44 leaves, max depth = 10, train score: 0.94442, val score: 0.88739, in 0.081s\n",
      "[135/1000] 1 tree, 44 leaves, max depth = 17, train score: 0.94483, val score: 0.88747, in 0.107s\n",
      "[136/1000] 1 tree, 44 leaves, max depth = 14, train score: 0.94501, val score: 0.88754, in 0.106s\n",
      "[137/1000] 1 tree, 44 leaves, max depth = 14, train score: 0.94537, val score: 0.88743, in 0.115s\n",
      "[138/1000] 1 tree, 44 leaves, max depth = 18, train score: 0.94600, val score: 0.88754, in 0.183s\n",
      "[139/1000] 1 tree, 44 leaves, max depth = 13, train score: 0.94640, val score: 0.88760, in 0.112s\n",
      "[140/1000] 1 tree, 44 leaves, max depth = 19, train score: 0.94667, val score: 0.88755, in 0.118s\n",
      "[141/1000] 1 tree, 44 leaves, max depth = 20, train score: 0.94712, val score: 0.88760, in 0.089s\n",
      "[142/1000] 1 tree, 44 leaves, max depth = 15, train score: 0.94754, val score: 0.88758, in 0.104s\n",
      "[143/1000] 1 tree, 44 leaves, max depth = 15, train score: 0.94792, val score: 0.88791, in 0.129s\n",
      "[144/1000] 1 tree, 44 leaves, max depth = 18, train score: 0.94846, val score: 0.88813, in 0.117s\n",
      "[145/1000] 1 tree, 44 leaves, max depth = 19, train score: 0.94887, val score: 0.88829, in 0.090s\n",
      "[146/1000] 1 tree, 44 leaves, max depth = 14, train score: 0.94928, val score: 0.88871, in 0.082s\n",
      "[147/1000] 1 tree, 44 leaves, max depth = 14, train score: 0.94958, val score: 0.88855, in 0.097s\n",
      "[148/1000] 1 tree, 44 leaves, max depth = 18, train score: 0.94998, val score: 0.88862, in 0.105s\n",
      "[149/1000] 1 tree, 44 leaves, max depth = 13, train score: 0.95029, val score: 0.88899, in 0.099s\n",
      "[150/1000] 1 tree, 44 leaves, max depth = 16, train score: 0.95080, val score: 0.88919, in 0.115s\n",
      "[151/1000] 1 tree, 44 leaves, max depth = 12, train score: 0.95106, val score: 0.88950, in 0.167s\n",
      "[152/1000] 1 tree, 44 leaves, max depth = 17, train score: 0.95161, val score: 0.88976, in 0.244s\n",
      "[153/1000] 1 tree, 44 leaves, max depth = 13, train score: 0.95194, val score: 0.89009, in 0.099s\n",
      "[154/1000] 1 tree, 44 leaves, max depth = 20, train score: 0.95256, val score: 0.89032, in 0.125s\n",
      "[155/1000] 1 tree, 44 leaves, max depth = 15, train score: 0.95282, val score: 0.89047, in 0.087s\n",
      "[156/1000] 1 tree, 44 leaves, max depth = 14, train score: 0.95303, val score: 0.89082, in 0.091s\n",
      "[157/1000] 1 tree, 44 leaves, max depth = 21, train score: 0.95350, val score: 0.89128, in 0.103s\n",
      "[158/1000] 1 tree, 44 leaves, max depth = 16, train score: 0.95393, val score: 0.89148, in 0.099s\n",
      "[159/1000] 1 tree, 44 leaves, max depth = 18, train score: 0.95416, val score: 0.89183, in 0.091s\n",
      "[160/1000] 1 tree, 44 leaves, max depth = 11, train score: 0.95438, val score: 0.89199, in 0.087s\n",
      "[161/1000] 1 tree, 44 leaves, max depth = 15, train score: 0.95469, val score: 0.89228, in 0.089s\n",
      "[162/1000] 1 tree, 44 leaves, max depth = 15, train score: 0.95488, val score: 0.89231, in 0.097s\n",
      "[163/1000] 1 tree, 44 leaves, max depth = 11, train score: 0.95501, val score: 0.89232, in 0.099s\n",
      "[164/1000] 1 tree, 44 leaves, max depth = 16, train score: 0.95521, val score: 0.89254, in 0.151s\n",
      "[165/1000] 1 tree, 44 leaves, max depth = 14, train score: 0.95550, val score: 0.89298, in 0.102s\n",
      "[166/1000] 1 tree, 44 leaves, max depth = 11, train score: 0.95568, val score: 0.89306, in 0.105s\n",
      "[167/1000] 1 tree, 44 leaves, max depth = 16, train score: 0.95592, val score: 0.89327, in 0.104s\n",
      "[168/1000] 1 tree, 44 leaves, max depth = 16, train score: 0.95611, val score: 0.89341, in 0.096s\n",
      "[169/1000] 1 tree, 44 leaves, max depth = 14, train score: 0.95655, val score: 0.89335, in 0.111s\n",
      "[170/1000] 1 tree, 44 leaves, max depth = 15, train score: 0.95674, val score: 0.89372, in 0.096s\n",
      "[171/1000] 1 tree, 44 leaves, max depth = 20, train score: 0.95699, val score: 0.89381, in 0.104s\n",
      "[172/1000] 1 tree, 44 leaves, max depth = 12, train score: 0.95719, val score: 0.89398, in 0.092s\n",
      "[173/1000] 1 tree, 44 leaves, max depth = 13, train score: 0.95742, val score: 0.89420, in 0.092s\n",
      "[174/1000] 1 tree, 44 leaves, max depth = 14, train score: 0.95766, val score: 0.89443, in 0.093s\n",
      "[175/1000] 1 tree, 44 leaves, max depth = 14, train score: 0.95775, val score: 0.89447, in 0.095s\n",
      "[176/1000] 1 tree, 44 leaves, max depth = 11, train score: 0.95794, val score: 0.89474, in 0.096s\n",
      "[177/1000] 1 tree, 44 leaves, max depth = 21, train score: 0.95818, val score: 0.89477, in 0.154s\n",
      "[178/1000] 1 tree, 44 leaves, max depth = 12, train score: 0.95824, val score: 0.89495, in 0.094s\n",
      "[179/1000] 1 tree, 44 leaves, max depth = 14, train score: 0.95832, val score: 0.89501, in 0.091s\n",
      "[180/1000] 1 tree, 44 leaves, max depth = 14, train score: 0.95848, val score: 0.89526, in 0.092s\n",
      "[181/1000] 1 tree, 44 leaves, max depth = 14, train score: 0.95877, val score: 0.89530, in 0.116s\n",
      "[182/1000] 1 tree, 44 leaves, max depth = 15, train score: 0.95893, val score: 0.89538, in 0.118s\n",
      "[183/1000] 1 tree, 44 leaves, max depth = 10, train score: 0.95918, val score: 0.89563, in 0.092s\n",
      "[184/1000] 1 tree, 44 leaves, max depth = 13, train score: 0.95934, val score: 0.89565, in 0.090s\n",
      "[185/1000] 1 tree, 44 leaves, max depth = 18, train score: 0.95957, val score: 0.89562, in 0.090s\n",
      "[186/1000] 1 tree, 44 leaves, max depth = 14, train score: 0.95982, val score: 0.89584, in 0.091s\n",
      "[187/1000] 1 tree, 44 leaves, max depth = 15, train score: 0.96004, val score: 0.89602, in 0.102s\n",
      "[188/1000] 1 tree, 44 leaves, max depth = 12, train score: 0.96001, val score: 0.89610, in 0.094s\n",
      "[189/1000] 1 tree, 44 leaves, max depth = 11, train score: 0.96023, val score: 0.89626, in 0.152s\n",
      "[190/1000] 1 tree, 44 leaves, max depth = 14, train score: 0.96038, val score: 0.89647, in 0.089s\n",
      "[191/1000] 1 tree, 44 leaves, max depth = 13, train score: 0.96051, val score: 0.89661, in 0.090s\n",
      "[192/1000] 1 tree, 44 leaves, max depth = 15, train score: 0.96075, val score: 0.89684, in 0.093s\n",
      "[193/1000] 1 tree, 44 leaves, max depth = 22, train score: 0.96100, val score: 0.89702, in 0.095s\n",
      "[194/1000] 1 tree, 44 leaves, max depth = 19, train score: 0.96138, val score: 0.89714, in 0.106s\n",
      "[195/1000] 1 tree, 44 leaves, max depth = 14, train score: 0.96157, val score: 0.89740, in 0.095s\n",
      "[196/1000] 1 tree, 44 leaves, max depth = 13, train score: 0.96178, val score: 0.89746, in 0.098s\n",
      "[197/1000] 1 tree, 44 leaves, max depth = 14, train score: 0.96191, val score: 0.89750, in 0.095s\n",
      "[198/1000] 1 tree, 44 leaves, max depth = 16, train score: 0.96215, val score: 0.89754, in 0.097s\n",
      "[199/1000] 1 tree, 44 leaves, max depth = 14, train score: 0.96234, val score: 0.89781, in 0.101s\n",
      "[200/1000] 1 tree, 44 leaves, max depth = 18, train score: 0.96243, val score: 0.89795, in 0.113s\n",
      "[201/1000] 1 tree, 44 leaves, max depth = 14, train score: 0.96277, val score: 0.89805, in 0.159s\n",
      "[202/1000] 1 tree, 44 leaves, max depth = 18, train score: 0.96305, val score: 0.89826, in 0.094s\n",
      "[203/1000] 1 tree, 44 leaves, max depth = 14, train score: 0.96310, val score: 0.89847, in 0.116s\n",
      "[204/1000] 1 tree, 44 leaves, max depth = 13, train score: 0.96334, val score: 0.89850, in 0.100s\n",
      "[205/1000] 1 tree, 44 leaves, max depth = 16, train score: 0.96355, val score: 0.89850, in 0.113s\n",
      "[206/1000] 1 tree, 44 leaves, max depth = 16, train score: 0.96382, val score: 0.89861, in 0.100s\n",
      "[207/1000] 1 tree, 44 leaves, max depth = 18, train score: 0.96396, val score: 0.89879, in 0.114s\n",
      "[208/1000] 1 tree, 44 leaves, max depth = 14, train score: 0.96433, val score: 0.89890, in 0.112s\n",
      "[209/1000] 1 tree, 44 leaves, max depth = 12, train score: 0.96452, val score: 0.89887, in 0.114s\n",
      "[210/1000] 1 tree, 44 leaves, max depth = 14, train score: 0.96461, val score: 0.89886, in 0.101s\n",
      "[211/1000] 1 tree, 44 leaves, max depth = 13, train score: 0.96482, val score: 0.89896, in 0.117s\n",
      "[212/1000] 1 tree, 44 leaves, max depth = 13, train score: 0.96514, val score: 0.89933, in 0.122s\n",
      "[213/1000] 1 tree, 44 leaves, max depth = 18, train score: 0.96530, val score: 0.89939, in 0.118s\n",
      "[214/1000] 1 tree, 44 leaves, max depth = 12, train score: 0.96557, val score: 0.89936, in 0.155s\n",
      "[215/1000] 1 tree, 44 leaves, max depth = 16, train score: 0.96574, val score: 0.89946, in 0.094s\n",
      "[216/1000] 1 tree, 44 leaves, max depth = 14, train score: 0.96578, val score: 0.89959, in 0.098s\n",
      "[217/1000] 1 tree, 44 leaves, max depth = 17, train score: 0.96606, val score: 0.89938, in 0.112s\n",
      "[218/1000] 1 tree, 44 leaves, max depth = 15, train score: 0.96614, val score: 0.89946, in 0.120s\n",
      "[219/1000] 1 tree, 44 leaves, max depth = 10, train score: 0.96628, val score: 0.89942, in 0.104s\n",
      "[220/1000] 1 tree, 44 leaves, max depth = 19, train score: 0.96654, val score: 0.89942, in 0.147s\n",
      "[221/1000] 1 tree, 44 leaves, max depth = 12, train score: 0.96672, val score: 0.89959, in 0.119s\n",
      "[222/1000] 1 tree, 44 leaves, max depth = 11, train score: 0.96685, val score: 0.89961, in 0.104s\n",
      "[223/1000] 1 tree, 44 leaves, max depth = 16, train score: 0.96693, val score: 0.89953, in 0.102s\n",
      "[224/1000] 1 tree, 44 leaves, max depth = 14, train score: 0.96723, val score: 0.89942, in 0.104s\n",
      "[225/1000] 1 tree, 44 leaves, max depth = 15, train score: 0.96741, val score: 0.89925, in 0.104s\n",
      "[226/1000] 1 tree, 44 leaves, max depth = 14, train score: 0.96759, val score: 0.89936, in 0.166s\n",
      "[227/1000] 1 tree, 44 leaves, max depth = 18, train score: 0.96776, val score: 0.89949, in 0.104s\n",
      "[228/1000] 1 tree, 44 leaves, max depth = 17, train score: 0.96792, val score: 0.89968, in 0.104s\n",
      "[229/1000] 1 tree, 44 leaves, max depth = 12, train score: 0.96808, val score: 0.89969, in 0.105s\n",
      "[230/1000] 1 tree, 44 leaves, max depth = 12, train score: 0.96816, val score: 0.89975, in 0.104s\n",
      "[231/1000] 1 tree, 44 leaves, max depth = 17, train score: 0.96822, val score: 0.89986, in 0.114s\n",
      "[232/1000] 1 tree, 44 leaves, max depth = 12, train score: 0.96864, val score: 0.89999, in 0.123s\n",
      "[233/1000] 1 tree, 44 leaves, max depth = 13, train score: 0.96879, val score: 0.89999, in 0.109s\n",
      "[234/1000] 1 tree, 44 leaves, max depth = 15, train score: 0.96898, val score: 0.90007, in 0.107s\n",
      "[235/1000] 1 tree, 44 leaves, max depth = 10, train score: 0.96906, val score: 0.90015, in 0.125s\n",
      "[236/1000] 1 tree, 44 leaves, max depth = 14, train score: 0.96934, val score: 0.90002, in 0.124s\n",
      "[237/1000] 1 tree, 44 leaves, max depth = 14, train score: 0.96962, val score: 0.90015, in 0.115s\n",
      "[238/1000] 1 tree, 44 leaves, max depth = 11, train score: 0.96974, val score: 0.90023, in 0.111s\n",
      "[239/1000] 1 tree, 44 leaves, max depth = 17, train score: 0.96977, val score: 0.90040, in 0.167s\n",
      "[240/1000] 1 tree, 44 leaves, max depth = 12, train score: 0.96996, val score: 0.90060, in 0.112s\n",
      "[241/1000] 1 tree, 44 leaves, max depth = 14, train score: 0.97016, val score: 0.90060, in 0.127s\n",
      "[242/1000] 1 tree, 44 leaves, max depth = 15, train score: 0.97030, val score: 0.90087, in 0.111s\n",
      "[243/1000] 1 tree, 44 leaves, max depth = 12, train score: 0.97067, val score: 0.90098, in 0.156s\n",
      "[244/1000] 1 tree, 44 leaves, max depth = 14, train score: 0.97088, val score: 0.90113, in 0.129s\n",
      "[245/1000] 1 tree, 44 leaves, max depth = 10, train score: 0.97100, val score: 0.90110, in 0.138s\n",
      "[246/1000] 1 tree, 44 leaves, max depth = 16, train score: 0.97128, val score: 0.90103, in 0.141s\n",
      "[247/1000] 1 tree, 44 leaves, max depth = 19, train score: 0.97143, val score: 0.90100, in 0.147s\n",
      "[248/1000] 1 tree, 44 leaves, max depth = 18, train score: 0.97154, val score: 0.90139, in 0.146s\n",
      "[249/1000] 1 tree, 44 leaves, max depth = 13, train score: 0.97169, val score: 0.90151, in 0.126s\n",
      "[250/1000] 1 tree, 44 leaves, max depth = 11, train score: 0.97181, val score: 0.90157, in 0.117s\n",
      "[251/1000] 1 tree, 44 leaves, max depth = 19, train score: 0.97189, val score: 0.90172, in 0.180s\n"
     ]
    },
    {
     "name": "stdout",
     "output_type": "stream",
     "text": [
      "[252/1000] 1 tree, 44 leaves, max depth = 12, train score: 0.97205, val score: 0.90193, in 0.132s\n",
      "[253/1000] 1 tree, 44 leaves, max depth = 12, train score: 0.97217, val score: 0.90204, in 0.124s\n",
      "[254/1000] 1 tree, 44 leaves, max depth = 15, train score: 0.97223, val score: 0.90219, in 0.130s\n",
      "[255/1000] 1 tree, 44 leaves, max depth = 10, train score: 0.97230, val score: 0.90210, in 0.132s\n",
      "[256/1000] 1 tree, 44 leaves, max depth = 17, train score: 0.97251, val score: 0.90237, in 0.113s\n",
      "[257/1000] 1 tree, 44 leaves, max depth = 17, train score: 0.97260, val score: 0.90257, in 0.129s\n",
      "[258/1000] 1 tree, 44 leaves, max depth = 15, train score: 0.97271, val score: 0.90271, in 0.133s\n",
      "[259/1000] 1 tree, 44 leaves, max depth = 12, train score: 0.97284, val score: 0.90277, in 0.147s\n",
      "[260/1000] 1 tree, 44 leaves, max depth = 10, train score: 0.97300, val score: 0.90276, in 0.142s\n",
      "[261/1000] 1 tree, 44 leaves, max depth = 14, train score: 0.97324, val score: 0.90265, in 0.133s\n",
      "[262/1000] 1 tree, 44 leaves, max depth = 18, train score: 0.97341, val score: 0.90302, in 0.119s\n",
      "[263/1000] 1 tree, 44 leaves, max depth = 12, train score: 0.97350, val score: 0.90315, in 0.178s\n",
      "[264/1000] 1 tree, 44 leaves, max depth = 20, train score: 0.97354, val score: 0.90330, in 0.109s\n",
      "[265/1000] 1 tree, 44 leaves, max depth = 14, train score: 0.97370, val score: 0.90346, in 0.126s\n",
      "[266/1000] 1 tree, 44 leaves, max depth = 14, train score: 0.97389, val score: 0.90366, in 0.113s\n",
      "[267/1000] 1 tree, 44 leaves, max depth = 15, train score: 0.97393, val score: 0.90365, in 0.116s\n",
      "[268/1000] 1 tree, 44 leaves, max depth = 11, train score: 0.97406, val score: 0.90367, in 0.115s\n",
      "[269/1000] 1 tree, 44 leaves, max depth = 18, train score: 0.97425, val score: 0.90377, in 0.127s\n",
      "[270/1000] 1 tree, 44 leaves, max depth = 14, train score: 0.97438, val score: 0.90370, in 0.122s\n",
      "[271/1000] 1 tree, 44 leaves, max depth = 13, train score: 0.97451, val score: 0.90398, in 0.117s\n",
      "[272/1000] 1 tree, 44 leaves, max depth = 12, train score: 0.97472, val score: 0.90411, in 0.135s\n",
      "[273/1000] 1 tree, 44 leaves, max depth = 11, train score: 0.97485, val score: 0.90416, in 0.172s\n",
      "[274/1000] 1 tree, 44 leaves, max depth = 11, train score: 0.97488, val score: 0.90430, in 0.125s\n",
      "[275/1000] 1 tree, 44 leaves, max depth = 14, train score: 0.97503, val score: 0.90454, in 0.128s\n",
      "[276/1000] 1 tree, 44 leaves, max depth = 17, train score: 0.97520, val score: 0.90452, in 0.200s\n",
      "[277/1000] 1 tree, 44 leaves, max depth = 16, train score: 0.97530, val score: 0.90472, in 0.123s\n",
      "[278/1000] 1 tree, 44 leaves, max depth = 14, train score: 0.97539, val score: 0.90490, in 0.118s\n",
      "[279/1000] 1 tree, 44 leaves, max depth = 10, train score: 0.97569, val score: 0.90509, in 0.140s\n",
      "[280/1000] 1 tree, 44 leaves, max depth = 15, train score: 0.97577, val score: 0.90496, in 0.120s\n",
      "[281/1000] 1 tree, 44 leaves, max depth = 11, train score: 0.97604, val score: 0.90504, in 0.139s\n",
      "[282/1000] 1 tree, 44 leaves, max depth = 14, train score: 0.97610, val score: 0.90510, in 0.158s\n",
      "[283/1000] 1 tree, 44 leaves, max depth = 11, train score: 0.97631, val score: 0.90519, in 0.144s\n",
      "[284/1000] 1 tree, 44 leaves, max depth = 12, train score: 0.97639, val score: 0.90530, in 0.140s\n",
      "[285/1000] 1 tree, 44 leaves, max depth = 10, train score: 0.97658, val score: 0.90553, in 0.124s\n",
      "[286/1000] 1 tree, 44 leaves, max depth = 19, train score: 0.97668, val score: 0.90561, in 0.143s\n",
      "[287/1000] 1 tree, 44 leaves, max depth = 12, train score: 0.97683, val score: 0.90570, in 0.139s\n",
      "[288/1000] 1 tree, 44 leaves, max depth = 9, train score: 0.97696, val score: 0.90588, in 0.199s\n",
      "[289/1000] 1 tree, 44 leaves, max depth = 14, train score: 0.97705, val score: 0.90607, in 0.142s\n",
      "[290/1000] 1 tree, 44 leaves, max depth = 12, train score: 0.97711, val score: 0.90604, in 0.153s\n",
      "[291/1000] 1 tree, 44 leaves, max depth = 15, train score: 0.97713, val score: 0.90612, in 0.142s\n",
      "[292/1000] 1 tree, 44 leaves, max depth = 11, train score: 0.97718, val score: 0.90599, in 0.201s\n",
      "[293/1000] 1 tree, 44 leaves, max depth = 11, train score: 0.97734, val score: 0.90607, in 0.150s\n",
      "[294/1000] 1 tree, 44 leaves, max depth = 15, train score: 0.97749, val score: 0.90624, in 0.182s\n",
      "[295/1000] 1 tree, 44 leaves, max depth = 11, train score: 0.97770, val score: 0.90634, in 0.164s\n",
      "[296/1000] 1 tree, 44 leaves, max depth = 13, train score: 0.97776, val score: 0.90643, in 0.128s\n",
      "[297/1000] 1 tree, 44 leaves, max depth = 17, train score: 0.97784, val score: 0.90662, in 0.124s\n",
      "[298/1000] 1 tree, 44 leaves, max depth = 14, train score: 0.97810, val score: 0.90653, in 0.127s\n",
      "[299/1000] 1 tree, 44 leaves, max depth = 10, train score: 0.97825, val score: 0.90664, in 0.152s\n",
      "[300/1000] 1 tree, 44 leaves, max depth = 11, train score: 0.97829, val score: 0.90673, in 0.150s\n",
      "[301/1000] 1 tree, 44 leaves, max depth = 15, train score: 0.97831, val score: 0.90674, in 0.217s\n",
      "[302/1000] 1 tree, 44 leaves, max depth = 16, train score: 0.97845, val score: 0.90665, in 0.130s\n",
      "[303/1000] 1 tree, 44 leaves, max depth = 20, train score: 0.97850, val score: 0.90671, in 0.163s\n",
      "[304/1000] 1 tree, 44 leaves, max depth = 14, train score: 0.97856, val score: 0.90683, in 0.146s\n",
      "[305/1000] 1 tree, 44 leaves, max depth = 13, train score: 0.97865, val score: 0.90679, in 0.132s\n",
      "[306/1000] 1 tree, 44 leaves, max depth = 11, train score: 0.97879, val score: 0.90686, in 0.146s\n",
      "[307/1000] 1 tree, 44 leaves, max depth = 12, train score: 0.97885, val score: 0.90696, in 0.148s\n",
      "[308/1000] 1 tree, 44 leaves, max depth = 11, train score: 0.97893, val score: 0.90690, in 0.127s\n",
      "[309/1000] 1 tree, 44 leaves, max depth = 13, train score: 0.97895, val score: 0.90700, in 0.129s\n",
      "[310/1000] 1 tree, 44 leaves, max depth = 14, train score: 0.97900, val score: 0.90690, in 0.148s\n",
      "[311/1000] 1 tree, 44 leaves, max depth = 16, train score: 0.97908, val score: 0.90698, in 0.153s\n",
      "[312/1000] 1 tree, 44 leaves, max depth = 15, train score: 0.97920, val score: 0.90722, in 0.143s\n",
      "[313/1000] 1 tree, 44 leaves, max depth = 13, train score: 0.97933, val score: 0.90726, in 0.203s\n",
      "[314/1000] 1 tree, 44 leaves, max depth = 10, train score: 0.97951, val score: 0.90736, in 0.128s\n",
      "[315/1000] 1 tree, 44 leaves, max depth = 18, train score: 0.97965, val score: 0.90760, in 0.133s\n",
      "[316/1000] 1 tree, 44 leaves, max depth = 14, train score: 0.97975, val score: 0.90787, in 0.146s\n",
      "[317/1000] 1 tree, 44 leaves, max depth = 14, train score: 0.97988, val score: 0.90807, in 0.135s\n",
      "[318/1000] 1 tree, 44 leaves, max depth = 17, train score: 0.97990, val score: 0.90814, in 0.138s\n",
      "[319/1000] 1 tree, 44 leaves, max depth = 20, train score: 0.98002, val score: 0.90818, in 0.147s\n",
      "[320/1000] 1 tree, 44 leaves, max depth = 11, train score: 0.98013, val score: 0.90818, in 0.242s\n",
      "[321/1000] 1 tree, 44 leaves, max depth = 10, train score: 0.98023, val score: 0.90817, in 0.145s\n",
      "[322/1000] 1 tree, 44 leaves, max depth = 11, train score: 0.98027, val score: 0.90814, in 0.135s\n",
      "[323/1000] 1 tree, 44 leaves, max depth = 15, train score: 0.98029, val score: 0.90813, in 0.231s\n",
      "[324/1000] 1 tree, 44 leaves, max depth = 10, train score: 0.98041, val score: 0.90812, in 0.257s\n",
      "[325/1000] 1 tree, 44 leaves, max depth = 18, train score: 0.98051, val score: 0.90819, in 0.202s\n",
      "[326/1000] 1 tree, 44 leaves, max depth = 11, train score: 0.98057, val score: 0.90828, in 0.314s\n",
      "[327/1000] 1 tree, 44 leaves, max depth = 17, train score: 0.98064, val score: 0.90838, in 0.238s\n",
      "[328/1000] 1 tree, 44 leaves, max depth = 15, train score: 0.98074, val score: 0.90831, in 0.219s\n",
      "[329/1000] 1 tree, 44 leaves, max depth = 14, train score: 0.98086, val score: 0.90825, in 0.248s\n",
      "[330/1000] 1 tree, 44 leaves, max depth = 13, train score: 0.98097, val score: 0.90836, in 0.261s\n",
      "[331/1000] 1 tree, 44 leaves, max depth = 14, train score: 0.98107, val score: 0.90835, in 0.224s\n",
      "[332/1000] 1 tree, 44 leaves, max depth = 11, train score: 0.98113, val score: 0.90834, in 0.248s\n",
      "[333/1000] 1 tree, 44 leaves, max depth = 15, train score: 0.98126, val score: 0.90852, in 0.185s\n",
      "[334/1000] 1 tree, 44 leaves, max depth = 10, train score: 0.98132, val score: 0.90870, in 0.178s\n",
      "[335/1000] 1 tree, 44 leaves, max depth = 14, train score: 0.98135, val score: 0.90882, in 0.155s\n"
     ]
    },
    {
     "name": "stdout",
     "output_type": "stream",
     "text": [
      "[336/1000] 1 tree, 44 leaves, max depth = 13, train score: 0.98139, val score: 0.90867, in 0.190s\n",
      "[337/1000] 1 tree, 44 leaves, max depth = 15, train score: 0.98145, val score: 0.90875, in 0.158s\n",
      "[338/1000] 1 tree, 44 leaves, max depth = 13, train score: 0.98155, val score: 0.90877, in 0.295s\n",
      "[339/1000] 1 tree, 44 leaves, max depth = 15, train score: 0.98161, val score: 0.90901, in 0.219s\n",
      "[340/1000] 1 tree, 44 leaves, max depth = 12, train score: 0.98163, val score: 0.90904, in 0.152s\n",
      "[341/1000] 1 tree, 44 leaves, max depth = 11, train score: 0.98172, val score: 0.90914, in 0.205s\n",
      "[342/1000] 1 tree, 44 leaves, max depth = 14, train score: 0.98180, val score: 0.90921, in 0.250s\n",
      "[343/1000] 1 tree, 44 leaves, max depth = 11, train score: 0.98187, val score: 0.90927, in 0.197s\n",
      "[344/1000] 1 tree, 44 leaves, max depth = 12, train score: 0.98190, val score: 0.90934, in 0.150s\n",
      "[345/1000] 1 tree, 44 leaves, max depth = 18, train score: 0.98194, val score: 0.90940, in 0.151s\n",
      "[346/1000] 1 tree, 44 leaves, max depth = 13, train score: 0.98200, val score: 0.90938, in 0.156s\n",
      "[347/1000] 1 tree, 44 leaves, max depth = 17, train score: 0.98204, val score: 0.90956, in 0.250s\n",
      "[348/1000] 1 tree, 44 leaves, max depth = 13, train score: 0.98207, val score: 0.90956, in 0.255s\n",
      "[349/1000] 1 tree, 44 leaves, max depth = 15, train score: 0.98217, val score: 0.90950, in 0.189s\n",
      "[350/1000] 1 tree, 44 leaves, max depth = 14, train score: 0.98228, val score: 0.90957, in 0.176s\n",
      "[351/1000] 1 tree, 44 leaves, max depth = 12, train score: 0.98231, val score: 0.90961, in 0.275s\n",
      "[352/1000] 1 tree, 44 leaves, max depth = 13, train score: 0.98238, val score: 0.90966, in 0.409s\n",
      "[353/1000] 1 tree, 44 leaves, max depth = 15, train score: 0.98249, val score: 0.90971, in 0.212s\n",
      "[354/1000] 1 tree, 44 leaves, max depth = 14, train score: 0.98255, val score: 0.90967, in 0.158s\n",
      "[355/1000] 1 tree, 44 leaves, max depth = 11, train score: 0.98260, val score: 0.90961, in 0.175s\n",
      "[356/1000] 1 tree, 44 leaves, max depth = 15, train score: 0.98265, val score: 0.90971, in 0.247s\n",
      "[357/1000] 1 tree, 44 leaves, max depth = 12, train score: 0.98271, val score: 0.90971, in 0.172s\n",
      "[358/1000] 1 tree, 44 leaves, max depth = 15, train score: 0.98274, val score: 0.90968, in 0.202s\n",
      "[359/1000] 1 tree, 44 leaves, max depth = 14, train score: 0.98276, val score: 0.90975, in 0.162s\n",
      "[360/1000] 1 tree, 44 leaves, max depth = 11, train score: 0.98282, val score: 0.90972, in 0.322s\n",
      "[361/1000] 1 tree, 44 leaves, max depth = 12, train score: 0.98291, val score: 0.90975, in 0.306s\n",
      "[362/1000] 1 tree, 44 leaves, max depth = 15, train score: 0.98300, val score: 0.90974, in 0.238s\n",
      "[363/1000] 1 tree, 44 leaves, max depth = 14, train score: 0.98317, val score: 0.90988, in 0.173s\n",
      "[364/1000] 1 tree, 44 leaves, max depth = 12, train score: 0.98330, val score: 0.90983, in 0.384s\n",
      "[365/1000] 1 tree, 44 leaves, max depth = 12, train score: 0.98333, val score: 0.90981, in 0.288s\n",
      "[366/1000] 1 tree, 44 leaves, max depth = 12, train score: 0.98349, val score: 0.90981, in 0.221s\n",
      "[367/1000] 1 tree, 44 leaves, max depth = 17, train score: 0.98358, val score: 0.90971, in 0.210s\n",
      "[368/1000] 1 tree, 44 leaves, max depth = 11, train score: 0.98372, val score: 0.90958, in 0.244s\n",
      "[369/1000] 1 tree, 44 leaves, max depth = 14, train score: 0.98384, val score: 0.90974, in 0.182s\n",
      "[370/1000] 1 tree, 44 leaves, max depth = 15, train score: 0.98386, val score: 0.90968, in 0.170s\n",
      "[371/1000] 1 tree, 44 leaves, max depth = 14, train score: 0.98397, val score: 0.90976, in 0.199s\n",
      "[372/1000] 1 tree, 44 leaves, max depth = 15, train score: 0.98401, val score: 0.90966, in 0.186s\n",
      "[373/1000] 1 tree, 44 leaves, max depth = 11, train score: 0.98406, val score: 0.90956, in 0.170s\n",
      "Fit 373 trees in 45.612 s, (16412 total leaves)\n",
      "Time spent computing histograms: 12.998s\n",
      "Time spent finding best splits:  3.359s\n",
      "Time spent applying splits:      4.097s\n",
      "Time spent predicting:           0.061s\n",
      "CPU times: user 4min 45s, sys: 41 s, total: 5min 26s\n",
      "Wall time: 46.1 s\n"
     ]
    },
    {
     "data": {
      "text/plain": [
       "(0.9795618885673211, 0.865225601216363)"
      ]
     },
     "execution_count": 45,
     "metadata": {},
     "output_type": "execute_result"
    }
   ],
   "source": [
    "%%time\n",
    "clf = HistGradientBoostingClassifier(loss='binary_crossentropy', verbose=1, l2_regularization=2.4,\n",
    "                             learning_rate=0.03, max_depth=27, max_iter=1000, max_leaf_nodes=44,\n",
    "                             min_samples_leaf=8,  scoring='roc_auc', tol=1e-8)\n",
    "clf.fit(xs, y)\n",
    "m_roc(y, xs), m_roc(valid_y, valid_xs)"
   ]
  },
  {
   "cell_type": "markdown",
   "metadata": {
    "heading_collapsed": true,
    "hidden": true
   },
   "source": [
    "#### Including the V*** columns"
   ]
  },
  {
   "cell_type": "code",
   "execution_count": 76,
   "metadata": {
    "hidden": true
   },
   "outputs": [],
   "source": [
    "to = (path/'to2.pkl').load()\n",
    "\n",
    "xs, y             = to.train.xs, to.train.y\n",
    "valid_xs, valid_y = to.valid.xs, to.valid.y"
   ]
  },
  {
   "cell_type": "code",
   "execution_count": 77,
   "metadata": {
    "hidden": true,
    "scrolled": false
   },
   "outputs": [
    {
     "name": "stdout",
     "output_type": "stream",
     "text": [
      "Binning 0.279 GB of training data: 1.767 s\n",
      "Binning 0.031 GB of validation data: 0.045 s\n",
      "Fitting gradient boosted rounds:\n",
      "[1/1000] 1 tree, 44 leaves, max depth = 10, train score: 0.85386, val score: 0.84830, in 0.355s\n",
      "[2/1000] 1 tree, 44 leaves, max depth = 11, train score: 0.86144, val score: 0.84919, in 0.407s\n",
      "[3/1000] 1 tree, 44 leaves, max depth = 10, train score: 0.86312, val score: 0.85426, in 0.451s\n",
      "[4/1000] 1 tree, 44 leaves, max depth = 9, train score: 0.86442, val score: 0.85297, in 0.446s\n",
      "[5/1000] 1 tree, 44 leaves, max depth = 9, train score: 0.86672, val score: 0.85341, in 0.284s\n",
      "[6/1000] 1 tree, 44 leaves, max depth = 11, train score: 0.86692, val score: 0.85281, in 0.275s\n",
      "[7/1000] 1 tree, 44 leaves, max depth = 11, train score: 0.87052, val score: 0.85437, in 0.460s\n",
      "[8/1000] 1 tree, 44 leaves, max depth = 11, train score: 0.87125, val score: 0.85707, in 0.392s\n",
      "[9/1000] 1 tree, 44 leaves, max depth = 10, train score: 0.87168, val score: 0.85724, in 0.631s\n",
      "[10/1000] 1 tree, 44 leaves, max depth = 10, train score: 0.87564, val score: 0.85861, in 0.193s\n",
      "[11/1000] 1 tree, 44 leaves, max depth = 10, train score: 0.87900, val score: 0.86672, in 0.238s\n",
      "[12/1000] 1 tree, 44 leaves, max depth = 11, train score: 0.88058, val score: 0.86747, in 0.210s\n",
      "[13/1000] 1 tree, 44 leaves, max depth = 10, train score: 0.88104, val score: 0.86816, in 0.224s\n",
      "[14/1000] 1 tree, 44 leaves, max depth = 11, train score: 0.88224, val score: 0.86887, in 0.219s\n",
      "[15/1000] 1 tree, 44 leaves, max depth = 11, train score: 0.88270, val score: 0.86907, in 0.335s\n",
      "[16/1000] 1 tree, 44 leaves, max depth = 12, train score: 0.88340, val score: 0.86950, in 0.424s\n",
      "[17/1000] 1 tree, 44 leaves, max depth = 11, train score: 0.88380, val score: 0.86947, in 0.349s\n",
      "[18/1000] 1 tree, 44 leaves, max depth = 11, train score: 0.88446, val score: 0.86937, in 0.347s\n",
      "[19/1000] 1 tree, 44 leaves, max depth = 13, train score: 0.88503, val score: 0.86931, in 0.412s\n",
      "[20/1000] 1 tree, 44 leaves, max depth = 11, train score: 0.88551, val score: 0.87067, in 0.420s\n",
      "[21/1000] 1 tree, 44 leaves, max depth = 11, train score: 0.88624, val score: 0.87126, in 0.424s\n",
      "[22/1000] 1 tree, 44 leaves, max depth = 12, train score: 0.88669, val score: 0.87237, in 0.703s\n",
      "[23/1000] 1 tree, 44 leaves, max depth = 10, train score: 0.88719, val score: 0.87242, in 0.213s\n",
      "[24/1000] 1 tree, 44 leaves, max depth = 10, train score: 0.89030, val score: 0.87447, in 0.230s\n",
      "[25/1000] 1 tree, 44 leaves, max depth = 8, train score: 0.89162, val score: 0.87432, in 0.256s\n",
      "[26/1000] 1 tree, 44 leaves, max depth = 13, train score: 0.89330, val score: 0.87478, in 0.267s\n",
      "[27/1000] 1 tree, 44 leaves, max depth = 9, train score: 0.89421, val score: 0.87477, in 0.277s\n",
      "[28/1000] 1 tree, 44 leaves, max depth = 8, train score: 0.89457, val score: 0.87458, in 0.342s\n",
      "[29/1000] 1 tree, 44 leaves, max depth = 8, train score: 0.89479, val score: 0.87482, in 0.423s\n",
      "[30/1000] 1 tree, 44 leaves, max depth = 9, train score: 0.89540, val score: 0.87432, in 0.433s\n",
      "[31/1000] 1 tree, 44 leaves, max depth = 9, train score: 0.89555, val score: 0.87537, in 0.459s\n",
      "[32/1000] 1 tree, 44 leaves, max depth = 11, train score: 0.89751, val score: 0.87550, in 0.451s\n",
      "[33/1000] 1 tree, 44 leaves, max depth = 9, train score: 0.89820, val score: 0.87564, in 0.450s\n",
      "[34/1000] 1 tree, 44 leaves, max depth = 10, train score: 0.89909, val score: 0.87601, in 0.837s\n",
      "[35/1000] 1 tree, 44 leaves, max depth = 12, train score: 0.89960, val score: 0.87647, in 0.230s\n",
      "[36/1000] 1 tree, 44 leaves, max depth = 11, train score: 0.90010, val score: 0.87686, in 0.281s\n",
      "[37/1000] 1 tree, 44 leaves, max depth = 15, train score: 0.90091, val score: 0.87789, in 0.251s\n",
      "[38/1000] 1 tree, 44 leaves, max depth = 11, train score: 0.90171, val score: 0.87761, in 0.258s\n",
      "[39/1000] 1 tree, 44 leaves, max depth = 11, train score: 0.90254, val score: 0.87810, in 0.268s\n",
      "[40/1000] 1 tree, 44 leaves, max depth = 16, train score: 0.90371, val score: 0.88125, in 0.266s\n",
      "[41/1000] 1 tree, 44 leaves, max depth = 11, train score: 0.90448, val score: 0.88062, in 0.332s\n",
      "[42/1000] 1 tree, 44 leaves, max depth = 15, train score: 0.90549, val score: 0.88073, in 0.492s\n",
      "[43/1000] 1 tree, 44 leaves, max depth = 11, train score: 0.90583, val score: 0.88053, in 0.473s\n",
      "[44/1000] 1 tree, 44 leaves, max depth = 9, train score: 0.90627, val score: 0.88092, in 0.471s\n",
      "[45/1000] 1 tree, 44 leaves, max depth = 11, train score: 0.90713, val score: 0.88135, in 0.498s\n",
      "[46/1000] 1 tree, 44 leaves, max depth = 9, train score: 0.90776, val score: 0.88254, in 0.486s\n",
      "[47/1000] 1 tree, 44 leaves, max depth = 8, train score: 0.90851, val score: 0.88275, in 0.798s\n",
      "[48/1000] 1 tree, 44 leaves, max depth = 11, train score: 0.90896, val score: 0.88300, in 0.250s\n",
      "[49/1000] 1 tree, 44 leaves, max depth = 8, train score: 0.90999, val score: 0.88326, in 0.262s\n",
      "[50/1000] 1 tree, 44 leaves, max depth = 15, train score: 0.91065, val score: 0.88404, in 0.277s\n",
      "[51/1000] 1 tree, 44 leaves, max depth = 13, train score: 0.91083, val score: 0.88457, in 0.271s\n",
      "[52/1000] 1 tree, 44 leaves, max depth = 14, train score: 0.91166, val score: 0.88523, in 0.299s\n",
      "[53/1000] 1 tree, 44 leaves, max depth = 13, train score: 0.91207, val score: 0.88565, in 0.336s\n",
      "[54/1000] 1 tree, 44 leaves, max depth = 12, train score: 0.91276, val score: 0.88589, in 0.521s\n",
      "[55/1000] 1 tree, 44 leaves, max depth = 16, train score: 0.91306, val score: 0.88686, in 0.500s\n",
      "[56/1000] 1 tree, 44 leaves, max depth = 13, train score: 0.91337, val score: 0.88731, in 0.546s\n",
      "[57/1000] 1 tree, 44 leaves, max depth = 13, train score: 0.91369, val score: 0.88743, in 0.444s\n",
      "[58/1000] 1 tree, 44 leaves, max depth = 15, train score: 0.91486, val score: 0.88799, in 0.400s\n",
      "[59/1000] 1 tree, 44 leaves, max depth = 16, train score: 0.91642, val score: 0.88839, in 0.905s\n",
      "[60/1000] 1 tree, 44 leaves, max depth = 16, train score: 0.91722, val score: 0.88857, in 0.267s\n",
      "[61/1000] 1 tree, 44 leaves, max depth = 14, train score: 0.91818, val score: 0.88897, in 0.313s\n",
      "[62/1000] 1 tree, 44 leaves, max depth = 12, train score: 0.91907, val score: 0.88918, in 0.285s\n",
      "[63/1000] 1 tree, 44 leaves, max depth = 16, train score: 0.91973, val score: 0.88984, in 0.283s\n",
      "[64/1000] 1 tree, 44 leaves, max depth = 13, train score: 0.92074, val score: 0.88987, in 0.289s\n",
      "[65/1000] 1 tree, 44 leaves, max depth = 10, train score: 0.92134, val score: 0.88982, in 0.307s\n",
      "[66/1000] 1 tree, 44 leaves, max depth = 17, train score: 0.92233, val score: 0.89053, in 0.301s\n",
      "[67/1000] 1 tree, 44 leaves, max depth = 12, train score: 0.92303, val score: 0.89152, in 0.295s\n",
      "[68/1000] 1 tree, 44 leaves, max depth = 18, train score: 0.92381, val score: 0.89223, in 0.538s\n",
      "[69/1000] 1 tree, 44 leaves, max depth = 13, train score: 0.92434, val score: 0.89288, in 0.523s\n",
      "[70/1000] 1 tree, 44 leaves, max depth = 15, train score: 0.92470, val score: 0.89361, in 0.522s\n",
      "[71/1000] 1 tree, 44 leaves, max depth = 11, train score: 0.92490, val score: 0.89389, in 0.533s\n",
      "[72/1000] 1 tree, 44 leaves, max depth = 15, train score: 0.92602, val score: 0.89503, in 0.842s\n",
      "[73/1000] 1 tree, 44 leaves, max depth = 18, train score: 0.92612, val score: 0.89576, in 0.291s\n",
      "[74/1000] 1 tree, 44 leaves, max depth = 13, train score: 0.92669, val score: 0.89627, in 0.297s\n",
      "[75/1000] 1 tree, 44 leaves, max depth = 13, train score: 0.92734, val score: 0.89655, in 0.304s\n",
      "[76/1000] 1 tree, 44 leaves, max depth = 17, train score: 0.92794, val score: 0.89707, in 0.314s\n",
      "[77/1000] 1 tree, 44 leaves, max depth = 10, train score: 0.92893, val score: 0.89728, in 0.315s\n",
      "[78/1000] 1 tree, 44 leaves, max depth = 12, train score: 0.92949, val score: 0.89739, in 0.319s\n",
      "[79/1000] 1 tree, 44 leaves, max depth = 14, train score: 0.93066, val score: 0.89781, in 0.488s\n",
      "[80/1000] 1 tree, 44 leaves, max depth = 21, train score: 0.93095, val score: 0.89782, in 0.557s\n",
      "[81/1000] 1 tree, 44 leaves, max depth = 16, train score: 0.93171, val score: 0.89817, in 0.604s\n",
      "[82/1000] 1 tree, 44 leaves, max depth = 14, train score: 0.93205, val score: 0.89836, in 0.559s\n",
      "[83/1000] 1 tree, 44 leaves, max depth = 15, train score: 0.93255, val score: 0.89847, in 0.555s\n",
      "[84/1000] 1 tree, 44 leaves, max depth = 20, train score: 0.93318, val score: 0.89864, in 0.977s\n"
     ]
    },
    {
     "name": "stdout",
     "output_type": "stream",
     "text": [
      "[85/1000] 1 tree, 44 leaves, max depth = 14, train score: 0.93397, val score: 0.89907, in 0.288s\n",
      "[86/1000] 1 tree, 44 leaves, max depth = 12, train score: 0.93462, val score: 0.89929, in 1.158s\n",
      "[87/1000] 1 tree, 44 leaves, max depth = 17, train score: 0.93534, val score: 0.89986, in 0.291s\n",
      "[88/1000] 1 tree, 44 leaves, max depth = 15, train score: 0.93573, val score: 0.89958, in 0.288s\n",
      "[89/1000] 1 tree, 44 leaves, max depth = 15, train score: 0.93614, val score: 0.89977, in 0.303s\n",
      "[90/1000] 1 tree, 44 leaves, max depth = 16, train score: 0.93715, val score: 0.90008, in 0.309s\n",
      "[91/1000] 1 tree, 44 leaves, max depth = 18, train score: 0.93734, val score: 0.90057, in 0.321s\n",
      "[92/1000] 1 tree, 44 leaves, max depth = 10, train score: 0.93795, val score: 0.90069, in 0.321s\n",
      "[93/1000] 1 tree, 44 leaves, max depth = 13, train score: 0.93839, val score: 0.90050, in 0.318s\n",
      "[94/1000] 1 tree, 44 leaves, max depth = 17, train score: 0.93868, val score: 0.90042, in 0.336s\n",
      "[95/1000] 1 tree, 44 leaves, max depth = 21, train score: 0.93898, val score: 0.90078, in 0.323s\n",
      "[96/1000] 1 tree, 44 leaves, max depth = 16, train score: 0.94011, val score: 0.90109, in 0.563s\n",
      "[97/1000] 1 tree, 44 leaves, max depth = 15, train score: 0.94063, val score: 0.90095, in 0.576s\n",
      "[98/1000] 1 tree, 44 leaves, max depth = 21, train score: 0.94084, val score: 0.90116, in 0.758s\n",
      "[99/1000] 1 tree, 44 leaves, max depth = 14, train score: 0.94140, val score: 0.90113, in 0.346s\n",
      "[100/1000] 1 tree, 44 leaves, max depth = 11, train score: 0.94187, val score: 0.90190, in 0.322s\n",
      "[101/1000] 1 tree, 44 leaves, max depth = 12, train score: 0.94229, val score: 0.90194, in 0.351s\n",
      "[102/1000] 1 tree, 44 leaves, max depth = 17, train score: 0.94282, val score: 0.90208, in 0.370s\n",
      "[103/1000] 1 tree, 44 leaves, max depth = 12, train score: 0.94337, val score: 0.90242, in 0.337s\n",
      "[104/1000] 1 tree, 44 leaves, max depth = 14, train score: 0.94391, val score: 0.90283, in 0.343s\n",
      "[105/1000] 1 tree, 44 leaves, max depth = 20, train score: 0.94458, val score: 0.90306, in 0.336s\n",
      "[106/1000] 1 tree, 44 leaves, max depth = 21, train score: 0.94515, val score: 0.90350, in 0.343s\n",
      "[107/1000] 1 tree, 44 leaves, max depth = 14, train score: 0.94571, val score: 0.90389, in 0.504s\n",
      "[108/1000] 1 tree, 44 leaves, max depth = 14, train score: 0.94620, val score: 0.90409, in 0.583s\n",
      "[109/1000] 1 tree, 44 leaves, max depth = 17, train score: 0.94658, val score: 0.90411, in 0.585s\n",
      "[110/1000] 1 tree, 44 leaves, max depth = 21, train score: 0.94688, val score: 0.90436, in 0.931s\n",
      "[111/1000] 1 tree, 44 leaves, max depth = 16, train score: 0.94735, val score: 0.90443, in 0.319s\n",
      "[112/1000] 1 tree, 44 leaves, max depth = 12, train score: 0.94772, val score: 0.90477, in 0.316s\n",
      "[113/1000] 1 tree, 44 leaves, max depth = 20, train score: 0.94809, val score: 0.90481, in 0.327s\n",
      "[114/1000] 1 tree, 44 leaves, max depth = 19, train score: 0.94863, val score: 0.90502, in 0.347s\n",
      "[115/1000] 1 tree, 44 leaves, max depth = 14, train score: 0.94907, val score: 0.90528, in 0.461s\n",
      "[116/1000] 1 tree, 44 leaves, max depth = 22, train score: 0.94982, val score: 0.90515, in 0.340s\n",
      "[117/1000] 1 tree, 44 leaves, max depth = 18, train score: 0.95032, val score: 0.90520, in 0.352s\n",
      "[118/1000] 1 tree, 44 leaves, max depth = 13, train score: 0.95059, val score: 0.90521, in 0.410s\n",
      "[119/1000] 1 tree, 44 leaves, max depth = 14, train score: 0.95111, val score: 0.90507, in 0.592s\n",
      "[120/1000] 1 tree, 44 leaves, max depth = 16, train score: 0.95154, val score: 0.90495, in 0.596s\n",
      "[121/1000] 1 tree, 44 leaves, max depth = 14, train score: 0.95217, val score: 0.90515, in 0.596s\n",
      "[122/1000] 1 tree, 44 leaves, max depth = 21, train score: 0.95253, val score: 0.90502, in 1.025s\n",
      "[123/1000] 1 tree, 44 leaves, max depth = 15, train score: 0.95273, val score: 0.90500, in 0.326s\n",
      "[124/1000] 1 tree, 44 leaves, max depth = 15, train score: 0.95295, val score: 0.90489, in 0.388s\n",
      "[125/1000] 1 tree, 44 leaves, max depth = 20, train score: 0.95328, val score: 0.90513, in 0.339s\n",
      "Fit 125 trees in 55.117 s, (5500 total leaves)\n",
      "Time spent computing histograms: 31.561s\n",
      "Time spent finding best splits:  5.658s\n",
      "Time spent applying splits:      4.967s\n",
      "Time spent predicting:           0.034s\n",
      "CPU times: user 3min 45s, sys: 1min 45s, total: 5min 31s\n",
      "Wall time: 55.8 s\n"
     ]
    },
    {
     "data": {
      "text/plain": [
       "(0.9458704971059383, 0.8629394444253007)"
      ]
     },
     "execution_count": 77,
     "metadata": {},
     "output_type": "execute_result"
    }
   ],
   "source": [
    "%%time\n",
    "clf = HistGradientBoostingClassifier(loss='binary_crossentropy', verbose=1, l2_regularization=2.4,\n",
    "                             learning_rate=0.03, max_depth=27, max_iter=1000, max_leaf_nodes=44,\n",
    "                             min_samples_leaf=8,  scoring='roc_auc', tol=1e-8)\n",
    "clf.fit(xs, y)\n",
    "m_roc(y, xs), m_roc(valid_y, valid_xs)"
   ]
  },
  {
   "cell_type": "markdown",
   "metadata": {
    "heading_collapsed": true
   },
   "source": [
    "## GradientBoostingClassifier "
   ]
  },
  {
   "cell_type": "markdown",
   "metadata": {
    "hidden": true
   },
   "source": [
    "HistGradientBoostingClassifier is recommended for datasets with a large number of classes. Since this is a binary classification problem, I decided to try the more established GradientBoostingClassifier class also."
   ]
  },
  {
   "cell_type": "code",
   "execution_count": 49,
   "metadata": {
    "hidden": true
   },
   "outputs": [],
   "source": [
    "from sklearn.ensemble import GradientBoostingClassifier "
   ]
  },
  {
   "cell_type": "code",
   "execution_count": 117,
   "metadata": {
    "hidden": true
   },
   "outputs": [],
   "source": [
    "GradientBoostingClassifier?"
   ]
  },
  {
   "cell_type": "code",
   "execution_count": 58,
   "metadata": {
    "hidden": true
   },
   "outputs": [],
   "source": [
    "# Tabular object created and saved on the 02_ notebook\n",
    "to = (path/'to.pkl').load()\n",
    "\n",
    "xs, y = to.train.xs, to.train.y\n",
    "valid_xs, valid_y = to.valid.xs, to.valid.y"
   ]
  },
  {
   "cell_type": "markdown",
   "metadata": {
    "hidden": true
   },
   "source": [
    "### Defaults"
   ]
  },
  {
   "cell_type": "markdown",
   "metadata": {
    "hidden": true
   },
   "source": [
    "n_estimators was increased to 1000 from its default value of 100."
   ]
  },
  {
   "cell_type": "code",
   "execution_count": 61,
   "metadata": {
    "hidden": true
   },
   "outputs": [
    {
     "name": "stdout",
     "output_type": "stream",
     "text": [
      "      Iter       Train Loss   Remaining Time \n",
      "         1           0.2858            3.30m\n",
      "         2           0.2787            3.31m\n",
      "         3           0.2732            3.41m\n",
      "         4           0.2681            3.42m\n",
      "         5           0.2632            3.47m\n",
      "         6           0.2587            3.47m\n",
      "         7           0.2550            3.47m\n",
      "         8           0.2521            3.47m\n",
      "         9           0.2490            3.47m\n",
      "        10           0.2456            3.46m\n",
      "        20           0.2276            3.40m\n",
      "        30           0.2183            3.34m\n",
      "        40           0.2126            3.27m\n",
      "        50           0.2085            3.23m\n",
      "        60           0.2047            3.22m\n",
      "        70           0.2017            3.20m\n",
      "        80           0.1991            3.17m\n",
      "        90           0.1969            3.15m\n",
      "       100           0.1948            3.12m\n",
      "       200           0.1771            2.83m\n",
      "       300           0.1646            2.52m\n",
      "       400           0.1558            2.20m\n",
      "       500           0.1467            1.88m\n",
      "       600           0.1393            1.52m\n",
      "       700           0.1293            1.17m\n",
      "       800           0.1228           47.64s\n",
      "       900           0.1158           23.92s\n",
      "      1000           0.1093            0.00s\n"
     ]
    },
    {
     "data": {
      "text/plain": [
       "(0.9705755015972327, 0.8568501495478038)"
      ]
     },
     "execution_count": 61,
     "metadata": {},
     "output_type": "execute_result"
    }
   ],
   "source": [
    "clf = GradientBoostingClassifier(loss='deviance', n_estimators=1000, verbose=1)\n",
    "clf.fit(xs, y)\n",
    "m_roc(y, xs), m_roc(valid_y, valid_xs)"
   ]
  },
  {
   "cell_type": "markdown",
   "metadata": {
    "hidden": true
   },
   "source": [
    "### Hyperparameter Tuning"
   ]
  },
  {
   "cell_type": "code",
   "execution_count": 63,
   "metadata": {
    "hidden": true
   },
   "outputs": [],
   "source": [
    "parameters1 = {\n",
    "    'learning_rate': [0.01, 0.1, 0.2, 0.3],\n",
    "    'n_estimators': [40, 50, 60, 70, 1000]\n",
    "}"
   ]
  },
  {
   "cell_type": "code",
   "execution_count": 72,
   "metadata": {
    "hidden": true
   },
   "outputs": [],
   "source": [
    "parameters2 = {\n",
    " 'max_depth': [3, 6, 9, 12],\n",
    " 'subsample': [0.8, 0.66],\n",
    " 'min_samples_split': [2, 5, 10],\n",
    " 'max_leaf_nodes': [None, 20, 31, 40],\n",
    " 'min_samples_leaf': [1, 5],\n",
    " 'random_state': [33],\n",
    " }"
   ]
  },
  {
   "cell_type": "code",
   "execution_count": 78,
   "metadata": {
    "hidden": true
   },
   "outputs": [],
   "source": [
    "parameters3 = {\n",
    " 'max_depth': [8, 9, 10],\n",
    " 'subsample': [0.60, 0.66, 0.72],\n",
    " 'min_samples_split': [3, 5, 8],\n",
    " 'max_leaf_nodes': [None, 45, 50, 60],\n",
    " 'min_samples_leaf': [5, 7, 9],\n",
    " 'random_state': [33],\n",
    "}"
   ]
  },
  {
   "cell_type": "code",
   "execution_count": 81,
   "metadata": {
    "hidden": true
   },
   "outputs": [],
   "source": [
    "parameters4 = {\n",
    " 'max_depth': [8, 9, 10],\n",
    " 'subsample': [0.68, 0.72, 0.76],\n",
    " 'min_samples_split': [1, 2, 3],\n",
    " 'max_leaf_nodes': [50, 52, 54],\n",
    " 'min_samples_leaf': [6, 7, 8],\n",
    " 'random_state': [33],\n",
    " }"
   ]
  },
  {
   "cell_type": "code",
   "execution_count": 99,
   "metadata": {
    "hidden": true
   },
   "outputs": [],
   "source": [
    "parameters5 = {\n",
    "    'n_estimators': [40, 50, 60, 70, 100, 1000]\n",
    "}"
   ]
  },
  {
   "cell_type": "code",
   "execution_count": 100,
   "metadata": {
    "hidden": true
   },
   "outputs": [],
   "source": [
    "clf = GridSearchCV(GradientBoostingClassifier(loss='deviance', learning_rate=0.1, \n",
    "                         criterion='friedman_mse', tol=1e-8, max_features='sqrt',\n",
    "                                subsample=0.72, min_samples_split=6, \n",
    "                                max_leaf_nodes=52, max_depth=10), \n",
    "                         parameters5, \n",
    "                   scoring=make_scorer(roc_auc_score, needs_proba=True), n_jobs=-1)"
   ]
  },
  {
   "cell_type": "code",
   "execution_count": 101,
   "metadata": {
    "hidden": true
   },
   "outputs": [
    {
     "name": "stdout",
     "output_type": "stream",
     "text": [
      "CPU times: user 1min 12s, sys: 1.32 s, total: 1min 13s\n",
      "Wall time: 4min 14s\n"
     ]
    },
    {
     "data": {
      "text/plain": [
       "(GradientBoostingClassifier(max_depth=10, max_features='sqrt', max_leaf_nodes=52,\n",
       "                            min_samples_split=6, n_estimators=1000,\n",
       "                            subsample=0.72, tol=1e-08),\n",
       " 0.8841218032816766,\n",
       " {'n_estimators': 1000})"
      ]
     },
     "execution_count": 101,
     "metadata": {},
     "output_type": "execute_result"
    }
   ],
   "source": [
    "%%time\n",
    "clf.fit(xs, y)\n",
    "clf.best_estimator_, clf.best_score_, clf.best_params_"
   ]
  },
  {
   "cell_type": "code",
   "execution_count": 104,
   "metadata": {
    "hidden": true
   },
   "outputs": [
    {
     "name": "stdout",
     "output_type": "stream",
     "text": [
      "      Iter       Train Loss      OOB Improve   Remaining Time \n",
      "         1           0.2693           0.0407            1.12m\n",
      "         2           0.2610           0.0080            1.04m\n",
      "         3           0.2520           0.0075           59.71s\n",
      "         4           0.2429           0.0055            1.08m\n",
      "         5           0.2422           0.0028            1.06m\n",
      "         6           0.2346           0.0033            1.05m\n",
      "         7           0.2353           0.0050            1.04m\n",
      "         8           0.2226           0.0042            1.03m\n",
      "         9           0.2224           0.0027            1.03m\n",
      "        10           0.2239           0.0020            1.04m\n",
      "        20           0.1882           0.0006            1.07m\n",
      "        30           0.1758           0.0002            1.03m\n",
      "        40           0.1648          -0.0000            1.03m\n",
      "        50           0.1593          -0.0001            1.03m\n",
      "        60           0.1503          -0.0010            1.02m\n",
      "        70           0.1466          -0.0001            1.03m\n",
      "        80           0.1400          -0.0006            1.03m\n",
      "        90           0.1281           0.0001            1.02m\n",
      "       100           0.1262           0.0000            1.01m\n",
      "       200           0.0885          -0.0000           53.75s\n",
      "       300           0.0630          -0.0000           46.14s\n",
      "       400           0.0455          -0.0001           38.94s\n",
      "       500           0.0314          -0.0002           32.90s\n",
      "       600           0.0250          -0.0000           26.86s\n",
      "       700           0.0175          -0.0000           20.73s\n",
      "       800           0.0133          -0.0000           13.60s\n",
      "       900           0.0100          -0.0000            6.70s\n",
      "      1000           0.0078          -0.0000            0.00s\n"
     ]
    },
    {
     "data": {
      "text/plain": [
       "(1.0, 0.8318749851413832)"
      ]
     },
     "execution_count": 104,
     "metadata": {},
     "output_type": "execute_result"
    }
   ],
   "source": [
    "clf = GradientBoostingClassifier(loss='deviance', learning_rate=0.1, verbose=1,\n",
    "                         criterion='friedman_mse', tol=1e-8, max_features='sqrt',\n",
    "                                subsample=0.72, min_samples_split=6, \n",
    "                                max_leaf_nodes=52, max_depth=10, n_estimators=1000)\n",
    "clf.fit(xs, y)\n",
    "m_roc(y, xs), m_roc(valid_y, valid_xs)"
   ]
  },
  {
   "cell_type": "code",
   "execution_count": 103,
   "metadata": {
    "hidden": true
   },
   "outputs": [
    {
     "name": "stdout",
     "output_type": "stream",
     "text": [
      "      Iter       Train Loss      OOB Improve   Remaining Time \n",
      "         1           0.3119           0.0022            1.08m\n",
      "         2           0.3162           0.0018            1.10m\n",
      "         3           0.3054           0.0018            1.03m\n",
      "         4           0.3067           0.0014            1.06m\n",
      "         5           0.3047           0.0014            1.05m\n",
      "         6           0.3057           0.0015            1.05m\n",
      "         7           0.2964           0.0015            1.06m\n",
      "         8           0.3050           0.0014            1.05m\n",
      "         9           0.2936           0.0013            1.06m\n",
      "        10           0.2941           0.0012            1.02m\n",
      "        20           0.2828           0.0009           58.00s\n",
      "        30           0.2784           0.0006           58.51s\n",
      "        40           0.2696           0.0005           58.59s\n",
      "        50           0.2593           0.0004           57.99s\n",
      "        60           0.2554           0.0004           58.28s\n",
      "        70           0.2499           0.0004           57.67s\n",
      "        80           0.2495           0.0003           57.89s\n",
      "        90           0.2469           0.0003           57.43s\n",
      "       100           0.2403           0.0003           57.28s\n",
      "       200           0.2183           0.0001           50.64s\n",
      "       300           0.2044           0.0001           44.37s\n",
      "       400           0.1882           0.0001           37.87s\n",
      "       500           0.1856           0.0000           31.81s\n",
      "       600           0.1783           0.0000           25.81s\n",
      "       700           0.1718           0.0000           19.60s\n",
      "       800           0.1666           0.0000           13.23s\n",
      "       900           0.1653           0.0000            6.66s\n",
      "      1000           0.1598           0.0000            0.00s\n"
     ]
    },
    {
     "data": {
      "text/plain": [
       "(0.9152136625826836, 0.843631924082018)"
      ]
     },
     "execution_count": 103,
     "metadata": {},
     "output_type": "execute_result"
    }
   ],
   "source": [
    "clf = GradientBoostingClassifier(loss='deviance', learning_rate=0.005, verbose=1,\n",
    "                         criterion='friedman_mse', tol=1e-8, max_features='sqrt',\n",
    "                                subsample=0.72, min_samples_split=6, \n",
    "                                max_leaf_nodes=52, max_depth=10, n_estimators=1000)\n",
    "clf.fit(xs, y)\n",
    "m_roc(y, xs), m_roc(valid_y, valid_xs)"
   ]
  },
  {
   "cell_type": "code",
   "execution_count": 105,
   "metadata": {
    "hidden": true
   },
   "outputs": [
    {
     "name": "stdout",
     "output_type": "stream",
     "text": [
      "      Iter       Train Loss      OOB Improve   Remaining Time \n",
      "         1           0.3082           0.0047            1.15m\n",
      "         2           0.3072           0.0027            1.30m\n",
      "         3           0.3074           0.0027            1.21m\n",
      "         4           0.2995           0.0030            1.21m\n",
      "         5           0.3000           0.0023            1.16m\n",
      "         6           0.2976           0.0022            1.14m\n",
      "         7           0.2994           0.0018            1.18m\n",
      "         8           0.2937           0.0017            1.17m\n",
      "         9           0.2912           0.0017            1.17m\n",
      "        10           0.2880           0.0020            1.19m\n",
      "        20           0.2695           0.0011            1.27m\n",
      "        30           0.2599           0.0008            1.23m\n",
      "        40           0.2517           0.0007            1.22m\n",
      "        50           0.2427           0.0005            1.20m\n",
      "        60           0.2351           0.0004            1.17m\n",
      "        70           0.2313           0.0003            1.16m\n",
      "        80           0.2237           0.0004            1.14m\n",
      "        90           0.2200           0.0004            1.12m\n",
      "       100           0.2118           0.0003            1.11m\n",
      "       200           0.1946           0.0001           58.25s\n",
      "       300           0.1801           0.0001           50.80s\n",
      "       400           0.1680           0.0000           43.72s\n",
      "       500           0.1560           0.0000           36.53s\n",
      "       600           0.1492          -0.0000           30.01s\n",
      "       700           0.1417           0.0000           23.40s\n",
      "       800           0.1397           0.0000           15.66s\n",
      "       900           0.1294          -0.0000            7.80s\n",
      "      1000           0.1271           0.0000            0.00s\n"
     ]
    },
    {
     "data": {
      "text/plain": [
       "(0.9472911054564462, 0.8462935197198218)"
      ]
     },
     "execution_count": 105,
     "metadata": {},
     "output_type": "execute_result"
    }
   ],
   "source": [
    "clf = GradientBoostingClassifier(loss='deviance', learning_rate=0.01, verbose=1,\n",
    "                         criterion='friedman_mse', tol=1e-8, max_features='sqrt',\n",
    "                                subsample=0.72, min_samples_split=6, \n",
    "                                max_leaf_nodes=52, max_depth=10, n_estimators=1000)\n",
    "clf.fit(xs, y)\n",
    "m_roc(y, xs), m_roc(valid_y, valid_xs)"
   ]
  }
 ],
 "metadata": {
  "kernelspec": {
   "display_name": "Python 3",
   "language": "python",
   "name": "python3"
  },
  "language_info": {
   "codemirror_mode": {
    "name": "ipython",
    "version": 3
   },
   "file_extension": ".py",
   "mimetype": "text/x-python",
   "name": "python",
   "nbconvert_exporter": "python",
   "pygments_lexer": "ipython3",
   "version": "3.8.5"
  },
  "toc": {
   "base_numbering": 1,
   "nav_menu": {},
   "number_sections": true,
   "sideBar": true,
   "skip_h1_title": false,
   "title_cell": "Table of Contents",
   "title_sidebar": "Contents",
   "toc_cell": false,
   "toc_position": {},
   "toc_section_display": true,
   "toc_window_display": false
  }
 },
 "nbformat": 4,
 "nbformat_minor": 4
}
