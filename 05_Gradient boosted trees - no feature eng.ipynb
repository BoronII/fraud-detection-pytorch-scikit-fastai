{
 "cells": [
  {
   "cell_type": "markdown",
   "metadata": {},
   "source": [
    "# Gradient Boosted Trees"
   ]
  },
  {
   "cell_type": "code",
   "execution_count": 30,
   "metadata": {},
   "outputs": [],
   "source": [
    "from fastai.tabular.all import *\n",
    "from sklearn.metrics import roc_auc_score\n",
    "from sklearn.model_selection import GridSearchCV\n",
    "from sklearn.model_selection import RandomizedSearchCV\n",
    "from sklearn.metrics import make_scorer\n",
    "\n",
    "from sklearn.experimental import enable_hist_gradient_boosting \n",
    "from sklearn.ensemble import HistGradientBoostingClassifier\n",
    "\n",
    "path = Path('/Users/baranserajelahi/Codes/fraud-detection-pytorch-scikit-fastai/data')\n",
    "Path.BASE_PATH = path\n",
    "pd.options.display.max_rows = 200\n",
    "pd.options.display.max_columns = 120"
   ]
  },
  {
   "cell_type": "code",
   "execution_count": 31,
   "metadata": {},
   "outputs": [],
   "source": [
    "# Tabular object created and saved on the 02_ notebook\n",
    "to = (path/'to.pkl').load()"
   ]
  },
  {
   "cell_type": "code",
   "execution_count": 32,
   "metadata": {},
   "outputs": [],
   "source": [
    "cats = ['ProductCD', 'card1', 'card2', 'card3', 'card4', 'card5', 'card6', \n",
    "       'addr1', 'addr2', 'P_emaildomain', 'R_emaildomain', 'M1', 'M2', 'M3', \n",
    "       'M4', 'M5', 'M6', 'M7', 'M8', 'M9', 'DeviceType', 'DeviceInfo', 'id_12', \n",
    "       'id_13', 'id_14', 'id_15', 'id_16', 'id_17', 'id_18', 'id_19', 'id_20', \n",
    "       'id_21', 'id_22', 'id_23', 'id_24', 'id_25', 'id_26', 'id_27', 'id_28', \n",
    "       'id_29', 'id_30', 'id_31', 'id_32', 'id_33', 'id_34', 'id_35', 'id_36',\n",
    "       'id_37', 'id_38']\n",
    "\n",
    "for cat in cats:\n",
    "    to[cat] = to[cat].astype('category')"
   ]
  },
  {
   "cell_type": "code",
   "execution_count": 33,
   "metadata": {},
   "outputs": [],
   "source": [
    "xs, y = to.train.xs, to.train.y\n",
    "valid_xs, valid_y = to.valid.xs, to.valid.y"
   ]
  },
  {
   "cell_type": "markdown",
   "metadata": {
    "heading_collapsed": true
   },
   "source": [
    "## HistGradientBoostingClassifier"
   ]
  },
  {
   "cell_type": "code",
   "execution_count": 112,
   "metadata": {
    "hidden": true
   },
   "outputs": [
    {
     "data": {
      "text/plain": [
       "'Previously, leaf-wise growth was an exclusive feature of lightGBM, but xgboost has since implemented this growth strategy (this change has not been reflected in the lightGBM docs, but has been acknowledged in a blog post). This strategy is only available for the histogram-based method (which I will explain below), so in order to use it, users will have to set the tree_method parameter to hist and the grow_policy parameter to lossguide.'"
      ]
     },
     "execution_count": 112,
     "metadata": {},
     "output_type": "execute_result"
    }
   ],
   "source": [
    "'Previously, leaf-wise growth was an exclusive feature of lightGBM, but xgboost has since implemented this growth strategy (this change has not been reflected in the lightGBM docs, but has been acknowledged in a blog post). This strategy is only available for the histogram-based method (which I will explain below), so in order to use it, users will have to set the tree_method parameter to hist and the grow_policy parameter to lossguide.'"
   ]
  },
  {
   "cell_type": "code",
   "execution_count": 113,
   "metadata": {
    "hidden": true,
    "scrolled": true
   },
   "outputs": [
    {
     "data": {
      "text/plain": [
       "'Xgboost offers the option tree_method=approx, which computes a new set of bins at each split using the gradient statistics. LightGBM and xgboost with the tree_method set to hist will both compute the bins at the beginning of training and reuse the same bins throughout the entire training process.'"
      ]
     },
     "execution_count": 113,
     "metadata": {},
     "output_type": "execute_result"
    }
   ],
   "source": [
    "'Xgboost offers the option tree_method=approx, which computes a new set of bins at each split using the gradient statistics. LightGBM and xgboost with the tree_method set to hist will both compute the bins at the beginning of training and reuse the same bins throughout the entire training process.'"
   ]
  },
  {
   "cell_type": "code",
   "execution_count": 114,
   "metadata": {
    "hidden": true
   },
   "outputs": [
    {
     "data": {
      "text/plain": [
       "'Though lightGBM does not enable ignoring zero values by default, it has an option called zero_as_missing which, if set to True, will regard all zero values as missing. According to this thread on GitHub, lightGBM will treat missing values in the same way as xgboost as long as the parameter use_missing is set to True (which is the default behavior).'"
      ]
     },
     "execution_count": 114,
     "metadata": {},
     "output_type": "execute_result"
    }
   ],
   "source": [
    "'BOTH: Though lightGBM does not enable ignoring zero values by default, it has an option called zero_as_missing which, if set to True, will regard all zero values as missing. According to this thread on GitHub, lightGBM will treat missing values in the same way as xgboost as long as the parameter use_missing is set to True (which is the default behavior).'"
   ]
  },
  {
   "cell_type": "code",
   "execution_count": 115,
   "metadata": {
    "hidden": true
   },
   "outputs": [
    {
     "data": {
      "text/plain": [
       "'This is a method introduced in lightGBM that also takes advantage of the sparsity of large datasets. The essential observation behind this method is that the sparsity of features means that some features are never non-zero together. For instance, the words \"Python\" and \"protein\" might never appear in the same document in the data. This means that these features can be \"bundled\" into a single feature without losing any information. Suppose the tf-idf score for \"Python\" ranges from 0 to 10 and the tf-idf score for  \"protein\" ranges from 0 to 20. In this case, the feature'"
      ]
     },
     "execution_count": 115,
     "metadata": {},
     "output_type": "execute_result"
    }
   ],
   "source": [
    "'LGBM: This is a method introduced in lightGBM that also takes advantage of the sparsity of large datasets. The essential observation behind this method is that the sparsity of features means that some features are never non-zero together. For instance, the words \"Python\" and \"protein\" might never appear in the same document in the data. This means that these features can be \"bundled\" into a single feature without losing any information. Suppose the tf-idf score for \"Python\" ranges from 0 to 10 and the tf-idf score for  \"protein\" ranges from 0 to 20. In this case, the feature'"
   ]
  },
  {
   "cell_type": "code",
   "execution_count": 116,
   "metadata": {
    "hidden": true
   },
   "outputs": [
    {
     "data": {
      "text/plain": [
       "'Unfortunately, the problem of finding the most efficient bundle is NP-hard. Therefore, the authors of the paper opted for an approximate algorithm that tolerated a certain degree of overlap \\\\gamma  between the non-zero elements within a feature bundle. The details of this algorithm are beyond the scope of this post, so please refer to the original paper for details.'"
      ]
     },
     "execution_count": 116,
     "metadata": {},
     "output_type": "execute_result"
    }
   ],
   "source": [
    "'LGBM: Unfortunately, the problem of finding the most efficient bundle is NP-hard. Therefore, the authors of the paper opted for an approximate algorithm that tolerated a certain degree of overlap \\gamma  between the non-zero elements within a feature bundle. The details of this algorithm are beyond the scope of this post, so please refer to the original paper for details.'"
   ]
  },
  {
   "cell_type": "markdown",
   "metadata": {
    "hidden": true
   },
   "source": [
    "HistGradientBoostingClassifier is based on Microsofts LightGBM."
   ]
  },
  {
   "cell_type": "markdown",
   "metadata": {
    "heading_collapsed": true,
    "hidden": true
   },
   "source": [
    "### Default parameters "
   ]
  },
  {
   "cell_type": "code",
   "execution_count": 34,
   "metadata": {
    "hidden": true
   },
   "outputs": [],
   "source": [
    "def m_roc(y, xs):\n",
    "    preds = clf.predict_proba(xs)\n",
    "    preds_isFraud = preds[:,1]\n",
    "    return roc_auc_score(y, preds_isFraud)"
   ]
  },
  {
   "cell_type": "markdown",
   "metadata": {
    "hidden": true
   },
   "source": [
    "The max_iter parameter was increased to 1000 from its default value of 100."
   ]
  },
  {
   "cell_type": "code",
   "execution_count": 35,
   "metadata": {
    "hidden": true
   },
   "outputs": [
    {
     "name": "stdout",
     "output_type": "stream",
     "text": [
      "Binning 0.042 GB of training data: 0.272 s\n",
      "Binning 0.005 GB of validation data: 0.018 s\n",
      "Fitting gradient boosted rounds:\n",
      "[1/1000] 1 tree, 31 leaves, max depth = 8, train score: 0.81704, val score: 0.80557, in 0.046s\n",
      "[2/1000] 1 tree, 31 leaves, max depth = 9, train score: 0.83950, val score: 0.81193, in 0.049s\n",
      "[3/1000] 1 tree, 31 leaves, max depth = 11, train score: 0.85244, val score: 0.81582, in 0.045s\n",
      "[4/1000] 1 tree, 31 leaves, max depth = 9, train score: 0.85856, val score: 0.81738, in 0.049s\n",
      "[5/1000] 1 tree, 31 leaves, max depth = 9, train score: 0.86801, val score: 0.83294, in 0.050s\n",
      "[6/1000] 1 tree, 31 leaves, max depth = 9, train score: 0.87325, val score: 0.83324, in 0.053s\n",
      "[7/1000] 1 tree, 31 leaves, max depth = 8, train score: 0.87697, val score: 0.83377, in 0.066s\n",
      "[8/1000] 1 tree, 31 leaves, max depth = 12, train score: 0.88005, val score: 0.83974, in 0.049s\n",
      "[9/1000] 1 tree, 31 leaves, max depth = 8, train score: 0.88087, val score: 0.84503, in 0.054s\n",
      "[10/1000] 1 tree, 31 leaves, max depth = 11, train score: 0.88683, val score: 0.84608, in 0.051s\n",
      "[11/1000] 1 tree, 31 leaves, max depth = 9, train score: 0.89044, val score: 0.84655, in 0.050s\n",
      "[12/1000] 1 tree, 31 leaves, max depth = 13, train score: 0.89221, val score: 0.84764, in 0.051s\n",
      "[13/1000] 1 tree, 31 leaves, max depth = 9, train score: 0.89362, val score: 0.84737, in 0.050s\n",
      "[14/1000] 1 tree, 31 leaves, max depth = 11, train score: 0.89406, val score: 0.84716, in 0.059s\n",
      "[15/1000] 1 tree, 31 leaves, max depth = 11, train score: 0.90076, val score: 0.85085, in 0.063s\n",
      "[16/1000] 1 tree, 31 leaves, max depth = 11, train score: 0.90301, val score: 0.85263, in 0.058s\n",
      "[17/1000] 1 tree, 31 leaves, max depth = 13, train score: 0.90638, val score: 0.85703, in 0.054s\n",
      "[18/1000] 1 tree, 31 leaves, max depth = 9, train score: 0.90860, val score: 0.85506, in 0.052s\n",
      "[19/1000] 1 tree, 31 leaves, max depth = 9, train score: 0.90966, val score: 0.85497, in 0.058s\n",
      "[20/1000] 1 tree, 31 leaves, max depth = 11, train score: 0.91038, val score: 0.85689, in 0.069s\n",
      "[21/1000] 1 tree, 31 leaves, max depth = 11, train score: 0.91275, val score: 0.85680, in 0.061s\n",
      "[22/1000] 1 tree, 31 leaves, max depth = 10, train score: 0.91735, val score: 0.85523, in 0.064s\n",
      "[23/1000] 1 tree, 31 leaves, max depth = 12, train score: 0.91950, val score: 0.85631, in 0.076s\n",
      "[24/1000] 1 tree, 31 leaves, max depth = 12, train score: 0.92151, val score: 0.85729, in 0.079s\n",
      "[25/1000] 1 tree, 31 leaves, max depth = 9, train score: 0.92405, val score: 0.85745, in 0.088s\n",
      "[26/1000] 1 tree, 31 leaves, max depth = 11, train score: 0.92478, val score: 0.85756, in 0.074s\n",
      "[27/1000] 1 tree, 31 leaves, max depth = 16, train score: 0.92764, val score: 0.85718, in 0.076s\n",
      "[28/1000] 1 tree, 31 leaves, max depth = 9, train score: 0.92774, val score: 0.85713, in 0.112s\n",
      "[29/1000] 1 tree, 31 leaves, max depth = 12, train score: 0.93057, val score: 0.85862, in 0.054s\n",
      "[30/1000] 1 tree, 31 leaves, max depth = 18, train score: 0.93252, val score: 0.86701, in 0.075s\n",
      "[31/1000] 1 tree, 31 leaves, max depth = 13, train score: 0.93424, val score: 0.86654, in 0.064s\n",
      "[32/1000] 1 tree, 31 leaves, max depth = 12, train score: 0.93672, val score: 0.86647, in 0.067s\n",
      "[33/1000] 1 tree, 31 leaves, max depth = 14, train score: 0.93916, val score: 0.86552, in 0.068s\n",
      "[34/1000] 1 tree, 31 leaves, max depth = 13, train score: 0.93947, val score: 0.86661, in 0.067s\n",
      "[35/1000] 1 tree, 31 leaves, max depth = 10, train score: 0.94138, val score: 0.86691, in 0.060s\n",
      "[36/1000] 1 tree, 31 leaves, max depth = 15, train score: 0.94211, val score: 0.86686, in 0.061s\n",
      "[37/1000] 1 tree, 31 leaves, max depth = 9, train score: 0.94357, val score: 0.86650, in 0.058s\n",
      "[38/1000] 1 tree, 31 leaves, max depth = 12, train score: 0.94387, val score: 0.86729, in 0.057s\n",
      "[39/1000] 1 tree, 31 leaves, max depth = 16, train score: 0.94455, val score: 0.86737, in 0.059s\n",
      "[40/1000] 1 tree, 31 leaves, max depth = 13, train score: 0.95277, val score: 0.86740, in 0.056s\n",
      "[41/1000] 1 tree, 31 leaves, max depth = 12, train score: 0.95426, val score: 0.86747, in 0.060s\n",
      "[42/1000] 1 tree, 31 leaves, max depth = 11, train score: 0.95501, val score: 0.86780, in 0.059s\n",
      "[43/1000] 1 tree, 31 leaves, max depth = 10, train score: 0.95576, val score: 0.86921, in 0.064s\n",
      "[44/1000] 1 tree, 31 leaves, max depth = 8, train score: 0.95938, val score: 0.86875, in 0.061s\n",
      "[45/1000] 1 tree, 31 leaves, max depth = 10, train score: 0.96025, val score: 0.86883, in 0.063s\n",
      "[46/1000] 1 tree, 31 leaves, max depth = 16, train score: 0.96166, val score: 0.86914, in 0.066s\n",
      "[47/1000] 1 tree, 31 leaves, max depth = 12, train score: 0.96320, val score: 0.86963, in 0.060s\n",
      "[48/1000] 1 tree, 31 leaves, max depth = 15, train score: 0.96365, val score: 0.86938, in 0.074s\n",
      "[49/1000] 1 tree, 31 leaves, max depth = 15, train score: 0.96378, val score: 0.87186, in 0.132s\n",
      "[50/1000] 1 tree, 31 leaves, max depth = 14, train score: 0.96384, val score: 0.87401, in 0.072s\n",
      "[51/1000] 1 tree, 31 leaves, max depth = 9, train score: 0.96409, val score: 0.87455, in 0.066s\n",
      "[52/1000] 1 tree, 31 leaves, max depth = 10, train score: 0.96613, val score: 0.87488, in 0.065s\n",
      "[53/1000] 1 tree, 31 leaves, max depth = 10, train score: 0.96790, val score: 0.87442, in 0.064s\n",
      "[54/1000] 1 tree, 31 leaves, max depth = 15, train score: 0.96801, val score: 0.87417, in 0.066s\n",
      "[55/1000] 1 tree, 31 leaves, max depth = 15, train score: 0.96810, val score: 0.87437, in 0.064s\n",
      "[56/1000] 1 tree, 31 leaves, max depth = 12, train score: 0.96855, val score: 0.87571, in 0.070s\n",
      "[57/1000] 1 tree, 31 leaves, max depth = 14, train score: 0.96957, val score: 0.87565, in 0.092s\n",
      "[58/1000] 1 tree, 31 leaves, max depth = 11, train score: 0.96997, val score: 0.87635, in 0.071s\n",
      "[59/1000] 1 tree, 31 leaves, max depth = 15, train score: 0.97060, val score: 0.87652, in 0.070s\n",
      "[60/1000] 1 tree, 31 leaves, max depth = 15, train score: 0.97195, val score: 0.87654, in 0.073s\n",
      "[61/1000] 1 tree, 31 leaves, max depth = 9, train score: 0.97234, val score: 0.87570, in 0.079s\n",
      "[62/1000] 1 tree, 31 leaves, max depth = 11, train score: 0.97259, val score: 0.87696, in 0.078s\n",
      "[63/1000] 1 tree, 31 leaves, max depth = 13, train score: 0.97391, val score: 0.87752, in 0.070s\n",
      "[64/1000] 1 tree, 31 leaves, max depth = 12, train score: 0.97434, val score: 0.87739, in 0.067s\n",
      "[65/1000] 1 tree, 31 leaves, max depth = 13, train score: 0.97441, val score: 0.87821, in 0.071s\n",
      "[66/1000] 1 tree, 31 leaves, max depth = 14, train score: 0.97453, val score: 0.87880, in 0.067s\n",
      "[67/1000] 1 tree, 31 leaves, max depth = 12, train score: 0.97477, val score: 0.87839, in 0.067s\n",
      "[68/1000] 1 tree, 31 leaves, max depth = 10, train score: 0.97505, val score: 0.87820, in 0.079s\n",
      "[69/1000] 1 tree, 31 leaves, max depth = 9, train score: 0.97522, val score: 0.87824, in 0.075s\n",
      "[70/1000] 1 tree, 31 leaves, max depth = 10, train score: 0.97590, val score: 0.87786, in 0.112s\n",
      "[71/1000] 1 tree, 31 leaves, max depth = 13, train score: 0.97623, val score: 0.87793, in 0.077s\n",
      "[72/1000] 1 tree, 31 leaves, max depth = 14, train score: 0.97663, val score: 0.87770, in 0.070s\n",
      "[73/1000] 1 tree, 31 leaves, max depth = 11, train score: 0.97765, val score: 0.87767, in 0.070s\n",
      "[74/1000] 1 tree, 31 leaves, max depth = 10, train score: 0.97784, val score: 0.87721, in 0.071s\n",
      "[75/1000] 1 tree, 31 leaves, max depth = 13, train score: 0.97792, val score: 0.87738, in 0.069s\n",
      "[76/1000] 1 tree, 31 leaves, max depth = 7, train score: 0.97915, val score: 0.88050, in 0.074s\n",
      "[77/1000] 1 tree, 31 leaves, max depth = 10, train score: 0.97955, val score: 0.88021, in 0.077s\n",
      "[78/1000] 1 tree, 31 leaves, max depth = 11, train score: 0.97991, val score: 0.88029, in 0.072s\n",
      "[79/1000] 1 tree, 31 leaves, max depth = 9, train score: 0.98005, val score: 0.88061, in 0.222s\n",
      "[80/1000] 1 tree, 31 leaves, max depth = 10, train score: 0.98021, val score: 0.88096, in 0.092s\n",
      "[81/1000] 1 tree, 31 leaves, max depth = 14, train score: 0.98082, val score: 0.88100, in 0.070s\n",
      "[82/1000] 1 tree, 31 leaves, max depth = 10, train score: 0.98114, val score: 0.88068, in 0.071s\n",
      "[83/1000] 1 tree, 31 leaves, max depth = 14, train score: 0.98144, val score: 0.88121, in 0.078s\n",
      "[84/1000] 1 tree, 31 leaves, max depth = 10, train score: 0.98175, val score: 0.88049, in 0.073s\n"
     ]
    },
    {
     "name": "stdout",
     "output_type": "stream",
     "text": [
      "[85/1000] 1 tree, 31 leaves, max depth = 11, train score: 0.98212, val score: 0.88056, in 0.079s\n",
      "[86/1000] 1 tree, 31 leaves, max depth = 11, train score: 0.98236, val score: 0.88083, in 0.094s\n",
      "[87/1000] 1 tree, 31 leaves, max depth = 12, train score: 0.98245, val score: 0.88074, in 0.083s\n",
      "[88/1000] 1 tree, 31 leaves, max depth = 10, train score: 0.98260, val score: 0.88102, in 0.073s\n",
      "[89/1000] 1 tree, 31 leaves, max depth = 10, train score: 0.98272, val score: 0.88450, in 0.068s\n",
      "[90/1000] 1 tree, 31 leaves, max depth = 11, train score: 0.98285, val score: 0.88506, in 0.093s\n",
      "[91/1000] 1 tree, 31 leaves, max depth = 12, train score: 0.98320, val score: 0.88526, in 0.126s\n",
      "[92/1000] 1 tree, 31 leaves, max depth = 12, train score: 0.98328, val score: 0.88487, in 0.069s\n",
      "[93/1000] 1 tree, 31 leaves, max depth = 12, train score: 0.98338, val score: 0.88525, in 0.090s\n",
      "[94/1000] 1 tree, 31 leaves, max depth = 12, train score: 0.98419, val score: 0.88511, in 0.086s\n",
      "[95/1000] 1 tree, 31 leaves, max depth = 12, train score: 0.98432, val score: 0.88500, in 0.073s\n",
      "[96/1000] 1 tree, 31 leaves, max depth = 8, train score: 0.98447, val score: 0.88521, in 0.071s\n",
      "[97/1000] 1 tree, 31 leaves, max depth = 9, train score: 0.98468, val score: 0.88533, in 0.076s\n",
      "[98/1000] 1 tree, 31 leaves, max depth = 11, train score: 0.98559, val score: 0.88569, in 0.069s\n",
      "[99/1000] 1 tree, 31 leaves, max depth = 11, train score: 0.98591, val score: 0.88576, in 0.067s\n",
      "[100/1000] 1 tree, 31 leaves, max depth = 13, train score: 0.98604, val score: 0.88542, in 0.084s\n",
      "[101/1000] 1 tree, 31 leaves, max depth = 11, train score: 0.98618, val score: 0.88647, in 0.087s\n",
      "[102/1000] 1 tree, 31 leaves, max depth = 10, train score: 0.98624, val score: 0.88658, in 0.116s\n",
      "[103/1000] 1 tree, 31 leaves, max depth = 13, train score: 0.98662, val score: 0.88667, in 0.069s\n",
      "[104/1000] 1 tree, 31 leaves, max depth = 13, train score: 0.98672, val score: 0.88666, in 0.066s\n",
      "[105/1000] 1 tree, 31 leaves, max depth = 12, train score: 0.98689, val score: 0.88945, in 0.075s\n",
      "[106/1000] 1 tree, 31 leaves, max depth = 15, train score: 0.98713, val score: 0.88928, in 0.074s\n",
      "[107/1000] 1 tree, 31 leaves, max depth = 12, train score: 0.98749, val score: 0.88914, in 0.066s\n",
      "[108/1000] 1 tree, 31 leaves, max depth = 11, train score: 0.98759, val score: 0.88928, in 0.064s\n",
      "[109/1000] 1 tree, 31 leaves, max depth = 12, train score: 0.98835, val score: 0.89030, in 0.064s\n",
      "[110/1000] 1 tree, 31 leaves, max depth = 12, train score: 0.98850, val score: 0.89077, in 0.066s\n",
      "[111/1000] 1 tree, 31 leaves, max depth = 11, train score: 0.98854, val score: 0.89084, in 0.063s\n",
      "[112/1000] 1 tree, 31 leaves, max depth = 8, train score: 0.98862, val score: 0.89085, in 0.079s\n",
      "[113/1000] 1 tree, 31 leaves, max depth = 11, train score: 0.98874, val score: 0.89072, in 0.130s\n",
      "[114/1000] 1 tree, 31 leaves, max depth = 12, train score: 0.98884, val score: 0.89059, in 0.086s\n",
      "[115/1000] 1 tree, 31 leaves, max depth = 16, train score: 0.98894, val score: 0.89029, in 0.085s\n",
      "[116/1000] 1 tree, 31 leaves, max depth = 13, train score: 0.98906, val score: 0.89075, in 0.073s\n",
      "[117/1000] 1 tree, 31 leaves, max depth = 9, train score: 0.98914, val score: 0.89043, in 0.067s\n",
      "[118/1000] 1 tree, 31 leaves, max depth = 13, train score: 0.98978, val score: 0.89040, in 0.067s\n",
      "[119/1000] 1 tree, 31 leaves, max depth = 9, train score: 0.99008, val score: 0.89045, in 0.080s\n",
      "[120/1000] 1 tree, 31 leaves, max depth = 15, train score: 0.99042, val score: 0.89020, in 0.088s\n",
      "[121/1000] 1 tree, 31 leaves, max depth = 14, train score: 0.99064, val score: 0.88978, in 0.088s\n",
      "[122/1000] 1 tree, 31 leaves, max depth = 14, train score: 0.99061, val score: 0.88999, in 0.081s\n",
      "Fit 122 trees in 9.346 s, (3782 total leaves)\n",
      "Time spent computing histograms: 3.096s\n",
      "Time spent finding best splits:  0.918s\n",
      "Time spent applying splits:      1.294s\n",
      "Time spent predicting:           0.021s\n",
      "CPU times: user 52.7 s, sys: 8.88 s, total: 1min 1s\n",
      "Wall time: 9.6 s\n"
     ]
    },
    {
     "data": {
      "text/plain": [
       "(0.981080736425216, 0.8585535814408465)"
      ]
     },
     "execution_count": 35,
     "metadata": {},
     "output_type": "execute_result"
    }
   ],
   "source": [
    "%%time\n",
    "clf = HistGradientBoostingClassifier(loss='binary_crossentropy', verbose=1,\n",
    "                                    max_iter=1000, scoring='roc_auc')\n",
    "clf.fit(xs,y)\n",
    "m_roc(y, xs), m_roc(valid_y, valid_xs)"
   ]
  },
  {
   "cell_type": "markdown",
   "metadata": {
    "hidden": true
   },
   "source": [
    "The algorithm may have stopped too early, so let's increase the threshold for early stopping by decreasing tol by a factor of 10 to e-8 from its default value e-7."
   ]
  },
  {
   "cell_type": "code",
   "execution_count": 36,
   "metadata": {
    "hidden": true
   },
   "outputs": [
    {
     "name": "stdout",
     "output_type": "stream",
     "text": [
      "Binning 0.042 GB of training data: 0.271 s\n",
      "Binning 0.005 GB of validation data: 0.019 s\n",
      "Fitting gradient boosted rounds:\n",
      "[1/1000] 1 tree, 31 leaves, max depth = 7, train score: 0.82234, val score: 0.80514, in 0.047s\n",
      "[2/1000] 1 tree, 31 leaves, max depth = 11, train score: 0.84012, val score: 0.83320, in 0.056s\n",
      "[3/1000] 1 tree, 31 leaves, max depth = 11, train score: 0.84453, val score: 0.83291, in 0.047s\n",
      "[4/1000] 1 tree, 31 leaves, max depth = 10, train score: 0.85679, val score: 0.84107, in 0.049s\n",
      "[5/1000] 1 tree, 31 leaves, max depth = 9, train score: 0.86389, val score: 0.84776, in 0.052s\n",
      "[6/1000] 1 tree, 31 leaves, max depth = 8, train score: 0.86967, val score: 0.85248, in 0.052s\n",
      "[7/1000] 1 tree, 31 leaves, max depth = 10, train score: 0.87200, val score: 0.85335, in 0.059s\n",
      "[8/1000] 1 tree, 31 leaves, max depth = 9, train score: 0.87481, val score: 0.85439, in 0.058s\n",
      "[9/1000] 1 tree, 31 leaves, max depth = 8, train score: 0.87650, val score: 0.85888, in 0.058s\n",
      "[10/1000] 1 tree, 31 leaves, max depth = 12, train score: 0.88411, val score: 0.86884, in 0.062s\n",
      "[11/1000] 1 tree, 31 leaves, max depth = 8, train score: 0.88590, val score: 0.87201, in 0.065s\n",
      "[12/1000] 1 tree, 31 leaves, max depth = 9, train score: 0.88918, val score: 0.87678, in 0.120s\n",
      "[13/1000] 1 tree, 31 leaves, max depth = 8, train score: 0.89106, val score: 0.87804, in 0.062s\n",
      "[14/1000] 1 tree, 31 leaves, max depth = 13, train score: 0.89320, val score: 0.88043, in 0.092s\n",
      "[15/1000] 1 tree, 31 leaves, max depth = 10, train score: 0.89829, val score: 0.88370, in 0.070s\n",
      "[16/1000] 1 tree, 31 leaves, max depth = 10, train score: 0.90333, val score: 0.88771, in 0.065s\n",
      "[17/1000] 1 tree, 31 leaves, max depth = 11, train score: 0.90473, val score: 0.88895, in 0.077s\n",
      "[18/1000] 1 tree, 31 leaves, max depth = 9, train score: 0.90712, val score: 0.89029, in 0.070s\n",
      "[19/1000] 1 tree, 31 leaves, max depth = 10, train score: 0.91067, val score: 0.89005, in 0.067s\n",
      "[20/1000] 1 tree, 31 leaves, max depth = 11, train score: 0.91228, val score: 0.88994, in 0.059s\n",
      "[21/1000] 1 tree, 31 leaves, max depth = 12, train score: 0.91565, val score: 0.89021, in 0.063s\n",
      "[22/1000] 1 tree, 31 leaves, max depth = 9, train score: 0.91888, val score: 0.89364, in 0.063s\n",
      "[23/1000] 1 tree, 31 leaves, max depth = 13, train score: 0.92035, val score: 0.89622, in 0.063s\n",
      "[24/1000] 1 tree, 31 leaves, max depth = 11, train score: 0.92106, val score: 0.89666, in 0.069s\n",
      "[25/1000] 1 tree, 31 leaves, max depth = 12, train score: 0.92145, val score: 0.89866, in 0.077s\n",
      "[26/1000] 1 tree, 31 leaves, max depth = 13, train score: 0.92382, val score: 0.89922, in 0.067s\n",
      "[27/1000] 1 tree, 31 leaves, max depth = 10, train score: 0.92482, val score: 0.89926, in 0.063s\n",
      "[28/1000] 1 tree, 31 leaves, max depth = 10, train score: 0.92837, val score: 0.90126, in 0.060s\n",
      "[29/1000] 1 tree, 31 leaves, max depth = 12, train score: 0.92952, val score: 0.90232, in 0.071s\n",
      "[30/1000] 1 tree, 31 leaves, max depth = 10, train score: 0.93101, val score: 0.90490, in 0.080s\n",
      "[31/1000] 1 tree, 31 leaves, max depth = 11, train score: 0.93451, val score: 0.90468, in 0.085s\n",
      "[32/1000] 1 tree, 31 leaves, max depth = 10, train score: 0.93638, val score: 0.90572, in 0.068s\n",
      "[33/1000] 1 tree, 31 leaves, max depth = 12, train score: 0.93795, val score: 0.90701, in 0.081s\n",
      "[34/1000] 1 tree, 31 leaves, max depth = 9, train score: 0.94149, val score: 0.90759, in 0.111s\n",
      "[35/1000] 1 tree, 31 leaves, max depth = 10, train score: 0.94227, val score: 0.90732, in 0.080s\n",
      "[36/1000] 1 tree, 31 leaves, max depth = 15, train score: 0.94274, val score: 0.90826, in 0.085s\n",
      "[37/1000] 1 tree, 31 leaves, max depth = 18, train score: 0.94460, val score: 0.90852, in 0.075s\n",
      "[38/1000] 1 tree, 31 leaves, max depth = 11, train score: 0.94712, val score: 0.90893, in 0.068s\n",
      "[39/1000] 1 tree, 31 leaves, max depth = 11, train score: 0.94922, val score: 0.90943, in 0.065s\n",
      "[40/1000] 1 tree, 31 leaves, max depth = 11, train score: 0.95022, val score: 0.91011, in 0.067s\n",
      "[41/1000] 1 tree, 31 leaves, max depth = 10, train score: 0.95047, val score: 0.91005, in 0.066s\n",
      "[42/1000] 1 tree, 31 leaves, max depth = 12, train score: 0.95292, val score: 0.91028, in 0.071s\n",
      "[43/1000] 1 tree, 31 leaves, max depth = 13, train score: 0.95472, val score: 0.91131, in 0.068s\n",
      "[44/1000] 1 tree, 31 leaves, max depth = 13, train score: 0.95491, val score: 0.91249, in 0.068s\n",
      "[45/1000] 1 tree, 31 leaves, max depth = 15, train score: 0.95582, val score: 0.91209, in 0.073s\n",
      "[46/1000] 1 tree, 31 leaves, max depth = 10, train score: 0.95819, val score: 0.91490, in 0.076s\n",
      "[47/1000] 1 tree, 31 leaves, max depth = 12, train score: 0.95872, val score: 0.91495, in 0.073s\n",
      "[48/1000] 1 tree, 31 leaves, max depth = 12, train score: 0.95933, val score: 0.91493, in 0.074s\n",
      "[49/1000] 1 tree, 31 leaves, max depth = 13, train score: 0.96000, val score: 0.91548, in 0.068s\n",
      "[50/1000] 1 tree, 31 leaves, max depth = 14, train score: 0.96091, val score: 0.91538, in 0.068s\n",
      "[51/1000] 1 tree, 31 leaves, max depth = 13, train score: 0.96279, val score: 0.91604, in 0.071s\n",
      "[52/1000] 1 tree, 31 leaves, max depth = 11, train score: 0.96303, val score: 0.91611, in 0.070s\n",
      "[53/1000] 1 tree, 31 leaves, max depth = 11, train score: 0.96338, val score: 0.91649, in 0.077s\n",
      "[54/1000] 1 tree, 31 leaves, max depth = 14, train score: 0.96481, val score: 0.91670, in 0.084s\n",
      "[55/1000] 1 tree, 31 leaves, max depth = 11, train score: 0.96573, val score: 0.91709, in 0.125s\n",
      "[56/1000] 1 tree, 31 leaves, max depth = 12, train score: 0.96597, val score: 0.91712, in 0.068s\n",
      "[57/1000] 1 tree, 31 leaves, max depth = 11, train score: 0.96641, val score: 0.91761, in 0.074s\n",
      "[58/1000] 1 tree, 31 leaves, max depth = 10, train score: 0.96678, val score: 0.91769, in 0.071s\n",
      "[59/1000] 1 tree, 31 leaves, max depth = 11, train score: 0.96717, val score: 0.91755, in 0.072s\n",
      "[60/1000] 1 tree, 31 leaves, max depth = 11, train score: 0.96764, val score: 0.91750, in 0.067s\n",
      "[61/1000] 1 tree, 31 leaves, max depth = 14, train score: 0.96792, val score: 0.91777, in 0.073s\n",
      "[62/1000] 1 tree, 31 leaves, max depth = 14, train score: 0.96827, val score: 0.91811, in 0.073s\n",
      "[63/1000] 1 tree, 31 leaves, max depth = 14, train score: 0.96982, val score: 0.91824, in 0.071s\n",
      "[64/1000] 1 tree, 31 leaves, max depth = 13, train score: 0.97109, val score: 0.91846, in 0.069s\n",
      "[65/1000] 1 tree, 31 leaves, max depth = 11, train score: 0.97130, val score: 0.91881, in 0.073s\n",
      "[66/1000] 1 tree, 31 leaves, max depth = 14, train score: 0.97165, val score: 0.91904, in 0.071s\n",
      "[67/1000] 1 tree, 31 leaves, max depth = 15, train score: 0.97208, val score: 0.91854, in 0.073s\n",
      "[68/1000] 1 tree, 31 leaves, max depth = 16, train score: 0.97212, val score: 0.91852, in 0.076s\n",
      "[69/1000] 1 tree, 31 leaves, max depth = 9, train score: 0.97224, val score: 0.91949, in 0.076s\n",
      "[70/1000] 1 tree, 31 leaves, max depth = 13, train score: 0.97299, val score: 0.92081, in 0.075s\n",
      "[71/1000] 1 tree, 31 leaves, max depth = 11, train score: 0.97351, val score: 0.92082, in 0.112s\n",
      "[72/1000] 1 tree, 31 leaves, max depth = 11, train score: 0.97441, val score: 0.92086, in 0.074s\n",
      "[73/1000] 1 tree, 31 leaves, max depth = 14, train score: 0.97558, val score: 0.92120, in 0.075s\n",
      "[74/1000] 1 tree, 31 leaves, max depth = 10, train score: 0.97589, val score: 0.92161, in 0.080s\n",
      "[75/1000] 1 tree, 31 leaves, max depth = 11, train score: 0.97662, val score: 0.92175, in 0.075s\n",
      "[76/1000] 1 tree, 31 leaves, max depth = 16, train score: 0.97715, val score: 0.92153, in 0.129s\n",
      "[77/1000] 1 tree, 31 leaves, max depth = 13, train score: 0.97755, val score: 0.92175, in 0.074s\n",
      "[78/1000] 1 tree, 31 leaves, max depth = 14, train score: 0.97781, val score: 0.92156, in 0.079s\n",
      "[79/1000] 1 tree, 31 leaves, max depth = 14, train score: 0.97832, val score: 0.92185, in 0.076s\n",
      "[80/1000] 1 tree, 31 leaves, max depth = 13, train score: 0.97850, val score: 0.92193, in 0.076s\n",
      "[81/1000] 1 tree, 31 leaves, max depth = 17, train score: 0.97896, val score: 0.92249, in 0.075s\n",
      "[82/1000] 1 tree, 31 leaves, max depth = 9, train score: 0.97909, val score: 0.92302, in 0.082s\n",
      "[83/1000] 1 tree, 31 leaves, max depth = 13, train score: 0.97962, val score: 0.92311, in 0.080s\n",
      "[84/1000] 1 tree, 31 leaves, max depth = 8, train score: 0.97972, val score: 0.92306, in 0.080s\n"
     ]
    },
    {
     "name": "stdout",
     "output_type": "stream",
     "text": [
      "[85/1000] 1 tree, 31 leaves, max depth = 14, train score: 0.97995, val score: 0.92332, in 0.078s\n",
      "[86/1000] 1 tree, 31 leaves, max depth = 14, train score: 0.98003, val score: 0.92413, in 0.082s\n",
      "[87/1000] 1 tree, 31 leaves, max depth = 15, train score: 0.98041, val score: 0.92391, in 0.076s\n",
      "[88/1000] 1 tree, 31 leaves, max depth = 12, train score: 0.98046, val score: 0.92400, in 0.080s\n",
      "[89/1000] 1 tree, 31 leaves, max depth = 10, train score: 0.98087, val score: 0.92384, in 0.073s\n",
      "[90/1000] 1 tree, 31 leaves, max depth = 14, train score: 0.98111, val score: 0.92433, in 0.079s\n",
      "[91/1000] 1 tree, 31 leaves, max depth = 8, train score: 0.98120, val score: 0.92435, in 0.076s\n",
      "[92/1000] 1 tree, 31 leaves, max depth = 10, train score: 0.98128, val score: 0.92427, in 0.078s\n",
      "[93/1000] 1 tree, 31 leaves, max depth = 12, train score: 0.98138, val score: 0.92451, in 0.076s\n",
      "[94/1000] 1 tree, 31 leaves, max depth = 14, train score: 0.98177, val score: 0.92490, in 0.080s\n",
      "[95/1000] 1 tree, 31 leaves, max depth = 17, train score: 0.98211, val score: 0.92526, in 0.083s\n",
      "[96/1000] 1 tree, 31 leaves, max depth = 11, train score: 0.98234, val score: 0.92534, in 0.083s\n",
      "[97/1000] 1 tree, 31 leaves, max depth = 9, train score: 0.98247, val score: 0.92548, in 0.134s\n",
      "[98/1000] 1 tree, 31 leaves, max depth = 11, train score: 0.98308, val score: 0.92526, in 0.077s\n",
      "[99/1000] 1 tree, 31 leaves, max depth = 11, train score: 0.98318, val score: 0.92529, in 0.078s\n",
      "[100/1000] 1 tree, 31 leaves, max depth = 12, train score: 0.98363, val score: 0.92519, in 0.083s\n",
      "[101/1000] 1 tree, 31 leaves, max depth = 13, train score: 0.98443, val score: 0.92567, in 0.084s\n",
      "[102/1000] 1 tree, 31 leaves, max depth = 10, train score: 0.98453, val score: 0.92605, in 0.113s\n",
      "[103/1000] 1 tree, 31 leaves, max depth = 10, train score: 0.98460, val score: 0.92614, in 0.075s\n",
      "[104/1000] 1 tree, 31 leaves, max depth = 16, train score: 0.98521, val score: 0.92602, in 0.070s\n",
      "[105/1000] 1 tree, 31 leaves, max depth = 13, train score: 0.98553, val score: 0.92622, in 0.071s\n",
      "[106/1000] 1 tree, 31 leaves, max depth = 14, train score: 0.98561, val score: 0.92630, in 0.074s\n",
      "[107/1000] 1 tree, 31 leaves, max depth = 11, train score: 0.98606, val score: 0.92640, in 0.076s\n",
      "[108/1000] 1 tree, 31 leaves, max depth = 11, train score: 0.98612, val score: 0.92634, in 0.069s\n",
      "[109/1000] 1 tree, 31 leaves, max depth = 16, train score: 0.98624, val score: 0.92637, in 0.073s\n",
      "[110/1000] 1 tree, 31 leaves, max depth = 16, train score: 0.98633, val score: 0.92620, in 0.076s\n",
      "[111/1000] 1 tree, 31 leaves, max depth = 8, train score: 0.98648, val score: 0.92626, in 0.074s\n",
      "[112/1000] 1 tree, 31 leaves, max depth = 11, train score: 0.98656, val score: 0.92646, in 0.089s\n",
      "[113/1000] 1 tree, 31 leaves, max depth = 13, train score: 0.98682, val score: 0.92596, in 0.105s\n",
      "[114/1000] 1 tree, 31 leaves, max depth = 9, train score: 0.98689, val score: 0.92612, in 0.080s\n",
      "[115/1000] 1 tree, 31 leaves, max depth = 11, train score: 0.98697, val score: 0.92682, in 0.077s\n",
      "[116/1000] 1 tree, 31 leaves, max depth = 12, train score: 0.98708, val score: 0.92701, in 0.078s\n",
      "[117/1000] 1 tree, 31 leaves, max depth = 14, train score: 0.98751, val score: 0.92666, in 0.091s\n",
      "[118/1000] 1 tree, 31 leaves, max depth = 10, train score: 0.98768, val score: 0.92682, in 0.138s\n",
      "[119/1000] 1 tree, 31 leaves, max depth = 10, train score: 0.98775, val score: 0.92673, in 0.106s\n",
      "[120/1000] 1 tree, 31 leaves, max depth = 13, train score: 0.98791, val score: 0.92677, in 0.100s\n",
      "[121/1000] 1 tree, 31 leaves, max depth = 11, train score: 0.98844, val score: 0.92635, in 0.086s\n",
      "[122/1000] 1 tree, 31 leaves, max depth = 16, train score: 0.98863, val score: 0.92611, in 0.086s\n",
      "[123/1000] 1 tree, 31 leaves, max depth = 13, train score: 0.98904, val score: 0.92611, in 0.084s\n",
      "[124/1000] 1 tree, 31 leaves, max depth = 12, train score: 0.98911, val score: 0.92661, in 0.094s\n",
      "[125/1000] 1 tree, 31 leaves, max depth = 12, train score: 0.98926, val score: 0.92696, in 0.094s\n",
      "[126/1000] 1 tree, 31 leaves, max depth = 14, train score: 0.98936, val score: 0.92701, in 0.085s\n",
      "Fit 126 trees in 10.194 s, (3906 total leaves)\n",
      "Time spent computing histograms: 3.468s\n",
      "Time spent finding best splits:  1.008s\n",
      "Time spent applying splits:      1.423s\n",
      "Time spent predicting:           0.022s\n",
      "CPU times: user 59.5 s, sys: 9.91 s, total: 1min 9s\n",
      "Wall time: 10.4 s\n"
     ]
    },
    {
     "data": {
      "text/plain": [
       "(0.9852662994607253, 0.8569054436362248)"
      ]
     },
     "execution_count": 36,
     "metadata": {},
     "output_type": "execute_result"
    }
   ],
   "source": [
    "%%time\n",
    "clf = HistGradientBoostingClassifier(loss='binary_crossentropy', verbose=1,\n",
    "                                     max_iter=1000, scoring='roc_auc', tol=1e-8)\n",
    "clf.fit(xs,y)\n",
    "m_roc(y, xs), m_roc(valid_y, valid_xs)"
   ]
  },
  {
   "cell_type": "markdown",
   "metadata": {
    "heading_collapsed": true,
    "hidden": true
   },
   "source": [
    "### Hyperparameter tuning"
   ]
  },
  {
   "cell_type": "markdown",
   "metadata": {
    "hidden": true
   },
   "source": [
    "Hyperparameters were tuned interatively. Using both GridSearchCV and RandomizedGridSearchCV. RandomizedGridSearchCV was used for all 5 sets of parameters, than the final parameter set was double checked using GridSearchCV. Only the final results are displayed in the notenbook."
   ]
  },
  {
   "cell_type": "code",
   "execution_count": 30,
   "metadata": {
    "hidden": true
   },
   "outputs": [],
   "source": [
    "parameters1 = {\n",
    " 'max_iter': [1000],\n",
    " 'learning_rate': [0.0001, 0.001, 0.01, 0.1, 0.2, 0.3],\n",
    " 'max_depth': [None, 25, 50, 75],\n",
    " 'l2_regularization': [0, 1.5],\n",
    " 'max_bins': [255],\n",
    " 'max_leaf_nodes': [20, 31, 40, 50, 60],\n",
    " 'min_samples_leaf': [1, 5, 10, 20],\n",
    " 'random_state': [33],\n",
    " }"
   ]
  },
  {
   "cell_type": "code",
   "execution_count": 7,
   "metadata": {
    "hidden": true
   },
   "outputs": [],
   "source": [
    "parameters2 = {\n",
    " 'max_iter': [1000],\n",
    " 'learning_rate': [0.01, 0.1, 0.2, 0.3],\n",
    " 'max_depth': [None, 25, 50],\n",
    " 'l2_regularization': [0, 1.5],\n",
    " 'max_bins': [255],\n",
    " 'max_leaf_nodes': [20, 31, 40],\n",
    " 'min_samples_leaf': [1, 5],\n",
    " 'random_state': [33],\n",
    " }"
   ]
  },
  {
   "cell_type": "code",
   "execution_count": 23,
   "metadata": {
    "hidden": true
   },
   "outputs": [],
   "source": [
    "parameters3 = {\n",
    " 'max_iter': [1000],\n",
    " 'learning_rate': [0.005, 0.01, 0.1],\n",
    " 'max_depth': [15, 25, 35],\n",
    " 'l2_regularization': [1.5, 2.0],\n",
    " 'max_bins': [255],\n",
    " 'max_leaf_nodes': [40, 45, 50],\n",
    " 'min_samples_leaf': [5, 7, 10],\n",
    " 'random_state': [33],\n",
    " }"
   ]
  },
  {
   "cell_type": "code",
   "execution_count": 31,
   "metadata": {
    "hidden": true
   },
   "outputs": [],
   "source": [
    "parameters4 = {\n",
    " 'max_iter': [1000],\n",
    " 'learning_rate': [0.01, 0.02],\n",
    " 'max_depth': [25, 30],\n",
    " 'l2_regularization': [2.0, 2.5, 3.0],\n",
    " 'max_bins': [255],\n",
    " 'max_leaf_nodes': [37, 40, 43],\n",
    " 'min_samples_leaf': [7, 8, 9],\n",
    " 'random_state': [33],\n",
    " }"
   ]
  },
  {
   "cell_type": "code",
   "execution_count": 36,
   "metadata": {
    "hidden": true
   },
   "outputs": [],
   "source": [
    "parameters5 = {\n",
    " 'max_iter': [1000],\n",
    " 'learning_rate': [0.01, 0.02, 0.03],\n",
    " 'max_depth': [25, 27],\n",
    " 'l2_regularization': [2.4, 2.5, 2.6],\n",
    " 'max_bins': [255],\n",
    " 'max_leaf_nodes': [43, 44, 45],\n",
    " 'random_state': [33],\n",
    " }"
   ]
  },
  {
   "cell_type": "markdown",
   "metadata": {
    "heading_collapsed": true,
    "hidden": true
   },
   "source": [
    "#### GridSearchCV"
   ]
  },
  {
   "cell_type": "code",
   "execution_count": 37,
   "metadata": {
    "hidden": true
   },
   "outputs": [],
   "source": [
    "clf = GridSearchCV(HistGradientBoostingClassifier(loss='binary_crossentropy', max_iter=1000, \n",
    "                                                  scoring='roc_auc', tol=1e-8 ), parameters5, \n",
    "                   scoring=make_scorer(roc_auc_score, needs_proba=True), n_jobs=-1)"
   ]
  },
  {
   "cell_type": "code",
   "execution_count": 38,
   "metadata": {
    "hidden": true
   },
   "outputs": [
    {
     "name": "stdout",
     "output_type": "stream",
     "text": [
      "CPU times: user 1min 24s, sys: 22.1 s, total: 1min 46s\n",
      "Wall time: 11min 42s\n"
     ]
    },
    {
     "data": {
      "text/plain": [
       "(HistGradientBoostingClassifier(l2_regularization=2.4, learning_rate=0.03,\n",
       "                                loss='binary_crossentropy', max_depth=25,\n",
       "                                max_iter=1000, max_leaf_nodes=44,\n",
       "                                random_state=33, scoring='roc_auc', tol=1e-08),\n",
       " 0.8691008607988312,\n",
       " {'l2_regularization': 2.4,\n",
       "  'learning_rate': 0.03,\n",
       "  'max_bins': 255,\n",
       "  'max_depth': 25,\n",
       "  'max_iter': 1000,\n",
       "  'max_leaf_nodes': 44,\n",
       "  'random_state': 33})"
      ]
     },
     "execution_count": 38,
     "metadata": {},
     "output_type": "execute_result"
    }
   ],
   "source": [
    "%%time\n",
    "clf.fit(xs, y)\n",
    "clf.best_estimator_, clf.best_score_, clf.best_params_"
   ]
  },
  {
   "cell_type": "code",
   "execution_count": 42,
   "metadata": {
    "hidden": true,
    "scrolled": false
   },
   "outputs": [
    {
     "name": "stdout",
     "output_type": "stream",
     "text": [
      "Binning 0.042 GB of training data: 0.273 s\n",
      "Binning 0.005 GB of validation data: 0.019 s\n",
      "Fitting gradient boosted rounds:\n",
      "[1/1000] 1 tree, 44 leaves, max depth = 9, train score: 0.83422, val score: 0.83526, in 0.076s\n",
      "[2/1000] 1 tree, 44 leaves, max depth = 10, train score: 0.84166, val score: 0.84216, in 0.081s\n",
      "[3/1000] 1 tree, 44 leaves, max depth = 9, train score: 0.84365, val score: 0.84422, in 0.081s\n",
      "[4/1000] 1 tree, 44 leaves, max depth = 10, train score: 0.84635, val score: 0.84409, in 0.120s\n",
      "[5/1000] 1 tree, 44 leaves, max depth = 12, train score: 0.85918, val score: 0.85764, in 0.079s\n",
      "[6/1000] 1 tree, 44 leaves, max depth = 11, train score: 0.85980, val score: 0.85770, in 0.122s\n",
      "[7/1000] 1 tree, 44 leaves, max depth = 10, train score: 0.85984, val score: 0.85860, in 0.120s\n",
      "[8/1000] 1 tree, 44 leaves, max depth = 11, train score: 0.86009, val score: 0.85848, in 0.130s\n",
      "[9/1000] 1 tree, 44 leaves, max depth = 10, train score: 0.86031, val score: 0.85919, in 0.116s\n",
      "[10/1000] 1 tree, 44 leaves, max depth = 9, train score: 0.86073, val score: 0.86045, in 0.108s\n",
      "[11/1000] 1 tree, 44 leaves, max depth = 9, train score: 0.86159, val score: 0.86052, in 0.119s\n",
      "[12/1000] 1 tree, 44 leaves, max depth = 10, train score: 0.86171, val score: 0.86132, in 0.117s\n",
      "[13/1000] 1 tree, 44 leaves, max depth = 9, train score: 0.86141, val score: 0.86127, in 0.092s\n",
      "[14/1000] 1 tree, 44 leaves, max depth = 9, train score: 0.86484, val score: 0.86540, in 0.085s\n",
      "[15/1000] 1 tree, 44 leaves, max depth = 9, train score: 0.86536, val score: 0.86336, in 0.083s\n",
      "[16/1000] 1 tree, 44 leaves, max depth = 9, train score: 0.86606, val score: 0.86423, in 0.151s\n",
      "[17/1000] 1 tree, 44 leaves, max depth = 10, train score: 0.86660, val score: 0.86560, in 0.079s\n",
      "[18/1000] 1 tree, 44 leaves, max depth = 9, train score: 0.86755, val score: 0.86914, in 0.090s\n",
      "[19/1000] 1 tree, 44 leaves, max depth = 9, train score: 0.86816, val score: 0.87033, in 0.094s\n",
      "[20/1000] 1 tree, 44 leaves, max depth = 9, train score: 0.86825, val score: 0.86987, in 0.099s\n",
      "[21/1000] 1 tree, 44 leaves, max depth = 9, train score: 0.86935, val score: 0.87170, in 0.084s\n",
      "[22/1000] 1 tree, 44 leaves, max depth = 11, train score: 0.87147, val score: 0.87196, in 0.086s\n",
      "[23/1000] 1 tree, 44 leaves, max depth = 10, train score: 0.87226, val score: 0.87258, in 0.087s\n",
      "[24/1000] 1 tree, 44 leaves, max depth = 11, train score: 0.87310, val score: 0.87331, in 0.088s\n",
      "[25/1000] 1 tree, 44 leaves, max depth = 10, train score: 0.87391, val score: 0.87420, in 0.088s\n",
      "[26/1000] 1 tree, 44 leaves, max depth = 11, train score: 0.87489, val score: 0.87296, in 0.090s\n",
      "[27/1000] 1 tree, 44 leaves, max depth = 10, train score: 0.87710, val score: 0.87353, in 0.089s\n",
      "[28/1000] 1 tree, 44 leaves, max depth = 10, train score: 0.87753, val score: 0.87348, in 0.166s\n",
      "[29/1000] 1 tree, 44 leaves, max depth = 11, train score: 0.88040, val score: 0.87293, in 0.083s\n",
      "[30/1000] 1 tree, 44 leaves, max depth = 10, train score: 0.88146, val score: 0.87526, in 0.087s\n",
      "[31/1000] 1 tree, 44 leaves, max depth = 11, train score: 0.88231, val score: 0.87540, in 0.087s\n",
      "[32/1000] 1 tree, 44 leaves, max depth = 11, train score: 0.88375, val score: 0.87678, in 0.089s\n",
      "[33/1000] 1 tree, 44 leaves, max depth = 10, train score: 0.88430, val score: 0.87690, in 0.088s\n",
      "[34/1000] 1 tree, 44 leaves, max depth = 10, train score: 0.88477, val score: 0.87687, in 0.095s\n",
      "[35/1000] 1 tree, 44 leaves, max depth = 11, train score: 0.88586, val score: 0.87710, in 0.091s\n",
      "[36/1000] 1 tree, 44 leaves, max depth = 11, train score: 0.88613, val score: 0.87711, in 0.093s\n",
      "[37/1000] 1 tree, 44 leaves, max depth = 9, train score: 0.88865, val score: 0.87835, in 0.090s\n",
      "[38/1000] 1 tree, 44 leaves, max depth = 11, train score: 0.88888, val score: 0.87923, in 0.093s\n",
      "[39/1000] 1 tree, 44 leaves, max depth = 10, train score: 0.88981, val score: 0.88004, in 0.092s\n",
      "[40/1000] 1 tree, 44 leaves, max depth = 10, train score: 0.89029, val score: 0.88074, in 0.093s\n",
      "[41/1000] 1 tree, 44 leaves, max depth = 9, train score: 0.89101, val score: 0.88096, in 0.160s\n",
      "[42/1000] 1 tree, 44 leaves, max depth = 11, train score: 0.89159, val score: 0.88196, in 0.091s\n",
      "[43/1000] 1 tree, 44 leaves, max depth = 10, train score: 0.89196, val score: 0.88261, in 0.092s\n",
      "[44/1000] 1 tree, 44 leaves, max depth = 9, train score: 0.89386, val score: 0.88278, in 0.093s\n",
      "[45/1000] 1 tree, 44 leaves, max depth = 12, train score: 0.89473, val score: 0.88430, in 0.093s\n",
      "[46/1000] 1 tree, 44 leaves, max depth = 10, train score: 0.89476, val score: 0.88469, in 0.094s\n",
      "[47/1000] 1 tree, 44 leaves, max depth = 13, train score: 0.89538, val score: 0.88481, in 0.099s\n",
      "[48/1000] 1 tree, 44 leaves, max depth = 10, train score: 0.89674, val score: 0.88578, in 0.094s\n",
      "[49/1000] 1 tree, 44 leaves, max depth = 12, train score: 0.89735, val score: 0.88662, in 0.096s\n",
      "[50/1000] 1 tree, 44 leaves, max depth = 12, train score: 0.89779, val score: 0.88676, in 0.096s\n",
      "[51/1000] 1 tree, 44 leaves, max depth = 12, train score: 0.89841, val score: 0.88710, in 0.097s\n",
      "[52/1000] 1 tree, 44 leaves, max depth = 12, train score: 0.89909, val score: 0.88725, in 0.096s\n",
      "[53/1000] 1 tree, 44 leaves, max depth = 17, train score: 0.90040, val score: 0.88763, in 0.172s\n",
      "[54/1000] 1 tree, 44 leaves, max depth = 9, train score: 0.90078, val score: 0.88843, in 0.159s\n",
      "[55/1000] 1 tree, 44 leaves, max depth = 12, train score: 0.90149, val score: 0.88903, in 0.122s\n",
      "[56/1000] 1 tree, 44 leaves, max depth = 12, train score: 0.90324, val score: 0.89035, in 0.105s\n",
      "[57/1000] 1 tree, 44 leaves, max depth = 13, train score: 0.90402, val score: 0.89095, in 0.100s\n",
      "[58/1000] 1 tree, 44 leaves, max depth = 13, train score: 0.90436, val score: 0.89130, in 0.099s\n",
      "[59/1000] 1 tree, 44 leaves, max depth = 11, train score: 0.90571, val score: 0.89151, in 0.102s\n",
      "[60/1000] 1 tree, 44 leaves, max depth = 12, train score: 0.90640, val score: 0.89184, in 0.118s\n",
      "[61/1000] 1 tree, 44 leaves, max depth = 9, train score: 0.90747, val score: 0.89201, in 0.116s\n",
      "[62/1000] 1 tree, 44 leaves, max depth = 12, train score: 0.90857, val score: 0.89243, in 0.120s\n",
      "[63/1000] 1 tree, 44 leaves, max depth = 11, train score: 0.90929, val score: 0.89267, in 0.106s\n",
      "[64/1000] 1 tree, 44 leaves, max depth = 12, train score: 0.91016, val score: 0.89326, in 0.106s\n",
      "[65/1000] 1 tree, 44 leaves, max depth = 11, train score: 0.91096, val score: 0.89354, in 0.110s\n",
      "[66/1000] 1 tree, 44 leaves, max depth = 12, train score: 0.91272, val score: 0.89427, in 0.190s\n",
      "[67/1000] 1 tree, 44 leaves, max depth = 14, train score: 0.91354, val score: 0.89452, in 0.108s\n",
      "[68/1000] 1 tree, 44 leaves, max depth = 15, train score: 0.91421, val score: 0.89500, in 0.103s\n",
      "[69/1000] 1 tree, 44 leaves, max depth = 12, train score: 0.91468, val score: 0.89613, in 0.104s\n",
      "[70/1000] 1 tree, 44 leaves, max depth = 13, train score: 0.91602, val score: 0.89646, in 0.106s\n",
      "[71/1000] 1 tree, 44 leaves, max depth = 10, train score: 0.91664, val score: 0.89715, in 0.106s\n",
      "[72/1000] 1 tree, 44 leaves, max depth = 14, train score: 0.91733, val score: 0.89773, in 0.108s\n",
      "[73/1000] 1 tree, 44 leaves, max depth = 12, train score: 0.91787, val score: 0.89832, in 0.113s\n",
      "[74/1000] 1 tree, 44 leaves, max depth = 13, train score: 0.91854, val score: 0.89846, in 0.116s\n",
      "[75/1000] 1 tree, 44 leaves, max depth = 13, train score: 0.91900, val score: 0.89847, in 0.113s\n",
      "[76/1000] 1 tree, 44 leaves, max depth = 14, train score: 0.91926, val score: 0.89879, in 0.112s\n",
      "[77/1000] 1 tree, 44 leaves, max depth = 12, train score: 0.91965, val score: 0.89893, in 0.110s\n",
      "[78/1000] 1 tree, 44 leaves, max depth = 13, train score: 0.92069, val score: 0.89952, in 0.174s\n",
      "[79/1000] 1 tree, 44 leaves, max depth = 13, train score: 0.92250, val score: 0.89978, in 0.109s\n",
      "[80/1000] 1 tree, 44 leaves, max depth = 14, train score: 0.92362, val score: 0.90079, in 0.108s\n",
      "[81/1000] 1 tree, 44 leaves, max depth = 13, train score: 0.92475, val score: 0.90095, in 0.112s\n",
      "[82/1000] 1 tree, 44 leaves, max depth = 12, train score: 0.92537, val score: 0.90131, in 0.107s\n",
      "[83/1000] 1 tree, 44 leaves, max depth = 13, train score: 0.92644, val score: 0.90140, in 0.109s\n",
      "[84/1000] 1 tree, 44 leaves, max depth = 14, train score: 0.92687, val score: 0.90166, in 0.107s\n"
     ]
    },
    {
     "name": "stdout",
     "output_type": "stream",
     "text": [
      "[85/1000] 1 tree, 44 leaves, max depth = 13, train score: 0.92742, val score: 0.90149, in 0.116s\n",
      "[86/1000] 1 tree, 44 leaves, max depth = 14, train score: 0.92801, val score: 0.90142, in 0.117s\n",
      "[87/1000] 1 tree, 44 leaves, max depth = 17, train score: 0.92856, val score: 0.90216, in 0.111s\n",
      "[88/1000] 1 tree, 44 leaves, max depth = 13, train score: 0.92926, val score: 0.90224, in 0.111s\n",
      "[89/1000] 1 tree, 44 leaves, max depth = 11, train score: 0.92989, val score: 0.90258, in 0.107s\n",
      "[90/1000] 1 tree, 44 leaves, max depth = 11, train score: 0.93051, val score: 0.90300, in 0.181s\n",
      "[91/1000] 1 tree, 44 leaves, max depth = 14, train score: 0.93145, val score: 0.90335, in 0.106s\n",
      "[92/1000] 1 tree, 44 leaves, max depth = 19, train score: 0.93208, val score: 0.90435, in 0.272s\n",
      "[93/1000] 1 tree, 44 leaves, max depth = 14, train score: 0.93265, val score: 0.90504, in 0.110s\n",
      "[94/1000] 1 tree, 44 leaves, max depth = 12, train score: 0.93347, val score: 0.90482, in 0.107s\n",
      "[95/1000] 1 tree, 44 leaves, max depth = 15, train score: 0.93415, val score: 0.90530, in 0.111s\n",
      "[96/1000] 1 tree, 44 leaves, max depth = 18, train score: 0.93497, val score: 0.90550, in 0.113s\n",
      "[97/1000] 1 tree, 44 leaves, max depth = 15, train score: 0.93570, val score: 0.90577, in 0.107s\n",
      "[98/1000] 1 tree, 44 leaves, max depth = 13, train score: 0.93606, val score: 0.90642, in 0.110s\n",
      "[99/1000] 1 tree, 44 leaves, max depth = 15, train score: 0.93674, val score: 0.90662, in 0.112s\n",
      "[100/1000] 1 tree, 44 leaves, max depth = 12, train score: 0.93720, val score: 0.90695, in 0.110s\n",
      "[101/1000] 1 tree, 44 leaves, max depth = 17, train score: 0.93771, val score: 0.90743, in 0.111s\n",
      "[102/1000] 1 tree, 44 leaves, max depth = 14, train score: 0.93836, val score: 0.90777, in 0.116s\n",
      "[103/1000] 1 tree, 44 leaves, max depth = 12, train score: 0.93904, val score: 0.90820, in 0.189s\n",
      "[104/1000] 1 tree, 44 leaves, max depth = 14, train score: 0.93932, val score: 0.90817, in 0.107s\n",
      "[105/1000] 1 tree, 44 leaves, max depth = 15, train score: 0.94000, val score: 0.90842, in 0.112s\n",
      "[106/1000] 1 tree, 44 leaves, max depth = 19, train score: 0.94048, val score: 0.90876, in 0.117s\n",
      "[107/1000] 1 tree, 44 leaves, max depth = 12, train score: 0.94114, val score: 0.90911, in 0.128s\n",
      "[108/1000] 1 tree, 44 leaves, max depth = 13, train score: 0.94151, val score: 0.90918, in 0.116s\n",
      "[109/1000] 1 tree, 44 leaves, max depth = 10, train score: 0.94181, val score: 0.90937, in 0.114s\n",
      "[110/1000] 1 tree, 44 leaves, max depth = 20, train score: 0.94249, val score: 0.90981, in 0.114s\n",
      "[111/1000] 1 tree, 44 leaves, max depth = 17, train score: 0.94309, val score: 0.90999, in 0.118s\n",
      "[112/1000] 1 tree, 44 leaves, max depth = 15, train score: 0.94358, val score: 0.91010, in 0.120s\n",
      "[113/1000] 1 tree, 44 leaves, max depth = 15, train score: 0.94402, val score: 0.91034, in 0.120s\n",
      "[114/1000] 1 tree, 44 leaves, max depth = 15, train score: 0.94412, val score: 0.91055, in 0.120s\n",
      "[115/1000] 1 tree, 44 leaves, max depth = 14, train score: 0.94478, val score: 0.91062, in 0.122s\n",
      "[116/1000] 1 tree, 44 leaves, max depth = 14, train score: 0.94532, val score: 0.91100, in 0.180s\n",
      "[117/1000] 1 tree, 44 leaves, max depth = 19, train score: 0.94592, val score: 0.91108, in 0.118s\n",
      "[118/1000] 1 tree, 44 leaves, max depth = 16, train score: 0.94631, val score: 0.91130, in 0.117s\n",
      "[119/1000] 1 tree, 44 leaves, max depth = 18, train score: 0.94686, val score: 0.91159, in 0.116s\n",
      "[120/1000] 1 tree, 44 leaves, max depth = 16, train score: 0.94735, val score: 0.91170, in 0.123s\n",
      "[121/1000] 1 tree, 44 leaves, max depth = 14, train score: 0.94773, val score: 0.91216, in 0.121s\n",
      "[122/1000] 1 tree, 44 leaves, max depth = 18, train score: 0.94799, val score: 0.91215, in 0.117s\n",
      "[123/1000] 1 tree, 44 leaves, max depth = 17, train score: 0.94830, val score: 0.91229, in 0.120s\n",
      "[124/1000] 1 tree, 44 leaves, max depth = 10, train score: 0.94878, val score: 0.91235, in 0.124s\n",
      "[125/1000] 1 tree, 44 leaves, max depth = 17, train score: 0.94919, val score: 0.91272, in 0.125s\n",
      "[126/1000] 1 tree, 44 leaves, max depth = 14, train score: 0.94969, val score: 0.91303, in 0.124s\n",
      "[127/1000] 1 tree, 44 leaves, max depth = 20, train score: 0.95010, val score: 0.91319, in 0.128s\n",
      "[128/1000] 1 tree, 44 leaves, max depth = 20, train score: 0.95021, val score: 0.91342, in 0.194s\n",
      "[129/1000] 1 tree, 44 leaves, max depth = 14, train score: 0.95085, val score: 0.91357, in 0.125s\n",
      "[130/1000] 1 tree, 44 leaves, max depth = 16, train score: 0.95136, val score: 0.91384, in 0.121s\n",
      "[131/1000] 1 tree, 44 leaves, max depth = 15, train score: 0.95179, val score: 0.91442, in 0.127s\n",
      "[132/1000] 1 tree, 44 leaves, max depth = 17, train score: 0.95199, val score: 0.91454, in 0.124s\n",
      "[133/1000] 1 tree, 44 leaves, max depth = 16, train score: 0.95248, val score: 0.91470, in 0.120s\n",
      "[134/1000] 1 tree, 44 leaves, max depth = 15, train score: 0.95277, val score: 0.91500, in 0.127s\n",
      "[135/1000] 1 tree, 44 leaves, max depth = 9, train score: 0.95305, val score: 0.91481, in 0.126s\n",
      "[136/1000] 1 tree, 44 leaves, max depth = 15, train score: 0.95324, val score: 0.91492, in 0.128s\n",
      "[137/1000] 1 tree, 44 leaves, max depth = 16, train score: 0.95352, val score: 0.91530, in 0.128s\n",
      "[138/1000] 1 tree, 44 leaves, max depth = 14, train score: 0.95401, val score: 0.91542, in 0.131s\n",
      "[139/1000] 1 tree, 44 leaves, max depth = 16, train score: 0.95417, val score: 0.91568, in 0.126s\n",
      "[140/1000] 1 tree, 44 leaves, max depth = 16, train score: 0.95453, val score: 0.91568, in 0.130s\n",
      "[141/1000] 1 tree, 44 leaves, max depth = 16, train score: 0.95478, val score: 0.91607, in 0.184s\n",
      "[142/1000] 1 tree, 44 leaves, max depth = 17, train score: 0.95500, val score: 0.91638, in 0.126s\n",
      "[143/1000] 1 tree, 44 leaves, max depth = 14, train score: 0.95529, val score: 0.91661, in 0.125s\n",
      "[144/1000] 1 tree, 44 leaves, max depth = 20, train score: 0.95541, val score: 0.91663, in 0.128s\n",
      "[145/1000] 1 tree, 44 leaves, max depth = 15, train score: 0.95581, val score: 0.91674, in 0.128s\n",
      "[146/1000] 1 tree, 44 leaves, max depth = 17, train score: 0.95618, val score: 0.91714, in 0.129s\n",
      "[147/1000] 1 tree, 44 leaves, max depth = 14, train score: 0.95639, val score: 0.91710, in 0.128s\n",
      "[148/1000] 1 tree, 44 leaves, max depth = 12, train score: 0.95658, val score: 0.91716, in 0.131s\n",
      "[149/1000] 1 tree, 44 leaves, max depth = 17, train score: 0.95698, val score: 0.91720, in 0.132s\n",
      "[150/1000] 1 tree, 44 leaves, max depth = 12, train score: 0.95729, val score: 0.91729, in 0.133s\n",
      "[151/1000] 1 tree, 44 leaves, max depth = 14, train score: 0.95765, val score: 0.91755, in 0.136s\n",
      "[152/1000] 1 tree, 44 leaves, max depth = 16, train score: 0.95807, val score: 0.91751, in 0.184s\n",
      "[153/1000] 1 tree, 44 leaves, max depth = 15, train score: 0.95820, val score: 0.91773, in 0.197s\n",
      "[154/1000] 1 tree, 44 leaves, max depth = 14, train score: 0.95855, val score: 0.91775, in 0.136s\n",
      "[155/1000] 1 tree, 44 leaves, max depth = 16, train score: 0.95878, val score: 0.91807, in 0.127s\n",
      "[156/1000] 1 tree, 44 leaves, max depth = 18, train score: 0.95915, val score: 0.91837, in 0.168s\n",
      "[157/1000] 1 tree, 44 leaves, max depth = 16, train score: 0.95936, val score: 0.91828, in 0.174s\n",
      "[158/1000] 1 tree, 44 leaves, max depth = 12, train score: 0.95959, val score: 0.91846, in 0.146s\n",
      "[159/1000] 1 tree, 44 leaves, max depth = 18, train score: 0.95991, val score: 0.91841, in 0.144s\n",
      "[160/1000] 1 tree, 44 leaves, max depth = 20, train score: 0.96021, val score: 0.91855, in 0.150s\n",
      "[161/1000] 1 tree, 44 leaves, max depth = 17, train score: 0.96039, val score: 0.91846, in 0.214s\n",
      "[162/1000] 1 tree, 44 leaves, max depth = 16, train score: 0.96059, val score: 0.91861, in 0.147s\n",
      "[163/1000] 1 tree, 44 leaves, max depth = 13, train score: 0.96080, val score: 0.91871, in 0.143s\n",
      "[164/1000] 1 tree, 44 leaves, max depth = 18, train score: 0.96090, val score: 0.91901, in 0.150s\n",
      "[165/1000] 1 tree, 44 leaves, max depth = 10, train score: 0.96143, val score: 0.91920, in 0.256s\n",
      "[166/1000] 1 tree, 44 leaves, max depth = 18, train score: 0.96179, val score: 0.91932, in 0.156s\n",
      "[167/1000] 1 tree, 44 leaves, max depth = 14, train score: 0.96209, val score: 0.91942, in 0.145s\n",
      "[168/1000] 1 tree, 44 leaves, max depth = 15, train score: 0.96230, val score: 0.91939, in 0.196s\n"
     ]
    },
    {
     "name": "stdout",
     "output_type": "stream",
     "text": [
      "[169/1000] 1 tree, 44 leaves, max depth = 20, train score: 0.96254, val score: 0.91969, in 0.204s\n",
      "[170/1000] 1 tree, 44 leaves, max depth = 12, train score: 0.96271, val score: 0.91994, in 0.156s\n",
      "[171/1000] 1 tree, 44 leaves, max depth = 18, train score: 0.96299, val score: 0.91994, in 0.145s\n",
      "[172/1000] 1 tree, 44 leaves, max depth = 15, train score: 0.96309, val score: 0.92024, in 0.142s\n",
      "[173/1000] 1 tree, 44 leaves, max depth = 18, train score: 0.96335, val score: 0.92045, in 0.171s\n",
      "[174/1000] 1 tree, 44 leaves, max depth = 14, train score: 0.96377, val score: 0.92087, in 0.175s\n",
      "[175/1000] 1 tree, 44 leaves, max depth = 16, train score: 0.96408, val score: 0.92078, in 0.150s\n",
      "[176/1000] 1 tree, 44 leaves, max depth = 14, train score: 0.96426, val score: 0.92085, in 0.141s\n",
      "[177/1000] 1 tree, 44 leaves, max depth = 21, train score: 0.96446, val score: 0.92099, in 0.145s\n",
      "[178/1000] 1 tree, 44 leaves, max depth = 11, train score: 0.96457, val score: 0.92096, in 0.211s\n",
      "[179/1000] 1 tree, 44 leaves, max depth = 13, train score: 0.96463, val score: 0.92105, in 0.142s\n",
      "[180/1000] 1 tree, 44 leaves, max depth = 9, train score: 0.96474, val score: 0.92122, in 0.140s\n",
      "[181/1000] 1 tree, 44 leaves, max depth = 19, train score: 0.96493, val score: 0.92135, in 0.145s\n",
      "[182/1000] 1 tree, 44 leaves, max depth = 13, train score: 0.96507, val score: 0.92154, in 0.143s\n",
      "[183/1000] 1 tree, 44 leaves, max depth = 13, train score: 0.96556, val score: 0.92168, in 0.154s\n",
      "[184/1000] 1 tree, 44 leaves, max depth = 16, train score: 0.96579, val score: 0.92161, in 0.281s\n",
      "[185/1000] 1 tree, 44 leaves, max depth = 14, train score: 0.96599, val score: 0.92163, in 0.290s\n",
      "[186/1000] 1 tree, 44 leaves, max depth = 15, train score: 0.96617, val score: 0.92157, in 0.165s\n",
      "[187/1000] 1 tree, 44 leaves, max depth = 12, train score: 0.96651, val score: 0.92162, in 0.230s\n",
      "[188/1000] 1 tree, 44 leaves, max depth = 17, train score: 0.96676, val score: 0.92175, in 0.211s\n",
      "[189/1000] 1 tree, 44 leaves, max depth = 15, train score: 0.96681, val score: 0.92167, in 0.163s\n",
      "[190/1000] 1 tree, 44 leaves, max depth = 11, train score: 0.96692, val score: 0.92180, in 0.357s\n",
      "[191/1000] 1 tree, 44 leaves, max depth = 13, train score: 0.96702, val score: 0.92166, in 0.162s\n",
      "[192/1000] 1 tree, 44 leaves, max depth = 12, train score: 0.96728, val score: 0.92167, in 0.158s\n",
      "[193/1000] 1 tree, 44 leaves, max depth = 17, train score: 0.96749, val score: 0.92183, in 0.158s\n",
      "[194/1000] 1 tree, 44 leaves, max depth = 17, train score: 0.96765, val score: 0.92173, in 0.260s\n",
      "[195/1000] 1 tree, 44 leaves, max depth = 14, train score: 0.96768, val score: 0.92179, in 0.163s\n",
      "[196/1000] 1 tree, 44 leaves, max depth = 8, train score: 0.96804, val score: 0.92194, in 0.150s\n",
      "[197/1000] 1 tree, 44 leaves, max depth = 15, train score: 0.96810, val score: 0.92198, in 0.151s\n",
      "[198/1000] 1 tree, 44 leaves, max depth = 12, train score: 0.96833, val score: 0.92188, in 0.178s\n",
      "[199/1000] 1 tree, 44 leaves, max depth = 11, train score: 0.96849, val score: 0.92164, in 0.174s\n",
      "[200/1000] 1 tree, 44 leaves, max depth = 16, train score: 0.96861, val score: 0.92176, in 0.149s\n",
      "[201/1000] 1 tree, 44 leaves, max depth = 17, train score: 0.96865, val score: 0.92182, in 0.148s\n",
      "[202/1000] 1 tree, 44 leaves, max depth = 14, train score: 0.96880, val score: 0.92163, in 0.151s\n",
      "[203/1000] 1 tree, 44 leaves, max depth = 16, train score: 0.96896, val score: 0.92167, in 0.216s\n",
      "[204/1000] 1 tree, 44 leaves, max depth = 13, train score: 0.96901, val score: 0.92175, in 0.147s\n",
      "[205/1000] 1 tree, 44 leaves, max depth = 14, train score: 0.96922, val score: 0.92189, in 0.152s\n",
      "[206/1000] 1 tree, 44 leaves, max depth = 13, train score: 0.96940, val score: 0.92188, in 0.148s\n",
      "[207/1000] 1 tree, 44 leaves, max depth = 15, train score: 0.96943, val score: 0.92186, in 0.150s\n",
      "Fit 207 trees in 27.606 s, (9108 total leaves)\n",
      "Time spent computing histograms: 9.990s\n",
      "Time spent finding best splits:  2.807s\n",
      "Time spent applying splits:      3.209s\n",
      "Time spent predicting:           0.046s\n",
      "CPU times: user 2min 46s, sys: 28.7 s, total: 3min 15s\n",
      "Wall time: 28 s\n"
     ]
    },
    {
     "data": {
      "text/plain": [
       "(0.9659117013340929, 0.8577956250355605)"
      ]
     },
     "execution_count": 42,
     "metadata": {},
     "output_type": "execute_result"
    }
   ],
   "source": [
    "%%time\n",
    "clf = HistGradientBoostingClassifier(loss='binary_crossentropy', verbose=1, l2_regularization=2.4,\n",
    "                             learning_rate=0.03, max_depth=25, max_iter=1000, max_leaf_nodes=44,\n",
    "                             min_samples_leaf=8,  scoring='roc_auc', tol=1e-8)\n",
    "clf.fit(xs, y)\n",
    "m_roc(y, xs), m_roc(valid_y, valid_xs)"
   ]
  },
  {
   "cell_type": "markdown",
   "metadata": {
    "heading_collapsed": true,
    "hidden": true
   },
   "source": [
    "#### RandomizedSearchCV"
   ]
  },
  {
   "cell_type": "code",
   "execution_count": 43,
   "metadata": {
    "hidden": true
   },
   "outputs": [],
   "source": [
    "clf = RandomizedSearchCV(HistGradientBoostingClassifier(loss='binary_crossentropy', max_iter=1000, \n",
    "                                                  scoring='roc_auc', tol=1e-8 ), parameters5, \n",
    "                   scoring=make_scorer(roc_auc_score, needs_proba=True), n_jobs=-1)"
   ]
  },
  {
   "cell_type": "code",
   "execution_count": 44,
   "metadata": {
    "hidden": true
   },
   "outputs": [
    {
     "name": "stdout",
     "output_type": "stream",
     "text": [
      "CPU times: user 1min 19s, sys: 18 s, total: 1min 37s\n",
      "Wall time: 2min 17s\n"
     ]
    },
    {
     "data": {
      "text/plain": [
       "(HistGradientBoostingClassifier(l2_regularization=2.4, learning_rate=0.03,\n",
       "                                loss='binary_crossentropy', max_depth=27,\n",
       "                                max_iter=1000, max_leaf_nodes=44,\n",
       "                                random_state=33, scoring='roc_auc', tol=1e-08),\n",
       " 0.8691008607988312,\n",
       " {'random_state': 33,\n",
       "  'max_leaf_nodes': 44,\n",
       "  'max_iter': 1000,\n",
       "  'max_depth': 27,\n",
       "  'max_bins': 255,\n",
       "  'learning_rate': 0.03,\n",
       "  'l2_regularization': 2.4})"
      ]
     },
     "execution_count": 44,
     "metadata": {},
     "output_type": "execute_result"
    }
   ],
   "source": [
    "%%time\n",
    "clf.fit(xs, y)\n",
    "clf.best_estimator_, clf.best_score_, clf.best_params_"
   ]
  },
  {
   "cell_type": "code",
   "execution_count": 45,
   "metadata": {
    "hidden": true,
    "scrolled": false
   },
   "outputs": [
    {
     "name": "stdout",
     "output_type": "stream",
     "text": [
      "Binning 0.042 GB of training data: 0.259 s\n",
      "Binning 0.005 GB of validation data: 0.019 s\n",
      "Fitting gradient boosted rounds:\n",
      "[1/1000] 1 tree, 44 leaves, max depth = 11, train score: 0.82760, val score: 0.80686, in 0.052s\n",
      "[2/1000] 1 tree, 44 leaves, max depth = 11, train score: 0.83003, val score: 0.80806, in 0.101s\n",
      "[3/1000] 1 tree, 44 leaves, max depth = 13, train score: 0.83584, val score: 0.81004, in 0.050s\n",
      "[4/1000] 1 tree, 44 leaves, max depth = 10, train score: 0.84916, val score: 0.83466, in 0.052s\n",
      "[5/1000] 1 tree, 44 leaves, max depth = 12, train score: 0.85368, val score: 0.83562, in 0.053s\n",
      "[6/1000] 1 tree, 44 leaves, max depth = 12, train score: 0.85301, val score: 0.83424, in 0.053s\n",
      "[7/1000] 1 tree, 44 leaves, max depth = 12, train score: 0.85311, val score: 0.83412, in 0.051s\n",
      "[8/1000] 1 tree, 44 leaves, max depth = 10, train score: 0.85305, val score: 0.83381, in 0.055s\n",
      "[9/1000] 1 tree, 44 leaves, max depth = 11, train score: 0.85380, val score: 0.83552, in 0.052s\n",
      "[10/1000] 1 tree, 44 leaves, max depth = 11, train score: 0.85585, val score: 0.83623, in 0.053s\n",
      "[11/1000] 1 tree, 44 leaves, max depth = 10, train score: 0.85646, val score: 0.83835, in 0.053s\n",
      "[12/1000] 1 tree, 44 leaves, max depth = 10, train score: 0.85703, val score: 0.83888, in 0.053s\n",
      "[13/1000] 1 tree, 44 leaves, max depth = 10, train score: 0.85904, val score: 0.84034, in 0.054s\n",
      "[14/1000] 1 tree, 44 leaves, max depth = 10, train score: 0.85907, val score: 0.84145, in 0.112s\n",
      "[15/1000] 1 tree, 44 leaves, max depth = 8, train score: 0.86193, val score: 0.84541, in 0.051s\n",
      "[16/1000] 1 tree, 44 leaves, max depth = 8, train score: 0.86277, val score: 0.84595, in 0.056s\n",
      "[17/1000] 1 tree, 44 leaves, max depth = 9, train score: 0.86326, val score: 0.84674, in 0.054s\n",
      "[18/1000] 1 tree, 44 leaves, max depth = 10, train score: 0.86391, val score: 0.84662, in 0.055s\n",
      "[19/1000] 1 tree, 44 leaves, max depth = 11, train score: 0.86398, val score: 0.84834, in 0.056s\n",
      "[20/1000] 1 tree, 44 leaves, max depth = 12, train score: 0.86514, val score: 0.84862, in 0.054s\n",
      "[21/1000] 1 tree, 44 leaves, max depth = 9, train score: 0.86565, val score: 0.84908, in 0.055s\n",
      "[22/1000] 1 tree, 44 leaves, max depth = 12, train score: 0.86601, val score: 0.84915, in 0.057s\n",
      "[23/1000] 1 tree, 44 leaves, max depth = 9, train score: 0.86634, val score: 0.84892, in 0.056s\n",
      "[24/1000] 1 tree, 44 leaves, max depth = 13, train score: 0.86788, val score: 0.85167, in 0.057s\n",
      "[25/1000] 1 tree, 44 leaves, max depth = 11, train score: 0.86841, val score: 0.85177, in 0.056s\n",
      "[26/1000] 1 tree, 44 leaves, max depth = 11, train score: 0.86900, val score: 0.85179, in 0.058s\n",
      "[27/1000] 1 tree, 44 leaves, max depth = 10, train score: 0.87143, val score: 0.85317, in 0.106s\n",
      "[28/1000] 1 tree, 44 leaves, max depth = 12, train score: 0.87187, val score: 0.85300, in 0.057s\n",
      "[29/1000] 1 tree, 44 leaves, max depth = 10, train score: 0.87317, val score: 0.85516, in 0.054s\n",
      "[30/1000] 1 tree, 44 leaves, max depth = 9, train score: 0.87527, val score: 0.85621, in 0.058s\n",
      "[31/1000] 1 tree, 44 leaves, max depth = 10, train score: 0.87839, val score: 0.85770, in 0.058s\n",
      "[32/1000] 1 tree, 44 leaves, max depth = 13, train score: 0.87912, val score: 0.85909, in 0.057s\n",
      "[33/1000] 1 tree, 44 leaves, max depth = 10, train score: 0.88023, val score: 0.85897, in 0.058s\n",
      "[34/1000] 1 tree, 44 leaves, max depth = 9, train score: 0.88143, val score: 0.85882, in 0.060s\n",
      "[35/1000] 1 tree, 44 leaves, max depth = 12, train score: 0.88583, val score: 0.86142, in 0.059s\n",
      "[36/1000] 1 tree, 44 leaves, max depth = 10, train score: 0.88639, val score: 0.86190, in 0.058s\n",
      "[37/1000] 1 tree, 44 leaves, max depth = 11, train score: 0.88709, val score: 0.86320, in 0.059s\n",
      "[38/1000] 1 tree, 44 leaves, max depth = 9, train score: 0.88983, val score: 0.86410, in 0.060s\n",
      "[39/1000] 1 tree, 44 leaves, max depth = 13, train score: 0.89160, val score: 0.86459, in 0.113s\n",
      "[40/1000] 1 tree, 44 leaves, max depth = 10, train score: 0.89277, val score: 0.86472, in 0.058s\n",
      "[41/1000] 1 tree, 44 leaves, max depth = 12, train score: 0.89340, val score: 0.86473, in 0.060s\n",
      "[42/1000] 1 tree, 44 leaves, max depth = 9, train score: 0.89368, val score: 0.86441, in 0.058s\n",
      "[43/1000] 1 tree, 44 leaves, max depth = 10, train score: 0.89502, val score: 0.86469, in 0.059s\n",
      "[44/1000] 1 tree, 44 leaves, max depth = 9, train score: 0.89523, val score: 0.86524, in 0.060s\n",
      "[45/1000] 1 tree, 44 leaves, max depth = 14, train score: 0.89600, val score: 0.86647, in 0.062s\n",
      "[46/1000] 1 tree, 44 leaves, max depth = 14, train score: 0.89763, val score: 0.86800, in 0.061s\n",
      "[47/1000] 1 tree, 44 leaves, max depth = 16, train score: 0.89805, val score: 0.86825, in 0.063s\n",
      "[48/1000] 1 tree, 44 leaves, max depth = 16, train score: 0.89873, val score: 0.86908, in 0.062s\n",
      "[49/1000] 1 tree, 44 leaves, max depth = 11, train score: 0.89927, val score: 0.86999, in 0.082s\n",
      "[50/1000] 1 tree, 44 leaves, max depth = 10, train score: 0.89938, val score: 0.86978, in 0.069s\n",
      "[51/1000] 1 tree, 44 leaves, max depth = 10, train score: 0.89993, val score: 0.86992, in 0.066s\n",
      "[52/1000] 1 tree, 44 leaves, max depth = 15, train score: 0.90096, val score: 0.87034, in 0.110s\n",
      "[53/1000] 1 tree, 44 leaves, max depth = 10, train score: 0.90174, val score: 0.87080, in 0.064s\n",
      "[54/1000] 1 tree, 44 leaves, max depth = 11, train score: 0.90240, val score: 0.87100, in 0.071s\n",
      "[55/1000] 1 tree, 44 leaves, max depth = 12, train score: 0.90318, val score: 0.87136, in 0.067s\n",
      "[56/1000] 1 tree, 44 leaves, max depth = 14, train score: 0.90364, val score: 0.87198, in 0.064s\n",
      "[57/1000] 1 tree, 44 leaves, max depth = 18, train score: 0.90435, val score: 0.87197, in 0.065s\n",
      "[58/1000] 1 tree, 44 leaves, max depth = 13, train score: 0.90477, val score: 0.87237, in 0.065s\n",
      "[59/1000] 1 tree, 44 leaves, max depth = 11, train score: 0.90505, val score: 0.87291, in 0.067s\n",
      "[60/1000] 1 tree, 44 leaves, max depth = 14, train score: 0.90594, val score: 0.87322, in 0.072s\n",
      "[61/1000] 1 tree, 44 leaves, max depth = 12, train score: 0.90625, val score: 0.87311, in 0.082s\n",
      "[62/1000] 1 tree, 44 leaves, max depth = 17, train score: 0.90693, val score: 0.87305, in 0.072s\n",
      "[63/1000] 1 tree, 44 leaves, max depth = 10, train score: 0.90769, val score: 0.87318, in 0.066s\n",
      "[64/1000] 1 tree, 44 leaves, max depth = 10, train score: 0.90832, val score: 0.87345, in 0.126s\n",
      "[65/1000] 1 tree, 44 leaves, max depth = 19, train score: 0.90904, val score: 0.87361, in 0.066s\n",
      "[66/1000] 1 tree, 44 leaves, max depth = 10, train score: 0.90947, val score: 0.87403, in 0.067s\n",
      "[67/1000] 1 tree, 44 leaves, max depth = 11, train score: 0.91000, val score: 0.87400, in 0.074s\n",
      "[68/1000] 1 tree, 44 leaves, max depth = 12, train score: 0.91086, val score: 0.87399, in 0.075s\n",
      "[69/1000] 1 tree, 44 leaves, max depth = 11, train score: 0.91103, val score: 0.87446, in 0.070s\n",
      "[70/1000] 1 tree, 44 leaves, max depth = 14, train score: 0.91188, val score: 0.87476, in 0.068s\n",
      "[71/1000] 1 tree, 44 leaves, max depth = 11, train score: 0.91196, val score: 0.87497, in 0.072s\n",
      "[72/1000] 1 tree, 44 leaves, max depth = 13, train score: 0.91269, val score: 0.87559, in 0.096s\n",
      "[73/1000] 1 tree, 44 leaves, max depth = 13, train score: 0.91335, val score: 0.87587, in 0.092s\n",
      "[74/1000] 1 tree, 44 leaves, max depth = 14, train score: 0.91400, val score: 0.87609, in 0.089s\n",
      "[75/1000] 1 tree, 44 leaves, max depth = 11, train score: 0.91550, val score: 0.87587, in 0.103s\n",
      "[76/1000] 1 tree, 44 leaves, max depth = 15, train score: 0.91592, val score: 0.87625, in 0.099s\n",
      "[77/1000] 1 tree, 44 leaves, max depth = 12, train score: 0.91635, val score: 0.87690, in 0.136s\n",
      "[78/1000] 1 tree, 44 leaves, max depth = 14, train score: 0.91690, val score: 0.87735, in 0.101s\n",
      "[79/1000] 1 tree, 44 leaves, max depth = 15, train score: 0.91738, val score: 0.87747, in 0.100s\n",
      "[80/1000] 1 tree, 44 leaves, max depth = 19, train score: 0.91794, val score: 0.87776, in 0.075s\n",
      "[81/1000] 1 tree, 44 leaves, max depth = 14, train score: 0.91900, val score: 0.87789, in 0.072s\n",
      "[82/1000] 1 tree, 44 leaves, max depth = 10, train score: 0.91976, val score: 0.87809, in 0.073s\n",
      "[83/1000] 1 tree, 44 leaves, max depth = 13, train score: 0.92047, val score: 0.87815, in 0.076s\n",
      "[84/1000] 1 tree, 44 leaves, max depth = 15, train score: 0.92126, val score: 0.87809, in 0.102s\n"
     ]
    },
    {
     "name": "stdout",
     "output_type": "stream",
     "text": [
      "[85/1000] 1 tree, 44 leaves, max depth = 10, train score: 0.92146, val score: 0.87816, in 0.105s\n",
      "[86/1000] 1 tree, 44 leaves, max depth = 17, train score: 0.92232, val score: 0.87912, in 0.083s\n",
      "[87/1000] 1 tree, 44 leaves, max depth = 13, train score: 0.92255, val score: 0.87928, in 0.080s\n",
      "[88/1000] 1 tree, 44 leaves, max depth = 12, train score: 0.92288, val score: 0.87950, in 0.074s\n",
      "[89/1000] 1 tree, 44 leaves, max depth = 12, train score: 0.92380, val score: 0.88020, in 0.117s\n",
      "[90/1000] 1 tree, 44 leaves, max depth = 19, train score: 0.92415, val score: 0.88021, in 0.065s\n",
      "[91/1000] 1 tree, 44 leaves, max depth = 14, train score: 0.92469, val score: 0.88100, in 0.067s\n",
      "[92/1000] 1 tree, 44 leaves, max depth = 14, train score: 0.92538, val score: 0.88118, in 0.077s\n",
      "[93/1000] 1 tree, 44 leaves, max depth = 15, train score: 0.92579, val score: 0.88122, in 0.076s\n",
      "[94/1000] 1 tree, 44 leaves, max depth = 14, train score: 0.92619, val score: 0.88132, in 0.080s\n",
      "[95/1000] 1 tree, 44 leaves, max depth = 11, train score: 0.92686, val score: 0.88153, in 0.078s\n",
      "[96/1000] 1 tree, 44 leaves, max depth = 12, train score: 0.92736, val score: 0.88169, in 0.070s\n",
      "[97/1000] 1 tree, 44 leaves, max depth = 13, train score: 0.92760, val score: 0.88189, in 0.070s\n",
      "[98/1000] 1 tree, 44 leaves, max depth = 12, train score: 0.92794, val score: 0.88204, in 0.070s\n",
      "[99/1000] 1 tree, 44 leaves, max depth = 13, train score: 0.92827, val score: 0.88227, in 0.075s\n",
      "[100/1000] 1 tree, 44 leaves, max depth = 13, train score: 0.92876, val score: 0.88219, in 0.095s\n",
      "[101/1000] 1 tree, 44 leaves, max depth = 14, train score: 0.92941, val score: 0.88283, in 0.154s\n",
      "[102/1000] 1 tree, 44 leaves, max depth = 14, train score: 0.92984, val score: 0.88277, in 0.126s\n",
      "[103/1000] 1 tree, 44 leaves, max depth = 15, train score: 0.93034, val score: 0.88243, in 0.092s\n",
      "[104/1000] 1 tree, 44 leaves, max depth = 11, train score: 0.93081, val score: 0.88240, in 0.074s\n",
      "[105/1000] 1 tree, 44 leaves, max depth = 14, train score: 0.93152, val score: 0.88250, in 0.071s\n",
      "[106/1000] 1 tree, 44 leaves, max depth = 17, train score: 0.93208, val score: 0.88249, in 0.071s\n",
      "[107/1000] 1 tree, 44 leaves, max depth = 16, train score: 0.93266, val score: 0.88263, in 0.073s\n",
      "[108/1000] 1 tree, 44 leaves, max depth = 13, train score: 0.93321, val score: 0.88267, in 0.072s\n",
      "[109/1000] 1 tree, 44 leaves, max depth = 14, train score: 0.93369, val score: 0.88278, in 0.071s\n",
      "[110/1000] 1 tree, 44 leaves, max depth = 16, train score: 0.93416, val score: 0.88319, in 0.076s\n",
      "[111/1000] 1 tree, 44 leaves, max depth = 13, train score: 0.93447, val score: 0.88320, in 0.113s\n",
      "[112/1000] 1 tree, 44 leaves, max depth = 16, train score: 0.93523, val score: 0.88329, in 0.107s\n",
      "[113/1000] 1 tree, 44 leaves, max depth = 14, train score: 0.93571, val score: 0.88323, in 0.097s\n",
      "[114/1000] 1 tree, 44 leaves, max depth = 12, train score: 0.93593, val score: 0.88346, in 0.153s\n",
      "[115/1000] 1 tree, 44 leaves, max depth = 12, train score: 0.93625, val score: 0.88353, in 0.077s\n",
      "[116/1000] 1 tree, 44 leaves, max depth = 12, train score: 0.93670, val score: 0.88361, in 0.098s\n",
      "[117/1000] 1 tree, 44 leaves, max depth = 18, train score: 0.93710, val score: 0.88370, in 0.099s\n",
      "[118/1000] 1 tree, 44 leaves, max depth = 10, train score: 0.93755, val score: 0.88401, in 0.092s\n",
      "[119/1000] 1 tree, 44 leaves, max depth = 12, train score: 0.93785, val score: 0.88401, in 0.103s\n",
      "[120/1000] 1 tree, 44 leaves, max depth = 17, train score: 0.93843, val score: 0.88480, in 0.109s\n",
      "[121/1000] 1 tree, 44 leaves, max depth = 15, train score: 0.93869, val score: 0.88530, in 0.107s\n",
      "[122/1000] 1 tree, 44 leaves, max depth = 11, train score: 0.93919, val score: 0.88562, in 0.118s\n",
      "[123/1000] 1 tree, 44 leaves, max depth = 15, train score: 0.93960, val score: 0.88598, in 0.105s\n",
      "[124/1000] 1 tree, 44 leaves, max depth = 12, train score: 0.94010, val score: 0.88649, in 0.107s\n",
      "[125/1000] 1 tree, 44 leaves, max depth = 16, train score: 0.94054, val score: 0.88633, in 0.112s\n",
      "[126/1000] 1 tree, 44 leaves, max depth = 13, train score: 0.94096, val score: 0.88647, in 0.147s\n",
      "[127/1000] 1 tree, 44 leaves, max depth = 20, train score: 0.94142, val score: 0.88688, in 0.077s\n",
      "[128/1000] 1 tree, 44 leaves, max depth = 15, train score: 0.94196, val score: 0.88716, in 0.104s\n",
      "[129/1000] 1 tree, 44 leaves, max depth = 16, train score: 0.94245, val score: 0.88715, in 0.114s\n",
      "[130/1000] 1 tree, 44 leaves, max depth = 14, train score: 0.94286, val score: 0.88709, in 0.115s\n",
      "[131/1000] 1 tree, 44 leaves, max depth = 14, train score: 0.94323, val score: 0.88707, in 0.116s\n",
      "[132/1000] 1 tree, 44 leaves, max depth = 19, train score: 0.94374, val score: 0.88696, in 0.115s\n",
      "[133/1000] 1 tree, 44 leaves, max depth = 18, train score: 0.94399, val score: 0.88730, in 0.083s\n",
      "[134/1000] 1 tree, 44 leaves, max depth = 10, train score: 0.94442, val score: 0.88739, in 0.081s\n",
      "[135/1000] 1 tree, 44 leaves, max depth = 17, train score: 0.94483, val score: 0.88747, in 0.107s\n",
      "[136/1000] 1 tree, 44 leaves, max depth = 14, train score: 0.94501, val score: 0.88754, in 0.106s\n",
      "[137/1000] 1 tree, 44 leaves, max depth = 14, train score: 0.94537, val score: 0.88743, in 0.115s\n",
      "[138/1000] 1 tree, 44 leaves, max depth = 18, train score: 0.94600, val score: 0.88754, in 0.183s\n",
      "[139/1000] 1 tree, 44 leaves, max depth = 13, train score: 0.94640, val score: 0.88760, in 0.112s\n",
      "[140/1000] 1 tree, 44 leaves, max depth = 19, train score: 0.94667, val score: 0.88755, in 0.118s\n",
      "[141/1000] 1 tree, 44 leaves, max depth = 20, train score: 0.94712, val score: 0.88760, in 0.089s\n",
      "[142/1000] 1 tree, 44 leaves, max depth = 15, train score: 0.94754, val score: 0.88758, in 0.104s\n",
      "[143/1000] 1 tree, 44 leaves, max depth = 15, train score: 0.94792, val score: 0.88791, in 0.129s\n",
      "[144/1000] 1 tree, 44 leaves, max depth = 18, train score: 0.94846, val score: 0.88813, in 0.117s\n",
      "[145/1000] 1 tree, 44 leaves, max depth = 19, train score: 0.94887, val score: 0.88829, in 0.090s\n",
      "[146/1000] 1 tree, 44 leaves, max depth = 14, train score: 0.94928, val score: 0.88871, in 0.082s\n",
      "[147/1000] 1 tree, 44 leaves, max depth = 14, train score: 0.94958, val score: 0.88855, in 0.097s\n",
      "[148/1000] 1 tree, 44 leaves, max depth = 18, train score: 0.94998, val score: 0.88862, in 0.105s\n",
      "[149/1000] 1 tree, 44 leaves, max depth = 13, train score: 0.95029, val score: 0.88899, in 0.099s\n",
      "[150/1000] 1 tree, 44 leaves, max depth = 16, train score: 0.95080, val score: 0.88919, in 0.115s\n",
      "[151/1000] 1 tree, 44 leaves, max depth = 12, train score: 0.95106, val score: 0.88950, in 0.167s\n",
      "[152/1000] 1 tree, 44 leaves, max depth = 17, train score: 0.95161, val score: 0.88976, in 0.244s\n",
      "[153/1000] 1 tree, 44 leaves, max depth = 13, train score: 0.95194, val score: 0.89009, in 0.099s\n",
      "[154/1000] 1 tree, 44 leaves, max depth = 20, train score: 0.95256, val score: 0.89032, in 0.125s\n",
      "[155/1000] 1 tree, 44 leaves, max depth = 15, train score: 0.95282, val score: 0.89047, in 0.087s\n",
      "[156/1000] 1 tree, 44 leaves, max depth = 14, train score: 0.95303, val score: 0.89082, in 0.091s\n",
      "[157/1000] 1 tree, 44 leaves, max depth = 21, train score: 0.95350, val score: 0.89128, in 0.103s\n",
      "[158/1000] 1 tree, 44 leaves, max depth = 16, train score: 0.95393, val score: 0.89148, in 0.099s\n",
      "[159/1000] 1 tree, 44 leaves, max depth = 18, train score: 0.95416, val score: 0.89183, in 0.091s\n",
      "[160/1000] 1 tree, 44 leaves, max depth = 11, train score: 0.95438, val score: 0.89199, in 0.087s\n",
      "[161/1000] 1 tree, 44 leaves, max depth = 15, train score: 0.95469, val score: 0.89228, in 0.089s\n",
      "[162/1000] 1 tree, 44 leaves, max depth = 15, train score: 0.95488, val score: 0.89231, in 0.097s\n",
      "[163/1000] 1 tree, 44 leaves, max depth = 11, train score: 0.95501, val score: 0.89232, in 0.099s\n",
      "[164/1000] 1 tree, 44 leaves, max depth = 16, train score: 0.95521, val score: 0.89254, in 0.151s\n",
      "[165/1000] 1 tree, 44 leaves, max depth = 14, train score: 0.95550, val score: 0.89298, in 0.102s\n",
      "[166/1000] 1 tree, 44 leaves, max depth = 11, train score: 0.95568, val score: 0.89306, in 0.105s\n",
      "[167/1000] 1 tree, 44 leaves, max depth = 16, train score: 0.95592, val score: 0.89327, in 0.104s\n",
      "[168/1000] 1 tree, 44 leaves, max depth = 16, train score: 0.95611, val score: 0.89341, in 0.096s\n",
      "[169/1000] 1 tree, 44 leaves, max depth = 14, train score: 0.95655, val score: 0.89335, in 0.111s\n",
      "[170/1000] 1 tree, 44 leaves, max depth = 15, train score: 0.95674, val score: 0.89372, in 0.096s\n",
      "[171/1000] 1 tree, 44 leaves, max depth = 20, train score: 0.95699, val score: 0.89381, in 0.104s\n",
      "[172/1000] 1 tree, 44 leaves, max depth = 12, train score: 0.95719, val score: 0.89398, in 0.092s\n",
      "[173/1000] 1 tree, 44 leaves, max depth = 13, train score: 0.95742, val score: 0.89420, in 0.092s\n",
      "[174/1000] 1 tree, 44 leaves, max depth = 14, train score: 0.95766, val score: 0.89443, in 0.093s\n",
      "[175/1000] 1 tree, 44 leaves, max depth = 14, train score: 0.95775, val score: 0.89447, in 0.095s\n",
      "[176/1000] 1 tree, 44 leaves, max depth = 11, train score: 0.95794, val score: 0.89474, in 0.096s\n",
      "[177/1000] 1 tree, 44 leaves, max depth = 21, train score: 0.95818, val score: 0.89477, in 0.154s\n",
      "[178/1000] 1 tree, 44 leaves, max depth = 12, train score: 0.95824, val score: 0.89495, in 0.094s\n",
      "[179/1000] 1 tree, 44 leaves, max depth = 14, train score: 0.95832, val score: 0.89501, in 0.091s\n",
      "[180/1000] 1 tree, 44 leaves, max depth = 14, train score: 0.95848, val score: 0.89526, in 0.092s\n",
      "[181/1000] 1 tree, 44 leaves, max depth = 14, train score: 0.95877, val score: 0.89530, in 0.116s\n",
      "[182/1000] 1 tree, 44 leaves, max depth = 15, train score: 0.95893, val score: 0.89538, in 0.118s\n",
      "[183/1000] 1 tree, 44 leaves, max depth = 10, train score: 0.95918, val score: 0.89563, in 0.092s\n",
      "[184/1000] 1 tree, 44 leaves, max depth = 13, train score: 0.95934, val score: 0.89565, in 0.090s\n",
      "[185/1000] 1 tree, 44 leaves, max depth = 18, train score: 0.95957, val score: 0.89562, in 0.090s\n",
      "[186/1000] 1 tree, 44 leaves, max depth = 14, train score: 0.95982, val score: 0.89584, in 0.091s\n",
      "[187/1000] 1 tree, 44 leaves, max depth = 15, train score: 0.96004, val score: 0.89602, in 0.102s\n",
      "[188/1000] 1 tree, 44 leaves, max depth = 12, train score: 0.96001, val score: 0.89610, in 0.094s\n",
      "[189/1000] 1 tree, 44 leaves, max depth = 11, train score: 0.96023, val score: 0.89626, in 0.152s\n",
      "[190/1000] 1 tree, 44 leaves, max depth = 14, train score: 0.96038, val score: 0.89647, in 0.089s\n",
      "[191/1000] 1 tree, 44 leaves, max depth = 13, train score: 0.96051, val score: 0.89661, in 0.090s\n",
      "[192/1000] 1 tree, 44 leaves, max depth = 15, train score: 0.96075, val score: 0.89684, in 0.093s\n",
      "[193/1000] 1 tree, 44 leaves, max depth = 22, train score: 0.96100, val score: 0.89702, in 0.095s\n",
      "[194/1000] 1 tree, 44 leaves, max depth = 19, train score: 0.96138, val score: 0.89714, in 0.106s\n",
      "[195/1000] 1 tree, 44 leaves, max depth = 14, train score: 0.96157, val score: 0.89740, in 0.095s\n",
      "[196/1000] 1 tree, 44 leaves, max depth = 13, train score: 0.96178, val score: 0.89746, in 0.098s\n",
      "[197/1000] 1 tree, 44 leaves, max depth = 14, train score: 0.96191, val score: 0.89750, in 0.095s\n",
      "[198/1000] 1 tree, 44 leaves, max depth = 16, train score: 0.96215, val score: 0.89754, in 0.097s\n",
      "[199/1000] 1 tree, 44 leaves, max depth = 14, train score: 0.96234, val score: 0.89781, in 0.101s\n",
      "[200/1000] 1 tree, 44 leaves, max depth = 18, train score: 0.96243, val score: 0.89795, in 0.113s\n",
      "[201/1000] 1 tree, 44 leaves, max depth = 14, train score: 0.96277, val score: 0.89805, in 0.159s\n",
      "[202/1000] 1 tree, 44 leaves, max depth = 18, train score: 0.96305, val score: 0.89826, in 0.094s\n",
      "[203/1000] 1 tree, 44 leaves, max depth = 14, train score: 0.96310, val score: 0.89847, in 0.116s\n",
      "[204/1000] 1 tree, 44 leaves, max depth = 13, train score: 0.96334, val score: 0.89850, in 0.100s\n",
      "[205/1000] 1 tree, 44 leaves, max depth = 16, train score: 0.96355, val score: 0.89850, in 0.113s\n",
      "[206/1000] 1 tree, 44 leaves, max depth = 16, train score: 0.96382, val score: 0.89861, in 0.100s\n",
      "[207/1000] 1 tree, 44 leaves, max depth = 18, train score: 0.96396, val score: 0.89879, in 0.114s\n",
      "[208/1000] 1 tree, 44 leaves, max depth = 14, train score: 0.96433, val score: 0.89890, in 0.112s\n",
      "[209/1000] 1 tree, 44 leaves, max depth = 12, train score: 0.96452, val score: 0.89887, in 0.114s\n",
      "[210/1000] 1 tree, 44 leaves, max depth = 14, train score: 0.96461, val score: 0.89886, in 0.101s\n",
      "[211/1000] 1 tree, 44 leaves, max depth = 13, train score: 0.96482, val score: 0.89896, in 0.117s\n",
      "[212/1000] 1 tree, 44 leaves, max depth = 13, train score: 0.96514, val score: 0.89933, in 0.122s\n",
      "[213/1000] 1 tree, 44 leaves, max depth = 18, train score: 0.96530, val score: 0.89939, in 0.118s\n",
      "[214/1000] 1 tree, 44 leaves, max depth = 12, train score: 0.96557, val score: 0.89936, in 0.155s\n",
      "[215/1000] 1 tree, 44 leaves, max depth = 16, train score: 0.96574, val score: 0.89946, in 0.094s\n",
      "[216/1000] 1 tree, 44 leaves, max depth = 14, train score: 0.96578, val score: 0.89959, in 0.098s\n",
      "[217/1000] 1 tree, 44 leaves, max depth = 17, train score: 0.96606, val score: 0.89938, in 0.112s\n",
      "[218/1000] 1 tree, 44 leaves, max depth = 15, train score: 0.96614, val score: 0.89946, in 0.120s\n",
      "[219/1000] 1 tree, 44 leaves, max depth = 10, train score: 0.96628, val score: 0.89942, in 0.104s\n",
      "[220/1000] 1 tree, 44 leaves, max depth = 19, train score: 0.96654, val score: 0.89942, in 0.147s\n",
      "[221/1000] 1 tree, 44 leaves, max depth = 12, train score: 0.96672, val score: 0.89959, in 0.119s\n",
      "[222/1000] 1 tree, 44 leaves, max depth = 11, train score: 0.96685, val score: 0.89961, in 0.104s\n",
      "[223/1000] 1 tree, 44 leaves, max depth = 16, train score: 0.96693, val score: 0.89953, in 0.102s\n",
      "[224/1000] 1 tree, 44 leaves, max depth = 14, train score: 0.96723, val score: 0.89942, in 0.104s\n",
      "[225/1000] 1 tree, 44 leaves, max depth = 15, train score: 0.96741, val score: 0.89925, in 0.104s\n",
      "[226/1000] 1 tree, 44 leaves, max depth = 14, train score: 0.96759, val score: 0.89936, in 0.166s\n",
      "[227/1000] 1 tree, 44 leaves, max depth = 18, train score: 0.96776, val score: 0.89949, in 0.104s\n",
      "[228/1000] 1 tree, 44 leaves, max depth = 17, train score: 0.96792, val score: 0.89968, in 0.104s\n",
      "[229/1000] 1 tree, 44 leaves, max depth = 12, train score: 0.96808, val score: 0.89969, in 0.105s\n",
      "[230/1000] 1 tree, 44 leaves, max depth = 12, train score: 0.96816, val score: 0.89975, in 0.104s\n",
      "[231/1000] 1 tree, 44 leaves, max depth = 17, train score: 0.96822, val score: 0.89986, in 0.114s\n",
      "[232/1000] 1 tree, 44 leaves, max depth = 12, train score: 0.96864, val score: 0.89999, in 0.123s\n",
      "[233/1000] 1 tree, 44 leaves, max depth = 13, train score: 0.96879, val score: 0.89999, in 0.109s\n",
      "[234/1000] 1 tree, 44 leaves, max depth = 15, train score: 0.96898, val score: 0.90007, in 0.107s\n",
      "[235/1000] 1 tree, 44 leaves, max depth = 10, train score: 0.96906, val score: 0.90015, in 0.125s\n",
      "[236/1000] 1 tree, 44 leaves, max depth = 14, train score: 0.96934, val score: 0.90002, in 0.124s\n",
      "[237/1000] 1 tree, 44 leaves, max depth = 14, train score: 0.96962, val score: 0.90015, in 0.115s\n",
      "[238/1000] 1 tree, 44 leaves, max depth = 11, train score: 0.96974, val score: 0.90023, in 0.111s\n",
      "[239/1000] 1 tree, 44 leaves, max depth = 17, train score: 0.96977, val score: 0.90040, in 0.167s\n",
      "[240/1000] 1 tree, 44 leaves, max depth = 12, train score: 0.96996, val score: 0.90060, in 0.112s\n",
      "[241/1000] 1 tree, 44 leaves, max depth = 14, train score: 0.97016, val score: 0.90060, in 0.127s\n",
      "[242/1000] 1 tree, 44 leaves, max depth = 15, train score: 0.97030, val score: 0.90087, in 0.111s\n",
      "[243/1000] 1 tree, 44 leaves, max depth = 12, train score: 0.97067, val score: 0.90098, in 0.156s\n",
      "[244/1000] 1 tree, 44 leaves, max depth = 14, train score: 0.97088, val score: 0.90113, in 0.129s\n",
      "[245/1000] 1 tree, 44 leaves, max depth = 10, train score: 0.97100, val score: 0.90110, in 0.138s\n",
      "[246/1000] 1 tree, 44 leaves, max depth = 16, train score: 0.97128, val score: 0.90103, in 0.141s\n",
      "[247/1000] 1 tree, 44 leaves, max depth = 19, train score: 0.97143, val score: 0.90100, in 0.147s\n",
      "[248/1000] 1 tree, 44 leaves, max depth = 18, train score: 0.97154, val score: 0.90139, in 0.146s\n",
      "[249/1000] 1 tree, 44 leaves, max depth = 13, train score: 0.97169, val score: 0.90151, in 0.126s\n",
      "[250/1000] 1 tree, 44 leaves, max depth = 11, train score: 0.97181, val score: 0.90157, in 0.117s\n",
      "[251/1000] 1 tree, 44 leaves, max depth = 19, train score: 0.97189, val score: 0.90172, in 0.180s\n"
     ]
    },
    {
     "name": "stdout",
     "output_type": "stream",
     "text": [
      "[252/1000] 1 tree, 44 leaves, max depth = 12, train score: 0.97205, val score: 0.90193, in 0.132s\n",
      "[253/1000] 1 tree, 44 leaves, max depth = 12, train score: 0.97217, val score: 0.90204, in 0.124s\n",
      "[254/1000] 1 tree, 44 leaves, max depth = 15, train score: 0.97223, val score: 0.90219, in 0.130s\n",
      "[255/1000] 1 tree, 44 leaves, max depth = 10, train score: 0.97230, val score: 0.90210, in 0.132s\n",
      "[256/1000] 1 tree, 44 leaves, max depth = 17, train score: 0.97251, val score: 0.90237, in 0.113s\n",
      "[257/1000] 1 tree, 44 leaves, max depth = 17, train score: 0.97260, val score: 0.90257, in 0.129s\n",
      "[258/1000] 1 tree, 44 leaves, max depth = 15, train score: 0.97271, val score: 0.90271, in 0.133s\n",
      "[259/1000] 1 tree, 44 leaves, max depth = 12, train score: 0.97284, val score: 0.90277, in 0.147s\n",
      "[260/1000] 1 tree, 44 leaves, max depth = 10, train score: 0.97300, val score: 0.90276, in 0.142s\n",
      "[261/1000] 1 tree, 44 leaves, max depth = 14, train score: 0.97324, val score: 0.90265, in 0.133s\n",
      "[262/1000] 1 tree, 44 leaves, max depth = 18, train score: 0.97341, val score: 0.90302, in 0.119s\n",
      "[263/1000] 1 tree, 44 leaves, max depth = 12, train score: 0.97350, val score: 0.90315, in 0.178s\n",
      "[264/1000] 1 tree, 44 leaves, max depth = 20, train score: 0.97354, val score: 0.90330, in 0.109s\n",
      "[265/1000] 1 tree, 44 leaves, max depth = 14, train score: 0.97370, val score: 0.90346, in 0.126s\n",
      "[266/1000] 1 tree, 44 leaves, max depth = 14, train score: 0.97389, val score: 0.90366, in 0.113s\n",
      "[267/1000] 1 tree, 44 leaves, max depth = 15, train score: 0.97393, val score: 0.90365, in 0.116s\n",
      "[268/1000] 1 tree, 44 leaves, max depth = 11, train score: 0.97406, val score: 0.90367, in 0.115s\n",
      "[269/1000] 1 tree, 44 leaves, max depth = 18, train score: 0.97425, val score: 0.90377, in 0.127s\n",
      "[270/1000] 1 tree, 44 leaves, max depth = 14, train score: 0.97438, val score: 0.90370, in 0.122s\n",
      "[271/1000] 1 tree, 44 leaves, max depth = 13, train score: 0.97451, val score: 0.90398, in 0.117s\n",
      "[272/1000] 1 tree, 44 leaves, max depth = 12, train score: 0.97472, val score: 0.90411, in 0.135s\n",
      "[273/1000] 1 tree, 44 leaves, max depth = 11, train score: 0.97485, val score: 0.90416, in 0.172s\n",
      "[274/1000] 1 tree, 44 leaves, max depth = 11, train score: 0.97488, val score: 0.90430, in 0.125s\n",
      "[275/1000] 1 tree, 44 leaves, max depth = 14, train score: 0.97503, val score: 0.90454, in 0.128s\n",
      "[276/1000] 1 tree, 44 leaves, max depth = 17, train score: 0.97520, val score: 0.90452, in 0.200s\n",
      "[277/1000] 1 tree, 44 leaves, max depth = 16, train score: 0.97530, val score: 0.90472, in 0.123s\n",
      "[278/1000] 1 tree, 44 leaves, max depth = 14, train score: 0.97539, val score: 0.90490, in 0.118s\n",
      "[279/1000] 1 tree, 44 leaves, max depth = 10, train score: 0.97569, val score: 0.90509, in 0.140s\n",
      "[280/1000] 1 tree, 44 leaves, max depth = 15, train score: 0.97577, val score: 0.90496, in 0.120s\n",
      "[281/1000] 1 tree, 44 leaves, max depth = 11, train score: 0.97604, val score: 0.90504, in 0.139s\n",
      "[282/1000] 1 tree, 44 leaves, max depth = 14, train score: 0.97610, val score: 0.90510, in 0.158s\n",
      "[283/1000] 1 tree, 44 leaves, max depth = 11, train score: 0.97631, val score: 0.90519, in 0.144s\n",
      "[284/1000] 1 tree, 44 leaves, max depth = 12, train score: 0.97639, val score: 0.90530, in 0.140s\n",
      "[285/1000] 1 tree, 44 leaves, max depth = 10, train score: 0.97658, val score: 0.90553, in 0.124s\n",
      "[286/1000] 1 tree, 44 leaves, max depth = 19, train score: 0.97668, val score: 0.90561, in 0.143s\n",
      "[287/1000] 1 tree, 44 leaves, max depth = 12, train score: 0.97683, val score: 0.90570, in 0.139s\n",
      "[288/1000] 1 tree, 44 leaves, max depth = 9, train score: 0.97696, val score: 0.90588, in 0.199s\n",
      "[289/1000] 1 tree, 44 leaves, max depth = 14, train score: 0.97705, val score: 0.90607, in 0.142s\n",
      "[290/1000] 1 tree, 44 leaves, max depth = 12, train score: 0.97711, val score: 0.90604, in 0.153s\n",
      "[291/1000] 1 tree, 44 leaves, max depth = 15, train score: 0.97713, val score: 0.90612, in 0.142s\n",
      "[292/1000] 1 tree, 44 leaves, max depth = 11, train score: 0.97718, val score: 0.90599, in 0.201s\n",
      "[293/1000] 1 tree, 44 leaves, max depth = 11, train score: 0.97734, val score: 0.90607, in 0.150s\n",
      "[294/1000] 1 tree, 44 leaves, max depth = 15, train score: 0.97749, val score: 0.90624, in 0.182s\n",
      "[295/1000] 1 tree, 44 leaves, max depth = 11, train score: 0.97770, val score: 0.90634, in 0.164s\n",
      "[296/1000] 1 tree, 44 leaves, max depth = 13, train score: 0.97776, val score: 0.90643, in 0.128s\n",
      "[297/1000] 1 tree, 44 leaves, max depth = 17, train score: 0.97784, val score: 0.90662, in 0.124s\n",
      "[298/1000] 1 tree, 44 leaves, max depth = 14, train score: 0.97810, val score: 0.90653, in 0.127s\n",
      "[299/1000] 1 tree, 44 leaves, max depth = 10, train score: 0.97825, val score: 0.90664, in 0.152s\n",
      "[300/1000] 1 tree, 44 leaves, max depth = 11, train score: 0.97829, val score: 0.90673, in 0.150s\n",
      "[301/1000] 1 tree, 44 leaves, max depth = 15, train score: 0.97831, val score: 0.90674, in 0.217s\n",
      "[302/1000] 1 tree, 44 leaves, max depth = 16, train score: 0.97845, val score: 0.90665, in 0.130s\n",
      "[303/1000] 1 tree, 44 leaves, max depth = 20, train score: 0.97850, val score: 0.90671, in 0.163s\n",
      "[304/1000] 1 tree, 44 leaves, max depth = 14, train score: 0.97856, val score: 0.90683, in 0.146s\n",
      "[305/1000] 1 tree, 44 leaves, max depth = 13, train score: 0.97865, val score: 0.90679, in 0.132s\n",
      "[306/1000] 1 tree, 44 leaves, max depth = 11, train score: 0.97879, val score: 0.90686, in 0.146s\n",
      "[307/1000] 1 tree, 44 leaves, max depth = 12, train score: 0.97885, val score: 0.90696, in 0.148s\n",
      "[308/1000] 1 tree, 44 leaves, max depth = 11, train score: 0.97893, val score: 0.90690, in 0.127s\n",
      "[309/1000] 1 tree, 44 leaves, max depth = 13, train score: 0.97895, val score: 0.90700, in 0.129s\n",
      "[310/1000] 1 tree, 44 leaves, max depth = 14, train score: 0.97900, val score: 0.90690, in 0.148s\n",
      "[311/1000] 1 tree, 44 leaves, max depth = 16, train score: 0.97908, val score: 0.90698, in 0.153s\n",
      "[312/1000] 1 tree, 44 leaves, max depth = 15, train score: 0.97920, val score: 0.90722, in 0.143s\n",
      "[313/1000] 1 tree, 44 leaves, max depth = 13, train score: 0.97933, val score: 0.90726, in 0.203s\n",
      "[314/1000] 1 tree, 44 leaves, max depth = 10, train score: 0.97951, val score: 0.90736, in 0.128s\n",
      "[315/1000] 1 tree, 44 leaves, max depth = 18, train score: 0.97965, val score: 0.90760, in 0.133s\n",
      "[316/1000] 1 tree, 44 leaves, max depth = 14, train score: 0.97975, val score: 0.90787, in 0.146s\n",
      "[317/1000] 1 tree, 44 leaves, max depth = 14, train score: 0.97988, val score: 0.90807, in 0.135s\n",
      "[318/1000] 1 tree, 44 leaves, max depth = 17, train score: 0.97990, val score: 0.90814, in 0.138s\n",
      "[319/1000] 1 tree, 44 leaves, max depth = 20, train score: 0.98002, val score: 0.90818, in 0.147s\n",
      "[320/1000] 1 tree, 44 leaves, max depth = 11, train score: 0.98013, val score: 0.90818, in 0.242s\n",
      "[321/1000] 1 tree, 44 leaves, max depth = 10, train score: 0.98023, val score: 0.90817, in 0.145s\n",
      "[322/1000] 1 tree, 44 leaves, max depth = 11, train score: 0.98027, val score: 0.90814, in 0.135s\n",
      "[323/1000] 1 tree, 44 leaves, max depth = 15, train score: 0.98029, val score: 0.90813, in 0.231s\n",
      "[324/1000] 1 tree, 44 leaves, max depth = 10, train score: 0.98041, val score: 0.90812, in 0.257s\n",
      "[325/1000] 1 tree, 44 leaves, max depth = 18, train score: 0.98051, val score: 0.90819, in 0.202s\n",
      "[326/1000] 1 tree, 44 leaves, max depth = 11, train score: 0.98057, val score: 0.90828, in 0.314s\n",
      "[327/1000] 1 tree, 44 leaves, max depth = 17, train score: 0.98064, val score: 0.90838, in 0.238s\n",
      "[328/1000] 1 tree, 44 leaves, max depth = 15, train score: 0.98074, val score: 0.90831, in 0.219s\n",
      "[329/1000] 1 tree, 44 leaves, max depth = 14, train score: 0.98086, val score: 0.90825, in 0.248s\n",
      "[330/1000] 1 tree, 44 leaves, max depth = 13, train score: 0.98097, val score: 0.90836, in 0.261s\n",
      "[331/1000] 1 tree, 44 leaves, max depth = 14, train score: 0.98107, val score: 0.90835, in 0.224s\n",
      "[332/1000] 1 tree, 44 leaves, max depth = 11, train score: 0.98113, val score: 0.90834, in 0.248s\n",
      "[333/1000] 1 tree, 44 leaves, max depth = 15, train score: 0.98126, val score: 0.90852, in 0.185s\n",
      "[334/1000] 1 tree, 44 leaves, max depth = 10, train score: 0.98132, val score: 0.90870, in 0.178s\n",
      "[335/1000] 1 tree, 44 leaves, max depth = 14, train score: 0.98135, val score: 0.90882, in 0.155s\n"
     ]
    },
    {
     "name": "stdout",
     "output_type": "stream",
     "text": [
      "[336/1000] 1 tree, 44 leaves, max depth = 13, train score: 0.98139, val score: 0.90867, in 0.190s\n",
      "[337/1000] 1 tree, 44 leaves, max depth = 15, train score: 0.98145, val score: 0.90875, in 0.158s\n",
      "[338/1000] 1 tree, 44 leaves, max depth = 13, train score: 0.98155, val score: 0.90877, in 0.295s\n",
      "[339/1000] 1 tree, 44 leaves, max depth = 15, train score: 0.98161, val score: 0.90901, in 0.219s\n",
      "[340/1000] 1 tree, 44 leaves, max depth = 12, train score: 0.98163, val score: 0.90904, in 0.152s\n",
      "[341/1000] 1 tree, 44 leaves, max depth = 11, train score: 0.98172, val score: 0.90914, in 0.205s\n",
      "[342/1000] 1 tree, 44 leaves, max depth = 14, train score: 0.98180, val score: 0.90921, in 0.250s\n",
      "[343/1000] 1 tree, 44 leaves, max depth = 11, train score: 0.98187, val score: 0.90927, in 0.197s\n",
      "[344/1000] 1 tree, 44 leaves, max depth = 12, train score: 0.98190, val score: 0.90934, in 0.150s\n",
      "[345/1000] 1 tree, 44 leaves, max depth = 18, train score: 0.98194, val score: 0.90940, in 0.151s\n",
      "[346/1000] 1 tree, 44 leaves, max depth = 13, train score: 0.98200, val score: 0.90938, in 0.156s\n",
      "[347/1000] 1 tree, 44 leaves, max depth = 17, train score: 0.98204, val score: 0.90956, in 0.250s\n",
      "[348/1000] 1 tree, 44 leaves, max depth = 13, train score: 0.98207, val score: 0.90956, in 0.255s\n",
      "[349/1000] 1 tree, 44 leaves, max depth = 15, train score: 0.98217, val score: 0.90950, in 0.189s\n",
      "[350/1000] 1 tree, 44 leaves, max depth = 14, train score: 0.98228, val score: 0.90957, in 0.176s\n",
      "[351/1000] 1 tree, 44 leaves, max depth = 12, train score: 0.98231, val score: 0.90961, in 0.275s\n",
      "[352/1000] 1 tree, 44 leaves, max depth = 13, train score: 0.98238, val score: 0.90966, in 0.409s\n",
      "[353/1000] 1 tree, 44 leaves, max depth = 15, train score: 0.98249, val score: 0.90971, in 0.212s\n",
      "[354/1000] 1 tree, 44 leaves, max depth = 14, train score: 0.98255, val score: 0.90967, in 0.158s\n",
      "[355/1000] 1 tree, 44 leaves, max depth = 11, train score: 0.98260, val score: 0.90961, in 0.175s\n",
      "[356/1000] 1 tree, 44 leaves, max depth = 15, train score: 0.98265, val score: 0.90971, in 0.247s\n",
      "[357/1000] 1 tree, 44 leaves, max depth = 12, train score: 0.98271, val score: 0.90971, in 0.172s\n",
      "[358/1000] 1 tree, 44 leaves, max depth = 15, train score: 0.98274, val score: 0.90968, in 0.202s\n",
      "[359/1000] 1 tree, 44 leaves, max depth = 14, train score: 0.98276, val score: 0.90975, in 0.162s\n",
      "[360/1000] 1 tree, 44 leaves, max depth = 11, train score: 0.98282, val score: 0.90972, in 0.322s\n",
      "[361/1000] 1 tree, 44 leaves, max depth = 12, train score: 0.98291, val score: 0.90975, in 0.306s\n",
      "[362/1000] 1 tree, 44 leaves, max depth = 15, train score: 0.98300, val score: 0.90974, in 0.238s\n",
      "[363/1000] 1 tree, 44 leaves, max depth = 14, train score: 0.98317, val score: 0.90988, in 0.173s\n",
      "[364/1000] 1 tree, 44 leaves, max depth = 12, train score: 0.98330, val score: 0.90983, in 0.384s\n",
      "[365/1000] 1 tree, 44 leaves, max depth = 12, train score: 0.98333, val score: 0.90981, in 0.288s\n",
      "[366/1000] 1 tree, 44 leaves, max depth = 12, train score: 0.98349, val score: 0.90981, in 0.221s\n",
      "[367/1000] 1 tree, 44 leaves, max depth = 17, train score: 0.98358, val score: 0.90971, in 0.210s\n",
      "[368/1000] 1 tree, 44 leaves, max depth = 11, train score: 0.98372, val score: 0.90958, in 0.244s\n",
      "[369/1000] 1 tree, 44 leaves, max depth = 14, train score: 0.98384, val score: 0.90974, in 0.182s\n",
      "[370/1000] 1 tree, 44 leaves, max depth = 15, train score: 0.98386, val score: 0.90968, in 0.170s\n",
      "[371/1000] 1 tree, 44 leaves, max depth = 14, train score: 0.98397, val score: 0.90976, in 0.199s\n",
      "[372/1000] 1 tree, 44 leaves, max depth = 15, train score: 0.98401, val score: 0.90966, in 0.186s\n",
      "[373/1000] 1 tree, 44 leaves, max depth = 11, train score: 0.98406, val score: 0.90956, in 0.170s\n",
      "Fit 373 trees in 45.612 s, (16412 total leaves)\n",
      "Time spent computing histograms: 12.998s\n",
      "Time spent finding best splits:  3.359s\n",
      "Time spent applying splits:      4.097s\n",
      "Time spent predicting:           0.061s\n",
      "CPU times: user 4min 45s, sys: 41 s, total: 5min 26s\n",
      "Wall time: 46.1 s\n"
     ]
    },
    {
     "data": {
      "text/plain": [
       "(0.9795618885673211, 0.865225601216363)"
      ]
     },
     "execution_count": 45,
     "metadata": {},
     "output_type": "execute_result"
    }
   ],
   "source": [
    "%%time\n",
    "clf = HistGradientBoostingClassifier(loss='binary_crossentropy', verbose=1, l2_regularization=2.4,\n",
    "                             learning_rate=0.03, max_depth=27, max_iter=1000, max_leaf_nodes=44,\n",
    "                             min_samples_leaf=8,  scoring='roc_auc', tol=1e-8)\n",
    "clf.fit(xs, y)\n",
    "m_roc(y, xs), m_roc(valid_y, valid_xs)"
   ]
  },
  {
   "cell_type": "markdown",
   "metadata": {
    "heading_collapsed": true,
    "hidden": true
   },
   "source": [
    "#### Including the V*** columns"
   ]
  },
  {
   "cell_type": "code",
   "execution_count": 37,
   "metadata": {
    "hidden": true
   },
   "outputs": [],
   "source": [
    "to = (path/'to2.pkl').load()\n",
    "\n",
    "xs, y             = to.train.xs, to.train.y\n",
    "valid_xs, valid_y = to.valid.xs, to.valid.y"
   ]
  },
  {
   "cell_type": "code",
   "execution_count": 38,
   "metadata": {
    "hidden": true
   },
   "outputs": [],
   "source": [
    "cats = ['ProductCD', 'card1', 'card2', 'card3', 'card4', 'card5', 'card6', \n",
    "       'addr1', 'addr2', 'P_emaildomain', 'R_emaildomain', 'M1', 'M2', 'M3', \n",
    "       'M4', 'M5', 'M6', 'M7', 'M8', 'M9', 'DeviceType', 'DeviceInfo', 'id_12', \n",
    "       'id_13', 'id_14', 'id_15', 'id_16', 'id_17', 'id_18', 'id_19', 'id_20', \n",
    "       'id_21', 'id_22', 'id_23', 'id_24', 'id_25', 'id_26', 'id_27', 'id_28', \n",
    "       'id_29', 'id_30', 'id_31', 'id_32', 'id_33', 'id_34', 'id_35', 'id_36',\n",
    "       'id_37', 'id_38']\n",
    "\n",
    "for cat in cats:\n",
    "    to[cat] = to[cat].astype('category')"
   ]
  },
  {
   "cell_type": "code",
   "execution_count": 39,
   "metadata": {
    "hidden": true,
    "scrolled": false
   },
   "outputs": [
    {
     "name": "stdout",
     "output_type": "stream",
     "text": [
      "Binning 0.279 GB of training data: 1.763 s\n",
      "Binning 0.031 GB of validation data: 0.048 s\n",
      "Fitting gradient boosted rounds:\n",
      "[1/1000] 1 tree, 44 leaves, max depth = 11, train score: 0.86433, val score: 0.82418, in 0.213s\n",
      "[2/1000] 1 tree, 44 leaves, max depth = 11, train score: 0.87088, val score: 0.83679, in 0.230s\n",
      "[3/1000] 1 tree, 44 leaves, max depth = 10, train score: 0.87225, val score: 0.84385, in 0.256s\n",
      "[4/1000] 1 tree, 44 leaves, max depth = 10, train score: 0.87238, val score: 0.84300, in 0.539s\n",
      "[5/1000] 1 tree, 44 leaves, max depth = 10, train score: 0.87293, val score: 0.84293, in 0.397s\n",
      "[6/1000] 1 tree, 44 leaves, max depth = 10, train score: 0.87305, val score: 0.84355, in 0.408s\n",
      "[7/1000] 1 tree, 44 leaves, max depth = 11, train score: 0.87715, val score: 0.84655, in 0.485s\n",
      "[8/1000] 1 tree, 44 leaves, max depth = 11, train score: 0.87793, val score: 0.84680, in 0.225s\n",
      "[9/1000] 1 tree, 44 leaves, max depth = 12, train score: 0.87836, val score: 0.84739, in 0.232s\n",
      "[10/1000] 1 tree, 44 leaves, max depth = 10, train score: 0.87991, val score: 0.84718, in 0.432s\n",
      "[11/1000] 1 tree, 44 leaves, max depth = 10, train score: 0.88075, val score: 0.85455, in 0.443s\n",
      "[12/1000] 1 tree, 44 leaves, max depth = 9, train score: 0.88393, val score: 0.85629, in 0.430s\n",
      "[13/1000] 1 tree, 44 leaves, max depth = 10, train score: 0.88361, val score: 0.85739, in 0.421s\n",
      "[14/1000] 1 tree, 44 leaves, max depth = 12, train score: 0.88458, val score: 0.85870, in 0.481s\n",
      "[15/1000] 1 tree, 44 leaves, max depth = 10, train score: 0.88424, val score: 0.85956, in 0.472s\n",
      "[16/1000] 1 tree, 44 leaves, max depth = 13, train score: 0.88596, val score: 0.85976, in 0.445s\n",
      "[17/1000] 1 tree, 44 leaves, max depth = 12, train score: 0.88675, val score: 0.86116, in 0.538s\n",
      "[18/1000] 1 tree, 44 leaves, max depth = 11, train score: 0.88750, val score: 0.86162, in 0.560s\n",
      "[19/1000] 1 tree, 44 leaves, max depth = 9, train score: 0.88937, val score: 0.86192, in 0.885s\n",
      "[20/1000] 1 tree, 44 leaves, max depth = 13, train score: 0.88963, val score: 0.86234, in 0.238s\n",
      "[21/1000] 1 tree, 44 leaves, max depth = 10, train score: 0.89011, val score: 0.86503, in 0.249s\n",
      "[22/1000] 1 tree, 44 leaves, max depth = 9, train score: 0.89195, val score: 0.86771, in 0.268s\n",
      "[23/1000] 1 tree, 44 leaves, max depth = 10, train score: 0.89303, val score: 0.86853, in 0.249s\n",
      "[24/1000] 1 tree, 44 leaves, max depth = 8, train score: 0.89407, val score: 0.86960, in 0.270s\n",
      "[25/1000] 1 tree, 44 leaves, max depth = 10, train score: 0.89545, val score: 0.86985, in 0.364s\n",
      "[26/1000] 1 tree, 44 leaves, max depth = 8, train score: 0.89623, val score: 0.87001, in 0.369s\n",
      "[27/1000] 1 tree, 44 leaves, max depth = 12, train score: 0.89796, val score: 0.87020, in 0.489s\n",
      "[28/1000] 1 tree, 44 leaves, max depth = 9, train score: 0.89826, val score: 0.87060, in 0.470s\n",
      "[29/1000] 1 tree, 44 leaves, max depth = 10, train score: 0.90051, val score: 0.87225, in 0.340s\n",
      "[30/1000] 1 tree, 44 leaves, max depth = 10, train score: 0.90189, val score: 0.87232, in 0.511s\n",
      "[31/1000] 1 tree, 44 leaves, max depth = 10, train score: 0.90194, val score: 0.87283, in 0.516s\n",
      "[32/1000] 1 tree, 44 leaves, max depth = 10, train score: 0.90386, val score: 0.87404, in 0.811s\n",
      "[33/1000] 1 tree, 44 leaves, max depth = 12, train score: 0.90421, val score: 0.87469, in 0.483s\n",
      "[34/1000] 1 tree, 44 leaves, max depth = 10, train score: 0.90527, val score: 0.87464, in 0.320s\n",
      "[35/1000] 1 tree, 44 leaves, max depth = 12, train score: 0.90566, val score: 0.87498, in 0.381s\n",
      "[36/1000] 1 tree, 44 leaves, max depth = 15, train score: 0.90644, val score: 0.87520, in 0.299s\n",
      "[37/1000] 1 tree, 44 leaves, max depth = 12, train score: 0.90727, val score: 0.87579, in 0.329s\n",
      "[38/1000] 1 tree, 44 leaves, max depth = 11, train score: 0.90739, val score: 0.87601, in 0.269s\n",
      "[39/1000] 1 tree, 44 leaves, max depth = 11, train score: 0.90799, val score: 0.87615, in 0.315s\n",
      "[40/1000] 1 tree, 44 leaves, max depth = 14, train score: 0.90869, val score: 0.87593, in 0.319s\n",
      "[41/1000] 1 tree, 44 leaves, max depth = 11, train score: 0.90890, val score: 0.87598, in 0.393s\n",
      "[42/1000] 1 tree, 44 leaves, max depth = 8, train score: 0.90985, val score: 0.87653, in 0.617s\n",
      "[43/1000] 1 tree, 44 leaves, max depth = 12, train score: 0.91087, val score: 0.87867, in 0.420s\n",
      "[44/1000] 1 tree, 44 leaves, max depth = 9, train score: 0.91137, val score: 0.87862, in 0.895s\n",
      "[45/1000] 1 tree, 44 leaves, max depth = 11, train score: 0.91207, val score: 0.87926, in 0.321s\n",
      "[46/1000] 1 tree, 44 leaves, max depth = 11, train score: 0.91310, val score: 0.87986, in 0.294s\n",
      "[47/1000] 1 tree, 44 leaves, max depth = 11, train score: 0.91407, val score: 0.87974, in 0.284s\n",
      "[48/1000] 1 tree, 44 leaves, max depth = 12, train score: 0.91434, val score: 0.88034, in 0.307s\n",
      "[49/1000] 1 tree, 44 leaves, max depth = 13, train score: 0.91499, val score: 0.88047, in 0.386s\n",
      "[50/1000] 1 tree, 44 leaves, max depth = 14, train score: 0.91621, val score: 0.88078, in 0.495s\n",
      "[51/1000] 1 tree, 44 leaves, max depth = 19, train score: 0.91767, val score: 0.88100, in 0.462s\n",
      "[52/1000] 1 tree, 44 leaves, max depth = 14, train score: 0.91844, val score: 0.88165, in 0.390s\n",
      "[53/1000] 1 tree, 44 leaves, max depth = 15, train score: 0.91988, val score: 0.88180, in 0.555s\n",
      "[54/1000] 1 tree, 44 leaves, max depth = 11, train score: 0.92012, val score: 0.88202, in 0.517s\n",
      "[55/1000] 1 tree, 44 leaves, max depth = 17, train score: 0.92057, val score: 0.88262, in 0.485s\n",
      "[56/1000] 1 tree, 44 leaves, max depth = 11, train score: 0.92116, val score: 0.88302, in 0.973s\n",
      "[57/1000] 1 tree, 44 leaves, max depth = 13, train score: 0.92221, val score: 0.88449, in 0.315s\n",
      "[58/1000] 1 tree, 44 leaves, max depth = 15, train score: 0.92289, val score: 0.88525, in 0.433s\n",
      "[59/1000] 1 tree, 44 leaves, max depth = 12, train score: 0.92351, val score: 0.88503, in 0.426s\n",
      "[60/1000] 1 tree, 44 leaves, max depth = 14, train score: 0.92399, val score: 0.88529, in 0.486s\n",
      "[61/1000] 1 tree, 44 leaves, max depth = 14, train score: 0.92457, val score: 0.88588, in 0.677s\n",
      "[62/1000] 1 tree, 44 leaves, max depth = 12, train score: 0.92496, val score: 0.88618, in 0.434s\n",
      "[63/1000] 1 tree, 44 leaves, max depth = 13, train score: 0.92544, val score: 0.88645, in 0.315s\n",
      "[64/1000] 1 tree, 44 leaves, max depth = 11, train score: 0.92575, val score: 0.88667, in 0.467s\n",
      "[65/1000] 1 tree, 44 leaves, max depth = 16, train score: 0.92634, val score: 0.88746, in 0.666s\n",
      "[66/1000] 1 tree, 44 leaves, max depth = 14, train score: 0.92688, val score: 0.88792, in 0.612s\n",
      "[67/1000] 1 tree, 44 leaves, max depth = 12, train score: 0.92734, val score: 0.88799, in 0.580s\n",
      "[68/1000] 1 tree, 44 leaves, max depth = 14, train score: 0.92809, val score: 0.88824, in 0.576s\n",
      "[69/1000] 1 tree, 44 leaves, max depth = 13, train score: 0.92887, val score: 0.88920, in 0.904s\n",
      "[70/1000] 1 tree, 44 leaves, max depth = 12, train score: 0.92938, val score: 0.88946, in 0.332s\n",
      "[71/1000] 1 tree, 44 leaves, max depth = 13, train score: 0.92985, val score: 0.89037, in 0.331s\n",
      "[72/1000] 1 tree, 44 leaves, max depth = 12, train score: 0.93080, val score: 0.89099, in 0.334s\n",
      "[73/1000] 1 tree, 44 leaves, max depth = 18, train score: 0.93146, val score: 0.89119, in 0.336s\n",
      "[74/1000] 1 tree, 44 leaves, max depth = 12, train score: 0.93190, val score: 0.89170, in 0.340s\n",
      "[75/1000] 1 tree, 44 leaves, max depth = 14, train score: 0.93287, val score: 0.89204, in 0.343s\n",
      "[76/1000] 1 tree, 44 leaves, max depth = 14, train score: 0.93357, val score: 0.89278, in 0.351s\n",
      "[77/1000] 1 tree, 44 leaves, max depth = 16, train score: 0.93398, val score: 0.89281, in 0.542s\n",
      "[78/1000] 1 tree, 44 leaves, max depth = 13, train score: 0.93471, val score: 0.89305, in 0.627s\n",
      "[79/1000] 1 tree, 44 leaves, max depth = 13, train score: 0.93534, val score: 0.89391, in 0.722s\n",
      "[80/1000] 1 tree, 44 leaves, max depth = 18, train score: 0.93595, val score: 0.89449, in 0.585s\n",
      "[81/1000] 1 tree, 44 leaves, max depth = 16, train score: 0.93652, val score: 0.89494, in 1.409s\n",
      "[82/1000] 1 tree, 44 leaves, max depth = 23, train score: 0.93673, val score: 0.89515, in 0.415s\n",
      "[83/1000] 1 tree, 44 leaves, max depth = 18, train score: 0.93705, val score: 0.89538, in 0.548s\n",
      "[84/1000] 1 tree, 44 leaves, max depth = 21, train score: 0.93748, val score: 0.89620, in 0.392s\n"
     ]
    },
    {
     "name": "stdout",
     "output_type": "stream",
     "text": [
      "[85/1000] 1 tree, 44 leaves, max depth = 15, train score: 0.93783, val score: 0.89626, in 0.380s\n",
      "[86/1000] 1 tree, 44 leaves, max depth = 11, train score: 0.93845, val score: 0.89685, in 0.365s\n",
      "[87/1000] 1 tree, 44 leaves, max depth = 17, train score: 0.93886, val score: 0.89716, in 0.350s\n",
      "[88/1000] 1 tree, 44 leaves, max depth = 15, train score: 0.93966, val score: 0.89760, in 0.355s\n",
      "[89/1000] 1 tree, 44 leaves, max depth = 14, train score: 0.94004, val score: 0.89739, in 0.357s\n",
      "[90/1000] 1 tree, 44 leaves, max depth = 15, train score: 0.94061, val score: 0.89757, in 0.602s\n",
      "[91/1000] 1 tree, 44 leaves, max depth = 21, train score: 0.94094, val score: 0.89835, in 0.666s\n",
      "[92/1000] 1 tree, 44 leaves, max depth = 14, train score: 0.94140, val score: 0.89865, in 0.642s\n",
      "[93/1000] 1 tree, 44 leaves, max depth = 12, train score: 0.94170, val score: 0.89937, in 0.620s\n",
      "[94/1000] 1 tree, 44 leaves, max depth = 12, train score: 0.94215, val score: 0.89951, in 0.940s\n",
      "[95/1000] 1 tree, 44 leaves, max depth = 14, train score: 0.94279, val score: 0.89976, in 0.344s\n",
      "[96/1000] 1 tree, 44 leaves, max depth = 14, train score: 0.94292, val score: 0.89962, in 0.342s\n",
      "[97/1000] 1 tree, 44 leaves, max depth = 16, train score: 0.94315, val score: 0.89934, in 0.363s\n",
      "[98/1000] 1 tree, 44 leaves, max depth = 15, train score: 0.94366, val score: 0.90004, in 0.367s\n",
      "[99/1000] 1 tree, 44 leaves, max depth = 18, train score: 0.94419, val score: 0.90046, in 0.360s\n",
      "[100/1000] 1 tree, 44 leaves, max depth = 15, train score: 0.94436, val score: 0.90046, in 0.360s\n",
      "[101/1000] 1 tree, 44 leaves, max depth = 18, train score: 0.94470, val score: 0.90107, in 0.419s\n",
      "[102/1000] 1 tree, 44 leaves, max depth = 19, train score: 0.94496, val score: 0.90127, in 0.802s\n",
      "[103/1000] 1 tree, 44 leaves, max depth = 18, train score: 0.94518, val score: 0.90178, in 0.629s\n",
      "[104/1000] 1 tree, 44 leaves, max depth = 19, train score: 0.94568, val score: 0.90223, in 0.670s\n",
      "[105/1000] 1 tree, 44 leaves, max depth = 13, train score: 0.94622, val score: 0.90229, in 0.695s\n",
      "[106/1000] 1 tree, 44 leaves, max depth = 14, train score: 0.94672, val score: 0.90241, in 1.021s\n",
      "[107/1000] 1 tree, 44 leaves, max depth = 15, train score: 0.94693, val score: 0.90267, in 0.378s\n",
      "[108/1000] 1 tree, 44 leaves, max depth = 15, train score: 0.94719, val score: 0.90326, in 0.542s\n",
      "[109/1000] 1 tree, 44 leaves, max depth = 14, train score: 0.94751, val score: 0.90315, in 0.500s\n",
      "[110/1000] 1 tree, 44 leaves, max depth = 17, train score: 0.94794, val score: 0.90329, in 0.584s\n",
      "[111/1000] 1 tree, 44 leaves, max depth = 22, train score: 0.94836, val score: 0.90380, in 0.491s\n",
      "[112/1000] 1 tree, 44 leaves, max depth = 21, train score: 0.94842, val score: 0.90383, in 0.461s\n",
      "[113/1000] 1 tree, 44 leaves, max depth = 16, train score: 0.94870, val score: 0.90381, in 0.546s\n",
      "[114/1000] 1 tree, 44 leaves, max depth = 13, train score: 0.94905, val score: 0.90410, in 0.737s\n",
      "[115/1000] 1 tree, 44 leaves, max depth = 16, train score: 0.94943, val score: 0.90435, in 0.652s\n",
      "[116/1000] 1 tree, 44 leaves, max depth = 19, train score: 0.94965, val score: 0.90480, in 0.712s\n",
      "[117/1000] 1 tree, 44 leaves, max depth = 15, train score: 0.95011, val score: 0.90478, in 0.637s\n",
      "[118/1000] 1 tree, 44 leaves, max depth = 19, train score: 0.95019, val score: 0.90482, in 0.645s\n",
      "[119/1000] 1 tree, 44 leaves, max depth = 21, train score: 0.95044, val score: 0.90491, in 0.894s\n",
      "[120/1000] 1 tree, 44 leaves, max depth = 19, train score: 0.95113, val score: 0.90518, in 0.372s\n",
      "[121/1000] 1 tree, 44 leaves, max depth = 17, train score: 0.95166, val score: 0.90564, in 0.375s\n",
      "[122/1000] 1 tree, 44 leaves, max depth = 18, train score: 0.95219, val score: 0.90593, in 0.391s\n",
      "[123/1000] 1 tree, 44 leaves, max depth = 20, train score: 0.95256, val score: 0.90592, in 0.385s\n",
      "[124/1000] 1 tree, 44 leaves, max depth = 20, train score: 0.95286, val score: 0.90610, in 0.385s\n",
      "[125/1000] 1 tree, 44 leaves, max depth = 21, train score: 0.95328, val score: 0.90690, in 0.403s\n",
      "[126/1000] 1 tree, 44 leaves, max depth = 24, train score: 0.95356, val score: 0.90707, in 0.504s\n",
      "[127/1000] 1 tree, 44 leaves, max depth = 23, train score: 0.95376, val score: 0.90751, in 0.632s\n",
      "[128/1000] 1 tree, 44 leaves, max depth = 12, train score: 0.95414, val score: 0.90742, in 0.657s\n",
      "[129/1000] 1 tree, 44 leaves, max depth = 15, train score: 0.95473, val score: 0.90763, in 0.677s\n",
      "[130/1000] 1 tree, 44 leaves, max depth = 25, train score: 0.95502, val score: 0.90782, in 0.660s\n",
      "[131/1000] 1 tree, 44 leaves, max depth = 16, train score: 0.95573, val score: 0.90782, in 1.062s\n",
      "[132/1000] 1 tree, 44 leaves, max depth = 19, train score: 0.95601, val score: 0.90791, in 0.433s\n",
      "[133/1000] 1 tree, 44 leaves, max depth = 17, train score: 0.95631, val score: 0.90810, in 0.397s\n",
      "[134/1000] 1 tree, 44 leaves, max depth = 9, train score: 0.95677, val score: 0.90818, in 0.449s\n",
      "[135/1000] 1 tree, 44 leaves, max depth = 14, train score: 0.95701, val score: 0.90852, in 0.394s\n",
      "[136/1000] 1 tree, 44 leaves, max depth = 20, train score: 0.95729, val score: 0.90867, in 0.388s\n",
      "[137/1000] 1 tree, 44 leaves, max depth = 20, train score: 0.95790, val score: 0.90908, in 0.392s\n",
      "[138/1000] 1 tree, 44 leaves, max depth = 19, train score: 0.95829, val score: 0.90914, in 0.517s\n",
      "[139/1000] 1 tree, 44 leaves, max depth = 16, train score: 0.95861, val score: 0.90939, in 0.629s\n",
      "[140/1000] 1 tree, 44 leaves, max depth = 23, train score: 0.95920, val score: 0.90975, in 0.661s\n",
      "[141/1000] 1 tree, 44 leaves, max depth = 22, train score: 0.95950, val score: 0.90997, in 0.642s\n",
      "[142/1000] 1 tree, 44 leaves, max depth = 18, train score: 0.95990, val score: 0.91018, in 0.692s\n",
      "[143/1000] 1 tree, 44 leaves, max depth = 19, train score: 0.96025, val score: 0.91039, in 0.750s\n",
      "[144/1000] 1 tree, 44 leaves, max depth = 22, train score: 0.96049, val score: 0.91060, in 0.909s\n",
      "[145/1000] 1 tree, 44 leaves, max depth = 20, train score: 0.96088, val score: 0.91061, in 0.476s\n",
      "[146/1000] 1 tree, 44 leaves, max depth = 21, train score: 0.96123, val score: 0.91093, in 0.405s\n",
      "[147/1000] 1 tree, 44 leaves, max depth = 24, train score: 0.96147, val score: 0.91096, in 0.412s\n",
      "[148/1000] 1 tree, 44 leaves, max depth = 17, train score: 0.96188, val score: 0.91088, in 0.433s\n",
      "[149/1000] 1 tree, 44 leaves, max depth = 14, train score: 0.96205, val score: 0.91107, in 0.486s\n",
      "[150/1000] 1 tree, 44 leaves, max depth = 18, train score: 0.96248, val score: 0.91126, in 0.474s\n",
      "[151/1000] 1 tree, 44 leaves, max depth = 19, train score: 0.96290, val score: 0.91141, in 0.598s\n",
      "[152/1000] 1 tree, 44 leaves, max depth = 18, train score: 0.96317, val score: 0.91156, in 0.740s\n",
      "[153/1000] 1 tree, 44 leaves, max depth = 17, train score: 0.96345, val score: 0.91137, in 0.664s\n",
      "[154/1000] 1 tree, 44 leaves, max depth = 19, train score: 0.96367, val score: 0.91166, in 0.691s\n",
      "[155/1000] 1 tree, 44 leaves, max depth = 22, train score: 0.96397, val score: 0.91203, in 0.722s\n",
      "[156/1000] 1 tree, 44 leaves, max depth = 16, train score: 0.96440, val score: 0.91223, in 1.096s\n",
      "[157/1000] 1 tree, 44 leaves, max depth = 16, train score: 0.96475, val score: 0.91250, in 0.396s\n",
      "[158/1000] 1 tree, 44 leaves, max depth = 17, train score: 0.96489, val score: 0.91243, in 0.379s\n",
      "[159/1000] 1 tree, 44 leaves, max depth = 18, train score: 0.96512, val score: 0.91281, in 0.449s\n",
      "[160/1000] 1 tree, 44 leaves, max depth = 18, train score: 0.96542, val score: 0.91274, in 0.421s\n",
      "[161/1000] 1 tree, 44 leaves, max depth = 12, train score: 0.96564, val score: 0.91313, in 0.440s\n",
      "[162/1000] 1 tree, 44 leaves, max depth = 21, train score: 0.96584, val score: 0.91334, in 0.413s\n",
      "[163/1000] 1 tree, 44 leaves, max depth = 23, train score: 0.96614, val score: 0.91317, in 0.618s\n",
      "[164/1000] 1 tree, 44 leaves, max depth = 18, train score: 0.96636, val score: 0.91334, in 0.730s\n",
      "[165/1000] 1 tree, 44 leaves, max depth = 14, train score: 0.96690, val score: 0.91351, in 0.692s\n",
      "[166/1000] 1 tree, 44 leaves, max depth = 19, train score: 0.96721, val score: 0.91379, in 0.706s\n",
      "[167/1000] 1 tree, 44 leaves, max depth = 12, train score: 0.96745, val score: 0.91383, in 0.683s\n",
      "[168/1000] 1 tree, 44 leaves, max depth = 16, train score: 0.96756, val score: 0.91372, in 1.240s\n"
     ]
    },
    {
     "name": "stdout",
     "output_type": "stream",
     "text": [
      "[169/1000] 1 tree, 44 leaves, max depth = 15, train score: 0.96779, val score: 0.91343, in 0.391s\n",
      "[170/1000] 1 tree, 44 leaves, max depth = 11, train score: 0.96792, val score: 0.91360, in 0.561s\n",
      "[171/1000] 1 tree, 44 leaves, max depth = 19, train score: 0.96812, val score: 0.91349, in 0.456s\n",
      "[172/1000] 1 tree, 44 leaves, max depth = 20, train score: 0.96830, val score: 0.91354, in 0.478s\n",
      "[173/1000] 1 tree, 44 leaves, max depth = 14, train score: 0.96863, val score: 0.91417, in 0.459s\n",
      "[174/1000] 1 tree, 44 leaves, max depth = 9, train score: 0.96885, val score: 0.91433, in 0.444s\n",
      "[175/1000] 1 tree, 44 leaves, max depth = 21, train score: 0.96893, val score: 0.91473, in 0.427s\n",
      "[176/1000] 1 tree, 44 leaves, max depth = 21, train score: 0.96929, val score: 0.91468, in 0.677s\n",
      "[177/1000] 1 tree, 44 leaves, max depth = 18, train score: 0.96939, val score: 0.91492, in 0.737s\n",
      "[178/1000] 1 tree, 44 leaves, max depth = 12, train score: 0.96957, val score: 0.91510, in 0.735s\n",
      "[179/1000] 1 tree, 44 leaves, max depth = 17, train score: 0.96969, val score: 0.91537, in 0.917s\n",
      "[180/1000] 1 tree, 44 leaves, max depth = 18, train score: 0.96982, val score: 0.91560, in 0.658s\n",
      "[181/1000] 1 tree, 44 leaves, max depth = 16, train score: 0.97008, val score: 0.91570, in 1.136s\n",
      "[182/1000] 1 tree, 44 leaves, max depth = 16, train score: 0.97018, val score: 0.91578, in 0.447s\n",
      "[183/1000] 1 tree, 44 leaves, max depth = 14, train score: 0.97058, val score: 0.91580, in 0.462s\n",
      "[184/1000] 1 tree, 44 leaves, max depth = 20, train score: 0.97083, val score: 0.91577, in 0.438s\n",
      "[185/1000] 1 tree, 44 leaves, max depth = 18, train score: 0.97098, val score: 0.91598, in 0.434s\n",
      "[186/1000] 1 tree, 44 leaves, max depth = 20, train score: 0.97106, val score: 0.91605, in 0.444s\n",
      "[187/1000] 1 tree, 44 leaves, max depth = 23, train score: 0.97119, val score: 0.91606, in 0.447s\n",
      "[188/1000] 1 tree, 44 leaves, max depth = 15, train score: 0.97139, val score: 0.91605, in 0.490s\n",
      "[189/1000] 1 tree, 44 leaves, max depth = 20, train score: 0.97148, val score: 0.91597, in 0.716s\n",
      "[190/1000] 1 tree, 44 leaves, max depth = 17, train score: 0.97156, val score: 0.91607, in 0.704s\n",
      "[191/1000] 1 tree, 44 leaves, max depth = 20, train score: 0.97170, val score: 0.91642, in 0.675s\n",
      "[192/1000] 1 tree, 44 leaves, max depth = 13, train score: 0.97201, val score: 0.91647, in 0.715s\n",
      "[193/1000] 1 tree, 44 leaves, max depth = 13, train score: 0.97232, val score: 0.91647, in 1.232s\n",
      "[194/1000] 1 tree, 44 leaves, max depth = 14, train score: 0.97262, val score: 0.91657, in 0.428s\n",
      "[195/1000] 1 tree, 44 leaves, max depth = 17, train score: 0.97274, val score: 0.91658, in 0.453s\n",
      "[196/1000] 1 tree, 44 leaves, max depth = 18, train score: 0.97303, val score: 0.91691, in 0.467s\n",
      "[197/1000] 1 tree, 44 leaves, max depth = 21, train score: 0.97315, val score: 0.91691, in 0.452s\n",
      "[198/1000] 1 tree, 44 leaves, max depth = 19, train score: 0.97340, val score: 0.91705, in 0.441s\n",
      "[199/1000] 1 tree, 44 leaves, max depth = 14, train score: 0.97356, val score: 0.91736, in 0.439s\n",
      "[200/1000] 1 tree, 44 leaves, max depth = 19, train score: 0.97375, val score: 0.91734, in 0.466s\n",
      "[201/1000] 1 tree, 44 leaves, max depth = 17, train score: 0.97383, val score: 0.91742, in 0.435s\n",
      "[202/1000] 1 tree, 44 leaves, max depth = 18, train score: 0.97396, val score: 0.91753, in 0.678s\n",
      "[203/1000] 1 tree, 44 leaves, max depth = 21, train score: 0.97404, val score: 0.91767, in 0.700s\n",
      "[204/1000] 1 tree, 44 leaves, max depth = 18, train score: 0.97415, val score: 0.91785, in 0.722s\n",
      "[205/1000] 1 tree, 44 leaves, max depth = 16, train score: 0.97421, val score: 0.91786, in 0.689s\n",
      "[206/1000] 1 tree, 44 leaves, max depth = 22, train score: 0.97427, val score: 0.91783, in 1.319s\n",
      "[207/1000] 1 tree, 44 leaves, max depth = 16, train score: 0.97433, val score: 0.91783, in 0.785s\n",
      "[208/1000] 1 tree, 44 leaves, max depth = 12, train score: 0.97450, val score: 0.91790, in 0.621s\n",
      "[209/1000] 1 tree, 44 leaves, max depth = 14, train score: 0.97456, val score: 0.91798, in 0.625s\n",
      "[210/1000] 1 tree, 44 leaves, max depth = 21, train score: 0.97466, val score: 0.91819, in 0.567s\n",
      "[211/1000] 1 tree, 44 leaves, max depth = 17, train score: 0.97489, val score: 0.91825, in 0.628s\n",
      "[212/1000] 1 tree, 44 leaves, max depth = 12, train score: 0.97495, val score: 0.91848, in 0.539s\n",
      "[213/1000] 1 tree, 44 leaves, max depth = 21, train score: 0.97503, val score: 0.91851, in 0.790s\n",
      "[214/1000] 1 tree, 44 leaves, max depth = 15, train score: 0.97504, val score: 0.91864, in 0.884s\n",
      "[215/1000] 1 tree, 44 leaves, max depth = 18, train score: 0.97511, val score: 0.91883, in 0.798s\n",
      "[216/1000] 1 tree, 44 leaves, max depth = 18, train score: 0.97533, val score: 0.91884, in 0.791s\n",
      "[217/1000] 1 tree, 44 leaves, max depth = 13, train score: 0.97555, val score: 0.91875, in 0.881s\n",
      "[218/1000] 1 tree, 44 leaves, max depth = 19, train score: 0.97560, val score: 0.91900, in 1.288s\n",
      "[219/1000] 1 tree, 44 leaves, max depth = 17, train score: 0.97581, val score: 0.91911, in 0.482s\n",
      "[220/1000] 1 tree, 44 leaves, max depth = 16, train score: 0.97598, val score: 0.91931, in 0.511s\n",
      "[221/1000] 1 tree, 44 leaves, max depth = 22, train score: 0.97605, val score: 0.91935, in 0.480s\n",
      "[222/1000] 1 tree, 44 leaves, max depth = 11, train score: 0.97620, val score: 0.91924, in 0.493s\n",
      "[223/1000] 1 tree, 44 leaves, max depth = 16, train score: 0.97634, val score: 0.91927, in 0.497s\n",
      "[224/1000] 1 tree, 44 leaves, max depth = 17, train score: 0.97649, val score: 0.91940, in 0.467s\n",
      "[225/1000] 1 tree, 44 leaves, max depth = 16, train score: 0.97653, val score: 0.91949, in 0.475s\n",
      "[226/1000] 1 tree, 44 leaves, max depth = 16, train score: 0.97683, val score: 0.91965, in 0.599s\n",
      "[227/1000] 1 tree, 44 leaves, max depth = 18, train score: 0.97697, val score: 0.91975, in 0.758s\n",
      "[228/1000] 1 tree, 44 leaves, max depth = 18, train score: 0.97701, val score: 0.91997, in 0.746s\n",
      "[229/1000] 1 tree, 44 leaves, max depth = 16, train score: 0.97712, val score: 0.92020, in 0.710s\n",
      "[230/1000] 1 tree, 44 leaves, max depth = 12, train score: 0.97724, val score: 0.92038, in 0.752s\n",
      "[231/1000] 1 tree, 44 leaves, max depth = 13, train score: 0.97734, val score: 0.92030, in 1.085s\n",
      "[232/1000] 1 tree, 44 leaves, max depth = 22, train score: 0.97744, val score: 0.92028, in 0.434s\n",
      "[233/1000] 1 tree, 44 leaves, max depth = 14, train score: 0.97750, val score: 0.92042, in 0.433s\n",
      "[234/1000] 1 tree, 44 leaves, max depth = 19, train score: 0.97769, val score: 0.92035, in 0.447s\n",
      "[235/1000] 1 tree, 44 leaves, max depth = 17, train score: 0.97792, val score: 0.92046, in 0.480s\n",
      "[236/1000] 1 tree, 44 leaves, max depth = 18, train score: 0.97803, val score: 0.92063, in 0.605s\n",
      "[237/1000] 1 tree, 44 leaves, max depth = 18, train score: 0.97812, val score: 0.92045, in 0.531s\n",
      "[238/1000] 1 tree, 44 leaves, max depth = 15, train score: 0.97820, val score: 0.92042, in 0.780s\n",
      "[239/1000] 1 tree, 44 leaves, max depth = 14, train score: 0.97835, val score: 0.92045, in 0.893s\n",
      "[240/1000] 1 tree, 44 leaves, max depth = 14, train score: 0.97841, val score: 0.92063, in 0.659s\n",
      "[241/1000] 1 tree, 44 leaves, max depth = 17, train score: 0.97850, val score: 0.92065, in 0.756s\n",
      "[242/1000] 1 tree, 44 leaves, max depth = 12, train score: 0.97859, val score: 0.92071, in 0.723s\n",
      "[243/1000] 1 tree, 44 leaves, max depth = 13, train score: 0.97870, val score: 0.92096, in 1.191s\n",
      "[244/1000] 1 tree, 44 leaves, max depth = 18, train score: 0.97882, val score: 0.92103, in 0.426s\n",
      "[245/1000] 1 tree, 44 leaves, max depth = 22, train score: 0.97892, val score: 0.92106, in 0.506s\n",
      "[246/1000] 1 tree, 44 leaves, max depth = 13, train score: 0.97903, val score: 0.92117, in 0.437s\n",
      "[247/1000] 1 tree, 44 leaves, max depth = 18, train score: 0.97916, val score: 0.92126, in 0.433s\n",
      "[248/1000] 1 tree, 44 leaves, max depth = 17, train score: 0.97943, val score: 0.92135, in 0.457s\n",
      "[249/1000] 1 tree, 44 leaves, max depth = 16, train score: 0.97946, val score: 0.92139, in 0.463s\n",
      "[250/1000] 1 tree, 44 leaves, max depth = 19, train score: 0.97966, val score: 0.92146, in 0.452s\n",
      "[251/1000] 1 tree, 44 leaves, max depth = 17, train score: 0.97970, val score: 0.92151, in 0.440s\n",
      "[252/1000] 1 tree, 44 leaves, max depth = 10, train score: 0.97981, val score: 0.92169, in 0.627s\n"
     ]
    },
    {
     "name": "stdout",
     "output_type": "stream",
     "text": [
      "[253/1000] 1 tree, 44 leaves, max depth = 20, train score: 0.97987, val score: 0.92167, in 0.760s\n",
      "[254/1000] 1 tree, 44 leaves, max depth = 16, train score: 0.98000, val score: 0.92181, in 0.696s\n",
      "[255/1000] 1 tree, 44 leaves, max depth = 22, train score: 0.98009, val score: 0.92190, in 0.775s\n",
      "[256/1000] 1 tree, 44 leaves, max depth = 14, train score: 0.98023, val score: 0.92193, in 1.145s\n",
      "[257/1000] 1 tree, 44 leaves, max depth = 17, train score: 0.98042, val score: 0.92209, in 0.430s\n",
      "[258/1000] 1 tree, 44 leaves, max depth = 14, train score: 0.98048, val score: 0.92213, in 0.440s\n",
      "[259/1000] 1 tree, 44 leaves, max depth = 17, train score: 0.98054, val score: 0.92219, in 0.443s\n",
      "[260/1000] 1 tree, 44 leaves, max depth = 18, train score: 0.98062, val score: 0.92238, in 0.464s\n",
      "[261/1000] 1 tree, 44 leaves, max depth = 13, train score: 0.98076, val score: 0.92245, in 0.462s\n",
      "[262/1000] 1 tree, 44 leaves, max depth = 17, train score: 0.98087, val score: 0.92256, in 0.466s\n",
      "[263/1000] 1 tree, 44 leaves, max depth = 15, train score: 0.98097, val score: 0.92258, in 0.468s\n",
      "[264/1000] 1 tree, 44 leaves, max depth = 16, train score: 0.98106, val score: 0.92272, in 0.700s\n",
      "[265/1000] 1 tree, 44 leaves, max depth = 13, train score: 0.98122, val score: 0.92294, in 0.772s\n",
      "[266/1000] 1 tree, 44 leaves, max depth = 17, train score: 0.98130, val score: 0.92282, in 0.727s\n",
      "[267/1000] 1 tree, 44 leaves, max depth = 18, train score: 0.98143, val score: 0.92300, in 0.704s\n",
      "[268/1000] 1 tree, 44 leaves, max depth = 13, train score: 0.98156, val score: 0.92322, in 1.212s\n",
      "[269/1000] 1 tree, 44 leaves, max depth = 25, train score: 0.98169, val score: 0.92315, in 0.438s\n",
      "[270/1000] 1 tree, 44 leaves, max depth = 13, train score: 0.98179, val score: 0.92347, in 0.485s\n",
      "[271/1000] 1 tree, 44 leaves, max depth = 12, train score: 0.98188, val score: 0.92363, in 0.441s\n",
      "[272/1000] 1 tree, 44 leaves, max depth = 13, train score: 0.98193, val score: 0.92352, in 0.452s\n",
      "[273/1000] 1 tree, 44 leaves, max depth = 15, train score: 0.98208, val score: 0.92345, in 0.458s\n",
      "[274/1000] 1 tree, 44 leaves, max depth = 14, train score: 0.98215, val score: 0.92339, in 0.459s\n",
      "[275/1000] 1 tree, 44 leaves, max depth = 21, train score: 0.98227, val score: 0.92347, in 0.454s\n",
      "[276/1000] 1 tree, 44 leaves, max depth = 12, train score: 0.98238, val score: 0.92355, in 0.460s\n",
      "[277/1000] 1 tree, 44 leaves, max depth = 13, train score: 0.98245, val score: 0.92354, in 0.680s\n",
      "[278/1000] 1 tree, 44 leaves, max depth = 16, train score: 0.98250, val score: 0.92355, in 0.705s\n",
      "[279/1000] 1 tree, 44 leaves, max depth = 17, train score: 0.98266, val score: 0.92368, in 0.726s\n",
      "[280/1000] 1 tree, 44 leaves, max depth = 12, train score: 0.98276, val score: 0.92385, in 0.751s\n",
      "[281/1000] 1 tree, 44 leaves, max depth = 13, train score: 0.98281, val score: 0.92388, in 1.102s\n",
      "[282/1000] 1 tree, 44 leaves, max depth = 17, train score: 0.98282, val score: 0.92394, in 0.441s\n",
      "[283/1000] 1 tree, 44 leaves, max depth = 17, train score: 0.98283, val score: 0.92399, in 0.449s\n",
      "[284/1000] 1 tree, 44 leaves, max depth = 20, train score: 0.98297, val score: 0.92405, in 0.441s\n",
      "[285/1000] 1 tree, 44 leaves, max depth = 12, train score: 0.98308, val score: 0.92409, in 0.436s\n",
      "[286/1000] 1 tree, 44 leaves, max depth = 19, train score: 0.98315, val score: 0.92430, in 0.473s\n",
      "[287/1000] 1 tree, 44 leaves, max depth = 16, train score: 0.98325, val score: 0.92447, in 0.447s\n",
      "[288/1000] 1 tree, 44 leaves, max depth = 15, train score: 0.98333, val score: 0.92447, in 0.472s\n",
      "[289/1000] 1 tree, 44 leaves, max depth = 14, train score: 0.98344, val score: 0.92453, in 0.673s\n",
      "[290/1000] 1 tree, 44 leaves, max depth = 16, train score: 0.98359, val score: 0.92469, in 0.763s\n",
      "[291/1000] 1 tree, 44 leaves, max depth = 19, train score: 0.98368, val score: 0.92480, in 0.721s\n",
      "[292/1000] 1 tree, 44 leaves, max depth = 13, train score: 0.98378, val score: 0.92488, in 0.719s\n",
      "[293/1000] 1 tree, 44 leaves, max depth = 11, train score: 0.98385, val score: 0.92486, in 0.737s\n",
      "[294/1000] 1 tree, 44 leaves, max depth = 11, train score: 0.98393, val score: 0.92499, in 0.889s\n",
      "[295/1000] 1 tree, 44 leaves, max depth = 14, train score: 0.98398, val score: 0.92490, in 0.473s\n",
      "[296/1000] 1 tree, 44 leaves, max depth = 18, train score: 0.98403, val score: 0.92488, in 0.440s\n",
      "[297/1000] 1 tree, 44 leaves, max depth = 16, train score: 0.98416, val score: 0.92484, in 0.452s\n",
      "[298/1000] 1 tree, 44 leaves, max depth = 15, train score: 0.98429, val score: 0.92503, in 0.461s\n",
      "[299/1000] 1 tree, 44 leaves, max depth = 15, train score: 0.98436, val score: 0.92495, in 0.630s\n",
      "[300/1000] 1 tree, 44 leaves, max depth = 16, train score: 0.98442, val score: 0.92508, in 0.458s\n",
      "[301/1000] 1 tree, 44 leaves, max depth = 15, train score: 0.98448, val score: 0.92502, in 0.462s\n",
      "[302/1000] 1 tree, 44 leaves, max depth = 13, train score: 0.98458, val score: 0.92497, in 0.812s\n",
      "[303/1000] 1 tree, 44 leaves, max depth = 12, train score: 0.98464, val score: 0.92494, in 0.772s\n",
      "[304/1000] 1 tree, 44 leaves, max depth = 13, train score: 0.98469, val score: 0.92495, in 0.744s\n",
      "[305/1000] 1 tree, 44 leaves, max depth = 17, train score: 0.98473, val score: 0.92498, in 0.733s\n",
      "[306/1000] 1 tree, 44 leaves, max depth = 15, train score: 0.98482, val score: 0.92492, in 1.084s\n",
      "[307/1000] 1 tree, 44 leaves, max depth = 14, train score: 0.98498, val score: 0.92506, in 0.450s\n",
      "[308/1000] 1 tree, 44 leaves, max depth = 16, train score: 0.98501, val score: 0.92509, in 0.434s\n",
      "[309/1000] 1 tree, 44 leaves, max depth = 15, train score: 0.98505, val score: 0.92505, in 0.443s\n",
      "[310/1000] 1 tree, 44 leaves, max depth = 15, train score: 0.98509, val score: 0.92519, in 0.447s\n",
      "[311/1000] 1 tree, 44 leaves, max depth = 21, train score: 0.98514, val score: 0.92523, in 0.454s\n",
      "[312/1000] 1 tree, 44 leaves, max depth = 17, train score: 0.98523, val score: 0.92530, in 0.469s\n",
      "[313/1000] 1 tree, 44 leaves, max depth = 16, train score: 0.98529, val score: 0.92536, in 0.456s\n",
      "[314/1000] 1 tree, 44 leaves, max depth = 15, train score: 0.98536, val score: 0.92544, in 0.876s\n",
      "[315/1000] 1 tree, 44 leaves, max depth = 14, train score: 0.98545, val score: 0.92554, in 0.786s\n",
      "[316/1000] 1 tree, 44 leaves, max depth = 11, train score: 0.98552, val score: 0.92537, in 1.053s\n",
      "[317/1000] 1 tree, 44 leaves, max depth = 18, train score: 0.98556, val score: 0.92533, in 1.088s\n",
      "[318/1000] 1 tree, 44 leaves, max depth = 16, train score: 0.98559, val score: 0.92529, in 1.159s\n",
      "[319/1000] 1 tree, 44 leaves, max depth = 15, train score: 0.98566, val score: 0.92523, in 0.983s\n",
      "[320/1000] 1 tree, 44 leaves, max depth = 18, train score: 0.98571, val score: 0.92538, in 0.528s\n",
      "[321/1000] 1 tree, 44 leaves, max depth = 22, train score: 0.98581, val score: 0.92529, in 0.478s\n",
      "[322/1000] 1 tree, 44 leaves, max depth = 16, train score: 0.98586, val score: 0.92530, in 0.488s\n",
      "[323/1000] 1 tree, 44 leaves, max depth = 19, train score: 0.98599, val score: 0.92540, in 0.499s\n",
      "[324/1000] 1 tree, 44 leaves, max depth = 18, train score: 0.98604, val score: 0.92545, in 0.517s\n",
      "[325/1000] 1 tree, 44 leaves, max depth = 11, train score: 0.98625, val score: 0.92561, in 0.521s\n",
      "[326/1000] 1 tree, 44 leaves, max depth = 12, train score: 0.98630, val score: 0.92567, in 0.501s\n",
      "[327/1000] 1 tree, 44 leaves, max depth = 12, train score: 0.98641, val score: 0.92550, in 0.709s\n",
      "[328/1000] 1 tree, 44 leaves, max depth = 12, train score: 0.98644, val score: 0.92548, in 0.748s\n",
      "[329/1000] 1 tree, 44 leaves, max depth = 15, train score: 0.98650, val score: 0.92557, in 0.850s\n",
      "[330/1000] 1 tree, 44 leaves, max depth = 12, train score: 0.98653, val score: 0.92559, in 1.035s\n",
      "[331/1000] 1 tree, 44 leaves, max depth = 12, train score: 0.98660, val score: 0.92564, in 1.272s\n",
      "[332/1000] 1 tree, 44 leaves, max depth = 17, train score: 0.98665, val score: 0.92557, in 0.495s\n",
      "[333/1000] 1 tree, 44 leaves, max depth = 16, train score: 0.98671, val score: 0.92557, in 0.496s\n",
      "[334/1000] 1 tree, 44 leaves, max depth = 12, train score: 0.98673, val score: 0.92552, in 0.541s\n",
      "[335/1000] 1 tree, 44 leaves, max depth = 15, train score: 0.98675, val score: 0.92559, in 0.782s\n",
      "[336/1000] 1 tree, 44 leaves, max depth = 17, train score: 0.98682, val score: 0.92587, in 0.547s\n"
     ]
    },
    {
     "name": "stdout",
     "output_type": "stream",
     "text": [
      "[337/1000] 1 tree, 44 leaves, max depth = 16, train score: 0.98687, val score: 0.92591, in 0.725s\n",
      "[338/1000] 1 tree, 44 leaves, max depth = 14, train score: 0.98700, val score: 0.92603, in 0.690s\n",
      "[339/1000] 1 tree, 44 leaves, max depth = 17, train score: 0.98706, val score: 0.92607, in 1.038s\n",
      "[340/1000] 1 tree, 44 leaves, max depth = 13, train score: 0.98709, val score: 0.92620, in 0.805s\n",
      "[341/1000] 1 tree, 44 leaves, max depth = 15, train score: 0.98721, val score: 0.92622, in 0.812s\n",
      "[342/1000] 1 tree, 44 leaves, max depth = 16, train score: 0.98733, val score: 0.92639, in 1.163s\n",
      "[343/1000] 1 tree, 44 leaves, max depth = 13, train score: 0.98736, val score: 0.92632, in 1.388s\n",
      "[344/1000] 1 tree, 44 leaves, max depth = 19, train score: 0.98738, val score: 0.92626, in 1.273s\n",
      "[345/1000] 1 tree, 44 leaves, max depth = 18, train score: 0.98741, val score: 0.92622, in 0.814s\n",
      "[346/1000] 1 tree, 44 leaves, max depth = 19, train score: 0.98744, val score: 0.92621, in 0.605s\n",
      "[347/1000] 1 tree, 44 leaves, max depth = 14, train score: 0.98746, val score: 0.92621, in 0.532s\n",
      "[348/1000] 1 tree, 44 leaves, max depth = 18, train score: 0.98750, val score: 0.92625, in 0.483s\n",
      "[349/1000] 1 tree, 44 leaves, max depth = 23, train score: 0.98757, val score: 0.92623, in 0.499s\n",
      "[350/1000] 1 tree, 44 leaves, max depth = 10, train score: 0.98759, val score: 0.92631, in 0.537s\n",
      "[351/1000] 1 tree, 44 leaves, max depth = 13, train score: 0.98763, val score: 0.92634, in 0.827s\n",
      "[352/1000] 1 tree, 44 leaves, max depth = 15, train score: 0.98768, val score: 0.92645, in 0.833s\n",
      "[353/1000] 1 tree, 44 leaves, max depth = 18, train score: 0.98776, val score: 0.92651, in 0.770s\n",
      "[354/1000] 1 tree, 44 leaves, max depth = 16, train score: 0.98781, val score: 0.92666, in 0.683s\n",
      "[355/1000] 1 tree, 44 leaves, max depth = 9, train score: 0.98787, val score: 0.92657, in 0.762s\n",
      "[356/1000] 1 tree, 44 leaves, max depth = 16, train score: 0.98793, val score: 0.92667, in 1.092s\n",
      "[357/1000] 1 tree, 44 leaves, max depth = 15, train score: 0.98794, val score: 0.92674, in 0.490s\n",
      "[358/1000] 1 tree, 44 leaves, max depth = 16, train score: 0.98804, val score: 0.92686, in 0.466s\n",
      "[359/1000] 1 tree, 44 leaves, max depth = 21, train score: 0.98810, val score: 0.92688, in 0.511s\n",
      "[360/1000] 1 tree, 44 leaves, max depth = 18, train score: 0.98811, val score: 0.92693, in 0.508s\n",
      "[361/1000] 1 tree, 44 leaves, max depth = 20, train score: 0.98812, val score: 0.92692, in 0.495s\n",
      "[362/1000] 1 tree, 44 leaves, max depth = 12, train score: 0.98823, val score: 0.92709, in 0.565s\n",
      "[363/1000] 1 tree, 44 leaves, max depth = 17, train score: 0.98828, val score: 0.92731, in 0.853s\n",
      "[364/1000] 1 tree, 44 leaves, max depth = 10, train score: 0.98833, val score: 0.92736, in 0.979s\n",
      "[365/1000] 1 tree, 44 leaves, max depth = 12, train score: 0.98841, val score: 0.92754, in 1.389s\n",
      "[366/1000] 1 tree, 44 leaves, max depth = 17, train score: 0.98850, val score: 0.92756, in 0.971s\n",
      "[367/1000] 1 tree, 44 leaves, max depth = 13, train score: 0.98860, val score: 0.92772, in 1.025s\n",
      "[368/1000] 1 tree, 44 leaves, max depth = 11, train score: 0.98863, val score: 0.92771, in 0.901s\n",
      "[369/1000] 1 tree, 44 leaves, max depth = 14, train score: 0.98869, val score: 0.92771, in 1.026s\n",
      "[370/1000] 1 tree, 44 leaves, max depth = 15, train score: 0.98871, val score: 0.92780, in 0.616s\n",
      "[371/1000] 1 tree, 44 leaves, max depth = 12, train score: 0.98875, val score: 0.92775, in 0.626s\n",
      "[372/1000] 1 tree, 44 leaves, max depth = 15, train score: 0.98880, val score: 0.92797, in 0.550s\n",
      "[373/1000] 1 tree, 44 leaves, max depth = 14, train score: 0.98886, val score: 0.92815, in 0.593s\n",
      "[374/1000] 1 tree, 44 leaves, max depth = 11, train score: 0.98900, val score: 0.92807, in 0.669s\n",
      "[375/1000] 1 tree, 44 leaves, max depth = 19, train score: 0.98902, val score: 0.92813, in 0.534s\n",
      "[376/1000] 1 tree, 44 leaves, max depth = 16, train score: 0.98905, val score: 0.92805, in 0.728s\n",
      "[377/1000] 1 tree, 44 leaves, max depth = 10, train score: 0.98913, val score: 0.92810, in 1.125s\n",
      "[378/1000] 1 tree, 44 leaves, max depth = 18, train score: 0.98916, val score: 0.92829, in 1.054s\n",
      "[379/1000] 1 tree, 44 leaves, max depth = 10, train score: 0.98924, val score: 0.92837, in 0.891s\n",
      "[380/1000] 1 tree, 44 leaves, max depth = 12, train score: 0.98928, val score: 0.92835, in 0.927s\n",
      "[381/1000] 1 tree, 44 leaves, max depth = 20, train score: 0.98933, val score: 0.92835, in 1.387s\n",
      "[382/1000] 1 tree, 44 leaves, max depth = 17, train score: 0.98940, val score: 0.92833, in 0.673s\n",
      "[383/1000] 1 tree, 44 leaves, max depth = 17, train score: 0.98946, val score: 0.92844, in 0.668s\n",
      "[384/1000] 1 tree, 44 leaves, max depth = 12, train score: 0.98954, val score: 0.92854, in 0.656s\n",
      "[385/1000] 1 tree, 44 leaves, max depth = 10, train score: 0.98958, val score: 0.92865, in 0.658s\n",
      "[386/1000] 1 tree, 44 leaves, max depth = 13, train score: 0.98963, val score: 0.92865, in 0.601s\n",
      "[387/1000] 1 tree, 44 leaves, max depth = 14, train score: 0.98968, val score: 0.92855, in 0.584s\n",
      "[388/1000] 1 tree, 44 leaves, max depth = 15, train score: 0.98977, val score: 0.92854, in 0.672s\n",
      "[389/1000] 1 tree, 44 leaves, max depth = 13, train score: 0.98987, val score: 0.92869, in 0.868s\n",
      "[390/1000] 1 tree, 44 leaves, max depth = 18, train score: 0.98994, val score: 0.92867, in 0.844s\n",
      "[391/1000] 1 tree, 44 leaves, max depth = 11, train score: 0.99002, val score: 0.92863, in 0.844s\n",
      "[392/1000] 1 tree, 44 leaves, max depth = 19, train score: 0.99004, val score: 0.92853, in 0.831s\n",
      "[393/1000] 1 tree, 44 leaves, max depth = 16, train score: 0.99012, val score: 0.92850, in 0.899s\n",
      "[394/1000] 1 tree, 44 leaves, max depth = 16, train score: 0.99014, val score: 0.92843, in 1.191s\n",
      "[395/1000] 1 tree, 44 leaves, max depth = 17, train score: 0.99016, val score: 0.92846, in 2.288s\n",
      "[396/1000] 1 tree, 44 leaves, max depth = 17, train score: 0.99020, val score: 0.92855, in 0.526s\n",
      "[397/1000] 1 tree, 44 leaves, max depth = 16, train score: 0.99023, val score: 0.92881, in 0.573s\n",
      "[398/1000] 1 tree, 44 leaves, max depth = 15, train score: 0.99025, val score: 0.92890, in 0.526s\n",
      "[399/1000] 1 tree, 44 leaves, max depth = 17, train score: 0.99033, val score: 0.92885, in 0.519s\n",
      "[400/1000] 1 tree, 44 leaves, max depth = 16, train score: 0.99042, val score: 0.92882, in 0.544s\n",
      "[401/1000] 1 tree, 44 leaves, max depth = 16, train score: 0.99045, val score: 0.92895, in 0.528s\n",
      "[402/1000] 1 tree, 44 leaves, max depth = 10, train score: 0.99051, val score: 0.92909, in 0.535s\n",
      "[403/1000] 1 tree, 44 leaves, max depth = 16, train score: 0.99055, val score: 0.92911, in 0.540s\n",
      "[404/1000] 1 tree, 44 leaves, max depth = 16, train score: 0.99057, val score: 0.92911, in 0.529s\n",
      "[405/1000] 1 tree, 44 leaves, max depth = 10, train score: 0.99061, val score: 0.92922, in 0.556s\n",
      "[406/1000] 1 tree, 44 leaves, max depth = 12, train score: 0.99066, val score: 0.92932, in 0.843s\n",
      "[407/1000] 1 tree, 44 leaves, max depth = 14, train score: 0.99068, val score: 0.92916, in 1.217s\n",
      "[408/1000] 1 tree, 44 leaves, max depth = 12, train score: 0.99076, val score: 0.92920, in 0.637s\n",
      "[409/1000] 1 tree, 44 leaves, max depth = 18, train score: 0.99078, val score: 0.92924, in 0.510s\n",
      "[410/1000] 1 tree, 44 leaves, max depth = 13, train score: 0.99080, val score: 0.92926, in 0.721s\n",
      "[411/1000] 1 tree, 44 leaves, max depth = 12, train score: 0.99084, val score: 0.92930, in 0.637s\n",
      "[412/1000] 1 tree, 44 leaves, max depth = 19, train score: 0.99090, val score: 0.92922, in 0.717s\n",
      "[413/1000] 1 tree, 44 leaves, max depth = 14, train score: 0.99092, val score: 0.92927, in 0.571s\n",
      "[414/1000] 1 tree, 44 leaves, max depth = 9, train score: 0.99096, val score: 0.92936, in 0.607s\n",
      "[415/1000] 1 tree, 44 leaves, max depth = 16, train score: 0.99102, val score: 0.92941, in 0.542s\n",
      "[416/1000] 1 tree, 44 leaves, max depth = 16, train score: 0.99111, val score: 0.92937, in 0.564s\n",
      "[417/1000] 1 tree, 44 leaves, max depth = 18, train score: 0.99112, val score: 0.92938, in 0.687s\n",
      "[418/1000] 1 tree, 44 leaves, max depth = 9, train score: 0.99115, val score: 0.92943, in 0.799s\n",
      "[419/1000] 1 tree, 44 leaves, max depth = 15, train score: 0.99119, val score: 0.92960, in 1.216s\n",
      "[420/1000] 1 tree, 44 leaves, max depth = 14, train score: 0.99122, val score: 0.92966, in 0.513s\n"
     ]
    },
    {
     "name": "stdout",
     "output_type": "stream",
     "text": [
      "[421/1000] 1 tree, 44 leaves, max depth = 16, train score: 0.99123, val score: 0.92969, in 0.502s\n",
      "[422/1000] 1 tree, 44 leaves, max depth = 19, train score: 0.99136, val score: 0.92972, in 0.547s\n",
      "[423/1000] 1 tree, 44 leaves, max depth = 12, train score: 0.99140, val score: 0.92957, in 0.563s\n",
      "[424/1000] 1 tree, 44 leaves, max depth = 16, train score: 0.99142, val score: 0.92949, in 0.584s\n",
      "[425/1000] 1 tree, 44 leaves, max depth = 13, train score: 0.99145, val score: 0.92944, in 0.586s\n",
      "[426/1000] 1 tree, 44 leaves, max depth = 17, train score: 0.99145, val score: 0.92948, in 0.525s\n",
      "[427/1000] 1 tree, 44 leaves, max depth = 19, train score: 0.99150, val score: 0.92943, in 0.530s\n",
      "[428/1000] 1 tree, 44 leaves, max depth = 11, train score: 0.99155, val score: 0.92950, in 0.749s\n",
      "[429/1000] 1 tree, 44 leaves, max depth = 13, train score: 0.99158, val score: 0.92944, in 0.829s\n",
      "[430/1000] 1 tree, 44 leaves, max depth = 18, train score: 0.99160, val score: 0.92945, in 0.824s\n",
      "[431/1000] 1 tree, 44 leaves, max depth = 17, train score: 0.99163, val score: 0.92948, in 0.779s\n",
      "[432/1000] 1 tree, 44 leaves, max depth = 12, train score: 0.99166, val score: 0.92953, in 0.986s\n",
      "Fit 432 trees in 267.350 s, (19008 total leaves)\n",
      "Time spent computing histograms: 136.263s\n",
      "Time spent finding best splits:  21.058s\n",
      "Time spent applying splits:      21.196s\n",
      "Time spent predicting:           1.130s\n",
      "CPU times: user 19min 38s, sys: 7min 37s, total: 27min 15s\n",
      "Wall time: 4min 28s\n"
     ]
    },
    {
     "data": {
      "text/plain": [
       "(0.9844357994538068, 0.8698689690377148)"
      ]
     },
     "execution_count": 39,
     "metadata": {},
     "output_type": "execute_result"
    }
   ],
   "source": [
    "%%time\n",
    "clf = HistGradientBoostingClassifier(loss='binary_crossentropy', verbose=1, l2_regularization=2.4,\n",
    "                             learning_rate=0.03, max_depth=27, max_iter=1000, max_leaf_nodes=44,\n",
    "                             min_samples_leaf=8,  scoring='roc_auc', tol=1e-8)\n",
    "clf.fit(xs, y)\n",
    "m_roc(y, xs), m_roc(valid_y, valid_xs)"
   ]
  },
  {
   "cell_type": "markdown",
   "metadata": {
    "heading_collapsed": true
   },
   "source": [
    "## GradientBoostingClassifier "
   ]
  },
  {
   "cell_type": "markdown",
   "metadata": {
    "hidden": true
   },
   "source": [
    "HistGradientBoostingClassifier is recommended for datasets with a large number of classes. Since this is a binary classification problem, I decided to try the more established GradientBoostingClassifier class also."
   ]
  },
  {
   "cell_type": "code",
   "execution_count": 49,
   "metadata": {
    "hidden": true
   },
   "outputs": [],
   "source": [
    "from sklearn.ensemble import GradientBoostingClassifier "
   ]
  },
  {
   "cell_type": "code",
   "execution_count": 117,
   "metadata": {
    "hidden": true
   },
   "outputs": [],
   "source": [
    "GradientBoostingClassifier?"
   ]
  },
  {
   "cell_type": "code",
   "execution_count": 58,
   "metadata": {
    "hidden": true
   },
   "outputs": [],
   "source": [
    "# Tabular object created and saved on the 02_ notebook\n",
    "to = (path/'to.pkl').load()\n",
    "\n",
    "xs, y = to.train.xs, to.train.y\n",
    "valid_xs, valid_y = to.valid.xs, to.valid.y"
   ]
  },
  {
   "cell_type": "markdown",
   "metadata": {
    "heading_collapsed": true,
    "hidden": true
   },
   "source": [
    "### Defaults"
   ]
  },
  {
   "cell_type": "markdown",
   "metadata": {
    "hidden": true
   },
   "source": [
    "n_estimators was increased to 1000 from its default value of 100."
   ]
  },
  {
   "cell_type": "code",
   "execution_count": 61,
   "metadata": {
    "hidden": true
   },
   "outputs": [
    {
     "name": "stdout",
     "output_type": "stream",
     "text": [
      "      Iter       Train Loss   Remaining Time \n",
      "         1           0.2858            3.30m\n",
      "         2           0.2787            3.31m\n",
      "         3           0.2732            3.41m\n",
      "         4           0.2681            3.42m\n",
      "         5           0.2632            3.47m\n",
      "         6           0.2587            3.47m\n",
      "         7           0.2550            3.47m\n",
      "         8           0.2521            3.47m\n",
      "         9           0.2490            3.47m\n",
      "        10           0.2456            3.46m\n",
      "        20           0.2276            3.40m\n",
      "        30           0.2183            3.34m\n",
      "        40           0.2126            3.27m\n",
      "        50           0.2085            3.23m\n",
      "        60           0.2047            3.22m\n",
      "        70           0.2017            3.20m\n",
      "        80           0.1991            3.17m\n",
      "        90           0.1969            3.15m\n",
      "       100           0.1948            3.12m\n",
      "       200           0.1771            2.83m\n",
      "       300           0.1646            2.52m\n",
      "       400           0.1558            2.20m\n",
      "       500           0.1467            1.88m\n",
      "       600           0.1393            1.52m\n",
      "       700           0.1293            1.17m\n",
      "       800           0.1228           47.64s\n",
      "       900           0.1158           23.92s\n",
      "      1000           0.1093            0.00s\n"
     ]
    },
    {
     "data": {
      "text/plain": [
       "(0.9705755015972327, 0.8568501495478038)"
      ]
     },
     "execution_count": 61,
     "metadata": {},
     "output_type": "execute_result"
    }
   ],
   "source": [
    "clf = GradientBoostingClassifier(loss='deviance', n_estimators=1000, verbose=1)\n",
    "clf.fit(xs, y)\n",
    "m_roc(y, xs), m_roc(valid_y, valid_xs)"
   ]
  },
  {
   "cell_type": "markdown",
   "metadata": {
    "hidden": true
   },
   "source": [
    "### Hyperparameter Tuning"
   ]
  },
  {
   "cell_type": "code",
   "execution_count": 63,
   "metadata": {
    "hidden": true
   },
   "outputs": [],
   "source": [
    "parameters1 = {\n",
    "    'learning_rate': [0.01, 0.1, 0.2, 0.3],\n",
    "    'n_estimators': [40, 50, 60, 70, 1000]\n",
    "}"
   ]
  },
  {
   "cell_type": "code",
   "execution_count": 72,
   "metadata": {
    "hidden": true
   },
   "outputs": [],
   "source": [
    "parameters2 = {\n",
    " 'max_depth': [3, 6, 9, 12],\n",
    " 'subsample': [0.8, 0.66],\n",
    " 'min_samples_split': [2, 5, 10],\n",
    " 'max_leaf_nodes': [None, 20, 31, 40],\n",
    " 'min_samples_leaf': [1, 5],\n",
    " 'random_state': [33],\n",
    " }"
   ]
  },
  {
   "cell_type": "code",
   "execution_count": 78,
   "metadata": {
    "hidden": true
   },
   "outputs": [],
   "source": [
    "parameters3 = {\n",
    " 'max_depth': [8, 9, 10],\n",
    " 'subsample': [0.60, 0.66, 0.72],\n",
    " 'min_samples_split': [3, 5, 8],\n",
    " 'max_leaf_nodes': [None, 45, 50, 60],\n",
    " 'min_samples_leaf': [5, 7, 9],\n",
    " 'random_state': [33],\n",
    "}"
   ]
  },
  {
   "cell_type": "code",
   "execution_count": 81,
   "metadata": {
    "hidden": true
   },
   "outputs": [],
   "source": [
    "parameters4 = {\n",
    " 'max_depth': [8, 9, 10],\n",
    " 'subsample': [0.68, 0.72, 0.76],\n",
    " 'min_samples_split': [1, 2, 3],\n",
    " 'max_leaf_nodes': [50, 52, 54],\n",
    " 'min_samples_leaf': [6, 7, 8],\n",
    " 'random_state': [33],\n",
    " }"
   ]
  },
  {
   "cell_type": "code",
   "execution_count": 99,
   "metadata": {
    "hidden": true
   },
   "outputs": [],
   "source": [
    "parameters5 = {\n",
    "    'n_estimators': [40, 50, 60, 70, 100, 1000]\n",
    "}"
   ]
  },
  {
   "cell_type": "code",
   "execution_count": 100,
   "metadata": {
    "hidden": true
   },
   "outputs": [],
   "source": [
    "clf = GridSearchCV(GradientBoostingClassifier(loss='deviance', learning_rate=0.1, \n",
    "                         criterion='friedman_mse', tol=1e-8, max_features='sqrt',\n",
    "                                subsample=0.72, min_samples_split=6, \n",
    "                                max_leaf_nodes=52, max_depth=10), \n",
    "                         parameters5, \n",
    "                   scoring=make_scorer(roc_auc_score, needs_proba=True), n_jobs=-1)"
   ]
  },
  {
   "cell_type": "code",
   "execution_count": 101,
   "metadata": {
    "hidden": true
   },
   "outputs": [
    {
     "name": "stdout",
     "output_type": "stream",
     "text": [
      "CPU times: user 1min 12s, sys: 1.32 s, total: 1min 13s\n",
      "Wall time: 4min 14s\n"
     ]
    },
    {
     "data": {
      "text/plain": [
       "(GradientBoostingClassifier(max_depth=10, max_features='sqrt', max_leaf_nodes=52,\n",
       "                            min_samples_split=6, n_estimators=1000,\n",
       "                            subsample=0.72, tol=1e-08),\n",
       " 0.8841218032816766,\n",
       " {'n_estimators': 1000})"
      ]
     },
     "execution_count": 101,
     "metadata": {},
     "output_type": "execute_result"
    }
   ],
   "source": [
    "%%time\n",
    "clf.fit(xs, y)\n",
    "clf.best_estimator_, clf.best_score_, clf.best_params_"
   ]
  },
  {
   "cell_type": "code",
   "execution_count": 104,
   "metadata": {
    "hidden": true
   },
   "outputs": [
    {
     "name": "stdout",
     "output_type": "stream",
     "text": [
      "      Iter       Train Loss      OOB Improve   Remaining Time \n",
      "         1           0.2693           0.0407            1.12m\n",
      "         2           0.2610           0.0080            1.04m\n",
      "         3           0.2520           0.0075           59.71s\n",
      "         4           0.2429           0.0055            1.08m\n",
      "         5           0.2422           0.0028            1.06m\n",
      "         6           0.2346           0.0033            1.05m\n",
      "         7           0.2353           0.0050            1.04m\n",
      "         8           0.2226           0.0042            1.03m\n",
      "         9           0.2224           0.0027            1.03m\n",
      "        10           0.2239           0.0020            1.04m\n",
      "        20           0.1882           0.0006            1.07m\n",
      "        30           0.1758           0.0002            1.03m\n",
      "        40           0.1648          -0.0000            1.03m\n",
      "        50           0.1593          -0.0001            1.03m\n",
      "        60           0.1503          -0.0010            1.02m\n",
      "        70           0.1466          -0.0001            1.03m\n",
      "        80           0.1400          -0.0006            1.03m\n",
      "        90           0.1281           0.0001            1.02m\n",
      "       100           0.1262           0.0000            1.01m\n",
      "       200           0.0885          -0.0000           53.75s\n",
      "       300           0.0630          -0.0000           46.14s\n",
      "       400           0.0455          -0.0001           38.94s\n",
      "       500           0.0314          -0.0002           32.90s\n",
      "       600           0.0250          -0.0000           26.86s\n",
      "       700           0.0175          -0.0000           20.73s\n",
      "       800           0.0133          -0.0000           13.60s\n",
      "       900           0.0100          -0.0000            6.70s\n",
      "      1000           0.0078          -0.0000            0.00s\n"
     ]
    },
    {
     "data": {
      "text/plain": [
       "(1.0, 0.8318749851413832)"
      ]
     },
     "execution_count": 104,
     "metadata": {},
     "output_type": "execute_result"
    }
   ],
   "source": [
    "clf = GradientBoostingClassifier(loss='deviance', learning_rate=0.1, verbose=1,\n",
    "                         criterion='friedman_mse', tol=1e-8, max_features='sqrt',\n",
    "                                subsample=0.72, min_samples_split=6, \n",
    "                                max_leaf_nodes=52, max_depth=10, n_estimators=1000)\n",
    "clf.fit(xs, y)\n",
    "m_roc(y, xs), m_roc(valid_y, valid_xs)"
   ]
  },
  {
   "cell_type": "code",
   "execution_count": 103,
   "metadata": {
    "hidden": true
   },
   "outputs": [
    {
     "name": "stdout",
     "output_type": "stream",
     "text": [
      "      Iter       Train Loss      OOB Improve   Remaining Time \n",
      "         1           0.3119           0.0022            1.08m\n",
      "         2           0.3162           0.0018            1.10m\n",
      "         3           0.3054           0.0018            1.03m\n",
      "         4           0.3067           0.0014            1.06m\n",
      "         5           0.3047           0.0014            1.05m\n",
      "         6           0.3057           0.0015            1.05m\n",
      "         7           0.2964           0.0015            1.06m\n",
      "         8           0.3050           0.0014            1.05m\n",
      "         9           0.2936           0.0013            1.06m\n",
      "        10           0.2941           0.0012            1.02m\n",
      "        20           0.2828           0.0009           58.00s\n",
      "        30           0.2784           0.0006           58.51s\n",
      "        40           0.2696           0.0005           58.59s\n",
      "        50           0.2593           0.0004           57.99s\n",
      "        60           0.2554           0.0004           58.28s\n",
      "        70           0.2499           0.0004           57.67s\n",
      "        80           0.2495           0.0003           57.89s\n",
      "        90           0.2469           0.0003           57.43s\n",
      "       100           0.2403           0.0003           57.28s\n",
      "       200           0.2183           0.0001           50.64s\n",
      "       300           0.2044           0.0001           44.37s\n",
      "       400           0.1882           0.0001           37.87s\n",
      "       500           0.1856           0.0000           31.81s\n",
      "       600           0.1783           0.0000           25.81s\n",
      "       700           0.1718           0.0000           19.60s\n",
      "       800           0.1666           0.0000           13.23s\n",
      "       900           0.1653           0.0000            6.66s\n",
      "      1000           0.1598           0.0000            0.00s\n"
     ]
    },
    {
     "data": {
      "text/plain": [
       "(0.9152136625826836, 0.843631924082018)"
      ]
     },
     "execution_count": 103,
     "metadata": {},
     "output_type": "execute_result"
    }
   ],
   "source": [
    "clf = GradientBoostingClassifier(loss='deviance', learning_rate=0.005, verbose=1,\n",
    "                         criterion='friedman_mse', tol=1e-8, max_features='sqrt',\n",
    "                                subsample=0.72, min_samples_split=6, \n",
    "                                max_leaf_nodes=52, max_depth=10, n_estimators=1000)\n",
    "clf.fit(xs, y)\n",
    "m_roc(y, xs), m_roc(valid_y, valid_xs)"
   ]
  },
  {
   "cell_type": "code",
   "execution_count": 105,
   "metadata": {
    "hidden": true,
    "scrolled": true
   },
   "outputs": [
    {
     "name": "stdout",
     "output_type": "stream",
     "text": [
      "      Iter       Train Loss      OOB Improve   Remaining Time \n",
      "         1           0.3082           0.0047            1.15m\n",
      "         2           0.3072           0.0027            1.30m\n",
      "         3           0.3074           0.0027            1.21m\n",
      "         4           0.2995           0.0030            1.21m\n",
      "         5           0.3000           0.0023            1.16m\n",
      "         6           0.2976           0.0022            1.14m\n",
      "         7           0.2994           0.0018            1.18m\n",
      "         8           0.2937           0.0017            1.17m\n",
      "         9           0.2912           0.0017            1.17m\n",
      "        10           0.2880           0.0020            1.19m\n",
      "        20           0.2695           0.0011            1.27m\n",
      "        30           0.2599           0.0008            1.23m\n",
      "        40           0.2517           0.0007            1.22m\n",
      "        50           0.2427           0.0005            1.20m\n",
      "        60           0.2351           0.0004            1.17m\n",
      "        70           0.2313           0.0003            1.16m\n",
      "        80           0.2237           0.0004            1.14m\n",
      "        90           0.2200           0.0004            1.12m\n",
      "       100           0.2118           0.0003            1.11m\n",
      "       200           0.1946           0.0001           58.25s\n",
      "       300           0.1801           0.0001           50.80s\n",
      "       400           0.1680           0.0000           43.72s\n",
      "       500           0.1560           0.0000           36.53s\n",
      "       600           0.1492          -0.0000           30.01s\n",
      "       700           0.1417           0.0000           23.40s\n",
      "       800           0.1397           0.0000           15.66s\n",
      "       900           0.1294          -0.0000            7.80s\n",
      "      1000           0.1271           0.0000            0.00s\n"
     ]
    },
    {
     "data": {
      "text/plain": [
       "(0.9472911054564462, 0.8462935197198218)"
      ]
     },
     "execution_count": 105,
     "metadata": {},
     "output_type": "execute_result"
    }
   ],
   "source": [
    "clf = GradientBoostingClassifier(loss='deviance', learning_rate=0.01, verbose=1,\n",
    "                         criterion='friedman_mse', tol=1e-8, max_features='sqrt',\n",
    "                                subsample=0.72, min_samples_split=6, \n",
    "                                max_leaf_nodes=52, max_depth=10, n_estimators=1000)\n",
    "clf.fit(xs, y)\n",
    "m_roc(y, xs), m_roc(valid_y, valid_xs)"
   ]
  },
  {
   "cell_type": "code",
   "execution_count": 19,
   "metadata": {
    "hidden": true
   },
   "outputs": [],
   "source": [
    "to = (path/'to.pkl').load()\n",
    "xs, y = to.train.xs, to.train.y\n",
    "valid_xs, valid_y = to.valid.xs, to.valid.y"
   ]
  },
  {
   "cell_type": "code",
   "execution_count": 20,
   "metadata": {
    "hidden": true
   },
   "outputs": [],
   "source": [
    "cats = ['ProductCD', 'card1', 'card2', 'card3', 'card4', 'card5', 'card6', \n",
    "       'addr1', 'addr2', 'P_emaildomain', 'R_emaildomain', 'M1', 'M2', 'M3', \n",
    "       'M4', 'M5', 'M6', 'M7', 'M8', 'M9', 'DeviceType', 'DeviceInfo', 'id_12', \n",
    "       'id_13', 'id_14', 'id_15', 'id_16', 'id_17', 'id_18', 'id_19', 'id_20', \n",
    "       'id_21', 'id_22', 'id_23', 'id_24', 'id_25', 'id_26', 'id_27', 'id_28', \n",
    "       'id_29', 'id_30', 'id_31', 'id_32', 'id_33', 'id_34', 'id_35', 'id_36',\n",
    "       'id_37', 'id_38']"
   ]
  },
  {
   "cell_type": "code",
   "execution_count": 21,
   "metadata": {
    "hidden": true
   },
   "outputs": [],
   "source": [
    "for cat in cats:\n",
    "    to[cat] = to[cat].astype('category')"
   ]
  },
  {
   "cell_type": "code",
   "execution_count": 26,
   "metadata": {
    "hidden": true
   },
   "outputs": [],
   "source": [
    "HistGradientBoostingClassifier?"
   ]
  },
  {
   "cell_type": "code",
   "execution_count": 28,
   "metadata": {
    "hidden": true,
    "scrolled": false
   },
   "outputs": [
    {
     "name": "stdout",
     "output_type": "stream",
     "text": [
      "Binning 0.042 GB of training data: 0.269 s\n",
      "Binning 0.005 GB of validation data: 0.019 s\n",
      "Fitting gradient boosted rounds:\n",
      "[1/1000] 1 tree, 44 leaves, max depth = 10, train score: 0.84781, val score: 0.81056, in 0.059s\n",
      "[2/1000] 1 tree, 44 leaves, max depth = 10, train score: 0.85082, val score: 0.81300, in 0.064s\n",
      "[3/1000] 1 tree, 44 leaves, max depth = 10, train score: 0.85164, val score: 0.81319, in 0.064s\n",
      "[4/1000] 1 tree, 44 leaves, max depth = 10, train score: 0.87033, val score: 0.83992, in 0.066s\n",
      "[5/1000] 1 tree, 44 leaves, max depth = 11, train score: 0.87400, val score: 0.84196, in 0.069s\n",
      "[6/1000] 1 tree, 44 leaves, max depth = 10, train score: 0.87655, val score: 0.84878, in 0.133s\n",
      "[7/1000] 1 tree, 44 leaves, max depth = 11, train score: 0.87728, val score: 0.84776, in 0.069s\n",
      "[8/1000] 1 tree, 44 leaves, max depth = 9, train score: 0.87761, val score: 0.84773, in 0.075s\n",
      "[9/1000] 1 tree, 44 leaves, max depth = 10, train score: 0.87773, val score: 0.84804, in 0.070s\n",
      "[10/1000] 1 tree, 44 leaves, max depth = 10, train score: 0.87865, val score: 0.84853, in 0.090s\n",
      "[11/1000] 1 tree, 44 leaves, max depth = 11, train score: 0.87948, val score: 0.84840, in 0.122s\n",
      "[12/1000] 1 tree, 44 leaves, max depth = 9, train score: 0.88014, val score: 0.84857, in 0.089s\n",
      "[13/1000] 1 tree, 44 leaves, max depth = 11, train score: 0.88163, val score: 0.84851, in 0.082s\n",
      "[14/1000] 1 tree, 44 leaves, max depth = 10, train score: 0.88280, val score: 0.84855, in 0.081s\n",
      "[15/1000] 1 tree, 44 leaves, max depth = 11, train score: 0.88362, val score: 0.84887, in 0.081s\n",
      "[16/1000] 1 tree, 44 leaves, max depth = 10, train score: 0.88555, val score: 0.85464, in 0.079s\n",
      "[17/1000] 1 tree, 44 leaves, max depth = 10, train score: 0.88559, val score: 0.85477, in 0.079s\n",
      "[18/1000] 1 tree, 44 leaves, max depth = 9, train score: 0.88607, val score: 0.85532, in 0.142s\n",
      "[19/1000] 1 tree, 44 leaves, max depth = 12, train score: 0.88539, val score: 0.85043, in 0.073s\n",
      "[20/1000] 1 tree, 44 leaves, max depth = 9, train score: 0.88601, val score: 0.85099, in 0.078s\n",
      "[21/1000] 1 tree, 44 leaves, max depth = 10, train score: 0.88619, val score: 0.85075, in 0.080s\n",
      "[22/1000] 1 tree, 44 leaves, max depth = 15, train score: 0.88639, val score: 0.84982, in 0.084s\n",
      "[23/1000] 1 tree, 44 leaves, max depth = 9, train score: 0.88903, val score: 0.85367, in 0.085s\n",
      "[24/1000] 1 tree, 44 leaves, max depth = 12, train score: 0.89038, val score: 0.85442, in 0.087s\n",
      "[25/1000] 1 tree, 44 leaves, max depth = 9, train score: 0.89325, val score: 0.86065, in 0.085s\n",
      "[26/1000] 1 tree, 44 leaves, max depth = 9, train score: 0.89400, val score: 0.85720, in 0.091s\n",
      "[27/1000] 1 tree, 44 leaves, max depth = 10, train score: 0.89528, val score: 0.86132, in 0.084s\n",
      "[28/1000] 1 tree, 44 leaves, max depth = 11, train score: 0.89823, val score: 0.86169, in 0.084s\n",
      "[29/1000] 1 tree, 44 leaves, max depth = 10, train score: 0.89940, val score: 0.86343, in 0.082s\n",
      "[30/1000] 1 tree, 44 leaves, max depth = 9, train score: 0.89934, val score: 0.86288, in 0.154s\n",
      "[31/1000] 1 tree, 44 leaves, max depth = 11, train score: 0.90034, val score: 0.86259, in 0.078s\n",
      "[32/1000] 1 tree, 44 leaves, max depth = 11, train score: 0.90143, val score: 0.86382, in 0.081s\n",
      "[33/1000] 1 tree, 44 leaves, max depth = 9, train score: 0.90135, val score: 0.86376, in 0.080s\n",
      "[34/1000] 1 tree, 44 leaves, max depth = 14, train score: 0.90267, val score: 0.86412, in 0.092s\n",
      "[35/1000] 1 tree, 44 leaves, max depth = 11, train score: 0.90330, val score: 0.86353, in 0.091s\n",
      "[36/1000] 1 tree, 44 leaves, max depth = 10, train score: 0.90354, val score: 0.86391, in 0.087s\n",
      "[37/1000] 1 tree, 44 leaves, max depth = 9, train score: 0.90461, val score: 0.86385, in 0.084s\n",
      "[38/1000] 1 tree, 44 leaves, max depth = 10, train score: 0.90614, val score: 0.86385, in 0.088s\n",
      "[39/1000] 1 tree, 44 leaves, max depth = 10, train score: 0.90687, val score: 0.86438, in 0.086s\n",
      "[40/1000] 1 tree, 44 leaves, max depth = 12, train score: 0.90728, val score: 0.86375, in 0.085s\n",
      "[41/1000] 1 tree, 44 leaves, max depth = 10, train score: 0.90824, val score: 0.86391, in 0.087s\n",
      "[42/1000] 1 tree, 44 leaves, max depth = 11, train score: 0.90945, val score: 0.86520, in 0.086s\n",
      "[43/1000] 1 tree, 44 leaves, max depth = 12, train score: 0.91041, val score: 0.86539, in 0.152s\n",
      "[44/1000] 1 tree, 44 leaves, max depth = 13, train score: 0.91172, val score: 0.86615, in 0.082s\n",
      "[45/1000] 1 tree, 44 leaves, max depth = 11, train score: 0.91276, val score: 0.86639, in 0.083s\n",
      "[46/1000] 1 tree, 44 leaves, max depth = 13, train score: 0.91392, val score: 0.86654, in 0.089s\n",
      "[47/1000] 1 tree, 44 leaves, max depth = 11, train score: 0.91487, val score: 0.86658, in 0.089s\n",
      "[48/1000] 1 tree, 44 leaves, max depth = 12, train score: 0.91580, val score: 0.86664, in 0.088s\n",
      "[49/1000] 1 tree, 44 leaves, max depth = 11, train score: 0.91627, val score: 0.86636, in 0.090s\n",
      "[50/1000] 1 tree, 44 leaves, max depth = 13, train score: 0.91690, val score: 0.86657, in 0.090s\n",
      "[51/1000] 1 tree, 44 leaves, max depth = 13, train score: 0.91739, val score: 0.86712, in 0.089s\n",
      "[52/1000] 1 tree, 44 leaves, max depth = 12, train score: 0.91762, val score: 0.86774, in 0.091s\n",
      "[53/1000] 1 tree, 44 leaves, max depth = 13, train score: 0.91826, val score: 0.86797, in 0.093s\n",
      "[54/1000] 1 tree, 44 leaves, max depth = 13, train score: 0.91927, val score: 0.86845, in 0.094s\n",
      "[55/1000] 1 tree, 44 leaves, max depth = 14, train score: 0.91969, val score: 0.86855, in 0.164s\n",
      "[56/1000] 1 tree, 44 leaves, max depth = 11, train score: 0.92033, val score: 0.86913, in 0.087s\n",
      "[57/1000] 1 tree, 44 leaves, max depth = 13, train score: 0.92104, val score: 0.86941, in 0.091s\n",
      "[58/1000] 1 tree, 44 leaves, max depth = 12, train score: 0.92157, val score: 0.86967, in 0.092s\n",
      "[59/1000] 1 tree, 44 leaves, max depth = 11, train score: 0.92232, val score: 0.86971, in 0.091s\n",
      "[60/1000] 1 tree, 44 leaves, max depth = 15, train score: 0.92307, val score: 0.87055, in 0.094s\n",
      "[61/1000] 1 tree, 44 leaves, max depth = 11, train score: 0.92328, val score: 0.87090, in 0.095s\n",
      "[62/1000] 1 tree, 44 leaves, max depth = 13, train score: 0.92391, val score: 0.87092, in 0.095s\n",
      "[63/1000] 1 tree, 44 leaves, max depth = 11, train score: 0.92424, val score: 0.87119, in 0.093s\n",
      "[64/1000] 1 tree, 44 leaves, max depth = 15, train score: 0.92454, val score: 0.87105, in 0.098s\n",
      "[65/1000] 1 tree, 44 leaves, max depth = 13, train score: 0.92508, val score: 0.87116, in 0.099s\n",
      "[66/1000] 1 tree, 44 leaves, max depth = 12, train score: 0.92552, val score: 0.87111, in 0.102s\n",
      "[67/1000] 1 tree, 44 leaves, max depth = 11, train score: 0.92618, val score: 0.87228, in 0.111s\n",
      "[68/1000] 1 tree, 44 leaves, max depth = 11, train score: 0.92653, val score: 0.87218, in 0.168s\n",
      "[69/1000] 1 tree, 44 leaves, max depth = 12, train score: 0.92695, val score: 0.87254, in 0.095s\n",
      "[70/1000] 1 tree, 44 leaves, max depth = 10, train score: 0.92732, val score: 0.87255, in 0.097s\n",
      "[71/1000] 1 tree, 44 leaves, max depth = 14, train score: 0.92759, val score: 0.87254, in 0.098s\n",
      "[72/1000] 1 tree, 44 leaves, max depth = 12, train score: 0.92841, val score: 0.87301, in 0.101s\n",
      "[73/1000] 1 tree, 44 leaves, max depth = 9, train score: 0.92859, val score: 0.87300, in 0.101s\n",
      "[74/1000] 1 tree, 44 leaves, max depth = 11, train score: 0.92883, val score: 0.87299, in 0.102s\n",
      "[75/1000] 1 tree, 44 leaves, max depth = 10, train score: 0.92931, val score: 0.87382, in 0.102s\n",
      "[76/1000] 1 tree, 44 leaves, max depth = 12, train score: 0.92983, val score: 0.87341, in 0.104s\n",
      "[77/1000] 1 tree, 44 leaves, max depth = 10, train score: 0.93036, val score: 0.87329, in 0.105s\n",
      "[78/1000] 1 tree, 44 leaves, max depth = 12, train score: 0.93051, val score: 0.87293, in 0.103s\n",
      "[79/1000] 1 tree, 44 leaves, max depth = 9, train score: 0.93103, val score: 0.87395, in 0.103s\n",
      "[80/1000] 1 tree, 44 leaves, max depth = 12, train score: 0.93141, val score: 0.87395, in 0.177s\n",
      "[81/1000] 1 tree, 44 leaves, max depth = 10, train score: 0.93203, val score: 0.87409, in 0.102s\n",
      "[82/1000] 1 tree, 44 leaves, max depth = 13, train score: 0.93212, val score: 0.87434, in 0.101s\n",
      "[83/1000] 1 tree, 44 leaves, max depth = 15, train score: 0.93258, val score: 0.87442, in 0.101s\n",
      "[84/1000] 1 tree, 44 leaves, max depth = 12, train score: 0.93342, val score: 0.87410, in 0.107s\n"
     ]
    },
    {
     "name": "stdout",
     "output_type": "stream",
     "text": [
      "[85/1000] 1 tree, 44 leaves, max depth = 13, train score: 0.93370, val score: 0.87446, in 0.114s\n",
      "[86/1000] 1 tree, 44 leaves, max depth = 12, train score: 0.93435, val score: 0.87498, in 0.108s\n",
      "[87/1000] 1 tree, 44 leaves, max depth = 12, train score: 0.93477, val score: 0.87535, in 0.099s\n",
      "[88/1000] 1 tree, 44 leaves, max depth = 16, train score: 0.93512, val score: 0.87579, in 0.102s\n",
      "[89/1000] 1 tree, 44 leaves, max depth = 14, train score: 0.93544, val score: 0.87655, in 0.104s\n",
      "[90/1000] 1 tree, 44 leaves, max depth = 14, train score: 0.93562, val score: 0.87675, in 0.103s\n",
      "[91/1000] 1 tree, 44 leaves, max depth = 16, train score: 0.93631, val score: 0.87708, in 0.105s\n",
      "[92/1000] 1 tree, 44 leaves, max depth = 13, train score: 0.93680, val score: 0.87698, in 0.182s\n",
      "[93/1000] 1 tree, 44 leaves, max depth = 15, train score: 0.93715, val score: 0.87712, in 0.101s\n",
      "[94/1000] 1 tree, 44 leaves, max depth = 12, train score: 0.93752, val score: 0.87718, in 0.103s\n",
      "[95/1000] 1 tree, 44 leaves, max depth = 13, train score: 0.93798, val score: 0.87727, in 0.105s\n",
      "[96/1000] 1 tree, 44 leaves, max depth = 17, train score: 0.93839, val score: 0.87743, in 0.106s\n",
      "[97/1000] 1 tree, 44 leaves, max depth = 16, train score: 0.93866, val score: 0.87750, in 0.103s\n",
      "[98/1000] 1 tree, 44 leaves, max depth = 13, train score: 0.93890, val score: 0.87790, in 0.108s\n",
      "[99/1000] 1 tree, 44 leaves, max depth = 13, train score: 0.93960, val score: 0.87802, in 0.107s\n",
      "[100/1000] 1 tree, 44 leaves, max depth = 14, train score: 0.93993, val score: 0.87804, in 0.120s\n",
      "[101/1000] 1 tree, 44 leaves, max depth = 14, train score: 0.94022, val score: 0.87801, in 0.120s\n",
      "[102/1000] 1 tree, 44 leaves, max depth = 16, train score: 0.94069, val score: 0.87921, in 0.129s\n",
      "[103/1000] 1 tree, 44 leaves, max depth = 14, train score: 0.94110, val score: 0.87931, in 0.113s\n",
      "[104/1000] 1 tree, 44 leaves, max depth = 12, train score: 0.94149, val score: 0.87942, in 0.113s\n",
      "[105/1000] 1 tree, 44 leaves, max depth = 14, train score: 0.94195, val score: 0.87916, in 0.179s\n",
      "[106/1000] 1 tree, 44 leaves, max depth = 13, train score: 0.94245, val score: 0.87913, in 0.110s\n",
      "[107/1000] 1 tree, 44 leaves, max depth = 10, train score: 0.94262, val score: 0.87945, in 0.104s\n",
      "[108/1000] 1 tree, 44 leaves, max depth = 16, train score: 0.94295, val score: 0.87944, in 0.114s\n",
      "[109/1000] 1 tree, 44 leaves, max depth = 12, train score: 0.94308, val score: 0.87991, in 0.112s\n",
      "[110/1000] 1 tree, 44 leaves, max depth = 14, train score: 0.94363, val score: 0.88036, in 0.112s\n",
      "[111/1000] 1 tree, 44 leaves, max depth = 10, train score: 0.94376, val score: 0.88080, in 0.115s\n",
      "[112/1000] 1 tree, 44 leaves, max depth = 13, train score: 0.94417, val score: 0.88094, in 0.112s\n",
      "[113/1000] 1 tree, 44 leaves, max depth = 14, train score: 0.94467, val score: 0.88050, in 0.111s\n",
      "[114/1000] 1 tree, 44 leaves, max depth = 13, train score: 0.94502, val score: 0.88076, in 0.113s\n",
      "[115/1000] 1 tree, 44 leaves, max depth = 16, train score: 0.94532, val score: 0.88106, in 0.115s\n",
      "[116/1000] 1 tree, 44 leaves, max depth = 14, train score: 0.94553, val score: 0.88075, in 0.114s\n",
      "[117/1000] 1 tree, 44 leaves, max depth = 16, train score: 0.94597, val score: 0.88101, in 0.191s\n",
      "[118/1000] 1 tree, 44 leaves, max depth = 9, train score: 0.94650, val score: 0.88104, in 0.116s\n",
      "[119/1000] 1 tree, 44 leaves, max depth = 19, train score: 0.94685, val score: 0.88142, in 0.113s\n",
      "[120/1000] 1 tree, 44 leaves, max depth = 13, train score: 0.94735, val score: 0.88158, in 0.118s\n",
      "[121/1000] 1 tree, 44 leaves, max depth = 22, train score: 0.94770, val score: 0.88201, in 0.117s\n",
      "[122/1000] 1 tree, 44 leaves, max depth = 15, train score: 0.94808, val score: 0.88248, in 0.119s\n",
      "[123/1000] 1 tree, 44 leaves, max depth = 9, train score: 0.94851, val score: 0.88258, in 0.119s\n",
      "[124/1000] 1 tree, 44 leaves, max depth = 16, train score: 0.94887, val score: 0.88266, in 0.120s\n",
      "[125/1000] 1 tree, 44 leaves, max depth = 9, train score: 0.94906, val score: 0.88289, in 0.122s\n",
      "[126/1000] 1 tree, 44 leaves, max depth = 20, train score: 0.94947, val score: 0.88329, in 0.120s\n",
      "[127/1000] 1 tree, 44 leaves, max depth = 9, train score: 0.94993, val score: 0.88340, in 0.121s\n",
      "[128/1000] 1 tree, 44 leaves, max depth = 19, train score: 0.95037, val score: 0.88340, in 0.123s\n",
      "[129/1000] 1 tree, 44 leaves, max depth = 12, train score: 0.95076, val score: 0.88390, in 0.202s\n",
      "[130/1000] 1 tree, 44 leaves, max depth = 17, train score: 0.95108, val score: 0.88434, in 0.117s\n",
      "[131/1000] 1 tree, 44 leaves, max depth = 10, train score: 0.95139, val score: 0.88420, in 0.118s\n",
      "[132/1000] 1 tree, 44 leaves, max depth = 18, train score: 0.95192, val score: 0.88414, in 0.125s\n",
      "[133/1000] 1 tree, 44 leaves, max depth = 12, train score: 0.95229, val score: 0.88433, in 0.122s\n",
      "[134/1000] 1 tree, 44 leaves, max depth = 9, train score: 0.95254, val score: 0.88453, in 0.128s\n",
      "[135/1000] 1 tree, 44 leaves, max depth = 15, train score: 0.95289, val score: 0.88471, in 0.126s\n",
      "[136/1000] 1 tree, 44 leaves, max depth = 17, train score: 0.95332, val score: 0.88476, in 0.120s\n",
      "[137/1000] 1 tree, 44 leaves, max depth = 15, train score: 0.95354, val score: 0.88523, in 0.127s\n",
      "[138/1000] 1 tree, 44 leaves, max depth = 11, train score: 0.95398, val score: 0.88540, in 0.123s\n",
      "[139/1000] 1 tree, 44 leaves, max depth = 14, train score: 0.95416, val score: 0.88517, in 0.129s\n",
      "[140/1000] 1 tree, 44 leaves, max depth = 19, train score: 0.95428, val score: 0.88501, in 0.124s\n",
      "[141/1000] 1 tree, 44 leaves, max depth = 16, train score: 0.95466, val score: 0.88563, in 0.126s\n",
      "[142/1000] 1 tree, 44 leaves, max depth = 13, train score: 0.95499, val score: 0.88574, in 0.199s\n",
      "[143/1000] 1 tree, 44 leaves, max depth = 18, train score: 0.95513, val score: 0.88591, in 0.128s\n",
      "[144/1000] 1 tree, 44 leaves, max depth = 11, train score: 0.95555, val score: 0.88587, in 0.129s\n",
      "[145/1000] 1 tree, 44 leaves, max depth = 15, train score: 0.95594, val score: 0.88598, in 0.128s\n",
      "[146/1000] 1 tree, 44 leaves, max depth = 18, train score: 0.95605, val score: 0.88608, in 0.130s\n",
      "[147/1000] 1 tree, 44 leaves, max depth = 10, train score: 0.95631, val score: 0.88620, in 0.129s\n",
      "[148/1000] 1 tree, 44 leaves, max depth = 12, train score: 0.95679, val score: 0.88629, in 0.129s\n",
      "[149/1000] 1 tree, 44 leaves, max depth = 11, train score: 0.95706, val score: 0.88639, in 0.127s\n",
      "[150/1000] 1 tree, 44 leaves, max depth = 14, train score: 0.95739, val score: 0.88658, in 0.130s\n",
      "[151/1000] 1 tree, 44 leaves, max depth = 18, train score: 0.95774, val score: 0.88675, in 0.133s\n",
      "[152/1000] 1 tree, 44 leaves, max depth = 13, train score: 0.95812, val score: 0.88676, in 0.133s\n",
      "[153/1000] 1 tree, 44 leaves, max depth = 18, train score: 0.95836, val score: 0.88735, in 0.132s\n",
      "[154/1000] 1 tree, 44 leaves, max depth = 14, train score: 0.95857, val score: 0.88756, in 0.212s\n",
      "[155/1000] 1 tree, 44 leaves, max depth = 15, train score: 0.95878, val score: 0.88758, in 0.127s\n",
      "[156/1000] 1 tree, 44 leaves, max depth = 17, train score: 0.95910, val score: 0.88776, in 0.130s\n",
      "[157/1000] 1 tree, 44 leaves, max depth = 13, train score: 0.95929, val score: 0.88818, in 0.127s\n",
      "[158/1000] 1 tree, 44 leaves, max depth = 13, train score: 0.95941, val score: 0.88853, in 0.130s\n",
      "[159/1000] 1 tree, 44 leaves, max depth = 12, train score: 0.95980, val score: 0.88871, in 0.129s\n",
      "[160/1000] 1 tree, 44 leaves, max depth = 13, train score: 0.96004, val score: 0.88892, in 0.134s\n",
      "[161/1000] 1 tree, 44 leaves, max depth = 17, train score: 0.96038, val score: 0.88887, in 0.136s\n",
      "[162/1000] 1 tree, 44 leaves, max depth = 15, train score: 0.96069, val score: 0.88899, in 0.133s\n",
      "[163/1000] 1 tree, 44 leaves, max depth = 21, train score: 0.96098, val score: 0.88922, in 0.139s\n",
      "[164/1000] 1 tree, 44 leaves, max depth = 13, train score: 0.96110, val score: 0.88911, in 0.136s\n",
      "[165/1000] 1 tree, 44 leaves, max depth = 15, train score: 0.96139, val score: 0.88908, in 0.142s\n",
      "[166/1000] 1 tree, 44 leaves, max depth = 13, train score: 0.96166, val score: 0.88915, in 0.137s\n",
      "[167/1000] 1 tree, 44 leaves, max depth = 18, train score: 0.96202, val score: 0.88936, in 0.227s\n",
      "[168/1000] 1 tree, 44 leaves, max depth = 17, train score: 0.96228, val score: 0.88946, in 0.144s\n"
     ]
    },
    {
     "name": "stdout",
     "output_type": "stream",
     "text": [
      "[169/1000] 1 tree, 44 leaves, max depth = 16, train score: 0.96245, val score: 0.88927, in 0.134s\n",
      "[170/1000] 1 tree, 44 leaves, max depth = 15, train score: 0.96257, val score: 0.88926, in 0.136s\n",
      "[171/1000] 1 tree, 44 leaves, max depth = 15, train score: 0.96294, val score: 0.88962, in 0.128s\n",
      "[172/1000] 1 tree, 44 leaves, max depth = 18, train score: 0.96325, val score: 0.88969, in 0.133s\n",
      "[173/1000] 1 tree, 44 leaves, max depth = 18, train score: 0.96354, val score: 0.88955, in 0.132s\n",
      "[174/1000] 1 tree, 44 leaves, max depth = 18, train score: 0.96387, val score: 0.88965, in 0.134s\n",
      "[175/1000] 1 tree, 44 leaves, max depth = 14, train score: 0.96395, val score: 0.88974, in 0.129s\n",
      "[176/1000] 1 tree, 44 leaves, max depth = 15, train score: 0.96418, val score: 0.88954, in 0.129s\n",
      "[177/1000] 1 tree, 44 leaves, max depth = 15, train score: 0.96436, val score: 0.88947, in 0.140s\n",
      "[178/1000] 1 tree, 44 leaves, max depth = 18, train score: 0.96457, val score: 0.88965, in 0.198s\n",
      "[179/1000] 1 tree, 44 leaves, max depth = 14, train score: 0.96460, val score: 0.88953, in 0.259s\n",
      "[180/1000] 1 tree, 44 leaves, max depth = 17, train score: 0.96482, val score: 0.88938, in 0.137s\n",
      "[181/1000] 1 tree, 44 leaves, max depth = 15, train score: 0.96513, val score: 0.88961, in 0.132s\n",
      "[182/1000] 1 tree, 44 leaves, max depth = 18, train score: 0.96533, val score: 0.88959, in 0.134s\n",
      "[183/1000] 1 tree, 44 leaves, max depth = 20, train score: 0.96552, val score: 0.88964, in 0.136s\n",
      "[184/1000] 1 tree, 44 leaves, max depth = 14, train score: 0.96572, val score: 0.88973, in 0.136s\n",
      "[185/1000] 1 tree, 44 leaves, max depth = 18, train score: 0.96582, val score: 0.88954, in 0.139s\n",
      "Fit 185 trees in 21.527 s, (8140 total leaves)\n",
      "Time spent computing histograms: 8.645s\n",
      "Time spent finding best splits:  2.086s\n",
      "Time spent applying splits:      2.257s\n",
      "Time spent predicting:           0.037s\n",
      "CPU times: user 2min 8s, sys: 24.6 s, total: 2min 33s\n",
      "Wall time: 21.9 s\n"
     ]
    },
    {
     "data": {
      "text/plain": [
       "(0.9586182585466435, 0.8625220675501433)"
      ]
     },
     "execution_count": 28,
     "metadata": {},
     "output_type": "execute_result"
    }
   ],
   "source": [
    "%%time\n",
    "clf = HistGradientBoostingClassifier(loss='binary_crossentropy', verbose=1, l2_regularization=2.4,\n",
    "                             learning_rate=0.03, max_depth=25, max_iter=1000, max_leaf_nodes=44,\n",
    "                             min_samples_leaf=8,  scoring='roc_auc', tol=1e-8)\n",
    "clf.fit(xs, y)\n",
    "m_roc(y, xs), m_roc(valid_y, valid_xs)"
   ]
  },
  {
   "cell_type": "code",
   "execution_count": null,
   "metadata": {
    "hidden": true
   },
   "outputs": [],
   "source": []
  }
 ],
 "metadata": {
  "kernelspec": {
   "display_name": "Python 3",
   "language": "python",
   "name": "python3"
  },
  "language_info": {
   "codemirror_mode": {
    "name": "ipython",
    "version": 3
   },
   "file_extension": ".py",
   "mimetype": "text/x-python",
   "name": "python",
   "nbconvert_exporter": "python",
   "pygments_lexer": "ipython3",
   "version": "3.8.5"
  },
  "toc": {
   "base_numbering": 1,
   "nav_menu": {},
   "number_sections": true,
   "sideBar": true,
   "skip_h1_title": false,
   "title_cell": "Table of Contents",
   "title_sidebar": "Contents",
   "toc_cell": false,
   "toc_position": {},
   "toc_section_display": true,
   "toc_window_display": false
  }
 },
 "nbformat": 4,
 "nbformat_minor": 4
}
